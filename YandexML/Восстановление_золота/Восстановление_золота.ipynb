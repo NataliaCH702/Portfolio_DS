{
 "cells": [
  {
   "cell_type": "markdown",
   "metadata": {
    "toc": true
   },
   "source": [
    "<h1>Содержание<span class=\"tocSkip\"></span></h1>\n",
    "<div class=\"toc\"><ul class=\"toc-item\"><li><span><a href=\"#Подготовка-данных\" data-toc-modified-id=\"Подготовка-данных-1\"><span class=\"toc-item-num\">1&nbsp;&nbsp;</span>Подготовка данных</a></span><ul class=\"toc-item\"><li><ul class=\"toc-item\"><li><span><a href=\"#Первичный-просмотр-данных\" data-toc-modified-id=\"Первичный-просмотр-данных-1.0.1\"><span class=\"toc-item-num\">1.0.1&nbsp;&nbsp;</span>Первичный просмотр данных</a></span></li><li><span><a href=\"#Проверка-правильности-эффективности-обогащения.\" data-toc-modified-id=\"Проверка-правильности-эффективности-обогащения.-1.0.2\"><span class=\"toc-item-num\">1.0.2&nbsp;&nbsp;</span>Проверка правильности эффективности обогащения.</a></span></li><li><span><a href=\"#Обработка-данных\" data-toc-modified-id=\"Обработка-данных-1.0.3\"><span class=\"toc-item-num\">1.0.3&nbsp;&nbsp;</span>Обработка данных</a></span></li></ul></li></ul></li><li><span><a href=\"#Анализ-данных\" data-toc-modified-id=\"Анализ-данных-2\"><span class=\"toc-item-num\">2&nbsp;&nbsp;</span>Анализ данных</a></span><ul class=\"toc-item\"><li><ul class=\"toc-item\"><li><span><a href=\"#Как-меняется-концентрация-металлов-(Au,-Ag,-Pb)\" data-toc-modified-id=\"Как-меняется-концентрация-металлов-(Au,-Ag,-Pb)-2.0.1\"><span class=\"toc-item-num\">2.0.1&nbsp;&nbsp;</span>Как меняется концентрация металлов (Au, Ag, Pb)</a></span></li><li><span><a href=\"#Сравнение-распределения-размеров-гранул-исходного-сырья-на-обучающей-и-тестовой-выборках.\" data-toc-modified-id=\"Сравнение-распределения-размеров-гранул-исходного-сырья-на-обучающей-и-тестовой-выборках.-2.0.2\"><span class=\"toc-item-num\">2.0.2&nbsp;&nbsp;</span>Сравнение распределения размеров гранул исходного сырья на обучающей и тестовой выборках.</a></span></li><li><span><a href=\"#Исследование-суммарной-концентрации-металлов-на-разных-стадиях:\" data-toc-modified-id=\"Исследование-суммарной-концентрации-металлов-на-разных-стадиях:-2.0.3\"><span class=\"toc-item-num\">2.0.3&nbsp;&nbsp;</span>Исследование суммарной концентрации металлов на разных стадиях:</a></span></li></ul></li></ul></li><li><span><a href=\"#Модель\" data-toc-modified-id=\"Модель-3\"><span class=\"toc-item-num\">3&nbsp;&nbsp;</span>Модель</a></span><ul class=\"toc-item\"><li><ul class=\"toc-item\"><li><span><a href=\"#Подготовка-данных\" data-toc-modified-id=\"Подготовка-данных-3.0.1\"><span class=\"toc-item-num\">3.0.1&nbsp;&nbsp;</span>Подготовка данных</a></span></li><li><span><a href=\"#sMAPE\" data-toc-modified-id=\"sMAPE-3.0.2\"><span class=\"toc-item-num\">3.0.2&nbsp;&nbsp;</span>sMAPE</a></span></li><li><span><a href=\"#Обучение-разных-моделей-и-оценка-их-качества-кросс-валидацией.\" data-toc-modified-id=\"Обучение-разных-моделей-и-оценка-их-качества-кросс-валидацией.-3.0.3\"><span class=\"toc-item-num\">3.0.3&nbsp;&nbsp;</span>Обучение разных моделей и оценка их качества кросс-валидацией.</a></span><ul class=\"toc-item\"><li><span><a href=\"#Линейная-регрессия\" data-toc-modified-id=\"Линейная-регрессия-3.0.3.1\"><span class=\"toc-item-num\">3.0.3.1&nbsp;&nbsp;</span>Линейная регрессия</a></span></li><li><span><a href=\"#DecisionTreeRegressor\" data-toc-modified-id=\"DecisionTreeRegressor-3.0.3.2\"><span class=\"toc-item-num\">3.0.3.2&nbsp;&nbsp;</span>DecisionTreeRegressor</a></span></li><li><span><a href=\"#RandomForestRegressor\" data-toc-modified-id=\"RandomForestRegressor-3.0.3.3\"><span class=\"toc-item-num\">3.0.3.3&nbsp;&nbsp;</span>RandomForestRegressor</a></span></li></ul></li><li><span><a href=\"#Тестирование\" data-toc-modified-id=\"Тестирование-3.0.4\"><span class=\"toc-item-num\">3.0.4&nbsp;&nbsp;</span>Тестирование</a></span></li></ul></li></ul></li><li><span><a href=\"#Вывод\" data-toc-modified-id=\"Вывод-4\"><span class=\"toc-item-num\">4&nbsp;&nbsp;</span>Вывод</a></span></li><li><span><a href=\"#Чек-лист-готовности-проекта\" data-toc-modified-id=\"Чек-лист-готовности-проекта-5\"><span class=\"toc-item-num\">5&nbsp;&nbsp;</span>Чек-лист готовности проекта</a></span></li></ul></div>"
   ]
  },
  {
   "cell_type": "markdown",
   "metadata": {},
   "source": [
    "# Восстановление золота из руды"
   ]
  },
  {
   "cell_type": "markdown",
   "metadata": {},
   "source": [
    "Подготовьте прототип модели машинного обучения для «Цифры». Компания разрабатывает решения для эффективной работы промышленных предприятий.\n",
    "\n",
    "Модель должна предсказать коэффициент восстановления золота из золотосодержащей руды. Используйте данные с параметрами добычи и очистки. \n",
    "\n",
    "Модель поможет оптимизировать производство, чтобы не запускать предприятие с убыточными характеристиками.\n",
    "\n",
    "Вам нужно:\n",
    "\n",
    "1. Подготовить данные;\n",
    "2. Провести исследовательский анализ данных;\n",
    "3. Построить и обучить модель.\n",
    "\n",
    "Чтобы выполнить проект, обращайтесь к библиотекам *pandas*, *matplotlib* и *sklearn.* Вам поможет их документация."
   ]
  },
  {
   "cell_type": "code",
   "execution_count": 1,
   "metadata": {},
   "outputs": [],
   "source": [
    "import os\n",
    "import pandas as pd\n",
    "import numpy as np\n",
    "import matplotlib.pyplot as plt\n",
    "import seaborn as sns\n",
    "\n",
    "import warnings\n",
    "warnings.filterwarnings(\"ignore\") \n",
    "pd.set_option('display.max_rows', None)\n",
    "\n",
    "from sklearn.metrics import mean_absolute_error, make_scorer\n",
    "from sklearn.linear_model import LinearRegression\n",
    "from sklearn.tree import DecisionTreeRegressor\n",
    "from sklearn.ensemble import RandomForestRegressor\n",
    "from sklearn.model_selection import cross_val_score\n",
    "from sklearn.model_selection import GridSearchCV\n",
    "from sklearn.dummy import DummyRegressor"
   ]
  },
  {
   "cell_type": "code",
   "execution_count": 2,
   "metadata": {},
   "outputs": [],
   "source": [
    "# Константы\n",
    "RANDOM_STATE = 42\n",
    "COLORS = ['Maroon', 'OrangeRed', 'LightSalmon', 'Moccasin']"
   ]
  },
  {
   "cell_type": "markdown",
   "metadata": {},
   "source": [
    "## Подготовка данных\n",
    "\n",
    "#### Первичный просмотр данных"
   ]
  },
  {
   "cell_type": "code",
   "execution_count": 3,
   "metadata": {},
   "outputs": [
    {
     "name": "stdout",
     "output_type": "stream",
     "text": [
      "Тренировочный\n"
     ]
    },
    {
     "data": {
      "text/html": [
       "<div>\n",
       "<style scoped>\n",
       "    .dataframe tbody tr th:only-of-type {\n",
       "        vertical-align: middle;\n",
       "    }\n",
       "\n",
       "    .dataframe tbody tr th {\n",
       "        vertical-align: top;\n",
       "    }\n",
       "\n",
       "    .dataframe thead th {\n",
       "        text-align: right;\n",
       "    }\n",
       "</style>\n",
       "<table border=\"1\" class=\"dataframe\">\n",
       "  <thead>\n",
       "    <tr style=\"text-align: right;\">\n",
       "      <th></th>\n",
       "      <th>date</th>\n",
       "      <th>rougher.input.feed_au</th>\n",
       "      <th>rougher.input.feed_ag</th>\n",
       "      <th>rougher.input.feed_pb</th>\n",
       "      <th>rougher.input.feed_sol</th>\n",
       "      <th>rougher.input.feed_rate</th>\n",
       "      <th>rougher.input.feed_size</th>\n",
       "      <th>rougher.input.floatbank10_sulfate</th>\n",
       "      <th>rougher.input.floatbank10_xanthate</th>\n",
       "      <th>rougher.state.floatbank10_a_air</th>\n",
       "      <th>...</th>\n",
       "      <th>secondary_cleaner.output.tail_sol</th>\n",
       "      <th>final.output.concentrate_au</th>\n",
       "      <th>final.output.concentrate_ag</th>\n",
       "      <th>final.output.concentrate_pb</th>\n",
       "      <th>final.output.concentrate_sol</th>\n",
       "      <th>final.output.recovery</th>\n",
       "      <th>final.output.tail_au</th>\n",
       "      <th>final.output.tail_ag</th>\n",
       "      <th>final.output.tail_pb</th>\n",
       "      <th>final.output.tail_sol</th>\n",
       "    </tr>\n",
       "  </thead>\n",
       "  <tbody>\n",
       "    <tr>\n",
       "      <th>0</th>\n",
       "      <td>2016-01-15 00:00:00</td>\n",
       "      <td>6.486150</td>\n",
       "      <td>6.100378</td>\n",
       "      <td>2.284912</td>\n",
       "      <td>36.808594</td>\n",
       "      <td>523.546326</td>\n",
       "      <td>55.486599</td>\n",
       "      <td>11.986616</td>\n",
       "      <td>6.007990</td>\n",
       "      <td>999.706909</td>\n",
       "      <td>...</td>\n",
       "      <td>8.764648</td>\n",
       "      <td>42.192020</td>\n",
       "      <td>6.055403</td>\n",
       "      <td>9.889648</td>\n",
       "      <td>5.507324</td>\n",
       "      <td>70.541216</td>\n",
       "      <td>2.143149</td>\n",
       "      <td>10.411962</td>\n",
       "      <td>0.895447</td>\n",
       "      <td>16.904297</td>\n",
       "    </tr>\n",
       "    <tr>\n",
       "      <th>1</th>\n",
       "      <td>2016-01-15 01:00:00</td>\n",
       "      <td>6.478583</td>\n",
       "      <td>6.161113</td>\n",
       "      <td>2.266033</td>\n",
       "      <td>35.753385</td>\n",
       "      <td>525.290581</td>\n",
       "      <td>57.278666</td>\n",
       "      <td>11.971193</td>\n",
       "      <td>6.005766</td>\n",
       "      <td>1000.286398</td>\n",
       "      <td>...</td>\n",
       "      <td>9.001494</td>\n",
       "      <td>42.701629</td>\n",
       "      <td>6.029369</td>\n",
       "      <td>9.968944</td>\n",
       "      <td>5.257781</td>\n",
       "      <td>69.266198</td>\n",
       "      <td>2.224930</td>\n",
       "      <td>10.462676</td>\n",
       "      <td>0.927452</td>\n",
       "      <td>16.634514</td>\n",
       "    </tr>\n",
       "    <tr>\n",
       "      <th>2</th>\n",
       "      <td>2016-01-15 02:00:00</td>\n",
       "      <td>6.362222</td>\n",
       "      <td>6.116455</td>\n",
       "      <td>2.159622</td>\n",
       "      <td>35.971630</td>\n",
       "      <td>530.026610</td>\n",
       "      <td>57.510649</td>\n",
       "      <td>11.920603</td>\n",
       "      <td>6.197377</td>\n",
       "      <td>999.719565</td>\n",
       "      <td>...</td>\n",
       "      <td>8.842896</td>\n",
       "      <td>42.657501</td>\n",
       "      <td>6.055926</td>\n",
       "      <td>10.213995</td>\n",
       "      <td>5.383759</td>\n",
       "      <td>68.116445</td>\n",
       "      <td>2.257889</td>\n",
       "      <td>10.507046</td>\n",
       "      <td>0.953716</td>\n",
       "      <td>16.208849</td>\n",
       "    </tr>\n",
       "    <tr>\n",
       "      <th>3</th>\n",
       "      <td>2016-01-15 03:00:00</td>\n",
       "      <td>6.118189</td>\n",
       "      <td>6.043309</td>\n",
       "      <td>2.037807</td>\n",
       "      <td>36.862241</td>\n",
       "      <td>542.590390</td>\n",
       "      <td>57.792734</td>\n",
       "      <td>11.630094</td>\n",
       "      <td>6.203177</td>\n",
       "      <td>999.814770</td>\n",
       "      <td>...</td>\n",
       "      <td>9.122857</td>\n",
       "      <td>42.689819</td>\n",
       "      <td>6.047977</td>\n",
       "      <td>9.977019</td>\n",
       "      <td>4.858634</td>\n",
       "      <td>68.347543</td>\n",
       "      <td>2.146849</td>\n",
       "      <td>10.422762</td>\n",
       "      <td>0.883763</td>\n",
       "      <td>16.532835</td>\n",
       "    </tr>\n",
       "    <tr>\n",
       "      <th>4</th>\n",
       "      <td>2016-01-15 04:00:00</td>\n",
       "      <td>5.663707</td>\n",
       "      <td>6.060915</td>\n",
       "      <td>1.786875</td>\n",
       "      <td>34.347666</td>\n",
       "      <td>540.531893</td>\n",
       "      <td>56.047189</td>\n",
       "      <td>10.957755</td>\n",
       "      <td>6.198826</td>\n",
       "      <td>999.678690</td>\n",
       "      <td>...</td>\n",
       "      <td>8.871028</td>\n",
       "      <td>42.774141</td>\n",
       "      <td>6.148599</td>\n",
       "      <td>10.142511</td>\n",
       "      <td>4.939416</td>\n",
       "      <td>66.927016</td>\n",
       "      <td>2.055292</td>\n",
       "      <td>10.360302</td>\n",
       "      <td>0.792826</td>\n",
       "      <td>16.525686</td>\n",
       "    </tr>\n",
       "  </tbody>\n",
       "</table>\n",
       "<p>5 rows × 87 columns</p>\n",
       "</div>"
      ],
      "text/plain": [
       "                  date  rougher.input.feed_au  rougher.input.feed_ag  \\\n",
       "0  2016-01-15 00:00:00               6.486150               6.100378   \n",
       "1  2016-01-15 01:00:00               6.478583               6.161113   \n",
       "2  2016-01-15 02:00:00               6.362222               6.116455   \n",
       "3  2016-01-15 03:00:00               6.118189               6.043309   \n",
       "4  2016-01-15 04:00:00               5.663707               6.060915   \n",
       "\n",
       "   rougher.input.feed_pb  rougher.input.feed_sol  rougher.input.feed_rate  \\\n",
       "0               2.284912               36.808594               523.546326   \n",
       "1               2.266033               35.753385               525.290581   \n",
       "2               2.159622               35.971630               530.026610   \n",
       "3               2.037807               36.862241               542.590390   \n",
       "4               1.786875               34.347666               540.531893   \n",
       "\n",
       "   rougher.input.feed_size  rougher.input.floatbank10_sulfate  \\\n",
       "0                55.486599                          11.986616   \n",
       "1                57.278666                          11.971193   \n",
       "2                57.510649                          11.920603   \n",
       "3                57.792734                          11.630094   \n",
       "4                56.047189                          10.957755   \n",
       "\n",
       "   rougher.input.floatbank10_xanthate  rougher.state.floatbank10_a_air  ...  \\\n",
       "0                            6.007990                       999.706909  ...   \n",
       "1                            6.005766                      1000.286398  ...   \n",
       "2                            6.197377                       999.719565  ...   \n",
       "3                            6.203177                       999.814770  ...   \n",
       "4                            6.198826                       999.678690  ...   \n",
       "\n",
       "   secondary_cleaner.output.tail_sol  final.output.concentrate_au  \\\n",
       "0                           8.764648                    42.192020   \n",
       "1                           9.001494                    42.701629   \n",
       "2                           8.842896                    42.657501   \n",
       "3                           9.122857                    42.689819   \n",
       "4                           8.871028                    42.774141   \n",
       "\n",
       "   final.output.concentrate_ag  final.output.concentrate_pb  \\\n",
       "0                     6.055403                     9.889648   \n",
       "1                     6.029369                     9.968944   \n",
       "2                     6.055926                    10.213995   \n",
       "3                     6.047977                     9.977019   \n",
       "4                     6.148599                    10.142511   \n",
       "\n",
       "   final.output.concentrate_sol  final.output.recovery  final.output.tail_au  \\\n",
       "0                      5.507324              70.541216              2.143149   \n",
       "1                      5.257781              69.266198              2.224930   \n",
       "2                      5.383759              68.116445              2.257889   \n",
       "3                      4.858634              68.347543              2.146849   \n",
       "4                      4.939416              66.927016              2.055292   \n",
       "\n",
       "   final.output.tail_ag  final.output.tail_pb  final.output.tail_sol  \n",
       "0             10.411962              0.895447              16.904297  \n",
       "1             10.462676              0.927452              16.634514  \n",
       "2             10.507046              0.953716              16.208849  \n",
       "3             10.422762              0.883763              16.532835  \n",
       "4             10.360302              0.792826              16.525686  \n",
       "\n",
       "[5 rows x 87 columns]"
      ]
     },
     "metadata": {},
     "output_type": "display_data"
    },
    {
     "data": {
      "text/plain": [
       "14579"
      ]
     },
     "metadata": {},
     "output_type": "display_data"
    },
    {
     "name": "stdout",
     "output_type": "stream",
     "text": [
      "Тестовый\n"
     ]
    },
    {
     "data": {
      "text/html": [
       "<div>\n",
       "<style scoped>\n",
       "    .dataframe tbody tr th:only-of-type {\n",
       "        vertical-align: middle;\n",
       "    }\n",
       "\n",
       "    .dataframe tbody tr th {\n",
       "        vertical-align: top;\n",
       "    }\n",
       "\n",
       "    .dataframe thead th {\n",
       "        text-align: right;\n",
       "    }\n",
       "</style>\n",
       "<table border=\"1\" class=\"dataframe\">\n",
       "  <thead>\n",
       "    <tr style=\"text-align: right;\">\n",
       "      <th></th>\n",
       "      <th>date</th>\n",
       "      <th>rougher.input.feed_au</th>\n",
       "      <th>rougher.input.feed_ag</th>\n",
       "      <th>rougher.input.feed_pb</th>\n",
       "      <th>rougher.input.feed_sol</th>\n",
       "      <th>rougher.input.feed_rate</th>\n",
       "      <th>rougher.input.feed_size</th>\n",
       "      <th>rougher.input.floatbank10_sulfate</th>\n",
       "      <th>rougher.input.floatbank10_xanthate</th>\n",
       "      <th>rougher.state.floatbank10_a_air</th>\n",
       "      <th>...</th>\n",
       "      <th>secondary_cleaner.state.floatbank4_a_air</th>\n",
       "      <th>secondary_cleaner.state.floatbank4_a_level</th>\n",
       "      <th>secondary_cleaner.state.floatbank4_b_air</th>\n",
       "      <th>secondary_cleaner.state.floatbank4_b_level</th>\n",
       "      <th>secondary_cleaner.state.floatbank5_a_air</th>\n",
       "      <th>secondary_cleaner.state.floatbank5_a_level</th>\n",
       "      <th>secondary_cleaner.state.floatbank5_b_air</th>\n",
       "      <th>secondary_cleaner.state.floatbank5_b_level</th>\n",
       "      <th>secondary_cleaner.state.floatbank6_a_air</th>\n",
       "      <th>secondary_cleaner.state.floatbank6_a_level</th>\n",
       "    </tr>\n",
       "  </thead>\n",
       "  <tbody>\n",
       "    <tr>\n",
       "      <th>0</th>\n",
       "      <td>2017-12-09 14:59:59</td>\n",
       "      <td>4.365491</td>\n",
       "      <td>6.158718</td>\n",
       "      <td>3.875727</td>\n",
       "      <td>39.135119</td>\n",
       "      <td>555.820208</td>\n",
       "      <td>94.544358</td>\n",
       "      <td>6.146982</td>\n",
       "      <td>9.308612</td>\n",
       "      <td>1196.238112</td>\n",
       "      <td>...</td>\n",
       "      <td>23.018622</td>\n",
       "      <td>-500.492702</td>\n",
       "      <td>20.020205</td>\n",
       "      <td>-500.220296</td>\n",
       "      <td>17.963512</td>\n",
       "      <td>-499.939490</td>\n",
       "      <td>12.990306</td>\n",
       "      <td>-500.080993</td>\n",
       "      <td>19.990336</td>\n",
       "      <td>-499.191575</td>\n",
       "    </tr>\n",
       "    <tr>\n",
       "      <th>1</th>\n",
       "      <td>2017-12-09 15:59:59</td>\n",
       "      <td>4.362781</td>\n",
       "      <td>6.048130</td>\n",
       "      <td>3.902537</td>\n",
       "      <td>39.713906</td>\n",
       "      <td>544.731687</td>\n",
       "      <td>123.742430</td>\n",
       "      <td>6.210119</td>\n",
       "      <td>9.297709</td>\n",
       "      <td>1201.904177</td>\n",
       "      <td>...</td>\n",
       "      <td>23.024963</td>\n",
       "      <td>-501.153409</td>\n",
       "      <td>20.054122</td>\n",
       "      <td>-500.314711</td>\n",
       "      <td>17.979515</td>\n",
       "      <td>-499.272871</td>\n",
       "      <td>12.992404</td>\n",
       "      <td>-499.976268</td>\n",
       "      <td>20.013986</td>\n",
       "      <td>-500.625471</td>\n",
       "    </tr>\n",
       "    <tr>\n",
       "      <th>2</th>\n",
       "      <td>2017-12-09 16:59:59</td>\n",
       "      <td>5.081681</td>\n",
       "      <td>6.082745</td>\n",
       "      <td>4.564078</td>\n",
       "      <td>37.208683</td>\n",
       "      <td>558.155110</td>\n",
       "      <td>82.610855</td>\n",
       "      <td>7.363824</td>\n",
       "      <td>9.003562</td>\n",
       "      <td>1200.826926</td>\n",
       "      <td>...</td>\n",
       "      <td>22.993827</td>\n",
       "      <td>-501.559663</td>\n",
       "      <td>20.029144</td>\n",
       "      <td>-500.000662</td>\n",
       "      <td>18.012723</td>\n",
       "      <td>-500.024764</td>\n",
       "      <td>13.016445</td>\n",
       "      <td>-500.058432</td>\n",
       "      <td>19.973767</td>\n",
       "      <td>-501.394155</td>\n",
       "    </tr>\n",
       "    <tr>\n",
       "      <th>3</th>\n",
       "      <td>2017-12-09 17:59:59</td>\n",
       "      <td>5.145949</td>\n",
       "      <td>6.084374</td>\n",
       "      <td>4.768124</td>\n",
       "      <td>36.808874</td>\n",
       "      <td>539.713765</td>\n",
       "      <td>77.984784</td>\n",
       "      <td>6.927072</td>\n",
       "      <td>8.955597</td>\n",
       "      <td>1199.292489</td>\n",
       "      <td>...</td>\n",
       "      <td>23.032807</td>\n",
       "      <td>-501.287889</td>\n",
       "      <td>19.977466</td>\n",
       "      <td>-500.159903</td>\n",
       "      <td>17.980463</td>\n",
       "      <td>-500.504602</td>\n",
       "      <td>12.949071</td>\n",
       "      <td>-500.009937</td>\n",
       "      <td>20.010332</td>\n",
       "      <td>-508.337973</td>\n",
       "    </tr>\n",
       "    <tr>\n",
       "      <th>4</th>\n",
       "      <td>2017-12-09 18:59:59</td>\n",
       "      <td>5.735249</td>\n",
       "      <td>6.165220</td>\n",
       "      <td>4.512346</td>\n",
       "      <td>37.810642</td>\n",
       "      <td>558.713584</td>\n",
       "      <td>86.434874</td>\n",
       "      <td>7.823471</td>\n",
       "      <td>7.490356</td>\n",
       "      <td>1198.005449</td>\n",
       "      <td>...</td>\n",
       "      <td>23.001911</td>\n",
       "      <td>-499.947838</td>\n",
       "      <td>20.023735</td>\n",
       "      <td>-499.713680</td>\n",
       "      <td>17.990955</td>\n",
       "      <td>-500.334769</td>\n",
       "      <td>13.007523</td>\n",
       "      <td>-499.968459</td>\n",
       "      <td>19.995999</td>\n",
       "      <td>-499.788805</td>\n",
       "    </tr>\n",
       "  </tbody>\n",
       "</table>\n",
       "<p>5 rows × 53 columns</p>\n",
       "</div>"
      ],
      "text/plain": [
       "                  date  rougher.input.feed_au  rougher.input.feed_ag  \\\n",
       "0  2017-12-09 14:59:59               4.365491               6.158718   \n",
       "1  2017-12-09 15:59:59               4.362781               6.048130   \n",
       "2  2017-12-09 16:59:59               5.081681               6.082745   \n",
       "3  2017-12-09 17:59:59               5.145949               6.084374   \n",
       "4  2017-12-09 18:59:59               5.735249               6.165220   \n",
       "\n",
       "   rougher.input.feed_pb  rougher.input.feed_sol  rougher.input.feed_rate  \\\n",
       "0               3.875727               39.135119               555.820208   \n",
       "1               3.902537               39.713906               544.731687   \n",
       "2               4.564078               37.208683               558.155110   \n",
       "3               4.768124               36.808874               539.713765   \n",
       "4               4.512346               37.810642               558.713584   \n",
       "\n",
       "   rougher.input.feed_size  rougher.input.floatbank10_sulfate  \\\n",
       "0                94.544358                           6.146982   \n",
       "1               123.742430                           6.210119   \n",
       "2                82.610855                           7.363824   \n",
       "3                77.984784                           6.927072   \n",
       "4                86.434874                           7.823471   \n",
       "\n",
       "   rougher.input.floatbank10_xanthate  rougher.state.floatbank10_a_air  ...  \\\n",
       "0                            9.308612                      1196.238112  ...   \n",
       "1                            9.297709                      1201.904177  ...   \n",
       "2                            9.003562                      1200.826926  ...   \n",
       "3                            8.955597                      1199.292489  ...   \n",
       "4                            7.490356                      1198.005449  ...   \n",
       "\n",
       "   secondary_cleaner.state.floatbank4_a_air  \\\n",
       "0                                 23.018622   \n",
       "1                                 23.024963   \n",
       "2                                 22.993827   \n",
       "3                                 23.032807   \n",
       "4                                 23.001911   \n",
       "\n",
       "   secondary_cleaner.state.floatbank4_a_level  \\\n",
       "0                                 -500.492702   \n",
       "1                                 -501.153409   \n",
       "2                                 -501.559663   \n",
       "3                                 -501.287889   \n",
       "4                                 -499.947838   \n",
       "\n",
       "   secondary_cleaner.state.floatbank4_b_air  \\\n",
       "0                                 20.020205   \n",
       "1                                 20.054122   \n",
       "2                                 20.029144   \n",
       "3                                 19.977466   \n",
       "4                                 20.023735   \n",
       "\n",
       "   secondary_cleaner.state.floatbank4_b_level  \\\n",
       "0                                 -500.220296   \n",
       "1                                 -500.314711   \n",
       "2                                 -500.000662   \n",
       "3                                 -500.159903   \n",
       "4                                 -499.713680   \n",
       "\n",
       "   secondary_cleaner.state.floatbank5_a_air  \\\n",
       "0                                 17.963512   \n",
       "1                                 17.979515   \n",
       "2                                 18.012723   \n",
       "3                                 17.980463   \n",
       "4                                 17.990955   \n",
       "\n",
       "   secondary_cleaner.state.floatbank5_a_level  \\\n",
       "0                                 -499.939490   \n",
       "1                                 -499.272871   \n",
       "2                                 -500.024764   \n",
       "3                                 -500.504602   \n",
       "4                                 -500.334769   \n",
       "\n",
       "   secondary_cleaner.state.floatbank5_b_air  \\\n",
       "0                                 12.990306   \n",
       "1                                 12.992404   \n",
       "2                                 13.016445   \n",
       "3                                 12.949071   \n",
       "4                                 13.007523   \n",
       "\n",
       "   secondary_cleaner.state.floatbank5_b_level  \\\n",
       "0                                 -500.080993   \n",
       "1                                 -499.976268   \n",
       "2                                 -500.058432   \n",
       "3                                 -500.009937   \n",
       "4                                 -499.968459   \n",
       "\n",
       "   secondary_cleaner.state.floatbank6_a_air  \\\n",
       "0                                 19.990336   \n",
       "1                                 20.013986   \n",
       "2                                 19.973767   \n",
       "3                                 20.010332   \n",
       "4                                 19.995999   \n",
       "\n",
       "   secondary_cleaner.state.floatbank6_a_level  \n",
       "0                                 -499.191575  \n",
       "1                                 -500.625471  \n",
       "2                                 -501.394155  \n",
       "3                                 -508.337973  \n",
       "4                                 -499.788805  \n",
       "\n",
       "[5 rows x 53 columns]"
      ]
     },
     "metadata": {},
     "output_type": "display_data"
    },
    {
     "data": {
      "text/plain": [
       "4860"
      ]
     },
     "metadata": {},
     "output_type": "display_data"
    },
    {
     "name": "stdout",
     "output_type": "stream",
     "text": [
      "Полный\n"
     ]
    },
    {
     "data": {
      "text/html": [
       "<div>\n",
       "<style scoped>\n",
       "    .dataframe tbody tr th:only-of-type {\n",
       "        vertical-align: middle;\n",
       "    }\n",
       "\n",
       "    .dataframe tbody tr th {\n",
       "        vertical-align: top;\n",
       "    }\n",
       "\n",
       "    .dataframe thead th {\n",
       "        text-align: right;\n",
       "    }\n",
       "</style>\n",
       "<table border=\"1\" class=\"dataframe\">\n",
       "  <thead>\n",
       "    <tr style=\"text-align: right;\">\n",
       "      <th></th>\n",
       "      <th>date</th>\n",
       "      <th>rougher.input.feed_au</th>\n",
       "      <th>rougher.input.feed_ag</th>\n",
       "      <th>rougher.input.feed_pb</th>\n",
       "      <th>rougher.input.feed_sol</th>\n",
       "      <th>rougher.input.feed_rate</th>\n",
       "      <th>rougher.input.feed_size</th>\n",
       "      <th>rougher.input.floatbank10_sulfate</th>\n",
       "      <th>rougher.input.floatbank10_xanthate</th>\n",
       "      <th>rougher.state.floatbank10_a_air</th>\n",
       "      <th>...</th>\n",
       "      <th>secondary_cleaner.output.tail_sol</th>\n",
       "      <th>final.output.concentrate_au</th>\n",
       "      <th>final.output.concentrate_ag</th>\n",
       "      <th>final.output.concentrate_pb</th>\n",
       "      <th>final.output.concentrate_sol</th>\n",
       "      <th>final.output.recovery</th>\n",
       "      <th>final.output.tail_au</th>\n",
       "      <th>final.output.tail_ag</th>\n",
       "      <th>final.output.tail_pb</th>\n",
       "      <th>final.output.tail_sol</th>\n",
       "    </tr>\n",
       "  </thead>\n",
       "  <tbody>\n",
       "    <tr>\n",
       "      <th>0</th>\n",
       "      <td>2016-01-15 00:00:00</td>\n",
       "      <td>6.486150</td>\n",
       "      <td>6.100378</td>\n",
       "      <td>2.284912</td>\n",
       "      <td>36.808594</td>\n",
       "      <td>523.546326</td>\n",
       "      <td>55.486599</td>\n",
       "      <td>11.986616</td>\n",
       "      <td>6.007990</td>\n",
       "      <td>999.706909</td>\n",
       "      <td>...</td>\n",
       "      <td>8.764648</td>\n",
       "      <td>42.192020</td>\n",
       "      <td>6.055403</td>\n",
       "      <td>9.889648</td>\n",
       "      <td>5.507324</td>\n",
       "      <td>70.541216</td>\n",
       "      <td>2.143149</td>\n",
       "      <td>10.411962</td>\n",
       "      <td>0.895447</td>\n",
       "      <td>16.904297</td>\n",
       "    </tr>\n",
       "    <tr>\n",
       "      <th>1</th>\n",
       "      <td>2016-01-15 01:00:00</td>\n",
       "      <td>6.478583</td>\n",
       "      <td>6.161113</td>\n",
       "      <td>2.266033</td>\n",
       "      <td>35.753385</td>\n",
       "      <td>525.290581</td>\n",
       "      <td>57.278666</td>\n",
       "      <td>11.971193</td>\n",
       "      <td>6.005766</td>\n",
       "      <td>1000.286398</td>\n",
       "      <td>...</td>\n",
       "      <td>9.001494</td>\n",
       "      <td>42.701629</td>\n",
       "      <td>6.029369</td>\n",
       "      <td>9.968944</td>\n",
       "      <td>5.257781</td>\n",
       "      <td>69.266198</td>\n",
       "      <td>2.224930</td>\n",
       "      <td>10.462676</td>\n",
       "      <td>0.927452</td>\n",
       "      <td>16.634514</td>\n",
       "    </tr>\n",
       "    <tr>\n",
       "      <th>2</th>\n",
       "      <td>2016-01-15 02:00:00</td>\n",
       "      <td>6.362222</td>\n",
       "      <td>6.116455</td>\n",
       "      <td>2.159622</td>\n",
       "      <td>35.971630</td>\n",
       "      <td>530.026610</td>\n",
       "      <td>57.510649</td>\n",
       "      <td>11.920603</td>\n",
       "      <td>6.197377</td>\n",
       "      <td>999.719565</td>\n",
       "      <td>...</td>\n",
       "      <td>8.842896</td>\n",
       "      <td>42.657501</td>\n",
       "      <td>6.055926</td>\n",
       "      <td>10.213995</td>\n",
       "      <td>5.383759</td>\n",
       "      <td>68.116445</td>\n",
       "      <td>2.257889</td>\n",
       "      <td>10.507046</td>\n",
       "      <td>0.953716</td>\n",
       "      <td>16.208849</td>\n",
       "    </tr>\n",
       "    <tr>\n",
       "      <th>3</th>\n",
       "      <td>2016-01-15 03:00:00</td>\n",
       "      <td>6.118189</td>\n",
       "      <td>6.043309</td>\n",
       "      <td>2.037807</td>\n",
       "      <td>36.862241</td>\n",
       "      <td>542.590390</td>\n",
       "      <td>57.792734</td>\n",
       "      <td>11.630094</td>\n",
       "      <td>6.203177</td>\n",
       "      <td>999.814770</td>\n",
       "      <td>...</td>\n",
       "      <td>9.122857</td>\n",
       "      <td>42.689819</td>\n",
       "      <td>6.047977</td>\n",
       "      <td>9.977019</td>\n",
       "      <td>4.858634</td>\n",
       "      <td>68.347543</td>\n",
       "      <td>2.146849</td>\n",
       "      <td>10.422762</td>\n",
       "      <td>0.883763</td>\n",
       "      <td>16.532835</td>\n",
       "    </tr>\n",
       "    <tr>\n",
       "      <th>4</th>\n",
       "      <td>2016-01-15 04:00:00</td>\n",
       "      <td>5.663707</td>\n",
       "      <td>6.060915</td>\n",
       "      <td>1.786875</td>\n",
       "      <td>34.347666</td>\n",
       "      <td>540.531893</td>\n",
       "      <td>56.047189</td>\n",
       "      <td>10.957755</td>\n",
       "      <td>6.198826</td>\n",
       "      <td>999.678690</td>\n",
       "      <td>...</td>\n",
       "      <td>8.871028</td>\n",
       "      <td>42.774141</td>\n",
       "      <td>6.148599</td>\n",
       "      <td>10.142511</td>\n",
       "      <td>4.939416</td>\n",
       "      <td>66.927016</td>\n",
       "      <td>2.055292</td>\n",
       "      <td>10.360302</td>\n",
       "      <td>0.792826</td>\n",
       "      <td>16.525686</td>\n",
       "    </tr>\n",
       "  </tbody>\n",
       "</table>\n",
       "<p>5 rows × 87 columns</p>\n",
       "</div>"
      ],
      "text/plain": [
       "                  date  rougher.input.feed_au  rougher.input.feed_ag  \\\n",
       "0  2016-01-15 00:00:00               6.486150               6.100378   \n",
       "1  2016-01-15 01:00:00               6.478583               6.161113   \n",
       "2  2016-01-15 02:00:00               6.362222               6.116455   \n",
       "3  2016-01-15 03:00:00               6.118189               6.043309   \n",
       "4  2016-01-15 04:00:00               5.663707               6.060915   \n",
       "\n",
       "   rougher.input.feed_pb  rougher.input.feed_sol  rougher.input.feed_rate  \\\n",
       "0               2.284912               36.808594               523.546326   \n",
       "1               2.266033               35.753385               525.290581   \n",
       "2               2.159622               35.971630               530.026610   \n",
       "3               2.037807               36.862241               542.590390   \n",
       "4               1.786875               34.347666               540.531893   \n",
       "\n",
       "   rougher.input.feed_size  rougher.input.floatbank10_sulfate  \\\n",
       "0                55.486599                          11.986616   \n",
       "1                57.278666                          11.971193   \n",
       "2                57.510649                          11.920603   \n",
       "3                57.792734                          11.630094   \n",
       "4                56.047189                          10.957755   \n",
       "\n",
       "   rougher.input.floatbank10_xanthate  rougher.state.floatbank10_a_air  ...  \\\n",
       "0                            6.007990                       999.706909  ...   \n",
       "1                            6.005766                      1000.286398  ...   \n",
       "2                            6.197377                       999.719565  ...   \n",
       "3                            6.203177                       999.814770  ...   \n",
       "4                            6.198826                       999.678690  ...   \n",
       "\n",
       "   secondary_cleaner.output.tail_sol  final.output.concentrate_au  \\\n",
       "0                           8.764648                    42.192020   \n",
       "1                           9.001494                    42.701629   \n",
       "2                           8.842896                    42.657501   \n",
       "3                           9.122857                    42.689819   \n",
       "4                           8.871028                    42.774141   \n",
       "\n",
       "   final.output.concentrate_ag  final.output.concentrate_pb  \\\n",
       "0                     6.055403                     9.889648   \n",
       "1                     6.029369                     9.968944   \n",
       "2                     6.055926                    10.213995   \n",
       "3                     6.047977                     9.977019   \n",
       "4                     6.148599                    10.142511   \n",
       "\n",
       "   final.output.concentrate_sol  final.output.recovery  final.output.tail_au  \\\n",
       "0                      5.507324              70.541216              2.143149   \n",
       "1                      5.257781              69.266198              2.224930   \n",
       "2                      5.383759              68.116445              2.257889   \n",
       "3                      4.858634              68.347543              2.146849   \n",
       "4                      4.939416              66.927016              2.055292   \n",
       "\n",
       "   final.output.tail_ag  final.output.tail_pb  final.output.tail_sol  \n",
       "0             10.411962              0.895447              16.904297  \n",
       "1             10.462676              0.927452              16.634514  \n",
       "2             10.507046              0.953716              16.208849  \n",
       "3             10.422762              0.883763              16.532835  \n",
       "4             10.360302              0.792826              16.525686  \n",
       "\n",
       "[5 rows x 87 columns]"
      ]
     },
     "metadata": {},
     "output_type": "display_data"
    },
    {
     "data": {
      "text/plain": [
       "19439"
      ]
     },
     "metadata": {},
     "output_type": "display_data"
    }
   ],
   "source": [
    "pth1 = '/datasets/gold_industry_train.csv'\n",
    "pth2 = '/datasets/gold_industry_test.csv'\n",
    "pth3 = '/datasets/gold_industry_full.csv'\n",
    "\n",
    "if os.path.exists(pth1) & os.path.exists(pth1) & os.path.exists(pth1):\n",
    "    data_train = pd.read_csv(pth1)\n",
    "    data_test = pd.read_csv(pth2)\n",
    "    data_full = pd.read_csv(pth3)\n",
    "else:\n",
    "    print('Something is wrong')\n",
    "\n",
    "print('Тренировочный')    \n",
    "display(data_train.head())\n",
    "display(data_train.shape[0])\n",
    "\n",
    "print('Тестовый')\n",
    "display(data_test.head())\n",
    "display(data_test.shape[0])\n",
    "\n",
    "print('Полный')\n",
    "display(data_full.head())\n",
    "display(data_full.shape[0])"
   ]
  },
  {
   "cell_type": "markdown",
   "metadata": {},
   "source": [
    "---\n",
    "\n",
    "Дано три дата сета: тренировочный, тестовый и все вместе. В тестовом меньше (53) колонок, чем в итоговом (87), посмотрю на отсутствующие колонки:\n"
   ]
  },
  {
   "cell_type": "code",
   "execution_count": 4,
   "metadata": {},
   "outputs": [
    {
     "data": {
      "text/plain": [
       "Index(['final.output.concentrate_ag', 'final.output.concentrate_au',\n",
       "       'final.output.concentrate_pb', 'final.output.concentrate_sol',\n",
       "       'final.output.recovery', 'final.output.tail_ag', 'final.output.tail_au',\n",
       "       'final.output.tail_pb', 'final.output.tail_sol',\n",
       "       'primary_cleaner.output.concentrate_ag',\n",
       "       'primary_cleaner.output.concentrate_au',\n",
       "       'primary_cleaner.output.concentrate_pb',\n",
       "       'primary_cleaner.output.concentrate_sol',\n",
       "       'primary_cleaner.output.tail_ag', 'primary_cleaner.output.tail_au',\n",
       "       'primary_cleaner.output.tail_pb', 'primary_cleaner.output.tail_sol',\n",
       "       'rougher.calculation.au_pb_ratio',\n",
       "       'rougher.calculation.floatbank10_sulfate_to_au_feed',\n",
       "       'rougher.calculation.floatbank11_sulfate_to_au_feed',\n",
       "       'rougher.calculation.sulfate_to_au_concentrate',\n",
       "       'rougher.output.concentrate_ag', 'rougher.output.concentrate_au',\n",
       "       'rougher.output.concentrate_pb', 'rougher.output.concentrate_sol',\n",
       "       'rougher.output.recovery', 'rougher.output.tail_ag',\n",
       "       'rougher.output.tail_au', 'rougher.output.tail_pb',\n",
       "       'rougher.output.tail_sol', 'secondary_cleaner.output.tail_ag',\n",
       "       'secondary_cleaner.output.tail_au', 'secondary_cleaner.output.tail_pb',\n",
       "       'secondary_cleaner.output.tail_sol'],\n",
       "      dtype='object')"
      ]
     },
     "execution_count": 4,
     "metadata": {},
     "output_type": "execute_result"
    }
   ],
   "source": [
    "diff_method = data_full.columns.difference(data_test.columns)\n",
    "diff_method"
   ]
  },
  {
   "cell_type": "markdown",
   "metadata": {},
   "source": [
    "<div style=\"border:dotted Thistle 3px; padding: 10px\">\n",
    "    \n",
    "**Промежуточный вывод:**    \n",
    "\n",
    "- практически все отсутствующие колонки связаны с ```output```, т.е. с характеристиками продуктов каждого этапа.     \n",
    "- есть еще 4 колонки с ```calculation``` для флотации, это расчетные характеристики, скорее всего тоже получаются в ходе процесса.\n",
    "    \n",
    "</div>    "
   ]
  },
  {
   "cell_type": "markdown",
   "metadata": {},
   "source": [
    "Из условия задачи:   \n",
    "\n",
    "**Описание данных**  \n",
    "\n",
    "Технологический процесс   \n",
    "\n",
    "- Rougher feed — исходное сырье\n",
    "- Rougher additions (или reagent additions) — флотационные реагенты: Xanthate, Sulphate, Depressant\n",
    "- Xanthate — ксантогенат (промотер, или активатор флотации);\n",
    "- Sulphate — сульфат (на данном производстве сульфид натрия);\n",
    "- Depressant — депрессант (силикат натрия).\n",
    "- Rougher process (англ. «грубый процесс») — флотация\n",
    "- Rougher tails — отвальные хвосты\n",
    "- Float banks — флотационная установка\n",
    "- Cleaner process — очистка\n",
    "- Rougher Au — черновой концентрат золота\n",
    "- Final Au — финальный концентрат золота\n",
    "\n",
    "Параметры этапов  \n",
    "\n",
    "- air amount — объём воздуха\n",
    "- fluid levels — уровень жидкости\n",
    "- feed size — размер гранул сырья\n",
    "- feed rate — скорость подачи\n",
    "\n",
    "**Наименование признаков**  \n",
    "\n",
    "Наименование признаков должно быть такое:  \n",
    "    ```[этап].[тип_параметра].[название_параметра]```  \n",
    "    ```Пример: rougher.input.feed_ag```\n",
    "    \n",
    "**Возможные значения для блока [этап]:**\n",
    "- rougher — флотация\n",
    "- primary_cleaner — первичная очистка\n",
    "- secondary_cleaner — вторичная очистка\n",
    "- final — финальные характеристики\n",
    "\n",
    "**Возможные значения для блока [тип_параметра]:**\n",
    "- input — параметры сырья\n",
    "- output — параметры продукта\n",
    "- state — параметры, характеризующие текущее состояние этапа\n",
    "- calculation — расчётные характеристики  \n",
    "        \n",
    "\n",
    "Посмотрю на данные в общем дата сете:"
   ]
  },
  {
   "cell_type": "code",
   "execution_count": 6,
   "metadata": {},
   "outputs": [],
   "source": [
    "def data_info(data, name):\n",
    "       \n",
    "    print('Информация для', name)\n",
    "    print('---'*16)\n",
    "    \n",
    "    data.info()   \n",
    "    display(data.describe())    \n",
    "    print('Полные дубликаты:', data.duplicated().sum())\n",
    "    display(data.isna().sum())\n",
    "\n",
    "def stage_separate(data):\n",
    "    rougher=[]\n",
    "    primary_cleaner=[]\n",
    "    secondary_cleaner=[]\n",
    "    final=[]\n",
    "    for item in data.columns:\n",
    "        if 'rougher' in item:\n",
    "            rougher.append(item)    \n",
    "    for item in data.columns:\n",
    "        if 'primary_cleaner' in item:\n",
    "            primary_cleaner.append(item)    \n",
    "    for item in data.columns:\n",
    "        if 'secondary_cleaner' in item:\n",
    "            secondary_cleaner.append(item)    \n",
    "    for item in data.columns:\n",
    "        if 'final' in item:\n",
    "            final.append(item) \n",
    "    return rougher, primary_cleaner, secondary_cleaner, final    \n",
    "\n",
    "def metals_separate(data):\n",
    "    au=[]\n",
    "    ag=[]\n",
    "    pb=[]\n",
    "    for item in data.columns:\n",
    "        if 'au' in item:\n",
    "            au.append(item)\n",
    "    for item in data.columns:\n",
    "        if 'ag' in item:\n",
    "            ag.append(item)            \n",
    "    for item in data.columns:\n",
    "        if 'pb' in item:\n",
    "            pb.append(item)\n",
    "    return au, ag, pb      \n",
    "    \n",
    "def data_steps(data):\n",
    "    \n",
    "    rougher, primary_cleaner, secondary_cleaner, final = stage_separate(data)\n",
    "     \n",
    "    # Флотация\n",
    "    print('Rougher (флотация):')  \n",
    "    display(data[rougher].head())    \n",
    "    # Первичная очистка\n",
    "    print('Primary_cleaner (первичная очистка):')    \n",
    "    display(data[primary_cleaner].head())     \n",
    "    # Вторичная очистка\n",
    "    print('Secondary_cleaner (вторичная очистка):')    \n",
    "    display(data[secondary_cleaner].head())        \n",
    "    # Финальные характеристики\n",
    "    print('Final (финальные характеристики):')    \n",
    "    display(data[final].head())             "
   ]
  },
  {
   "cell_type": "code",
   "execution_count": 7,
   "metadata": {},
   "outputs": [
    {
     "name": "stdout",
     "output_type": "stream",
     "text": [
      "Информация для полного набора данных\n",
      "------------------------------------------------\n",
      "<class 'pandas.core.frame.DataFrame'>\n",
      "RangeIndex: 19439 entries, 0 to 19438\n",
      "Data columns (total 87 columns):\n",
      " #   Column                                              Non-Null Count  Dtype  \n",
      "---  ------                                              --------------  -----  \n",
      " 0   date                                                19439 non-null  object \n",
      " 1   rougher.input.feed_au                               19439 non-null  float64\n",
      " 2   rougher.input.feed_ag                               19439 non-null  float64\n",
      " 3   rougher.input.feed_pb                               19339 non-null  float64\n",
      " 4   rougher.input.feed_sol                              19340 non-null  float64\n",
      " 5   rougher.input.feed_rate                             19428 non-null  float64\n",
      " 6   rougher.input.feed_size                             19294 non-null  float64\n",
      " 7   rougher.input.floatbank10_sulfate                   19405 non-null  float64\n",
      " 8   rougher.input.floatbank10_xanthate                  19431 non-null  float64\n",
      " 9   rougher.state.floatbank10_a_air                     19438 non-null  float64\n",
      " 10  rougher.state.floatbank10_a_level                   19438 non-null  float64\n",
      " 11  rougher.state.floatbank10_b_air                     19438 non-null  float64\n",
      " 12  rougher.state.floatbank10_b_level                   19438 non-null  float64\n",
      " 13  rougher.state.floatbank10_c_air                     19438 non-null  float64\n",
      " 14  rougher.state.floatbank10_c_level                   19438 non-null  float64\n",
      " 15  rougher.state.floatbank10_d_air                     19439 non-null  float64\n",
      " 16  rougher.state.floatbank10_d_level                   19439 non-null  float64\n",
      " 17  rougher.state.floatbank10_e_air                     19003 non-null  float64\n",
      " 18  rougher.state.floatbank10_e_level                   19439 non-null  float64\n",
      " 19  rougher.state.floatbank10_f_air                     19439 non-null  float64\n",
      " 20  rougher.state.floatbank10_f_level                   19439 non-null  float64\n",
      " 21  rougher.input.floatbank11_sulfate                   19395 non-null  float64\n",
      " 22  rougher.input.floatbank11_xanthate                  18986 non-null  float64\n",
      " 23  rougher.calculation.sulfate_to_au_concentrate       19437 non-null  float64\n",
      " 24  rougher.calculation.floatbank10_sulfate_to_au_feed  19437 non-null  float64\n",
      " 25  rougher.calculation.floatbank11_sulfate_to_au_feed  19437 non-null  float64\n",
      " 26  rougher.calculation.au_pb_ratio                     19439 non-null  float64\n",
      " 27  rougher.output.concentrate_au                       19439 non-null  float64\n",
      " 28  rougher.output.concentrate_ag                       19439 non-null  float64\n",
      " 29  rougher.output.concentrate_pb                       19439 non-null  float64\n",
      " 30  rougher.output.concentrate_sol                      19416 non-null  float64\n",
      " 31  rougher.output.recovery                             19439 non-null  float64\n",
      " 32  rougher.output.tail_au                              19439 non-null  float64\n",
      " 33  rougher.output.tail_ag                              19438 non-null  float64\n",
      " 34  rougher.output.tail_pb                              19439 non-null  float64\n",
      " 35  rougher.output.tail_sol                             19439 non-null  float64\n",
      " 36  primary_cleaner.input.sulfate                       19415 non-null  float64\n",
      " 37  primary_cleaner.input.depressant                    19402 non-null  float64\n",
      " 38  primary_cleaner.input.feed_size                     19439 non-null  float64\n",
      " 39  primary_cleaner.input.xanthate                      19335 non-null  float64\n",
      " 40  primary_cleaner.state.floatbank8_a_air              19435 non-null  float64\n",
      " 41  primary_cleaner.state.floatbank8_a_level            19438 non-null  float64\n",
      " 42  primary_cleaner.state.floatbank8_b_air              19435 non-null  float64\n",
      " 43  primary_cleaner.state.floatbank8_b_level            19438 non-null  float64\n",
      " 44  primary_cleaner.state.floatbank8_c_air              19437 non-null  float64\n",
      " 45  primary_cleaner.state.floatbank8_c_level            19438 non-null  float64\n",
      " 46  primary_cleaner.state.floatbank8_d_air              19436 non-null  float64\n",
      " 47  primary_cleaner.state.floatbank8_d_level            19438 non-null  float64\n",
      " 48  primary_cleaner.output.concentrate_au               19439 non-null  float64\n",
      " 49  primary_cleaner.output.concentrate_ag               19439 non-null  float64\n",
      " 50  primary_cleaner.output.concentrate_pb               19323 non-null  float64\n",
      " 51  primary_cleaner.output.concentrate_sol              19069 non-null  float64\n",
      " 52  primary_cleaner.output.tail_au                      19439 non-null  float64\n",
      " 53  primary_cleaner.output.tail_ag                      19435 non-null  float64\n",
      " 54  primary_cleaner.output.tail_pb                      19418 non-null  float64\n",
      " 55  primary_cleaner.output.tail_sol                     19377 non-null  float64\n",
      " 56  secondary_cleaner.state.floatbank2_a_air            19219 non-null  float64\n",
      " 57  secondary_cleaner.state.floatbank2_a_level          19438 non-null  float64\n",
      " 58  secondary_cleaner.state.floatbank2_b_air            19416 non-null  float64\n",
      " 59  secondary_cleaner.state.floatbank2_b_level          19438 non-null  float64\n",
      " 60  secondary_cleaner.state.floatbank3_a_air            19426 non-null  float64\n",
      " 61  secondary_cleaner.state.floatbank3_a_level          19438 non-null  float64\n",
      " 62  secondary_cleaner.state.floatbank3_b_air            19438 non-null  float64\n",
      " 63  secondary_cleaner.state.floatbank3_b_level          19438 non-null  float64\n",
      " 64  secondary_cleaner.state.floatbank4_a_air            19433 non-null  float64\n",
      " 65  secondary_cleaner.state.floatbank4_a_level          19438 non-null  float64\n",
      " 66  secondary_cleaner.state.floatbank4_b_air            19438 non-null  float64\n",
      " 67  secondary_cleaner.state.floatbank4_b_level          19438 non-null  float64\n",
      " 68  secondary_cleaner.state.floatbank5_a_air            19438 non-null  float64\n",
      " 69  secondary_cleaner.state.floatbank5_a_level          19438 non-null  float64\n",
      " 70  secondary_cleaner.state.floatbank5_b_air            19438 non-null  float64\n",
      " 71  secondary_cleaner.state.floatbank5_b_level          19438 non-null  float64\n",
      " 72  secondary_cleaner.state.floatbank6_a_air            19437 non-null  float64\n",
      " 73  secondary_cleaner.state.floatbank6_a_level          19438 non-null  float64\n",
      " 74  secondary_cleaner.output.tail_au                    19439 non-null  float64\n",
      " 75  secondary_cleaner.output.tail_ag                    19437 non-null  float64\n",
      " 76  secondary_cleaner.output.tail_pb                    19427 non-null  float64\n",
      " 77  secondary_cleaner.output.tail_sol                   17691 non-null  float64\n",
      " 78  final.output.concentrate_au                         19439 non-null  float64\n",
      " 79  final.output.concentrate_ag                         19438 non-null  float64\n",
      " 80  final.output.concentrate_pb                         19438 non-null  float64\n",
      " 81  final.output.concentrate_sol                        19228 non-null  float64\n",
      " 82  final.output.recovery                               19439 non-null  float64\n",
      " 83  final.output.tail_au                                19439 non-null  float64\n",
      " 84  final.output.tail_ag                                19438 non-null  float64\n",
      " 85  final.output.tail_pb                                19338 non-null  float64\n",
      " 86  final.output.tail_sol                               19433 non-null  float64\n",
      "dtypes: float64(86), object(1)\n",
      "memory usage: 12.9+ MB\n"
     ]
    },
    {
     "data": {
      "text/html": [
       "<div>\n",
       "<style scoped>\n",
       "    .dataframe tbody tr th:only-of-type {\n",
       "        vertical-align: middle;\n",
       "    }\n",
       "\n",
       "    .dataframe tbody tr th {\n",
       "        vertical-align: top;\n",
       "    }\n",
       "\n",
       "    .dataframe thead th {\n",
       "        text-align: right;\n",
       "    }\n",
       "</style>\n",
       "<table border=\"1\" class=\"dataframe\">\n",
       "  <thead>\n",
       "    <tr style=\"text-align: right;\">\n",
       "      <th></th>\n",
       "      <th>rougher.input.feed_au</th>\n",
       "      <th>rougher.input.feed_ag</th>\n",
       "      <th>rougher.input.feed_pb</th>\n",
       "      <th>rougher.input.feed_sol</th>\n",
       "      <th>rougher.input.feed_rate</th>\n",
       "      <th>rougher.input.feed_size</th>\n",
       "      <th>rougher.input.floatbank10_sulfate</th>\n",
       "      <th>rougher.input.floatbank10_xanthate</th>\n",
       "      <th>rougher.state.floatbank10_a_air</th>\n",
       "      <th>rougher.state.floatbank10_a_level</th>\n",
       "      <th>...</th>\n",
       "      <th>secondary_cleaner.output.tail_sol</th>\n",
       "      <th>final.output.concentrate_au</th>\n",
       "      <th>final.output.concentrate_ag</th>\n",
       "      <th>final.output.concentrate_pb</th>\n",
       "      <th>final.output.concentrate_sol</th>\n",
       "      <th>final.output.recovery</th>\n",
       "      <th>final.output.tail_au</th>\n",
       "      <th>final.output.tail_ag</th>\n",
       "      <th>final.output.tail_pb</th>\n",
       "      <th>final.output.tail_sol</th>\n",
       "    </tr>\n",
       "  </thead>\n",
       "  <tbody>\n",
       "    <tr>\n",
       "      <th>count</th>\n",
       "      <td>19439.000000</td>\n",
       "      <td>19439.000000</td>\n",
       "      <td>19339.000000</td>\n",
       "      <td>19340.000000</td>\n",
       "      <td>19428.000000</td>\n",
       "      <td>19294.000000</td>\n",
       "      <td>19405.000000</td>\n",
       "      <td>19431.000000</td>\n",
       "      <td>19438.000000</td>\n",
       "      <td>19438.000000</td>\n",
       "      <td>...</td>\n",
       "      <td>17691.000000</td>\n",
       "      <td>19439.000000</td>\n",
       "      <td>19438.000000</td>\n",
       "      <td>19438.000000</td>\n",
       "      <td>19228.000000</td>\n",
       "      <td>19439.000000</td>\n",
       "      <td>19439.000000</td>\n",
       "      <td>19438.000000</td>\n",
       "      <td>19338.000000</td>\n",
       "      <td>19433.000000</td>\n",
       "    </tr>\n",
       "    <tr>\n",
       "      <th>mean</th>\n",
       "      <td>8.266097</td>\n",
       "      <td>8.794927</td>\n",
       "      <td>3.598085</td>\n",
       "      <td>36.695114</td>\n",
       "      <td>478.320042</td>\n",
       "      <td>58.970310</td>\n",
       "      <td>12.334373</td>\n",
       "      <td>6.021474</td>\n",
       "      <td>1105.315068</td>\n",
       "      <td>-376.610690</td>\n",
       "      <td>...</td>\n",
       "      <td>7.167247</td>\n",
       "      <td>44.076513</td>\n",
       "      <td>5.168470</td>\n",
       "      <td>9.978895</td>\n",
       "      <td>9.501224</td>\n",
       "      <td>67.050208</td>\n",
       "      <td>3.042467</td>\n",
       "      <td>9.688589</td>\n",
       "      <td>2.705795</td>\n",
       "      <td>10.583728</td>\n",
       "    </tr>\n",
       "    <tr>\n",
       "      <th>std</th>\n",
       "      <td>1.955092</td>\n",
       "      <td>1.936847</td>\n",
       "      <td>1.049486</td>\n",
       "      <td>5.145445</td>\n",
       "      <td>105.373758</td>\n",
       "      <td>21.634478</td>\n",
       "      <td>3.427317</td>\n",
       "      <td>1.127263</td>\n",
       "      <td>160.826798</td>\n",
       "      <td>93.909667</td>\n",
       "      <td>...</td>\n",
       "      <td>3.916079</td>\n",
       "      <td>5.129784</td>\n",
       "      <td>1.372348</td>\n",
       "      <td>1.669240</td>\n",
       "      <td>2.787537</td>\n",
       "      <td>10.125840</td>\n",
       "      <td>0.922808</td>\n",
       "      <td>2.328642</td>\n",
       "      <td>0.949077</td>\n",
       "      <td>2.868782</td>\n",
       "    </tr>\n",
       "    <tr>\n",
       "      <th>min</th>\n",
       "      <td>0.010000</td>\n",
       "      <td>0.010000</td>\n",
       "      <td>0.010000</td>\n",
       "      <td>0.010000</td>\n",
       "      <td>0.002986</td>\n",
       "      <td>0.046369</td>\n",
       "      <td>0.001083</td>\n",
       "      <td>0.000568</td>\n",
       "      <td>-0.042069</td>\n",
       "      <td>-657.949759</td>\n",
       "      <td>...</td>\n",
       "      <td>0.000000</td>\n",
       "      <td>0.000000</td>\n",
       "      <td>0.000000</td>\n",
       "      <td>0.000000</td>\n",
       "      <td>0.000000</td>\n",
       "      <td>0.000000</td>\n",
       "      <td>0.000000</td>\n",
       "      <td>0.000000</td>\n",
       "      <td>0.000000</td>\n",
       "      <td>0.000000</td>\n",
       "    </tr>\n",
       "    <tr>\n",
       "      <th>25%</th>\n",
       "      <td>6.854384</td>\n",
       "      <td>7.237967</td>\n",
       "      <td>2.887280</td>\n",
       "      <td>34.207799</td>\n",
       "      <td>416.525453</td>\n",
       "      <td>47.435103</td>\n",
       "      <td>10.000362</td>\n",
       "      <td>5.398678</td>\n",
       "      <td>999.661867</td>\n",
       "      <td>-499.835165</td>\n",
       "      <td>...</td>\n",
       "      <td>3.845475</td>\n",
       "      <td>43.402215</td>\n",
       "      <td>4.251240</td>\n",
       "      <td>9.137262</td>\n",
       "      <td>7.722820</td>\n",
       "      <td>63.299712</td>\n",
       "      <td>2.461138</td>\n",
       "      <td>8.062878</td>\n",
       "      <td>2.040119</td>\n",
       "      <td>8.938947</td>\n",
       "    </tr>\n",
       "    <tr>\n",
       "      <th>50%</th>\n",
       "      <td>8.125839</td>\n",
       "      <td>8.593574</td>\n",
       "      <td>3.534895</td>\n",
       "      <td>37.202650</td>\n",
       "      <td>499.416120</td>\n",
       "      <td>54.610197</td>\n",
       "      <td>12.001174</td>\n",
       "      <td>6.008273</td>\n",
       "      <td>1001.072890</td>\n",
       "      <td>-300.263994</td>\n",
       "      <td>...</td>\n",
       "      <td>7.685827</td>\n",
       "      <td>45.011244</td>\n",
       "      <td>5.066094</td>\n",
       "      <td>10.102433</td>\n",
       "      <td>9.218961</td>\n",
       "      <td>68.172738</td>\n",
       "      <td>2.984909</td>\n",
       "      <td>9.743623</td>\n",
       "      <td>2.748730</td>\n",
       "      <td>10.622456</td>\n",
       "    </tr>\n",
       "    <tr>\n",
       "      <th>75%</th>\n",
       "      <td>9.769917</td>\n",
       "      <td>10.213771</td>\n",
       "      <td>4.244161</td>\n",
       "      <td>40.039133</td>\n",
       "      <td>550.172183</td>\n",
       "      <td>65.023044</td>\n",
       "      <td>14.716595</td>\n",
       "      <td>6.798051</td>\n",
       "      <td>1205.620588</td>\n",
       "      <td>-299.981998</td>\n",
       "      <td>...</td>\n",
       "      <td>10.411296</td>\n",
       "      <td>46.275313</td>\n",
       "      <td>5.895527</td>\n",
       "      <td>11.035769</td>\n",
       "      <td>10.947813</td>\n",
       "      <td>72.686642</td>\n",
       "      <td>3.571351</td>\n",
       "      <td>11.134294</td>\n",
       "      <td>3.333216</td>\n",
       "      <td>12.104271</td>\n",
       "    </tr>\n",
       "    <tr>\n",
       "      <th>max</th>\n",
       "      <td>13.731330</td>\n",
       "      <td>14.596026</td>\n",
       "      <td>7.142594</td>\n",
       "      <td>53.477742</td>\n",
       "      <td>717.508837</td>\n",
       "      <td>484.967466</td>\n",
       "      <td>36.118275</td>\n",
       "      <td>9.703448</td>\n",
       "      <td>1521.980372</td>\n",
       "      <td>-273.776101</td>\n",
       "      <td>...</td>\n",
       "      <td>26.000772</td>\n",
       "      <td>52.756638</td>\n",
       "      <td>16.001945</td>\n",
       "      <td>17.031899</td>\n",
       "      <td>19.615720</td>\n",
       "      <td>100.000000</td>\n",
       "      <td>8.245022</td>\n",
       "      <td>19.552149</td>\n",
       "      <td>5.804178</td>\n",
       "      <td>22.317730</td>\n",
       "    </tr>\n",
       "  </tbody>\n",
       "</table>\n",
       "<p>8 rows × 86 columns</p>\n",
       "</div>"
      ],
      "text/plain": [
       "       rougher.input.feed_au  rougher.input.feed_ag  rougher.input.feed_pb  \\\n",
       "count           19439.000000           19439.000000           19339.000000   \n",
       "mean                8.266097               8.794927               3.598085   \n",
       "std                 1.955092               1.936847               1.049486   \n",
       "min                 0.010000               0.010000               0.010000   \n",
       "25%                 6.854384               7.237967               2.887280   \n",
       "50%                 8.125839               8.593574               3.534895   \n",
       "75%                 9.769917              10.213771               4.244161   \n",
       "max                13.731330              14.596026               7.142594   \n",
       "\n",
       "       rougher.input.feed_sol  rougher.input.feed_rate  \\\n",
       "count            19340.000000             19428.000000   \n",
       "mean                36.695114               478.320042   \n",
       "std                  5.145445               105.373758   \n",
       "min                  0.010000                 0.002986   \n",
       "25%                 34.207799               416.525453   \n",
       "50%                 37.202650               499.416120   \n",
       "75%                 40.039133               550.172183   \n",
       "max                 53.477742               717.508837   \n",
       "\n",
       "       rougher.input.feed_size  rougher.input.floatbank10_sulfate  \\\n",
       "count             19294.000000                       19405.000000   \n",
       "mean                 58.970310                          12.334373   \n",
       "std                  21.634478                           3.427317   \n",
       "min                   0.046369                           0.001083   \n",
       "25%                  47.435103                          10.000362   \n",
       "50%                  54.610197                          12.001174   \n",
       "75%                  65.023044                          14.716595   \n",
       "max                 484.967466                          36.118275   \n",
       "\n",
       "       rougher.input.floatbank10_xanthate  rougher.state.floatbank10_a_air  \\\n",
       "count                        19431.000000                     19438.000000   \n",
       "mean                             6.021474                      1105.315068   \n",
       "std                              1.127263                       160.826798   \n",
       "min                              0.000568                        -0.042069   \n",
       "25%                              5.398678                       999.661867   \n",
       "50%                              6.008273                      1001.072890   \n",
       "75%                              6.798051                      1205.620588   \n",
       "max                              9.703448                      1521.980372   \n",
       "\n",
       "       rougher.state.floatbank10_a_level  ...  \\\n",
       "count                       19438.000000  ...   \n",
       "mean                         -376.610690  ...   \n",
       "std                            93.909667  ...   \n",
       "min                          -657.949759  ...   \n",
       "25%                          -499.835165  ...   \n",
       "50%                          -300.263994  ...   \n",
       "75%                          -299.981998  ...   \n",
       "max                          -273.776101  ...   \n",
       "\n",
       "       secondary_cleaner.output.tail_sol  final.output.concentrate_au  \\\n",
       "count                       17691.000000                 19439.000000   \n",
       "mean                            7.167247                    44.076513   \n",
       "std                             3.916079                     5.129784   \n",
       "min                             0.000000                     0.000000   \n",
       "25%                             3.845475                    43.402215   \n",
       "50%                             7.685827                    45.011244   \n",
       "75%                            10.411296                    46.275313   \n",
       "max                            26.000772                    52.756638   \n",
       "\n",
       "       final.output.concentrate_ag  final.output.concentrate_pb  \\\n",
       "count                 19438.000000                 19438.000000   \n",
       "mean                      5.168470                     9.978895   \n",
       "std                       1.372348                     1.669240   \n",
       "min                       0.000000                     0.000000   \n",
       "25%                       4.251240                     9.137262   \n",
       "50%                       5.066094                    10.102433   \n",
       "75%                       5.895527                    11.035769   \n",
       "max                      16.001945                    17.031899   \n",
       "\n",
       "       final.output.concentrate_sol  final.output.recovery  \\\n",
       "count                  19228.000000           19439.000000   \n",
       "mean                       9.501224              67.050208   \n",
       "std                        2.787537              10.125840   \n",
       "min                        0.000000               0.000000   \n",
       "25%                        7.722820              63.299712   \n",
       "50%                        9.218961              68.172738   \n",
       "75%                       10.947813              72.686642   \n",
       "max                       19.615720             100.000000   \n",
       "\n",
       "       final.output.tail_au  final.output.tail_ag  final.output.tail_pb  \\\n",
       "count          19439.000000          19438.000000          19338.000000   \n",
       "mean               3.042467              9.688589              2.705795   \n",
       "std                0.922808              2.328642              0.949077   \n",
       "min                0.000000              0.000000              0.000000   \n",
       "25%                2.461138              8.062878              2.040119   \n",
       "50%                2.984909              9.743623              2.748730   \n",
       "75%                3.571351             11.134294              3.333216   \n",
       "max                8.245022             19.552149              5.804178   \n",
       "\n",
       "       final.output.tail_sol  \n",
       "count           19433.000000  \n",
       "mean               10.583728  \n",
       "std                 2.868782  \n",
       "min                 0.000000  \n",
       "25%                 8.938947  \n",
       "50%                10.622456  \n",
       "75%                12.104271  \n",
       "max                22.317730  \n",
       "\n",
       "[8 rows x 86 columns]"
      ]
     },
     "metadata": {},
     "output_type": "display_data"
    },
    {
     "name": "stdout",
     "output_type": "stream",
     "text": [
      "Полные дубликаты: 0\n"
     ]
    },
    {
     "data": {
      "text/plain": [
       "date                                                     0\n",
       "rougher.input.feed_au                                    0\n",
       "rougher.input.feed_ag                                    0\n",
       "rougher.input.feed_pb                                  100\n",
       "rougher.input.feed_sol                                  99\n",
       "rougher.input.feed_rate                                 11\n",
       "rougher.input.feed_size                                145\n",
       "rougher.input.floatbank10_sulfate                       34\n",
       "rougher.input.floatbank10_xanthate                       8\n",
       "rougher.state.floatbank10_a_air                          1\n",
       "rougher.state.floatbank10_a_level                        1\n",
       "rougher.state.floatbank10_b_air                          1\n",
       "rougher.state.floatbank10_b_level                        1\n",
       "rougher.state.floatbank10_c_air                          1\n",
       "rougher.state.floatbank10_c_level                        1\n",
       "rougher.state.floatbank10_d_air                          0\n",
       "rougher.state.floatbank10_d_level                        0\n",
       "rougher.state.floatbank10_e_air                        436\n",
       "rougher.state.floatbank10_e_level                        0\n",
       "rougher.state.floatbank10_f_air                          0\n",
       "rougher.state.floatbank10_f_level                        0\n",
       "rougher.input.floatbank11_sulfate                       44\n",
       "rougher.input.floatbank11_xanthate                     453\n",
       "rougher.calculation.sulfate_to_au_concentrate            2\n",
       "rougher.calculation.floatbank10_sulfate_to_au_feed       2\n",
       "rougher.calculation.floatbank11_sulfate_to_au_feed       2\n",
       "rougher.calculation.au_pb_ratio                          0\n",
       "rougher.output.concentrate_au                            0\n",
       "rougher.output.concentrate_ag                            0\n",
       "rougher.output.concentrate_pb                            0\n",
       "rougher.output.concentrate_sol                          23\n",
       "rougher.output.recovery                                  0\n",
       "rougher.output.tail_au                                   0\n",
       "rougher.output.tail_ag                                   1\n",
       "rougher.output.tail_pb                                   0\n",
       "rougher.output.tail_sol                                  0\n",
       "primary_cleaner.input.sulfate                           24\n",
       "primary_cleaner.input.depressant                        37\n",
       "primary_cleaner.input.feed_size                          0\n",
       "primary_cleaner.input.xanthate                         104\n",
       "primary_cleaner.state.floatbank8_a_air                   4\n",
       "primary_cleaner.state.floatbank8_a_level                 1\n",
       "primary_cleaner.state.floatbank8_b_air                   4\n",
       "primary_cleaner.state.floatbank8_b_level                 1\n",
       "primary_cleaner.state.floatbank8_c_air                   2\n",
       "primary_cleaner.state.floatbank8_c_level                 1\n",
       "primary_cleaner.state.floatbank8_d_air                   3\n",
       "primary_cleaner.state.floatbank8_d_level                 1\n",
       "primary_cleaner.output.concentrate_au                    0\n",
       "primary_cleaner.output.concentrate_ag                    0\n",
       "primary_cleaner.output.concentrate_pb                  116\n",
       "primary_cleaner.output.concentrate_sol                 370\n",
       "primary_cleaner.output.tail_au                           0\n",
       "primary_cleaner.output.tail_ag                           4\n",
       "primary_cleaner.output.tail_pb                          21\n",
       "primary_cleaner.output.tail_sol                         62\n",
       "secondary_cleaner.state.floatbank2_a_air               220\n",
       "secondary_cleaner.state.floatbank2_a_level               1\n",
       "secondary_cleaner.state.floatbank2_b_air                23\n",
       "secondary_cleaner.state.floatbank2_b_level               1\n",
       "secondary_cleaner.state.floatbank3_a_air                13\n",
       "secondary_cleaner.state.floatbank3_a_level               1\n",
       "secondary_cleaner.state.floatbank3_b_air                 1\n",
       "secondary_cleaner.state.floatbank3_b_level               1\n",
       "secondary_cleaner.state.floatbank4_a_air                 6\n",
       "secondary_cleaner.state.floatbank4_a_level               1\n",
       "secondary_cleaner.state.floatbank4_b_air                 1\n",
       "secondary_cleaner.state.floatbank4_b_level               1\n",
       "secondary_cleaner.state.floatbank5_a_air                 1\n",
       "secondary_cleaner.state.floatbank5_a_level               1\n",
       "secondary_cleaner.state.floatbank5_b_air                 1\n",
       "secondary_cleaner.state.floatbank5_b_level               1\n",
       "secondary_cleaner.state.floatbank6_a_air                 2\n",
       "secondary_cleaner.state.floatbank6_a_level               1\n",
       "secondary_cleaner.output.tail_au                         0\n",
       "secondary_cleaner.output.tail_ag                         2\n",
       "secondary_cleaner.output.tail_pb                        12\n",
       "secondary_cleaner.output.tail_sol                     1748\n",
       "final.output.concentrate_au                              0\n",
       "final.output.concentrate_ag                              1\n",
       "final.output.concentrate_pb                              1\n",
       "final.output.concentrate_sol                           211\n",
       "final.output.recovery                                    0\n",
       "final.output.tail_au                                     0\n",
       "final.output.tail_ag                                     1\n",
       "final.output.tail_pb                                   101\n",
       "final.output.tail_sol                                    6\n",
       "dtype: int64"
      ]
     },
     "metadata": {},
     "output_type": "display_data"
    }
   ],
   "source": [
    "data_info(data_full, name='полного набора данных')"
   ]
  },
  {
   "cell_type": "code",
   "execution_count": 8,
   "metadata": {},
   "outputs": [
    {
     "name": "stdout",
     "output_type": "stream",
     "text": [
      "Информация для тренировочного набора данных\n",
      "------------------------------------------------\n",
      "<class 'pandas.core.frame.DataFrame'>\n",
      "RangeIndex: 14579 entries, 0 to 14578\n",
      "Data columns (total 87 columns):\n",
      " #   Column                                              Non-Null Count  Dtype  \n",
      "---  ------                                              --------------  -----  \n",
      " 0   date                                                14579 non-null  object \n",
      " 1   rougher.input.feed_au                               14579 non-null  float64\n",
      " 2   rougher.input.feed_ag                               14579 non-null  float64\n",
      " 3   rougher.input.feed_pb                               14507 non-null  float64\n",
      " 4   rougher.input.feed_sol                              14502 non-null  float64\n",
      " 5   rougher.input.feed_rate                             14572 non-null  float64\n",
      " 6   rougher.input.feed_size                             14478 non-null  float64\n",
      " 7   rougher.input.floatbank10_sulfate                   14548 non-null  float64\n",
      " 8   rougher.input.floatbank10_xanthate                  14572 non-null  float64\n",
      " 9   rougher.state.floatbank10_a_air                     14579 non-null  float64\n",
      " 10  rougher.state.floatbank10_a_level                   14579 non-null  float64\n",
      " 11  rougher.state.floatbank10_b_air                     14579 non-null  float64\n",
      " 12  rougher.state.floatbank10_b_level                   14579 non-null  float64\n",
      " 13  rougher.state.floatbank10_c_air                     14579 non-null  float64\n",
      " 14  rougher.state.floatbank10_c_level                   14579 non-null  float64\n",
      " 15  rougher.state.floatbank10_d_air                     14579 non-null  float64\n",
      " 16  rougher.state.floatbank10_d_level                   14579 non-null  float64\n",
      " 17  rougher.state.floatbank10_e_air                     14150 non-null  float64\n",
      " 18  rougher.state.floatbank10_e_level                   14579 non-null  float64\n",
      " 19  rougher.state.floatbank10_f_air                     14579 non-null  float64\n",
      " 20  rougher.state.floatbank10_f_level                   14579 non-null  float64\n",
      " 21  rougher.input.floatbank11_sulfate                   14543 non-null  float64\n",
      " 22  rougher.input.floatbank11_xanthate                  14172 non-null  float64\n",
      " 23  rougher.calculation.sulfate_to_au_concentrate       14578 non-null  float64\n",
      " 24  rougher.calculation.floatbank10_sulfate_to_au_feed  14578 non-null  float64\n",
      " 25  rougher.calculation.floatbank11_sulfate_to_au_feed  14578 non-null  float64\n",
      " 26  rougher.calculation.au_pb_ratio                     14579 non-null  float64\n",
      " 27  rougher.output.concentrate_au                       14579 non-null  float64\n",
      " 28  rougher.output.concentrate_ag                       14579 non-null  float64\n",
      " 29  rougher.output.concentrate_pb                       14579 non-null  float64\n",
      " 30  rougher.output.concentrate_sol                      14561 non-null  float64\n",
      " 31  rougher.output.recovery                             14579 non-null  float64\n",
      " 32  rougher.output.tail_au                              14579 non-null  float64\n",
      " 33  rougher.output.tail_ag                              14578 non-null  float64\n",
      " 34  rougher.output.tail_pb                              14579 non-null  float64\n",
      " 35  rougher.output.tail_sol                             14579 non-null  float64\n",
      " 36  primary_cleaner.input.sulfate                       14556 non-null  float64\n",
      " 37  primary_cleaner.input.depressant                    14551 non-null  float64\n",
      " 38  primary_cleaner.input.feed_size                     14579 non-null  float64\n",
      " 39  primary_cleaner.input.xanthate                      14518 non-null  float64\n",
      " 40  primary_cleaner.state.floatbank8_a_air              14576 non-null  float64\n",
      " 41  primary_cleaner.state.floatbank8_a_level            14579 non-null  float64\n",
      " 42  primary_cleaner.state.floatbank8_b_air              14576 non-null  float64\n",
      " 43  primary_cleaner.state.floatbank8_b_level            14579 non-null  float64\n",
      " 44  primary_cleaner.state.floatbank8_c_air              14579 non-null  float64\n",
      " 45  primary_cleaner.state.floatbank8_c_level            14579 non-null  float64\n",
      " 46  primary_cleaner.state.floatbank8_d_air              14578 non-null  float64\n",
      " 47  primary_cleaner.state.floatbank8_d_level            14579 non-null  float64\n",
      " 48  primary_cleaner.output.concentrate_au               14579 non-null  float64\n",
      " 49  primary_cleaner.output.concentrate_ag               14579 non-null  float64\n",
      " 50  primary_cleaner.output.concentrate_pb               14491 non-null  float64\n",
      " 51  primary_cleaner.output.concentrate_sol              14314 non-null  float64\n",
      " 52  primary_cleaner.output.tail_au                      14579 non-null  float64\n",
      " 53  primary_cleaner.output.tail_ag                      14575 non-null  float64\n",
      " 54  primary_cleaner.output.tail_pb                      14573 non-null  float64\n",
      " 55  primary_cleaner.output.tail_sol                     14534 non-null  float64\n",
      " 56  secondary_cleaner.state.floatbank2_a_air            14485 non-null  float64\n",
      " 57  secondary_cleaner.state.floatbank2_a_level          14579 non-null  float64\n",
      " 58  secondary_cleaner.state.floatbank2_b_air            14557 non-null  float64\n",
      " 59  secondary_cleaner.state.floatbank2_b_level          14579 non-null  float64\n",
      " 60  secondary_cleaner.state.floatbank3_a_air            14567 non-null  float64\n",
      " 61  secondary_cleaner.state.floatbank3_a_level          14579 non-null  float64\n",
      " 62  secondary_cleaner.state.floatbank3_b_air            14579 non-null  float64\n",
      " 63  secondary_cleaner.state.floatbank3_b_level          14579 non-null  float64\n",
      " 64  secondary_cleaner.state.floatbank4_a_air            14574 non-null  float64\n",
      " 65  secondary_cleaner.state.floatbank4_a_level          14579 non-null  float64\n",
      " 66  secondary_cleaner.state.floatbank4_b_air            14579 non-null  float64\n",
      " 67  secondary_cleaner.state.floatbank4_b_level          14579 non-null  float64\n",
      " 68  secondary_cleaner.state.floatbank5_a_air            14579 non-null  float64\n",
      " 69  secondary_cleaner.state.floatbank5_a_level          14579 non-null  float64\n",
      " 70  secondary_cleaner.state.floatbank5_b_air            14579 non-null  float64\n",
      " 71  secondary_cleaner.state.floatbank5_b_level          14579 non-null  float64\n",
      " 72  secondary_cleaner.state.floatbank6_a_air            14578 non-null  float64\n",
      " 73  secondary_cleaner.state.floatbank6_a_level          14579 non-null  float64\n",
      " 74  secondary_cleaner.output.tail_au                    14579 non-null  float64\n",
      " 75  secondary_cleaner.output.tail_ag                    14578 non-null  float64\n",
      " 76  secondary_cleaner.output.tail_pb                    14575 non-null  float64\n",
      " 77  secondary_cleaner.output.tail_sol                   13659 non-null  float64\n",
      " 78  final.output.concentrate_au                         14579 non-null  float64\n",
      " 79  final.output.concentrate_ag                         14578 non-null  float64\n",
      " 80  final.output.concentrate_pb                         14578 non-null  float64\n",
      " 81  final.output.concentrate_sol                        14387 non-null  float64\n",
      " 82  final.output.recovery                               14579 non-null  float64\n",
      " 83  final.output.tail_au                                14579 non-null  float64\n",
      " 84  final.output.tail_ag                                14578 non-null  float64\n",
      " 85  final.output.tail_pb                                14504 non-null  float64\n",
      " 86  final.output.tail_sol                               14574 non-null  float64\n",
      "dtypes: float64(86), object(1)\n",
      "memory usage: 9.7+ MB\n"
     ]
    },
    {
     "data": {
      "text/html": [
       "<div>\n",
       "<style scoped>\n",
       "    .dataframe tbody tr th:only-of-type {\n",
       "        vertical-align: middle;\n",
       "    }\n",
       "\n",
       "    .dataframe tbody tr th {\n",
       "        vertical-align: top;\n",
       "    }\n",
       "\n",
       "    .dataframe thead th {\n",
       "        text-align: right;\n",
       "    }\n",
       "</style>\n",
       "<table border=\"1\" class=\"dataframe\">\n",
       "  <thead>\n",
       "    <tr style=\"text-align: right;\">\n",
       "      <th></th>\n",
       "      <th>rougher.input.feed_au</th>\n",
       "      <th>rougher.input.feed_ag</th>\n",
       "      <th>rougher.input.feed_pb</th>\n",
       "      <th>rougher.input.feed_sol</th>\n",
       "      <th>rougher.input.feed_rate</th>\n",
       "      <th>rougher.input.feed_size</th>\n",
       "      <th>rougher.input.floatbank10_sulfate</th>\n",
       "      <th>rougher.input.floatbank10_xanthate</th>\n",
       "      <th>rougher.state.floatbank10_a_air</th>\n",
       "      <th>rougher.state.floatbank10_a_level</th>\n",
       "      <th>...</th>\n",
       "      <th>secondary_cleaner.output.tail_sol</th>\n",
       "      <th>final.output.concentrate_au</th>\n",
       "      <th>final.output.concentrate_ag</th>\n",
       "      <th>final.output.concentrate_pb</th>\n",
       "      <th>final.output.concentrate_sol</th>\n",
       "      <th>final.output.recovery</th>\n",
       "      <th>final.output.tail_au</th>\n",
       "      <th>final.output.tail_ag</th>\n",
       "      <th>final.output.tail_pb</th>\n",
       "      <th>final.output.tail_sol</th>\n",
       "    </tr>\n",
       "  </thead>\n",
       "  <tbody>\n",
       "    <tr>\n",
       "      <th>count</th>\n",
       "      <td>14579.000000</td>\n",
       "      <td>14579.000000</td>\n",
       "      <td>14507.000000</td>\n",
       "      <td>14502.000000</td>\n",
       "      <td>14572.000000</td>\n",
       "      <td>14478.000000</td>\n",
       "      <td>14548.000000</td>\n",
       "      <td>14572.000000</td>\n",
       "      <td>14579.000000</td>\n",
       "      <td>14579.000000</td>\n",
       "      <td>...</td>\n",
       "      <td>13659.000000</td>\n",
       "      <td>14579.000000</td>\n",
       "      <td>14578.000000</td>\n",
       "      <td>14578.000000</td>\n",
       "      <td>14387.000000</td>\n",
       "      <td>14579.000000</td>\n",
       "      <td>14579.000000</td>\n",
       "      <td>14578.000000</td>\n",
       "      <td>14504.000000</td>\n",
       "      <td>14574.000000</td>\n",
       "    </tr>\n",
       "    <tr>\n",
       "      <th>mean</th>\n",
       "      <td>8.352941</td>\n",
       "      <td>8.877460</td>\n",
       "      <td>3.604221</td>\n",
       "      <td>36.561420</td>\n",
       "      <td>474.332784</td>\n",
       "      <td>58.922712</td>\n",
       "      <td>12.427399</td>\n",
       "      <td>5.994854</td>\n",
       "      <td>1104.208278</td>\n",
       "      <td>-379.367166</td>\n",
       "      <td>...</td>\n",
       "      <td>7.111347</td>\n",
       "      <td>43.979499</td>\n",
       "      <td>5.192145</td>\n",
       "      <td>9.923809</td>\n",
       "      <td>9.566676</td>\n",
       "      <td>66.759066</td>\n",
       "      <td>3.087939</td>\n",
       "      <td>9.731972</td>\n",
       "      <td>2.719985</td>\n",
       "      <td>10.612745</td>\n",
       "    </tr>\n",
       "    <tr>\n",
       "      <th>std</th>\n",
       "      <td>1.934376</td>\n",
       "      <td>1.922536</td>\n",
       "      <td>1.056063</td>\n",
       "      <td>5.209823</td>\n",
       "      <td>108.503552</td>\n",
       "      <td>22.407410</td>\n",
       "      <td>3.428939</td>\n",
       "      <td>1.152873</td>\n",
       "      <td>162.235606</td>\n",
       "      <td>94.652311</td>\n",
       "      <td>...</td>\n",
       "      <td>3.909951</td>\n",
       "      <td>5.471437</td>\n",
       "      <td>1.388014</td>\n",
       "      <td>1.706976</td>\n",
       "      <td>2.805654</td>\n",
       "      <td>10.619709</td>\n",
       "      <td>0.915187</td>\n",
       "      <td>2.358143</td>\n",
       "      <td>0.958929</td>\n",
       "      <td>2.871075</td>\n",
       "    </tr>\n",
       "    <tr>\n",
       "      <th>min</th>\n",
       "      <td>0.010000</td>\n",
       "      <td>0.010000</td>\n",
       "      <td>0.010000</td>\n",
       "      <td>0.010000</td>\n",
       "      <td>0.002986</td>\n",
       "      <td>0.049194</td>\n",
       "      <td>0.001083</td>\n",
       "      <td>0.000568</td>\n",
       "      <td>-0.042069</td>\n",
       "      <td>-657.949759</td>\n",
       "      <td>...</td>\n",
       "      <td>0.000000</td>\n",
       "      <td>0.000000</td>\n",
       "      <td>0.000000</td>\n",
       "      <td>0.000000</td>\n",
       "      <td>0.000000</td>\n",
       "      <td>0.000000</td>\n",
       "      <td>0.000000</td>\n",
       "      <td>0.000000</td>\n",
       "      <td>0.000000</td>\n",
       "      <td>0.000000</td>\n",
       "    </tr>\n",
       "    <tr>\n",
       "      <th>25%</th>\n",
       "      <td>6.932996</td>\n",
       "      <td>7.341922</td>\n",
       "      <td>2.880490</td>\n",
       "      <td>34.093951</td>\n",
       "      <td>411.048483</td>\n",
       "      <td>47.278490</td>\n",
       "      <td>10.002832</td>\n",
       "      <td>5.304167</td>\n",
       "      <td>999.644856</td>\n",
       "      <td>-499.861797</td>\n",
       "      <td>...</td>\n",
       "      <td>3.784897</td>\n",
       "      <td>43.345906</td>\n",
       "      <td>4.283347</td>\n",
       "      <td>9.103183</td>\n",
       "      <td>7.860030</td>\n",
       "      <td>63.114596</td>\n",
       "      <td>2.505287</td>\n",
       "      <td>8.088928</td>\n",
       "      <td>2.036512</td>\n",
       "      <td>9.013412</td>\n",
       "    </tr>\n",
       "    <tr>\n",
       "      <th>50%</th>\n",
       "      <td>8.225284</td>\n",
       "      <td>8.715859</td>\n",
       "      <td>3.532399</td>\n",
       "      <td>37.097511</td>\n",
       "      <td>498.187968</td>\n",
       "      <td>54.361187</td>\n",
       "      <td>12.003320</td>\n",
       "      <td>6.003053</td>\n",
       "      <td>1000.982624</td>\n",
       "      <td>-300.314199</td>\n",
       "      <td>...</td>\n",
       "      <td>7.629968</td>\n",
       "      <td>44.975014</td>\n",
       "      <td>5.118647</td>\n",
       "      <td>10.046455</td>\n",
       "      <td>9.301970</td>\n",
       "      <td>67.962788</td>\n",
       "      <td>3.029238</td>\n",
       "      <td>9.818512</td>\n",
       "      <td>2.774847</td>\n",
       "      <td>10.670515</td>\n",
       "    </tr>\n",
       "    <tr>\n",
       "      <th>75%</th>\n",
       "      <td>9.832210</td>\n",
       "      <td>10.255843</td>\n",
       "      <td>4.257282</td>\n",
       "      <td>39.899799</td>\n",
       "      <td>549.586552</td>\n",
       "      <td>64.464926</td>\n",
       "      <td>14.929903</td>\n",
       "      <td>6.796632</td>\n",
       "      <td>1292.663971</td>\n",
       "      <td>-299.989315</td>\n",
       "      <td>...</td>\n",
       "      <td>10.367050</td>\n",
       "      <td>46.275153</td>\n",
       "      <td>5.925380</td>\n",
       "      <td>10.981203</td>\n",
       "      <td>11.001573</td>\n",
       "      <td>72.598187</td>\n",
       "      <td>3.614098</td>\n",
       "      <td>11.169187</td>\n",
       "      <td>3.353845</td>\n",
       "      <td>12.130827</td>\n",
       "    </tr>\n",
       "    <tr>\n",
       "      <th>max</th>\n",
       "      <td>13.731330</td>\n",
       "      <td>14.596026</td>\n",
       "      <td>7.052325</td>\n",
       "      <td>53.475325</td>\n",
       "      <td>717.508837</td>\n",
       "      <td>484.967466</td>\n",
       "      <td>36.118275</td>\n",
       "      <td>9.703448</td>\n",
       "      <td>1512.299531</td>\n",
       "      <td>-273.776101</td>\n",
       "      <td>...</td>\n",
       "      <td>26.000772</td>\n",
       "      <td>52.756638</td>\n",
       "      <td>16.001945</td>\n",
       "      <td>16.705297</td>\n",
       "      <td>19.423912</td>\n",
       "      <td>100.000000</td>\n",
       "      <td>8.245022</td>\n",
       "      <td>19.552149</td>\n",
       "      <td>5.804178</td>\n",
       "      <td>22.317730</td>\n",
       "    </tr>\n",
       "  </tbody>\n",
       "</table>\n",
       "<p>8 rows × 86 columns</p>\n",
       "</div>"
      ],
      "text/plain": [
       "       rougher.input.feed_au  rougher.input.feed_ag  rougher.input.feed_pb  \\\n",
       "count           14579.000000           14579.000000           14507.000000   \n",
       "mean                8.352941               8.877460               3.604221   \n",
       "std                 1.934376               1.922536               1.056063   \n",
       "min                 0.010000               0.010000               0.010000   \n",
       "25%                 6.932996               7.341922               2.880490   \n",
       "50%                 8.225284               8.715859               3.532399   \n",
       "75%                 9.832210              10.255843               4.257282   \n",
       "max                13.731330              14.596026               7.052325   \n",
       "\n",
       "       rougher.input.feed_sol  rougher.input.feed_rate  \\\n",
       "count            14502.000000             14572.000000   \n",
       "mean                36.561420               474.332784   \n",
       "std                  5.209823               108.503552   \n",
       "min                  0.010000                 0.002986   \n",
       "25%                 34.093951               411.048483   \n",
       "50%                 37.097511               498.187968   \n",
       "75%                 39.899799               549.586552   \n",
       "max                 53.475325               717.508837   \n",
       "\n",
       "       rougher.input.feed_size  rougher.input.floatbank10_sulfate  \\\n",
       "count             14478.000000                       14548.000000   \n",
       "mean                 58.922712                          12.427399   \n",
       "std                  22.407410                           3.428939   \n",
       "min                   0.049194                           0.001083   \n",
       "25%                  47.278490                          10.002832   \n",
       "50%                  54.361187                          12.003320   \n",
       "75%                  64.464926                          14.929903   \n",
       "max                 484.967466                          36.118275   \n",
       "\n",
       "       rougher.input.floatbank10_xanthate  rougher.state.floatbank10_a_air  \\\n",
       "count                        14572.000000                     14579.000000   \n",
       "mean                             5.994854                      1104.208278   \n",
       "std                              1.152873                       162.235606   \n",
       "min                              0.000568                        -0.042069   \n",
       "25%                              5.304167                       999.644856   \n",
       "50%                              6.003053                      1000.982624   \n",
       "75%                              6.796632                      1292.663971   \n",
       "max                              9.703448                      1512.299531   \n",
       "\n",
       "       rougher.state.floatbank10_a_level  ...  \\\n",
       "count                       14579.000000  ...   \n",
       "mean                         -379.367166  ...   \n",
       "std                            94.652311  ...   \n",
       "min                          -657.949759  ...   \n",
       "25%                          -499.861797  ...   \n",
       "50%                          -300.314199  ...   \n",
       "75%                          -299.989315  ...   \n",
       "max                          -273.776101  ...   \n",
       "\n",
       "       secondary_cleaner.output.tail_sol  final.output.concentrate_au  \\\n",
       "count                       13659.000000                 14579.000000   \n",
       "mean                            7.111347                    43.979499   \n",
       "std                             3.909951                     5.471437   \n",
       "min                             0.000000                     0.000000   \n",
       "25%                             3.784897                    43.345906   \n",
       "50%                             7.629968                    44.975014   \n",
       "75%                            10.367050                    46.275153   \n",
       "max                            26.000772                    52.756638   \n",
       "\n",
       "       final.output.concentrate_ag  final.output.concentrate_pb  \\\n",
       "count                 14578.000000                 14578.000000   \n",
       "mean                      5.192145                     9.923809   \n",
       "std                       1.388014                     1.706976   \n",
       "min                       0.000000                     0.000000   \n",
       "25%                       4.283347                     9.103183   \n",
       "50%                       5.118647                    10.046455   \n",
       "75%                       5.925380                    10.981203   \n",
       "max                      16.001945                    16.705297   \n",
       "\n",
       "       final.output.concentrate_sol  final.output.recovery  \\\n",
       "count                  14387.000000           14579.000000   \n",
       "mean                       9.566676              66.759066   \n",
       "std                        2.805654              10.619709   \n",
       "min                        0.000000               0.000000   \n",
       "25%                        7.860030              63.114596   \n",
       "50%                        9.301970              67.962788   \n",
       "75%                       11.001573              72.598187   \n",
       "max                       19.423912             100.000000   \n",
       "\n",
       "       final.output.tail_au  final.output.tail_ag  final.output.tail_pb  \\\n",
       "count          14579.000000          14578.000000          14504.000000   \n",
       "mean               3.087939              9.731972              2.719985   \n",
       "std                0.915187              2.358143              0.958929   \n",
       "min                0.000000              0.000000              0.000000   \n",
       "25%                2.505287              8.088928              2.036512   \n",
       "50%                3.029238              9.818512              2.774847   \n",
       "75%                3.614098             11.169187              3.353845   \n",
       "max                8.245022             19.552149              5.804178   \n",
       "\n",
       "       final.output.tail_sol  \n",
       "count           14574.000000  \n",
       "mean               10.612745  \n",
       "std                 2.871075  \n",
       "min                 0.000000  \n",
       "25%                 9.013412  \n",
       "50%                10.670515  \n",
       "75%                12.130827  \n",
       "max                22.317730  \n",
       "\n",
       "[8 rows x 86 columns]"
      ]
     },
     "metadata": {},
     "output_type": "display_data"
    },
    {
     "name": "stdout",
     "output_type": "stream",
     "text": [
      "Полные дубликаты: 0\n"
     ]
    },
    {
     "data": {
      "text/plain": [
       "date                                                    0\n",
       "rougher.input.feed_au                                   0\n",
       "rougher.input.feed_ag                                   0\n",
       "rougher.input.feed_pb                                  72\n",
       "rougher.input.feed_sol                                 77\n",
       "rougher.input.feed_rate                                 7\n",
       "rougher.input.feed_size                               101\n",
       "rougher.input.floatbank10_sulfate                      31\n",
       "rougher.input.floatbank10_xanthate                      7\n",
       "rougher.state.floatbank10_a_air                         0\n",
       "rougher.state.floatbank10_a_level                       0\n",
       "rougher.state.floatbank10_b_air                         0\n",
       "rougher.state.floatbank10_b_level                       0\n",
       "rougher.state.floatbank10_c_air                         0\n",
       "rougher.state.floatbank10_c_level                       0\n",
       "rougher.state.floatbank10_d_air                         0\n",
       "rougher.state.floatbank10_d_level                       0\n",
       "rougher.state.floatbank10_e_air                       429\n",
       "rougher.state.floatbank10_e_level                       0\n",
       "rougher.state.floatbank10_f_air                         0\n",
       "rougher.state.floatbank10_f_level                       0\n",
       "rougher.input.floatbank11_sulfate                      36\n",
       "rougher.input.floatbank11_xanthate                    407\n",
       "rougher.calculation.sulfate_to_au_concentrate           1\n",
       "rougher.calculation.floatbank10_sulfate_to_au_feed      1\n",
       "rougher.calculation.floatbank11_sulfate_to_au_feed      1\n",
       "rougher.calculation.au_pb_ratio                         0\n",
       "rougher.output.concentrate_au                           0\n",
       "rougher.output.concentrate_ag                           0\n",
       "rougher.output.concentrate_pb                           0\n",
       "rougher.output.concentrate_sol                         18\n",
       "rougher.output.recovery                                 0\n",
       "rougher.output.tail_au                                  0\n",
       "rougher.output.tail_ag                                  1\n",
       "rougher.output.tail_pb                                  0\n",
       "rougher.output.tail_sol                                 0\n",
       "primary_cleaner.input.sulfate                          23\n",
       "primary_cleaner.input.depressant                       28\n",
       "primary_cleaner.input.feed_size                         0\n",
       "primary_cleaner.input.xanthate                         61\n",
       "primary_cleaner.state.floatbank8_a_air                  3\n",
       "primary_cleaner.state.floatbank8_a_level                0\n",
       "primary_cleaner.state.floatbank8_b_air                  3\n",
       "primary_cleaner.state.floatbank8_b_level                0\n",
       "primary_cleaner.state.floatbank8_c_air                  0\n",
       "primary_cleaner.state.floatbank8_c_level                0\n",
       "primary_cleaner.state.floatbank8_d_air                  1\n",
       "primary_cleaner.state.floatbank8_d_level                0\n",
       "primary_cleaner.output.concentrate_au                   0\n",
       "primary_cleaner.output.concentrate_ag                   0\n",
       "primary_cleaner.output.concentrate_pb                  88\n",
       "primary_cleaner.output.concentrate_sol                265\n",
       "primary_cleaner.output.tail_au                          0\n",
       "primary_cleaner.output.tail_ag                          4\n",
       "primary_cleaner.output.tail_pb                          6\n",
       "primary_cleaner.output.tail_sol                        45\n",
       "secondary_cleaner.state.floatbank2_a_air               94\n",
       "secondary_cleaner.state.floatbank2_a_level              0\n",
       "secondary_cleaner.state.floatbank2_b_air               22\n",
       "secondary_cleaner.state.floatbank2_b_level              0\n",
       "secondary_cleaner.state.floatbank3_a_air               12\n",
       "secondary_cleaner.state.floatbank3_a_level              0\n",
       "secondary_cleaner.state.floatbank3_b_air                0\n",
       "secondary_cleaner.state.floatbank3_b_level              0\n",
       "secondary_cleaner.state.floatbank4_a_air                5\n",
       "secondary_cleaner.state.floatbank4_a_level              0\n",
       "secondary_cleaner.state.floatbank4_b_air                0\n",
       "secondary_cleaner.state.floatbank4_b_level              0\n",
       "secondary_cleaner.state.floatbank5_a_air                0\n",
       "secondary_cleaner.state.floatbank5_a_level              0\n",
       "secondary_cleaner.state.floatbank5_b_air                0\n",
       "secondary_cleaner.state.floatbank5_b_level              0\n",
       "secondary_cleaner.state.floatbank6_a_air                1\n",
       "secondary_cleaner.state.floatbank6_a_level              0\n",
       "secondary_cleaner.output.tail_au                        0\n",
       "secondary_cleaner.output.tail_ag                        1\n",
       "secondary_cleaner.output.tail_pb                        4\n",
       "secondary_cleaner.output.tail_sol                     920\n",
       "final.output.concentrate_au                             0\n",
       "final.output.concentrate_ag                             1\n",
       "final.output.concentrate_pb                             1\n",
       "final.output.concentrate_sol                          192\n",
       "final.output.recovery                                   0\n",
       "final.output.tail_au                                    0\n",
       "final.output.tail_ag                                    1\n",
       "final.output.tail_pb                                   75\n",
       "final.output.tail_sol                                   5\n",
       "dtype: int64"
      ]
     },
     "metadata": {},
     "output_type": "display_data"
    }
   ],
   "source": [
    "data_info(data_train, name='тренировочного набора данных')"
   ]
  },
  {
   "cell_type": "code",
   "execution_count": 9,
   "metadata": {},
   "outputs": [
    {
     "name": "stdout",
     "output_type": "stream",
     "text": [
      "Информация для тенировочного набора данных\n",
      "------------------------------------------------\n",
      "<class 'pandas.core.frame.DataFrame'>\n",
      "RangeIndex: 4860 entries, 0 to 4859\n",
      "Data columns (total 53 columns):\n",
      " #   Column                                      Non-Null Count  Dtype  \n",
      "---  ------                                      --------------  -----  \n",
      " 0   date                                        4860 non-null   object \n",
      " 1   rougher.input.feed_au                       4860 non-null   float64\n",
      " 2   rougher.input.feed_ag                       4860 non-null   float64\n",
      " 3   rougher.input.feed_pb                       4832 non-null   float64\n",
      " 4   rougher.input.feed_sol                      4838 non-null   float64\n",
      " 5   rougher.input.feed_rate                     4856 non-null   float64\n",
      " 6   rougher.input.feed_size                     4816 non-null   float64\n",
      " 7   rougher.input.floatbank10_sulfate           4857 non-null   float64\n",
      " 8   rougher.input.floatbank10_xanthate          4859 non-null   float64\n",
      " 9   rougher.state.floatbank10_a_air             4859 non-null   float64\n",
      " 10  rougher.state.floatbank10_a_level           4859 non-null   float64\n",
      " 11  rougher.state.floatbank10_b_air             4859 non-null   float64\n",
      " 12  rougher.state.floatbank10_b_level           4859 non-null   float64\n",
      " 13  rougher.state.floatbank10_c_air             4859 non-null   float64\n",
      " 14  rougher.state.floatbank10_c_level           4859 non-null   float64\n",
      " 15  rougher.state.floatbank10_d_air             4860 non-null   float64\n",
      " 16  rougher.state.floatbank10_d_level           4860 non-null   float64\n",
      " 17  rougher.state.floatbank10_e_air             4853 non-null   float64\n",
      " 18  rougher.state.floatbank10_e_level           4860 non-null   float64\n",
      " 19  rougher.state.floatbank10_f_air             4860 non-null   float64\n",
      " 20  rougher.state.floatbank10_f_level           4860 non-null   float64\n",
      " 21  rougher.input.floatbank11_sulfate           4852 non-null   float64\n",
      " 22  rougher.input.floatbank11_xanthate          4814 non-null   float64\n",
      " 23  primary_cleaner.input.sulfate               4859 non-null   float64\n",
      " 24  primary_cleaner.input.depressant            4851 non-null   float64\n",
      " 25  primary_cleaner.input.feed_size             4860 non-null   float64\n",
      " 26  primary_cleaner.input.xanthate              4817 non-null   float64\n",
      " 27  primary_cleaner.state.floatbank8_a_air      4859 non-null   float64\n",
      " 28  primary_cleaner.state.floatbank8_a_level    4859 non-null   float64\n",
      " 29  primary_cleaner.state.floatbank8_b_air      4859 non-null   float64\n",
      " 30  primary_cleaner.state.floatbank8_b_level    4859 non-null   float64\n",
      " 31  primary_cleaner.state.floatbank8_c_air      4858 non-null   float64\n",
      " 32  primary_cleaner.state.floatbank8_c_level    4859 non-null   float64\n",
      " 33  primary_cleaner.state.floatbank8_d_air      4858 non-null   float64\n",
      " 34  primary_cleaner.state.floatbank8_d_level    4859 non-null   float64\n",
      " 35  secondary_cleaner.state.floatbank2_a_air    4734 non-null   float64\n",
      " 36  secondary_cleaner.state.floatbank2_a_level  4859 non-null   float64\n",
      " 37  secondary_cleaner.state.floatbank2_b_air    4859 non-null   float64\n",
      " 38  secondary_cleaner.state.floatbank2_b_level  4859 non-null   float64\n",
      " 39  secondary_cleaner.state.floatbank3_a_air    4859 non-null   float64\n",
      " 40  secondary_cleaner.state.floatbank3_a_level  4859 non-null   float64\n",
      " 41  secondary_cleaner.state.floatbank3_b_air    4859 non-null   float64\n",
      " 42  secondary_cleaner.state.floatbank3_b_level  4859 non-null   float64\n",
      " 43  secondary_cleaner.state.floatbank4_a_air    4859 non-null   float64\n",
      " 44  secondary_cleaner.state.floatbank4_a_level  4859 non-null   float64\n",
      " 45  secondary_cleaner.state.floatbank4_b_air    4859 non-null   float64\n",
      " 46  secondary_cleaner.state.floatbank4_b_level  4859 non-null   float64\n",
      " 47  secondary_cleaner.state.floatbank5_a_air    4859 non-null   float64\n",
      " 48  secondary_cleaner.state.floatbank5_a_level  4859 non-null   float64\n",
      " 49  secondary_cleaner.state.floatbank5_b_air    4859 non-null   float64\n",
      " 50  secondary_cleaner.state.floatbank5_b_level  4859 non-null   float64\n",
      " 51  secondary_cleaner.state.floatbank6_a_air    4859 non-null   float64\n",
      " 52  secondary_cleaner.state.floatbank6_a_level  4859 non-null   float64\n",
      "dtypes: float64(52), object(1)\n",
      "memory usage: 2.0+ MB\n"
     ]
    },
    {
     "data": {
      "text/html": [
       "<div>\n",
       "<style scoped>\n",
       "    .dataframe tbody tr th:only-of-type {\n",
       "        vertical-align: middle;\n",
       "    }\n",
       "\n",
       "    .dataframe tbody tr th {\n",
       "        vertical-align: top;\n",
       "    }\n",
       "\n",
       "    .dataframe thead th {\n",
       "        text-align: right;\n",
       "    }\n",
       "</style>\n",
       "<table border=\"1\" class=\"dataframe\">\n",
       "  <thead>\n",
       "    <tr style=\"text-align: right;\">\n",
       "      <th></th>\n",
       "      <th>rougher.input.feed_au</th>\n",
       "      <th>rougher.input.feed_ag</th>\n",
       "      <th>rougher.input.feed_pb</th>\n",
       "      <th>rougher.input.feed_sol</th>\n",
       "      <th>rougher.input.feed_rate</th>\n",
       "      <th>rougher.input.feed_size</th>\n",
       "      <th>rougher.input.floatbank10_sulfate</th>\n",
       "      <th>rougher.input.floatbank10_xanthate</th>\n",
       "      <th>rougher.state.floatbank10_a_air</th>\n",
       "      <th>rougher.state.floatbank10_a_level</th>\n",
       "      <th>...</th>\n",
       "      <th>secondary_cleaner.state.floatbank4_a_air</th>\n",
       "      <th>secondary_cleaner.state.floatbank4_a_level</th>\n",
       "      <th>secondary_cleaner.state.floatbank4_b_air</th>\n",
       "      <th>secondary_cleaner.state.floatbank4_b_level</th>\n",
       "      <th>secondary_cleaner.state.floatbank5_a_air</th>\n",
       "      <th>secondary_cleaner.state.floatbank5_a_level</th>\n",
       "      <th>secondary_cleaner.state.floatbank5_b_air</th>\n",
       "      <th>secondary_cleaner.state.floatbank5_b_level</th>\n",
       "      <th>secondary_cleaner.state.floatbank6_a_air</th>\n",
       "      <th>secondary_cleaner.state.floatbank6_a_level</th>\n",
       "    </tr>\n",
       "  </thead>\n",
       "  <tbody>\n",
       "    <tr>\n",
       "      <th>count</th>\n",
       "      <td>4860.000000</td>\n",
       "      <td>4860.000000</td>\n",
       "      <td>4832.000000</td>\n",
       "      <td>4838.000000</td>\n",
       "      <td>4856.000000</td>\n",
       "      <td>4816.000000</td>\n",
       "      <td>4857.000000</td>\n",
       "      <td>4859.000000</td>\n",
       "      <td>4859.000000</td>\n",
       "      <td>4859.000000</td>\n",
       "      <td>...</td>\n",
       "      <td>4.859000e+03</td>\n",
       "      <td>4859.000000</td>\n",
       "      <td>4.859000e+03</td>\n",
       "      <td>4859.000000</td>\n",
       "      <td>4859.000000</td>\n",
       "      <td>4859.000000</td>\n",
       "      <td>4859.000000</td>\n",
       "      <td>4859.000000</td>\n",
       "      <td>4859.000000</td>\n",
       "      <td>4859.000000</td>\n",
       "    </tr>\n",
       "    <tr>\n",
       "      <th>mean</th>\n",
       "      <td>8.005584</td>\n",
       "      <td>8.547348</td>\n",
       "      <td>3.579662</td>\n",
       "      <td>37.095864</td>\n",
       "      <td>490.285103</td>\n",
       "      <td>59.113400</td>\n",
       "      <td>12.055735</td>\n",
       "      <td>6.101308</td>\n",
       "      <td>1108.635895</td>\n",
       "      <td>-368.340127</td>\n",
       "      <td>...</td>\n",
       "      <td>1.985770e+01</td>\n",
       "      <td>-488.665140</td>\n",
       "      <td>1.557025e+01</td>\n",
       "      <td>-464.176507</td>\n",
       "      <td>16.594103</td>\n",
       "      <td>-490.815250</td>\n",
       "      <td>12.945971</td>\n",
       "      <td>-489.583564</td>\n",
       "      <td>19.053888</td>\n",
       "      <td>-504.678924</td>\n",
       "    </tr>\n",
       "    <tr>\n",
       "      <th>std</th>\n",
       "      <td>1.993590</td>\n",
       "      <td>1.958601</td>\n",
       "      <td>1.029377</td>\n",
       "      <td>4.926284</td>\n",
       "      <td>94.371623</td>\n",
       "      <td>19.125122</td>\n",
       "      <td>3.407642</td>\n",
       "      <td>1.042754</td>\n",
       "      <td>156.493143</td>\n",
       "      <td>91.155929</td>\n",
       "      <td>...</td>\n",
       "      <td>5.913105e+00</td>\n",
       "      <td>44.392714</td>\n",
       "      <td>4.927361e+00</td>\n",
       "      <td>65.706994</td>\n",
       "      <td>5.724305</td>\n",
       "      <td>32.258443</td>\n",
       "      <td>5.533176</td>\n",
       "      <td>37.084609</td>\n",
       "      <td>5.548996</td>\n",
       "      <td>38.690186</td>\n",
       "    </tr>\n",
       "    <tr>\n",
       "      <th>min</th>\n",
       "      <td>0.010000</td>\n",
       "      <td>0.010000</td>\n",
       "      <td>0.010000</td>\n",
       "      <td>0.010000</td>\n",
       "      <td>0.012786</td>\n",
       "      <td>0.046369</td>\n",
       "      <td>0.018907</td>\n",
       "      <td>0.015783</td>\n",
       "      <td>300.792494</td>\n",
       "      <td>-600.568138</td>\n",
       "      <td>...</td>\n",
       "      <td>1.079872e-16</td>\n",
       "      <td>-799.704969</td>\n",
       "      <td>2.489718e-17</td>\n",
       "      <td>-799.860767</td>\n",
       "      <td>-0.371498</td>\n",
       "      <td>-797.142475</td>\n",
       "      <td>1.358469</td>\n",
       "      <td>-800.006180</td>\n",
       "      <td>0.160386</td>\n",
       "      <td>-809.734800</td>\n",
       "    </tr>\n",
       "    <tr>\n",
       "      <th>25%</th>\n",
       "      <td>6.574363</td>\n",
       "      <td>6.975898</td>\n",
       "      <td>2.903612</td>\n",
       "      <td>34.510841</td>\n",
       "      <td>434.099695</td>\n",
       "      <td>47.596984</td>\n",
       "      <td>9.890429</td>\n",
       "      <td>5.499808</td>\n",
       "      <td>999.715729</td>\n",
       "      <td>-499.731972</td>\n",
       "      <td>...</td>\n",
       "      <td>1.501123e+01</td>\n",
       "      <td>-500.704004</td>\n",
       "      <td>1.202172e+01</td>\n",
       "      <td>-500.196517</td>\n",
       "      <td>11.073822</td>\n",
       "      <td>-500.483564</td>\n",
       "      <td>9.011890</td>\n",
       "      <td>-500.129913</td>\n",
       "      <td>14.963953</td>\n",
       "      <td>-500.668501</td>\n",
       "    </tr>\n",
       "    <tr>\n",
       "      <th>50%</th>\n",
       "      <td>7.812923</td>\n",
       "      <td>8.179714</td>\n",
       "      <td>3.540772</td>\n",
       "      <td>37.499761</td>\n",
       "      <td>502.118742</td>\n",
       "      <td>55.509481</td>\n",
       "      <td>11.997859</td>\n",
       "      <td>6.099805</td>\n",
       "      <td>1001.414798</td>\n",
       "      <td>-300.181367</td>\n",
       "      <td>...</td>\n",
       "      <td>1.996807e+01</td>\n",
       "      <td>-499.892919</td>\n",
       "      <td>1.501240e+01</td>\n",
       "      <td>-499.540776</td>\n",
       "      <td>16.631195</td>\n",
       "      <td>-499.873136</td>\n",
       "      <td>11.999417</td>\n",
       "      <td>-499.955304</td>\n",
       "      <td>19.960006</td>\n",
       "      <td>-500.033769</td>\n",
       "    </tr>\n",
       "    <tr>\n",
       "      <th>75%</th>\n",
       "      <td>9.556589</td>\n",
       "      <td>10.084339</td>\n",
       "      <td>4.199847</td>\n",
       "      <td>40.461315</td>\n",
       "      <td>555.596563</td>\n",
       "      <td>66.661547</td>\n",
       "      <td>14.496072</td>\n",
       "      <td>6.802101</td>\n",
       "      <td>1202.837565</td>\n",
       "      <td>-299.961547</td>\n",
       "      <td>...</td>\n",
       "      <td>2.498900e+01</td>\n",
       "      <td>-498.652030</td>\n",
       "      <td>1.999949e+01</td>\n",
       "      <td>-400.302329</td>\n",
       "      <td>19.983191</td>\n",
       "      <td>-498.852815</td>\n",
       "      <td>15.004198</td>\n",
       "      <td>-499.643776</td>\n",
       "      <td>24.974583</td>\n",
       "      <td>-499.460134</td>\n",
       "    </tr>\n",
       "    <tr>\n",
       "      <th>max</th>\n",
       "      <td>13.417156</td>\n",
       "      <td>14.533698</td>\n",
       "      <td>7.142594</td>\n",
       "      <td>53.477742</td>\n",
       "      <td>702.523396</td>\n",
       "      <td>363.989699</td>\n",
       "      <td>30.010759</td>\n",
       "      <td>9.396928</td>\n",
       "      <td>1521.980372</td>\n",
       "      <td>-281.039299</td>\n",
       "      <td>...</td>\n",
       "      <td>3.008450e+01</td>\n",
       "      <td>-383.373053</td>\n",
       "      <td>2.398898e+01</td>\n",
       "      <td>-114.250832</td>\n",
       "      <td>33.215996</td>\n",
       "      <td>-288.963521</td>\n",
       "      <td>24.177106</td>\n",
       "      <td>-141.934397</td>\n",
       "      <td>32.028529</td>\n",
       "      <td>-104.427459</td>\n",
       "    </tr>\n",
       "  </tbody>\n",
       "</table>\n",
       "<p>8 rows × 52 columns</p>\n",
       "</div>"
      ],
      "text/plain": [
       "       rougher.input.feed_au  rougher.input.feed_ag  rougher.input.feed_pb  \\\n",
       "count            4860.000000            4860.000000            4832.000000   \n",
       "mean                8.005584               8.547348               3.579662   \n",
       "std                 1.993590               1.958601               1.029377   \n",
       "min                 0.010000               0.010000               0.010000   \n",
       "25%                 6.574363               6.975898               2.903612   \n",
       "50%                 7.812923               8.179714               3.540772   \n",
       "75%                 9.556589              10.084339               4.199847   \n",
       "max                13.417156              14.533698               7.142594   \n",
       "\n",
       "       rougher.input.feed_sol  rougher.input.feed_rate  \\\n",
       "count             4838.000000              4856.000000   \n",
       "mean                37.095864               490.285103   \n",
       "std                  4.926284                94.371623   \n",
       "min                  0.010000                 0.012786   \n",
       "25%                 34.510841               434.099695   \n",
       "50%                 37.499761               502.118742   \n",
       "75%                 40.461315               555.596563   \n",
       "max                 53.477742               702.523396   \n",
       "\n",
       "       rougher.input.feed_size  rougher.input.floatbank10_sulfate  \\\n",
       "count              4816.000000                        4857.000000   \n",
       "mean                 59.113400                          12.055735   \n",
       "std                  19.125122                           3.407642   \n",
       "min                   0.046369                           0.018907   \n",
       "25%                  47.596984                           9.890429   \n",
       "50%                  55.509481                          11.997859   \n",
       "75%                  66.661547                          14.496072   \n",
       "max                 363.989699                          30.010759   \n",
       "\n",
       "       rougher.input.floatbank10_xanthate  rougher.state.floatbank10_a_air  \\\n",
       "count                         4859.000000                      4859.000000   \n",
       "mean                             6.101308                      1108.635895   \n",
       "std                              1.042754                       156.493143   \n",
       "min                              0.015783                       300.792494   \n",
       "25%                              5.499808                       999.715729   \n",
       "50%                              6.099805                      1001.414798   \n",
       "75%                              6.802101                      1202.837565   \n",
       "max                              9.396928                      1521.980372   \n",
       "\n",
       "       rougher.state.floatbank10_a_level  ...  \\\n",
       "count                        4859.000000  ...   \n",
       "mean                         -368.340127  ...   \n",
       "std                            91.155929  ...   \n",
       "min                          -600.568138  ...   \n",
       "25%                          -499.731972  ...   \n",
       "50%                          -300.181367  ...   \n",
       "75%                          -299.961547  ...   \n",
       "max                          -281.039299  ...   \n",
       "\n",
       "       secondary_cleaner.state.floatbank4_a_air  \\\n",
       "count                              4.859000e+03   \n",
       "mean                               1.985770e+01   \n",
       "std                                5.913105e+00   \n",
       "min                                1.079872e-16   \n",
       "25%                                1.501123e+01   \n",
       "50%                                1.996807e+01   \n",
       "75%                                2.498900e+01   \n",
       "max                                3.008450e+01   \n",
       "\n",
       "       secondary_cleaner.state.floatbank4_a_level  \\\n",
       "count                                 4859.000000   \n",
       "mean                                  -488.665140   \n",
       "std                                     44.392714   \n",
       "min                                   -799.704969   \n",
       "25%                                   -500.704004   \n",
       "50%                                   -499.892919   \n",
       "75%                                   -498.652030   \n",
       "max                                   -383.373053   \n",
       "\n",
       "       secondary_cleaner.state.floatbank4_b_air  \\\n",
       "count                              4.859000e+03   \n",
       "mean                               1.557025e+01   \n",
       "std                                4.927361e+00   \n",
       "min                                2.489718e-17   \n",
       "25%                                1.202172e+01   \n",
       "50%                                1.501240e+01   \n",
       "75%                                1.999949e+01   \n",
       "max                                2.398898e+01   \n",
       "\n",
       "       secondary_cleaner.state.floatbank4_b_level  \\\n",
       "count                                 4859.000000   \n",
       "mean                                  -464.176507   \n",
       "std                                     65.706994   \n",
       "min                                   -799.860767   \n",
       "25%                                   -500.196517   \n",
       "50%                                   -499.540776   \n",
       "75%                                   -400.302329   \n",
       "max                                   -114.250832   \n",
       "\n",
       "       secondary_cleaner.state.floatbank5_a_air  \\\n",
       "count                               4859.000000   \n",
       "mean                                  16.594103   \n",
       "std                                    5.724305   \n",
       "min                                   -0.371498   \n",
       "25%                                   11.073822   \n",
       "50%                                   16.631195   \n",
       "75%                                   19.983191   \n",
       "max                                   33.215996   \n",
       "\n",
       "       secondary_cleaner.state.floatbank5_a_level  \\\n",
       "count                                 4859.000000   \n",
       "mean                                  -490.815250   \n",
       "std                                     32.258443   \n",
       "min                                   -797.142475   \n",
       "25%                                   -500.483564   \n",
       "50%                                   -499.873136   \n",
       "75%                                   -498.852815   \n",
       "max                                   -288.963521   \n",
       "\n",
       "       secondary_cleaner.state.floatbank5_b_air  \\\n",
       "count                               4859.000000   \n",
       "mean                                  12.945971   \n",
       "std                                    5.533176   \n",
       "min                                    1.358469   \n",
       "25%                                    9.011890   \n",
       "50%                                   11.999417   \n",
       "75%                                   15.004198   \n",
       "max                                   24.177106   \n",
       "\n",
       "       secondary_cleaner.state.floatbank5_b_level  \\\n",
       "count                                 4859.000000   \n",
       "mean                                  -489.583564   \n",
       "std                                     37.084609   \n",
       "min                                   -800.006180   \n",
       "25%                                   -500.129913   \n",
       "50%                                   -499.955304   \n",
       "75%                                   -499.643776   \n",
       "max                                   -141.934397   \n",
       "\n",
       "       secondary_cleaner.state.floatbank6_a_air  \\\n",
       "count                               4859.000000   \n",
       "mean                                  19.053888   \n",
       "std                                    5.548996   \n",
       "min                                    0.160386   \n",
       "25%                                   14.963953   \n",
       "50%                                   19.960006   \n",
       "75%                                   24.974583   \n",
       "max                                   32.028529   \n",
       "\n",
       "       secondary_cleaner.state.floatbank6_a_level  \n",
       "count                                 4859.000000  \n",
       "mean                                  -504.678924  \n",
       "std                                     38.690186  \n",
       "min                                   -809.734800  \n",
       "25%                                   -500.668501  \n",
       "50%                                   -500.033769  \n",
       "75%                                   -499.460134  \n",
       "max                                   -104.427459  \n",
       "\n",
       "[8 rows x 52 columns]"
      ]
     },
     "metadata": {},
     "output_type": "display_data"
    },
    {
     "name": "stdout",
     "output_type": "stream",
     "text": [
      "Полные дубликаты: 0\n"
     ]
    },
    {
     "data": {
      "text/plain": [
       "date                                            0\n",
       "rougher.input.feed_au                           0\n",
       "rougher.input.feed_ag                           0\n",
       "rougher.input.feed_pb                          28\n",
       "rougher.input.feed_sol                         22\n",
       "rougher.input.feed_rate                         4\n",
       "rougher.input.feed_size                        44\n",
       "rougher.input.floatbank10_sulfate               3\n",
       "rougher.input.floatbank10_xanthate              1\n",
       "rougher.state.floatbank10_a_air                 1\n",
       "rougher.state.floatbank10_a_level               1\n",
       "rougher.state.floatbank10_b_air                 1\n",
       "rougher.state.floatbank10_b_level               1\n",
       "rougher.state.floatbank10_c_air                 1\n",
       "rougher.state.floatbank10_c_level               1\n",
       "rougher.state.floatbank10_d_air                 0\n",
       "rougher.state.floatbank10_d_level               0\n",
       "rougher.state.floatbank10_e_air                 7\n",
       "rougher.state.floatbank10_e_level               0\n",
       "rougher.state.floatbank10_f_air                 0\n",
       "rougher.state.floatbank10_f_level               0\n",
       "rougher.input.floatbank11_sulfate               8\n",
       "rougher.input.floatbank11_xanthate             46\n",
       "primary_cleaner.input.sulfate                   1\n",
       "primary_cleaner.input.depressant                9\n",
       "primary_cleaner.input.feed_size                 0\n",
       "primary_cleaner.input.xanthate                 43\n",
       "primary_cleaner.state.floatbank8_a_air          1\n",
       "primary_cleaner.state.floatbank8_a_level        1\n",
       "primary_cleaner.state.floatbank8_b_air          1\n",
       "primary_cleaner.state.floatbank8_b_level        1\n",
       "primary_cleaner.state.floatbank8_c_air          2\n",
       "primary_cleaner.state.floatbank8_c_level        1\n",
       "primary_cleaner.state.floatbank8_d_air          2\n",
       "primary_cleaner.state.floatbank8_d_level        1\n",
       "secondary_cleaner.state.floatbank2_a_air      126\n",
       "secondary_cleaner.state.floatbank2_a_level      1\n",
       "secondary_cleaner.state.floatbank2_b_air        1\n",
       "secondary_cleaner.state.floatbank2_b_level      1\n",
       "secondary_cleaner.state.floatbank3_a_air        1\n",
       "secondary_cleaner.state.floatbank3_a_level      1\n",
       "secondary_cleaner.state.floatbank3_b_air        1\n",
       "secondary_cleaner.state.floatbank3_b_level      1\n",
       "secondary_cleaner.state.floatbank4_a_air        1\n",
       "secondary_cleaner.state.floatbank4_a_level      1\n",
       "secondary_cleaner.state.floatbank4_b_air        1\n",
       "secondary_cleaner.state.floatbank4_b_level      1\n",
       "secondary_cleaner.state.floatbank5_a_air        1\n",
       "secondary_cleaner.state.floatbank5_a_level      1\n",
       "secondary_cleaner.state.floatbank5_b_air        1\n",
       "secondary_cleaner.state.floatbank5_b_level      1\n",
       "secondary_cleaner.state.floatbank6_a_air        1\n",
       "secondary_cleaner.state.floatbank6_a_level      1\n",
       "dtype: int64"
      ]
     },
     "metadata": {},
     "output_type": "display_data"
    }
   ],
   "source": [
    "data_info(data_test, name='тенировочного набора данных')"
   ]
  },
  {
   "cell_type": "code",
   "execution_count": 10,
   "metadata": {},
   "outputs": [
    {
     "name": "stdout",
     "output_type": "stream",
     "text": [
      "Rougher (флотация):\n"
     ]
    },
    {
     "data": {
      "text/html": [
       "<div>\n",
       "<style scoped>\n",
       "    .dataframe tbody tr th:only-of-type {\n",
       "        vertical-align: middle;\n",
       "    }\n",
       "\n",
       "    .dataframe tbody tr th {\n",
       "        vertical-align: top;\n",
       "    }\n",
       "\n",
       "    .dataframe thead th {\n",
       "        text-align: right;\n",
       "    }\n",
       "</style>\n",
       "<table border=\"1\" class=\"dataframe\">\n",
       "  <thead>\n",
       "    <tr style=\"text-align: right;\">\n",
       "      <th></th>\n",
       "      <th>rougher.input.feed_au</th>\n",
       "      <th>rougher.input.feed_ag</th>\n",
       "      <th>rougher.input.feed_pb</th>\n",
       "      <th>rougher.input.feed_sol</th>\n",
       "      <th>rougher.input.feed_rate</th>\n",
       "      <th>rougher.input.feed_size</th>\n",
       "      <th>rougher.input.floatbank10_sulfate</th>\n",
       "      <th>rougher.input.floatbank10_xanthate</th>\n",
       "      <th>rougher.state.floatbank10_a_air</th>\n",
       "      <th>rougher.state.floatbank10_a_level</th>\n",
       "      <th>...</th>\n",
       "      <th>rougher.calculation.au_pb_ratio</th>\n",
       "      <th>rougher.output.concentrate_au</th>\n",
       "      <th>rougher.output.concentrate_ag</th>\n",
       "      <th>rougher.output.concentrate_pb</th>\n",
       "      <th>rougher.output.concentrate_sol</th>\n",
       "      <th>rougher.output.recovery</th>\n",
       "      <th>rougher.output.tail_au</th>\n",
       "      <th>rougher.output.tail_ag</th>\n",
       "      <th>rougher.output.tail_pb</th>\n",
       "      <th>rougher.output.tail_sol</th>\n",
       "    </tr>\n",
       "  </thead>\n",
       "  <tbody>\n",
       "    <tr>\n",
       "      <th>0</th>\n",
       "      <td>6.486150</td>\n",
       "      <td>6.100378</td>\n",
       "      <td>2.284912</td>\n",
       "      <td>36.808594</td>\n",
       "      <td>523.546326</td>\n",
       "      <td>55.486599</td>\n",
       "      <td>11.986616</td>\n",
       "      <td>6.007990</td>\n",
       "      <td>999.706909</td>\n",
       "      <td>-404.066986</td>\n",
       "      <td>...</td>\n",
       "      <td>2.838687</td>\n",
       "      <td>19.793808</td>\n",
       "      <td>11.500771</td>\n",
       "      <td>7.101074</td>\n",
       "      <td>28.029297</td>\n",
       "      <td>87.107763</td>\n",
       "      <td>1.170244</td>\n",
       "      <td>5.008018</td>\n",
       "      <td>0.508728</td>\n",
       "      <td>19.154297</td>\n",
       "    </tr>\n",
       "    <tr>\n",
       "      <th>1</th>\n",
       "      <td>6.478583</td>\n",
       "      <td>6.161113</td>\n",
       "      <td>2.266033</td>\n",
       "      <td>35.753385</td>\n",
       "      <td>525.290581</td>\n",
       "      <td>57.278666</td>\n",
       "      <td>11.971193</td>\n",
       "      <td>6.005766</td>\n",
       "      <td>1000.286398</td>\n",
       "      <td>-400.065196</td>\n",
       "      <td>...</td>\n",
       "      <td>2.858998</td>\n",
       "      <td>20.050975</td>\n",
       "      <td>11.615865</td>\n",
       "      <td>7.278807</td>\n",
       "      <td>28.067063</td>\n",
       "      <td>86.843261</td>\n",
       "      <td>1.184827</td>\n",
       "      <td>4.955378</td>\n",
       "      <td>0.536689</td>\n",
       "      <td>18.965234</td>\n",
       "    </tr>\n",
       "    <tr>\n",
       "      <th>2</th>\n",
       "      <td>6.362222</td>\n",
       "      <td>6.116455</td>\n",
       "      <td>2.159622</td>\n",
       "      <td>35.971630</td>\n",
       "      <td>530.026610</td>\n",
       "      <td>57.510649</td>\n",
       "      <td>11.920603</td>\n",
       "      <td>6.197377</td>\n",
       "      <td>999.719565</td>\n",
       "      <td>-400.074028</td>\n",
       "      <td>...</td>\n",
       "      <td>2.945989</td>\n",
       "      <td>19.737170</td>\n",
       "      <td>11.695753</td>\n",
       "      <td>7.216833</td>\n",
       "      <td>27.454037</td>\n",
       "      <td>86.842308</td>\n",
       "      <td>1.162562</td>\n",
       "      <td>4.843460</td>\n",
       "      <td>0.546416</td>\n",
       "      <td>18.808533</td>\n",
       "    </tr>\n",
       "    <tr>\n",
       "      <th>3</th>\n",
       "      <td>6.118189</td>\n",
       "      <td>6.043309</td>\n",
       "      <td>2.037807</td>\n",
       "      <td>36.862241</td>\n",
       "      <td>542.590390</td>\n",
       "      <td>57.792734</td>\n",
       "      <td>11.630094</td>\n",
       "      <td>6.203177</td>\n",
       "      <td>999.814770</td>\n",
       "      <td>-400.200179</td>\n",
       "      <td>...</td>\n",
       "      <td>3.002340</td>\n",
       "      <td>19.320810</td>\n",
       "      <td>11.915047</td>\n",
       "      <td>7.175616</td>\n",
       "      <td>27.341277</td>\n",
       "      <td>87.226430</td>\n",
       "      <td>1.079755</td>\n",
       "      <td>4.655288</td>\n",
       "      <td>0.542525</td>\n",
       "      <td>19.330200</td>\n",
       "    </tr>\n",
       "    <tr>\n",
       "      <th>4</th>\n",
       "      <td>5.663707</td>\n",
       "      <td>6.060915</td>\n",
       "      <td>1.786875</td>\n",
       "      <td>34.347666</td>\n",
       "      <td>540.531893</td>\n",
       "      <td>56.047189</td>\n",
       "      <td>10.957755</td>\n",
       "      <td>6.198826</td>\n",
       "      <td>999.678690</td>\n",
       "      <td>-399.752729</td>\n",
       "      <td>...</td>\n",
       "      <td>3.169615</td>\n",
       "      <td>19.216101</td>\n",
       "      <td>12.411054</td>\n",
       "      <td>7.240205</td>\n",
       "      <td>27.041023</td>\n",
       "      <td>86.688794</td>\n",
       "      <td>1.012642</td>\n",
       "      <td>4.552800</td>\n",
       "      <td>0.515438</td>\n",
       "      <td>19.267422</td>\n",
       "    </tr>\n",
       "  </tbody>\n",
       "</table>\n",
       "<p>5 rows × 35 columns</p>\n",
       "</div>"
      ],
      "text/plain": [
       "   rougher.input.feed_au  rougher.input.feed_ag  rougher.input.feed_pb  \\\n",
       "0               6.486150               6.100378               2.284912   \n",
       "1               6.478583               6.161113               2.266033   \n",
       "2               6.362222               6.116455               2.159622   \n",
       "3               6.118189               6.043309               2.037807   \n",
       "4               5.663707               6.060915               1.786875   \n",
       "\n",
       "   rougher.input.feed_sol  rougher.input.feed_rate  rougher.input.feed_size  \\\n",
       "0               36.808594               523.546326                55.486599   \n",
       "1               35.753385               525.290581                57.278666   \n",
       "2               35.971630               530.026610                57.510649   \n",
       "3               36.862241               542.590390                57.792734   \n",
       "4               34.347666               540.531893                56.047189   \n",
       "\n",
       "   rougher.input.floatbank10_sulfate  rougher.input.floatbank10_xanthate  \\\n",
       "0                          11.986616                            6.007990   \n",
       "1                          11.971193                            6.005766   \n",
       "2                          11.920603                            6.197377   \n",
       "3                          11.630094                            6.203177   \n",
       "4                          10.957755                            6.198826   \n",
       "\n",
       "   rougher.state.floatbank10_a_air  rougher.state.floatbank10_a_level  ...  \\\n",
       "0                       999.706909                        -404.066986  ...   \n",
       "1                      1000.286398                        -400.065196  ...   \n",
       "2                       999.719565                        -400.074028  ...   \n",
       "3                       999.814770                        -400.200179  ...   \n",
       "4                       999.678690                        -399.752729  ...   \n",
       "\n",
       "   rougher.calculation.au_pb_ratio  rougher.output.concentrate_au  \\\n",
       "0                         2.838687                      19.793808   \n",
       "1                         2.858998                      20.050975   \n",
       "2                         2.945989                      19.737170   \n",
       "3                         3.002340                      19.320810   \n",
       "4                         3.169615                      19.216101   \n",
       "\n",
       "   rougher.output.concentrate_ag  rougher.output.concentrate_pb  \\\n",
       "0                      11.500771                       7.101074   \n",
       "1                      11.615865                       7.278807   \n",
       "2                      11.695753                       7.216833   \n",
       "3                      11.915047                       7.175616   \n",
       "4                      12.411054                       7.240205   \n",
       "\n",
       "   rougher.output.concentrate_sol  rougher.output.recovery  \\\n",
       "0                       28.029297                87.107763   \n",
       "1                       28.067063                86.843261   \n",
       "2                       27.454037                86.842308   \n",
       "3                       27.341277                87.226430   \n",
       "4                       27.041023                86.688794   \n",
       "\n",
       "   rougher.output.tail_au  rougher.output.tail_ag  rougher.output.tail_pb  \\\n",
       "0                1.170244                5.008018                0.508728   \n",
       "1                1.184827                4.955378                0.536689   \n",
       "2                1.162562                4.843460                0.546416   \n",
       "3                1.079755                4.655288                0.542525   \n",
       "4                1.012642                4.552800                0.515438   \n",
       "\n",
       "   rougher.output.tail_sol  \n",
       "0                19.154297  \n",
       "1                18.965234  \n",
       "2                18.808533  \n",
       "3                19.330200  \n",
       "4                19.267422  \n",
       "\n",
       "[5 rows x 35 columns]"
      ]
     },
     "metadata": {},
     "output_type": "display_data"
    },
    {
     "name": "stdout",
     "output_type": "stream",
     "text": [
      "Primary_cleaner (первичная очистка):\n"
     ]
    },
    {
     "data": {
      "text/html": [
       "<div>\n",
       "<style scoped>\n",
       "    .dataframe tbody tr th:only-of-type {\n",
       "        vertical-align: middle;\n",
       "    }\n",
       "\n",
       "    .dataframe tbody tr th {\n",
       "        vertical-align: top;\n",
       "    }\n",
       "\n",
       "    .dataframe thead th {\n",
       "        text-align: right;\n",
       "    }\n",
       "</style>\n",
       "<table border=\"1\" class=\"dataframe\">\n",
       "  <thead>\n",
       "    <tr style=\"text-align: right;\">\n",
       "      <th></th>\n",
       "      <th>primary_cleaner.input.sulfate</th>\n",
       "      <th>primary_cleaner.input.depressant</th>\n",
       "      <th>primary_cleaner.input.feed_size</th>\n",
       "      <th>primary_cleaner.input.xanthate</th>\n",
       "      <th>primary_cleaner.state.floatbank8_a_air</th>\n",
       "      <th>primary_cleaner.state.floatbank8_a_level</th>\n",
       "      <th>primary_cleaner.state.floatbank8_b_air</th>\n",
       "      <th>primary_cleaner.state.floatbank8_b_level</th>\n",
       "      <th>primary_cleaner.state.floatbank8_c_air</th>\n",
       "      <th>primary_cleaner.state.floatbank8_c_level</th>\n",
       "      <th>primary_cleaner.state.floatbank8_d_air</th>\n",
       "      <th>primary_cleaner.state.floatbank8_d_level</th>\n",
       "      <th>primary_cleaner.output.concentrate_au</th>\n",
       "      <th>primary_cleaner.output.concentrate_ag</th>\n",
       "      <th>primary_cleaner.output.concentrate_pb</th>\n",
       "      <th>primary_cleaner.output.concentrate_sol</th>\n",
       "      <th>primary_cleaner.output.tail_au</th>\n",
       "      <th>primary_cleaner.output.tail_ag</th>\n",
       "      <th>primary_cleaner.output.tail_pb</th>\n",
       "      <th>primary_cleaner.output.tail_sol</th>\n",
       "    </tr>\n",
       "  </thead>\n",
       "  <tbody>\n",
       "    <tr>\n",
       "      <th>0</th>\n",
       "      <td>127.092003</td>\n",
       "      <td>10.128295</td>\n",
       "      <td>7.25</td>\n",
       "      <td>0.988759</td>\n",
       "      <td>1549.775757</td>\n",
       "      <td>-498.912140</td>\n",
       "      <td>1551.434204</td>\n",
       "      <td>-516.403442</td>\n",
       "      <td>1549.873901</td>\n",
       "      <td>-498.666595</td>\n",
       "      <td>1554.367432</td>\n",
       "      <td>-493.428131</td>\n",
       "      <td>34.174427</td>\n",
       "      <td>8.547551</td>\n",
       "      <td>10.389648</td>\n",
       "      <td>19.529297</td>\n",
       "      <td>2.106679</td>\n",
       "      <td>14.936526</td>\n",
       "      <td>2.534912</td>\n",
       "      <td>7.476074</td>\n",
       "    </tr>\n",
       "    <tr>\n",
       "      <th>1</th>\n",
       "      <td>125.629232</td>\n",
       "      <td>10.296251</td>\n",
       "      <td>7.25</td>\n",
       "      <td>1.002663</td>\n",
       "      <td>1576.166671</td>\n",
       "      <td>-500.904965</td>\n",
       "      <td>1575.950626</td>\n",
       "      <td>-499.865889</td>\n",
       "      <td>1575.994189</td>\n",
       "      <td>-499.315107</td>\n",
       "      <td>1574.479259</td>\n",
       "      <td>-498.931665</td>\n",
       "      <td>34.118526</td>\n",
       "      <td>8.558743</td>\n",
       "      <td>10.497069</td>\n",
       "      <td>19.369147</td>\n",
       "      <td>2.353017</td>\n",
       "      <td>16.250511</td>\n",
       "      <td>3.049646</td>\n",
       "      <td>6.733907</td>\n",
       "    </tr>\n",
       "    <tr>\n",
       "      <th>2</th>\n",
       "      <td>123.819808</td>\n",
       "      <td>11.316280</td>\n",
       "      <td>7.25</td>\n",
       "      <td>0.991265</td>\n",
       "      <td>1601.556163</td>\n",
       "      <td>-499.997791</td>\n",
       "      <td>1600.386685</td>\n",
       "      <td>-500.607762</td>\n",
       "      <td>1602.003542</td>\n",
       "      <td>-500.870069</td>\n",
       "      <td>1599.541515</td>\n",
       "      <td>-499.827444</td>\n",
       "      <td>33.969464</td>\n",
       "      <td>8.603505</td>\n",
       "      <td>10.354494</td>\n",
       "      <td>19.167579</td>\n",
       "      <td>2.416800</td>\n",
       "      <td>16.491823</td>\n",
       "      <td>3.124664</td>\n",
       "      <td>6.471768</td>\n",
       "    </tr>\n",
       "    <tr>\n",
       "      <th>3</th>\n",
       "      <td>122.270188</td>\n",
       "      <td>11.322140</td>\n",
       "      <td>7.25</td>\n",
       "      <td>0.996739</td>\n",
       "      <td>1599.968720</td>\n",
       "      <td>-500.951778</td>\n",
       "      <td>1600.659236</td>\n",
       "      <td>-499.677094</td>\n",
       "      <td>1600.304144</td>\n",
       "      <td>-500.727997</td>\n",
       "      <td>1600.449520</td>\n",
       "      <td>-500.052575</td>\n",
       "      <td>28.260743</td>\n",
       "      <td>7.221879</td>\n",
       "      <td>8.496563</td>\n",
       "      <td>15.978538</td>\n",
       "      <td>2.262051</td>\n",
       "      <td>16.024359</td>\n",
       "      <td>2.960362</td>\n",
       "      <td>6.843791</td>\n",
       "    </tr>\n",
       "    <tr>\n",
       "      <th>4</th>\n",
       "      <td>117.988169</td>\n",
       "      <td>11.913613</td>\n",
       "      <td>7.25</td>\n",
       "      <td>1.009869</td>\n",
       "      <td>1601.339707</td>\n",
       "      <td>-498.975456</td>\n",
       "      <td>1601.437854</td>\n",
       "      <td>-500.323246</td>\n",
       "      <td>1599.581894</td>\n",
       "      <td>-500.888152</td>\n",
       "      <td>1602.649541</td>\n",
       "      <td>-500.593010</td>\n",
       "      <td>33.044932</td>\n",
       "      <td>9.089428</td>\n",
       "      <td>9.986786</td>\n",
       "      <td>19.199864</td>\n",
       "      <td>2.277073</td>\n",
       "      <td>16.480185</td>\n",
       "      <td>3.112100</td>\n",
       "      <td>6.550154</td>\n",
       "    </tr>\n",
       "  </tbody>\n",
       "</table>\n",
       "</div>"
      ],
      "text/plain": [
       "   primary_cleaner.input.sulfate  primary_cleaner.input.depressant  \\\n",
       "0                     127.092003                         10.128295   \n",
       "1                     125.629232                         10.296251   \n",
       "2                     123.819808                         11.316280   \n",
       "3                     122.270188                         11.322140   \n",
       "4                     117.988169                         11.913613   \n",
       "\n",
       "   primary_cleaner.input.feed_size  primary_cleaner.input.xanthate  \\\n",
       "0                             7.25                        0.988759   \n",
       "1                             7.25                        1.002663   \n",
       "2                             7.25                        0.991265   \n",
       "3                             7.25                        0.996739   \n",
       "4                             7.25                        1.009869   \n",
       "\n",
       "   primary_cleaner.state.floatbank8_a_air  \\\n",
       "0                             1549.775757   \n",
       "1                             1576.166671   \n",
       "2                             1601.556163   \n",
       "3                             1599.968720   \n",
       "4                             1601.339707   \n",
       "\n",
       "   primary_cleaner.state.floatbank8_a_level  \\\n",
       "0                               -498.912140   \n",
       "1                               -500.904965   \n",
       "2                               -499.997791   \n",
       "3                               -500.951778   \n",
       "4                               -498.975456   \n",
       "\n",
       "   primary_cleaner.state.floatbank8_b_air  \\\n",
       "0                             1551.434204   \n",
       "1                             1575.950626   \n",
       "2                             1600.386685   \n",
       "3                             1600.659236   \n",
       "4                             1601.437854   \n",
       "\n",
       "   primary_cleaner.state.floatbank8_b_level  \\\n",
       "0                               -516.403442   \n",
       "1                               -499.865889   \n",
       "2                               -500.607762   \n",
       "3                               -499.677094   \n",
       "4                               -500.323246   \n",
       "\n",
       "   primary_cleaner.state.floatbank8_c_air  \\\n",
       "0                             1549.873901   \n",
       "1                             1575.994189   \n",
       "2                             1602.003542   \n",
       "3                             1600.304144   \n",
       "4                             1599.581894   \n",
       "\n",
       "   primary_cleaner.state.floatbank8_c_level  \\\n",
       "0                               -498.666595   \n",
       "1                               -499.315107   \n",
       "2                               -500.870069   \n",
       "3                               -500.727997   \n",
       "4                               -500.888152   \n",
       "\n",
       "   primary_cleaner.state.floatbank8_d_air  \\\n",
       "0                             1554.367432   \n",
       "1                             1574.479259   \n",
       "2                             1599.541515   \n",
       "3                             1600.449520   \n",
       "4                             1602.649541   \n",
       "\n",
       "   primary_cleaner.state.floatbank8_d_level  \\\n",
       "0                               -493.428131   \n",
       "1                               -498.931665   \n",
       "2                               -499.827444   \n",
       "3                               -500.052575   \n",
       "4                               -500.593010   \n",
       "\n",
       "   primary_cleaner.output.concentrate_au  \\\n",
       "0                              34.174427   \n",
       "1                              34.118526   \n",
       "2                              33.969464   \n",
       "3                              28.260743   \n",
       "4                              33.044932   \n",
       "\n",
       "   primary_cleaner.output.concentrate_ag  \\\n",
       "0                               8.547551   \n",
       "1                               8.558743   \n",
       "2                               8.603505   \n",
       "3                               7.221879   \n",
       "4                               9.089428   \n",
       "\n",
       "   primary_cleaner.output.concentrate_pb  \\\n",
       "0                              10.389648   \n",
       "1                              10.497069   \n",
       "2                              10.354494   \n",
       "3                               8.496563   \n",
       "4                               9.986786   \n",
       "\n",
       "   primary_cleaner.output.concentrate_sol  primary_cleaner.output.tail_au  \\\n",
       "0                               19.529297                        2.106679   \n",
       "1                               19.369147                        2.353017   \n",
       "2                               19.167579                        2.416800   \n",
       "3                               15.978538                        2.262051   \n",
       "4                               19.199864                        2.277073   \n",
       "\n",
       "   primary_cleaner.output.tail_ag  primary_cleaner.output.tail_pb  \\\n",
       "0                       14.936526                        2.534912   \n",
       "1                       16.250511                        3.049646   \n",
       "2                       16.491823                        3.124664   \n",
       "3                       16.024359                        2.960362   \n",
       "4                       16.480185                        3.112100   \n",
       "\n",
       "   primary_cleaner.output.tail_sol  \n",
       "0                         7.476074  \n",
       "1                         6.733907  \n",
       "2                         6.471768  \n",
       "3                         6.843791  \n",
       "4                         6.550154  "
      ]
     },
     "metadata": {},
     "output_type": "display_data"
    },
    {
     "name": "stdout",
     "output_type": "stream",
     "text": [
      "Secondary_cleaner (вторичная очистка):\n"
     ]
    },
    {
     "data": {
      "text/html": [
       "<div>\n",
       "<style scoped>\n",
       "    .dataframe tbody tr th:only-of-type {\n",
       "        vertical-align: middle;\n",
       "    }\n",
       "\n",
       "    .dataframe tbody tr th {\n",
       "        vertical-align: top;\n",
       "    }\n",
       "\n",
       "    .dataframe thead th {\n",
       "        text-align: right;\n",
       "    }\n",
       "</style>\n",
       "<table border=\"1\" class=\"dataframe\">\n",
       "  <thead>\n",
       "    <tr style=\"text-align: right;\">\n",
       "      <th></th>\n",
       "      <th>secondary_cleaner.state.floatbank2_a_air</th>\n",
       "      <th>secondary_cleaner.state.floatbank2_a_level</th>\n",
       "      <th>secondary_cleaner.state.floatbank2_b_air</th>\n",
       "      <th>secondary_cleaner.state.floatbank2_b_level</th>\n",
       "      <th>secondary_cleaner.state.floatbank3_a_air</th>\n",
       "      <th>secondary_cleaner.state.floatbank3_a_level</th>\n",
       "      <th>secondary_cleaner.state.floatbank3_b_air</th>\n",
       "      <th>secondary_cleaner.state.floatbank3_b_level</th>\n",
       "      <th>secondary_cleaner.state.floatbank4_a_air</th>\n",
       "      <th>secondary_cleaner.state.floatbank4_a_level</th>\n",
       "      <th>...</th>\n",
       "      <th>secondary_cleaner.state.floatbank5_a_air</th>\n",
       "      <th>secondary_cleaner.state.floatbank5_a_level</th>\n",
       "      <th>secondary_cleaner.state.floatbank5_b_air</th>\n",
       "      <th>secondary_cleaner.state.floatbank5_b_level</th>\n",
       "      <th>secondary_cleaner.state.floatbank6_a_air</th>\n",
       "      <th>secondary_cleaner.state.floatbank6_a_level</th>\n",
       "      <th>secondary_cleaner.output.tail_au</th>\n",
       "      <th>secondary_cleaner.output.tail_ag</th>\n",
       "      <th>secondary_cleaner.output.tail_pb</th>\n",
       "      <th>secondary_cleaner.output.tail_sol</th>\n",
       "    </tr>\n",
       "  </thead>\n",
       "  <tbody>\n",
       "    <tr>\n",
       "      <th>0</th>\n",
       "      <td>25.853109</td>\n",
       "      <td>-498.526489</td>\n",
       "      <td>23.893660</td>\n",
       "      <td>-501.406281</td>\n",
       "      <td>23.961798</td>\n",
       "      <td>-495.262817</td>\n",
       "      <td>21.940409</td>\n",
       "      <td>-499.340973</td>\n",
       "      <td>14.016835</td>\n",
       "      <td>-502.488007</td>\n",
       "      <td>...</td>\n",
       "      <td>9.925633</td>\n",
       "      <td>-498.310211</td>\n",
       "      <td>8.079666</td>\n",
       "      <td>-500.470978</td>\n",
       "      <td>14.151341</td>\n",
       "      <td>-605.841980</td>\n",
       "      <td>2.606185</td>\n",
       "      <td>14.500184</td>\n",
       "      <td>4.694824</td>\n",
       "      <td>8.764648</td>\n",
       "    </tr>\n",
       "    <tr>\n",
       "      <th>1</th>\n",
       "      <td>25.880539</td>\n",
       "      <td>-499.989656</td>\n",
       "      <td>23.889530</td>\n",
       "      <td>-500.372428</td>\n",
       "      <td>23.970550</td>\n",
       "      <td>-500.085473</td>\n",
       "      <td>22.085714</td>\n",
       "      <td>-499.446897</td>\n",
       "      <td>13.992281</td>\n",
       "      <td>-505.503262</td>\n",
       "      <td>...</td>\n",
       "      <td>10.039245</td>\n",
       "      <td>-500.169983</td>\n",
       "      <td>7.984757</td>\n",
       "      <td>-500.582168</td>\n",
       "      <td>13.998353</td>\n",
       "      <td>-599.787184</td>\n",
       "      <td>2.488248</td>\n",
       "      <td>14.265474</td>\n",
       "      <td>4.592547</td>\n",
       "      <td>9.001494</td>\n",
       "    </tr>\n",
       "    <tr>\n",
       "      <th>2</th>\n",
       "      <td>26.005245</td>\n",
       "      <td>-499.929616</td>\n",
       "      <td>23.886657</td>\n",
       "      <td>-499.951928</td>\n",
       "      <td>23.913535</td>\n",
       "      <td>-499.442343</td>\n",
       "      <td>23.957717</td>\n",
       "      <td>-499.901982</td>\n",
       "      <td>14.015015</td>\n",
       "      <td>-502.520901</td>\n",
       "      <td>...</td>\n",
       "      <td>10.070913</td>\n",
       "      <td>-500.129135</td>\n",
       "      <td>8.013877</td>\n",
       "      <td>-500.517572</td>\n",
       "      <td>14.028663</td>\n",
       "      <td>-601.427363</td>\n",
       "      <td>2.458187</td>\n",
       "      <td>14.115662</td>\n",
       "      <td>4.624775</td>\n",
       "      <td>8.842896</td>\n",
       "    </tr>\n",
       "    <tr>\n",
       "      <th>3</th>\n",
       "      <td>25.942508</td>\n",
       "      <td>-499.176749</td>\n",
       "      <td>23.955516</td>\n",
       "      <td>-499.848796</td>\n",
       "      <td>23.966838</td>\n",
       "      <td>-500.008812</td>\n",
       "      <td>23.954443</td>\n",
       "      <td>-499.944710</td>\n",
       "      <td>14.036510</td>\n",
       "      <td>-500.857308</td>\n",
       "      <td>...</td>\n",
       "      <td>9.970366</td>\n",
       "      <td>-499.201640</td>\n",
       "      <td>7.977324</td>\n",
       "      <td>-500.255908</td>\n",
       "      <td>14.005551</td>\n",
       "      <td>-599.996129</td>\n",
       "      <td>2.322062</td>\n",
       "      <td>13.732071</td>\n",
       "      <td>4.482453</td>\n",
       "      <td>9.122857</td>\n",
       "    </tr>\n",
       "    <tr>\n",
       "      <th>4</th>\n",
       "      <td>26.024787</td>\n",
       "      <td>-500.279091</td>\n",
       "      <td>23.955345</td>\n",
       "      <td>-500.593614</td>\n",
       "      <td>23.985703</td>\n",
       "      <td>-500.083811</td>\n",
       "      <td>23.958945</td>\n",
       "      <td>-499.990309</td>\n",
       "      <td>14.027298</td>\n",
       "      <td>-499.838632</td>\n",
       "      <td>...</td>\n",
       "      <td>9.925709</td>\n",
       "      <td>-501.686727</td>\n",
       "      <td>7.894242</td>\n",
       "      <td>-500.356035</td>\n",
       "      <td>13.996647</td>\n",
       "      <td>-601.496691</td>\n",
       "      <td>2.330448</td>\n",
       "      <td>14.079996</td>\n",
       "      <td>4.470737</td>\n",
       "      <td>8.871028</td>\n",
       "    </tr>\n",
       "  </tbody>\n",
       "</table>\n",
       "<p>5 rows × 22 columns</p>\n",
       "</div>"
      ],
      "text/plain": [
       "   secondary_cleaner.state.floatbank2_a_air  \\\n",
       "0                                 25.853109   \n",
       "1                                 25.880539   \n",
       "2                                 26.005245   \n",
       "3                                 25.942508   \n",
       "4                                 26.024787   \n",
       "\n",
       "   secondary_cleaner.state.floatbank2_a_level  \\\n",
       "0                                 -498.526489   \n",
       "1                                 -499.989656   \n",
       "2                                 -499.929616   \n",
       "3                                 -499.176749   \n",
       "4                                 -500.279091   \n",
       "\n",
       "   secondary_cleaner.state.floatbank2_b_air  \\\n",
       "0                                 23.893660   \n",
       "1                                 23.889530   \n",
       "2                                 23.886657   \n",
       "3                                 23.955516   \n",
       "4                                 23.955345   \n",
       "\n",
       "   secondary_cleaner.state.floatbank2_b_level  \\\n",
       "0                                 -501.406281   \n",
       "1                                 -500.372428   \n",
       "2                                 -499.951928   \n",
       "3                                 -499.848796   \n",
       "4                                 -500.593614   \n",
       "\n",
       "   secondary_cleaner.state.floatbank3_a_air  \\\n",
       "0                                 23.961798   \n",
       "1                                 23.970550   \n",
       "2                                 23.913535   \n",
       "3                                 23.966838   \n",
       "4                                 23.985703   \n",
       "\n",
       "   secondary_cleaner.state.floatbank3_a_level  \\\n",
       "0                                 -495.262817   \n",
       "1                                 -500.085473   \n",
       "2                                 -499.442343   \n",
       "3                                 -500.008812   \n",
       "4                                 -500.083811   \n",
       "\n",
       "   secondary_cleaner.state.floatbank3_b_air  \\\n",
       "0                                 21.940409   \n",
       "1                                 22.085714   \n",
       "2                                 23.957717   \n",
       "3                                 23.954443   \n",
       "4                                 23.958945   \n",
       "\n",
       "   secondary_cleaner.state.floatbank3_b_level  \\\n",
       "0                                 -499.340973   \n",
       "1                                 -499.446897   \n",
       "2                                 -499.901982   \n",
       "3                                 -499.944710   \n",
       "4                                 -499.990309   \n",
       "\n",
       "   secondary_cleaner.state.floatbank4_a_air  \\\n",
       "0                                 14.016835   \n",
       "1                                 13.992281   \n",
       "2                                 14.015015   \n",
       "3                                 14.036510   \n",
       "4                                 14.027298   \n",
       "\n",
       "   secondary_cleaner.state.floatbank4_a_level  ...  \\\n",
       "0                                 -502.488007  ...   \n",
       "1                                 -505.503262  ...   \n",
       "2                                 -502.520901  ...   \n",
       "3                                 -500.857308  ...   \n",
       "4                                 -499.838632  ...   \n",
       "\n",
       "   secondary_cleaner.state.floatbank5_a_air  \\\n",
       "0                                  9.925633   \n",
       "1                                 10.039245   \n",
       "2                                 10.070913   \n",
       "3                                  9.970366   \n",
       "4                                  9.925709   \n",
       "\n",
       "   secondary_cleaner.state.floatbank5_a_level  \\\n",
       "0                                 -498.310211   \n",
       "1                                 -500.169983   \n",
       "2                                 -500.129135   \n",
       "3                                 -499.201640   \n",
       "4                                 -501.686727   \n",
       "\n",
       "   secondary_cleaner.state.floatbank5_b_air  \\\n",
       "0                                  8.079666   \n",
       "1                                  7.984757   \n",
       "2                                  8.013877   \n",
       "3                                  7.977324   \n",
       "4                                  7.894242   \n",
       "\n",
       "   secondary_cleaner.state.floatbank5_b_level  \\\n",
       "0                                 -500.470978   \n",
       "1                                 -500.582168   \n",
       "2                                 -500.517572   \n",
       "3                                 -500.255908   \n",
       "4                                 -500.356035   \n",
       "\n",
       "   secondary_cleaner.state.floatbank6_a_air  \\\n",
       "0                                 14.151341   \n",
       "1                                 13.998353   \n",
       "2                                 14.028663   \n",
       "3                                 14.005551   \n",
       "4                                 13.996647   \n",
       "\n",
       "   secondary_cleaner.state.floatbank6_a_level  \\\n",
       "0                                 -605.841980   \n",
       "1                                 -599.787184   \n",
       "2                                 -601.427363   \n",
       "3                                 -599.996129   \n",
       "4                                 -601.496691   \n",
       "\n",
       "   secondary_cleaner.output.tail_au  secondary_cleaner.output.tail_ag  \\\n",
       "0                          2.606185                         14.500184   \n",
       "1                          2.488248                         14.265474   \n",
       "2                          2.458187                         14.115662   \n",
       "3                          2.322062                         13.732071   \n",
       "4                          2.330448                         14.079996   \n",
       "\n",
       "   secondary_cleaner.output.tail_pb  secondary_cleaner.output.tail_sol  \n",
       "0                          4.694824                           8.764648  \n",
       "1                          4.592547                           9.001494  \n",
       "2                          4.624775                           8.842896  \n",
       "3                          4.482453                           9.122857  \n",
       "4                          4.470737                           8.871028  \n",
       "\n",
       "[5 rows x 22 columns]"
      ]
     },
     "metadata": {},
     "output_type": "display_data"
    },
    {
     "name": "stdout",
     "output_type": "stream",
     "text": [
      "Final (финальные характеристики):\n"
     ]
    },
    {
     "data": {
      "text/html": [
       "<div>\n",
       "<style scoped>\n",
       "    .dataframe tbody tr th:only-of-type {\n",
       "        vertical-align: middle;\n",
       "    }\n",
       "\n",
       "    .dataframe tbody tr th {\n",
       "        vertical-align: top;\n",
       "    }\n",
       "\n",
       "    .dataframe thead th {\n",
       "        text-align: right;\n",
       "    }\n",
       "</style>\n",
       "<table border=\"1\" class=\"dataframe\">\n",
       "  <thead>\n",
       "    <tr style=\"text-align: right;\">\n",
       "      <th></th>\n",
       "      <th>final.output.concentrate_au</th>\n",
       "      <th>final.output.concentrate_ag</th>\n",
       "      <th>final.output.concentrate_pb</th>\n",
       "      <th>final.output.concentrate_sol</th>\n",
       "      <th>final.output.recovery</th>\n",
       "      <th>final.output.tail_au</th>\n",
       "      <th>final.output.tail_ag</th>\n",
       "      <th>final.output.tail_pb</th>\n",
       "      <th>final.output.tail_sol</th>\n",
       "    </tr>\n",
       "  </thead>\n",
       "  <tbody>\n",
       "    <tr>\n",
       "      <th>0</th>\n",
       "      <td>42.192020</td>\n",
       "      <td>6.055403</td>\n",
       "      <td>9.889648</td>\n",
       "      <td>5.507324</td>\n",
       "      <td>70.541216</td>\n",
       "      <td>2.143149</td>\n",
       "      <td>10.411962</td>\n",
       "      <td>0.895447</td>\n",
       "      <td>16.904297</td>\n",
       "    </tr>\n",
       "    <tr>\n",
       "      <th>1</th>\n",
       "      <td>42.701629</td>\n",
       "      <td>6.029369</td>\n",
       "      <td>9.968944</td>\n",
       "      <td>5.257781</td>\n",
       "      <td>69.266198</td>\n",
       "      <td>2.224930</td>\n",
       "      <td>10.462676</td>\n",
       "      <td>0.927452</td>\n",
       "      <td>16.634514</td>\n",
       "    </tr>\n",
       "    <tr>\n",
       "      <th>2</th>\n",
       "      <td>42.657501</td>\n",
       "      <td>6.055926</td>\n",
       "      <td>10.213995</td>\n",
       "      <td>5.383759</td>\n",
       "      <td>68.116445</td>\n",
       "      <td>2.257889</td>\n",
       "      <td>10.507046</td>\n",
       "      <td>0.953716</td>\n",
       "      <td>16.208849</td>\n",
       "    </tr>\n",
       "    <tr>\n",
       "      <th>3</th>\n",
       "      <td>42.689819</td>\n",
       "      <td>6.047977</td>\n",
       "      <td>9.977019</td>\n",
       "      <td>4.858634</td>\n",
       "      <td>68.347543</td>\n",
       "      <td>2.146849</td>\n",
       "      <td>10.422762</td>\n",
       "      <td>0.883763</td>\n",
       "      <td>16.532835</td>\n",
       "    </tr>\n",
       "    <tr>\n",
       "      <th>4</th>\n",
       "      <td>42.774141</td>\n",
       "      <td>6.148599</td>\n",
       "      <td>10.142511</td>\n",
       "      <td>4.939416</td>\n",
       "      <td>66.927016</td>\n",
       "      <td>2.055292</td>\n",
       "      <td>10.360302</td>\n",
       "      <td>0.792826</td>\n",
       "      <td>16.525686</td>\n",
       "    </tr>\n",
       "  </tbody>\n",
       "</table>\n",
       "</div>"
      ],
      "text/plain": [
       "   final.output.concentrate_au  final.output.concentrate_ag  \\\n",
       "0                    42.192020                     6.055403   \n",
       "1                    42.701629                     6.029369   \n",
       "2                    42.657501                     6.055926   \n",
       "3                    42.689819                     6.047977   \n",
       "4                    42.774141                     6.148599   \n",
       "\n",
       "   final.output.concentrate_pb  final.output.concentrate_sol  \\\n",
       "0                     9.889648                      5.507324   \n",
       "1                     9.968944                      5.257781   \n",
       "2                    10.213995                      5.383759   \n",
       "3                     9.977019                      4.858634   \n",
       "4                    10.142511                      4.939416   \n",
       "\n",
       "   final.output.recovery  final.output.tail_au  final.output.tail_ag  \\\n",
       "0              70.541216              2.143149             10.411962   \n",
       "1              69.266198              2.224930             10.462676   \n",
       "2              68.116445              2.257889             10.507046   \n",
       "3              68.347543              2.146849             10.422762   \n",
       "4              66.927016              2.055292             10.360302   \n",
       "\n",
       "   final.output.tail_pb  final.output.tail_sol  \n",
       "0              0.895447              16.904297  \n",
       "1              0.927452              16.634514  \n",
       "2              0.953716              16.208849  \n",
       "3              0.883763              16.532835  \n",
       "4              0.792826              16.525686  "
      ]
     },
     "metadata": {},
     "output_type": "display_data"
    }
   ],
   "source": [
    "data_steps(data_full)"
   ]
  },
  {
   "cell_type": "markdown",
   "metadata": {},
   "source": [
    "Определю свои целевые признаки:"
   ]
  },
  {
   "cell_type": "code",
   "execution_count": 11,
   "metadata": {},
   "outputs": [],
   "source": [
    "targets = ['rougher.output.recovery', 'final.output.recovery']"
   ]
  },
  {
   "cell_type": "code",
   "execution_count": 12,
   "metadata": {},
   "outputs": [
    {
     "data": {
      "image/png": "[encoded data removed]",
      "text/plain": [
       "<Figure size 432x288 with 1 Axes>"
      ]
     },
     "metadata": {
      "needs_background": "light"
     },
     "output_type": "display_data"
    }
   ],
   "source": [
    "plt.hist(data_full[targets[0]], color='SandyBrown', bins=15);\n",
    "plt.title('Распределение целевой переменной');\n",
    "plt.xlabel('recovery rougher');\n",
    "plt.ylabel('количество');"
   ]
  },
  {
   "cell_type": "code",
   "execution_count": 13,
   "metadata": {},
   "outputs": [
    {
     "data": {
      "image/png": "[encoded data removed]",
      "text/plain": [
       "<Figure size 432x288 with 1 Axes>"
      ]
     },
     "metadata": {
      "needs_background": "light"
     },
     "output_type": "display_data"
    }
   ],
   "source": [
    "plt.hist(data_full[targets[1]], color = 'SandyBrown', bins=15);\n",
    "plt.title('Распределение целевой переменной');\n",
    "plt.xlabel('recovery final');\n",
    "plt.ylabel('количество');"
   ]
  },
  {
   "cell_type": "markdown",
   "metadata": {},
   "source": [
    "<div style=\"border:dotted Thistle 3px; padding: 10px\">\n",
    "\n",
    "**Промежуточный вывод:**\n",
    "\n",
    "При первом просмотре данных можно сказать:  \n",
    "- очень много признаков на каждом этапе    \n",
    "- все, кроме столбца ```date```, это float64\n",
    "- полных дубликатов нет    \n",
    "- в тестовых данных меньше колонок\n",
    "- в данных есть пропуски \n",
    "- в целевом признаке около нуля есть какой-то выброс\n",
    "\n",
    "</div>  \n",
    "\n",
    "#### Проверка правильности эффективности обогащения.\n",
    "\n",
    "Формула эффективности обогащения из условия:\n",
    "\n",
    "$$\n",
    "recovery = \\frac {C \\cdot (F - T)}{F \\cdot (C - T)} \\cdot 100\n",
    "$$\n",
    "\n",
    "где:\n",
    "\n",
    "- C — доля золота в концентрате после флотации/очистки ```'rougher.output.concentrate_au'```;\n",
    "- F — доля золота в сырье/концентрате до флотации/очистки ```'rougher.input.feed_au'```;\n",
    "- T — доля золота в отвальных хвостах после флотации/очистки ```'rougher.output.tail_au'```."
   ]
  },
  {
   "cell_type": "code",
   "execution_count": 14,
   "metadata": {},
   "outputs": [
    {
     "data": {
      "text/plain": [
       "0"
      ]
     },
     "execution_count": 14,
     "metadata": {},
     "output_type": "execute_result"
    }
   ],
   "source": [
    "def rougher_recovery(C, F, T):\n",
    "    return ((C*(F-T)) / (F*(C-T))) * 100\n",
    "\n",
    "recovery_calc = rougher_recovery(data_train['rougher.output.concentrate_au'],\n",
    "                 data_train['rougher.input.feed_au'],\n",
    "                 data_train['rougher.output.tail_au'])\n",
    "\n",
    "recovery_calc.isna().sum()"
   ]
  },
  {
   "cell_type": "code",
   "execution_count": 15,
   "metadata": {},
   "outputs": [
    {
     "data": {
      "text/plain": [
       "0"
      ]
     },
     "execution_count": 15,
     "metadata": {},
     "output_type": "execute_result"
    }
   ],
   "source": [
    "data_train['rougher.output.recovery'].isna().sum()"
   ]
  },
  {
   "cell_type": "code",
   "execution_count": 16,
   "metadata": {},
   "outputs": [
    {
     "name": "stdout",
     "output_type": "stream",
     "text": [
      "Ошибка MAE = 9.83758577644259e-15\n"
     ]
    }
   ],
   "source": [
    "# Посчитаю ошибку МАЕ, заполнив пустое значение средним\n",
    "mae = mean_absolute_error(data_train['rougher.output.recovery'], recovery_calc.fillna(recovery_calc.mean()))\n",
    "print('Ошибка MAE =', mae)"
   ]
  },
  {
   "cell_type": "code",
   "execution_count": 17,
   "metadata": {},
   "outputs": [
    {
     "data": {
      "text/plain": [
       "82.52119968211336"
      ]
     },
     "execution_count": 17,
     "metadata": {},
     "output_type": "execute_result"
    }
   ],
   "source": [
    "data_train['rougher.output.recovery'].mean()"
   ]
  },
  {
   "cell_type": "markdown",
   "metadata": {},
   "source": [
    "<div style=\"border:dotted Thistle 3px; padding: 10px\">\n",
    "\n",
    "**Промежуточный вывод:**\n",
    "    \n",
    "В столбце ```rougher.output.recovery``` +/- правильно посчитана эффективность обогащения.\n",
    "    \n",
    "</div>    \n",
    "\n",
    "#### Обработка данных\n",
    "\n",
    "В данных нужно избавиться от пропусков. Посмотрю на целевые признаки:   "
   ]
  },
  {
   "cell_type": "code",
   "execution_count": 18,
   "metadata": {},
   "outputs": [
    {
     "data": {
      "text/plain": [
       "rougher.output.recovery    0\n",
       "final.output.recovery      0\n",
       "dtype: int64"
      ]
     },
     "execution_count": 18,
     "metadata": {},
     "output_type": "execute_result"
    }
   ],
   "source": [
    "data_train[targets].isna().sum()"
   ]
  },
  {
   "cell_type": "markdown",
   "metadata": {},
   "source": [
    "В целевых признаках пропусков нет. Так как по условию задачи \"соседние по времени параметры часто похожи\", заполню пропуски теми значениями, что рядом:"
   ]
  },
  {
   "cell_type": "code",
   "execution_count": 19,
   "metadata": {},
   "outputs": [
    {
     "data": {
      "text/plain": [
       "14579"
      ]
     },
     "execution_count": 19,
     "metadata": {},
     "output_type": "execute_result"
    }
   ],
   "source": [
    "data_train.shape[0]"
   ]
  },
  {
   "cell_type": "code",
   "execution_count": 20,
   "metadata": {},
   "outputs": [
    {
     "data": {
      "text/plain": [
       "4860"
      ]
     },
     "execution_count": 20,
     "metadata": {},
     "output_type": "execute_result"
    }
   ],
   "source": [
    "data_test.shape[0]"
   ]
  },
  {
   "cell_type": "code",
   "execution_count": 21,
   "metadata": {},
   "outputs": [
    {
     "data": {
      "text/plain": [
       "0"
      ]
     },
     "metadata": {},
     "output_type": "display_data"
    },
    {
     "data": {
      "text/plain": [
       "14579"
      ]
     },
     "metadata": {},
     "output_type": "display_data"
    },
    {
     "data": {
      "text/html": [
       "<div>\n",
       "<style scoped>\n",
       "    .dataframe tbody tr th:only-of-type {\n",
       "        vertical-align: middle;\n",
       "    }\n",
       "\n",
       "    .dataframe tbody tr th {\n",
       "        vertical-align: top;\n",
       "    }\n",
       "\n",
       "    .dataframe thead th {\n",
       "        text-align: right;\n",
       "    }\n",
       "</style>\n",
       "<table border=\"1\" class=\"dataframe\">\n",
       "  <thead>\n",
       "    <tr style=\"text-align: right;\">\n",
       "      <th></th>\n",
       "      <th>date</th>\n",
       "      <th>rougher.input.feed_au</th>\n",
       "      <th>rougher.input.feed_ag</th>\n",
       "      <th>rougher.input.feed_pb</th>\n",
       "      <th>rougher.input.feed_sol</th>\n",
       "      <th>rougher.input.feed_rate</th>\n",
       "      <th>rougher.input.feed_size</th>\n",
       "      <th>rougher.input.floatbank10_sulfate</th>\n",
       "      <th>rougher.input.floatbank10_xanthate</th>\n",
       "      <th>rougher.state.floatbank10_a_air</th>\n",
       "      <th>...</th>\n",
       "      <th>secondary_cleaner.output.tail_sol</th>\n",
       "      <th>final.output.concentrate_au</th>\n",
       "      <th>final.output.concentrate_ag</th>\n",
       "      <th>final.output.concentrate_pb</th>\n",
       "      <th>final.output.concentrate_sol</th>\n",
       "      <th>final.output.recovery</th>\n",
       "      <th>final.output.tail_au</th>\n",
       "      <th>final.output.tail_ag</th>\n",
       "      <th>final.output.tail_pb</th>\n",
       "      <th>final.output.tail_sol</th>\n",
       "    </tr>\n",
       "  </thead>\n",
       "  <tbody>\n",
       "    <tr>\n",
       "      <th>0</th>\n",
       "      <td>2016-01-15 00:00:00</td>\n",
       "      <td>6.486150</td>\n",
       "      <td>6.100378</td>\n",
       "      <td>2.284912</td>\n",
       "      <td>36.808594</td>\n",
       "      <td>523.546326</td>\n",
       "      <td>55.486599</td>\n",
       "      <td>11.986616</td>\n",
       "      <td>6.007990</td>\n",
       "      <td>999.706909</td>\n",
       "      <td>...</td>\n",
       "      <td>8.764648</td>\n",
       "      <td>42.192020</td>\n",
       "      <td>6.055403</td>\n",
       "      <td>9.889648</td>\n",
       "      <td>5.507324</td>\n",
       "      <td>70.541216</td>\n",
       "      <td>2.143149</td>\n",
       "      <td>10.411962</td>\n",
       "      <td>0.895447</td>\n",
       "      <td>16.904297</td>\n",
       "    </tr>\n",
       "    <tr>\n",
       "      <th>1</th>\n",
       "      <td>2016-01-15 01:00:00</td>\n",
       "      <td>6.478583</td>\n",
       "      <td>6.161113</td>\n",
       "      <td>2.266033</td>\n",
       "      <td>35.753385</td>\n",
       "      <td>525.290581</td>\n",
       "      <td>57.278666</td>\n",
       "      <td>11.971193</td>\n",
       "      <td>6.005766</td>\n",
       "      <td>1000.286398</td>\n",
       "      <td>...</td>\n",
       "      <td>9.001494</td>\n",
       "      <td>42.701629</td>\n",
       "      <td>6.029369</td>\n",
       "      <td>9.968944</td>\n",
       "      <td>5.257781</td>\n",
       "      <td>69.266198</td>\n",
       "      <td>2.224930</td>\n",
       "      <td>10.462676</td>\n",
       "      <td>0.927452</td>\n",
       "      <td>16.634514</td>\n",
       "    </tr>\n",
       "    <tr>\n",
       "      <th>2</th>\n",
       "      <td>2016-01-15 02:00:00</td>\n",
       "      <td>6.362222</td>\n",
       "      <td>6.116455</td>\n",
       "      <td>2.159622</td>\n",
       "      <td>35.971630</td>\n",
       "      <td>530.026610</td>\n",
       "      <td>57.510649</td>\n",
       "      <td>11.920603</td>\n",
       "      <td>6.197377</td>\n",
       "      <td>999.719565</td>\n",
       "      <td>...</td>\n",
       "      <td>8.842896</td>\n",
       "      <td>42.657501</td>\n",
       "      <td>6.055926</td>\n",
       "      <td>10.213995</td>\n",
       "      <td>5.383759</td>\n",
       "      <td>68.116445</td>\n",
       "      <td>2.257889</td>\n",
       "      <td>10.507046</td>\n",
       "      <td>0.953716</td>\n",
       "      <td>16.208849</td>\n",
       "    </tr>\n",
       "    <tr>\n",
       "      <th>3</th>\n",
       "      <td>2016-01-15 03:00:00</td>\n",
       "      <td>6.118189</td>\n",
       "      <td>6.043309</td>\n",
       "      <td>2.037807</td>\n",
       "      <td>36.862241</td>\n",
       "      <td>542.590390</td>\n",
       "      <td>57.792734</td>\n",
       "      <td>11.630094</td>\n",
       "      <td>6.203177</td>\n",
       "      <td>999.814770</td>\n",
       "      <td>...</td>\n",
       "      <td>9.122857</td>\n",
       "      <td>42.689819</td>\n",
       "      <td>6.047977</td>\n",
       "      <td>9.977019</td>\n",
       "      <td>4.858634</td>\n",
       "      <td>68.347543</td>\n",
       "      <td>2.146849</td>\n",
       "      <td>10.422762</td>\n",
       "      <td>0.883763</td>\n",
       "      <td>16.532835</td>\n",
       "    </tr>\n",
       "    <tr>\n",
       "      <th>4</th>\n",
       "      <td>2016-01-15 04:00:00</td>\n",
       "      <td>5.663707</td>\n",
       "      <td>6.060915</td>\n",
       "      <td>1.786875</td>\n",
       "      <td>34.347666</td>\n",
       "      <td>540.531893</td>\n",
       "      <td>56.047189</td>\n",
       "      <td>10.957755</td>\n",
       "      <td>6.198826</td>\n",
       "      <td>999.678690</td>\n",
       "      <td>...</td>\n",
       "      <td>8.871028</td>\n",
       "      <td>42.774141</td>\n",
       "      <td>6.148599</td>\n",
       "      <td>10.142511</td>\n",
       "      <td>4.939416</td>\n",
       "      <td>66.927016</td>\n",
       "      <td>2.055292</td>\n",
       "      <td>10.360302</td>\n",
       "      <td>0.792826</td>\n",
       "      <td>16.525686</td>\n",
       "    </tr>\n",
       "  </tbody>\n",
       "</table>\n",
       "<p>5 rows × 87 columns</p>\n",
       "</div>"
      ],
      "text/plain": [
       "                  date  rougher.input.feed_au  rougher.input.feed_ag  \\\n",
       "0  2016-01-15 00:00:00               6.486150               6.100378   \n",
       "1  2016-01-15 01:00:00               6.478583               6.161113   \n",
       "2  2016-01-15 02:00:00               6.362222               6.116455   \n",
       "3  2016-01-15 03:00:00               6.118189               6.043309   \n",
       "4  2016-01-15 04:00:00               5.663707               6.060915   \n",
       "\n",
       "   rougher.input.feed_pb  rougher.input.feed_sol  rougher.input.feed_rate  \\\n",
       "0               2.284912               36.808594               523.546326   \n",
       "1               2.266033               35.753385               525.290581   \n",
       "2               2.159622               35.971630               530.026610   \n",
       "3               2.037807               36.862241               542.590390   \n",
       "4               1.786875               34.347666               540.531893   \n",
       "\n",
       "   rougher.input.feed_size  rougher.input.floatbank10_sulfate  \\\n",
       "0                55.486599                          11.986616   \n",
       "1                57.278666                          11.971193   \n",
       "2                57.510649                          11.920603   \n",
       "3                57.792734                          11.630094   \n",
       "4                56.047189                          10.957755   \n",
       "\n",
       "   rougher.input.floatbank10_xanthate  rougher.state.floatbank10_a_air  ...  \\\n",
       "0                            6.007990                       999.706909  ...   \n",
       "1                            6.005766                      1000.286398  ...   \n",
       "2                            6.197377                       999.719565  ...   \n",
       "3                            6.203177                       999.814770  ...   \n",
       "4                            6.198826                       999.678690  ...   \n",
       "\n",
       "   secondary_cleaner.output.tail_sol  final.output.concentrate_au  \\\n",
       "0                           8.764648                    42.192020   \n",
       "1                           9.001494                    42.701629   \n",
       "2                           8.842896                    42.657501   \n",
       "3                           9.122857                    42.689819   \n",
       "4                           8.871028                    42.774141   \n",
       "\n",
       "   final.output.concentrate_ag  final.output.concentrate_pb  \\\n",
       "0                     6.055403                     9.889648   \n",
       "1                     6.029369                     9.968944   \n",
       "2                     6.055926                    10.213995   \n",
       "3                     6.047977                     9.977019   \n",
       "4                     6.148599                    10.142511   \n",
       "\n",
       "   final.output.concentrate_sol  final.output.recovery  final.output.tail_au  \\\n",
       "0                      5.507324              70.541216              2.143149   \n",
       "1                      5.257781              69.266198              2.224930   \n",
       "2                      5.383759              68.116445              2.257889   \n",
       "3                      4.858634              68.347543              2.146849   \n",
       "4                      4.939416              66.927016              2.055292   \n",
       "\n",
       "   final.output.tail_ag  final.output.tail_pb  final.output.tail_sol  \n",
       "0             10.411962              0.895447              16.904297  \n",
       "1             10.462676              0.927452              16.634514  \n",
       "2             10.507046              0.953716              16.208849  \n",
       "3             10.422762              0.883763              16.532835  \n",
       "4             10.360302              0.792826              16.525686  \n",
       "\n",
       "[5 rows x 87 columns]"
      ]
     },
     "metadata": {},
     "output_type": "display_data"
    }
   ],
   "source": [
    "data_train = data_train.fillna(method='ffill')\n",
    "display(data_train.isna().any(axis=1).sum())\n",
    "display(data_train.shape[0])\n",
    "display(data_train.head())"
   ]
  },
  {
   "cell_type": "code",
   "execution_count": 22,
   "metadata": {},
   "outputs": [
    {
     "data": {
      "text/plain": [
       "0"
      ]
     },
     "metadata": {},
     "output_type": "display_data"
    },
    {
     "data": {
      "text/plain": [
       "4860"
      ]
     },
     "metadata": {},
     "output_type": "display_data"
    },
    {
     "data": {
      "text/html": [
       "<div>\n",
       "<style scoped>\n",
       "    .dataframe tbody tr th:only-of-type {\n",
       "        vertical-align: middle;\n",
       "    }\n",
       "\n",
       "    .dataframe tbody tr th {\n",
       "        vertical-align: top;\n",
       "    }\n",
       "\n",
       "    .dataframe thead th {\n",
       "        text-align: right;\n",
       "    }\n",
       "</style>\n",
       "<table border=\"1\" class=\"dataframe\">\n",
       "  <thead>\n",
       "    <tr style=\"text-align: right;\">\n",
       "      <th></th>\n",
       "      <th>date</th>\n",
       "      <th>rougher.input.feed_au</th>\n",
       "      <th>rougher.input.feed_ag</th>\n",
       "      <th>rougher.input.feed_pb</th>\n",
       "      <th>rougher.input.feed_sol</th>\n",
       "      <th>rougher.input.feed_rate</th>\n",
       "      <th>rougher.input.feed_size</th>\n",
       "      <th>rougher.input.floatbank10_sulfate</th>\n",
       "      <th>rougher.input.floatbank10_xanthate</th>\n",
       "      <th>rougher.state.floatbank10_a_air</th>\n",
       "      <th>...</th>\n",
       "      <th>secondary_cleaner.state.floatbank4_a_air</th>\n",
       "      <th>secondary_cleaner.state.floatbank4_a_level</th>\n",
       "      <th>secondary_cleaner.state.floatbank4_b_air</th>\n",
       "      <th>secondary_cleaner.state.floatbank4_b_level</th>\n",
       "      <th>secondary_cleaner.state.floatbank5_a_air</th>\n",
       "      <th>secondary_cleaner.state.floatbank5_a_level</th>\n",
       "      <th>secondary_cleaner.state.floatbank5_b_air</th>\n",
       "      <th>secondary_cleaner.state.floatbank5_b_level</th>\n",
       "      <th>secondary_cleaner.state.floatbank6_a_air</th>\n",
       "      <th>secondary_cleaner.state.floatbank6_a_level</th>\n",
       "    </tr>\n",
       "  </thead>\n",
       "  <tbody>\n",
       "    <tr>\n",
       "      <th>0</th>\n",
       "      <td>2017-12-09 14:59:59</td>\n",
       "      <td>4.365491</td>\n",
       "      <td>6.158718</td>\n",
       "      <td>3.875727</td>\n",
       "      <td>39.135119</td>\n",
       "      <td>555.820208</td>\n",
       "      <td>94.544358</td>\n",
       "      <td>6.146982</td>\n",
       "      <td>9.308612</td>\n",
       "      <td>1196.238112</td>\n",
       "      <td>...</td>\n",
       "      <td>23.018622</td>\n",
       "      <td>-500.492702</td>\n",
       "      <td>20.020205</td>\n",
       "      <td>-500.220296</td>\n",
       "      <td>17.963512</td>\n",
       "      <td>-499.939490</td>\n",
       "      <td>12.990306</td>\n",
       "      <td>-500.080993</td>\n",
       "      <td>19.990336</td>\n",
       "      <td>-499.191575</td>\n",
       "    </tr>\n",
       "    <tr>\n",
       "      <th>1</th>\n",
       "      <td>2017-12-09 15:59:59</td>\n",
       "      <td>4.362781</td>\n",
       "      <td>6.048130</td>\n",
       "      <td>3.902537</td>\n",
       "      <td>39.713906</td>\n",
       "      <td>544.731687</td>\n",
       "      <td>123.742430</td>\n",
       "      <td>6.210119</td>\n",
       "      <td>9.297709</td>\n",
       "      <td>1201.904177</td>\n",
       "      <td>...</td>\n",
       "      <td>23.024963</td>\n",
       "      <td>-501.153409</td>\n",
       "      <td>20.054122</td>\n",
       "      <td>-500.314711</td>\n",
       "      <td>17.979515</td>\n",
       "      <td>-499.272871</td>\n",
       "      <td>12.992404</td>\n",
       "      <td>-499.976268</td>\n",
       "      <td>20.013986</td>\n",
       "      <td>-500.625471</td>\n",
       "    </tr>\n",
       "    <tr>\n",
       "      <th>2</th>\n",
       "      <td>2017-12-09 16:59:59</td>\n",
       "      <td>5.081681</td>\n",
       "      <td>6.082745</td>\n",
       "      <td>4.564078</td>\n",
       "      <td>37.208683</td>\n",
       "      <td>558.155110</td>\n",
       "      <td>82.610855</td>\n",
       "      <td>7.363824</td>\n",
       "      <td>9.003562</td>\n",
       "      <td>1200.826926</td>\n",
       "      <td>...</td>\n",
       "      <td>22.993827</td>\n",
       "      <td>-501.559663</td>\n",
       "      <td>20.029144</td>\n",
       "      <td>-500.000662</td>\n",
       "      <td>18.012723</td>\n",
       "      <td>-500.024764</td>\n",
       "      <td>13.016445</td>\n",
       "      <td>-500.058432</td>\n",
       "      <td>19.973767</td>\n",
       "      <td>-501.394155</td>\n",
       "    </tr>\n",
       "    <tr>\n",
       "      <th>3</th>\n",
       "      <td>2017-12-09 17:59:59</td>\n",
       "      <td>5.145949</td>\n",
       "      <td>6.084374</td>\n",
       "      <td>4.768124</td>\n",
       "      <td>36.808874</td>\n",
       "      <td>539.713765</td>\n",
       "      <td>77.984784</td>\n",
       "      <td>6.927072</td>\n",
       "      <td>8.955597</td>\n",
       "      <td>1199.292489</td>\n",
       "      <td>...</td>\n",
       "      <td>23.032807</td>\n",
       "      <td>-501.287889</td>\n",
       "      <td>19.977466</td>\n",
       "      <td>-500.159903</td>\n",
       "      <td>17.980463</td>\n",
       "      <td>-500.504602</td>\n",
       "      <td>12.949071</td>\n",
       "      <td>-500.009937</td>\n",
       "      <td>20.010332</td>\n",
       "      <td>-508.337973</td>\n",
       "    </tr>\n",
       "    <tr>\n",
       "      <th>4</th>\n",
       "      <td>2017-12-09 18:59:59</td>\n",
       "      <td>5.735249</td>\n",
       "      <td>6.165220</td>\n",
       "      <td>4.512346</td>\n",
       "      <td>37.810642</td>\n",
       "      <td>558.713584</td>\n",
       "      <td>86.434874</td>\n",
       "      <td>7.823471</td>\n",
       "      <td>7.490356</td>\n",
       "      <td>1198.005449</td>\n",
       "      <td>...</td>\n",
       "      <td>23.001911</td>\n",
       "      <td>-499.947838</td>\n",
       "      <td>20.023735</td>\n",
       "      <td>-499.713680</td>\n",
       "      <td>17.990955</td>\n",
       "      <td>-500.334769</td>\n",
       "      <td>13.007523</td>\n",
       "      <td>-499.968459</td>\n",
       "      <td>19.995999</td>\n",
       "      <td>-499.788805</td>\n",
       "    </tr>\n",
       "  </tbody>\n",
       "</table>\n",
       "<p>5 rows × 53 columns</p>\n",
       "</div>"
      ],
      "text/plain": [
       "                  date  rougher.input.feed_au  rougher.input.feed_ag  \\\n",
       "0  2017-12-09 14:59:59               4.365491               6.158718   \n",
       "1  2017-12-09 15:59:59               4.362781               6.048130   \n",
       "2  2017-12-09 16:59:59               5.081681               6.082745   \n",
       "3  2017-12-09 17:59:59               5.145949               6.084374   \n",
       "4  2017-12-09 18:59:59               5.735249               6.165220   \n",
       "\n",
       "   rougher.input.feed_pb  rougher.input.feed_sol  rougher.input.feed_rate  \\\n",
       "0               3.875727               39.135119               555.820208   \n",
       "1               3.902537               39.713906               544.731687   \n",
       "2               4.564078               37.208683               558.155110   \n",
       "3               4.768124               36.808874               539.713765   \n",
       "4               4.512346               37.810642               558.713584   \n",
       "\n",
       "   rougher.input.feed_size  rougher.input.floatbank10_sulfate  \\\n",
       "0                94.544358                           6.146982   \n",
       "1               123.742430                           6.210119   \n",
       "2                82.610855                           7.363824   \n",
       "3                77.984784                           6.927072   \n",
       "4                86.434874                           7.823471   \n",
       "\n",
       "   rougher.input.floatbank10_xanthate  rougher.state.floatbank10_a_air  ...  \\\n",
       "0                            9.308612                      1196.238112  ...   \n",
       "1                            9.297709                      1201.904177  ...   \n",
       "2                            9.003562                      1200.826926  ...   \n",
       "3                            8.955597                      1199.292489  ...   \n",
       "4                            7.490356                      1198.005449  ...   \n",
       "\n",
       "   secondary_cleaner.state.floatbank4_a_air  \\\n",
       "0                                 23.018622   \n",
       "1                                 23.024963   \n",
       "2                                 22.993827   \n",
       "3                                 23.032807   \n",
       "4                                 23.001911   \n",
       "\n",
       "   secondary_cleaner.state.floatbank4_a_level  \\\n",
       "0                                 -500.492702   \n",
       "1                                 -501.153409   \n",
       "2                                 -501.559663   \n",
       "3                                 -501.287889   \n",
       "4                                 -499.947838   \n",
       "\n",
       "   secondary_cleaner.state.floatbank4_b_air  \\\n",
       "0                                 20.020205   \n",
       "1                                 20.054122   \n",
       "2                                 20.029144   \n",
       "3                                 19.977466   \n",
       "4                                 20.023735   \n",
       "\n",
       "   secondary_cleaner.state.floatbank4_b_level  \\\n",
       "0                                 -500.220296   \n",
       "1                                 -500.314711   \n",
       "2                                 -500.000662   \n",
       "3                                 -500.159903   \n",
       "4                                 -499.713680   \n",
       "\n",
       "   secondary_cleaner.state.floatbank5_a_air  \\\n",
       "0                                 17.963512   \n",
       "1                                 17.979515   \n",
       "2                                 18.012723   \n",
       "3                                 17.980463   \n",
       "4                                 17.990955   \n",
       "\n",
       "   secondary_cleaner.state.floatbank5_a_level  \\\n",
       "0                                 -499.939490   \n",
       "1                                 -499.272871   \n",
       "2                                 -500.024764   \n",
       "3                                 -500.504602   \n",
       "4                                 -500.334769   \n",
       "\n",
       "   secondary_cleaner.state.floatbank5_b_air  \\\n",
       "0                                 12.990306   \n",
       "1                                 12.992404   \n",
       "2                                 13.016445   \n",
       "3                                 12.949071   \n",
       "4                                 13.007523   \n",
       "\n",
       "   secondary_cleaner.state.floatbank5_b_level  \\\n",
       "0                                 -500.080993   \n",
       "1                                 -499.976268   \n",
       "2                                 -500.058432   \n",
       "3                                 -500.009937   \n",
       "4                                 -499.968459   \n",
       "\n",
       "   secondary_cleaner.state.floatbank6_a_air  \\\n",
       "0                                 19.990336   \n",
       "1                                 20.013986   \n",
       "2                                 19.973767   \n",
       "3                                 20.010332   \n",
       "4                                 19.995999   \n",
       "\n",
       "   secondary_cleaner.state.floatbank6_a_level  \n",
       "0                                 -499.191575  \n",
       "1                                 -500.625471  \n",
       "2                                 -501.394155  \n",
       "3                                 -508.337973  \n",
       "4                                 -499.788805  \n",
       "\n",
       "[5 rows x 53 columns]"
      ]
     },
     "metadata": {},
     "output_type": "display_data"
    }
   ],
   "source": [
    "data_test = data_test.fillna(method='ffill')\n",
    "display(data_test.isna().any(axis=1).sum())\n",
    "display(data_test.shape[0])\n",
    "display(data_test.head())"
   ]
  },
  {
   "cell_type": "markdown",
   "metadata": {},
   "source": [
    "<div style=\"border:dotted Thistle 3px; padding: 10px\">\n",
    " \n",
    "**Промежуточный вывод:**   \n",
    "    \n",
    "В датасетах для обучения и теста пропуски данных заменены на ближайшие значения. \n",
    "    \n",
    "</div>    \n",
    "\n",
    "## Анализ данных\n",
    "\n",
    "#### Как меняется концентрация металлов (Au, Ag, Pb) \n",
    "на различных этапах: в сырье, в черновом концентрате, в концентрате после первой очистки и в финальном концентрате. Какие особенности имеют распределения  \n",
    "\n",
    "Построю гистограммы распределения трёх концетратов металлов для ```rougher.input```, ```rougher.output``` ```primary_cleaner.output```, ```final_output```:"
   ]
  },
  {
   "cell_type": "code",
   "execution_count": 23,
   "metadata": {},
   "outputs": [],
   "source": [
    "hist_columns = ['rougher.input.feed', 'rougher.output.concentrate',\n",
    "                'primary_cleaner.output.concentrate', 'final.output.concentrate']\n",
    "\n",
    "au_hist, ag_hist, pb_hist = metals_separate(data_full)\n",
    "\n",
    "def metal_hist(data, metal_index, data_columns, name):\n",
    "    \n",
    "    metal_columns = metals_separate(data)\n",
    "    data = data[metal_columns[metal_index]]\n",
    "\n",
    "    final_columns=[]\n",
    "\n",
    "    for item in data.columns:\n",
    "        for column in data_columns:\n",
    "            if column in item:\n",
    "                final_columns.append(item)\n",
    "    \n",
    "    data = data[final_columns]\n",
    "\n",
    "    data.plot(kind='hist',\n",
    "              title=f'Распределение концентрации {name}',\n",
    "              grid=True,\n",
    "              alpha=0.7, \n",
    "              bins=70,\n",
    "              figsize=(15,7),\n",
    "              color=COLORS)\n",
    "    plt.xlabel(f'концентрат {name}')\n",
    "    plt.ylabel('частота')"
   ]
  },
  {
   "cell_type": "code",
   "execution_count": 24,
   "metadata": {},
   "outputs": [
    {
     "data": {
      "image/png": "[encoded data removed]",
      "text/plain": [
       "<Figure size 1080x504 with 1 Axes>"
      ]
     },
     "metadata": {
      "needs_background": "light"
     },
     "output_type": "display_data"
    }
   ],
   "source": [
    "metal_hist(data_full, 0, hist_columns, name='Au')"
   ]
  },
  {
   "cell_type": "code",
   "execution_count": 25,
   "metadata": {},
   "outputs": [
    {
     "data": {
      "image/png": "[encoded data removed]",
      "text/plain": [
       "<Figure size 1080x504 with 1 Axes>"
      ]
     },
     "metadata": {
      "needs_background": "light"
     },
     "output_type": "display_data"
    }
   ],
   "source": [
    "metal_hist(data_full, 1, hist_columns, name='Ag')"
   ]
  },
  {
   "cell_type": "code",
   "execution_count": 26,
   "metadata": {},
   "outputs": [
    {
     "data": {
      "image/png": "[encoded data removed]",
      "text/plain": [
       "<Figure size 1080x504 with 1 Axes>"
      ]
     },
     "metadata": {
      "needs_background": "light"
     },
     "output_type": "display_data"
    }
   ],
   "source": [
    "metal_hist(data_full, 2, hist_columns, name='Pb')"
   ]
  },
  {
   "cell_type": "markdown",
   "metadata": {},
   "source": [
    "<div style=\"border:dotted Thistle 3px; padding: 10px\">\n",
    "    \n",
    "**Промежуточный вывод:**  \n",
    "Глядя на графики можно сказать, что концентрация золота от этапа к этапу однозначно растёт (так как процесс нужен для получения золота в первую очередь).  \n",
    "Конечная концентрация свинца так же несколько больше, чем в сыром сплаве.  \n",
    "В процессе очистки концентрация серебра становится даже меньше, чем в сыром сплаве.  \n",
    "    \n",
    "У всех трех металлов есть выброс около нуля\n",
    "    \n",
    "</div>    "
   ]
  },
  {
   "cell_type": "markdown",
   "metadata": {},
   "source": [
    "#### Сравнение распределения размеров гранул исходного сырья на обучающей и тестовой выборках.  \n",
    "Если распределения сильно отличаются друг от друга, оценка модели будет неправильной.  \n",
    "Для оценки распределения опять же почтою гистограмму для столбца ```rougher.input.feed_size``` на тестовой и обучающей выборках"
   ]
  },
  {
   "cell_type": "code",
   "execution_count": 27,
   "metadata": {},
   "outputs": [
    {
     "data": {
      "image/png": "[encoded data removed]",
      "text/plain": [
       "<Figure size 1080x504 with 1 Axes>"
      ]
     },
     "metadata": {
      "needs_background": "light"
     },
     "output_type": "display_data"
    }
   ],
   "source": [
    "columns=['rougher.input.feed_size']\n",
    "\n",
    "fig, ax = plt.subplots(1,1, figsize=(15, 7))\n",
    "\n",
    "plt.hist(data_train[columns],\n",
    "         density=True,\n",
    "         bins=70,\n",
    "         alpha=0.6,\n",
    "         color='Gray'\n",
    "        );\n",
    "\n",
    "plt.hist(data_test[columns],\n",
    "         density=True,\n",
    "         bins=70,\n",
    "         alpha=0.6,\n",
    "         color='Gold');\n",
    "\n",
    "plt.title('Распределение размеров гранул сырья')\n",
    "plt.xlabel('размер гранул')\n",
    "plt.grid(visible=True)\n",
    "plt.figsize = (15,7)\n",
    "plt.show()"
   ]
  },
  {
   "cell_type": "markdown",
   "metadata": {},
   "source": [
    "<div style=\"border:dotted Thistle 3px; padding: 10px\">\n",
    "\n",
    "**Промежуточный вывод:**  \n",
    "Распределения размеров гранул сырья в тестовой и обучающей выборках похожи: ошибок в оценке быть не должно.\n",
    "    \n",
    "</div>   "
   ]
  },
  {
   "cell_type": "markdown",
   "metadata": {},
   "source": [
    "#### Исследование суммарной концентрации металлов на разных стадиях:\n",
    "в сырье, в черновом концентрате, в концентрате после первой очистки и в финальном концентрате.  \n",
    "\n",
    "В металлы входят ```Au```, ```Ag```, ```Pb``` (по предыдущему пункту). Их концентраты в столбцах:  \n",
    "\n",
    " 1   rougher.input.feed_au                               19439 non-null  float64  \n",
    " 2   rougher.input.feed_ag                               19439 non-null  float64    \n",
    " 3   rougher.input.feed_pb                               19339 non-null  float64  \n",
    " \n",
    " 27  rougher.output.concentrate_au                       19439 non-null  float64  \n",
    " 28  rougher.output.concentrate_ag                       19439 non-null  float64  \n",
    " 29  rougher.output.concentrate_pb  \n",
    " \n",
    " 48  primary_cleaner.output.concentrate_au               19439 non-null  float64  \n",
    " 49  primary_cleaner.output.concentrate_ag               19439 non-null  float64  \n",
    " 50  primary_cleaner.output.concentrate_pb \n",
    " \n",
    " 78  final.output.concentrate_au                         19439 non-null  float64  \n",
    " 79  final.output.concentrate_ag                         19438 non-null  float64  \n",
    " 80  final.output.concentrate_pb \n",
    " \n",
    " Найду сумму концентрации металлов на всех стадиях и построю гистограмму:"
   ]
  },
  {
   "cell_type": "code",
   "execution_count": 28,
   "metadata": {},
   "outputs": [
    {
     "data": {
      "text/html": [
       "<div>\n",
       "<style scoped>\n",
       "    .dataframe tbody tr th:only-of-type {\n",
       "        vertical-align: middle;\n",
       "    }\n",
       "\n",
       "    .dataframe tbody tr th {\n",
       "        vertical-align: top;\n",
       "    }\n",
       "\n",
       "    .dataframe thead th {\n",
       "        text-align: right;\n",
       "    }\n",
       "</style>\n",
       "<table border=\"1\" class=\"dataframe\">\n",
       "  <thead>\n",
       "    <tr style=\"text-align: right;\">\n",
       "      <th></th>\n",
       "      <th>сырьё</th>\n",
       "      <th>флотация</th>\n",
       "      <th>первичная очистка</th>\n",
       "      <th>финальный концентрат</th>\n",
       "    </tr>\n",
       "  </thead>\n",
       "  <tbody>\n",
       "    <tr>\n",
       "      <th>0</th>\n",
       "      <td>14.871440</td>\n",
       "      <td>38.395653</td>\n",
       "      <td>53.111627</td>\n",
       "      <td>58.137072</td>\n",
       "    </tr>\n",
       "    <tr>\n",
       "      <th>1</th>\n",
       "      <td>14.905729</td>\n",
       "      <td>38.945647</td>\n",
       "      <td>53.174338</td>\n",
       "      <td>58.699942</td>\n",
       "    </tr>\n",
       "    <tr>\n",
       "      <th>2</th>\n",
       "      <td>14.638299</td>\n",
       "      <td>38.649756</td>\n",
       "      <td>52.927464</td>\n",
       "      <td>58.927421</td>\n",
       "    </tr>\n",
       "    <tr>\n",
       "      <th>3</th>\n",
       "      <td>14.199305</td>\n",
       "      <td>38.411473</td>\n",
       "      <td>43.979185</td>\n",
       "      <td>58.714815</td>\n",
       "    </tr>\n",
       "    <tr>\n",
       "      <th>4</th>\n",
       "      <td>13.511497</td>\n",
       "      <td>38.867359</td>\n",
       "      <td>52.121146</td>\n",
       "      <td>59.065251</td>\n",
       "    </tr>\n",
       "  </tbody>\n",
       "</table>\n",
       "</div>"
      ],
      "text/plain": [
       "       сырьё   флотация  первичная очистка  финальный концентрат\n",
       "0  14.871440  38.395653          53.111627             58.137072\n",
       "1  14.905729  38.945647          53.174338             58.699942\n",
       "2  14.638299  38.649756          52.927464             58.927421\n",
       "3  14.199305  38.411473          43.979185             58.714815\n",
       "4  13.511497  38.867359          52.121146             59.065251"
      ]
     },
     "execution_count": 28,
     "metadata": {},
     "output_type": "execute_result"
    }
   ],
   "source": [
    "data_total = pd.DataFrame()\n",
    "\n",
    "data_total['сырьё'] = data_full['rougher.input.feed_au'] + \\\n",
    "data_full['rougher.input.feed_ag'] + data_full['rougher.input.feed_pb']\n",
    "\n",
    "data_total['флотация'] = data_full['rougher.output.concentrate_au'] + \\\n",
    "data_full['rougher.output.concentrate_ag'] + data_full['rougher.output.concentrate_pb']\n",
    "\n",
    "data_total['первичная очистка'] = data_full['primary_cleaner.output.concentrate_au'] + \\\n",
    "data_full['primary_cleaner.output.concentrate_ag'] + data_full['primary_cleaner.output.concentrate_pb']\n",
    "\n",
    "data_total['финальный концентрат'] = data_full['final.output.concentrate_au'] + \\\n",
    "data_full['final.output.concentrate_ag'] + data_full['final.output.concentrate_pb']\n",
    "\n",
    "data_total.head()"
   ]
  },
  {
   "cell_type": "code",
   "execution_count": 29,
   "metadata": {},
   "outputs": [
    {
     "data": {
      "image/png": "[encoded data removed]",
      "text/plain": [
       "<Figure size 1080x504 with 1 Axes>"
      ]
     },
     "metadata": {
      "needs_background": "light"
     },
     "output_type": "display_data"
    }
   ],
   "source": [
    "data_total.plot(kind='hist',\n",
    "          title='Cуммарная концентрация металлов (Au, Ag, Pb)',\n",
    "          grid=True,\n",
    "          alpha=0.7, \n",
    "          bins=70,\n",
    "          figsize=(15,7),\n",
    "          color=COLORS);\n",
    "plt.xlabel('концентрат металлов')\n",
    "plt.ylabel('частота');"
   ]
  },
  {
   "cell_type": "markdown",
   "metadata": {},
   "source": [
    "<div style=\"border:dotted Thistle 3px; padding: 10px\">\n",
    "    \n",
    "**Промежуточный вывод:**    \n",
    "Суммарная концентрация металлов от этапа к этапу растёт. Около нуля есть выбросы, их надо удалить\n",
    "    \n",
    "</div>"
   ]
  },
  {
   "cell_type": "code",
   "execution_count": 30,
   "metadata": {},
   "outputs": [
    {
     "data": {
      "text/plain": [
       "(14579, 87)"
      ]
     },
     "execution_count": 30,
     "metadata": {},
     "output_type": "execute_result"
    }
   ],
   "source": [
    "data_train.shape"
   ]
  },
  {
   "cell_type": "code",
   "execution_count": 31,
   "metadata": {},
   "outputs": [
    {
     "data": {
      "text/plain": [
       "(14185, 87)"
      ]
     },
     "execution_count": 31,
     "metadata": {},
     "output_type": "execute_result"
    }
   ],
   "source": [
    "data_train = data_train[data_train['rougher.output.concentrate_au'] > 0]\n",
    "data_train = data_train[data_train['rougher.output.concentrate_ag'] > 0]\n",
    "data_train = data_train[data_train['rougher.output.concentrate_pb'] > 0]\n",
    "\n",
    "data_train.shape"
   ]
  },
  {
   "cell_type": "markdown",
   "metadata": {},
   "source": [
    "## Модель\n",
    "\n",
    "#### Подготовка данных\n",
    "\n"
   ]
  },
  {
   "cell_type": "code",
   "execution_count": 32,
   "metadata": {},
   "outputs": [],
   "source": [
    "# data_train[data_train[targets] == 0][targets].count()"
   ]
  },
  {
   "cell_type": "markdown",
   "metadata": {},
   "source": []
  },
  {
   "cell_type": "code",
   "execution_count": 33,
   "metadata": {},
   "outputs": [
    {
     "data": {
      "text/plain": [
       "14185"
      ]
     },
     "execution_count": 33,
     "metadata": {},
     "output_type": "execute_result"
    }
   ],
   "source": [
    "data_train.shape[0]"
   ]
  },
  {
   "cell_type": "code",
   "execution_count": 34,
   "metadata": {},
   "outputs": [
    {
     "data": {
      "text/plain": [
       "(14089, 87)"
      ]
     },
     "execution_count": 34,
     "metadata": {},
     "output_type": "execute_result"
    }
   ],
   "source": [
    "data_train = data_train.loc[(data_train[targets] !=0).all(axis=1)]\n",
    "data_train.shape"
   ]
  },
  {
   "cell_type": "markdown",
   "metadata": {},
   "source": [
    "Найду target столбец для тестовой выборки:"
   ]
  },
  {
   "cell_type": "code",
   "execution_count": 35,
   "metadata": {},
   "outputs": [
    {
     "data": {
      "text/html": [
       "<div>\n",
       "<style scoped>\n",
       "    .dataframe tbody tr th:only-of-type {\n",
       "        vertical-align: middle;\n",
       "    }\n",
       "\n",
       "    .dataframe tbody tr th {\n",
       "        vertical-align: top;\n",
       "    }\n",
       "\n",
       "    .dataframe thead th {\n",
       "        text-align: right;\n",
       "    }\n",
       "</style>\n",
       "<table border=\"1\" class=\"dataframe\">\n",
       "  <thead>\n",
       "    <tr style=\"text-align: right;\">\n",
       "      <th></th>\n",
       "      <th>date</th>\n",
       "      <th>rougher.output.recovery</th>\n",
       "      <th>final.output.recovery</th>\n",
       "    </tr>\n",
       "  </thead>\n",
       "  <tbody>\n",
       "    <tr>\n",
       "      <th>0</th>\n",
       "      <td>2016-01-15 00:00:00</td>\n",
       "      <td>87.107763</td>\n",
       "      <td>70.541216</td>\n",
       "    </tr>\n",
       "    <tr>\n",
       "      <th>1</th>\n",
       "      <td>2016-01-15 01:00:00</td>\n",
       "      <td>86.843261</td>\n",
       "      <td>69.266198</td>\n",
       "    </tr>\n",
       "    <tr>\n",
       "      <th>2</th>\n",
       "      <td>2016-01-15 02:00:00</td>\n",
       "      <td>86.842308</td>\n",
       "      <td>68.116445</td>\n",
       "    </tr>\n",
       "    <tr>\n",
       "      <th>3</th>\n",
       "      <td>2016-01-15 03:00:00</td>\n",
       "      <td>87.226430</td>\n",
       "      <td>68.347543</td>\n",
       "    </tr>\n",
       "    <tr>\n",
       "      <th>4</th>\n",
       "      <td>2016-01-15 04:00:00</td>\n",
       "      <td>86.688794</td>\n",
       "      <td>66.927016</td>\n",
       "    </tr>\n",
       "  </tbody>\n",
       "</table>\n",
       "</div>"
      ],
      "text/plain": [
       "                  date  rougher.output.recovery  final.output.recovery\n",
       "0  2016-01-15 00:00:00                87.107763              70.541216\n",
       "1  2016-01-15 01:00:00                86.843261              69.266198\n",
       "2  2016-01-15 02:00:00                86.842308              68.116445\n",
       "3  2016-01-15 03:00:00                87.226430              68.347543\n",
       "4  2016-01-15 04:00:00                86.688794              66.927016"
      ]
     },
     "execution_count": 35,
     "metadata": {},
     "output_type": "execute_result"
    }
   ],
   "source": [
    "data_full_targets = data_full[['date', 'rougher.output.recovery', 'final.output.recovery']]\n",
    "data_full_targets.head()"
   ]
  },
  {
   "cell_type": "code",
   "execution_count": 36,
   "metadata": {},
   "outputs": [],
   "source": [
    "data_test = data_test.merge(data_full_targets, on=\"date\", how=\"left\")\n",
    "# Разные колонки включая таргеты\n",
    "diff_method = data_train.columns.difference(data_test.columns)"
   ]
  },
  {
   "cell_type": "code",
   "execution_count": 37,
   "metadata": {},
   "outputs": [
    {
     "data": {
      "text/plain": [
       "rougher.output.recovery    0\n",
       "final.output.recovery      0\n",
       "dtype: int64"
      ]
     },
     "execution_count": 37,
     "metadata": {},
     "output_type": "execute_result"
    }
   ],
   "source": [
    "data_test[targets].isna().sum()"
   ]
  },
  {
   "cell_type": "code",
   "execution_count": 38,
   "metadata": {},
   "outputs": [
    {
     "data": {
      "text/plain": [
       "(4860, 55)"
      ]
     },
     "execution_count": 38,
     "metadata": {},
     "output_type": "execute_result"
    }
   ],
   "source": [
    "data_test.shape"
   ]
  },
  {
   "cell_type": "markdown",
   "metadata": {},
   "source": [
    "Удалю несовпадающие колонки из data_train и даты:"
   ]
  },
  {
   "cell_type": "code",
   "execution_count": 39,
   "metadata": {},
   "outputs": [
    {
     "data": {
      "text/plain": [
       "Index(['final.output.concentrate_ag', 'final.output.concentrate_au',\n",
       "       'final.output.concentrate_pb', 'final.output.concentrate_sol',\n",
       "       'final.output.tail_ag', 'final.output.tail_au', 'final.output.tail_pb',\n",
       "       'final.output.tail_sol', 'primary_cleaner.output.concentrate_ag',\n",
       "       'primary_cleaner.output.concentrate_au',\n",
       "       'primary_cleaner.output.concentrate_pb',\n",
       "       'primary_cleaner.output.concentrate_sol',\n",
       "       'primary_cleaner.output.tail_ag', 'primary_cleaner.output.tail_au',\n",
       "       'primary_cleaner.output.tail_pb', 'primary_cleaner.output.tail_sol',\n",
       "       'rougher.calculation.au_pb_ratio',\n",
       "       'rougher.calculation.floatbank10_sulfate_to_au_feed',\n",
       "       'rougher.calculation.floatbank11_sulfate_to_au_feed',\n",
       "       'rougher.calculation.sulfate_to_au_concentrate',\n",
       "       'rougher.output.concentrate_ag', 'rougher.output.concentrate_au',\n",
       "       'rougher.output.concentrate_pb', 'rougher.output.concentrate_sol',\n",
       "       'rougher.output.tail_ag', 'rougher.output.tail_au',\n",
       "       'rougher.output.tail_pb', 'rougher.output.tail_sol',\n",
       "       'secondary_cleaner.output.tail_ag', 'secondary_cleaner.output.tail_au',\n",
       "       'secondary_cleaner.output.tail_pb',\n",
       "       'secondary_cleaner.output.tail_sol'],\n",
       "      dtype='object')"
      ]
     },
     "execution_count": 39,
     "metadata": {},
     "output_type": "execute_result"
    }
   ],
   "source": [
    "diff_method"
   ]
  },
  {
   "cell_type": "code",
   "execution_count": 40,
   "metadata": {},
   "outputs": [],
   "source": [
    "data_train = data_train.drop('date', axis=1)\n",
    "data_test = data_test.drop('date', axis=1)"
   ]
  },
  {
   "cell_type": "code",
   "execution_count": 41,
   "metadata": {},
   "outputs": [],
   "source": [
    "data_train = data_train.drop(diff_method, axis=1)"
   ]
  },
  {
   "cell_type": "code",
   "execution_count": 42,
   "metadata": {},
   "outputs": [
    {
     "data": {
      "text/plain": [
       "54"
      ]
     },
     "execution_count": 42,
     "metadata": {},
     "output_type": "execute_result"
    }
   ],
   "source": [
    "data_train.shape[1]"
   ]
  },
  {
   "cell_type": "code",
   "execution_count": 43,
   "metadata": {},
   "outputs": [
    {
     "data": {
      "text/plain": [
       "54"
      ]
     },
     "execution_count": 43,
     "metadata": {},
     "output_type": "execute_result"
    }
   ],
   "source": [
    "data_test.shape[1]"
   ]
  },
  {
   "cell_type": "markdown",
   "metadata": {},
   "source": [
    "#### sMAPE\n",
    "\n",
    "Метрика модели sMAPE вычисляется по формуле:\n",
    "\n",
    "$$\n",
    "sMAPE = \\frac{1}{n}\\sum^N_{i=1}\\frac{|y_i - ŷ_i|}{(|y_i| + |ŷ_i|)/2} \\cdot 100\\%\n",
    "$$\n",
    "\n",
    "Итоговое:\n",
    "\n",
    "$$\n",
    "итоговое   sMAPE = 25\\% \\cdot sMAPE(rougher) + 75\\% \\cdot sMAPE(final)\n",
    "$$\n",
    "\n",
    "где:\n",
    "\n",
    "- y(i) Значение целевого признака для объекта с порядковым номером i в выборке, на которой измеряется качество.\n",
    "- ŷ(i) Значение предсказания для объекта с порядковым номером i, например, в тестовой выборке.\n",
    "- N Количество объектов в выборке.\n",
    "\n",
    "Суммирование по всем объектам выборки (i меняется от 1 до N)."
   ]
  },
  {
   "cell_type": "code",
   "execution_count": 44,
   "metadata": {},
   "outputs": [
    {
     "data": {
      "text/plain": [
       "['rougher.output.recovery', 'final.output.recovery']"
      ]
     },
     "execution_count": 44,
     "metadata": {},
     "output_type": "execute_result"
    }
   ],
   "source": [
    "targets"
   ]
  },
  {
   "cell_type": "code",
   "execution_count": 45,
   "metadata": {},
   "outputs": [],
   "source": [
    "# sMAPE одного элемента\n",
    "def sMAPE(target, predictions):\n",
    "    part_1 = abs(target - predictions)\n",
    "    part_2 = abs(target) + abs(predictions) / 2\n",
    "    return 100/len(target) * sum(part_1 / part_2)\n",
    "\n",
    "\n",
    "# Итоговое\n",
    "def result_sMAPE(target, predictions):\n",
    "    target_rougher = target[targets[0]]\n",
    "    target_final = target[targets[1]]\n",
    "    \n",
    "    predictions_rougher = predictions[:, 0]\n",
    "    predictions_final = predictions[:, 1]   \n",
    "    \n",
    "    return 0.25*sMAPE(target_rougher, predictions_rougher) + \\\n",
    "           0.75*sMAPE(target_final, predictions_final)"
   ]
  },
  {
   "cell_type": "code",
   "execution_count": 46,
   "metadata": {},
   "outputs": [],
   "source": [
    "sMAPE_scorer = make_scorer(result_sMAPE, greater_is_better=False)"
   ]
  },
  {
   "cell_type": "markdown",
   "metadata": {},
   "source": [
    "#### Обучение разных моделей и оценка их качества кросс-валидацией.   \n",
    "\n",
    "Разделю данные на выборки:  "
   ]
  },
  {
   "cell_type": "code",
   "execution_count": 47,
   "metadata": {},
   "outputs": [
    {
     "name": "stdout",
     "output_type": "stream",
     "text": [
      "Размер обучающей выборки:\n"
     ]
    },
    {
     "data": {
      "text/plain": [
       "(14089, 52)"
      ]
     },
     "metadata": {},
     "output_type": "display_data"
    },
    {
     "data": {
      "text/plain": [
       "(14089, 2)"
      ]
     },
     "metadata": {},
     "output_type": "display_data"
    },
    {
     "name": "stdout",
     "output_type": "stream",
     "text": [
      "Размер тестовой выборки:\n"
     ]
    },
    {
     "data": {
      "text/plain": [
       "(4860, 52)"
      ]
     },
     "metadata": {},
     "output_type": "display_data"
    },
    {
     "data": {
      "text/plain": [
       "(4860, 2)"
      ]
     },
     "metadata": {},
     "output_type": "display_data"
    }
   ],
   "source": [
    "features_train = data_train.drop(targets, axis=1)\n",
    "target_train = data_train[targets]\n",
    "features_test = data_test.drop(targets, axis=1)\n",
    "target_test = data_test[targets]\n",
    "\n",
    "print('Размер обучающей выборки:')\n",
    "display(features_train.shape)\n",
    "display(target_train.shape)\n",
    "\n",
    "print('Размер тестовой выборки:')\n",
    "display(features_test.shape)\n",
    "display(target_test.shape)"
   ]
  },
  {
   "cell_type": "markdown",
   "metadata": {},
   "source": [
    "##### Линейная регрессия"
   ]
  },
  {
   "cell_type": "code",
   "execution_count": 48,
   "metadata": {},
   "outputs": [],
   "source": [
    "model_linear = LinearRegression()"
   ]
  },
  {
   "cell_type": "code",
   "execution_count": 49,
   "metadata": {},
   "outputs": [
    {
     "data": {
      "text/plain": [
       "array([-6.6192539 , -5.69998666, -8.37611339])"
      ]
     },
     "execution_count": 49,
     "metadata": {},
     "output_type": "execute_result"
    }
   ],
   "source": [
    "sMAPE_linear = cross_val_score(model_linear, features_train, target_train, cv=3, scoring=sMAPE_scorer)\n",
    "sMAPE_linear"
   ]
  },
  {
   "cell_type": "code",
   "execution_count": 50,
   "metadata": {},
   "outputs": [
    {
     "data": {
      "text/plain": [
       "-6.898451315014228"
      ]
     },
     "execution_count": 50,
     "metadata": {},
     "output_type": "execute_result"
    }
   ],
   "source": [
    "sMAPE_linear.mean()"
   ]
  },
  {
   "cell_type": "markdown",
   "metadata": {},
   "source": [
    "##### DecisionTreeRegressor"
   ]
  },
  {
   "cell_type": "code",
   "execution_count": 51,
   "metadata": {},
   "outputs": [],
   "source": [
    "model_decision_tree = DecisionTreeRegressor(random_state=RANDOM_STATE)"
   ]
  },
  {
   "cell_type": "code",
   "execution_count": 52,
   "metadata": {},
   "outputs": [
    {
     "data": {
      "text/plain": [
       "array([-9.10288122, -8.45937095, -9.71030016])"
      ]
     },
     "execution_count": 52,
     "metadata": {},
     "output_type": "execute_result"
    }
   ],
   "source": [
    "sMAPE_tree = cross_val_score(model_decision_tree, features_train, target_train, cv=3, scoring=sMAPE_scorer)\n",
    "sMAPE_tree"
   ]
  },
  {
   "cell_type": "code",
   "execution_count": 53,
   "metadata": {},
   "outputs": [
    {
     "data": {
      "text/plain": [
       "-9.090850777306875"
      ]
     },
     "execution_count": 53,
     "metadata": {},
     "output_type": "execute_result"
    }
   ],
   "source": [
    "sMAPE_tree.mean()"
   ]
  },
  {
   "cell_type": "markdown",
   "metadata": {},
   "source": [
    "##### RandomForestRegressor"
   ]
  },
  {
   "cell_type": "code",
   "execution_count": 54,
   "metadata": {},
   "outputs": [],
   "source": [
    "model_forest = RandomForestRegressor(random_state=RANDOM_STATE)"
   ]
  },
  {
   "cell_type": "code",
   "execution_count": 55,
   "metadata": {},
   "outputs": [
    {
     "data": {
      "text/plain": [
       "array([-6.05537377, -5.61300947, -7.5968334 ])"
      ]
     },
     "execution_count": 55,
     "metadata": {},
     "output_type": "execute_result"
    }
   ],
   "source": [
    "sMAPE_forest = cross_val_score(model_forest, features_train, target_train, cv=3, scoring=sMAPE_scorer)\n",
    "sMAPE_forest"
   ]
  },
  {
   "cell_type": "code",
   "execution_count": 56,
   "metadata": {},
   "outputs": [
    {
     "data": {
      "text/plain": [
       "-6.4217388802076565"
      ]
     },
     "execution_count": 56,
     "metadata": {},
     "output_type": "execute_result"
    }
   ],
   "source": [
    "sMAPE_forest.mean()"
   ]
  },
  {
   "cell_type": "markdown",
   "metadata": {},
   "source": [
    "<div style=\"border:dotted Thistle 3px; padding: 10px\">\n",
    "\n",
    "**Промежуточный вывод:**  \n",
    "\n",
    "|модель|sMAPE|    \n",
    "|:---|---|\n",
    "|Линейная регрессия|6.89|\n",
    "|DecisionTreeRegressor|9.09|\n",
    "|RandomForestRegressor|6.42|    \n",
    "    \n",
    "    \n",
    "Лучший результат result_sMAPE показала модель ```RandomForestRegressor : model_forest```.\n",
    "    \n",
    "    \n",
    "</div>\n",
    "\n",
    "Попробую подобрать гиперпараметры"
   ]
  },
  {
   "cell_type": "code",
   "execution_count": 57,
   "metadata": {},
   "outputs": [],
   "source": [
    "parameters = {\n",
    "    \"n_estimators\": [5, 10, 15, 20, 25], \n",
    "    \"max_depth\": [3, 5],\n",
    "}"
   ]
  },
  {
   "cell_type": "code",
   "execution_count": 58,
   "metadata": {},
   "outputs": [],
   "source": [
    "model_forest = GridSearchCV(model_forest, parameters, cv=3,scoring=sMAPE_scorer)"
   ]
  },
  {
   "cell_type": "code",
   "execution_count": 59,
   "metadata": {},
   "outputs": [
    {
     "name": "stdout",
     "output_type": "stream",
     "text": [
      "-----\n",
      "Лучшие параметры {'max_depth': 3, 'n_estimators': 15}\n",
      "Лучшее sMAPE: -6.020329976211319\n",
      "-----\n"
     ]
    }
   ],
   "source": [
    "model_forest.fit(features_train, target_train)\n",
    "\n",
    "print('-----')\n",
    "print(f'Лучшие параметры {model_forest.best_params_}')\n",
    "print(f'Лучшее sMAPE: {model_forest.best_score_}')\n",
    "print('-----')"
   ]
  },
  {
   "cell_type": "code",
   "execution_count": 60,
   "metadata": {},
   "outputs": [
    {
     "data": {
      "text/plain": [
       "RandomForestRegressor(max_depth=3, n_estimators=15, random_state=42)"
      ]
     },
     "execution_count": 60,
     "metadata": {},
     "output_type": "execute_result"
    }
   ],
   "source": [
    "model_forest = RandomForestRegressor(random_state=RANDOM_STATE, max_depth=3, n_estimators=15)\n",
    "model_forest.fit(features_train, target_train)"
   ]
  },
  {
   "cell_type": "markdown",
   "metadata": {},
   "source": [
    "#### Тестирование"
   ]
  },
  {
   "cell_type": "code",
   "execution_count": 61,
   "metadata": {},
   "outputs": [],
   "source": [
    "predictions = model_forest.predict(features_test)"
   ]
  },
  {
   "cell_type": "code",
   "execution_count": 62,
   "metadata": {},
   "outputs": [
    {
     "data": {
      "text/plain": [
       "5.038034872444752"
      ]
     },
     "execution_count": 62,
     "metadata": {},
     "output_type": "execute_result"
    }
   ],
   "source": [
    "result_sMAPE(target_test, predictions)"
   ]
  },
  {
   "cell_type": "code",
   "execution_count": 63,
   "metadata": {},
   "outputs": [
    {
     "data": {
      "text/plain": [
       "5.7336646604647"
      ]
     },
     "execution_count": 63,
     "metadata": {},
     "output_type": "execute_result"
    }
   ],
   "source": [
    "dummy = DummyRegressor(strategy='mean')\n",
    "dummy.fit(features_train, target_train)\n",
    "predictions_dummy = dummy.predict(features_test)\n",
    "\n",
    "\n",
    "result_sMAPE(target_test, predictions_dummy)"
   ]
  },
  {
   "cell_type": "markdown",
   "metadata": {},
   "source": [
    "Результат у итоговой модели лучше, чем у константной."
   ]
  },
  {
   "cell_type": "code",
   "execution_count": 64,
   "metadata": {},
   "outputs": [
    {
     "data": {
      "image/png": "[encoded data removed]",
      "text/plain": [
       "<Figure size 1008x360 with 1 Axes>"
      ]
     },
     "metadata": {
      "needs_background": "light"
     },
     "output_type": "display_data"
    }
   ],
   "source": [
    "importances = model_forest.feature_importances_\n",
    "\n",
    "# График\n",
    "indices = np.argsort(importances)[::-1]\n",
    "\n",
    "f = plt.figure()\n",
    "f.set_figwidth(14)\n",
    "f.set_figheight(5)\n",
    "\n",
    "plt.bar(range(features_train.shape[1]), importances[indices], color=['IndianRed'])\n",
    "\n",
    "plt.grid(visible=True)\n",
    "plt.xticks(range(features_train.shape[1]), features_train.columns[indices], rotation=90)\n",
    "plt.xlabel('Признак')\n",
    "plt.ylabel('Важность')\n",
    "plt.title('Значимость признаков')\n",
    "plt.show()"
   ]
  },
  {
   "attachments": {
    "image-2.png": {
     "image/png": "[encoded data removed]"
    },
    "image-3.png": {
     "image/png": "[encoded data removed]"
    },
    "image.png": {
     "image/png": "[encoded data removed]"
    }
   },
   "cell_type": "markdown",
   "metadata": {},
   "source": [
    "## Вывод\n",
    "\n",
    "**Дано:** данные с описанием признаков технологического процесса  \n",
    "**Задача:** спрогнозировать эффективность обогащения чернового концентрата и эффективность обогащения финального концентрата  \n",
    "\n",
    "По условию задачи, основной метрикой качества модели является result_sMAPE, которая вычисляется по формуле:\n",
    "\n",
    "![image.png](attachment:image.png)\n",
    "\n",
    "---\n",
    "\n",
    "Работа делится на несколько этапов:\n",
    "- подготовка данных\n",
    "- анализ данных\n",
    "- обучение моделей, выбор лучшей\n",
    "- тестирование  \n",
    "\n",
    "---\n",
    "\n",
    "В рамках подготовки данных были удалены пропуски (путём замены их на ближайшие значения), удалены лишние столбцы, удалены выбросы с целевых признаков.\n",
    "\n",
    "---\n",
    "\n",
    "В ходе анализа данных был построен график распределения целевого металла AU по этапам  обработки:\n",
    "\n",
    "![image-2.png](attachment:image-2.png)\n",
    "\n",
    "Концентрации металлов в сплаве по этапам:\n",
    "\n",
    "![image-3.png](attachment:image-3.png)\n",
    "\n",
    "---\n",
    "\n",
    "После обучения моделей, была выбрана ```model_forest```, показавшая лучший результат **sMAPE в 6.17 на обучающей выборке и 5.03 на тестовой**."
   ]
  }
 ],
 "metadata": {
  "ExecuteTimeLog": [
   {
    "duration": 417,
    "start_time": "2023-08-09T08:05:03.446Z"
   },
   {
    "duration": 2,
    "start_time": "2023-08-09T08:05:28.249Z"
   },
   {
    "duration": 2,
    "start_time": "2023-08-09T08:05:28.599Z"
   },
   {
    "duration": 3,
    "start_time": "2023-08-09T08:07:15.334Z"
   },
   {
    "duration": 196,
    "start_time": "2023-08-09T08:07:17.280Z"
   },
   {
    "duration": 8,
    "start_time": "2023-08-09T08:07:30.865Z"
   },
   {
    "duration": 2221,
    "start_time": "2023-08-09T08:07:59.957Z"
   },
   {
    "duration": 3,
    "start_time": "2023-08-09T08:11:13.446Z"
   },
   {
    "duration": 258,
    "start_time": "2023-08-09T08:11:25.618Z"
   },
   {
    "duration": 8,
    "start_time": "2023-08-09T08:11:54.262Z"
   },
   {
    "duration": 266,
    "start_time": "2023-08-09T08:11:54.777Z"
   },
   {
    "duration": 3,
    "start_time": "2023-08-09T08:12:05.173Z"
   },
   {
    "duration": 289,
    "start_time": "2023-08-09T08:12:05.579Z"
   },
   {
    "duration": 4,
    "start_time": "2023-08-09T08:12:24.895Z"
   },
   {
    "duration": 4,
    "start_time": "2023-08-09T08:12:52.811Z"
   },
   {
    "duration": 233,
    "start_time": "2023-08-09T08:12:58.781Z"
   },
   {
    "duration": 3,
    "start_time": "2023-08-09T08:13:06.183Z"
   },
   {
    "duration": 225,
    "start_time": "2023-08-09T08:13:08.313Z"
   },
   {
    "duration": 3,
    "start_time": "2023-08-09T08:13:44.804Z"
   },
   {
    "duration": 26,
    "start_time": "2023-08-09T08:13:45.164Z"
   },
   {
    "duration": 3,
    "start_time": "2023-08-09T08:15:07.911Z"
   },
   {
    "duration": 18,
    "start_time": "2023-08-09T08:15:08.283Z"
   },
   {
    "duration": 8,
    "start_time": "2023-08-09T08:15:40.973Z"
   },
   {
    "duration": 16,
    "start_time": "2023-08-09T08:15:42.815Z"
   },
   {
    "duration": 4,
    "start_time": "2023-08-09T08:15:56.944Z"
   },
   {
    "duration": 22,
    "start_time": "2023-08-09T08:15:58.139Z"
   },
   {
    "duration": 6,
    "start_time": "2023-08-09T08:21:18.877Z"
   },
   {
    "duration": 269,
    "start_time": "2023-08-09T08:21:19.335Z"
   },
   {
    "duration": 3,
    "start_time": "2023-08-09T08:22:16.101Z"
   },
   {
    "duration": 265,
    "start_time": "2023-08-09T08:22:16.573Z"
   },
   {
    "duration": 5,
    "start_time": "2023-08-09T08:22:43.199Z"
   },
   {
    "duration": 250,
    "start_time": "2023-08-09T08:22:45.070Z"
   },
   {
    "duration": 2,
    "start_time": "2023-08-09T08:24:21.407Z"
   },
   {
    "duration": 246,
    "start_time": "2023-08-09T08:24:24.768Z"
   },
   {
    "duration": 4,
    "start_time": "2023-08-09T08:25:36.603Z"
   },
   {
    "duration": 258,
    "start_time": "2023-08-09T08:25:37.068Z"
   },
   {
    "duration": 4,
    "start_time": "2023-08-09T08:26:34.064Z"
   },
   {
    "duration": 4,
    "start_time": "2023-08-09T08:26:42.908Z"
   },
   {
    "duration": 6065,
    "start_time": "2023-08-09T08:26:47.838Z"
   },
   {
    "duration": 7,
    "start_time": "2023-08-09T08:27:03.108Z"
   },
   {
    "duration": 278,
    "start_time": "2023-08-09T08:27:04.137Z"
   },
   {
    "duration": 6,
    "start_time": "2023-08-09T08:33:52.055Z"
   },
   {
    "duration": 290,
    "start_time": "2023-08-09T08:33:52.498Z"
   },
   {
    "duration": 6,
    "start_time": "2023-08-09T08:34:48.202Z"
   },
   {
    "duration": 271,
    "start_time": "2023-08-09T08:34:48.610Z"
   },
   {
    "duration": 8,
    "start_time": "2023-08-09T08:35:54.281Z"
   },
   {
    "duration": 264,
    "start_time": "2023-08-09T08:35:54.770Z"
   },
   {
    "duration": 5,
    "start_time": "2023-08-09T08:36:08.670Z"
   },
   {
    "duration": 275,
    "start_time": "2023-08-09T08:36:09.022Z"
   },
   {
    "duration": 6,
    "start_time": "2023-08-09T08:36:36.368Z"
   },
   {
    "duration": 271,
    "start_time": "2023-08-09T08:36:36.820Z"
   },
   {
    "duration": 7,
    "start_time": "2023-08-09T08:38:14.876Z"
   },
   {
    "duration": 280,
    "start_time": "2023-08-09T08:38:15.402Z"
   },
   {
    "duration": 6,
    "start_time": "2023-08-09T08:39:56.918Z"
   },
   {
    "duration": 299,
    "start_time": "2023-08-09T08:39:57.417Z"
   },
   {
    "duration": 8,
    "start_time": "2023-08-09T08:43:47.228Z"
   },
   {
    "duration": 331,
    "start_time": "2023-08-09T08:43:47.676Z"
   },
   {
    "duration": 7,
    "start_time": "2023-08-09T08:44:03.210Z"
   },
   {
    "duration": 330,
    "start_time": "2023-08-09T08:44:03.632Z"
   },
   {
    "duration": 10,
    "start_time": "2023-08-09T08:45:20.085Z"
   },
   {
    "duration": 341,
    "start_time": "2023-08-09T08:45:20.478Z"
   },
   {
    "duration": 865,
    "start_time": "2023-08-09T08:46:22.801Z"
   },
   {
    "duration": 436,
    "start_time": "2023-08-09T08:47:40.199Z"
   },
   {
    "duration": 3,
    "start_time": "2023-08-09T08:47:47.946Z"
   },
   {
    "duration": 17,
    "start_time": "2023-08-09T08:52:16.072Z"
   },
   {
    "duration": 11,
    "start_time": "2023-08-09T08:52:21.523Z"
   },
   {
    "duration": 414,
    "start_time": "2023-08-09T08:52:21.967Z"
   },
   {
    "duration": 452,
    "start_time": "2023-08-09T08:52:30.932Z"
   },
   {
    "duration": 16,
    "start_time": "2023-08-09T08:53:54.739Z"
   },
   {
    "duration": 667,
    "start_time": "2023-08-09T08:53:55.274Z"
   },
   {
    "duration": 10,
    "start_time": "2023-08-09T08:54:50.904Z"
   },
   {
    "duration": 656,
    "start_time": "2023-08-09T08:54:51.410Z"
   },
   {
    "duration": 11,
    "start_time": "2023-08-09T08:55:19.175Z"
   },
   {
    "duration": 595,
    "start_time": "2023-08-09T08:55:19.627Z"
   },
   {
    "duration": 93,
    "start_time": "2023-08-09T08:55:52.736Z"
   },
   {
    "duration": 547,
    "start_time": "2023-08-09T08:55:54.372Z"
   },
   {
    "duration": 110,
    "start_time": "2023-08-09T08:56:12.479Z"
   },
   {
    "duration": 16,
    "start_time": "2023-08-09T08:56:21.154Z"
   },
   {
    "duration": 590,
    "start_time": "2023-08-09T08:56:23.091Z"
   },
   {
    "duration": 14,
    "start_time": "2023-08-09T08:58:12.949Z"
   },
   {
    "duration": 605,
    "start_time": "2023-08-09T08:58:14.903Z"
   },
   {
    "duration": 11,
    "start_time": "2023-08-09T08:59:24.321Z"
   },
   {
    "duration": 567,
    "start_time": "2023-08-09T08:59:26.420Z"
   },
   {
    "duration": 11,
    "start_time": "2023-08-09T08:59:54.568Z"
   },
   {
    "duration": 569,
    "start_time": "2023-08-09T08:59:55.024Z"
   },
   {
    "duration": 10,
    "start_time": "2023-08-09T09:00:29.441Z"
   },
   {
    "duration": 567,
    "start_time": "2023-08-09T09:00:29.867Z"
   },
   {
    "duration": 9,
    "start_time": "2023-08-09T09:01:21.313Z"
   },
   {
    "duration": 528,
    "start_time": "2023-08-09T09:01:21.801Z"
   },
   {
    "duration": 618,
    "start_time": "2023-08-09T09:01:26.008Z"
   },
   {
    "duration": 11,
    "start_time": "2023-08-09T09:03:12.899Z"
   },
   {
    "duration": 817,
    "start_time": "2023-08-09T09:03:13.471Z"
   },
   {
    "duration": 17,
    "start_time": "2023-08-09T09:04:50.449Z"
   },
   {
    "duration": 753,
    "start_time": "2023-08-09T09:04:51.580Z"
   },
   {
    "duration": 91,
    "start_time": "2023-08-09T09:05:59.268Z"
   },
   {
    "duration": 10,
    "start_time": "2023-08-09T09:06:03.699Z"
   },
   {
    "duration": 778,
    "start_time": "2023-08-09T09:06:04.199Z"
   },
   {
    "duration": 11,
    "start_time": "2023-08-09T09:08:02.420Z"
   },
   {
    "duration": 624,
    "start_time": "2023-08-09T09:08:03.123Z"
   },
   {
    "duration": 13,
    "start_time": "2023-08-09T09:10:22.836Z"
   },
   {
    "duration": 695,
    "start_time": "2023-08-09T09:10:23.434Z"
   },
   {
    "duration": 504,
    "start_time": "2023-08-09T09:11:01.711Z"
   },
   {
    "duration": 11,
    "start_time": "2023-08-09T09:11:09.033Z"
   },
   {
    "duration": 7879,
    "start_time": "2023-08-09T09:11:10.149Z"
   },
   {
    "duration": 11,
    "start_time": "2023-08-09T09:11:20.470Z"
   },
   {
    "duration": 7551,
    "start_time": "2023-08-09T09:11:21.571Z"
   },
   {
    "duration": 10,
    "start_time": "2023-08-09T09:13:33.010Z"
   },
   {
    "duration": 339,
    "start_time": "2023-08-09T09:13:33.569Z"
   },
   {
    "duration": 3,
    "start_time": "2023-08-09T09:14:49.885Z"
   },
   {
    "duration": 24,
    "start_time": "2023-08-09T09:14:49.890Z"
   },
   {
    "duration": 39428,
    "start_time": "2023-08-09T09:14:49.916Z"
   },
   {
    "duration": 11,
    "start_time": "2023-08-09T09:15:40.327Z"
   },
   {
    "duration": 8,
    "start_time": "2023-08-09T09:15:41.766Z"
   },
   {
    "duration": 641,
    "start_time": "2023-08-09T09:15:42.402Z"
   },
   {
    "duration": 14,
    "start_time": "2023-08-09T09:16:02.796Z"
   },
   {
    "duration": 5,
    "start_time": "2023-08-09T09:16:03.650Z"
   },
   {
    "duration": 636,
    "start_time": "2023-08-09T09:16:04.286Z"
   },
   {
    "duration": 12,
    "start_time": "2023-08-09T09:32:25.481Z"
   },
   {
    "duration": 177,
    "start_time": "2023-08-09T09:32:28.255Z"
   },
   {
    "duration": 192,
    "start_time": "2023-08-09T09:32:34.818Z"
   },
   {
    "duration": 12,
    "start_time": "2023-08-09T09:36:28.334Z"
   },
   {
    "duration": 413,
    "start_time": "2023-08-09T09:36:33.027Z"
   },
   {
    "duration": 3,
    "start_time": "2023-08-09T09:36:41.672Z"
   },
   {
    "duration": 12,
    "start_time": "2023-08-09T09:38:45.883Z"
   },
   {
    "duration": 163,
    "start_time": "2023-08-09T09:38:49.278Z"
   },
   {
    "duration": 11,
    "start_time": "2023-08-09T09:38:58.600Z"
   },
   {
    "duration": 169,
    "start_time": "2023-08-09T09:39:01.163Z"
   },
   {
    "duration": 11,
    "start_time": "2023-08-09T09:40:44.911Z"
   },
   {
    "duration": 7626,
    "start_time": "2023-08-09T09:40:49.879Z"
   },
   {
    "duration": 13,
    "start_time": "2023-08-09T09:41:19.472Z"
   },
   {
    "duration": 3,
    "start_time": "2023-08-09T09:41:21.595Z"
   },
   {
    "duration": 296,
    "start_time": "2023-08-09T09:41:21.933Z"
   },
   {
    "duration": 13,
    "start_time": "2023-08-09T09:41:28.675Z"
   },
   {
    "duration": 3,
    "start_time": "2023-08-09T09:41:29.221Z"
   },
   {
    "duration": 8132,
    "start_time": "2023-08-09T09:41:29.728Z"
   },
   {
    "duration": 14,
    "start_time": "2023-08-09T09:45:20.287Z"
   },
   {
    "duration": 13,
    "start_time": "2023-08-09T09:46:27.386Z"
   },
   {
    "duration": 16,
    "start_time": "2023-08-09T09:46:51.658Z"
   },
   {
    "duration": 12,
    "start_time": "2023-08-09T09:47:01.795Z"
   },
   {
    "duration": 11,
    "start_time": "2023-08-09T09:48:18.895Z"
   },
   {
    "duration": 5,
    "start_time": "2023-08-09T09:48:24.373Z"
   },
   {
    "duration": 25,
    "start_time": "2023-08-09T09:55:50.649Z"
   },
   {
    "duration": 5,
    "start_time": "2023-08-09T09:55:51.938Z"
   },
   {
    "duration": 240,
    "start_time": "2023-08-09T09:55:52.475Z"
   },
   {
    "duration": 25,
    "start_time": "2023-08-09T09:56:16.351Z"
   },
   {
    "duration": 3,
    "start_time": "2023-08-09T09:56:17.241Z"
   },
   {
    "duration": 1396,
    "start_time": "2023-08-09T09:56:17.831Z"
   },
   {
    "duration": 14,
    "start_time": "2023-08-09T09:56:58.890Z"
   },
   {
    "duration": 226,
    "start_time": "2023-08-09T09:57:01.145Z"
   },
   {
    "duration": 19,
    "start_time": "2023-08-09T09:57:52.228Z"
   },
   {
    "duration": 574,
    "start_time": "2023-08-09T09:57:54.838Z"
   },
   {
    "duration": 16,
    "start_time": "2023-08-09T10:01:50.269Z"
   },
   {
    "duration": 27,
    "start_time": "2023-08-09T10:01:52.216Z"
   },
   {
    "duration": 24,
    "start_time": "2023-08-09T10:02:29.160Z"
   },
   {
    "duration": 573,
    "start_time": "2023-08-09T10:02:31.168Z"
   },
   {
    "duration": 15,
    "start_time": "2023-08-09T10:02:51.677Z"
   },
   {
    "duration": 504,
    "start_time": "2023-08-09T10:02:53.581Z"
   },
   {
    "duration": 14,
    "start_time": "2023-08-09T10:05:46.772Z"
   },
   {
    "duration": 186,
    "start_time": "2023-08-09T10:05:49.301Z"
   },
   {
    "duration": 150,
    "start_time": "2023-08-09T10:06:32.847Z"
   },
   {
    "duration": 297,
    "start_time": "2023-08-09T10:06:34.906Z"
   },
   {
    "duration": 15,
    "start_time": "2023-08-09T10:07:01.274Z"
   },
   {
    "duration": 268,
    "start_time": "2023-08-09T10:07:02.892Z"
   },
   {
    "duration": 23,
    "start_time": "2023-08-09T10:10:11.978Z"
   },
   {
    "duration": 236,
    "start_time": "2023-08-09T10:10:13.640Z"
   },
   {
    "duration": 110,
    "start_time": "2023-08-09T10:10:55.047Z"
   },
   {
    "duration": 213,
    "start_time": "2023-08-09T10:10:56.803Z"
   },
   {
    "duration": 15,
    "start_time": "2023-08-09T10:11:22.317Z"
   },
   {
    "duration": 267,
    "start_time": "2023-08-09T10:11:24.234Z"
   },
   {
    "duration": 30,
    "start_time": "2023-08-09T10:11:42.645Z"
   },
   {
    "duration": 193,
    "start_time": "2023-08-09T10:11:44.468Z"
   },
   {
    "duration": 16,
    "start_time": "2023-08-09T10:12:05.899Z"
   },
   {
    "duration": 217,
    "start_time": "2023-08-09T10:12:07.672Z"
   },
   {
    "duration": 25,
    "start_time": "2023-08-09T10:12:23.749Z"
   },
   {
    "duration": 240,
    "start_time": "2023-08-09T10:12:25.790Z"
   },
   {
    "duration": 20,
    "start_time": "2023-08-09T10:12:33.504Z"
   },
   {
    "duration": 15,
    "start_time": "2023-08-09T10:13:14.976Z"
   },
   {
    "duration": 247,
    "start_time": "2023-08-09T10:13:16.696Z"
   },
   {
    "duration": 15,
    "start_time": "2023-08-09T10:14:28.576Z"
   },
   {
    "duration": 255,
    "start_time": "2023-08-09T10:14:30.820Z"
   },
   {
    "duration": 113,
    "start_time": "2023-08-09T10:16:53.871Z"
   },
   {
    "duration": 275,
    "start_time": "2023-08-09T10:16:56.637Z"
   },
   {
    "duration": 14,
    "start_time": "2023-08-09T10:17:31.819Z"
   },
   {
    "duration": 242,
    "start_time": "2023-08-09T10:17:33.599Z"
   },
   {
    "duration": 28,
    "start_time": "2023-08-09T17:04:32.010Z"
   },
   {
    "duration": 51,
    "start_time": "2023-08-09T17:04:38.652Z"
   },
   {
    "duration": 436,
    "start_time": "2023-08-09T17:04:55.371Z"
   },
   {
    "duration": 2,
    "start_time": "2023-08-09T17:04:55.809Z"
   },
   {
    "duration": 10,
    "start_time": "2023-08-09T17:04:55.813Z"
   },
   {
    "duration": 459,
    "start_time": "2023-08-09T17:04:55.826Z"
   },
   {
    "duration": 3,
    "start_time": "2023-08-09T17:04:56.286Z"
   },
   {
    "duration": 652,
    "start_time": "2023-08-09T17:04:56.291Z"
   },
   {
    "duration": 3342,
    "start_time": "2023-08-09T17:04:56.945Z"
   },
   {
    "duration": 17,
    "start_time": "2023-08-09T17:05:00.289Z"
   },
   {
    "duration": 508,
    "start_time": "2023-08-09T17:05:00.308Z"
   },
   {
    "duration": 214,
    "start_time": "2023-08-09T17:05:00.818Z"
   },
   {
    "duration": 17,
    "start_time": "2023-08-09T17:25:56.893Z"
   },
   {
    "duration": 489,
    "start_time": "2023-08-09T17:25:58.711Z"
   },
   {
    "duration": 7,
    "start_time": "2023-08-09T17:31:07.718Z"
   },
   {
    "duration": 11,
    "start_time": "2023-08-09T17:31:18.084Z"
   },
   {
    "duration": 8,
    "start_time": "2023-08-09T17:31:26.996Z"
   },
   {
    "duration": 7,
    "start_time": "2023-08-09T17:35:08.475Z"
   },
   {
    "duration": 974,
    "start_time": "2023-08-09T17:47:57.582Z"
   },
   {
    "duration": 411,
    "start_time": "2023-08-09T18:05:46.538Z"
   },
   {
    "duration": 3,
    "start_time": "2023-08-09T18:05:46.952Z"
   },
   {
    "duration": 10,
    "start_time": "2023-08-09T18:05:46.957Z"
   },
   {
    "duration": 304,
    "start_time": "2023-08-09T18:05:46.970Z"
   },
   {
    "duration": 17,
    "start_time": "2023-08-09T18:05:47.282Z"
   },
   {
    "duration": 556,
    "start_time": "2023-08-09T18:05:47.305Z"
   },
   {
    "duration": 970,
    "start_time": "2023-08-09T18:05:47.863Z"
   },
   {
    "duration": 5,
    "start_time": "2023-08-09T18:05:48.834Z"
   },
   {
    "duration": 25,
    "start_time": "2023-08-09T18:05:48.881Z"
   },
   {
    "duration": 617,
    "start_time": "2023-08-09T18:05:48.909Z"
   },
   {
    "duration": 113,
    "start_time": "2023-08-09T18:05:49.528Z"
   },
   {
    "duration": 0,
    "start_time": "2023-08-09T18:05:49.642Z"
   },
   {
    "duration": 3,
    "start_time": "2023-08-09T18:10:28.538Z"
   },
   {
    "duration": 13,
    "start_time": "2023-08-09T18:10:51.234Z"
   },
   {
    "duration": 514,
    "start_time": "2023-08-09T18:10:56.177Z"
   },
   {
    "duration": 10,
    "start_time": "2023-08-09T18:14:30.235Z"
   },
   {
    "duration": 540,
    "start_time": "2023-08-09T18:14:31.494Z"
   },
   {
    "duration": 9,
    "start_time": "2023-08-09T18:15:17.190Z"
   },
   {
    "duration": 510,
    "start_time": "2023-08-09T18:15:18.813Z"
   },
   {
    "duration": 9,
    "start_time": "2023-08-09T18:16:48.912Z"
   },
   {
    "duration": 469,
    "start_time": "2023-08-09T18:16:49.434Z"
   },
   {
    "duration": 509,
    "start_time": "2023-08-09T18:18:15.517Z"
   },
   {
    "duration": 324,
    "start_time": "2023-08-09T18:18:30.805Z"
   },
   {
    "duration": 9,
    "start_time": "2023-08-09T18:19:22.995Z"
   },
   {
    "duration": 371,
    "start_time": "2023-08-09T18:19:24.387Z"
   },
   {
    "duration": 436,
    "start_time": "2023-08-09T18:19:33.079Z"
   },
   {
    "duration": 3,
    "start_time": "2023-08-09T18:19:33.517Z"
   },
   {
    "duration": 31,
    "start_time": "2023-08-09T18:19:33.523Z"
   },
   {
    "duration": 287,
    "start_time": "2023-08-09T18:19:33.557Z"
   },
   {
    "duration": 4,
    "start_time": "2023-08-09T18:19:33.846Z"
   },
   {
    "duration": 629,
    "start_time": "2023-08-09T18:19:33.852Z"
   },
   {
    "duration": 4,
    "start_time": "2023-08-09T18:19:34.483Z"
   },
   {
    "duration": 980,
    "start_time": "2023-08-09T18:19:34.489Z"
   },
   {
    "duration": 6,
    "start_time": "2023-08-09T18:19:35.471Z"
   },
   {
    "duration": 36,
    "start_time": "2023-08-09T18:19:35.480Z"
   },
   {
    "duration": 454,
    "start_time": "2023-08-09T18:19:35.518Z"
   },
   {
    "duration": 429,
    "start_time": "2023-08-09T18:19:35.975Z"
   },
   {
    "duration": 293,
    "start_time": "2023-08-09T18:19:36.406Z"
   },
   {
    "duration": 214,
    "start_time": "2023-08-09T18:19:36.702Z"
   },
   {
    "duration": 104,
    "start_time": "2023-08-09T18:21:13.827Z"
   },
   {
    "duration": 178,
    "start_time": "2023-08-09T18:22:29.965Z"
   },
   {
    "duration": 3,
    "start_time": "2023-08-09T18:28:53.446Z"
   },
   {
    "duration": 141,
    "start_time": "2023-08-09T18:28:53.931Z"
   },
   {
    "duration": 4,
    "start_time": "2023-08-09T18:29:03.427Z"
   },
   {
    "duration": 164,
    "start_time": "2023-08-09T18:29:04.057Z"
   },
   {
    "duration": 11,
    "start_time": "2023-08-09T18:30:13.471Z"
   },
   {
    "duration": 123,
    "start_time": "2023-08-09T18:30:20.155Z"
   },
   {
    "duration": 185,
    "start_time": "2023-08-09T18:30:27.885Z"
   },
   {
    "duration": 219,
    "start_time": "2023-08-09T18:30:32.757Z"
   },
   {
    "duration": 195,
    "start_time": "2023-08-09T18:30:39.791Z"
   },
   {
    "duration": 4,
    "start_time": "2023-08-09T18:31:42.320Z"
   },
   {
    "duration": 892,
    "start_time": "2023-08-09T18:32:03.638Z"
   },
   {
    "duration": 961,
    "start_time": "2023-08-09T18:32:10.847Z"
   },
   {
    "duration": 400,
    "start_time": "2023-08-09T18:32:19.913Z"
   },
   {
    "duration": 3,
    "start_time": "2023-08-09T18:32:20.316Z"
   },
   {
    "duration": 20,
    "start_time": "2023-08-09T18:32:20.321Z"
   },
   {
    "duration": 260,
    "start_time": "2023-08-09T18:32:20.342Z"
   },
   {
    "duration": 2,
    "start_time": "2023-08-09T18:32:20.605Z"
   },
   {
    "duration": 599,
    "start_time": "2023-08-09T18:32:20.609Z"
   },
   {
    "duration": 4,
    "start_time": "2023-08-09T18:32:21.210Z"
   },
   {
    "duration": 112,
    "start_time": "2023-08-09T18:32:21.216Z"
   },
   {
    "duration": 0,
    "start_time": "2023-08-09T18:32:21.330Z"
   },
   {
    "duration": 0,
    "start_time": "2023-08-09T18:32:21.332Z"
   },
   {
    "duration": 0,
    "start_time": "2023-08-09T18:32:21.333Z"
   },
   {
    "duration": 0,
    "start_time": "2023-08-09T18:32:21.334Z"
   },
   {
    "duration": 0,
    "start_time": "2023-08-09T18:32:21.336Z"
   },
   {
    "duration": 0,
    "start_time": "2023-08-09T18:32:21.337Z"
   },
   {
    "duration": 0,
    "start_time": "2023-08-09T18:32:21.339Z"
   },
   {
    "duration": 0,
    "start_time": "2023-08-09T18:32:21.341Z"
   },
   {
    "duration": 468,
    "start_time": "2023-08-09T18:32:33.783Z"
   },
   {
    "duration": 2,
    "start_time": "2023-08-09T18:32:34.254Z"
   },
   {
    "duration": 3,
    "start_time": "2023-08-09T18:32:34.268Z"
   },
   {
    "duration": 279,
    "start_time": "2023-08-09T18:32:34.275Z"
   },
   {
    "duration": 4,
    "start_time": "2023-08-09T18:32:34.556Z"
   },
   {
    "duration": 559,
    "start_time": "2023-08-09T18:32:34.567Z"
   },
   {
    "duration": 4,
    "start_time": "2023-08-09T18:32:35.128Z"
   },
   {
    "duration": 849,
    "start_time": "2023-08-09T18:32:35.134Z"
   },
   {
    "duration": 7,
    "start_time": "2023-08-09T18:32:35.985Z"
   },
   {
    "duration": 24,
    "start_time": "2023-08-09T18:32:35.994Z"
   },
   {
    "duration": 472,
    "start_time": "2023-08-09T18:32:36.020Z"
   },
   {
    "duration": 419,
    "start_time": "2023-08-09T18:32:36.494Z"
   },
   {
    "duration": 210,
    "start_time": "2023-08-09T18:32:36.916Z"
   },
   {
    "duration": 113,
    "start_time": "2023-08-09T18:32:37.129Z"
   },
   {
    "duration": 3,
    "start_time": "2023-08-09T18:32:37.266Z"
   },
   {
    "duration": 285,
    "start_time": "2023-08-09T18:32:37.271Z"
   },
   {
    "duration": 821,
    "start_time": "2023-08-09T18:33:17.679Z"
   },
   {
    "duration": 198,
    "start_time": "2023-08-09T18:33:48.069Z"
   },
   {
    "duration": 196,
    "start_time": "2023-08-09T18:34:13.910Z"
   },
   {
    "duration": 170,
    "start_time": "2023-08-09T18:34:46.379Z"
   },
   {
    "duration": 204,
    "start_time": "2023-08-09T18:34:48.572Z"
   },
   {
    "duration": 156,
    "start_time": "2023-08-09T18:34:55.294Z"
   },
   {
    "duration": 275,
    "start_time": "2023-08-09T18:35:24.238Z"
   },
   {
    "duration": 187,
    "start_time": "2023-08-09T18:35:25.022Z"
   },
   {
    "duration": 5,
    "start_time": "2023-08-09T18:48:46.497Z"
   },
   {
    "duration": 154,
    "start_time": "2023-08-09T18:50:18.216Z"
   },
   {
    "duration": 192,
    "start_time": "2023-08-09T18:50:54.119Z"
   },
   {
    "duration": 372,
    "start_time": "2023-08-09T18:52:27.097Z"
   },
   {
    "duration": 172,
    "start_time": "2023-08-09T18:52:54.557Z"
   },
   {
    "duration": 14,
    "start_time": "2023-08-09T18:53:11.286Z"
   },
   {
    "duration": 20,
    "start_time": "2023-08-09T18:53:18.114Z"
   },
   {
    "duration": 149,
    "start_time": "2023-08-09T18:53:41.665Z"
   },
   {
    "duration": 10,
    "start_time": "2023-08-09T18:53:46.834Z"
   },
   {
    "duration": 8,
    "start_time": "2023-08-09T18:54:08.078Z"
   },
   {
    "duration": 15,
    "start_time": "2023-08-09T18:54:32.607Z"
   },
   {
    "duration": 19,
    "start_time": "2023-08-09T18:55:14.866Z"
   },
   {
    "duration": 5,
    "start_time": "2023-08-09T18:55:20.938Z"
   },
   {
    "duration": 8,
    "start_time": "2023-08-09T18:55:31.385Z"
   },
   {
    "duration": 14,
    "start_time": "2023-08-09T18:55:36.539Z"
   },
   {
    "duration": 6,
    "start_time": "2023-08-09T18:57:07.411Z"
   },
   {
    "duration": 7,
    "start_time": "2023-08-09T18:59:25.280Z"
   },
   {
    "duration": 6,
    "start_time": "2023-08-09T18:59:32.012Z"
   },
   {
    "duration": 6,
    "start_time": "2023-08-09T19:02:57.460Z"
   },
   {
    "duration": 6,
    "start_time": "2023-08-09T19:02:58.252Z"
   },
   {
    "duration": 5,
    "start_time": "2023-08-09T19:04:45.253Z"
   },
   {
    "duration": 147,
    "start_time": "2023-08-09T19:09:32.906Z"
   },
   {
    "duration": 11,
    "start_time": "2023-08-09T19:10:00.600Z"
   },
   {
    "duration": 173,
    "start_time": "2023-08-09T19:10:15.603Z"
   },
   {
    "duration": 166,
    "start_time": "2023-08-09T19:10:28.434Z"
   },
   {
    "duration": 479,
    "start_time": "2023-08-09T19:11:30.246Z"
   },
   {
    "duration": 3,
    "start_time": "2023-08-09T19:11:30.727Z"
   },
   {
    "duration": 41,
    "start_time": "2023-08-09T19:11:30.732Z"
   },
   {
    "duration": 352,
    "start_time": "2023-08-09T19:11:30.779Z"
   },
   {
    "duration": 3,
    "start_time": "2023-08-09T19:11:31.133Z"
   },
   {
    "duration": 641,
    "start_time": "2023-08-09T19:11:31.138Z"
   },
   {
    "duration": 355,
    "start_time": "2023-08-09T19:11:31.781Z"
   },
   {
    "duration": 3,
    "start_time": "2023-08-09T19:11:32.139Z"
   },
   {
    "duration": 1062,
    "start_time": "2023-08-09T19:11:32.144Z"
   },
   {
    "duration": 6,
    "start_time": "2023-08-09T19:11:33.208Z"
   },
   {
    "duration": 15,
    "start_time": "2023-08-09T19:11:33.216Z"
   },
   {
    "duration": 150,
    "start_time": "2023-08-09T19:11:33.233Z"
   },
   {
    "duration": 0,
    "start_time": "2023-08-09T19:11:33.394Z"
   },
   {
    "duration": 0,
    "start_time": "2023-08-09T19:11:33.399Z"
   },
   {
    "duration": 0,
    "start_time": "2023-08-09T19:11:33.401Z"
   },
   {
    "duration": 0,
    "start_time": "2023-08-09T19:11:33.403Z"
   },
   {
    "duration": 0,
    "start_time": "2023-08-09T19:11:33.405Z"
   },
   {
    "duration": 0,
    "start_time": "2023-08-09T19:11:33.406Z"
   },
   {
    "duration": 0,
    "start_time": "2023-08-09T19:11:33.408Z"
   },
   {
    "duration": 0,
    "start_time": "2023-08-09T19:11:33.410Z"
   },
   {
    "duration": 0,
    "start_time": "2023-08-09T19:11:33.411Z"
   },
   {
    "duration": 1,
    "start_time": "2023-08-09T19:11:33.412Z"
   },
   {
    "duration": 441,
    "start_time": "2023-08-09T19:12:00.929Z"
   },
   {
    "duration": 478,
    "start_time": "2023-08-09T19:12:17.456Z"
   },
   {
    "duration": 86,
    "start_time": "2023-08-09T19:12:22.045Z"
   },
   {
    "duration": 231,
    "start_time": "2023-08-09T19:12:28.043Z"
   },
   {
    "duration": 113,
    "start_time": "2023-08-09T19:12:31.132Z"
   },
   {
    "duration": 3,
    "start_time": "2023-08-09T19:12:34.407Z"
   },
   {
    "duration": 213,
    "start_time": "2023-08-09T19:12:34.834Z"
   },
   {
    "duration": 197,
    "start_time": "2023-08-09T19:12:35.760Z"
   },
   {
    "duration": 24,
    "start_time": "2023-08-09T19:12:39.061Z"
   },
   {
    "duration": 6,
    "start_time": "2023-08-09T19:12:39.814Z"
   },
   {
    "duration": 6,
    "start_time": "2023-08-09T19:12:40.416Z"
   },
   {
    "duration": 7,
    "start_time": "2023-08-09T19:12:41.113Z"
   },
   {
    "duration": 8,
    "start_time": "2023-08-09T19:13:17.790Z"
   },
   {
    "duration": 10,
    "start_time": "2023-08-09T19:18:41.406Z"
   },
   {
    "duration": 8,
    "start_time": "2023-08-09T19:19:25.571Z"
   },
   {
    "duration": 10,
    "start_time": "2023-08-09T19:19:39.074Z"
   },
   {
    "duration": 79,
    "start_time": "2023-08-10T09:17:25.649Z"
   },
   {
    "duration": 617,
    "start_time": "2023-08-10T09:17:31.494Z"
   },
   {
    "duration": 12,
    "start_time": "2023-08-10T09:17:32.117Z"
   },
   {
    "duration": 157,
    "start_time": "2023-08-10T09:17:32.136Z"
   },
   {
    "duration": 1187,
    "start_time": "2023-08-10T09:17:32.300Z"
   },
   {
    "duration": 5,
    "start_time": "2023-08-10T09:17:33.496Z"
   },
   {
    "duration": 1321,
    "start_time": "2023-08-10T09:17:33.509Z"
   },
   {
    "duration": 605,
    "start_time": "2023-08-10T09:17:34.836Z"
   },
   {
    "duration": 5,
    "start_time": "2023-08-10T09:17:35.443Z"
   },
   {
    "duration": 7569,
    "start_time": "2023-08-10T09:17:35.456Z"
   },
   {
    "duration": 11,
    "start_time": "2023-08-10T09:17:43.032Z"
   },
   {
    "duration": 203,
    "start_time": "2023-08-10T09:17:43.053Z"
   },
   {
    "duration": 893,
    "start_time": "2023-08-10T09:17:43.264Z"
   },
   {
    "duration": 641,
    "start_time": "2023-08-10T09:17:44.164Z"
   },
   {
    "duration": 352,
    "start_time": "2023-08-10T09:17:44.811Z"
   },
   {
    "duration": 144,
    "start_time": "2023-08-10T09:17:45.172Z"
   },
   {
    "duration": 92,
    "start_time": "2023-08-10T09:17:45.322Z"
   },
   {
    "duration": 384,
    "start_time": "2023-08-10T09:17:45.419Z"
   },
   {
    "duration": 268,
    "start_time": "2023-08-10T09:17:45.807Z"
   },
   {
    "duration": 10,
    "start_time": "2023-08-10T09:17:46.078Z"
   },
   {
    "duration": 140,
    "start_time": "2023-08-10T09:17:46.090Z"
   },
   {
    "duration": 114,
    "start_time": "2023-08-10T09:17:46.235Z"
   },
   {
    "duration": 196,
    "start_time": "2023-08-10T09:17:46.352Z"
   },
   {
    "duration": 11,
    "start_time": "2023-08-10T09:17:46.551Z"
   },
   {
    "duration": 191,
    "start_time": "2023-08-10T09:17:46.564Z"
   },
   {
    "duration": 5,
    "start_time": "2023-08-10T09:18:13.740Z"
   },
   {
    "duration": 7,
    "start_time": "2023-08-10T09:18:14.329Z"
   },
   {
    "duration": 20,
    "start_time": "2023-08-10T09:18:57.516Z"
   },
   {
    "duration": 41,
    "start_time": "2023-08-10T09:19:08.689Z"
   },
   {
    "duration": 53,
    "start_time": "2023-08-10T09:19:24.822Z"
   },
   {
    "duration": 57,
    "start_time": "2023-08-10T09:19:40.506Z"
   },
   {
    "duration": 11795,
    "start_time": "2023-08-10T09:19:49.738Z"
   },
   {
    "duration": 33,
    "start_time": "2023-08-10T09:20:22.887Z"
   },
   {
    "duration": 14,
    "start_time": "2023-08-10T09:20:50.318Z"
   },
   {
    "duration": 15,
    "start_time": "2023-08-10T09:21:01.852Z"
   },
   {
    "duration": 228,
    "start_time": "2023-08-10T09:22:18.215Z"
   },
   {
    "duration": 31,
    "start_time": "2023-08-10T09:22:35.140Z"
   },
   {
    "duration": 10,
    "start_time": "2023-08-10T09:22:51.680Z"
   },
   {
    "duration": 36,
    "start_time": "2023-08-10T09:23:25.995Z"
   },
   {
    "duration": 37,
    "start_time": "2023-08-10T09:23:26.612Z"
   },
   {
    "duration": 50,
    "start_time": "2023-08-10T09:23:49.538Z"
   },
   {
    "duration": 73,
    "start_time": "2023-08-10T09:24:04.930Z"
   },
   {
    "duration": 16,
    "start_time": "2023-08-10T09:28:48.149Z"
   },
   {
    "duration": 182,
    "start_time": "2023-08-10T09:36:50.793Z"
   },
   {
    "duration": 40,
    "start_time": "2023-08-10T09:37:01.733Z"
   },
   {
    "duration": 27,
    "start_time": "2023-08-10T09:37:18.856Z"
   },
   {
    "duration": 5,
    "start_time": "2023-08-10T09:37:32.833Z"
   },
   {
    "duration": 13,
    "start_time": "2023-08-10T09:37:39.928Z"
   },
   {
    "duration": 276,
    "start_time": "2023-08-10T09:43:02.768Z"
   },
   {
    "duration": 240,
    "start_time": "2023-08-10T09:43:33.689Z"
   },
   {
    "duration": 417,
    "start_time": "2023-08-10T09:43:45.224Z"
   },
   {
    "duration": 349,
    "start_time": "2023-08-10T09:44:16.244Z"
   },
   {
    "duration": 1268,
    "start_time": "2023-08-10T09:46:23.407Z"
   },
   {
    "duration": 5,
    "start_time": "2023-08-10T09:50:12.828Z"
   },
   {
    "duration": 4,
    "start_time": "2023-08-10T09:50:52.387Z"
   },
   {
    "duration": 35,
    "start_time": "2023-08-10T09:50:52.820Z"
   },
   {
    "duration": 7,
    "start_time": "2023-08-10T09:51:10.339Z"
   },
   {
    "duration": 5,
    "start_time": "2023-08-10T09:51:39.385Z"
   },
   {
    "duration": 5,
    "start_time": "2023-08-10T09:51:39.848Z"
   },
   {
    "duration": 5,
    "start_time": "2023-08-10T09:51:51.388Z"
   },
   {
    "duration": 10,
    "start_time": "2023-08-10T09:51:51.863Z"
   },
   {
    "duration": 7,
    "start_time": "2023-08-10T09:52:16.282Z"
   },
   {
    "duration": 38,
    "start_time": "2023-08-10T09:52:16.888Z"
   },
   {
    "duration": 9,
    "start_time": "2023-08-10T09:55:15.616Z"
   },
   {
    "duration": 148,
    "start_time": "2023-08-10T09:55:16.120Z"
   },
   {
    "duration": 8,
    "start_time": "2023-08-10T09:55:33.513Z"
   },
   {
    "duration": 175,
    "start_time": "2023-08-10T09:55:33.900Z"
   },
   {
    "duration": 444,
    "start_time": "2023-08-10T09:55:48.952Z"
   },
   {
    "duration": 6,
    "start_time": "2023-08-10T09:56:28.380Z"
   },
   {
    "duration": 23,
    "start_time": "2023-08-10T09:56:28.938Z"
   },
   {
    "duration": 18,
    "start_time": "2023-08-10T09:56:43.210Z"
   },
   {
    "duration": 31,
    "start_time": "2023-08-10T09:56:43.710Z"
   },
   {
    "duration": 6,
    "start_time": "2023-08-10T09:57:07.286Z"
   },
   {
    "duration": 22,
    "start_time": "2023-08-10T09:57:07.761Z"
   },
   {
    "duration": 5,
    "start_time": "2023-08-10T09:57:54.657Z"
   },
   {
    "duration": 28,
    "start_time": "2023-08-10T09:57:55.165Z"
   },
   {
    "duration": 7,
    "start_time": "2023-08-10T09:58:19.512Z"
   },
   {
    "duration": 42,
    "start_time": "2023-08-10T09:58:19.937Z"
   },
   {
    "duration": 16,
    "start_time": "2023-08-10T09:58:31.305Z"
   },
   {
    "duration": 43,
    "start_time": "2023-08-10T09:58:31.718Z"
   },
   {
    "duration": 14,
    "start_time": "2023-08-10T09:59:40.619Z"
   },
   {
    "duration": 53,
    "start_time": "2023-08-10T09:59:41.054Z"
   },
   {
    "duration": 7,
    "start_time": "2023-08-10T10:01:17.756Z"
   },
   {
    "duration": 46,
    "start_time": "2023-08-10T10:01:18.186Z"
   },
   {
    "duration": 14,
    "start_time": "2023-08-10T10:01:57.018Z"
   },
   {
    "duration": 39,
    "start_time": "2023-08-10T10:01:58.190Z"
   },
   {
    "duration": 10,
    "start_time": "2023-08-10T10:02:20.827Z"
   },
   {
    "duration": 533,
    "start_time": "2023-08-10T10:02:22.142Z"
   },
   {
    "duration": 21,
    "start_time": "2023-08-10T10:02:46.769Z"
   },
   {
    "duration": 533,
    "start_time": "2023-08-10T10:02:47.282Z"
   },
   {
    "duration": 8,
    "start_time": "2023-08-10T10:03:32.462Z"
   },
   {
    "duration": 516,
    "start_time": "2023-08-10T10:03:33.033Z"
   },
   {
    "duration": 7,
    "start_time": "2023-08-10T10:03:49.432Z"
   },
   {
    "duration": 365,
    "start_time": "2023-08-10T10:03:49.769Z"
   },
   {
    "duration": 5,
    "start_time": "2023-08-10T10:04:02.980Z"
   },
   {
    "duration": 563,
    "start_time": "2023-08-10T10:04:03.369Z"
   },
   {
    "duration": 5,
    "start_time": "2023-08-10T10:04:08.058Z"
   },
   {
    "duration": 683,
    "start_time": "2023-08-10T10:04:08.485Z"
   },
   {
    "duration": 13,
    "start_time": "2023-08-10T10:04:58.022Z"
   },
   {
    "duration": 678,
    "start_time": "2023-08-10T10:04:58.373Z"
   },
   {
    "duration": 7,
    "start_time": "2023-08-10T10:05:07.181Z"
   },
   {
    "duration": 896,
    "start_time": "2023-08-10T10:05:07.693Z"
   },
   {
    "duration": 7,
    "start_time": "2023-08-10T10:06:06.273Z"
   },
   {
    "duration": 917,
    "start_time": "2023-08-10T10:06:06.691Z"
   },
   {
    "duration": 11,
    "start_time": "2023-08-10T10:06:20.388Z"
   },
   {
    "duration": 1116,
    "start_time": "2023-08-10T10:06:20.817Z"
   },
   {
    "duration": 9,
    "start_time": "2023-08-10T10:07:01.630Z"
   },
   {
    "duration": 890,
    "start_time": "2023-08-10T10:07:01.995Z"
   },
   {
    "duration": 2,
    "start_time": "2023-08-10T10:11:03.768Z"
   },
   {
    "duration": 13,
    "start_time": "2023-08-10T10:11:14.213Z"
   },
   {
    "duration": 649,
    "start_time": "2023-08-10T10:11:14.671Z"
   },
   {
    "duration": 6,
    "start_time": "2023-08-10T10:11:29.149Z"
   },
   {
    "duration": 905,
    "start_time": "2023-08-10T10:11:29.644Z"
   },
   {
    "duration": 17,
    "start_time": "2023-08-10T10:11:35.790Z"
   },
   {
    "duration": 1089,
    "start_time": "2023-08-10T10:11:36.218Z"
   },
   {
    "duration": 5,
    "start_time": "2023-08-10T10:11:49.366Z"
   },
   {
    "duration": 865,
    "start_time": "2023-08-10T10:11:49.770Z"
   },
   {
    "duration": 6,
    "start_time": "2023-08-10T10:12:38.246Z"
   },
   {
    "duration": 907,
    "start_time": "2023-08-10T10:12:38.639Z"
   },
   {
    "duration": 6,
    "start_time": "2023-08-10T10:13:01.886Z"
   },
   {
    "duration": 1044,
    "start_time": "2023-08-10T10:13:02.249Z"
   },
   {
    "duration": 18,
    "start_time": "2023-08-10T10:13:39.491Z"
   },
   {
    "duration": 883,
    "start_time": "2023-08-10T10:13:39.923Z"
   },
   {
    "duration": 173,
    "start_time": "2023-08-10T10:14:15.910Z"
   },
   {
    "duration": 5,
    "start_time": "2023-08-10T10:14:30.787Z"
   },
   {
    "duration": 937,
    "start_time": "2023-08-10T10:14:31.222Z"
   },
   {
    "duration": 6,
    "start_time": "2023-08-10T10:15:02.046Z"
   },
   {
    "duration": 19,
    "start_time": "2023-08-10T10:15:05.124Z"
   },
   {
    "duration": 867,
    "start_time": "2023-08-10T10:15:05.524Z"
   },
   {
    "duration": 8,
    "start_time": "2023-08-10T10:15:16.222Z"
   },
   {
    "duration": 7,
    "start_time": "2023-08-10T10:15:18.144Z"
   },
   {
    "duration": 1009,
    "start_time": "2023-08-10T10:15:18.643Z"
   },
   {
    "duration": 892,
    "start_time": "2023-08-10T10:16:06.684Z"
   },
   {
    "duration": 1003,
    "start_time": "2023-08-10T10:16:37.375Z"
   },
   {
    "duration": 194,
    "start_time": "2023-08-10T10:28:05.443Z"
   },
   {
    "duration": 318,
    "start_time": "2023-08-10T10:28:17.492Z"
   },
   {
    "duration": 354,
    "start_time": "2023-08-10T10:28:34.508Z"
   },
   {
    "duration": 354,
    "start_time": "2023-08-10T10:29:19.323Z"
   },
   {
    "duration": 432,
    "start_time": "2023-08-10T10:29:30.359Z"
   },
   {
    "duration": 706,
    "start_time": "2023-08-10T10:29:47.293Z"
   },
   {
    "duration": 727,
    "start_time": "2023-08-10T10:30:08.827Z"
   },
   {
    "duration": 63,
    "start_time": "2023-08-10T10:35:33.379Z"
   },
   {
    "duration": 21,
    "start_time": "2023-08-10T10:35:46.451Z"
   },
   {
    "duration": 224,
    "start_time": "2023-08-10T10:37:04.188Z"
   },
   {
    "duration": 144,
    "start_time": "2023-08-10T10:37:10.936Z"
   },
   {
    "duration": 145,
    "start_time": "2023-08-10T10:37:15.979Z"
   },
   {
    "duration": 387,
    "start_time": "2023-08-10T10:37:26.345Z"
   },
   {
    "duration": 445,
    "start_time": "2023-08-10T10:41:00.983Z"
   },
   {
    "duration": 878,
    "start_time": "2023-08-10T10:41:35.097Z"
   },
   {
    "duration": 213,
    "start_time": "2023-08-10T10:42:52.878Z"
   },
   {
    "duration": 290,
    "start_time": "2023-08-10T10:43:04.940Z"
   },
   {
    "duration": 564,
    "start_time": "2023-08-10T10:43:14.722Z"
   },
   {
    "duration": 258,
    "start_time": "2023-08-10T10:43:48.926Z"
   },
   {
    "duration": 488,
    "start_time": "2023-08-10T10:43:59.429Z"
   },
   {
    "duration": 314,
    "start_time": "2023-08-10T10:44:22.049Z"
   },
   {
    "duration": 343,
    "start_time": "2023-08-10T10:44:38.374Z"
   },
   {
    "duration": 310,
    "start_time": "2023-08-10T10:44:51.591Z"
   },
   {
    "duration": 399,
    "start_time": "2023-08-10T10:45:21.376Z"
   },
   {
    "duration": 517,
    "start_time": "2023-08-10T10:45:52.657Z"
   },
   {
    "duration": 346,
    "start_time": "2023-08-10T10:46:15.578Z"
   },
   {
    "duration": 368,
    "start_time": "2023-08-10T10:46:34.222Z"
   },
   {
    "duration": 413,
    "start_time": "2023-08-10T10:46:47.785Z"
   },
   {
    "duration": 409,
    "start_time": "2023-08-10T10:47:06.682Z"
   },
   {
    "duration": 375,
    "start_time": "2023-08-10T10:47:28.369Z"
   },
   {
    "duration": 591,
    "start_time": "2023-08-10T10:48:02.752Z"
   },
   {
    "duration": 410,
    "start_time": "2023-08-10T10:48:56.267Z"
   },
   {
    "duration": 417,
    "start_time": "2023-08-10T10:49:09.846Z"
   },
   {
    "duration": 441,
    "start_time": "2023-08-10T10:49:23.767Z"
   },
   {
    "duration": 399,
    "start_time": "2023-08-10T10:49:30.525Z"
   },
   {
    "duration": 560,
    "start_time": "2023-08-10T10:49:41.473Z"
   },
   {
    "duration": 425,
    "start_time": "2023-08-10T10:49:53.340Z"
   },
   {
    "duration": 3,
    "start_time": "2023-08-10T10:49:53.767Z"
   },
   {
    "duration": 21,
    "start_time": "2023-08-10T10:49:53.771Z"
   },
   {
    "duration": 436,
    "start_time": "2023-08-10T10:49:53.802Z"
   },
   {
    "duration": 9,
    "start_time": "2023-08-10T10:49:54.240Z"
   },
   {
    "duration": 599,
    "start_time": "2023-08-10T10:49:54.250Z"
   },
   {
    "duration": 344,
    "start_time": "2023-08-10T10:49:54.853Z"
   },
   {
    "duration": 5,
    "start_time": "2023-08-10T10:49:55.199Z"
   },
   {
    "duration": 1474,
    "start_time": "2023-08-10T10:49:55.205Z"
   },
   {
    "duration": 18,
    "start_time": "2023-08-10T10:49:56.681Z"
   },
   {
    "duration": 79,
    "start_time": "2023-08-10T10:49:56.701Z"
   },
   {
    "duration": 624,
    "start_time": "2023-08-10T10:49:56.782Z"
   },
   {
    "duration": 472,
    "start_time": "2023-08-10T10:49:57.410Z"
   },
   {
    "duration": 225,
    "start_time": "2023-08-10T10:49:57.886Z"
   },
   {
    "duration": 104,
    "start_time": "2023-08-10T10:49:58.113Z"
   },
   {
    "duration": 6,
    "start_time": "2023-08-10T10:49:58.219Z"
   },
   {
    "duration": 252,
    "start_time": "2023-08-10T10:49:58.227Z"
   },
   {
    "duration": 193,
    "start_time": "2023-08-10T10:49:58.481Z"
   },
   {
    "duration": 20,
    "start_time": "2023-08-10T10:49:58.676Z"
   },
   {
    "duration": 8,
    "start_time": "2023-08-10T10:49:58.699Z"
   },
   {
    "duration": 49,
    "start_time": "2023-08-10T10:49:58.710Z"
   },
   {
    "duration": 22,
    "start_time": "2023-08-10T10:49:58.761Z"
   },
   {
    "duration": 16,
    "start_time": "2023-08-10T10:49:58.785Z"
   },
   {
    "duration": 44,
    "start_time": "2023-08-10T10:49:58.804Z"
   },
   {
    "duration": 8,
    "start_time": "2023-08-10T10:49:58.849Z"
   },
   {
    "duration": 50,
    "start_time": "2023-08-10T10:49:58.859Z"
   },
   {
    "duration": 42,
    "start_time": "2023-08-10T10:49:58.916Z"
   },
   {
    "duration": 6,
    "start_time": "2023-08-10T10:49:58.959Z"
   },
   {
    "duration": 933,
    "start_time": "2023-08-10T10:49:58.967Z"
   },
   {
    "duration": 769,
    "start_time": "2023-08-10T10:49:59.902Z"
   },
   {
    "duration": 935,
    "start_time": "2023-08-10T10:50:00.673Z"
   },
   {
    "duration": 366,
    "start_time": "2023-08-10T10:50:01.610Z"
   },
   {
    "duration": 387,
    "start_time": "2023-08-10T10:50:05.757Z"
   },
   {
    "duration": 448,
    "start_time": "2023-08-10T10:50:11.080Z"
   },
   {
    "duration": 214,
    "start_time": "2023-08-10T10:50:57.962Z"
   },
   {
    "duration": 561,
    "start_time": "2023-08-10T10:51:02.628Z"
   },
   {
    "duration": 469,
    "start_time": "2023-08-10T10:51:10.445Z"
   },
   {
    "duration": 460,
    "start_time": "2023-08-10T10:51:16.481Z"
   },
   {
    "duration": 429,
    "start_time": "2023-08-10T10:51:20.562Z"
   },
   {
    "duration": 448,
    "start_time": "2023-08-10T10:52:36.145Z"
   },
   {
    "duration": 435,
    "start_time": "2023-08-10T10:52:52.940Z"
   },
   {
    "duration": 534,
    "start_time": "2023-08-10T10:53:14.825Z"
   },
   {
    "duration": 412,
    "start_time": "2023-08-10T10:53:31.420Z"
   },
   {
    "duration": 191,
    "start_time": "2023-08-10T10:56:38.693Z"
   },
   {
    "duration": 184,
    "start_time": "2023-08-10T10:56:39.381Z"
   },
   {
    "duration": 51,
    "start_time": "2023-08-10T11:03:12.186Z"
   },
   {
    "duration": 7,
    "start_time": "2023-08-10T11:12:02.286Z"
   },
   {
    "duration": 11,
    "start_time": "2023-08-10T11:12:27.614Z"
   },
   {
    "duration": 22,
    "start_time": "2023-08-10T11:13:33.936Z"
   },
   {
    "duration": 35,
    "start_time": "2023-08-10T11:15:19.587Z"
   },
   {
    "duration": 881,
    "start_time": "2023-08-10T11:16:12.911Z"
   },
   {
    "duration": 1041,
    "start_time": "2023-08-10T11:17:03.720Z"
   },
   {
    "duration": 942,
    "start_time": "2023-08-10T11:17:36.331Z"
   },
   {
    "duration": 990,
    "start_time": "2023-08-10T11:17:44.992Z"
   },
   {
    "duration": 9,
    "start_time": "2023-08-10T11:23:54.372Z"
   },
   {
    "duration": 346,
    "start_time": "2023-08-10T11:25:03.572Z"
   },
   {
    "duration": 75,
    "start_time": "2023-08-10T11:25:29.913Z"
   },
   {
    "duration": 9,
    "start_time": "2023-08-10T11:25:43.525Z"
   },
   {
    "duration": 22,
    "start_time": "2023-08-10T11:26:57.650Z"
   },
   {
    "duration": 166,
    "start_time": "2023-08-10T11:29:04.580Z"
   },
   {
    "duration": 247,
    "start_time": "2023-08-10T11:29:20.709Z"
   },
   {
    "duration": 131,
    "start_time": "2023-08-10T11:29:31.791Z"
   },
   {
    "duration": 45,
    "start_time": "2023-08-10T11:29:46.932Z"
   },
   {
    "duration": 63,
    "start_time": "2023-08-10T11:30:19.969Z"
   },
   {
    "duration": 19,
    "start_time": "2023-08-10T11:30:38.222Z"
   },
   {
    "duration": 9,
    "start_time": "2023-08-10T11:30:46.174Z"
   },
   {
    "duration": 10,
    "start_time": "2023-08-10T11:31:49.026Z"
   },
   {
    "duration": 41,
    "start_time": "2023-08-10T11:35:25.083Z"
   },
   {
    "duration": 22,
    "start_time": "2023-08-10T11:36:00.424Z"
   },
   {
    "duration": 8134,
    "start_time": "2023-08-10T11:36:12.727Z"
   },
   {
    "duration": 484,
    "start_time": "2023-08-10T11:36:30.031Z"
   },
   {
    "duration": 21,
    "start_time": "2023-08-10T11:36:30.524Z"
   },
   {
    "duration": 123,
    "start_time": "2023-08-10T11:36:30.551Z"
   },
   {
    "duration": 533,
    "start_time": "2023-08-10T11:36:30.676Z"
   },
   {
    "duration": 13,
    "start_time": "2023-08-10T11:36:31.218Z"
   },
   {
    "duration": 834,
    "start_time": "2023-08-10T11:36:31.238Z"
   },
   {
    "duration": 489,
    "start_time": "2023-08-10T11:36:32.074Z"
   },
   {
    "duration": 14,
    "start_time": "2023-08-10T11:36:32.565Z"
   },
   {
    "duration": 1365,
    "start_time": "2023-08-10T11:36:32.581Z"
   },
   {
    "duration": 8,
    "start_time": "2023-08-10T11:36:33.950Z"
   },
   {
    "duration": 225,
    "start_time": "2023-08-10T11:36:33.959Z"
   },
   {
    "duration": 663,
    "start_time": "2023-08-10T11:36:34.186Z"
   },
   {
    "duration": 497,
    "start_time": "2023-08-10T11:36:34.857Z"
   },
   {
    "duration": 267,
    "start_time": "2023-08-10T11:36:35.358Z"
   },
   {
    "duration": 125,
    "start_time": "2023-08-10T11:36:35.631Z"
   },
   {
    "duration": 13,
    "start_time": "2023-08-10T11:36:35.762Z"
   },
   {
    "duration": 394,
    "start_time": "2023-08-10T11:36:35.780Z"
   },
   {
    "duration": 228,
    "start_time": "2023-08-10T11:36:36.177Z"
   },
   {
    "duration": 20,
    "start_time": "2023-08-10T11:36:36.414Z"
   },
   {
    "duration": 57,
    "start_time": "2023-08-10T11:36:36.436Z"
   },
   {
    "duration": 102,
    "start_time": "2023-08-10T11:36:36.497Z"
   },
   {
    "duration": 75,
    "start_time": "2023-08-10T11:36:36.604Z"
   },
   {
    "duration": 103,
    "start_time": "2023-08-10T11:36:36.681Z"
   },
   {
    "duration": 80,
    "start_time": "2023-08-10T11:36:36.786Z"
   },
   {
    "duration": 106,
    "start_time": "2023-08-10T11:36:36.868Z"
   },
   {
    "duration": 177,
    "start_time": "2023-08-10T11:36:36.976Z"
   },
   {
    "duration": 57,
    "start_time": "2023-08-10T11:36:37.157Z"
   },
   {
    "duration": 63,
    "start_time": "2023-08-10T11:36:37.218Z"
   },
   {
    "duration": 1039,
    "start_time": "2023-08-10T11:36:37.283Z"
   },
   {
    "duration": 817,
    "start_time": "2023-08-10T11:36:38.324Z"
   },
   {
    "duration": 957,
    "start_time": "2023-08-10T11:36:39.143Z"
   },
   {
    "duration": 447,
    "start_time": "2023-08-10T11:36:40.104Z"
   },
   {
    "duration": 19,
    "start_time": "2023-08-10T11:36:40.556Z"
   },
   {
    "duration": 827,
    "start_time": "2023-08-10T11:36:40.576Z"
   },
   {
    "duration": 7171,
    "start_time": "2023-08-10T11:36:41.409Z"
   },
   {
    "duration": 4,
    "start_time": "2023-08-10T11:36:48.581Z"
   },
   {
    "duration": 66,
    "start_time": "2023-08-10T11:36:48.597Z"
   },
   {
    "duration": 41,
    "start_time": "2023-08-10T11:37:08.177Z"
   },
   {
    "duration": 27,
    "start_time": "2023-08-10T11:37:17.323Z"
   },
   {
    "duration": 4,
    "start_time": "2023-08-10T11:55:35.565Z"
   },
   {
    "duration": 174,
    "start_time": "2023-08-10T11:55:57.764Z"
   },
   {
    "duration": 31,
    "start_time": "2023-08-10T11:56:11.737Z"
   },
   {
    "duration": 8,
    "start_time": "2023-08-10T11:56:18.964Z"
   },
   {
    "duration": 9,
    "start_time": "2023-08-10T11:56:46.180Z"
   },
   {
    "duration": 10,
    "start_time": "2023-08-10T11:56:59.576Z"
   },
   {
    "duration": 9,
    "start_time": "2023-08-10T11:57:04.182Z"
   },
   {
    "duration": 11,
    "start_time": "2023-08-10T11:57:09.278Z"
   },
   {
    "duration": 16,
    "start_time": "2023-08-10T11:58:50.427Z"
   },
   {
    "duration": 9,
    "start_time": "2023-08-10T11:58:57.070Z"
   },
   {
    "duration": 483,
    "start_time": "2023-08-10T11:59:15.690Z"
   },
   {
    "duration": 2,
    "start_time": "2023-08-10T11:59:16.175Z"
   },
   {
    "duration": 30,
    "start_time": "2023-08-10T11:59:16.179Z"
   },
   {
    "duration": 402,
    "start_time": "2023-08-10T11:59:16.213Z"
   },
   {
    "duration": 3,
    "start_time": "2023-08-10T11:59:16.622Z"
   },
   {
    "duration": 753,
    "start_time": "2023-08-10T11:59:16.627Z"
   },
   {
    "duration": 312,
    "start_time": "2023-08-10T11:59:17.382Z"
   },
   {
    "duration": 8,
    "start_time": "2023-08-10T11:59:17.697Z"
   },
   {
    "duration": 1253,
    "start_time": "2023-08-10T11:59:17.708Z"
   },
   {
    "duration": 5,
    "start_time": "2023-08-10T11:59:18.963Z"
   },
   {
    "duration": 89,
    "start_time": "2023-08-10T11:59:18.970Z"
   },
   {
    "duration": 528,
    "start_time": "2023-08-10T11:59:19.061Z"
   },
   {
    "duration": 482,
    "start_time": "2023-08-10T11:59:19.609Z"
   },
   {
    "duration": 189,
    "start_time": "2023-08-10T11:59:20.096Z"
   },
   {
    "duration": 109,
    "start_time": "2023-08-10T11:59:20.302Z"
   },
   {
    "duration": 50,
    "start_time": "2023-08-10T11:59:20.413Z"
   },
   {
    "duration": 207,
    "start_time": "2023-08-10T11:59:20.465Z"
   },
   {
    "duration": 187,
    "start_time": "2023-08-10T11:59:20.674Z"
   },
   {
    "duration": 9,
    "start_time": "2023-08-10T11:59:20.863Z"
   },
   {
    "duration": 6,
    "start_time": "2023-08-10T11:59:20.873Z"
   },
   {
    "duration": 9,
    "start_time": "2023-08-10T11:59:20.880Z"
   },
   {
    "duration": 65,
    "start_time": "2023-08-10T11:59:20.891Z"
   },
   {
    "duration": 9,
    "start_time": "2023-08-10T11:59:20.958Z"
   },
   {
    "duration": 10,
    "start_time": "2023-08-10T11:59:20.968Z"
   },
   {
    "duration": 14,
    "start_time": "2023-08-10T11:59:20.979Z"
   },
   {
    "duration": 89,
    "start_time": "2023-08-10T11:59:20.998Z"
   },
   {
    "duration": 70,
    "start_time": "2023-08-10T11:59:21.089Z"
   },
   {
    "duration": 6,
    "start_time": "2023-08-10T11:59:21.161Z"
   },
   {
    "duration": 928,
    "start_time": "2023-08-10T11:59:21.169Z"
   },
   {
    "duration": 799,
    "start_time": "2023-08-10T11:59:22.108Z"
   },
   {
    "duration": 873,
    "start_time": "2023-08-10T11:59:22.909Z"
   },
   {
    "duration": 448,
    "start_time": "2023-08-10T11:59:23.784Z"
   },
   {
    "duration": 23,
    "start_time": "2023-08-10T11:59:24.236Z"
   },
   {
    "duration": 913,
    "start_time": "2023-08-10T11:59:24.261Z"
   },
   {
    "duration": 6859,
    "start_time": "2023-08-10T11:59:25.176Z"
   },
   {
    "duration": 10,
    "start_time": "2023-08-10T11:59:32.044Z"
   },
   {
    "duration": 21,
    "start_time": "2023-08-10T11:59:32.056Z"
   },
   {
    "duration": 179,
    "start_time": "2023-08-10T11:59:32.079Z"
   },
   {
    "duration": 18,
    "start_time": "2023-08-10T11:59:52.168Z"
   },
   {
    "duration": 3,
    "start_time": "2023-08-10T12:00:01.660Z"
   },
   {
    "duration": 11,
    "start_time": "2023-08-10T12:00:07.573Z"
   },
   {
    "duration": 16,
    "start_time": "2023-08-10T12:00:14.228Z"
   },
   {
    "duration": 41,
    "start_time": "2023-08-10T12:00:36.179Z"
   },
   {
    "duration": 14,
    "start_time": "2023-08-10T12:01:01.476Z"
   },
   {
    "duration": 13,
    "start_time": "2023-08-10T12:01:31.263Z"
   },
   {
    "duration": 31,
    "start_time": "2023-08-10T12:01:38.222Z"
   },
   {
    "duration": 452,
    "start_time": "2023-08-10T12:01:58.732Z"
   },
   {
    "duration": 3,
    "start_time": "2023-08-10T12:01:59.187Z"
   },
   {
    "duration": 55,
    "start_time": "2023-08-10T12:01:59.195Z"
   },
   {
    "duration": 335,
    "start_time": "2023-08-10T12:01:59.252Z"
   },
   {
    "duration": 3,
    "start_time": "2023-08-10T12:01:59.589Z"
   },
   {
    "duration": 648,
    "start_time": "2023-08-10T12:01:59.593Z"
   },
   {
    "duration": 306,
    "start_time": "2023-08-10T12:02:00.243Z"
   },
   {
    "duration": 3,
    "start_time": "2023-08-10T12:02:00.553Z"
   },
   {
    "duration": 1251,
    "start_time": "2023-08-10T12:02:00.558Z"
   },
   {
    "duration": 8,
    "start_time": "2023-08-10T12:02:01.811Z"
   },
   {
    "duration": 47,
    "start_time": "2023-08-10T12:02:01.821Z"
   },
   {
    "duration": 575,
    "start_time": "2023-08-10T12:02:01.870Z"
   },
   {
    "duration": 482,
    "start_time": "2023-08-10T12:02:02.447Z"
   },
   {
    "duration": 222,
    "start_time": "2023-08-10T12:02:02.932Z"
   },
   {
    "duration": 110,
    "start_time": "2023-08-10T12:02:03.155Z"
   },
   {
    "duration": 3,
    "start_time": "2023-08-10T12:02:03.267Z"
   },
   {
    "duration": 221,
    "start_time": "2023-08-10T12:02:03.272Z"
   },
   {
    "duration": 207,
    "start_time": "2023-08-10T12:02:03.501Z"
   },
   {
    "duration": 10,
    "start_time": "2023-08-10T12:02:03.710Z"
   },
   {
    "duration": 42,
    "start_time": "2023-08-10T12:02:03.722Z"
   },
   {
    "duration": 18,
    "start_time": "2023-08-10T12:02:03.766Z"
   },
   {
    "duration": 5,
    "start_time": "2023-08-10T12:02:03.786Z"
   },
   {
    "duration": 50,
    "start_time": "2023-08-10T12:02:03.793Z"
   },
   {
    "duration": 18,
    "start_time": "2023-08-10T12:02:03.845Z"
   },
   {
    "duration": 6,
    "start_time": "2023-08-10T12:02:03.864Z"
   },
   {
    "duration": 52,
    "start_time": "2023-08-10T12:02:03.871Z"
   },
   {
    "duration": 33,
    "start_time": "2023-08-10T12:02:03.924Z"
   },
   {
    "duration": 7,
    "start_time": "2023-08-10T12:02:03.959Z"
   },
   {
    "duration": 966,
    "start_time": "2023-08-10T12:02:03.967Z"
   },
   {
    "duration": 853,
    "start_time": "2023-08-10T12:02:04.937Z"
   },
   {
    "duration": 1002,
    "start_time": "2023-08-10T12:02:05.792Z"
   },
   {
    "duration": 478,
    "start_time": "2023-08-10T12:02:06.796Z"
   },
   {
    "duration": 29,
    "start_time": "2023-08-10T12:02:07.276Z"
   },
   {
    "duration": 830,
    "start_time": "2023-08-10T12:02:07.307Z"
   },
   {
    "duration": 6925,
    "start_time": "2023-08-10T12:02:08.144Z"
   },
   {
    "duration": 4,
    "start_time": "2023-08-10T12:02:15.071Z"
   },
   {
    "duration": 63,
    "start_time": "2023-08-10T12:02:15.076Z"
   },
   {
    "duration": 144,
    "start_time": "2023-08-10T12:02:15.141Z"
   },
   {
    "duration": 0,
    "start_time": "2023-08-10T12:02:15.286Z"
   },
   {
    "duration": 28,
    "start_time": "2023-08-10T12:02:31.121Z"
   },
   {
    "duration": 14,
    "start_time": "2023-08-10T12:02:43.267Z"
   },
   {
    "duration": 3665,
    "start_time": "2023-08-10T12:02:58.255Z"
   },
   {
    "duration": 20,
    "start_time": "2023-08-10T12:03:02.987Z"
   },
   {
    "duration": 11,
    "start_time": "2023-08-10T12:03:12.139Z"
   },
   {
    "duration": 15,
    "start_time": "2023-08-10T12:04:03.159Z"
   },
   {
    "duration": 450,
    "start_time": "2023-08-10T12:04:18.222Z"
   },
   {
    "duration": 3,
    "start_time": "2023-08-10T12:04:18.674Z"
   },
   {
    "duration": 21,
    "start_time": "2023-08-10T12:04:18.678Z"
   },
   {
    "duration": 365,
    "start_time": "2023-08-10T12:04:18.706Z"
   },
   {
    "duration": 2,
    "start_time": "2023-08-10T12:04:19.074Z"
   },
   {
    "duration": 667,
    "start_time": "2023-08-10T12:04:19.078Z"
   },
   {
    "duration": 326,
    "start_time": "2023-08-10T12:04:19.753Z"
   },
   {
    "duration": 3,
    "start_time": "2023-08-10T12:04:20.081Z"
   },
   {
    "duration": 1204,
    "start_time": "2023-08-10T12:04:20.085Z"
   },
   {
    "duration": 9,
    "start_time": "2023-08-10T12:04:21.301Z"
   },
   {
    "duration": 64,
    "start_time": "2023-08-10T12:04:21.313Z"
   },
   {
    "duration": 542,
    "start_time": "2023-08-10T12:04:21.379Z"
   },
   {
    "duration": 453,
    "start_time": "2023-08-10T12:04:21.923Z"
   },
   {
    "duration": 207,
    "start_time": "2023-08-10T12:04:22.381Z"
   },
   {
    "duration": 102,
    "start_time": "2023-08-10T12:04:22.590Z"
   },
   {
    "duration": 3,
    "start_time": "2023-08-10T12:04:22.696Z"
   },
   {
    "duration": 260,
    "start_time": "2023-08-10T12:04:22.701Z"
   },
   {
    "duration": 220,
    "start_time": "2023-08-10T12:04:22.966Z"
   },
   {
    "duration": 24,
    "start_time": "2023-08-10T12:04:23.188Z"
   },
   {
    "duration": 51,
    "start_time": "2023-08-10T12:04:23.223Z"
   },
   {
    "duration": 16,
    "start_time": "2023-08-10T12:04:23.275Z"
   },
   {
    "duration": 69,
    "start_time": "2023-08-10T12:04:23.293Z"
   },
   {
    "duration": 103,
    "start_time": "2023-08-10T12:04:23.365Z"
   },
   {
    "duration": 15,
    "start_time": "2023-08-10T12:04:23.470Z"
   },
   {
    "duration": 56,
    "start_time": "2023-08-10T12:04:23.486Z"
   },
   {
    "duration": 69,
    "start_time": "2023-08-10T12:04:23.544Z"
   },
   {
    "duration": 69,
    "start_time": "2023-08-10T12:04:23.615Z"
   },
   {
    "duration": 12,
    "start_time": "2023-08-10T12:04:23.686Z"
   },
   {
    "duration": 1161,
    "start_time": "2023-08-10T12:04:23.700Z"
   },
   {
    "duration": 880,
    "start_time": "2023-08-10T12:04:24.863Z"
   },
   {
    "duration": 1027,
    "start_time": "2023-08-10T12:04:25.751Z"
   },
   {
    "duration": 479,
    "start_time": "2023-08-10T12:04:26.781Z"
   },
   {
    "duration": 25,
    "start_time": "2023-08-10T12:04:27.263Z"
   },
   {
    "duration": 888,
    "start_time": "2023-08-10T12:04:27.290Z"
   },
   {
    "duration": 7344,
    "start_time": "2023-08-10T12:04:28.180Z"
   },
   {
    "duration": 8,
    "start_time": "2023-08-10T12:04:35.529Z"
   },
   {
    "duration": 45,
    "start_time": "2023-08-10T12:04:35.539Z"
   },
   {
    "duration": 33,
    "start_time": "2023-08-10T12:04:35.585Z"
   },
   {
    "duration": 215,
    "start_time": "2023-08-10T12:04:35.624Z"
   },
   {
    "duration": 5,
    "start_time": "2023-08-10T12:05:42.666Z"
   },
   {
    "duration": 17,
    "start_time": "2023-08-10T12:05:47.070Z"
   },
   {
    "duration": 7,
    "start_time": "2023-08-10T12:05:55.631Z"
   },
   {
    "duration": 15,
    "start_time": "2023-08-10T12:06:08.291Z"
   },
   {
    "duration": 21,
    "start_time": "2023-08-10T12:07:24.373Z"
   },
   {
    "duration": 455,
    "start_time": "2023-08-10T12:08:50.683Z"
   },
   {
    "duration": 3,
    "start_time": "2023-08-10T12:08:51.140Z"
   },
   {
    "duration": 6,
    "start_time": "2023-08-10T12:08:51.144Z"
   },
   {
    "duration": 604,
    "start_time": "2023-08-10T12:08:51.152Z"
   },
   {
    "duration": 3,
    "start_time": "2023-08-10T12:08:51.759Z"
   },
   {
    "duration": 595,
    "start_time": "2023-08-10T12:08:51.764Z"
   },
   {
    "duration": 684,
    "start_time": "2023-08-10T12:08:52.361Z"
   },
   {
    "duration": 4,
    "start_time": "2023-08-10T12:08:53.046Z"
   },
   {
    "duration": 1056,
    "start_time": "2023-08-10T12:08:53.051Z"
   },
   {
    "duration": 13,
    "start_time": "2023-08-10T12:08:54.113Z"
   },
   {
    "duration": 9,
    "start_time": "2023-08-10T12:08:54.129Z"
   },
   {
    "duration": 435,
    "start_time": "2023-08-10T12:08:54.141Z"
   },
   {
    "duration": 454,
    "start_time": "2023-08-10T12:08:54.577Z"
   },
   {
    "duration": 181,
    "start_time": "2023-08-10T12:08:55.035Z"
   },
   {
    "duration": 94,
    "start_time": "2023-08-10T12:08:55.220Z"
   },
   {
    "duration": 3,
    "start_time": "2023-08-10T12:08:55.316Z"
   },
   {
    "duration": 217,
    "start_time": "2023-08-10T12:08:55.323Z"
   },
   {
    "duration": 200,
    "start_time": "2023-08-10T12:08:55.543Z"
   },
   {
    "duration": 11,
    "start_time": "2023-08-10T12:08:55.745Z"
   },
   {
    "duration": 8,
    "start_time": "2023-08-10T12:08:55.759Z"
   },
   {
    "duration": 11,
    "start_time": "2023-08-10T12:08:55.769Z"
   },
   {
    "duration": 18,
    "start_time": "2023-08-10T12:08:55.782Z"
   },
   {
    "duration": 50,
    "start_time": "2023-08-10T12:08:55.802Z"
   },
   {
    "duration": 9,
    "start_time": "2023-08-10T12:08:55.854Z"
   },
   {
    "duration": 9,
    "start_time": "2023-08-10T12:08:55.866Z"
   },
   {
    "duration": 70,
    "start_time": "2023-08-10T12:08:55.877Z"
   },
   {
    "duration": 26,
    "start_time": "2023-08-10T12:08:55.948Z"
   },
   {
    "duration": 4,
    "start_time": "2023-08-10T12:08:55.976Z"
   },
   {
    "duration": 1077,
    "start_time": "2023-08-10T12:08:55.982Z"
   },
   {
    "duration": 820,
    "start_time": "2023-08-10T12:08:57.061Z"
   },
   {
    "duration": 974,
    "start_time": "2023-08-10T12:08:57.883Z"
   },
   {
    "duration": 399,
    "start_time": "2023-08-10T12:08:58.859Z"
   },
   {
    "duration": 15,
    "start_time": "2023-08-10T12:08:59.260Z"
   },
   {
    "duration": 800,
    "start_time": "2023-08-10T12:08:59.277Z"
   },
   {
    "duration": 7004,
    "start_time": "2023-08-10T12:09:00.079Z"
   },
   {
    "duration": 5,
    "start_time": "2023-08-10T12:09:07.086Z"
   },
   {
    "duration": 75,
    "start_time": "2023-08-10T12:09:07.102Z"
   },
   {
    "duration": 21,
    "start_time": "2023-08-10T12:09:07.179Z"
   },
   {
    "duration": 74,
    "start_time": "2023-08-10T12:09:07.203Z"
   },
   {
    "duration": 27,
    "start_time": "2023-08-10T12:09:07.279Z"
   },
   {
    "duration": 74,
    "start_time": "2023-08-10T12:09:07.317Z"
   },
   {
    "duration": 11,
    "start_time": "2023-08-10T12:17:20.322Z"
   },
   {
    "duration": 8,
    "start_time": "2023-08-10T12:23:49.722Z"
   },
   {
    "duration": 6,
    "start_time": "2023-08-10T12:28:05.115Z"
   },
   {
    "duration": 143,
    "start_time": "2023-08-10T12:33:27.224Z"
   },
   {
    "duration": 11,
    "start_time": "2023-08-10T12:33:44.668Z"
   },
   {
    "duration": 15,
    "start_time": "2023-08-10T12:33:54.876Z"
   },
   {
    "duration": 9,
    "start_time": "2023-08-10T12:34:51.868Z"
   },
   {
    "duration": 15,
    "start_time": "2023-08-10T12:35:32.326Z"
   },
   {
    "duration": 18,
    "start_time": "2023-08-10T12:35:45.920Z"
   },
   {
    "duration": 17,
    "start_time": "2023-08-10T12:35:52.516Z"
   },
   {
    "duration": 3,
    "start_time": "2023-08-10T12:36:07.383Z"
   },
   {
    "duration": 15,
    "start_time": "2023-08-10T12:36:20.242Z"
   },
   {
    "duration": 17,
    "start_time": "2023-08-10T12:36:26.523Z"
   },
   {
    "duration": 2,
    "start_time": "2023-08-10T12:36:29.581Z"
   },
   {
    "duration": 535,
    "start_time": "2023-08-10T12:36:42.014Z"
   },
   {
    "duration": 11,
    "start_time": "2023-08-10T12:36:42.552Z"
   },
   {
    "duration": 15,
    "start_time": "2023-08-10T12:36:42.565Z"
   },
   {
    "duration": 542,
    "start_time": "2023-08-10T12:36:42.583Z"
   },
   {
    "duration": 5,
    "start_time": "2023-08-10T12:36:43.132Z"
   },
   {
    "duration": 738,
    "start_time": "2023-08-10T12:36:43.139Z"
   },
   {
    "duration": 374,
    "start_time": "2023-08-10T12:36:43.879Z"
   },
   {
    "duration": 3,
    "start_time": "2023-08-10T12:36:44.259Z"
   },
   {
    "duration": 1214,
    "start_time": "2023-08-10T12:36:44.263Z"
   },
   {
    "duration": 7,
    "start_time": "2023-08-10T12:36:45.478Z"
   },
   {
    "duration": 47,
    "start_time": "2023-08-10T12:36:45.487Z"
   },
   {
    "duration": 521,
    "start_time": "2023-08-10T12:36:45.537Z"
   },
   {
    "duration": 550,
    "start_time": "2023-08-10T12:36:46.063Z"
   },
   {
    "duration": 219,
    "start_time": "2023-08-10T12:36:46.616Z"
   },
   {
    "duration": 121,
    "start_time": "2023-08-10T12:36:46.837Z"
   },
   {
    "duration": 7,
    "start_time": "2023-08-10T12:36:46.960Z"
   },
   {
    "duration": 231,
    "start_time": "2023-08-10T12:36:46.971Z"
   },
   {
    "duration": 228,
    "start_time": "2023-08-10T12:36:47.204Z"
   },
   {
    "duration": 19,
    "start_time": "2023-08-10T12:36:47.436Z"
   },
   {
    "duration": 26,
    "start_time": "2023-08-10T12:36:47.458Z"
   },
   {
    "duration": 87,
    "start_time": "2023-08-10T12:36:47.488Z"
   },
   {
    "duration": 99,
    "start_time": "2023-08-10T12:36:47.578Z"
   },
   {
    "duration": 109,
    "start_time": "2023-08-10T12:36:47.679Z"
   },
   {
    "duration": 75,
    "start_time": "2023-08-10T12:36:47.790Z"
   },
   {
    "duration": 115,
    "start_time": "2023-08-10T12:36:47.867Z"
   },
   {
    "duration": 136,
    "start_time": "2023-08-10T12:36:47.984Z"
   },
   {
    "duration": 59,
    "start_time": "2023-08-10T12:36:48.122Z"
   },
   {
    "duration": 93,
    "start_time": "2023-08-10T12:36:48.183Z"
   },
   {
    "duration": 1182,
    "start_time": "2023-08-10T12:36:48.278Z"
   },
   {
    "duration": 846,
    "start_time": "2023-08-10T12:36:49.462Z"
   },
   {
    "duration": 1060,
    "start_time": "2023-08-10T12:36:50.311Z"
   },
   {
    "duration": 492,
    "start_time": "2023-08-10T12:36:51.373Z"
   },
   {
    "duration": 16,
    "start_time": "2023-08-10T12:36:51.867Z"
   },
   {
    "duration": 934,
    "start_time": "2023-08-10T12:36:51.895Z"
   },
   {
    "duration": 7259,
    "start_time": "2023-08-10T12:36:52.831Z"
   },
   {
    "duration": 8,
    "start_time": "2023-08-10T12:37:00.095Z"
   },
   {
    "duration": 114,
    "start_time": "2023-08-10T12:37:00.105Z"
   },
   {
    "duration": 223,
    "start_time": "2023-08-10T12:37:00.224Z"
   },
   {
    "duration": 0,
    "start_time": "2023-08-10T12:37:00.455Z"
   },
   {
    "duration": 0,
    "start_time": "2023-08-10T12:37:00.461Z"
   },
   {
    "duration": 0,
    "start_time": "2023-08-10T12:37:00.463Z"
   },
   {
    "duration": 0,
    "start_time": "2023-08-10T12:37:00.470Z"
   },
   {
    "duration": 0,
    "start_time": "2023-08-10T12:37:00.471Z"
   },
   {
    "duration": 0,
    "start_time": "2023-08-10T12:37:00.473Z"
   },
   {
    "duration": 508,
    "start_time": "2023-08-10T12:37:18.085Z"
   },
   {
    "duration": 11,
    "start_time": "2023-08-10T12:37:18.595Z"
   },
   {
    "duration": 41,
    "start_time": "2023-08-10T12:37:18.619Z"
   },
   {
    "duration": 328,
    "start_time": "2023-08-10T12:37:18.663Z"
   },
   {
    "duration": 14,
    "start_time": "2023-08-10T12:37:18.993Z"
   },
   {
    "duration": 665,
    "start_time": "2023-08-10T12:37:19.008Z"
   },
   {
    "duration": 330,
    "start_time": "2023-08-10T12:37:19.675Z"
   },
   {
    "duration": 9,
    "start_time": "2023-08-10T12:37:20.009Z"
   },
   {
    "duration": 1255,
    "start_time": "2023-08-10T12:37:20.023Z"
   },
   {
    "duration": 6,
    "start_time": "2023-08-10T12:37:21.280Z"
   },
   {
    "duration": 61,
    "start_time": "2023-08-10T12:37:21.298Z"
   },
   {
    "duration": 593,
    "start_time": "2023-08-10T12:37:21.360Z"
   },
   {
    "duration": 467,
    "start_time": "2023-08-10T12:37:21.965Z"
   },
   {
    "duration": 224,
    "start_time": "2023-08-10T12:37:22.436Z"
   },
   {
    "duration": 94,
    "start_time": "2023-08-10T12:37:22.662Z"
   },
   {
    "duration": 3,
    "start_time": "2023-08-10T12:37:22.757Z"
   },
   {
    "duration": 234,
    "start_time": "2023-08-10T12:37:22.762Z"
   },
   {
    "duration": 179,
    "start_time": "2023-08-10T12:37:23.008Z"
   },
   {
    "duration": 16,
    "start_time": "2023-08-10T12:37:23.188Z"
   },
   {
    "duration": 49,
    "start_time": "2023-08-10T12:37:23.209Z"
   },
   {
    "duration": 9,
    "start_time": "2023-08-10T12:37:23.260Z"
   },
   {
    "duration": 10,
    "start_time": "2023-08-10T12:37:23.270Z"
   },
   {
    "duration": 11,
    "start_time": "2023-08-10T12:37:23.282Z"
   },
   {
    "duration": 20,
    "start_time": "2023-08-10T12:37:23.299Z"
   },
   {
    "duration": 50,
    "start_time": "2023-08-10T12:37:23.321Z"
   },
   {
    "duration": 133,
    "start_time": "2023-08-10T12:37:23.373Z"
   },
   {
    "duration": 65,
    "start_time": "2023-08-10T12:37:23.507Z"
   },
   {
    "duration": 4,
    "start_time": "2023-08-10T12:37:23.574Z"
   },
   {
    "duration": 1186,
    "start_time": "2023-08-10T12:37:23.580Z"
   },
   {
    "duration": 912,
    "start_time": "2023-08-10T12:37:24.768Z"
   },
   {
    "duration": 1084,
    "start_time": "2023-08-10T12:37:25.682Z"
   },
   {
    "duration": 499,
    "start_time": "2023-08-10T12:37:26.768Z"
   },
   {
    "duration": 28,
    "start_time": "2023-08-10T12:37:27.269Z"
   },
   {
    "duration": 839,
    "start_time": "2023-08-10T12:37:27.314Z"
   },
   {
    "duration": 7183,
    "start_time": "2023-08-10T12:37:28.156Z"
   },
   {
    "duration": 21,
    "start_time": "2023-08-10T12:37:35.341Z"
   },
   {
    "duration": 17,
    "start_time": "2023-08-10T12:37:35.364Z"
   },
   {
    "duration": 69,
    "start_time": "2023-08-10T12:37:35.383Z"
   },
   {
    "duration": 26,
    "start_time": "2023-08-10T12:37:35.454Z"
   },
   {
    "duration": 33,
    "start_time": "2023-08-10T12:37:35.485Z"
   },
   {
    "duration": 35,
    "start_time": "2023-08-10T12:37:35.527Z"
   },
   {
    "duration": 20,
    "start_time": "2023-08-10T12:37:35.566Z"
   },
   {
    "duration": 26,
    "start_time": "2023-08-10T12:37:35.588Z"
   },
   {
    "duration": 129,
    "start_time": "2023-08-10T12:37:35.616Z"
   },
   {
    "duration": 147,
    "start_time": "2023-08-10T12:38:49.743Z"
   },
   {
    "duration": 16,
    "start_time": "2023-08-10T12:39:03.525Z"
   },
   {
    "duration": 12,
    "start_time": "2023-08-10T12:39:09.648Z"
   },
   {
    "duration": 10,
    "start_time": "2023-08-10T12:39:12.444Z"
   },
   {
    "duration": 145,
    "start_time": "2023-08-10T12:40:01.112Z"
   },
   {
    "duration": 22,
    "start_time": "2023-08-10T12:40:38.826Z"
   },
   {
    "duration": 12,
    "start_time": "2023-08-10T12:40:54.351Z"
   },
   {
    "duration": 9,
    "start_time": "2023-08-10T12:42:17.633Z"
   },
   {
    "duration": 19,
    "start_time": "2023-08-10T12:42:20.828Z"
   },
   {
    "duration": 3,
    "start_time": "2023-08-10T12:42:28.439Z"
   },
   {
    "duration": 11,
    "start_time": "2023-08-10T12:43:22.866Z"
   },
   {
    "duration": 23,
    "start_time": "2023-08-10T12:43:36.318Z"
   },
   {
    "duration": 4,
    "start_time": "2023-08-10T12:44:41.980Z"
   },
   {
    "duration": 3,
    "start_time": "2023-08-10T12:45:08.544Z"
   },
   {
    "duration": 12,
    "start_time": "2023-08-10T12:45:14.846Z"
   },
   {
    "duration": 4,
    "start_time": "2023-08-10T12:45:22.376Z"
   },
   {
    "duration": 499,
    "start_time": "2023-08-10T12:46:33.399Z"
   },
   {
    "duration": 5,
    "start_time": "2023-08-10T12:46:33.906Z"
   },
   {
    "duration": 43,
    "start_time": "2023-08-10T12:46:33.915Z"
   },
   {
    "duration": 369,
    "start_time": "2023-08-10T12:46:33.961Z"
   },
   {
    "duration": 6,
    "start_time": "2023-08-10T12:46:34.339Z"
   },
   {
    "duration": 686,
    "start_time": "2023-08-10T12:46:34.350Z"
   },
   {
    "duration": 314,
    "start_time": "2023-08-10T12:46:35.039Z"
   },
   {
    "duration": 4,
    "start_time": "2023-08-10T12:46:35.355Z"
   },
   {
    "duration": 1217,
    "start_time": "2023-08-10T12:46:35.361Z"
   },
   {
    "duration": 6,
    "start_time": "2023-08-10T12:46:36.580Z"
   },
   {
    "duration": 44,
    "start_time": "2023-08-10T12:46:36.602Z"
   },
   {
    "duration": 566,
    "start_time": "2023-08-10T12:46:36.650Z"
   },
   {
    "duration": 477,
    "start_time": "2023-08-10T12:46:37.218Z"
   },
   {
    "duration": 250,
    "start_time": "2023-08-10T12:46:37.699Z"
   },
   {
    "duration": 128,
    "start_time": "2023-08-10T12:46:37.951Z"
   },
   {
    "duration": 3,
    "start_time": "2023-08-10T12:46:38.080Z"
   },
   {
    "duration": 303,
    "start_time": "2023-08-10T12:46:38.085Z"
   },
   {
    "duration": 196,
    "start_time": "2023-08-10T12:46:38.389Z"
   },
   {
    "duration": 13,
    "start_time": "2023-08-10T12:46:38.587Z"
   },
   {
    "duration": 54,
    "start_time": "2023-08-10T12:46:38.602Z"
   },
   {
    "duration": 10,
    "start_time": "2023-08-10T12:46:38.658Z"
   },
   {
    "duration": 22,
    "start_time": "2023-08-10T12:46:38.670Z"
   },
   {
    "duration": 65,
    "start_time": "2023-08-10T12:46:38.693Z"
   },
   {
    "duration": 7,
    "start_time": "2023-08-10T12:46:38.760Z"
   },
   {
    "duration": 18,
    "start_time": "2023-08-10T12:46:38.768Z"
   },
   {
    "duration": 77,
    "start_time": "2023-08-10T12:46:38.787Z"
   },
   {
    "duration": 41,
    "start_time": "2023-08-10T12:46:38.866Z"
   },
   {
    "duration": 40,
    "start_time": "2023-08-10T12:46:38.911Z"
   },
   {
    "duration": 1005,
    "start_time": "2023-08-10T12:46:38.954Z"
   },
   {
    "duration": 889,
    "start_time": "2023-08-10T12:46:39.961Z"
   },
   {
    "duration": 917,
    "start_time": "2023-08-10T12:46:40.857Z"
   },
   {
    "duration": 414,
    "start_time": "2023-08-10T12:46:41.776Z"
   },
   {
    "duration": 26,
    "start_time": "2023-08-10T12:46:42.194Z"
   },
   {
    "duration": 870,
    "start_time": "2023-08-10T12:46:42.222Z"
   },
   {
    "duration": 7494,
    "start_time": "2023-08-10T12:46:43.096Z"
   },
   {
    "duration": 16,
    "start_time": "2023-08-10T12:46:50.592Z"
   },
   {
    "duration": 121,
    "start_time": "2023-08-10T12:46:50.610Z"
   },
   {
    "duration": 109,
    "start_time": "2023-08-10T12:46:50.733Z"
   },
   {
    "duration": 47,
    "start_time": "2023-08-10T12:46:50.845Z"
   },
   {
    "duration": 187,
    "start_time": "2023-08-10T12:46:50.893Z"
   },
   {
    "duration": 86,
    "start_time": "2023-08-10T12:46:51.085Z"
   },
   {
    "duration": 104,
    "start_time": "2023-08-10T12:46:51.173Z"
   },
   {
    "duration": 78,
    "start_time": "2023-08-10T12:46:51.279Z"
   },
   {
    "duration": 17,
    "start_time": "2023-08-10T12:46:51.359Z"
   },
   {
    "duration": 31,
    "start_time": "2023-08-10T12:46:51.379Z"
   },
   {
    "duration": 16,
    "start_time": "2023-08-10T12:47:02.425Z"
   },
   {
    "duration": 45,
    "start_time": "2023-08-10T12:47:25.790Z"
   },
   {
    "duration": 27,
    "start_time": "2023-08-10T12:47:32.211Z"
   },
   {
    "duration": 476,
    "start_time": "2023-08-10T12:47:59.842Z"
   },
   {
    "duration": 5,
    "start_time": "2023-08-10T12:48:00.329Z"
   },
   {
    "duration": 55,
    "start_time": "2023-08-10T12:48:00.336Z"
   },
   {
    "duration": 426,
    "start_time": "2023-08-10T12:48:00.393Z"
   },
   {
    "duration": 7,
    "start_time": "2023-08-10T12:48:00.823Z"
   },
   {
    "duration": 703,
    "start_time": "2023-08-10T12:48:00.831Z"
   },
   {
    "duration": 377,
    "start_time": "2023-08-10T12:48:01.535Z"
   },
   {
    "duration": 5,
    "start_time": "2023-08-10T12:48:01.915Z"
   },
   {
    "duration": 1608,
    "start_time": "2023-08-10T12:48:01.922Z"
   },
   {
    "duration": 10,
    "start_time": "2023-08-10T12:48:03.532Z"
   },
   {
    "duration": 115,
    "start_time": "2023-08-10T12:48:03.544Z"
   },
   {
    "duration": 609,
    "start_time": "2023-08-10T12:48:03.661Z"
   },
   {
    "duration": 509,
    "start_time": "2023-08-10T12:48:04.272Z"
   },
   {
    "duration": 254,
    "start_time": "2023-08-10T12:48:04.787Z"
   },
   {
    "duration": 95,
    "start_time": "2023-08-10T12:48:05.050Z"
   },
   {
    "duration": 4,
    "start_time": "2023-08-10T12:48:05.151Z"
   },
   {
    "duration": 239,
    "start_time": "2023-08-10T12:48:05.160Z"
   },
   {
    "duration": 199,
    "start_time": "2023-08-10T12:48:05.404Z"
   },
   {
    "duration": 19,
    "start_time": "2023-08-10T12:48:05.615Z"
   },
   {
    "duration": 56,
    "start_time": "2023-08-10T12:48:05.638Z"
   },
   {
    "duration": 70,
    "start_time": "2023-08-10T12:48:05.696Z"
   },
   {
    "duration": 24,
    "start_time": "2023-08-10T12:48:05.769Z"
   },
   {
    "duration": 71,
    "start_time": "2023-08-10T12:48:05.800Z"
   },
   {
    "duration": 15,
    "start_time": "2023-08-10T12:48:05.873Z"
   },
   {
    "duration": 52,
    "start_time": "2023-08-10T12:48:05.890Z"
   },
   {
    "duration": 92,
    "start_time": "2023-08-10T12:48:05.944Z"
   },
   {
    "duration": 44,
    "start_time": "2023-08-10T12:48:06.042Z"
   },
   {
    "duration": 14,
    "start_time": "2023-08-10T12:48:06.088Z"
   },
   {
    "duration": 1153,
    "start_time": "2023-08-10T12:48:06.113Z"
   },
   {
    "duration": 964,
    "start_time": "2023-08-10T12:48:07.271Z"
   },
   {
    "duration": 1144,
    "start_time": "2023-08-10T12:48:08.238Z"
   },
   {
    "duration": 468,
    "start_time": "2023-08-10T12:48:09.388Z"
   },
   {
    "duration": 19,
    "start_time": "2023-08-10T12:48:09.866Z"
   },
   {
    "duration": 943,
    "start_time": "2023-08-10T12:48:09.887Z"
   },
   {
    "duration": 7955,
    "start_time": "2023-08-10T12:48:10.836Z"
   },
   {
    "duration": 19,
    "start_time": "2023-08-10T12:48:18.793Z"
   },
   {
    "duration": 69,
    "start_time": "2023-08-10T12:48:18.814Z"
   },
   {
    "duration": 9,
    "start_time": "2023-08-10T12:48:18.885Z"
   },
   {
    "duration": 60,
    "start_time": "2023-08-10T12:48:18.901Z"
   },
   {
    "duration": 10,
    "start_time": "2023-08-10T12:48:18.963Z"
   },
   {
    "duration": 9,
    "start_time": "2023-08-10T12:48:18.980Z"
   },
   {
    "duration": 121,
    "start_time": "2023-08-10T12:48:18.991Z"
   },
   {
    "duration": 59,
    "start_time": "2023-08-10T12:48:19.114Z"
   },
   {
    "duration": 19,
    "start_time": "2023-08-10T12:48:19.175Z"
   },
   {
    "duration": 88,
    "start_time": "2023-08-10T12:48:19.202Z"
   },
   {
    "duration": 7,
    "start_time": "2023-08-10T12:48:34.979Z"
   },
   {
    "duration": 480,
    "start_time": "2023-08-10T12:49:35.368Z"
   },
   {
    "duration": 12,
    "start_time": "2023-08-10T12:49:35.850Z"
   },
   {
    "duration": 13,
    "start_time": "2023-08-10T12:49:35.870Z"
   },
   {
    "duration": 355,
    "start_time": "2023-08-10T12:49:35.885Z"
   },
   {
    "duration": 4,
    "start_time": "2023-08-10T12:49:36.242Z"
   },
   {
    "duration": 734,
    "start_time": "2023-08-10T12:49:36.248Z"
   },
   {
    "duration": 451,
    "start_time": "2023-08-10T12:49:36.987Z"
   },
   {
    "duration": 7,
    "start_time": "2023-08-10T12:49:37.444Z"
   },
   {
    "duration": 1424,
    "start_time": "2023-08-10T12:49:37.453Z"
   },
   {
    "duration": 7,
    "start_time": "2023-08-10T12:49:38.880Z"
   },
   {
    "duration": 138,
    "start_time": "2023-08-10T12:49:38.889Z"
   },
   {
    "duration": 682,
    "start_time": "2023-08-10T12:49:39.029Z"
   },
   {
    "duration": 498,
    "start_time": "2023-08-10T12:49:39.713Z"
   },
   {
    "duration": 237,
    "start_time": "2023-08-10T12:49:40.215Z"
   },
   {
    "duration": 111,
    "start_time": "2023-08-10T12:49:40.458Z"
   },
   {
    "duration": 3,
    "start_time": "2023-08-10T12:49:40.579Z"
   },
   {
    "duration": 297,
    "start_time": "2023-08-10T12:49:40.588Z"
   },
   {
    "duration": 218,
    "start_time": "2023-08-10T12:49:40.887Z"
   },
   {
    "duration": 18,
    "start_time": "2023-08-10T12:49:41.108Z"
   },
   {
    "duration": 51,
    "start_time": "2023-08-10T12:49:41.131Z"
   },
   {
    "duration": 7,
    "start_time": "2023-08-10T12:49:41.185Z"
   },
   {
    "duration": 83,
    "start_time": "2023-08-10T12:49:41.194Z"
   },
   {
    "duration": 10,
    "start_time": "2023-08-10T12:49:41.280Z"
   },
   {
    "duration": 49,
    "start_time": "2023-08-10T12:49:41.292Z"
   },
   {
    "duration": 24,
    "start_time": "2023-08-10T12:49:41.345Z"
   },
   {
    "duration": 111,
    "start_time": "2023-08-10T12:49:41.372Z"
   },
   {
    "duration": 81,
    "start_time": "2023-08-10T12:49:41.494Z"
   },
   {
    "duration": 8,
    "start_time": "2023-08-10T12:49:41.578Z"
   },
   {
    "duration": 1199,
    "start_time": "2023-08-10T12:49:41.589Z"
   },
   {
    "duration": 999,
    "start_time": "2023-08-10T12:49:42.789Z"
   },
   {
    "duration": 1027,
    "start_time": "2023-08-10T12:49:43.796Z"
   },
   {
    "duration": 516,
    "start_time": "2023-08-10T12:49:44.830Z"
   },
   {
    "duration": 28,
    "start_time": "2023-08-10T12:49:45.352Z"
   },
   {
    "duration": 1091,
    "start_time": "2023-08-10T12:49:45.382Z"
   },
   {
    "duration": 9517,
    "start_time": "2023-08-10T12:49:46.475Z"
   },
   {
    "duration": 19,
    "start_time": "2023-08-10T12:49:55.994Z"
   },
   {
    "duration": 63,
    "start_time": "2023-08-10T12:49:56.020Z"
   },
   {
    "duration": 70,
    "start_time": "2023-08-10T12:49:56.086Z"
   },
   {
    "duration": 13,
    "start_time": "2023-08-10T12:49:56.158Z"
   },
   {
    "duration": 8,
    "start_time": "2023-08-10T12:49:56.173Z"
   },
   {
    "duration": 83,
    "start_time": "2023-08-10T12:49:56.184Z"
   },
   {
    "duration": 16,
    "start_time": "2023-08-10T12:49:56.269Z"
   },
   {
    "duration": 122,
    "start_time": "2023-08-10T12:49:56.287Z"
   },
   {
    "duration": 74,
    "start_time": "2023-08-10T12:49:56.413Z"
   },
   {
    "duration": 104,
    "start_time": "2023-08-10T12:49:56.490Z"
   },
   {
    "duration": 4,
    "start_time": "2023-08-10T12:52:28.497Z"
   },
   {
    "duration": 5,
    "start_time": "2023-08-10T12:53:59.758Z"
   },
   {
    "duration": 4,
    "start_time": "2023-08-10T12:53:59.769Z"
   },
   {
    "duration": 12,
    "start_time": "2023-08-10T12:53:59.776Z"
   },
   {
    "duration": 30,
    "start_time": "2023-08-10T12:53:59.790Z"
   },
   {
    "duration": 29,
    "start_time": "2023-08-10T12:53:59.828Z"
   },
   {
    "duration": 22,
    "start_time": "2023-08-10T12:53:59.861Z"
   },
   {
    "duration": 42,
    "start_time": "2023-08-10T12:53:59.885Z"
   },
   {
    "duration": 45,
    "start_time": "2023-08-10T12:53:59.929Z"
   },
   {
    "duration": 4,
    "start_time": "2023-08-10T12:54:06.880Z"
   },
   {
    "duration": 6,
    "start_time": "2023-08-10T12:54:07.320Z"
   },
   {
    "duration": 16,
    "start_time": "2023-08-10T12:54:07.737Z"
   },
   {
    "duration": 3,
    "start_time": "2023-08-10T12:54:08.184Z"
   },
   {
    "duration": 3,
    "start_time": "2023-08-10T12:54:08.671Z"
   },
   {
    "duration": 4,
    "start_time": "2023-08-10T12:54:09.164Z"
   },
   {
    "duration": 3,
    "start_time": "2023-08-10T12:54:10.064Z"
   },
   {
    "duration": 7,
    "start_time": "2023-08-10T12:54:10.845Z"
   },
   {
    "duration": 1235,
    "start_time": "2023-08-10T12:54:13.623Z"
   },
   {
    "duration": 31,
    "start_time": "2023-08-10T12:54:38.610Z"
   },
   {
    "duration": 11,
    "start_time": "2023-08-10T12:55:55.866Z"
   },
   {
    "duration": 133,
    "start_time": "2023-08-10T12:58:08.749Z"
   },
   {
    "duration": 3232,
    "start_time": "2023-08-10T12:58:17.978Z"
   },
   {
    "duration": 22,
    "start_time": "2023-08-10T12:58:38.346Z"
   },
   {
    "duration": 33,
    "start_time": "2023-08-10T12:58:44.786Z"
   },
   {
    "duration": 39,
    "start_time": "2023-08-10T13:00:57.124Z"
   },
   {
    "duration": 18,
    "start_time": "2023-08-10T13:01:07.581Z"
   },
   {
    "duration": 25,
    "start_time": "2023-08-10T13:01:45.385Z"
   },
   {
    "duration": 17,
    "start_time": "2023-08-10T13:03:42.545Z"
   },
   {
    "duration": 21,
    "start_time": "2023-08-10T13:04:11.055Z"
   },
   {
    "duration": 20,
    "start_time": "2023-08-10T13:04:15.264Z"
   },
   {
    "duration": 15,
    "start_time": "2023-08-10T13:04:21.934Z"
   },
   {
    "duration": 13,
    "start_time": "2023-08-10T13:04:58.046Z"
   },
   {
    "duration": 14,
    "start_time": "2023-08-10T13:05:07.324Z"
   },
   {
    "duration": 42,
    "start_time": "2023-08-10T13:05:16.186Z"
   },
   {
    "duration": 15,
    "start_time": "2023-08-10T13:05:28.161Z"
   },
   {
    "duration": 675,
    "start_time": "2023-08-10T13:06:06.096Z"
   },
   {
    "duration": 19,
    "start_time": "2023-08-10T13:06:30.490Z"
   },
   {
    "duration": 1573,
    "start_time": "2023-08-10T13:07:17.611Z"
   },
   {
    "duration": 15,
    "start_time": "2023-08-10T13:07:33.828Z"
   },
   {
    "duration": 1465,
    "start_time": "2023-08-10T13:08:04.876Z"
   },
   {
    "duration": 1441,
    "start_time": "2023-08-10T13:08:17.051Z"
   },
   {
    "duration": 4,
    "start_time": "2023-08-10T13:08:25.767Z"
   },
   {
    "duration": 8,
    "start_time": "2023-08-10T13:08:35.510Z"
   },
   {
    "duration": 19,
    "start_time": "2023-08-10T13:09:11.983Z"
   },
   {
    "duration": 31,
    "start_time": "2023-08-10T13:09:44.578Z"
   },
   {
    "duration": 17,
    "start_time": "2023-08-10T13:10:04.781Z"
   },
   {
    "duration": 14,
    "start_time": "2023-08-10T13:10:23.569Z"
   },
   {
    "duration": 14,
    "start_time": "2023-08-10T13:10:45.546Z"
   },
   {
    "duration": 16,
    "start_time": "2023-08-10T13:10:49.154Z"
   },
   {
    "duration": 18,
    "start_time": "2023-08-10T13:14:13.352Z"
   },
   {
    "duration": 5,
    "start_time": "2023-08-10T13:14:24.313Z"
   },
   {
    "duration": 375,
    "start_time": "2023-08-10T13:14:38.539Z"
   },
   {
    "duration": 2,
    "start_time": "2023-08-10T13:14:38.916Z"
   },
   {
    "duration": 8,
    "start_time": "2023-08-10T13:14:38.920Z"
   },
   {
    "duration": 275,
    "start_time": "2023-08-10T13:14:38.930Z"
   },
   {
    "duration": 3,
    "start_time": "2023-08-10T13:14:39.208Z"
   },
   {
    "duration": 530,
    "start_time": "2023-08-10T13:14:39.212Z"
   },
   {
    "duration": 236,
    "start_time": "2023-08-10T13:14:39.743Z"
   },
   {
    "duration": 2,
    "start_time": "2023-08-10T13:14:39.981Z"
   },
   {
    "duration": 974,
    "start_time": "2023-08-10T13:14:39.985Z"
   },
   {
    "duration": 4,
    "start_time": "2023-08-10T13:14:40.961Z"
   },
   {
    "duration": 26,
    "start_time": "2023-08-10T13:14:40.967Z"
   },
   {
    "duration": 412,
    "start_time": "2023-08-10T13:14:40.996Z"
   },
   {
    "duration": 422,
    "start_time": "2023-08-10T13:14:41.411Z"
   },
   {
    "duration": 184,
    "start_time": "2023-08-10T13:14:41.836Z"
   },
   {
    "duration": 101,
    "start_time": "2023-08-10T13:14:42.022Z"
   },
   {
    "duration": 2,
    "start_time": "2023-08-10T13:14:42.125Z"
   },
   {
    "duration": 196,
    "start_time": "2023-08-10T13:14:42.129Z"
   },
   {
    "duration": 159,
    "start_time": "2023-08-10T13:14:42.327Z"
   },
   {
    "duration": 16,
    "start_time": "2023-08-10T13:14:42.488Z"
   },
   {
    "duration": 13,
    "start_time": "2023-08-10T13:14:42.509Z"
   },
   {
    "duration": 7,
    "start_time": "2023-08-10T13:14:42.524Z"
   },
   {
    "duration": 9,
    "start_time": "2023-08-10T13:14:42.532Z"
   },
   {
    "duration": 9,
    "start_time": "2023-08-10T13:14:42.543Z"
   },
   {
    "duration": 6,
    "start_time": "2023-08-10T13:14:42.554Z"
   },
   {
    "duration": 6,
    "start_time": "2023-08-10T13:14:42.562Z"
   },
   {
    "duration": 54,
    "start_time": "2023-08-10T13:14:42.569Z"
   },
   {
    "duration": 28,
    "start_time": "2023-08-10T13:14:42.625Z"
   },
   {
    "duration": 5,
    "start_time": "2023-08-10T13:14:42.655Z"
   },
   {
    "duration": 777,
    "start_time": "2023-08-10T13:14:42.662Z"
   },
   {
    "duration": 645,
    "start_time": "2023-08-10T13:14:43.441Z"
   },
   {
    "duration": 780,
    "start_time": "2023-08-10T13:14:44.088Z"
   },
   {
    "duration": 354,
    "start_time": "2023-08-10T13:14:44.870Z"
   },
   {
    "duration": 25,
    "start_time": "2023-08-10T13:14:45.226Z"
   },
   {
    "duration": 884,
    "start_time": "2023-08-10T13:14:45.253Z"
   },
   {
    "duration": 6092,
    "start_time": "2023-08-10T13:14:46.138Z"
   },
   {
    "duration": 4,
    "start_time": "2023-08-10T13:14:52.231Z"
   },
   {
    "duration": 34,
    "start_time": "2023-08-10T13:14:52.237Z"
   },
   {
    "duration": 43,
    "start_time": "2023-08-10T13:14:52.272Z"
   },
   {
    "duration": 22,
    "start_time": "2023-08-10T13:14:52.316Z"
   },
   {
    "duration": 133,
    "start_time": "2023-08-10T13:14:52.341Z"
   },
   {
    "duration": 0,
    "start_time": "2023-08-10T13:14:52.476Z"
   },
   {
    "duration": 0,
    "start_time": "2023-08-10T13:14:52.478Z"
   },
   {
    "duration": 0,
    "start_time": "2023-08-10T13:14:52.479Z"
   },
   {
    "duration": 0,
    "start_time": "2023-08-10T13:14:52.482Z"
   },
   {
    "duration": 0,
    "start_time": "2023-08-10T13:14:52.483Z"
   },
   {
    "duration": 0,
    "start_time": "2023-08-10T13:14:52.494Z"
   },
   {
    "duration": 1933,
    "start_time": "2023-08-10T13:15:36.808Z"
   },
   {
    "duration": 1588,
    "start_time": "2023-08-10T13:16:04.350Z"
   },
   {
    "duration": 7,
    "start_time": "2023-08-10T13:17:06.026Z"
   },
   {
    "duration": 3,
    "start_time": "2023-08-10T13:17:26.756Z"
   },
   {
    "duration": 812,
    "start_time": "2023-08-10T13:17:27.563Z"
   },
   {
    "duration": 937,
    "start_time": "2023-08-10T13:17:50.718Z"
   },
   {
    "duration": 12,
    "start_time": "2023-08-10T13:18:06.730Z"
   },
   {
    "duration": 12,
    "start_time": "2023-08-10T13:18:18.154Z"
   },
   {
    "duration": 14,
    "start_time": "2023-08-10T13:18:27.279Z"
   },
   {
    "duration": 30,
    "start_time": "2023-08-10T13:18:34.063Z"
   },
   {
    "duration": 41,
    "start_time": "2023-08-10T13:18:45.082Z"
   },
   {
    "duration": 21,
    "start_time": "2023-08-10T13:19:19.290Z"
   },
   {
    "duration": 23,
    "start_time": "2023-08-10T13:19:42.056Z"
   },
   {
    "duration": 34,
    "start_time": "2023-08-10T13:19:56.534Z"
   },
   {
    "duration": 21,
    "start_time": "2023-08-10T13:20:23.757Z"
   },
   {
    "duration": 117,
    "start_time": "2023-08-10T13:20:38.914Z"
   },
   {
    "duration": 2812,
    "start_time": "2023-08-10T13:20:48.721Z"
   },
   {
    "duration": 26,
    "start_time": "2023-08-10T13:21:01.273Z"
   },
   {
    "duration": 406,
    "start_time": "2023-08-10T13:21:32.515Z"
   },
   {
    "duration": 3,
    "start_time": "2023-08-10T13:21:32.923Z"
   },
   {
    "duration": 7,
    "start_time": "2023-08-10T13:21:32.928Z"
   },
   {
    "duration": 307,
    "start_time": "2023-08-10T13:21:32.937Z"
   },
   {
    "duration": 3,
    "start_time": "2023-08-10T13:21:33.246Z"
   },
   {
    "duration": 562,
    "start_time": "2023-08-10T13:21:33.250Z"
   },
   {
    "duration": 287,
    "start_time": "2023-08-10T13:21:33.814Z"
   },
   {
    "duration": 6,
    "start_time": "2023-08-10T13:21:34.105Z"
   },
   {
    "duration": 1067,
    "start_time": "2023-08-10T13:21:34.113Z"
   },
   {
    "duration": 10,
    "start_time": "2023-08-10T13:21:35.195Z"
   },
   {
    "duration": 30,
    "start_time": "2023-08-10T13:21:35.207Z"
   },
   {
    "duration": 456,
    "start_time": "2023-08-10T13:21:35.239Z"
   },
   {
    "duration": 427,
    "start_time": "2023-08-10T13:21:35.703Z"
   },
   {
    "duration": 205,
    "start_time": "2023-08-10T13:21:36.134Z"
   },
   {
    "duration": 90,
    "start_time": "2023-08-10T13:21:36.341Z"
   },
   {
    "duration": 2,
    "start_time": "2023-08-10T13:21:36.433Z"
   },
   {
    "duration": 177,
    "start_time": "2023-08-10T13:21:36.437Z"
   },
   {
    "duration": 205,
    "start_time": "2023-08-10T13:21:36.616Z"
   },
   {
    "duration": 13,
    "start_time": "2023-08-10T13:21:36.823Z"
   },
   {
    "duration": 29,
    "start_time": "2023-08-10T13:21:36.839Z"
   },
   {
    "duration": 18,
    "start_time": "2023-08-10T13:21:36.870Z"
   },
   {
    "duration": 43,
    "start_time": "2023-08-10T13:21:36.890Z"
   },
   {
    "duration": 17,
    "start_time": "2023-08-10T13:21:36.935Z"
   },
   {
    "duration": 8,
    "start_time": "2023-08-10T13:21:36.953Z"
   },
   {
    "duration": 12,
    "start_time": "2023-08-10T13:21:36.963Z"
   },
   {
    "duration": 50,
    "start_time": "2023-08-10T13:21:36.977Z"
   },
   {
    "duration": 24,
    "start_time": "2023-08-10T13:21:37.029Z"
   },
   {
    "duration": 5,
    "start_time": "2023-08-10T13:21:37.055Z"
   },
   {
    "duration": 819,
    "start_time": "2023-08-10T13:21:37.062Z"
   },
   {
    "duration": 679,
    "start_time": "2023-08-10T13:21:37.883Z"
   },
   {
    "duration": 779,
    "start_time": "2023-08-10T13:21:38.564Z"
   },
   {
    "duration": 387,
    "start_time": "2023-08-10T13:21:39.345Z"
   },
   {
    "duration": 20,
    "start_time": "2023-08-10T13:21:39.734Z"
   },
   {
    "duration": 684,
    "start_time": "2023-08-10T13:21:39.756Z"
   },
   {
    "duration": 5793,
    "start_time": "2023-08-10T13:21:40.441Z"
   },
   {
    "duration": 4,
    "start_time": "2023-08-10T13:21:46.237Z"
   },
   {
    "duration": 20,
    "start_time": "2023-08-10T13:21:46.242Z"
   },
   {
    "duration": 12,
    "start_time": "2023-08-10T13:21:46.263Z"
   },
   {
    "duration": 35,
    "start_time": "2023-08-10T13:21:46.277Z"
   },
   {
    "duration": 27,
    "start_time": "2023-08-10T13:21:46.315Z"
   },
   {
    "duration": 121,
    "start_time": "2023-08-10T13:21:46.348Z"
   },
   {
    "duration": 0,
    "start_time": "2023-08-10T13:21:46.471Z"
   },
   {
    "duration": 0,
    "start_time": "2023-08-10T13:21:46.472Z"
   },
   {
    "duration": 0,
    "start_time": "2023-08-10T13:21:46.474Z"
   },
   {
    "duration": 0,
    "start_time": "2023-08-10T13:21:46.475Z"
   },
   {
    "duration": 0,
    "start_time": "2023-08-10T13:21:46.476Z"
   },
   {
    "duration": 5,
    "start_time": "2023-08-10T13:21:58.605Z"
   },
   {
    "duration": 4,
    "start_time": "2023-08-10T13:22:04.680Z"
   },
   {
    "duration": 4,
    "start_time": "2023-08-10T13:22:05.027Z"
   },
   {
    "duration": 5,
    "start_time": "2023-08-10T13:22:59.482Z"
   },
   {
    "duration": 469,
    "start_time": "2023-08-10T13:23:29.852Z"
   },
   {
    "duration": 10,
    "start_time": "2023-08-10T13:23:43.192Z"
   },
   {
    "duration": 8,
    "start_time": "2023-08-10T13:23:59.921Z"
   },
   {
    "duration": 10,
    "start_time": "2023-08-10T13:24:56.823Z"
   },
   {
    "duration": 4,
    "start_time": "2023-08-10T13:24:57.537Z"
   },
   {
    "duration": 17,
    "start_time": "2023-08-10T13:24:58.192Z"
   },
   {
    "duration": 5,
    "start_time": "2023-08-10T13:25:08.231Z"
   },
   {
    "duration": 20,
    "start_time": "2023-08-10T13:25:08.988Z"
   },
   {
    "duration": 1589,
    "start_time": "2023-08-10T13:25:16.093Z"
   },
   {
    "duration": 5,
    "start_time": "2023-08-10T13:25:35.784Z"
   },
   {
    "duration": 8,
    "start_time": "2023-08-10T13:25:37.722Z"
   },
   {
    "duration": 13,
    "start_time": "2023-08-10T13:26:52.820Z"
   },
   {
    "duration": 15,
    "start_time": "2023-08-10T13:27:18.270Z"
   },
   {
    "duration": 10,
    "start_time": "2023-08-10T13:27:25.998Z"
   },
   {
    "duration": 577,
    "start_time": "2023-08-10T13:27:26.401Z"
   },
   {
    "duration": 1796,
    "start_time": "2023-08-10T13:28:08.691Z"
   },
   {
    "duration": 25,
    "start_time": "2023-08-10T13:31:41.730Z"
   },
   {
    "duration": 27,
    "start_time": "2023-08-10T13:31:53.188Z"
   },
   {
    "duration": 9,
    "start_time": "2023-08-10T13:32:04.591Z"
   },
   {
    "duration": 12,
    "start_time": "2023-08-10T13:32:34.788Z"
   },
   {
    "duration": 17,
    "start_time": "2023-08-10T13:33:08.925Z"
   },
   {
    "duration": 16,
    "start_time": "2023-08-10T13:33:39.526Z"
   },
   {
    "duration": 12,
    "start_time": "2023-08-10T13:37:56.645Z"
   },
   {
    "duration": 3,
    "start_time": "2023-08-10T13:38:36.231Z"
   },
   {
    "duration": 170,
    "start_time": "2023-08-10T13:38:42.970Z"
   },
   {
    "duration": 3,
    "start_time": "2023-08-10T13:39:28.682Z"
   },
   {
    "duration": 86,
    "start_time": "2023-08-10T13:39:39.413Z"
   },
   {
    "duration": 5,
    "start_time": "2023-08-10T13:39:56.675Z"
   },
   {
    "duration": 3,
    "start_time": "2023-08-10T13:39:57.030Z"
   },
   {
    "duration": 20,
    "start_time": "2023-08-10T13:39:57.908Z"
   },
   {
    "duration": 166,
    "start_time": "2023-08-10T13:40:31.090Z"
   },
   {
    "duration": 9,
    "start_time": "2023-08-10T13:41:29.294Z"
   },
   {
    "duration": 4,
    "start_time": "2023-08-10T13:41:33.470Z"
   },
   {
    "duration": 4,
    "start_time": "2023-08-10T13:41:34.011Z"
   },
   {
    "duration": 73,
    "start_time": "2023-08-10T13:41:36.975Z"
   },
   {
    "duration": 17,
    "start_time": "2023-08-10T13:41:44.781Z"
   },
   {
    "duration": 72,
    "start_time": "2023-08-10T13:41:46.226Z"
   },
   {
    "duration": 13,
    "start_time": "2023-08-10T13:42:24.549Z"
   },
   {
    "duration": 5,
    "start_time": "2023-08-10T13:42:46.617Z"
   },
   {
    "duration": 2709,
    "start_time": "2023-08-10T13:42:50.441Z"
   },
   {
    "duration": 3,
    "start_time": "2023-08-10T13:43:26.641Z"
   },
   {
    "duration": 5186,
    "start_time": "2023-08-10T13:43:29.339Z"
   },
   {
    "duration": 5,
    "start_time": "2023-08-10T13:45:19.384Z"
   },
   {
    "duration": 5,
    "start_time": "2023-08-10T13:45:44.086Z"
   },
   {
    "duration": 3,
    "start_time": "2023-08-10T13:45:45.181Z"
   },
   {
    "duration": 9,
    "start_time": "2023-08-10T13:45:48.312Z"
   },
   {
    "duration": 428,
    "start_time": "2023-08-10T13:45:52.171Z"
   },
   {
    "duration": 5615,
    "start_time": "2023-08-10T13:45:52.602Z"
   },
   {
    "duration": 14,
    "start_time": "2023-08-10T16:12:17.367Z"
   },
   {
    "duration": 9,
    "start_time": "2023-08-10T16:12:29.667Z"
   },
   {
    "duration": 1392,
    "start_time": "2023-08-10T16:12:43.391Z"
   },
   {
    "duration": 1458,
    "start_time": "2023-08-10T16:12:53.571Z"
   },
   {
    "duration": 4,
    "start_time": "2023-08-10T16:13:00.067Z"
   },
   {
    "duration": 3,
    "start_time": "2023-08-10T16:13:01.362Z"
   },
   {
    "duration": 1816,
    "start_time": "2023-08-10T16:13:01.978Z"
   },
   {
    "duration": 5,
    "start_time": "2023-08-10T16:15:23.356Z"
   },
   {
    "duration": 1725,
    "start_time": "2023-08-10T16:15:25.160Z"
   },
   {
    "duration": 4,
    "start_time": "2023-08-10T16:17:19.308Z"
   },
   {
    "duration": 3,
    "start_time": "2023-08-10T16:17:19.767Z"
   },
   {
    "duration": 46,
    "start_time": "2023-08-10T16:17:22.859Z"
   },
   {
    "duration": 1611,
    "start_time": "2023-08-10T16:17:23.390Z"
   },
   {
    "duration": 10,
    "start_time": "2023-08-10T16:18:09.958Z"
   },
   {
    "duration": 9,
    "start_time": "2023-08-10T16:18:47.058Z"
   },
   {
    "duration": 1782,
    "start_time": "2023-08-10T16:18:58.584Z"
   },
   {
    "duration": 4,
    "start_time": "2023-08-10T16:20:33.586Z"
   },
   {
    "duration": 3,
    "start_time": "2023-08-10T16:20:34.688Z"
   },
   {
    "duration": 21,
    "start_time": "2023-08-10T16:20:35.086Z"
   },
   {
    "duration": 1471,
    "start_time": "2023-08-10T16:20:36.891Z"
   },
   {
    "duration": 10,
    "start_time": "2023-08-10T16:20:53.991Z"
   },
   {
    "duration": 2024,
    "start_time": "2023-08-10T16:21:06.072Z"
   },
   {
    "duration": 4,
    "start_time": "2023-08-10T16:22:36.009Z"
   },
   {
    "duration": 5,
    "start_time": "2023-08-10T16:22:48.270Z"
   },
   {
    "duration": 5,
    "start_time": "2023-08-10T16:23:05.863Z"
   },
   {
    "duration": 4,
    "start_time": "2023-08-10T16:23:17.559Z"
   },
   {
    "duration": 11,
    "start_time": "2023-08-10T16:23:43.355Z"
   },
   {
    "duration": 4,
    "start_time": "2023-08-10T16:23:48.170Z"
   },
   {
    "duration": 1638,
    "start_time": "2023-08-10T16:24:03.481Z"
   },
   {
    "duration": 1470,
    "start_time": "2023-08-10T16:24:13.982Z"
   },
   {
    "duration": 1020,
    "start_time": "2023-08-10T16:24:21.563Z"
   },
   {
    "duration": 4,
    "start_time": "2023-08-10T16:24:48.663Z"
   },
   {
    "duration": 25,
    "start_time": "2023-08-10T16:25:04.083Z"
   },
   {
    "duration": 6,
    "start_time": "2023-08-10T16:25:20.763Z"
   },
   {
    "duration": 171,
    "start_time": "2023-08-10T16:25:32.393Z"
   },
   {
    "duration": 4,
    "start_time": "2023-08-10T16:26:15.808Z"
   },
   {
    "duration": 3,
    "start_time": "2023-08-10T16:26:17.488Z"
   },
   {
    "duration": 3,
    "start_time": "2023-08-10T16:26:21.507Z"
   },
   {
    "duration": 14,
    "start_time": "2023-08-10T16:26:22.408Z"
   },
   {
    "duration": 8,
    "start_time": "2023-08-10T16:26:23.484Z"
   },
   {
    "duration": 2137,
    "start_time": "2023-08-10T16:26:26.962Z"
   },
   {
    "duration": 2,
    "start_time": "2023-08-10T16:29:38.510Z"
   },
   {
    "duration": 1496,
    "start_time": "2023-08-10T16:29:42.304Z"
   },
   {
    "duration": 4,
    "start_time": "2023-08-10T16:29:48.353Z"
   },
   {
    "duration": 10,
    "start_time": "2023-08-10T16:29:48.795Z"
   },
   {
    "duration": 15,
    "start_time": "2023-08-10T16:29:52.074Z"
   },
   {
    "duration": 37,
    "start_time": "2023-08-10T16:29:53.558Z"
   },
   {
    "duration": 1991,
    "start_time": "2023-08-10T16:29:54.108Z"
   },
   {
    "duration": 1195,
    "start_time": "2023-08-10T16:31:47.786Z"
   },
   {
    "duration": 933,
    "start_time": "2023-08-10T16:36:13.968Z"
   },
   {
    "duration": 11,
    "start_time": "2023-08-10T16:36:18.372Z"
   },
   {
    "duration": 5,
    "start_time": "2023-08-10T16:36:26.612Z"
   },
   {
    "duration": 5,
    "start_time": "2023-08-10T16:36:27.908Z"
   },
   {
    "duration": 19,
    "start_time": "2023-08-10T16:36:31.807Z"
   },
   {
    "duration": 1016,
    "start_time": "2023-08-10T16:36:33.580Z"
   },
   {
    "duration": 1145,
    "start_time": "2023-08-10T16:36:40.968Z"
   },
   {
    "duration": 4,
    "start_time": "2023-08-10T16:37:08.959Z"
   },
   {
    "duration": 10,
    "start_time": "2023-08-10T16:37:12.508Z"
   },
   {
    "duration": 3,
    "start_time": "2023-08-10T16:37:23.460Z"
   },
   {
    "duration": 25099,
    "start_time": "2023-08-10T16:37:57.767Z"
   },
   {
    "duration": 4,
    "start_time": "2023-08-10T16:38:51.888Z"
   },
   {
    "duration": 1000,
    "start_time": "2023-08-10T16:39:01.708Z"
   },
   {
    "duration": 4,
    "start_time": "2023-08-10T16:39:25.925Z"
   },
   {
    "duration": 3,
    "start_time": "2023-08-10T16:39:26.382Z"
   },
   {
    "duration": 17,
    "start_time": "2023-08-10T16:39:27.608Z"
   },
   {
    "duration": 134,
    "start_time": "2023-08-10T16:39:30.476Z"
   },
   {
    "duration": 947,
    "start_time": "2023-08-10T16:39:31.259Z"
   },
   {
    "duration": 1252,
    "start_time": "2023-08-10T16:39:34.876Z"
   },
   {
    "duration": 804,
    "start_time": "2023-08-10T16:40:57.107Z"
   },
   {
    "duration": 25,
    "start_time": "2023-08-10T16:41:28.886Z"
   },
   {
    "duration": 829,
    "start_time": "2023-08-10T16:41:30.779Z"
   },
   {
    "duration": 138,
    "start_time": "2023-08-10T16:41:33.375Z"
   },
   {
    "duration": 1049,
    "start_time": "2023-08-10T16:41:34.063Z"
   },
   {
    "duration": 3,
    "start_time": "2023-08-10T16:41:37.788Z"
   },
   {
    "duration": 1218,
    "start_time": "2023-08-10T16:41:39.899Z"
   },
   {
    "duration": 4,
    "start_time": "2023-08-10T16:41:43.508Z"
   },
   {
    "duration": 1138,
    "start_time": "2023-08-10T16:41:45.775Z"
   },
   {
    "duration": 15,
    "start_time": "2023-08-10T16:43:26.374Z"
   },
   {
    "duration": 7059,
    "start_time": "2023-08-10T16:43:40.787Z"
   },
   {
    "duration": 15,
    "start_time": "2023-08-10T16:43:50.793Z"
   },
   {
    "duration": 4,
    "start_time": "2023-08-10T16:43:59.008Z"
   },
   {
    "duration": 5,
    "start_time": "2023-08-10T16:44:01.683Z"
   },
   {
    "duration": 4,
    "start_time": "2023-08-10T16:44:04.479Z"
   },
   {
    "duration": 7102,
    "start_time": "2023-08-10T16:44:06.416Z"
   },
   {
    "duration": 4,
    "start_time": "2023-08-10T16:44:15.324Z"
   },
   {
    "duration": 11,
    "start_time": "2023-08-10T16:46:26.722Z"
   },
   {
    "duration": 797,
    "start_time": "2023-08-10T16:46:39.916Z"
   },
   {
    "duration": 37,
    "start_time": "2023-08-10T16:46:56.520Z"
   },
   {
    "duration": 8,
    "start_time": "2023-08-10T16:47:27.081Z"
   },
   {
    "duration": 10,
    "start_time": "2023-08-10T16:47:36.517Z"
   },
   {
    "duration": 14,
    "start_time": "2023-08-10T16:48:07.210Z"
   },
   {
    "duration": 8,
    "start_time": "2023-08-10T16:48:08.721Z"
   },
   {
    "duration": 18,
    "start_time": "2023-08-10T16:48:24.194Z"
   },
   {
    "duration": 9,
    "start_time": "2023-08-10T16:48:26.215Z"
   },
   {
    "duration": 3,
    "start_time": "2023-08-10T16:50:19.040Z"
   },
   {
    "duration": 2632,
    "start_time": "2023-08-10T16:50:19.695Z"
   },
   {
    "duration": 4642,
    "start_time": "2023-08-10T16:51:22.798Z"
   },
   {
    "duration": 10,
    "start_time": "2023-08-10T16:51:45.680Z"
   },
   {
    "duration": 4,
    "start_time": "2023-08-10T16:51:46.456Z"
   },
   {
    "duration": 7,
    "start_time": "2023-08-10T16:52:30.641Z"
   },
   {
    "duration": 14,
    "start_time": "2023-08-10T16:52:32.112Z"
   },
   {
    "duration": 7,
    "start_time": "2023-08-10T16:52:42.044Z"
   },
   {
    "duration": 298,
    "start_time": "2023-08-10T16:53:01.192Z"
   },
   {
    "duration": 14,
    "start_time": "2023-08-10T16:53:20.272Z"
   },
   {
    "duration": 295,
    "start_time": "2023-08-10T16:53:29.680Z"
   },
   {
    "duration": 14,
    "start_time": "2023-08-10T16:53:41.588Z"
   },
   {
    "duration": 8,
    "start_time": "2023-08-10T16:53:52.384Z"
   },
   {
    "duration": 11,
    "start_time": "2023-08-10T16:54:24.644Z"
   },
   {
    "duration": 8,
    "start_time": "2023-08-10T16:54:42.410Z"
   },
   {
    "duration": 12,
    "start_time": "2023-08-10T16:54:47.108Z"
   },
   {
    "duration": 16,
    "start_time": "2023-08-10T16:55:01.409Z"
   },
   {
    "duration": 18,
    "start_time": "2023-08-10T16:55:10.589Z"
   },
   {
    "duration": 1643,
    "start_time": "2023-08-10T16:55:45.276Z"
   },
   {
    "duration": 10,
    "start_time": "2023-08-10T16:55:50.843Z"
   },
   {
    "duration": 15,
    "start_time": "2023-08-10T16:55:54.216Z"
   },
   {
    "duration": 8,
    "start_time": "2023-08-10T16:55:54.789Z"
   },
   {
    "duration": 4,
    "start_time": "2023-08-10T16:56:09.777Z"
   },
   {
    "duration": 13,
    "start_time": "2023-08-10T16:56:12.735Z"
   },
   {
    "duration": 4,
    "start_time": "2023-08-10T16:56:13.189Z"
   },
   {
    "duration": 1080,
    "start_time": "2023-08-10T16:56:15.721Z"
   },
   {
    "duration": 12,
    "start_time": "2023-08-10T16:57:40.643Z"
   },
   {
    "duration": 1116,
    "start_time": "2023-08-10T16:57:48.081Z"
   },
   {
    "duration": 13,
    "start_time": "2023-08-10T16:57:49.907Z"
   },
   {
    "duration": 58,
    "start_time": "2023-08-10T16:58:37.940Z"
   },
   {
    "duration": 919,
    "start_time": "2023-08-10T16:58:38.978Z"
   },
   {
    "duration": 15,
    "start_time": "2023-08-10T16:58:39.900Z"
   },
   {
    "duration": 955,
    "start_time": "2023-08-10T16:59:17.948Z"
   },
   {
    "duration": 888,
    "start_time": "2023-08-10T16:59:32.413Z"
   },
   {
    "duration": 3,
    "start_time": "2023-08-10T17:02:35.644Z"
   },
   {
    "duration": 1766,
    "start_time": "2023-08-10T17:03:06.341Z"
   },
   {
    "duration": 8,
    "start_time": "2023-08-10T17:03:10.992Z"
   },
   {
    "duration": 1092,
    "start_time": "2023-08-10T17:03:12.012Z"
   },
   {
    "duration": 892,
    "start_time": "2023-08-10T17:03:19.510Z"
   },
   {
    "duration": 1823,
    "start_time": "2023-08-10T18:07:40.988Z"
   },
   {
    "duration": 1470,
    "start_time": "2023-08-10T18:07:47.636Z"
   },
   {
    "duration": 3311,
    "start_time": "2023-08-10T18:07:55.488Z"
   },
   {
    "duration": 21,
    "start_time": "2023-08-10T18:08:19.892Z"
   },
   {
    "duration": 6,
    "start_time": "2023-08-10T18:08:25.450Z"
   },
   {
    "duration": 2,
    "start_time": "2023-08-10T18:08:27.735Z"
   },
   {
    "duration": 3695,
    "start_time": "2023-08-10T18:08:30.326Z"
   },
   {
    "duration": 5,
    "start_time": "2023-08-10T18:09:03.426Z"
   },
   {
    "duration": 15,
    "start_time": "2023-08-10T18:09:05.118Z"
   },
   {
    "duration": 12,
    "start_time": "2023-08-10T18:09:06.710Z"
   },
   {
    "duration": 23,
    "start_time": "2023-08-10T18:09:12.115Z"
   },
   {
    "duration": 6,
    "start_time": "2023-08-10T18:09:13.120Z"
   },
   {
    "duration": 4,
    "start_time": "2023-08-10T18:09:18.537Z"
   },
   {
    "duration": 22,
    "start_time": "2023-08-10T18:09:22.397Z"
   },
   {
    "duration": 26,
    "start_time": "2023-08-10T18:09:27.743Z"
   },
   {
    "duration": 5,
    "start_time": "2023-08-10T18:09:38.602Z"
   },
   {
    "duration": 16,
    "start_time": "2023-08-10T18:09:39.435Z"
   },
   {
    "duration": 5028,
    "start_time": "2023-08-10T18:09:52.984Z"
   },
   {
    "duration": 3,
    "start_time": "2023-08-10T18:12:38.668Z"
   },
   {
    "duration": 399,
    "start_time": "2023-08-10T18:16:47.135Z"
   },
   {
    "duration": 2,
    "start_time": "2023-08-10T18:16:47.536Z"
   },
   {
    "duration": 11,
    "start_time": "2023-08-10T18:16:47.540Z"
   },
   {
    "duration": 5,
    "start_time": "2023-08-10T18:16:47.552Z"
   },
   {
    "duration": 275,
    "start_time": "2023-08-10T18:16:47.559Z"
   },
   {
    "duration": 3,
    "start_time": "2023-08-10T18:16:47.835Z"
   },
   {
    "duration": 548,
    "start_time": "2023-08-10T18:16:47.839Z"
   },
   {
    "duration": 280,
    "start_time": "2023-08-10T18:16:48.389Z"
   },
   {
    "duration": 56,
    "start_time": "2023-08-10T18:16:48.671Z"
   },
   {
    "duration": 3,
    "start_time": "2023-08-10T18:16:48.730Z"
   },
   {
    "duration": 7,
    "start_time": "2023-08-10T18:16:48.734Z"
   },
   {
    "duration": 10,
    "start_time": "2023-08-10T18:16:48.742Z"
   },
   {
    "duration": 1022,
    "start_time": "2023-08-10T18:16:48.753Z"
   },
   {
    "duration": 5,
    "start_time": "2023-08-10T18:16:49.776Z"
   },
   {
    "duration": 24,
    "start_time": "2023-08-10T18:16:49.782Z"
   },
   {
    "duration": 402,
    "start_time": "2023-08-10T18:16:49.807Z"
   },
   {
    "duration": 379,
    "start_time": "2023-08-10T18:16:50.211Z"
   },
   {
    "duration": 195,
    "start_time": "2023-08-10T18:16:50.592Z"
   },
   {
    "duration": 85,
    "start_time": "2023-08-10T18:16:50.796Z"
   },
   {
    "duration": 12,
    "start_time": "2023-08-10T18:16:50.897Z"
   },
   {
    "duration": 182,
    "start_time": "2023-08-10T18:16:50.911Z"
   },
   {
    "duration": 165,
    "start_time": "2023-08-10T18:16:51.098Z"
   },
   {
    "duration": 8,
    "start_time": "2023-08-10T18:16:51.265Z"
   },
   {
    "duration": 74,
    "start_time": "2023-08-10T18:16:51.275Z"
   },
   {
    "duration": 14,
    "start_time": "2023-08-10T18:16:51.351Z"
   },
   {
    "duration": 7,
    "start_time": "2023-08-10T18:16:51.366Z"
   },
   {
    "duration": 13,
    "start_time": "2023-08-10T18:16:51.374Z"
   },
   {
    "duration": 27,
    "start_time": "2023-08-10T18:16:51.390Z"
   },
   {
    "duration": 14,
    "start_time": "2023-08-10T18:16:51.421Z"
   },
   {
    "duration": 42,
    "start_time": "2023-08-10T18:16:51.437Z"
   },
   {
    "duration": 44,
    "start_time": "2023-08-10T18:16:51.480Z"
   },
   {
    "duration": 38,
    "start_time": "2023-08-10T18:16:51.527Z"
   },
   {
    "duration": 942,
    "start_time": "2023-08-10T18:16:51.567Z"
   },
   {
    "duration": 703,
    "start_time": "2023-08-10T18:16:52.513Z"
   },
   {
    "duration": 843,
    "start_time": "2023-08-10T18:16:53.219Z"
   },
   {
    "duration": 393,
    "start_time": "2023-08-10T18:16:54.064Z"
   },
   {
    "duration": 18,
    "start_time": "2023-08-10T18:16:54.459Z"
   },
   {
    "duration": 785,
    "start_time": "2023-08-10T18:16:54.479Z"
   },
   {
    "duration": 6402,
    "start_time": "2023-08-10T18:16:55.266Z"
   },
   {
    "duration": 3,
    "start_time": "2023-08-10T18:17:01.670Z"
   },
   {
    "duration": 162,
    "start_time": "2023-08-10T18:17:01.675Z"
   },
   {
    "duration": 47,
    "start_time": "2023-08-10T18:17:01.839Z"
   },
   {
    "duration": 140,
    "start_time": "2023-08-10T18:17:01.888Z"
   },
   {
    "duration": 99,
    "start_time": "2023-08-10T18:17:02.029Z"
   },
   {
    "duration": 91,
    "start_time": "2023-08-10T18:17:02.130Z"
   },
   {
    "duration": 58,
    "start_time": "2023-08-10T18:17:02.223Z"
   },
   {
    "duration": 140,
    "start_time": "2023-08-10T18:17:02.283Z"
   },
   {
    "duration": 46,
    "start_time": "2023-08-10T18:17:02.426Z"
   },
   {
    "duration": 237,
    "start_time": "2023-08-10T18:17:02.475Z"
   },
   {
    "duration": 52,
    "start_time": "2023-08-10T18:17:02.715Z"
   },
   {
    "duration": 53,
    "start_time": "2023-08-10T18:17:02.769Z"
   },
   {
    "duration": 48,
    "start_time": "2023-08-10T18:17:02.823Z"
   },
   {
    "duration": 61,
    "start_time": "2023-08-10T18:17:02.873Z"
   },
   {
    "duration": 32,
    "start_time": "2023-08-10T18:17:02.936Z"
   },
   {
    "duration": 24,
    "start_time": "2023-08-10T18:17:02.969Z"
   },
   {
    "duration": 1304,
    "start_time": "2023-08-10T18:17:02.996Z"
   },
   {
    "duration": 5,
    "start_time": "2023-08-10T18:17:04.304Z"
   },
   {
    "duration": 2504,
    "start_time": "2023-08-10T18:17:04.311Z"
   },
   {
    "duration": 5,
    "start_time": "2023-08-10T18:17:06.817Z"
   },
   {
    "duration": 145098,
    "start_time": "2023-08-10T18:17:06.824Z"
   },
   {
    "duration": 4,
    "start_time": "2023-08-10T18:20:00.167Z"
   },
   {
    "duration": 6,
    "start_time": "2023-08-10T18:20:13.416Z"
   },
   {
    "duration": 4,
    "start_time": "2023-08-10T18:20:26.967Z"
   },
   {
    "duration": 122,
    "start_time": "2023-08-10T18:26:05.911Z"
   },
   {
    "duration": 14,
    "start_time": "2023-08-10T18:26:15.751Z"
   },
   {
    "duration": 417,
    "start_time": "2023-08-10T18:27:40.334Z"
   },
   {
    "duration": 3,
    "start_time": "2023-08-10T18:27:40.753Z"
   },
   {
    "duration": 6,
    "start_time": "2023-08-10T18:27:40.757Z"
   },
   {
    "duration": 8,
    "start_time": "2023-08-10T18:27:40.765Z"
   },
   {
    "duration": 294,
    "start_time": "2023-08-10T18:27:40.775Z"
   },
   {
    "duration": 2,
    "start_time": "2023-08-10T18:27:41.071Z"
   },
   {
    "duration": 565,
    "start_time": "2023-08-10T18:27:41.075Z"
   },
   {
    "duration": 351,
    "start_time": "2023-08-10T18:27:41.642Z"
   },
   {
    "duration": 59,
    "start_time": "2023-08-10T18:27:41.995Z"
   },
   {
    "duration": 3,
    "start_time": "2023-08-10T18:27:42.056Z"
   },
   {
    "duration": 10,
    "start_time": "2023-08-10T18:27:42.060Z"
   },
   {
    "duration": 9,
    "start_time": "2023-08-10T18:27:42.071Z"
   },
   {
    "duration": 1047,
    "start_time": "2023-08-10T18:27:42.081Z"
   },
   {
    "duration": 4,
    "start_time": "2023-08-10T18:27:43.132Z"
   },
   {
    "duration": 15,
    "start_time": "2023-08-10T18:27:43.138Z"
   },
   {
    "duration": 408,
    "start_time": "2023-08-10T18:27:43.155Z"
   },
   {
    "duration": 425,
    "start_time": "2023-08-10T18:27:43.565Z"
   },
   {
    "duration": 191,
    "start_time": "2023-08-10T18:27:43.992Z"
   },
   {
    "duration": 82,
    "start_time": "2023-08-10T18:27:44.194Z"
   },
   {
    "duration": 4,
    "start_time": "2023-08-10T18:27:44.295Z"
   },
   {
    "duration": 211,
    "start_time": "2023-08-10T18:27:44.306Z"
   },
   {
    "duration": 162,
    "start_time": "2023-08-10T18:27:44.524Z"
   },
   {
    "duration": 14,
    "start_time": "2023-08-10T18:27:44.688Z"
   },
   {
    "duration": 31,
    "start_time": "2023-08-10T18:27:44.703Z"
   },
   {
    "duration": 7,
    "start_time": "2023-08-10T18:27:44.736Z"
   },
   {
    "duration": 8,
    "start_time": "2023-08-10T18:27:44.745Z"
   },
   {
    "duration": 9,
    "start_time": "2023-08-10T18:27:44.754Z"
   },
   {
    "duration": 12,
    "start_time": "2023-08-10T18:27:44.764Z"
   },
   {
    "duration": 8,
    "start_time": "2023-08-10T18:27:44.777Z"
   },
   {
    "duration": 72,
    "start_time": "2023-08-10T18:27:44.787Z"
   },
   {
    "duration": 25,
    "start_time": "2023-08-10T18:27:44.861Z"
   },
   {
    "duration": 5,
    "start_time": "2023-08-10T18:27:44.888Z"
   },
   {
    "duration": 925,
    "start_time": "2023-08-10T18:27:44.894Z"
   },
   {
    "duration": 704,
    "start_time": "2023-08-10T18:27:45.822Z"
   },
   {
    "duration": 921,
    "start_time": "2023-08-10T18:27:46.528Z"
   },
   {
    "duration": 358,
    "start_time": "2023-08-10T18:27:47.450Z"
   },
   {
    "duration": 23,
    "start_time": "2023-08-10T18:27:47.810Z"
   },
   {
    "duration": 724,
    "start_time": "2023-08-10T18:27:47.834Z"
   },
   {
    "duration": 6283,
    "start_time": "2023-08-10T18:27:48.560Z"
   },
   {
    "duration": 4,
    "start_time": "2023-08-10T18:27:54.844Z"
   },
   {
    "duration": 13,
    "start_time": "2023-08-10T18:27:54.851Z"
   },
   {
    "duration": 10,
    "start_time": "2023-08-10T18:27:54.866Z"
   },
   {
    "duration": 16,
    "start_time": "2023-08-10T18:27:54.899Z"
   },
   {
    "duration": 13,
    "start_time": "2023-08-10T18:27:54.920Z"
   },
   {
    "duration": 4,
    "start_time": "2023-08-10T18:27:54.935Z"
   },
   {
    "duration": 6,
    "start_time": "2023-08-10T18:27:54.942Z"
   },
   {
    "duration": 11,
    "start_time": "2023-08-10T18:27:54.950Z"
   },
   {
    "duration": 9,
    "start_time": "2023-08-10T18:27:54.963Z"
   },
   {
    "duration": 31,
    "start_time": "2023-08-10T18:27:54.974Z"
   },
   {
    "duration": 15,
    "start_time": "2023-08-10T18:27:55.011Z"
   },
   {
    "duration": 12,
    "start_time": "2023-08-10T18:27:55.028Z"
   },
   {
    "duration": 129,
    "start_time": "2023-08-10T18:27:55.041Z"
   },
   {
    "duration": 7,
    "start_time": "2023-08-10T18:27:55.172Z"
   },
   {
    "duration": 42,
    "start_time": "2023-08-10T18:27:55.181Z"
   },
   {
    "duration": 6,
    "start_time": "2023-08-10T18:27:55.225Z"
   },
   {
    "duration": 1185,
    "start_time": "2023-08-10T18:27:55.233Z"
   },
   {
    "duration": 5,
    "start_time": "2023-08-10T18:27:56.421Z"
   },
   {
    "duration": 93,
    "start_time": "2023-08-10T18:27:56.428Z"
   },
   {
    "duration": 2379,
    "start_time": "2023-08-10T18:27:56.523Z"
   },
   {
    "duration": 20,
    "start_time": "2023-08-10T18:27:58.904Z"
   },
   {
    "duration": 34,
    "start_time": "2023-08-10T18:27:58.926Z"
   },
   {
    "duration": 422,
    "start_time": "2023-08-10T18:28:30.126Z"
   },
   {
    "duration": 3,
    "start_time": "2023-08-10T18:28:30.550Z"
   },
   {
    "duration": 36,
    "start_time": "2023-08-10T18:28:30.554Z"
   },
   {
    "duration": 59,
    "start_time": "2023-08-10T18:28:30.592Z"
   },
   {
    "duration": 473,
    "start_time": "2023-08-10T18:28:30.653Z"
   },
   {
    "duration": 3,
    "start_time": "2023-08-10T18:28:31.128Z"
   },
   {
    "duration": 602,
    "start_time": "2023-08-10T18:28:31.133Z"
   },
   {
    "duration": 298,
    "start_time": "2023-08-10T18:28:31.737Z"
   },
   {
    "duration": 46,
    "start_time": "2023-08-10T18:28:32.037Z"
   },
   {
    "duration": 3,
    "start_time": "2023-08-10T18:28:32.084Z"
   },
   {
    "duration": 65,
    "start_time": "2023-08-10T18:28:32.088Z"
   },
   {
    "duration": 30,
    "start_time": "2023-08-10T18:28:32.154Z"
   },
   {
    "duration": 1070,
    "start_time": "2023-08-10T18:28:32.186Z"
   },
   {
    "duration": 5,
    "start_time": "2023-08-10T18:28:33.259Z"
   },
   {
    "duration": 9,
    "start_time": "2023-08-10T18:28:33.265Z"
   },
   {
    "duration": 449,
    "start_time": "2023-08-10T18:28:33.275Z"
   },
   {
    "duration": 400,
    "start_time": "2023-08-10T18:28:33.727Z"
   },
   {
    "duration": 198,
    "start_time": "2023-08-10T18:28:34.129Z"
   },
   {
    "duration": 93,
    "start_time": "2023-08-10T18:28:34.329Z"
   },
   {
    "duration": 3,
    "start_time": "2023-08-10T18:28:34.424Z"
   },
   {
    "duration": 193,
    "start_time": "2023-08-10T18:28:34.428Z"
   },
   {
    "duration": 168,
    "start_time": "2023-08-10T18:28:34.623Z"
   },
   {
    "duration": 21,
    "start_time": "2023-08-10T18:28:34.796Z"
   },
   {
    "duration": 9,
    "start_time": "2023-08-10T18:28:34.822Z"
   },
   {
    "duration": 12,
    "start_time": "2023-08-10T18:28:34.833Z"
   },
   {
    "duration": 5,
    "start_time": "2023-08-10T18:28:34.847Z"
   },
   {
    "duration": 7,
    "start_time": "2023-08-10T18:28:34.854Z"
   },
   {
    "duration": 11,
    "start_time": "2023-08-10T18:28:34.863Z"
   },
   {
    "duration": 6,
    "start_time": "2023-08-10T18:28:34.876Z"
   },
   {
    "duration": 54,
    "start_time": "2023-08-10T18:28:34.883Z"
   },
   {
    "duration": 25,
    "start_time": "2023-08-10T18:28:34.939Z"
   },
   {
    "duration": 5,
    "start_time": "2023-08-10T18:28:34.966Z"
   },
   {
    "duration": 898,
    "start_time": "2023-08-10T18:28:34.972Z"
   },
   {
    "duration": 756,
    "start_time": "2023-08-10T18:28:35.872Z"
   },
   {
    "duration": 912,
    "start_time": "2023-08-10T18:28:36.631Z"
   },
   {
    "duration": 371,
    "start_time": "2023-08-10T18:28:37.546Z"
   },
   {
    "duration": 19,
    "start_time": "2023-08-10T18:28:37.920Z"
   },
   {
    "duration": 726,
    "start_time": "2023-08-10T18:28:37.940Z"
   },
   {
    "duration": 6150,
    "start_time": "2023-08-10T18:28:38.668Z"
   },
   {
    "duration": 5,
    "start_time": "2023-08-10T18:28:44.820Z"
   },
   {
    "duration": 19,
    "start_time": "2023-08-10T18:28:44.830Z"
   },
   {
    "duration": 9,
    "start_time": "2023-08-10T18:28:44.851Z"
   },
   {
    "duration": 16,
    "start_time": "2023-08-10T18:28:44.862Z"
   },
   {
    "duration": 19,
    "start_time": "2023-08-10T18:28:44.880Z"
   },
   {
    "duration": 7,
    "start_time": "2023-08-10T18:28:44.906Z"
   },
   {
    "duration": 17,
    "start_time": "2023-08-10T18:28:44.914Z"
   },
   {
    "duration": 23,
    "start_time": "2023-08-10T18:28:44.933Z"
   },
   {
    "duration": 14,
    "start_time": "2023-08-10T18:28:44.958Z"
   },
   {
    "duration": 6,
    "start_time": "2023-08-10T18:28:44.974Z"
   },
   {
    "duration": 5,
    "start_time": "2023-08-10T18:28:44.982Z"
   },
   {
    "duration": 45,
    "start_time": "2023-08-10T18:28:44.989Z"
   },
   {
    "duration": 118,
    "start_time": "2023-08-10T18:28:45.036Z"
   },
   {
    "duration": 8,
    "start_time": "2023-08-10T18:28:45.156Z"
   },
   {
    "duration": 24,
    "start_time": "2023-08-10T18:28:45.165Z"
   },
   {
    "duration": 30,
    "start_time": "2023-08-10T18:28:45.191Z"
   },
   {
    "duration": 1181,
    "start_time": "2023-08-10T18:28:45.223Z"
   },
   {
    "duration": 9,
    "start_time": "2023-08-10T18:28:46.406Z"
   },
   {
    "duration": 96,
    "start_time": "2023-08-10T18:28:46.422Z"
   },
   {
    "duration": 2450,
    "start_time": "2023-08-10T18:28:46.521Z"
   },
   {
    "duration": 3,
    "start_time": "2023-08-10T18:28:48.973Z"
   },
   {
    "duration": 5,
    "start_time": "2023-08-10T18:28:48.978Z"
   },
   {
    "duration": 20220,
    "start_time": "2023-08-10T18:28:48.984Z"
   },
   {
    "duration": 4,
    "start_time": "2023-08-10T18:29:09.209Z"
   },
   {
    "duration": 10141,
    "start_time": "2023-08-10T18:29:09.215Z"
   },
   {
    "duration": 20,
    "start_time": "2023-08-10T18:29:19.358Z"
   },
   {
    "duration": 8,
    "start_time": "2023-08-10T18:30:46.961Z"
   },
   {
    "duration": 937,
    "start_time": "2023-08-10T18:36:14.886Z"
   },
   {
    "duration": 761,
    "start_time": "2023-08-10T18:36:23.102Z"
   },
   {
    "duration": 1711,
    "start_time": "2023-08-10T18:54:27.375Z"
   },
   {
    "duration": 1489,
    "start_time": "2023-08-10T18:55:51.119Z"
   },
   {
    "duration": 1600,
    "start_time": "2023-08-10T18:56:03.383Z"
   },
   {
    "duration": 1432,
    "start_time": "2023-08-10T18:56:30.859Z"
   },
   {
    "duration": 1489,
    "start_time": "2023-08-10T18:56:50.355Z"
   },
   {
    "duration": 1527,
    "start_time": "2023-08-10T18:57:11.666Z"
   },
   {
    "duration": 1485,
    "start_time": "2023-08-10T18:58:04.543Z"
   },
   {
    "duration": 1431,
    "start_time": "2023-08-10T19:01:33.092Z"
   },
   {
    "duration": 1422,
    "start_time": "2023-08-10T19:01:47.660Z"
   },
   {
    "duration": 3,
    "start_time": "2023-08-10T19:12:49.163Z"
   },
   {
    "duration": 3,
    "start_time": "2023-08-10T19:12:51.530Z"
   },
   {
    "duration": 4,
    "start_time": "2023-08-10T19:12:52.323Z"
   },
   {
    "duration": 138,
    "start_time": "2023-08-10T19:12:54.783Z"
   },
   {
    "duration": 329143,
    "start_time": "2023-08-10T19:13:10.723Z"
   },
   {
    "duration": 427,
    "start_time": "2023-08-10T19:22:18.019Z"
   },
   {
    "duration": 3,
    "start_time": "2023-08-10T19:22:18.448Z"
   },
   {
    "duration": 19,
    "start_time": "2023-08-10T19:22:18.452Z"
   },
   {
    "duration": 7,
    "start_time": "2023-08-10T19:22:18.473Z"
   },
   {
    "duration": 305,
    "start_time": "2023-08-10T19:22:18.483Z"
   },
   {
    "duration": 3,
    "start_time": "2023-08-10T19:22:18.789Z"
   },
   {
    "duration": 536,
    "start_time": "2023-08-10T19:22:18.793Z"
   },
   {
    "duration": 250,
    "start_time": "2023-08-10T19:22:19.330Z"
   },
   {
    "duration": 57,
    "start_time": "2023-08-10T19:22:19.582Z"
   },
   {
    "duration": 3,
    "start_time": "2023-08-10T19:22:19.641Z"
   },
   {
    "duration": 7,
    "start_time": "2023-08-10T19:22:19.645Z"
   },
   {
    "duration": 9,
    "start_time": "2023-08-10T19:22:19.654Z"
   },
   {
    "duration": 980,
    "start_time": "2023-08-10T19:22:19.664Z"
   },
   {
    "duration": 4,
    "start_time": "2023-08-10T19:22:20.647Z"
   },
   {
    "duration": 16,
    "start_time": "2023-08-10T19:22:20.653Z"
   },
   {
    "duration": 440,
    "start_time": "2023-08-10T19:22:20.670Z"
   },
   {
    "duration": 403,
    "start_time": "2023-08-10T19:22:21.112Z"
   },
   {
    "duration": 155,
    "start_time": "2023-08-10T19:22:21.518Z"
   },
   {
    "duration": 85,
    "start_time": "2023-08-10T19:22:21.674Z"
   },
   {
    "duration": 3,
    "start_time": "2023-08-10T19:22:21.761Z"
   },
   {
    "duration": 196,
    "start_time": "2023-08-10T19:22:21.765Z"
   },
   {
    "duration": 182,
    "start_time": "2023-08-10T19:22:21.963Z"
   },
   {
    "duration": 9,
    "start_time": "2023-08-10T19:22:22.147Z"
   },
   {
    "duration": 7,
    "start_time": "2023-08-10T19:22:22.157Z"
   },
   {
    "duration": 12,
    "start_time": "2023-08-10T19:22:22.166Z"
   },
   {
    "duration": 12,
    "start_time": "2023-08-10T19:22:22.200Z"
   },
   {
    "duration": 39,
    "start_time": "2023-08-10T19:22:22.214Z"
   },
   {
    "duration": 18,
    "start_time": "2023-08-10T19:22:22.255Z"
   },
   {
    "duration": 37,
    "start_time": "2023-08-10T19:22:22.274Z"
   },
   {
    "duration": 66,
    "start_time": "2023-08-10T19:22:22.313Z"
   },
   {
    "duration": 32,
    "start_time": "2023-08-10T19:22:22.381Z"
   },
   {
    "duration": 16,
    "start_time": "2023-08-10T19:22:22.415Z"
   },
   {
    "duration": 816,
    "start_time": "2023-08-10T19:22:22.433Z"
   },
   {
    "duration": 682,
    "start_time": "2023-08-10T19:22:23.251Z"
   },
   {
    "duration": 852,
    "start_time": "2023-08-10T19:22:23.935Z"
   },
   {
    "duration": 375,
    "start_time": "2023-08-10T19:22:24.789Z"
   },
   {
    "duration": 17,
    "start_time": "2023-08-10T19:22:25.166Z"
   },
   {
    "duration": 729,
    "start_time": "2023-08-10T19:22:25.195Z"
   },
   {
    "duration": 6093,
    "start_time": "2023-08-10T19:22:25.926Z"
   },
   {
    "duration": 4,
    "start_time": "2023-08-10T19:22:32.022Z"
   },
   {
    "duration": 34,
    "start_time": "2023-08-10T19:22:32.030Z"
   },
   {
    "duration": 20,
    "start_time": "2023-08-10T19:22:32.066Z"
   },
   {
    "duration": 61,
    "start_time": "2023-08-10T19:22:32.088Z"
   },
   {
    "duration": 15,
    "start_time": "2023-08-10T19:22:32.151Z"
   },
   {
    "duration": 50,
    "start_time": "2023-08-10T19:22:32.168Z"
   },
   {
    "duration": 26,
    "start_time": "2023-08-10T19:22:32.221Z"
   },
   {
    "duration": 28,
    "start_time": "2023-08-10T19:22:32.249Z"
   },
   {
    "duration": 45,
    "start_time": "2023-08-10T19:22:32.279Z"
   },
   {
    "duration": 49,
    "start_time": "2023-08-10T19:22:32.326Z"
   },
   {
    "duration": 23,
    "start_time": "2023-08-10T19:22:32.376Z"
   },
   {
    "duration": 45,
    "start_time": "2023-08-10T19:22:32.401Z"
   },
   {
    "duration": 125,
    "start_time": "2023-08-10T19:22:32.448Z"
   },
   {
    "duration": 17,
    "start_time": "2023-08-10T19:22:32.575Z"
   },
   {
    "duration": 46,
    "start_time": "2023-08-10T19:22:32.594Z"
   },
   {
    "duration": 4,
    "start_time": "2023-08-10T19:22:32.642Z"
   },
   {
    "duration": 953,
    "start_time": "2023-08-10T19:22:32.648Z"
   },
   {
    "duration": 7,
    "start_time": "2023-08-10T19:22:33.604Z"
   },
   {
    "duration": 25,
    "start_time": "2023-08-10T19:22:33.613Z"
   },
   {
    "duration": 2486,
    "start_time": "2023-08-10T19:22:33.697Z"
   },
   {
    "duration": 23,
    "start_time": "2023-08-10T19:22:36.185Z"
   },
   {
    "duration": 18,
    "start_time": "2023-08-10T19:22:36.210Z"
   },
   {
    "duration": 143107,
    "start_time": "2023-08-10T19:22:36.230Z"
   },
   {
    "duration": 4,
    "start_time": "2023-08-10T19:24:59.339Z"
   },
   {
    "duration": 7,
    "start_time": "2023-08-10T19:24:59.344Z"
   },
   {
    "duration": 7,
    "start_time": "2023-08-10T19:24:59.353Z"
   },
   {
    "duration": 64447,
    "start_time": "2023-08-10T19:24:59.362Z"
   },
   {
    "duration": 6,
    "start_time": "2023-08-10T19:26:03.811Z"
   },
   {
    "duration": 142,
    "start_time": "2023-08-10T19:26:03.820Z"
   },
   {
    "duration": 0,
    "start_time": "2023-08-10T19:26:03.963Z"
   },
   {
    "duration": 0,
    "start_time": "2023-08-10T19:26:03.965Z"
   },
   {
    "duration": 2522,
    "start_time": "2023-08-10T19:26:40.765Z"
   },
   {
    "duration": 11,
    "start_time": "2023-08-10T19:26:46.788Z"
   },
   {
    "duration": 11,
    "start_time": "2023-08-10T19:26:49.116Z"
   },
   {
    "duration": 1572,
    "start_time": "2023-08-10T19:26:49.887Z"
   },
   {
    "duration": 439,
    "start_time": "2023-08-10T19:29:53.081Z"
   },
   {
    "duration": 2,
    "start_time": "2023-08-10T19:29:53.522Z"
   },
   {
    "duration": 14,
    "start_time": "2023-08-10T19:29:53.525Z"
   },
   {
    "duration": 31,
    "start_time": "2023-08-10T19:29:53.541Z"
   },
   {
    "duration": 260,
    "start_time": "2023-08-10T19:29:53.575Z"
   },
   {
    "duration": 3,
    "start_time": "2023-08-10T19:29:53.837Z"
   },
   {
    "duration": 549,
    "start_time": "2023-08-10T19:29:53.842Z"
   },
   {
    "duration": 235,
    "start_time": "2023-08-10T19:29:54.393Z"
   },
   {
    "duration": 46,
    "start_time": "2023-08-10T19:29:54.630Z"
   },
   {
    "duration": 2,
    "start_time": "2023-08-10T19:29:54.678Z"
   },
   {
    "duration": 31,
    "start_time": "2023-08-10T19:29:54.682Z"
   },
   {
    "duration": 12,
    "start_time": "2023-08-10T19:29:54.715Z"
   },
   {
    "duration": 943,
    "start_time": "2023-08-10T19:29:54.729Z"
   },
   {
    "duration": 24,
    "start_time": "2023-08-10T19:29:55.675Z"
   },
   {
    "duration": 33,
    "start_time": "2023-08-10T19:29:55.701Z"
   },
   {
    "duration": 402,
    "start_time": "2023-08-10T19:29:55.736Z"
   },
   {
    "duration": 408,
    "start_time": "2023-08-10T19:29:56.140Z"
   },
   {
    "duration": 213,
    "start_time": "2023-08-10T19:29:56.549Z"
   },
   {
    "duration": 93,
    "start_time": "2023-08-10T19:29:56.765Z"
   },
   {
    "duration": 2,
    "start_time": "2023-08-10T19:29:56.860Z"
   },
   {
    "duration": 185,
    "start_time": "2023-08-10T19:29:56.864Z"
   },
   {
    "duration": 177,
    "start_time": "2023-08-10T19:29:57.051Z"
   },
   {
    "duration": 8,
    "start_time": "2023-08-10T19:29:57.232Z"
   },
   {
    "duration": 7,
    "start_time": "2023-08-10T19:29:57.242Z"
   },
   {
    "duration": 11,
    "start_time": "2023-08-10T19:29:57.250Z"
   },
   {
    "duration": 8,
    "start_time": "2023-08-10T19:29:57.262Z"
   },
   {
    "duration": 42,
    "start_time": "2023-08-10T19:29:57.272Z"
   },
   {
    "duration": 9,
    "start_time": "2023-08-10T19:29:57.316Z"
   },
   {
    "duration": 24,
    "start_time": "2023-08-10T19:29:57.327Z"
   },
   {
    "duration": 39,
    "start_time": "2023-08-10T19:29:57.354Z"
   },
   {
    "duration": 36,
    "start_time": "2023-08-10T19:29:57.395Z"
   },
   {
    "duration": 4,
    "start_time": "2023-08-10T19:29:57.433Z"
   },
   {
    "duration": 794,
    "start_time": "2023-08-10T19:29:57.439Z"
   },
   {
    "duration": 656,
    "start_time": "2023-08-10T19:29:58.234Z"
   },
   {
    "duration": 786,
    "start_time": "2023-08-10T19:29:58.897Z"
   },
   {
    "duration": 364,
    "start_time": "2023-08-10T19:29:59.684Z"
   },
   {
    "duration": 17,
    "start_time": "2023-08-10T19:30:00.050Z"
   },
   {
    "duration": 700,
    "start_time": "2023-08-10T19:30:00.069Z"
   },
   {
    "duration": 5665,
    "start_time": "2023-08-10T19:30:00.771Z"
   },
   {
    "duration": 4,
    "start_time": "2023-08-10T19:30:06.438Z"
   },
   {
    "duration": 14,
    "start_time": "2023-08-10T19:30:06.446Z"
   },
   {
    "duration": 10,
    "start_time": "2023-08-10T19:30:06.461Z"
   },
   {
    "duration": 38,
    "start_time": "2023-08-10T19:30:06.472Z"
   },
   {
    "duration": 13,
    "start_time": "2023-08-10T19:30:06.512Z"
   },
   {
    "duration": 9,
    "start_time": "2023-08-10T19:30:06.527Z"
   },
   {
    "duration": 13,
    "start_time": "2023-08-10T19:30:06.538Z"
   },
   {
    "duration": 21,
    "start_time": "2023-08-10T19:30:06.553Z"
   },
   {
    "duration": 15,
    "start_time": "2023-08-10T19:30:06.576Z"
   },
   {
    "duration": 32,
    "start_time": "2023-08-10T19:30:06.595Z"
   },
   {
    "duration": 11,
    "start_time": "2023-08-10T19:30:06.629Z"
   },
   {
    "duration": 15,
    "start_time": "2023-08-10T19:30:06.642Z"
   },
   {
    "duration": 129,
    "start_time": "2023-08-10T19:30:06.658Z"
   },
   {
    "duration": 19,
    "start_time": "2023-08-10T19:30:06.789Z"
   },
   {
    "duration": 16,
    "start_time": "2023-08-10T19:30:06.810Z"
   },
   {
    "duration": 2,
    "start_time": "2023-08-10T19:30:06.828Z"
   },
   {
    "duration": 1177,
    "start_time": "2023-08-10T19:30:06.831Z"
   },
   {
    "duration": 88,
    "start_time": "2023-08-10T19:30:08.011Z"
   },
   {
    "duration": 10,
    "start_time": "2023-08-10T19:30:08.105Z"
   },
   {
    "duration": 2392,
    "start_time": "2023-08-10T19:30:08.118Z"
   },
   {
    "duration": 4,
    "start_time": "2023-08-10T19:30:10.512Z"
   },
   {
    "duration": 30,
    "start_time": "2023-08-10T19:30:10.517Z"
   },
   {
    "duration": 134711,
    "start_time": "2023-08-10T19:30:10.549Z"
   },
   {
    "duration": 4,
    "start_time": "2023-08-10T19:32:25.261Z"
   },
   {
    "duration": 7,
    "start_time": "2023-08-10T19:32:25.267Z"
   },
   {
    "duration": 9,
    "start_time": "2023-08-10T19:32:25.276Z"
   },
   {
    "duration": 64105,
    "start_time": "2023-08-10T19:32:25.287Z"
   },
   {
    "duration": 2495,
    "start_time": "2023-08-10T19:33:29.395Z"
   },
   {
    "duration": 12,
    "start_time": "2023-08-10T19:33:31.892Z"
   },
   {
    "duration": 43,
    "start_time": "2023-08-10T19:33:31.906Z"
   },
   {
    "duration": 1572,
    "start_time": "2023-08-10T19:33:31.951Z"
   },
   {
    "duration": 5,
    "start_time": "2023-08-10T20:40:40.010Z"
   },
   {
    "duration": 53,
    "start_time": "2023-08-11T05:57:33.053Z"
   },
   {
    "duration": 0,
    "start_time": "2023-08-11T05:57:33.110Z"
   },
   {
    "duration": 0,
    "start_time": "2023-08-11T05:57:33.111Z"
   },
   {
    "duration": 0,
    "start_time": "2023-08-11T05:57:33.112Z"
   },
   {
    "duration": 0,
    "start_time": "2023-08-11T05:57:33.113Z"
   },
   {
    "duration": 0,
    "start_time": "2023-08-11T05:57:33.117Z"
   },
   {
    "duration": 0,
    "start_time": "2023-08-11T05:57:33.118Z"
   },
   {
    "duration": 0,
    "start_time": "2023-08-11T05:57:33.118Z"
   },
   {
    "duration": 0,
    "start_time": "2023-08-11T05:57:33.119Z"
   },
   {
    "duration": 0,
    "start_time": "2023-08-11T05:57:33.120Z"
   },
   {
    "duration": 0,
    "start_time": "2023-08-11T05:57:33.121Z"
   },
   {
    "duration": 0,
    "start_time": "2023-08-11T05:57:33.121Z"
   },
   {
    "duration": 0,
    "start_time": "2023-08-11T05:57:33.123Z"
   },
   {
    "duration": 0,
    "start_time": "2023-08-11T05:57:33.124Z"
   },
   {
    "duration": 0,
    "start_time": "2023-08-11T05:57:33.125Z"
   },
   {
    "duration": 0,
    "start_time": "2023-08-11T05:57:33.127Z"
   },
   {
    "duration": 0,
    "start_time": "2023-08-11T05:57:33.128Z"
   },
   {
    "duration": 0,
    "start_time": "2023-08-11T05:57:33.129Z"
   },
   {
    "duration": 0,
    "start_time": "2023-08-11T05:57:33.130Z"
   },
   {
    "duration": 0,
    "start_time": "2023-08-11T05:57:33.131Z"
   },
   {
    "duration": 0,
    "start_time": "2023-08-11T05:57:33.132Z"
   },
   {
    "duration": 0,
    "start_time": "2023-08-11T05:57:33.133Z"
   },
   {
    "duration": 0,
    "start_time": "2023-08-11T05:57:33.134Z"
   },
   {
    "duration": 0,
    "start_time": "2023-08-11T05:57:33.135Z"
   },
   {
    "duration": 0,
    "start_time": "2023-08-11T05:57:33.136Z"
   },
   {
    "duration": 6,
    "start_time": "2023-08-11T05:57:33.138Z"
   },
   {
    "duration": 0,
    "start_time": "2023-08-11T05:57:33.146Z"
   },
   {
    "duration": 0,
    "start_time": "2023-08-11T05:57:33.147Z"
   },
   {
    "duration": 0,
    "start_time": "2023-08-11T05:57:33.148Z"
   },
   {
    "duration": 0,
    "start_time": "2023-08-11T05:57:33.149Z"
   },
   {
    "duration": 0,
    "start_time": "2023-08-11T05:57:33.150Z"
   },
   {
    "duration": 0,
    "start_time": "2023-08-11T05:57:33.152Z"
   },
   {
    "duration": 0,
    "start_time": "2023-08-11T05:57:33.153Z"
   },
   {
    "duration": 0,
    "start_time": "2023-08-11T05:57:33.154Z"
   },
   {
    "duration": 0,
    "start_time": "2023-08-11T05:57:33.155Z"
   },
   {
    "duration": 21,
    "start_time": "2023-08-11T05:57:33.202Z"
   },
   {
    "duration": 0,
    "start_time": "2023-08-11T05:57:33.226Z"
   },
   {
    "duration": 0,
    "start_time": "2023-08-11T05:57:33.228Z"
   },
   {
    "duration": 0,
    "start_time": "2023-08-11T05:57:33.231Z"
   },
   {
    "duration": 0,
    "start_time": "2023-08-11T05:57:33.233Z"
   },
   {
    "duration": 0,
    "start_time": "2023-08-11T05:57:33.235Z"
   },
   {
    "duration": 0,
    "start_time": "2023-08-11T05:57:33.236Z"
   },
   {
    "duration": 0,
    "start_time": "2023-08-11T05:57:33.237Z"
   },
   {
    "duration": 0,
    "start_time": "2023-08-11T05:57:33.239Z"
   },
   {
    "duration": 0,
    "start_time": "2023-08-11T05:57:33.240Z"
   },
   {
    "duration": 0,
    "start_time": "2023-08-11T05:57:33.241Z"
   },
   {
    "duration": 0,
    "start_time": "2023-08-11T05:57:33.242Z"
   },
   {
    "duration": 0,
    "start_time": "2023-08-11T05:57:33.243Z"
   },
   {
    "duration": 0,
    "start_time": "2023-08-11T05:57:33.245Z"
   },
   {
    "duration": 0,
    "start_time": "2023-08-11T05:57:33.246Z"
   },
   {
    "duration": 0,
    "start_time": "2023-08-11T05:57:33.247Z"
   },
   {
    "duration": 0,
    "start_time": "2023-08-11T05:57:33.248Z"
   },
   {
    "duration": 1,
    "start_time": "2023-08-11T05:57:33.249Z"
   },
   {
    "duration": 0,
    "start_time": "2023-08-11T05:57:33.297Z"
   },
   {
    "duration": 0,
    "start_time": "2023-08-11T05:57:33.301Z"
   },
   {
    "duration": 0,
    "start_time": "2023-08-11T05:57:33.303Z"
   },
   {
    "duration": 0,
    "start_time": "2023-08-11T05:57:33.305Z"
   },
   {
    "duration": 0,
    "start_time": "2023-08-11T05:57:33.307Z"
   },
   {
    "duration": 0,
    "start_time": "2023-08-11T05:57:33.308Z"
   },
   {
    "duration": 0,
    "start_time": "2023-08-11T05:57:33.310Z"
   },
   {
    "duration": 0,
    "start_time": "2023-08-11T05:57:33.311Z"
   },
   {
    "duration": 0,
    "start_time": "2023-08-11T05:57:33.313Z"
   },
   {
    "duration": 0,
    "start_time": "2023-08-11T05:57:33.314Z"
   },
   {
    "duration": 0,
    "start_time": "2023-08-11T05:57:33.316Z"
   },
   {
    "duration": 0,
    "start_time": "2023-08-11T05:57:33.317Z"
   },
   {
    "duration": 0,
    "start_time": "2023-08-11T05:57:33.319Z"
   },
   {
    "duration": 0,
    "start_time": "2023-08-11T05:57:33.320Z"
   },
   {
    "duration": 0,
    "start_time": "2023-08-11T05:57:33.322Z"
   },
   {
    "duration": 0,
    "start_time": "2023-08-11T05:57:33.323Z"
   },
   {
    "duration": 0,
    "start_time": "2023-08-11T05:57:33.325Z"
   },
   {
    "duration": 0,
    "start_time": "2023-08-11T05:57:33.326Z"
   },
   {
    "duration": 7,
    "start_time": "2023-08-11T05:57:49.850Z"
   },
   {
    "duration": 1568,
    "start_time": "2023-08-11T05:58:31.286Z"
   },
   {
    "duration": 1557,
    "start_time": "2023-08-11T05:58:38.823Z"
   },
   {
    "duration": 3,
    "start_time": "2023-08-11T05:58:40.382Z"
   },
   {
    "duration": 6,
    "start_time": "2023-08-11T05:58:40.387Z"
   },
   {
    "duration": 35,
    "start_time": "2023-08-11T05:58:40.398Z"
   },
   {
    "duration": 5,
    "start_time": "2023-08-11T05:58:40.437Z"
   },
   {
    "duration": 7,
    "start_time": "2023-08-11T05:58:40.445Z"
   },
   {
    "duration": 5,
    "start_time": "2023-08-11T05:58:40.453Z"
   },
   {
    "duration": 10,
    "start_time": "2023-08-11T05:58:40.460Z"
   },
   {
    "duration": 5,
    "start_time": "2023-08-11T05:58:40.471Z"
   },
   {
    "duration": 5,
    "start_time": "2023-08-11T05:58:40.478Z"
   },
   {
    "duration": 14,
    "start_time": "2023-08-11T05:58:40.485Z"
   },
   {
    "duration": 34,
    "start_time": "2023-08-11T05:58:40.501Z"
   },
   {
    "duration": 9,
    "start_time": "2023-08-11T05:58:40.538Z"
   },
   {
    "duration": 1033,
    "start_time": "2023-08-11T05:58:40.551Z"
   },
   {
    "duration": 23,
    "start_time": "2023-08-11T05:58:41.597Z"
   },
   {
    "duration": 28,
    "start_time": "2023-08-11T05:58:41.623Z"
   },
   {
    "duration": 424,
    "start_time": "2023-08-11T05:58:41.652Z"
   },
   {
    "duration": 446,
    "start_time": "2023-08-11T05:58:42.078Z"
   },
   {
    "duration": 234,
    "start_time": "2023-08-11T05:58:42.526Z"
   },
   {
    "duration": 90,
    "start_time": "2023-08-11T05:58:42.761Z"
   },
   {
    "duration": 92,
    "start_time": "2023-08-11T05:58:42.853Z"
   },
   {
    "duration": 220,
    "start_time": "2023-08-11T05:58:42.947Z"
   },
   {
    "duration": 175,
    "start_time": "2023-08-11T05:58:43.169Z"
   },
   {
    "duration": 8,
    "start_time": "2023-08-11T05:58:43.346Z"
   },
   {
    "duration": 87,
    "start_time": "2023-08-11T05:58:43.355Z"
   },
   {
    "duration": 31,
    "start_time": "2023-08-11T05:58:43.443Z"
   },
   {
    "duration": 8,
    "start_time": "2023-08-11T05:58:43.476Z"
   },
   {
    "duration": 56,
    "start_time": "2023-08-11T05:58:43.486Z"
   },
   {
    "duration": 55,
    "start_time": "2023-08-11T05:58:43.544Z"
   },
   {
    "duration": 51,
    "start_time": "2023-08-11T05:58:43.601Z"
   },
   {
    "duration": 82,
    "start_time": "2023-08-11T05:58:43.654Z"
   },
   {
    "duration": 54,
    "start_time": "2023-08-11T05:58:43.738Z"
   },
   {
    "duration": 14,
    "start_time": "2023-08-11T05:58:43.793Z"
   },
   {
    "duration": 977,
    "start_time": "2023-08-11T05:58:43.808Z"
   },
   {
    "duration": 741,
    "start_time": "2023-08-11T05:58:44.787Z"
   },
   {
    "duration": 862,
    "start_time": "2023-08-11T05:58:45.529Z"
   },
   {
    "duration": 409,
    "start_time": "2023-08-11T05:58:46.394Z"
   },
   {
    "duration": 30,
    "start_time": "2023-08-11T05:58:46.807Z"
   },
   {
    "duration": 766,
    "start_time": "2023-08-11T05:58:46.839Z"
   },
   {
    "duration": 6345,
    "start_time": "2023-08-11T05:58:47.607Z"
   },
   {
    "duration": 4,
    "start_time": "2023-08-11T05:58:53.956Z"
   },
   {
    "duration": 15,
    "start_time": "2023-08-11T05:58:53.961Z"
   },
   {
    "duration": 26,
    "start_time": "2023-08-11T05:58:53.994Z"
   },
   {
    "duration": 24,
    "start_time": "2023-08-11T05:58:54.022Z"
   },
   {
    "duration": 8,
    "start_time": "2023-08-11T05:58:54.048Z"
   },
   {
    "duration": 5,
    "start_time": "2023-08-11T05:58:54.058Z"
   },
   {
    "duration": 20,
    "start_time": "2023-08-11T05:58:54.064Z"
   },
   {
    "duration": 12,
    "start_time": "2023-08-11T05:58:54.086Z"
   },
   {
    "duration": 39,
    "start_time": "2023-08-11T05:58:54.100Z"
   },
   {
    "duration": 8,
    "start_time": "2023-08-11T05:58:54.141Z"
   },
   {
    "duration": 11,
    "start_time": "2023-08-11T05:58:54.151Z"
   },
   {
    "duration": 14,
    "start_time": "2023-08-11T05:58:54.164Z"
   },
   {
    "duration": 128,
    "start_time": "2023-08-11T05:58:54.180Z"
   },
   {
    "duration": 40,
    "start_time": "2023-08-11T05:58:54.327Z"
   },
   {
    "duration": 20,
    "start_time": "2023-08-11T05:58:54.372Z"
   },
   {
    "duration": 7,
    "start_time": "2023-08-11T05:58:54.394Z"
   },
   {
    "duration": 2128,
    "start_time": "2023-08-11T05:58:54.408Z"
   },
   {
    "duration": 6,
    "start_time": "2023-08-11T05:58:56.539Z"
   },
   {
    "duration": 47,
    "start_time": "2023-08-11T05:58:56.599Z"
   },
   {
    "duration": 2280,
    "start_time": "2023-08-11T05:58:56.648Z"
   },
   {
    "duration": 5,
    "start_time": "2023-08-11T05:58:58.930Z"
   },
   {
    "duration": 13,
    "start_time": "2023-08-11T05:58:58.937Z"
   },
   {
    "duration": 142726,
    "start_time": "2023-08-11T05:58:58.951Z"
   },
   {
    "duration": 4,
    "start_time": "2023-08-11T06:01:21.678Z"
   },
   {
    "duration": 13,
    "start_time": "2023-08-11T06:01:21.683Z"
   },
   {
    "duration": 52,
    "start_time": "2023-08-11T06:01:21.698Z"
   },
   {
    "duration": 64080,
    "start_time": "2023-08-11T06:01:21.752Z"
   },
   {
    "duration": 2482,
    "start_time": "2023-08-11T06:02:25.834Z"
   },
   {
    "duration": 10,
    "start_time": "2023-08-11T06:02:28.318Z"
   },
   {
    "duration": 13,
    "start_time": "2023-08-11T06:02:28.336Z"
   },
   {
    "duration": 1616,
    "start_time": "2023-08-11T06:02:28.351Z"
   },
   {
    "duration": 4,
    "start_time": "2023-08-11T06:18:43.141Z"
   },
   {
    "duration": 1557,
    "start_time": "2023-08-11T06:18:56.632Z"
   },
   {
    "duration": 3,
    "start_time": "2023-08-11T06:18:58.191Z"
   },
   {
    "duration": 1080,
    "start_time": "2023-08-11T06:18:58.202Z"
   },
   {
    "duration": 6,
    "start_time": "2023-08-11T06:18:59.296Z"
   },
   {
    "duration": 48,
    "start_time": "2023-08-11T06:18:59.304Z"
   },
   {
    "duration": 395,
    "start_time": "2023-08-11T06:18:59.354Z"
   },
   {
    "duration": 412,
    "start_time": "2023-08-11T06:18:59.751Z"
   },
   {
    "duration": 195,
    "start_time": "2023-08-11T06:19:00.164Z"
   },
   {
    "duration": 86,
    "start_time": "2023-08-11T06:19:00.361Z"
   },
   {
    "duration": 3,
    "start_time": "2023-08-11T06:19:00.450Z"
   },
   {
    "duration": 195,
    "start_time": "2023-08-11T06:19:00.454Z"
   },
   {
    "duration": 163,
    "start_time": "2023-08-11T06:19:00.651Z"
   },
   {
    "duration": 9,
    "start_time": "2023-08-11T06:19:00.819Z"
   },
   {
    "duration": 53,
    "start_time": "2023-08-11T06:19:00.831Z"
   },
   {
    "duration": 93,
    "start_time": "2023-08-11T06:19:00.885Z"
   },
   {
    "duration": 98,
    "start_time": "2023-08-11T06:19:00.980Z"
   },
   {
    "duration": 86,
    "start_time": "2023-08-11T06:19:01.080Z"
   },
   {
    "duration": 93,
    "start_time": "2023-08-11T06:19:01.168Z"
   },
   {
    "duration": 88,
    "start_time": "2023-08-11T06:19:01.263Z"
   },
   {
    "duration": 120,
    "start_time": "2023-08-11T06:19:01.353Z"
   },
   {
    "duration": 74,
    "start_time": "2023-08-11T06:19:01.475Z"
   },
   {
    "duration": 10,
    "start_time": "2023-08-11T06:19:01.551Z"
   },
   {
    "duration": 999,
    "start_time": "2023-08-11T06:19:01.563Z"
   },
   {
    "duration": 817,
    "start_time": "2023-08-11T06:19:02.565Z"
   },
   {
    "duration": 892,
    "start_time": "2023-08-11T06:19:03.383Z"
   },
   {
    "duration": 391,
    "start_time": "2023-08-11T06:19:04.277Z"
   },
   {
    "duration": 27,
    "start_time": "2023-08-11T06:19:04.670Z"
   },
   {
    "duration": 781,
    "start_time": "2023-08-11T06:19:04.699Z"
   },
   {
    "duration": 6549,
    "start_time": "2023-08-11T06:19:05.482Z"
   },
   {
    "duration": 16,
    "start_time": "2023-08-11T06:19:12.033Z"
   },
   {
    "duration": 43,
    "start_time": "2023-08-11T06:19:12.050Z"
   },
   {
    "duration": 77,
    "start_time": "2023-08-11T06:19:12.094Z"
   },
   {
    "duration": 34,
    "start_time": "2023-08-11T06:19:12.173Z"
   },
   {
    "duration": 63,
    "start_time": "2023-08-11T06:19:12.208Z"
   },
   {
    "duration": 66,
    "start_time": "2023-08-11T06:19:12.273Z"
   },
   {
    "duration": 177,
    "start_time": "2023-08-11T06:19:12.343Z"
   },
   {
    "duration": 40,
    "start_time": "2023-08-11T06:19:12.536Z"
   },
   {
    "duration": 49,
    "start_time": "2023-08-11T06:19:12.577Z"
   },
   {
    "duration": 47,
    "start_time": "2023-08-11T06:19:12.636Z"
   },
   {
    "duration": 67,
    "start_time": "2023-08-11T06:19:12.684Z"
   },
   {
    "duration": 26,
    "start_time": "2023-08-11T06:19:12.755Z"
   },
   {
    "duration": 77,
    "start_time": "2023-08-11T06:19:12.782Z"
   },
   {
    "duration": 36,
    "start_time": "2023-08-11T06:19:12.860Z"
   },
   {
    "duration": 65,
    "start_time": "2023-08-11T06:19:12.905Z"
   },
   {
    "duration": 51,
    "start_time": "2023-08-11T06:19:12.972Z"
   },
   {
    "duration": 1880,
    "start_time": "2023-08-11T06:19:13.025Z"
   },
   {
    "duration": 9,
    "start_time": "2023-08-11T06:19:14.911Z"
   },
   {
    "duration": 42,
    "start_time": "2023-08-11T06:19:14.924Z"
   },
   {
    "duration": 2710,
    "start_time": "2023-08-11T06:19:14.968Z"
   },
   {
    "duration": 4,
    "start_time": "2023-08-11T06:19:17.679Z"
   },
   {
    "duration": 76,
    "start_time": "2023-08-11T06:19:17.684Z"
   },
   {
    "duration": 148083,
    "start_time": "2023-08-11T06:19:17.762Z"
   },
   {
    "duration": 9,
    "start_time": "2023-08-11T06:21:45.847Z"
   },
   {
    "duration": 86,
    "start_time": "2023-08-11T06:21:45.858Z"
   },
   {
    "duration": 25,
    "start_time": "2023-08-11T06:21:45.946Z"
   },
   {
    "duration": 65943,
    "start_time": "2023-08-11T06:21:45.972Z"
   },
   {
    "duration": 2357,
    "start_time": "2023-08-11T06:22:51.921Z"
   },
   {
    "duration": 9,
    "start_time": "2023-08-11T06:22:54.280Z"
   },
   {
    "duration": 65,
    "start_time": "2023-08-11T06:22:54.290Z"
   },
   {
    "duration": 1694,
    "start_time": "2023-08-11T06:22:54.357Z"
   },
   {
    "duration": 7,
    "start_time": "2023-08-11T10:07:49.512Z"
   },
   {
    "duration": 6,
    "start_time": "2023-08-11T10:07:56.128Z"
   },
   {
    "duration": 5,
    "start_time": "2023-08-11T10:08:06.482Z"
   },
   {
    "duration": 41,
    "start_time": "2023-08-11T10:08:06.489Z"
   },
   {
    "duration": 1123,
    "start_time": "2023-08-11T10:08:06.532Z"
   },
   {
    "duration": 6,
    "start_time": "2023-08-11T10:08:11.173Z"
   },
   {
    "duration": 6,
    "start_time": "2023-08-11T10:08:26.252Z"
   },
   {
    "duration": 13,
    "start_time": "2023-08-11T10:08:32.427Z"
   },
   {
    "duration": 10,
    "start_time": "2023-08-11T10:08:45.892Z"
   },
   {
    "duration": 13,
    "start_time": "2023-08-11T10:09:41.468Z"
   },
   {
    "duration": 450,
    "start_time": "2023-08-11T10:09:44.337Z"
   },
   {
    "duration": 16,
    "start_time": "2023-08-11T10:10:36.815Z"
   },
   {
    "duration": 7,
    "start_time": "2023-08-11T10:10:41.489Z"
   },
   {
    "duration": 7,
    "start_time": "2023-08-11T10:10:42.221Z"
   },
   {
    "duration": 5,
    "start_time": "2023-08-11T10:10:43.328Z"
   },
   {
    "duration": 410,
    "start_time": "2023-08-11T10:12:17.835Z"
   },
   {
    "duration": 389,
    "start_time": "2023-08-11T10:12:36.952Z"
   },
   {
    "duration": 471,
    "start_time": "2023-08-11T10:13:05.175Z"
   },
   {
    "duration": 537,
    "start_time": "2023-08-11T10:13:15.271Z"
   },
   {
    "duration": 490,
    "start_time": "2023-08-11T10:13:21.227Z"
   },
   {
    "duration": 399,
    "start_time": "2023-08-11T10:13:51.930Z"
   },
   {
    "duration": 438,
    "start_time": "2023-08-11T10:14:03.789Z"
   },
   {
    "duration": 5,
    "start_time": "2023-08-11T10:17:38.570Z"
   },
   {
    "duration": 6,
    "start_time": "2023-08-11T10:17:51.070Z"
   },
   {
    "duration": 10,
    "start_time": "2023-08-11T10:17:58.107Z"
   },
   {
    "duration": 1722,
    "start_time": "2023-08-11T10:19:03.824Z"
   },
   {
    "duration": 11,
    "start_time": "2023-08-11T10:19:05.549Z"
   },
   {
    "duration": 1180,
    "start_time": "2023-08-11T10:19:05.562Z"
   },
   {
    "duration": 6,
    "start_time": "2023-08-11T10:19:06.745Z"
   },
   {
    "duration": 12,
    "start_time": "2023-08-11T10:19:06.754Z"
   },
   {
    "duration": 21,
    "start_time": "2023-08-11T10:19:06.768Z"
   },
   {
    "duration": 523,
    "start_time": "2023-08-11T10:19:06.791Z"
   },
   {
    "duration": 500,
    "start_time": "2023-08-11T10:19:07.318Z"
   },
   {
    "duration": 208,
    "start_time": "2023-08-11T10:19:07.820Z"
   },
   {
    "duration": 93,
    "start_time": "2023-08-11T10:19:08.034Z"
   },
   {
    "duration": 4,
    "start_time": "2023-08-11T10:19:08.130Z"
   },
   {
    "duration": 213,
    "start_time": "2023-08-11T10:19:08.137Z"
   },
   {
    "duration": 193,
    "start_time": "2023-08-11T10:19:08.359Z"
   },
   {
    "duration": 11,
    "start_time": "2023-08-11T10:19:08.554Z"
   },
   {
    "duration": 8,
    "start_time": "2023-08-11T10:19:08.567Z"
   },
   {
    "duration": 65,
    "start_time": "2023-08-11T10:19:08.577Z"
   },
   {
    "duration": 8,
    "start_time": "2023-08-11T10:19:08.645Z"
   },
   {
    "duration": 12,
    "start_time": "2023-08-11T10:19:08.655Z"
   },
   {
    "duration": 5,
    "start_time": "2023-08-11T10:19:08.669Z"
   },
   {
    "duration": 13,
    "start_time": "2023-08-11T10:19:08.676Z"
   },
   {
    "duration": 85,
    "start_time": "2023-08-11T10:19:08.691Z"
   },
   {
    "duration": 40,
    "start_time": "2023-08-11T10:19:08.778Z"
   },
   {
    "duration": 20,
    "start_time": "2023-08-11T10:19:08.820Z"
   },
   {
    "duration": 990,
    "start_time": "2023-08-11T10:19:08.843Z"
   },
   {
    "duration": 851,
    "start_time": "2023-08-11T10:19:09.835Z"
   },
   {
    "duration": 937,
    "start_time": "2023-08-11T10:19:10.688Z"
   },
   {
    "duration": 444,
    "start_time": "2023-08-11T10:19:11.636Z"
   },
   {
    "duration": 27,
    "start_time": "2023-08-11T10:19:12.082Z"
   },
   {
    "duration": 811,
    "start_time": "2023-08-11T10:19:12.111Z"
   },
   {
    "duration": 6526,
    "start_time": "2023-08-11T10:19:12.931Z"
   },
   {
    "duration": 5,
    "start_time": "2023-08-11T10:19:19.459Z"
   },
   {
    "duration": 28,
    "start_time": "2023-08-11T10:19:19.466Z"
   },
   {
    "duration": 43,
    "start_time": "2023-08-11T10:19:19.500Z"
   },
   {
    "duration": 20,
    "start_time": "2023-08-11T10:19:19.545Z"
   },
   {
    "duration": 25,
    "start_time": "2023-08-11T10:19:19.567Z"
   },
   {
    "duration": 43,
    "start_time": "2023-08-11T10:19:19.593Z"
   },
   {
    "duration": 7,
    "start_time": "2023-08-11T10:19:19.638Z"
   },
   {
    "duration": 127,
    "start_time": "2023-08-11T10:19:19.646Z"
   },
   {
    "duration": 142,
    "start_time": "2023-08-11T10:19:19.774Z"
   },
   {
    "duration": 0,
    "start_time": "2023-08-11T10:19:19.925Z"
   },
   {
    "duration": 0,
    "start_time": "2023-08-11T10:19:19.926Z"
   },
   {
    "duration": 0,
    "start_time": "2023-08-11T10:19:19.926Z"
   },
   {
    "duration": 0,
    "start_time": "2023-08-11T10:19:19.927Z"
   },
   {
    "duration": 0,
    "start_time": "2023-08-11T10:19:19.932Z"
   },
   {
    "duration": 0,
    "start_time": "2023-08-11T10:19:19.932Z"
   },
   {
    "duration": 0,
    "start_time": "2023-08-11T10:19:19.933Z"
   },
   {
    "duration": 0,
    "start_time": "2023-08-11T10:19:19.934Z"
   },
   {
    "duration": 0,
    "start_time": "2023-08-11T10:19:19.934Z"
   },
   {
    "duration": 0,
    "start_time": "2023-08-11T10:19:19.937Z"
   },
   {
    "duration": 0,
    "start_time": "2023-08-11T10:19:19.938Z"
   },
   {
    "duration": 0,
    "start_time": "2023-08-11T10:19:19.942Z"
   },
   {
    "duration": 0,
    "start_time": "2023-08-11T10:19:19.944Z"
   },
   {
    "duration": 0,
    "start_time": "2023-08-11T10:19:19.945Z"
   },
   {
    "duration": 0,
    "start_time": "2023-08-11T10:19:19.946Z"
   },
   {
    "duration": 0,
    "start_time": "2023-08-11T10:19:19.948Z"
   },
   {
    "duration": 0,
    "start_time": "2023-08-11T10:19:19.949Z"
   },
   {
    "duration": 0,
    "start_time": "2023-08-11T10:19:19.950Z"
   },
   {
    "duration": 0,
    "start_time": "2023-08-11T10:19:19.952Z"
   },
   {
    "duration": 0,
    "start_time": "2023-08-11T10:19:19.953Z"
   },
   {
    "duration": 0,
    "start_time": "2023-08-11T10:19:19.954Z"
   },
   {
    "duration": 0,
    "start_time": "2023-08-11T10:19:19.955Z"
   },
   {
    "duration": 7,
    "start_time": "2023-08-11T10:19:55.177Z"
   },
   {
    "duration": 1746,
    "start_time": "2023-08-11T10:20:00.394Z"
   },
   {
    "duration": 3,
    "start_time": "2023-08-11T10:20:02.142Z"
   },
   {
    "duration": 1168,
    "start_time": "2023-08-11T10:20:02.147Z"
   },
   {
    "duration": 7,
    "start_time": "2023-08-11T10:20:03.317Z"
   },
   {
    "duration": 53,
    "start_time": "2023-08-11T10:20:03.329Z"
   },
   {
    "duration": 64,
    "start_time": "2023-08-11T10:20:03.385Z"
   },
   {
    "duration": 512,
    "start_time": "2023-08-11T10:20:03.451Z"
   },
   {
    "duration": 464,
    "start_time": "2023-08-11T10:20:03.965Z"
   },
   {
    "duration": 179,
    "start_time": "2023-08-11T10:20:04.435Z"
   },
   {
    "duration": 115,
    "start_time": "2023-08-11T10:20:04.617Z"
   },
   {
    "duration": 3,
    "start_time": "2023-08-11T10:20:04.733Z"
   },
   {
    "duration": 193,
    "start_time": "2023-08-11T10:20:04.738Z"
   },
   {
    "duration": 194,
    "start_time": "2023-08-11T10:20:04.933Z"
   },
   {
    "duration": 12,
    "start_time": "2023-08-11T10:20:05.131Z"
   },
   {
    "duration": 31,
    "start_time": "2023-08-11T10:20:05.145Z"
   },
   {
    "duration": 12,
    "start_time": "2023-08-11T10:20:05.177Z"
   },
   {
    "duration": 40,
    "start_time": "2023-08-11T10:20:05.191Z"
   },
   {
    "duration": 22,
    "start_time": "2023-08-11T10:20:05.233Z"
   },
   {
    "duration": 23,
    "start_time": "2023-08-11T10:20:05.257Z"
   },
   {
    "duration": 52,
    "start_time": "2023-08-11T10:20:05.281Z"
   },
   {
    "duration": 61,
    "start_time": "2023-08-11T10:20:05.335Z"
   },
   {
    "duration": 43,
    "start_time": "2023-08-11T10:20:05.404Z"
   },
   {
    "duration": 7,
    "start_time": "2023-08-11T10:20:05.450Z"
   },
   {
    "duration": 985,
    "start_time": "2023-08-11T10:20:05.458Z"
   },
   {
    "duration": 793,
    "start_time": "2023-08-11T10:20:06.445Z"
   },
   {
    "duration": 968,
    "start_time": "2023-08-11T10:20:07.240Z"
   },
   {
    "duration": 419,
    "start_time": "2023-08-11T10:20:08.210Z"
   },
   {
    "duration": 22,
    "start_time": "2023-08-11T10:20:08.637Z"
   },
   {
    "duration": 917,
    "start_time": "2023-08-11T10:20:08.662Z"
   },
   {
    "duration": 6523,
    "start_time": "2023-08-11T10:20:09.581Z"
   },
   {
    "duration": 5,
    "start_time": "2023-08-11T10:20:16.106Z"
   },
   {
    "duration": 42,
    "start_time": "2023-08-11T10:20:16.113Z"
   },
   {
    "duration": 18,
    "start_time": "2023-08-11T10:20:16.157Z"
   },
   {
    "duration": 20,
    "start_time": "2023-08-11T10:20:16.177Z"
   },
   {
    "duration": 37,
    "start_time": "2023-08-11T10:20:16.204Z"
   },
   {
    "duration": 5,
    "start_time": "2023-08-11T10:20:16.243Z"
   },
   {
    "duration": 14,
    "start_time": "2023-08-11T10:20:16.249Z"
   },
   {
    "duration": 27,
    "start_time": "2023-08-11T10:20:16.265Z"
   },
   {
    "duration": 128,
    "start_time": "2023-08-11T10:20:16.294Z"
   },
   {
    "duration": 21,
    "start_time": "2023-08-11T10:20:16.430Z"
   },
   {
    "duration": 128,
    "start_time": "2023-08-11T10:20:16.454Z"
   },
   {
    "duration": 20,
    "start_time": "2023-08-11T10:20:16.584Z"
   },
   {
    "duration": 37,
    "start_time": "2023-08-11T10:20:16.608Z"
   },
   {
    "duration": 9,
    "start_time": "2023-08-11T10:20:16.648Z"
   },
   {
    "duration": 176,
    "start_time": "2023-08-11T10:20:16.659Z"
   },
   {
    "duration": 0,
    "start_time": "2023-08-11T10:20:16.837Z"
   },
   {
    "duration": 0,
    "start_time": "2023-08-11T10:20:16.838Z"
   },
   {
    "duration": 0,
    "start_time": "2023-08-11T10:20:16.843Z"
   },
   {
    "duration": 0,
    "start_time": "2023-08-11T10:20:16.845Z"
   },
   {
    "duration": 0,
    "start_time": "2023-08-11T10:20:16.847Z"
   },
   {
    "duration": 0,
    "start_time": "2023-08-11T10:20:16.848Z"
   },
   {
    "duration": 0,
    "start_time": "2023-08-11T10:20:16.849Z"
   },
   {
    "duration": 0,
    "start_time": "2023-08-11T10:20:16.852Z"
   },
   {
    "duration": 0,
    "start_time": "2023-08-11T10:20:16.853Z"
   },
   {
    "duration": 0,
    "start_time": "2023-08-11T10:20:16.854Z"
   },
   {
    "duration": 0,
    "start_time": "2023-08-11T10:20:16.855Z"
   },
   {
    "duration": 0,
    "start_time": "2023-08-11T10:20:16.856Z"
   },
   {
    "duration": 0,
    "start_time": "2023-08-11T10:20:16.856Z"
   },
   {
    "duration": 0,
    "start_time": "2023-08-11T10:20:16.857Z"
   },
   {
    "duration": 0,
    "start_time": "2023-08-11T10:20:16.858Z"
   },
   {
    "duration": 0,
    "start_time": "2023-08-11T10:20:16.859Z"
   },
   {
    "duration": 10,
    "start_time": "2023-08-11T10:20:50.189Z"
   },
   {
    "duration": 4,
    "start_time": "2023-08-11T10:21:32.272Z"
   },
   {
    "duration": 6,
    "start_time": "2023-08-11T10:21:49.852Z"
   },
   {
    "duration": 2107,
    "start_time": "2023-08-11T10:22:03.634Z"
   },
   {
    "duration": 3,
    "start_time": "2023-08-11T10:22:05.744Z"
   },
   {
    "duration": 1204,
    "start_time": "2023-08-11T10:22:05.750Z"
   },
   {
    "duration": 7,
    "start_time": "2023-08-11T10:22:06.956Z"
   },
   {
    "duration": 22,
    "start_time": "2023-08-11T10:22:06.965Z"
   },
   {
    "duration": 46,
    "start_time": "2023-08-11T10:22:06.990Z"
   },
   {
    "duration": 491,
    "start_time": "2023-08-11T10:22:07.039Z"
   },
   {
    "duration": 426,
    "start_time": "2023-08-11T10:22:07.531Z"
   },
   {
    "duration": 198,
    "start_time": "2023-08-11T10:22:07.958Z"
   },
   {
    "duration": 126,
    "start_time": "2023-08-11T10:22:08.159Z"
   },
   {
    "duration": 2,
    "start_time": "2023-08-11T10:22:08.298Z"
   },
   {
    "duration": 272,
    "start_time": "2023-08-11T10:22:08.302Z"
   },
   {
    "duration": 234,
    "start_time": "2023-08-11T10:22:08.576Z"
   },
   {
    "duration": 14,
    "start_time": "2023-08-11T10:22:08.819Z"
   },
   {
    "duration": 18,
    "start_time": "2023-08-11T10:22:08.835Z"
   },
   {
    "duration": 17,
    "start_time": "2023-08-11T10:22:08.855Z"
   },
   {
    "duration": 72,
    "start_time": "2023-08-11T10:22:08.874Z"
   },
   {
    "duration": 24,
    "start_time": "2023-08-11T10:22:08.952Z"
   },
   {
    "duration": 54,
    "start_time": "2023-08-11T10:22:08.978Z"
   },
   {
    "duration": 36,
    "start_time": "2023-08-11T10:22:09.034Z"
   },
   {
    "duration": 109,
    "start_time": "2023-08-11T10:22:09.071Z"
   },
   {
    "duration": 40,
    "start_time": "2023-08-11T10:22:09.182Z"
   },
   {
    "duration": 8,
    "start_time": "2023-08-11T10:22:09.233Z"
   },
   {
    "duration": 1018,
    "start_time": "2023-08-11T10:22:09.243Z"
   },
   {
    "duration": 821,
    "start_time": "2023-08-11T10:22:10.263Z"
   },
   {
    "duration": 1018,
    "start_time": "2023-08-11T10:22:11.087Z"
   },
   {
    "duration": 423,
    "start_time": "2023-08-11T10:22:12.110Z"
   },
   {
    "duration": 20,
    "start_time": "2023-08-11T10:22:12.540Z"
   },
   {
    "duration": 932,
    "start_time": "2023-08-11T10:22:12.562Z"
   },
   {
    "duration": 7082,
    "start_time": "2023-08-11T10:22:13.497Z"
   },
   {
    "duration": 4,
    "start_time": "2023-08-11T10:22:20.581Z"
   },
   {
    "duration": 69,
    "start_time": "2023-08-11T10:22:20.587Z"
   },
   {
    "duration": 27,
    "start_time": "2023-08-11T10:22:20.658Z"
   },
   {
    "duration": 73,
    "start_time": "2023-08-11T10:22:20.687Z"
   },
   {
    "duration": 26,
    "start_time": "2023-08-11T10:22:20.763Z"
   },
   {
    "duration": 35,
    "start_time": "2023-08-11T10:22:20.791Z"
   },
   {
    "duration": 28,
    "start_time": "2023-08-11T10:22:20.828Z"
   },
   {
    "duration": 80,
    "start_time": "2023-08-11T10:22:20.858Z"
   },
   {
    "duration": 35,
    "start_time": "2023-08-11T10:22:20.940Z"
   },
   {
    "duration": 24,
    "start_time": "2023-08-11T10:22:20.977Z"
   },
   {
    "duration": 156,
    "start_time": "2023-08-11T10:22:21.003Z"
   },
   {
    "duration": 9,
    "start_time": "2023-08-11T10:22:21.161Z"
   },
   {
    "duration": 6,
    "start_time": "2023-08-11T10:22:21.172Z"
   },
   {
    "duration": 7,
    "start_time": "2023-08-11T10:22:21.179Z"
   },
   {
    "duration": 57,
    "start_time": "2023-08-11T10:22:21.195Z"
   },
   {
    "duration": 29,
    "start_time": "2023-08-11T10:22:21.254Z"
   },
   {
    "duration": 7,
    "start_time": "2023-08-11T10:22:21.284Z"
   },
   {
    "duration": 3610,
    "start_time": "2023-08-11T10:22:21.292Z"
   },
   {
    "duration": 13,
    "start_time": "2023-08-11T10:22:24.905Z"
   },
   {
    "duration": 81,
    "start_time": "2023-08-11T10:22:24.923Z"
   },
   {
    "duration": 3578,
    "start_time": "2023-08-11T10:22:25.009Z"
   },
   {
    "duration": 7,
    "start_time": "2023-08-11T10:22:28.589Z"
   },
   {
    "duration": 66,
    "start_time": "2023-08-11T10:22:28.598Z"
   },
   {
    "duration": 153487,
    "start_time": "2023-08-11T10:22:28.667Z"
   },
   {
    "duration": 5,
    "start_time": "2023-08-11T10:25:02.156Z"
   },
   {
    "duration": 30,
    "start_time": "2023-08-11T10:25:02.163Z"
   },
   {
    "duration": 72,
    "start_time": "2023-08-11T10:25:02.200Z"
   },
   {
    "duration": 69730,
    "start_time": "2023-08-11T10:25:02.274Z"
   },
   {
    "duration": 2684,
    "start_time": "2023-08-11T10:26:12.006Z"
   },
   {
    "duration": 16,
    "start_time": "2023-08-11T10:26:14.699Z"
   },
   {
    "duration": 37,
    "start_time": "2023-08-11T10:26:14.717Z"
   },
   {
    "duration": 1730,
    "start_time": "2023-08-11T10:26:14.757Z"
   },
   {
    "duration": 4,
    "start_time": "2023-08-11T10:32:11.348Z"
   },
   {
    "duration": 168,
    "start_time": "2023-08-11T10:33:53.379Z"
   },
   {
    "duration": 11,
    "start_time": "2023-08-11T10:34:29.678Z"
   },
   {
    "duration": 54,
    "start_time": "2023-08-11T10:34:46.754Z"
   },
   {
    "duration": 23,
    "start_time": "2023-08-11T10:35:06.430Z"
   },
   {
    "duration": 72,
    "start_time": "2023-08-11T10:36:06.285Z"
   },
   {
    "duration": 60,
    "start_time": "2023-08-11T10:36:25.333Z"
   },
   {
    "duration": 34,
    "start_time": "2023-08-11T10:37:02.779Z"
   },
   {
    "duration": 10,
    "start_time": "2023-08-11T10:37:22.864Z"
   },
   {
    "duration": 55,
    "start_time": "2023-08-11T10:37:46.218Z"
   },
   {
    "duration": 37,
    "start_time": "2023-08-11T10:38:00.421Z"
   },
   {
    "duration": 8,
    "start_time": "2023-08-11T10:39:04.749Z"
   },
   {
    "duration": 11,
    "start_time": "2023-08-11T10:39:14.345Z"
   },
   {
    "duration": 13,
    "start_time": "2023-08-11T10:39:57.118Z"
   },
   {
    "duration": 19,
    "start_time": "2023-08-11T10:40:42.829Z"
   },
   {
    "duration": 2075,
    "start_time": "2023-08-11T10:45:26.317Z"
   },
   {
    "duration": 2127,
    "start_time": "2023-08-11T10:45:52.114Z"
   },
   {
    "duration": 3434,
    "start_time": "2023-08-11T10:46:07.419Z"
   },
   {
    "duration": 24,
    "start_time": "2023-08-11T10:46:19.295Z"
   },
   {
    "duration": 7,
    "start_time": "2023-08-11T10:46:37.469Z"
   },
   {
    "duration": 11,
    "start_time": "2023-08-11T10:46:37.479Z"
   },
   {
    "duration": 1177,
    "start_time": "2023-08-11T10:46:37.492Z"
   },
   {
    "duration": 6,
    "start_time": "2023-08-11T10:46:38.672Z"
   },
   {
    "duration": 26,
    "start_time": "2023-08-11T10:46:38.681Z"
   },
   {
    "duration": 44,
    "start_time": "2023-08-11T10:46:38.709Z"
   },
   {
    "duration": 712,
    "start_time": "2023-08-11T10:46:38.755Z"
   },
   {
    "duration": 501,
    "start_time": "2023-08-11T10:46:39.468Z"
   },
   {
    "duration": 243,
    "start_time": "2023-08-11T10:46:39.971Z"
   },
   {
    "duration": 92,
    "start_time": "2023-08-11T10:46:40.216Z"
   },
   {
    "duration": 3,
    "start_time": "2023-08-11T10:46:40.310Z"
   },
   {
    "duration": 268,
    "start_time": "2023-08-11T10:46:40.315Z"
   },
   {
    "duration": 252,
    "start_time": "2023-08-11T10:46:40.585Z"
   },
   {
    "duration": 15,
    "start_time": "2023-08-11T10:46:40.846Z"
   },
   {
    "duration": 41,
    "start_time": "2023-08-11T10:46:40.864Z"
   },
   {
    "duration": 51,
    "start_time": "2023-08-11T10:46:40.910Z"
   },
   {
    "duration": 22,
    "start_time": "2023-08-11T10:46:40.963Z"
   },
   {
    "duration": 46,
    "start_time": "2023-08-11T10:46:40.987Z"
   },
   {
    "duration": 15,
    "start_time": "2023-08-11T10:46:41.038Z"
   },
   {
    "duration": 16,
    "start_time": "2023-08-11T10:46:41.056Z"
   },
   {
    "duration": 82,
    "start_time": "2023-08-11T10:46:41.074Z"
   },
   {
    "duration": 36,
    "start_time": "2023-08-11T10:46:41.157Z"
   },
   {
    "duration": 27,
    "start_time": "2023-08-11T10:46:41.196Z"
   },
   {
    "duration": 889,
    "start_time": "2023-08-11T10:46:41.229Z"
   },
   {
    "duration": 866,
    "start_time": "2023-08-11T10:46:42.120Z"
   },
   {
    "duration": 851,
    "start_time": "2023-08-11T10:46:42.988Z"
   },
   {
    "duration": 557,
    "start_time": "2023-08-11T10:46:43.841Z"
   },
   {
    "duration": 30,
    "start_time": "2023-08-11T10:46:44.399Z"
   },
   {
    "duration": 830,
    "start_time": "2023-08-11T10:46:44.430Z"
   },
   {
    "duration": 5,
    "start_time": "2023-08-11T10:46:45.262Z"
   },
   {
    "duration": 7,
    "start_time": "2023-08-11T10:46:49.323Z"
   },
   {
    "duration": 22,
    "start_time": "2023-08-11T10:46:50.259Z"
   },
   {
    "duration": 3,
    "start_time": "2023-08-11T10:50:47.067Z"
   },
   {
    "duration": 12,
    "start_time": "2023-08-11T10:50:59.971Z"
   },
   {
    "duration": 4,
    "start_time": "2023-08-11T10:52:05.348Z"
   },
   {
    "duration": 2500,
    "start_time": "2023-08-11T10:52:28.113Z"
   },
   {
    "duration": 11,
    "start_time": "2023-08-11T10:52:30.616Z"
   },
   {
    "duration": 1999,
    "start_time": "2023-08-11T10:52:30.635Z"
   },
   {
    "duration": 8,
    "start_time": "2023-08-11T10:52:32.643Z"
   },
   {
    "duration": 79,
    "start_time": "2023-08-11T10:52:32.654Z"
   },
   {
    "duration": 87,
    "start_time": "2023-08-11T10:52:32.739Z"
   },
   {
    "duration": 550,
    "start_time": "2023-08-11T10:52:32.838Z"
   },
   {
    "duration": 472,
    "start_time": "2023-08-11T10:52:33.390Z"
   },
   {
    "duration": 218,
    "start_time": "2023-08-11T10:52:33.864Z"
   },
   {
    "duration": 141,
    "start_time": "2023-08-11T10:52:34.084Z"
   },
   {
    "duration": 4,
    "start_time": "2023-08-11T10:52:34.229Z"
   },
   {
    "duration": 345,
    "start_time": "2023-08-11T10:52:34.235Z"
   },
   {
    "duration": 228,
    "start_time": "2023-08-11T10:52:34.583Z"
   },
   {
    "duration": 13,
    "start_time": "2023-08-11T10:52:34.816Z"
   },
   {
    "duration": 39,
    "start_time": "2023-08-11T10:52:34.832Z"
   },
   {
    "duration": 79,
    "start_time": "2023-08-11T10:52:34.873Z"
   },
   {
    "duration": 129,
    "start_time": "2023-08-11T10:52:34.955Z"
   },
   {
    "duration": 98,
    "start_time": "2023-08-11T10:52:35.085Z"
   },
   {
    "duration": 85,
    "start_time": "2023-08-11T10:52:35.185Z"
   },
   {
    "duration": 86,
    "start_time": "2023-08-11T10:52:35.273Z"
   },
   {
    "duration": 108,
    "start_time": "2023-08-11T10:52:35.361Z"
   },
   {
    "duration": 95,
    "start_time": "2023-08-11T10:52:35.471Z"
   },
   {
    "duration": 17,
    "start_time": "2023-08-11T10:52:35.568Z"
   },
   {
    "duration": 1136,
    "start_time": "2023-08-11T10:52:35.587Z"
   },
   {
    "duration": 972,
    "start_time": "2023-08-11T10:52:36.728Z"
   },
   {
    "duration": 1176,
    "start_time": "2023-08-11T10:52:37.703Z"
   },
   {
    "duration": 543,
    "start_time": "2023-08-11T10:52:38.881Z"
   },
   {
    "duration": 32,
    "start_time": "2023-08-11T10:52:39.426Z"
   },
   {
    "duration": 1110,
    "start_time": "2023-08-11T10:52:39.467Z"
   },
   {
    "duration": 5,
    "start_time": "2023-08-11T10:52:40.579Z"
   },
   {
    "duration": 85,
    "start_time": "2023-08-11T10:52:40.598Z"
   },
   {
    "duration": 43,
    "start_time": "2023-08-11T10:52:40.686Z"
   },
   {
    "duration": 85,
    "start_time": "2023-08-11T10:52:40.735Z"
   },
   {
    "duration": 146,
    "start_time": "2023-08-11T10:52:40.822Z"
   },
   {
    "duration": 15,
    "start_time": "2023-08-11T10:52:40.970Z"
   },
   {
    "duration": 60,
    "start_time": "2023-08-11T10:52:40.988Z"
   },
   {
    "duration": 28,
    "start_time": "2023-08-11T10:52:41.051Z"
   },
   {
    "duration": 5,
    "start_time": "2023-08-11T10:52:41.081Z"
   },
   {
    "duration": 25,
    "start_time": "2023-08-11T10:52:41.088Z"
   },
   {
    "duration": 50,
    "start_time": "2023-08-11T10:52:41.119Z"
   },
   {
    "duration": 180,
    "start_time": "2023-08-11T10:52:41.174Z"
   },
   {
    "duration": 0,
    "start_time": "2023-08-11T10:52:41.356Z"
   },
   {
    "duration": 0,
    "start_time": "2023-08-11T10:52:41.357Z"
   },
   {
    "duration": 0,
    "start_time": "2023-08-11T10:52:41.358Z"
   },
   {
    "duration": 0,
    "start_time": "2023-08-11T10:52:41.359Z"
   },
   {
    "duration": 0,
    "start_time": "2023-08-11T10:52:41.360Z"
   },
   {
    "duration": 0,
    "start_time": "2023-08-11T10:52:41.363Z"
   },
   {
    "duration": 0,
    "start_time": "2023-08-11T10:52:41.364Z"
   },
   {
    "duration": 0,
    "start_time": "2023-08-11T10:52:41.364Z"
   },
   {
    "duration": 0,
    "start_time": "2023-08-11T10:52:41.365Z"
   },
   {
    "duration": 0,
    "start_time": "2023-08-11T10:52:41.367Z"
   },
   {
    "duration": 0,
    "start_time": "2023-08-11T10:52:41.369Z"
   },
   {
    "duration": 0,
    "start_time": "2023-08-11T10:52:41.370Z"
   },
   {
    "duration": 0,
    "start_time": "2023-08-11T10:52:41.371Z"
   },
   {
    "duration": 0,
    "start_time": "2023-08-11T10:52:41.373Z"
   },
   {
    "duration": 0,
    "start_time": "2023-08-11T10:52:41.374Z"
   },
   {
    "duration": 0,
    "start_time": "2023-08-11T10:52:41.375Z"
   },
   {
    "duration": 0,
    "start_time": "2023-08-11T10:52:41.377Z"
   },
   {
    "duration": 0,
    "start_time": "2023-08-11T10:52:41.378Z"
   },
   {
    "duration": 0,
    "start_time": "2023-08-11T10:52:41.379Z"
   },
   {
    "duration": 0,
    "start_time": "2023-08-11T10:52:41.380Z"
   },
   {
    "duration": 0,
    "start_time": "2023-08-11T10:52:41.594Z"
   },
   {
    "duration": 0,
    "start_time": "2023-08-11T10:52:41.595Z"
   },
   {
    "duration": 0,
    "start_time": "2023-08-11T10:52:41.596Z"
   },
   {
    "duration": 0,
    "start_time": "2023-08-11T10:52:41.596Z"
   },
   {
    "duration": 0,
    "start_time": "2023-08-11T10:52:41.597Z"
   },
   {
    "duration": 26,
    "start_time": "2023-08-11T10:53:00.822Z"
   },
   {
    "duration": 13,
    "start_time": "2023-08-11T10:53:32.951Z"
   },
   {
    "duration": 4,
    "start_time": "2023-08-11T10:53:51.351Z"
   },
   {
    "duration": 17,
    "start_time": "2023-08-11T10:53:56.623Z"
   },
   {
    "duration": 6,
    "start_time": "2023-08-11T10:53:57.257Z"
   },
   {
    "duration": 14,
    "start_time": "2023-08-11T10:53:57.907Z"
   },
   {
    "duration": 9,
    "start_time": "2023-08-11T10:55:26.250Z"
   },
   {
    "duration": 14,
    "start_time": "2023-08-11T10:55:36.261Z"
   },
   {
    "duration": 18,
    "start_time": "2023-08-11T10:55:42.044Z"
   },
   {
    "duration": 13,
    "start_time": "2023-08-11T10:55:50.352Z"
   },
   {
    "duration": 10,
    "start_time": "2023-08-11T10:56:45.243Z"
   },
   {
    "duration": 15,
    "start_time": "2023-08-11T10:57:25.323Z"
   },
   {
    "duration": 1940,
    "start_time": "2023-08-11T10:58:57.683Z"
   },
   {
    "duration": 4,
    "start_time": "2023-08-11T10:58:59.625Z"
   },
   {
    "duration": 1226,
    "start_time": "2023-08-11T10:58:59.631Z"
   },
   {
    "duration": 5,
    "start_time": "2023-08-11T10:59:00.859Z"
   },
   {
    "duration": 55,
    "start_time": "2023-08-11T10:59:00.866Z"
   },
   {
    "duration": 78,
    "start_time": "2023-08-11T10:59:00.930Z"
   },
   {
    "duration": 590,
    "start_time": "2023-08-11T10:59:01.011Z"
   },
   {
    "duration": 469,
    "start_time": "2023-08-11T10:59:01.609Z"
   },
   {
    "duration": 241,
    "start_time": "2023-08-11T10:59:02.080Z"
   },
   {
    "duration": 138,
    "start_time": "2023-08-11T10:59:02.326Z"
   },
   {
    "duration": 2,
    "start_time": "2023-08-11T10:59:02.470Z"
   },
   {
    "duration": 315,
    "start_time": "2023-08-11T10:59:02.475Z"
   },
   {
    "duration": 189,
    "start_time": "2023-08-11T10:59:02.794Z"
   },
   {
    "duration": 24,
    "start_time": "2023-08-11T10:59:02.985Z"
   },
   {
    "duration": 69,
    "start_time": "2023-08-11T10:59:03.013Z"
   },
   {
    "duration": 65,
    "start_time": "2023-08-11T10:59:03.084Z"
   },
   {
    "duration": 40,
    "start_time": "2023-08-11T10:59:03.152Z"
   },
   {
    "duration": 66,
    "start_time": "2023-08-11T10:59:03.194Z"
   },
   {
    "duration": 39,
    "start_time": "2023-08-11T10:59:03.262Z"
   },
   {
    "duration": 59,
    "start_time": "2023-08-11T10:59:03.303Z"
   },
   {
    "duration": 111,
    "start_time": "2023-08-11T10:59:03.364Z"
   },
   {
    "duration": 42,
    "start_time": "2023-08-11T10:59:03.477Z"
   },
   {
    "duration": 45,
    "start_time": "2023-08-11T10:59:03.522Z"
   },
   {
    "duration": 1010,
    "start_time": "2023-08-11T10:59:03.572Z"
   },
   {
    "duration": 869,
    "start_time": "2023-08-11T10:59:04.584Z"
   },
   {
    "duration": 1017,
    "start_time": "2023-08-11T10:59:05.457Z"
   },
   {
    "duration": 503,
    "start_time": "2023-08-11T10:59:06.477Z"
   },
   {
    "duration": 43,
    "start_time": "2023-08-11T10:59:06.986Z"
   },
   {
    "duration": 946,
    "start_time": "2023-08-11T10:59:07.034Z"
   },
   {
    "duration": 3,
    "start_time": "2023-08-11T10:59:07.982Z"
   },
   {
    "duration": 87,
    "start_time": "2023-08-11T10:59:08.000Z"
   },
   {
    "duration": 58,
    "start_time": "2023-08-11T10:59:08.090Z"
   },
   {
    "duration": 12,
    "start_time": "2023-08-11T10:59:08.150Z"
   },
   {
    "duration": 15,
    "start_time": "2023-08-11T10:59:08.164Z"
   },
   {
    "duration": 56,
    "start_time": "2023-08-11T10:59:08.181Z"
   },
   {
    "duration": 31,
    "start_time": "2023-08-11T10:59:08.240Z"
   },
   {
    "duration": 10,
    "start_time": "2023-08-11T10:59:08.273Z"
   },
   {
    "duration": 73,
    "start_time": "2023-08-11T10:59:08.285Z"
   },
   {
    "duration": 17,
    "start_time": "2023-08-11T10:59:08.360Z"
   },
   {
    "duration": 13,
    "start_time": "2023-08-11T10:59:08.378Z"
   },
   {
    "duration": 56,
    "start_time": "2023-08-11T10:59:08.393Z"
   },
   {
    "duration": 20,
    "start_time": "2023-08-11T10:59:08.451Z"
   },
   {
    "duration": 54,
    "start_time": "2023-08-11T10:59:08.473Z"
   },
   {
    "duration": 27,
    "start_time": "2023-08-11T10:59:08.529Z"
   },
   {
    "duration": 160,
    "start_time": "2023-08-11T10:59:08.558Z"
   },
   {
    "duration": 28,
    "start_time": "2023-08-11T10:59:08.727Z"
   },
   {
    "duration": 14,
    "start_time": "2023-08-11T10:59:08.757Z"
   },
   {
    "duration": 9,
    "start_time": "2023-08-11T10:59:08.773Z"
   },
   {
    "duration": 36,
    "start_time": "2023-08-11T10:59:08.784Z"
   },
   {
    "duration": 48,
    "start_time": "2023-08-11T10:59:08.822Z"
   },
   {
    "duration": 1768,
    "start_time": "2023-08-11T10:59:08.872Z"
   },
   {
    "duration": 6,
    "start_time": "2023-08-11T10:59:10.643Z"
   },
   {
    "duration": 110,
    "start_time": "2023-08-11T10:59:10.652Z"
   },
   {
    "duration": 2820,
    "start_time": "2023-08-11T10:59:10.764Z"
   },
   {
    "duration": 9,
    "start_time": "2023-08-11T10:59:13.586Z"
   },
   {
    "duration": 52,
    "start_time": "2023-08-11T10:59:13.597Z"
   },
   {
    "duration": 165475,
    "start_time": "2023-08-11T10:59:13.652Z"
   },
   {
    "duration": 7,
    "start_time": "2023-08-11T11:01:59.129Z"
   },
   {
    "duration": 25,
    "start_time": "2023-08-11T11:01:59.139Z"
   },
   {
    "duration": 58,
    "start_time": "2023-08-11T11:01:59.166Z"
   },
   {
    "duration": 74474,
    "start_time": "2023-08-11T11:01:59.226Z"
   },
   {
    "duration": 0,
    "start_time": "2023-08-11T11:03:13.703Z"
   },
   {
    "duration": 0,
    "start_time": "2023-08-11T11:03:13.705Z"
   },
   {
    "duration": 0,
    "start_time": "2023-08-11T11:03:13.706Z"
   },
   {
    "duration": 0,
    "start_time": "2023-08-11T11:03:13.707Z"
   },
   {
    "duration": 76468,
    "start_time": "2023-08-11T11:04:42.061Z"
   },
   {
    "duration": 5,
    "start_time": "2023-08-11T12:25:48.059Z"
   },
   {
    "duration": 27,
    "start_time": "2023-08-11T12:28:59.215Z"
   },
   {
    "duration": 30,
    "start_time": "2023-08-11T12:29:08.329Z"
   },
   {
    "duration": 12,
    "start_time": "2023-08-11T12:29:21.770Z"
   },
   {
    "duration": 9,
    "start_time": "2023-08-11T12:29:30.266Z"
   },
   {
    "duration": 9,
    "start_time": "2023-08-11T12:29:30.933Z"
   },
   {
    "duration": 2158,
    "start_time": "2023-08-11T12:52:25.384Z"
   },
   {
    "duration": 3,
    "start_time": "2023-08-11T12:52:27.550Z"
   },
   {
    "duration": 1350,
    "start_time": "2023-08-11T12:52:27.555Z"
   },
   {
    "duration": 6,
    "start_time": "2023-08-11T12:52:28.907Z"
   },
   {
    "duration": 74,
    "start_time": "2023-08-11T12:52:28.915Z"
   },
   {
    "duration": 78,
    "start_time": "2023-08-11T12:52:28.991Z"
   },
   {
    "duration": 556,
    "start_time": "2023-08-11T12:52:29.071Z"
   },
   {
    "duration": 542,
    "start_time": "2023-08-11T12:52:29.629Z"
   },
   {
    "duration": 224,
    "start_time": "2023-08-11T12:52:30.174Z"
   },
   {
    "duration": 128,
    "start_time": "2023-08-11T12:52:30.400Z"
   },
   {
    "duration": 5,
    "start_time": "2023-08-11T12:52:30.530Z"
   },
   {
    "duration": 351,
    "start_time": "2023-08-11T12:52:30.537Z"
   },
   {
    "duration": 221,
    "start_time": "2023-08-11T12:52:30.891Z"
   },
   {
    "duration": 28,
    "start_time": "2023-08-11T12:52:31.118Z"
   },
   {
    "duration": 34,
    "start_time": "2023-08-11T12:52:31.149Z"
   },
   {
    "duration": 52,
    "start_time": "2023-08-11T12:52:31.185Z"
   },
   {
    "duration": 49,
    "start_time": "2023-08-11T12:52:31.239Z"
   },
   {
    "duration": 62,
    "start_time": "2023-08-11T12:52:31.290Z"
   },
   {
    "duration": 29,
    "start_time": "2023-08-11T12:52:31.354Z"
   },
   {
    "duration": 47,
    "start_time": "2023-08-11T12:52:31.385Z"
   },
   {
    "duration": 88,
    "start_time": "2023-08-11T12:52:31.434Z"
   },
   {
    "duration": 36,
    "start_time": "2023-08-11T12:52:31.527Z"
   },
   {
    "duration": 6,
    "start_time": "2023-08-11T12:52:31.565Z"
   },
   {
    "duration": 1130,
    "start_time": "2023-08-11T12:52:31.573Z"
   },
   {
    "duration": 844,
    "start_time": "2023-08-11T12:52:32.705Z"
   },
   {
    "duration": 1016,
    "start_time": "2023-08-11T12:52:33.551Z"
   },
   {
    "duration": 456,
    "start_time": "2023-08-11T12:52:34.569Z"
   },
   {
    "duration": 28,
    "start_time": "2023-08-11T12:52:35.031Z"
   },
   {
    "duration": 913,
    "start_time": "2023-08-11T12:52:35.061Z"
   },
   {
    "duration": 4,
    "start_time": "2023-08-11T12:52:35.976Z"
   },
   {
    "duration": 89,
    "start_time": "2023-08-11T12:52:35.982Z"
   },
   {
    "duration": 2,
    "start_time": "2023-08-11T12:52:36.073Z"
   },
   {
    "duration": 10,
    "start_time": "2023-08-11T12:52:36.077Z"
   },
   {
    "duration": 20,
    "start_time": "2023-08-11T12:52:36.089Z"
   },
   {
    "duration": 136,
    "start_time": "2023-08-11T12:52:36.111Z"
   },
   {
    "duration": 27,
    "start_time": "2023-08-11T12:52:36.249Z"
   },
   {
    "duration": 51,
    "start_time": "2023-08-11T12:52:36.278Z"
   },
   {
    "duration": 57,
    "start_time": "2023-08-11T12:52:36.332Z"
   },
   {
    "duration": 72,
    "start_time": "2023-08-11T12:52:36.391Z"
   },
   {
    "duration": 23,
    "start_time": "2023-08-11T12:52:36.466Z"
   },
   {
    "duration": 57,
    "start_time": "2023-08-11T12:52:36.492Z"
   },
   {
    "duration": 14,
    "start_time": "2023-08-11T12:52:36.552Z"
   },
   {
    "duration": 60,
    "start_time": "2023-08-11T12:52:36.568Z"
   },
   {
    "duration": 30,
    "start_time": "2023-08-11T12:52:36.630Z"
   },
   {
    "duration": 193,
    "start_time": "2023-08-11T12:52:36.662Z"
   },
   {
    "duration": 12,
    "start_time": "2023-08-11T12:52:36.864Z"
   },
   {
    "duration": 21,
    "start_time": "2023-08-11T12:52:36.879Z"
   },
   {
    "duration": 68,
    "start_time": "2023-08-11T12:52:36.902Z"
   },
   {
    "duration": 49,
    "start_time": "2023-08-11T12:52:36.972Z"
   },
   {
    "duration": 47,
    "start_time": "2023-08-11T12:52:37.023Z"
   },
   {
    "duration": 2733,
    "start_time": "2023-08-11T12:52:37.073Z"
   },
   {
    "duration": 24,
    "start_time": "2023-08-11T12:52:39.811Z"
   },
   {
    "duration": 8,
    "start_time": "2023-08-11T12:52:39.838Z"
   },
   {
    "duration": 2715,
    "start_time": "2023-08-11T12:52:39.847Z"
   },
   {
    "duration": 4,
    "start_time": "2023-08-11T12:52:42.564Z"
   },
   {
    "duration": 11,
    "start_time": "2023-08-11T12:52:42.570Z"
   },
   {
    "duration": 157553,
    "start_time": "2023-08-11T12:52:42.584Z"
   },
   {
    "duration": 4,
    "start_time": "2023-08-11T12:55:20.139Z"
   },
   {
    "duration": 46,
    "start_time": "2023-08-11T12:55:20.146Z"
   },
   {
    "duration": 39,
    "start_time": "2023-08-11T12:55:20.195Z"
   },
   {
    "duration": 70588,
    "start_time": "2023-08-11T12:55:20.235Z"
   },
   {
    "duration": 2709,
    "start_time": "2023-08-11T12:56:30.827Z"
   },
   {
    "duration": 12,
    "start_time": "2023-08-11T12:56:33.538Z"
   },
   {
    "duration": 22,
    "start_time": "2023-08-11T12:56:33.552Z"
   },
   {
    "duration": 36,
    "start_time": "2023-08-11T12:56:33.577Z"
   },
   {
    "duration": 1801,
    "start_time": "2023-08-11T12:56:33.620Z"
   },
   {
    "duration": 150,
    "start_time": "2023-08-11T13:54:24.095Z"
   },
   {
    "duration": 1463,
    "start_time": "2023-08-11T13:54:50.603Z"
   },
   {
    "duration": 3,
    "start_time": "2023-08-11T13:54:52.068Z"
   },
   {
    "duration": 942,
    "start_time": "2023-08-11T13:54:52.072Z"
   },
   {
    "duration": 5,
    "start_time": "2023-08-11T13:54:53.015Z"
   },
   {
    "duration": 28,
    "start_time": "2023-08-11T13:54:53.022Z"
   },
   {
    "duration": 23,
    "start_time": "2023-08-11T13:54:53.052Z"
   },
   {
    "duration": 444,
    "start_time": "2023-08-11T13:54:53.077Z"
   },
   {
    "duration": 398,
    "start_time": "2023-08-11T13:54:53.524Z"
   },
   {
    "duration": 172,
    "start_time": "2023-08-11T13:54:53.924Z"
   },
   {
    "duration": 66,
    "start_time": "2023-08-11T13:54:54.099Z"
   },
   {
    "duration": 28,
    "start_time": "2023-08-11T13:54:54.167Z"
   },
   {
    "duration": 167,
    "start_time": "2023-08-11T13:54:54.197Z"
   },
   {
    "duration": 152,
    "start_time": "2023-08-11T13:54:54.366Z"
   },
   {
    "duration": 7,
    "start_time": "2023-08-11T13:54:54.520Z"
   },
   {
    "duration": 18,
    "start_time": "2023-08-11T13:54:54.528Z"
   },
   {
    "duration": 13,
    "start_time": "2023-08-11T13:54:54.548Z"
   },
   {
    "duration": 13,
    "start_time": "2023-08-11T13:54:54.562Z"
   },
   {
    "duration": 19,
    "start_time": "2023-08-11T13:54:54.577Z"
   },
   {
    "duration": 10,
    "start_time": "2023-08-11T13:54:54.597Z"
   },
   {
    "duration": 32,
    "start_time": "2023-08-11T13:54:54.608Z"
   },
   {
    "duration": 36,
    "start_time": "2023-08-11T13:54:54.641Z"
   },
   {
    "duration": 26,
    "start_time": "2023-08-11T13:54:54.678Z"
   },
   {
    "duration": 4,
    "start_time": "2023-08-11T13:54:54.706Z"
   },
   {
    "duration": 808,
    "start_time": "2023-08-11T13:54:54.712Z"
   },
   {
    "duration": 823,
    "start_time": "2023-08-11T13:54:55.522Z"
   },
   {
    "duration": 824,
    "start_time": "2023-08-11T13:54:56.348Z"
   },
   {
    "duration": 346,
    "start_time": "2023-08-11T13:54:57.174Z"
   },
   {
    "duration": 21,
    "start_time": "2023-08-11T13:54:57.524Z"
   },
   {
    "duration": 654,
    "start_time": "2023-08-11T13:54:57.547Z"
   },
   {
    "duration": 5,
    "start_time": "2023-08-11T13:54:58.202Z"
   },
   {
    "duration": 21,
    "start_time": "2023-08-11T13:54:58.208Z"
   },
   {
    "duration": 3,
    "start_time": "2023-08-11T13:54:58.230Z"
   },
   {
    "duration": 6,
    "start_time": "2023-08-11T13:54:58.235Z"
   },
   {
    "duration": 10,
    "start_time": "2023-08-11T13:54:58.242Z"
   },
   {
    "duration": 13,
    "start_time": "2023-08-11T13:54:58.254Z"
   },
   {
    "duration": 17,
    "start_time": "2023-08-11T13:54:58.295Z"
   },
   {
    "duration": 9,
    "start_time": "2023-08-11T13:54:58.314Z"
   },
   {
    "duration": 6,
    "start_time": "2023-08-11T13:54:58.326Z"
   },
   {
    "duration": 4,
    "start_time": "2023-08-11T13:54:58.334Z"
   },
   {
    "duration": 7,
    "start_time": "2023-08-11T13:54:58.340Z"
   },
   {
    "duration": 9,
    "start_time": "2023-08-11T13:54:58.348Z"
   },
   {
    "duration": 36,
    "start_time": "2023-08-11T13:54:58.359Z"
   },
   {
    "duration": 19,
    "start_time": "2023-08-11T13:54:58.397Z"
   },
   {
    "duration": 15,
    "start_time": "2023-08-11T13:54:58.418Z"
   },
   {
    "duration": 7,
    "start_time": "2023-08-11T13:54:58.435Z"
   },
   {
    "duration": 110,
    "start_time": "2023-08-11T13:54:58.444Z"
   },
   {
    "duration": 15,
    "start_time": "2023-08-11T13:54:58.556Z"
   },
   {
    "duration": 13,
    "start_time": "2023-08-11T13:54:58.573Z"
   },
   {
    "duration": 19,
    "start_time": "2023-08-11T13:54:58.588Z"
   },
   {
    "duration": 3,
    "start_time": "2023-08-11T13:54:58.609Z"
   },
   {
    "duration": 988,
    "start_time": "2023-08-11T13:54:58.613Z"
   },
   {
    "duration": 5,
    "start_time": "2023-08-11T13:54:59.603Z"
   },
   {
    "duration": 16,
    "start_time": "2023-08-11T13:54:59.695Z"
   },
   {
    "duration": 2234,
    "start_time": "2023-08-11T13:54:59.712Z"
   },
   {
    "duration": 4,
    "start_time": "2023-08-11T13:55:01.948Z"
   },
   {
    "duration": 48,
    "start_time": "2023-08-11T13:55:01.954Z"
   },
   {
    "duration": 133017,
    "start_time": "2023-08-11T13:55:02.004Z"
   },
   {
    "duration": 4,
    "start_time": "2023-08-11T13:57:15.023Z"
   },
   {
    "duration": 42,
    "start_time": "2023-08-11T13:57:15.029Z"
   },
   {
    "duration": 23,
    "start_time": "2023-08-11T13:57:15.073Z"
   },
   {
    "duration": 60251,
    "start_time": "2023-08-11T13:57:15.098Z"
   },
   {
    "duration": 2309,
    "start_time": "2023-08-11T13:58:15.351Z"
   },
   {
    "duration": 7,
    "start_time": "2023-08-11T13:58:17.662Z"
   },
   {
    "duration": 11,
    "start_time": "2023-08-11T13:58:17.671Z"
   },
   {
    "duration": 10,
    "start_time": "2023-08-11T13:58:17.694Z"
   },
   {
    "duration": 1493,
    "start_time": "2023-08-11T13:58:17.706Z"
   },
   {
    "duration": 1587,
    "start_time": "2023-08-11T14:01:28.523Z"
   },
   {
    "duration": 3,
    "start_time": "2023-08-11T14:01:30.112Z"
   },
   {
    "duration": 942,
    "start_time": "2023-08-11T14:01:30.117Z"
   },
   {
    "duration": 5,
    "start_time": "2023-08-11T14:01:31.062Z"
   },
   {
    "duration": 165,
    "start_time": "2023-08-11T14:01:31.069Z"
   },
   {
    "duration": 59,
    "start_time": "2023-08-11T14:01:31.236Z"
   },
   {
    "duration": 491,
    "start_time": "2023-08-11T14:01:31.296Z"
   },
   {
    "duration": 425,
    "start_time": "2023-08-11T14:01:31.794Z"
   },
   {
    "duration": 218,
    "start_time": "2023-08-11T14:01:32.221Z"
   },
   {
    "duration": 96,
    "start_time": "2023-08-11T14:01:32.443Z"
   },
   {
    "duration": 3,
    "start_time": "2023-08-11T14:01:32.541Z"
   },
   {
    "duration": 246,
    "start_time": "2023-08-11T14:01:32.546Z"
   },
   {
    "duration": 164,
    "start_time": "2023-08-11T14:01:32.794Z"
   },
   {
    "duration": 8,
    "start_time": "2023-08-11T14:01:32.960Z"
   },
   {
    "duration": 62,
    "start_time": "2023-08-11T14:01:32.970Z"
   },
   {
    "duration": 44,
    "start_time": "2023-08-11T14:01:33.034Z"
   },
   {
    "duration": 12,
    "start_time": "2023-08-11T14:01:33.079Z"
   },
   {
    "duration": 21,
    "start_time": "2023-08-11T14:01:33.092Z"
   },
   {
    "duration": 18,
    "start_time": "2023-08-11T14:01:33.115Z"
   },
   {
    "duration": 8,
    "start_time": "2023-08-11T14:01:33.135Z"
   },
   {
    "duration": 41,
    "start_time": "2023-08-11T14:01:33.145Z"
   },
   {
    "duration": 28,
    "start_time": "2023-08-11T14:01:33.187Z"
   },
   {
    "duration": 7,
    "start_time": "2023-08-11T14:01:33.217Z"
   },
   {
    "duration": 798,
    "start_time": "2023-08-11T14:01:33.226Z"
   },
   {
    "duration": 661,
    "start_time": "2023-08-11T14:01:34.025Z"
   },
   {
    "duration": 815,
    "start_time": "2023-08-11T14:01:34.688Z"
   },
   {
    "duration": 356,
    "start_time": "2023-08-11T14:01:35.505Z"
   },
   {
    "duration": 19,
    "start_time": "2023-08-11T14:01:35.865Z"
   },
   {
    "duration": 775,
    "start_time": "2023-08-11T14:01:35.895Z"
   },
   {
    "duration": 5,
    "start_time": "2023-08-11T14:01:36.672Z"
   },
   {
    "duration": 84,
    "start_time": "2023-08-11T14:01:36.679Z"
   },
   {
    "duration": 31,
    "start_time": "2023-08-11T14:01:36.766Z"
   },
   {
    "duration": 45,
    "start_time": "2023-08-11T14:01:36.800Z"
   },
   {
    "duration": 37,
    "start_time": "2023-08-11T14:01:36.846Z"
   },
   {
    "duration": 26,
    "start_time": "2023-08-11T14:01:36.885Z"
   },
   {
    "duration": 29,
    "start_time": "2023-08-11T14:01:36.914Z"
   },
   {
    "duration": 8,
    "start_time": "2023-08-11T14:01:36.945Z"
   },
   {
    "duration": 5,
    "start_time": "2023-08-11T14:01:36.955Z"
   },
   {
    "duration": 20,
    "start_time": "2023-08-11T14:01:36.962Z"
   },
   {
    "duration": 21,
    "start_time": "2023-08-11T14:01:36.984Z"
   },
   {
    "duration": 31,
    "start_time": "2023-08-11T14:01:37.007Z"
   },
   {
    "duration": 25,
    "start_time": "2023-08-11T14:01:37.040Z"
   },
   {
    "duration": 12,
    "start_time": "2023-08-11T14:01:37.067Z"
   },
   {
    "duration": 21,
    "start_time": "2023-08-11T14:01:37.081Z"
   },
   {
    "duration": 124,
    "start_time": "2023-08-11T14:01:37.104Z"
   },
   {
    "duration": 21,
    "start_time": "2023-08-11T14:01:37.230Z"
   },
   {
    "duration": 26,
    "start_time": "2023-08-11T14:01:37.253Z"
   },
   {
    "duration": 9,
    "start_time": "2023-08-11T14:01:37.281Z"
   },
   {
    "duration": 1911,
    "start_time": "2023-08-11T14:01:37.292Z"
   },
   {
    "duration": 91,
    "start_time": "2023-08-11T14:01:39.208Z"
   },
   {
    "duration": 110,
    "start_time": "2023-08-11T14:01:39.301Z"
   },
   {
    "duration": 2335,
    "start_time": "2023-08-11T14:01:39.413Z"
   },
   {
    "duration": 5,
    "start_time": "2023-08-11T14:01:41.750Z"
   },
   {
    "duration": 54,
    "start_time": "2023-08-11T14:01:41.757Z"
   },
   {
    "duration": 136301,
    "start_time": "2023-08-11T14:01:41.813Z"
   },
   {
    "duration": 5,
    "start_time": "2023-08-11T14:03:58.115Z"
   },
   {
    "duration": 10,
    "start_time": "2023-08-11T14:03:58.121Z"
   },
   {
    "duration": 9,
    "start_time": "2023-08-11T14:03:58.133Z"
   },
   {
    "duration": 61968,
    "start_time": "2023-08-11T14:03:58.144Z"
   },
   {
    "duration": 2290,
    "start_time": "2023-08-11T14:05:00.114Z"
   },
   {
    "duration": 11,
    "start_time": "2023-08-11T14:05:02.406Z"
   },
   {
    "duration": 117,
    "start_time": "2023-08-11T14:05:02.419Z"
   },
   {
    "duration": 77,
    "start_time": "2023-08-11T14:05:02.538Z"
   },
   {
    "duration": 1629,
    "start_time": "2023-08-11T14:05:02.618Z"
   },
   {
    "duration": 1610,
    "start_time": "2023-08-11T14:41:57.722Z"
   },
   {
    "duration": 3,
    "start_time": "2023-08-11T14:41:59.334Z"
   },
   {
    "duration": 976,
    "start_time": "2023-08-11T14:41:59.339Z"
   },
   {
    "duration": 6,
    "start_time": "2023-08-11T14:42:00.317Z"
   },
   {
    "duration": 36,
    "start_time": "2023-08-11T14:42:00.325Z"
   },
   {
    "duration": 34,
    "start_time": "2023-08-11T14:42:00.363Z"
   },
   {
    "duration": 463,
    "start_time": "2023-08-11T14:42:00.399Z"
   },
   {
    "duration": 390,
    "start_time": "2023-08-11T14:42:00.864Z"
   },
   {
    "duration": 175,
    "start_time": "2023-08-11T14:42:01.257Z"
   },
   {
    "duration": 88,
    "start_time": "2023-08-11T14:42:01.435Z"
   },
   {
    "duration": 3,
    "start_time": "2023-08-11T14:42:01.525Z"
   },
   {
    "duration": 186,
    "start_time": "2023-08-11T14:42:01.531Z"
   },
   {
    "duration": 156,
    "start_time": "2023-08-11T14:42:01.720Z"
   },
   {
    "duration": 18,
    "start_time": "2023-08-11T14:42:01.878Z"
   },
   {
    "duration": 25,
    "start_time": "2023-08-11T14:42:01.898Z"
   },
   {
    "duration": 46,
    "start_time": "2023-08-11T14:42:01.924Z"
   },
   {
    "duration": 32,
    "start_time": "2023-08-11T14:42:01.971Z"
   },
   {
    "duration": 36,
    "start_time": "2023-08-11T14:42:02.005Z"
   },
   {
    "duration": 68,
    "start_time": "2023-08-11T14:42:02.043Z"
   },
   {
    "duration": 30,
    "start_time": "2023-08-11T14:42:02.113Z"
   },
   {
    "duration": 90,
    "start_time": "2023-08-11T14:42:02.145Z"
   },
   {
    "duration": 61,
    "start_time": "2023-08-11T14:42:02.237Z"
   },
   {
    "duration": 34,
    "start_time": "2023-08-11T14:42:02.300Z"
   },
   {
    "duration": 830,
    "start_time": "2023-08-11T14:42:02.336Z"
   },
   {
    "duration": 635,
    "start_time": "2023-08-11T14:42:03.168Z"
   },
   {
    "duration": 790,
    "start_time": "2023-08-11T14:42:03.805Z"
   },
   {
    "duration": 349,
    "start_time": "2023-08-11T14:42:04.597Z"
   },
   {
    "duration": 19,
    "start_time": "2023-08-11T14:42:04.950Z"
   },
   {
    "duration": 684,
    "start_time": "2023-08-11T14:42:04.971Z"
   },
   {
    "duration": 4,
    "start_time": "2023-08-11T14:42:05.657Z"
   },
   {
    "duration": 34,
    "start_time": "2023-08-11T14:42:05.662Z"
   },
   {
    "duration": 30,
    "start_time": "2023-08-11T14:42:05.698Z"
   },
   {
    "duration": 24,
    "start_time": "2023-08-11T14:42:05.730Z"
   },
   {
    "duration": 26,
    "start_time": "2023-08-11T14:42:05.756Z"
   },
   {
    "duration": 26,
    "start_time": "2023-08-11T14:42:05.784Z"
   },
   {
    "duration": 39,
    "start_time": "2023-08-11T14:42:05.812Z"
   },
   {
    "duration": 21,
    "start_time": "2023-08-11T14:42:05.853Z"
   },
   {
    "duration": 26,
    "start_time": "2023-08-11T14:42:05.876Z"
   },
   {
    "duration": 52,
    "start_time": "2023-08-11T14:42:05.904Z"
   },
   {
    "duration": 25,
    "start_time": "2023-08-11T14:42:05.958Z"
   },
   {
    "duration": 29,
    "start_time": "2023-08-11T14:42:05.985Z"
   },
   {
    "duration": 60,
    "start_time": "2023-08-11T14:42:06.016Z"
   },
   {
    "duration": 12,
    "start_time": "2023-08-11T14:42:06.079Z"
   },
   {
    "duration": 16,
    "start_time": "2023-08-11T14:42:06.092Z"
   },
   {
    "duration": 114,
    "start_time": "2023-08-11T14:42:06.110Z"
   },
   {
    "duration": 19,
    "start_time": "2023-08-11T14:42:06.226Z"
   },
   {
    "duration": 23,
    "start_time": "2023-08-11T14:42:06.247Z"
   },
   {
    "duration": 14,
    "start_time": "2023-08-11T14:42:06.272Z"
   },
   {
    "duration": 1011,
    "start_time": "2023-08-11T14:42:06.288Z"
   },
   {
    "duration": 5,
    "start_time": "2023-08-11T14:42:07.301Z"
   },
   {
    "duration": 88,
    "start_time": "2023-08-11T14:42:07.307Z"
   },
   {
    "duration": 2350,
    "start_time": "2023-08-11T14:42:07.398Z"
   },
   {
    "duration": 4,
    "start_time": "2023-08-11T14:42:09.750Z"
   },
   {
    "duration": 9,
    "start_time": "2023-08-11T14:42:09.755Z"
   },
   {
    "duration": 136239,
    "start_time": "2023-08-11T14:42:09.766Z"
   },
   {
    "duration": 4,
    "start_time": "2023-08-11T14:44:26.007Z"
   },
   {
    "duration": 23,
    "start_time": "2023-08-11T14:44:26.013Z"
   },
   {
    "duration": 36,
    "start_time": "2023-08-11T14:44:26.038Z"
   },
   {
    "duration": 61905,
    "start_time": "2023-08-11T14:44:26.076Z"
   },
   {
    "duration": 2352,
    "start_time": "2023-08-11T14:45:27.983Z"
   },
   {
    "duration": 8,
    "start_time": "2023-08-11T14:45:30.336Z"
   },
   {
    "duration": 37,
    "start_time": "2023-08-11T14:45:30.346Z"
   },
   {
    "duration": 28,
    "start_time": "2023-08-11T14:45:30.384Z"
   },
   {
    "duration": 1513,
    "start_time": "2023-08-11T14:45:30.414Z"
   },
   {
    "duration": 1480,
    "start_time": "2023-08-11T15:56:49.913Z"
   },
   {
    "duration": 2,
    "start_time": "2023-08-11T15:56:51.395Z"
   },
   {
    "duration": 936,
    "start_time": "2023-08-11T15:56:51.399Z"
   },
   {
    "duration": 6,
    "start_time": "2023-08-11T15:56:52.337Z"
   },
   {
    "duration": 29,
    "start_time": "2023-08-11T15:56:52.344Z"
   },
   {
    "duration": 22,
    "start_time": "2023-08-11T15:56:52.375Z"
   },
   {
    "duration": 414,
    "start_time": "2023-08-11T15:56:52.399Z"
   },
   {
    "duration": 382,
    "start_time": "2023-08-11T15:56:52.815Z"
   },
   {
    "duration": 177,
    "start_time": "2023-08-11T15:56:53.199Z"
   },
   {
    "duration": 83,
    "start_time": "2023-08-11T15:56:53.380Z"
   },
   {
    "duration": 3,
    "start_time": "2023-08-11T15:56:53.465Z"
   },
   {
    "duration": 171,
    "start_time": "2023-08-11T15:56:53.495Z"
   },
   {
    "duration": 162,
    "start_time": "2023-08-11T15:56:53.668Z"
   },
   {
    "duration": 8,
    "start_time": "2023-08-11T15:56:53.832Z"
   },
   {
    "duration": 6,
    "start_time": "2023-08-11T15:56:53.842Z"
   },
   {
    "duration": 7,
    "start_time": "2023-08-11T15:56:53.850Z"
   },
   {
    "duration": 15,
    "start_time": "2023-08-11T15:56:53.859Z"
   },
   {
    "duration": 24,
    "start_time": "2023-08-11T15:56:53.876Z"
   },
   {
    "duration": 15,
    "start_time": "2023-08-11T15:56:53.902Z"
   },
   {
    "duration": 31,
    "start_time": "2023-08-11T15:56:53.919Z"
   },
   {
    "duration": 58,
    "start_time": "2023-08-11T15:56:53.952Z"
   },
   {
    "duration": 28,
    "start_time": "2023-08-11T15:56:54.011Z"
   },
   {
    "duration": 5,
    "start_time": "2023-08-11T15:56:54.041Z"
   },
   {
    "duration": 803,
    "start_time": "2023-08-11T15:56:54.048Z"
   },
   {
    "duration": 844,
    "start_time": "2023-08-11T15:56:54.852Z"
   },
   {
    "duration": 760,
    "start_time": "2023-08-11T15:56:55.698Z"
   },
   {
    "duration": 406,
    "start_time": "2023-08-11T15:56:56.460Z"
   },
   {
    "duration": 18,
    "start_time": "2023-08-11T15:56:56.870Z"
   },
   {
    "duration": 637,
    "start_time": "2023-08-11T15:56:56.895Z"
   },
   {
    "duration": 4,
    "start_time": "2023-08-11T15:56:57.533Z"
   },
   {
    "duration": 23,
    "start_time": "2023-08-11T15:56:57.539Z"
   },
   {
    "duration": 12,
    "start_time": "2023-08-11T15:56:57.563Z"
   },
   {
    "duration": 26,
    "start_time": "2023-08-11T15:56:57.576Z"
   },
   {
    "duration": 13,
    "start_time": "2023-08-11T15:56:57.603Z"
   },
   {
    "duration": 10,
    "start_time": "2023-08-11T15:56:57.618Z"
   },
   {
    "duration": 18,
    "start_time": "2023-08-11T15:56:57.629Z"
   },
   {
    "duration": 7,
    "start_time": "2023-08-11T15:56:57.649Z"
   },
   {
    "duration": 13,
    "start_time": "2023-08-11T15:56:57.658Z"
   },
   {
    "duration": 24,
    "start_time": "2023-08-11T15:56:57.672Z"
   },
   {
    "duration": 12,
    "start_time": "2023-08-11T15:56:57.698Z"
   },
   {
    "duration": 23,
    "start_time": "2023-08-11T15:56:57.711Z"
   },
   {
    "duration": 10,
    "start_time": "2023-08-11T15:56:57.736Z"
   },
   {
    "duration": 14,
    "start_time": "2023-08-11T15:56:57.748Z"
   },
   {
    "duration": 8,
    "start_time": "2023-08-11T15:56:57.764Z"
   },
   {
    "duration": 115,
    "start_time": "2023-08-11T15:56:57.774Z"
   },
   {
    "duration": 11,
    "start_time": "2023-08-11T15:56:57.890Z"
   },
   {
    "duration": 18,
    "start_time": "2023-08-11T15:56:57.903Z"
   },
   {
    "duration": 4,
    "start_time": "2023-08-11T15:56:57.923Z"
   },
   {
    "duration": 766,
    "start_time": "2023-08-11T15:56:57.929Z"
   },
   {
    "duration": 11,
    "start_time": "2023-08-11T15:56:58.698Z"
   },
   {
    "duration": 9,
    "start_time": "2023-08-11T15:56:58.794Z"
   },
   {
    "duration": 2388,
    "start_time": "2023-08-11T15:56:58.805Z"
   },
   {
    "duration": 5,
    "start_time": "2023-08-11T15:57:01.195Z"
   },
   {
    "duration": 40,
    "start_time": "2023-08-11T15:57:01.202Z"
   },
   {
    "duration": 136128,
    "start_time": "2023-08-11T15:57:01.244Z"
   },
   {
    "duration": 4,
    "start_time": "2023-08-11T15:59:17.374Z"
   },
   {
    "duration": 12,
    "start_time": "2023-08-11T15:59:17.380Z"
   },
   {
    "duration": 20,
    "start_time": "2023-08-11T15:59:17.397Z"
   },
   {
    "duration": 60736,
    "start_time": "2023-08-11T15:59:17.420Z"
   },
   {
    "duration": 2438,
    "start_time": "2023-08-11T16:00:18.158Z"
   },
   {
    "duration": 9,
    "start_time": "2023-08-11T16:00:20.597Z"
   },
   {
    "duration": 42,
    "start_time": "2023-08-11T16:00:20.607Z"
   },
   {
    "duration": 33,
    "start_time": "2023-08-11T16:00:20.650Z"
   },
   {
    "duration": 1550,
    "start_time": "2023-08-11T16:00:20.685Z"
   },
   {
    "duration": 1512,
    "start_time": "2023-08-11T16:38:49.689Z"
   },
   {
    "duration": 3,
    "start_time": "2023-08-11T16:38:51.203Z"
   },
   {
    "duration": 899,
    "start_time": "2023-08-11T16:38:51.208Z"
   },
   {
    "duration": 4,
    "start_time": "2023-08-11T16:38:52.109Z"
   },
   {
    "duration": 6,
    "start_time": "2023-08-11T16:38:52.116Z"
   },
   {
    "duration": 8,
    "start_time": "2023-08-11T16:38:52.124Z"
   },
   {
    "duration": 409,
    "start_time": "2023-08-11T16:38:52.133Z"
   },
   {
    "duration": 373,
    "start_time": "2023-08-11T16:38:52.543Z"
   },
   {
    "duration": 165,
    "start_time": "2023-08-11T16:38:52.918Z"
   },
   {
    "duration": 76,
    "start_time": "2023-08-11T16:38:53.095Z"
   },
   {
    "duration": 25,
    "start_time": "2023-08-11T16:38:53.172Z"
   },
   {
    "duration": 185,
    "start_time": "2023-08-11T16:38:53.199Z"
   },
   {
    "duration": 171,
    "start_time": "2023-08-11T16:38:53.394Z"
   },
   {
    "duration": 9,
    "start_time": "2023-08-11T16:38:53.568Z"
   },
   {
    "duration": 17,
    "start_time": "2023-08-11T16:38:53.579Z"
   },
   {
    "duration": 6,
    "start_time": "2023-08-11T16:38:53.598Z"
   },
   {
    "duration": 101,
    "start_time": "2023-08-11T16:38:53.606Z"
   },
   {
    "duration": 13,
    "start_time": "2023-08-11T16:38:53.709Z"
   },
   {
    "duration": 7,
    "start_time": "2023-08-11T16:38:53.724Z"
   },
   {
    "duration": 8,
    "start_time": "2023-08-11T16:38:53.733Z"
   },
   {
    "duration": 62,
    "start_time": "2023-08-11T16:38:53.743Z"
   },
   {
    "duration": 27,
    "start_time": "2023-08-11T16:38:53.807Z"
   },
   {
    "duration": 7,
    "start_time": "2023-08-11T16:38:53.837Z"
   },
   {
    "duration": 729,
    "start_time": "2023-08-11T16:38:53.846Z"
   },
   {
    "duration": 718,
    "start_time": "2023-08-11T16:38:54.577Z"
   },
   {
    "duration": 1047,
    "start_time": "2023-08-11T16:38:55.297Z"
   },
   {
    "duration": 436,
    "start_time": "2023-08-11T16:38:56.345Z"
   },
   {
    "duration": 24,
    "start_time": "2023-08-11T16:38:56.783Z"
   },
   {
    "duration": 640,
    "start_time": "2023-08-11T16:38:56.809Z"
   },
   {
    "duration": 4,
    "start_time": "2023-08-11T16:38:57.451Z"
   },
   {
    "duration": 22,
    "start_time": "2023-08-11T16:38:57.456Z"
   },
   {
    "duration": 15,
    "start_time": "2023-08-11T16:38:57.480Z"
   },
   {
    "duration": 17,
    "start_time": "2023-08-11T16:38:57.497Z"
   },
   {
    "duration": 15,
    "start_time": "2023-08-11T16:38:57.516Z"
   },
   {
    "duration": 12,
    "start_time": "2023-08-11T16:38:57.533Z"
   },
   {
    "duration": 23,
    "start_time": "2023-08-11T16:38:57.547Z"
   },
   {
    "duration": 22,
    "start_time": "2023-08-11T16:38:57.573Z"
   },
   {
    "duration": 4,
    "start_time": "2023-08-11T16:38:57.598Z"
   },
   {
    "duration": 11,
    "start_time": "2023-08-11T16:38:57.605Z"
   },
   {
    "duration": 18,
    "start_time": "2023-08-11T16:38:57.618Z"
   },
   {
    "duration": 8,
    "start_time": "2023-08-11T16:38:57.641Z"
   },
   {
    "duration": 19,
    "start_time": "2023-08-11T16:38:57.650Z"
   },
   {
    "duration": 7,
    "start_time": "2023-08-11T16:38:57.670Z"
   },
   {
    "duration": 7,
    "start_time": "2023-08-11T16:38:57.679Z"
   },
   {
    "duration": 8,
    "start_time": "2023-08-11T16:38:57.688Z"
   },
   {
    "duration": 9,
    "start_time": "2023-08-11T16:38:57.698Z"
   },
   {
    "duration": 132,
    "start_time": "2023-08-11T16:38:57.709Z"
   },
   {
    "duration": 3,
    "start_time": "2023-08-11T16:38:57.843Z"
   },
   {
    "duration": 1148,
    "start_time": "2023-08-11T16:38:57.848Z"
   },
   {
    "duration": 95,
    "start_time": "2023-08-11T16:38:59.000Z"
   },
   {
    "duration": 5,
    "start_time": "2023-08-11T16:38:59.097Z"
   },
   {
    "duration": 2234,
    "start_time": "2023-08-11T16:38:59.104Z"
   },
   {
    "duration": 4,
    "start_time": "2023-08-11T16:39:01.340Z"
   },
   {
    "duration": 63,
    "start_time": "2023-08-11T16:39:01.345Z"
   },
   {
    "duration": 134082,
    "start_time": "2023-08-11T16:39:01.410Z"
   },
   {
    "duration": 4,
    "start_time": "2023-08-11T16:41:15.494Z"
   },
   {
    "duration": 13,
    "start_time": "2023-08-11T16:41:15.499Z"
   },
   {
    "duration": 36,
    "start_time": "2023-08-11T16:41:15.514Z"
   },
   {
    "duration": 60963,
    "start_time": "2023-08-11T16:41:15.551Z"
   },
   {
    "duration": 2372,
    "start_time": "2023-08-11T16:42:16.516Z"
   },
   {
    "duration": 9,
    "start_time": "2023-08-11T16:42:18.891Z"
   },
   {
    "duration": 42,
    "start_time": "2023-08-11T16:42:18.901Z"
   },
   {
    "duration": 32,
    "start_time": "2023-08-11T16:42:18.944Z"
   },
   {
    "duration": 1561,
    "start_time": "2023-08-11T16:42:18.978Z"
   }
  ],
  "kernelspec": {
   "display_name": "Python 3 (ipykernel)",
   "language": "python",
   "name": "python3"
  },
  "language_info": {
   "codemirror_mode": {
    "name": "ipython",
    "version": 3
   },
   "file_extension": ".py",
   "mimetype": "text/x-python",
   "name": "python",
   "nbconvert_exporter": "python",
   "pygments_lexer": "ipython3",
   "version": "3.11.7"
  },
  "toc": {
   "base_numbering": 1,
   "nav_menu": {},
   "number_sections": true,
   "sideBar": true,
   "skip_h1_title": true,
   "title_cell": "Содержание",
   "title_sidebar": "Contents",
   "toc_cell": true,
   "toc_position": {
    "height": "calc(100% - 180px)",
    "left": "10px",
    "top": "150px",
    "width": "362.797px"
   },
   "toc_section_display": true,
   "toc_window_display": true
  }
 },
 "nbformat": 4,
 "nbformat_minor": 4
}
