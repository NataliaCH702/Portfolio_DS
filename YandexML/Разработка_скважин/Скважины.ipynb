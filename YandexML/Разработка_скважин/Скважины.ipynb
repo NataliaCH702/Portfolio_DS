{
 "cells": [
  {
   "cell_type": "markdown",
   "metadata": {},
   "source": [
    "# Выбор локации для скважины"
   ]
  },
  {
   "cell_type": "markdown",
   "metadata": {},
   "source": [
    "Допустим, вы работаете в добывающей компании «ГлавРосГосНефть». Нужно решить, где бурить новую скважину.\n",
    "\n",
    "Вам предоставлены пробы нефти в трёх регионах: в каждом 10 000 месторождений, где измерили качество нефти и объём её запасов. Постройте модель машинного обучения, которая поможет определить регион, где добыча принесёт наибольшую прибыль. Проанализируйте возможную прибыль и риски техникой *Bootstrap.*\n",
    "\n",
    "Шаги для выбора локации:\n",
    "\n",
    "- В избранном регионе ищут месторождения, для каждого определяют значения признаков;\n",
    "- Строят модель и оценивают объём запасов;\n",
    "- Выбирают месторождения с самым высокими оценками значений. Количество месторождений зависит от бюджета компании и стоимости разработки одной скважины;\n",
    "- Прибыль равна суммарной прибыли отобранных месторождений."
   ]
  },
  {
   "cell_type": "code",
   "execution_count": 1,
   "metadata": {},
   "outputs": [],
   "source": [
    "import pandas as pd\n",
    "\n",
    "from IPython.core.interactiveshell import InteractiveShell\n",
    "InteractiveShell.ast_node_interactivity = \"all\""
   ]
  },
  {
   "cell_type": "code",
   "execution_count": 2,
   "metadata": {},
   "outputs": [],
   "source": [
    "import matplotlib.pyplot as plt"
   ]
  },
  {
   "cell_type": "code",
   "execution_count": 3,
   "metadata": {},
   "outputs": [],
   "source": [
    "import numpy as np"
   ]
  },
  {
   "cell_type": "code",
   "execution_count": 4,
   "metadata": {},
   "outputs": [],
   "source": [
    "from sklearn.model_selection import train_test_split"
   ]
  },
  {
   "cell_type": "code",
   "execution_count": 5,
   "metadata": {},
   "outputs": [],
   "source": [
    "from sklearn.linear_model import LinearRegression"
   ]
  },
  {
   "cell_type": "code",
   "execution_count": 6,
   "metadata": {},
   "outputs": [],
   "source": [
    "from sklearn.metrics import mean_squared_error, r2_score"
   ]
  },
  {
   "cell_type": "code",
   "execution_count": 7,
   "metadata": {},
   "outputs": [],
   "source": [
    "import statistics"
   ]
  },
  {
   "cell_type": "code",
   "execution_count": 8,
   "metadata": {},
   "outputs": [],
   "source": [
    "from sklearn.model_selection import cross_val_score"
   ]
  },
  {
   "cell_type": "code",
   "execution_count": 9,
   "metadata": {},
   "outputs": [],
   "source": [
    "from scipy import stats as st"
   ]
  },
  {
   "cell_type": "code",
   "execution_count": 10,
   "metadata": {},
   "outputs": [],
   "source": [
    "import warnings\n",
    "warnings.filterwarnings(\"ignore\") "
   ]
  },
  {
   "cell_type": "markdown",
   "metadata": {},
   "source": [
    "## Загрузка и подготовка данных"
   ]
  },
  {
   "cell_type": "markdown",
   "metadata": {},
   "source": [
    "**Дано:** Данные геологоразведки трёх регионов:  \n",
    "\n",
    "- id — уникальный идентификатор скважины;  \n",
    "- f0, f1, f2 — три признака точек (неважно, что они означают, но сами признаки значимы);  \n",
    "- product — объём запасов в скважине (тыс. баррелей).  "
   ]
  },
  {
   "cell_type": "code",
   "execution_count": 11,
   "metadata": {},
   "outputs": [
    {
     "data": {
      "text/html": [
       "<div>\n",
       "<style scoped>\n",
       "    .dataframe tbody tr th:only-of-type {\n",
       "        vertical-align: middle;\n",
       "    }\n",
       "\n",
       "    .dataframe tbody tr th {\n",
       "        vertical-align: top;\n",
       "    }\n",
       "\n",
       "    .dataframe thead th {\n",
       "        text-align: right;\n",
       "    }\n",
       "</style>\n",
       "<table border=\"1\" class=\"dataframe\">\n",
       "  <thead>\n",
       "    <tr style=\"text-align: right;\">\n",
       "      <th></th>\n",
       "      <th>id</th>\n",
       "      <th>f0</th>\n",
       "      <th>f1</th>\n",
       "      <th>f2</th>\n",
       "      <th>product</th>\n",
       "    </tr>\n",
       "  </thead>\n",
       "  <tbody>\n",
       "    <tr>\n",
       "      <th>0</th>\n",
       "      <td>txEyH</td>\n",
       "      <td>0.705745</td>\n",
       "      <td>-0.497823</td>\n",
       "      <td>1.221170</td>\n",
       "      <td>105.280062</td>\n",
       "    </tr>\n",
       "    <tr>\n",
       "      <th>1</th>\n",
       "      <td>2acmU</td>\n",
       "      <td>1.334711</td>\n",
       "      <td>-0.340164</td>\n",
       "      <td>4.365080</td>\n",
       "      <td>73.037750</td>\n",
       "    </tr>\n",
       "    <tr>\n",
       "      <th>2</th>\n",
       "      <td>409Wp</td>\n",
       "      <td>1.022732</td>\n",
       "      <td>0.151990</td>\n",
       "      <td>1.419926</td>\n",
       "      <td>85.265647</td>\n",
       "    </tr>\n",
       "    <tr>\n",
       "      <th>3</th>\n",
       "      <td>iJLyR</td>\n",
       "      <td>-0.032172</td>\n",
       "      <td>0.139033</td>\n",
       "      <td>2.978566</td>\n",
       "      <td>168.620776</td>\n",
       "    </tr>\n",
       "    <tr>\n",
       "      <th>4</th>\n",
       "      <td>Xdl7t</td>\n",
       "      <td>1.988431</td>\n",
       "      <td>0.155413</td>\n",
       "      <td>4.751769</td>\n",
       "      <td>154.036647</td>\n",
       "    </tr>\n",
       "  </tbody>\n",
       "</table>\n",
       "</div>"
      ],
      "text/plain": [
       "      id        f0        f1        f2     product\n",
       "0  txEyH  0.705745 -0.497823  1.221170  105.280062\n",
       "1  2acmU  1.334711 -0.340164  4.365080   73.037750\n",
       "2  409Wp  1.022732  0.151990  1.419926   85.265647\n",
       "3  iJLyR -0.032172  0.139033  2.978566  168.620776\n",
       "4  Xdl7t  1.988431  0.155413  4.751769  154.036647"
      ]
     },
     "execution_count": 11,
     "metadata": {},
     "output_type": "execute_result"
    }
   ],
   "source": [
    "import os\n",
    "\n",
    "pth1 = '/datasets/geo_data_0.csv'\n",
    "pth2 = '/datasets/geo_data_1.csv'\n",
    "pth3 = '/datasets/geo_data_2.csv'\n",
    "\n",
    "if os.path.exists(pth1) & os.path.exists(pth1) & os.path.exists(pth1):\n",
    "    data_1 = pd.read_csv(pth1)\n",
    "    data_2 = pd.read_csv(pth2)\n",
    "    data_3 = pd.read_csv(pth3)\n",
    "else:\n",
    "    print('Something is wrong')\n",
    "    \n",
    "data_1.head()    "
   ]
  },
  {
   "cell_type": "code",
   "execution_count": 12,
   "metadata": {},
   "outputs": [],
   "source": [
    "#data_1 = pd.read_csv('/datasets/geo_data_0.csv')\n",
    "#data_2 = pd.read_csv('/datasets/geo_data_1.csv')\n",
    "#data_3 = pd.read_csv('/datasets/geo_data_2.csv')"
   ]
  },
  {
   "cell_type": "code",
   "execution_count": 13,
   "metadata": {},
   "outputs": [],
   "source": [
    "def data_info(data, name):\n",
    "    print('   '*15)\n",
    "    print('---'*15)\n",
    "    print('Информация для', name)\n",
    "    print('---'*15)\n",
    "    display(data.head(5));\n",
    "    display(data.describe());\n",
    "    display(data.info());\n",
    "    print('---'*15)\n",
    "    print('   '*15)\n",
    "    print('Пропуски в данных:')\n",
    "    display(data.isna().sum())\n",
    "    print('   '*15)\n",
    "    print('Явные дубликаты:', data.duplicated().sum())\n",
    "    print('   '*15)\n",
    "    print('Дубликаты id:', data['id'].duplicated().sum())\n",
    "    display(data[data['id'].isin(data['id'][data['id'].duplicated()])].sort_values(by='id'))\n",
    "    print('   '*15)\n",
    "    print('---'*15)\n",
    "    print('   '*15)\n",
    "    print('Матрица корреляции: ')\n",
    "    corr = data.corr()\n",
    "    display(corr.style.background_gradient(cmap='coolwarm'))\n",
    "    print('---'*15)"
   ]
  },
  {
   "cell_type": "code",
   "execution_count": 14,
   "metadata": {},
   "outputs": [
    {
     "name": "stdout",
     "output_type": "stream",
     "text": [
      "                                             \n",
      "---------------------------------------------\n",
      "Информация для региона 1\n",
      "---------------------------------------------\n"
     ]
    },
    {
     "data": {
      "text/html": [
       "<div>\n",
       "<style scoped>\n",
       "    .dataframe tbody tr th:only-of-type {\n",
       "        vertical-align: middle;\n",
       "    }\n",
       "\n",
       "    .dataframe tbody tr th {\n",
       "        vertical-align: top;\n",
       "    }\n",
       "\n",
       "    .dataframe thead th {\n",
       "        text-align: right;\n",
       "    }\n",
       "</style>\n",
       "<table border=\"1\" class=\"dataframe\">\n",
       "  <thead>\n",
       "    <tr style=\"text-align: right;\">\n",
       "      <th></th>\n",
       "      <th>id</th>\n",
       "      <th>f0</th>\n",
       "      <th>f1</th>\n",
       "      <th>f2</th>\n",
       "      <th>product</th>\n",
       "    </tr>\n",
       "  </thead>\n",
       "  <tbody>\n",
       "    <tr>\n",
       "      <th>0</th>\n",
       "      <td>txEyH</td>\n",
       "      <td>0.705745</td>\n",
       "      <td>-0.497823</td>\n",
       "      <td>1.221170</td>\n",
       "      <td>105.280062</td>\n",
       "    </tr>\n",
       "    <tr>\n",
       "      <th>1</th>\n",
       "      <td>2acmU</td>\n",
       "      <td>1.334711</td>\n",
       "      <td>-0.340164</td>\n",
       "      <td>4.365080</td>\n",
       "      <td>73.037750</td>\n",
       "    </tr>\n",
       "    <tr>\n",
       "      <th>2</th>\n",
       "      <td>409Wp</td>\n",
       "      <td>1.022732</td>\n",
       "      <td>0.151990</td>\n",
       "      <td>1.419926</td>\n",
       "      <td>85.265647</td>\n",
       "    </tr>\n",
       "    <tr>\n",
       "      <th>3</th>\n",
       "      <td>iJLyR</td>\n",
       "      <td>-0.032172</td>\n",
       "      <td>0.139033</td>\n",
       "      <td>2.978566</td>\n",
       "      <td>168.620776</td>\n",
       "    </tr>\n",
       "    <tr>\n",
       "      <th>4</th>\n",
       "      <td>Xdl7t</td>\n",
       "      <td>1.988431</td>\n",
       "      <td>0.155413</td>\n",
       "      <td>4.751769</td>\n",
       "      <td>154.036647</td>\n",
       "    </tr>\n",
       "  </tbody>\n",
       "</table>\n",
       "</div>"
      ],
      "text/plain": [
       "      id        f0        f1        f2     product\n",
       "0  txEyH  0.705745 -0.497823  1.221170  105.280062\n",
       "1  2acmU  1.334711 -0.340164  4.365080   73.037750\n",
       "2  409Wp  1.022732  0.151990  1.419926   85.265647\n",
       "3  iJLyR -0.032172  0.139033  2.978566  168.620776\n",
       "4  Xdl7t  1.988431  0.155413  4.751769  154.036647"
      ]
     },
     "metadata": {},
     "output_type": "display_data"
    },
    {
     "data": {
      "text/html": [
       "<div>\n",
       "<style scoped>\n",
       "    .dataframe tbody tr th:only-of-type {\n",
       "        vertical-align: middle;\n",
       "    }\n",
       "\n",
       "    .dataframe tbody tr th {\n",
       "        vertical-align: top;\n",
       "    }\n",
       "\n",
       "    .dataframe thead th {\n",
       "        text-align: right;\n",
       "    }\n",
       "</style>\n",
       "<table border=\"1\" class=\"dataframe\">\n",
       "  <thead>\n",
       "    <tr style=\"text-align: right;\">\n",
       "      <th></th>\n",
       "      <th>f0</th>\n",
       "      <th>f1</th>\n",
       "      <th>f2</th>\n",
       "      <th>product</th>\n",
       "    </tr>\n",
       "  </thead>\n",
       "  <tbody>\n",
       "    <tr>\n",
       "      <th>count</th>\n",
       "      <td>100000.000000</td>\n",
       "      <td>100000.000000</td>\n",
       "      <td>100000.000000</td>\n",
       "      <td>100000.000000</td>\n",
       "    </tr>\n",
       "    <tr>\n",
       "      <th>mean</th>\n",
       "      <td>0.500419</td>\n",
       "      <td>0.250143</td>\n",
       "      <td>2.502647</td>\n",
       "      <td>92.500000</td>\n",
       "    </tr>\n",
       "    <tr>\n",
       "      <th>std</th>\n",
       "      <td>0.871832</td>\n",
       "      <td>0.504433</td>\n",
       "      <td>3.248248</td>\n",
       "      <td>44.288691</td>\n",
       "    </tr>\n",
       "    <tr>\n",
       "      <th>min</th>\n",
       "      <td>-1.408605</td>\n",
       "      <td>-0.848218</td>\n",
       "      <td>-12.088328</td>\n",
       "      <td>0.000000</td>\n",
       "    </tr>\n",
       "    <tr>\n",
       "      <th>25%</th>\n",
       "      <td>-0.072580</td>\n",
       "      <td>-0.200881</td>\n",
       "      <td>0.287748</td>\n",
       "      <td>56.497507</td>\n",
       "    </tr>\n",
       "    <tr>\n",
       "      <th>50%</th>\n",
       "      <td>0.502360</td>\n",
       "      <td>0.250252</td>\n",
       "      <td>2.515969</td>\n",
       "      <td>91.849972</td>\n",
       "    </tr>\n",
       "    <tr>\n",
       "      <th>75%</th>\n",
       "      <td>1.073581</td>\n",
       "      <td>0.700646</td>\n",
       "      <td>4.715088</td>\n",
       "      <td>128.564089</td>\n",
       "    </tr>\n",
       "    <tr>\n",
       "      <th>max</th>\n",
       "      <td>2.362331</td>\n",
       "      <td>1.343769</td>\n",
       "      <td>16.003790</td>\n",
       "      <td>185.364347</td>\n",
       "    </tr>\n",
       "  </tbody>\n",
       "</table>\n",
       "</div>"
      ],
      "text/plain": [
       "                  f0             f1             f2        product\n",
       "count  100000.000000  100000.000000  100000.000000  100000.000000\n",
       "mean        0.500419       0.250143       2.502647      92.500000\n",
       "std         0.871832       0.504433       3.248248      44.288691\n",
       "min        -1.408605      -0.848218     -12.088328       0.000000\n",
       "25%        -0.072580      -0.200881       0.287748      56.497507\n",
       "50%         0.502360       0.250252       2.515969      91.849972\n",
       "75%         1.073581       0.700646       4.715088     128.564089\n",
       "max         2.362331       1.343769      16.003790     185.364347"
      ]
     },
     "metadata": {},
     "output_type": "display_data"
    },
    {
     "name": "stdout",
     "output_type": "stream",
     "text": [
      "<class 'pandas.core.frame.DataFrame'>\n",
      "RangeIndex: 100000 entries, 0 to 99999\n",
      "Data columns (total 5 columns):\n",
      " #   Column   Non-Null Count   Dtype  \n",
      "---  ------   --------------   -----  \n",
      " 0   id       100000 non-null  object \n",
      " 1   f0       100000 non-null  float64\n",
      " 2   f1       100000 non-null  float64\n",
      " 3   f2       100000 non-null  float64\n",
      " 4   product  100000 non-null  float64\n",
      "dtypes: float64(4), object(1)\n",
      "memory usage: 3.8+ MB\n"
     ]
    },
    {
     "data": {
      "text/plain": [
       "None"
      ]
     },
     "metadata": {},
     "output_type": "display_data"
    },
    {
     "name": "stdout",
     "output_type": "stream",
     "text": [
      "---------------------------------------------\n",
      "                                             \n",
      "Пропуски в данных:\n"
     ]
    },
    {
     "data": {
      "text/plain": [
       "id         0\n",
       "f0         0\n",
       "f1         0\n",
       "f2         0\n",
       "product    0\n",
       "dtype: int64"
      ]
     },
     "metadata": {},
     "output_type": "display_data"
    },
    {
     "name": "stdout",
     "output_type": "stream",
     "text": [
      "                                             \n",
      "Явные дубликаты: 0\n",
      "                                             \n",
      "Дубликаты id: 10\n"
     ]
    },
    {
     "data": {
      "text/html": [
       "<div>\n",
       "<style scoped>\n",
       "    .dataframe tbody tr th:only-of-type {\n",
       "        vertical-align: middle;\n",
       "    }\n",
       "\n",
       "    .dataframe tbody tr th {\n",
       "        vertical-align: top;\n",
       "    }\n",
       "\n",
       "    .dataframe thead th {\n",
       "        text-align: right;\n",
       "    }\n",
       "</style>\n",
       "<table border=\"1\" class=\"dataframe\">\n",
       "  <thead>\n",
       "    <tr style=\"text-align: right;\">\n",
       "      <th></th>\n",
       "      <th>id</th>\n",
       "      <th>f0</th>\n",
       "      <th>f1</th>\n",
       "      <th>f2</th>\n",
       "      <th>product</th>\n",
       "    </tr>\n",
       "  </thead>\n",
       "  <tbody>\n",
       "    <tr>\n",
       "      <th>66136</th>\n",
       "      <td>74z30</td>\n",
       "      <td>1.084962</td>\n",
       "      <td>-0.312358</td>\n",
       "      <td>6.990771</td>\n",
       "      <td>127.643327</td>\n",
       "    </tr>\n",
       "    <tr>\n",
       "      <th>64022</th>\n",
       "      <td>74z30</td>\n",
       "      <td>0.741456</td>\n",
       "      <td>0.459229</td>\n",
       "      <td>5.153109</td>\n",
       "      <td>140.771492</td>\n",
       "    </tr>\n",
       "    <tr>\n",
       "      <th>51970</th>\n",
       "      <td>A5aEY</td>\n",
       "      <td>-0.180335</td>\n",
       "      <td>0.935548</td>\n",
       "      <td>-2.094773</td>\n",
       "      <td>33.020205</td>\n",
       "    </tr>\n",
       "    <tr>\n",
       "      <th>3389</th>\n",
       "      <td>A5aEY</td>\n",
       "      <td>-0.039949</td>\n",
       "      <td>0.156872</td>\n",
       "      <td>0.209861</td>\n",
       "      <td>89.249364</td>\n",
       "    </tr>\n",
       "    <tr>\n",
       "      <th>69163</th>\n",
       "      <td>AGS9W</td>\n",
       "      <td>-0.933795</td>\n",
       "      <td>0.116194</td>\n",
       "      <td>-3.655896</td>\n",
       "      <td>19.230453</td>\n",
       "    </tr>\n",
       "    <tr>\n",
       "      <th>42529</th>\n",
       "      <td>AGS9W</td>\n",
       "      <td>1.454747</td>\n",
       "      <td>-0.479651</td>\n",
       "      <td>0.683380</td>\n",
       "      <td>126.370504</td>\n",
       "    </tr>\n",
       "    <tr>\n",
       "      <th>931</th>\n",
       "      <td>HZww2</td>\n",
       "      <td>0.755284</td>\n",
       "      <td>0.368511</td>\n",
       "      <td>1.863211</td>\n",
       "      <td>30.681774</td>\n",
       "    </tr>\n",
       "    <tr>\n",
       "      <th>7530</th>\n",
       "      <td>HZww2</td>\n",
       "      <td>1.061194</td>\n",
       "      <td>-0.373969</td>\n",
       "      <td>10.430210</td>\n",
       "      <td>158.828695</td>\n",
       "    </tr>\n",
       "    <tr>\n",
       "      <th>63593</th>\n",
       "      <td>QcMuo</td>\n",
       "      <td>0.635635</td>\n",
       "      <td>-0.473422</td>\n",
       "      <td>0.862670</td>\n",
       "      <td>64.578675</td>\n",
       "    </tr>\n",
       "    <tr>\n",
       "      <th>1949</th>\n",
       "      <td>QcMuo</td>\n",
       "      <td>0.506563</td>\n",
       "      <td>-0.323775</td>\n",
       "      <td>-2.215583</td>\n",
       "      <td>75.496502</td>\n",
       "    </tr>\n",
       "    <tr>\n",
       "      <th>75715</th>\n",
       "      <td>Tdehs</td>\n",
       "      <td>0.112079</td>\n",
       "      <td>0.430296</td>\n",
       "      <td>3.218993</td>\n",
       "      <td>60.964018</td>\n",
       "    </tr>\n",
       "    <tr>\n",
       "      <th>21426</th>\n",
       "      <td>Tdehs</td>\n",
       "      <td>0.829407</td>\n",
       "      <td>0.298807</td>\n",
       "      <td>-0.049563</td>\n",
       "      <td>96.035308</td>\n",
       "    </tr>\n",
       "    <tr>\n",
       "      <th>92341</th>\n",
       "      <td>TtcGQ</td>\n",
       "      <td>0.110711</td>\n",
       "      <td>1.022689</td>\n",
       "      <td>0.911381</td>\n",
       "      <td>101.318008</td>\n",
       "    </tr>\n",
       "    <tr>\n",
       "      <th>60140</th>\n",
       "      <td>TtcGQ</td>\n",
       "      <td>0.569276</td>\n",
       "      <td>-0.104876</td>\n",
       "      <td>6.440215</td>\n",
       "      <td>85.350186</td>\n",
       "    </tr>\n",
       "    <tr>\n",
       "      <th>89582</th>\n",
       "      <td>bsk9y</td>\n",
       "      <td>0.398908</td>\n",
       "      <td>-0.400253</td>\n",
       "      <td>10.122376</td>\n",
       "      <td>163.433078</td>\n",
       "    </tr>\n",
       "    <tr>\n",
       "      <th>97785</th>\n",
       "      <td>bsk9y</td>\n",
       "      <td>0.378429</td>\n",
       "      <td>0.005837</td>\n",
       "      <td>0.160827</td>\n",
       "      <td>160.637302</td>\n",
       "    </tr>\n",
       "    <tr>\n",
       "      <th>41724</th>\n",
       "      <td>bxg6G</td>\n",
       "      <td>-0.823752</td>\n",
       "      <td>0.546319</td>\n",
       "      <td>3.630479</td>\n",
       "      <td>93.007798</td>\n",
       "    </tr>\n",
       "    <tr>\n",
       "      <th>1364</th>\n",
       "      <td>bxg6G</td>\n",
       "      <td>0.411645</td>\n",
       "      <td>0.856830</td>\n",
       "      <td>-3.653440</td>\n",
       "      <td>73.604260</td>\n",
       "    </tr>\n",
       "    <tr>\n",
       "      <th>16633</th>\n",
       "      <td>fiKDv</td>\n",
       "      <td>0.157341</td>\n",
       "      <td>1.028359</td>\n",
       "      <td>5.585586</td>\n",
       "      <td>95.817889</td>\n",
       "    </tr>\n",
       "    <tr>\n",
       "      <th>90815</th>\n",
       "      <td>fiKDv</td>\n",
       "      <td>0.049883</td>\n",
       "      <td>0.841313</td>\n",
       "      <td>6.394613</td>\n",
       "      <td>137.346586</td>\n",
       "    </tr>\n",
       "  </tbody>\n",
       "</table>\n",
       "</div>"
      ],
      "text/plain": [
       "          id        f0        f1         f2     product\n",
       "66136  74z30  1.084962 -0.312358   6.990771  127.643327\n",
       "64022  74z30  0.741456  0.459229   5.153109  140.771492\n",
       "51970  A5aEY -0.180335  0.935548  -2.094773   33.020205\n",
       "3389   A5aEY -0.039949  0.156872   0.209861   89.249364\n",
       "69163  AGS9W -0.933795  0.116194  -3.655896   19.230453\n",
       "42529  AGS9W  1.454747 -0.479651   0.683380  126.370504\n",
       "931    HZww2  0.755284  0.368511   1.863211   30.681774\n",
       "7530   HZww2  1.061194 -0.373969  10.430210  158.828695\n",
       "63593  QcMuo  0.635635 -0.473422   0.862670   64.578675\n",
       "1949   QcMuo  0.506563 -0.323775  -2.215583   75.496502\n",
       "75715  Tdehs  0.112079  0.430296   3.218993   60.964018\n",
       "21426  Tdehs  0.829407  0.298807  -0.049563   96.035308\n",
       "92341  TtcGQ  0.110711  1.022689   0.911381  101.318008\n",
       "60140  TtcGQ  0.569276 -0.104876   6.440215   85.350186\n",
       "89582  bsk9y  0.398908 -0.400253  10.122376  163.433078\n",
       "97785  bsk9y  0.378429  0.005837   0.160827  160.637302\n",
       "41724  bxg6G -0.823752  0.546319   3.630479   93.007798\n",
       "1364   bxg6G  0.411645  0.856830  -3.653440   73.604260\n",
       "16633  fiKDv  0.157341  1.028359   5.585586   95.817889\n",
       "90815  fiKDv  0.049883  0.841313   6.394613  137.346586"
      ]
     },
     "metadata": {},
     "output_type": "display_data"
    },
    {
     "name": "stdout",
     "output_type": "stream",
     "text": [
      "                                             \n",
      "---------------------------------------------\n",
      "                                             \n",
      "Матрица корреляции: \n"
     ]
    },
    {
     "data": {
      "text/html": [
       "<style  type=\"text/css\" >\n",
       "#T_2d526_row0_col0,#T_2d526_row1_col1,#T_2d526_row2_col2,#T_2d526_row3_col3{\n",
       "            background-color:  #b40426;\n",
       "            color:  #f1f1f1;\n",
       "        }#T_2d526_row0_col1,#T_2d526_row0_col2,#T_2d526_row1_col0,#T_2d526_row1_col3{\n",
       "            background-color:  #3b4cc0;\n",
       "            color:  #f1f1f1;\n",
       "        }#T_2d526_row0_col3{\n",
       "            background-color:  #98b9ff;\n",
       "            color:  #000000;\n",
       "        }#T_2d526_row1_col2{\n",
       "            background-color:  #3c4ec2;\n",
       "            color:  #f1f1f1;\n",
       "        }#T_2d526_row2_col0{\n",
       "            background-color:  #9fbfff;\n",
       "            color:  #000000;\n",
       "        }#T_2d526_row2_col1{\n",
       "            background-color:  #a1c0ff;\n",
       "            color:  #000000;\n",
       "        }#T_2d526_row2_col3{\n",
       "            background-color:  #edd2c3;\n",
       "            color:  #000000;\n",
       "        }#T_2d526_row3_col0{\n",
       "            background-color:  #c1d4f4;\n",
       "            color:  #000000;\n",
       "        }#T_2d526_row3_col1{\n",
       "            background-color:  #7295f4;\n",
       "            color:  #000000;\n",
       "        }#T_2d526_row3_col2{\n",
       "            background-color:  #d9dce1;\n",
       "            color:  #000000;\n",
       "        }</style><table id=\"T_2d526_\" ><thead>    <tr>        <th class=\"blank level0\" ></th>        <th class=\"col_heading level0 col0\" >f0</th>        <th class=\"col_heading level0 col1\" >f1</th>        <th class=\"col_heading level0 col2\" >f2</th>        <th class=\"col_heading level0 col3\" >product</th>    </tr></thead><tbody>\n",
       "                <tr>\n",
       "                        <th id=\"T_2d526_level0_row0\" class=\"row_heading level0 row0\" >f0</th>\n",
       "                        <td id=\"T_2d526_row0_col0\" class=\"data row0 col0\" >1.000000</td>\n",
       "                        <td id=\"T_2d526_row0_col1\" class=\"data row0 col1\" >-0.440723</td>\n",
       "                        <td id=\"T_2d526_row0_col2\" class=\"data row0 col2\" >-0.003153</td>\n",
       "                        <td id=\"T_2d526_row0_col3\" class=\"data row0 col3\" >0.143536</td>\n",
       "            </tr>\n",
       "            <tr>\n",
       "                        <th id=\"T_2d526_level0_row1\" class=\"row_heading level0 row1\" >f1</th>\n",
       "                        <td id=\"T_2d526_row1_col0\" class=\"data row1 col0\" >-0.440723</td>\n",
       "                        <td id=\"T_2d526_row1_col1\" class=\"data row1 col1\" >1.000000</td>\n",
       "                        <td id=\"T_2d526_row1_col2\" class=\"data row1 col2\" >0.001724</td>\n",
       "                        <td id=\"T_2d526_row1_col3\" class=\"data row1 col3\" >-0.192356</td>\n",
       "            </tr>\n",
       "            <tr>\n",
       "                        <th id=\"T_2d526_level0_row2\" class=\"row_heading level0 row2\" >f2</th>\n",
       "                        <td id=\"T_2d526_row2_col0\" class=\"data row2 col0\" >-0.003153</td>\n",
       "                        <td id=\"T_2d526_row2_col1\" class=\"data row2 col1\" >0.001724</td>\n",
       "                        <td id=\"T_2d526_row2_col2\" class=\"data row2 col2\" >1.000000</td>\n",
       "                        <td id=\"T_2d526_row2_col3\" class=\"data row2 col3\" >0.483663</td>\n",
       "            </tr>\n",
       "            <tr>\n",
       "                        <th id=\"T_2d526_level0_row3\" class=\"row_heading level0 row3\" >product</th>\n",
       "                        <td id=\"T_2d526_row3_col0\" class=\"data row3 col0\" >0.143536</td>\n",
       "                        <td id=\"T_2d526_row3_col1\" class=\"data row3 col1\" >-0.192356</td>\n",
       "                        <td id=\"T_2d526_row3_col2\" class=\"data row3 col2\" >0.483663</td>\n",
       "                        <td id=\"T_2d526_row3_col3\" class=\"data row3 col3\" >1.000000</td>\n",
       "            </tr>\n",
       "    </tbody></table>"
      ],
      "text/plain": [
       "<pandas.io.formats.style.Styler at 0x7f76294bec10>"
      ]
     },
     "metadata": {},
     "output_type": "display_data"
    },
    {
     "name": "stdout",
     "output_type": "stream",
     "text": [
      "---------------------------------------------\n"
     ]
    }
   ],
   "source": [
    "data_info(data_1, name='региона 1')"
   ]
  },
  {
   "cell_type": "code",
   "execution_count": 15,
   "metadata": {},
   "outputs": [
    {
     "name": "stdout",
     "output_type": "stream",
     "text": [
      "                                             \n",
      "---------------------------------------------\n",
      "Информация для региона 2\n",
      "---------------------------------------------\n"
     ]
    },
    {
     "data": {
      "text/html": [
       "<div>\n",
       "<style scoped>\n",
       "    .dataframe tbody tr th:only-of-type {\n",
       "        vertical-align: middle;\n",
       "    }\n",
       "\n",
       "    .dataframe tbody tr th {\n",
       "        vertical-align: top;\n",
       "    }\n",
       "\n",
       "    .dataframe thead th {\n",
       "        text-align: right;\n",
       "    }\n",
       "</style>\n",
       "<table border=\"1\" class=\"dataframe\">\n",
       "  <thead>\n",
       "    <tr style=\"text-align: right;\">\n",
       "      <th></th>\n",
       "      <th>id</th>\n",
       "      <th>f0</th>\n",
       "      <th>f1</th>\n",
       "      <th>f2</th>\n",
       "      <th>product</th>\n",
       "    </tr>\n",
       "  </thead>\n",
       "  <tbody>\n",
       "    <tr>\n",
       "      <th>0</th>\n",
       "      <td>kBEdx</td>\n",
       "      <td>-15.001348</td>\n",
       "      <td>-8.276000</td>\n",
       "      <td>-0.005876</td>\n",
       "      <td>3.179103</td>\n",
       "    </tr>\n",
       "    <tr>\n",
       "      <th>1</th>\n",
       "      <td>62mP7</td>\n",
       "      <td>14.272088</td>\n",
       "      <td>-3.475083</td>\n",
       "      <td>0.999183</td>\n",
       "      <td>26.953261</td>\n",
       "    </tr>\n",
       "    <tr>\n",
       "      <th>2</th>\n",
       "      <td>vyE1P</td>\n",
       "      <td>6.263187</td>\n",
       "      <td>-5.948386</td>\n",
       "      <td>5.001160</td>\n",
       "      <td>134.766305</td>\n",
       "    </tr>\n",
       "    <tr>\n",
       "      <th>3</th>\n",
       "      <td>KcrkZ</td>\n",
       "      <td>-13.081196</td>\n",
       "      <td>-11.506057</td>\n",
       "      <td>4.999415</td>\n",
       "      <td>137.945408</td>\n",
       "    </tr>\n",
       "    <tr>\n",
       "      <th>4</th>\n",
       "      <td>AHL4O</td>\n",
       "      <td>12.702195</td>\n",
       "      <td>-8.147433</td>\n",
       "      <td>5.004363</td>\n",
       "      <td>134.766305</td>\n",
       "    </tr>\n",
       "  </tbody>\n",
       "</table>\n",
       "</div>"
      ],
      "text/plain": [
       "      id         f0         f1        f2     product\n",
       "0  kBEdx -15.001348  -8.276000 -0.005876    3.179103\n",
       "1  62mP7  14.272088  -3.475083  0.999183   26.953261\n",
       "2  vyE1P   6.263187  -5.948386  5.001160  134.766305\n",
       "3  KcrkZ -13.081196 -11.506057  4.999415  137.945408\n",
       "4  AHL4O  12.702195  -8.147433  5.004363  134.766305"
      ]
     },
     "metadata": {},
     "output_type": "display_data"
    },
    {
     "data": {
      "text/html": [
       "<div>\n",
       "<style scoped>\n",
       "    .dataframe tbody tr th:only-of-type {\n",
       "        vertical-align: middle;\n",
       "    }\n",
       "\n",
       "    .dataframe tbody tr th {\n",
       "        vertical-align: top;\n",
       "    }\n",
       "\n",
       "    .dataframe thead th {\n",
       "        text-align: right;\n",
       "    }\n",
       "</style>\n",
       "<table border=\"1\" class=\"dataframe\">\n",
       "  <thead>\n",
       "    <tr style=\"text-align: right;\">\n",
       "      <th></th>\n",
       "      <th>f0</th>\n",
       "      <th>f1</th>\n",
       "      <th>f2</th>\n",
       "      <th>product</th>\n",
       "    </tr>\n",
       "  </thead>\n",
       "  <tbody>\n",
       "    <tr>\n",
       "      <th>count</th>\n",
       "      <td>100000.000000</td>\n",
       "      <td>100000.000000</td>\n",
       "      <td>100000.000000</td>\n",
       "      <td>100000.000000</td>\n",
       "    </tr>\n",
       "    <tr>\n",
       "      <th>mean</th>\n",
       "      <td>1.141296</td>\n",
       "      <td>-4.796579</td>\n",
       "      <td>2.494541</td>\n",
       "      <td>68.825000</td>\n",
       "    </tr>\n",
       "    <tr>\n",
       "      <th>std</th>\n",
       "      <td>8.965932</td>\n",
       "      <td>5.119872</td>\n",
       "      <td>1.703572</td>\n",
       "      <td>45.944423</td>\n",
       "    </tr>\n",
       "    <tr>\n",
       "      <th>min</th>\n",
       "      <td>-31.609576</td>\n",
       "      <td>-26.358598</td>\n",
       "      <td>-0.018144</td>\n",
       "      <td>0.000000</td>\n",
       "    </tr>\n",
       "    <tr>\n",
       "      <th>25%</th>\n",
       "      <td>-6.298551</td>\n",
       "      <td>-8.267985</td>\n",
       "      <td>1.000021</td>\n",
       "      <td>26.953261</td>\n",
       "    </tr>\n",
       "    <tr>\n",
       "      <th>50%</th>\n",
       "      <td>1.153055</td>\n",
       "      <td>-4.813172</td>\n",
       "      <td>2.011479</td>\n",
       "      <td>57.085625</td>\n",
       "    </tr>\n",
       "    <tr>\n",
       "      <th>75%</th>\n",
       "      <td>8.621015</td>\n",
       "      <td>-1.332816</td>\n",
       "      <td>3.999904</td>\n",
       "      <td>107.813044</td>\n",
       "    </tr>\n",
       "    <tr>\n",
       "      <th>max</th>\n",
       "      <td>29.421755</td>\n",
       "      <td>18.734063</td>\n",
       "      <td>5.019721</td>\n",
       "      <td>137.945408</td>\n",
       "    </tr>\n",
       "  </tbody>\n",
       "</table>\n",
       "</div>"
      ],
      "text/plain": [
       "                  f0             f1             f2        product\n",
       "count  100000.000000  100000.000000  100000.000000  100000.000000\n",
       "mean        1.141296      -4.796579       2.494541      68.825000\n",
       "std         8.965932       5.119872       1.703572      45.944423\n",
       "min       -31.609576     -26.358598      -0.018144       0.000000\n",
       "25%        -6.298551      -8.267985       1.000021      26.953261\n",
       "50%         1.153055      -4.813172       2.011479      57.085625\n",
       "75%         8.621015      -1.332816       3.999904     107.813044\n",
       "max        29.421755      18.734063       5.019721     137.945408"
      ]
     },
     "metadata": {},
     "output_type": "display_data"
    },
    {
     "name": "stdout",
     "output_type": "stream",
     "text": [
      "<class 'pandas.core.frame.DataFrame'>\n",
      "RangeIndex: 100000 entries, 0 to 99999\n",
      "Data columns (total 5 columns):\n",
      " #   Column   Non-Null Count   Dtype  \n",
      "---  ------   --------------   -----  \n",
      " 0   id       100000 non-null  object \n",
      " 1   f0       100000 non-null  float64\n",
      " 2   f1       100000 non-null  float64\n",
      " 3   f2       100000 non-null  float64\n",
      " 4   product  100000 non-null  float64\n",
      "dtypes: float64(4), object(1)\n",
      "memory usage: 3.8+ MB\n"
     ]
    },
    {
     "data": {
      "text/plain": [
       "None"
      ]
     },
     "metadata": {},
     "output_type": "display_data"
    },
    {
     "name": "stdout",
     "output_type": "stream",
     "text": [
      "---------------------------------------------\n",
      "                                             \n",
      "Пропуски в данных:\n"
     ]
    },
    {
     "data": {
      "text/plain": [
       "id         0\n",
       "f0         0\n",
       "f1         0\n",
       "f2         0\n",
       "product    0\n",
       "dtype: int64"
      ]
     },
     "metadata": {},
     "output_type": "display_data"
    },
    {
     "name": "stdout",
     "output_type": "stream",
     "text": [
      "                                             \n",
      "Явные дубликаты: 0\n",
      "                                             \n",
      "Дубликаты id: 4\n"
     ]
    },
    {
     "data": {
      "text/html": [
       "<div>\n",
       "<style scoped>\n",
       "    .dataframe tbody tr th:only-of-type {\n",
       "        vertical-align: middle;\n",
       "    }\n",
       "\n",
       "    .dataframe tbody tr th {\n",
       "        vertical-align: top;\n",
       "    }\n",
       "\n",
       "    .dataframe thead th {\n",
       "        text-align: right;\n",
       "    }\n",
       "</style>\n",
       "<table border=\"1\" class=\"dataframe\">\n",
       "  <thead>\n",
       "    <tr style=\"text-align: right;\">\n",
       "      <th></th>\n",
       "      <th>id</th>\n",
       "      <th>f0</th>\n",
       "      <th>f1</th>\n",
       "      <th>f2</th>\n",
       "      <th>product</th>\n",
       "    </tr>\n",
       "  </thead>\n",
       "  <tbody>\n",
       "    <tr>\n",
       "      <th>5849</th>\n",
       "      <td>5ltQ6</td>\n",
       "      <td>-3.435401</td>\n",
       "      <td>-12.296043</td>\n",
       "      <td>1.999796</td>\n",
       "      <td>57.085625</td>\n",
       "    </tr>\n",
       "    <tr>\n",
       "      <th>84461</th>\n",
       "      <td>5ltQ6</td>\n",
       "      <td>18.213839</td>\n",
       "      <td>2.191999</td>\n",
       "      <td>3.993869</td>\n",
       "      <td>107.813044</td>\n",
       "    </tr>\n",
       "    <tr>\n",
       "      <th>1305</th>\n",
       "      <td>LHZR0</td>\n",
       "      <td>11.170835</td>\n",
       "      <td>-1.945066</td>\n",
       "      <td>3.002872</td>\n",
       "      <td>80.859783</td>\n",
       "    </tr>\n",
       "    <tr>\n",
       "      <th>41906</th>\n",
       "      <td>LHZR0</td>\n",
       "      <td>-8.989672</td>\n",
       "      <td>-4.286607</td>\n",
       "      <td>2.009139</td>\n",
       "      <td>57.085625</td>\n",
       "    </tr>\n",
       "    <tr>\n",
       "      <th>2721</th>\n",
       "      <td>bfPNe</td>\n",
       "      <td>-9.494442</td>\n",
       "      <td>-5.463692</td>\n",
       "      <td>4.006042</td>\n",
       "      <td>110.992147</td>\n",
       "    </tr>\n",
       "    <tr>\n",
       "      <th>82178</th>\n",
       "      <td>bfPNe</td>\n",
       "      <td>-6.202799</td>\n",
       "      <td>-4.820045</td>\n",
       "      <td>2.995107</td>\n",
       "      <td>84.038886</td>\n",
       "    </tr>\n",
       "    <tr>\n",
       "      <th>47591</th>\n",
       "      <td>wt4Uk</td>\n",
       "      <td>-9.091098</td>\n",
       "      <td>-8.109279</td>\n",
       "      <td>-0.002314</td>\n",
       "      <td>3.179103</td>\n",
       "    </tr>\n",
       "    <tr>\n",
       "      <th>82873</th>\n",
       "      <td>wt4Uk</td>\n",
       "      <td>10.259972</td>\n",
       "      <td>-9.376355</td>\n",
       "      <td>4.994297</td>\n",
       "      <td>134.766305</td>\n",
       "    </tr>\n",
       "  </tbody>\n",
       "</table>\n",
       "</div>"
      ],
      "text/plain": [
       "          id         f0         f1        f2     product\n",
       "5849   5ltQ6  -3.435401 -12.296043  1.999796   57.085625\n",
       "84461  5ltQ6  18.213839   2.191999  3.993869  107.813044\n",
       "1305   LHZR0  11.170835  -1.945066  3.002872   80.859783\n",
       "41906  LHZR0  -8.989672  -4.286607  2.009139   57.085625\n",
       "2721   bfPNe  -9.494442  -5.463692  4.006042  110.992147\n",
       "82178  bfPNe  -6.202799  -4.820045  2.995107   84.038886\n",
       "47591  wt4Uk  -9.091098  -8.109279 -0.002314    3.179103\n",
       "82873  wt4Uk  10.259972  -9.376355  4.994297  134.766305"
      ]
     },
     "metadata": {},
     "output_type": "display_data"
    },
    {
     "name": "stdout",
     "output_type": "stream",
     "text": [
      "                                             \n",
      "---------------------------------------------\n",
      "                                             \n",
      "Матрица корреляции: \n"
     ]
    },
    {
     "data": {
      "text/html": [
       "<style  type=\"text/css\" >\n",
       "#T_94240_row0_col0,#T_94240_row1_col1,#T_94240_row2_col2,#T_94240_row2_col3,#T_94240_row3_col2,#T_94240_row3_col3{\n",
       "            background-color:  #b40426;\n",
       "            color:  #f1f1f1;\n",
       "        }#T_94240_row0_col1{\n",
       "            background-color:  #779af7;\n",
       "            color:  #000000;\n",
       "        }#T_94240_row0_col2,#T_94240_row0_col3,#T_94240_row1_col2,#T_94240_row3_col0,#T_94240_row3_col1{\n",
       "            background-color:  #3b4cc0;\n",
       "            color:  #f1f1f1;\n",
       "        }#T_94240_row1_col0{\n",
       "            background-color:  #7da0f9;\n",
       "            color:  #000000;\n",
       "        }#T_94240_row1_col3{\n",
       "            background-color:  #4055c8;\n",
       "            color:  #f1f1f1;\n",
       "        }#T_94240_row2_col0{\n",
       "            background-color:  #4358cb;\n",
       "            color:  #f1f1f1;\n",
       "        }#T_94240_row2_col1{\n",
       "            background-color:  #3c4ec2;\n",
       "            color:  #f1f1f1;\n",
       "        }</style><table id=\"T_94240_\" ><thead>    <tr>        <th class=\"blank level0\" ></th>        <th class=\"col_heading level0 col0\" >f0</th>        <th class=\"col_heading level0 col1\" >f1</th>        <th class=\"col_heading level0 col2\" >f2</th>        <th class=\"col_heading level0 col3\" >product</th>    </tr></thead><tbody>\n",
       "                <tr>\n",
       "                        <th id=\"T_94240_level0_row0\" class=\"row_heading level0 row0\" >f0</th>\n",
       "                        <td id=\"T_94240_row0_col0\" class=\"data row0 col0\" >1.000000</td>\n",
       "                        <td id=\"T_94240_row0_col1\" class=\"data row0 col1\" >0.182287</td>\n",
       "                        <td id=\"T_94240_row0_col2\" class=\"data row0 col2\" >-0.001777</td>\n",
       "                        <td id=\"T_94240_row0_col3\" class=\"data row0 col3\" >-0.030491</td>\n",
       "            </tr>\n",
       "            <tr>\n",
       "                        <th id=\"T_94240_level0_row1\" class=\"row_heading level0 row1\" >f1</th>\n",
       "                        <td id=\"T_94240_row1_col0\" class=\"data row1 col0\" >0.182287</td>\n",
       "                        <td id=\"T_94240_row1_col1\" class=\"data row1 col1\" >1.000000</td>\n",
       "                        <td id=\"T_94240_row1_col2\" class=\"data row1 col2\" >-0.002595</td>\n",
       "                        <td id=\"T_94240_row1_col3\" class=\"data row1 col3\" >-0.010155</td>\n",
       "            </tr>\n",
       "            <tr>\n",
       "                        <th id=\"T_94240_level0_row2\" class=\"row_heading level0 row2\" >f2</th>\n",
       "                        <td id=\"T_94240_row2_col0\" class=\"data row2 col0\" >-0.001777</td>\n",
       "                        <td id=\"T_94240_row2_col1\" class=\"data row2 col1\" >-0.002595</td>\n",
       "                        <td id=\"T_94240_row2_col2\" class=\"data row2 col2\" >1.000000</td>\n",
       "                        <td id=\"T_94240_row2_col3\" class=\"data row2 col3\" >0.999397</td>\n",
       "            </tr>\n",
       "            <tr>\n",
       "                        <th id=\"T_94240_level0_row3\" class=\"row_heading level0 row3\" >product</th>\n",
       "                        <td id=\"T_94240_row3_col0\" class=\"data row3 col0\" >-0.030491</td>\n",
       "                        <td id=\"T_94240_row3_col1\" class=\"data row3 col1\" >-0.010155</td>\n",
       "                        <td id=\"T_94240_row3_col2\" class=\"data row3 col2\" >0.999397</td>\n",
       "                        <td id=\"T_94240_row3_col3\" class=\"data row3 col3\" >1.000000</td>\n",
       "            </tr>\n",
       "    </tbody></table>"
      ],
      "text/plain": [
       "<pandas.io.formats.style.Styler at 0x7f7627d90760>"
      ]
     },
     "metadata": {},
     "output_type": "display_data"
    },
    {
     "name": "stdout",
     "output_type": "stream",
     "text": [
      "---------------------------------------------\n"
     ]
    }
   ],
   "source": [
    "data_info(data_2, name='региона 2')"
   ]
  },
  {
   "cell_type": "code",
   "execution_count": 16,
   "metadata": {},
   "outputs": [
    {
     "name": "stdout",
     "output_type": "stream",
     "text": [
      "                                             \n",
      "---------------------------------------------\n",
      "Информация для региона 3\n",
      "---------------------------------------------\n"
     ]
    },
    {
     "data": {
      "text/html": [
       "<div>\n",
       "<style scoped>\n",
       "    .dataframe tbody tr th:only-of-type {\n",
       "        vertical-align: middle;\n",
       "    }\n",
       "\n",
       "    .dataframe tbody tr th {\n",
       "        vertical-align: top;\n",
       "    }\n",
       "\n",
       "    .dataframe thead th {\n",
       "        text-align: right;\n",
       "    }\n",
       "</style>\n",
       "<table border=\"1\" class=\"dataframe\">\n",
       "  <thead>\n",
       "    <tr style=\"text-align: right;\">\n",
       "      <th></th>\n",
       "      <th>id</th>\n",
       "      <th>f0</th>\n",
       "      <th>f1</th>\n",
       "      <th>f2</th>\n",
       "      <th>product</th>\n",
       "    </tr>\n",
       "  </thead>\n",
       "  <tbody>\n",
       "    <tr>\n",
       "      <th>0</th>\n",
       "      <td>fwXo0</td>\n",
       "      <td>-1.146987</td>\n",
       "      <td>0.963328</td>\n",
       "      <td>-0.828965</td>\n",
       "      <td>27.758673</td>\n",
       "    </tr>\n",
       "    <tr>\n",
       "      <th>1</th>\n",
       "      <td>WJtFt</td>\n",
       "      <td>0.262778</td>\n",
       "      <td>0.269839</td>\n",
       "      <td>-2.530187</td>\n",
       "      <td>56.069697</td>\n",
       "    </tr>\n",
       "    <tr>\n",
       "      <th>2</th>\n",
       "      <td>ovLUW</td>\n",
       "      <td>0.194587</td>\n",
       "      <td>0.289035</td>\n",
       "      <td>-5.586433</td>\n",
       "      <td>62.871910</td>\n",
       "    </tr>\n",
       "    <tr>\n",
       "      <th>3</th>\n",
       "      <td>q6cA6</td>\n",
       "      <td>2.236060</td>\n",
       "      <td>-0.553760</td>\n",
       "      <td>0.930038</td>\n",
       "      <td>114.572842</td>\n",
       "    </tr>\n",
       "    <tr>\n",
       "      <th>4</th>\n",
       "      <td>WPMUX</td>\n",
       "      <td>-0.515993</td>\n",
       "      <td>1.716266</td>\n",
       "      <td>5.899011</td>\n",
       "      <td>149.600746</td>\n",
       "    </tr>\n",
       "  </tbody>\n",
       "</table>\n",
       "</div>"
      ],
      "text/plain": [
       "      id        f0        f1        f2     product\n",
       "0  fwXo0 -1.146987  0.963328 -0.828965   27.758673\n",
       "1  WJtFt  0.262778  0.269839 -2.530187   56.069697\n",
       "2  ovLUW  0.194587  0.289035 -5.586433   62.871910\n",
       "3  q6cA6  2.236060 -0.553760  0.930038  114.572842\n",
       "4  WPMUX -0.515993  1.716266  5.899011  149.600746"
      ]
     },
     "metadata": {},
     "output_type": "display_data"
    },
    {
     "data": {
      "text/html": [
       "<div>\n",
       "<style scoped>\n",
       "    .dataframe tbody tr th:only-of-type {\n",
       "        vertical-align: middle;\n",
       "    }\n",
       "\n",
       "    .dataframe tbody tr th {\n",
       "        vertical-align: top;\n",
       "    }\n",
       "\n",
       "    .dataframe thead th {\n",
       "        text-align: right;\n",
       "    }\n",
       "</style>\n",
       "<table border=\"1\" class=\"dataframe\">\n",
       "  <thead>\n",
       "    <tr style=\"text-align: right;\">\n",
       "      <th></th>\n",
       "      <th>f0</th>\n",
       "      <th>f1</th>\n",
       "      <th>f2</th>\n",
       "      <th>product</th>\n",
       "    </tr>\n",
       "  </thead>\n",
       "  <tbody>\n",
       "    <tr>\n",
       "      <th>count</th>\n",
       "      <td>100000.000000</td>\n",
       "      <td>100000.000000</td>\n",
       "      <td>100000.000000</td>\n",
       "      <td>100000.000000</td>\n",
       "    </tr>\n",
       "    <tr>\n",
       "      <th>mean</th>\n",
       "      <td>0.002023</td>\n",
       "      <td>-0.002081</td>\n",
       "      <td>2.495128</td>\n",
       "      <td>95.000000</td>\n",
       "    </tr>\n",
       "    <tr>\n",
       "      <th>std</th>\n",
       "      <td>1.732045</td>\n",
       "      <td>1.730417</td>\n",
       "      <td>3.473445</td>\n",
       "      <td>44.749921</td>\n",
       "    </tr>\n",
       "    <tr>\n",
       "      <th>min</th>\n",
       "      <td>-8.760004</td>\n",
       "      <td>-7.084020</td>\n",
       "      <td>-11.970335</td>\n",
       "      <td>0.000000</td>\n",
       "    </tr>\n",
       "    <tr>\n",
       "      <th>25%</th>\n",
       "      <td>-1.162288</td>\n",
       "      <td>-1.174820</td>\n",
       "      <td>0.130359</td>\n",
       "      <td>59.450441</td>\n",
       "    </tr>\n",
       "    <tr>\n",
       "      <th>50%</th>\n",
       "      <td>0.009424</td>\n",
       "      <td>-0.009482</td>\n",
       "      <td>2.484236</td>\n",
       "      <td>94.925613</td>\n",
       "    </tr>\n",
       "    <tr>\n",
       "      <th>75%</th>\n",
       "      <td>1.158535</td>\n",
       "      <td>1.163678</td>\n",
       "      <td>4.858794</td>\n",
       "      <td>130.595027</td>\n",
       "    </tr>\n",
       "    <tr>\n",
       "      <th>max</th>\n",
       "      <td>7.238262</td>\n",
       "      <td>7.844801</td>\n",
       "      <td>16.739402</td>\n",
       "      <td>190.029838</td>\n",
       "    </tr>\n",
       "  </tbody>\n",
       "</table>\n",
       "</div>"
      ],
      "text/plain": [
       "                  f0             f1             f2        product\n",
       "count  100000.000000  100000.000000  100000.000000  100000.000000\n",
       "mean        0.002023      -0.002081       2.495128      95.000000\n",
       "std         1.732045       1.730417       3.473445      44.749921\n",
       "min        -8.760004      -7.084020     -11.970335       0.000000\n",
       "25%        -1.162288      -1.174820       0.130359      59.450441\n",
       "50%         0.009424      -0.009482       2.484236      94.925613\n",
       "75%         1.158535       1.163678       4.858794     130.595027\n",
       "max         7.238262       7.844801      16.739402     190.029838"
      ]
     },
     "metadata": {},
     "output_type": "display_data"
    },
    {
     "name": "stdout",
     "output_type": "stream",
     "text": [
      "<class 'pandas.core.frame.DataFrame'>\n",
      "RangeIndex: 100000 entries, 0 to 99999\n",
      "Data columns (total 5 columns):\n",
      " #   Column   Non-Null Count   Dtype  \n",
      "---  ------   --------------   -----  \n",
      " 0   id       100000 non-null  object \n",
      " 1   f0       100000 non-null  float64\n",
      " 2   f1       100000 non-null  float64\n",
      " 3   f2       100000 non-null  float64\n",
      " 4   product  100000 non-null  float64\n",
      "dtypes: float64(4), object(1)\n",
      "memory usage: 3.8+ MB\n"
     ]
    },
    {
     "data": {
      "text/plain": [
       "None"
      ]
     },
     "metadata": {},
     "output_type": "display_data"
    },
    {
     "name": "stdout",
     "output_type": "stream",
     "text": [
      "---------------------------------------------\n",
      "                                             \n",
      "Пропуски в данных:\n"
     ]
    },
    {
     "data": {
      "text/plain": [
       "id         0\n",
       "f0         0\n",
       "f1         0\n",
       "f2         0\n",
       "product    0\n",
       "dtype: int64"
      ]
     },
     "metadata": {},
     "output_type": "display_data"
    },
    {
     "name": "stdout",
     "output_type": "stream",
     "text": [
      "                                             \n",
      "Явные дубликаты: 0\n",
      "                                             \n",
      "Дубликаты id: 4\n"
     ]
    },
    {
     "data": {
      "text/html": [
       "<div>\n",
       "<style scoped>\n",
       "    .dataframe tbody tr th:only-of-type {\n",
       "        vertical-align: middle;\n",
       "    }\n",
       "\n",
       "    .dataframe tbody tr th {\n",
       "        vertical-align: top;\n",
       "    }\n",
       "\n",
       "    .dataframe thead th {\n",
       "        text-align: right;\n",
       "    }\n",
       "</style>\n",
       "<table border=\"1\" class=\"dataframe\">\n",
       "  <thead>\n",
       "    <tr style=\"text-align: right;\">\n",
       "      <th></th>\n",
       "      <th>id</th>\n",
       "      <th>f0</th>\n",
       "      <th>f1</th>\n",
       "      <th>f2</th>\n",
       "      <th>product</th>\n",
       "    </tr>\n",
       "  </thead>\n",
       "  <tbody>\n",
       "    <tr>\n",
       "      <th>45404</th>\n",
       "      <td>KUPhW</td>\n",
       "      <td>0.231846</td>\n",
       "      <td>-1.698941</td>\n",
       "      <td>4.990775</td>\n",
       "      <td>11.716299</td>\n",
       "    </tr>\n",
       "    <tr>\n",
       "      <th>55967</th>\n",
       "      <td>KUPhW</td>\n",
       "      <td>1.211150</td>\n",
       "      <td>3.176408</td>\n",
       "      <td>5.543540</td>\n",
       "      <td>132.831802</td>\n",
       "    </tr>\n",
       "    <tr>\n",
       "      <th>11449</th>\n",
       "      <td>VF7Jo</td>\n",
       "      <td>2.122656</td>\n",
       "      <td>-0.858275</td>\n",
       "      <td>5.746001</td>\n",
       "      <td>181.716817</td>\n",
       "    </tr>\n",
       "    <tr>\n",
       "      <th>49564</th>\n",
       "      <td>VF7Jo</td>\n",
       "      <td>-0.883115</td>\n",
       "      <td>0.560537</td>\n",
       "      <td>0.723601</td>\n",
       "      <td>136.233420</td>\n",
       "    </tr>\n",
       "    <tr>\n",
       "      <th>44378</th>\n",
       "      <td>Vcm5J</td>\n",
       "      <td>-1.229484</td>\n",
       "      <td>-2.439204</td>\n",
       "      <td>1.222909</td>\n",
       "      <td>137.968290</td>\n",
       "    </tr>\n",
       "    <tr>\n",
       "      <th>95090</th>\n",
       "      <td>Vcm5J</td>\n",
       "      <td>2.587702</td>\n",
       "      <td>1.986875</td>\n",
       "      <td>2.482245</td>\n",
       "      <td>92.327572</td>\n",
       "    </tr>\n",
       "    <tr>\n",
       "      <th>28039</th>\n",
       "      <td>xCHr8</td>\n",
       "      <td>1.633027</td>\n",
       "      <td>0.368135</td>\n",
       "      <td>-2.378367</td>\n",
       "      <td>6.120525</td>\n",
       "    </tr>\n",
       "    <tr>\n",
       "      <th>43233</th>\n",
       "      <td>xCHr8</td>\n",
       "      <td>-0.847066</td>\n",
       "      <td>2.101796</td>\n",
       "      <td>5.597130</td>\n",
       "      <td>184.388641</td>\n",
       "    </tr>\n",
       "  </tbody>\n",
       "</table>\n",
       "</div>"
      ],
      "text/plain": [
       "          id        f0        f1        f2     product\n",
       "45404  KUPhW  0.231846 -1.698941  4.990775   11.716299\n",
       "55967  KUPhW  1.211150  3.176408  5.543540  132.831802\n",
       "11449  VF7Jo  2.122656 -0.858275  5.746001  181.716817\n",
       "49564  VF7Jo -0.883115  0.560537  0.723601  136.233420\n",
       "44378  Vcm5J -1.229484 -2.439204  1.222909  137.968290\n",
       "95090  Vcm5J  2.587702  1.986875  2.482245   92.327572\n",
       "28039  xCHr8  1.633027  0.368135 -2.378367    6.120525\n",
       "43233  xCHr8 -0.847066  2.101796  5.597130  184.388641"
      ]
     },
     "metadata": {},
     "output_type": "display_data"
    },
    {
     "name": "stdout",
     "output_type": "stream",
     "text": [
      "                                             \n",
      "---------------------------------------------\n",
      "                                             \n",
      "Матрица корреляции: \n"
     ]
    },
    {
     "data": {
      "text/html": [
       "<style  type=\"text/css\" >\n",
       "#T_dc280_row0_col0,#T_dc280_row1_col1,#T_dc280_row2_col2,#T_dc280_row3_col3{\n",
       "            background-color:  #b40426;\n",
       "            color:  #f1f1f1;\n",
       "        }#T_dc280_row0_col1,#T_dc280_row0_col2,#T_dc280_row0_col3,#T_dc280_row1_col0,#T_dc280_row1_col2,#T_dc280_row1_col3,#T_dc280_row2_col0,#T_dc280_row2_col1,#T_dc280_row3_col0,#T_dc280_row3_col1{\n",
       "            background-color:  #3b4cc0;\n",
       "            color:  #f1f1f1;\n",
       "        }#T_dc280_row2_col3,#T_dc280_row3_col2{\n",
       "            background-color:  #cedaeb;\n",
       "            color:  #000000;\n",
       "        }</style><table id=\"T_dc280_\" ><thead>    <tr>        <th class=\"blank level0\" ></th>        <th class=\"col_heading level0 col0\" >f0</th>        <th class=\"col_heading level0 col1\" >f1</th>        <th class=\"col_heading level0 col2\" >f2</th>        <th class=\"col_heading level0 col3\" >product</th>    </tr></thead><tbody>\n",
       "                <tr>\n",
       "                        <th id=\"T_dc280_level0_row0\" class=\"row_heading level0 row0\" >f0</th>\n",
       "                        <td id=\"T_dc280_row0_col0\" class=\"data row0 col0\" >1.000000</td>\n",
       "                        <td id=\"T_dc280_row0_col1\" class=\"data row0 col1\" >0.000528</td>\n",
       "                        <td id=\"T_dc280_row0_col2\" class=\"data row0 col2\" >-0.000448</td>\n",
       "                        <td id=\"T_dc280_row0_col3\" class=\"data row0 col3\" >-0.001987</td>\n",
       "            </tr>\n",
       "            <tr>\n",
       "                        <th id=\"T_dc280_level0_row1\" class=\"row_heading level0 row1\" >f1</th>\n",
       "                        <td id=\"T_dc280_row1_col0\" class=\"data row1 col0\" >0.000528</td>\n",
       "                        <td id=\"T_dc280_row1_col1\" class=\"data row1 col1\" >1.000000</td>\n",
       "                        <td id=\"T_dc280_row1_col2\" class=\"data row1 col2\" >0.000779</td>\n",
       "                        <td id=\"T_dc280_row1_col3\" class=\"data row1 col3\" >-0.001012</td>\n",
       "            </tr>\n",
       "            <tr>\n",
       "                        <th id=\"T_dc280_level0_row2\" class=\"row_heading level0 row2\" >f2</th>\n",
       "                        <td id=\"T_dc280_row2_col0\" class=\"data row2 col0\" >-0.000448</td>\n",
       "                        <td id=\"T_dc280_row2_col1\" class=\"data row2 col1\" >0.000779</td>\n",
       "                        <td id=\"T_dc280_row2_col2\" class=\"data row2 col2\" >1.000000</td>\n",
       "                        <td id=\"T_dc280_row2_col3\" class=\"data row2 col3\" >0.445871</td>\n",
       "            </tr>\n",
       "            <tr>\n",
       "                        <th id=\"T_dc280_level0_row3\" class=\"row_heading level0 row3\" >product</th>\n",
       "                        <td id=\"T_dc280_row3_col0\" class=\"data row3 col0\" >-0.001987</td>\n",
       "                        <td id=\"T_dc280_row3_col1\" class=\"data row3 col1\" >-0.001012</td>\n",
       "                        <td id=\"T_dc280_row3_col2\" class=\"data row3 col2\" >0.445871</td>\n",
       "                        <td id=\"T_dc280_row3_col3\" class=\"data row3 col3\" >1.000000</td>\n",
       "            </tr>\n",
       "    </tbody></table>"
      ],
      "text/plain": [
       "<pandas.io.formats.style.Styler at 0x7f7627d90880>"
      ]
     },
     "metadata": {},
     "output_type": "display_data"
    },
    {
     "name": "stdout",
     "output_type": "stream",
     "text": [
      "---------------------------------------------\n"
     ]
    }
   ],
   "source": [
    "data_info(data_3, name='региона 3')"
   ]
  },
  {
   "cell_type": "markdown",
   "metadata": {},
   "source": [
    "\n",
    "Во всех трех датасетах нет пропусков в данных и категориальных признаков.   \n",
    "Есть повторяющиеся ```id``` скважин с разными характеристиками, при ближайшем рассмотрении в них записаны не похожие, но адекватные данные, как-будто от разных скважин.  Так как не понятно, какая запись верная, вторую дропну:"
   ]
  },
  {
   "cell_type": "code",
   "execution_count": 17,
   "metadata": {},
   "outputs": [
    {
     "data": {
      "text/plain": [
       "99990"
      ]
     },
     "execution_count": 17,
     "metadata": {},
     "output_type": "execute_result"
    }
   ],
   "source": [
    "data_1 = data_1.drop_duplicates(subset='id', keep='last')\n",
    "data_1.shape[0]"
   ]
  },
  {
   "cell_type": "code",
   "execution_count": 18,
   "metadata": {},
   "outputs": [
    {
     "data": {
      "text/plain": [
       "99996"
      ]
     },
     "execution_count": 18,
     "metadata": {},
     "output_type": "execute_result"
    },
    {
     "data": {
      "text/plain": [
       "99996"
      ]
     },
     "execution_count": 18,
     "metadata": {},
     "output_type": "execute_result"
    }
   ],
   "source": [
    "# Для остальных двух\n",
    "data_2 = data_2.drop_duplicates(subset='id', keep='first')\n",
    "data_2.shape[0]\n",
    "data_3 = data_3.drop_duplicates(subset='id', keep='first')\n",
    "data_3.shape[0]"
   ]
  },
  {
   "cell_type": "code",
   "execution_count": 19,
   "metadata": {},
   "outputs": [],
   "source": [
    "def visual(data, target, name, color):\n",
    "    print(f'Распределение {target} для {name}')\n",
    "    data[target].hist(color=color, bins=10, grid='True');"
   ]
  },
  {
   "cell_type": "code",
   "execution_count": 20,
   "metadata": {},
   "outputs": [
    {
     "name": "stdout",
     "output_type": "stream",
     "text": [
      "Распределение product для региона 1\n"
     ]
    },
    {
     "data": {
      "image/png": "[encoded data removed]",
      "text/plain": [
       "<Figure size 432x288 with 1 Axes>"
      ]
     },
     "metadata": {
      "needs_background": "light"
     },
     "output_type": "display_data"
    }
   ],
   "source": [
    "visual(data_1, target='product', name='региона 1', color='gray')"
   ]
  },
  {
   "cell_type": "code",
   "execution_count": 21,
   "metadata": {},
   "outputs": [
    {
     "name": "stdout",
     "output_type": "stream",
     "text": [
      "Распределение product для региона 2\n"
     ]
    },
    {
     "data": {
      "image/png": "[encoded data removed]",
      "text/plain": [
       "<Figure size 432x288 with 1 Axes>"
      ]
     },
     "metadata": {
      "needs_background": "light"
     },
     "output_type": "display_data"
    }
   ],
   "source": [
    "visual(data_2, target='product', name='региона 2', color='lightblue')"
   ]
  },
  {
   "cell_type": "code",
   "execution_count": 22,
   "metadata": {},
   "outputs": [
    {
     "name": "stdout",
     "output_type": "stream",
     "text": [
      "Распределение product для региона 3\n"
     ]
    },
    {
     "data": {
      "image/png": "[encoded data removed]",
      "text/plain": [
       "<Figure size 432x288 with 1 Axes>"
      ]
     },
     "metadata": {
      "needs_background": "light"
     },
     "output_type": "display_data"
    }
   ],
   "source": [
    "visual(data_3, target='product', name='региона 3', color = 'lightpink')"
   ]
  },
  {
   "cell_type": "markdown",
   "metadata": {},
   "source": [
    "Так как распределение региона 2 отличается от остальных, еще распределения признаков:"
   ]
  },
  {
   "cell_type": "code",
   "execution_count": 23,
   "metadata": {},
   "outputs": [
    {
     "data": {
      "image/png": "[encoded data removed]",
      "text/plain": [
       "<Figure size 720x720 with 4 Axes>"
      ]
     },
     "metadata": {
      "needs_background": "light"
     },
     "output_type": "display_data"
    }
   ],
   "source": [
    "list2 = ['f0', 'f1', 'f2']\n",
    "data_2[list2].hist(bins = 10, color = 'lightblue', figsize=(10,10));"
   ]
  },
  {
   "cell_type": "markdown",
   "metadata": {},
   "source": [
    " \n",
    "При первом просмотре можно сказать, что регион 2 отличается от 1го и 3го и значениями ```f```, и их соотношением между собой.   "
   ]
  },
  {
   "cell_type": "markdown",
   "metadata": {},
   "source": [
    "---\n",
    "\n",
    "Мой target в этой задаче - стобец ```product```, ```f``` это мои features, ```id``` для обучения модели не нужен, убираю его из данных и разбиваю их на выборки:"
   ]
  },
  {
   "cell_type": "code",
   "execution_count": 24,
   "metadata": {},
   "outputs": [
    {
     "data": {
      "text/html": [
       "<div>\n",
       "<style scoped>\n",
       "    .dataframe tbody tr th:only-of-type {\n",
       "        vertical-align: middle;\n",
       "    }\n",
       "\n",
       "    .dataframe tbody tr th {\n",
       "        vertical-align: top;\n",
       "    }\n",
       "\n",
       "    .dataframe thead th {\n",
       "        text-align: right;\n",
       "    }\n",
       "</style>\n",
       "<table border=\"1\" class=\"dataframe\">\n",
       "  <thead>\n",
       "    <tr style=\"text-align: right;\">\n",
       "      <th></th>\n",
       "      <th>f0</th>\n",
       "      <th>f1</th>\n",
       "      <th>f2</th>\n",
       "      <th>product</th>\n",
       "    </tr>\n",
       "  </thead>\n",
       "  <tbody>\n",
       "    <tr>\n",
       "      <th>0</th>\n",
       "      <td>0.705745</td>\n",
       "      <td>-0.497823</td>\n",
       "      <td>1.221170</td>\n",
       "      <td>105.280062</td>\n",
       "    </tr>\n",
       "    <tr>\n",
       "      <th>1</th>\n",
       "      <td>1.334711</td>\n",
       "      <td>-0.340164</td>\n",
       "      <td>4.365080</td>\n",
       "      <td>73.037750</td>\n",
       "    </tr>\n",
       "    <tr>\n",
       "      <th>2</th>\n",
       "      <td>1.022732</td>\n",
       "      <td>0.151990</td>\n",
       "      <td>1.419926</td>\n",
       "      <td>85.265647</td>\n",
       "    </tr>\n",
       "    <tr>\n",
       "      <th>3</th>\n",
       "      <td>-0.032172</td>\n",
       "      <td>0.139033</td>\n",
       "      <td>2.978566</td>\n",
       "      <td>168.620776</td>\n",
       "    </tr>\n",
       "    <tr>\n",
       "      <th>4</th>\n",
       "      <td>1.988431</td>\n",
       "      <td>0.155413</td>\n",
       "      <td>4.751769</td>\n",
       "      <td>154.036647</td>\n",
       "    </tr>\n",
       "  </tbody>\n",
       "</table>\n",
       "</div>"
      ],
      "text/plain": [
       "         f0        f1        f2     product\n",
       "0  0.705745 -0.497823  1.221170  105.280062\n",
       "1  1.334711 -0.340164  4.365080   73.037750\n",
       "2  1.022732  0.151990  1.419926   85.265647\n",
       "3 -0.032172  0.139033  2.978566  168.620776\n",
       "4  1.988431  0.155413  4.751769  154.036647"
      ]
     },
     "execution_count": 24,
     "metadata": {},
     "output_type": "execute_result"
    }
   ],
   "source": [
    "data_1 = data_1.drop(['id'], axis = 1)\n",
    "data_2 = data_2.drop(['id'], axis = 1)\n",
    "data_3 = data_3.drop(['id'], axis = 1)\n",
    "data_1.head()"
   ]
  },
  {
   "cell_type": "code",
   "execution_count": 25,
   "metadata": {},
   "outputs": [],
   "source": [
    "def data_split(data):\n",
    "    features = data.drop(['product'], axis = 1)\n",
    "    target = data['product']\n",
    "    features_train, features_valid, target_train, target_valid = train_test_split(\n",
    "        features, target, test_size=0.25, random_state=12345)\n",
    "    return features_train, target_train, features_valid, target_valid, features, target"
   ]
  },
  {
   "cell_type": "code",
   "execution_count": 26,
   "metadata": {},
   "outputs": [
    {
     "name": "stdout",
     "output_type": "stream",
     "text": [
      "<class 'pandas.core.frame.DataFrame'>\n",
      "Int64Index: 74992 entries, 75170 to 86507\n",
      "Data columns (total 3 columns):\n",
      " #   Column  Non-Null Count  Dtype  \n",
      "---  ------  --------------  -----  \n",
      " 0   f0      74992 non-null  float64\n",
      " 1   f1      74992 non-null  float64\n",
      " 2   f2      74992 non-null  float64\n",
      "dtypes: float64(3)\n",
      "memory usage: 2.3 MB\n"
     ]
    },
    {
     "data": {
      "text/plain": [
       "24998"
      ]
     },
     "execution_count": 26,
     "metadata": {},
     "output_type": "execute_result"
    }
   ],
   "source": [
    "# Разобью на выборки\n",
    "features_train1, target_train1, features_valid1, target_valid1, features1, target1 = data_split(data_1)\n",
    "features_train1.info()\n",
    "features_valid1.shape[0]\n"
   ]
  },
  {
   "cell_type": "code",
   "execution_count": 27,
   "metadata": {},
   "outputs": [],
   "source": [
    "# Для двух других регионов\n",
    "features_train2, target_train2, features_valid2, target_valid2, features2, target2 = data_split(data_2)\n",
    "features_train3, target_train3, features_valid3, target_valid3, features3, target3 = data_split(data_3)"
   ]
  },
  {
   "cell_type": "markdown",
   "metadata": {},
   "source": [
    "## Обучение и проверка модели\n",
    "\n",
    "По условию задачи для обучения модели подходит только линейная регрессия (остальные — недостаточно предсказуемые).   \n",
    "Буду обучать её:"
   ]
  },
  {
   "cell_type": "code",
   "execution_count": 28,
   "metadata": {},
   "outputs": [],
   "source": [
    "def data_model(features_train, target_train, features_valid, target_valid, features, target, name):\n",
    "    model = LinearRegression();\n",
    "    model.fit(features_train, target_train)\n",
    "    \n",
    "    predictions_valid = model.predict(features_valid)\n",
    "    predictions_valid = pd.Series(predictions_valid)   \n",
    "    \n",
    "    predictions = model.predict(features)\n",
    "    predictions = pd.Series(predictions)\n",
    "    \n",
    "    print('Для региона', name)\n",
    "    print('---'*16)\n",
    "    print('RMSE:', mean_squared_error(target_valid, predictions_valid)**0.5)\n",
    "    print('R2:', r2_score(target_valid, predictions_valid))    \n",
    "    print('Средний запас предсказанного сырья:', predictions_valid.mean())\n",
    "    \n",
    "    return model, predictions, predictions_valid"
   ]
  },
  {
   "cell_type": "code",
   "execution_count": 29,
   "metadata": {},
   "outputs": [
    {
     "name": "stdout",
     "output_type": "stream",
     "text": [
      "Для региона 1\n",
      "------------------------------------------------\n",
      "RMSE: 37.92658327086352\n",
      "R2: 0.2686065064871146\n",
      "Средний запас предсказанного сырья: 92.59581533981104\n"
     ]
    }
   ],
   "source": [
    "model1, predictions1, predictions1_valid = data_model(\n",
    "    features_train1, target_train1, features_valid1, target_valid1, features1, target1, name='1')"
   ]
  },
  {
   "cell_type": "code",
   "execution_count": 30,
   "metadata": {},
   "outputs": [
    {
     "name": "stdout",
     "output_type": "stream",
     "text": [
      "Для региона 2\n",
      "------------------------------------------------\n",
      "RMSE: 0.892059264771703\n",
      "R2: 0.9996222988190184\n",
      "Средний запас предсказанного сырья: 69.17831957030432\n"
     ]
    }
   ],
   "source": [
    "model2, predictions2, predictions2_valid = data_model(\n",
    "    features_train2, target_train2, features_valid2, target_valid2, features2, target2, name='2')"
   ]
  },
  {
   "cell_type": "code",
   "execution_count": 31,
   "metadata": {},
   "outputs": [
    {
     "name": "stdout",
     "output_type": "stream",
     "text": [
      "Для региона 3\n",
      "------------------------------------------------\n",
      "RMSE: 40.07585073246016\n",
      "R2: 0.19556241810202346\n",
      "Средний запас предсказанного сырья: 94.86572480562035\n"
     ]
    }
   ],
   "source": [
    "model3, predictions3, predictions3_valid = data_model(\n",
    "    features_train3, target_train3, features_valid3, target_valid3, features3, target3, name='3')"
   ]
  },
  {
   "cell_type": "code",
   "execution_count": null,
   "metadata": {},
   "outputs": [],
   "source": []
  },
  {
   "cell_type": "markdown",
   "metadata": {},
   "source": [
    "Модель для второго региона получилась единственной с хорошими показателями R2 и RMSE."
   ]
  },
  {
   "cell_type": "markdown",
   "metadata": {},
   "source": [
    "## Подготовка к расчёту прибыли"
   ]
  },
  {
   "cell_type": "markdown",
   "metadata": {},
   "source": [
    "Шаги для выбора локации обычно такие:   \n",
    "- В избранном регионе собирают характеристики для скважин: качество нефти и объём её запасов;\n",
    "- Строят модель для предсказания объёма запасов в новых скважинах;\n",
    "- Выбирают скважины с самыми высокими оценками значений;\n",
    "- Определяют регион с максимальной суммарной прибылью отобранных скважин.\n",
    "\n",
    "Условия задачи:  \n",
    "- Для обучения модели подходит только линейная регрессия (остальные — недостаточно предсказуемые).\n",
    "- При разведке региона исследуют 500 точек, из которых с помощью машинного обучения выбирают 200 лучших для разработки.\n",
    "- Бюджет на разработку скважин в регионе — 10 млрд рублей.\n",
    "- При нынешних ценах один баррель сырья приносит 450 рублей дохода. Доход с каждой единицы продукта составляет 450 тыс. рублей, поскольку объём указан в тысячах баррелей.\n",
    "- После оценки рисков нужно оставить лишь те регионы, в которых вероятность убытков меньше 2.5%. Среди них выбирают регион с наибольшей средней прибылью."
   ]
  },
  {
   "cell_type": "markdown",
   "metadata": {},
   "source": [
    "Чтобы бурение было не убыточным в топ 200 скважинах должно быть:\n",
    "\n"
   ]
  },
  {
   "cell_type": "code",
   "execution_count": 32,
   "metadata": {},
   "outputs": [
    {
     "name": "stdout",
     "output_type": "stream",
     "text": [
      "Достаточное среднее количество нефти для отсутствия убытков: 111.11\n"
     ]
    }
   ],
   "source": [
    "# Для расчета достаточного количества нефти\n",
    "def product_ammount(budget, barrel_price, quantity):\n",
    "    return budget / (barrel_price * quantity)\n",
    "\n",
    "budget = 10000000000\n",
    "price = 450000\n",
    "boreholes = 200\n",
    "\n",
    "product_per_borehole = round(product_ammount(budget, price, boreholes), 2)\n",
    "print('Достаточное среднее количество нефти для отсутствия убытков:', product_per_borehole)"
   ]
  },
  {
   "cell_type": "code",
   "execution_count": 33,
   "metadata": {},
   "outputs": [],
   "source": [
    "# Выбрать 500 точек с лучшими предсказаниями:\n",
    "def top_ids(model, features, count):\n",
    "    predictions = model.predict(features)\n",
    "    predictions = pd.Series(predictions)\n",
    "    predictions_sorted = predictions.sort_values(ascending=False)[:count]\n",
    "    \n",
    "    return predictions_sorted"
   ]
  },
  {
   "cell_type": "code",
   "execution_count": 34,
   "metadata": {},
   "outputs": [
    {
     "name": "stdout",
     "output_type": "stream",
     "text": [
      "В 500 лучших точках по предсказаниям модели:\n",
      "1го региона в среднем: 158.1531108639809\n",
      "2го региона в среднем: 138.89479069360306\n",
      "3го региона в среднем: 147.82720397098313\n"
     ]
    }
   ],
   "source": [
    "print('В 500 лучших точках по предсказаниям модели:')\n",
    "\n",
    "predictions_1_500 = top_ids(model1, features1, 500)\n",
    "print('1го региона в среднем:', predictions_1_500.mean())\n",
    "\n",
    "predictions_2_500 = top_ids(model2, features2, 500)\n",
    "print('2го региона в среднем:', predictions_2_500.mean())\n",
    "\n",
    "predictions_3_500 = top_ids(model3, features1, 500)\n",
    "print('3го региона в среднем:', predictions_3_500.mean())"
   ]
  },
  {
   "cell_type": "markdown",
   "metadata": {},
   "source": [
    "**Промежуточный вывод:**  "
   ]
  },
  {
   "cell_type": "markdown",
   "metadata": {},
   "source": [
    "Хотя текущие средние значения ожидаемого запаса сырья могут показывать недостаточный запас в каждом регионе, это не означает, что проект следует прекращать. Можно увидеть, что при выборе лучших точек для разработки на основе признаков скважин можно выбрать точки с количеством продукта превышающим достаточное для получения прибыли.  \n",
    "\n",
    "Процесс бутстрапирования позволит оценить прибыль и риски работы в каждом регионе путем случайного выбора точек для анализа. Это поможет получить представление о потенциале разработки и рисках, связанных с нехваткой запаса сырья.\n"
   ]
  },
  {
   "cell_type": "markdown",
   "metadata": {},
   "source": [
    "## Расчёт прибыли и рисков "
   ]
  },
  {
   "cell_type": "markdown",
   "metadata": {},
   "source": [
    "Нужно:  \n",
    "- Выбрать скважины с максимальными значениями предсказаний. (200)  \n",
    "- Просуммировать целевое значение объёма сырья, соответствующее этим предсказаниям.   \n",
    "- Рассчитать прибыль для полученного объёма сырья.   "
   ]
  },
  {
   "cell_type": "markdown",
   "metadata": {},
   "source": [
    "---"
   ]
  },
  {
   "cell_type": "code",
   "execution_count": 35,
   "metadata": {},
   "outputs": [],
   "source": [
    "# Прибыль (млрд)\n",
    "def revenue(target, predictions, price, count, budget): \n",
    "    \n",
    "    target = target.reset_index(drop=True)\n",
    "    predictions = predictions.reset_index(drop=True)\n",
    "    \n",
    "    predictions_sorted = predictions.sort_values(ascending=False)[:count]    \n",
    "    select = target[predictions_sorted.index]    \n",
    "    return (select.sum()*price - budget) / 10000000000"
   ]
  },
  {
   "cell_type": "code",
   "execution_count": 36,
   "metadata": {
    "scrolled": true
   },
   "outputs": [
    {
     "name": "stdout",
     "output_type": "stream",
     "text": [
      "Для регионов 1,2,3 прибыль в 200 лучших точках на основе предсказаний:\n"
     ]
    },
    {
     "data": {
      "text/plain": [
       "0.299008453521183"
      ]
     },
     "execution_count": 36,
     "metadata": {},
     "output_type": "execute_result"
    },
    {
     "data": {
      "text/plain": [
       "0.2415086696681511"
      ]
     },
     "execution_count": 36,
     "metadata": {},
     "output_type": "execute_result"
    },
    {
     "data": {
      "text/plain": [
       "0.25012838532820625"
      ]
     },
     "execution_count": 36,
     "metadata": {},
     "output_type": "execute_result"
    }
   ],
   "source": [
    "print('Для регионов 1,2,3 прибыль в 200 лучших точках на основе предсказаний:')\n",
    "revenue(target_valid1, predictions1_valid, price, boreholes, budget)\n",
    "revenue(target_valid2, predictions2_valid, price, boreholes, budget)\n",
    "revenue(target_valid3, predictions3_valid, price, boreholes, budget)"
   ]
  },
  {
   "cell_type": "markdown",
   "metadata": {},
   "source": [
    "Если посчитать прибыль с лучших скважин всех трех регионов, третий уже выглядит прибыльным\n",
    "\n",
    "## Посчитайте риски и прибыль для каждого региона"
   ]
  },
  {
   "cell_type": "markdown",
   "metadata": {},
   "source": [
    "Риски и прибыль для каждого региона:  \n",
    "- Применить технику Bootstrap с 1000 выборок, чтобы найти распределение прибыли.  \n",
    "- Найти среднюю прибыль, 95%-й доверительный интервал и риск убытков.   "
   ]
  },
  {
   "cell_type": "code",
   "execution_count": 42,
   "metadata": {},
   "outputs": [
    {
     "name": "stdout",
     "output_type": "stream",
     "text": [
      "Для региона №1\n",
      "Средняя выручка: 0.04146500266259523\n",
      "Риск убытков: 5.5 %\n",
      "95% доверительный интервал: (0.03986966814996241, 0.04306033717522805)\n",
      "---------------------------------------------\n",
      "Для региона №2\n",
      "Средняя выручка: 0.04729762735690099\n",
      "Риск убытков: 1.2 %\n",
      "95% доверительный интервал: (0.046033341693934735, 0.048561913019867245)\n",
      "---------------------------------------------\n",
      "Для региона №3\n",
      "Средняя выручка: 0.033772962676639304\n",
      "Риск убытков: 11.1 %\n",
      "95% доверительный интервал: (0.03213149990841071, 0.0354144254448679)\n",
      "---------------------------------------------\n"
     ]
    }
   ],
   "source": [
    "# \n",
    "state = np.random.RandomState(42)\n",
    "n_iterations = 1000\n",
    "bootstrap_quant = 0.025\n",
    "quantity = 500\n",
    "holes_count = 200\n",
    "\n",
    "def bootstrap_data(target, predictions, price, count, budget, name):\n",
    "    \n",
    "    values = []    \n",
    "    target = target.reset_index(drop=True)\n",
    "      \n",
    "    for i in range(n_iterations):\n",
    "        target_subsample = target.sample(n=quantity, replace=True, random_state=state)\n",
    "        predictions_subsample = predictions[target_subsample.index]\n",
    "        \n",
    "        values.append(revenue(target_subsample, predictions_subsample, price, holes_count, budget))\n",
    "        \n",
    "\n",
    "    values = pd.Series(values)\n",
    "    lower = values.quantile(0.025) \n",
    "    mean = values.mean()\n",
    "    confidence_interval = st.t.interval(\n",
    "        alpha = 0.95, df = len(values) - 1, loc = mean, scale = values.sem() )\n",
    "    values_negative = (values[values < 0].count()/values.count())*100\n",
    "    \n",
    "    print('Для региона', name)\n",
    "    print(\"Средняя выручка:\", mean)\n",
    "    print(f'Риск убытков: {values_negative} %')\n",
    "    print('95% доверительный интервал:', confidence_interval)\n",
    "    \n",
    "    print('---'*15)        \n",
    "        \n",
    "    \n",
    "bootstrap_data(target_valid1, predictions1_valid, price, holes_count, budget, name='№1') \n",
    "bootstrap_data(target_valid2, predictions2_valid, price, holes_count, budget, name='№2') \n",
    "bootstrap_data(target_valid3, predictions3_valid, price, holes_count, budget, name='№3') "
   ]
  },
  {
   "cell_type": "markdown",
   "metadata": {},
   "source": [
    "## Вывод\n",
    "\n",
    "**Дано:** Данные геологоразведки трёх регионов;\n",
    "\n",
    "**Задача:** Решить, в каком регионе бурить новую скважину.  \n",
    "\n",
    "---\n",
    "\n",
    "Задача решалась в несколько основных шагов:  \n",
    "\n",
    "- Подготовка данных (в данном случае был удален один столбец с id);\n",
    "- Разбитие данных для каждого региона на обучающую и валидационную выборки;\n",
    "- Обучение трех моделей линейной регрессии для каждого региона;\n",
    "- Расчёт предполагаемой прибыли из 200 лучших месторождений на основе предсказаний;\n",
    "- Выбор одного из регионов как самого прибыльного для нефтедобычи.\n",
    "\n",
    "---\n",
    "\n",
    "**Ход работы:**  \n",
    "\n",
    "В ходе работы были получены три модели, однако хороших показателей r2 и rmse удалось достичь только у одной из них - в регионе 2.  \n",
    "После выбора лучших 200 месторождений, среднее ожидаемое количество в них нефти получилось следующим:\n",
    "\n",
    "|регион|количество нефти|ожидаемая прибыль|риск убытков|\n",
    "|---|---|---|--|\n",
    "|№1|157.76 тыс|0.04 млн|5.5%|\n",
    "|№2|138.90 тыс|0.04 млн|1.2%|\n",
    "|№3|147.24 тыс|0.03 млн|11.1%|\n",
    "\n",
    "**Вывод:** Единственным регионом, прошедним проверку на пригодность (удовлетворяющим условию \"риск убытков менее 2.5%\"), в ходе работы стал 2ой регион"
   ]
  }
 ],
 "metadata": {
  "ExecuteTimeLog": [
   {
    "duration": 46,
    "start_time": "2023-08-03T12:08:39.996Z"
   },
   {
    "duration": 395,
    "start_time": "2023-08-03T12:08:42.731Z"
   },
   {
    "duration": 2548,
    "start_time": "2023-08-03T12:08:43.361Z"
   },
   {
    "duration": 16,
    "start_time": "2023-08-03T12:09:46.816Z"
   },
   {
    "duration": 13,
    "start_time": "2023-08-03T12:09:56.298Z"
   },
   {
    "duration": 10,
    "start_time": "2023-08-03T12:10:07.199Z"
   },
   {
    "duration": 43,
    "start_time": "2023-08-03T12:10:45.660Z"
   },
   {
    "duration": 12,
    "start_time": "2023-08-03T12:10:52.268Z"
   },
   {
    "duration": 3,
    "start_time": "2023-08-03T12:12:27.691Z"
   },
   {
    "duration": 17,
    "start_time": "2023-08-03T12:12:32.759Z"
   },
   {
    "duration": 21,
    "start_time": "2023-08-03T12:12:44.715Z"
   },
   {
    "duration": 3,
    "start_time": "2023-08-03T12:17:51.187Z"
   },
   {
    "duration": 45,
    "start_time": "2023-08-03T12:18:18.954Z"
   },
   {
    "duration": 2,
    "start_time": "2023-08-03T12:18:32.988Z"
   },
   {
    "duration": 92,
    "start_time": "2023-08-03T12:18:34.575Z"
   },
   {
    "duration": 34,
    "start_time": "2023-08-03T12:18:53.037Z"
   },
   {
    "duration": 5,
    "start_time": "2023-08-03T12:19:59.085Z"
   },
   {
    "duration": 35,
    "start_time": "2023-08-03T12:19:59.561Z"
   },
   {
    "duration": 3,
    "start_time": "2023-08-03T12:20:11.604Z"
   },
   {
    "duration": 40,
    "start_time": "2023-08-03T12:20:13.826Z"
   },
   {
    "duration": 3,
    "start_time": "2023-08-03T12:20:16.907Z"
   },
   {
    "duration": 51,
    "start_time": "2023-08-03T12:20:17.250Z"
   },
   {
    "duration": 68,
    "start_time": "2023-08-03T12:20:42.123Z"
   },
   {
    "duration": 3,
    "start_time": "2023-08-03T12:22:21.330Z"
   },
   {
    "duration": 118,
    "start_time": "2023-08-03T12:22:23.462Z"
   },
   {
    "duration": 3,
    "start_time": "2023-08-03T12:22:33.908Z"
   },
   {
    "duration": 74,
    "start_time": "2023-08-03T12:22:36.486Z"
   },
   {
    "duration": 80,
    "start_time": "2023-08-03T12:23:18.642Z"
   },
   {
    "duration": 34,
    "start_time": "2023-08-03T12:23:46.921Z"
   },
   {
    "duration": 85,
    "start_time": "2023-08-03T12:24:00.746Z"
   },
   {
    "duration": 89,
    "start_time": "2023-08-03T12:24:07.188Z"
   },
   {
    "duration": 93,
    "start_time": "2023-08-03T12:24:22.797Z"
   },
   {
    "duration": 3,
    "start_time": "2023-08-03T16:34:34.266Z"
   },
   {
    "duration": 85,
    "start_time": "2023-08-03T16:34:36.256Z"
   },
   {
    "duration": 3,
    "start_time": "2023-08-03T16:34:47.209Z"
   },
   {
    "duration": 148,
    "start_time": "2023-08-03T16:34:47.765Z"
   },
   {
    "duration": 3,
    "start_time": "2023-08-03T16:35:11.934Z"
   },
   {
    "duration": 35,
    "start_time": "2023-08-03T16:35:12.463Z"
   },
   {
    "duration": 4,
    "start_time": "2023-08-03T16:35:59.720Z"
   },
   {
    "duration": 33,
    "start_time": "2023-08-03T16:36:04.346Z"
   },
   {
    "duration": 3,
    "start_time": "2023-08-03T16:36:13.499Z"
   },
   {
    "duration": 118,
    "start_time": "2023-08-03T16:36:13.930Z"
   },
   {
    "duration": 4,
    "start_time": "2023-08-03T16:36:51.725Z"
   },
   {
    "duration": 207,
    "start_time": "2023-08-03T16:36:52.226Z"
   },
   {
    "duration": 3,
    "start_time": "2023-08-03T16:37:01.900Z"
   },
   {
    "duration": 3,
    "start_time": "2023-08-03T16:37:31.447Z"
   },
   {
    "duration": 4,
    "start_time": "2023-08-03T16:37:39.735Z"
   },
   {
    "duration": 187,
    "start_time": "2023-08-03T16:37:40.237Z"
   },
   {
    "duration": 6,
    "start_time": "2023-08-03T16:37:51.488Z"
   },
   {
    "duration": 133,
    "start_time": "2023-08-03T16:37:53.164Z"
   },
   {
    "duration": 4,
    "start_time": "2023-08-03T16:39:15.901Z"
   },
   {
    "duration": 166,
    "start_time": "2023-08-03T16:39:16.445Z"
   },
   {
    "duration": 4,
    "start_time": "2023-08-03T16:40:28.095Z"
   },
   {
    "duration": 147,
    "start_time": "2023-08-03T16:40:28.695Z"
   },
   {
    "duration": 4,
    "start_time": "2023-08-03T16:42:17.938Z"
   },
   {
    "duration": 116,
    "start_time": "2023-08-03T16:42:18.372Z"
   },
   {
    "duration": 4,
    "start_time": "2023-08-03T16:48:53.658Z"
   },
   {
    "duration": 105,
    "start_time": "2023-08-03T16:48:54.493Z"
   },
   {
    "duration": 126,
    "start_time": "2023-08-03T16:49:19.648Z"
   },
   {
    "duration": 29,
    "start_time": "2023-08-03T16:50:39.899Z"
   },
   {
    "duration": 85,
    "start_time": "2023-08-03T16:51:15.742Z"
   },
   {
    "duration": 106,
    "start_time": "2023-08-03T16:51:16.405Z"
   },
   {
    "duration": 2,
    "start_time": "2023-08-03T16:51:59.134Z"
   },
   {
    "duration": 65,
    "start_time": "2023-08-03T16:52:03.016Z"
   },
   {
    "duration": 61,
    "start_time": "2023-08-03T16:52:09.332Z"
   },
   {
    "duration": 65,
    "start_time": "2023-08-03T16:52:12.218Z"
   },
   {
    "duration": 2,
    "start_time": "2023-08-03T16:52:17.730Z"
   },
   {
    "duration": 3,
    "start_time": "2023-08-03T16:52:42.153Z"
   },
   {
    "duration": 4,
    "start_time": "2023-08-03T16:52:51.212Z"
   },
   {
    "duration": 19,
    "start_time": "2023-08-03T16:52:54.056Z"
   },
   {
    "duration": 11,
    "start_time": "2023-08-03T16:53:13.066Z"
   },
   {
    "duration": 4,
    "start_time": "2023-08-03T16:53:14.543Z"
   },
   {
    "duration": 12,
    "start_time": "2023-08-03T16:53:15.135Z"
   },
   {
    "duration": 3,
    "start_time": "2023-08-03T16:53:22.345Z"
   },
   {
    "duration": 105,
    "start_time": "2023-08-03T16:53:22.693Z"
   },
   {
    "duration": 4,
    "start_time": "2023-08-03T16:59:06.830Z"
   },
   {
    "duration": 112,
    "start_time": "2023-08-03T16:59:07.314Z"
   },
   {
    "duration": 4,
    "start_time": "2023-08-04T05:48:57.476Z"
   },
   {
    "duration": 185,
    "start_time": "2023-08-04T05:48:58.098Z"
   },
   {
    "duration": 4,
    "start_time": "2023-08-04T05:49:31.048Z"
   },
   {
    "duration": 221,
    "start_time": "2023-08-04T05:49:31.430Z"
   },
   {
    "duration": 413,
    "start_time": "2023-08-04T05:55:49.861Z"
   },
   {
    "duration": 3,
    "start_time": "2023-08-04T05:55:50.277Z"
   },
   {
    "duration": 1295,
    "start_time": "2023-08-04T05:56:19.028Z"
   },
   {
    "duration": 292,
    "start_time": "2023-08-04T05:56:58.530Z"
   },
   {
    "duration": 376,
    "start_time": "2023-08-04T05:57:33.927Z"
   },
   {
    "duration": 342,
    "start_time": "2023-08-04T05:57:42.165Z"
   },
   {
    "duration": 11,
    "start_time": "2023-08-04T05:58:17.189Z"
   },
   {
    "duration": 358,
    "start_time": "2023-08-04T05:58:22.239Z"
   },
   {
    "duration": 13,
    "start_time": "2023-08-04T06:04:40.241Z"
   },
   {
    "duration": 14,
    "start_time": "2023-08-04T06:04:46.964Z"
   },
   {
    "duration": 393,
    "start_time": "2023-08-04T06:04:58.007Z"
   },
   {
    "duration": 235,
    "start_time": "2023-08-04T06:04:58.403Z"
   },
   {
    "duration": 3,
    "start_time": "2023-08-04T06:04:58.640Z"
   },
   {
    "duration": 375,
    "start_time": "2023-08-04T06:04:58.644Z"
   },
   {
    "duration": 4,
    "start_time": "2023-08-04T06:04:59.021Z"
   },
   {
    "duration": 265,
    "start_time": "2023-08-04T06:04:59.026Z"
   },
   {
    "duration": 367,
    "start_time": "2023-08-04T06:04:59.292Z"
   },
   {
    "duration": 30,
    "start_time": "2023-08-04T06:04:59.660Z"
   },
   {
    "duration": 702,
    "start_time": "2023-08-04T06:07:44.678Z"
   },
   {
    "duration": 4,
    "start_time": "2023-08-04T06:10:38.150Z"
   },
   {
    "duration": 119,
    "start_time": "2023-08-04T06:11:54.216Z"
   },
   {
    "duration": 3,
    "start_time": "2023-08-04T06:12:19.682Z"
   },
   {
    "duration": 18,
    "start_time": "2023-08-04T06:12:20.117Z"
   },
   {
    "duration": 16,
    "start_time": "2023-08-04T06:12:55.010Z"
   },
   {
    "duration": 23,
    "start_time": "2023-08-04T06:18:13.627Z"
   },
   {
    "duration": 22,
    "start_time": "2023-08-04T06:18:33.502Z"
   },
   {
    "duration": 20,
    "start_time": "2023-08-04T06:20:44.522Z"
   },
   {
    "duration": 2,
    "start_time": "2023-08-04T06:21:05.087Z"
   },
   {
    "duration": 92,
    "start_time": "2023-08-04T06:23:30.187Z"
   },
   {
    "duration": 2,
    "start_time": "2023-08-04T06:23:45.734Z"
   },
   {
    "duration": 19,
    "start_time": "2023-08-04T06:24:00.015Z"
   },
   {
    "duration": 21,
    "start_time": "2023-08-04T06:25:40.602Z"
   },
   {
    "duration": 27,
    "start_time": "2023-08-04T06:26:04.608Z"
   },
   {
    "duration": 22,
    "start_time": "2023-08-04T06:26:08.917Z"
   },
   {
    "duration": 22,
    "start_time": "2023-08-04T06:26:35.826Z"
   },
   {
    "duration": 17,
    "start_time": "2023-08-04T06:28:06.010Z"
   },
   {
    "duration": 24,
    "start_time": "2023-08-04T06:31:58.658Z"
   },
   {
    "duration": 4,
    "start_time": "2023-08-04T06:34:26.569Z"
   },
   {
    "duration": 15,
    "start_time": "2023-08-04T06:35:02.391Z"
   },
   {
    "duration": 41,
    "start_time": "2023-08-04T06:35:43.772Z"
   },
   {
    "duration": 21,
    "start_time": "2023-08-04T06:35:44.275Z"
   },
   {
    "duration": 3,
    "start_time": "2023-08-04T06:45:13.397Z"
   },
   {
    "duration": 13,
    "start_time": "2023-08-04T06:45:13.917Z"
   },
   {
    "duration": 14,
    "start_time": "2023-08-04T06:45:14.364Z"
   },
   {
    "duration": 15,
    "start_time": "2023-08-04T06:45:14.847Z"
   },
   {
    "duration": 18,
    "start_time": "2023-08-04T06:56:48.084Z"
   },
   {
    "duration": 1094,
    "start_time": "2023-08-04T06:56:56.643Z"
   },
   {
    "duration": 4,
    "start_time": "2023-08-04T06:57:28.395Z"
   },
   {
    "duration": 179,
    "start_time": "2023-08-04T06:57:30.596Z"
   },
   {
    "duration": 48,
    "start_time": "2023-08-04T06:57:36.172Z"
   },
   {
    "duration": 4,
    "start_time": "2023-08-04T09:11:47.352Z"
   },
   {
    "duration": 90,
    "start_time": "2023-08-04T09:11:47.884Z"
   },
   {
    "duration": 14,
    "start_time": "2023-08-04T09:11:52.324Z"
   },
   {
    "duration": 14,
    "start_time": "2023-08-04T09:11:53.209Z"
   },
   {
    "duration": 3,
    "start_time": "2023-08-04T09:12:03.737Z"
   },
   {
    "duration": 14,
    "start_time": "2023-08-04T09:12:04.089Z"
   },
   {
    "duration": 18,
    "start_time": "2023-08-04T09:12:04.481Z"
   },
   {
    "duration": 17,
    "start_time": "2023-08-04T09:12:04.887Z"
   },
   {
    "duration": 4,
    "start_time": "2023-08-04T09:13:35.174Z"
   },
   {
    "duration": 4,
    "start_time": "2023-08-04T09:14:01.360Z"
   },
   {
    "duration": 110,
    "start_time": "2023-08-04T09:14:01.869Z"
   },
   {
    "duration": 4,
    "start_time": "2023-08-04T09:14:09.727Z"
   },
   {
    "duration": 5,
    "start_time": "2023-08-04T09:14:47.541Z"
   },
   {
    "duration": 48,
    "start_time": "2023-08-04T09:14:47.730Z"
   },
   {
    "duration": 5,
    "start_time": "2023-08-04T09:15:51.349Z"
   },
   {
    "duration": 13,
    "start_time": "2023-08-04T09:15:51.806Z"
   },
   {
    "duration": 5,
    "start_time": "2023-08-04T09:16:00.718Z"
   },
   {
    "duration": 58,
    "start_time": "2023-08-04T09:16:01.391Z"
   },
   {
    "duration": 21,
    "start_time": "2023-08-04T09:16:05.700Z"
   },
   {
    "duration": 5,
    "start_time": "2023-08-04T09:16:11.357Z"
   },
   {
    "duration": 1449,
    "start_time": "2023-08-04T09:16:11.743Z"
   },
   {
    "duration": 30,
    "start_time": "2023-08-04T09:16:53.259Z"
   },
   {
    "duration": 5,
    "start_time": "2023-08-04T09:16:55.583Z"
   },
   {
    "duration": 1328,
    "start_time": "2023-08-04T09:16:56.056Z"
   },
   {
    "duration": 100,
    "start_time": "2023-08-04T09:16:57.392Z"
   },
   {
    "duration": 1246,
    "start_time": "2023-08-04T09:17:19.632Z"
   },
   {
    "duration": 1797,
    "start_time": "2023-08-04T09:17:20.886Z"
   },
   {
    "duration": 6,
    "start_time": "2023-08-04T09:18:37.711Z"
   },
   {
    "duration": 1052,
    "start_time": "2023-08-04T09:18:38.144Z"
   },
   {
    "duration": 1291,
    "start_time": "2023-08-04T09:18:39.283Z"
   },
   {
    "duration": 1403,
    "start_time": "2023-08-04T09:18:40.576Z"
   },
   {
    "duration": 4,
    "start_time": "2023-08-04T09:19:57.411Z"
   },
   {
    "duration": 1864,
    "start_time": "2023-08-04T09:19:57.928Z"
   },
   {
    "duration": 1932,
    "start_time": "2023-08-04T09:20:00.355Z"
   },
   {
    "duration": 1286,
    "start_time": "2023-08-04T09:20:02.291Z"
   },
   {
    "duration": 5,
    "start_time": "2023-08-04T09:20:16.814Z"
   },
   {
    "duration": 1262,
    "start_time": "2023-08-04T09:20:17.322Z"
   },
   {
    "duration": 1225,
    "start_time": "2023-08-04T09:20:19.253Z"
   },
   {
    "duration": 1808,
    "start_time": "2023-08-04T09:20:20.484Z"
   },
   {
    "duration": 4,
    "start_time": "2023-08-04T09:21:47.030Z"
   },
   {
    "duration": 1318,
    "start_time": "2023-08-04T09:21:47.464Z"
   },
   {
    "duration": 1091,
    "start_time": "2023-08-04T09:21:48.787Z"
   },
   {
    "duration": 1194,
    "start_time": "2023-08-04T09:21:49.880Z"
   },
   {
    "duration": 6,
    "start_time": "2023-08-04T09:25:46.662Z"
   },
   {
    "duration": 3405,
    "start_time": "2023-08-04T09:25:47.181Z"
   },
   {
    "duration": 7,
    "start_time": "2023-08-04T09:26:09.643Z"
   },
   {
    "duration": 2276,
    "start_time": "2023-08-04T09:26:10.505Z"
   },
   {
    "duration": 2251,
    "start_time": "2023-08-04T09:28:06.231Z"
   },
   {
    "duration": 3700,
    "start_time": "2023-08-04T09:28:09.275Z"
   },
   {
    "duration": 6,
    "start_time": "2023-08-04T09:28:30.495Z"
   },
   {
    "duration": 1721,
    "start_time": "2023-08-04T09:28:30.960Z"
   },
   {
    "duration": 2134,
    "start_time": "2023-08-04T09:28:34.448Z"
   },
   {
    "duration": 2006,
    "start_time": "2023-08-04T09:28:36.584Z"
   },
   {
    "duration": 4,
    "start_time": "2023-08-04T09:34:46.478Z"
   },
   {
    "duration": 6,
    "start_time": "2023-08-04T09:34:52.240Z"
   },
   {
    "duration": 7,
    "start_time": "2023-08-04T09:42:01.294Z"
   },
   {
    "duration": 2823,
    "start_time": "2023-08-04T09:42:01.756Z"
   },
   {
    "duration": 2598,
    "start_time": "2023-08-04T09:42:06.179Z"
   },
   {
    "duration": 1762,
    "start_time": "2023-08-04T09:42:10.128Z"
   },
   {
    "duration": 72,
    "start_time": "2023-08-04T09:49:47.073Z"
   },
   {
    "duration": 67,
    "start_time": "2023-08-04T09:49:52.583Z"
   },
   {
    "duration": 2491,
    "start_time": "2023-08-04T09:49:58.708Z"
   },
   {
    "duration": 2495,
    "start_time": "2023-08-04T09:50:36.182Z"
   },
   {
    "duration": 8,
    "start_time": "2023-08-04T09:51:10.642Z"
   },
   {
    "duration": 2665,
    "start_time": "2023-08-04T09:51:11.128Z"
   },
   {
    "duration": 2383,
    "start_time": "2023-08-04T09:51:42.906Z"
   },
   {
    "duration": 1995,
    "start_time": "2023-08-04T09:52:49.692Z"
   },
   {
    "duration": 6,
    "start_time": "2023-08-04T09:53:32.990Z"
   },
   {
    "duration": 2454,
    "start_time": "2023-08-04T09:53:33.519Z"
   },
   {
    "duration": 8,
    "start_time": "2023-08-04T09:54:08.370Z"
   },
   {
    "duration": 10,
    "start_time": "2023-08-04T09:54:32.953Z"
   },
   {
    "duration": 28,
    "start_time": "2023-08-04T09:55:18.449Z"
   },
   {
    "duration": 9,
    "start_time": "2023-08-04T09:55:36.256Z"
   },
   {
    "duration": 3,
    "start_time": "2023-08-04T10:05:19.434Z"
   },
   {
    "duration": 91,
    "start_time": "2023-08-04T10:05:57.195Z"
   },
   {
    "duration": 4,
    "start_time": "2023-08-04T10:08:12.603Z"
   },
   {
    "duration": 220,
    "start_time": "2023-08-04T10:08:13.090Z"
   },
   {
    "duration": 3,
    "start_time": "2023-08-04T10:08:23.044Z"
   },
   {
    "duration": 196,
    "start_time": "2023-08-04T10:08:23.628Z"
   },
   {
    "duration": 3,
    "start_time": "2023-08-04T10:08:33.510Z"
   },
   {
    "duration": 201,
    "start_time": "2023-08-04T10:08:34.023Z"
   },
   {
    "duration": 3,
    "start_time": "2023-08-04T10:08:49.606Z"
   },
   {
    "duration": 224,
    "start_time": "2023-08-04T10:08:50.050Z"
   },
   {
    "duration": 4,
    "start_time": "2023-08-04T10:09:23.940Z"
   },
   {
    "duration": 3,
    "start_time": "2023-08-04T10:09:29.015Z"
   },
   {
    "duration": 247,
    "start_time": "2023-08-04T10:09:29.372Z"
   },
   {
    "duration": 3,
    "start_time": "2023-08-04T10:09:45.435Z"
   },
   {
    "duration": 247,
    "start_time": "2023-08-04T10:09:45.853Z"
   },
   {
    "duration": 3,
    "start_time": "2023-08-04T10:09:53.381Z"
   },
   {
    "duration": 260,
    "start_time": "2023-08-04T10:09:53.774Z"
   },
   {
    "duration": 3,
    "start_time": "2023-08-04T10:10:31.153Z"
   },
   {
    "duration": 200,
    "start_time": "2023-08-04T10:10:31.618Z"
   },
   {
    "duration": 650,
    "start_time": "2023-08-04T10:14:13.975Z"
   },
   {
    "duration": 647,
    "start_time": "2023-08-04T10:15:36.571Z"
   },
   {
    "duration": 3,
    "start_time": "2023-08-04T10:17:01.812Z"
   },
   {
    "duration": 3,
    "start_time": "2023-08-04T10:18:48.178Z"
   },
   {
    "duration": 585,
    "start_time": "2023-08-04T10:18:48.736Z"
   },
   {
    "duration": 3,
    "start_time": "2023-08-04T10:21:31.481Z"
   },
   {
    "duration": 4,
    "start_time": "2023-08-04T10:22:06.544Z"
   },
   {
    "duration": 4,
    "start_time": "2023-08-04T10:24:35.024Z"
   },
   {
    "duration": 5,
    "start_time": "2023-08-04T10:24:35.507Z"
   },
   {
    "duration": 3,
    "start_time": "2023-08-04T10:24:48.604Z"
   },
   {
    "duration": 4,
    "start_time": "2023-08-04T10:25:08.538Z"
   },
   {
    "duration": 4,
    "start_time": "2023-08-04T10:25:15.404Z"
   },
   {
    "duration": 4,
    "start_time": "2023-08-04T10:29:30.092Z"
   },
   {
    "duration": 12,
    "start_time": "2023-08-04T11:30:24.342Z"
   },
   {
    "duration": 3,
    "start_time": "2023-08-04T11:31:22.709Z"
   },
   {
    "duration": 9,
    "start_time": "2023-08-04T11:31:23.587Z"
   },
   {
    "duration": 3,
    "start_time": "2023-08-04T11:31:33.327Z"
   },
   {
    "duration": 104,
    "start_time": "2023-08-04T11:31:46.209Z"
   },
   {
    "duration": 4,
    "start_time": "2023-08-04T11:32:12.923Z"
   },
   {
    "duration": 5,
    "start_time": "2023-08-04T11:32:13.322Z"
   },
   {
    "duration": 498,
    "start_time": "2023-08-04T15:06:34.444Z"
   },
   {
    "duration": 11,
    "start_time": "2023-08-04T15:12:11.014Z"
   },
   {
    "duration": 3,
    "start_time": "2023-08-04T15:12:27.868Z"
   },
   {
    "duration": 14,
    "start_time": "2023-08-04T15:12:30.451Z"
   },
   {
    "duration": 102,
    "start_time": "2023-08-04T15:12:35.549Z"
   },
   {
    "duration": 131,
    "start_time": "2023-08-04T15:12:43.746Z"
   },
   {
    "duration": 122,
    "start_time": "2023-08-04T15:15:52.470Z"
   },
   {
    "duration": 3,
    "start_time": "2023-08-04T15:16:16.029Z"
   },
   {
    "duration": 5,
    "start_time": "2023-08-04T15:16:16.507Z"
   },
   {
    "duration": 4,
    "start_time": "2023-08-04T15:21:20.911Z"
   },
   {
    "duration": 3,
    "start_time": "2023-08-04T15:21:24.167Z"
   },
   {
    "duration": 4,
    "start_time": "2023-08-04T15:21:24.568Z"
   },
   {
    "duration": 8,
    "start_time": "2023-08-04T15:21:48.499Z"
   },
   {
    "duration": 107,
    "start_time": "2023-08-04T15:22:08.535Z"
   },
   {
    "duration": 6,
    "start_time": "2023-08-04T15:28:01.801Z"
   },
   {
    "duration": 5,
    "start_time": "2023-08-04T15:28:39.899Z"
   },
   {
    "duration": 119,
    "start_time": "2023-08-04T15:28:40.321Z"
   },
   {
    "duration": 5,
    "start_time": "2023-08-04T15:29:04.433Z"
   },
   {
    "duration": 298,
    "start_time": "2023-08-04T15:29:04.752Z"
   },
   {
    "duration": 120,
    "start_time": "2023-08-04T15:29:55.995Z"
   },
   {
    "duration": 116,
    "start_time": "2023-08-04T15:30:04.263Z"
   },
   {
    "duration": 287,
    "start_time": "2023-08-04T15:30:31.867Z"
   },
   {
    "duration": 266,
    "start_time": "2023-08-04T15:32:54.721Z"
   },
   {
    "duration": 8,
    "start_time": "2023-08-04T15:35:01.915Z"
   },
   {
    "duration": 4,
    "start_time": "2023-08-04T15:37:53.655Z"
   },
   {
    "duration": 243,
    "start_time": "2023-08-04T15:37:54.151Z"
   },
   {
    "duration": 3,
    "start_time": "2023-08-04T15:39:24.158Z"
   },
   {
    "duration": 5,
    "start_time": "2023-08-04T15:40:15.965Z"
   },
   {
    "duration": 286,
    "start_time": "2023-08-04T15:40:16.620Z"
   },
   {
    "duration": 5,
    "start_time": "2023-08-04T15:40:34.909Z"
   },
   {
    "duration": 250,
    "start_time": "2023-08-04T15:40:35.417Z"
   },
   {
    "duration": 6,
    "start_time": "2023-08-04T15:41:15.859Z"
   },
   {
    "duration": 254,
    "start_time": "2023-08-04T15:41:16.288Z"
   },
   {
    "duration": 495,
    "start_time": "2023-08-04T15:46:50.989Z"
   },
   {
    "duration": 297,
    "start_time": "2023-08-04T15:47:43.935Z"
   },
   {
    "duration": 5,
    "start_time": "2023-08-04T15:55:46.045Z"
   },
   {
    "duration": 292,
    "start_time": "2023-08-04T15:55:47.734Z"
   },
   {
    "duration": 4,
    "start_time": "2023-08-04T16:30:04.553Z"
   },
   {
    "duration": 4,
    "start_time": "2023-08-04T16:30:47.306Z"
   },
   {
    "duration": 462,
    "start_time": "2023-08-04T16:30:47.600Z"
   },
   {
    "duration": 3,
    "start_time": "2023-08-04T16:32:01.827Z"
   },
   {
    "duration": 202,
    "start_time": "2023-08-04T16:32:03.132Z"
   },
   {
    "duration": 3,
    "start_time": "2023-08-04T16:33:36.512Z"
   },
   {
    "duration": 231,
    "start_time": "2023-08-04T16:33:38.200Z"
   },
   {
    "duration": 3,
    "start_time": "2023-08-04T16:34:36.254Z"
   },
   {
    "duration": 239,
    "start_time": "2023-08-04T16:34:36.763Z"
   },
   {
    "duration": 3,
    "start_time": "2023-08-04T16:34:45.031Z"
   },
   {
    "duration": 217,
    "start_time": "2023-08-04T16:34:45.504Z"
   },
   {
    "duration": 391,
    "start_time": "2023-08-04T16:35:51.720Z"
   },
   {
    "duration": 307,
    "start_time": "2023-08-04T16:35:52.114Z"
   },
   {
    "duration": 2,
    "start_time": "2023-08-04T16:35:52.423Z"
   },
   {
    "duration": 791,
    "start_time": "2023-08-04T16:35:52.427Z"
   },
   {
    "duration": 21,
    "start_time": "2023-08-04T16:35:53.221Z"
   },
   {
    "duration": 3,
    "start_time": "2023-08-04T16:35:53.243Z"
   },
   {
    "duration": 14,
    "start_time": "2023-08-04T16:35:53.247Z"
   },
   {
    "duration": 22,
    "start_time": "2023-08-04T16:35:53.263Z"
   },
   {
    "duration": 5,
    "start_time": "2023-08-04T16:35:53.287Z"
   },
   {
    "duration": 452,
    "start_time": "2023-08-04T16:35:53.294Z"
   },
   {
    "duration": 4,
    "start_time": "2023-08-04T16:35:53.748Z"
   },
   {
    "duration": 271,
    "start_time": "2023-08-04T16:35:53.753Z"
   },
   {
    "duration": 441,
    "start_time": "2023-08-04T16:35:54.026Z"
   },
   {
    "duration": 36,
    "start_time": "2023-08-04T16:35:54.472Z"
   },
   {
    "duration": 5,
    "start_time": "2023-08-04T16:35:54.510Z"
   },
   {
    "duration": 88,
    "start_time": "2023-08-04T16:35:54.517Z"
   },
   {
    "duration": 28,
    "start_time": "2023-08-04T16:35:54.606Z"
   },
   {
    "duration": 4,
    "start_time": "2023-08-04T16:35:54.636Z"
   },
   {
    "duration": 2534,
    "start_time": "2023-08-04T16:35:54.642Z"
   },
   {
    "duration": 3000,
    "start_time": "2023-08-04T16:35:57.179Z"
   },
   {
    "duration": 2715,
    "start_time": "2023-08-04T16:36:00.182Z"
   },
   {
    "duration": 7,
    "start_time": "2023-08-04T16:36:02.975Z"
   },
   {
    "duration": 52,
    "start_time": "2023-08-04T16:36:02.984Z"
   },
   {
    "duration": 976,
    "start_time": "2023-08-04T16:36:03.037Z"
   },
   {
    "duration": 2,
    "start_time": "2023-08-04T16:36:04.015Z"
   },
   {
    "duration": 72,
    "start_time": "2023-08-04T16:36:04.019Z"
   },
   {
    "duration": 6,
    "start_time": "2023-08-04T16:36:04.094Z"
   },
   {
    "duration": 678,
    "start_time": "2023-08-04T16:36:04.102Z"
   },
   {
    "duration": 3,
    "start_time": "2023-08-04T16:37:16.531Z"
   },
   {
    "duration": 299,
    "start_time": "2023-08-04T16:37:19.229Z"
   },
   {
    "duration": 6,
    "start_time": "2023-08-04T16:40:11.763Z"
   },
   {
    "duration": 296,
    "start_time": "2023-08-04T16:40:12.210Z"
   },
   {
    "duration": 107,
    "start_time": "2023-08-04T16:40:49.447Z"
   },
   {
    "duration": 96,
    "start_time": "2023-08-04T16:41:43.434Z"
   },
   {
    "duration": 357,
    "start_time": "2023-08-04T16:41:47.916Z"
   },
   {
    "duration": 110,
    "start_time": "2023-08-04T16:42:14.769Z"
   },
   {
    "duration": 5,
    "start_time": "2023-08-04T16:42:35.741Z"
   },
   {
    "duration": 102,
    "start_time": "2023-08-04T16:42:36.145Z"
   },
   {
    "duration": 6,
    "start_time": "2023-08-04T16:48:22.316Z"
   },
   {
    "duration": 99,
    "start_time": "2023-08-04T16:48:22.763Z"
   },
   {
    "duration": 15,
    "start_time": "2023-08-04T16:48:48.874Z"
   },
   {
    "duration": 103,
    "start_time": "2023-08-04T16:48:49.467Z"
   },
   {
    "duration": 6,
    "start_time": "2023-08-04T16:49:20.046Z"
   },
   {
    "duration": 93,
    "start_time": "2023-08-04T16:49:20.548Z"
   },
   {
    "duration": 6,
    "start_time": "2023-08-04T16:49:45.302Z"
   },
   {
    "duration": 97,
    "start_time": "2023-08-04T16:49:45.994Z"
   },
   {
    "duration": 14,
    "start_time": "2023-08-04T16:49:50.076Z"
   },
   {
    "duration": 97,
    "start_time": "2023-08-04T16:49:51.735Z"
   },
   {
    "duration": 6,
    "start_time": "2023-08-04T16:50:14.324Z"
   },
   {
    "duration": 119,
    "start_time": "2023-08-04T16:50:14.635Z"
   },
   {
    "duration": 347,
    "start_time": "2023-08-04T16:50:30.409Z"
   },
   {
    "duration": 104,
    "start_time": "2023-08-04T16:50:53.223Z"
   },
   {
    "duration": 110,
    "start_time": "2023-08-04T16:50:56.769Z"
   },
   {
    "duration": 8,
    "start_time": "2023-08-04T16:51:02.782Z"
   },
   {
    "duration": 98,
    "start_time": "2023-08-04T16:51:03.210Z"
   },
   {
    "duration": 5,
    "start_time": "2023-08-04T16:51:16.261Z"
   },
   {
    "duration": 110,
    "start_time": "2023-08-04T16:51:16.524Z"
   },
   {
    "duration": 8,
    "start_time": "2023-08-04T16:51:32.269Z"
   },
   {
    "duration": 103,
    "start_time": "2023-08-04T16:51:32.660Z"
   },
   {
    "duration": 6,
    "start_time": "2023-08-04T16:53:46.437Z"
   },
   {
    "duration": 110,
    "start_time": "2023-08-04T16:53:47.045Z"
   },
   {
    "duration": 324,
    "start_time": "2023-08-04T16:53:51.591Z"
   },
   {
    "duration": 6,
    "start_time": "2023-08-04T16:53:59.900Z"
   },
   {
    "duration": 129,
    "start_time": "2023-08-04T16:54:00.426Z"
   },
   {
    "duration": 279,
    "start_time": "2023-08-04T16:54:01.262Z"
   },
   {
    "duration": 7,
    "start_time": "2023-08-04T16:56:51.299Z"
   },
   {
    "duration": 12,
    "start_time": "2023-08-04T16:57:00.426Z"
   },
   {
    "duration": 9,
    "start_time": "2023-08-04T16:57:16.460Z"
   },
   {
    "duration": 130,
    "start_time": "2023-08-04T16:57:30.528Z"
   },
   {
    "duration": 11,
    "start_time": "2023-08-04T17:01:57.000Z"
   },
   {
    "duration": 125,
    "start_time": "2023-08-04T17:02:02.139Z"
   },
   {
    "duration": 100,
    "start_time": "2023-08-04T17:02:08.352Z"
   },
   {
    "duration": 97,
    "start_time": "2023-08-04T17:02:14.196Z"
   },
   {
    "duration": 108,
    "start_time": "2023-08-04T17:02:18.503Z"
   },
   {
    "duration": 3,
    "start_time": "2023-08-04T17:06:30.347Z"
   },
   {
    "duration": 572,
    "start_time": "2023-08-04T17:08:56.746Z"
   },
   {
    "duration": 3,
    "start_time": "2023-08-04T17:09:56.930Z"
   },
   {
    "duration": 587,
    "start_time": "2023-08-04T17:09:57.449Z"
   },
   {
    "duration": 580,
    "start_time": "2023-08-04T17:10:12.855Z"
   },
   {
    "duration": 3,
    "start_time": "2023-08-04T17:12:59.611Z"
   },
   {
    "duration": 562,
    "start_time": "2023-08-04T17:13:04.750Z"
   },
   {
    "duration": 13,
    "start_time": "2023-08-04T17:13:23.620Z"
   },
   {
    "duration": 10,
    "start_time": "2023-08-04T17:13:38.325Z"
   },
   {
    "duration": 2,
    "start_time": "2023-08-04T17:13:40.095Z"
   },
   {
    "duration": 21,
    "start_time": "2023-08-04T17:13:40.405Z"
   },
   {
    "duration": 4,
    "start_time": "2023-08-04T17:14:11.609Z"
   },
   {
    "duration": 612,
    "start_time": "2023-08-04T17:14:12.015Z"
   },
   {
    "duration": 12,
    "start_time": "2023-08-04T17:14:44.868Z"
   },
   {
    "duration": 9,
    "start_time": "2023-08-04T17:14:49.439Z"
   },
   {
    "duration": 13,
    "start_time": "2023-08-04T17:15:11.700Z"
   },
   {
    "duration": 17,
    "start_time": "2023-08-04T17:15:14.887Z"
   },
   {
    "duration": 8,
    "start_time": "2023-08-04T17:17:03.598Z"
   },
   {
    "duration": 6,
    "start_time": "2023-08-04T17:17:10.801Z"
   },
   {
    "duration": 8,
    "start_time": "2023-08-04T17:17:14.603Z"
   },
   {
    "duration": 8,
    "start_time": "2023-08-04T17:17:20.728Z"
   },
   {
    "duration": 9,
    "start_time": "2023-08-04T17:18:10.697Z"
   },
   {
    "duration": 17,
    "start_time": "2023-08-04T17:18:12.822Z"
   },
   {
    "duration": 5,
    "start_time": "2023-08-04T17:18:25.352Z"
   },
   {
    "duration": 9,
    "start_time": "2023-08-04T17:18:29.899Z"
   },
   {
    "duration": 13,
    "start_time": "2023-08-04T17:18:41.498Z"
   },
   {
    "duration": 10,
    "start_time": "2023-08-04T17:19:55.260Z"
   },
   {
    "duration": 4,
    "start_time": "2023-08-04T17:19:58.687Z"
   },
   {
    "duration": 7,
    "start_time": "2023-08-04T17:19:59.050Z"
   },
   {
    "duration": 3,
    "start_time": "2023-08-04T17:20:13.748Z"
   },
   {
    "duration": 10,
    "start_time": "2023-08-04T17:20:14.068Z"
   },
   {
    "duration": 5,
    "start_time": "2023-08-04T17:20:36.020Z"
   },
   {
    "duration": 13,
    "start_time": "2023-08-04T17:20:36.932Z"
   },
   {
    "duration": 6,
    "start_time": "2023-08-04T17:20:50.059Z"
   },
   {
    "duration": 450,
    "start_time": "2023-08-04T17:20:50.449Z"
   },
   {
    "duration": 8,
    "start_time": "2023-08-04T17:21:27.309Z"
   },
   {
    "duration": 165,
    "start_time": "2023-08-04T17:21:32.200Z"
   },
   {
    "duration": 4,
    "start_time": "2023-08-04T17:24:19.751Z"
   },
   {
    "duration": 2369,
    "start_time": "2023-08-04T17:24:20.122Z"
   },
   {
    "duration": 6,
    "start_time": "2023-08-04T17:25:02.094Z"
   },
   {
    "duration": 2356,
    "start_time": "2023-08-04T17:25:02.722Z"
   },
   {
    "duration": 145,
    "start_time": "2023-08-04T17:25:54.449Z"
   },
   {
    "duration": 155,
    "start_time": "2023-08-04T17:27:11.865Z"
   },
   {
    "duration": 20,
    "start_time": "2023-08-04T17:27:25.691Z"
   },
   {
    "duration": 148,
    "start_time": "2023-08-04T17:27:38.349Z"
   },
   {
    "duration": 380,
    "start_time": "2023-08-04T17:27:58.137Z"
   },
   {
    "duration": 250,
    "start_time": "2023-08-04T17:27:58.519Z"
   },
   {
    "duration": 5,
    "start_time": "2023-08-04T17:27:58.771Z"
   },
   {
    "duration": 744,
    "start_time": "2023-08-04T17:27:58.781Z"
   },
   {
    "duration": 20,
    "start_time": "2023-08-04T17:27:59.527Z"
   },
   {
    "duration": 2,
    "start_time": "2023-08-04T17:27:59.549Z"
   },
   {
    "duration": 7,
    "start_time": "2023-08-04T17:27:59.552Z"
   },
   {
    "duration": 3,
    "start_time": "2023-08-04T17:27:59.560Z"
   },
   {
    "duration": 3,
    "start_time": "2023-08-04T17:27:59.574Z"
   },
   {
    "duration": 9,
    "start_time": "2023-08-04T17:27:59.579Z"
   },
   {
    "duration": 418,
    "start_time": "2023-08-04T17:27:59.590Z"
   },
   {
    "duration": 3,
    "start_time": "2023-08-04T17:28:00.010Z"
   },
   {
    "duration": 281,
    "start_time": "2023-08-04T17:28:00.015Z"
   },
   {
    "duration": 446,
    "start_time": "2023-08-04T17:28:00.299Z"
   },
   {
    "duration": 32,
    "start_time": "2023-08-04T17:28:00.747Z"
   },
   {
    "duration": 9,
    "start_time": "2023-08-04T17:28:00.781Z"
   },
   {
    "duration": 97,
    "start_time": "2023-08-04T17:28:00.792Z"
   },
   {
    "duration": 35,
    "start_time": "2023-08-04T17:28:00.891Z"
   },
   {
    "duration": 20,
    "start_time": "2023-08-04T17:28:00.928Z"
   },
   {
    "duration": 2954,
    "start_time": "2023-08-04T17:28:00.950Z"
   },
   {
    "duration": 2516,
    "start_time": "2023-08-04T17:28:03.978Z"
   },
   {
    "duration": 2612,
    "start_time": "2023-08-04T17:28:06.575Z"
   },
   {
    "duration": 8,
    "start_time": "2023-08-04T17:28:09.189Z"
   },
   {
    "duration": 7,
    "start_time": "2023-08-04T17:28:09.200Z"
   },
   {
    "duration": 417,
    "start_time": "2023-08-04T17:28:09.212Z"
   },
   {
    "duration": 0,
    "start_time": "2023-08-04T17:28:09.630Z"
   },
   {
    "duration": 0,
    "start_time": "2023-08-04T17:28:09.631Z"
   },
   {
    "duration": 0,
    "start_time": "2023-08-04T17:28:09.632Z"
   },
   {
    "duration": 0,
    "start_time": "2023-08-04T17:28:09.634Z"
   },
   {
    "duration": 622,
    "start_time": "2023-08-04T17:28:38.302Z"
   },
   {
    "duration": 3,
    "start_time": "2023-08-04T17:28:51.971Z"
   },
   {
    "duration": 7,
    "start_time": "2023-08-04T17:28:52.695Z"
   },
   {
    "duration": 8,
    "start_time": "2023-08-04T17:29:10.199Z"
   },
   {
    "duration": 8,
    "start_time": "2023-08-04T17:29:10.813Z"
   },
   {
    "duration": 431,
    "start_time": "2023-08-04T17:29:20.465Z"
   },
   {
    "duration": 433,
    "start_time": "2023-08-04T17:48:32.963Z"
   },
   {
    "duration": 265,
    "start_time": "2023-08-04T17:48:33.398Z"
   },
   {
    "duration": 3,
    "start_time": "2023-08-04T17:48:33.664Z"
   },
   {
    "duration": 774,
    "start_time": "2023-08-04T17:48:33.668Z"
   },
   {
    "duration": 20,
    "start_time": "2023-08-04T17:48:34.444Z"
   },
   {
    "duration": 3,
    "start_time": "2023-08-04T17:48:34.465Z"
   },
   {
    "duration": 26,
    "start_time": "2023-08-04T17:48:34.469Z"
   },
   {
    "duration": 3,
    "start_time": "2023-08-04T17:48:34.497Z"
   },
   {
    "duration": 4,
    "start_time": "2023-08-04T17:48:34.502Z"
   },
   {
    "duration": 5,
    "start_time": "2023-08-04T17:48:34.507Z"
   },
   {
    "duration": 413,
    "start_time": "2023-08-04T17:48:34.514Z"
   },
   {
    "duration": 4,
    "start_time": "2023-08-04T17:48:34.928Z"
   },
   {
    "duration": 253,
    "start_time": "2023-08-04T17:48:34.933Z"
   },
   {
    "duration": 392,
    "start_time": "2023-08-04T17:48:35.189Z"
   },
   {
    "duration": 26,
    "start_time": "2023-08-04T17:48:35.582Z"
   },
   {
    "duration": 6,
    "start_time": "2023-08-04T17:48:35.610Z"
   },
   {
    "duration": 81,
    "start_time": "2023-08-04T17:48:35.618Z"
   },
   {
    "duration": 25,
    "start_time": "2023-08-04T17:48:35.700Z"
   },
   {
    "duration": 8,
    "start_time": "2023-08-04T17:48:35.727Z"
   },
   {
    "duration": 2563,
    "start_time": "2023-08-04T17:48:35.737Z"
   },
   {
    "duration": 2298,
    "start_time": "2023-08-04T17:48:38.306Z"
   },
   {
    "duration": 2475,
    "start_time": "2023-08-04T17:48:40.607Z"
   },
   {
    "duration": 22,
    "start_time": "2023-08-04T17:48:43.084Z"
   },
   {
    "duration": 82,
    "start_time": "2023-08-04T17:48:43.110Z"
   },
   {
    "duration": 751,
    "start_time": "2023-08-04T17:48:43.194Z"
   },
   {
    "duration": 3,
    "start_time": "2023-08-04T17:48:43.947Z"
   },
   {
    "duration": 38,
    "start_time": "2023-08-04T17:48:43.951Z"
   },
   {
    "duration": 9,
    "start_time": "2023-08-04T17:48:43.991Z"
   },
   {
    "duration": 409,
    "start_time": "2023-08-04T17:48:44.002Z"
   },
   {
    "duration": 3,
    "start_time": "2023-08-04T17:52:06.499Z"
   },
   {
    "duration": 122,
    "start_time": "2023-08-04T17:52:07.094Z"
   },
   {
    "duration": 6,
    "start_time": "2023-08-04T17:52:45.190Z"
   },
   {
    "duration": 26,
    "start_time": "2023-08-04T17:52:45.860Z"
   },
   {
    "duration": 4,
    "start_time": "2023-08-04T17:53:19.548Z"
   },
   {
    "duration": 19,
    "start_time": "2023-08-04T17:53:20.226Z"
   },
   {
    "duration": 71,
    "start_time": "2023-08-04T17:53:33.502Z"
   },
   {
    "duration": 19,
    "start_time": "2023-08-04T17:53:33.902Z"
   },
   {
    "duration": 3,
    "start_time": "2023-08-04T17:53:38.959Z"
   },
   {
    "duration": 13,
    "start_time": "2023-08-04T17:53:39.702Z"
   },
   {
    "duration": 4,
    "start_time": "2023-08-04T17:53:55.599Z"
   },
   {
    "duration": 16,
    "start_time": "2023-08-04T17:53:55.993Z"
   },
   {
    "duration": 90,
    "start_time": "2023-08-04T17:56:19.288Z"
   },
   {
    "duration": 18,
    "start_time": "2023-08-04T17:56:51.482Z"
   },
   {
    "duration": 4,
    "start_time": "2023-08-04T17:56:52.999Z"
   },
   {
    "duration": 8,
    "start_time": "2023-08-04T17:56:55.921Z"
   },
   {
    "duration": 231,
    "start_time": "2023-08-04T17:57:24.410Z"
   },
   {
    "duration": 239,
    "start_time": "2023-08-04T17:58:04.892Z"
   },
   {
    "duration": 379,
    "start_time": "2023-08-04T17:58:24.600Z"
   },
   {
    "duration": 300,
    "start_time": "2023-08-04T17:58:31.592Z"
   },
   {
    "duration": 293,
    "start_time": "2023-08-04T17:58:43.611Z"
   },
   {
    "duration": 86,
    "start_time": "2023-08-04T17:59:58.200Z"
   },
   {
    "duration": 22,
    "start_time": "2023-08-04T18:00:02.307Z"
   },
   {
    "duration": 25,
    "start_time": "2023-08-04T18:00:37.456Z"
   },
   {
    "duration": 56,
    "start_time": "2023-08-04T18:01:18.427Z"
   },
   {
    "duration": 53,
    "start_time": "2023-08-04T18:01:23.631Z"
   },
   {
    "duration": 76,
    "start_time": "2023-08-04T18:01:51.999Z"
   },
   {
    "duration": 46,
    "start_time": "2023-08-04T18:01:58.627Z"
   },
   {
    "duration": 56,
    "start_time": "2023-08-04T18:02:15.222Z"
   },
   {
    "duration": 74,
    "start_time": "2023-08-04T18:02:27.207Z"
   },
   {
    "duration": 102,
    "start_time": "2023-08-04T18:04:01.828Z"
   },
   {
    "duration": 10,
    "start_time": "2023-08-04T18:04:07.122Z"
   },
   {
    "duration": 176,
    "start_time": "2023-08-04T18:04:19.304Z"
   },
   {
    "duration": 26,
    "start_time": "2023-08-04T18:04:28.059Z"
   },
   {
    "duration": 89,
    "start_time": "2023-08-04T18:04:37.109Z"
   },
   {
    "duration": 85,
    "start_time": "2023-08-04T18:04:47.799Z"
   },
   {
    "duration": 130,
    "start_time": "2023-08-04T18:04:51.071Z"
   },
   {
    "duration": 100,
    "start_time": "2023-08-04T18:05:03.287Z"
   },
   {
    "duration": 36,
    "start_time": "2023-08-04T18:05:38.845Z"
   },
   {
    "duration": 82,
    "start_time": "2023-08-04T18:05:57.723Z"
   },
   {
    "duration": 140,
    "start_time": "2023-08-04T18:06:10.275Z"
   },
   {
    "duration": 94,
    "start_time": "2023-08-04T18:06:22.601Z"
   },
   {
    "duration": 196,
    "start_time": "2023-08-04T18:07:22.588Z"
   },
   {
    "duration": 101,
    "start_time": "2023-08-04T18:07:50.602Z"
   },
   {
    "duration": 151,
    "start_time": "2023-08-04T18:08:06.735Z"
   },
   {
    "duration": 3,
    "start_time": "2023-08-04T18:11:01.624Z"
   },
   {
    "duration": 8,
    "start_time": "2023-08-04T18:11:25.690Z"
   },
   {
    "duration": 636,
    "start_time": "2023-08-04T18:11:26.198Z"
   },
   {
    "duration": 4,
    "start_time": "2023-08-04T18:11:40.596Z"
   },
   {
    "duration": 6,
    "start_time": "2023-08-04T18:11:42.514Z"
   },
   {
    "duration": 12,
    "start_time": "2023-08-04T18:13:01.235Z"
   },
   {
    "duration": 414,
    "start_time": "2023-08-04T18:13:12.953Z"
   },
   {
    "duration": 295,
    "start_time": "2023-08-04T18:13:13.369Z"
   },
   {
    "duration": 2,
    "start_time": "2023-08-04T18:13:13.666Z"
   },
   {
    "duration": 826,
    "start_time": "2023-08-04T18:13:13.678Z"
   },
   {
    "duration": 22,
    "start_time": "2023-08-04T18:13:14.507Z"
   },
   {
    "duration": 23,
    "start_time": "2023-08-04T18:13:14.530Z"
   },
   {
    "duration": 9,
    "start_time": "2023-08-04T18:13:14.555Z"
   },
   {
    "duration": 12,
    "start_time": "2023-08-04T18:13:14.565Z"
   },
   {
    "duration": 16,
    "start_time": "2023-08-04T18:13:14.579Z"
   },
   {
    "duration": 3,
    "start_time": "2023-08-04T18:13:14.602Z"
   },
   {
    "duration": 462,
    "start_time": "2023-08-04T18:13:14.607Z"
   },
   {
    "duration": 5,
    "start_time": "2023-08-04T18:13:15.071Z"
   },
   {
    "duration": 277,
    "start_time": "2023-08-04T18:13:15.078Z"
   },
   {
    "duration": 419,
    "start_time": "2023-08-04T18:13:15.358Z"
   },
   {
    "duration": 42,
    "start_time": "2023-08-04T18:13:15.780Z"
   },
   {
    "duration": 6,
    "start_time": "2023-08-04T18:13:15.827Z"
   },
   {
    "duration": 92,
    "start_time": "2023-08-04T18:13:15.836Z"
   },
   {
    "duration": 25,
    "start_time": "2023-08-04T18:13:15.930Z"
   },
   {
    "duration": 6,
    "start_time": "2023-08-04T18:13:15.956Z"
   },
   {
    "duration": 2760,
    "start_time": "2023-08-04T18:13:15.964Z"
   },
   {
    "duration": 3103,
    "start_time": "2023-08-04T18:13:18.782Z"
   },
   {
    "duration": 3227,
    "start_time": "2023-08-04T18:13:21.889Z"
   },
   {
    "duration": 70,
    "start_time": "2023-08-04T18:13:25.121Z"
   },
   {
    "duration": 18,
    "start_time": "2023-08-04T18:13:25.193Z"
   },
   {
    "duration": 901,
    "start_time": "2023-08-04T18:13:25.214Z"
   },
   {
    "duration": 3,
    "start_time": "2023-08-04T18:13:26.117Z"
   },
   {
    "duration": 58,
    "start_time": "2023-08-04T18:13:26.122Z"
   },
   {
    "duration": 9,
    "start_time": "2023-08-04T18:13:26.182Z"
   },
   {
    "duration": 11,
    "start_time": "2023-08-04T18:13:26.196Z"
   },
   {
    "duration": 24,
    "start_time": "2023-08-04T18:13:26.209Z"
   },
   {
    "duration": 8,
    "start_time": "2023-08-04T18:13:26.235Z"
   },
   {
    "duration": 157,
    "start_time": "2023-08-04T18:13:26.245Z"
   },
   {
    "duration": 4,
    "start_time": "2023-08-04T18:14:25.798Z"
   },
   {
    "duration": 18,
    "start_time": "2023-08-04T18:14:31.502Z"
   },
   {
    "duration": 5,
    "start_time": "2023-08-04T18:14:56.103Z"
   },
   {
    "duration": 8,
    "start_time": "2023-08-04T18:14:58.425Z"
   },
   {
    "duration": 210,
    "start_time": "2023-08-04T18:15:35.989Z"
   },
   {
    "duration": 167,
    "start_time": "2023-08-04T18:16:09.334Z"
   },
   {
    "duration": 2,
    "start_time": "2023-08-04T18:16:09.727Z"
   },
   {
    "duration": 98,
    "start_time": "2023-08-04T18:17:55.697Z"
   },
   {
    "duration": 39,
    "start_time": "2023-08-04T18:18:26.467Z"
   },
   {
    "duration": 3,
    "start_time": "2023-08-04T18:18:49.738Z"
   },
   {
    "duration": 10,
    "start_time": "2023-08-04T18:18:51.853Z"
   },
   {
    "duration": 370,
    "start_time": "2023-08-04T18:19:29.113Z"
   },
   {
    "duration": 170,
    "start_time": "2023-08-04T18:21:53.157Z"
   },
   {
    "duration": 196,
    "start_time": "2023-08-04T18:23:59.718Z"
   },
   {
    "duration": 13,
    "start_time": "2023-08-04T18:28:42.314Z"
   },
   {
    "duration": 34,
    "start_time": "2023-08-04T18:28:59.373Z"
   },
   {
    "duration": 18,
    "start_time": "2023-08-04T18:29:21.032Z"
   },
   {
    "duration": 27,
    "start_time": "2023-08-04T18:29:43.466Z"
   },
   {
    "duration": 1058,
    "start_time": "2023-08-04T18:29:57.400Z"
   },
   {
    "duration": 13,
    "start_time": "2023-08-04T18:31:47.028Z"
   },
   {
    "duration": 3477,
    "start_time": "2023-08-04T18:31:50.274Z"
   },
   {
    "duration": 73,
    "start_time": "2023-08-04T18:34:26.131Z"
   },
   {
    "duration": 14,
    "start_time": "2023-08-04T18:36:24.344Z"
   },
   {
    "duration": 156,
    "start_time": "2023-08-04T18:36:55.625Z"
   },
   {
    "duration": 175,
    "start_time": "2023-08-04T18:37:29.808Z"
   },
   {
    "duration": 1402,
    "start_time": "2023-08-04T18:37:33.437Z"
   },
   {
    "duration": 3970,
    "start_time": "2023-08-04T18:38:11.812Z"
   },
   {
    "duration": 391,
    "start_time": "2023-08-04T18:39:18.014Z"
   },
   {
    "duration": 294,
    "start_time": "2023-08-04T18:39:25.013Z"
   },
   {
    "duration": 3,
    "start_time": "2023-08-04T18:39:48.466Z"
   },
   {
    "duration": 15,
    "start_time": "2023-08-04T18:40:17.731Z"
   },
   {
    "duration": 51,
    "start_time": "2023-08-04T18:41:39.791Z"
   },
   {
    "duration": 438,
    "start_time": "2023-08-04T18:42:20.145Z"
   },
   {
    "duration": 307,
    "start_time": "2023-08-04T18:42:20.596Z"
   },
   {
    "duration": 3,
    "start_time": "2023-08-04T18:42:20.910Z"
   },
   {
    "duration": 759,
    "start_time": "2023-08-04T18:42:20.918Z"
   },
   {
    "duration": 27,
    "start_time": "2023-08-04T18:42:21.680Z"
   },
   {
    "duration": 12,
    "start_time": "2023-08-04T18:42:21.709Z"
   },
   {
    "duration": 28,
    "start_time": "2023-08-04T18:42:21.722Z"
   },
   {
    "duration": 26,
    "start_time": "2023-08-04T18:42:21.751Z"
   },
   {
    "duration": 30,
    "start_time": "2023-08-04T18:42:21.779Z"
   },
   {
    "duration": 16,
    "start_time": "2023-08-04T18:42:21.811Z"
   },
   {
    "duration": 536,
    "start_time": "2023-08-04T18:42:21.829Z"
   },
   {
    "duration": 4,
    "start_time": "2023-08-04T18:42:22.367Z"
   },
   {
    "duration": 276,
    "start_time": "2023-08-04T18:42:22.373Z"
   },
   {
    "duration": 408,
    "start_time": "2023-08-04T18:42:22.651Z"
   },
   {
    "duration": 55,
    "start_time": "2023-08-04T18:42:23.061Z"
   },
   {
    "duration": 3,
    "start_time": "2023-08-04T18:42:23.118Z"
   },
   {
    "duration": 97,
    "start_time": "2023-08-04T18:42:23.123Z"
   },
   {
    "duration": 28,
    "start_time": "2023-08-04T18:42:23.222Z"
   },
   {
    "duration": 5,
    "start_time": "2023-08-04T18:42:23.252Z"
   },
   {
    "duration": 2463,
    "start_time": "2023-08-04T18:42:23.258Z"
   },
   {
    "duration": 2402,
    "start_time": "2023-08-04T18:42:25.787Z"
   },
   {
    "duration": 2391,
    "start_time": "2023-08-04T18:42:28.193Z"
   },
   {
    "duration": 106,
    "start_time": "2023-08-04T18:42:30.592Z"
   },
   {
    "duration": 10,
    "start_time": "2023-08-04T18:42:30.783Z"
   },
   {
    "duration": 65,
    "start_time": "2023-08-04T18:42:30.795Z"
   },
   {
    "duration": 449,
    "start_time": "2023-08-04T18:42:30.863Z"
   },
   {
    "duration": 3,
    "start_time": "2023-08-04T18:42:31.317Z"
   },
   {
    "duration": 154,
    "start_time": "2023-08-04T18:42:31.323Z"
   },
   {
    "duration": 81,
    "start_time": "2023-08-04T18:42:31.480Z"
   },
   {
    "duration": 43,
    "start_time": "2023-08-04T18:42:31.563Z"
   },
   {
    "duration": 41,
    "start_time": "2023-08-04T18:42:31.608Z"
   },
   {
    "duration": 99,
    "start_time": "2023-08-04T18:42:31.651Z"
   },
   {
    "duration": 5393,
    "start_time": "2023-08-04T18:42:31.752Z"
   },
   {
    "duration": 2,
    "start_time": "2023-08-04T18:42:37.147Z"
   },
   {
    "duration": 35,
    "start_time": "2023-08-04T18:42:37.151Z"
   },
   {
    "duration": 17,
    "start_time": "2023-08-04T18:43:01.120Z"
   },
   {
    "duration": 47,
    "start_time": "2023-08-04T18:43:03.804Z"
   },
   {
    "duration": 22,
    "start_time": "2023-08-04T18:43:20.691Z"
   },
   {
    "duration": 4,
    "start_time": "2023-08-04T18:43:31.606Z"
   },
   {
    "duration": 3826,
    "start_time": "2023-08-04T18:44:32.610Z"
   },
   {
    "duration": 389,
    "start_time": "2023-08-05T13:58:14.834Z"
   },
   {
    "duration": 399,
    "start_time": "2023-08-05T13:58:15.225Z"
   },
   {
    "duration": 3,
    "start_time": "2023-08-05T13:58:15.626Z"
   },
   {
    "duration": 5070,
    "start_time": "2023-08-05T13:58:15.631Z"
   },
   {
    "duration": 22,
    "start_time": "2023-08-05T13:58:20.703Z"
   },
   {
    "duration": 2,
    "start_time": "2023-08-05T13:58:20.727Z"
   },
   {
    "duration": 8,
    "start_time": "2023-08-05T13:58:20.731Z"
   },
   {
    "duration": 4,
    "start_time": "2023-08-05T13:58:20.741Z"
   },
   {
    "duration": 10,
    "start_time": "2023-08-05T13:58:20.747Z"
   },
   {
    "duration": 13,
    "start_time": "2023-08-05T13:58:20.758Z"
   },
   {
    "duration": 764,
    "start_time": "2023-08-05T13:58:20.772Z"
   },
   {
    "duration": 3,
    "start_time": "2023-08-05T13:58:21.538Z"
   },
   {
    "duration": 212,
    "start_time": "2023-08-05T13:58:21.543Z"
   },
   {
    "duration": 716,
    "start_time": "2023-08-05T13:58:21.758Z"
   },
   {
    "duration": 25,
    "start_time": "2023-08-05T13:58:22.476Z"
   },
   {
    "duration": 7,
    "start_time": "2023-08-05T13:58:22.502Z"
   },
   {
    "duration": 59,
    "start_time": "2023-08-05T13:58:22.511Z"
   },
   {
    "duration": 45,
    "start_time": "2023-08-05T13:58:22.571Z"
   },
   {
    "duration": 5,
    "start_time": "2023-08-05T13:58:22.617Z"
   },
   {
    "duration": 3183,
    "start_time": "2023-08-05T13:58:22.623Z"
   },
   {
    "duration": 3286,
    "start_time": "2023-08-05T13:58:25.810Z"
   },
   {
    "duration": 3405,
    "start_time": "2023-08-05T13:58:29.098Z"
   },
   {
    "duration": 189,
    "start_time": "2023-08-05T13:58:32.506Z"
   },
   {
    "duration": 100,
    "start_time": "2023-08-05T13:58:32.703Z"
   },
   {
    "duration": 18,
    "start_time": "2023-08-05T13:58:32.805Z"
   },
   {
    "duration": 474,
    "start_time": "2023-08-05T13:58:32.824Z"
   },
   {
    "duration": 3,
    "start_time": "2023-08-05T13:58:33.300Z"
   },
   {
    "duration": 61,
    "start_time": "2023-08-05T13:58:33.305Z"
   },
   {
    "duration": 5,
    "start_time": "2023-08-05T13:59:11.265Z"
   },
   {
    "duration": 12,
    "start_time": "2023-08-05T13:59:15.436Z"
   },
   {
    "duration": 997,
    "start_time": "2023-08-05T18:06:57.430Z"
   },
   {
    "duration": 6,
    "start_time": "2023-08-05T18:07:31.342Z"
   },
   {
    "duration": 80,
    "start_time": "2023-08-05T18:07:35.411Z"
   },
   {
    "duration": 450,
    "start_time": "2023-08-05T18:07:48.787Z"
   },
   {
    "duration": 440,
    "start_time": "2023-08-05T18:07:49.239Z"
   },
   {
    "duration": 3,
    "start_time": "2023-08-05T18:07:49.681Z"
   },
   {
    "duration": 746,
    "start_time": "2023-08-05T18:07:49.686Z"
   },
   {
    "duration": 22,
    "start_time": "2023-08-05T18:07:50.435Z"
   },
   {
    "duration": 3,
    "start_time": "2023-08-05T18:07:50.459Z"
   },
   {
    "duration": 6,
    "start_time": "2023-08-05T18:07:50.464Z"
   },
   {
    "duration": 3,
    "start_time": "2023-08-05T18:07:50.472Z"
   },
   {
    "duration": 5,
    "start_time": "2023-08-05T18:07:50.476Z"
   },
   {
    "duration": 8,
    "start_time": "2023-08-05T18:07:50.483Z"
   },
   {
    "duration": 1962,
    "start_time": "2023-08-05T18:07:50.493Z"
   },
   {
    "duration": 4,
    "start_time": "2023-08-05T18:07:52.457Z"
   },
   {
    "duration": 224,
    "start_time": "2023-08-05T18:07:52.462Z"
   },
   {
    "duration": 416,
    "start_time": "2023-08-05T18:07:52.689Z"
   },
   {
    "duration": 27,
    "start_time": "2023-08-05T18:07:53.107Z"
   },
   {
    "duration": 5,
    "start_time": "2023-08-05T18:07:53.136Z"
   },
   {
    "duration": 82,
    "start_time": "2023-08-05T18:07:53.143Z"
   },
   {
    "duration": 49,
    "start_time": "2023-08-05T18:07:53.227Z"
   },
   {
    "duration": 5,
    "start_time": "2023-08-05T18:07:53.278Z"
   },
   {
    "duration": 2693,
    "start_time": "2023-08-05T18:07:53.285Z"
   },
   {
    "duration": 2898,
    "start_time": "2023-08-05T18:07:55.979Z"
   },
   {
    "duration": 3106,
    "start_time": "2023-08-05T18:07:58.968Z"
   },
   {
    "duration": 201,
    "start_time": "2023-08-05T18:08:02.076Z"
   },
   {
    "duration": 8,
    "start_time": "2023-08-05T18:08:02.368Z"
   },
   {
    "duration": 8,
    "start_time": "2023-08-05T18:08:02.466Z"
   },
   {
    "duration": 396,
    "start_time": "2023-08-05T18:08:02.476Z"
   },
   {
    "duration": 4,
    "start_time": "2023-08-05T18:08:02.874Z"
   },
   {
    "duration": 114,
    "start_time": "2023-08-05T18:08:02.969Z"
   },
   {
    "duration": 4722,
    "start_time": "2023-08-05T18:08:03.085Z"
   },
   {
    "duration": 5,
    "start_time": "2023-08-05T18:08:27.502Z"
   },
   {
    "duration": 20,
    "start_time": "2023-08-05T18:08:31.122Z"
   },
   {
    "duration": 6,
    "start_time": "2023-08-05T18:13:33.920Z"
   },
   {
    "duration": 19,
    "start_time": "2023-08-05T18:13:36.821Z"
   },
   {
    "duration": 19,
    "start_time": "2023-08-05T18:13:38.286Z"
   },
   {
    "duration": 18,
    "start_time": "2023-08-05T18:13:38.800Z"
   },
   {
    "duration": 4,
    "start_time": "2023-08-05T18:17:12.572Z"
   },
   {
    "duration": 4,
    "start_time": "2023-08-05T18:17:55.025Z"
   },
   {
    "duration": 5,
    "start_time": "2023-08-05T18:18:07.085Z"
   },
   {
    "duration": 5,
    "start_time": "2023-08-05T18:19:18.538Z"
   },
   {
    "duration": 6,
    "start_time": "2023-08-05T18:20:06.937Z"
   },
   {
    "duration": 5,
    "start_time": "2023-08-05T18:21:02.173Z"
   },
   {
    "duration": 3,
    "start_time": "2023-08-05T19:19:06.502Z"
   },
   {
    "duration": 50,
    "start_time": "2023-08-05T19:19:08.523Z"
   },
   {
    "duration": 4,
    "start_time": "2023-08-05T19:19:26.033Z"
   },
   {
    "duration": 51,
    "start_time": "2023-08-05T19:19:31.243Z"
   },
   {
    "duration": 3,
    "start_time": "2023-08-05T19:19:36.751Z"
   },
   {
    "duration": 62,
    "start_time": "2023-08-05T19:19:38.506Z"
   },
   {
    "duration": 3,
    "start_time": "2023-08-05T19:20:00.130Z"
   },
   {
    "duration": 50,
    "start_time": "2023-08-05T19:20:01.889Z"
   },
   {
    "duration": 448,
    "start_time": "2023-08-05T19:23:01.642Z"
   },
   {
    "duration": 257,
    "start_time": "2023-08-05T19:23:02.092Z"
   },
   {
    "duration": 3,
    "start_time": "2023-08-05T19:23:02.351Z"
   },
   {
    "duration": 745,
    "start_time": "2023-08-05T19:23:02.356Z"
   },
   {
    "duration": 21,
    "start_time": "2023-08-05T19:23:03.103Z"
   },
   {
    "duration": 3,
    "start_time": "2023-08-05T19:23:03.126Z"
   },
   {
    "duration": 21,
    "start_time": "2023-08-05T19:23:03.130Z"
   },
   {
    "duration": 4,
    "start_time": "2023-08-05T19:23:03.153Z"
   },
   {
    "duration": 11,
    "start_time": "2023-08-05T19:23:03.159Z"
   },
   {
    "duration": 5,
    "start_time": "2023-08-05T19:23:03.172Z"
   },
   {
    "duration": 390,
    "start_time": "2023-08-05T19:23:03.179Z"
   },
   {
    "duration": 4,
    "start_time": "2023-08-05T19:23:03.571Z"
   },
   {
    "duration": 234,
    "start_time": "2023-08-05T19:23:03.577Z"
   },
   {
    "duration": 463,
    "start_time": "2023-08-05T19:23:03.813Z"
   },
   {
    "duration": 28,
    "start_time": "2023-08-05T19:23:04.278Z"
   },
   {
    "duration": 5,
    "start_time": "2023-08-05T19:23:04.308Z"
   },
   {
    "duration": 81,
    "start_time": "2023-08-05T19:23:04.315Z"
   },
   {
    "duration": 27,
    "start_time": "2023-08-05T19:23:04.397Z"
   },
   {
    "duration": 5,
    "start_time": "2023-08-05T19:23:04.425Z"
   },
   {
    "duration": 43,
    "start_time": "2023-08-05T19:23:04.431Z"
   },
   {
    "duration": 196,
    "start_time": "2023-08-05T19:23:04.476Z"
   },
   {
    "duration": 195,
    "start_time": "2023-08-05T19:23:04.674Z"
   },
   {
    "duration": 4,
    "start_time": "2023-08-05T19:23:04.871Z"
   },
   {
    "duration": 99,
    "start_time": "2023-08-05T19:23:04.876Z"
   },
   {
    "duration": 491,
    "start_time": "2023-08-05T19:23:04.977Z"
   },
   {
    "duration": 4,
    "start_time": "2023-08-05T19:23:05.469Z"
   },
   {
    "duration": 51,
    "start_time": "2023-08-05T19:23:05.474Z"
   },
   {
    "duration": 318,
    "start_time": "2023-08-05T19:23:05.527Z"
   },
   {
    "duration": 49,
    "start_time": "2023-08-05T19:23:41.802Z"
   },
   {
    "duration": 3793,
    "start_time": "2023-08-05T19:24:24.448Z"
   },
   {
    "duration": 189,
    "start_time": "2023-08-05T19:25:54.580Z"
   },
   {
    "duration": 18,
    "start_time": "2023-08-05T19:26:36.426Z"
   },
   {
    "duration": 132,
    "start_time": "2023-08-05T19:27:16.338Z"
   },
   {
    "duration": 4,
    "start_time": "2023-08-05T19:30:09.064Z"
   },
   {
    "duration": 18,
    "start_time": "2023-08-05T19:30:11.062Z"
   },
   {
    "duration": 258,
    "start_time": "2023-08-05T19:30:19.519Z"
   },
   {
    "duration": 39,
    "start_time": "2023-08-05T19:30:24.344Z"
   },
   {
    "duration": 19,
    "start_time": "2023-08-05T19:30:37.767Z"
   },
   {
    "duration": 18,
    "start_time": "2023-08-05T19:30:38.477Z"
   },
   {
    "duration": 19,
    "start_time": "2023-08-05T19:30:41.562Z"
   },
   {
    "duration": 433,
    "start_time": "2023-08-05T19:31:26.245Z"
   },
   {
    "duration": 245,
    "start_time": "2023-08-05T19:31:26.680Z"
   },
   {
    "duration": 3,
    "start_time": "2023-08-05T19:31:26.927Z"
   },
   {
    "duration": 771,
    "start_time": "2023-08-05T19:31:26.932Z"
   },
   {
    "duration": 22,
    "start_time": "2023-08-05T19:31:27.706Z"
   },
   {
    "duration": 3,
    "start_time": "2023-08-05T19:31:27.730Z"
   },
   {
    "duration": 12,
    "start_time": "2023-08-05T19:31:27.734Z"
   },
   {
    "duration": 3,
    "start_time": "2023-08-05T19:31:27.748Z"
   },
   {
    "duration": 15,
    "start_time": "2023-08-05T19:31:27.752Z"
   },
   {
    "duration": 11,
    "start_time": "2023-08-05T19:31:27.769Z"
   },
   {
    "duration": 412,
    "start_time": "2023-08-05T19:31:27.782Z"
   },
   {
    "duration": 4,
    "start_time": "2023-08-05T19:31:28.196Z"
   },
   {
    "duration": 228,
    "start_time": "2023-08-05T19:31:28.201Z"
   },
   {
    "duration": 435,
    "start_time": "2023-08-05T19:31:28.432Z"
   },
   {
    "duration": 28,
    "start_time": "2023-08-05T19:31:28.868Z"
   },
   {
    "duration": 6,
    "start_time": "2023-08-05T19:31:28.898Z"
   },
   {
    "duration": 84,
    "start_time": "2023-08-05T19:31:28.906Z"
   },
   {
    "duration": 37,
    "start_time": "2023-08-05T19:31:28.993Z"
   },
   {
    "duration": 6,
    "start_time": "2023-08-05T19:31:29.032Z"
   },
   {
    "duration": 54,
    "start_time": "2023-08-05T19:31:29.039Z"
   },
   {
    "duration": 179,
    "start_time": "2023-08-05T19:31:29.094Z"
   },
   {
    "duration": 193,
    "start_time": "2023-08-05T19:31:29.275Z"
   },
   {
    "duration": 4,
    "start_time": "2023-08-05T19:31:29.470Z"
   },
   {
    "duration": 102,
    "start_time": "2023-08-05T19:31:29.476Z"
   },
   {
    "duration": 397,
    "start_time": "2023-08-05T19:31:29.579Z"
   },
   {
    "duration": 91,
    "start_time": "2023-08-05T19:31:29.978Z"
   },
   {
    "duration": 79,
    "start_time": "2023-08-05T19:31:30.071Z"
   },
   {
    "duration": 3,
    "start_time": "2023-08-05T19:31:30.152Z"
   },
   {
    "duration": 296,
    "start_time": "2023-08-05T19:31:30.157Z"
   },
   {
    "duration": 67,
    "start_time": "2023-08-05T19:31:51.209Z"
   },
   {
    "duration": 16,
    "start_time": "2023-08-05T19:32:45.905Z"
   },
   {
    "duration": 109,
    "start_time": "2023-08-05T19:33:30.758Z"
   },
   {
    "duration": 2045,
    "start_time": "2023-08-05T19:33:51.867Z"
   },
   {
    "duration": 2508,
    "start_time": "2023-08-05T19:34:27.377Z"
   },
   {
    "duration": 89,
    "start_time": "2023-08-05T19:34:38.980Z"
   },
   {
    "duration": 12,
    "start_time": "2023-08-05T19:35:02.521Z"
   },
   {
    "duration": 111,
    "start_time": "2023-08-05T19:35:08.267Z"
   },
   {
    "duration": 15,
    "start_time": "2023-08-05T19:35:33.948Z"
   },
   {
    "duration": 533,
    "start_time": "2023-08-05T19:35:37.990Z"
   },
   {
    "duration": 1257,
    "start_time": "2023-08-05T19:36:00.265Z"
   },
   {
    "duration": 1219,
    "start_time": "2023-08-05T19:36:12.394Z"
   },
   {
    "duration": 3794,
    "start_time": "2023-08-05T19:36:53.082Z"
   },
   {
    "duration": 3877,
    "start_time": "2023-08-05T19:38:01.442Z"
   },
   {
    "duration": 3579,
    "start_time": "2023-08-05T19:39:05.601Z"
   },
   {
    "duration": 16,
    "start_time": "2023-08-05T19:41:08.952Z"
   },
   {
    "duration": 15,
    "start_time": "2023-08-05T19:41:35.292Z"
   },
   {
    "duration": 12,
    "start_time": "2023-08-05T19:42:23.332Z"
   },
   {
    "duration": 74,
    "start_time": "2023-08-05T19:42:28.700Z"
   },
   {
    "duration": 39,
    "start_time": "2023-08-05T19:42:36.129Z"
   },
   {
    "duration": 18,
    "start_time": "2023-08-05T19:43:32.160Z"
   },
   {
    "duration": 200,
    "start_time": "2023-08-05T19:44:56.214Z"
   },
   {
    "duration": 113,
    "start_time": "2023-08-05T19:45:11.463Z"
   },
   {
    "duration": 3827,
    "start_time": "2023-08-05T19:48:30.801Z"
   },
   {
    "duration": 156,
    "start_time": "2023-08-05T19:49:55.728Z"
   },
   {
    "duration": 170,
    "start_time": "2023-08-05T19:50:20.099Z"
   },
   {
    "duration": 3965,
    "start_time": "2023-08-05T19:50:26.782Z"
   },
   {
    "duration": 3867,
    "start_time": "2023-08-05T19:52:55.367Z"
   },
   {
    "duration": 3822,
    "start_time": "2023-08-05T19:53:05.954Z"
   },
   {
    "duration": 178,
    "start_time": "2023-08-05T19:54:31.195Z"
   },
   {
    "duration": 4118,
    "start_time": "2023-08-05T19:54:58.670Z"
   },
   {
    "duration": 4164,
    "start_time": "2023-08-05T19:55:47.581Z"
   },
   {
    "duration": 4088,
    "start_time": "2023-08-05T19:56:45.758Z"
   },
   {
    "duration": 3950,
    "start_time": "2023-08-05T19:57:09.336Z"
   },
   {
    "duration": 214,
    "start_time": "2023-08-05T19:57:37.261Z"
   },
   {
    "duration": 47,
    "start_time": "2023-08-05T19:57:56.230Z"
   },
   {
    "duration": 4078,
    "start_time": "2023-08-05T19:58:41.586Z"
   },
   {
    "duration": 3955,
    "start_time": "2023-08-05T19:58:55.570Z"
   },
   {
    "duration": 397,
    "start_time": "2023-08-05T20:10:17.494Z"
   },
   {
    "duration": 259,
    "start_time": "2023-08-05T20:10:17.893Z"
   },
   {
    "duration": 2,
    "start_time": "2023-08-05T20:10:18.155Z"
   },
   {
    "duration": 847,
    "start_time": "2023-08-05T20:10:18.159Z"
   },
   {
    "duration": 23,
    "start_time": "2023-08-05T20:10:19.009Z"
   },
   {
    "duration": 3,
    "start_time": "2023-08-05T20:10:19.034Z"
   },
   {
    "duration": 18,
    "start_time": "2023-08-05T20:10:19.039Z"
   },
   {
    "duration": 16,
    "start_time": "2023-08-05T20:10:19.059Z"
   },
   {
    "duration": 4,
    "start_time": "2023-08-05T20:10:19.078Z"
   },
   {
    "duration": 7,
    "start_time": "2023-08-05T20:10:19.084Z"
   },
   {
    "duration": 426,
    "start_time": "2023-08-05T20:10:19.093Z"
   },
   {
    "duration": 5,
    "start_time": "2023-08-05T20:10:19.521Z"
   },
   {
    "duration": 252,
    "start_time": "2023-08-05T20:10:19.528Z"
   },
   {
    "duration": 463,
    "start_time": "2023-08-05T20:10:19.783Z"
   },
   {
    "duration": 35,
    "start_time": "2023-08-05T20:10:20.248Z"
   },
   {
    "duration": 7,
    "start_time": "2023-08-05T20:10:20.285Z"
   },
   {
    "duration": 101,
    "start_time": "2023-08-05T20:10:20.294Z"
   },
   {
    "duration": 44,
    "start_time": "2023-08-05T20:10:20.397Z"
   },
   {
    "duration": 24,
    "start_time": "2023-08-05T20:10:20.443Z"
   },
   {
    "duration": 216,
    "start_time": "2023-08-05T20:10:20.469Z"
   },
   {
    "duration": 200,
    "start_time": "2023-08-05T20:10:20.686Z"
   },
   {
    "duration": 189,
    "start_time": "2023-08-05T20:10:20.889Z"
   },
   {
    "duration": 87,
    "start_time": "2023-08-05T20:10:21.080Z"
   },
   {
    "duration": 100,
    "start_time": "2023-08-05T20:10:21.169Z"
   },
   {
    "duration": 498,
    "start_time": "2023-08-05T20:10:21.271Z"
   },
   {
    "duration": 5,
    "start_time": "2023-08-05T20:10:21.771Z"
   },
   {
    "duration": 90,
    "start_time": "2023-08-05T20:10:21.778Z"
   },
   {
    "duration": 4024,
    "start_time": "2023-08-05T20:10:21.871Z"
   },
   {
    "duration": 3622,
    "start_time": "2023-08-06T08:08:32.855Z"
   },
   {
    "duration": 3601,
    "start_time": "2023-08-06T08:08:42.661Z"
   },
   {
    "duration": 4,
    "start_time": "2023-08-06T08:10:12.954Z"
   },
   {
    "duration": 180,
    "start_time": "2023-08-06T08:10:13.457Z"
   },
   {
    "duration": 4,
    "start_time": "2023-08-06T08:10:36.665Z"
   },
   {
    "duration": 286,
    "start_time": "2023-08-06T08:10:41.211Z"
   },
   {
    "duration": 4,
    "start_time": "2023-08-06T08:11:07.799Z"
   },
   {
    "duration": 283,
    "start_time": "2023-08-06T08:11:11.358Z"
   },
   {
    "duration": 4,
    "start_time": "2023-08-06T08:11:25.154Z"
   },
   {
    "duration": 270,
    "start_time": "2023-08-06T08:11:27.821Z"
   },
   {
    "duration": 4,
    "start_time": "2023-08-06T08:13:04.420Z"
   },
   {
    "duration": 1124,
    "start_time": "2023-08-06T08:13:04.795Z"
   },
   {
    "duration": 406,
    "start_time": "2023-08-06T08:13:20.370Z"
   },
   {
    "duration": 256,
    "start_time": "2023-08-06T08:13:20.778Z"
   },
   {
    "duration": 4,
    "start_time": "2023-08-06T08:13:21.035Z"
   },
   {
    "duration": 801,
    "start_time": "2023-08-06T08:13:21.040Z"
   },
   {
    "duration": 23,
    "start_time": "2023-08-06T08:13:21.843Z"
   },
   {
    "duration": 4,
    "start_time": "2023-08-06T08:13:21.867Z"
   },
   {
    "duration": 16,
    "start_time": "2023-08-06T08:13:21.872Z"
   },
   {
    "duration": 3,
    "start_time": "2023-08-06T08:13:21.889Z"
   },
   {
    "duration": 5,
    "start_time": "2023-08-06T08:13:21.894Z"
   },
   {
    "duration": 6,
    "start_time": "2023-08-06T08:13:21.900Z"
   },
   {
    "duration": 402,
    "start_time": "2023-08-06T08:13:21.908Z"
   },
   {
    "duration": 4,
    "start_time": "2023-08-06T08:13:22.312Z"
   },
   {
    "duration": 433,
    "start_time": "2023-08-06T08:13:22.318Z"
   },
   {
    "duration": 400,
    "start_time": "2023-08-06T08:13:22.769Z"
   },
   {
    "duration": 30,
    "start_time": "2023-08-06T08:13:23.171Z"
   },
   {
    "duration": 9,
    "start_time": "2023-08-06T08:13:23.203Z"
   },
   {
    "duration": 1332,
    "start_time": "2023-08-06T08:13:23.214Z"
   },
   {
    "duration": 0,
    "start_time": "2023-08-06T08:13:24.548Z"
   },
   {
    "duration": 0,
    "start_time": "2023-08-06T08:13:24.549Z"
   },
   {
    "duration": 0,
    "start_time": "2023-08-06T08:13:24.550Z"
   },
   {
    "duration": 0,
    "start_time": "2023-08-06T08:13:24.551Z"
   },
   {
    "duration": 0,
    "start_time": "2023-08-06T08:13:24.552Z"
   },
   {
    "duration": 0,
    "start_time": "2023-08-06T08:13:24.553Z"
   },
   {
    "duration": 0,
    "start_time": "2023-08-06T08:13:24.554Z"
   },
   {
    "duration": 0,
    "start_time": "2023-08-06T08:13:24.555Z"
   },
   {
    "duration": 0,
    "start_time": "2023-08-06T08:13:24.556Z"
   },
   {
    "duration": 0,
    "start_time": "2023-08-06T08:13:24.557Z"
   },
   {
    "duration": 0,
    "start_time": "2023-08-06T08:13:24.558Z"
   },
   {
    "duration": 361,
    "start_time": "2023-08-06T08:14:03.966Z"
   },
   {
    "duration": 4,
    "start_time": "2023-08-06T08:14:06.238Z"
   },
   {
    "duration": 375,
    "start_time": "2023-08-06T08:14:06.693Z"
   },
   {
    "duration": 4,
    "start_time": "2023-08-06T08:14:40.906Z"
   },
   {
    "duration": 372,
    "start_time": "2023-08-06T08:14:41.373Z"
   },
   {
    "duration": 5,
    "start_time": "2023-08-06T08:15:30.179Z"
   },
   {
    "duration": 371,
    "start_time": "2023-08-06T08:15:30.583Z"
   },
   {
    "duration": 4,
    "start_time": "2023-08-06T08:15:44.910Z"
   },
   {
    "duration": 369,
    "start_time": "2023-08-06T08:15:45.769Z"
   },
   {
    "duration": 4,
    "start_time": "2023-08-06T08:15:52.193Z"
   },
   {
    "duration": 363,
    "start_time": "2023-08-06T08:15:52.566Z"
   },
   {
    "duration": 4,
    "start_time": "2023-08-06T08:15:57.870Z"
   },
   {
    "duration": 392,
    "start_time": "2023-08-06T08:15:58.262Z"
   },
   {
    "duration": 5,
    "start_time": "2023-08-06T08:16:27.181Z"
   },
   {
    "duration": 350,
    "start_time": "2023-08-06T08:16:27.572Z"
   },
   {
    "duration": 4,
    "start_time": "2023-08-06T08:17:30.060Z"
   },
   {
    "duration": 120,
    "start_time": "2023-08-06T08:17:30.630Z"
   },
   {
    "duration": 5,
    "start_time": "2023-08-06T08:17:44.348Z"
   },
   {
    "duration": 444,
    "start_time": "2023-08-06T08:17:44.729Z"
   },
   {
    "duration": 4,
    "start_time": "2023-08-06T08:18:13.781Z"
   },
   {
    "duration": 638,
    "start_time": "2023-08-06T08:18:14.202Z"
   },
   {
    "duration": 4,
    "start_time": "2023-08-06T08:18:34.877Z"
   },
   {
    "duration": 402,
    "start_time": "2023-08-06T08:18:35.491Z"
   },
   {
    "duration": 5,
    "start_time": "2023-08-06T08:23:02.682Z"
   },
   {
    "duration": 134,
    "start_time": "2023-08-06T08:23:03.384Z"
   },
   {
    "duration": 6,
    "start_time": "2023-08-06T08:23:12.465Z"
   },
   {
    "duration": 432,
    "start_time": "2023-08-06T08:23:12.918Z"
   },
   {
    "duration": 20,
    "start_time": "2023-08-06T08:24:44.055Z"
   },
   {
    "duration": 20,
    "start_time": "2023-08-06T08:25:25.791Z"
   },
   {
    "duration": 4,
    "start_time": "2023-08-06T08:26:06.850Z"
   },
   {
    "duration": 1323,
    "start_time": "2023-08-06T08:26:07.241Z"
   },
   {
    "duration": 374,
    "start_time": "2023-08-06T08:26:14.517Z"
   },
   {
    "duration": 5,
    "start_time": "2023-08-06T08:26:17.214Z"
   },
   {
    "duration": 446,
    "start_time": "2023-08-06T08:26:17.546Z"
   },
   {
    "duration": 12,
    "start_time": "2023-08-06T08:30:00.568Z"
   },
   {
    "duration": 11,
    "start_time": "2023-08-06T08:30:15.270Z"
   },
   {
    "duration": 122,
    "start_time": "2023-08-06T08:32:35.686Z"
   },
   {
    "duration": 36,
    "start_time": "2023-08-06T08:32:58.094Z"
   },
   {
    "duration": 50,
    "start_time": "2023-08-06T08:33:02.708Z"
   },
   {
    "duration": 31,
    "start_time": "2023-08-06T08:33:05.894Z"
   },
   {
    "duration": 22,
    "start_time": "2023-08-06T08:34:19.587Z"
   },
   {
    "duration": 12,
    "start_time": "2023-08-06T08:34:34.894Z"
   },
   {
    "duration": 39,
    "start_time": "2023-08-06T08:35:04.376Z"
   },
   {
    "duration": 37,
    "start_time": "2023-08-06T08:36:45.457Z"
   },
   {
    "duration": 41,
    "start_time": "2023-08-06T08:36:54.512Z"
   },
   {
    "duration": 30,
    "start_time": "2023-08-06T08:37:01.999Z"
   },
   {
    "duration": 48,
    "start_time": "2023-08-06T08:37:31.160Z"
   },
   {
    "duration": 2,
    "start_time": "2023-08-06T08:39:40.935Z"
   },
   {
    "duration": 157,
    "start_time": "2023-08-06T08:39:41.350Z"
   },
   {
    "duration": 4,
    "start_time": "2023-08-06T08:40:53.683Z"
   },
   {
    "duration": 150,
    "start_time": "2023-08-06T08:40:54.057Z"
   },
   {
    "duration": 3,
    "start_time": "2023-08-06T08:40:57.951Z"
   },
   {
    "duration": 149,
    "start_time": "2023-08-06T08:40:58.720Z"
   },
   {
    "duration": 3,
    "start_time": "2023-08-06T08:41:03.563Z"
   },
   {
    "duration": 220,
    "start_time": "2023-08-06T08:41:05.058Z"
   },
   {
    "duration": 4,
    "start_time": "2023-08-06T08:41:20.784Z"
   },
   {
    "duration": 176,
    "start_time": "2023-08-06T08:41:21.421Z"
   },
   {
    "duration": 3,
    "start_time": "2023-08-06T08:41:34.428Z"
   },
   {
    "duration": 153,
    "start_time": "2023-08-06T08:41:34.805Z"
   },
   {
    "duration": 3,
    "start_time": "2023-08-06T08:41:46.389Z"
   },
   {
    "duration": 152,
    "start_time": "2023-08-06T08:41:46.766Z"
   },
   {
    "duration": 3,
    "start_time": "2023-08-06T08:42:30.065Z"
   },
   {
    "duration": 138,
    "start_time": "2023-08-06T08:42:32.533Z"
   },
   {
    "duration": 3,
    "start_time": "2023-08-06T08:43:08.203Z"
   },
   {
    "duration": 146,
    "start_time": "2023-08-06T08:43:08.537Z"
   },
   {
    "duration": 3,
    "start_time": "2023-08-06T08:43:36.300Z"
   },
   {
    "duration": 131,
    "start_time": "2023-08-06T08:43:36.652Z"
   },
   {
    "duration": 173,
    "start_time": "2023-08-06T08:44:33.474Z"
   },
   {
    "duration": 137,
    "start_time": "2023-08-06T08:44:46.004Z"
   },
   {
    "duration": 144,
    "start_time": "2023-08-06T08:44:54.581Z"
   },
   {
    "duration": 142,
    "start_time": "2023-08-06T08:45:06.667Z"
   },
   {
    "duration": 442,
    "start_time": "2023-08-06T08:46:36.887Z"
   },
   {
    "duration": 483,
    "start_time": "2023-08-06T08:47:29.470Z"
   },
   {
    "duration": 11,
    "start_time": "2023-08-06T08:49:01.654Z"
   },
   {
    "duration": 4,
    "start_time": "2023-08-06T08:49:04.261Z"
   },
   {
    "duration": 137,
    "start_time": "2023-08-06T08:49:04.672Z"
   },
   {
    "duration": 137,
    "start_time": "2023-08-06T08:49:06.336Z"
   },
   {
    "duration": 129,
    "start_time": "2023-08-06T08:49:07.462Z"
   },
   {
    "duration": 147,
    "start_time": "2023-08-06T08:49:24.463Z"
   },
   {
    "duration": 127,
    "start_time": "2023-08-06T08:49:30.472Z"
   },
   {
    "duration": 245,
    "start_time": "2023-08-06T08:49:43.498Z"
   },
   {
    "duration": 452,
    "start_time": "2023-08-06T08:49:55.561Z"
   },
   {
    "duration": 9,
    "start_time": "2023-08-06T08:50:16.772Z"
   },
   {
    "duration": 12,
    "start_time": "2023-08-06T08:50:21.300Z"
   },
   {
    "duration": 144,
    "start_time": "2023-08-06T08:50:54.764Z"
   },
   {
    "duration": 128,
    "start_time": "2023-08-06T08:51:54.498Z"
   },
   {
    "duration": 162,
    "start_time": "2023-08-06T08:52:01.516Z"
   },
   {
    "duration": 358,
    "start_time": "2023-08-06T08:53:33.334Z"
   },
   {
    "duration": 11,
    "start_time": "2023-08-06T08:53:50.638Z"
   },
   {
    "duration": 19,
    "start_time": "2023-08-06T08:53:56.671Z"
   },
   {
    "duration": 11,
    "start_time": "2023-08-06T08:54:04.268Z"
   },
   {
    "duration": 17,
    "start_time": "2023-08-06T08:54:57.850Z"
   },
   {
    "duration": 143,
    "start_time": "2023-08-06T08:55:42.713Z"
   },
   {
    "duration": 4,
    "start_time": "2023-08-06T08:58:50.018Z"
   },
   {
    "duration": 150,
    "start_time": "2023-08-06T08:58:50.305Z"
   },
   {
    "duration": 3,
    "start_time": "2023-08-06T08:59:10.296Z"
   },
   {
    "duration": 256,
    "start_time": "2023-08-06T08:59:10.654Z"
   },
   {
    "duration": 4,
    "start_time": "2023-08-06T08:59:17.050Z"
   },
   {
    "duration": 140,
    "start_time": "2023-08-06T08:59:17.456Z"
   },
   {
    "duration": 5,
    "start_time": "2023-08-06T09:00:51.221Z"
   },
   {
    "duration": 461,
    "start_time": "2023-08-06T09:00:51.557Z"
   },
   {
    "duration": 4,
    "start_time": "2023-08-06T09:01:18.259Z"
   },
   {
    "duration": 450,
    "start_time": "2023-08-06T09:01:18.927Z"
   },
   {
    "duration": 3,
    "start_time": "2023-08-06T09:06:05.273Z"
   },
   {
    "duration": 155,
    "start_time": "2023-08-06T09:06:06.138Z"
   },
   {
    "duration": 3,
    "start_time": "2023-08-06T09:06:12.676Z"
   },
   {
    "duration": 5,
    "start_time": "2023-08-06T09:07:09.178Z"
   },
   {
    "duration": 562,
    "start_time": "2023-08-06T09:07:09.708Z"
   },
   {
    "duration": 5,
    "start_time": "2023-08-06T09:07:41.514Z"
   },
   {
    "duration": 479,
    "start_time": "2023-08-06T09:07:41.997Z"
   },
   {
    "duration": 160,
    "start_time": "2023-08-06T09:08:45.897Z"
   },
   {
    "duration": 150,
    "start_time": "2023-08-06T09:08:48.349Z"
   },
   {
    "duration": 160,
    "start_time": "2023-08-06T09:08:50.580Z"
   },
   {
    "duration": 9,
    "start_time": "2023-08-06T09:09:14.065Z"
   },
   {
    "duration": 171,
    "start_time": "2023-08-06T09:09:14.526Z"
   },
   {
    "duration": 168,
    "start_time": "2023-08-06T09:09:18.746Z"
   },
   {
    "duration": 170,
    "start_time": "2023-08-06T09:09:22.215Z"
   },
   {
    "duration": 5,
    "start_time": "2023-08-06T09:10:20.529Z"
   },
   {
    "duration": 193,
    "start_time": "2023-08-06T09:10:21.150Z"
   },
   {
    "duration": 6,
    "start_time": "2023-08-06T09:10:47.081Z"
   },
   {
    "duration": 161,
    "start_time": "2023-08-06T09:10:47.474Z"
   },
   {
    "duration": 150,
    "start_time": "2023-08-06T09:10:53.618Z"
   },
   {
    "duration": 151,
    "start_time": "2023-08-06T09:10:54.303Z"
   },
   {
    "duration": 409,
    "start_time": "2023-08-06T09:22:03.268Z"
   },
   {
    "duration": 238,
    "start_time": "2023-08-06T09:22:03.680Z"
   },
   {
    "duration": 4,
    "start_time": "2023-08-06T09:22:03.920Z"
   },
   {
    "duration": 751,
    "start_time": "2023-08-06T09:22:03.925Z"
   },
   {
    "duration": 23,
    "start_time": "2023-08-06T09:22:04.679Z"
   },
   {
    "duration": 3,
    "start_time": "2023-08-06T09:22:04.704Z"
   },
   {
    "duration": 8,
    "start_time": "2023-08-06T09:22:04.708Z"
   },
   {
    "duration": 3,
    "start_time": "2023-08-06T09:22:04.717Z"
   },
   {
    "duration": 8,
    "start_time": "2023-08-06T09:22:04.722Z"
   },
   {
    "duration": 4,
    "start_time": "2023-08-06T09:22:04.732Z"
   },
   {
    "duration": 443,
    "start_time": "2023-08-06T09:22:04.738Z"
   },
   {
    "duration": 7,
    "start_time": "2023-08-06T09:22:05.183Z"
   },
   {
    "duration": 221,
    "start_time": "2023-08-06T09:22:05.192Z"
   },
   {
    "duration": 171,
    "start_time": "2023-08-06T09:22:05.416Z"
   },
   {
    "duration": 180,
    "start_time": "2023-08-06T09:22:05.589Z"
   },
   {
    "duration": 25,
    "start_time": "2023-08-06T09:22:05.771Z"
   },
   {
    "duration": 50,
    "start_time": "2023-08-06T09:22:05.797Z"
   },
   {
    "duration": 18,
    "start_time": "2023-08-06T09:22:05.849Z"
   },
   {
    "duration": 167,
    "start_time": "2023-08-06T09:22:05.869Z"
   },
   {
    "duration": 169,
    "start_time": "2023-08-06T09:22:06.038Z"
   },
   {
    "duration": 145,
    "start_time": "2023-08-06T09:22:06.209Z"
   },
   {
    "duration": 472,
    "start_time": "2023-08-06T09:22:06.355Z"
   },
   {
    "duration": 28,
    "start_time": "2023-08-06T09:22:06.829Z"
   },
   {
    "duration": 10,
    "start_time": "2023-08-06T09:22:06.860Z"
   },
   {
    "duration": 22,
    "start_time": "2023-08-06T09:22:06.871Z"
   },
   {
    "duration": 28,
    "start_time": "2023-08-06T09:22:06.895Z"
   },
   {
    "duration": 6,
    "start_time": "2023-08-06T09:22:06.925Z"
   },
   {
    "duration": 45,
    "start_time": "2023-08-06T09:22:06.933Z"
   },
   {
    "duration": 193,
    "start_time": "2023-08-06T09:22:06.980Z"
   },
   {
    "duration": 108,
    "start_time": "2023-08-06T09:22:07.175Z"
   },
   {
    "duration": 88,
    "start_time": "2023-08-06T09:22:07.285Z"
   },
   {
    "duration": 95,
    "start_time": "2023-08-06T09:22:07.375Z"
   },
   {
    "duration": 402,
    "start_time": "2023-08-06T09:22:07.472Z"
   },
   {
    "duration": 5,
    "start_time": "2023-08-06T09:22:07.876Z"
   },
   {
    "duration": 162,
    "start_time": "2023-08-06T09:22:07.882Z"
   },
   {
    "duration": 303,
    "start_time": "2023-08-06T09:22:08.046Z"
   },
   {
    "duration": 11,
    "start_time": "2023-08-06T09:25:59.059Z"
   },
   {
    "duration": 402,
    "start_time": "2023-08-06T09:26:08.566Z"
   },
   {
    "duration": 4,
    "start_time": "2023-08-06T09:26:12.054Z"
   },
   {
    "duration": 14,
    "start_time": "2023-08-06T09:26:36.309Z"
   },
   {
    "duration": 47,
    "start_time": "2023-08-06T09:26:51.815Z"
   },
   {
    "duration": 18,
    "start_time": "2023-08-06T09:27:04.948Z"
   },
   {
    "duration": 5,
    "start_time": "2023-08-06T09:27:14.791Z"
   },
   {
    "duration": 1200,
    "start_time": "2023-08-06T09:27:15.354Z"
   },
   {
    "duration": 1057,
    "start_time": "2023-08-06T09:27:17.231Z"
   },
   {
    "duration": 1062,
    "start_time": "2023-08-06T09:27:18.688Z"
   },
   {
    "duration": 381,
    "start_time": "2023-08-06T09:27:29.828Z"
   },
   {
    "duration": 7,
    "start_time": "2023-08-06T09:27:31.630Z"
   },
   {
    "duration": 193,
    "start_time": "2023-08-06T09:27:32.215Z"
   },
   {
    "duration": 165,
    "start_time": "2023-08-06T09:27:34.134Z"
   },
   {
    "duration": 158,
    "start_time": "2023-08-06T09:27:36.875Z"
   },
   {
    "duration": 25,
    "start_time": "2023-08-06T09:27:42.954Z"
   },
   {
    "duration": 43,
    "start_time": "2023-08-06T09:27:43.734Z"
   },
   {
    "duration": 3,
    "start_time": "2023-08-06T09:27:44.518Z"
   },
   {
    "duration": 150,
    "start_time": "2023-08-06T09:27:45.853Z"
   },
   {
    "duration": 152,
    "start_time": "2023-08-06T09:27:47.754Z"
   },
   {
    "duration": 130,
    "start_time": "2023-08-06T09:27:49.132Z"
   },
   {
    "duration": 369,
    "start_time": "2023-08-06T09:27:51.755Z"
   },
   {
    "duration": 21,
    "start_time": "2023-08-06T09:27:55.727Z"
   },
   {
    "duration": 4,
    "start_time": "2023-08-06T09:28:01.470Z"
   },
   {
    "duration": 23,
    "start_time": "2023-08-06T09:28:02.826Z"
   },
   {
    "duration": 21,
    "start_time": "2023-08-06T09:28:04.422Z"
   },
   {
    "duration": 5,
    "start_time": "2023-08-06T09:28:07.854Z"
   },
   {
    "duration": 21,
    "start_time": "2023-08-06T09:28:10.054Z"
   },
   {
    "duration": 21,
    "start_time": "2023-08-06T09:28:11.754Z"
   },
   {
    "duration": 23,
    "start_time": "2023-08-06T09:28:13.954Z"
   },
   {
    "duration": 4,
    "start_time": "2023-08-06T09:28:18.426Z"
   },
   {
    "duration": 3,
    "start_time": "2023-08-06T09:28:22.673Z"
   },
   {
    "duration": 364,
    "start_time": "2023-08-06T09:28:23.507Z"
   },
   {
    "duration": 4,
    "start_time": "2023-08-06T09:28:27.900Z"
   },
   {
    "duration": 54,
    "start_time": "2023-08-06T09:28:30.353Z"
   },
   {
    "duration": 66,
    "start_time": "2023-08-06T09:30:18.103Z"
   },
   {
    "duration": 18,
    "start_time": "2023-08-06T09:30:18.700Z"
   },
   {
    "duration": 240,
    "start_time": "2023-08-06T09:30:30.128Z"
   },
   {
    "duration": 4,
    "start_time": "2023-08-06T09:30:55.989Z"
   },
   {
    "duration": 49,
    "start_time": "2023-08-06T09:31:00.423Z"
   },
   {
    "duration": 196,
    "start_time": "2023-08-06T09:31:14.173Z"
   },
   {
    "duration": 1313,
    "start_time": "2023-08-06T09:31:26.252Z"
   },
   {
    "duration": 1207,
    "start_time": "2023-08-06T09:31:35.524Z"
   },
   {
    "duration": 108,
    "start_time": "2023-08-06T09:31:41.966Z"
   },
   {
    "duration": 408,
    "start_time": "2023-08-06T09:32:51.650Z"
   },
   {
    "duration": 247,
    "start_time": "2023-08-06T09:32:52.060Z"
   },
   {
    "duration": 3,
    "start_time": "2023-08-06T09:32:52.309Z"
   },
   {
    "duration": 767,
    "start_time": "2023-08-06T09:32:52.313Z"
   },
   {
    "duration": 22,
    "start_time": "2023-08-06T09:32:53.082Z"
   },
   {
    "duration": 3,
    "start_time": "2023-08-06T09:32:53.105Z"
   },
   {
    "duration": 12,
    "start_time": "2023-08-06T09:32:53.109Z"
   },
   {
    "duration": 8,
    "start_time": "2023-08-06T09:32:53.122Z"
   },
   {
    "duration": 6,
    "start_time": "2023-08-06T09:32:53.131Z"
   },
   {
    "duration": 9,
    "start_time": "2023-08-06T09:32:53.139Z"
   },
   {
    "duration": 380,
    "start_time": "2023-08-06T09:32:53.149Z"
   },
   {
    "duration": 7,
    "start_time": "2023-08-06T09:32:53.531Z"
   },
   {
    "duration": 217,
    "start_time": "2023-08-06T09:32:53.540Z"
   },
   {
    "duration": 177,
    "start_time": "2023-08-06T09:32:53.768Z"
   },
   {
    "duration": 241,
    "start_time": "2023-08-06T09:32:53.946Z"
   },
   {
    "duration": 26,
    "start_time": "2023-08-06T09:32:54.189Z"
   },
   {
    "duration": 68,
    "start_time": "2023-08-06T09:32:54.217Z"
   },
   {
    "duration": 3,
    "start_time": "2023-08-06T09:32:54.287Z"
   },
   {
    "duration": 183,
    "start_time": "2023-08-06T09:32:54.292Z"
   },
   {
    "duration": 152,
    "start_time": "2023-08-06T09:32:54.477Z"
   },
   {
    "duration": 151,
    "start_time": "2023-08-06T09:32:54.631Z"
   },
   {
    "duration": 494,
    "start_time": "2023-08-06T09:32:54.783Z"
   },
   {
    "duration": 23,
    "start_time": "2023-08-06T09:32:55.279Z"
   },
   {
    "duration": 19,
    "start_time": "2023-08-06T09:32:55.304Z"
   },
   {
    "duration": 28,
    "start_time": "2023-08-06T09:32:55.325Z"
   },
   {
    "duration": 30,
    "start_time": "2023-08-06T09:32:55.355Z"
   },
   {
    "duration": 5,
    "start_time": "2023-08-06T09:32:55.386Z"
   },
   {
    "duration": 78,
    "start_time": "2023-08-06T09:32:55.392Z"
   },
   {
    "duration": 112,
    "start_time": "2023-08-06T09:32:55.471Z"
   },
   {
    "duration": 191,
    "start_time": "2023-08-06T09:32:55.585Z"
   },
   {
    "duration": 5,
    "start_time": "2023-08-06T09:32:55.868Z"
   },
   {
    "duration": 109,
    "start_time": "2023-08-06T09:32:55.877Z"
   },
   {
    "duration": 480,
    "start_time": "2023-08-06T09:32:55.987Z"
   },
   {
    "duration": 4,
    "start_time": "2023-08-06T09:32:56.469Z"
   },
   {
    "duration": 76,
    "start_time": "2023-08-06T09:32:56.474Z"
   },
   {
    "duration": 2415,
    "start_time": "2023-08-06T09:32:56.552Z"
   },
   {
    "duration": 288,
    "start_time": "2023-08-06T09:32:58.968Z"
   },
   {
    "duration": 6,
    "start_time": "2023-08-06T09:33:14.764Z"
   },
   {
    "duration": 6,
    "start_time": "2023-08-06T09:33:27.774Z"
   },
   {
    "duration": 7,
    "start_time": "2023-08-06T09:33:31.775Z"
   },
   {
    "duration": 16,
    "start_time": "2023-08-06T09:34:09.377Z"
   },
   {
    "duration": 11,
    "start_time": "2023-08-06T09:35:00.806Z"
   },
   {
    "duration": 12,
    "start_time": "2023-08-06T09:35:17.533Z"
   },
   {
    "duration": 11,
    "start_time": "2023-08-06T09:35:21.461Z"
   },
   {
    "duration": 413,
    "start_time": "2023-08-06T09:35:56.055Z"
   },
   {
    "duration": 237,
    "start_time": "2023-08-06T09:35:56.470Z"
   },
   {
    "duration": 3,
    "start_time": "2023-08-06T09:35:56.710Z"
   },
   {
    "duration": 736,
    "start_time": "2023-08-06T09:35:56.715Z"
   },
   {
    "duration": 20,
    "start_time": "2023-08-06T09:35:57.453Z"
   },
   {
    "duration": 3,
    "start_time": "2023-08-06T09:35:57.474Z"
   },
   {
    "duration": 6,
    "start_time": "2023-08-06T09:35:57.478Z"
   },
   {
    "duration": 13,
    "start_time": "2023-08-06T09:35:57.486Z"
   },
   {
    "duration": 19,
    "start_time": "2023-08-06T09:35:57.500Z"
   },
   {
    "duration": 14,
    "start_time": "2023-08-06T09:35:57.521Z"
   },
   {
    "duration": 371,
    "start_time": "2023-08-06T09:35:57.537Z"
   },
   {
    "duration": 7,
    "start_time": "2023-08-06T09:35:57.910Z"
   },
   {
    "duration": 214,
    "start_time": "2023-08-06T09:35:57.920Z"
   },
   {
    "duration": 175,
    "start_time": "2023-08-06T09:35:58.135Z"
   },
   {
    "duration": 179,
    "start_time": "2023-08-06T09:35:58.311Z"
   },
   {
    "duration": 26,
    "start_time": "2023-08-06T09:35:58.492Z"
   },
   {
    "duration": 79,
    "start_time": "2023-08-06T09:35:58.520Z"
   },
   {
    "duration": 3,
    "start_time": "2023-08-06T09:35:58.601Z"
   },
   {
    "duration": 165,
    "start_time": "2023-08-06T09:35:58.606Z"
   },
   {
    "duration": 160,
    "start_time": "2023-08-06T09:35:58.772Z"
   },
   {
    "duration": 161,
    "start_time": "2023-08-06T09:35:58.933Z"
   },
   {
    "duration": 492,
    "start_time": "2023-08-06T09:35:59.096Z"
   },
   {
    "duration": 23,
    "start_time": "2023-08-06T09:35:59.589Z"
   },
   {
    "duration": 8,
    "start_time": "2023-08-06T09:35:59.614Z"
   },
   {
    "duration": 23,
    "start_time": "2023-08-06T09:35:59.624Z"
   },
   {
    "duration": 43,
    "start_time": "2023-08-06T09:35:59.648Z"
   },
   {
    "duration": 4,
    "start_time": "2023-08-06T09:35:59.693Z"
   },
   {
    "duration": 72,
    "start_time": "2023-08-06T09:35:59.699Z"
   },
   {
    "duration": 196,
    "start_time": "2023-08-06T09:35:59.772Z"
   },
   {
    "duration": 107,
    "start_time": "2023-08-06T09:35:59.970Z"
   },
   {
    "duration": 92,
    "start_time": "2023-08-06T09:36:00.078Z"
   },
   {
    "duration": 96,
    "start_time": "2023-08-06T09:36:00.172Z"
   },
   {
    "duration": 406,
    "start_time": "2023-08-06T09:36:00.270Z"
   },
   {
    "duration": 4,
    "start_time": "2023-08-06T09:36:00.767Z"
   },
   {
    "duration": 103,
    "start_time": "2023-08-06T09:36:00.773Z"
   },
   {
    "duration": 2616,
    "start_time": "2023-08-06T09:36:00.878Z"
   },
   {
    "duration": 11,
    "start_time": "2023-08-06T09:36:03.496Z"
   },
   {
    "duration": 267,
    "start_time": "2023-08-06T09:36:03.509Z"
   },
   {
    "duration": 11,
    "start_time": "2023-08-06T09:37:13.473Z"
   },
   {
    "duration": 10,
    "start_time": "2023-08-06T09:37:19.800Z"
   },
   {
    "duration": 13,
    "start_time": "2023-08-06T09:37:25.961Z"
   },
   {
    "duration": 355,
    "start_time": "2023-08-06T09:38:07.622Z"
   },
   {
    "duration": 234,
    "start_time": "2023-08-06T09:38:07.980Z"
   },
   {
    "duration": 3,
    "start_time": "2023-08-06T09:38:08.216Z"
   },
   {
    "duration": 722,
    "start_time": "2023-08-06T09:38:08.221Z"
   },
   {
    "duration": 21,
    "start_time": "2023-08-06T09:38:08.945Z"
   },
   {
    "duration": 3,
    "start_time": "2023-08-06T09:38:08.968Z"
   },
   {
    "duration": 17,
    "start_time": "2023-08-06T09:38:08.973Z"
   },
   {
    "duration": 3,
    "start_time": "2023-08-06T09:38:08.992Z"
   },
   {
    "duration": 15,
    "start_time": "2023-08-06T09:38:08.996Z"
   },
   {
    "duration": 6,
    "start_time": "2023-08-06T09:38:09.012Z"
   },
   {
    "duration": 374,
    "start_time": "2023-08-06T09:38:09.019Z"
   },
   {
    "duration": 7,
    "start_time": "2023-08-06T09:38:09.395Z"
   },
   {
    "duration": 214,
    "start_time": "2023-08-06T09:38:09.403Z"
   },
   {
    "duration": 176,
    "start_time": "2023-08-06T09:38:09.619Z"
   },
   {
    "duration": 190,
    "start_time": "2023-08-06T09:38:09.797Z"
   },
   {
    "duration": 3,
    "start_time": "2023-08-06T09:38:09.989Z"
   },
   {
    "duration": 77,
    "start_time": "2023-08-06T09:38:09.994Z"
   },
   {
    "duration": 2,
    "start_time": "2023-08-06T09:38:10.073Z"
   },
   {
    "duration": 167,
    "start_time": "2023-08-06T09:38:10.077Z"
   },
   {
    "duration": 163,
    "start_time": "2023-08-06T09:38:10.246Z"
   },
   {
    "duration": 147,
    "start_time": "2023-08-06T09:38:10.411Z"
   },
   {
    "duration": 474,
    "start_time": "2023-08-06T09:38:10.559Z"
   },
   {
    "duration": 35,
    "start_time": "2023-08-06T09:38:11.035Z"
   },
   {
    "duration": 4,
    "start_time": "2023-08-06T09:38:11.072Z"
   },
   {
    "duration": 23,
    "start_time": "2023-08-06T09:38:11.078Z"
   },
   {
    "duration": 29,
    "start_time": "2023-08-06T09:38:11.102Z"
   },
   {
    "duration": 4,
    "start_time": "2023-08-06T09:38:11.133Z"
   },
   {
    "duration": 44,
    "start_time": "2023-08-06T09:38:11.139Z"
   },
   {
    "duration": 189,
    "start_time": "2023-08-06T09:38:11.185Z"
   },
   {
    "duration": 194,
    "start_time": "2023-08-06T09:38:11.376Z"
   },
   {
    "duration": 91,
    "start_time": "2023-08-06T09:38:11.577Z"
   },
   {
    "duration": 7,
    "start_time": "2023-08-06T09:38:11.670Z"
   },
   {
    "duration": 389,
    "start_time": "2023-08-06T09:38:11.679Z"
   },
   {
    "duration": 5,
    "start_time": "2023-08-06T09:38:12.072Z"
   },
   {
    "duration": 137,
    "start_time": "2023-08-06T09:38:12.079Z"
   },
   {
    "duration": 2770,
    "start_time": "2023-08-06T09:38:12.217Z"
   },
   {
    "duration": 14,
    "start_time": "2023-08-06T09:38:14.989Z"
   },
   {
    "duration": 1374,
    "start_time": "2023-08-06T09:38:15.005Z"
   },
   {
    "duration": 110,
    "start_time": "2023-08-06T09:39:05.898Z"
   },
   {
    "duration": 3,
    "start_time": "2023-08-06T09:40:09.996Z"
   },
   {
    "duration": 6,
    "start_time": "2023-08-06T09:40:10.001Z"
   },
   {
    "duration": 8,
    "start_time": "2023-08-06T09:40:10.009Z"
   },
   {
    "duration": 6,
    "start_time": "2023-08-06T09:40:10.018Z"
   },
   {
    "duration": 13,
    "start_time": "2023-08-06T09:40:10.026Z"
   },
   {
    "duration": 27,
    "start_time": "2023-08-06T09:40:10.041Z"
   },
   {
    "duration": 7,
    "start_time": "2023-08-06T09:40:10.070Z"
   },
   {
    "duration": 6,
    "start_time": "2023-08-06T09:40:10.078Z"
   },
   {
    "duration": 5,
    "start_time": "2023-08-06T09:40:10.086Z"
   },
   {
    "duration": 5,
    "start_time": "2023-08-06T09:40:10.093Z"
   },
   {
    "duration": 356,
    "start_time": "2023-08-06T09:40:10.100Z"
   },
   {
    "duration": 6,
    "start_time": "2023-08-06T09:40:10.458Z"
   },
   {
    "duration": 165,
    "start_time": "2023-08-06T09:40:10.466Z"
   },
   {
    "duration": 171,
    "start_time": "2023-08-06T09:40:10.634Z"
   },
   {
    "duration": 183,
    "start_time": "2023-08-06T09:40:10.806Z"
   },
   {
    "duration": 27,
    "start_time": "2023-08-06T09:40:10.991Z"
   },
   {
    "duration": 77,
    "start_time": "2023-08-06T09:40:11.020Z"
   },
   {
    "duration": 3,
    "start_time": "2023-08-06T09:40:11.099Z"
   },
   {
    "duration": 156,
    "start_time": "2023-08-06T09:40:11.104Z"
   },
   {
    "duration": 147,
    "start_time": "2023-08-06T09:40:11.262Z"
   },
   {
    "duration": 157,
    "start_time": "2023-08-06T09:40:11.410Z"
   },
   {
    "duration": 371,
    "start_time": "2023-08-06T09:40:11.569Z"
   },
   {
    "duration": 25,
    "start_time": "2023-08-06T09:40:11.942Z"
   },
   {
    "duration": 5,
    "start_time": "2023-08-06T09:40:11.969Z"
   },
   {
    "duration": 26,
    "start_time": "2023-08-06T09:40:16.784Z"
   },
   {
    "duration": 25,
    "start_time": "2023-08-06T09:40:21.206Z"
   },
   {
    "duration": 11,
    "start_time": "2023-08-06T09:40:41.424Z"
   },
   {
    "duration": 178,
    "start_time": "2023-08-06T09:40:45.096Z"
   },
   {
    "duration": 5,
    "start_time": "2023-08-06T09:42:25.552Z"
   },
   {
    "duration": 2459,
    "start_time": "2023-08-06T09:42:56.048Z"
   },
   {
    "duration": 6,
    "start_time": "2023-08-06T09:42:58.509Z"
   },
   {
    "duration": 168,
    "start_time": "2023-08-06T09:43:01.500Z"
   },
   {
    "duration": 2522,
    "start_time": "2023-08-06T09:43:06.918Z"
   },
   {
    "duration": 11,
    "start_time": "2023-08-06T09:43:24.137Z"
   },
   {
    "duration": 3,
    "start_time": "2023-08-06T09:43:28.752Z"
   },
   {
    "duration": 5,
    "start_time": "2023-08-06T09:43:36.190Z"
   },
   {
    "duration": 6,
    "start_time": "2023-08-06T09:43:39.252Z"
   },
   {
    "duration": 5,
    "start_time": "2023-08-06T09:44:19.396Z"
   },
   {
    "duration": 5,
    "start_time": "2023-08-06T09:44:31.349Z"
   },
   {
    "duration": 12,
    "start_time": "2023-08-06T09:46:20.426Z"
   },
   {
    "duration": 357,
    "start_time": "2023-08-06T09:46:26.612Z"
   },
   {
    "duration": 237,
    "start_time": "2023-08-06T09:46:26.971Z"
   },
   {
    "duration": 2,
    "start_time": "2023-08-06T09:46:27.210Z"
   },
   {
    "duration": 750,
    "start_time": "2023-08-06T09:46:27.214Z"
   },
   {
    "duration": 21,
    "start_time": "2023-08-06T09:46:27.967Z"
   },
   {
    "duration": 3,
    "start_time": "2023-08-06T09:46:27.990Z"
   },
   {
    "duration": 20,
    "start_time": "2023-08-06T09:46:27.995Z"
   },
   {
    "duration": 8,
    "start_time": "2023-08-06T09:46:28.017Z"
   },
   {
    "duration": 4,
    "start_time": "2023-08-06T09:46:28.027Z"
   },
   {
    "duration": 16,
    "start_time": "2023-08-06T09:46:28.032Z"
   },
   {
    "duration": 665,
    "start_time": "2023-08-06T09:46:28.049Z"
   },
   {
    "duration": 8,
    "start_time": "2023-08-06T09:46:28.766Z"
   },
   {
    "duration": 429,
    "start_time": "2023-08-06T09:46:28.775Z"
   },
   {
    "duration": 383,
    "start_time": "2023-08-06T09:46:29.207Z"
   },
   {
    "duration": 382,
    "start_time": "2023-08-06T09:46:29.592Z"
   },
   {
    "duration": 467,
    "start_time": "2023-08-06T09:46:29.976Z"
   },
   {
    "duration": 0,
    "start_time": "2023-08-06T09:46:30.444Z"
   },
   {
    "duration": 0,
    "start_time": "2023-08-06T09:46:30.446Z"
   },
   {
    "duration": 0,
    "start_time": "2023-08-06T09:46:30.447Z"
   },
   {
    "duration": 0,
    "start_time": "2023-08-06T09:46:30.448Z"
   },
   {
    "duration": 0,
    "start_time": "2023-08-06T09:46:30.449Z"
   },
   {
    "duration": 0,
    "start_time": "2023-08-06T09:46:30.450Z"
   },
   {
    "duration": 0,
    "start_time": "2023-08-06T09:46:30.451Z"
   },
   {
    "duration": 0,
    "start_time": "2023-08-06T09:46:30.453Z"
   },
   {
    "duration": 0,
    "start_time": "2023-08-06T09:46:30.454Z"
   },
   {
    "duration": 0,
    "start_time": "2023-08-06T09:46:30.456Z"
   },
   {
    "duration": 0,
    "start_time": "2023-08-06T09:46:30.457Z"
   },
   {
    "duration": 0,
    "start_time": "2023-08-06T09:46:30.458Z"
   },
   {
    "duration": 0,
    "start_time": "2023-08-06T09:46:30.459Z"
   },
   {
    "duration": 0,
    "start_time": "2023-08-06T09:46:30.460Z"
   },
   {
    "duration": 0,
    "start_time": "2023-08-06T09:46:30.461Z"
   },
   {
    "duration": 0,
    "start_time": "2023-08-06T09:46:30.463Z"
   },
   {
    "duration": 0,
    "start_time": "2023-08-06T09:46:30.464Z"
   },
   {
    "duration": 0,
    "start_time": "2023-08-06T09:46:30.465Z"
   },
   {
    "duration": 0,
    "start_time": "2023-08-06T09:46:30.466Z"
   },
   {
    "duration": 0,
    "start_time": "2023-08-06T09:46:30.467Z"
   },
   {
    "duration": 403,
    "start_time": "2023-08-06T09:46:42.270Z"
   },
   {
    "duration": 240,
    "start_time": "2023-08-06T09:46:42.675Z"
   },
   {
    "duration": 3,
    "start_time": "2023-08-06T09:46:42.917Z"
   },
   {
    "duration": 738,
    "start_time": "2023-08-06T09:46:42.921Z"
   },
   {
    "duration": 20,
    "start_time": "2023-08-06T09:46:43.662Z"
   },
   {
    "duration": 2,
    "start_time": "2023-08-06T09:46:43.684Z"
   },
   {
    "duration": 12,
    "start_time": "2023-08-06T09:46:43.688Z"
   },
   {
    "duration": 3,
    "start_time": "2023-08-06T09:46:43.701Z"
   },
   {
    "duration": 3,
    "start_time": "2023-08-06T09:46:43.706Z"
   },
   {
    "duration": 7,
    "start_time": "2023-08-06T09:46:43.711Z"
   },
   {
    "duration": 397,
    "start_time": "2023-08-06T09:46:43.720Z"
   },
   {
    "duration": 9,
    "start_time": "2023-08-06T09:46:44.119Z"
   },
   {
    "duration": 240,
    "start_time": "2023-08-06T09:46:44.130Z"
   },
   {
    "duration": 204,
    "start_time": "2023-08-06T09:46:44.374Z"
   },
   {
    "duration": 199,
    "start_time": "2023-08-06T09:46:44.579Z"
   },
   {
    "duration": 29,
    "start_time": "2023-08-06T09:46:44.780Z"
   },
   {
    "duration": 82,
    "start_time": "2023-08-06T09:46:44.810Z"
   },
   {
    "duration": 4,
    "start_time": "2023-08-06T09:46:44.894Z"
   },
   {
    "duration": 174,
    "start_time": "2023-08-06T09:46:44.901Z"
   },
   {
    "duration": 153,
    "start_time": "2023-08-06T09:46:45.077Z"
   },
   {
    "duration": 154,
    "start_time": "2023-08-06T09:46:45.232Z"
   },
   {
    "duration": 475,
    "start_time": "2023-08-06T09:46:45.388Z"
   },
   {
    "duration": 21,
    "start_time": "2023-08-06T09:46:45.864Z"
   },
   {
    "duration": 6,
    "start_time": "2023-08-06T09:46:45.887Z"
   },
   {
    "duration": 24,
    "start_time": "2023-08-06T09:46:45.895Z"
   },
   {
    "duration": 46,
    "start_time": "2023-08-06T09:46:45.920Z"
   },
   {
    "duration": 4,
    "start_time": "2023-08-06T09:46:45.969Z"
   },
   {
    "duration": 21,
    "start_time": "2023-08-06T09:46:45.974Z"
   },
   {
    "duration": 107,
    "start_time": "2023-08-06T09:46:46.067Z"
   },
   {
    "duration": 112,
    "start_time": "2023-08-06T09:46:46.266Z"
   },
   {
    "duration": 6,
    "start_time": "2023-08-06T09:46:46.466Z"
   },
   {
    "duration": 98,
    "start_time": "2023-08-06T09:46:46.475Z"
   },
   {
    "duration": 398,
    "start_time": "2023-08-06T09:46:46.575Z"
   },
   {
    "duration": 4,
    "start_time": "2023-08-06T09:46:46.975Z"
   },
   {
    "duration": 144,
    "start_time": "2023-08-06T09:46:46.980Z"
   },
   {
    "duration": 4462,
    "start_time": "2023-08-06T09:46:47.126Z"
   },
   {
    "duration": 374,
    "start_time": "2023-08-06T09:54:29.588Z"
   },
   {
    "duration": 358,
    "start_time": "2023-08-06T09:54:40.254Z"
   },
   {
    "duration": 410,
    "start_time": "2023-08-06T09:54:50.989Z"
   },
   {
    "duration": 249,
    "start_time": "2023-08-06T09:54:51.401Z"
   },
   {
    "duration": 2,
    "start_time": "2023-08-06T09:54:51.652Z"
   },
   {
    "duration": 756,
    "start_time": "2023-08-06T09:54:51.656Z"
   },
   {
    "duration": 21,
    "start_time": "2023-08-06T09:54:52.414Z"
   },
   {
    "duration": 3,
    "start_time": "2023-08-06T09:54:52.436Z"
   },
   {
    "duration": 20,
    "start_time": "2023-08-06T09:54:52.441Z"
   },
   {
    "duration": 8,
    "start_time": "2023-08-06T09:54:52.463Z"
   },
   {
    "duration": 8,
    "start_time": "2023-08-06T09:54:52.472Z"
   },
   {
    "duration": 14,
    "start_time": "2023-08-06T09:54:52.482Z"
   },
   {
    "duration": 418,
    "start_time": "2023-08-06T09:54:52.498Z"
   },
   {
    "duration": 3,
    "start_time": "2023-08-06T09:54:52.917Z"
   },
   {
    "duration": 12,
    "start_time": "2023-08-06T09:54:52.921Z"
   },
   {
    "duration": 231,
    "start_time": "2023-08-06T09:54:52.936Z"
   },
   {
    "duration": 185,
    "start_time": "2023-08-06T09:54:53.169Z"
   },
   {
    "duration": 181,
    "start_time": "2023-08-06T09:54:53.366Z"
   },
   {
    "duration": 40,
    "start_time": "2023-08-06T09:54:53.549Z"
   },
   {
    "duration": 51,
    "start_time": "2023-08-06T09:54:53.591Z"
   },
   {
    "duration": 3,
    "start_time": "2023-08-06T09:54:53.643Z"
   },
   {
    "duration": 165,
    "start_time": "2023-08-06T09:54:53.668Z"
   },
   {
    "duration": 190,
    "start_time": "2023-08-06T09:54:53.835Z"
   },
   {
    "duration": 207,
    "start_time": "2023-08-06T09:54:54.027Z"
   },
   {
    "duration": 492,
    "start_time": "2023-08-06T09:54:54.236Z"
   },
   {
    "duration": 20,
    "start_time": "2023-08-06T09:54:54.730Z"
   },
   {
    "duration": 5,
    "start_time": "2023-08-06T09:54:54.766Z"
   },
   {
    "duration": 29,
    "start_time": "2023-08-06T09:54:54.773Z"
   },
   {
    "duration": 29,
    "start_time": "2023-08-06T09:54:54.804Z"
   },
   {
    "duration": 17,
    "start_time": "2023-08-06T09:54:54.835Z"
   },
   {
    "duration": 23,
    "start_time": "2023-08-06T09:54:54.866Z"
   },
   {
    "duration": 88,
    "start_time": "2023-08-06T09:54:54.891Z"
   },
   {
    "duration": 192,
    "start_time": "2023-08-06T09:54:54.981Z"
   },
   {
    "duration": 90,
    "start_time": "2023-08-06T09:54:55.177Z"
   },
   {
    "duration": 22,
    "start_time": "2023-08-06T09:54:55.269Z"
   },
   {
    "duration": 411,
    "start_time": "2023-08-06T09:54:55.368Z"
   },
   {
    "duration": 87,
    "start_time": "2023-08-06T09:54:55.781Z"
   },
   {
    "duration": 78,
    "start_time": "2023-08-06T09:54:55.870Z"
   },
   {
    "duration": 3786,
    "start_time": "2023-08-06T09:54:55.949Z"
   },
   {
    "duration": 363,
    "start_time": "2023-08-06T10:11:35.211Z"
   },
   {
    "duration": 232,
    "start_time": "2023-08-06T10:11:35.576Z"
   },
   {
    "duration": 3,
    "start_time": "2023-08-06T10:11:35.809Z"
   },
   {
    "duration": 743,
    "start_time": "2023-08-06T10:11:35.813Z"
   },
   {
    "duration": 20,
    "start_time": "2023-08-06T10:11:36.558Z"
   },
   {
    "duration": 3,
    "start_time": "2023-08-06T10:11:36.580Z"
   },
   {
    "duration": 15,
    "start_time": "2023-08-06T10:11:36.584Z"
   },
   {
    "duration": 2,
    "start_time": "2023-08-06T10:11:36.601Z"
   },
   {
    "duration": 13,
    "start_time": "2023-08-06T10:11:36.605Z"
   },
   {
    "duration": 14,
    "start_time": "2023-08-06T10:11:36.620Z"
   },
   {
    "duration": 385,
    "start_time": "2023-08-06T10:11:36.636Z"
   },
   {
    "duration": 3,
    "start_time": "2023-08-06T10:11:37.022Z"
   },
   {
    "duration": 6,
    "start_time": "2023-08-06T10:11:37.026Z"
   },
   {
    "duration": 233,
    "start_time": "2023-08-06T10:11:37.035Z"
   },
   {
    "duration": 168,
    "start_time": "2023-08-06T10:11:37.270Z"
   },
   {
    "duration": 183,
    "start_time": "2023-08-06T10:11:37.440Z"
   },
   {
    "duration": 43,
    "start_time": "2023-08-06T10:11:37.625Z"
   },
   {
    "duration": 49,
    "start_time": "2023-08-06T10:11:37.670Z"
   },
   {
    "duration": 4,
    "start_time": "2023-08-06T10:11:37.721Z"
   },
   {
    "duration": 179,
    "start_time": "2023-08-06T10:11:37.727Z"
   },
   {
    "duration": 163,
    "start_time": "2023-08-06T10:11:37.908Z"
   },
   {
    "duration": 157,
    "start_time": "2023-08-06T10:11:38.073Z"
   },
   {
    "duration": 470,
    "start_time": "2023-08-06T10:11:38.231Z"
   },
   {
    "duration": 21,
    "start_time": "2023-08-06T10:11:38.703Z"
   },
   {
    "duration": 38,
    "start_time": "2023-08-06T10:11:38.726Z"
   },
   {
    "duration": 22,
    "start_time": "2023-08-06T10:11:38.766Z"
   },
   {
    "duration": 26,
    "start_time": "2023-08-06T10:11:38.790Z"
   },
   {
    "duration": 5,
    "start_time": "2023-08-06T10:11:38.818Z"
   },
   {
    "duration": 50,
    "start_time": "2023-08-06T10:11:38.824Z"
   },
   {
    "duration": 194,
    "start_time": "2023-08-06T10:11:38.875Z"
   },
   {
    "duration": 104,
    "start_time": "2023-08-06T10:11:39.071Z"
   },
   {
    "duration": 5,
    "start_time": "2023-08-06T10:11:39.271Z"
   },
   {
    "duration": 90,
    "start_time": "2023-08-06T10:11:39.277Z"
   },
   {
    "duration": 399,
    "start_time": "2023-08-06T10:11:39.369Z"
   },
   {
    "duration": 4,
    "start_time": "2023-08-06T10:11:39.770Z"
   },
   {
    "duration": 134,
    "start_time": "2023-08-06T10:11:39.775Z"
   },
   {
    "duration": 3696,
    "start_time": "2023-08-06T10:11:39.911Z"
   },
   {
    "duration": 3915,
    "start_time": "2023-08-06T10:14:22.719Z"
   },
   {
    "duration": 394,
    "start_time": "2023-08-06T10:16:09.968Z"
   },
   {
    "duration": 230,
    "start_time": "2023-08-06T10:16:10.367Z"
   },
   {
    "duration": 3,
    "start_time": "2023-08-06T10:16:10.598Z"
   },
   {
    "duration": 674,
    "start_time": "2023-08-06T10:16:10.602Z"
   },
   {
    "duration": 20,
    "start_time": "2023-08-06T10:16:11.278Z"
   },
   {
    "duration": 2,
    "start_time": "2023-08-06T10:16:11.300Z"
   },
   {
    "duration": 10,
    "start_time": "2023-08-06T10:16:11.303Z"
   },
   {
    "duration": 10,
    "start_time": "2023-08-06T10:16:11.314Z"
   },
   {
    "duration": 6,
    "start_time": "2023-08-06T10:16:11.326Z"
   },
   {
    "duration": 6,
    "start_time": "2023-08-06T10:16:11.333Z"
   },
   {
    "duration": 374,
    "start_time": "2023-08-06T10:16:11.340Z"
   },
   {
    "duration": 2,
    "start_time": "2023-08-06T10:16:11.716Z"
   },
   {
    "duration": 9,
    "start_time": "2023-08-06T10:16:11.720Z"
   },
   {
    "duration": 236,
    "start_time": "2023-08-06T10:16:11.732Z"
   },
   {
    "duration": 168,
    "start_time": "2023-08-06T10:16:11.970Z"
   },
   {
    "duration": 187,
    "start_time": "2023-08-06T10:16:12.139Z"
   },
   {
    "duration": 43,
    "start_time": "2023-08-06T10:16:12.328Z"
   },
   {
    "duration": 47,
    "start_time": "2023-08-06T10:16:12.373Z"
   },
   {
    "duration": 3,
    "start_time": "2023-08-06T10:16:12.422Z"
   },
   {
    "duration": 180,
    "start_time": "2023-08-06T10:16:12.426Z"
   },
   {
    "duration": 161,
    "start_time": "2023-08-06T10:16:12.607Z"
   },
   {
    "duration": 162,
    "start_time": "2023-08-06T10:16:12.770Z"
   },
   {
    "duration": 503,
    "start_time": "2023-08-06T10:16:12.933Z"
   },
   {
    "duration": 29,
    "start_time": "2023-08-06T10:16:13.438Z"
   },
   {
    "duration": 14,
    "start_time": "2023-08-06T10:16:13.468Z"
   },
   {
    "duration": 36,
    "start_time": "2023-08-06T10:16:13.484Z"
   },
   {
    "duration": 27,
    "start_time": "2023-08-06T10:16:13.522Z"
   },
   {
    "duration": 4,
    "start_time": "2023-08-06T10:16:13.551Z"
   },
   {
    "duration": 36,
    "start_time": "2023-08-06T10:16:13.557Z"
   },
   {
    "duration": 274,
    "start_time": "2023-08-06T10:16:13.594Z"
   },
   {
    "duration": 109,
    "start_time": "2023-08-06T10:16:13.870Z"
   },
   {
    "duration": 88,
    "start_time": "2023-08-06T10:16:13.980Z"
   },
   {
    "duration": 4,
    "start_time": "2023-08-06T10:16:14.070Z"
   },
   {
    "duration": 394,
    "start_time": "2023-08-06T10:16:14.076Z"
   },
   {
    "duration": 4,
    "start_time": "2023-08-06T10:16:14.472Z"
   },
   {
    "duration": 58,
    "start_time": "2023-08-06T10:16:14.568Z"
   },
   {
    "duration": 3569,
    "start_time": "2023-08-06T10:16:14.628Z"
   },
   {
    "duration": 12,
    "start_time": "2023-08-07T10:50:59.283Z"
   },
   {
    "duration": 5,
    "start_time": "2023-08-07T10:51:03.296Z"
   },
   {
    "duration": 4,
    "start_time": "2023-08-07T10:51:07.417Z"
   },
   {
    "duration": 3,
    "start_time": "2023-08-07T10:51:14.077Z"
   },
   {
    "duration": 398,
    "start_time": "2023-08-07T10:51:19.488Z"
   },
   {
    "duration": 376,
    "start_time": "2023-08-07T10:51:19.888Z"
   },
   {
    "duration": 3,
    "start_time": "2023-08-07T10:51:20.266Z"
   },
   {
    "duration": 2278,
    "start_time": "2023-08-07T10:51:20.271Z"
   },
   {
    "duration": 20,
    "start_time": "2023-08-07T10:51:22.551Z"
   },
   {
    "duration": 2,
    "start_time": "2023-08-07T10:51:22.573Z"
   },
   {
    "duration": 18,
    "start_time": "2023-08-07T10:51:22.576Z"
   },
   {
    "duration": 27,
    "start_time": "2023-08-07T10:51:22.595Z"
   },
   {
    "duration": 12,
    "start_time": "2023-08-07T10:51:22.624Z"
   },
   {
    "duration": 14,
    "start_time": "2023-08-07T10:51:22.638Z"
   },
   {
    "duration": 694,
    "start_time": "2023-08-07T10:51:22.653Z"
   },
   {
    "duration": 2,
    "start_time": "2023-08-07T10:51:23.348Z"
   },
   {
    "duration": 15,
    "start_time": "2023-08-07T10:51:23.351Z"
   },
   {
    "duration": 214,
    "start_time": "2023-08-07T10:51:23.367Z"
   },
   {
    "duration": 161,
    "start_time": "2023-08-07T10:51:23.582Z"
   },
   {
    "duration": 169,
    "start_time": "2023-08-07T10:51:23.744Z"
   },
   {
    "duration": 21,
    "start_time": "2023-08-07T10:51:23.915Z"
   },
   {
    "duration": 68,
    "start_time": "2023-08-07T10:51:23.938Z"
   },
   {
    "duration": 3,
    "start_time": "2023-08-07T10:51:24.008Z"
   },
   {
    "duration": 148,
    "start_time": "2023-08-07T10:51:24.013Z"
   },
   {
    "duration": 138,
    "start_time": "2023-08-07T10:51:24.163Z"
   },
   {
    "duration": 133,
    "start_time": "2023-08-07T10:51:24.303Z"
   },
   {
    "duration": 430,
    "start_time": "2023-08-07T10:51:24.438Z"
   },
   {
    "duration": 16,
    "start_time": "2023-08-07T10:51:24.870Z"
   },
   {
    "duration": 13,
    "start_time": "2023-08-07T10:51:24.888Z"
   },
   {
    "duration": 22,
    "start_time": "2023-08-07T10:51:24.903Z"
   },
   {
    "duration": 21,
    "start_time": "2023-08-07T10:51:24.927Z"
   },
   {
    "duration": 5,
    "start_time": "2023-08-07T10:51:24.951Z"
   },
   {
    "duration": 47,
    "start_time": "2023-08-07T10:51:24.957Z"
   },
   {
    "duration": 201,
    "start_time": "2023-08-07T10:51:25.005Z"
   },
   {
    "duration": 130,
    "start_time": "2023-08-07T10:51:25.208Z"
   },
   {
    "duration": 70,
    "start_time": "2023-08-07T10:51:25.340Z"
   },
   {
    "duration": 97,
    "start_time": "2023-08-07T10:51:25.412Z"
   },
   {
    "duration": 395,
    "start_time": "2023-08-07T10:51:25.511Z"
   },
   {
    "duration": 90,
    "start_time": "2023-08-07T10:51:25.911Z"
   },
   {
    "duration": 63,
    "start_time": "2023-08-07T10:51:26.003Z"
   },
   {
    "duration": 86,
    "start_time": "2023-08-07T10:51:26.069Z"
   },
   {
    "duration": 2994,
    "start_time": "2023-08-07T10:51:26.158Z"
   },
   {
    "duration": 3,
    "start_time": "2023-08-07T10:51:38.422Z"
   },
   {
    "duration": 3,
    "start_time": "2023-08-07T10:51:58.628Z"
   },
   {
    "duration": 3,
    "start_time": "2023-08-07T10:52:09.173Z"
   },
   {
    "duration": 356,
    "start_time": "2023-08-07T10:52:13.639Z"
   },
   {
    "duration": 265,
    "start_time": "2023-08-07T10:52:13.997Z"
   },
   {
    "duration": 3,
    "start_time": "2023-08-07T10:52:14.263Z"
   },
   {
    "duration": 2018,
    "start_time": "2023-08-07T10:52:14.267Z"
   },
   {
    "duration": 20,
    "start_time": "2023-08-07T10:52:16.288Z"
   },
   {
    "duration": 3,
    "start_time": "2023-08-07T10:52:16.309Z"
   },
   {
    "duration": 12,
    "start_time": "2023-08-07T10:52:16.314Z"
   },
   {
    "duration": 10,
    "start_time": "2023-08-07T10:52:16.327Z"
   },
   {
    "duration": 14,
    "start_time": "2023-08-07T10:52:16.338Z"
   },
   {
    "duration": 8,
    "start_time": "2023-08-07T10:52:16.354Z"
   },
   {
    "duration": 342,
    "start_time": "2023-08-07T10:52:16.363Z"
   },
   {
    "duration": 2,
    "start_time": "2023-08-07T10:52:16.706Z"
   },
   {
    "duration": 8,
    "start_time": "2023-08-07T10:52:16.710Z"
   },
   {
    "duration": 199,
    "start_time": "2023-08-07T10:52:16.721Z"
   },
   {
    "duration": 149,
    "start_time": "2023-08-07T10:52:16.922Z"
   },
   {
    "duration": 182,
    "start_time": "2023-08-07T10:52:17.073Z"
   },
   {
    "duration": 21,
    "start_time": "2023-08-07T10:52:17.256Z"
   },
   {
    "duration": 56,
    "start_time": "2023-08-07T10:52:17.279Z"
   },
   {
    "duration": 3,
    "start_time": "2023-08-07T10:52:17.337Z"
   },
   {
    "duration": 149,
    "start_time": "2023-08-07T10:52:17.341Z"
   },
   {
    "duration": 149,
    "start_time": "2023-08-07T10:52:17.492Z"
   },
   {
    "duration": 133,
    "start_time": "2023-08-07T10:52:17.643Z"
   },
   {
    "duration": 442,
    "start_time": "2023-08-07T10:52:17.777Z"
   },
   {
    "duration": 20,
    "start_time": "2023-08-07T10:52:18.220Z"
   },
   {
    "duration": 27,
    "start_time": "2023-08-07T10:52:18.242Z"
   },
   {
    "duration": 27,
    "start_time": "2023-08-07T10:52:18.270Z"
   },
   {
    "duration": 23,
    "start_time": "2023-08-07T10:52:18.298Z"
   },
   {
    "duration": 9,
    "start_time": "2023-08-07T10:52:18.323Z"
   },
   {
    "duration": 31,
    "start_time": "2023-08-07T10:52:18.334Z"
   },
   {
    "duration": 105,
    "start_time": "2023-08-07T10:52:18.401Z"
   },
   {
    "duration": 206,
    "start_time": "2023-08-07T10:52:18.510Z"
   },
   {
    "duration": 189,
    "start_time": "2023-08-07T10:52:18.717Z"
   },
   {
    "duration": 15,
    "start_time": "2023-08-07T10:52:18.908Z"
   },
   {
    "duration": 275,
    "start_time": "2023-08-07T10:52:18.925Z"
   },
   {
    "duration": 98,
    "start_time": "2023-08-07T10:52:19.202Z"
   },
   {
    "duration": 70,
    "start_time": "2023-08-07T10:52:19.302Z"
   },
   {
    "duration": 3031,
    "start_time": "2023-08-07T10:52:19.374Z"
   },
   {
    "duration": 6,
    "start_time": "2023-08-07T10:57:24.125Z"
   },
   {
    "duration": 9,
    "start_time": "2023-08-07T10:58:14.629Z"
   },
   {
    "duration": 7,
    "start_time": "2023-08-07T10:59:14.234Z"
   },
   {
    "duration": 4,
    "start_time": "2023-08-07T10:59:18.319Z"
   },
   {
    "duration": 46,
    "start_time": "2023-08-07T11:46:59.389Z"
   },
   {
    "duration": 391,
    "start_time": "2023-08-07T11:47:06.123Z"
   },
   {
    "duration": 438,
    "start_time": "2023-08-07T11:47:06.515Z"
   },
   {
    "duration": 3,
    "start_time": "2023-08-07T11:47:06.955Z"
   },
   {
    "duration": 727,
    "start_time": "2023-08-07T11:47:06.960Z"
   },
   {
    "duration": 19,
    "start_time": "2023-08-07T11:47:07.689Z"
   },
   {
    "duration": 3,
    "start_time": "2023-08-07T11:47:07.709Z"
   },
   {
    "duration": 10,
    "start_time": "2023-08-07T11:47:07.714Z"
   },
   {
    "duration": 2,
    "start_time": "2023-08-07T11:47:07.726Z"
   },
   {
    "duration": 12,
    "start_time": "2023-08-07T11:47:07.744Z"
   },
   {
    "duration": 5,
    "start_time": "2023-08-07T11:47:07.758Z"
   },
   {
    "duration": 827,
    "start_time": "2023-08-07T11:47:07.765Z"
   },
   {
    "duration": 3,
    "start_time": "2023-08-07T11:47:08.593Z"
   },
   {
    "duration": 10,
    "start_time": "2023-08-07T11:47:08.597Z"
   },
   {
    "duration": 214,
    "start_time": "2023-08-07T11:47:08.610Z"
   },
   {
    "duration": 160,
    "start_time": "2023-08-07T11:47:08.826Z"
   },
   {
    "duration": 169,
    "start_time": "2023-08-07T11:47:08.988Z"
   },
   {
    "duration": 20,
    "start_time": "2023-08-07T11:47:09.161Z"
   },
   {
    "duration": 39,
    "start_time": "2023-08-07T11:47:09.182Z"
   },
   {
    "duration": 33,
    "start_time": "2023-08-07T11:47:09.223Z"
   },
   {
    "duration": 190,
    "start_time": "2023-08-07T11:47:09.258Z"
   },
   {
    "duration": 129,
    "start_time": "2023-08-07T11:47:09.453Z"
   },
   {
    "duration": 123,
    "start_time": "2023-08-07T11:47:09.583Z"
   },
   {
    "duration": 399,
    "start_time": "2023-08-07T11:47:09.707Z"
   },
   {
    "duration": 16,
    "start_time": "2023-08-07T11:47:10.108Z"
   },
   {
    "duration": 49,
    "start_time": "2023-08-07T11:47:10.125Z"
   },
   {
    "duration": 21,
    "start_time": "2023-08-07T11:47:10.176Z"
   },
   {
    "duration": 20,
    "start_time": "2023-08-07T11:47:10.198Z"
   },
   {
    "duration": 16,
    "start_time": "2023-08-07T11:47:10.220Z"
   },
   {
    "duration": 112,
    "start_time": "2023-08-07T11:47:10.240Z"
   },
   {
    "duration": 99,
    "start_time": "2023-08-07T11:47:10.358Z"
   },
   {
    "duration": 210,
    "start_time": "2023-08-07T11:47:10.459Z"
   },
   {
    "duration": 93,
    "start_time": "2023-08-07T11:47:10.671Z"
   },
   {
    "duration": 95,
    "start_time": "2023-08-07T11:47:10.765Z"
   },
   {
    "duration": 17,
    "start_time": "2023-08-07T11:47:10.862Z"
   },
   {
    "duration": 186,
    "start_time": "2023-08-07T11:47:10.881Z"
   },
   {
    "duration": 5,
    "start_time": "2023-08-07T11:47:11.069Z"
   },
   {
    "duration": 81,
    "start_time": "2023-08-07T11:47:11.139Z"
   },
   {
    "duration": 3135,
    "start_time": "2023-08-07T11:47:11.221Z"
   },
   {
    "duration": 6,
    "start_time": "2023-08-07T11:48:45.219Z"
   },
   {
    "duration": 124,
    "start_time": "2023-08-07T11:48:47.525Z"
   },
   {
    "duration": 16,
    "start_time": "2023-08-07T11:48:48.381Z"
   },
   {
    "duration": 21,
    "start_time": "2023-08-07T11:48:49.072Z"
   },
   {
    "duration": 5,
    "start_time": "2023-08-07T11:48:50.572Z"
   },
   {
    "duration": 7,
    "start_time": "2023-08-07T11:49:06.233Z"
   },
   {
    "duration": 5,
    "start_time": "2023-08-07T11:49:30.459Z"
   },
   {
    "duration": 128,
    "start_time": "2023-08-07T11:49:33.326Z"
   },
   {
    "duration": 125,
    "start_time": "2023-08-07T11:49:33.821Z"
   },
   {
    "duration": 17,
    "start_time": "2023-08-07T11:49:34.212Z"
   },
   {
    "duration": 12,
    "start_time": "2023-08-07T11:49:43.068Z"
   },
   {
    "duration": 124,
    "start_time": "2023-08-07T11:50:28.167Z"
   },
   {
    "duration": 23,
    "start_time": "2023-08-07T11:51:14.107Z"
   },
   {
    "duration": 18,
    "start_time": "2023-08-07T11:51:26.074Z"
   },
   {
    "duration": 4,
    "start_time": "2023-08-07T11:51:41.117Z"
   },
   {
    "duration": 91,
    "start_time": "2023-08-07T11:51:44.165Z"
   },
   {
    "duration": 13,
    "start_time": "2023-08-07T11:51:51.467Z"
   },
   {
    "duration": 5,
    "start_time": "2023-08-07T11:52:47.239Z"
   },
   {
    "duration": 58,
    "start_time": "2023-08-07T11:52:49.322Z"
   },
   {
    "duration": 4,
    "start_time": "2023-08-07T11:53:03.961Z"
   },
   {
    "duration": 28,
    "start_time": "2023-08-07T11:53:06.606Z"
   },
   {
    "duration": 4,
    "start_time": "2023-08-07T11:53:58.970Z"
   },
   {
    "duration": 28,
    "start_time": "2023-08-07T11:54:02.267Z"
   },
   {
    "duration": 5,
    "start_time": "2023-08-07T11:54:24.370Z"
   },
   {
    "duration": 26,
    "start_time": "2023-08-07T11:54:26.813Z"
   },
   {
    "duration": 59,
    "start_time": "2023-08-07T11:54:41.563Z"
   },
   {
    "duration": 5,
    "start_time": "2023-08-07T11:54:54.605Z"
   },
   {
    "duration": 13,
    "start_time": "2023-08-07T11:54:55.473Z"
   },
   {
    "duration": 57,
    "start_time": "2023-08-07T11:54:59.267Z"
   },
   {
    "duration": 6,
    "start_time": "2023-08-07T11:55:34.913Z"
   },
   {
    "duration": 4,
    "start_time": "2023-08-07T11:55:39.431Z"
   },
   {
    "duration": 12,
    "start_time": "2023-08-07T11:55:39.819Z"
   },
   {
    "duration": 6,
    "start_time": "2023-08-07T11:55:53.298Z"
   },
   {
    "duration": 68,
    "start_time": "2023-08-07T11:55:55.723Z"
   },
   {
    "duration": 3,
    "start_time": "2023-08-07T11:56:00.389Z"
   },
   {
    "duration": 22,
    "start_time": "2023-08-07T11:56:00.873Z"
   },
   {
    "duration": 3,
    "start_time": "2023-08-07T11:56:18.312Z"
   },
   {
    "duration": 5,
    "start_time": "2023-08-07T11:56:35.712Z"
   },
   {
    "duration": 9,
    "start_time": "2023-08-07T11:56:52.955Z"
   },
   {
    "duration": 18,
    "start_time": "2023-08-07T11:58:00.974Z"
   },
   {
    "duration": 11,
    "start_time": "2023-08-07T11:58:08.361Z"
   },
   {
    "duration": 8,
    "start_time": "2023-08-07T11:58:36.166Z"
   },
   {
    "duration": 3,
    "start_time": "2023-08-07T11:58:40.376Z"
   },
   {
    "duration": 19,
    "start_time": "2023-08-07T11:58:42.792Z"
   },
   {
    "duration": 11,
    "start_time": "2023-08-07T11:59:16.402Z"
   },
   {
    "duration": 4,
    "start_time": "2023-08-07T11:59:19.223Z"
   },
   {
    "duration": 27,
    "start_time": "2023-08-07T11:59:21.664Z"
   },
   {
    "duration": 3,
    "start_time": "2023-08-07T12:00:23.023Z"
   },
   {
    "duration": 10,
    "start_time": "2023-08-07T12:00:26.207Z"
   },
   {
    "duration": 31,
    "start_time": "2023-08-07T12:01:30.836Z"
   },
   {
    "duration": 2,
    "start_time": "2023-08-07T12:01:56.065Z"
   },
   {
    "duration": 12,
    "start_time": "2023-08-07T12:03:41.819Z"
   },
   {
    "duration": 9,
    "start_time": "2023-08-07T12:04:00.464Z"
   },
   {
    "duration": 25,
    "start_time": "2023-08-07T12:04:08.227Z"
   },
   {
    "duration": 2,
    "start_time": "2023-08-07T12:04:11.012Z"
   },
   {
    "duration": 3,
    "start_time": "2023-08-07T12:04:41.571Z"
   },
   {
    "duration": 5,
    "start_time": "2023-08-07T12:05:06.021Z"
   },
   {
    "duration": 7,
    "start_time": "2023-08-07T12:06:07.290Z"
   },
   {
    "duration": 13,
    "start_time": "2023-08-07T12:06:35.617Z"
   },
   {
    "duration": 7,
    "start_time": "2023-08-07T12:06:45.956Z"
   },
   {
    "duration": 13,
    "start_time": "2023-08-07T12:09:55.720Z"
   },
   {
    "duration": 5,
    "start_time": "2023-08-07T12:11:19.762Z"
   },
   {
    "duration": 17,
    "start_time": "2023-08-07T12:14:45.537Z"
   },
   {
    "duration": 18,
    "start_time": "2023-08-07T12:15:29.473Z"
   },
   {
    "duration": 9,
    "start_time": "2023-08-07T12:15:47.323Z"
   },
   {
    "duration": 6,
    "start_time": "2023-08-07T12:15:55.330Z"
   },
   {
    "duration": 47,
    "start_time": "2023-08-07T12:16:00.034Z"
   },
   {
    "duration": 19,
    "start_time": "2023-08-07T12:16:04.805Z"
   },
   {
    "duration": 4,
    "start_time": "2023-08-07T12:16:07.681Z"
   },
   {
    "duration": 39,
    "start_time": "2023-08-07T12:16:08.438Z"
   },
   {
    "duration": 13,
    "start_time": "2023-08-07T12:16:13.366Z"
   },
   {
    "duration": 14,
    "start_time": "2023-08-07T12:16:40.564Z"
   },
   {
    "duration": 3,
    "start_time": "2023-08-07T12:16:45.966Z"
   },
   {
    "duration": 19,
    "start_time": "2023-08-07T12:16:45.971Z"
   },
   {
    "duration": 35,
    "start_time": "2023-08-07T12:16:45.991Z"
   },
   {
    "duration": 52,
    "start_time": "2023-08-07T12:16:46.028Z"
   },
   {
    "duration": 15,
    "start_time": "2023-08-07T12:16:46.082Z"
   },
   {
    "duration": 16,
    "start_time": "2023-08-07T12:16:46.099Z"
   },
   {
    "duration": 12,
    "start_time": "2023-08-07T12:16:46.117Z"
   },
   {
    "duration": 5,
    "start_time": "2023-08-07T12:16:46.131Z"
   },
   {
    "duration": 45,
    "start_time": "2023-08-07T12:16:46.149Z"
   },
   {
    "duration": 6,
    "start_time": "2023-08-07T12:16:46.195Z"
   },
   {
    "duration": 484,
    "start_time": "2023-08-07T12:16:46.203Z"
   },
   {
    "duration": 2,
    "start_time": "2023-08-07T12:16:46.688Z"
   },
   {
    "duration": 11,
    "start_time": "2023-08-07T12:16:46.692Z"
   },
   {
    "duration": 185,
    "start_time": "2023-08-07T12:16:46.705Z"
   },
   {
    "duration": 168,
    "start_time": "2023-08-07T12:16:46.892Z"
   },
   {
    "duration": 162,
    "start_time": "2023-08-07T12:16:47.062Z"
   },
   {
    "duration": 38,
    "start_time": "2023-08-07T12:16:47.226Z"
   },
   {
    "duration": 53,
    "start_time": "2023-08-07T12:16:47.265Z"
   },
   {
    "duration": 4,
    "start_time": "2023-08-07T12:16:47.320Z"
   },
   {
    "duration": 177,
    "start_time": "2023-08-07T12:16:47.325Z"
   },
   {
    "duration": 135,
    "start_time": "2023-08-07T12:16:47.504Z"
   },
   {
    "duration": 145,
    "start_time": "2023-08-07T12:16:47.648Z"
   },
   {
    "duration": 375,
    "start_time": "2023-08-07T12:16:47.795Z"
   },
   {
    "duration": 35,
    "start_time": "2023-08-07T12:16:55.234Z"
   },
   {
    "duration": 3,
    "start_time": "2023-08-07T12:17:01.103Z"
   },
   {
    "duration": 20,
    "start_time": "2023-08-07T12:17:02.015Z"
   },
   {
    "duration": 19,
    "start_time": "2023-08-07T12:17:25.969Z"
   },
   {
    "duration": 19,
    "start_time": "2023-08-07T12:17:35.765Z"
   },
   {
    "duration": 20,
    "start_time": "2023-08-07T12:17:43.620Z"
   },
   {
    "duration": 13,
    "start_time": "2023-08-07T12:18:05.513Z"
   },
   {
    "duration": 5,
    "start_time": "2023-08-07T12:18:09.318Z"
   },
   {
    "duration": 12,
    "start_time": "2023-08-07T12:18:10.093Z"
   },
   {
    "duration": 15,
    "start_time": "2023-08-07T12:18:23.560Z"
   },
   {
    "duration": 7,
    "start_time": "2023-08-07T12:18:36.193Z"
   },
   {
    "duration": 10,
    "start_time": "2023-08-07T12:18:52.380Z"
   },
   {
    "duration": 2,
    "start_time": "2023-08-07T12:18:55.531Z"
   },
   {
    "duration": 56,
    "start_time": "2023-08-07T12:18:55.535Z"
   },
   {
    "duration": 18,
    "start_time": "2023-08-07T12:18:55.593Z"
   },
   {
    "duration": 9,
    "start_time": "2023-08-07T12:18:55.612Z"
   },
   {
    "duration": 7,
    "start_time": "2023-08-07T12:18:55.623Z"
   },
   {
    "duration": 54,
    "start_time": "2023-08-07T12:18:55.631Z"
   },
   {
    "duration": 40,
    "start_time": "2023-08-07T12:18:55.687Z"
   },
   {
    "duration": 55,
    "start_time": "2023-08-07T12:18:55.729Z"
   },
   {
    "duration": 8,
    "start_time": "2023-08-07T12:18:55.786Z"
   },
   {
    "duration": 14,
    "start_time": "2023-08-07T12:18:55.795Z"
   },
   {
    "duration": 469,
    "start_time": "2023-08-07T12:18:55.811Z"
   },
   {
    "duration": 2,
    "start_time": "2023-08-07T12:18:56.282Z"
   },
   {
    "duration": 41,
    "start_time": "2023-08-07T12:18:56.286Z"
   },
   {
    "duration": 170,
    "start_time": "2023-08-07T12:18:56.330Z"
   },
   {
    "duration": 183,
    "start_time": "2023-08-07T12:18:56.502Z"
   },
   {
    "duration": 180,
    "start_time": "2023-08-07T12:18:56.686Z"
   },
   {
    "duration": 23,
    "start_time": "2023-08-07T12:18:56.868Z"
   },
   {
    "duration": 76,
    "start_time": "2023-08-07T12:18:56.892Z"
   },
   {
    "duration": 4,
    "start_time": "2023-08-07T12:18:56.980Z"
   },
   {
    "duration": 139,
    "start_time": "2023-08-07T12:18:56.985Z"
   },
   {
    "duration": 167,
    "start_time": "2023-08-07T12:18:57.126Z"
   },
   {
    "duration": 140,
    "start_time": "2023-08-07T12:18:57.295Z"
   },
   {
    "duration": 457,
    "start_time": "2023-08-07T12:18:57.436Z"
   },
   {
    "duration": 17,
    "start_time": "2023-08-07T12:18:57.894Z"
   },
   {
    "duration": 11,
    "start_time": "2023-08-07T12:18:57.912Z"
   },
   {
    "duration": 56,
    "start_time": "2023-08-07T12:18:57.924Z"
   },
   {
    "duration": 16,
    "start_time": "2023-08-07T12:18:57.983Z"
   },
   {
    "duration": 4,
    "start_time": "2023-08-07T12:18:58.000Z"
   },
   {
    "duration": 49,
    "start_time": "2023-08-07T12:18:58.006Z"
   },
   {
    "duration": 191,
    "start_time": "2023-08-07T12:18:58.060Z"
   },
   {
    "duration": 193,
    "start_time": "2023-08-07T12:18:58.258Z"
   },
   {
    "duration": 10,
    "start_time": "2023-08-07T12:19:00.419Z"
   },
   {
    "duration": 15,
    "start_time": "2023-08-07T12:20:31.180Z"
   },
   {
    "duration": 19,
    "start_time": "2023-08-07T12:21:01.814Z"
   },
   {
    "duration": 15,
    "start_time": "2023-08-07T12:21:14.586Z"
   },
   {
    "duration": 12,
    "start_time": "2023-08-07T12:21:25.017Z"
   },
   {
    "duration": 4,
    "start_time": "2023-08-07T12:24:40.102Z"
   },
   {
    "duration": 20,
    "start_time": "2023-08-07T12:24:46.122Z"
   },
   {
    "duration": 11,
    "start_time": "2023-08-07T12:25:26.588Z"
   },
   {
    "duration": 11,
    "start_time": "2023-08-07T12:25:33.486Z"
   },
   {
    "duration": 5,
    "start_time": "2023-08-07T12:25:34.650Z"
   },
   {
    "duration": 11,
    "start_time": "2023-08-07T12:25:36.689Z"
   },
   {
    "duration": 4,
    "start_time": "2023-08-07T12:25:54.805Z"
   },
   {
    "duration": 11,
    "start_time": "2023-08-07T12:25:59.522Z"
   },
   {
    "duration": 11,
    "start_time": "2023-08-07T12:26:06.322Z"
   },
   {
    "duration": 15,
    "start_time": "2023-08-07T12:29:23.269Z"
   },
   {
    "duration": 5,
    "start_time": "2023-08-07T12:29:36.658Z"
   },
   {
    "duration": 22,
    "start_time": "2023-08-07T12:29:43.608Z"
   },
   {
    "duration": 2245,
    "start_time": "2023-08-07T12:33:42.287Z"
   },
   {
    "duration": 6737,
    "start_time": "2023-08-07T12:34:26.451Z"
   },
   {
    "duration": 3,
    "start_time": "2023-08-07T12:34:51.690Z"
   },
   {
    "duration": 2822,
    "start_time": "2023-08-07T12:34:54.414Z"
   },
   {
    "duration": 4,
    "start_time": "2023-08-07T12:35:40.519Z"
   },
   {
    "duration": 2267,
    "start_time": "2023-08-07T12:35:41.209Z"
   },
   {
    "duration": 14,
    "start_time": "2023-08-07T12:37:08.238Z"
   },
   {
    "duration": 11,
    "start_time": "2023-08-07T12:37:34.903Z"
   },
   {
    "duration": 5,
    "start_time": "2023-08-07T12:39:39.434Z"
   },
   {
    "duration": 10,
    "start_time": "2023-08-07T12:39:54.765Z"
   },
   {
    "duration": 9,
    "start_time": "2023-08-07T12:40:05.006Z"
   },
   {
    "duration": 6,
    "start_time": "2023-08-07T12:42:08.519Z"
   },
   {
    "duration": 14,
    "start_time": "2023-08-07T12:42:30.566Z"
   },
   {
    "duration": 36,
    "start_time": "2023-08-07T12:42:44.962Z"
   },
   {
    "duration": 22,
    "start_time": "2023-08-07T12:43:57.034Z"
   },
   {
    "duration": 4,
    "start_time": "2023-08-07T12:45:41.110Z"
   },
   {
    "duration": 28,
    "start_time": "2023-08-07T12:45:41.853Z"
   },
   {
    "duration": 13,
    "start_time": "2023-08-07T12:46:00.759Z"
   },
   {
    "duration": 22,
    "start_time": "2023-08-07T12:46:24.074Z"
   },
   {
    "duration": 2,
    "start_time": "2023-08-07T12:46:28.312Z"
   },
   {
    "duration": 3,
    "start_time": "2023-08-07T12:47:10.717Z"
   },
   {
    "duration": 22,
    "start_time": "2023-08-07T12:47:15.723Z"
   },
   {
    "duration": 4,
    "start_time": "2023-08-07T12:48:14.797Z"
   },
   {
    "duration": 899,
    "start_time": "2023-08-07T12:48:17.081Z"
   },
   {
    "duration": 3033,
    "start_time": "2023-08-07T12:49:43.464Z"
   },
   {
    "duration": 188,
    "start_time": "2023-08-07T12:51:20.631Z"
   },
   {
    "duration": 1015,
    "start_time": "2023-08-07T12:51:42.465Z"
   },
   {
    "duration": 1031,
    "start_time": "2023-08-07T12:51:58.921Z"
   },
   {
    "duration": 1052,
    "start_time": "2023-08-07T12:52:22.777Z"
   },
   {
    "duration": 29,
    "start_time": "2023-08-07T12:52:56.583Z"
   },
   {
    "duration": 24,
    "start_time": "2023-08-07T12:56:57.469Z"
   },
   {
    "duration": 11,
    "start_time": "2023-08-07T12:59:14.713Z"
   },
   {
    "duration": 46,
    "start_time": "2023-08-07T12:59:21.034Z"
   },
   {
    "duration": 40,
    "start_time": "2023-08-07T12:59:35.819Z"
   },
   {
    "duration": 9,
    "start_time": "2023-08-07T13:00:07.398Z"
   },
   {
    "duration": 13,
    "start_time": "2023-08-07T13:00:15.898Z"
   },
   {
    "duration": 38,
    "start_time": "2023-08-07T13:00:21.557Z"
   },
   {
    "duration": 11,
    "start_time": "2023-08-07T13:00:49.814Z"
   },
   {
    "duration": 16,
    "start_time": "2023-08-07T13:00:58.930Z"
   },
   {
    "duration": 2842,
    "start_time": "2023-08-07T13:03:07.865Z"
   },
   {
    "duration": 2564,
    "start_time": "2023-08-07T13:03:29.162Z"
   },
   {
    "duration": 2789,
    "start_time": "2023-08-07T13:04:01.503Z"
   },
   {
    "duration": 16,
    "start_time": "2023-08-07T13:04:24.336Z"
   },
   {
    "duration": 2694,
    "start_time": "2023-08-07T13:04:26.572Z"
   },
   {
    "duration": 62,
    "start_time": "2023-08-07T13:04:56.372Z"
   },
   {
    "duration": 4,
    "start_time": "2023-08-07T13:05:55.317Z"
   },
   {
    "duration": 3,
    "start_time": "2023-08-07T13:07:06.426Z"
   },
   {
    "duration": 58,
    "start_time": "2023-08-07T13:07:08.221Z"
   },
   {
    "duration": 33,
    "start_time": "2023-08-07T13:08:19.832Z"
   },
   {
    "duration": 2,
    "start_time": "2023-08-07T13:08:25.274Z"
   },
   {
    "duration": 5,
    "start_time": "2023-08-07T13:08:59.192Z"
   },
   {
    "duration": 26,
    "start_time": "2023-08-07T13:09:07.836Z"
   },
   {
    "duration": 5,
    "start_time": "2023-08-07T13:09:59.162Z"
   },
   {
    "duration": 8,
    "start_time": "2023-08-07T13:10:04.362Z"
   },
   {
    "duration": 17,
    "start_time": "2023-08-07T13:10:58.360Z"
   },
   {
    "duration": 7,
    "start_time": "2023-08-07T13:11:20.906Z"
   },
   {
    "duration": 7,
    "start_time": "2023-08-07T13:11:41.032Z"
   },
   {
    "duration": 4,
    "start_time": "2023-08-07T13:12:10.947Z"
   },
   {
    "duration": 18,
    "start_time": "2023-08-07T13:12:12.709Z"
   },
   {
    "duration": 2357,
    "start_time": "2023-08-07T13:12:34.033Z"
   },
   {
    "duration": 2412,
    "start_time": "2023-08-07T13:12:50.899Z"
   },
   {
    "duration": 15,
    "start_time": "2023-08-07T13:13:38.373Z"
   },
   {
    "duration": 2510,
    "start_time": "2023-08-07T13:13:59.861Z"
   },
   {
    "duration": 18,
    "start_time": "2023-08-07T13:14:33.234Z"
   },
   {
    "duration": 17,
    "start_time": "2023-08-07T13:15:10.172Z"
   },
   {
    "duration": 18,
    "start_time": "2023-08-07T13:15:14.026Z"
   },
   {
    "duration": 3,
    "start_time": "2023-08-07T13:15:43.068Z"
   },
   {
    "duration": 32,
    "start_time": "2023-08-07T13:15:43.072Z"
   },
   {
    "duration": 15,
    "start_time": "2023-08-07T13:18:05.145Z"
   },
   {
    "duration": 11,
    "start_time": "2023-08-07T13:18:16.545Z"
   },
   {
    "duration": 12,
    "start_time": "2023-08-07T13:18:20.986Z"
   },
   {
    "duration": 2672,
    "start_time": "2023-08-07T13:21:43.721Z"
   },
   {
    "duration": 2429,
    "start_time": "2023-08-07T13:21:55.603Z"
   },
   {
    "duration": 2522,
    "start_time": "2023-08-07T13:23:09.242Z"
   },
   {
    "duration": 2788,
    "start_time": "2023-08-07T13:23:32.897Z"
   },
   {
    "duration": 3,
    "start_time": "2023-08-07T13:25:45.965Z"
   },
   {
    "duration": 13,
    "start_time": "2023-08-07T13:25:47.922Z"
   },
   {
    "duration": 16,
    "start_time": "2023-08-07T13:25:49.765Z"
   },
   {
    "duration": 4,
    "start_time": "2023-08-07T13:26:02.465Z"
   },
   {
    "duration": 12,
    "start_time": "2023-08-07T13:26:05.911Z"
   },
   {
    "duration": 11,
    "start_time": "2023-08-07T13:26:06.497Z"
   },
   {
    "duration": 2664,
    "start_time": "2023-08-07T13:26:18.616Z"
   },
   {
    "duration": 10,
    "start_time": "2023-08-07T13:29:29.804Z"
   },
   {
    "duration": 13,
    "start_time": "2023-08-07T13:31:17.357Z"
   },
   {
    "duration": 2777,
    "start_time": "2023-08-07T13:31:36.367Z"
   },
   {
    "duration": 15,
    "start_time": "2023-08-07T13:32:01.529Z"
   },
   {
    "duration": 16,
    "start_time": "2023-08-07T13:32:34.909Z"
   },
   {
    "duration": 366,
    "start_time": "2023-08-07T13:33:38.617Z"
   },
   {
    "duration": 284,
    "start_time": "2023-08-07T13:33:38.985Z"
   },
   {
    "duration": 3,
    "start_time": "2023-08-07T13:33:39.270Z"
   },
   {
    "duration": 1738,
    "start_time": "2023-08-07T13:33:39.275Z"
   },
   {
    "duration": 20,
    "start_time": "2023-08-07T13:33:41.015Z"
   },
   {
    "duration": 8,
    "start_time": "2023-08-07T13:33:41.040Z"
   },
   {
    "duration": 23,
    "start_time": "2023-08-07T13:33:41.049Z"
   },
   {
    "duration": 6,
    "start_time": "2023-08-07T13:33:41.073Z"
   },
   {
    "duration": 10,
    "start_time": "2023-08-07T13:33:41.081Z"
   },
   {
    "duration": 7,
    "start_time": "2023-08-07T13:33:41.093Z"
   },
   {
    "duration": 401,
    "start_time": "2023-08-07T13:33:41.102Z"
   },
   {
    "duration": 3,
    "start_time": "2023-08-07T13:33:41.504Z"
   },
   {
    "duration": 9,
    "start_time": "2023-08-07T13:33:41.508Z"
   },
   {
    "duration": 215,
    "start_time": "2023-08-07T13:33:41.521Z"
   },
   {
    "duration": 173,
    "start_time": "2023-08-07T13:33:41.737Z"
   },
   {
    "duration": 181,
    "start_time": "2023-08-07T13:33:41.912Z"
   },
   {
    "duration": 28,
    "start_time": "2023-08-07T13:33:42.095Z"
   },
   {
    "duration": 50,
    "start_time": "2023-08-07T13:33:42.144Z"
   },
   {
    "duration": 2,
    "start_time": "2023-08-07T13:33:42.196Z"
   },
   {
    "duration": 166,
    "start_time": "2023-08-07T13:33:42.199Z"
   },
   {
    "duration": 137,
    "start_time": "2023-08-07T13:33:42.366Z"
   },
   {
    "duration": 122,
    "start_time": "2023-08-07T13:33:42.505Z"
   },
   {
    "duration": 439,
    "start_time": "2023-08-07T13:33:42.629Z"
   },
   {
    "duration": 16,
    "start_time": "2023-08-07T13:33:43.069Z"
   },
   {
    "duration": 29,
    "start_time": "2023-08-07T13:33:43.087Z"
   },
   {
    "duration": 38,
    "start_time": "2023-08-07T13:33:43.118Z"
   },
   {
    "duration": 46,
    "start_time": "2023-08-07T13:33:43.158Z"
   },
   {
    "duration": 5,
    "start_time": "2023-08-07T13:33:43.205Z"
   },
   {
    "duration": 51,
    "start_time": "2023-08-07T13:33:43.211Z"
   },
   {
    "duration": 200,
    "start_time": "2023-08-07T13:33:43.264Z"
   },
   {
    "duration": 209,
    "start_time": "2023-08-07T13:33:43.465Z"
   },
   {
    "duration": 134,
    "start_time": "2023-08-07T13:33:43.744Z"
   },
   {
    "duration": 9,
    "start_time": "2023-08-07T13:33:43.879Z"
   },
   {
    "duration": 257,
    "start_time": "2023-08-07T13:33:43.890Z"
   },
   {
    "duration": 91,
    "start_time": "2023-08-07T13:33:44.149Z"
   },
   {
    "duration": 89,
    "start_time": "2023-08-07T13:33:44.241Z"
   },
   {
    "duration": 2,
    "start_time": "2023-08-07T13:33:44.332Z"
   },
   {
    "duration": 44,
    "start_time": "2023-08-07T13:33:44.335Z"
   },
   {
    "duration": 9,
    "start_time": "2023-08-07T13:33:44.380Z"
   },
   {
    "duration": 145,
    "start_time": "2023-08-07T13:33:44.391Z"
   },
   {
    "duration": 0,
    "start_time": "2023-08-07T13:33:44.537Z"
   },
   {
    "duration": 0,
    "start_time": "2023-08-07T13:33:44.538Z"
   },
   {
    "duration": 9,
    "start_time": "2023-08-07T13:34:03.002Z"
   },
   {
    "duration": 17,
    "start_time": "2023-08-07T13:34:04.936Z"
   },
   {
    "duration": 2590,
    "start_time": "2023-08-07T13:34:05.887Z"
   },
   {
    "duration": 100,
    "start_time": "2023-08-07T13:43:18.392Z"
   },
   {
    "duration": 500,
    "start_time": "2023-08-07T13:54:32.312Z"
   },
   {
    "duration": 266,
    "start_time": "2023-08-07T13:54:32.814Z"
   },
   {
    "duration": 2,
    "start_time": "2023-08-07T13:54:33.083Z"
   },
   {
    "duration": 952,
    "start_time": "2023-08-07T13:54:33.087Z"
   },
   {
    "duration": 20,
    "start_time": "2023-08-07T13:54:34.041Z"
   },
   {
    "duration": 3,
    "start_time": "2023-08-07T13:54:34.063Z"
   },
   {
    "duration": 12,
    "start_time": "2023-08-07T13:54:34.068Z"
   },
   {
    "duration": 3,
    "start_time": "2023-08-07T13:54:34.083Z"
   },
   {
    "duration": 13,
    "start_time": "2023-08-07T13:54:34.087Z"
   },
   {
    "duration": 5,
    "start_time": "2023-08-07T13:54:34.101Z"
   },
   {
    "duration": 375,
    "start_time": "2023-08-07T13:54:34.107Z"
   },
   {
    "duration": 3,
    "start_time": "2023-08-07T13:54:34.484Z"
   },
   {
    "duration": 10,
    "start_time": "2023-08-07T13:54:34.491Z"
   },
   {
    "duration": 275,
    "start_time": "2023-08-07T13:54:34.502Z"
   },
   {
    "duration": 185,
    "start_time": "2023-08-07T13:54:34.779Z"
   },
   {
    "duration": 203,
    "start_time": "2023-08-07T13:54:34.966Z"
   },
   {
    "duration": 22,
    "start_time": "2023-08-07T13:54:35.171Z"
   },
   {
    "duration": 68,
    "start_time": "2023-08-07T13:54:35.194Z"
   },
   {
    "duration": 3,
    "start_time": "2023-08-07T13:54:35.263Z"
   },
   {
    "duration": 146,
    "start_time": "2023-08-07T13:54:35.268Z"
   },
   {
    "duration": 138,
    "start_time": "2023-08-07T13:54:35.416Z"
   },
   {
    "duration": 153,
    "start_time": "2023-08-07T13:54:35.556Z"
   },
   {
    "duration": 451,
    "start_time": "2023-08-07T13:54:35.711Z"
   },
   {
    "duration": 18,
    "start_time": "2023-08-07T13:54:36.164Z"
   },
   {
    "duration": 23,
    "start_time": "2023-08-07T13:54:36.184Z"
   },
   {
    "duration": 20,
    "start_time": "2023-08-07T13:54:36.209Z"
   },
   {
    "duration": 28,
    "start_time": "2023-08-07T13:54:36.231Z"
   },
   {
    "duration": 5,
    "start_time": "2023-08-07T13:54:36.261Z"
   },
   {
    "duration": 73,
    "start_time": "2023-08-07T13:54:36.267Z"
   },
   {
    "duration": 199,
    "start_time": "2023-08-07T13:54:36.344Z"
   },
   {
    "duration": 296,
    "start_time": "2023-08-07T13:54:36.545Z"
   },
   {
    "duration": 106,
    "start_time": "2023-08-07T13:54:36.844Z"
   },
   {
    "duration": 10,
    "start_time": "2023-08-07T13:54:36.952Z"
   },
   {
    "duration": 376,
    "start_time": "2023-08-07T13:54:36.963Z"
   },
   {
    "duration": 4,
    "start_time": "2023-08-07T13:54:37.341Z"
   },
   {
    "duration": 111,
    "start_time": "2023-08-07T13:54:37.347Z"
   },
   {
    "duration": 3,
    "start_time": "2023-08-07T13:54:37.460Z"
   },
   {
    "duration": 16,
    "start_time": "2023-08-07T13:54:37.465Z"
   },
   {
    "duration": 11,
    "start_time": "2023-08-07T13:54:37.483Z"
   },
   {
    "duration": 48,
    "start_time": "2023-08-07T13:54:37.500Z"
   },
   {
    "duration": 11,
    "start_time": "2023-08-07T13:54:37.550Z"
   },
   {
    "duration": 3075,
    "start_time": "2023-08-07T13:54:37.563Z"
   },
   {
    "duration": 395,
    "start_time": "2023-08-07T14:02:28.275Z"
   },
   {
    "duration": 234,
    "start_time": "2023-08-07T14:02:28.672Z"
   },
   {
    "duration": 3,
    "start_time": "2023-08-07T14:02:28.908Z"
   },
   {
    "duration": 686,
    "start_time": "2023-08-07T14:02:28.913Z"
   },
   {
    "duration": 19,
    "start_time": "2023-08-07T14:02:29.601Z"
   },
   {
    "duration": 3,
    "start_time": "2023-08-07T14:02:29.621Z"
   },
   {
    "duration": 19,
    "start_time": "2023-08-07T14:02:29.626Z"
   },
   {
    "duration": 3,
    "start_time": "2023-08-07T14:02:29.648Z"
   },
   {
    "duration": 12,
    "start_time": "2023-08-07T14:02:29.653Z"
   },
   {
    "duration": 5,
    "start_time": "2023-08-07T14:02:29.667Z"
   },
   {
    "duration": 383,
    "start_time": "2023-08-07T14:02:29.673Z"
   },
   {
    "duration": 3,
    "start_time": "2023-08-07T14:02:30.058Z"
   },
   {
    "duration": 43,
    "start_time": "2023-08-07T14:02:30.062Z"
   },
   {
    "duration": 242,
    "start_time": "2023-08-07T14:02:30.109Z"
   },
   {
    "duration": 161,
    "start_time": "2023-08-07T14:02:30.353Z"
   },
   {
    "duration": 183,
    "start_time": "2023-08-07T14:02:30.516Z"
   },
   {
    "duration": 47,
    "start_time": "2023-08-07T14:02:30.702Z"
   },
   {
    "duration": 54,
    "start_time": "2023-08-07T14:02:30.752Z"
   },
   {
    "duration": 2,
    "start_time": "2023-08-07T14:02:30.808Z"
   },
   {
    "duration": 167,
    "start_time": "2023-08-07T14:02:30.811Z"
   },
   {
    "duration": 151,
    "start_time": "2023-08-07T14:02:30.979Z"
   },
   {
    "duration": 152,
    "start_time": "2023-08-07T14:02:31.131Z"
   },
   {
    "duration": 450,
    "start_time": "2023-08-07T14:02:31.286Z"
   },
   {
    "duration": 26,
    "start_time": "2023-08-07T14:02:31.738Z"
   },
   {
    "duration": 40,
    "start_time": "2023-08-07T14:02:31.765Z"
   },
   {
    "duration": 73,
    "start_time": "2023-08-07T14:02:31.809Z"
   },
   {
    "duration": 75,
    "start_time": "2023-08-07T14:02:31.884Z"
   },
   {
    "duration": 9,
    "start_time": "2023-08-07T14:02:31.961Z"
   },
   {
    "duration": 168,
    "start_time": "2023-08-07T14:02:31.972Z"
   },
   {
    "duration": 131,
    "start_time": "2023-08-07T14:02:32.142Z"
   },
   {
    "duration": 197,
    "start_time": "2023-08-07T14:02:32.277Z"
   },
   {
    "duration": 4,
    "start_time": "2023-08-07T14:02:32.538Z"
   },
   {
    "duration": 118,
    "start_time": "2023-08-07T14:02:32.544Z"
   },
   {
    "duration": 576,
    "start_time": "2023-08-07T14:02:32.663Z"
   },
   {
    "duration": 5,
    "start_time": "2023-08-07T14:02:33.241Z"
   },
   {
    "duration": 45,
    "start_time": "2023-08-07T14:02:33.247Z"
   },
   {
    "duration": 3,
    "start_time": "2023-08-07T14:02:33.294Z"
   },
   {
    "duration": 18,
    "start_time": "2023-08-07T14:02:33.299Z"
   },
   {
    "duration": 38,
    "start_time": "2023-08-07T14:02:33.318Z"
   },
   {
    "duration": 12,
    "start_time": "2023-08-07T14:02:33.358Z"
   },
   {
    "duration": 12,
    "start_time": "2023-08-07T14:02:33.375Z"
   },
   {
    "duration": 2943,
    "start_time": "2023-08-07T14:02:33.388Z"
   }
  ],
  "kernelspec": {
   "display_name": "Python 3 (ipykernel)",
   "language": "python",
   "name": "python3"
  },
  "language_info": {
   "codemirror_mode": {
    "name": "ipython",
    "version": 3
   },
   "file_extension": ".py",
   "mimetype": "text/x-python",
   "name": "python",
   "nbconvert_exporter": "python",
   "pygments_lexer": "ipython3",
   "version": "3.11.7"
  },
  "toc": {
   "base_numbering": 1,
   "nav_menu": {},
   "number_sections": true,
   "sideBar": true,
   "skip_h1_title": true,
   "title_cell": "Table of Contents",
   "title_sidebar": "Contents",
   "toc_cell": false,
   "toc_position": {
    "height": "calc(100% - 180px)",
    "left": "10px",
    "top": "150px",
    "width": "362.797px"
   },
   "toc_section_display": true,
   "toc_window_display": true
  }
 },
 "nbformat": 4,
 "nbformat_minor": 4
}
