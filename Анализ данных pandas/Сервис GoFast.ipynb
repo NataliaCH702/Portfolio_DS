{
 "cells": [
  {
   "cell_type": "markdown",
   "id": "a9731f3a",
   "metadata": {},
   "source": [
    "# Проектная работа: анализ данных пользователей сервиса GoFast"
   ]
  },
  {
   "cell_type": "markdown",
   "id": "cf75a33e",
   "metadata": {},
   "source": [
    "# Описание проекта"
   ]
  },
  {
   "cell_type": "markdown",
   "id": "2cb6bc69",
   "metadata": {},
   "source": [
    "**Дано:** данные о некоторых пользователях из нескольких городов, а также об их поездках сервиса GoFast.   \n",
    "\n",
    "Данные:\n",
    "\n",
    "    Пользователи — users_go.csv\n",
    "    Поездки — rides_go.csv\n",
    "    Подписки — subscriptions_go.csv\n",
    "    \n",
    "Сервисом можно пользоваться:  \n",
    "\n",
    "- без подписки\n",
    "\n",
    "      абонентская плата отсутствует;\n",
    "      стоимость одной минуты поездки — 8р;\n",
    "      стоимость старта (начала поездки) — 50р\n",
    "\n",
    "- с подпиской Ultra\n",
    "\n",
    "      абонентская плата — 199 рублей в месяц;\n",
    "      стоимость одной минуты поездки — 6 рублей;\n",
    "      стоимость старта — бесплатно.    \n",
    "\n",
    "---\n",
    "\n",
    "**Цель исследования:** проанализировать данные и проверить некоторые гипотезы, которые могут помочь бизнесу вырасти. \n",
    "\n",
    "**Гипотезы для проверки:**\n",
    "- Тратят ли пользователи с подпиской больше времени на поездки?\n",
    "- Можно ли сказать, что расстояние, которое проезжают пользователи с подпиской за одну поездку, не превышает 3130 метров? \n",
    "- Будет ли помесячная выручка от пользователей с подпиской по месяцам выше, чем выручка от пользователей без подписки?\n",
    "\n",
    "**Ход исследования:**  \n",
    "\n",
    "О данных мало что известно. Поэтому перед проверкой гипотез понадобится обзор данных.  \n",
    "Нужно проверить данные на ошибки и оценить их влияние на исследование, проверить на начилие дубликатов или пропущенных значений.  \n",
    "После визуализировать данные, пересобрать из них датафреймы, более удобные для проверки предоставленных гипотез.  \n",
    "После чего уже проверить гипотезы.  \n",
    "\n",
    "Таким образом, исследование пройдёт в три этапа:  \n",
    "\n",
    "- Обзор данных\n",
    "- Предобработка данных\n",
    "- Проверка гипотез\n",
    "     "
   ]
  },
  {
   "cell_type": "code",
   "execution_count": 1,
   "id": "ffef4cf9",
   "metadata": {},
   "outputs": [],
   "source": [
    "import pandas as pd"
   ]
  },
  {
   "cell_type": "code",
   "execution_count": 2,
   "id": "f83b035d",
   "metadata": {},
   "outputs": [],
   "source": [
    "import warnings\n",
    "warnings.filterwarnings(\"ignore\")"
   ]
  },
  {
   "cell_type": "code",
   "execution_count": 3,
   "id": "1b1f32f5",
   "metadata": {},
   "outputs": [],
   "source": [
    "import matplotlib.pyplot as plt"
   ]
  },
  {
   "cell_type": "code",
   "execution_count": 4,
   "id": "4ece5270",
   "metadata": {},
   "outputs": [],
   "source": [
    "import numpy as np"
   ]
  },
  {
   "cell_type": "code",
   "execution_count": 5,
   "id": "0a947301",
   "metadata": {},
   "outputs": [],
   "source": [
    "from math import factorial, sqrt"
   ]
  },
  {
   "cell_type": "code",
   "execution_count": 6,
   "id": "2345a9b4",
   "metadata": {},
   "outputs": [],
   "source": [
    "from scipy import stats as st"
   ]
  },
  {
   "cell_type": "code",
   "execution_count": 7,
   "id": "08e8a457",
   "metadata": {},
   "outputs": [],
   "source": [
    "from scipy.stats import binom"
   ]
  },
  {
   "cell_type": "code",
   "execution_count": 8,
   "id": "06b8826f",
   "metadata": {},
   "outputs": [],
   "source": [
    "from IPython.display import Image"
   ]
  },
  {
   "cell_type": "markdown",
   "id": "3a512820",
   "metadata": {},
   "source": [
    "### Шаг 1. Загрузка данных"
   ]
  },
  {
   "cell_type": "markdown",
   "id": "d4f69978",
   "metadata": {},
   "source": [
    "#### Данные о пользователях"
   ]
  },
  {
   "cell_type": "markdown",
   "id": "ead18d0c",
   "metadata": {},
   "source": [
    "\n",
    "- user_id\tуникальный идентификатор пользователя   \n",
    "- name\tимя пользователя  \n",
    "- age\tвозраст  \n",
    "- city\tгород  \n",
    "- subscription_type\tтип подписки (free, ultra)  "
   ]
  },
  {
   "cell_type": "code",
   "execution_count": 9,
   "id": "c7432b73",
   "metadata": {},
   "outputs": [
    {
     "data": {
      "text/html": [
       "<div>\n",
       "<style scoped>\n",
       "    .dataframe tbody tr th:only-of-type {\n",
       "        vertical-align: middle;\n",
       "    }\n",
       "\n",
       "    .dataframe tbody tr th {\n",
       "        vertical-align: top;\n",
       "    }\n",
       "\n",
       "    .dataframe thead th {\n",
       "        text-align: right;\n",
       "    }\n",
       "</style>\n",
       "<table border=\"1\" class=\"dataframe\">\n",
       "  <thead>\n",
       "    <tr style=\"text-align: right;\">\n",
       "      <th></th>\n",
       "      <th>user_id</th>\n",
       "      <th>name</th>\n",
       "      <th>age</th>\n",
       "      <th>city</th>\n",
       "      <th>subscription_type</th>\n",
       "    </tr>\n",
       "  </thead>\n",
       "  <tbody>\n",
       "    <tr>\n",
       "      <th>0</th>\n",
       "      <td>1</td>\n",
       "      <td>Кира</td>\n",
       "      <td>22</td>\n",
       "      <td>Тюмень</td>\n",
       "      <td>ultra</td>\n",
       "    </tr>\n",
       "    <tr>\n",
       "      <th>1</th>\n",
       "      <td>2</td>\n",
       "      <td>Станислав</td>\n",
       "      <td>31</td>\n",
       "      <td>Омск</td>\n",
       "      <td>ultra</td>\n",
       "    </tr>\n",
       "    <tr>\n",
       "      <th>2</th>\n",
       "      <td>3</td>\n",
       "      <td>Алексей</td>\n",
       "      <td>20</td>\n",
       "      <td>Москва</td>\n",
       "      <td>ultra</td>\n",
       "    </tr>\n",
       "    <tr>\n",
       "      <th>3</th>\n",
       "      <td>4</td>\n",
       "      <td>Константин</td>\n",
       "      <td>26</td>\n",
       "      <td>Ростов-на-Дону</td>\n",
       "      <td>ultra</td>\n",
       "    </tr>\n",
       "    <tr>\n",
       "      <th>4</th>\n",
       "      <td>5</td>\n",
       "      <td>Адель</td>\n",
       "      <td>28</td>\n",
       "      <td>Омск</td>\n",
       "      <td>ultra</td>\n",
       "    </tr>\n",
       "  </tbody>\n",
       "</table>\n",
       "</div>"
      ],
      "text/plain": [
       "   user_id        name  age            city subscription_type\n",
       "0        1        Кира   22          Тюмень             ultra\n",
       "1        2   Станислав   31            Омск             ultra\n",
       "2        3     Алексей   20          Москва             ultra\n",
       "3        4  Константин   26  Ростов-на-Дону             ultra\n",
       "4        5       Адель   28            Омск             ultra"
      ]
     },
     "execution_count": 9,
     "metadata": {},
     "output_type": "execute_result"
    }
   ],
   "source": [
    "data_users = pd.read_csv('/datasets/users_go.csv')\n",
    "data_users.head()"
   ]
  },
  {
   "cell_type": "code",
   "execution_count": 10,
   "id": "1e7feaff",
   "metadata": {},
   "outputs": [
    {
     "name": "stdout",
     "output_type": "stream",
     "text": [
      "<class 'pandas.core.frame.DataFrame'>\n",
      "RangeIndex: 1565 entries, 0 to 1564\n",
      "Data columns (total 5 columns):\n",
      " #   Column             Non-Null Count  Dtype \n",
      "---  ------             --------------  ----- \n",
      " 0   user_id            1565 non-null   int64 \n",
      " 1   name               1565 non-null   object\n",
      " 2   age                1565 non-null   int64 \n",
      " 3   city               1565 non-null   object\n",
      " 4   subscription_type  1565 non-null   object\n",
      "dtypes: int64(2), object(3)\n",
      "memory usage: 61.3+ KB\n"
     ]
    }
   ],
   "source": [
    "data_users.info()"
   ]
  },
  {
   "cell_type": "markdown",
   "id": "22af1fc7",
   "metadata": {},
   "source": [
    "#### Данные о поездках"
   ]
  },
  {
   "cell_type": "markdown",
   "id": "297561cb",
   "metadata": {},
   "source": [
    "- user_id\tуникальный идентификатор пользователя\n",
    "- distance\tрасстояние, которое пользователь проехал в текущей сессии (в метрах)\n",
    "- duration\tпродолжительность сессии (в минутах) — время с того момента, как пользователь нажал кнопку «Начать поездку» до момента, как он нажал кнопку «Завершить поездку»\n",
    "- date\tдата совершения поездки"
   ]
  },
  {
   "cell_type": "code",
   "execution_count": 11,
   "id": "e28b8c43",
   "metadata": {},
   "outputs": [
    {
     "data": {
      "text/html": [
       "<div>\n",
       "<style scoped>\n",
       "    .dataframe tbody tr th:only-of-type {\n",
       "        vertical-align: middle;\n",
       "    }\n",
       "\n",
       "    .dataframe tbody tr th {\n",
       "        vertical-align: top;\n",
       "    }\n",
       "\n",
       "    .dataframe thead th {\n",
       "        text-align: right;\n",
       "    }\n",
       "</style>\n",
       "<table border=\"1\" class=\"dataframe\">\n",
       "  <thead>\n",
       "    <tr style=\"text-align: right;\">\n",
       "      <th></th>\n",
       "      <th>user_id</th>\n",
       "      <th>distance</th>\n",
       "      <th>duration</th>\n",
       "      <th>date</th>\n",
       "    </tr>\n",
       "  </thead>\n",
       "  <tbody>\n",
       "    <tr>\n",
       "      <th>0</th>\n",
       "      <td>1</td>\n",
       "      <td>4409.919140</td>\n",
       "      <td>25.599769</td>\n",
       "      <td>2021-01-01</td>\n",
       "    </tr>\n",
       "    <tr>\n",
       "      <th>1</th>\n",
       "      <td>1</td>\n",
       "      <td>2617.592153</td>\n",
       "      <td>15.816871</td>\n",
       "      <td>2021-01-18</td>\n",
       "    </tr>\n",
       "    <tr>\n",
       "      <th>2</th>\n",
       "      <td>1</td>\n",
       "      <td>754.159807</td>\n",
       "      <td>6.232113</td>\n",
       "      <td>2021-04-20</td>\n",
       "    </tr>\n",
       "    <tr>\n",
       "      <th>3</th>\n",
       "      <td>1</td>\n",
       "      <td>2694.783254</td>\n",
       "      <td>18.511000</td>\n",
       "      <td>2021-08-11</td>\n",
       "    </tr>\n",
       "    <tr>\n",
       "      <th>4</th>\n",
       "      <td>1</td>\n",
       "      <td>4028.687306</td>\n",
       "      <td>26.265803</td>\n",
       "      <td>2021-08-28</td>\n",
       "    </tr>\n",
       "  </tbody>\n",
       "</table>\n",
       "</div>"
      ],
      "text/plain": [
       "   user_id     distance   duration        date\n",
       "0        1  4409.919140  25.599769  2021-01-01\n",
       "1        1  2617.592153  15.816871  2021-01-18\n",
       "2        1   754.159807   6.232113  2021-04-20\n",
       "3        1  2694.783254  18.511000  2021-08-11\n",
       "4        1  4028.687306  26.265803  2021-08-28"
      ]
     },
     "execution_count": 11,
     "metadata": {},
     "output_type": "execute_result"
    }
   ],
   "source": [
    "data_rides = pd.read_csv('/datasets/rides_go.csv')\n",
    "data_rides.head()"
   ]
  },
  {
   "cell_type": "code",
   "execution_count": 12,
   "id": "a63ff65f",
   "metadata": {},
   "outputs": [
    {
     "name": "stdout",
     "output_type": "stream",
     "text": [
      "<class 'pandas.core.frame.DataFrame'>\n",
      "RangeIndex: 18068 entries, 0 to 18067\n",
      "Data columns (total 4 columns):\n",
      " #   Column    Non-Null Count  Dtype  \n",
      "---  ------    --------------  -----  \n",
      " 0   user_id   18068 non-null  int64  \n",
      " 1   distance  18068 non-null  float64\n",
      " 2   duration  18068 non-null  float64\n",
      " 3   date      18068 non-null  object \n",
      "dtypes: float64(2), int64(1), object(1)\n",
      "memory usage: 564.8+ KB\n"
     ]
    }
   ],
   "source": [
    "data_rides.info()"
   ]
  },
  {
   "cell_type": "markdown",
   "id": "4134af9c",
   "metadata": {},
   "source": [
    "#### Данные о подписках"
   ]
  },
  {
   "cell_type": "markdown",
   "id": "04dd85cd",
   "metadata": {},
   "source": [
    "- subscription_type\tтип подписки\n",
    "- minute_price\tстоимость одной минуты поездки по данной подписке\n",
    "- start_ride_price\tстоимость начала поездки\n",
    "- subscription_fee\tстоимость ежемесячного платежа"
   ]
  },
  {
   "cell_type": "code",
   "execution_count": 13,
   "id": "320ce224",
   "metadata": {},
   "outputs": [
    {
     "data": {
      "text/html": [
       "<div>\n",
       "<style scoped>\n",
       "    .dataframe tbody tr th:only-of-type {\n",
       "        vertical-align: middle;\n",
       "    }\n",
       "\n",
       "    .dataframe tbody tr th {\n",
       "        vertical-align: top;\n",
       "    }\n",
       "\n",
       "    .dataframe thead th {\n",
       "        text-align: right;\n",
       "    }\n",
       "</style>\n",
       "<table border=\"1\" class=\"dataframe\">\n",
       "  <thead>\n",
       "    <tr style=\"text-align: right;\">\n",
       "      <th></th>\n",
       "      <th>subscription_type</th>\n",
       "      <th>minute_price</th>\n",
       "      <th>start_ride_price</th>\n",
       "      <th>subscription_fee</th>\n",
       "    </tr>\n",
       "  </thead>\n",
       "  <tbody>\n",
       "    <tr>\n",
       "      <th>0</th>\n",
       "      <td>free</td>\n",
       "      <td>8</td>\n",
       "      <td>50</td>\n",
       "      <td>0</td>\n",
       "    </tr>\n",
       "    <tr>\n",
       "      <th>1</th>\n",
       "      <td>ultra</td>\n",
       "      <td>6</td>\n",
       "      <td>0</td>\n",
       "      <td>199</td>\n",
       "    </tr>\n",
       "  </tbody>\n",
       "</table>\n",
       "</div>"
      ],
      "text/plain": [
       "  subscription_type  minute_price  start_ride_price  subscription_fee\n",
       "0              free             8                50                 0\n",
       "1             ultra             6                 0               199"
      ]
     },
     "execution_count": 13,
     "metadata": {},
     "output_type": "execute_result"
    }
   ],
   "source": [
    "data_sub = pd.read_csv('/datasets/subscriptions_go.csv')\n",
    "data_sub"
   ]
  },
  {
   "cell_type": "code",
   "execution_count": 14,
   "id": "5bca6c75",
   "metadata": {},
   "outputs": [
    {
     "name": "stdout",
     "output_type": "stream",
     "text": [
      "<class 'pandas.core.frame.DataFrame'>\n",
      "RangeIndex: 2 entries, 0 to 1\n",
      "Data columns (total 4 columns):\n",
      " #   Column             Non-Null Count  Dtype \n",
      "---  ------             --------------  ----- \n",
      " 0   subscription_type  2 non-null      object\n",
      " 1   minute_price       2 non-null      int64 \n",
      " 2   start_ride_price   2 non-null      int64 \n",
      " 3   subscription_fee   2 non-null      int64 \n",
      "dtypes: int64(3), object(1)\n",
      "memory usage: 192.0+ bytes\n"
     ]
    }
   ],
   "source": [
    "data_sub.info()"
   ]
  },
  {
   "cell_type": "markdown",
   "id": "5a17fa8c",
   "metadata": {},
   "source": [
    "---\n",
    "\n",
    "**Промежуточный вывод:**  \n",
    "\n",
    "В таблице **users_go.csv** находится база данных пользователей по их id c данными о самих людях (имя, возраст, город, платят ли за подписку).    \n",
    "В **rides_go.csv** данные о конкретных поездках, этих данных больше всего.  \n",
    "В **subscriptions_go.csv** все характеристики двух возможных моделей подписки: платной и бесплатной.  \n",
    "\n",
    "Предварительно можно утверждать, что, данных достаточно для проверки гипотез, но нужно проверить данные на наличие пропусков и дубликатов."
   ]
  },
  {
   "cell_type": "markdown",
   "id": "bbeb8fe7",
   "metadata": {},
   "source": [
    "### Шаг 2. Предобработка данных"
   ]
  },
  {
   "cell_type": "markdown",
   "id": "c64bb4d2",
   "metadata": {},
   "source": [
    "#### Столбец date и month в data_rides"
   ]
  },
  {
   "cell_type": "code",
   "execution_count": 15,
   "id": "98cd01e5",
   "metadata": {},
   "outputs": [],
   "source": [
    "# Привожу к datetime\n",
    "data_rides['date'] = pd.to_datetime(\n",
    "    data_rides['date'], format='%Y-%m-%d'\n",
    ")"
   ]
  },
  {
   "cell_type": "code",
   "execution_count": 16,
   "id": "13b5e98f",
   "metadata": {},
   "outputs": [],
   "source": [
    "# Создаю новый столбец, содержащий номер месяца\n",
    "data_rides['month'] = data_rides['date'].dt.month"
   ]
  },
  {
   "cell_type": "code",
   "execution_count": 17,
   "id": "f8d46167",
   "metadata": {},
   "outputs": [
    {
     "data": {
      "text/plain": [
       "Timestamp('2021-01-01 00:00:00')"
      ]
     },
     "execution_count": 17,
     "metadata": {},
     "output_type": "execute_result"
    }
   ],
   "source": [
    "data_rides['date'].min()"
   ]
  },
  {
   "cell_type": "code",
   "execution_count": 18,
   "id": "6f9e9315",
   "metadata": {},
   "outputs": [
    {
     "data": {
      "text/plain": [
       "Timestamp('2021-12-30 00:00:00')"
      ]
     },
     "execution_count": 18,
     "metadata": {},
     "output_type": "execute_result"
    }
   ],
   "source": [
    "data_rides['date'].max()"
   ]
  },
  {
   "cell_type": "markdown",
   "id": "377e6d73",
   "metadata": {},
   "source": [
    "В датасете data_rides приведены записи за 2021 год (кроме 31 декабря)"
   ]
  },
  {
   "cell_type": "markdown",
   "id": "413897af",
   "metadata": {},
   "source": [
    "#### Работа с пропусками и дубликатами"
   ]
  },
  {
   "cell_type": "markdown",
   "id": "074e7a0f",
   "metadata": {},
   "source": [
    "**Проверю, есть ли пропуски данных в первых двух датафреймах (третий я уже видела целиком):**"
   ]
  },
  {
   "cell_type": "code",
   "execution_count": 19,
   "id": "3f28df89",
   "metadata": {},
   "outputs": [
    {
     "data": {
      "text/plain": [
       "user_id              0\n",
       "name                 0\n",
       "age                  0\n",
       "city                 0\n",
       "subscription_type    0\n",
       "dtype: int64"
      ]
     },
     "execution_count": 19,
     "metadata": {},
     "output_type": "execute_result"
    }
   ],
   "source": [
    "data_users.isna().sum()"
   ]
  },
  {
   "cell_type": "code",
   "execution_count": 20,
   "id": "8bc6af2d",
   "metadata": {},
   "outputs": [
    {
     "data": {
      "text/plain": [
       "user_id     0\n",
       "distance    0\n",
       "duration    0\n",
       "date        0\n",
       "month       0\n",
       "dtype: int64"
      ]
     },
     "execution_count": 20,
     "metadata": {},
     "output_type": "execute_result"
    }
   ],
   "source": [
    "data_rides.isna().sum()"
   ]
  },
  {
   "cell_type": "markdown",
   "id": "74d2fa91",
   "metadata": {},
   "source": [
    "**Пропусков нет, проверю на наличие дубликатов:** \n",
    "    \n",
    "    в data_users дубликатами могут быть строки с одним user_id;\n",
    "    в data_rides дубликатом будет полный дубликат строки."
   ]
  },
  {
   "cell_type": "code",
   "execution_count": 21,
   "id": "11e8b202",
   "metadata": {},
   "outputs": [
    {
     "data": {
      "text/plain": [
       "31"
      ]
     },
     "execution_count": 21,
     "metadata": {},
     "output_type": "execute_result"
    }
   ],
   "source": [
    "data_users['user_id'].duplicated().sum()"
   ]
  },
  {
   "cell_type": "code",
   "execution_count": 22,
   "id": "3db56cb2",
   "metadata": {},
   "outputs": [
    {
     "data": {
      "text/plain": [
       "31"
      ]
     },
     "execution_count": 22,
     "metadata": {},
     "output_type": "execute_result"
    }
   ],
   "source": [
    "data_users.duplicated().sum()"
   ]
  },
  {
   "cell_type": "markdown",
   "id": "9b622e47",
   "metadata": {},
   "source": [
    "**Количество дубликатов в столбце user_id и полных дубликатов совпадает, просто уберу их**"
   ]
  },
  {
   "cell_type": "code",
   "execution_count": 23,
   "id": "5472841c",
   "metadata": {},
   "outputs": [],
   "source": [
    "data_users = data_users.drop_duplicates().reset_index()"
   ]
  },
  {
   "cell_type": "code",
   "execution_count": 24,
   "id": "941377a2",
   "metadata": {},
   "outputs": [
    {
     "data": {
      "text/plain": [
       "0"
      ]
     },
     "execution_count": 24,
     "metadata": {},
     "output_type": "execute_result"
    }
   ],
   "source": [
    "data_users.duplicated().sum()"
   ]
  },
  {
   "cell_type": "code",
   "execution_count": 25,
   "id": "43e25225",
   "metadata": {},
   "outputs": [
    {
     "data": {
      "text/plain": [
       "0"
      ]
     },
     "execution_count": 25,
     "metadata": {},
     "output_type": "execute_result"
    }
   ],
   "source": [
    "# в data_rides дубликатов нет\n",
    "data_rides.duplicated().sum()"
   ]
  },
  {
   "cell_type": "markdown",
   "id": "7f5482ac",
   "metadata": {},
   "source": [
    "---\n",
    "\n",
    "**Промежуточный вывод:**  \n",
    "\n",
    "В ходе предобработки данных было определено, что в них нет пропусков;   \n",
    "В одном из датафреймов был найден и удален 31 очевидный дубликат;  \n",
    "Для неочевидных дубликатов ни в одной из таблиц подходящего места нет.  \n",
    "\n",
    "Данные хорошего качества и подходят для проведения исследования."
   ]
  },
  {
   "cell_type": "markdown",
   "id": "71db5e0c",
   "metadata": {},
   "source": [
    "### Шаг 3. Исследовательский анализ данных"
   ]
  },
  {
   "cell_type": "markdown",
   "id": "af4d01a8",
   "metadata": {},
   "source": [
    "#### Частота встречаемости городов"
   ]
  },
  {
   "cell_type": "code",
   "execution_count": 26,
   "id": "96f1e993",
   "metadata": {},
   "outputs": [
    {
     "data": {
      "text/plain": [
       "Пятигорск         219\n",
       "Екатеринбург      204\n",
       "Ростов-на-Дону    198\n",
       "Краснодар         193\n",
       "Сочи              189\n",
       "Омск              183\n",
       "Тюмень            180\n",
       "Москва            168\n",
       "Name: city, dtype: int64"
      ]
     },
     "execution_count": 26,
     "metadata": {},
     "output_type": "execute_result"
    }
   ],
   "source": [
    "data_users['city'].value_counts(ascending=False)"
   ]
  },
  {
   "cell_type": "code",
   "execution_count": 27,
   "id": "9c2fa0ce",
   "metadata": {},
   "outputs": [
    {
     "data": {
      "image/png": "[encoded data removed]",
      "text/plain": [
       "<Figure size 432x288 with 1 Axes>"
      ]
     },
     "metadata": {
      "needs_background": "light"
     },
     "output_type": "display_data"
    }
   ],
   "source": [
    "ax_city = data_users['city'].value_counts(ascending=True).plot(kind='barh', color='gray', title='Частота встречаемости городов');\n",
    "ax_city.set_xlabel('количество записей');\n",
    "ax_city.set_ylabel('города');"
   ]
  },
  {
   "cell_type": "markdown",
   "id": "0645d766",
   "metadata": {},
   "source": [
    "Больше всего пользователей самокатов проживает в Пятигорске, меньше всего в Москве;  \n",
    "Всего городов в базе 8, пользователи довольно равномерно распределены по городам."
   ]
  },
  {
   "cell_type": "markdown",
   "id": "e559be6f",
   "metadata": {},
   "source": [
    "#### Соотношение пользователей с подпиской и без подписки"
   ]
  },
  {
   "cell_type": "markdown",
   "id": "20b2e059",
   "metadata": {},
   "source": [
    "Всего есть два типа подписок: бесплатная и ультра"
   ]
  },
  {
   "cell_type": "code",
   "execution_count": 28,
   "id": "fc54cc61",
   "metadata": {},
   "outputs": [
    {
     "data": {
      "text/html": [
       "<div>\n",
       "<style scoped>\n",
       "    .dataframe tbody tr th:only-of-type {\n",
       "        vertical-align: middle;\n",
       "    }\n",
       "\n",
       "    .dataframe tbody tr th {\n",
       "        vertical-align: top;\n",
       "    }\n",
       "\n",
       "    .dataframe thead th {\n",
       "        text-align: right;\n",
       "    }\n",
       "</style>\n",
       "<table border=\"1\" class=\"dataframe\">\n",
       "  <thead>\n",
       "    <tr style=\"text-align: right;\">\n",
       "      <th></th>\n",
       "      <th>subscription_type</th>\n",
       "      <th>minute_price</th>\n",
       "      <th>start_ride_price</th>\n",
       "      <th>subscription_fee</th>\n",
       "    </tr>\n",
       "  </thead>\n",
       "  <tbody>\n",
       "    <tr>\n",
       "      <th>0</th>\n",
       "      <td>free</td>\n",
       "      <td>8</td>\n",
       "      <td>50</td>\n",
       "      <td>0</td>\n",
       "    </tr>\n",
       "    <tr>\n",
       "      <th>1</th>\n",
       "      <td>ultra</td>\n",
       "      <td>6</td>\n",
       "      <td>0</td>\n",
       "      <td>199</td>\n",
       "    </tr>\n",
       "  </tbody>\n",
       "</table>\n",
       "</div>"
      ],
      "text/plain": [
       "  subscription_type  minute_price  start_ride_price  subscription_fee\n",
       "0              free             8                50                 0\n",
       "1             ultra             6                 0               199"
      ]
     },
     "execution_count": 28,
     "metadata": {},
     "output_type": "execute_result"
    }
   ],
   "source": [
    "data_sub"
   ]
  },
  {
   "cell_type": "code",
   "execution_count": 29,
   "id": "ff64d125",
   "metadata": {},
   "outputs": [
    {
     "data": {
      "text/plain": [
       "free     835\n",
       "ultra    699\n",
       "Name: subscription_type, dtype: int64"
      ]
     },
     "execution_count": 29,
     "metadata": {},
     "output_type": "execute_result"
    }
   ],
   "source": [
    "data_users['subscription_type'].value_counts()"
   ]
  },
  {
   "cell_type": "code",
   "execution_count": 30,
   "id": "0ddad584",
   "metadata": {},
   "outputs": [
    {
     "data": {
      "image/png": "[encoded data removed]",
      "text/plain": [
       "<Figure size 432x288 with 1 Axes>"
      ]
     },
     "metadata": {},
     "output_type": "display_data"
    }
   ],
   "source": [
    "data_users['subscription_type'].value_counts().plot.pie(autopct='%1.0f%%', colors = ['grey', 'orange'], ylabel='',\n",
    "                                                        title=\"Соотношение пользователей с подпиской и без подписки\");"
   ]
  },
  {
   "cell_type": "markdown",
   "id": "2f877af9",
   "metadata": {},
   "source": [
    "Пользователей без подписки незначительно 846 (54%), с подпиской ультра 719 (46%);  \n",
    "Без подписки пользуется сервисом немного больше пользователей."
   ]
  },
  {
   "cell_type": "markdown",
   "id": "c4ea93ec",
   "metadata": {},
   "source": [
    "#### Возраст пользователей"
   ]
  },
  {
   "cell_type": "code",
   "execution_count": 31,
   "id": "e38c68a0",
   "metadata": {},
   "outputs": [
    {
     "data": {
      "text/plain": [
       "25    145\n",
       "24    132\n",
       "26    131\n",
       "23    129\n",
       "27    119\n",
       "22    119\n",
       "28    112\n",
       "21     93\n",
       "20     71\n",
       "30     68\n",
       "29     68\n",
       "31     48\n",
       "19     47\n",
       "18     46\n",
       "32     41\n",
       "33     39\n",
       "17     26\n",
       "34     19\n",
       "16     19\n",
       "35     15\n",
       "15     13\n",
       "14      9\n",
       "13      8\n",
       "36      6\n",
       "12      4\n",
       "38      3\n",
       "37      2\n",
       "39      1\n",
       "43      1\n",
       "Name: age, dtype: int64"
      ]
     },
     "execution_count": 31,
     "metadata": {},
     "output_type": "execute_result"
    }
   ],
   "source": [
    "data_users['age'].value_counts(ascending=False)"
   ]
  },
  {
   "cell_type": "code",
   "execution_count": 32,
   "id": "497da331",
   "metadata": {},
   "outputs": [
    {
     "data": {
      "image/png": "[encoded data removed]",
      "text/plain": [
       "<Figure size 432x288 with 1 Axes>"
      ]
     },
     "metadata": {
      "needs_background": "light"
     },
     "output_type": "display_data"
    }
   ],
   "source": [
    "ax = data_users['age'].hist(bins=30, color = 'grey');\n",
    "ax.set_xlabel('возраст');\n",
    "ax.set_ylabel('количество');\n",
    "ax.set_title('Возраст пользователей');"
   ]
  },
  {
   "cell_type": "code",
   "execution_count": 33,
   "id": "386cdaa6",
   "metadata": {},
   "outputs": [
    {
     "data": {
      "image/png": "[encoded data removed]",
      "text/plain": [
       "<Figure size 432x288 with 1 Axes>"
      ]
     },
     "metadata": {
      "needs_background": "light"
     },
     "output_type": "display_data"
    }
   ],
   "source": [
    "data_users['age'].plot(kind='box', title='Коробчатая диаграмма (возраст)',\n",
    "                       ylabel = 'возраст');"
   ]
  },
  {
   "cell_type": "code",
   "execution_count": 34,
   "id": "1b035777",
   "metadata": {},
   "outputs": [
    {
     "data": {
      "text/plain": [
       "count    1534.000000\n",
       "mean       24.903520\n",
       "std         4.572367\n",
       "min        12.000000\n",
       "25%        22.000000\n",
       "50%        25.000000\n",
       "75%        28.000000\n",
       "max        43.000000\n",
       "Name: age, dtype: float64"
      ]
     },
     "execution_count": 34,
     "metadata": {},
     "output_type": "execute_result"
    }
   ],
   "source": [
    "data_users['age'].describe()"
   ]
  },
  {
   "cell_type": "markdown",
   "id": "8e8788ac",
   "metadata": {},
   "source": [
    "Большая часть пользователей - люди от 15 до 35 лет."
   ]
  },
  {
   "cell_type": "markdown",
   "id": "c608354d",
   "metadata": {},
   "source": [
    "#### Расстояние, которое пользователь преодолел за одну поездку"
   ]
  },
  {
   "cell_type": "code",
   "execution_count": 35,
   "id": "ac649a97",
   "metadata": {},
   "outputs": [
    {
     "data": {
      "image/png": "[encoded data removed]",
      "text/plain": [
       "<Figure size 432x288 with 1 Axes>"
      ]
     },
     "metadata": {
      "needs_background": "light"
     },
     "output_type": "display_data"
    }
   ],
   "source": [
    "ax = data_rides['distance'].hist(bins=100, color='grey');\n",
    "ax.set_xlabel('расстояние (метры)');\n",
    "ax.set_ylabel('количество');\n",
    "ax.set_title('Расстояние, которое пользователь преодолел за одну поездку');"
   ]
  },
  {
   "cell_type": "code",
   "execution_count": 36,
   "id": "977213b9",
   "metadata": {},
   "outputs": [
    {
     "data": {
      "image/png": "[encoded data removed]",
      "text/plain": [
       "<Figure size 360x360 with 1 Axes>"
      ]
     },
     "metadata": {
      "needs_background": "light"
     },
     "output_type": "display_data"
    }
   ],
   "source": [
    "data_rides['distance'].plot(kind='box', figsize=(5, 5), title = 'Коробчатая диаграмма (расстояние)',\n",
    "                            ylabel = 'расстояние поездки (метры)');"
   ]
  },
  {
   "cell_type": "code",
   "execution_count": 37,
   "id": "1579a58c",
   "metadata": {},
   "outputs": [
    {
     "data": {
      "text/plain": [
       "count    18068.000000\n",
       "mean      3070.659976\n",
       "std       1116.831209\n",
       "min          0.855683\n",
       "25%       2543.226360\n",
       "50%       3133.609994\n",
       "75%       3776.222735\n",
       "max       7211.007745\n",
       "Name: distance, dtype: float64"
      ]
     },
     "execution_count": 37,
     "metadata": {},
     "output_type": "execute_result"
    }
   ],
   "source": [
    "data_rides['distance'].describe()"
   ]
  },
  {
   "cell_type": "markdown",
   "id": "3f123bd0",
   "metadata": {},
   "source": [
    "На графике расстояния видно два пика на ~500 метрах и на ~3000 метрах соответственно.  \n",
    "Пик на 3000 метрах можно объяснить тем, что 3000 это достаточно большое расстояние, чтобы пользователь не хотел пройти его пешком и для него он скорее будет использовать самокат.  \n",
    "Пик на 500 метрах значительно меньше и может быть связан и бытовыми задачами (например, перепарковать самокат у дома или совершить поездку от дома до стоянки и пересесть на метро)."
   ]
  },
  {
   "cell_type": "markdown",
   "id": "b7e430b6",
   "metadata": {},
   "source": [
    "#### Продолжительность поездок"
   ]
  },
  {
   "cell_type": "code",
   "execution_count": 38,
   "id": "4ba9eaf9",
   "metadata": {},
   "outputs": [
    {
     "data": {
      "image/png": "[encoded data removed]",
      "text/plain": [
       "<Figure size 432x288 with 1 Axes>"
      ]
     },
     "metadata": {
      "needs_background": "light"
     },
     "output_type": "display_data"
    }
   ],
   "source": [
    "ax = data_rides['duration'].hist(bins=100, color='grey');\n",
    "ax.set_xlabel('длительность (мин)');\n",
    "ax.set_ylabel('количество');\n",
    "ax.set_title('Продолжительность поездок');"
   ]
  },
  {
   "cell_type": "code",
   "execution_count": 39,
   "id": "849e6daf",
   "metadata": {},
   "outputs": [
    {
     "data": {
      "text/plain": [
       "95"
      ]
     },
     "execution_count": 39,
     "metadata": {},
     "output_type": "execute_result"
    }
   ],
   "source": [
    "data_rides.query('duration < 1'). shape[0]"
   ]
  },
  {
   "cell_type": "code",
   "execution_count": 40,
   "id": "2c9dc179",
   "metadata": {},
   "outputs": [
    {
     "data": {
      "text/html": [
       "<div>\n",
       "<style scoped>\n",
       "    .dataframe tbody tr th:only-of-type {\n",
       "        vertical-align: middle;\n",
       "    }\n",
       "\n",
       "    .dataframe tbody tr th {\n",
       "        vertical-align: top;\n",
       "    }\n",
       "\n",
       "    .dataframe thead th {\n",
       "        text-align: right;\n",
       "    }\n",
       "</style>\n",
       "<table border=\"1\" class=\"dataframe\">\n",
       "  <thead>\n",
       "    <tr style=\"text-align: right;\">\n",
       "      <th></th>\n",
       "      <th>user_id</th>\n",
       "      <th>distance</th>\n",
       "      <th>duration</th>\n",
       "      <th>date</th>\n",
       "      <th>month</th>\n",
       "    </tr>\n",
       "  </thead>\n",
       "  <tbody>\n",
       "    <tr>\n",
       "      <th>6531</th>\n",
       "      <td>701</td>\n",
       "      <td>4196.445201</td>\n",
       "      <td>0.5</td>\n",
       "      <td>2021-08-31</td>\n",
       "      <td>8</td>\n",
       "    </tr>\n",
       "    <tr>\n",
       "      <th>6570</th>\n",
       "      <td>704</td>\n",
       "      <td>4830.824371</td>\n",
       "      <td>0.5</td>\n",
       "      <td>2021-10-14</td>\n",
       "      <td>10</td>\n",
       "    </tr>\n",
       "    <tr>\n",
       "      <th>6680</th>\n",
       "      <td>712</td>\n",
       "      <td>4684.004397</td>\n",
       "      <td>0.5</td>\n",
       "      <td>2021-03-04</td>\n",
       "      <td>3</td>\n",
       "    </tr>\n",
       "    <tr>\n",
       "      <th>6695</th>\n",
       "      <td>713</td>\n",
       "      <td>5215.642710</td>\n",
       "      <td>0.5</td>\n",
       "      <td>2021-02-25</td>\n",
       "      <td>2</td>\n",
       "    </tr>\n",
       "    <tr>\n",
       "      <th>6768</th>\n",
       "      <td>718</td>\n",
       "      <td>5197.436649</td>\n",
       "      <td>0.5</td>\n",
       "      <td>2021-02-11</td>\n",
       "      <td>2</td>\n",
       "    </tr>\n",
       "    <tr>\n",
       "      <th>...</th>\n",
       "      <td>...</td>\n",
       "      <td>...</td>\n",
       "      <td>...</td>\n",
       "      <td>...</td>\n",
       "      <td>...</td>\n",
       "    </tr>\n",
       "    <tr>\n",
       "      <th>17004</th>\n",
       "      <td>1460</td>\n",
       "      <td>5531.335845</td>\n",
       "      <td>0.5</td>\n",
       "      <td>2021-01-19</td>\n",
       "      <td>1</td>\n",
       "    </tr>\n",
       "    <tr>\n",
       "      <th>17242</th>\n",
       "      <td>1477</td>\n",
       "      <td>6724.932981</td>\n",
       "      <td>0.5</td>\n",
       "      <td>2021-01-12</td>\n",
       "      <td>1</td>\n",
       "    </tr>\n",
       "    <tr>\n",
       "      <th>17314</th>\n",
       "      <td>1483</td>\n",
       "      <td>4445.481070</td>\n",
       "      <td>0.5</td>\n",
       "      <td>2021-03-06</td>\n",
       "      <td>3</td>\n",
       "    </tr>\n",
       "    <tr>\n",
       "      <th>17505</th>\n",
       "      <td>1496</td>\n",
       "      <td>5722.551787</td>\n",
       "      <td>0.5</td>\n",
       "      <td>2021-02-14</td>\n",
       "      <td>2</td>\n",
       "    </tr>\n",
       "    <tr>\n",
       "      <th>17909</th>\n",
       "      <td>1524</td>\n",
       "      <td>4103.998874</td>\n",
       "      <td>0.5</td>\n",
       "      <td>2021-06-18</td>\n",
       "      <td>6</td>\n",
       "    </tr>\n",
       "  </tbody>\n",
       "</table>\n",
       "<p>95 rows × 5 columns</p>\n",
       "</div>"
      ],
      "text/plain": [
       "       user_id     distance  duration       date  month\n",
       "6531       701  4196.445201       0.5 2021-08-31      8\n",
       "6570       704  4830.824371       0.5 2021-10-14     10\n",
       "6680       712  4684.004397       0.5 2021-03-04      3\n",
       "6695       713  5215.642710       0.5 2021-02-25      2\n",
       "6768       718  5197.436649       0.5 2021-02-11      2\n",
       "...        ...          ...       ...        ...    ...\n",
       "17004     1460  5531.335845       0.5 2021-01-19      1\n",
       "17242     1477  6724.932981       0.5 2021-01-12      1\n",
       "17314     1483  4445.481070       0.5 2021-03-06      3\n",
       "17505     1496  5722.551787       0.5 2021-02-14      2\n",
       "17909     1524  4103.998874       0.5 2021-06-18      6\n",
       "\n",
       "[95 rows x 5 columns]"
      ]
     },
     "execution_count": 40,
     "metadata": {},
     "output_type": "execute_result"
    }
   ],
   "source": [
    "data_rides.query('duration < 1')"
   ]
  },
  {
   "cell_type": "markdown",
   "id": "733be600",
   "metadata": {},
   "source": [
    "На графике можно увидеть пик значений около нуля. При ближайшем рассмотрении видно, что в данных есть 95 строк с длительностью поездки менее одной минуты, но расстоянием в тысячи метров. Вряд ли самокаты могут развивать такие скорости, скорее всего в данных ошибка."
   ]
  },
  {
   "cell_type": "code",
   "execution_count": 41,
   "id": "e00326ad",
   "metadata": {},
   "outputs": [
    {
     "data": {
      "text/plain": [
       "array([0.5])"
      ]
     },
     "execution_count": 41,
     "metadata": {},
     "output_type": "execute_result"
    }
   ],
   "source": [
    "data_rides.query('duration < 1')['duration'].unique()"
   ]
  },
  {
   "cell_type": "markdown",
   "id": "536cd424",
   "metadata": {},
   "source": [
    "Так же вижу, что у всех этих аномальных значений время поездки 0.5 минут. Исключу эту аномалию из исследования."
   ]
  },
  {
   "cell_type": "code",
   "execution_count": 42,
   "id": "09d2e2c9",
   "metadata": {},
   "outputs": [
    {
     "data": {
      "text/plain": [
       "17973"
      ]
     },
     "execution_count": 42,
     "metadata": {},
     "output_type": "execute_result"
    }
   ],
   "source": [
    "data_rides = data_rides.query('duration > 1')\n",
    "data_rides.shape[0]"
   ]
  },
  {
   "cell_type": "code",
   "execution_count": 43,
   "id": "1c0f9822",
   "metadata": {},
   "outputs": [
    {
     "data": {
      "image/png": "[encoded data removed]",
      "text/plain": [
       "<Figure size 360x360 with 1 Axes>"
      ]
     },
     "metadata": {
      "needs_background": "light"
     },
     "output_type": "display_data"
    }
   ],
   "source": [
    "data_rides['duration'].plot(kind='box', figsize=(5, 5),\n",
    "                            title = 'Коробчатая диаграмма продолжительности поездок',\n",
    "                            ylabel = 'длительность (мин)');"
   ]
  },
  {
   "cell_type": "code",
   "execution_count": 44,
   "id": "3c9b337c",
   "metadata": {},
   "outputs": [
    {
     "data": {
      "text/plain": [
       "count    17973.000000\n",
       "mean        17.896480\n",
       "std          5.975424\n",
       "min          2.035632\n",
       "25%         13.670439\n",
       "50%         17.714122\n",
       "75%         21.747016\n",
       "max         40.823963\n",
       "Name: duration, dtype: float64"
      ]
     },
     "execution_count": 44,
     "metadata": {},
     "output_type": "execute_result"
    }
   ],
   "source": [
    "data_rides['duration'].describe()"
   ]
  },
  {
   "cell_type": "markdown",
   "id": "ecf860a2",
   "metadata": {},
   "source": [
    "Пользователи совершают поездки на самые разные расстояния за разное время;  \n",
    "Бо́льшая часть поездок на расстояние от 2000м до 5000м и длиной от 10 до 20 минут."
   ]
  },
  {
   "cell_type": "markdown",
   "id": "59c40e84",
   "metadata": {},
   "source": [
    "### Шаг 4. Объединение данных"
   ]
  },
  {
   "cell_type": "markdown",
   "id": "49c7ec0c",
   "metadata": {},
   "source": [
    "#### Объединяю данные о пользователях, поездках и подписках в один датафрейм. "
   ]
  },
  {
   "cell_type": "code",
   "execution_count": 45,
   "id": "2603d589",
   "metadata": {},
   "outputs": [
    {
     "data": {
      "text/html": [
       "<div>\n",
       "<style scoped>\n",
       "    .dataframe tbody tr th:only-of-type {\n",
       "        vertical-align: middle;\n",
       "    }\n",
       "\n",
       "    .dataframe tbody tr th {\n",
       "        vertical-align: top;\n",
       "    }\n",
       "\n",
       "    .dataframe thead th {\n",
       "        text-align: right;\n",
       "    }\n",
       "</style>\n",
       "<table border=\"1\" class=\"dataframe\">\n",
       "  <thead>\n",
       "    <tr style=\"text-align: right;\">\n",
       "      <th></th>\n",
       "      <th>user_id</th>\n",
       "      <th>distance</th>\n",
       "      <th>duration</th>\n",
       "      <th>date</th>\n",
       "      <th>month</th>\n",
       "      <th>index</th>\n",
       "      <th>name</th>\n",
       "      <th>age</th>\n",
       "      <th>city</th>\n",
       "      <th>subscription_type</th>\n",
       "    </tr>\n",
       "  </thead>\n",
       "  <tbody>\n",
       "    <tr>\n",
       "      <th>0</th>\n",
       "      <td>1</td>\n",
       "      <td>4409.919140</td>\n",
       "      <td>25.599769</td>\n",
       "      <td>2021-01-01</td>\n",
       "      <td>1</td>\n",
       "      <td>0</td>\n",
       "      <td>Кира</td>\n",
       "      <td>22</td>\n",
       "      <td>Тюмень</td>\n",
       "      <td>ultra</td>\n",
       "    </tr>\n",
       "    <tr>\n",
       "      <th>1</th>\n",
       "      <td>1</td>\n",
       "      <td>2617.592153</td>\n",
       "      <td>15.816871</td>\n",
       "      <td>2021-01-18</td>\n",
       "      <td>1</td>\n",
       "      <td>0</td>\n",
       "      <td>Кира</td>\n",
       "      <td>22</td>\n",
       "      <td>Тюмень</td>\n",
       "      <td>ultra</td>\n",
       "    </tr>\n",
       "    <tr>\n",
       "      <th>2</th>\n",
       "      <td>1</td>\n",
       "      <td>754.159807</td>\n",
       "      <td>6.232113</td>\n",
       "      <td>2021-04-20</td>\n",
       "      <td>4</td>\n",
       "      <td>0</td>\n",
       "      <td>Кира</td>\n",
       "      <td>22</td>\n",
       "      <td>Тюмень</td>\n",
       "      <td>ultra</td>\n",
       "    </tr>\n",
       "    <tr>\n",
       "      <th>3</th>\n",
       "      <td>1</td>\n",
       "      <td>2694.783254</td>\n",
       "      <td>18.511000</td>\n",
       "      <td>2021-08-11</td>\n",
       "      <td>8</td>\n",
       "      <td>0</td>\n",
       "      <td>Кира</td>\n",
       "      <td>22</td>\n",
       "      <td>Тюмень</td>\n",
       "      <td>ultra</td>\n",
       "    </tr>\n",
       "    <tr>\n",
       "      <th>4</th>\n",
       "      <td>1</td>\n",
       "      <td>4028.687306</td>\n",
       "      <td>26.265803</td>\n",
       "      <td>2021-08-28</td>\n",
       "      <td>8</td>\n",
       "      <td>0</td>\n",
       "      <td>Кира</td>\n",
       "      <td>22</td>\n",
       "      <td>Тюмень</td>\n",
       "      <td>ultra</td>\n",
       "    </tr>\n",
       "    <tr>\n",
       "      <th>5</th>\n",
       "      <td>1</td>\n",
       "      <td>2770.890808</td>\n",
       "      <td>16.650138</td>\n",
       "      <td>2021-10-09</td>\n",
       "      <td>10</td>\n",
       "      <td>0</td>\n",
       "      <td>Кира</td>\n",
       "      <td>22</td>\n",
       "      <td>Тюмень</td>\n",
       "      <td>ultra</td>\n",
       "    </tr>\n",
       "    <tr>\n",
       "      <th>6</th>\n",
       "      <td>1</td>\n",
       "      <td>3039.020292</td>\n",
       "      <td>14.927879</td>\n",
       "      <td>2021-10-19</td>\n",
       "      <td>10</td>\n",
       "      <td>0</td>\n",
       "      <td>Кира</td>\n",
       "      <td>22</td>\n",
       "      <td>Тюмень</td>\n",
       "      <td>ultra</td>\n",
       "    </tr>\n",
       "    <tr>\n",
       "      <th>7</th>\n",
       "      <td>1</td>\n",
       "      <td>2842.118050</td>\n",
       "      <td>23.117468</td>\n",
       "      <td>2021-11-06</td>\n",
       "      <td>11</td>\n",
       "      <td>0</td>\n",
       "      <td>Кира</td>\n",
       "      <td>22</td>\n",
       "      <td>Тюмень</td>\n",
       "      <td>ultra</td>\n",
       "    </tr>\n",
       "    <tr>\n",
       "      <th>8</th>\n",
       "      <td>1</td>\n",
       "      <td>3412.690668</td>\n",
       "      <td>15.238072</td>\n",
       "      <td>2021-11-14</td>\n",
       "      <td>11</td>\n",
       "      <td>0</td>\n",
       "      <td>Кира</td>\n",
       "      <td>22</td>\n",
       "      <td>Тюмень</td>\n",
       "      <td>ultra</td>\n",
       "    </tr>\n",
       "    <tr>\n",
       "      <th>9</th>\n",
       "      <td>1</td>\n",
       "      <td>748.690645</td>\n",
       "      <td>15.041884</td>\n",
       "      <td>2021-11-22</td>\n",
       "      <td>11</td>\n",
       "      <td>0</td>\n",
       "      <td>Кира</td>\n",
       "      <td>22</td>\n",
       "      <td>Тюмень</td>\n",
       "      <td>ultra</td>\n",
       "    </tr>\n",
       "  </tbody>\n",
       "</table>\n",
       "</div>"
      ],
      "text/plain": [
       "   user_id     distance   duration       date  month  index  name  age  \\\n",
       "0        1  4409.919140  25.599769 2021-01-01      1      0  Кира   22   \n",
       "1        1  2617.592153  15.816871 2021-01-18      1      0  Кира   22   \n",
       "2        1   754.159807   6.232113 2021-04-20      4      0  Кира   22   \n",
       "3        1  2694.783254  18.511000 2021-08-11      8      0  Кира   22   \n",
       "4        1  4028.687306  26.265803 2021-08-28      8      0  Кира   22   \n",
       "5        1  2770.890808  16.650138 2021-10-09     10      0  Кира   22   \n",
       "6        1  3039.020292  14.927879 2021-10-19     10      0  Кира   22   \n",
       "7        1  2842.118050  23.117468 2021-11-06     11      0  Кира   22   \n",
       "8        1  3412.690668  15.238072 2021-11-14     11      0  Кира   22   \n",
       "9        1   748.690645  15.041884 2021-11-22     11      0  Кира   22   \n",
       "\n",
       "     city subscription_type  \n",
       "0  Тюмень             ultra  \n",
       "1  Тюмень             ultra  \n",
       "2  Тюмень             ultra  \n",
       "3  Тюмень             ultra  \n",
       "4  Тюмень             ultra  \n",
       "5  Тюмень             ultra  \n",
       "6  Тюмень             ultra  \n",
       "7  Тюмень             ultra  \n",
       "8  Тюмень             ultra  \n",
       "9  Тюмень             ultra  "
      ]
     },
     "execution_count": 45,
     "metadata": {},
     "output_type": "execute_result"
    }
   ],
   "source": [
    "data_joined = data_rides.merge(data_users, on='user_id', how='left')\n",
    "data_joined.head(10)"
   ]
  },
  {
   "cell_type": "code",
   "execution_count": 46,
   "id": "182d3ca3",
   "metadata": {},
   "outputs": [
    {
     "data": {
      "text/html": [
       "<div>\n",
       "<style scoped>\n",
       "    .dataframe tbody tr th:only-of-type {\n",
       "        vertical-align: middle;\n",
       "    }\n",
       "\n",
       "    .dataframe tbody tr th {\n",
       "        vertical-align: top;\n",
       "    }\n",
       "\n",
       "    .dataframe thead th {\n",
       "        text-align: right;\n",
       "    }\n",
       "</style>\n",
       "<table border=\"1\" class=\"dataframe\">\n",
       "  <thead>\n",
       "    <tr style=\"text-align: right;\">\n",
       "      <th></th>\n",
       "      <th>user_id</th>\n",
       "      <th>distance</th>\n",
       "      <th>duration</th>\n",
       "      <th>date</th>\n",
       "      <th>month</th>\n",
       "      <th>index</th>\n",
       "      <th>name</th>\n",
       "      <th>age</th>\n",
       "      <th>city</th>\n",
       "      <th>subscription_type</th>\n",
       "      <th>minute_price</th>\n",
       "      <th>start_ride_price</th>\n",
       "      <th>subscription_fee</th>\n",
       "    </tr>\n",
       "  </thead>\n",
       "  <tbody>\n",
       "    <tr>\n",
       "      <th>0</th>\n",
       "      <td>1</td>\n",
       "      <td>4409.919140</td>\n",
       "      <td>25.599769</td>\n",
       "      <td>2021-01-01</td>\n",
       "      <td>1</td>\n",
       "      <td>0</td>\n",
       "      <td>Кира</td>\n",
       "      <td>22</td>\n",
       "      <td>Тюмень</td>\n",
       "      <td>ultra</td>\n",
       "      <td>6</td>\n",
       "      <td>0</td>\n",
       "      <td>199</td>\n",
       "    </tr>\n",
       "    <tr>\n",
       "      <th>1</th>\n",
       "      <td>1</td>\n",
       "      <td>2617.592153</td>\n",
       "      <td>15.816871</td>\n",
       "      <td>2021-01-18</td>\n",
       "      <td>1</td>\n",
       "      <td>0</td>\n",
       "      <td>Кира</td>\n",
       "      <td>22</td>\n",
       "      <td>Тюмень</td>\n",
       "      <td>ultra</td>\n",
       "      <td>6</td>\n",
       "      <td>0</td>\n",
       "      <td>199</td>\n",
       "    </tr>\n",
       "    <tr>\n",
       "      <th>2</th>\n",
       "      <td>1</td>\n",
       "      <td>754.159807</td>\n",
       "      <td>6.232113</td>\n",
       "      <td>2021-04-20</td>\n",
       "      <td>4</td>\n",
       "      <td>0</td>\n",
       "      <td>Кира</td>\n",
       "      <td>22</td>\n",
       "      <td>Тюмень</td>\n",
       "      <td>ultra</td>\n",
       "      <td>6</td>\n",
       "      <td>0</td>\n",
       "      <td>199</td>\n",
       "    </tr>\n",
       "    <tr>\n",
       "      <th>3</th>\n",
       "      <td>1</td>\n",
       "      <td>2694.783254</td>\n",
       "      <td>18.511000</td>\n",
       "      <td>2021-08-11</td>\n",
       "      <td>8</td>\n",
       "      <td>0</td>\n",
       "      <td>Кира</td>\n",
       "      <td>22</td>\n",
       "      <td>Тюмень</td>\n",
       "      <td>ultra</td>\n",
       "      <td>6</td>\n",
       "      <td>0</td>\n",
       "      <td>199</td>\n",
       "    </tr>\n",
       "    <tr>\n",
       "      <th>4</th>\n",
       "      <td>1</td>\n",
       "      <td>4028.687306</td>\n",
       "      <td>26.265803</td>\n",
       "      <td>2021-08-28</td>\n",
       "      <td>8</td>\n",
       "      <td>0</td>\n",
       "      <td>Кира</td>\n",
       "      <td>22</td>\n",
       "      <td>Тюмень</td>\n",
       "      <td>ultra</td>\n",
       "      <td>6</td>\n",
       "      <td>0</td>\n",
       "      <td>199</td>\n",
       "    </tr>\n",
       "    <tr>\n",
       "      <th>5</th>\n",
       "      <td>1</td>\n",
       "      <td>2770.890808</td>\n",
       "      <td>16.650138</td>\n",
       "      <td>2021-10-09</td>\n",
       "      <td>10</td>\n",
       "      <td>0</td>\n",
       "      <td>Кира</td>\n",
       "      <td>22</td>\n",
       "      <td>Тюмень</td>\n",
       "      <td>ultra</td>\n",
       "      <td>6</td>\n",
       "      <td>0</td>\n",
       "      <td>199</td>\n",
       "    </tr>\n",
       "    <tr>\n",
       "      <th>6</th>\n",
       "      <td>1</td>\n",
       "      <td>3039.020292</td>\n",
       "      <td>14.927879</td>\n",
       "      <td>2021-10-19</td>\n",
       "      <td>10</td>\n",
       "      <td>0</td>\n",
       "      <td>Кира</td>\n",
       "      <td>22</td>\n",
       "      <td>Тюмень</td>\n",
       "      <td>ultra</td>\n",
       "      <td>6</td>\n",
       "      <td>0</td>\n",
       "      <td>199</td>\n",
       "    </tr>\n",
       "    <tr>\n",
       "      <th>7</th>\n",
       "      <td>1</td>\n",
       "      <td>2842.118050</td>\n",
       "      <td>23.117468</td>\n",
       "      <td>2021-11-06</td>\n",
       "      <td>11</td>\n",
       "      <td>0</td>\n",
       "      <td>Кира</td>\n",
       "      <td>22</td>\n",
       "      <td>Тюмень</td>\n",
       "      <td>ultra</td>\n",
       "      <td>6</td>\n",
       "      <td>0</td>\n",
       "      <td>199</td>\n",
       "    </tr>\n",
       "    <tr>\n",
       "      <th>8</th>\n",
       "      <td>1</td>\n",
       "      <td>3412.690668</td>\n",
       "      <td>15.238072</td>\n",
       "      <td>2021-11-14</td>\n",
       "      <td>11</td>\n",
       "      <td>0</td>\n",
       "      <td>Кира</td>\n",
       "      <td>22</td>\n",
       "      <td>Тюмень</td>\n",
       "      <td>ultra</td>\n",
       "      <td>6</td>\n",
       "      <td>0</td>\n",
       "      <td>199</td>\n",
       "    </tr>\n",
       "    <tr>\n",
       "      <th>9</th>\n",
       "      <td>1</td>\n",
       "      <td>748.690645</td>\n",
       "      <td>15.041884</td>\n",
       "      <td>2021-11-22</td>\n",
       "      <td>11</td>\n",
       "      <td>0</td>\n",
       "      <td>Кира</td>\n",
       "      <td>22</td>\n",
       "      <td>Тюмень</td>\n",
       "      <td>ultra</td>\n",
       "      <td>6</td>\n",
       "      <td>0</td>\n",
       "      <td>199</td>\n",
       "    </tr>\n",
       "  </tbody>\n",
       "</table>\n",
       "</div>"
      ],
      "text/plain": [
       "   user_id     distance   duration       date  month  index  name  age  \\\n",
       "0        1  4409.919140  25.599769 2021-01-01      1      0  Кира   22   \n",
       "1        1  2617.592153  15.816871 2021-01-18      1      0  Кира   22   \n",
       "2        1   754.159807   6.232113 2021-04-20      4      0  Кира   22   \n",
       "3        1  2694.783254  18.511000 2021-08-11      8      0  Кира   22   \n",
       "4        1  4028.687306  26.265803 2021-08-28      8      0  Кира   22   \n",
       "5        1  2770.890808  16.650138 2021-10-09     10      0  Кира   22   \n",
       "6        1  3039.020292  14.927879 2021-10-19     10      0  Кира   22   \n",
       "7        1  2842.118050  23.117468 2021-11-06     11      0  Кира   22   \n",
       "8        1  3412.690668  15.238072 2021-11-14     11      0  Кира   22   \n",
       "9        1   748.690645  15.041884 2021-11-22     11      0  Кира   22   \n",
       "\n",
       "     city subscription_type  minute_price  start_ride_price  subscription_fee  \n",
       "0  Тюмень             ultra             6                 0               199  \n",
       "1  Тюмень             ultra             6                 0               199  \n",
       "2  Тюмень             ultra             6                 0               199  \n",
       "3  Тюмень             ultra             6                 0               199  \n",
       "4  Тюмень             ultra             6                 0               199  \n",
       "5  Тюмень             ultra             6                 0               199  \n",
       "6  Тюмень             ultra             6                 0               199  \n",
       "7  Тюмень             ultra             6                 0               199  \n",
       "8  Тюмень             ultra             6                 0               199  \n",
       "9  Тюмень             ultra             6                 0               199  "
      ]
     },
     "execution_count": 46,
     "metadata": {},
     "output_type": "execute_result"
    }
   ],
   "source": [
    "data_joined_final = data_joined.merge(data_sub, on='subscription_type', how='left')\n",
    "data_joined_final.head(10)"
   ]
  },
  {
   "cell_type": "code",
   "execution_count": 47,
   "id": "816d348b",
   "metadata": {},
   "outputs": [
    {
     "data": {
      "text/plain": [
       "17973"
      ]
     },
     "execution_count": 47,
     "metadata": {},
     "output_type": "execute_result"
    }
   ],
   "source": [
    "data_rides.shape[0]"
   ]
  },
  {
   "cell_type": "code",
   "execution_count": 48,
   "id": "d1451d99",
   "metadata": {},
   "outputs": [
    {
     "data": {
      "text/plain": [
       "17973"
      ]
     },
     "execution_count": 48,
     "metadata": {},
     "output_type": "execute_result"
    }
   ],
   "source": [
    "data_joined_final.shape[0]"
   ]
  },
  {
   "cell_type": "markdown",
   "id": "57aa04e0",
   "metadata": {},
   "source": [
    "#### Создам ещё два датафрейма из датафрейма выше: с подпиской и без"
   ]
  },
  {
   "cell_type": "code",
   "execution_count": 49,
   "id": "dc2c0754",
   "metadata": {},
   "outputs": [],
   "source": [
    "# C подпиской\n",
    "data_ultra = data_joined_final.query('subscription_type == \"ultra\"')"
   ]
  },
  {
   "cell_type": "code",
   "execution_count": 50,
   "id": "b21c0a8c",
   "metadata": {},
   "outputs": [],
   "source": [
    "# Без подсписки\n",
    "data_free = data_joined_final.query('subscription_type == \"free\"')"
   ]
  },
  {
   "cell_type": "markdown",
   "id": "6350f179",
   "metadata": {},
   "source": [
    "#### Визуализирую информацию о расстоянии и времени поездок для пользователей обеих категорий"
   ]
  },
  {
   "cell_type": "markdown",
   "id": "0186f56e",
   "metadata": {},
   "source": [
    "##### Расстояние"
   ]
  },
  {
   "cell_type": "code",
   "execution_count": 51,
   "id": "175f8df8",
   "metadata": {},
   "outputs": [
    {
     "data": {
      "image/png": "[encoded data removed]",
      "text/plain": [
       "<Figure size 360x360 with 1 Axes>"
      ]
     },
     "metadata": {
      "needs_background": "light"
     },
     "output_type": "display_data"
    }
   ],
   "source": [
    "ax = data_ultra['distance'].hist(bins=100, color = 'orange', figsize=(5,5), legend = True);\n",
    "data_free['distance'].hist(bins=100, color = 'grey', figsize=(5,5), ax=ax, alpha = 0.5, legend = True);\n",
    "\n",
    "ax.set_ylabel('количество поездок');\n",
    "ax.set_xlabel('расстояние поездки (метры)');\n",
    "ax.legend(['ultra', 'free']);"
   ]
  },
  {
   "cell_type": "markdown",
   "id": "92cf8209",
   "metadata": {},
   "source": [
    "##### Длительность"
   ]
  },
  {
   "cell_type": "code",
   "execution_count": 52,
   "id": "a13b38dd",
   "metadata": {},
   "outputs": [
    {
     "data": {
      "image/png": "[encoded data removed]",
      "text/plain": [
       "<Figure size 360x360 with 1 Axes>"
      ]
     },
     "metadata": {
      "needs_background": "light"
     },
     "output_type": "display_data"
    }
   ],
   "source": [
    "ax = data_ultra['duration'].hist(bins=100, color = 'orange', figsize=(5,5), legend = True);\n",
    "data_free['duration'].hist(bins = 100, color = 'grey', figsize=(5,5), ax=ax, alpha=0.5, legend = True);\n",
    "\n",
    "ax.set_ylabel('количество поездок');\n",
    "ax.set_xlabel('длительность поездки (мин)');\n",
    "ax.legend(['ultra', 'free']);"
   ]
  },
  {
   "cell_type": "markdown",
   "id": "3b6f5d80",
   "metadata": {},
   "source": [
    "Коробчатые для ultra:"
   ]
  },
  {
   "cell_type": "code",
   "execution_count": 53,
   "id": "96e3125c",
   "metadata": {},
   "outputs": [
    {
     "data": {
      "image/png": "[encoded data removed]",
      "text/plain": [
       "<Figure size 360x360 with 1 Axes>"
      ]
     },
     "metadata": {
      "needs_background": "light"
     },
     "output_type": "display_data"
    }
   ],
   "source": [
    "data_ultra['distance'].plot(kind='box', figsize=(5, 5));"
   ]
  },
  {
   "cell_type": "code",
   "execution_count": 54,
   "id": "c8b61a7f",
   "metadata": {},
   "outputs": [
    {
     "data": {
      "image/png": "[encoded data removed]",
      "text/plain": [
       "<Figure size 360x360 with 1 Axes>"
      ]
     },
     "metadata": {
      "needs_background": "light"
     },
     "output_type": "display_data"
    }
   ],
   "source": [
    "data_ultra['duration'].plot(kind='box', figsize=(5, 5));"
   ]
  },
  {
   "cell_type": "markdown",
   "id": "6a969410",
   "metadata": {},
   "source": [
    "Коробчатые для free:"
   ]
  },
  {
   "cell_type": "code",
   "execution_count": 55,
   "id": "996e4ead",
   "metadata": {},
   "outputs": [
    {
     "data": {
      "image/png": "[encoded data removed]",
      "text/plain": [
       "<Figure size 360x360 with 1 Axes>"
      ]
     },
     "metadata": {
      "needs_background": "light"
     },
     "output_type": "display_data"
    }
   ],
   "source": [
    "data_free['distance'].plot(kind='box', figsize=(5, 5));"
   ]
  },
  {
   "cell_type": "code",
   "execution_count": 56,
   "id": "353c29c7",
   "metadata": {},
   "outputs": [
    {
     "data": {
      "image/png": "[encoded data removed]",
      "text/plain": [
       "<Figure size 360x360 with 1 Axes>"
      ]
     },
     "metadata": {
      "needs_background": "light"
     },
     "output_type": "display_data"
    }
   ],
   "source": [
    "data_free['duration'].plot(kind='box', figsize=(5, 5));"
   ]
  },
  {
   "cell_type": "markdown",
   "id": "e7676846",
   "metadata": {},
   "source": [
    "---"
   ]
  },
  {
   "cell_type": "markdown",
   "id": "0797504b",
   "metadata": {},
   "source": [
    "---\n",
    "\n",
    "**Помежуточный вывод:** \n",
    "\n",
    "По построенным гистограммам можно сказать:\n",
    "- Поездки пользователей тарифа free явно объемнее и в расстоянии и в длительности;\n",
    "- Если расстояния, на которые чаще ездят free и ultra пользователи, близки, то вот длительность free поездок явно выше ultra."
   ]
  },
  {
   "cell_type": "markdown",
   "id": "9b7b20bd",
   "metadata": {},
   "source": [
    "### Шаг 5. Подсчёт выручки"
   ]
  },
  {
   "cell_type": "markdown",
   "id": "545da329",
   "metadata": {},
   "source": [
    "#### Создайте датафрейм с агрегированными данными о поездках на основе датафрейма с объединёнными данными из шага 4: найдите суммарное расстояние, количество поездок и суммарное время для каждого пользователя за каждый месяц."
   ]
  },
  {
   "cell_type": "code",
   "execution_count": 57,
   "id": "3e8e364a",
   "metadata": {},
   "outputs": [
    {
     "data": {
      "text/html": [
       "<div>\n",
       "<style scoped>\n",
       "    .dataframe tbody tr th:only-of-type {\n",
       "        vertical-align: middle;\n",
       "    }\n",
       "\n",
       "    .dataframe tbody tr th {\n",
       "        vertical-align: top;\n",
       "    }\n",
       "\n",
       "    .dataframe thead th {\n",
       "        text-align: right;\n",
       "    }\n",
       "</style>\n",
       "<table border=\"1\" class=\"dataframe\">\n",
       "  <thead>\n",
       "    <tr style=\"text-align: right;\">\n",
       "      <th></th>\n",
       "      <th>user_id</th>\n",
       "      <th>distance</th>\n",
       "      <th>duration</th>\n",
       "      <th>date</th>\n",
       "      <th>month</th>\n",
       "      <th>index</th>\n",
       "      <th>name</th>\n",
       "      <th>age</th>\n",
       "      <th>city</th>\n",
       "      <th>subscription_type</th>\n",
       "      <th>minute_price</th>\n",
       "      <th>start_ride_price</th>\n",
       "      <th>subscription_fee</th>\n",
       "    </tr>\n",
       "  </thead>\n",
       "  <tbody>\n",
       "    <tr>\n",
       "      <th>0</th>\n",
       "      <td>1</td>\n",
       "      <td>4409.919140</td>\n",
       "      <td>25.599769</td>\n",
       "      <td>2021-01-01</td>\n",
       "      <td>1</td>\n",
       "      <td>0</td>\n",
       "      <td>Кира</td>\n",
       "      <td>22</td>\n",
       "      <td>Тюмень</td>\n",
       "      <td>ultra</td>\n",
       "      <td>6</td>\n",
       "      <td>0</td>\n",
       "      <td>199</td>\n",
       "    </tr>\n",
       "    <tr>\n",
       "      <th>1</th>\n",
       "      <td>1</td>\n",
       "      <td>2617.592153</td>\n",
       "      <td>15.816871</td>\n",
       "      <td>2021-01-18</td>\n",
       "      <td>1</td>\n",
       "      <td>0</td>\n",
       "      <td>Кира</td>\n",
       "      <td>22</td>\n",
       "      <td>Тюмень</td>\n",
       "      <td>ultra</td>\n",
       "      <td>6</td>\n",
       "      <td>0</td>\n",
       "      <td>199</td>\n",
       "    </tr>\n",
       "    <tr>\n",
       "      <th>2</th>\n",
       "      <td>1</td>\n",
       "      <td>754.159807</td>\n",
       "      <td>6.232113</td>\n",
       "      <td>2021-04-20</td>\n",
       "      <td>4</td>\n",
       "      <td>0</td>\n",
       "      <td>Кира</td>\n",
       "      <td>22</td>\n",
       "      <td>Тюмень</td>\n",
       "      <td>ultra</td>\n",
       "      <td>6</td>\n",
       "      <td>0</td>\n",
       "      <td>199</td>\n",
       "    </tr>\n",
       "    <tr>\n",
       "      <th>3</th>\n",
       "      <td>1</td>\n",
       "      <td>2694.783254</td>\n",
       "      <td>18.511000</td>\n",
       "      <td>2021-08-11</td>\n",
       "      <td>8</td>\n",
       "      <td>0</td>\n",
       "      <td>Кира</td>\n",
       "      <td>22</td>\n",
       "      <td>Тюмень</td>\n",
       "      <td>ultra</td>\n",
       "      <td>6</td>\n",
       "      <td>0</td>\n",
       "      <td>199</td>\n",
       "    </tr>\n",
       "    <tr>\n",
       "      <th>4</th>\n",
       "      <td>1</td>\n",
       "      <td>4028.687306</td>\n",
       "      <td>26.265803</td>\n",
       "      <td>2021-08-28</td>\n",
       "      <td>8</td>\n",
       "      <td>0</td>\n",
       "      <td>Кира</td>\n",
       "      <td>22</td>\n",
       "      <td>Тюмень</td>\n",
       "      <td>ultra</td>\n",
       "      <td>6</td>\n",
       "      <td>0</td>\n",
       "      <td>199</td>\n",
       "    </tr>\n",
       "  </tbody>\n",
       "</table>\n",
       "</div>"
      ],
      "text/plain": [
       "   user_id     distance   duration       date  month  index  name  age  \\\n",
       "0        1  4409.919140  25.599769 2021-01-01      1      0  Кира   22   \n",
       "1        1  2617.592153  15.816871 2021-01-18      1      0  Кира   22   \n",
       "2        1   754.159807   6.232113 2021-04-20      4      0  Кира   22   \n",
       "3        1  2694.783254  18.511000 2021-08-11      8      0  Кира   22   \n",
       "4        1  4028.687306  26.265803 2021-08-28      8      0  Кира   22   \n",
       "\n",
       "     city subscription_type  minute_price  start_ride_price  subscription_fee  \n",
       "0  Тюмень             ultra             6                 0               199  \n",
       "1  Тюмень             ultra             6                 0               199  \n",
       "2  Тюмень             ultra             6                 0               199  \n",
       "3  Тюмень             ultra             6                 0               199  \n",
       "4  Тюмень             ultra             6                 0               199  "
      ]
     },
     "execution_count": 57,
     "metadata": {},
     "output_type": "execute_result"
    }
   ],
   "source": [
    "data_joined_final.head()"
   ]
  },
  {
   "cell_type": "code",
   "execution_count": 58,
   "id": "ad2547ec",
   "metadata": {},
   "outputs": [
    {
     "data": {
      "text/html": [
       "<div>\n",
       "<style scoped>\n",
       "    .dataframe tbody tr th:only-of-type {\n",
       "        vertical-align: middle;\n",
       "    }\n",
       "\n",
       "    .dataframe tbody tr th {\n",
       "        vertical-align: top;\n",
       "    }\n",
       "\n",
       "    .dataframe thead th {\n",
       "        text-align: right;\n",
       "    }\n",
       "</style>\n",
       "<table border=\"1\" class=\"dataframe\">\n",
       "  <thead>\n",
       "    <tr style=\"text-align: right;\">\n",
       "      <th></th>\n",
       "      <th>user_id</th>\n",
       "      <th>distance</th>\n",
       "      <th>duration</th>\n",
       "      <th>date</th>\n",
       "      <th>month</th>\n",
       "      <th>index</th>\n",
       "      <th>name</th>\n",
       "      <th>age</th>\n",
       "      <th>city</th>\n",
       "      <th>subscription_type</th>\n",
       "      <th>minute_price</th>\n",
       "      <th>start_ride_price</th>\n",
       "      <th>subscription_fee</th>\n",
       "    </tr>\n",
       "  </thead>\n",
       "  <tbody>\n",
       "    <tr>\n",
       "      <th>0</th>\n",
       "      <td>1</td>\n",
       "      <td>4409.919140</td>\n",
       "      <td>26.0</td>\n",
       "      <td>2021-01-01</td>\n",
       "      <td>1</td>\n",
       "      <td>0</td>\n",
       "      <td>Кира</td>\n",
       "      <td>22</td>\n",
       "      <td>Тюмень</td>\n",
       "      <td>ultra</td>\n",
       "      <td>6</td>\n",
       "      <td>0</td>\n",
       "      <td>199</td>\n",
       "    </tr>\n",
       "    <tr>\n",
       "      <th>1</th>\n",
       "      <td>1</td>\n",
       "      <td>2617.592153</td>\n",
       "      <td>16.0</td>\n",
       "      <td>2021-01-18</td>\n",
       "      <td>1</td>\n",
       "      <td>0</td>\n",
       "      <td>Кира</td>\n",
       "      <td>22</td>\n",
       "      <td>Тюмень</td>\n",
       "      <td>ultra</td>\n",
       "      <td>6</td>\n",
       "      <td>0</td>\n",
       "      <td>199</td>\n",
       "    </tr>\n",
       "    <tr>\n",
       "      <th>2</th>\n",
       "      <td>1</td>\n",
       "      <td>754.159807</td>\n",
       "      <td>7.0</td>\n",
       "      <td>2021-04-20</td>\n",
       "      <td>4</td>\n",
       "      <td>0</td>\n",
       "      <td>Кира</td>\n",
       "      <td>22</td>\n",
       "      <td>Тюмень</td>\n",
       "      <td>ultra</td>\n",
       "      <td>6</td>\n",
       "      <td>0</td>\n",
       "      <td>199</td>\n",
       "    </tr>\n",
       "    <tr>\n",
       "      <th>3</th>\n",
       "      <td>1</td>\n",
       "      <td>2694.783254</td>\n",
       "      <td>19.0</td>\n",
       "      <td>2021-08-11</td>\n",
       "      <td>8</td>\n",
       "      <td>0</td>\n",
       "      <td>Кира</td>\n",
       "      <td>22</td>\n",
       "      <td>Тюмень</td>\n",
       "      <td>ultra</td>\n",
       "      <td>6</td>\n",
       "      <td>0</td>\n",
       "      <td>199</td>\n",
       "    </tr>\n",
       "    <tr>\n",
       "      <th>4</th>\n",
       "      <td>1</td>\n",
       "      <td>4028.687306</td>\n",
       "      <td>27.0</td>\n",
       "      <td>2021-08-28</td>\n",
       "      <td>8</td>\n",
       "      <td>0</td>\n",
       "      <td>Кира</td>\n",
       "      <td>22</td>\n",
       "      <td>Тюмень</td>\n",
       "      <td>ultra</td>\n",
       "      <td>6</td>\n",
       "      <td>0</td>\n",
       "      <td>199</td>\n",
       "    </tr>\n",
       "  </tbody>\n",
       "</table>\n",
       "</div>"
      ],
      "text/plain": [
       "   user_id     distance  duration       date  month  index  name  age    city  \\\n",
       "0        1  4409.919140      26.0 2021-01-01      1      0  Кира   22  Тюмень   \n",
       "1        1  2617.592153      16.0 2021-01-18      1      0  Кира   22  Тюмень   \n",
       "2        1   754.159807       7.0 2021-04-20      4      0  Кира   22  Тюмень   \n",
       "3        1  2694.783254      19.0 2021-08-11      8      0  Кира   22  Тюмень   \n",
       "4        1  4028.687306      27.0 2021-08-28      8      0  Кира   22  Тюмень   \n",
       "\n",
       "  subscription_type  minute_price  start_ride_price  subscription_fee  \n",
       "0             ultra             6                 0               199  \n",
       "1             ultra             6                 0               199  \n",
       "2             ultra             6                 0               199  \n",
       "3             ultra             6                 0               199  \n",
       "4             ultra             6                 0               199  "
      ]
     },
     "execution_count": 58,
     "metadata": {},
     "output_type": "execute_result"
    }
   ],
   "source": [
    "# Округляю длительность каждой поездки в первой таблице\n",
    "data_joined_final['duration'] = np.ceil(data_joined_final['duration']) \n",
    "data_joined_final.head()"
   ]
  },
  {
   "cell_type": "code",
   "execution_count": 59,
   "id": "3124e82d",
   "metadata": {},
   "outputs": [
    {
     "data": {
      "text/html": [
       "<div>\n",
       "<style scoped>\n",
       "    .dataframe tbody tr th:only-of-type {\n",
       "        vertical-align: middle;\n",
       "    }\n",
       "\n",
       "    .dataframe tbody tr th {\n",
       "        vertical-align: top;\n",
       "    }\n",
       "\n",
       "    .dataframe thead th {\n",
       "        text-align: right;\n",
       "    }\n",
       "</style>\n",
       "<table border=\"1\" class=\"dataframe\">\n",
       "  <thead>\n",
       "    <tr style=\"text-align: right;\">\n",
       "      <th></th>\n",
       "      <th></th>\n",
       "      <th>distance</th>\n",
       "      <th>duration</th>\n",
       "      <th>minute_price</th>\n",
       "      <th>start_ride_price</th>\n",
       "      <th>subscription_fee</th>\n",
       "      <th>subscription_type</th>\n",
       "      <th>count</th>\n",
       "    </tr>\n",
       "    <tr>\n",
       "      <th>user_id</th>\n",
       "      <th>month</th>\n",
       "      <th></th>\n",
       "      <th></th>\n",
       "      <th></th>\n",
       "      <th></th>\n",
       "      <th></th>\n",
       "      <th></th>\n",
       "      <th></th>\n",
       "    </tr>\n",
       "  </thead>\n",
       "  <tbody>\n",
       "    <tr>\n",
       "      <th rowspan=\"6\" valign=\"top\">1</th>\n",
       "      <th>1</th>\n",
       "      <td>7027.511294</td>\n",
       "      <td>42.0</td>\n",
       "      <td>6</td>\n",
       "      <td>0</td>\n",
       "      <td>199</td>\n",
       "      <td>ultra</td>\n",
       "      <td>2</td>\n",
       "    </tr>\n",
       "    <tr>\n",
       "      <th>4</th>\n",
       "      <td>754.159807</td>\n",
       "      <td>7.0</td>\n",
       "      <td>6</td>\n",
       "      <td>0</td>\n",
       "      <td>199</td>\n",
       "      <td>ultra</td>\n",
       "      <td>1</td>\n",
       "    </tr>\n",
       "    <tr>\n",
       "      <th>8</th>\n",
       "      <td>6723.470560</td>\n",
       "      <td>46.0</td>\n",
       "      <td>6</td>\n",
       "      <td>0</td>\n",
       "      <td>199</td>\n",
       "      <td>ultra</td>\n",
       "      <td>2</td>\n",
       "    </tr>\n",
       "    <tr>\n",
       "      <th>10</th>\n",
       "      <td>5809.911100</td>\n",
       "      <td>32.0</td>\n",
       "      <td>6</td>\n",
       "      <td>0</td>\n",
       "      <td>199</td>\n",
       "      <td>ultra</td>\n",
       "      <td>2</td>\n",
       "    </tr>\n",
       "    <tr>\n",
       "      <th>11</th>\n",
       "      <td>7003.499363</td>\n",
       "      <td>56.0</td>\n",
       "      <td>6</td>\n",
       "      <td>0</td>\n",
       "      <td>199</td>\n",
       "      <td>ultra</td>\n",
       "      <td>3</td>\n",
       "    </tr>\n",
       "    <tr>\n",
       "      <th>12</th>\n",
       "      <td>6751.629942</td>\n",
       "      <td>28.0</td>\n",
       "      <td>6</td>\n",
       "      <td>0</td>\n",
       "      <td>199</td>\n",
       "      <td>ultra</td>\n",
       "      <td>2</td>\n",
       "    </tr>\n",
       "    <tr>\n",
       "      <th rowspan=\"4\" valign=\"top\">2</th>\n",
       "      <th>3</th>\n",
       "      <td>10187.723006</td>\n",
       "      <td>63.0</td>\n",
       "      <td>6</td>\n",
       "      <td>0</td>\n",
       "      <td>199</td>\n",
       "      <td>ultra</td>\n",
       "      <td>3</td>\n",
       "    </tr>\n",
       "    <tr>\n",
       "      <th>4</th>\n",
       "      <td>6164.381824</td>\n",
       "      <td>40.0</td>\n",
       "      <td>6</td>\n",
       "      <td>0</td>\n",
       "      <td>199</td>\n",
       "      <td>ultra</td>\n",
       "      <td>2</td>\n",
       "    </tr>\n",
       "    <tr>\n",
       "      <th>6</th>\n",
       "      <td>3255.338202</td>\n",
       "      <td>14.0</td>\n",
       "      <td>6</td>\n",
       "      <td>0</td>\n",
       "      <td>199</td>\n",
       "      <td>ultra</td>\n",
       "      <td>1</td>\n",
       "    </tr>\n",
       "    <tr>\n",
       "      <th>7</th>\n",
       "      <td>6780.722964</td>\n",
       "      <td>48.0</td>\n",
       "      <td>6</td>\n",
       "      <td>0</td>\n",
       "      <td>199</td>\n",
       "      <td>ultra</td>\n",
       "      <td>2</td>\n",
       "    </tr>\n",
       "  </tbody>\n",
       "</table>\n",
       "</div>"
      ],
      "text/plain": [
       "                   distance  duration  minute_price  start_ride_price  \\\n",
       "user_id month                                                           \n",
       "1       1       7027.511294      42.0             6                 0   \n",
       "        4        754.159807       7.0             6                 0   \n",
       "        8       6723.470560      46.0             6                 0   \n",
       "        10      5809.911100      32.0             6                 0   \n",
       "        11      7003.499363      56.0             6                 0   \n",
       "        12      6751.629942      28.0             6                 0   \n",
       "2       3      10187.723006      63.0             6                 0   \n",
       "        4       6164.381824      40.0             6                 0   \n",
       "        6       3255.338202      14.0             6                 0   \n",
       "        7       6780.722964      48.0             6                 0   \n",
       "\n",
       "               subscription_fee subscription_type  count  \n",
       "user_id month                                             \n",
       "1       1                   199             ultra      2  \n",
       "        4                   199             ultra      1  \n",
       "        8                   199             ultra      2  \n",
       "        10                  199             ultra      2  \n",
       "        11                  199             ultra      3  \n",
       "        12                  199             ultra      2  \n",
       "2       3                   199             ultra      3  \n",
       "        4                   199             ultra      2  \n",
       "        6                   199             ultra      1  \n",
       "        7                   199             ultra      2  "
      ]
     },
     "execution_count": 59,
     "metadata": {},
     "output_type": "execute_result"
    }
   ],
   "source": [
    "# Сводная таблица с суммарным расстоянием и длительностью поездок по месяцам\n",
    "data_joined_pivot = pd.pivot_table(data_joined_final, \n",
    "                                   index=['user_id', 'month'],\n",
    "                                   values=['duration', \n",
    "                                           'distance', \n",
    "                                           'subscription_type', \n",
    "                                           'minute_price',\n",
    "                                           'start_ride_price', \n",
    "                                           'subscription_fee'],\n",
    "                                   aggfunc={'user_id': 'count', \n",
    "                                            'duration' : 'sum', \n",
    "                                            'distance': 'sum', \n",
    "                                            'subscription_type': 'first',\n",
    "                                            'minute_price' : 'first',\n",
    "                                            'start_ride_price' : 'first',\n",
    "                                            'subscription_fee' : 'first',\n",
    "                                           }\n",
    "                                  )\n",
    "# Переименую столбец с подсчетом количества поездок\n",
    "data_joined_pivot = data_joined_pivot.rename(\n",
    "    columns={\n",
    "        'user_id' : 'count'        \n",
    "    }\n",
    ")\n",
    "data_joined_pivot.head(10)"
   ]
  },
  {
   "cell_type": "markdown",
   "id": "a79dc092",
   "metadata": {},
   "source": [
    "#### Добавьте столбец с помесячной выручкой, которую принёс каждый пользователь."
   ]
  },
  {
   "cell_type": "code",
   "execution_count": 60,
   "id": "52c4f31b",
   "metadata": {},
   "outputs": [
    {
     "data": {
      "text/html": [
       "<div>\n",
       "<style scoped>\n",
       "    .dataframe tbody tr th:only-of-type {\n",
       "        vertical-align: middle;\n",
       "    }\n",
       "\n",
       "    .dataframe tbody tr th {\n",
       "        vertical-align: top;\n",
       "    }\n",
       "\n",
       "    .dataframe thead th {\n",
       "        text-align: right;\n",
       "    }\n",
       "</style>\n",
       "<table border=\"1\" class=\"dataframe\">\n",
       "  <thead>\n",
       "    <tr style=\"text-align: right;\">\n",
       "      <th></th>\n",
       "      <th></th>\n",
       "      <th>distance</th>\n",
       "      <th>duration</th>\n",
       "      <th>minute_price</th>\n",
       "      <th>start_ride_price</th>\n",
       "      <th>subscription_fee</th>\n",
       "      <th>subscription_type</th>\n",
       "      <th>count</th>\n",
       "      <th>monthly_payments</th>\n",
       "    </tr>\n",
       "    <tr>\n",
       "      <th>user_id</th>\n",
       "      <th>month</th>\n",
       "      <th></th>\n",
       "      <th></th>\n",
       "      <th></th>\n",
       "      <th></th>\n",
       "      <th></th>\n",
       "      <th></th>\n",
       "      <th></th>\n",
       "      <th></th>\n",
       "    </tr>\n",
       "  </thead>\n",
       "  <tbody>\n",
       "    <tr>\n",
       "      <th rowspan=\"5\" valign=\"top\">1</th>\n",
       "      <th>1</th>\n",
       "      <td>7027.511294</td>\n",
       "      <td>42.0</td>\n",
       "      <td>6</td>\n",
       "      <td>0</td>\n",
       "      <td>199</td>\n",
       "      <td>ultra</td>\n",
       "      <td>2</td>\n",
       "      <td>451.0</td>\n",
       "    </tr>\n",
       "    <tr>\n",
       "      <th>4</th>\n",
       "      <td>754.159807</td>\n",
       "      <td>7.0</td>\n",
       "      <td>6</td>\n",
       "      <td>0</td>\n",
       "      <td>199</td>\n",
       "      <td>ultra</td>\n",
       "      <td>1</td>\n",
       "      <td>241.0</td>\n",
       "    </tr>\n",
       "    <tr>\n",
       "      <th>8</th>\n",
       "      <td>6723.470560</td>\n",
       "      <td>46.0</td>\n",
       "      <td>6</td>\n",
       "      <td>0</td>\n",
       "      <td>199</td>\n",
       "      <td>ultra</td>\n",
       "      <td>2</td>\n",
       "      <td>475.0</td>\n",
       "    </tr>\n",
       "    <tr>\n",
       "      <th>10</th>\n",
       "      <td>5809.911100</td>\n",
       "      <td>32.0</td>\n",
       "      <td>6</td>\n",
       "      <td>0</td>\n",
       "      <td>199</td>\n",
       "      <td>ultra</td>\n",
       "      <td>2</td>\n",
       "      <td>391.0</td>\n",
       "    </tr>\n",
       "    <tr>\n",
       "      <th>11</th>\n",
       "      <td>7003.499363</td>\n",
       "      <td>56.0</td>\n",
       "      <td>6</td>\n",
       "      <td>0</td>\n",
       "      <td>199</td>\n",
       "      <td>ultra</td>\n",
       "      <td>3</td>\n",
       "      <td>535.0</td>\n",
       "    </tr>\n",
       "  </tbody>\n",
       "</table>\n",
       "</div>"
      ],
      "text/plain": [
       "                  distance  duration  minute_price  start_ride_price  \\\n",
       "user_id month                                                          \n",
       "1       1      7027.511294      42.0             6                 0   \n",
       "        4       754.159807       7.0             6                 0   \n",
       "        8      6723.470560      46.0             6                 0   \n",
       "        10     5809.911100      32.0             6                 0   \n",
       "        11     7003.499363      56.0             6                 0   \n",
       "\n",
       "               subscription_fee subscription_type  count  monthly_payments  \n",
       "user_id month                                                               \n",
       "1       1                   199             ultra      2             451.0  \n",
       "        4                   199             ultra      1             241.0  \n",
       "        8                   199             ultra      2             475.0  \n",
       "        10                  199             ultra      2             391.0  \n",
       "        11                  199             ultra      3             535.0  "
      ]
     },
     "execution_count": 60,
     "metadata": {},
     "output_type": "execute_result"
    }
   ],
   "source": [
    "data_joined_pivot['monthly_payments'] = data_joined_pivot['start_ride_price']*data_joined_pivot['count'] + \\\n",
    "                                        data_joined_pivot['minute_price']*data_joined_pivot['duration'] + \\\n",
    "                                        data_joined_pivot['subscription_fee']\n",
    "data_joined_pivot.head(5)"
   ]
  },
  {
   "cell_type": "markdown",
   "id": "e257b0e2",
   "metadata": {},
   "source": [
    "### Шаг 6. Проверка гипотез"
   ]
  },
  {
   "cell_type": "markdown",
   "id": "4f81048c",
   "metadata": {},
   "source": [
    "Уровень статистической значимости для всех гипотез - 5%, так как не указано иное."
   ]
  },
  {
   "cell_type": "markdown",
   "id": "224135a1",
   "metadata": {},
   "source": [
    "#### Тратят ли пользователи с подпиской больше времени на поездки?"
   ]
  },
  {
   "cell_type": "markdown",
   "id": "ac31919d",
   "metadata": {},
   "source": [
    " Важно понять, тратят ли пользователи с подпиской больше времени на поездки? Если да, то пользователи с подпиской могут быть «выгоднее» для компании."
   ]
  },
  {
   "cell_type": "markdown",
   "id": "c415648b",
   "metadata": {},
   "source": [
    "Гипотезы:  \n",
    "- Н0 : пользователи с подпиской тратят столько же времени на поездку, как и без\n",
    "- Н1 : пользователи с подпиской тратят больше времени на поездку, чем без"
   ]
  },
  {
   "cell_type": "code",
   "execution_count": 61,
   "id": "895919ab",
   "metadata": {},
   "outputs": [
    {
     "name": "stdout",
     "output_type": "stream",
     "text": [
      "Отвергаем нулевую гипотезу, pvalue = 1.6162210195311063e-29\n"
     ]
    }
   ],
   "source": [
    "alpha = 0.05\n",
    "\n",
    "# выборки чуть разных размеров, equal_var=False\n",
    "results = st.ttest_ind(\n",
    "    data_ultra['duration'],\n",
    "    data_free['duration'],\n",
    "    equal_var=False,\n",
    "    alternative='greater'\n",
    ")\n",
    "\n",
    "if (results.pvalue < alpha):\n",
    "    print('Отвергаем нулевую гипотезу, pvalue =', results.pvalue)\n",
    "else:\n",
    "    print('Не отвергаем нулевую гипотезу, pvalue =', results.pvalue)\n"
   ]
  },
  {
   "cell_type": "code",
   "execution_count": 62,
   "id": "4588ed97",
   "metadata": {},
   "outputs": [
    {
     "data": {
      "text/plain": [
       "18.54198516280583"
      ]
     },
     "execution_count": 62,
     "metadata": {},
     "output_type": "execute_result"
    }
   ],
   "source": [
    "data_ultra['duration'].mean()"
   ]
  },
  {
   "cell_type": "code",
   "execution_count": 63,
   "id": "cea5af3a",
   "metadata": {},
   "outputs": [
    {
     "data": {
      "text/plain": [
       "17.530771268800226"
      ]
     },
     "execution_count": 63,
     "metadata": {},
     "output_type": "execute_result"
    }
   ],
   "source": [
    "data_free['duration'].mean()"
   ]
  },
  {
   "cell_type": "markdown",
   "id": "c8b8bd61",
   "metadata": {},
   "source": [
    "Полученное pvalue не может превысить пороговые 5% - отвергаем гипотезу Н0 : \"пользователи с подпиской тратят столько же времени на поездку, как и без\", оставляем гипотезу Н1: \"**пользователи с подпиской тратят больше времени на поездку, чем без**\"."
   ]
  },
  {
   "cell_type": "markdown",
   "id": "73abfd5d",
   "metadata": {},
   "source": [
    "#### Расстояние одной поездки в 3130 метров — оптимальное с точки зрения износа самоката. Можно ли сказать, что расстояние, которое проезжают пользователи с подпиской за одну поездку, не превышает 3130 метров? "
   ]
  },
  {
   "cell_type": "markdown",
   "id": "8050714c",
   "metadata": {},
   "source": [
    "Гипотезы:  \n",
    "- Н0 : расстояние, которое проезжают пользователи с подпиской за одну поездку = 3130\n",
    "- Н1 : расстояние, которое проезжают пользователи с подпиской за одну поездку > 3130"
   ]
  },
  {
   "cell_type": "code",
   "execution_count": 64,
   "id": "f514505a",
   "metadata": {},
   "outputs": [
    {
     "name": "stdout",
     "output_type": "stream",
     "text": [
      "Не отвергаем нулевую гипотезу, pvalue = 0.9195368847849785\n"
     ]
    }
   ],
   "source": [
    "optimal_value = 3130\n",
    "\n",
    "results = st.ttest_1samp(\n",
    "    data_ultra['distance'],\n",
    "    optimal_value,\n",
    "    alternative='greater'\n",
    ")\n",
    "\n",
    "if (results.pvalue < alpha):\n",
    "    print('Отвергаем нулевую гипотезу, pvalue =', results.pvalue)\n",
    "else:\n",
    "    print('Не отвергаем нулевую гипотезу, pvalue =', results.pvalue)"
   ]
  },
  {
   "cell_type": "markdown",
   "id": "cdf58eee",
   "metadata": {},
   "source": [
    "Полученное pvalue превышает пороговые 5% - отвергнуть гипотезу Н0 : \"**расстояние, которое проезжают пользователи с подпиской за одну поездку = 3130**\" нельзя."
   ]
  },
  {
   "cell_type": "markdown",
   "id": "4ec5766f",
   "metadata": {},
   "source": [
    "####  Будет ли помесячная выручка от пользователей с подпиской по месяцам выше, чем выручка от пользователей без подписки"
   ]
  },
  {
   "cell_type": "markdown",
   "id": "2e7647da",
   "metadata": {},
   "source": [
    "Гипотезы:  \n",
    "- Н0 : выручка от пользователей с подпиской такая же, как и без\n",
    "- Н1 : выручка от пользователей с подпиской больше, чем без"
   ]
  },
  {
   "cell_type": "code",
   "execution_count": 65,
   "id": "b57f1cf1",
   "metadata": {},
   "outputs": [
    {
     "name": "stdout",
     "output_type": "stream",
     "text": [
      "Отвергаем нулевую гипотезу, pvalue = 2.4970242872858465e-38\n"
     ]
    }
   ],
   "source": [
    "# выборки чуть разных размеров, equal_var=False\n",
    "results = st.ttest_ind(\n",
    "    data_joined_pivot.query('subscription_type == \"ultra\"')['monthly_payments'],\n",
    "    data_joined_pivot.query('subscription_type == \"free\"')['monthly_payments'],\n",
    "    equal_var=False,\n",
    "    alternative='greater'\n",
    ")\n",
    "\n",
    "if (results.pvalue < alpha):\n",
    "    print('Отвергаем нулевую гипотезу, pvalue =', results.pvalue)\n",
    "else:\n",
    "    print('Не отвергаем нулевую гипотезу, pvalue =', results.pvalue)\n"
   ]
  },
  {
   "cell_type": "code",
   "execution_count": 66,
   "id": "b02ed591",
   "metadata": {},
   "outputs": [
    {
     "data": {
      "text/plain": [
       "362.7921906022502"
      ]
     },
     "execution_count": 66,
     "metadata": {},
     "output_type": "execute_result"
    }
   ],
   "source": [
    "data_joined_pivot.query('subscription_type == \"ultra\"')['monthly_payments'].mean()"
   ]
  },
  {
   "cell_type": "code",
   "execution_count": 67,
   "id": "d9cb45a7",
   "metadata": {},
   "outputs": [
    {
     "data": {
      "text/plain": [
       "329.3326437121324"
      ]
     },
     "execution_count": 67,
     "metadata": {},
     "output_type": "execute_result"
    }
   ],
   "source": [
    "data_joined_pivot.query('subscription_type == \"free\"')['monthly_payments'].mean()"
   ]
  },
  {
   "cell_type": "markdown",
   "id": "91ef604a",
   "metadata": {},
   "source": [
    "Полученное pvalue не может превысить пороговые 5% - отвергаем гипотезу Н0 : \"выручка от пользователей с подпиской такая же, как и без\", оставляем гипотезу Н1: **\"выручка от пользователей с подпиской больше, чем без\"**."
   ]
  },
  {
   "cell_type": "markdown",
   "id": "91febbd9",
   "metadata": {},
   "source": [
    "#### Представьте такую ситуацию: техническая команда сервиса обновила сервера, с которыми взаимодействует мобильное приложение. Она надеется, что из-за этого количество обращений в техподдержку значимо снизилось. Некоторый файл содержит для каждого пользователя данные о количестве обращений до обновления и после него. Какой тест вам понадобился бы для проверки этой гипотезы?"
   ]
  },
  {
   "cell_type": "markdown",
   "id": "373d69fa",
   "metadata": {},
   "source": [
    "Выборки до обновления и после обновления - это зависимые выборки, т.к. переменная изменяется дважды для одних и тех же объектов. Пара изменений для каждого пользователя: до и после обновления.  \n",
    "Чтобы проверить гипотезу о равенстве средних двух генеральных совокупностей для зависимых (парных) выборок применяется метод\n",
    "\n",
    "`scipy.stats.ttest_rel()`\n",
    "     \n",
    "и передать ему выборки до и после     "
   ]
  },
  {
   "cell_type": "markdown",
   "id": "93e1d301",
   "metadata": {},
   "source": [
    "#### 7.1 Отделу маркетинга GoFast поставили задачу: нужно провести акцию с раздачей промокодов на один бесплатный месяц подписки, в рамках которой как минимум 100 существующих клиентов должны продлить эту подписку. То есть по завершении периода действия подписки пользователь может либо отказаться от неё, либо продлить, совершив соотвествующий платёж. Эта акция уже проводилась ранее и по итогу выяснилось, что после бесплатного пробного периода подписку продлевают 10 % пользователей. Выясните, какое минимальное количество промокодов нужно разослать, чтобы вероятность не выполнить план была примерно 5 %. Подберите параметры распределения, описывающего эту ситуацию, постройте график распределения и сформулируйте ответ на вопрос о количестве промокодов."
   ]
  },
  {
   "cell_type": "markdown",
   "id": "73147ab1",
   "metadata": {},
   "source": [
    "|подписка|1|0|\n",
    "|--|--|--|\n",
    "|вероятность|0.1|0.9|"
   ]
  },
  {
   "cell_type": "code",
   "execution_count": 68,
   "id": "01a90fed",
   "metadata": {},
   "outputs": [
    {
     "data": {
      "image/png": "[encoded data removed]",
      "text/plain": [
       "<Figure size 432x288 with 1 Axes>"
      ]
     },
     "metadata": {
      "needs_background": "light"
     },
     "output_type": "display_data"
    },
    {
     "name": "stdout",
     "output_type": "stream",
     "text": [
      "Нужно сделать 1172 рассылок\n"
     ]
    }
   ],
   "source": [
    "# binom.cdf(k,n,p)\n",
    "# Надо успехов:\n",
    "k=100\n",
    "# Это мой x\n",
    "n=100\n",
    "# Вероятность успеха\n",
    "p=0.1\n",
    "# Наибольшая допустимая вероятность не получить меньше k\n",
    "prob=0.05\n",
    "# Надо подписок\n",
    "k=100\n",
    "\n",
    "x=[]\n",
    "y=[]\n",
    "\n",
    "while (binom.cdf(k,n,p) >= prob):\n",
    "    n = n + 1\n",
    "    x.append(n)\n",
    "    y.append(binom.cdf(k,n,p))\n",
    "\n",
    "# График     \n",
    "plt.plot(x,y)\n",
    "plt.show()\n",
    "\n",
    "print('Нужно сделать', n, 'рассылок')"
   ]
  },
  {
   "cell_type": "markdown",
   "id": "cb1062a7",
   "metadata": {},
   "source": [
    "### 8 Вывод"
   ]
  },
  {
   "cell_type": "markdown",
   "id": "1d704ea9",
   "metadata": {},
   "source": [
    "**Цель исследования:** выполнить предобработку данных и изучить их, проверить некоторые данные гипотезы.  \n",
    "\n",
    "**Входные данные:** данные о некоторых пользователях из нескольких городов, а также об их поездках сервиса GoFast. Датасеты следующие: данные о пользователях сервиса, данные о поездках, данные о подписках за 2021 г. \n",
    "\n",
    "---\n",
    "\n",
    "Для более точного анализа была проведена работа по удалению пропусков, обработке аномальных значений и обработке дубликатов:\n",
    "\n",
    "- Заменен формат даты на datetime в данных о поездках;\n",
    "- Добавлен отдельный столбец month для дальнейшей работы;\n",
    "- Удалены очевидные дубликаты в данных о пользователях;\n",
    "- Удалены аномальные значеия в данных о поездках.\n",
    "\n",
    "---\n",
    "\n",
    "Некоторые параметры данных отражают следующие графики:"
   ]
  },
  {
   "attachments": {
    "image-2.png": {
     "image/png": "[encoded data removed]"
    },
    "image-3.png": {
     "image/png": "[encoded data removed]"
    },
    "image-4.png": {
     "image/png": "[encoded data removed]"
    }
   },
   "cell_type": "markdown",
   "id": "bc41bc15",
   "metadata": {},
   "source": [
    "![image-2.png](attachment:image-2.png)\n",
    "![image-3.png](attachment:image-3.png)\n",
    "![image-4.png](attachment:image-4.png)\n"
   ]
  },
  {
   "cell_type": "markdown",
   "id": "963e7034",
   "metadata": {},
   "source": [
    "---\n",
    "\n",
    "Так же в ходе исследования данные из трех датасетов были объединены в один общий + созданы два новых датасета отдельно для пользователей платной и бесплатной версии сервиса. Для сравнения расстояний и времени поездок бесплатных и платных пользователей привожу следующие графики: "
   ]
  },
  {
   "attachments": {
    "image.png": {
     "image/png": "[encoded data removed]"
    }
   },
   "cell_type": "markdown",
   "id": "03553143",
   "metadata": {},
   "source": [
    "![image.png](attachment:image.png)"
   ]
  },
  {
   "cell_type": "markdown",
   "id": "7bc8d06d",
   "metadata": {},
   "source": [
    "По графикам можно сделать промежуточный вывод, что пользователи free значительно чаще ездят по 10-25 минут, к тому же, поездки free на обоих графиках явно объемнее.\n",
    "\n",
    "---\n",
    "\n",
    "Так же, для удобства работы был создан агрегированный датафрейм, объединяющий в себе данные для каждого пользователя по месяцам, включая его тип подписки, общую длительность поездок, их расстояние.  \n",
    "\n",
    "В этот датафрейм так же добавлен столбец с помесячной выручкой, которую приносил пользователь за 2021г.\n",
    "\n",
    "--- \n",
    "\n",
    "Для анализа эффективности предстоящих акций, нужно блыо проверить три вещи:\n",
    "\n",
    "- Тратят ли пользователи с подпиской больше времени на поездки?\n",
    "\n",
    "      Не отвергнутая гипотеза: пользователи с подпиской тратят больше времени на поездку, чем без\n",
    "      \n",
    "- Можно ли сказать, что расстояние, которое проезжают пользователи с подпиской за одну поездку, не превышает 3130 метров?\n",
    "\n",
    "      Не отвергнутая гипотеза: расстояние, которое проезжают пользователи с подпиской за одну поездку = 3130\n",
    "\n",
    "- Будет ли помесячная выручка от пользователей с подпиской по месяцам выше, чем выручка от пользователей без подписки\n",
    "\n",
    "      Не отвергнутая гипотеза: выручка от пользователей с подпиской больше, чем без\n",
    "      \n",
    "---\n",
    "\n",
    "**Итоговый вывод:** Подводя итог исследованию данных о пользователях, поездках и подписках сервиса GoFast можно сделать следующий вывод:  \n",
    "\n",
    "Пользователи подписки free составляют незначительно большую часть всех пользователей сервиса; поездки ими совершаются более длительные и на большие расстояния, чем пользователями ultra.\n",
    "Несмотря на это, анализ представленых гипотез показал, что выручка от пользователей с подпиской может быть больше, чем от пользователей без неё.\n",
    "\n",
    "Исходя из этих выводов, можно дать рекомендацию продолжать проводить акции для привлечения пользователей подписки ultra, но так же расширить распространение free подписок.\n",
    "\n",
    "\n",
    "      "
   ]
  },
  {
   "cell_type": "code",
   "execution_count": null,
   "id": "974560c1",
   "metadata": {},
   "outputs": [],
   "source": []
  }
 ],
 "metadata": {
  "ExecuteTimeLog": [
   {
    "duration": 47,
    "start_time": "2023-06-08T07:15:45.475Z"
   },
   {
    "duration": 394,
    "start_time": "2023-06-08T07:15:50.206Z"
   },
   {
    "duration": 89,
    "start_time": "2023-06-08T07:15:51.894Z"
   },
   {
    "duration": 89,
    "start_time": "2023-06-08T07:16:43.853Z"
   },
   {
    "duration": 81,
    "start_time": "2023-06-08T07:17:23.041Z"
   },
   {
    "duration": 30,
    "start_time": "2023-06-08T07:17:47.241Z"
   },
   {
    "duration": 10,
    "start_time": "2023-06-08T07:19:52.805Z"
   },
   {
    "duration": 11,
    "start_time": "2023-06-08T07:21:02.056Z"
   },
   {
    "duration": 11,
    "start_time": "2023-06-08T07:21:15.569Z"
   },
   {
    "duration": 13,
    "start_time": "2023-06-08T07:25:00.146Z"
   },
   {
    "duration": 42,
    "start_time": "2023-06-08T07:25:10.167Z"
   },
   {
    "duration": 10,
    "start_time": "2023-06-08T07:25:15.405Z"
   },
   {
    "duration": 28,
    "start_time": "2023-06-08T07:28:00.237Z"
   },
   {
    "duration": 10,
    "start_time": "2023-06-08T07:28:08.629Z"
   },
   {
    "duration": 4,
    "start_time": "2023-06-08T07:28:13.126Z"
   },
   {
    "duration": 7,
    "start_time": "2023-06-08T07:29:27.100Z"
   },
   {
    "duration": 7,
    "start_time": "2023-06-08T07:29:43.276Z"
   },
   {
    "duration": 8,
    "start_time": "2023-06-08T07:33:31.411Z"
   },
   {
    "duration": 1559,
    "start_time": "2023-06-08T07:34:05.174Z"
   },
   {
    "duration": 4,
    "start_time": "2023-06-08T07:34:19.962Z"
   },
   {
    "duration": 6,
    "start_time": "2023-06-08T07:36:12.673Z"
   },
   {
    "duration": 9,
    "start_time": "2023-06-08T07:37:10.603Z"
   },
   {
    "duration": 15,
    "start_time": "2023-06-08T07:37:48.115Z"
   },
   {
    "duration": 14,
    "start_time": "2023-06-08T07:39:11.787Z"
   },
   {
    "duration": 6,
    "start_time": "2023-06-08T07:41:26.530Z"
   },
   {
    "duration": 4,
    "start_time": "2023-06-08T07:41:57.507Z"
   },
   {
    "duration": 378,
    "start_time": "2023-06-08T07:42:31.528Z"
   },
   {
    "duration": 528,
    "start_time": "2023-06-08T07:42:31.907Z"
   },
   {
    "duration": 38,
    "start_time": "2023-06-08T07:42:32.436Z"
   },
   {
    "duration": 20,
    "start_time": "2023-06-08T07:42:32.476Z"
   },
   {
    "duration": 161,
    "start_time": "2023-06-08T07:42:32.498Z"
   },
   {
    "duration": 13,
    "start_time": "2023-06-08T07:42:32.661Z"
   },
   {
    "duration": 71,
    "start_time": "2023-06-08T07:42:32.675Z"
   },
   {
    "duration": 315,
    "start_time": "2023-06-08T07:42:32.748Z"
   },
   {
    "duration": 176,
    "start_time": "2023-06-08T07:42:33.065Z"
   },
   {
    "duration": 69,
    "start_time": "2023-06-08T07:42:33.243Z"
   },
   {
    "duration": 23,
    "start_time": "2023-06-08T07:42:33.314Z"
   },
   {
    "duration": 21,
    "start_time": "2023-06-08T07:42:33.339Z"
   },
   {
    "duration": 20,
    "start_time": "2023-06-08T07:42:33.361Z"
   },
   {
    "duration": 37,
    "start_time": "2023-06-08T07:42:33.384Z"
   },
   {
    "duration": 24,
    "start_time": "2023-06-08T07:42:33.422Z"
   },
   {
    "duration": 32,
    "start_time": "2023-06-08T07:42:33.448Z"
   },
   {
    "duration": 36,
    "start_time": "2023-06-08T07:42:33.481Z"
   },
   {
    "duration": 172,
    "start_time": "2023-06-08T07:43:14.110Z"
   },
   {
    "duration": 157,
    "start_time": "2023-06-08T07:43:42.764Z"
   },
   {
    "duration": 107,
    "start_time": "2023-06-08T07:44:24.804Z"
   },
   {
    "duration": 117,
    "start_time": "2023-06-08T07:44:45.966Z"
   },
   {
    "duration": 168,
    "start_time": "2023-06-08T07:45:17.033Z"
   },
   {
    "duration": 68,
    "start_time": "2023-06-08T07:45:37.200Z"
   },
   {
    "duration": 16,
    "start_time": "2023-06-08T07:45:39.885Z"
   },
   {
    "duration": 108,
    "start_time": "2023-06-08T07:45:41.553Z"
   },
   {
    "duration": 5,
    "start_time": "2023-06-08T07:45:52.632Z"
   },
   {
    "duration": 5,
    "start_time": "2023-06-08T07:46:01.859Z"
   },
   {
    "duration": 15,
    "start_time": "2023-06-08T07:46:56.996Z"
   },
   {
    "duration": 102,
    "start_time": "2023-06-08T07:47:10.433Z"
   },
   {
    "duration": 113,
    "start_time": "2023-06-08T07:47:18.438Z"
   },
   {
    "duration": 12,
    "start_time": "2023-06-08T07:48:24.756Z"
   },
   {
    "duration": 16,
    "start_time": "2023-06-08T07:48:34.605Z"
   },
   {
    "duration": 13,
    "start_time": "2023-06-08T07:48:50.431Z"
   },
   {
    "duration": 25,
    "start_time": "2023-06-08T07:49:29.279Z"
   },
   {
    "duration": 123,
    "start_time": "2023-06-08T07:49:47.840Z"
   },
   {
    "duration": 134,
    "start_time": "2023-06-08T07:50:08.707Z"
   },
   {
    "duration": 128,
    "start_time": "2023-06-08T07:50:21.509Z"
   },
   {
    "duration": 132,
    "start_time": "2023-06-08T07:50:55.016Z"
   },
   {
    "duration": 108,
    "start_time": "2023-06-08T07:51:09.681Z"
   },
   {
    "duration": 112,
    "start_time": "2023-06-08T07:51:17.798Z"
   },
   {
    "duration": 118,
    "start_time": "2023-06-08T07:53:25.996Z"
   },
   {
    "duration": 13,
    "start_time": "2023-06-08T07:53:55.833Z"
   },
   {
    "duration": 170,
    "start_time": "2023-06-08T07:54:45.430Z"
   },
   {
    "duration": 111,
    "start_time": "2023-06-08T07:54:49.158Z"
   },
   {
    "duration": 113,
    "start_time": "2023-06-08T07:54:59.428Z"
   },
   {
    "duration": 114,
    "start_time": "2023-06-08T07:55:04.308Z"
   },
   {
    "duration": 115,
    "start_time": "2023-06-08T07:55:08.630Z"
   },
   {
    "duration": 119,
    "start_time": "2023-06-08T07:55:18.096Z"
   },
   {
    "duration": 121,
    "start_time": "2023-06-08T07:55:28.096Z"
   },
   {
    "duration": 5,
    "start_time": "2023-06-08T07:59:44.815Z"
   },
   {
    "duration": 6,
    "start_time": "2023-06-08T08:01:09.715Z"
   },
   {
    "duration": 122,
    "start_time": "2023-06-08T08:02:46.023Z"
   },
   {
    "duration": 12,
    "start_time": "2023-06-08T08:03:06.527Z"
   },
   {
    "duration": 13,
    "start_time": "2023-06-08T08:04:19.563Z"
   },
   {
    "duration": 11,
    "start_time": "2023-06-08T08:04:37.920Z"
   },
   {
    "duration": 20,
    "start_time": "2023-06-08T08:04:49.679Z"
   },
   {
    "duration": 106,
    "start_time": "2023-06-08T08:05:13.499Z"
   },
   {
    "duration": 112,
    "start_time": "2023-06-08T08:05:27.291Z"
   },
   {
    "duration": 104,
    "start_time": "2023-06-08T08:05:41.905Z"
   },
   {
    "duration": 156,
    "start_time": "2023-06-08T08:06:59.596Z"
   },
   {
    "duration": 11,
    "start_time": "2023-06-08T08:09:05.128Z"
   },
   {
    "duration": 9,
    "start_time": "2023-06-08T08:09:17.869Z"
   },
   {
    "duration": 8,
    "start_time": "2023-06-08T08:09:29.439Z"
   },
   {
    "duration": 10,
    "start_time": "2023-06-08T08:10:31.899Z"
   },
   {
    "duration": 70,
    "start_time": "2023-06-08T08:11:15.866Z"
   },
   {
    "duration": 60,
    "start_time": "2023-06-08T08:11:22.631Z"
   },
   {
    "duration": 5,
    "start_time": "2023-06-08T08:14:20.328Z"
   },
   {
    "duration": 66,
    "start_time": "2023-06-08T08:17:24.902Z"
   },
   {
    "duration": 69,
    "start_time": "2023-06-08T08:17:29.996Z"
   },
   {
    "duration": 69,
    "start_time": "2023-06-08T08:18:55.753Z"
   },
   {
    "duration": 64,
    "start_time": "2023-06-08T08:19:45.708Z"
   },
   {
    "duration": 68,
    "start_time": "2023-06-08T08:19:58.167Z"
   },
   {
    "duration": 80,
    "start_time": "2023-06-08T08:20:06.565Z"
   },
   {
    "duration": 70,
    "start_time": "2023-06-08T08:20:15.497Z"
   },
   {
    "duration": 109,
    "start_time": "2023-06-08T08:21:48.160Z"
   },
   {
    "duration": 112,
    "start_time": "2023-06-08T08:21:53.998Z"
   },
   {
    "duration": 165,
    "start_time": "2023-06-08T08:23:17.935Z"
   },
   {
    "duration": 5,
    "start_time": "2023-06-08T08:23:25.260Z"
   },
   {
    "duration": 123,
    "start_time": "2023-06-08T08:23:48.980Z"
   },
   {
    "duration": 107,
    "start_time": "2023-06-08T08:23:53.269Z"
   },
   {
    "duration": 129,
    "start_time": "2023-06-08T08:24:04.399Z"
   },
   {
    "duration": 114,
    "start_time": "2023-06-08T08:24:10.396Z"
   },
   {
    "duration": 125,
    "start_time": "2023-06-08T08:24:17.823Z"
   },
   {
    "duration": 134,
    "start_time": "2023-06-08T08:24:22.696Z"
   },
   {
    "duration": 128,
    "start_time": "2023-06-08T08:24:32.000Z"
   },
   {
    "duration": 82,
    "start_time": "2023-06-08T08:25:16.771Z"
   },
   {
    "duration": 8,
    "start_time": "2023-06-08T08:30:47.868Z"
   },
   {
    "duration": 396,
    "start_time": "2023-06-08T08:34:03.884Z"
   },
   {
    "duration": 533,
    "start_time": "2023-06-08T08:34:04.282Z"
   },
   {
    "duration": 36,
    "start_time": "2023-06-08T08:34:04.816Z"
   },
   {
    "duration": 10,
    "start_time": "2023-06-08T08:34:04.854Z"
   },
   {
    "duration": 60,
    "start_time": "2023-06-08T08:34:04.865Z"
   },
   {
    "duration": 9,
    "start_time": "2023-06-08T08:34:04.926Z"
   },
   {
    "duration": 18,
    "start_time": "2023-06-08T08:34:04.936Z"
   },
   {
    "duration": 10,
    "start_time": "2023-06-08T08:34:04.956Z"
   },
   {
    "duration": 10,
    "start_time": "2023-06-08T08:34:04.967Z"
   },
   {
    "duration": 20,
    "start_time": "2023-06-08T08:34:04.978Z"
   },
   {
    "duration": 11,
    "start_time": "2023-06-08T08:34:04.999Z"
   },
   {
    "duration": 6,
    "start_time": "2023-06-08T08:34:05.012Z"
   },
   {
    "duration": 12,
    "start_time": "2023-06-08T08:34:05.019Z"
   },
   {
    "duration": 8,
    "start_time": "2023-06-08T08:34:05.033Z"
   },
   {
    "duration": 14,
    "start_time": "2023-06-08T08:34:05.042Z"
   },
   {
    "duration": 13,
    "start_time": "2023-06-08T08:34:05.057Z"
   },
   {
    "duration": 4,
    "start_time": "2023-06-08T08:34:05.072Z"
   },
   {
    "duration": 133,
    "start_time": "2023-06-08T08:34:05.077Z"
   },
   {
    "duration": 5,
    "start_time": "2023-06-08T08:34:05.212Z"
   },
   {
    "duration": 19,
    "start_time": "2023-06-08T08:34:05.218Z"
   },
   {
    "duration": 75,
    "start_time": "2023-06-08T08:34:05.239Z"
   },
   {
    "duration": 5,
    "start_time": "2023-06-08T08:34:05.316Z"
   },
   {
    "duration": 138,
    "start_time": "2023-06-08T08:34:05.322Z"
   },
   {
    "duration": 86,
    "start_time": "2023-06-08T08:34:05.461Z"
   },
   {
    "duration": 153,
    "start_time": "2023-06-08T08:34:05.548Z"
   },
   {
    "duration": 8,
    "start_time": "2023-06-08T08:34:05.702Z"
   },
   {
    "duration": 367,
    "start_time": "2023-06-08T08:35:03.964Z"
   },
   {
    "duration": 904,
    "start_time": "2023-06-08T08:35:04.333Z"
   },
   {
    "duration": 36,
    "start_time": "2023-06-08T08:35:05.239Z"
   },
   {
    "duration": 19,
    "start_time": "2023-06-08T08:35:05.277Z"
   },
   {
    "duration": 35,
    "start_time": "2023-06-08T08:35:05.299Z"
   },
   {
    "duration": 8,
    "start_time": "2023-06-08T08:35:05.336Z"
   },
   {
    "duration": 36,
    "start_time": "2023-06-08T08:35:05.346Z"
   },
   {
    "duration": 8,
    "start_time": "2023-06-08T08:35:05.384Z"
   },
   {
    "duration": 8,
    "start_time": "2023-06-08T08:35:05.393Z"
   },
   {
    "duration": 9,
    "start_time": "2023-06-08T08:35:05.402Z"
   },
   {
    "duration": 8,
    "start_time": "2023-06-08T08:35:05.412Z"
   },
   {
    "duration": 31,
    "start_time": "2023-06-08T08:35:05.422Z"
   },
   {
    "duration": 45,
    "start_time": "2023-06-08T08:35:05.455Z"
   },
   {
    "duration": 16,
    "start_time": "2023-06-08T08:35:05.502Z"
   },
   {
    "duration": 21,
    "start_time": "2023-06-08T08:35:05.519Z"
   },
   {
    "duration": 11,
    "start_time": "2023-06-08T08:35:05.542Z"
   },
   {
    "duration": 22,
    "start_time": "2023-06-08T08:35:05.554Z"
   },
   {
    "duration": 170,
    "start_time": "2023-06-08T08:35:05.577Z"
   },
   {
    "duration": 6,
    "start_time": "2023-06-08T08:35:05.749Z"
   },
   {
    "duration": 49,
    "start_time": "2023-06-08T08:35:05.756Z"
   },
   {
    "duration": 72,
    "start_time": "2023-06-08T08:35:05.807Z"
   },
   {
    "duration": 8,
    "start_time": "2023-06-08T08:35:05.881Z"
   },
   {
    "duration": 158,
    "start_time": "2023-06-08T08:35:05.891Z"
   },
   {
    "duration": 104,
    "start_time": "2023-06-08T08:35:06.051Z"
   },
   {
    "duration": 161,
    "start_time": "2023-06-08T08:35:06.156Z"
   },
   {
    "duration": 7,
    "start_time": "2023-06-08T08:35:06.319Z"
   },
   {
    "duration": 9,
    "start_time": "2023-06-08T08:35:49.365Z"
   },
   {
    "duration": 145,
    "start_time": "2023-06-08T08:35:58.852Z"
   },
   {
    "duration": 149,
    "start_time": "2023-06-08T08:36:07.379Z"
   },
   {
    "duration": 191,
    "start_time": "2023-06-08T08:36:11.807Z"
   },
   {
    "duration": 205,
    "start_time": "2023-06-08T08:36:16.696Z"
   },
   {
    "duration": 200,
    "start_time": "2023-06-08T08:36:30.723Z"
   },
   {
    "duration": 5628,
    "start_time": "2023-06-08T08:37:09.125Z"
   },
   {
    "duration": 95,
    "start_time": "2023-06-08T08:37:32.704Z"
   },
   {
    "duration": 98,
    "start_time": "2023-06-08T08:38:06.726Z"
   },
   {
    "duration": 144,
    "start_time": "2023-06-08T08:38:11.609Z"
   },
   {
    "duration": 102,
    "start_time": "2023-06-08T08:38:41.848Z"
   },
   {
    "duration": 106,
    "start_time": "2023-06-08T08:38:47.896Z"
   },
   {
    "duration": 97,
    "start_time": "2023-06-08T08:38:54.800Z"
   },
   {
    "duration": 92,
    "start_time": "2023-06-08T08:39:01.585Z"
   },
   {
    "duration": 18,
    "start_time": "2023-06-08T08:39:28.910Z"
   },
   {
    "duration": 4105,
    "start_time": "2023-06-08T08:39:48.300Z"
   },
   {
    "duration": 18,
    "start_time": "2023-06-08T08:40:00.110Z"
   },
   {
    "duration": 219,
    "start_time": "2023-06-08T08:42:54.263Z"
   },
   {
    "duration": 87,
    "start_time": "2023-06-08T08:43:17.948Z"
   },
   {
    "duration": 17,
    "start_time": "2023-06-08T08:44:04.999Z"
   },
   {
    "duration": 19,
    "start_time": "2023-06-08T09:00:37.564Z"
   },
   {
    "duration": 24,
    "start_time": "2023-06-08T09:02:35.020Z"
   },
   {
    "duration": 8,
    "start_time": "2023-06-08T09:05:36.256Z"
   },
   {
    "duration": 50,
    "start_time": "2023-06-08T09:06:14.060Z"
   },
   {
    "duration": 18,
    "start_time": "2023-06-08T09:06:29.063Z"
   },
   {
    "duration": 897,
    "start_time": "2023-06-08T09:06:48.588Z"
   },
   {
    "duration": 10,
    "start_time": "2023-06-08T09:07:07.680Z"
   },
   {
    "duration": 5,
    "start_time": "2023-06-08T09:07:17.465Z"
   },
   {
    "duration": 6,
    "start_time": "2023-06-08T09:08:00.749Z"
   },
   {
    "duration": 9,
    "start_time": "2023-06-08T09:08:01.692Z"
   },
   {
    "duration": 195,
    "start_time": "2023-06-08T09:10:19.153Z"
   },
   {
    "duration": 194,
    "start_time": "2023-06-08T09:10:31.916Z"
   },
   {
    "duration": 263,
    "start_time": "2023-06-08T09:10:56.865Z"
   },
   {
    "duration": 386,
    "start_time": "2023-06-08T09:11:07.345Z"
   },
   {
    "duration": 469,
    "start_time": "2023-06-08T09:11:33.978Z"
   },
   {
    "duration": 473,
    "start_time": "2023-06-08T09:11:42.202Z"
   },
   {
    "duration": 546,
    "start_time": "2023-06-08T09:11:48.318Z"
   },
   {
    "duration": 133,
    "start_time": "2023-06-08T09:12:24.542Z"
   },
   {
    "duration": 105,
    "start_time": "2023-06-08T09:12:42.168Z"
   },
   {
    "duration": 92,
    "start_time": "2023-06-08T09:12:55.998Z"
   },
   {
    "duration": 488,
    "start_time": "2023-06-08T09:14:06.112Z"
   },
   {
    "duration": 530,
    "start_time": "2023-06-08T09:14:16.959Z"
   },
   {
    "duration": 102,
    "start_time": "2023-06-08T09:14:51.410Z"
   },
   {
    "duration": 112,
    "start_time": "2023-06-08T09:15:04.176Z"
   },
   {
    "duration": 11,
    "start_time": "2023-06-08T09:18:12.442Z"
   },
   {
    "duration": 21,
    "start_time": "2023-06-08T09:20:14.383Z"
   },
   {
    "duration": 25,
    "start_time": "2023-06-08T09:21:36.127Z"
   },
   {
    "duration": 25,
    "start_time": "2023-06-08T09:22:33.278Z"
   },
   {
    "duration": 88,
    "start_time": "2023-06-08T09:23:43.444Z"
   },
   {
    "duration": 28,
    "start_time": "2023-06-08T09:23:56.599Z"
   },
   {
    "duration": 41,
    "start_time": "2023-06-08T09:24:57.511Z"
   },
   {
    "duration": 49,
    "start_time": "2023-06-08T09:25:48.637Z"
   },
   {
    "duration": 53,
    "start_time": "2023-06-08T09:25:59.152Z"
   },
   {
    "duration": 34,
    "start_time": "2023-06-08T09:26:17.472Z"
   },
   {
    "duration": 35,
    "start_time": "2023-06-08T09:27:22.415Z"
   },
   {
    "duration": 36,
    "start_time": "2023-06-08T09:27:30.559Z"
   },
   {
    "duration": 29,
    "start_time": "2023-06-08T09:33:18.780Z"
   },
   {
    "duration": 32,
    "start_time": "2023-06-08T09:33:55.429Z"
   },
   {
    "duration": 26,
    "start_time": "2023-06-08T09:34:03.732Z"
   },
   {
    "duration": 396,
    "start_time": "2023-06-08T09:35:10.962Z"
   },
   {
    "duration": 254,
    "start_time": "2023-06-08T09:35:11.360Z"
   },
   {
    "duration": 3,
    "start_time": "2023-06-08T09:35:11.615Z"
   },
   {
    "duration": 67,
    "start_time": "2023-06-08T09:35:11.620Z"
   },
   {
    "duration": 13,
    "start_time": "2023-06-08T09:35:11.690Z"
   },
   {
    "duration": 83,
    "start_time": "2023-06-08T09:35:11.705Z"
   },
   {
    "duration": 11,
    "start_time": "2023-06-08T09:35:11.790Z"
   },
   {
    "duration": 37,
    "start_time": "2023-06-08T09:35:11.803Z"
   },
   {
    "duration": 13,
    "start_time": "2023-06-08T09:35:11.842Z"
   },
   {
    "duration": 26,
    "start_time": "2023-06-08T09:35:11.857Z"
   },
   {
    "duration": 18,
    "start_time": "2023-06-08T09:35:11.885Z"
   },
   {
    "duration": 15,
    "start_time": "2023-06-08T09:35:11.905Z"
   },
   {
    "duration": 20,
    "start_time": "2023-06-08T09:35:11.923Z"
   },
   {
    "duration": 15,
    "start_time": "2023-06-08T09:35:11.946Z"
   },
   {
    "duration": 30,
    "start_time": "2023-06-08T09:35:11.962Z"
   },
   {
    "duration": 21,
    "start_time": "2023-06-08T09:35:11.994Z"
   },
   {
    "duration": 15,
    "start_time": "2023-06-08T09:35:12.016Z"
   },
   {
    "duration": 14,
    "start_time": "2023-06-08T09:35:12.032Z"
   },
   {
    "duration": 171,
    "start_time": "2023-06-08T09:35:12.047Z"
   },
   {
    "duration": 7,
    "start_time": "2023-06-08T09:35:12.220Z"
   },
   {
    "duration": 20,
    "start_time": "2023-06-08T09:35:12.228Z"
   },
   {
    "duration": 102,
    "start_time": "2023-06-08T09:35:12.250Z"
   },
   {
    "duration": 6,
    "start_time": "2023-06-08T09:35:12.353Z"
   },
   {
    "duration": 149,
    "start_time": "2023-06-08T09:35:12.361Z"
   },
   {
    "duration": 92,
    "start_time": "2023-06-08T09:35:12.512Z"
   },
   {
    "duration": 269,
    "start_time": "2023-06-08T09:35:12.605Z"
   },
   {
    "duration": 112,
    "start_time": "2023-06-08T09:35:12.876Z"
   },
   {
    "duration": 224,
    "start_time": "2023-06-08T09:35:12.990Z"
   },
   {
    "duration": 138,
    "start_time": "2023-06-08T09:35:13.216Z"
   },
   {
    "duration": 36,
    "start_time": "2023-06-08T09:35:13.356Z"
   },
   {
    "duration": 26,
    "start_time": "2023-06-08T09:35:13.394Z"
   },
   {
    "duration": 19,
    "start_time": "2023-06-08T09:35:13.422Z"
   },
   {
    "duration": 12,
    "start_time": "2023-06-08T09:35:13.442Z"
   },
   {
    "duration": 33,
    "start_time": "2023-06-08T09:35:13.456Z"
   },
   {
    "duration": 465,
    "start_time": "2023-06-08T09:35:13.491Z"
   },
   {
    "duration": 98,
    "start_time": "2023-06-08T09:35:13.957Z"
   },
   {
    "duration": 167,
    "start_time": "2023-06-08T09:35:14.057Z"
   },
   {
    "duration": 461,
    "start_time": "2023-06-08T09:35:14.226Z"
   },
   {
    "duration": 119,
    "start_time": "2023-06-08T09:35:14.688Z"
   },
   {
    "duration": 106,
    "start_time": "2023-06-08T09:35:14.809Z"
   },
   {
    "duration": 12,
    "start_time": "2023-06-08T09:35:14.919Z"
   },
   {
    "duration": 38,
    "start_time": "2023-06-08T09:35:14.932Z"
   },
   {
    "duration": 2,
    "start_time": "2023-06-08T09:35:14.972Z"
   },
   {
    "duration": 1208,
    "start_time": "2023-06-08T09:36:29.469Z"
   },
   {
    "duration": 6,
    "start_time": "2023-06-08T09:38:54.376Z"
   },
   {
    "duration": 27,
    "start_time": "2023-06-08T09:39:07.276Z"
   },
   {
    "duration": 1130,
    "start_time": "2023-06-08T09:39:26.006Z"
   },
   {
    "duration": 12,
    "start_time": "2023-06-08T09:39:39.059Z"
   },
   {
    "duration": 12,
    "start_time": "2023-06-08T09:39:49.425Z"
   },
   {
    "duration": 14,
    "start_time": "2023-06-08T09:41:18.732Z"
   },
   {
    "duration": 16,
    "start_time": "2023-06-08T09:41:30.675Z"
   },
   {
    "duration": 13,
    "start_time": "2023-06-08T09:41:34.143Z"
   },
   {
    "duration": 9,
    "start_time": "2023-06-08T09:41:37.805Z"
   },
   {
    "duration": 12,
    "start_time": "2023-06-08T09:41:39.944Z"
   },
   {
    "duration": 366,
    "start_time": "2023-06-08T09:41:44.943Z"
   },
   {
    "duration": 226,
    "start_time": "2023-06-08T09:41:45.312Z"
   },
   {
    "duration": 3,
    "start_time": "2023-06-08T09:41:45.539Z"
   },
   {
    "duration": 59,
    "start_time": "2023-06-08T09:41:45.545Z"
   },
   {
    "duration": 11,
    "start_time": "2023-06-08T09:41:45.606Z"
   },
   {
    "duration": 56,
    "start_time": "2023-06-08T09:41:45.620Z"
   },
   {
    "duration": 21,
    "start_time": "2023-06-08T09:41:45.677Z"
   },
   {
    "duration": 32,
    "start_time": "2023-06-08T09:41:45.703Z"
   },
   {
    "duration": 9,
    "start_time": "2023-06-08T09:41:45.737Z"
   },
   {
    "duration": 12,
    "start_time": "2023-06-08T09:41:45.749Z"
   },
   {
    "duration": 8,
    "start_time": "2023-06-08T09:41:45.763Z"
   },
   {
    "duration": 34,
    "start_time": "2023-06-08T09:41:45.773Z"
   },
   {
    "duration": 24,
    "start_time": "2023-06-08T09:41:45.809Z"
   },
   {
    "duration": 16,
    "start_time": "2023-06-08T09:41:45.836Z"
   },
   {
    "duration": 15,
    "start_time": "2023-06-08T09:41:45.854Z"
   },
   {
    "duration": 28,
    "start_time": "2023-06-08T09:41:45.870Z"
   },
   {
    "duration": 17,
    "start_time": "2023-06-08T09:41:45.905Z"
   },
   {
    "duration": 10,
    "start_time": "2023-06-08T09:41:45.923Z"
   },
   {
    "duration": 171,
    "start_time": "2023-06-08T09:41:45.935Z"
   },
   {
    "duration": 12,
    "start_time": "2023-06-08T09:41:46.109Z"
   },
   {
    "duration": 28,
    "start_time": "2023-06-08T09:41:46.123Z"
   },
   {
    "duration": 102,
    "start_time": "2023-06-08T09:41:46.153Z"
   },
   {
    "duration": 6,
    "start_time": "2023-06-08T09:41:46.257Z"
   },
   {
    "duration": 208,
    "start_time": "2023-06-08T09:41:46.265Z"
   },
   {
    "duration": 129,
    "start_time": "2023-06-08T09:41:46.475Z"
   },
   {
    "duration": 260,
    "start_time": "2023-06-08T09:41:46.606Z"
   },
   {
    "duration": 107,
    "start_time": "2023-06-08T09:41:46.868Z"
   },
   {
    "duration": 226,
    "start_time": "2023-06-08T09:41:46.978Z"
   },
   {
    "duration": 103,
    "start_time": "2023-06-08T09:41:47.206Z"
   },
   {
    "duration": 20,
    "start_time": "2023-06-08T09:41:47.311Z"
   },
   {
    "duration": 31,
    "start_time": "2023-06-08T09:41:47.333Z"
   },
   {
    "duration": 72,
    "start_time": "2023-06-08T09:41:47.366Z"
   },
   {
    "duration": 9,
    "start_time": "2023-06-08T09:41:47.439Z"
   },
   {
    "duration": 23,
    "start_time": "2023-06-08T09:41:47.449Z"
   },
   {
    "duration": 446,
    "start_time": "2023-06-08T09:41:47.473Z"
   },
   {
    "duration": 100,
    "start_time": "2023-06-08T09:41:47.920Z"
   },
   {
    "duration": 149,
    "start_time": "2023-06-08T09:41:48.022Z"
   },
   {
    "duration": 449,
    "start_time": "2023-06-08T09:41:48.173Z"
   },
   {
    "duration": 104,
    "start_time": "2023-06-08T09:41:48.623Z"
   },
   {
    "duration": 107,
    "start_time": "2023-06-08T09:41:48.729Z"
   },
   {
    "duration": 11,
    "start_time": "2023-06-08T09:41:48.837Z"
   },
   {
    "duration": 52,
    "start_time": "2023-06-08T09:41:48.849Z"
   },
   {
    "duration": 10,
    "start_time": "2023-06-08T09:41:48.903Z"
   },
   {
    "duration": 123,
    "start_time": "2023-06-08T09:41:48.914Z"
   },
   {
    "duration": 0,
    "start_time": "2023-06-08T09:41:49.039Z"
   },
   {
    "duration": 93,
    "start_time": "2023-06-08T09:44:41.109Z"
   },
   {
    "duration": 18,
    "start_time": "2023-06-08T09:44:52.635Z"
   },
   {
    "duration": 11,
    "start_time": "2023-06-08T09:45:01.832Z"
   },
   {
    "duration": 372,
    "start_time": "2023-06-08T09:45:14.431Z"
   },
   {
    "duration": 221,
    "start_time": "2023-06-08T09:45:14.806Z"
   },
   {
    "duration": 3,
    "start_time": "2023-06-08T09:45:15.028Z"
   },
   {
    "duration": 92,
    "start_time": "2023-06-08T09:45:15.033Z"
   },
   {
    "duration": 17,
    "start_time": "2023-06-08T09:45:15.128Z"
   },
   {
    "duration": 62,
    "start_time": "2023-06-08T09:45:15.147Z"
   },
   {
    "duration": 14,
    "start_time": "2023-06-08T09:45:15.211Z"
   },
   {
    "duration": 22,
    "start_time": "2023-06-08T09:45:15.227Z"
   },
   {
    "duration": 13,
    "start_time": "2023-06-08T09:45:15.251Z"
   },
   {
    "duration": 13,
    "start_time": "2023-06-08T09:45:15.265Z"
   },
   {
    "duration": 17,
    "start_time": "2023-06-08T09:45:15.284Z"
   },
   {
    "duration": 13,
    "start_time": "2023-06-08T09:45:15.303Z"
   },
   {
    "duration": 10,
    "start_time": "2023-06-08T09:45:15.317Z"
   },
   {
    "duration": 8,
    "start_time": "2023-06-08T09:45:15.330Z"
   },
   {
    "duration": 10,
    "start_time": "2023-06-08T09:45:15.339Z"
   },
   {
    "duration": 39,
    "start_time": "2023-06-08T09:45:15.351Z"
   },
   {
    "duration": 19,
    "start_time": "2023-06-08T09:45:15.391Z"
   },
   {
    "duration": 9,
    "start_time": "2023-06-08T09:45:15.412Z"
   },
   {
    "duration": 142,
    "start_time": "2023-06-08T09:45:15.422Z"
   },
   {
    "duration": 7,
    "start_time": "2023-06-08T09:45:15.566Z"
   },
   {
    "duration": 31,
    "start_time": "2023-06-08T09:45:15.574Z"
   },
   {
    "duration": 76,
    "start_time": "2023-06-08T09:45:15.607Z"
   },
   {
    "duration": 24,
    "start_time": "2023-06-08T09:45:15.690Z"
   },
   {
    "duration": 155,
    "start_time": "2023-06-08T09:45:15.715Z"
   },
   {
    "duration": 86,
    "start_time": "2023-06-08T09:45:15.871Z"
   },
   {
    "duration": 303,
    "start_time": "2023-06-08T09:45:15.959Z"
   },
   {
    "duration": 139,
    "start_time": "2023-06-08T09:45:16.264Z"
   },
   {
    "duration": 244,
    "start_time": "2023-06-08T09:45:16.404Z"
   },
   {
    "duration": 120,
    "start_time": "2023-06-08T09:45:16.649Z"
   },
   {
    "duration": 33,
    "start_time": "2023-06-08T09:45:16.771Z"
   },
   {
    "duration": 17,
    "start_time": "2023-06-08T09:45:16.806Z"
   },
   {
    "duration": 23,
    "start_time": "2023-06-08T09:45:16.824Z"
   },
   {
    "duration": 8,
    "start_time": "2023-06-08T09:45:16.848Z"
   },
   {
    "duration": 57,
    "start_time": "2023-06-08T09:45:16.857Z"
   },
   {
    "duration": 493,
    "start_time": "2023-06-08T09:45:16.918Z"
   },
   {
    "duration": 100,
    "start_time": "2023-06-08T09:45:17.412Z"
   },
   {
    "duration": 160,
    "start_time": "2023-06-08T09:45:17.513Z"
   },
   {
    "duration": 430,
    "start_time": "2023-06-08T09:45:17.674Z"
   },
   {
    "duration": 102,
    "start_time": "2023-06-08T09:45:18.106Z"
   },
   {
    "duration": 118,
    "start_time": "2023-06-08T09:45:18.210Z"
   },
   {
    "duration": 11,
    "start_time": "2023-06-08T09:45:18.332Z"
   },
   {
    "duration": 54,
    "start_time": "2023-06-08T09:45:18.344Z"
   },
   {
    "duration": 11,
    "start_time": "2023-06-08T09:45:18.404Z"
   },
   {
    "duration": 213,
    "start_time": "2023-06-08T09:45:18.417Z"
   },
   {
    "duration": 0,
    "start_time": "2023-06-08T09:45:18.632Z"
   },
   {
    "duration": 76,
    "start_time": "2023-06-08T09:47:27.264Z"
   },
   {
    "duration": 27,
    "start_time": "2023-06-08T09:48:01.227Z"
   },
   {
    "duration": 8,
    "start_time": "2023-06-08T09:49:02.344Z"
   },
   {
    "duration": 15,
    "start_time": "2023-06-08T09:49:09.465Z"
   },
   {
    "duration": 3,
    "start_time": "2023-06-08T09:49:39.844Z"
   },
   {
    "duration": 39,
    "start_time": "2023-06-08T09:53:20.206Z"
   },
   {
    "duration": 33,
    "start_time": "2023-06-08T09:54:10.522Z"
   },
   {
    "duration": 38,
    "start_time": "2023-06-08T09:56:18.877Z"
   },
   {
    "duration": 39,
    "start_time": "2023-06-08T09:57:10.389Z"
   },
   {
    "duration": 47,
    "start_time": "2023-06-08T09:58:01.652Z"
   },
   {
    "duration": 30,
    "start_time": "2023-06-08T09:58:21.605Z"
   },
   {
    "duration": 538,
    "start_time": "2023-06-08T09:59:56.184Z"
   },
   {
    "duration": 2,
    "start_time": "2023-06-08T09:59:56.738Z"
   },
   {
    "duration": 349,
    "start_time": "2023-06-08T09:59:56.744Z"
   },
   {
    "duration": 7,
    "start_time": "2023-06-08T09:59:57.095Z"
   },
   {
    "duration": 154,
    "start_time": "2023-06-08T09:59:57.105Z"
   },
   {
    "duration": 17,
    "start_time": "2023-06-08T09:59:57.262Z"
   },
   {
    "duration": 110,
    "start_time": "2023-06-08T09:59:57.282Z"
   },
   {
    "duration": 42,
    "start_time": "2023-06-08T09:59:57.394Z"
   },
   {
    "duration": 39,
    "start_time": "2023-06-08T09:59:57.438Z"
   },
   {
    "duration": 16,
    "start_time": "2023-06-08T09:59:57.479Z"
   },
   {
    "duration": 65,
    "start_time": "2023-06-08T09:59:57.497Z"
   },
   {
    "duration": 35,
    "start_time": "2023-06-08T09:59:57.563Z"
   },
   {
    "duration": 25,
    "start_time": "2023-06-08T09:59:57.612Z"
   },
   {
    "duration": 13,
    "start_time": "2023-06-08T09:59:57.641Z"
   },
   {
    "duration": 8,
    "start_time": "2023-06-08T09:59:57.656Z"
   },
   {
    "duration": 12,
    "start_time": "2023-06-08T09:59:57.666Z"
   },
   {
    "duration": 38,
    "start_time": "2023-06-08T09:59:57.681Z"
   },
   {
    "duration": 29,
    "start_time": "2023-06-08T09:59:57.721Z"
   },
   {
    "duration": 6,
    "start_time": "2023-06-08T09:59:57.752Z"
   },
   {
    "duration": 190,
    "start_time": "2023-06-08T09:59:57.759Z"
   },
   {
    "duration": 8,
    "start_time": "2023-06-08T09:59:57.951Z"
   },
   {
    "duration": 12,
    "start_time": "2023-06-08T09:59:57.961Z"
   },
   {
    "duration": 116,
    "start_time": "2023-06-08T09:59:57.975Z"
   },
   {
    "duration": 8,
    "start_time": "2023-06-08T09:59:58.094Z"
   },
   {
    "duration": 202,
    "start_time": "2023-06-08T09:59:58.103Z"
   },
   {
    "duration": 108,
    "start_time": "2023-06-08T09:59:58.306Z"
   },
   {
    "duration": 351,
    "start_time": "2023-06-08T09:59:58.416Z"
   },
   {
    "duration": 150,
    "start_time": "2023-06-08T09:59:58.769Z"
   },
   {
    "duration": 293,
    "start_time": "2023-06-08T09:59:58.921Z"
   },
   {
    "duration": 122,
    "start_time": "2023-06-08T09:59:59.224Z"
   },
   {
    "duration": 26,
    "start_time": "2023-06-08T09:59:59.348Z"
   },
   {
    "duration": 30,
    "start_time": "2023-06-08T09:59:59.393Z"
   },
   {
    "duration": 47,
    "start_time": "2023-06-08T09:59:59.424Z"
   },
   {
    "duration": 10,
    "start_time": "2023-06-08T09:59:59.472Z"
   },
   {
    "duration": 20,
    "start_time": "2023-06-08T09:59:59.483Z"
   },
   {
    "duration": 595,
    "start_time": "2023-06-08T09:59:59.504Z"
   },
   {
    "duration": 123,
    "start_time": "2023-06-08T10:00:00.107Z"
   },
   {
    "duration": 183,
    "start_time": "2023-06-08T10:00:00.232Z"
   },
   {
    "duration": 459,
    "start_time": "2023-06-08T10:00:00.420Z"
   },
   {
    "duration": 111,
    "start_time": "2023-06-08T10:00:00.881Z"
   },
   {
    "duration": 102,
    "start_time": "2023-06-08T10:00:00.996Z"
   },
   {
    "duration": 25,
    "start_time": "2023-06-08T10:00:01.100Z"
   },
   {
    "duration": 92,
    "start_time": "2023-06-08T10:00:01.126Z"
   },
   {
    "duration": 121,
    "start_time": "2023-06-08T10:00:01.220Z"
   },
   {
    "duration": 18,
    "start_time": "2023-06-08T10:00:14.315Z"
   },
   {
    "duration": 10,
    "start_time": "2023-06-08T10:06:49.479Z"
   },
   {
    "duration": 28,
    "start_time": "2023-06-08T10:07:44.429Z"
   },
   {
    "duration": 36,
    "start_time": "2023-06-08T10:07:45.986Z"
   },
   {
    "duration": 32,
    "start_time": "2023-06-08T10:07:57.476Z"
   },
   {
    "duration": 270,
    "start_time": "2023-06-08T10:08:16.828Z"
   },
   {
    "duration": 102,
    "start_time": "2023-06-08T10:09:55.708Z"
   },
   {
    "duration": 407,
    "start_time": "2023-06-08T10:10:05.062Z"
   },
   {
    "duration": 3,
    "start_time": "2023-06-08T10:10:05.471Z"
   },
   {
    "duration": 288,
    "start_time": "2023-06-08T10:10:05.476Z"
   },
   {
    "duration": 2,
    "start_time": "2023-06-08T10:10:05.766Z"
   },
   {
    "duration": 219,
    "start_time": "2023-06-08T10:10:05.770Z"
   },
   {
    "duration": 19,
    "start_time": "2023-06-08T10:10:06.003Z"
   },
   {
    "duration": 88,
    "start_time": "2023-06-08T10:10:06.024Z"
   },
   {
    "duration": 39,
    "start_time": "2023-06-08T10:10:06.114Z"
   },
   {
    "duration": 74,
    "start_time": "2023-06-08T10:10:06.155Z"
   },
   {
    "duration": 12,
    "start_time": "2023-06-08T10:10:06.231Z"
   },
   {
    "duration": 26,
    "start_time": "2023-06-08T10:10:06.245Z"
   },
   {
    "duration": 9,
    "start_time": "2023-06-08T10:10:06.273Z"
   },
   {
    "duration": 34,
    "start_time": "2023-06-08T10:10:06.284Z"
   },
   {
    "duration": 27,
    "start_time": "2023-06-08T10:10:06.321Z"
   },
   {
    "duration": 13,
    "start_time": "2023-06-08T10:10:06.350Z"
   },
   {
    "duration": 16,
    "start_time": "2023-06-08T10:10:06.365Z"
   },
   {
    "duration": 55,
    "start_time": "2023-06-08T10:10:06.383Z"
   },
   {
    "duration": 11,
    "start_time": "2023-06-08T10:10:06.440Z"
   },
   {
    "duration": 12,
    "start_time": "2023-06-08T10:10:06.453Z"
   },
   {
    "duration": 168,
    "start_time": "2023-06-08T10:10:06.466Z"
   },
   {
    "duration": 7,
    "start_time": "2023-06-08T10:10:06.636Z"
   },
   {
    "duration": 10,
    "start_time": "2023-06-08T10:10:06.644Z"
   },
   {
    "duration": 86,
    "start_time": "2023-06-08T10:10:06.655Z"
   },
   {
    "duration": 5,
    "start_time": "2023-06-08T10:10:06.742Z"
   },
   {
    "duration": 159,
    "start_time": "2023-06-08T10:10:06.748Z"
   },
   {
    "duration": 106,
    "start_time": "2023-06-08T10:10:06.909Z"
   },
   {
    "duration": 295,
    "start_time": "2023-06-08T10:10:07.017Z"
   },
   {
    "duration": 105,
    "start_time": "2023-06-08T10:10:07.313Z"
   },
   {
    "duration": 223,
    "start_time": "2023-06-08T10:10:07.420Z"
   },
   {
    "duration": 107,
    "start_time": "2023-06-08T10:10:07.645Z"
   },
   {
    "duration": 19,
    "start_time": "2023-06-08T10:10:07.753Z"
   },
   {
    "duration": 36,
    "start_time": "2023-06-08T10:10:07.773Z"
   },
   {
    "duration": 24,
    "start_time": "2023-06-08T10:10:07.811Z"
   },
   {
    "duration": 8,
    "start_time": "2023-06-08T10:10:07.837Z"
   },
   {
    "duration": 8,
    "start_time": "2023-06-08T10:10:07.846Z"
   },
   {
    "duration": 445,
    "start_time": "2023-06-08T10:10:07.856Z"
   },
   {
    "duration": 97,
    "start_time": "2023-06-08T10:10:08.303Z"
   },
   {
    "duration": 172,
    "start_time": "2023-06-08T10:10:08.402Z"
   },
   {
    "duration": 433,
    "start_time": "2023-06-08T10:10:08.575Z"
   },
   {
    "duration": 108,
    "start_time": "2023-06-08T10:10:09.009Z"
   },
   {
    "duration": 122,
    "start_time": "2023-06-08T10:10:09.121Z"
   },
   {
    "duration": 10,
    "start_time": "2023-06-08T10:10:09.245Z"
   },
   {
    "duration": 49,
    "start_time": "2023-06-08T10:10:09.256Z"
   },
   {
    "duration": 4,
    "start_time": "2023-06-08T10:10:09.306Z"
   },
   {
    "duration": 12,
    "start_time": "2023-06-08T10:10:09.312Z"
   },
   {
    "duration": 53,
    "start_time": "2023-06-08T10:10:09.325Z"
   },
   {
    "duration": 19,
    "start_time": "2023-06-08T10:10:09.379Z"
   },
   {
    "duration": 443,
    "start_time": "2023-06-08T10:11:05.169Z"
   },
   {
    "duration": 3,
    "start_time": "2023-06-08T10:11:05.614Z"
   },
   {
    "duration": 321,
    "start_time": "2023-06-08T10:11:05.618Z"
   },
   {
    "duration": 10,
    "start_time": "2023-06-08T10:11:05.941Z"
   },
   {
    "duration": 72,
    "start_time": "2023-06-08T10:11:05.953Z"
   },
   {
    "duration": 13,
    "start_time": "2023-06-08T10:11:06.027Z"
   },
   {
    "duration": 111,
    "start_time": "2023-06-08T10:11:06.042Z"
   },
   {
    "duration": 13,
    "start_time": "2023-06-08T10:11:06.155Z"
   },
   {
    "duration": 86,
    "start_time": "2023-06-08T10:11:06.170Z"
   },
   {
    "duration": 16,
    "start_time": "2023-06-08T10:11:06.258Z"
   },
   {
    "duration": 45,
    "start_time": "2023-06-08T10:11:06.276Z"
   },
   {
    "duration": 24,
    "start_time": "2023-06-08T10:11:06.323Z"
   },
   {
    "duration": 16,
    "start_time": "2023-06-08T10:11:06.351Z"
   },
   {
    "duration": 63,
    "start_time": "2023-06-08T10:11:06.371Z"
   },
   {
    "duration": 16,
    "start_time": "2023-06-08T10:11:06.435Z"
   },
   {
    "duration": 56,
    "start_time": "2023-06-08T10:11:06.453Z"
   },
   {
    "duration": 33,
    "start_time": "2023-06-08T10:11:06.510Z"
   },
   {
    "duration": 16,
    "start_time": "2023-06-08T10:11:06.545Z"
   },
   {
    "duration": 11,
    "start_time": "2023-06-08T10:11:06.562Z"
   },
   {
    "duration": 150,
    "start_time": "2023-06-08T10:11:06.575Z"
   },
   {
    "duration": 9,
    "start_time": "2023-06-08T10:11:06.727Z"
   },
   {
    "duration": 16,
    "start_time": "2023-06-08T10:11:06.738Z"
   },
   {
    "duration": 97,
    "start_time": "2023-06-08T10:11:06.756Z"
   },
   {
    "duration": 5,
    "start_time": "2023-06-08T10:11:06.855Z"
   },
   {
    "duration": 210,
    "start_time": "2023-06-08T10:11:06.862Z"
   },
   {
    "duration": 145,
    "start_time": "2023-06-08T10:11:07.074Z"
   },
   {
    "duration": 277,
    "start_time": "2023-06-08T10:11:07.221Z"
   },
   {
    "duration": 141,
    "start_time": "2023-06-08T10:11:07.499Z"
   },
   {
    "duration": 288,
    "start_time": "2023-06-08T10:11:07.642Z"
   },
   {
    "duration": 147,
    "start_time": "2023-06-08T10:11:07.932Z"
   },
   {
    "duration": 29,
    "start_time": "2023-06-08T10:11:08.081Z"
   },
   {
    "duration": 36,
    "start_time": "2023-06-08T10:11:08.112Z"
   },
   {
    "duration": 25,
    "start_time": "2023-06-08T10:11:08.149Z"
   },
   {
    "duration": 14,
    "start_time": "2023-06-08T10:11:08.175Z"
   },
   {
    "duration": 55,
    "start_time": "2023-06-08T10:11:08.190Z"
   },
   {
    "duration": 495,
    "start_time": "2023-06-08T10:11:08.247Z"
   },
   {
    "duration": 103,
    "start_time": "2023-06-08T10:11:08.744Z"
   },
   {
    "duration": 179,
    "start_time": "2023-06-08T10:11:08.849Z"
   },
   {
    "duration": 477,
    "start_time": "2023-06-08T10:11:09.029Z"
   },
   {
    "duration": 99,
    "start_time": "2023-06-08T10:11:09.515Z"
   },
   {
    "duration": 102,
    "start_time": "2023-06-08T10:11:09.618Z"
   },
   {
    "duration": 17,
    "start_time": "2023-06-08T10:11:09.722Z"
   },
   {
    "duration": 57,
    "start_time": "2023-06-08T10:11:09.741Z"
   },
   {
    "duration": 9,
    "start_time": "2023-06-08T10:11:09.799Z"
   },
   {
    "duration": 26,
    "start_time": "2023-06-08T10:11:09.810Z"
   },
   {
    "duration": 30,
    "start_time": "2023-06-08T10:11:09.838Z"
   },
   {
    "duration": 66,
    "start_time": "2023-06-08T10:11:09.870Z"
   },
   {
    "duration": 11,
    "start_time": "2023-06-08T10:11:09.937Z"
   },
   {
    "duration": 406,
    "start_time": "2023-06-08T10:12:09.210Z"
   },
   {
    "duration": 3,
    "start_time": "2023-06-08T10:12:09.618Z"
   },
   {
    "duration": 295,
    "start_time": "2023-06-08T10:12:09.623Z"
   },
   {
    "duration": 2,
    "start_time": "2023-06-08T10:12:09.920Z"
   },
   {
    "duration": 42,
    "start_time": "2023-06-08T10:12:09.924Z"
   },
   {
    "duration": 9,
    "start_time": "2023-06-08T10:12:09.968Z"
   },
   {
    "duration": 70,
    "start_time": "2023-06-08T10:12:09.979Z"
   },
   {
    "duration": 12,
    "start_time": "2023-06-08T10:12:10.050Z"
   },
   {
    "duration": 59,
    "start_time": "2023-06-08T10:12:10.063Z"
   },
   {
    "duration": 12,
    "start_time": "2023-06-08T10:12:10.125Z"
   },
   {
    "duration": 17,
    "start_time": "2023-06-08T10:12:10.138Z"
   },
   {
    "duration": 21,
    "start_time": "2023-06-08T10:12:10.156Z"
   },
   {
    "duration": 27,
    "start_time": "2023-06-08T10:12:10.178Z"
   },
   {
    "duration": 13,
    "start_time": "2023-06-08T10:12:10.206Z"
   },
   {
    "duration": 5,
    "start_time": "2023-06-08T10:12:10.221Z"
   },
   {
    "duration": 20,
    "start_time": "2023-06-08T10:12:10.228Z"
   },
   {
    "duration": 27,
    "start_time": "2023-06-08T10:12:10.250Z"
   },
   {
    "duration": 17,
    "start_time": "2023-06-08T10:12:10.279Z"
   },
   {
    "duration": 20,
    "start_time": "2023-06-08T10:12:10.304Z"
   },
   {
    "duration": 152,
    "start_time": "2023-06-08T10:12:10.326Z"
   },
   {
    "duration": 20,
    "start_time": "2023-06-08T10:12:10.479Z"
   },
   {
    "duration": 19,
    "start_time": "2023-06-08T10:12:10.501Z"
   },
   {
    "duration": 64,
    "start_time": "2023-06-08T10:12:10.521Z"
   },
   {
    "duration": 18,
    "start_time": "2023-06-08T10:12:10.586Z"
   },
   {
    "duration": 170,
    "start_time": "2023-06-08T10:12:10.606Z"
   },
   {
    "duration": 113,
    "start_time": "2023-06-08T10:12:10.778Z"
   },
   {
    "duration": 250,
    "start_time": "2023-06-08T10:12:10.895Z"
   },
   {
    "duration": 111,
    "start_time": "2023-06-08T10:12:11.148Z"
   },
   {
    "duration": 218,
    "start_time": "2023-06-08T10:12:11.260Z"
   },
   {
    "duration": 98,
    "start_time": "2023-06-08T10:12:11.479Z"
   },
   {
    "duration": 29,
    "start_time": "2023-06-08T10:12:11.591Z"
   },
   {
    "duration": 24,
    "start_time": "2023-06-08T10:12:11.622Z"
   },
   {
    "duration": 20,
    "start_time": "2023-06-08T10:12:11.648Z"
   },
   {
    "duration": 66,
    "start_time": "2023-06-08T10:12:11.669Z"
   },
   {
    "duration": 18,
    "start_time": "2023-06-08T10:12:11.736Z"
   },
   {
    "duration": 474,
    "start_time": "2023-06-08T10:12:11.756Z"
   },
   {
    "duration": 93,
    "start_time": "2023-06-08T10:12:12.232Z"
   },
   {
    "duration": 170,
    "start_time": "2023-06-08T10:12:12.326Z"
   },
   {
    "duration": 438,
    "start_time": "2023-06-08T10:12:12.498Z"
   },
   {
    "duration": 110,
    "start_time": "2023-06-08T10:12:12.938Z"
   },
   {
    "duration": 103,
    "start_time": "2023-06-08T10:12:13.050Z"
   },
   {
    "duration": 11,
    "start_time": "2023-06-08T10:12:13.155Z"
   },
   {
    "duration": 66,
    "start_time": "2023-06-08T10:12:13.168Z"
   },
   {
    "duration": 5,
    "start_time": "2023-06-08T10:12:13.235Z"
   },
   {
    "duration": 14,
    "start_time": "2023-06-08T10:12:13.242Z"
   },
   {
    "duration": 46,
    "start_time": "2023-06-08T10:12:13.257Z"
   },
   {
    "duration": 53,
    "start_time": "2023-06-08T10:12:13.305Z"
   },
   {
    "duration": 11,
    "start_time": "2023-06-08T10:12:13.360Z"
   },
   {
    "duration": 378,
    "start_time": "2023-06-08T10:12:27.525Z"
   },
   {
    "duration": 4,
    "start_time": "2023-06-08T10:12:27.905Z"
   },
   {
    "duration": 255,
    "start_time": "2023-06-08T10:12:27.911Z"
   },
   {
    "duration": 2,
    "start_time": "2023-06-08T10:12:28.168Z"
   },
   {
    "duration": 50,
    "start_time": "2023-06-08T10:12:28.173Z"
   },
   {
    "duration": 15,
    "start_time": "2023-06-08T10:12:28.224Z"
   },
   {
    "duration": 62,
    "start_time": "2023-06-08T10:12:28.241Z"
   },
   {
    "duration": 10,
    "start_time": "2023-06-08T10:12:28.305Z"
   },
   {
    "duration": 27,
    "start_time": "2023-06-08T10:12:28.316Z"
   },
   {
    "duration": 11,
    "start_time": "2023-06-08T10:12:28.344Z"
   },
   {
    "duration": 12,
    "start_time": "2023-06-08T10:12:28.357Z"
   },
   {
    "duration": 8,
    "start_time": "2023-06-08T10:12:28.370Z"
   },
   {
    "duration": 41,
    "start_time": "2023-06-08T10:12:28.380Z"
   },
   {
    "duration": 8,
    "start_time": "2023-06-08T10:12:28.424Z"
   },
   {
    "duration": 8,
    "start_time": "2023-06-08T10:12:28.433Z"
   },
   {
    "duration": 12,
    "start_time": "2023-06-08T10:12:28.442Z"
   },
   {
    "duration": 47,
    "start_time": "2023-06-08T10:12:28.455Z"
   },
   {
    "duration": 19,
    "start_time": "2023-06-08T10:12:28.505Z"
   },
   {
    "duration": 19,
    "start_time": "2023-06-08T10:12:28.526Z"
   },
   {
    "duration": 201,
    "start_time": "2023-06-08T10:12:28.547Z"
   },
   {
    "duration": 9,
    "start_time": "2023-06-08T10:12:28.751Z"
   },
   {
    "duration": 16,
    "start_time": "2023-06-08T10:12:28.761Z"
   },
   {
    "duration": 89,
    "start_time": "2023-06-08T10:12:28.778Z"
   },
   {
    "duration": 6,
    "start_time": "2023-06-08T10:12:28.868Z"
   },
   {
    "duration": 144,
    "start_time": "2023-06-08T10:12:28.875Z"
   },
   {
    "duration": 101,
    "start_time": "2023-06-08T10:12:29.021Z"
   },
   {
    "duration": 278,
    "start_time": "2023-06-08T10:12:29.124Z"
   },
   {
    "duration": 106,
    "start_time": "2023-06-08T10:12:29.404Z"
   },
   {
    "duration": 214,
    "start_time": "2023-06-08T10:12:29.512Z"
   },
   {
    "duration": 111,
    "start_time": "2023-06-08T10:12:29.728Z"
   },
   {
    "duration": 20,
    "start_time": "2023-06-08T10:12:29.841Z"
   },
   {
    "duration": 44,
    "start_time": "2023-06-08T10:12:29.862Z"
   },
   {
    "duration": 18,
    "start_time": "2023-06-08T10:12:29.908Z"
   },
   {
    "duration": 9,
    "start_time": "2023-06-08T10:12:29.927Z"
   },
   {
    "duration": 16,
    "start_time": "2023-06-08T10:12:29.937Z"
   },
   {
    "duration": 491,
    "start_time": "2023-06-08T10:12:29.955Z"
   },
   {
    "duration": 111,
    "start_time": "2023-06-08T10:12:30.448Z"
   },
   {
    "duration": 188,
    "start_time": "2023-06-08T10:12:30.561Z"
   },
   {
    "duration": 471,
    "start_time": "2023-06-08T10:12:30.750Z"
   },
   {
    "duration": 119,
    "start_time": "2023-06-08T10:12:31.223Z"
   },
   {
    "duration": 126,
    "start_time": "2023-06-08T10:12:31.346Z"
   },
   {
    "duration": 104,
    "start_time": "2023-06-08T10:12:31.474Z"
   },
   {
    "duration": 132,
    "start_time": "2023-06-08T10:12:31.580Z"
   },
   {
    "duration": 127,
    "start_time": "2023-06-08T10:12:31.714Z"
   },
   {
    "duration": 109,
    "start_time": "2023-06-08T10:12:31.843Z"
   },
   {
    "duration": 70,
    "start_time": "2023-06-08T10:12:31.954Z"
   },
   {
    "duration": 51,
    "start_time": "2023-06-08T10:12:32.026Z"
   },
   {
    "duration": 40,
    "start_time": "2023-06-08T10:12:32.078Z"
   },
   {
    "duration": 9,
    "start_time": "2023-06-08T10:12:49.700Z"
   },
   {
    "duration": 14,
    "start_time": "2023-06-08T10:13:07.945Z"
   },
   {
    "duration": 14,
    "start_time": "2023-06-08T10:13:27.997Z"
   },
   {
    "duration": 26,
    "start_time": "2023-06-08T10:15:09.477Z"
   },
   {
    "duration": 23,
    "start_time": "2023-06-08T10:16:07.730Z"
   },
   {
    "duration": 26,
    "start_time": "2023-06-08T10:16:28.334Z"
   },
   {
    "duration": 4,
    "start_time": "2023-06-08T10:17:59.043Z"
   },
   {
    "duration": 420,
    "start_time": "2023-06-08T10:18:23.649Z"
   },
   {
    "duration": 2,
    "start_time": "2023-06-08T10:18:24.071Z"
   },
   {
    "duration": 308,
    "start_time": "2023-06-08T10:18:24.088Z"
   },
   {
    "duration": 4,
    "start_time": "2023-06-08T10:18:24.400Z"
   },
   {
    "duration": 56,
    "start_time": "2023-06-08T10:18:24.406Z"
   },
   {
    "duration": 9,
    "start_time": "2023-06-08T10:18:24.464Z"
   },
   {
    "duration": 41,
    "start_time": "2023-06-08T10:18:24.474Z"
   },
   {
    "duration": 9,
    "start_time": "2023-06-08T10:18:24.516Z"
   },
   {
    "duration": 19,
    "start_time": "2023-06-08T10:18:24.526Z"
   },
   {
    "duration": 9,
    "start_time": "2023-06-08T10:18:24.547Z"
   },
   {
    "duration": 49,
    "start_time": "2023-06-08T10:18:24.558Z"
   },
   {
    "duration": 24,
    "start_time": "2023-06-08T10:18:24.609Z"
   },
   {
    "duration": 19,
    "start_time": "2023-06-08T10:18:24.634Z"
   },
   {
    "duration": 11,
    "start_time": "2023-06-08T10:18:24.656Z"
   },
   {
    "duration": 9,
    "start_time": "2023-06-08T10:18:24.668Z"
   },
   {
    "duration": 27,
    "start_time": "2023-06-08T10:18:24.679Z"
   },
   {
    "duration": 14,
    "start_time": "2023-06-08T10:18:24.708Z"
   },
   {
    "duration": 8,
    "start_time": "2023-06-08T10:18:24.723Z"
   },
   {
    "duration": 27,
    "start_time": "2023-06-08T10:18:24.732Z"
   },
   {
    "duration": 152,
    "start_time": "2023-06-08T10:18:24.760Z"
   },
   {
    "duration": 6,
    "start_time": "2023-06-08T10:18:24.914Z"
   },
   {
    "duration": 18,
    "start_time": "2023-06-08T10:18:24.922Z"
   },
   {
    "duration": 89,
    "start_time": "2023-06-08T10:18:24.942Z"
   },
   {
    "duration": 6,
    "start_time": "2023-06-08T10:18:25.033Z"
   },
   {
    "duration": 160,
    "start_time": "2023-06-08T10:18:25.040Z"
   },
   {
    "duration": 95,
    "start_time": "2023-06-08T10:18:25.202Z"
   },
   {
    "duration": 260,
    "start_time": "2023-06-08T10:18:25.299Z"
   },
   {
    "duration": 118,
    "start_time": "2023-06-08T10:18:25.561Z"
   },
   {
    "duration": 227,
    "start_time": "2023-06-08T10:18:25.680Z"
   },
   {
    "duration": 107,
    "start_time": "2023-06-08T10:18:25.909Z"
   },
   {
    "duration": 22,
    "start_time": "2023-06-08T10:18:26.018Z"
   },
   {
    "duration": 20,
    "start_time": "2023-06-08T10:18:26.041Z"
   },
   {
    "duration": 47,
    "start_time": "2023-06-08T10:18:26.063Z"
   },
   {
    "duration": 10,
    "start_time": "2023-06-08T10:18:26.112Z"
   },
   {
    "duration": 7,
    "start_time": "2023-06-08T10:18:26.123Z"
   },
   {
    "duration": 534,
    "start_time": "2023-06-08T10:18:26.131Z"
   },
   {
    "duration": 108,
    "start_time": "2023-06-08T10:18:26.667Z"
   },
   {
    "duration": 166,
    "start_time": "2023-06-08T10:18:26.776Z"
   },
   {
    "duration": 456,
    "start_time": "2023-06-08T10:18:26.944Z"
   },
   {
    "duration": 127,
    "start_time": "2023-06-08T10:18:27.402Z"
   },
   {
    "duration": 103,
    "start_time": "2023-06-08T10:18:27.532Z"
   },
   {
    "duration": 72,
    "start_time": "2023-06-08T10:18:27.637Z"
   },
   {
    "duration": 61,
    "start_time": "2023-06-08T10:18:27.711Z"
   },
   {
    "duration": 125,
    "start_time": "2023-06-08T10:18:27.774Z"
   },
   {
    "duration": 28,
    "start_time": "2023-06-08T10:18:27.900Z"
   },
   {
    "duration": 8,
    "start_time": "2023-06-08T10:19:32.247Z"
   },
   {
    "duration": 13,
    "start_time": "2023-06-08T10:20:38.523Z"
   },
   {
    "duration": 13,
    "start_time": "2023-06-08T10:22:55.538Z"
   },
   {
    "duration": 90,
    "start_time": "2023-06-08T10:27:43.484Z"
   },
   {
    "duration": 5,
    "start_time": "2023-06-08T10:28:01.378Z"
   },
   {
    "duration": 12,
    "start_time": "2023-06-08T10:28:03.096Z"
   },
   {
    "duration": 12,
    "start_time": "2023-06-08T10:29:19.857Z"
   },
   {
    "duration": 4410,
    "start_time": "2023-06-08T10:29:57.601Z"
   },
   {
    "duration": 405,
    "start_time": "2023-06-08T10:30:13.162Z"
   },
   {
    "duration": 2,
    "start_time": "2023-06-08T10:30:13.569Z"
   },
   {
    "duration": 268,
    "start_time": "2023-06-08T10:30:13.573Z"
   },
   {
    "duration": 2,
    "start_time": "2023-06-08T10:30:13.843Z"
   },
   {
    "duration": 46,
    "start_time": "2023-06-08T10:30:13.848Z"
   },
   {
    "duration": 18,
    "start_time": "2023-06-08T10:30:13.895Z"
   },
   {
    "duration": 56,
    "start_time": "2023-06-08T10:30:13.915Z"
   },
   {
    "duration": 30,
    "start_time": "2023-06-08T10:30:13.973Z"
   },
   {
    "duration": 31,
    "start_time": "2023-06-08T10:30:14.004Z"
   },
   {
    "duration": 10,
    "start_time": "2023-06-08T10:30:14.036Z"
   },
   {
    "duration": 9,
    "start_time": "2023-06-08T10:30:14.047Z"
   },
   {
    "duration": 6,
    "start_time": "2023-06-08T10:30:14.058Z"
   },
   {
    "duration": 8,
    "start_time": "2023-06-08T10:30:14.066Z"
   },
   {
    "duration": 30,
    "start_time": "2023-06-08T10:30:14.078Z"
   },
   {
    "duration": 12,
    "start_time": "2023-06-08T10:30:14.110Z"
   },
   {
    "duration": 14,
    "start_time": "2023-06-08T10:30:14.124Z"
   },
   {
    "duration": 21,
    "start_time": "2023-06-08T10:30:14.139Z"
   },
   {
    "duration": 8,
    "start_time": "2023-06-08T10:30:14.162Z"
   },
   {
    "duration": 37,
    "start_time": "2023-06-08T10:30:14.171Z"
   },
   {
    "duration": 152,
    "start_time": "2023-06-08T10:30:14.210Z"
   },
   {
    "duration": 7,
    "start_time": "2023-06-08T10:30:14.363Z"
   },
   {
    "duration": 8,
    "start_time": "2023-06-08T10:30:14.371Z"
   },
   {
    "duration": 106,
    "start_time": "2023-06-08T10:30:14.392Z"
   },
   {
    "duration": 6,
    "start_time": "2023-06-08T10:30:14.500Z"
   },
   {
    "duration": 135,
    "start_time": "2023-06-08T10:30:14.508Z"
   },
   {
    "duration": 94,
    "start_time": "2023-06-08T10:30:14.645Z"
   },
   {
    "duration": 381,
    "start_time": "2023-06-08T10:30:14.741Z"
   },
   {
    "duration": 110,
    "start_time": "2023-06-08T10:30:15.124Z"
   },
   {
    "duration": 218,
    "start_time": "2023-06-08T10:30:15.235Z"
   },
   {
    "duration": 152,
    "start_time": "2023-06-08T10:30:15.455Z"
   },
   {
    "duration": 22,
    "start_time": "2023-06-08T10:30:15.608Z"
   },
   {
    "duration": 26,
    "start_time": "2023-06-08T10:30:15.632Z"
   },
   {
    "duration": 44,
    "start_time": "2023-06-08T10:30:15.660Z"
   },
   {
    "duration": 10,
    "start_time": "2023-06-08T10:30:15.706Z"
   },
   {
    "duration": 20,
    "start_time": "2023-06-08T10:30:15.717Z"
   },
   {
    "duration": 491,
    "start_time": "2023-06-08T10:30:15.738Z"
   },
   {
    "duration": 112,
    "start_time": "2023-06-08T10:30:16.231Z"
   },
   {
    "duration": 197,
    "start_time": "2023-06-08T10:30:16.345Z"
   },
   {
    "duration": 426,
    "start_time": "2023-06-08T10:30:16.544Z"
   },
   {
    "duration": 119,
    "start_time": "2023-06-08T10:30:16.971Z"
   },
   {
    "duration": 105,
    "start_time": "2023-06-08T10:30:17.093Z"
   },
   {
    "duration": 11,
    "start_time": "2023-06-08T10:30:17.206Z"
   },
   {
    "duration": 46,
    "start_time": "2023-06-08T10:30:17.219Z"
   },
   {
    "duration": 31,
    "start_time": "2023-06-08T10:30:17.267Z"
   },
   {
    "duration": 22,
    "start_time": "2023-06-08T10:30:17.304Z"
   },
   {
    "duration": 3771,
    "start_time": "2023-06-08T10:30:17.328Z"
   },
   {
    "duration": 0,
    "start_time": "2023-06-08T10:30:21.101Z"
   },
   {
    "duration": 0,
    "start_time": "2023-06-08T10:30:21.102Z"
   },
   {
    "duration": 0,
    "start_time": "2023-06-08T10:30:21.104Z"
   },
   {
    "duration": 16,
    "start_time": "2023-06-08T10:30:29.464Z"
   },
   {
    "duration": 10,
    "start_time": "2023-06-08T10:30:33.361Z"
   },
   {
    "duration": 6,
    "start_time": "2023-06-08T10:30:42.103Z"
   },
   {
    "duration": 8,
    "start_time": "2023-06-08T10:30:43.743Z"
   },
   {
    "duration": 11,
    "start_time": "2023-06-08T10:30:51.646Z"
   },
   {
    "duration": 12,
    "start_time": "2023-06-08T10:31:14.098Z"
   },
   {
    "duration": 12,
    "start_time": "2023-06-08T10:31:25.658Z"
   },
   {
    "duration": 5,
    "start_time": "2023-06-08T10:35:49.977Z"
   },
   {
    "duration": 4,
    "start_time": "2023-06-08T10:36:01.165Z"
   },
   {
    "duration": 5,
    "start_time": "2023-06-08T10:38:05.248Z"
   },
   {
    "duration": 5,
    "start_time": "2023-06-08T10:38:15.477Z"
   },
   {
    "duration": 5,
    "start_time": "2023-06-08T10:43:00.547Z"
   },
   {
    "duration": 5,
    "start_time": "2023-06-08T10:43:05.110Z"
   },
   {
    "duration": 126,
    "start_time": "2023-06-08T10:47:13.132Z"
   },
   {
    "duration": 131,
    "start_time": "2023-06-08T10:47:18.215Z"
   },
   {
    "duration": 126,
    "start_time": "2023-06-08T10:47:33.818Z"
   },
   {
    "duration": 273,
    "start_time": "2023-06-08T10:47:41.546Z"
   },
   {
    "duration": 3044,
    "start_time": "2023-06-08T10:48:36.724Z"
   },
   {
    "duration": 204,
    "start_time": "2023-06-08T10:48:48.029Z"
   },
   {
    "duration": 13,
    "start_time": "2023-06-08T10:53:24.448Z"
   },
   {
    "duration": 10,
    "start_time": "2023-06-08T10:53:57.211Z"
   },
   {
    "duration": 10,
    "start_time": "2023-06-08T10:54:12.861Z"
   },
   {
    "duration": 4,
    "start_time": "2023-06-08T10:54:45.311Z"
   },
   {
    "duration": 132,
    "start_time": "2023-06-08T10:57:41.582Z"
   },
   {
    "duration": 188,
    "start_time": "2023-06-08T10:58:03.465Z"
   },
   {
    "duration": 154,
    "start_time": "2023-06-08T10:58:09.619Z"
   },
   {
    "duration": 138,
    "start_time": "2023-06-08T10:58:37.315Z"
   },
   {
    "duration": 137,
    "start_time": "2023-06-08T10:58:55.065Z"
   },
   {
    "duration": 112,
    "start_time": "2023-06-08T10:59:24.808Z"
   },
   {
    "duration": 125,
    "start_time": "2023-06-08T10:59:39.207Z"
   },
   {
    "duration": 218,
    "start_time": "2023-06-08T10:59:52.234Z"
   },
   {
    "duration": 171,
    "start_time": "2023-06-08T11:00:32.959Z"
   },
   {
    "duration": 123,
    "start_time": "2023-06-08T11:02:20.216Z"
   },
   {
    "duration": 106,
    "start_time": "2023-06-08T11:02:29.111Z"
   },
   {
    "duration": 120,
    "start_time": "2023-06-08T11:02:33.755Z"
   },
   {
    "duration": 111,
    "start_time": "2023-06-08T11:02:40.307Z"
   },
   {
    "duration": 167,
    "start_time": "2023-06-08T11:02:54.002Z"
   },
   {
    "duration": 180,
    "start_time": "2023-06-08T11:03:11.349Z"
   },
   {
    "duration": 155,
    "start_time": "2023-06-08T11:03:20.657Z"
   },
   {
    "duration": 175,
    "start_time": "2023-06-08T11:03:40.363Z"
   },
   {
    "duration": 131,
    "start_time": "2023-06-08T11:04:38.832Z"
   },
   {
    "duration": 174,
    "start_time": "2023-06-08T11:04:45.258Z"
   },
   {
    "duration": 225,
    "start_time": "2023-06-08T11:05:11.652Z"
   },
   {
    "duration": 180,
    "start_time": "2023-06-08T11:05:25.473Z"
   },
   {
    "duration": 176,
    "start_time": "2023-06-08T11:05:43.876Z"
   },
   {
    "duration": 234,
    "start_time": "2023-06-08T11:06:07.127Z"
   },
   {
    "duration": 221,
    "start_time": "2023-06-08T11:06:17.782Z"
   },
   {
    "duration": 217,
    "start_time": "2023-06-08T11:06:29.961Z"
   },
   {
    "duration": 143,
    "start_time": "2023-06-08T11:06:37.856Z"
   },
   {
    "duration": 173,
    "start_time": "2023-06-08T11:06:42.167Z"
   },
   {
    "duration": 224,
    "start_time": "2023-06-08T11:06:49.153Z"
   },
   {
    "duration": 209,
    "start_time": "2023-06-08T11:06:54.163Z"
   },
   {
    "duration": 32,
    "start_time": "2023-06-08T11:16:32.099Z"
   },
   {
    "duration": 14,
    "start_time": "2023-06-08T11:16:36.331Z"
   },
   {
    "duration": 20,
    "start_time": "2023-06-08T11:17:00.850Z"
   },
   {
    "duration": 14,
    "start_time": "2023-06-08T11:17:34.341Z"
   },
   {
    "duration": 6,
    "start_time": "2023-06-08T11:17:51.837Z"
   },
   {
    "duration": 7,
    "start_time": "2023-06-08T11:18:18.854Z"
   },
   {
    "duration": 128,
    "start_time": "2023-06-08T11:18:29.625Z"
   },
   {
    "duration": 7,
    "start_time": "2023-06-08T11:18:36.034Z"
   },
   {
    "duration": 17,
    "start_time": "2023-06-08T11:18:57.177Z"
   },
   {
    "duration": 130,
    "start_time": "2023-06-08T11:19:22.068Z"
   },
   {
    "duration": 166,
    "start_time": "2023-06-08T11:19:30.844Z"
   },
   {
    "duration": 140,
    "start_time": "2023-06-08T11:19:37.801Z"
   },
   {
    "duration": 164,
    "start_time": "2023-06-08T11:20:16.215Z"
   },
   {
    "duration": 180,
    "start_time": "2023-06-08T11:20:28.259Z"
   },
   {
    "duration": 150,
    "start_time": "2023-06-08T11:20:48.411Z"
   },
   {
    "duration": 219,
    "start_time": "2023-06-08T11:21:39.330Z"
   },
   {
    "duration": 244,
    "start_time": "2023-06-08T11:21:47.153Z"
   },
   {
    "duration": 160,
    "start_time": "2023-06-08T11:22:05.058Z"
   },
   {
    "duration": 144,
    "start_time": "2023-06-08T11:23:47.083Z"
   },
   {
    "duration": 126,
    "start_time": "2023-06-08T11:24:16.455Z"
   },
   {
    "duration": 129,
    "start_time": "2023-06-08T11:24:29.963Z"
   },
   {
    "duration": 377,
    "start_time": "2023-06-08T11:29:05.450Z"
   },
   {
    "duration": 3,
    "start_time": "2023-06-08T11:29:05.829Z"
   },
   {
    "duration": 267,
    "start_time": "2023-06-08T11:29:05.833Z"
   },
   {
    "duration": 8,
    "start_time": "2023-06-08T11:29:06.102Z"
   },
   {
    "duration": 71,
    "start_time": "2023-06-08T11:29:06.111Z"
   },
   {
    "duration": 34,
    "start_time": "2023-06-08T11:29:06.184Z"
   },
   {
    "duration": 86,
    "start_time": "2023-06-08T11:29:06.219Z"
   },
   {
    "duration": 32,
    "start_time": "2023-06-08T11:29:06.310Z"
   },
   {
    "duration": 31,
    "start_time": "2023-06-08T11:29:06.344Z"
   },
   {
    "duration": 27,
    "start_time": "2023-06-08T11:29:06.378Z"
   },
   {
    "duration": 42,
    "start_time": "2023-06-08T11:29:06.415Z"
   },
   {
    "duration": 20,
    "start_time": "2023-06-08T11:29:06.459Z"
   },
   {
    "duration": 48,
    "start_time": "2023-06-08T11:29:06.481Z"
   },
   {
    "duration": 25,
    "start_time": "2023-06-08T11:29:06.531Z"
   },
   {
    "duration": 15,
    "start_time": "2023-06-08T11:29:06.558Z"
   },
   {
    "duration": 61,
    "start_time": "2023-06-08T11:29:06.575Z"
   },
   {
    "duration": 37,
    "start_time": "2023-06-08T11:29:06.639Z"
   },
   {
    "duration": 54,
    "start_time": "2023-06-08T11:29:06.678Z"
   },
   {
    "duration": 19,
    "start_time": "2023-06-08T11:29:06.734Z"
   },
   {
    "duration": 191,
    "start_time": "2023-06-08T11:29:06.755Z"
   },
   {
    "duration": 8,
    "start_time": "2023-06-08T11:29:06.948Z"
   },
   {
    "duration": 41,
    "start_time": "2023-06-08T11:29:06.958Z"
   },
   {
    "duration": 118,
    "start_time": "2023-06-08T11:29:07.001Z"
   },
   {
    "duration": 5,
    "start_time": "2023-06-08T11:29:07.124Z"
   },
   {
    "duration": 145,
    "start_time": "2023-06-08T11:29:07.131Z"
   },
   {
    "duration": 98,
    "start_time": "2023-06-08T11:29:07.278Z"
   },
   {
    "duration": 268,
    "start_time": "2023-06-08T11:29:07.378Z"
   },
   {
    "duration": 108,
    "start_time": "2023-06-08T11:29:07.650Z"
   },
   {
    "duration": 243,
    "start_time": "2023-06-08T11:29:07.759Z"
   },
   {
    "duration": 114,
    "start_time": "2023-06-08T11:29:08.010Z"
   },
   {
    "duration": 20,
    "start_time": "2023-06-08T11:29:08.125Z"
   },
   {
    "duration": 21,
    "start_time": "2023-06-08T11:29:08.147Z"
   },
   {
    "duration": 41,
    "start_time": "2023-06-08T11:29:08.170Z"
   },
   {
    "duration": 20,
    "start_time": "2023-06-08T11:29:08.212Z"
   },
   {
    "duration": 28,
    "start_time": "2023-06-08T11:29:08.234Z"
   },
   {
    "duration": 461,
    "start_time": "2023-06-08T11:29:08.264Z"
   },
   {
    "duration": 111,
    "start_time": "2023-06-08T11:29:08.727Z"
   },
   {
    "duration": 163,
    "start_time": "2023-06-08T11:29:08.839Z"
   },
   {
    "duration": 436,
    "start_time": "2023-06-08T11:29:09.003Z"
   },
   {
    "duration": 129,
    "start_time": "2023-06-08T11:29:09.440Z"
   },
   {
    "duration": 109,
    "start_time": "2023-06-08T11:29:09.571Z"
   },
   {
    "duration": 33,
    "start_time": "2023-06-08T11:29:09.681Z"
   },
   {
    "duration": 32,
    "start_time": "2023-06-08T11:29:09.721Z"
   },
   {
    "duration": 29,
    "start_time": "2023-06-08T11:29:09.754Z"
   },
   {
    "duration": 42,
    "start_time": "2023-06-08T11:29:09.784Z"
   },
   {
    "duration": 20,
    "start_time": "2023-06-08T11:29:09.827Z"
   },
   {
    "duration": 13,
    "start_time": "2023-06-08T11:29:09.849Z"
   },
   {
    "duration": 17,
    "start_time": "2023-06-08T11:29:09.864Z"
   },
   {
    "duration": 28,
    "start_time": "2023-06-08T11:29:09.882Z"
   },
   {
    "duration": 13,
    "start_time": "2023-06-08T11:29:09.920Z"
   },
   {
    "duration": 22,
    "start_time": "2023-06-08T11:29:09.935Z"
   },
   {
    "duration": 10,
    "start_time": "2023-06-08T11:29:09.958Z"
   },
   {
    "duration": 244,
    "start_time": "2023-06-08T11:29:09.970Z"
   },
   {
    "duration": 9,
    "start_time": "2023-06-08T11:29:10.215Z"
   },
   {
    "duration": 11,
    "start_time": "2023-06-08T11:29:10.226Z"
   },
   {
    "duration": 132,
    "start_time": "2023-06-08T11:29:10.238Z"
   },
   {
    "duration": 169,
    "start_time": "2023-06-08T11:29:10.372Z"
   },
   {
    "duration": 198,
    "start_time": "2023-06-08T11:29:10.542Z"
   },
   {
    "duration": 11,
    "start_time": "2023-06-08T13:01:53.557Z"
   },
   {
    "duration": 57,
    "start_time": "2023-06-08T13:02:48.420Z"
   },
   {
    "duration": 514,
    "start_time": "2023-06-08T13:03:08.108Z"
   },
   {
    "duration": 3,
    "start_time": "2023-06-08T13:03:08.625Z"
   },
   {
    "duration": 280,
    "start_time": "2023-06-08T13:03:08.630Z"
   },
   {
    "duration": 7,
    "start_time": "2023-06-08T13:03:08.911Z"
   },
   {
    "duration": 16,
    "start_time": "2023-06-08T13:03:08.923Z"
   },
   {
    "duration": 141,
    "start_time": "2023-06-08T13:03:08.941Z"
   },
   {
    "duration": 0,
    "start_time": "2023-06-08T13:03:09.098Z"
   },
   {
    "duration": 0,
    "start_time": "2023-06-08T13:03:09.099Z"
   },
   {
    "duration": 0,
    "start_time": "2023-06-08T13:03:09.101Z"
   },
   {
    "duration": 0,
    "start_time": "2023-06-08T13:03:09.106Z"
   },
   {
    "duration": 0,
    "start_time": "2023-06-08T13:03:09.107Z"
   },
   {
    "duration": 0,
    "start_time": "2023-06-08T13:03:09.108Z"
   },
   {
    "duration": 0,
    "start_time": "2023-06-08T13:03:09.115Z"
   },
   {
    "duration": 0,
    "start_time": "2023-06-08T13:03:09.116Z"
   },
   {
    "duration": 0,
    "start_time": "2023-06-08T13:03:09.117Z"
   },
   {
    "duration": 0,
    "start_time": "2023-06-08T13:03:09.119Z"
   },
   {
    "duration": 0,
    "start_time": "2023-06-08T13:03:09.120Z"
   },
   {
    "duration": 0,
    "start_time": "2023-06-08T13:03:09.122Z"
   },
   {
    "duration": 0,
    "start_time": "2023-06-08T13:03:09.123Z"
   },
   {
    "duration": 0,
    "start_time": "2023-06-08T13:03:09.124Z"
   },
   {
    "duration": 0,
    "start_time": "2023-06-08T13:03:09.125Z"
   },
   {
    "duration": 0,
    "start_time": "2023-06-08T13:03:09.126Z"
   },
   {
    "duration": 0,
    "start_time": "2023-06-08T13:03:09.127Z"
   },
   {
    "duration": 0,
    "start_time": "2023-06-08T13:03:09.129Z"
   },
   {
    "duration": 0,
    "start_time": "2023-06-08T13:03:09.130Z"
   },
   {
    "duration": 0,
    "start_time": "2023-06-08T13:03:09.130Z"
   },
   {
    "duration": 0,
    "start_time": "2023-06-08T13:03:09.132Z"
   },
   {
    "duration": 0,
    "start_time": "2023-06-08T13:03:09.133Z"
   },
   {
    "duration": 0,
    "start_time": "2023-06-08T13:03:09.133Z"
   },
   {
    "duration": 0,
    "start_time": "2023-06-08T13:03:09.134Z"
   },
   {
    "duration": 0,
    "start_time": "2023-06-08T13:03:09.135Z"
   },
   {
    "duration": 0,
    "start_time": "2023-06-08T13:03:09.136Z"
   },
   {
    "duration": 0,
    "start_time": "2023-06-08T13:03:09.137Z"
   },
   {
    "duration": 0,
    "start_time": "2023-06-08T13:03:09.138Z"
   },
   {
    "duration": 0,
    "start_time": "2023-06-08T13:03:09.139Z"
   },
   {
    "duration": 0,
    "start_time": "2023-06-08T13:03:09.140Z"
   },
   {
    "duration": 0,
    "start_time": "2023-06-08T13:03:09.141Z"
   },
   {
    "duration": 0,
    "start_time": "2023-06-08T13:03:09.142Z"
   },
   {
    "duration": 0,
    "start_time": "2023-06-08T13:03:09.142Z"
   },
   {
    "duration": 0,
    "start_time": "2023-06-08T13:03:09.143Z"
   },
   {
    "duration": 0,
    "start_time": "2023-06-08T13:03:09.144Z"
   },
   {
    "duration": 0,
    "start_time": "2023-06-08T13:03:09.145Z"
   },
   {
    "duration": 0,
    "start_time": "2023-06-08T13:03:09.146Z"
   },
   {
    "duration": 0,
    "start_time": "2023-06-08T13:03:09.147Z"
   },
   {
    "duration": 0,
    "start_time": "2023-06-08T13:03:09.148Z"
   },
   {
    "duration": 1,
    "start_time": "2023-06-08T13:03:09.149Z"
   },
   {
    "duration": 0,
    "start_time": "2023-06-08T13:03:09.151Z"
   },
   {
    "duration": 0,
    "start_time": "2023-06-08T13:03:09.186Z"
   },
   {
    "duration": 0,
    "start_time": "2023-06-08T13:03:09.188Z"
   },
   {
    "duration": 0,
    "start_time": "2023-06-08T13:03:09.188Z"
   },
   {
    "duration": 0,
    "start_time": "2023-06-08T13:03:09.190Z"
   },
   {
    "duration": 0,
    "start_time": "2023-06-08T13:03:09.190Z"
   },
   {
    "duration": 0,
    "start_time": "2023-06-08T13:03:09.191Z"
   },
   {
    "duration": 0,
    "start_time": "2023-06-08T13:03:09.191Z"
   },
   {
    "duration": 0,
    "start_time": "2023-06-08T13:03:09.192Z"
   },
   {
    "duration": 0,
    "start_time": "2023-06-08T13:03:09.192Z"
   },
   {
    "duration": 0,
    "start_time": "2023-06-08T13:03:09.193Z"
   },
   {
    "duration": 0,
    "start_time": "2023-06-08T13:03:09.193Z"
   },
   {
    "duration": 0,
    "start_time": "2023-06-08T13:03:09.194Z"
   },
   {
    "duration": 0,
    "start_time": "2023-06-08T13:03:09.195Z"
   },
   {
    "duration": 12,
    "start_time": "2023-06-08T13:03:39.647Z"
   },
   {
    "duration": 28,
    "start_time": "2023-06-08T13:03:44.279Z"
   },
   {
    "duration": 190,
    "start_time": "2023-06-08T13:04:13.136Z"
   },
   {
    "duration": 207,
    "start_time": "2023-06-08T13:04:19.909Z"
   },
   {
    "duration": 971,
    "start_time": "2023-06-08T13:04:27.407Z"
   },
   {
    "duration": 17,
    "start_time": "2023-06-08T13:06:42.008Z"
   },
   {
    "duration": 399,
    "start_time": "2023-06-08T13:06:57.806Z"
   },
   {
    "duration": 3,
    "start_time": "2023-06-08T13:06:58.208Z"
   },
   {
    "duration": 380,
    "start_time": "2023-06-08T13:06:58.212Z"
   },
   {
    "duration": 2,
    "start_time": "2023-06-08T13:06:58.593Z"
   },
   {
    "duration": 1,
    "start_time": "2023-06-08T13:06:58.597Z"
   },
   {
    "duration": 100,
    "start_time": "2023-06-08T13:06:58.600Z"
   },
   {
    "duration": 0,
    "start_time": "2023-06-08T13:06:58.704Z"
   },
   {
    "duration": 0,
    "start_time": "2023-06-08T13:06:58.705Z"
   },
   {
    "duration": 0,
    "start_time": "2023-06-08T13:06:58.706Z"
   },
   {
    "duration": 0,
    "start_time": "2023-06-08T13:06:58.707Z"
   },
   {
    "duration": 0,
    "start_time": "2023-06-08T13:06:58.708Z"
   },
   {
    "duration": 0,
    "start_time": "2023-06-08T13:06:58.708Z"
   },
   {
    "duration": 0,
    "start_time": "2023-06-08T13:06:58.709Z"
   },
   {
    "duration": 0,
    "start_time": "2023-06-08T13:06:58.711Z"
   },
   {
    "duration": 0,
    "start_time": "2023-06-08T13:06:58.712Z"
   },
   {
    "duration": 0,
    "start_time": "2023-06-08T13:06:58.714Z"
   },
   {
    "duration": 0,
    "start_time": "2023-06-08T13:06:58.716Z"
   },
   {
    "duration": 0,
    "start_time": "2023-06-08T13:06:58.718Z"
   },
   {
    "duration": 0,
    "start_time": "2023-06-08T13:06:58.719Z"
   },
   {
    "duration": 0,
    "start_time": "2023-06-08T13:06:58.721Z"
   },
   {
    "duration": 0,
    "start_time": "2023-06-08T13:06:58.722Z"
   },
   {
    "duration": 0,
    "start_time": "2023-06-08T13:06:58.724Z"
   },
   {
    "duration": 0,
    "start_time": "2023-06-08T13:06:58.725Z"
   },
   {
    "duration": 0,
    "start_time": "2023-06-08T13:06:58.726Z"
   },
   {
    "duration": 0,
    "start_time": "2023-06-08T13:06:58.727Z"
   },
   {
    "duration": 0,
    "start_time": "2023-06-08T13:06:58.728Z"
   },
   {
    "duration": 0,
    "start_time": "2023-06-08T13:06:58.729Z"
   },
   {
    "duration": 0,
    "start_time": "2023-06-08T13:06:58.730Z"
   },
   {
    "duration": 0,
    "start_time": "2023-06-08T13:06:58.731Z"
   },
   {
    "duration": 0,
    "start_time": "2023-06-08T13:06:58.732Z"
   },
   {
    "duration": 0,
    "start_time": "2023-06-08T13:06:58.733Z"
   },
   {
    "duration": 0,
    "start_time": "2023-06-08T13:06:58.734Z"
   },
   {
    "duration": 0,
    "start_time": "2023-06-08T13:06:58.735Z"
   },
   {
    "duration": 0,
    "start_time": "2023-06-08T13:06:58.791Z"
   },
   {
    "duration": 0,
    "start_time": "2023-06-08T13:06:58.792Z"
   },
   {
    "duration": 0,
    "start_time": "2023-06-08T13:06:58.793Z"
   },
   {
    "duration": 0,
    "start_time": "2023-06-08T13:06:58.793Z"
   },
   {
    "duration": 0,
    "start_time": "2023-06-08T13:06:58.794Z"
   },
   {
    "duration": 0,
    "start_time": "2023-06-08T13:06:58.794Z"
   },
   {
    "duration": 0,
    "start_time": "2023-06-08T13:06:58.795Z"
   },
   {
    "duration": 0,
    "start_time": "2023-06-08T13:06:58.796Z"
   },
   {
    "duration": 0,
    "start_time": "2023-06-08T13:06:58.797Z"
   },
   {
    "duration": 0,
    "start_time": "2023-06-08T13:06:58.802Z"
   },
   {
    "duration": 0,
    "start_time": "2023-06-08T13:06:58.803Z"
   },
   {
    "duration": 0,
    "start_time": "2023-06-08T13:06:58.806Z"
   },
   {
    "duration": 0,
    "start_time": "2023-06-08T13:06:58.807Z"
   },
   {
    "duration": 1,
    "start_time": "2023-06-08T13:06:58.808Z"
   },
   {
    "duration": 0,
    "start_time": "2023-06-08T13:06:58.810Z"
   },
   {
    "duration": 0,
    "start_time": "2023-06-08T13:06:58.811Z"
   },
   {
    "duration": 1,
    "start_time": "2023-06-08T13:06:58.812Z"
   },
   {
    "duration": 0,
    "start_time": "2023-06-08T13:06:58.814Z"
   },
   {
    "duration": 0,
    "start_time": "2023-06-08T13:06:58.815Z"
   },
   {
    "duration": 0,
    "start_time": "2023-06-08T13:06:58.816Z"
   },
   {
    "duration": 0,
    "start_time": "2023-06-08T13:06:58.818Z"
   },
   {
    "duration": 0,
    "start_time": "2023-06-08T13:06:58.819Z"
   },
   {
    "duration": 0,
    "start_time": "2023-06-08T13:06:58.821Z"
   },
   {
    "duration": 0,
    "start_time": "2023-06-08T13:06:58.822Z"
   },
   {
    "duration": 0,
    "start_time": "2023-06-08T13:06:58.823Z"
   },
   {
    "duration": 0,
    "start_time": "2023-06-08T13:06:58.825Z"
   },
   {
    "duration": 0,
    "start_time": "2023-06-08T13:06:58.826Z"
   },
   {
    "duration": 398,
    "start_time": "2023-06-08T13:15:24.920Z"
   },
   {
    "duration": 3,
    "start_time": "2023-06-08T13:15:25.320Z"
   },
   {
    "duration": 289,
    "start_time": "2023-06-08T13:15:25.325Z"
   },
   {
    "duration": 4,
    "start_time": "2023-06-08T13:15:25.615Z"
   },
   {
    "duration": 19,
    "start_time": "2023-06-08T13:15:25.622Z"
   },
   {
    "duration": 77,
    "start_time": "2023-06-08T13:15:25.643Z"
   },
   {
    "duration": 14,
    "start_time": "2023-06-08T13:15:25.723Z"
   },
   {
    "duration": 76,
    "start_time": "2023-06-08T13:15:25.740Z"
   },
   {
    "duration": 16,
    "start_time": "2023-06-08T13:15:25.822Z"
   },
   {
    "duration": 20,
    "start_time": "2023-06-08T13:15:25.839Z"
   },
   {
    "duration": 10,
    "start_time": "2023-06-08T13:15:25.860Z"
   },
   {
    "duration": 10,
    "start_time": "2023-06-08T13:15:25.871Z"
   },
   {
    "duration": 52,
    "start_time": "2023-06-08T13:15:25.882Z"
   },
   {
    "duration": 7,
    "start_time": "2023-06-08T13:15:25.937Z"
   },
   {
    "duration": 20,
    "start_time": "2023-06-08T13:15:25.945Z"
   },
   {
    "duration": 10,
    "start_time": "2023-06-08T13:15:25.966Z"
   },
   {
    "duration": 10,
    "start_time": "2023-06-08T13:15:25.978Z"
   },
   {
    "duration": 49,
    "start_time": "2023-06-08T13:15:25.994Z"
   },
   {
    "duration": 9,
    "start_time": "2023-06-08T13:15:26.045Z"
   },
   {
    "duration": 83,
    "start_time": "2023-06-08T13:15:26.055Z"
   },
   {
    "duration": 216,
    "start_time": "2023-06-08T13:15:26.140Z"
   },
   {
    "duration": 8,
    "start_time": "2023-06-08T13:15:26.358Z"
   },
   {
    "duration": 66,
    "start_time": "2023-06-08T13:15:26.368Z"
   },
   {
    "duration": 125,
    "start_time": "2023-06-08T13:15:26.436Z"
   },
   {
    "duration": 7,
    "start_time": "2023-06-08T13:15:26.563Z"
   },
   {
    "duration": 210,
    "start_time": "2023-06-08T13:15:26.572Z"
   },
   {
    "duration": 120,
    "start_time": "2023-06-08T13:15:26.790Z"
   },
   {
    "duration": 310,
    "start_time": "2023-06-08T13:15:26.912Z"
   },
   {
    "duration": 113,
    "start_time": "2023-06-08T13:15:27.223Z"
   },
   {
    "duration": 231,
    "start_time": "2023-06-08T13:15:27.338Z"
   },
   {
    "duration": 135,
    "start_time": "2023-06-08T13:15:27.571Z"
   },
   {
    "duration": 37,
    "start_time": "2023-06-08T13:15:27.709Z"
   },
   {
    "duration": 76,
    "start_time": "2023-06-08T13:15:27.748Z"
   },
   {
    "duration": 35,
    "start_time": "2023-06-08T13:15:27.827Z"
   },
   {
    "duration": 14,
    "start_time": "2023-06-08T13:15:27.888Z"
   },
   {
    "duration": 48,
    "start_time": "2023-06-08T13:15:27.904Z"
   },
   {
    "duration": 472,
    "start_time": "2023-06-08T13:15:27.953Z"
   },
   {
    "duration": 85,
    "start_time": "2023-06-08T13:15:28.427Z"
   },
   {
    "duration": 176,
    "start_time": "2023-06-08T13:15:28.513Z"
   },
   {
    "duration": 424,
    "start_time": "2023-06-08T13:15:28.690Z"
   },
   {
    "duration": 107,
    "start_time": "2023-06-08T13:15:29.118Z"
   },
   {
    "duration": 99,
    "start_time": "2023-06-08T13:15:29.227Z"
   },
   {
    "duration": 11,
    "start_time": "2023-06-08T13:15:29.327Z"
   },
   {
    "duration": 28,
    "start_time": "2023-06-08T13:15:29.340Z"
   },
   {
    "duration": 51,
    "start_time": "2023-06-08T13:15:29.369Z"
   },
   {
    "duration": 16,
    "start_time": "2023-06-08T13:15:29.421Z"
   },
   {
    "duration": 14,
    "start_time": "2023-06-08T13:15:29.439Z"
   },
   {
    "duration": 21,
    "start_time": "2023-06-08T13:15:29.455Z"
   },
   {
    "duration": 53,
    "start_time": "2023-06-08T13:15:29.477Z"
   },
   {
    "duration": 11,
    "start_time": "2023-06-08T13:15:29.531Z"
   },
   {
    "duration": 15,
    "start_time": "2023-06-08T13:15:29.543Z"
   },
   {
    "duration": 15,
    "start_time": "2023-06-08T13:15:29.560Z"
   },
   {
    "duration": 11,
    "start_time": "2023-06-08T13:15:29.577Z"
   },
   {
    "duration": 227,
    "start_time": "2023-06-08T13:15:29.589Z"
   },
   {
    "duration": 3,
    "start_time": "2023-06-08T13:15:29.818Z"
   },
   {
    "duration": 24,
    "start_time": "2023-06-08T13:15:29.826Z"
   },
   {
    "duration": 206,
    "start_time": "2023-06-08T13:15:29.852Z"
   },
   {
    "duration": 167,
    "start_time": "2023-06-08T13:15:30.060Z"
   },
   {
    "duration": 250,
    "start_time": "2023-06-08T13:15:30.229Z"
   },
   {
    "duration": 949,
    "start_time": "2023-06-08T13:15:30.481Z"
   },
   {
    "duration": 435,
    "start_time": "2023-06-08T14:39:22.445Z"
   },
   {
    "duration": 3,
    "start_time": "2023-06-08T14:39:22.882Z"
   },
   {
    "duration": 470,
    "start_time": "2023-06-08T14:39:22.886Z"
   },
   {
    "duration": 2,
    "start_time": "2023-06-08T14:39:23.359Z"
   },
   {
    "duration": 14,
    "start_time": "2023-06-08T14:39:23.363Z"
   },
   {
    "duration": 106,
    "start_time": "2023-06-08T14:39:23.378Z"
   },
   {
    "duration": 12,
    "start_time": "2023-06-08T14:39:23.486Z"
   },
   {
    "duration": 80,
    "start_time": "2023-06-08T14:39:23.500Z"
   },
   {
    "duration": 12,
    "start_time": "2023-06-08T14:39:23.582Z"
   },
   {
    "duration": 62,
    "start_time": "2023-06-08T14:39:23.596Z"
   },
   {
    "duration": 10,
    "start_time": "2023-06-08T14:39:23.660Z"
   },
   {
    "duration": 27,
    "start_time": "2023-06-08T14:39:23.671Z"
   },
   {
    "duration": 26,
    "start_time": "2023-06-08T14:39:23.700Z"
   },
   {
    "duration": 15,
    "start_time": "2023-06-08T14:39:23.729Z"
   },
   {
    "duration": 17,
    "start_time": "2023-06-08T14:39:23.745Z"
   },
   {
    "duration": 31,
    "start_time": "2023-06-08T14:39:23.763Z"
   },
   {
    "duration": 32,
    "start_time": "2023-06-08T14:39:23.795Z"
   },
   {
    "duration": 45,
    "start_time": "2023-06-08T14:39:23.828Z"
   },
   {
    "duration": 13,
    "start_time": "2023-06-08T14:39:23.875Z"
   },
   {
    "duration": 29,
    "start_time": "2023-06-08T14:39:23.889Z"
   },
   {
    "duration": 153,
    "start_time": "2023-06-08T14:39:23.920Z"
   },
   {
    "duration": 7,
    "start_time": "2023-06-08T14:39:24.074Z"
   },
   {
    "duration": 19,
    "start_time": "2023-06-08T14:39:24.083Z"
   },
   {
    "duration": 79,
    "start_time": "2023-06-08T14:39:24.104Z"
   },
   {
    "duration": 6,
    "start_time": "2023-06-08T14:39:24.186Z"
   },
   {
    "duration": 177,
    "start_time": "2023-06-08T14:39:24.194Z"
   },
   {
    "duration": 114,
    "start_time": "2023-06-08T14:39:24.373Z"
   },
   {
    "duration": 324,
    "start_time": "2023-06-08T14:39:24.489Z"
   },
   {
    "duration": 119,
    "start_time": "2023-06-08T14:39:24.815Z"
   },
   {
    "duration": 275,
    "start_time": "2023-06-08T14:39:24.936Z"
   },
   {
    "duration": 111,
    "start_time": "2023-06-08T14:39:25.213Z"
   },
   {
    "duration": 34,
    "start_time": "2023-06-08T14:39:25.326Z"
   },
   {
    "duration": 18,
    "start_time": "2023-06-08T14:39:25.362Z"
   },
   {
    "duration": 19,
    "start_time": "2023-06-08T14:39:25.381Z"
   },
   {
    "duration": 8,
    "start_time": "2023-06-08T14:39:25.402Z"
   },
   {
    "duration": 12,
    "start_time": "2023-06-08T14:39:25.411Z"
   },
   {
    "duration": 555,
    "start_time": "2023-06-08T14:39:25.424Z"
   },
   {
    "duration": 112,
    "start_time": "2023-06-08T14:39:25.981Z"
   },
   {
    "duration": 190,
    "start_time": "2023-06-08T14:39:26.095Z"
   },
   {
    "duration": 535,
    "start_time": "2023-06-08T14:39:26.286Z"
   },
   {
    "duration": 122,
    "start_time": "2023-06-08T14:39:26.826Z"
   },
   {
    "duration": 113,
    "start_time": "2023-06-08T14:39:26.950Z"
   },
   {
    "duration": 13,
    "start_time": "2023-06-08T14:39:27.064Z"
   },
   {
    "duration": 38,
    "start_time": "2023-06-08T14:39:27.079Z"
   },
   {
    "duration": 44,
    "start_time": "2023-06-08T14:39:27.118Z"
   },
   {
    "duration": 4,
    "start_time": "2023-06-08T14:39:27.164Z"
   },
   {
    "duration": 22,
    "start_time": "2023-06-08T14:39:27.170Z"
   },
   {
    "duration": 20,
    "start_time": "2023-06-08T14:39:27.194Z"
   },
   {
    "duration": 13,
    "start_time": "2023-06-08T14:39:27.215Z"
   },
   {
    "duration": 17,
    "start_time": "2023-06-08T14:39:27.230Z"
   },
   {
    "duration": 25,
    "start_time": "2023-06-08T14:39:27.248Z"
   },
   {
    "duration": 14,
    "start_time": "2023-06-08T14:39:27.275Z"
   },
   {
    "duration": 17,
    "start_time": "2023-06-08T14:39:27.291Z"
   },
   {
    "duration": 235,
    "start_time": "2023-06-08T14:39:27.309Z"
   },
   {
    "duration": 4,
    "start_time": "2023-06-08T14:39:27.546Z"
   },
   {
    "duration": 15,
    "start_time": "2023-06-08T14:39:27.552Z"
   },
   {
    "duration": 162,
    "start_time": "2023-06-08T14:39:27.568Z"
   },
   {
    "duration": 184,
    "start_time": "2023-06-08T14:39:27.732Z"
   },
   {
    "duration": 220,
    "start_time": "2023-06-08T14:39:27.918Z"
   },
   {
    "duration": 1011,
    "start_time": "2023-06-08T14:39:28.140Z"
   },
   {
    "duration": 6,
    "start_time": "2023-06-08T14:42:40.565Z"
   },
   {
    "duration": 19,
    "start_time": "2023-06-08T14:45:04.016Z"
   },
   {
    "duration": 21,
    "start_time": "2023-06-08T14:45:09.799Z"
   },
   {
    "duration": 410,
    "start_time": "2023-06-08T15:02:47.445Z"
   },
   {
    "duration": 3,
    "start_time": "2023-06-08T15:02:47.857Z"
   },
   {
    "duration": 278,
    "start_time": "2023-06-08T15:02:47.861Z"
   },
   {
    "duration": 2,
    "start_time": "2023-06-08T15:02:48.141Z"
   },
   {
    "duration": 18,
    "start_time": "2023-06-08T15:02:48.146Z"
   },
   {
    "duration": 50,
    "start_time": "2023-06-08T15:02:48.165Z"
   },
   {
    "duration": 12,
    "start_time": "2023-06-08T15:02:48.216Z"
   },
   {
    "duration": 80,
    "start_time": "2023-06-08T15:02:48.230Z"
   },
   {
    "duration": 13,
    "start_time": "2023-06-08T15:02:48.312Z"
   },
   {
    "duration": 32,
    "start_time": "2023-06-08T15:02:48.327Z"
   },
   {
    "duration": 10,
    "start_time": "2023-06-08T15:02:48.361Z"
   },
   {
    "duration": 21,
    "start_time": "2023-06-08T15:02:48.372Z"
   },
   {
    "duration": 13,
    "start_time": "2023-06-08T15:02:48.395Z"
   },
   {
    "duration": 10,
    "start_time": "2023-06-08T15:02:48.413Z"
   },
   {
    "duration": 20,
    "start_time": "2023-06-08T15:02:48.425Z"
   },
   {
    "duration": 13,
    "start_time": "2023-06-08T15:02:48.448Z"
   },
   {
    "duration": 20,
    "start_time": "2023-06-08T15:02:48.463Z"
   },
   {
    "duration": 33,
    "start_time": "2023-06-08T15:02:48.485Z"
   },
   {
    "duration": 10,
    "start_time": "2023-06-08T15:02:48.520Z"
   },
   {
    "duration": 19,
    "start_time": "2023-06-08T15:02:48.533Z"
   },
   {
    "duration": 220,
    "start_time": "2023-06-08T15:02:48.554Z"
   },
   {
    "duration": 7,
    "start_time": "2023-06-08T15:02:48.776Z"
   },
   {
    "duration": 35,
    "start_time": "2023-06-08T15:02:48.784Z"
   },
   {
    "duration": 122,
    "start_time": "2023-06-08T15:02:48.821Z"
   },
   {
    "duration": 8,
    "start_time": "2023-06-08T15:02:48.945Z"
   },
   {
    "duration": 198,
    "start_time": "2023-06-08T15:02:48.955Z"
   },
   {
    "duration": 141,
    "start_time": "2023-06-08T15:02:49.156Z"
   },
   {
    "duration": 336,
    "start_time": "2023-06-08T15:02:49.299Z"
   },
   {
    "duration": 130,
    "start_time": "2023-06-08T15:02:49.637Z"
   },
   {
    "duration": 339,
    "start_time": "2023-06-08T15:02:49.769Z"
   },
   {
    "duration": 129,
    "start_time": "2023-06-08T15:02:50.111Z"
   },
   {
    "duration": 26,
    "start_time": "2023-06-08T15:02:50.246Z"
   },
   {
    "duration": 22,
    "start_time": "2023-06-08T15:02:50.274Z"
   },
   {
    "duration": 23,
    "start_time": "2023-06-08T15:02:50.298Z"
   },
   {
    "duration": 13,
    "start_time": "2023-06-08T15:02:50.347Z"
   },
   {
    "duration": 23,
    "start_time": "2023-06-08T15:02:50.362Z"
   },
   {
    "duration": 595,
    "start_time": "2023-06-08T15:02:50.387Z"
   },
   {
    "duration": 113,
    "start_time": "2023-06-08T15:02:50.984Z"
   },
   {
    "duration": 190,
    "start_time": "2023-06-08T15:02:51.098Z"
   },
   {
    "duration": 543,
    "start_time": "2023-06-08T15:02:51.290Z"
   },
   {
    "duration": 113,
    "start_time": "2023-06-08T15:02:51.845Z"
   },
   {
    "duration": 119,
    "start_time": "2023-06-08T15:02:51.960Z"
   },
   {
    "duration": 13,
    "start_time": "2023-06-08T15:02:52.081Z"
   },
   {
    "duration": 46,
    "start_time": "2023-06-08T15:02:52.096Z"
   },
   {
    "duration": 28,
    "start_time": "2023-06-08T15:02:52.147Z"
   },
   {
    "duration": 16,
    "start_time": "2023-06-08T15:02:52.177Z"
   },
   {
    "duration": 27,
    "start_time": "2023-06-08T15:02:52.195Z"
   },
   {
    "duration": 17,
    "start_time": "2023-06-08T15:02:52.224Z"
   },
   {
    "duration": 22,
    "start_time": "2023-06-08T15:02:52.243Z"
   },
   {
    "duration": 5,
    "start_time": "2023-06-08T15:02:52.267Z"
   },
   {
    "duration": 19,
    "start_time": "2023-06-08T15:02:52.274Z"
   },
   {
    "duration": 23,
    "start_time": "2023-06-08T15:02:52.295Z"
   },
   {
    "duration": 22,
    "start_time": "2023-06-08T15:02:52.319Z"
   },
   {
    "duration": 327,
    "start_time": "2023-06-08T15:02:52.343Z"
   },
   {
    "duration": 5,
    "start_time": "2023-06-08T15:02:52.672Z"
   },
   {
    "duration": 28,
    "start_time": "2023-06-08T15:02:52.679Z"
   },
   {
    "duration": 189,
    "start_time": "2023-06-08T15:02:52.709Z"
   },
   {
    "duration": 190,
    "start_time": "2023-06-08T15:02:52.899Z"
   },
   {
    "duration": 157,
    "start_time": "2023-06-08T15:02:53.091Z"
   },
   {
    "duration": 1106,
    "start_time": "2023-06-08T15:02:53.250Z"
   },
   {
    "duration": 56,
    "start_time": "2023-06-08T15:24:36.118Z"
   },
   {
    "duration": 462,
    "start_time": "2023-06-08T15:24:42.539Z"
   },
   {
    "duration": 3,
    "start_time": "2023-06-08T15:24:43.004Z"
   },
   {
    "duration": 432,
    "start_time": "2023-06-08T15:24:43.009Z"
   },
   {
    "duration": 3,
    "start_time": "2023-06-08T15:24:43.444Z"
   },
   {
    "duration": 61,
    "start_time": "2023-06-08T15:24:43.449Z"
   },
   {
    "duration": 115,
    "start_time": "2023-06-08T15:24:43.512Z"
   },
   {
    "duration": 18,
    "start_time": "2023-06-08T15:24:43.629Z"
   },
   {
    "duration": 108,
    "start_time": "2023-06-08T15:24:43.649Z"
   },
   {
    "duration": 12,
    "start_time": "2023-06-08T15:24:43.760Z"
   },
   {
    "duration": 69,
    "start_time": "2023-06-08T15:24:43.774Z"
   },
   {
    "duration": 10,
    "start_time": "2023-06-08T15:24:43.845Z"
   },
   {
    "duration": 13,
    "start_time": "2023-06-08T15:24:43.857Z"
   },
   {
    "duration": 23,
    "start_time": "2023-06-08T15:24:43.872Z"
   },
   {
    "duration": 11,
    "start_time": "2023-06-08T15:24:43.897Z"
   },
   {
    "duration": 9,
    "start_time": "2023-06-08T15:24:43.910Z"
   },
   {
    "duration": 5,
    "start_time": "2023-06-08T15:24:43.921Z"
   },
   {
    "duration": 17,
    "start_time": "2023-06-08T15:24:43.929Z"
   },
   {
    "duration": 38,
    "start_time": "2023-06-08T15:24:43.949Z"
   },
   {
    "duration": 18,
    "start_time": "2023-06-08T15:24:43.989Z"
   },
   {
    "duration": 9,
    "start_time": "2023-06-08T15:24:44.009Z"
   },
   {
    "duration": 6,
    "start_time": "2023-06-08T15:24:44.020Z"
   },
   {
    "duration": 206,
    "start_time": "2023-06-08T15:24:44.028Z"
   },
   {
    "duration": 7,
    "start_time": "2023-06-08T15:24:44.236Z"
   },
   {
    "duration": 10,
    "start_time": "2023-06-08T15:24:44.245Z"
   },
   {
    "duration": 97,
    "start_time": "2023-06-08T15:24:44.257Z"
   },
   {
    "duration": 7,
    "start_time": "2023-06-08T15:24:44.356Z"
   },
   {
    "duration": 173,
    "start_time": "2023-06-08T15:24:44.377Z"
   },
   {
    "duration": 176,
    "start_time": "2023-06-08T15:24:44.554Z"
   },
   {
    "duration": 287,
    "start_time": "2023-06-08T15:24:44.733Z"
   },
   {
    "duration": 138,
    "start_time": "2023-06-08T15:24:45.022Z"
   },
   {
    "duration": 325,
    "start_time": "2023-06-08T15:24:45.162Z"
   },
   {
    "duration": 117,
    "start_time": "2023-06-08T15:24:45.493Z"
   },
   {
    "duration": 26,
    "start_time": "2023-06-08T15:24:45.611Z"
   },
   {
    "duration": 49,
    "start_time": "2023-06-08T15:24:45.639Z"
   },
   {
    "duration": 38,
    "start_time": "2023-06-08T15:24:45.690Z"
   },
   {
    "duration": 18,
    "start_time": "2023-06-08T15:24:45.730Z"
   },
   {
    "duration": 21,
    "start_time": "2023-06-08T15:24:45.750Z"
   },
   {
    "duration": 700,
    "start_time": "2023-06-08T15:24:45.774Z"
   },
   {
    "duration": 251,
    "start_time": "2023-06-08T15:24:46.476Z"
   },
   {
    "duration": 136,
    "start_time": "2023-06-08T15:24:46.729Z"
   },
   {
    "duration": 648,
    "start_time": "2023-06-08T15:24:46.868Z"
   },
   {
    "duration": 132,
    "start_time": "2023-06-08T15:24:47.517Z"
   },
   {
    "duration": 157,
    "start_time": "2023-06-08T15:24:47.651Z"
   },
   {
    "duration": 20,
    "start_time": "2023-06-08T15:24:47.813Z"
   },
   {
    "duration": 70,
    "start_time": "2023-06-08T15:24:47.835Z"
   },
   {
    "duration": 31,
    "start_time": "2023-06-08T15:24:47.909Z"
   },
   {
    "duration": 5,
    "start_time": "2023-06-08T15:24:47.942Z"
   },
   {
    "duration": 18,
    "start_time": "2023-06-08T15:24:47.948Z"
   },
   {
    "duration": 19,
    "start_time": "2023-06-08T15:24:47.969Z"
   },
   {
    "duration": 22,
    "start_time": "2023-06-08T15:24:47.997Z"
   },
   {
    "duration": 5,
    "start_time": "2023-06-08T15:24:48.022Z"
   },
   {
    "duration": 17,
    "start_time": "2023-06-08T15:24:48.029Z"
   },
   {
    "duration": 16,
    "start_time": "2023-06-08T15:24:48.048Z"
   },
   {
    "duration": 35,
    "start_time": "2023-06-08T15:24:48.066Z"
   },
   {
    "duration": 284,
    "start_time": "2023-06-08T15:24:48.103Z"
   },
   {
    "duration": 7,
    "start_time": "2023-06-08T15:24:48.388Z"
   },
   {
    "duration": 18,
    "start_time": "2023-06-08T15:24:48.397Z"
   },
   {
    "duration": 194,
    "start_time": "2023-06-08T15:24:48.417Z"
   },
   {
    "duration": 252,
    "start_time": "2023-06-08T15:24:48.613Z"
   },
   {
    "duration": 167,
    "start_time": "2023-06-08T15:24:48.866Z"
   },
   {
    "duration": 1165,
    "start_time": "2023-06-08T15:24:49.035Z"
   },
   {
    "duration": 19,
    "start_time": "2023-06-08T15:25:29.559Z"
   },
   {
    "duration": 7,
    "start_time": "2023-06-08T15:25:32.347Z"
   },
   {
    "duration": 5,
    "start_time": "2023-06-08T15:25:38.499Z"
   },
   {
    "duration": 9,
    "start_time": "2023-06-08T15:25:40.276Z"
   },
   {
    "duration": 17,
    "start_time": "2023-06-08T15:25:42.849Z"
   },
   {
    "duration": 7,
    "start_time": "2023-06-08T15:26:08.259Z"
   },
   {
    "duration": 7,
    "start_time": "2023-06-08T15:26:11.402Z"
   },
   {
    "duration": 13,
    "start_time": "2023-06-08T15:26:22.653Z"
   },
   {
    "duration": 94,
    "start_time": "2023-06-08T15:26:32.506Z"
   },
   {
    "duration": 14,
    "start_time": "2023-06-08T15:26:37.852Z"
   },
   {
    "duration": 456,
    "start_time": "2023-06-08T15:26:43.353Z"
   },
   {
    "duration": 4,
    "start_time": "2023-06-08T15:26:43.811Z"
   },
   {
    "duration": 297,
    "start_time": "2023-06-08T15:26:43.816Z"
   },
   {
    "duration": 4,
    "start_time": "2023-06-08T15:26:44.115Z"
   },
   {
    "duration": 14,
    "start_time": "2023-06-08T15:26:44.121Z"
   },
   {
    "duration": 52,
    "start_time": "2023-06-08T15:26:44.137Z"
   },
   {
    "duration": 13,
    "start_time": "2023-06-08T15:26:44.191Z"
   },
   {
    "duration": 38,
    "start_time": "2023-06-08T15:26:44.205Z"
   },
   {
    "duration": 11,
    "start_time": "2023-06-08T15:26:44.245Z"
   },
   {
    "duration": 33,
    "start_time": "2023-06-08T15:26:44.258Z"
   },
   {
    "duration": 12,
    "start_time": "2023-06-08T15:26:44.293Z"
   },
   {
    "duration": 10,
    "start_time": "2023-06-08T15:26:44.307Z"
   },
   {
    "duration": 7,
    "start_time": "2023-06-08T15:26:44.318Z"
   },
   {
    "duration": 7,
    "start_time": "2023-06-08T15:26:44.326Z"
   },
   {
    "duration": 10,
    "start_time": "2023-06-08T15:26:44.335Z"
   },
   {
    "duration": 3,
    "start_time": "2023-06-08T15:26:44.347Z"
   },
   {
    "duration": 25,
    "start_time": "2023-06-08T15:26:44.352Z"
   },
   {
    "duration": 15,
    "start_time": "2023-06-08T15:26:44.384Z"
   },
   {
    "duration": 11,
    "start_time": "2023-06-08T15:26:44.401Z"
   },
   {
    "duration": 11,
    "start_time": "2023-06-08T15:26:44.414Z"
   },
   {
    "duration": 6,
    "start_time": "2023-06-08T15:26:44.427Z"
   },
   {
    "duration": 170,
    "start_time": "2023-06-08T15:26:44.435Z"
   },
   {
    "duration": 7,
    "start_time": "2023-06-08T15:26:44.607Z"
   },
   {
    "duration": 9,
    "start_time": "2023-06-08T15:26:44.615Z"
   },
   {
    "duration": 94,
    "start_time": "2023-06-08T15:26:44.626Z"
   },
   {
    "duration": 6,
    "start_time": "2023-06-08T15:26:44.723Z"
   },
   {
    "duration": 187,
    "start_time": "2023-06-08T15:26:44.731Z"
   },
   {
    "duration": 112,
    "start_time": "2023-06-08T15:26:44.922Z"
   },
   {
    "duration": 328,
    "start_time": "2023-06-08T15:26:45.036Z"
   },
   {
    "duration": 125,
    "start_time": "2023-06-08T15:26:45.365Z"
   },
   {
    "duration": 269,
    "start_time": "2023-06-08T15:26:45.492Z"
   },
   {
    "duration": 134,
    "start_time": "2023-06-08T15:26:45.763Z"
   },
   {
    "duration": 23,
    "start_time": "2023-06-08T15:26:45.899Z"
   },
   {
    "duration": 21,
    "start_time": "2023-06-08T15:26:45.924Z"
   },
   {
    "duration": 46,
    "start_time": "2023-06-08T15:26:45.946Z"
   },
   {
    "duration": 10,
    "start_time": "2023-06-08T15:26:45.994Z"
   },
   {
    "duration": 8,
    "start_time": "2023-06-08T15:26:46.005Z"
   },
   {
    "duration": 552,
    "start_time": "2023-06-08T15:26:46.014Z"
   },
   {
    "duration": 116,
    "start_time": "2023-06-08T15:26:46.568Z"
   },
   {
    "duration": 196,
    "start_time": "2023-06-08T15:26:46.692Z"
   },
   {
    "duration": 606,
    "start_time": "2023-06-08T15:26:46.889Z"
   },
   {
    "duration": 112,
    "start_time": "2023-06-08T15:26:47.498Z"
   },
   {
    "duration": 122,
    "start_time": "2023-06-08T15:26:47.611Z"
   },
   {
    "duration": 20,
    "start_time": "2023-06-08T15:26:47.734Z"
   },
   {
    "duration": 44,
    "start_time": "2023-06-08T15:26:47.760Z"
   },
   {
    "duration": 32,
    "start_time": "2023-06-08T15:26:47.807Z"
   },
   {
    "duration": 4,
    "start_time": "2023-06-08T15:26:47.841Z"
   },
   {
    "duration": 37,
    "start_time": "2023-06-08T15:26:47.847Z"
   },
   {
    "duration": 31,
    "start_time": "2023-06-08T15:26:47.886Z"
   },
   {
    "duration": 20,
    "start_time": "2023-06-08T15:26:47.919Z"
   },
   {
    "duration": 5,
    "start_time": "2023-06-08T15:26:47.940Z"
   },
   {
    "duration": 10,
    "start_time": "2023-06-08T15:26:47.947Z"
   },
   {
    "duration": 12,
    "start_time": "2023-06-08T15:26:47.959Z"
   },
   {
    "duration": 16,
    "start_time": "2023-06-08T15:26:47.973Z"
   },
   {
    "duration": 269,
    "start_time": "2023-06-08T15:26:47.991Z"
   },
   {
    "duration": 4,
    "start_time": "2023-06-08T15:26:48.262Z"
   },
   {
    "duration": 38,
    "start_time": "2023-06-08T15:26:48.268Z"
   },
   {
    "duration": 163,
    "start_time": "2023-06-08T15:26:48.307Z"
   },
   {
    "duration": 177,
    "start_time": "2023-06-08T15:26:48.472Z"
   },
   {
    "duration": 244,
    "start_time": "2023-06-08T15:26:48.651Z"
   },
   {
    "duration": 1087,
    "start_time": "2023-06-08T15:26:48.897Z"
   },
   {
    "duration": 7,
    "start_time": "2023-06-08T15:27:10.228Z"
   },
   {
    "duration": 15,
    "start_time": "2023-06-08T15:28:41.208Z"
   },
   {
    "duration": 5,
    "start_time": "2023-06-08T15:38:46.180Z"
   },
   {
    "duration": 7,
    "start_time": "2023-06-08T15:39:02.175Z"
   },
   {
    "duration": 109,
    "start_time": "2023-06-08T15:42:46.507Z"
   },
   {
    "duration": 173,
    "start_time": "2023-06-08T15:43:01.897Z"
   },
   {
    "duration": 220,
    "start_time": "2023-06-08T15:44:37.042Z"
   },
   {
    "duration": 10,
    "start_time": "2023-06-08T15:44:52.452Z"
   },
   {
    "duration": 169,
    "start_time": "2023-06-08T15:45:07.936Z"
   },
   {
    "duration": 136,
    "start_time": "2023-06-08T15:45:22.834Z"
   },
   {
    "duration": 121,
    "start_time": "2023-06-08T15:45:37.341Z"
   },
   {
    "duration": 152,
    "start_time": "2023-06-08T15:47:15.998Z"
   },
   {
    "duration": 136,
    "start_time": "2023-06-08T15:48:06.988Z"
   },
   {
    "duration": 152,
    "start_time": "2023-06-08T15:48:19.547Z"
   },
   {
    "duration": 146,
    "start_time": "2023-06-08T15:49:27.866Z"
   },
   {
    "duration": 196,
    "start_time": "2023-06-08T15:49:47.805Z"
   },
   {
    "duration": 137,
    "start_time": "2023-06-08T15:50:20.799Z"
   },
   {
    "duration": 161,
    "start_time": "2023-06-08T15:50:30.877Z"
   },
   {
    "duration": 406,
    "start_time": "2023-06-08T15:52:08.637Z"
   },
   {
    "duration": 204,
    "start_time": "2023-06-08T15:52:15.723Z"
   },
   {
    "duration": 155,
    "start_time": "2023-06-08T15:52:53.609Z"
   },
   {
    "duration": 163,
    "start_time": "2023-06-08T15:53:19.901Z"
   },
   {
    "duration": 145,
    "start_time": "2023-06-08T15:53:27.149Z"
   },
   {
    "duration": 143,
    "start_time": "2023-06-08T15:53:47.218Z"
   },
   {
    "duration": 151,
    "start_time": "2023-06-08T15:54:01.276Z"
   },
   {
    "duration": 154,
    "start_time": "2023-06-08T15:54:21.618Z"
   },
   {
    "duration": 165,
    "start_time": "2023-06-08T15:54:30.677Z"
   },
   {
    "duration": 150,
    "start_time": "2023-06-08T15:56:13.596Z"
   },
   {
    "duration": 147,
    "start_time": "2023-06-08T15:56:33.044Z"
   },
   {
    "duration": 173,
    "start_time": "2023-06-08T15:57:04.683Z"
   },
   {
    "duration": 257,
    "start_time": "2023-06-08T15:57:12.394Z"
   },
   {
    "duration": 137,
    "start_time": "2023-06-08T15:57:53.422Z"
   },
   {
    "duration": 140,
    "start_time": "2023-06-08T16:02:55.601Z"
   },
   {
    "duration": 83,
    "start_time": "2023-06-08T16:04:01.321Z"
   },
   {
    "duration": 4,
    "start_time": "2023-06-08T16:10:32.605Z"
   },
   {
    "duration": 444,
    "start_time": "2023-06-08T16:14:20.760Z"
   },
   {
    "duration": 3,
    "start_time": "2023-06-08T16:14:21.206Z"
   },
   {
    "duration": 288,
    "start_time": "2023-06-08T16:14:21.210Z"
   },
   {
    "duration": 4,
    "start_time": "2023-06-08T16:14:21.501Z"
   },
   {
    "duration": 7,
    "start_time": "2023-06-08T16:14:21.507Z"
   },
   {
    "duration": 46,
    "start_time": "2023-06-08T16:14:21.515Z"
   },
   {
    "duration": 12,
    "start_time": "2023-06-08T16:14:21.563Z"
   },
   {
    "duration": 62,
    "start_time": "2023-06-08T16:14:21.577Z"
   },
   {
    "duration": 11,
    "start_time": "2023-06-08T16:14:21.640Z"
   },
   {
    "duration": 25,
    "start_time": "2023-06-08T16:14:21.654Z"
   },
   {
    "duration": 13,
    "start_time": "2023-06-08T16:14:21.682Z"
   },
   {
    "duration": 26,
    "start_time": "2023-06-08T16:14:21.697Z"
   },
   {
    "duration": 8,
    "start_time": "2023-06-08T16:14:21.725Z"
   },
   {
    "duration": 7,
    "start_time": "2023-06-08T16:14:21.735Z"
   },
   {
    "duration": 8,
    "start_time": "2023-06-08T16:14:21.744Z"
   },
   {
    "duration": 15,
    "start_time": "2023-06-08T16:14:21.753Z"
   },
   {
    "duration": 32,
    "start_time": "2023-06-08T16:14:21.770Z"
   },
   {
    "duration": 13,
    "start_time": "2023-06-08T16:14:21.805Z"
   },
   {
    "duration": 12,
    "start_time": "2023-06-08T16:14:21.819Z"
   },
   {
    "duration": 12,
    "start_time": "2023-06-08T16:14:21.833Z"
   },
   {
    "duration": 22,
    "start_time": "2023-06-08T16:14:21.847Z"
   },
   {
    "duration": 12,
    "start_time": "2023-06-08T16:14:21.871Z"
   },
   {
    "duration": 32,
    "start_time": "2023-06-08T16:14:21.885Z"
   },
   {
    "duration": 201,
    "start_time": "2023-06-08T16:14:21.919Z"
   },
   {
    "duration": 8,
    "start_time": "2023-06-08T16:14:22.123Z"
   },
   {
    "duration": 21,
    "start_time": "2023-06-08T16:14:22.133Z"
   },
   {
    "duration": 88,
    "start_time": "2023-06-08T16:14:22.156Z"
   },
   {
    "duration": 6,
    "start_time": "2023-06-08T16:14:22.249Z"
   },
   {
    "duration": 186,
    "start_time": "2023-06-08T16:14:22.257Z"
   },
   {
    "duration": 123,
    "start_time": "2023-06-08T16:14:22.445Z"
   },
   {
    "duration": 350,
    "start_time": "2023-06-08T16:14:22.570Z"
   },
   {
    "duration": 127,
    "start_time": "2023-06-08T16:14:22.922Z"
   },
   {
    "duration": 301,
    "start_time": "2023-06-08T16:14:23.051Z"
   },
   {
    "duration": 178,
    "start_time": "2023-06-08T16:14:23.354Z"
   },
   {
    "duration": 57,
    "start_time": "2023-06-08T16:14:23.534Z"
   },
   {
    "duration": 34,
    "start_time": "2023-06-08T16:14:23.599Z"
   },
   {
    "duration": 33,
    "start_time": "2023-06-08T16:14:23.636Z"
   },
   {
    "duration": 15,
    "start_time": "2023-06-08T16:14:23.671Z"
   },
   {
    "duration": 27,
    "start_time": "2023-06-08T16:14:23.690Z"
   },
   {
    "duration": 603,
    "start_time": "2023-06-08T16:14:23.719Z"
   },
   {
    "duration": 131,
    "start_time": "2023-06-08T16:14:24.325Z"
   },
   {
    "duration": 225,
    "start_time": "2023-06-08T16:14:24.458Z"
   },
   {
    "duration": 615,
    "start_time": "2023-06-08T16:14:24.685Z"
   },
   {
    "duration": 136,
    "start_time": "2023-06-08T16:14:25.302Z"
   },
   {
    "duration": 146,
    "start_time": "2023-06-08T16:14:25.441Z"
   },
   {
    "duration": 21,
    "start_time": "2023-06-08T16:14:25.589Z"
   },
   {
    "duration": 62,
    "start_time": "2023-06-08T16:14:25.613Z"
   },
   {
    "duration": 35,
    "start_time": "2023-06-08T16:14:25.677Z"
   },
   {
    "duration": 36,
    "start_time": "2023-06-08T16:14:25.714Z"
   },
   {
    "duration": 6,
    "start_time": "2023-06-08T16:14:25.752Z"
   },
   {
    "duration": 40,
    "start_time": "2023-06-08T16:14:25.777Z"
   },
   {
    "duration": 19,
    "start_time": "2023-06-08T16:14:25.819Z"
   },
   {
    "duration": 14,
    "start_time": "2023-06-08T16:14:25.841Z"
   },
   {
    "duration": 6,
    "start_time": "2023-06-08T16:14:25.857Z"
   },
   {
    "duration": 37,
    "start_time": "2023-06-08T16:14:25.865Z"
   },
   {
    "duration": 18,
    "start_time": "2023-06-08T16:14:25.905Z"
   },
   {
    "duration": 15,
    "start_time": "2023-06-08T16:14:25.925Z"
   },
   {
    "duration": 280,
    "start_time": "2023-06-08T16:14:25.943Z"
   },
   {
    "duration": 5,
    "start_time": "2023-06-08T16:14:26.225Z"
   },
   {
    "duration": 57,
    "start_time": "2023-06-08T16:14:26.232Z"
   },
   {
    "duration": 259,
    "start_time": "2023-06-08T16:14:26.293Z"
   },
   {
    "duration": 207,
    "start_time": "2023-06-08T16:14:26.555Z"
   },
   {
    "duration": 244,
    "start_time": "2023-06-08T16:14:26.764Z"
   },
   {
    "duration": 1811,
    "start_time": "2023-06-08T16:14:27.010Z"
   },
   {
    "duration": 97,
    "start_time": "2023-06-08T16:15:36.399Z"
   },
   {
    "duration": 442,
    "start_time": "2023-06-08T16:15:44.946Z"
   },
   {
    "duration": 9,
    "start_time": "2023-06-08T16:15:45.390Z"
   },
   {
    "duration": 393,
    "start_time": "2023-06-08T16:15:45.410Z"
   },
   {
    "duration": 2,
    "start_time": "2023-06-08T16:15:45.805Z"
   },
   {
    "duration": 4,
    "start_time": "2023-06-08T16:15:45.810Z"
   },
   {
    "duration": 44,
    "start_time": "2023-06-08T16:15:45.816Z"
   },
   {
    "duration": 12,
    "start_time": "2023-06-08T16:15:45.862Z"
   },
   {
    "duration": 64,
    "start_time": "2023-06-08T16:15:45.876Z"
   },
   {
    "duration": 13,
    "start_time": "2023-06-08T16:15:45.942Z"
   },
   {
    "duration": 30,
    "start_time": "2023-06-08T16:15:45.957Z"
   },
   {
    "duration": 13,
    "start_time": "2023-06-08T16:15:45.991Z"
   },
   {
    "duration": 19,
    "start_time": "2023-06-08T16:15:46.006Z"
   },
   {
    "duration": 10,
    "start_time": "2023-06-08T16:15:46.028Z"
   },
   {
    "duration": 28,
    "start_time": "2023-06-08T16:15:46.041Z"
   },
   {
    "duration": 47,
    "start_time": "2023-06-08T16:15:46.071Z"
   },
   {
    "duration": 16,
    "start_time": "2023-06-08T16:15:46.120Z"
   },
   {
    "duration": 11,
    "start_time": "2023-06-08T16:15:46.138Z"
   },
   {
    "duration": 5,
    "start_time": "2023-06-08T16:15:46.151Z"
   },
   {
    "duration": 9,
    "start_time": "2023-06-08T16:15:46.158Z"
   },
   {
    "duration": 8,
    "start_time": "2023-06-08T16:15:46.169Z"
   },
   {
    "duration": 24,
    "start_time": "2023-06-08T16:15:46.179Z"
   },
   {
    "duration": 14,
    "start_time": "2023-06-08T16:15:46.206Z"
   },
   {
    "duration": 10,
    "start_time": "2023-06-08T16:15:46.222Z"
   },
   {
    "duration": 244,
    "start_time": "2023-06-08T16:15:46.235Z"
   },
   {
    "duration": 9,
    "start_time": "2023-06-08T16:15:46.480Z"
   },
   {
    "duration": 24,
    "start_time": "2023-06-08T16:15:46.496Z"
   },
   {
    "duration": 136,
    "start_time": "2023-06-08T16:15:46.523Z"
   },
   {
    "duration": 7,
    "start_time": "2023-06-08T16:15:46.662Z"
   },
   {
    "duration": 218,
    "start_time": "2023-06-08T16:15:46.681Z"
   },
   {
    "duration": 111,
    "start_time": "2023-06-08T16:15:46.903Z"
   },
   {
    "duration": 341,
    "start_time": "2023-06-08T16:15:47.017Z"
   },
   {
    "duration": 139,
    "start_time": "2023-06-08T16:15:47.360Z"
   },
   {
    "duration": 321,
    "start_time": "2023-06-08T16:15:47.502Z"
   },
   {
    "duration": 136,
    "start_time": "2023-06-08T16:15:47.826Z"
   },
   {
    "duration": 37,
    "start_time": "2023-06-08T16:15:47.964Z"
   },
   {
    "duration": 30,
    "start_time": "2023-06-08T16:15:48.008Z"
   },
   {
    "duration": 21,
    "start_time": "2023-06-08T16:15:48.040Z"
   },
   {
    "duration": 16,
    "start_time": "2023-06-08T16:15:48.063Z"
   },
   {
    "duration": 30,
    "start_time": "2023-06-08T16:15:48.081Z"
   },
   {
    "duration": 634,
    "start_time": "2023-06-08T16:15:48.115Z"
   },
   {
    "duration": 109,
    "start_time": "2023-06-08T16:15:48.753Z"
   },
   {
    "duration": 202,
    "start_time": "2023-06-08T16:15:48.864Z"
   },
   {
    "duration": 532,
    "start_time": "2023-06-08T16:15:49.068Z"
   },
   {
    "duration": 124,
    "start_time": "2023-06-08T16:15:49.602Z"
   },
   {
    "duration": 142,
    "start_time": "2023-06-08T16:15:49.729Z"
   },
   {
    "duration": 28,
    "start_time": "2023-06-08T16:15:49.873Z"
   },
   {
    "duration": 45,
    "start_time": "2023-06-08T16:15:49.903Z"
   },
   {
    "duration": 35,
    "start_time": "2023-06-08T16:15:49.950Z"
   },
   {
    "duration": 30,
    "start_time": "2023-06-08T16:15:49.991Z"
   },
   {
    "duration": 4,
    "start_time": "2023-06-08T16:15:50.024Z"
   },
   {
    "duration": 19,
    "start_time": "2023-06-08T16:15:50.030Z"
   },
   {
    "duration": 51,
    "start_time": "2023-06-08T16:15:50.050Z"
   },
   {
    "duration": 17,
    "start_time": "2023-06-08T16:15:50.104Z"
   },
   {
    "duration": 5,
    "start_time": "2023-06-08T16:15:50.123Z"
   },
   {
    "duration": 9,
    "start_time": "2023-06-08T16:15:50.131Z"
   },
   {
    "duration": 12,
    "start_time": "2023-06-08T16:15:50.141Z"
   },
   {
    "duration": 9,
    "start_time": "2023-06-08T16:15:50.154Z"
   },
   {
    "duration": 269,
    "start_time": "2023-06-08T16:15:50.164Z"
   },
   {
    "duration": 4,
    "start_time": "2023-06-08T16:15:50.435Z"
   },
   {
    "duration": 17,
    "start_time": "2023-06-08T16:15:50.445Z"
   },
   {
    "duration": 193,
    "start_time": "2023-06-08T16:15:50.463Z"
   },
   {
    "duration": 202,
    "start_time": "2023-06-08T16:15:50.658Z"
   },
   {
    "duration": 288,
    "start_time": "2023-06-08T16:15:50.861Z"
   },
   {
    "duration": 1952,
    "start_time": "2023-06-08T16:15:51.153Z"
   },
   {
    "duration": 439,
    "start_time": "2023-06-08T16:16:40.164Z"
   },
   {
    "duration": 3,
    "start_time": "2023-06-08T16:16:40.605Z"
   },
   {
    "duration": 280,
    "start_time": "2023-06-08T16:16:40.610Z"
   },
   {
    "duration": 3,
    "start_time": "2023-06-08T16:16:40.893Z"
   },
   {
    "duration": 8,
    "start_time": "2023-06-08T16:16:40.898Z"
   },
   {
    "duration": 44,
    "start_time": "2023-06-08T16:16:40.908Z"
   },
   {
    "duration": 12,
    "start_time": "2023-06-08T16:16:40.954Z"
   },
   {
    "duration": 46,
    "start_time": "2023-06-08T16:16:40.967Z"
   },
   {
    "duration": 13,
    "start_time": "2023-06-08T16:16:41.015Z"
   },
   {
    "duration": 21,
    "start_time": "2023-06-08T16:16:41.032Z"
   },
   {
    "duration": 10,
    "start_time": "2023-06-08T16:16:41.055Z"
   },
   {
    "duration": 17,
    "start_time": "2023-06-08T16:16:41.067Z"
   },
   {
    "duration": 13,
    "start_time": "2023-06-08T16:16:41.087Z"
   },
   {
    "duration": 8,
    "start_time": "2023-06-08T16:16:41.102Z"
   },
   {
    "duration": 13,
    "start_time": "2023-06-08T16:16:41.113Z"
   },
   {
    "duration": 11,
    "start_time": "2023-06-08T16:16:41.128Z"
   },
   {
    "duration": 9,
    "start_time": "2023-06-08T16:16:41.141Z"
   },
   {
    "duration": 6,
    "start_time": "2023-06-08T16:16:41.151Z"
   },
   {
    "duration": 11,
    "start_time": "2023-06-08T16:16:41.177Z"
   },
   {
    "duration": 12,
    "start_time": "2023-06-08T16:16:41.190Z"
   },
   {
    "duration": 11,
    "start_time": "2023-06-08T16:16:41.204Z"
   },
   {
    "duration": 13,
    "start_time": "2023-06-08T16:16:41.218Z"
   },
   {
    "duration": 5,
    "start_time": "2023-06-08T16:16:41.233Z"
   },
   {
    "duration": 206,
    "start_time": "2023-06-08T16:16:41.240Z"
   },
   {
    "duration": 7,
    "start_time": "2023-06-08T16:16:41.448Z"
   },
   {
    "duration": 20,
    "start_time": "2023-06-08T16:16:41.457Z"
   },
   {
    "duration": 77,
    "start_time": "2023-06-08T16:16:41.480Z"
   },
   {
    "duration": 18,
    "start_time": "2023-06-08T16:16:41.561Z"
   },
   {
    "duration": 199,
    "start_time": "2023-06-08T16:16:41.581Z"
   },
   {
    "duration": 111,
    "start_time": "2023-06-08T16:16:41.782Z"
   },
   {
    "duration": 319,
    "start_time": "2023-06-08T16:16:41.895Z"
   },
   {
    "duration": 139,
    "start_time": "2023-06-08T16:16:42.216Z"
   },
   {
    "duration": 255,
    "start_time": "2023-06-08T16:16:42.356Z"
   },
   {
    "duration": 117,
    "start_time": "2023-06-08T16:16:42.612Z"
   },
   {
    "duration": 31,
    "start_time": "2023-06-08T16:16:42.731Z"
   },
   {
    "duration": 28,
    "start_time": "2023-06-08T16:16:42.765Z"
   },
   {
    "duration": 20,
    "start_time": "2023-06-08T16:16:42.795Z"
   },
   {
    "duration": 9,
    "start_time": "2023-06-08T16:16:42.818Z"
   },
   {
    "duration": 7,
    "start_time": "2023-06-08T16:16:42.828Z"
   },
   {
    "duration": 600,
    "start_time": "2023-06-08T16:16:42.837Z"
   },
   {
    "duration": 121,
    "start_time": "2023-06-08T16:16:43.439Z"
   },
   {
    "duration": 202,
    "start_time": "2023-06-08T16:16:43.562Z"
   },
   {
    "duration": 567,
    "start_time": "2023-06-08T16:16:43.766Z"
   },
   {
    "duration": 117,
    "start_time": "2023-06-08T16:16:44.335Z"
   },
   {
    "duration": 110,
    "start_time": "2023-06-08T16:16:44.454Z"
   },
   {
    "duration": 15,
    "start_time": "2023-06-08T16:16:44.566Z"
   },
   {
    "duration": 127,
    "start_time": "2023-06-08T16:16:44.583Z"
   },
   {
    "duration": 0,
    "start_time": "2023-06-08T16:16:44.712Z"
   },
   {
    "duration": 0,
    "start_time": "2023-06-08T16:16:44.713Z"
   },
   {
    "duration": 0,
    "start_time": "2023-06-08T16:16:44.714Z"
   },
   {
    "duration": 0,
    "start_time": "2023-06-08T16:16:44.715Z"
   },
   {
    "duration": 0,
    "start_time": "2023-06-08T16:16:44.716Z"
   },
   {
    "duration": 0,
    "start_time": "2023-06-08T16:16:44.717Z"
   },
   {
    "duration": 0,
    "start_time": "2023-06-08T16:16:44.718Z"
   },
   {
    "duration": 0,
    "start_time": "2023-06-08T16:16:44.720Z"
   },
   {
    "duration": 0,
    "start_time": "2023-06-08T16:16:44.721Z"
   },
   {
    "duration": 0,
    "start_time": "2023-06-08T16:16:44.722Z"
   },
   {
    "duration": 0,
    "start_time": "2023-06-08T16:16:44.723Z"
   },
   {
    "duration": 0,
    "start_time": "2023-06-08T16:16:44.724Z"
   },
   {
    "duration": 0,
    "start_time": "2023-06-08T16:16:44.725Z"
   },
   {
    "duration": 0,
    "start_time": "2023-06-08T16:16:44.726Z"
   },
   {
    "duration": 0,
    "start_time": "2023-06-08T16:16:44.727Z"
   },
   {
    "duration": 0,
    "start_time": "2023-06-08T16:16:44.728Z"
   },
   {
    "duration": 0,
    "start_time": "2023-06-08T16:16:44.729Z"
   },
   {
    "duration": 427,
    "start_time": "2023-06-08T16:16:58.111Z"
   },
   {
    "duration": 3,
    "start_time": "2023-06-08T16:16:58.540Z"
   },
   {
    "duration": 393,
    "start_time": "2023-06-08T16:16:58.545Z"
   },
   {
    "duration": 3,
    "start_time": "2023-06-08T16:16:58.940Z"
   },
   {
    "duration": 10,
    "start_time": "2023-06-08T16:16:58.945Z"
   },
   {
    "duration": 49,
    "start_time": "2023-06-08T16:16:58.956Z"
   },
   {
    "duration": 12,
    "start_time": "2023-06-08T16:16:59.007Z"
   },
   {
    "duration": 38,
    "start_time": "2023-06-08T16:16:59.021Z"
   },
   {
    "duration": 12,
    "start_time": "2023-06-08T16:16:59.060Z"
   },
   {
    "duration": 26,
    "start_time": "2023-06-08T16:16:59.073Z"
   },
   {
    "duration": 10,
    "start_time": "2023-06-08T16:16:59.101Z"
   },
   {
    "duration": 13,
    "start_time": "2023-06-08T16:16:59.112Z"
   },
   {
    "duration": 8,
    "start_time": "2023-06-08T16:16:59.127Z"
   },
   {
    "duration": 5,
    "start_time": "2023-06-08T16:16:59.138Z"
   },
   {
    "duration": 9,
    "start_time": "2023-06-08T16:16:59.144Z"
   },
   {
    "duration": 10,
    "start_time": "2023-06-08T16:16:59.155Z"
   },
   {
    "duration": 10,
    "start_time": "2023-06-08T16:16:59.167Z"
   },
   {
    "duration": 22,
    "start_time": "2023-06-08T16:16:59.179Z"
   },
   {
    "duration": 8,
    "start_time": "2023-06-08T16:16:59.202Z"
   },
   {
    "duration": 6,
    "start_time": "2023-06-08T16:16:59.211Z"
   },
   {
    "duration": 11,
    "start_time": "2023-06-08T16:16:59.218Z"
   },
   {
    "duration": 12,
    "start_time": "2023-06-08T16:16:59.230Z"
   },
   {
    "duration": 6,
    "start_time": "2023-06-08T16:16:59.244Z"
   },
   {
    "duration": 167,
    "start_time": "2023-06-08T16:16:59.276Z"
   },
   {
    "duration": 7,
    "start_time": "2023-06-08T16:16:59.445Z"
   },
   {
    "duration": 9,
    "start_time": "2023-06-08T16:16:59.453Z"
   },
   {
    "duration": 92,
    "start_time": "2023-06-08T16:16:59.464Z"
   },
   {
    "duration": 5,
    "start_time": "2023-06-08T16:16:59.558Z"
   },
   {
    "duration": 195,
    "start_time": "2023-06-08T16:16:59.564Z"
   },
   {
    "duration": 110,
    "start_time": "2023-06-08T16:16:59.761Z"
   },
   {
    "duration": 333,
    "start_time": "2023-06-08T16:16:59.877Z"
   },
   {
    "duration": 123,
    "start_time": "2023-06-08T16:17:00.212Z"
   },
   {
    "duration": 266,
    "start_time": "2023-06-08T16:17:00.337Z"
   },
   {
    "duration": 125,
    "start_time": "2023-06-08T16:17:00.605Z"
   },
   {
    "duration": 24,
    "start_time": "2023-06-08T16:17:00.732Z"
   },
   {
    "duration": 65,
    "start_time": "2023-06-08T16:17:00.758Z"
   },
   {
    "duration": 70,
    "start_time": "2023-06-08T16:17:00.824Z"
   },
   {
    "duration": 42,
    "start_time": "2023-06-08T16:17:00.897Z"
   },
   {
    "duration": 53,
    "start_time": "2023-06-08T16:17:00.942Z"
   },
   {
    "duration": 575,
    "start_time": "2023-06-08T16:17:00.996Z"
   },
   {
    "duration": 123,
    "start_time": "2023-06-08T16:17:01.576Z"
   },
   {
    "duration": 242,
    "start_time": "2023-06-08T16:17:01.701Z"
   },
   {
    "duration": 562,
    "start_time": "2023-06-08T16:17:01.945Z"
   },
   {
    "duration": 126,
    "start_time": "2023-06-08T16:17:02.509Z"
   },
   {
    "duration": 119,
    "start_time": "2023-06-08T16:17:02.636Z"
   },
   {
    "duration": 13,
    "start_time": "2023-06-08T16:17:02.757Z"
   },
   {
    "duration": 127,
    "start_time": "2023-06-08T16:17:02.776Z"
   },
   {
    "duration": 0,
    "start_time": "2023-06-08T16:17:02.905Z"
   },
   {
    "duration": 0,
    "start_time": "2023-06-08T16:17:02.906Z"
   },
   {
    "duration": 0,
    "start_time": "2023-06-08T16:17:02.907Z"
   },
   {
    "duration": 0,
    "start_time": "2023-06-08T16:17:02.908Z"
   },
   {
    "duration": 0,
    "start_time": "2023-06-08T16:17:02.910Z"
   },
   {
    "duration": 0,
    "start_time": "2023-06-08T16:17:02.911Z"
   },
   {
    "duration": 0,
    "start_time": "2023-06-08T16:17:02.913Z"
   },
   {
    "duration": 0,
    "start_time": "2023-06-08T16:17:02.915Z"
   },
   {
    "duration": 0,
    "start_time": "2023-06-08T16:17:02.916Z"
   },
   {
    "duration": 0,
    "start_time": "2023-06-08T16:17:02.917Z"
   },
   {
    "duration": 0,
    "start_time": "2023-06-08T16:17:02.920Z"
   },
   {
    "duration": 0,
    "start_time": "2023-06-08T16:17:02.921Z"
   },
   {
    "duration": 0,
    "start_time": "2023-06-08T16:17:02.922Z"
   },
   {
    "duration": 0,
    "start_time": "2023-06-08T16:17:02.924Z"
   },
   {
    "duration": 0,
    "start_time": "2023-06-08T16:17:02.925Z"
   },
   {
    "duration": 0,
    "start_time": "2023-06-08T16:17:02.927Z"
   },
   {
    "duration": 0,
    "start_time": "2023-06-08T16:17:02.928Z"
   },
   {
    "duration": 410,
    "start_time": "2023-06-08T16:17:18.307Z"
   },
   {
    "duration": 3,
    "start_time": "2023-06-08T16:17:18.720Z"
   },
   {
    "duration": 257,
    "start_time": "2023-06-08T16:17:18.727Z"
   },
   {
    "duration": 3,
    "start_time": "2023-06-08T16:17:18.987Z"
   },
   {
    "duration": 20,
    "start_time": "2023-06-08T16:17:18.992Z"
   },
   {
    "duration": 58,
    "start_time": "2023-06-08T16:17:19.014Z"
   },
   {
    "duration": 14,
    "start_time": "2023-06-08T16:17:19.074Z"
   },
   {
    "duration": 43,
    "start_time": "2023-06-08T16:17:19.090Z"
   },
   {
    "duration": 14,
    "start_time": "2023-06-08T16:17:19.135Z"
   },
   {
    "duration": 29,
    "start_time": "2023-06-08T16:17:19.151Z"
   },
   {
    "duration": 12,
    "start_time": "2023-06-08T16:17:19.182Z"
   },
   {
    "duration": 21,
    "start_time": "2023-06-08T16:17:19.196Z"
   },
   {
    "duration": 5,
    "start_time": "2023-06-08T16:17:19.222Z"
   },
   {
    "duration": 15,
    "start_time": "2023-06-08T16:17:19.229Z"
   },
   {
    "duration": 9,
    "start_time": "2023-06-08T16:17:19.246Z"
   },
   {
    "duration": 21,
    "start_time": "2023-06-08T16:17:19.257Z"
   },
   {
    "duration": 15,
    "start_time": "2023-06-08T16:17:19.280Z"
   },
   {
    "duration": 5,
    "start_time": "2023-06-08T16:17:19.297Z"
   },
   {
    "duration": 8,
    "start_time": "2023-06-08T16:17:19.304Z"
   },
   {
    "duration": 9,
    "start_time": "2023-06-08T16:17:19.313Z"
   },
   {
    "duration": 7,
    "start_time": "2023-06-08T16:17:19.323Z"
   },
   {
    "duration": 47,
    "start_time": "2023-06-08T16:17:19.333Z"
   },
   {
    "duration": 7,
    "start_time": "2023-06-08T16:17:19.382Z"
   },
   {
    "duration": 211,
    "start_time": "2023-06-08T16:17:19.391Z"
   },
   {
    "duration": 8,
    "start_time": "2023-06-08T16:17:19.605Z"
   },
   {
    "duration": 24,
    "start_time": "2023-06-08T16:17:19.615Z"
   },
   {
    "duration": 85,
    "start_time": "2023-06-08T16:17:19.641Z"
   },
   {
    "duration": 8,
    "start_time": "2023-06-08T16:17:19.729Z"
   },
   {
    "duration": 184,
    "start_time": "2023-06-08T16:17:19.739Z"
   },
   {
    "duration": 121,
    "start_time": "2023-06-08T16:17:19.925Z"
   },
   {
    "duration": 362,
    "start_time": "2023-06-08T16:17:20.048Z"
   },
   {
    "duration": 126,
    "start_time": "2023-06-08T16:17:20.412Z"
   },
   {
    "duration": 270,
    "start_time": "2023-06-08T16:17:20.540Z"
   },
   {
    "duration": 127,
    "start_time": "2023-06-08T16:17:20.813Z"
   },
   {
    "duration": 39,
    "start_time": "2023-06-08T16:17:20.942Z"
   },
   {
    "duration": 22,
    "start_time": "2023-06-08T16:17:20.983Z"
   },
   {
    "duration": 23,
    "start_time": "2023-06-08T16:17:21.007Z"
   },
   {
    "duration": 20,
    "start_time": "2023-06-08T16:17:21.032Z"
   },
   {
    "duration": 30,
    "start_time": "2023-06-08T16:17:21.054Z"
   },
   {
    "duration": 561,
    "start_time": "2023-06-08T16:17:21.087Z"
   },
   {
    "duration": 174,
    "start_time": "2023-06-08T16:17:21.649Z"
   },
   {
    "duration": 222,
    "start_time": "2023-06-08T16:17:21.825Z"
   },
   {
    "duration": 565,
    "start_time": "2023-06-08T16:17:22.049Z"
   },
   {
    "duration": 128,
    "start_time": "2023-06-08T16:17:22.616Z"
   },
   {
    "duration": 140,
    "start_time": "2023-06-08T16:17:22.746Z"
   },
   {
    "duration": 15,
    "start_time": "2023-06-08T16:17:22.888Z"
   },
   {
    "duration": 61,
    "start_time": "2023-06-08T16:17:22.905Z"
   },
   {
    "duration": 32,
    "start_time": "2023-06-08T16:17:22.968Z"
   },
   {
    "duration": 30,
    "start_time": "2023-06-08T16:17:23.002Z"
   },
   {
    "duration": 10,
    "start_time": "2023-06-08T16:17:23.034Z"
   },
   {
    "duration": 35,
    "start_time": "2023-06-08T16:17:23.046Z"
   },
   {
    "duration": 16,
    "start_time": "2023-06-08T16:17:23.083Z"
   },
   {
    "duration": 16,
    "start_time": "2023-06-08T16:17:23.101Z"
   },
   {
    "duration": 5,
    "start_time": "2023-06-08T16:17:23.120Z"
   },
   {
    "duration": 12,
    "start_time": "2023-06-08T16:17:23.127Z"
   },
   {
    "duration": 19,
    "start_time": "2023-06-08T16:17:23.141Z"
   },
   {
    "duration": 40,
    "start_time": "2023-06-08T16:17:23.161Z"
   },
   {
    "duration": 288,
    "start_time": "2023-06-08T16:17:23.204Z"
   },
   {
    "duration": 4,
    "start_time": "2023-06-08T16:17:23.494Z"
   },
   {
    "duration": 23,
    "start_time": "2023-06-08T16:17:23.500Z"
   },
   {
    "duration": 204,
    "start_time": "2023-06-08T16:17:23.525Z"
   },
   {
    "duration": 208,
    "start_time": "2023-06-08T16:17:23.732Z"
   },
   {
    "duration": 247,
    "start_time": "2023-06-08T16:17:23.941Z"
   },
   {
    "duration": 1065,
    "start_time": "2023-06-08T16:17:24.191Z"
   },
   {
    "duration": 2514,
    "start_time": "2023-06-08T16:21:30.663Z"
   },
   {
    "duration": 2248,
    "start_time": "2023-06-08T16:21:56.418Z"
   },
   {
    "duration": 369,
    "start_time": "2023-06-08T16:22:19.132Z"
   },
   {
    "duration": 3,
    "start_time": "2023-06-08T16:22:19.503Z"
   },
   {
    "duration": 324,
    "start_time": "2023-06-08T16:22:19.508Z"
   },
   {
    "duration": 3,
    "start_time": "2023-06-08T16:22:19.834Z"
   },
   {
    "duration": 13,
    "start_time": "2023-06-08T16:22:19.838Z"
   },
   {
    "duration": 44,
    "start_time": "2023-06-08T16:22:19.853Z"
   },
   {
    "duration": 12,
    "start_time": "2023-06-08T16:22:19.898Z"
   },
   {
    "duration": 42,
    "start_time": "2023-06-08T16:22:19.912Z"
   },
   {
    "duration": 10,
    "start_time": "2023-06-08T16:22:19.957Z"
   },
   {
    "duration": 23,
    "start_time": "2023-06-08T16:22:19.970Z"
   },
   {
    "duration": 15,
    "start_time": "2023-06-08T16:22:19.995Z"
   },
   {
    "duration": 25,
    "start_time": "2023-06-08T16:22:20.012Z"
   },
   {
    "duration": 17,
    "start_time": "2023-06-08T16:22:20.039Z"
   },
   {
    "duration": 5,
    "start_time": "2023-06-08T16:22:20.058Z"
   },
   {
    "duration": 15,
    "start_time": "2023-06-08T16:22:20.065Z"
   },
   {
    "duration": 13,
    "start_time": "2023-06-08T16:22:20.081Z"
   },
   {
    "duration": 19,
    "start_time": "2023-06-08T16:22:20.096Z"
   },
   {
    "duration": 7,
    "start_time": "2023-06-08T16:22:20.117Z"
   },
   {
    "duration": 19,
    "start_time": "2023-06-08T16:22:20.126Z"
   },
   {
    "duration": 14,
    "start_time": "2023-06-08T16:22:20.147Z"
   },
   {
    "duration": 12,
    "start_time": "2023-06-08T16:22:20.163Z"
   },
   {
    "duration": 13,
    "start_time": "2023-06-08T16:22:20.178Z"
   },
   {
    "duration": 7,
    "start_time": "2023-06-08T16:22:20.193Z"
   },
   {
    "duration": 167,
    "start_time": "2023-06-08T16:22:20.201Z"
   },
   {
    "duration": 12,
    "start_time": "2023-06-08T16:22:20.370Z"
   },
   {
    "duration": 23,
    "start_time": "2023-06-08T16:22:20.383Z"
   },
   {
    "duration": 105,
    "start_time": "2023-06-08T16:22:20.408Z"
   },
   {
    "duration": 6,
    "start_time": "2023-06-08T16:22:20.518Z"
   },
   {
    "duration": 180,
    "start_time": "2023-06-08T16:22:20.526Z"
   },
   {
    "duration": 112,
    "start_time": "2023-06-08T16:22:20.708Z"
   },
   {
    "duration": 334,
    "start_time": "2023-06-08T16:22:20.822Z"
   },
   {
    "duration": 147,
    "start_time": "2023-06-08T16:22:21.158Z"
   },
   {
    "duration": 263,
    "start_time": "2023-06-08T16:22:21.307Z"
   },
   {
    "duration": 118,
    "start_time": "2023-06-08T16:22:21.576Z"
   },
   {
    "duration": 29,
    "start_time": "2023-06-08T16:22:21.696Z"
   },
   {
    "duration": 26,
    "start_time": "2023-06-08T16:22:21.727Z"
   },
   {
    "duration": 32,
    "start_time": "2023-06-08T16:22:21.776Z"
   },
   {
    "duration": 11,
    "start_time": "2023-06-08T16:22:21.810Z"
   },
   {
    "duration": 8,
    "start_time": "2023-06-08T16:22:21.822Z"
   },
   {
    "duration": 573,
    "start_time": "2023-06-08T16:22:21.832Z"
   },
   {
    "duration": 117,
    "start_time": "2023-06-08T16:22:22.407Z"
   },
   {
    "duration": 191,
    "start_time": "2023-06-08T16:22:22.526Z"
   },
   {
    "duration": 506,
    "start_time": "2023-06-08T16:22:22.719Z"
   },
   {
    "duration": 113,
    "start_time": "2023-06-08T16:22:23.227Z"
   },
   {
    "duration": 105,
    "start_time": "2023-06-08T16:22:23.342Z"
   },
   {
    "duration": 14,
    "start_time": "2023-06-08T16:22:23.448Z"
   },
   {
    "duration": 14,
    "start_time": "2023-06-08T16:22:23.478Z"
   },
   {
    "duration": 98,
    "start_time": "2023-06-08T16:22:23.494Z"
   },
   {
    "duration": 50,
    "start_time": "2023-06-08T16:22:23.594Z"
   },
   {
    "duration": 37,
    "start_time": "2023-06-08T16:22:23.646Z"
   },
   {
    "duration": 5,
    "start_time": "2023-06-08T16:22:23.685Z"
   },
   {
    "duration": 35,
    "start_time": "2023-06-08T16:22:23.692Z"
   },
   {
    "duration": 51,
    "start_time": "2023-06-08T16:22:23.730Z"
   },
   {
    "duration": 14,
    "start_time": "2023-06-08T16:22:23.783Z"
   },
   {
    "duration": 19,
    "start_time": "2023-06-08T16:22:23.799Z"
   },
   {
    "duration": 21,
    "start_time": "2023-06-08T16:22:23.820Z"
   },
   {
    "duration": 16,
    "start_time": "2023-06-08T16:22:23.843Z"
   },
   {
    "duration": 13,
    "start_time": "2023-06-08T16:22:23.861Z"
   },
   {
    "duration": 252,
    "start_time": "2023-06-08T16:22:23.875Z"
   },
   {
    "duration": 5,
    "start_time": "2023-06-08T16:22:24.129Z"
   },
   {
    "duration": 47,
    "start_time": "2023-06-08T16:22:24.136Z"
   },
   {
    "duration": 173,
    "start_time": "2023-06-08T16:22:24.184Z"
   },
   {
    "duration": 166,
    "start_time": "2023-06-08T16:22:24.359Z"
   },
   {
    "duration": 136,
    "start_time": "2023-06-08T16:22:24.527Z"
   },
   {
    "duration": 2222,
    "start_time": "2023-06-08T16:22:24.665Z"
   },
   {
    "duration": 3408,
    "start_time": "2023-06-08T16:22:57.449Z"
   },
   {
    "duration": 402,
    "start_time": "2023-06-08T16:23:21.716Z"
   },
   {
    "duration": 3,
    "start_time": "2023-06-08T16:23:22.121Z"
   },
   {
    "duration": 328,
    "start_time": "2023-06-08T16:23:22.125Z"
   },
   {
    "duration": 2,
    "start_time": "2023-06-08T16:23:22.456Z"
   },
   {
    "duration": 33,
    "start_time": "2023-06-08T16:23:22.460Z"
   },
   {
    "duration": 50,
    "start_time": "2023-06-08T16:23:22.495Z"
   },
   {
    "duration": 12,
    "start_time": "2023-06-08T16:23:22.547Z"
   },
   {
    "duration": 56,
    "start_time": "2023-06-08T16:23:22.561Z"
   },
   {
    "duration": 13,
    "start_time": "2023-06-08T16:23:22.619Z"
   },
   {
    "duration": 26,
    "start_time": "2023-06-08T16:23:22.635Z"
   },
   {
    "duration": 11,
    "start_time": "2023-06-08T16:23:22.663Z"
   },
   {
    "duration": 21,
    "start_time": "2023-06-08T16:23:22.676Z"
   },
   {
    "duration": 17,
    "start_time": "2023-06-08T16:23:22.699Z"
   },
   {
    "duration": 10,
    "start_time": "2023-06-08T16:23:22.718Z"
   },
   {
    "duration": 18,
    "start_time": "2023-06-08T16:23:22.730Z"
   },
   {
    "duration": 27,
    "start_time": "2023-06-08T16:23:22.750Z"
   },
   {
    "duration": 20,
    "start_time": "2023-06-08T16:23:22.778Z"
   },
   {
    "duration": 9,
    "start_time": "2023-06-08T16:23:22.802Z"
   },
   {
    "duration": 36,
    "start_time": "2023-06-08T16:23:22.813Z"
   },
   {
    "duration": 8,
    "start_time": "2023-06-08T16:23:22.852Z"
   },
   {
    "duration": 10,
    "start_time": "2023-06-08T16:23:22.862Z"
   },
   {
    "duration": 15,
    "start_time": "2023-06-08T16:23:22.874Z"
   },
   {
    "duration": 7,
    "start_time": "2023-06-08T16:23:22.890Z"
   },
   {
    "duration": 170,
    "start_time": "2023-06-08T16:23:22.898Z"
   },
   {
    "duration": 15,
    "start_time": "2023-06-08T16:23:23.070Z"
   },
   {
    "duration": 17,
    "start_time": "2023-06-08T16:23:23.087Z"
   },
   {
    "duration": 77,
    "start_time": "2023-06-08T16:23:23.106Z"
   },
   {
    "duration": 6,
    "start_time": "2023-06-08T16:23:23.187Z"
   },
   {
    "duration": 184,
    "start_time": "2023-06-08T16:23:23.195Z"
   },
   {
    "duration": 106,
    "start_time": "2023-06-08T16:23:23.380Z"
   },
   {
    "duration": 333,
    "start_time": "2023-06-08T16:23:23.488Z"
   },
   {
    "duration": 115,
    "start_time": "2023-06-08T16:23:23.822Z"
   },
   {
    "duration": 260,
    "start_time": "2023-06-08T16:23:23.939Z"
   },
   {
    "duration": 113,
    "start_time": "2023-06-08T16:23:24.202Z"
   },
   {
    "duration": 30,
    "start_time": "2023-06-08T16:23:24.317Z"
   },
   {
    "duration": 71,
    "start_time": "2023-06-08T16:23:24.350Z"
   },
   {
    "duration": 63,
    "start_time": "2023-06-08T16:23:24.423Z"
   },
   {
    "duration": 24,
    "start_time": "2023-06-08T16:23:24.488Z"
   },
   {
    "duration": 26,
    "start_time": "2023-06-08T16:23:24.513Z"
   },
   {
    "duration": 495,
    "start_time": "2023-06-08T16:23:24.540Z"
   },
   {
    "duration": 111,
    "start_time": "2023-06-08T16:23:25.037Z"
   },
   {
    "duration": 185,
    "start_time": "2023-06-08T16:23:25.149Z"
   },
   {
    "duration": 494,
    "start_time": "2023-06-08T16:23:25.336Z"
   },
   {
    "duration": 106,
    "start_time": "2023-06-08T16:23:25.831Z"
   },
   {
    "duration": 107,
    "start_time": "2023-06-08T16:23:25.938Z"
   },
   {
    "duration": 12,
    "start_time": "2023-06-08T16:23:26.047Z"
   },
   {
    "duration": 16,
    "start_time": "2023-06-08T16:23:26.077Z"
   },
   {
    "duration": 52,
    "start_time": "2023-06-08T16:23:26.094Z"
   },
   {
    "duration": 28,
    "start_time": "2023-06-08T16:23:26.148Z"
   },
   {
    "duration": 26,
    "start_time": "2023-06-08T16:23:26.177Z"
   },
   {
    "duration": 10,
    "start_time": "2023-06-08T16:23:26.205Z"
   },
   {
    "duration": 58,
    "start_time": "2023-06-08T16:23:26.217Z"
   },
   {
    "duration": 26,
    "start_time": "2023-06-08T16:23:26.277Z"
   },
   {
    "duration": 17,
    "start_time": "2023-06-08T16:23:26.304Z"
   },
   {
    "duration": 17,
    "start_time": "2023-06-08T16:23:26.323Z"
   },
   {
    "duration": 36,
    "start_time": "2023-06-08T16:23:26.342Z"
   },
   {
    "duration": 44,
    "start_time": "2023-06-08T16:23:26.380Z"
   },
   {
    "duration": 45,
    "start_time": "2023-06-08T16:23:26.426Z"
   },
   {
    "duration": 255,
    "start_time": "2023-06-08T16:23:26.473Z"
   },
   {
    "duration": 5,
    "start_time": "2023-06-08T16:23:26.730Z"
   },
   {
    "duration": 19,
    "start_time": "2023-06-08T16:23:26.736Z"
   },
   {
    "duration": 190,
    "start_time": "2023-06-08T16:23:26.757Z"
   },
   {
    "duration": 198,
    "start_time": "2023-06-08T16:23:26.949Z"
   },
   {
    "duration": 218,
    "start_time": "2023-06-08T16:23:27.149Z"
   },
   {
    "duration": 1953,
    "start_time": "2023-06-08T16:23:27.369Z"
   },
   {
    "duration": 432,
    "start_time": "2023-06-08T16:24:33.479Z"
   },
   {
    "duration": 3,
    "start_time": "2023-06-08T16:24:33.913Z"
   },
   {
    "duration": 335,
    "start_time": "2023-06-08T16:24:33.919Z"
   },
   {
    "duration": 3,
    "start_time": "2023-06-08T16:24:34.256Z"
   },
   {
    "duration": 5,
    "start_time": "2023-06-08T16:24:34.261Z"
   },
   {
    "duration": 47,
    "start_time": "2023-06-08T16:24:34.268Z"
   },
   {
    "duration": 12,
    "start_time": "2023-06-08T16:24:34.316Z"
   },
   {
    "duration": 46,
    "start_time": "2023-06-08T16:24:34.330Z"
   },
   {
    "duration": 12,
    "start_time": "2023-06-08T16:24:34.377Z"
   },
   {
    "duration": 28,
    "start_time": "2023-06-08T16:24:34.391Z"
   },
   {
    "duration": 22,
    "start_time": "2023-06-08T16:24:34.421Z"
   },
   {
    "duration": 30,
    "start_time": "2023-06-08T16:24:34.444Z"
   },
   {
    "duration": 49,
    "start_time": "2023-06-08T16:24:34.476Z"
   },
   {
    "duration": 25,
    "start_time": "2023-06-08T16:24:34.527Z"
   },
   {
    "duration": 20,
    "start_time": "2023-06-08T16:24:34.554Z"
   },
   {
    "duration": 10,
    "start_time": "2023-06-08T16:24:34.576Z"
   },
   {
    "duration": 26,
    "start_time": "2023-06-08T16:24:34.589Z"
   },
   {
    "duration": 5,
    "start_time": "2023-06-08T16:24:34.617Z"
   },
   {
    "duration": 9,
    "start_time": "2023-06-08T16:24:34.624Z"
   },
   {
    "duration": 11,
    "start_time": "2023-06-08T16:24:34.635Z"
   },
   {
    "duration": 8,
    "start_time": "2023-06-08T16:24:34.648Z"
   },
   {
    "duration": 25,
    "start_time": "2023-06-08T16:24:34.658Z"
   },
   {
    "duration": 7,
    "start_time": "2023-06-08T16:24:34.686Z"
   },
   {
    "duration": 164,
    "start_time": "2023-06-08T16:24:34.695Z"
   },
   {
    "duration": 7,
    "start_time": "2023-06-08T16:24:34.860Z"
   },
   {
    "duration": 21,
    "start_time": "2023-06-08T16:24:34.876Z"
   },
   {
    "duration": 77,
    "start_time": "2023-06-08T16:24:34.899Z"
   },
   {
    "duration": 6,
    "start_time": "2023-06-08T16:24:34.980Z"
   },
   {
    "duration": 175,
    "start_time": "2023-06-08T16:24:34.987Z"
   },
   {
    "duration": 113,
    "start_time": "2023-06-08T16:24:35.164Z"
   },
   {
    "duration": 333,
    "start_time": "2023-06-08T16:24:35.278Z"
   },
   {
    "duration": 123,
    "start_time": "2023-06-08T16:24:35.613Z"
   },
   {
    "duration": 257,
    "start_time": "2023-06-08T16:24:35.738Z"
   },
   {
    "duration": 125,
    "start_time": "2023-06-08T16:24:35.996Z"
   },
   {
    "duration": 23,
    "start_time": "2023-06-08T16:24:36.122Z"
   },
   {
    "duration": 32,
    "start_time": "2023-06-08T16:24:36.147Z"
   },
   {
    "duration": 24,
    "start_time": "2023-06-08T16:24:36.181Z"
   },
   {
    "duration": 31,
    "start_time": "2023-06-08T16:24:36.207Z"
   },
   {
    "duration": 46,
    "start_time": "2023-06-08T16:24:36.240Z"
   },
   {
    "duration": 569,
    "start_time": "2023-06-08T16:24:36.288Z"
   },
   {
    "duration": 98,
    "start_time": "2023-06-08T16:24:36.858Z"
   },
   {
    "duration": 186,
    "start_time": "2023-06-08T16:24:36.957Z"
   },
   {
    "duration": 490,
    "start_time": "2023-06-08T16:24:37.144Z"
   },
   {
    "duration": 138,
    "start_time": "2023-06-08T16:24:37.636Z"
   },
   {
    "duration": 119,
    "start_time": "2023-06-08T16:24:37.781Z"
   },
   {
    "duration": 13,
    "start_time": "2023-06-08T16:24:37.901Z"
   },
   {
    "duration": 21,
    "start_time": "2023-06-08T16:24:37.915Z"
   },
   {
    "duration": 47,
    "start_time": "2023-06-08T16:24:37.938Z"
   },
   {
    "duration": 26,
    "start_time": "2023-06-08T16:24:37.987Z"
   },
   {
    "duration": 35,
    "start_time": "2023-06-08T16:24:38.015Z"
   },
   {
    "duration": 4,
    "start_time": "2023-06-08T16:24:38.052Z"
   },
   {
    "duration": 52,
    "start_time": "2023-06-08T16:24:38.058Z"
   },
   {
    "duration": 27,
    "start_time": "2023-06-08T16:24:38.112Z"
   },
   {
    "duration": 15,
    "start_time": "2023-06-08T16:24:38.141Z"
   },
   {
    "duration": 18,
    "start_time": "2023-06-08T16:24:38.158Z"
   },
   {
    "duration": 27,
    "start_time": "2023-06-08T16:24:38.178Z"
   },
   {
    "duration": 23,
    "start_time": "2023-06-08T16:24:38.207Z"
   },
   {
    "duration": 21,
    "start_time": "2023-06-08T16:24:38.232Z"
   },
   {
    "duration": 237,
    "start_time": "2023-06-08T16:24:38.255Z"
   },
   {
    "duration": 4,
    "start_time": "2023-06-08T16:24:38.493Z"
   },
   {
    "duration": 31,
    "start_time": "2023-06-08T16:24:38.499Z"
   },
   {
    "duration": 171,
    "start_time": "2023-06-08T16:24:38.532Z"
   },
   {
    "duration": 167,
    "start_time": "2023-06-08T16:24:38.705Z"
   },
   {
    "duration": 213,
    "start_time": "2023-06-08T16:24:38.876Z"
   },
   {
    "duration": 990,
    "start_time": "2023-06-08T16:24:39.091Z"
   },
   {
    "duration": 57,
    "start_time": "2023-06-08T16:26:28.190Z"
   },
   {
    "duration": 371,
    "start_time": "2023-06-08T16:29:32.844Z"
   },
   {
    "duration": 2,
    "start_time": "2023-06-08T16:29:33.217Z"
   },
   {
    "duration": 245,
    "start_time": "2023-06-08T16:29:33.221Z"
   },
   {
    "duration": 2,
    "start_time": "2023-06-08T16:29:33.468Z"
   },
   {
    "duration": 19,
    "start_time": "2023-06-08T16:29:33.472Z"
   },
   {
    "duration": 50,
    "start_time": "2023-06-08T16:29:33.495Z"
   },
   {
    "duration": 12,
    "start_time": "2023-06-08T16:29:33.546Z"
   },
   {
    "duration": 48,
    "start_time": "2023-06-08T16:29:33.559Z"
   },
   {
    "duration": 12,
    "start_time": "2023-06-08T16:29:33.608Z"
   },
   {
    "duration": 21,
    "start_time": "2023-06-08T16:29:33.624Z"
   },
   {
    "duration": 9,
    "start_time": "2023-06-08T16:29:33.646Z"
   },
   {
    "duration": 17,
    "start_time": "2023-06-08T16:29:33.657Z"
   },
   {
    "duration": 18,
    "start_time": "2023-06-08T16:29:33.676Z"
   },
   {
    "duration": 10,
    "start_time": "2023-06-08T16:29:33.696Z"
   },
   {
    "duration": 9,
    "start_time": "2023-06-08T16:29:33.707Z"
   },
   {
    "duration": 8,
    "start_time": "2023-06-08T16:29:33.717Z"
   },
   {
    "duration": 8,
    "start_time": "2023-06-08T16:29:33.727Z"
   },
   {
    "duration": 16,
    "start_time": "2023-06-08T16:29:33.736Z"
   },
   {
    "duration": 9,
    "start_time": "2023-06-08T16:29:33.754Z"
   },
   {
    "duration": 6,
    "start_time": "2023-06-08T16:29:33.764Z"
   },
   {
    "duration": 13,
    "start_time": "2023-06-08T16:29:33.771Z"
   },
   {
    "duration": 15,
    "start_time": "2023-06-08T16:29:33.785Z"
   },
   {
    "duration": 4,
    "start_time": "2023-06-08T16:29:33.802Z"
   },
   {
    "duration": 150,
    "start_time": "2023-06-08T16:29:33.808Z"
   },
   {
    "duration": 6,
    "start_time": "2023-06-08T16:29:33.960Z"
   },
   {
    "duration": 21,
    "start_time": "2023-06-08T16:29:33.967Z"
   },
   {
    "duration": 68,
    "start_time": "2023-06-08T16:29:33.989Z"
   },
   {
    "duration": 5,
    "start_time": "2023-06-08T16:29:34.061Z"
   },
   {
    "duration": 167,
    "start_time": "2023-06-08T16:29:34.067Z"
   },
   {
    "duration": 114,
    "start_time": "2023-06-08T16:29:34.235Z"
   },
   {
    "duration": 311,
    "start_time": "2023-06-08T16:29:34.351Z"
   },
   {
    "duration": 127,
    "start_time": "2023-06-08T16:29:34.663Z"
   },
   {
    "duration": 259,
    "start_time": "2023-06-08T16:29:34.793Z"
   },
   {
    "duration": 112,
    "start_time": "2023-06-08T16:29:35.054Z"
   },
   {
    "duration": 38,
    "start_time": "2023-06-08T16:29:35.167Z"
   },
   {
    "duration": 20,
    "start_time": "2023-06-08T16:29:35.207Z"
   },
   {
    "duration": 22,
    "start_time": "2023-06-08T16:29:35.228Z"
   },
   {
    "duration": 8,
    "start_time": "2023-06-08T16:29:35.251Z"
   },
   {
    "duration": 7,
    "start_time": "2023-06-08T16:29:35.287Z"
   },
   {
    "duration": 522,
    "start_time": "2023-06-08T16:29:35.296Z"
   },
   {
    "duration": 98,
    "start_time": "2023-06-08T16:29:35.819Z"
   },
   {
    "duration": 179,
    "start_time": "2023-06-08T16:29:35.919Z"
   },
   {
    "duration": 562,
    "start_time": "2023-06-08T16:29:36.100Z"
   },
   {
    "duration": 124,
    "start_time": "2023-06-08T16:29:36.664Z"
   },
   {
    "duration": 109,
    "start_time": "2023-06-08T16:29:36.790Z"
   },
   {
    "duration": 15,
    "start_time": "2023-06-08T16:29:36.901Z"
   },
   {
    "duration": 14,
    "start_time": "2023-06-08T16:29:36.918Z"
   },
   {
    "duration": 68,
    "start_time": "2023-06-08T16:29:36.934Z"
   },
   {
    "duration": 30,
    "start_time": "2023-06-08T16:29:37.003Z"
   },
   {
    "duration": 53,
    "start_time": "2023-06-08T16:29:37.035Z"
   },
   {
    "duration": 5,
    "start_time": "2023-06-08T16:29:37.090Z"
   },
   {
    "duration": 17,
    "start_time": "2023-06-08T16:29:37.096Z"
   },
   {
    "duration": 16,
    "start_time": "2023-06-08T16:29:37.115Z"
   },
   {
    "duration": 2,
    "start_time": "2023-06-08T16:29:37.133Z"
   },
   {
    "duration": 13,
    "start_time": "2023-06-08T16:29:37.136Z"
   },
   {
    "duration": 11,
    "start_time": "2023-06-08T16:29:37.151Z"
   },
   {
    "duration": 19,
    "start_time": "2023-06-08T16:29:37.164Z"
   },
   {
    "duration": 8,
    "start_time": "2023-06-08T16:29:37.189Z"
   },
   {
    "duration": 262,
    "start_time": "2023-06-08T16:29:37.199Z"
   },
   {
    "duration": 5,
    "start_time": "2023-06-08T16:29:37.464Z"
   },
   {
    "duration": 19,
    "start_time": "2023-06-08T16:29:37.471Z"
   },
   {
    "duration": 163,
    "start_time": "2023-06-08T16:29:37.492Z"
   },
   {
    "duration": 191,
    "start_time": "2023-06-08T16:29:37.657Z"
   },
   {
    "duration": 229,
    "start_time": "2023-06-08T16:29:37.850Z"
   },
   {
    "duration": 1028,
    "start_time": "2023-06-08T16:29:38.086Z"
   },
   {
    "duration": 2077,
    "start_time": "2023-06-08T16:33:05.290Z"
   },
   {
    "duration": 439,
    "start_time": "2023-06-08T16:33:36.549Z"
   },
   {
    "duration": 3,
    "start_time": "2023-06-08T16:33:36.991Z"
   },
   {
    "duration": 301,
    "start_time": "2023-06-08T16:33:36.995Z"
   },
   {
    "duration": 3,
    "start_time": "2023-06-08T16:33:37.298Z"
   },
   {
    "duration": 11,
    "start_time": "2023-06-08T16:33:37.303Z"
   },
   {
    "duration": 53,
    "start_time": "2023-06-08T16:33:37.315Z"
   },
   {
    "duration": 25,
    "start_time": "2023-06-08T16:33:37.370Z"
   },
   {
    "duration": 41,
    "start_time": "2023-06-08T16:33:37.397Z"
   },
   {
    "duration": 11,
    "start_time": "2023-06-08T16:33:37.440Z"
   },
   {
    "duration": 20,
    "start_time": "2023-06-08T16:33:37.454Z"
   },
   {
    "duration": 21,
    "start_time": "2023-06-08T16:33:37.475Z"
   },
   {
    "duration": 16,
    "start_time": "2023-06-08T16:33:37.498Z"
   },
   {
    "duration": 10,
    "start_time": "2023-06-08T16:33:37.516Z"
   },
   {
    "duration": 7,
    "start_time": "2023-06-08T16:33:37.529Z"
   },
   {
    "duration": 14,
    "start_time": "2023-06-08T16:33:37.538Z"
   },
   {
    "duration": 9,
    "start_time": "2023-06-08T16:33:37.554Z"
   },
   {
    "duration": 31,
    "start_time": "2023-06-08T16:33:37.564Z"
   },
   {
    "duration": 19,
    "start_time": "2023-06-08T16:33:37.597Z"
   },
   {
    "duration": 7,
    "start_time": "2023-06-08T16:33:37.618Z"
   },
   {
    "duration": 7,
    "start_time": "2023-06-08T16:33:37.627Z"
   },
   {
    "duration": 8,
    "start_time": "2023-06-08T16:33:37.636Z"
   },
   {
    "duration": 12,
    "start_time": "2023-06-08T16:33:37.645Z"
   },
   {
    "duration": 5,
    "start_time": "2023-06-08T16:33:37.659Z"
   },
   {
    "duration": 208,
    "start_time": "2023-06-08T16:33:37.665Z"
   },
   {
    "duration": 18,
    "start_time": "2023-06-08T16:33:37.875Z"
   },
   {
    "duration": 15,
    "start_time": "2023-06-08T16:33:37.895Z"
   },
   {
    "duration": 83,
    "start_time": "2023-06-08T16:33:37.911Z"
   },
   {
    "duration": 6,
    "start_time": "2023-06-08T16:33:37.998Z"
   },
   {
    "duration": 210,
    "start_time": "2023-06-08T16:33:38.006Z"
   },
   {
    "duration": 109,
    "start_time": "2023-06-08T16:33:38.218Z"
   },
   {
    "duration": 345,
    "start_time": "2023-06-08T16:33:38.329Z"
   },
   {
    "duration": 123,
    "start_time": "2023-06-08T16:33:38.676Z"
   },
   {
    "duration": 271,
    "start_time": "2023-06-08T16:33:38.801Z"
   },
   {
    "duration": 129,
    "start_time": "2023-06-08T16:33:39.074Z"
   },
   {
    "duration": 24,
    "start_time": "2023-06-08T16:33:39.205Z"
   },
   {
    "duration": 23,
    "start_time": "2023-06-08T16:33:39.231Z"
   },
   {
    "duration": 34,
    "start_time": "2023-06-08T16:33:39.280Z"
   },
   {
    "duration": 9,
    "start_time": "2023-06-08T16:33:39.316Z"
   },
   {
    "duration": 9,
    "start_time": "2023-06-08T16:33:39.327Z"
   },
   {
    "duration": 558,
    "start_time": "2023-06-08T16:33:39.338Z"
   },
   {
    "duration": 103,
    "start_time": "2023-06-08T16:33:39.898Z"
   },
   {
    "duration": 191,
    "start_time": "2023-06-08T16:33:40.002Z"
   },
   {
    "duration": 520,
    "start_time": "2023-06-08T16:33:40.195Z"
   },
   {
    "duration": 124,
    "start_time": "2023-06-08T16:33:40.716Z"
   },
   {
    "duration": 115,
    "start_time": "2023-06-08T16:33:40.841Z"
   },
   {
    "duration": 33,
    "start_time": "2023-06-08T16:33:40.958Z"
   },
   {
    "duration": 13,
    "start_time": "2023-06-08T16:33:40.993Z"
   },
   {
    "duration": 47,
    "start_time": "2023-06-08T16:33:41.008Z"
   },
   {
    "duration": 1709,
    "start_time": "2023-06-08T16:33:41.056Z"
   },
   {
    "duration": 0,
    "start_time": "2023-06-08T16:33:42.766Z"
   },
   {
    "duration": 0,
    "start_time": "2023-06-08T16:33:42.768Z"
   },
   {
    "duration": 0,
    "start_time": "2023-06-08T16:33:42.769Z"
   },
   {
    "duration": 0,
    "start_time": "2023-06-08T16:33:42.770Z"
   },
   {
    "duration": 0,
    "start_time": "2023-06-08T16:33:42.771Z"
   },
   {
    "duration": 0,
    "start_time": "2023-06-08T16:33:42.772Z"
   },
   {
    "duration": 0,
    "start_time": "2023-06-08T16:33:42.773Z"
   },
   {
    "duration": 0,
    "start_time": "2023-06-08T16:33:42.774Z"
   },
   {
    "duration": 0,
    "start_time": "2023-06-08T16:33:42.775Z"
   },
   {
    "duration": 0,
    "start_time": "2023-06-08T16:33:42.775Z"
   },
   {
    "duration": 0,
    "start_time": "2023-06-08T16:33:42.776Z"
   },
   {
    "duration": 0,
    "start_time": "2023-06-08T16:33:42.780Z"
   },
   {
    "duration": 0,
    "start_time": "2023-06-08T16:33:42.781Z"
   },
   {
    "duration": 0,
    "start_time": "2023-06-08T16:33:42.781Z"
   },
   {
    "duration": 0,
    "start_time": "2023-06-08T16:33:42.782Z"
   },
   {
    "duration": 0,
    "start_time": "2023-06-08T16:33:42.782Z"
   },
   {
    "duration": 0,
    "start_time": "2023-06-08T16:33:42.783Z"
   },
   {
    "duration": 11,
    "start_time": "2023-06-08T16:34:10.491Z"
   },
   {
    "duration": 1593,
    "start_time": "2023-06-08T16:34:27.413Z"
   },
   {
    "duration": 1854,
    "start_time": "2023-06-08T16:34:41.240Z"
   },
   {
    "duration": 2344,
    "start_time": "2023-06-08T16:35:10.222Z"
   },
   {
    "duration": 9,
    "start_time": "2023-06-08T16:35:23.480Z"
   },
   {
    "duration": 36,
    "start_time": "2023-06-08T16:35:49.731Z"
   },
   {
    "duration": 2305,
    "start_time": "2023-06-08T16:38:13.725Z"
   },
   {
    "duration": 44,
    "start_time": "2023-06-08T16:39:44.999Z"
   },
   {
    "duration": 46,
    "start_time": "2023-06-08T16:40:13.280Z"
   },
   {
    "duration": 108,
    "start_time": "2023-06-08T16:41:52.060Z"
   },
   {
    "duration": 9,
    "start_time": "2023-06-08T16:43:02.514Z"
   },
   {
    "duration": 11,
    "start_time": "2023-06-08T16:43:08.204Z"
   },
   {
    "duration": 9,
    "start_time": "2023-06-08T16:43:25.890Z"
   },
   {
    "duration": 27,
    "start_time": "2023-06-08T16:43:33.268Z"
   },
   {
    "duration": 23,
    "start_time": "2023-06-08T16:43:43.944Z"
   },
   {
    "duration": 26,
    "start_time": "2023-06-08T16:44:34.785Z"
   },
   {
    "duration": 3303,
    "start_time": "2023-06-08T16:45:00.405Z"
   },
   {
    "duration": 30,
    "start_time": "2023-06-08T16:45:08.388Z"
   },
   {
    "duration": 90,
    "start_time": "2023-06-08T16:46:00.353Z"
   },
   {
    "duration": 15,
    "start_time": "2023-06-08T16:46:08.730Z"
   },
   {
    "duration": 122,
    "start_time": "2023-06-08T16:47:18.955Z"
   },
   {
    "duration": 446,
    "start_time": "2023-06-08T16:47:34.961Z"
   },
   {
    "duration": 3,
    "start_time": "2023-06-08T16:47:35.409Z"
   },
   {
    "duration": 311,
    "start_time": "2023-06-08T16:47:35.415Z"
   },
   {
    "duration": 3,
    "start_time": "2023-06-08T16:47:35.728Z"
   },
   {
    "duration": 12,
    "start_time": "2023-06-08T16:47:35.733Z"
   },
   {
    "duration": 48,
    "start_time": "2023-06-08T16:47:35.747Z"
   },
   {
    "duration": 12,
    "start_time": "2023-06-08T16:47:35.797Z"
   },
   {
    "duration": 65,
    "start_time": "2023-06-08T16:47:35.810Z"
   },
   {
    "duration": 11,
    "start_time": "2023-06-08T16:47:35.877Z"
   },
   {
    "duration": 20,
    "start_time": "2023-06-08T16:47:35.891Z"
   },
   {
    "duration": 11,
    "start_time": "2023-06-08T16:47:35.912Z"
   },
   {
    "duration": 10,
    "start_time": "2023-06-08T16:47:35.924Z"
   },
   {
    "duration": 10,
    "start_time": "2023-06-08T16:47:35.936Z"
   },
   {
    "duration": 12,
    "start_time": "2023-06-08T16:47:35.947Z"
   },
   {
    "duration": 7,
    "start_time": "2023-06-08T16:47:35.961Z"
   },
   {
    "duration": 6,
    "start_time": "2023-06-08T16:47:35.970Z"
   },
   {
    "duration": 9,
    "start_time": "2023-06-08T16:47:35.978Z"
   },
   {
    "duration": 4,
    "start_time": "2023-06-08T16:47:35.989Z"
   },
   {
    "duration": 13,
    "start_time": "2023-06-08T16:47:35.994Z"
   },
   {
    "duration": 5,
    "start_time": "2023-06-08T16:47:36.010Z"
   },
   {
    "duration": 6,
    "start_time": "2023-06-08T16:47:36.017Z"
   },
   {
    "duration": 13,
    "start_time": "2023-06-08T16:47:36.025Z"
   },
   {
    "duration": 7,
    "start_time": "2023-06-08T16:47:36.040Z"
   },
   {
    "duration": 142,
    "start_time": "2023-06-08T16:47:36.049Z"
   },
   {
    "duration": 6,
    "start_time": "2023-06-08T16:47:36.193Z"
   },
   {
    "duration": 17,
    "start_time": "2023-06-08T16:47:36.201Z"
   },
   {
    "duration": 91,
    "start_time": "2023-06-08T16:47:36.219Z"
   },
   {
    "duration": 7,
    "start_time": "2023-06-08T16:47:36.315Z"
   },
   {
    "duration": 364,
    "start_time": "2023-06-08T16:47:36.324Z"
   },
   {
    "duration": 194,
    "start_time": "2023-06-08T16:47:36.690Z"
   },
   {
    "duration": 328,
    "start_time": "2023-06-08T16:47:36.886Z"
   },
   {
    "duration": 110,
    "start_time": "2023-06-08T16:47:37.215Z"
   },
   {
    "duration": 244,
    "start_time": "2023-06-08T16:47:37.328Z"
   },
   {
    "duration": 107,
    "start_time": "2023-06-08T16:47:37.576Z"
   },
   {
    "duration": 27,
    "start_time": "2023-06-08T16:47:37.684Z"
   },
   {
    "duration": 22,
    "start_time": "2023-06-08T16:47:37.713Z"
   },
   {
    "duration": 51,
    "start_time": "2023-06-08T16:47:37.737Z"
   },
   {
    "duration": 11,
    "start_time": "2023-06-08T16:47:37.790Z"
   },
   {
    "duration": 8,
    "start_time": "2023-06-08T16:47:37.802Z"
   },
   {
    "duration": 514,
    "start_time": "2023-06-08T16:47:37.811Z"
   },
   {
    "duration": 102,
    "start_time": "2023-06-08T16:47:38.327Z"
   },
   {
    "duration": 181,
    "start_time": "2023-06-08T16:47:38.431Z"
   },
   {
    "duration": 474,
    "start_time": "2023-06-08T16:47:38.614Z"
   },
   {
    "duration": 102,
    "start_time": "2023-06-08T16:47:39.089Z"
   },
   {
    "duration": 108,
    "start_time": "2023-06-08T16:47:39.193Z"
   },
   {
    "duration": 13,
    "start_time": "2023-06-08T16:47:39.302Z"
   },
   {
    "duration": 23,
    "start_time": "2023-06-08T16:47:39.316Z"
   },
   {
    "duration": 88,
    "start_time": "2023-06-08T16:47:39.341Z"
   },
   {
    "duration": 0,
    "start_time": "2023-06-08T16:47:39.431Z"
   },
   {
    "duration": 0,
    "start_time": "2023-06-08T16:47:39.432Z"
   },
   {
    "duration": 0,
    "start_time": "2023-06-08T16:47:39.433Z"
   },
   {
    "duration": 0,
    "start_time": "2023-06-08T16:47:39.435Z"
   },
   {
    "duration": 0,
    "start_time": "2023-06-08T16:47:39.436Z"
   },
   {
    "duration": 0,
    "start_time": "2023-06-08T16:47:39.437Z"
   },
   {
    "duration": 0,
    "start_time": "2023-06-08T16:47:39.438Z"
   },
   {
    "duration": 0,
    "start_time": "2023-06-08T16:47:39.439Z"
   },
   {
    "duration": 0,
    "start_time": "2023-06-08T16:47:39.440Z"
   },
   {
    "duration": 0,
    "start_time": "2023-06-08T16:47:39.441Z"
   },
   {
    "duration": 0,
    "start_time": "2023-06-08T16:47:39.442Z"
   },
   {
    "duration": 0,
    "start_time": "2023-06-08T16:47:39.443Z"
   },
   {
    "duration": 0,
    "start_time": "2023-06-08T16:47:39.444Z"
   },
   {
    "duration": 0,
    "start_time": "2023-06-08T16:47:39.446Z"
   },
   {
    "duration": 0,
    "start_time": "2023-06-08T16:47:39.447Z"
   },
   {
    "duration": 0,
    "start_time": "2023-06-08T16:47:39.448Z"
   },
   {
    "duration": 0,
    "start_time": "2023-06-08T16:47:39.450Z"
   },
   {
    "duration": 77,
    "start_time": "2023-06-08T16:47:57.180Z"
   },
   {
    "duration": 388,
    "start_time": "2023-06-08T16:48:32.688Z"
   },
   {
    "duration": 3,
    "start_time": "2023-06-08T16:48:33.078Z"
   },
   {
    "duration": 224,
    "start_time": "2023-06-08T16:48:33.082Z"
   },
   {
    "duration": 2,
    "start_time": "2023-06-08T16:48:33.309Z"
   },
   {
    "duration": 6,
    "start_time": "2023-06-08T16:48:33.313Z"
   },
   {
    "duration": 45,
    "start_time": "2023-06-08T16:48:33.320Z"
   },
   {
    "duration": 11,
    "start_time": "2023-06-08T16:48:33.366Z"
   },
   {
    "duration": 36,
    "start_time": "2023-06-08T16:48:33.379Z"
   },
   {
    "duration": 13,
    "start_time": "2023-06-08T16:48:33.417Z"
   },
   {
    "duration": 27,
    "start_time": "2023-06-08T16:48:33.433Z"
   },
   {
    "duration": 15,
    "start_time": "2023-06-08T16:48:33.462Z"
   },
   {
    "duration": 12,
    "start_time": "2023-06-08T16:48:33.478Z"
   },
   {
    "duration": 8,
    "start_time": "2023-06-08T16:48:33.491Z"
   },
   {
    "duration": 12,
    "start_time": "2023-06-08T16:48:33.501Z"
   },
   {
    "duration": 5,
    "start_time": "2023-06-08T16:48:33.514Z"
   },
   {
    "duration": 10,
    "start_time": "2023-06-08T16:48:33.521Z"
   },
   {
    "duration": 15,
    "start_time": "2023-06-08T16:48:33.533Z"
   },
   {
    "duration": 5,
    "start_time": "2023-06-08T16:48:33.549Z"
   },
   {
    "duration": 12,
    "start_time": "2023-06-08T16:48:33.555Z"
   },
   {
    "duration": 5,
    "start_time": "2023-06-08T16:48:33.577Z"
   },
   {
    "duration": 8,
    "start_time": "2023-06-08T16:48:33.583Z"
   },
   {
    "duration": 20,
    "start_time": "2023-06-08T16:48:33.593Z"
   },
   {
    "duration": 11,
    "start_time": "2023-06-08T16:48:33.615Z"
   },
   {
    "duration": 158,
    "start_time": "2023-06-08T16:48:33.628Z"
   },
   {
    "duration": 6,
    "start_time": "2023-06-08T16:48:33.788Z"
   },
   {
    "duration": 9,
    "start_time": "2023-06-08T16:48:33.796Z"
   },
   {
    "duration": 84,
    "start_time": "2023-06-08T16:48:33.806Z"
   },
   {
    "duration": 5,
    "start_time": "2023-06-08T16:48:33.894Z"
   },
   {
    "duration": 162,
    "start_time": "2023-06-08T16:48:33.900Z"
   },
   {
    "duration": 101,
    "start_time": "2023-06-08T16:48:34.063Z"
   },
   {
    "duration": 317,
    "start_time": "2023-06-08T16:48:34.165Z"
   },
   {
    "duration": 117,
    "start_time": "2023-06-08T16:48:34.483Z"
   },
   {
    "duration": 254,
    "start_time": "2023-06-08T16:48:34.601Z"
   },
   {
    "duration": 125,
    "start_time": "2023-06-08T16:48:34.857Z"
   },
   {
    "duration": 22,
    "start_time": "2023-06-08T16:48:34.983Z"
   },
   {
    "duration": 23,
    "start_time": "2023-06-08T16:48:35.007Z"
   },
   {
    "duration": 48,
    "start_time": "2023-06-08T16:48:35.031Z"
   },
   {
    "duration": 11,
    "start_time": "2023-06-08T16:48:35.081Z"
   },
   {
    "duration": 14,
    "start_time": "2023-06-08T16:48:35.094Z"
   },
   {
    "duration": 512,
    "start_time": "2023-06-08T16:48:35.110Z"
   },
   {
    "duration": 112,
    "start_time": "2023-06-08T16:48:35.625Z"
   },
   {
    "duration": 197,
    "start_time": "2023-06-08T16:48:35.740Z"
   },
   {
    "duration": 575,
    "start_time": "2023-06-08T16:48:35.939Z"
   },
   {
    "duration": 114,
    "start_time": "2023-06-08T16:48:36.517Z"
   },
   {
    "duration": 111,
    "start_time": "2023-06-08T16:48:36.633Z"
   },
   {
    "duration": 12,
    "start_time": "2023-06-08T16:48:36.745Z"
   },
   {
    "duration": 27,
    "start_time": "2023-06-08T16:48:36.759Z"
   },
   {
    "duration": 83,
    "start_time": "2023-06-08T16:48:36.788Z"
   },
   {
    "duration": 0,
    "start_time": "2023-06-08T16:48:36.876Z"
   },
   {
    "duration": 0,
    "start_time": "2023-06-08T16:48:36.877Z"
   },
   {
    "duration": 0,
    "start_time": "2023-06-08T16:48:36.878Z"
   },
   {
    "duration": 0,
    "start_time": "2023-06-08T16:48:36.879Z"
   },
   {
    "duration": 0,
    "start_time": "2023-06-08T16:48:36.880Z"
   },
   {
    "duration": 0,
    "start_time": "2023-06-08T16:48:36.881Z"
   },
   {
    "duration": 0,
    "start_time": "2023-06-08T16:48:36.882Z"
   },
   {
    "duration": 0,
    "start_time": "2023-06-08T16:48:36.883Z"
   },
   {
    "duration": 0,
    "start_time": "2023-06-08T16:48:36.884Z"
   },
   {
    "duration": 0,
    "start_time": "2023-06-08T16:48:36.885Z"
   },
   {
    "duration": 0,
    "start_time": "2023-06-08T16:48:36.886Z"
   },
   {
    "duration": 0,
    "start_time": "2023-06-08T16:48:36.887Z"
   },
   {
    "duration": 0,
    "start_time": "2023-06-08T16:48:36.888Z"
   },
   {
    "duration": 0,
    "start_time": "2023-06-08T16:48:36.889Z"
   },
   {
    "duration": 0,
    "start_time": "2023-06-08T16:48:36.890Z"
   },
   {
    "duration": 0,
    "start_time": "2023-06-08T16:48:36.891Z"
   },
   {
    "duration": 0,
    "start_time": "2023-06-08T16:48:36.892Z"
   },
   {
    "duration": 27,
    "start_time": "2023-06-08T16:49:00.769Z"
   },
   {
    "duration": 14,
    "start_time": "2023-06-08T16:49:11.170Z"
   },
   {
    "duration": 14,
    "start_time": "2023-06-08T16:49:22.673Z"
   },
   {
    "duration": 5,
    "start_time": "2023-06-08T16:50:00.744Z"
   },
   {
    "duration": 15,
    "start_time": "2023-06-08T16:50:24.531Z"
   },
   {
    "duration": 35,
    "start_time": "2023-06-08T16:51:24.808Z"
   },
   {
    "duration": 28,
    "start_time": "2023-06-08T16:52:06.092Z"
   },
   {
    "duration": 33,
    "start_time": "2023-06-08T16:52:16.356Z"
   },
   {
    "duration": 37,
    "start_time": "2023-06-08T16:56:14.518Z"
   },
   {
    "duration": 2051,
    "start_time": "2023-06-08T17:18:38.635Z"
   },
   {
    "duration": 16,
    "start_time": "2023-06-08T17:18:49.498Z"
   },
   {
    "duration": 368,
    "start_time": "2023-06-08T17:20:08.317Z"
   },
   {
    "duration": 3,
    "start_time": "2023-06-08T17:20:08.687Z"
   },
   {
    "duration": 256,
    "start_time": "2023-06-08T17:20:08.691Z"
   },
   {
    "duration": 3,
    "start_time": "2023-06-08T17:20:08.949Z"
   },
   {
    "duration": 5,
    "start_time": "2023-06-08T17:20:08.955Z"
   },
   {
    "duration": 44,
    "start_time": "2023-06-08T17:20:08.962Z"
   },
   {
    "duration": 12,
    "start_time": "2023-06-08T17:20:09.007Z"
   },
   {
    "duration": 35,
    "start_time": "2023-06-08T17:20:09.021Z"
   },
   {
    "duration": 14,
    "start_time": "2023-06-08T17:20:09.057Z"
   },
   {
    "duration": 23,
    "start_time": "2023-06-08T17:20:09.073Z"
   },
   {
    "duration": 12,
    "start_time": "2023-06-08T17:20:09.098Z"
   },
   {
    "duration": 13,
    "start_time": "2023-06-08T17:20:09.111Z"
   },
   {
    "duration": 6,
    "start_time": "2023-06-08T17:20:09.126Z"
   },
   {
    "duration": 36,
    "start_time": "2023-06-08T17:20:09.135Z"
   },
   {
    "duration": 19,
    "start_time": "2023-06-08T17:20:09.173Z"
   },
   {
    "duration": 11,
    "start_time": "2023-06-08T17:20:09.194Z"
   },
   {
    "duration": 12,
    "start_time": "2023-06-08T17:20:09.207Z"
   },
   {
    "duration": 12,
    "start_time": "2023-06-08T17:20:09.220Z"
   },
   {
    "duration": 16,
    "start_time": "2023-06-08T17:20:09.234Z"
   },
   {
    "duration": 17,
    "start_time": "2023-06-08T17:20:09.251Z"
   },
   {
    "duration": 20,
    "start_time": "2023-06-08T17:20:09.270Z"
   },
   {
    "duration": 15,
    "start_time": "2023-06-08T17:20:09.292Z"
   },
   {
    "duration": 16,
    "start_time": "2023-06-08T17:20:09.309Z"
   },
   {
    "duration": 164,
    "start_time": "2023-06-08T17:20:09.328Z"
   },
   {
    "duration": 7,
    "start_time": "2023-06-08T17:20:09.494Z"
   },
   {
    "duration": 15,
    "start_time": "2023-06-08T17:20:09.503Z"
   },
   {
    "duration": 80,
    "start_time": "2023-06-08T17:20:09.520Z"
   },
   {
    "duration": 7,
    "start_time": "2023-06-08T17:20:09.602Z"
   },
   {
    "duration": 173,
    "start_time": "2023-06-08T17:20:09.610Z"
   },
   {
    "duration": 104,
    "start_time": "2023-06-08T17:20:09.785Z"
   },
   {
    "duration": 302,
    "start_time": "2023-06-08T17:20:09.891Z"
   },
   {
    "duration": 111,
    "start_time": "2023-06-08T17:20:10.195Z"
   },
   {
    "duration": 255,
    "start_time": "2023-06-08T17:20:10.308Z"
   },
   {
    "duration": 113,
    "start_time": "2023-06-08T17:20:10.565Z"
   },
   {
    "duration": 22,
    "start_time": "2023-06-08T17:20:10.680Z"
   },
   {
    "duration": 19,
    "start_time": "2023-06-08T17:20:10.704Z"
   },
   {
    "duration": 20,
    "start_time": "2023-06-08T17:20:10.725Z"
   },
   {
    "duration": 36,
    "start_time": "2023-06-08T17:20:10.747Z"
   },
   {
    "duration": 7,
    "start_time": "2023-06-08T17:20:10.785Z"
   },
   {
    "duration": 489,
    "start_time": "2023-06-08T17:20:10.794Z"
   },
   {
    "duration": 104,
    "start_time": "2023-06-08T17:20:11.287Z"
   },
   {
    "duration": 180,
    "start_time": "2023-06-08T17:20:11.398Z"
   },
   {
    "duration": 479,
    "start_time": "2023-06-08T17:20:11.579Z"
   },
   {
    "duration": 110,
    "start_time": "2023-06-08T17:20:12.059Z"
   },
   {
    "duration": 107,
    "start_time": "2023-06-08T17:20:12.171Z"
   },
   {
    "duration": 11,
    "start_time": "2023-06-08T17:20:12.280Z"
   },
   {
    "duration": 15,
    "start_time": "2023-06-08T17:20:12.293Z"
   },
   {
    "duration": 9,
    "start_time": "2023-06-08T17:20:12.310Z"
   },
   {
    "duration": 35,
    "start_time": "2023-06-08T17:20:12.321Z"
   },
   {
    "duration": 13,
    "start_time": "2023-06-08T17:20:12.377Z"
   },
   {
    "duration": 80,
    "start_time": "2023-06-08T17:20:12.392Z"
   },
   {
    "duration": 0,
    "start_time": "2023-06-08T17:20:12.474Z"
   },
   {
    "duration": 0,
    "start_time": "2023-06-08T17:20:12.477Z"
   },
   {
    "duration": 0,
    "start_time": "2023-06-08T17:20:12.478Z"
   },
   {
    "duration": 0,
    "start_time": "2023-06-08T17:20:12.479Z"
   },
   {
    "duration": 0,
    "start_time": "2023-06-08T17:20:12.480Z"
   },
   {
    "duration": 0,
    "start_time": "2023-06-08T17:20:12.482Z"
   },
   {
    "duration": 0,
    "start_time": "2023-06-08T17:20:12.483Z"
   },
   {
    "duration": 0,
    "start_time": "2023-06-08T17:20:12.484Z"
   },
   {
    "duration": 0,
    "start_time": "2023-06-08T17:20:12.485Z"
   },
   {
    "duration": 0,
    "start_time": "2023-06-08T17:20:12.486Z"
   },
   {
    "duration": 8,
    "start_time": "2023-06-08T17:29:43.906Z"
   },
   {
    "duration": 9,
    "start_time": "2023-06-08T17:32:18.589Z"
   },
   {
    "duration": 12,
    "start_time": "2023-06-08T17:32:36.956Z"
   },
   {
    "duration": 246,
    "start_time": "2023-06-08T17:34:40.490Z"
   },
   {
    "duration": 295,
    "start_time": "2023-06-08T17:34:58.149Z"
   },
   {
    "duration": 337,
    "start_time": "2023-06-08T17:35:07.138Z"
   },
   {
    "duration": 300,
    "start_time": "2023-06-08T17:35:15.295Z"
   },
   {
    "duration": 273,
    "start_time": "2023-06-08T17:37:32.698Z"
   },
   {
    "duration": 159,
    "start_time": "2023-06-08T17:37:57.310Z"
   },
   {
    "duration": 104,
    "start_time": "2023-06-08T17:38:30.470Z"
   },
   {
    "duration": 106,
    "start_time": "2023-06-08T17:38:40.706Z"
   },
   {
    "duration": 107,
    "start_time": "2023-06-08T17:38:49.601Z"
   },
   {
    "duration": 379,
    "start_time": "2023-06-08T17:40:34.354Z"
   },
   {
    "duration": 142,
    "start_time": "2023-06-08T17:42:04.908Z"
   },
   {
    "duration": 168,
    "start_time": "2023-06-08T17:42:20.019Z"
   },
   {
    "duration": 98,
    "start_time": "2023-06-08T17:42:54.235Z"
   },
   {
    "duration": 181,
    "start_time": "2023-06-08T17:43:26.908Z"
   },
   {
    "duration": 225,
    "start_time": "2023-06-08T17:43:46.411Z"
   },
   {
    "duration": 190,
    "start_time": "2023-06-08T17:44:01.841Z"
   },
   {
    "duration": 200,
    "start_time": "2023-06-08T17:44:14.108Z"
   },
   {
    "duration": 115,
    "start_time": "2023-06-08T17:45:17.488Z"
   },
   {
    "duration": 303,
    "start_time": "2023-06-08T17:45:34.907Z"
   },
   {
    "duration": 206,
    "start_time": "2023-06-08T17:45:55.814Z"
   },
   {
    "duration": 311,
    "start_time": "2023-06-08T17:46:22.599Z"
   },
   {
    "duration": 294,
    "start_time": "2023-06-08T17:46:27.971Z"
   },
   {
    "duration": 120,
    "start_time": "2023-06-08T17:47:01.277Z"
   },
   {
    "duration": 125,
    "start_time": "2023-06-08T17:47:20.180Z"
   },
   {
    "duration": 124,
    "start_time": "2023-06-08T17:47:43.381Z"
   },
   {
    "duration": 59,
    "start_time": "2023-06-08T17:48:18.206Z"
   },
   {
    "duration": 119,
    "start_time": "2023-06-08T17:48:30.537Z"
   },
   {
    "duration": 66,
    "start_time": "2023-06-08T17:49:14.385Z"
   },
   {
    "duration": 125,
    "start_time": "2023-06-08T17:49:18.860Z"
   },
   {
    "duration": 6,
    "start_time": "2023-06-08T17:50:48.690Z"
   },
   {
    "duration": 5,
    "start_time": "2023-06-08T17:51:03.291Z"
   },
   {
    "duration": 5,
    "start_time": "2023-06-08T17:51:21.559Z"
   },
   {
    "duration": 598,
    "start_time": "2023-06-08T17:52:57.345Z"
   },
   {
    "duration": 265,
    "start_time": "2023-06-08T17:53:32.634Z"
   },
   {
    "duration": 242,
    "start_time": "2023-06-08T17:53:43.186Z"
   },
   {
    "duration": 255,
    "start_time": "2023-06-08T17:54:24.295Z"
   },
   {
    "duration": 304,
    "start_time": "2023-06-08T17:54:31.737Z"
   },
   {
    "duration": 398,
    "start_time": "2023-06-08T17:54:58.118Z"
   },
   {
    "duration": 259,
    "start_time": "2023-06-08T17:55:03.555Z"
   },
   {
    "duration": 275,
    "start_time": "2023-06-08T17:55:44.055Z"
   },
   {
    "duration": 298,
    "start_time": "2023-06-08T17:55:48.042Z"
   },
   {
    "duration": 431,
    "start_time": "2023-06-08T17:56:01.670Z"
   },
   {
    "duration": 271,
    "start_time": "2023-06-08T17:56:13.844Z"
   },
   {
    "duration": 408,
    "start_time": "2023-06-08T17:56:18.352Z"
   },
   {
    "duration": 371,
    "start_time": "2023-06-08T17:58:40.323Z"
   },
   {
    "duration": 376,
    "start_time": "2023-06-08T17:58:49.979Z"
   },
   {
    "duration": 363,
    "start_time": "2023-06-08T17:59:49.323Z"
   },
   {
    "duration": 488,
    "start_time": "2023-06-08T17:59:58.347Z"
   },
   {
    "duration": 1454,
    "start_time": "2023-06-08T18:01:17.240Z"
   },
   {
    "duration": 96,
    "start_time": "2023-06-08T18:01:30.559Z"
   },
   {
    "duration": 7,
    "start_time": "2023-06-08T18:01:44.304Z"
   },
   {
    "duration": 243,
    "start_time": "2023-06-08T18:03:19.464Z"
   },
   {
    "duration": 388,
    "start_time": "2023-06-08T18:03:26.431Z"
   },
   {
    "duration": 585,
    "start_time": "2023-06-08T18:03:49.234Z"
   },
   {
    "duration": 451,
    "start_time": "2023-06-08T18:03:59.750Z"
   },
   {
    "duration": 470,
    "start_time": "2023-06-08T18:05:08.076Z"
   },
   {
    "duration": 447,
    "start_time": "2023-06-08T18:05:20.783Z"
   },
   {
    "duration": 579,
    "start_time": "2023-06-08T18:05:39.014Z"
   },
   {
    "duration": 452,
    "start_time": "2023-06-08T18:05:59.328Z"
   },
   {
    "duration": 473,
    "start_time": "2023-06-08T18:06:21.436Z"
   },
   {
    "duration": 394,
    "start_time": "2023-06-08T18:06:29.031Z"
   },
   {
    "duration": 563,
    "start_time": "2023-06-08T18:06:47.716Z"
   },
   {
    "duration": 275,
    "start_time": "2023-06-08T18:06:51.764Z"
   },
   {
    "duration": 373,
    "start_time": "2023-06-08T18:07:00.263Z"
   },
   {
    "duration": 656,
    "start_time": "2023-06-08T18:07:06.458Z"
   },
   {
    "duration": 336,
    "start_time": "2023-06-08T18:07:15.026Z"
   },
   {
    "duration": 518,
    "start_time": "2023-06-08T18:07:54.523Z"
   },
   {
    "duration": 286,
    "start_time": "2023-06-08T18:08:09.769Z"
   },
   {
    "duration": 627,
    "start_time": "2023-06-08T18:08:21.495Z"
   },
   {
    "duration": 409,
    "start_time": "2023-06-08T18:08:28.019Z"
   },
   {
    "duration": 4,
    "start_time": "2023-06-08T18:08:28.430Z"
   },
   {
    "duration": 302,
    "start_time": "2023-06-08T18:08:28.436Z"
   },
   {
    "duration": 3,
    "start_time": "2023-06-08T18:08:28.740Z"
   },
   {
    "duration": 10,
    "start_time": "2023-06-08T18:08:28.745Z"
   },
   {
    "duration": 72,
    "start_time": "2023-06-08T18:08:28.757Z"
   },
   {
    "duration": 11,
    "start_time": "2023-06-08T18:08:28.831Z"
   },
   {
    "duration": 45,
    "start_time": "2023-06-08T18:08:28.843Z"
   },
   {
    "duration": 11,
    "start_time": "2023-06-08T18:08:28.890Z"
   },
   {
    "duration": 22,
    "start_time": "2023-06-08T18:08:28.902Z"
   },
   {
    "duration": 9,
    "start_time": "2023-06-08T18:08:28.926Z"
   },
   {
    "duration": 11,
    "start_time": "2023-06-08T18:08:28.937Z"
   },
   {
    "duration": 5,
    "start_time": "2023-06-08T18:08:28.950Z"
   },
   {
    "duration": 19,
    "start_time": "2023-06-08T18:08:28.958Z"
   },
   {
    "duration": 8,
    "start_time": "2023-06-08T18:08:28.979Z"
   },
   {
    "duration": 8,
    "start_time": "2023-06-08T18:08:28.988Z"
   },
   {
    "duration": 10,
    "start_time": "2023-06-08T18:08:28.998Z"
   },
   {
    "duration": 10,
    "start_time": "2023-06-08T18:08:29.010Z"
   },
   {
    "duration": 11,
    "start_time": "2023-06-08T18:08:29.022Z"
   },
   {
    "duration": 6,
    "start_time": "2023-06-08T18:08:29.034Z"
   },
   {
    "duration": 7,
    "start_time": "2023-06-08T18:08:29.041Z"
   },
   {
    "duration": 32,
    "start_time": "2023-06-08T18:08:29.050Z"
   },
   {
    "duration": 6,
    "start_time": "2023-06-08T18:08:29.083Z"
   },
   {
    "duration": 167,
    "start_time": "2023-06-08T18:08:29.091Z"
   },
   {
    "duration": 7,
    "start_time": "2023-06-08T18:08:29.260Z"
   },
   {
    "duration": 6,
    "start_time": "2023-06-08T18:08:29.277Z"
   },
   {
    "duration": 99,
    "start_time": "2023-06-08T18:08:29.285Z"
   },
   {
    "duration": 6,
    "start_time": "2023-06-08T18:08:29.386Z"
   },
   {
    "duration": 188,
    "start_time": "2023-06-08T18:08:29.394Z"
   },
   {
    "duration": 111,
    "start_time": "2023-06-08T18:08:29.584Z"
   },
   {
    "duration": 7,
    "start_time": "2023-06-08T18:08:29.697Z"
   },
   {
    "duration": 334,
    "start_time": "2023-06-08T18:08:29.706Z"
   },
   {
    "duration": 126,
    "start_time": "2023-06-08T18:08:30.042Z"
   },
   {
    "duration": 13,
    "start_time": "2023-06-08T18:08:30.170Z"
   },
   {
    "duration": 275,
    "start_time": "2023-06-08T18:08:30.184Z"
   },
   {
    "duration": 125,
    "start_time": "2023-06-08T18:08:30.461Z"
   },
   {
    "duration": 9,
    "start_time": "2023-06-08T18:08:30.588Z"
   },
   {
    "duration": 43,
    "start_time": "2023-06-08T18:08:30.598Z"
   },
   {
    "duration": 25,
    "start_time": "2023-06-08T18:08:30.643Z"
   },
   {
    "duration": 18,
    "start_time": "2023-06-08T18:08:30.670Z"
   },
   {
    "duration": 23,
    "start_time": "2023-06-08T18:08:30.693Z"
   },
   {
    "duration": 35,
    "start_time": "2023-06-08T18:08:30.718Z"
   },
   {
    "duration": 24,
    "start_time": "2023-06-08T18:08:30.754Z"
   },
   {
    "duration": 498,
    "start_time": "2023-06-08T18:08:30.780Z"
   },
   {
    "duration": 568,
    "start_time": "2023-06-08T18:08:31.281Z"
   },
   {
    "duration": 109,
    "start_time": "2023-06-08T18:08:31.852Z"
   },
   {
    "duration": 105,
    "start_time": "2023-06-08T18:08:31.962Z"
   },
   {
    "duration": 113,
    "start_time": "2023-06-08T18:08:32.068Z"
   },
   {
    "duration": 104,
    "start_time": "2023-06-08T18:08:32.183Z"
   },
   {
    "duration": 13,
    "start_time": "2023-06-08T18:08:32.289Z"
   },
   {
    "duration": 19,
    "start_time": "2023-06-08T18:08:32.304Z"
   },
   {
    "duration": 53,
    "start_time": "2023-06-08T18:08:32.325Z"
   },
   {
    "duration": 13,
    "start_time": "2023-06-08T18:08:32.380Z"
   },
   {
    "duration": 86,
    "start_time": "2023-06-08T18:08:32.395Z"
   },
   {
    "duration": 0,
    "start_time": "2023-06-08T18:08:32.483Z"
   },
   {
    "duration": 0,
    "start_time": "2023-06-08T18:08:32.484Z"
   },
   {
    "duration": 0,
    "start_time": "2023-06-08T18:08:32.485Z"
   },
   {
    "duration": 0,
    "start_time": "2023-06-08T18:08:32.487Z"
   },
   {
    "duration": 0,
    "start_time": "2023-06-08T18:08:32.489Z"
   },
   {
    "duration": 0,
    "start_time": "2023-06-08T18:08:32.490Z"
   },
   {
    "duration": 0,
    "start_time": "2023-06-08T18:08:32.492Z"
   },
   {
    "duration": 0,
    "start_time": "2023-06-08T18:08:32.493Z"
   },
   {
    "duration": 0,
    "start_time": "2023-06-08T18:08:32.495Z"
   },
   {
    "duration": 0,
    "start_time": "2023-06-08T18:08:32.496Z"
   },
   {
    "duration": 3,
    "start_time": "2023-06-08T18:35:27.079Z"
   },
   {
    "duration": 15,
    "start_time": "2023-06-08T18:54:44.846Z"
   },
   {
    "duration": 9,
    "start_time": "2023-06-08T18:54:56.544Z"
   },
   {
    "duration": 7,
    "start_time": "2023-06-08T18:55:13.463Z"
   },
   {
    "duration": 6,
    "start_time": "2023-06-08T18:55:17.564Z"
   },
   {
    "duration": 7,
    "start_time": "2023-06-08T18:55:23.898Z"
   },
   {
    "duration": 17,
    "start_time": "2023-06-08T18:55:35.190Z"
   },
   {
    "duration": 7,
    "start_time": "2023-06-08T18:58:38.597Z"
   },
   {
    "duration": 23,
    "start_time": "2023-06-08T19:01:26.961Z"
   },
   {
    "duration": 9,
    "start_time": "2023-06-08T19:02:13.520Z"
   },
   {
    "duration": 8,
    "start_time": "2023-06-08T19:02:26.157Z"
   },
   {
    "duration": 431,
    "start_time": "2023-06-08T19:12:00.967Z"
   },
   {
    "duration": 3,
    "start_time": "2023-06-08T19:12:01.401Z"
   },
   {
    "duration": 344,
    "start_time": "2023-06-08T19:12:01.406Z"
   },
   {
    "duration": 3,
    "start_time": "2023-06-08T19:12:01.753Z"
   },
   {
    "duration": 96,
    "start_time": "2023-06-08T19:12:01.760Z"
   },
   {
    "duration": 98,
    "start_time": "2023-06-08T19:12:01.858Z"
   },
   {
    "duration": 37,
    "start_time": "2023-06-08T19:12:01.958Z"
   },
   {
    "duration": 126,
    "start_time": "2023-06-08T19:12:01.997Z"
   },
   {
    "duration": 14,
    "start_time": "2023-06-08T19:12:02.125Z"
   },
   {
    "duration": 57,
    "start_time": "2023-06-08T19:12:02.141Z"
   },
   {
    "duration": 30,
    "start_time": "2023-06-08T19:12:02.201Z"
   },
   {
    "duration": 19,
    "start_time": "2023-06-08T19:12:02.234Z"
   },
   {
    "duration": 61,
    "start_time": "2023-06-08T19:12:02.255Z"
   },
   {
    "duration": 17,
    "start_time": "2023-06-08T19:12:02.321Z"
   },
   {
    "duration": 48,
    "start_time": "2023-06-08T19:12:02.341Z"
   },
   {
    "duration": 37,
    "start_time": "2023-06-08T19:12:02.391Z"
   },
   {
    "duration": 18,
    "start_time": "2023-06-08T19:12:02.430Z"
   },
   {
    "duration": 24,
    "start_time": "2023-06-08T19:12:02.450Z"
   },
   {
    "duration": 33,
    "start_time": "2023-06-08T19:12:02.476Z"
   },
   {
    "duration": 14,
    "start_time": "2023-06-08T19:12:02.511Z"
   },
   {
    "duration": 32,
    "start_time": "2023-06-08T19:12:02.527Z"
   },
   {
    "duration": 31,
    "start_time": "2023-06-08T19:12:02.561Z"
   },
   {
    "duration": 7,
    "start_time": "2023-06-08T19:12:02.596Z"
   },
   {
    "duration": 187,
    "start_time": "2023-06-08T19:12:02.605Z"
   },
   {
    "duration": 7,
    "start_time": "2023-06-08T19:12:02.796Z"
   },
   {
    "duration": 19,
    "start_time": "2023-06-08T19:12:02.805Z"
   },
   {
    "duration": 114,
    "start_time": "2023-06-08T19:12:02.826Z"
   },
   {
    "duration": 6,
    "start_time": "2023-06-08T19:12:02.942Z"
   },
   {
    "duration": 217,
    "start_time": "2023-06-08T19:12:02.950Z"
   },
   {
    "duration": 119,
    "start_time": "2023-06-08T19:12:03.169Z"
   },
   {
    "duration": 10,
    "start_time": "2023-06-08T19:12:03.290Z"
   },
   {
    "duration": 391,
    "start_time": "2023-06-08T19:12:03.302Z"
   },
   {
    "duration": 128,
    "start_time": "2023-06-08T19:12:03.695Z"
   },
   {
    "duration": 9,
    "start_time": "2023-06-08T19:12:03.825Z"
   },
   {
    "duration": 301,
    "start_time": "2023-06-08T19:12:03.836Z"
   },
   {
    "duration": 7,
    "start_time": "2023-06-08T19:12:04.139Z"
   },
   {
    "duration": 20,
    "start_time": "2023-06-08T19:12:04.147Z"
   },
   {
    "duration": 14,
    "start_time": "2023-06-08T19:12:04.178Z"
   },
   {
    "duration": 10,
    "start_time": "2023-06-08T19:12:04.194Z"
   },
   {
    "duration": 127,
    "start_time": "2023-06-08T19:12:04.206Z"
   },
   {
    "duration": 10,
    "start_time": "2023-06-08T19:12:04.337Z"
   },
   {
    "duration": 40,
    "start_time": "2023-06-08T19:12:04.348Z"
   },
   {
    "duration": 22,
    "start_time": "2023-06-08T19:12:04.392Z"
   },
   {
    "duration": 4,
    "start_time": "2023-06-08T19:12:04.416Z"
   },
   {
    "duration": 12,
    "start_time": "2023-06-08T19:12:04.422Z"
   },
   {
    "duration": 37,
    "start_time": "2023-06-08T19:12:04.436Z"
   },
   {
    "duration": 27,
    "start_time": "2023-06-08T19:12:04.475Z"
   },
   {
    "duration": 509,
    "start_time": "2023-06-08T19:12:04.504Z"
   },
   {
    "duration": 597,
    "start_time": "2023-06-08T19:12:05.015Z"
   },
   {
    "duration": 126,
    "start_time": "2023-06-08T19:12:05.614Z"
   },
   {
    "duration": 123,
    "start_time": "2023-06-08T19:12:05.742Z"
   },
   {
    "duration": 127,
    "start_time": "2023-06-08T19:12:05.867Z"
   },
   {
    "duration": 110,
    "start_time": "2023-06-08T19:12:05.997Z"
   },
   {
    "duration": 12,
    "start_time": "2023-06-08T19:12:06.109Z"
   },
   {
    "duration": 17,
    "start_time": "2023-06-08T19:12:06.123Z"
   },
   {
    "duration": 52,
    "start_time": "2023-06-08T19:12:06.142Z"
   },
   {
    "duration": 15,
    "start_time": "2023-06-08T19:12:06.196Z"
   },
   {
    "duration": 110,
    "start_time": "2023-06-08T19:12:06.213Z"
   },
   {
    "duration": 0,
    "start_time": "2023-06-08T19:12:06.325Z"
   },
   {
    "duration": 0,
    "start_time": "2023-06-08T19:12:06.327Z"
   },
   {
    "duration": 0,
    "start_time": "2023-06-08T19:12:06.329Z"
   },
   {
    "duration": 0,
    "start_time": "2023-06-08T19:12:06.331Z"
   },
   {
    "duration": 0,
    "start_time": "2023-06-08T19:12:06.333Z"
   },
   {
    "duration": 0,
    "start_time": "2023-06-08T19:12:06.334Z"
   },
   {
    "duration": 0,
    "start_time": "2023-06-08T19:12:06.336Z"
   },
   {
    "duration": 0,
    "start_time": "2023-06-08T19:12:06.337Z"
   },
   {
    "duration": 0,
    "start_time": "2023-06-08T19:12:06.338Z"
   },
   {
    "duration": 0,
    "start_time": "2023-06-08T19:12:06.340Z"
   },
   {
    "duration": 449,
    "start_time": "2023-06-08T19:20:20.461Z"
   },
   {
    "duration": 3,
    "start_time": "2023-06-08T19:20:20.912Z"
   },
   {
    "duration": 278,
    "start_time": "2023-06-08T19:20:20.917Z"
   },
   {
    "duration": 3,
    "start_time": "2023-06-08T19:20:21.197Z"
   },
   {
    "duration": 19,
    "start_time": "2023-06-08T19:20:21.202Z"
   },
   {
    "duration": 46,
    "start_time": "2023-06-08T19:20:21.222Z"
   },
   {
    "duration": 21,
    "start_time": "2023-06-08T19:20:21.269Z"
   },
   {
    "duration": 54,
    "start_time": "2023-06-08T19:20:21.293Z"
   },
   {
    "duration": 12,
    "start_time": "2023-06-08T19:20:21.349Z"
   },
   {
    "duration": 22,
    "start_time": "2023-06-08T19:20:21.364Z"
   },
   {
    "duration": 20,
    "start_time": "2023-06-08T19:20:21.389Z"
   },
   {
    "duration": 11,
    "start_time": "2023-06-08T19:20:21.411Z"
   },
   {
    "duration": 5,
    "start_time": "2023-06-08T19:20:21.424Z"
   },
   {
    "duration": 11,
    "start_time": "2023-06-08T19:20:21.431Z"
   },
   {
    "duration": 8,
    "start_time": "2023-06-08T19:20:21.444Z"
   },
   {
    "duration": 7,
    "start_time": "2023-06-08T19:20:21.454Z"
   },
   {
    "duration": 27,
    "start_time": "2023-06-08T19:20:21.463Z"
   },
   {
    "duration": 11,
    "start_time": "2023-06-08T19:20:21.492Z"
   },
   {
    "duration": 10,
    "start_time": "2023-06-08T19:20:21.505Z"
   },
   {
    "duration": 7,
    "start_time": "2023-06-08T19:20:21.516Z"
   },
   {
    "duration": 10,
    "start_time": "2023-06-08T19:20:21.525Z"
   },
   {
    "duration": 8,
    "start_time": "2023-06-08T19:20:21.537Z"
   },
   {
    "duration": 12,
    "start_time": "2023-06-08T19:20:21.547Z"
   },
   {
    "duration": 192,
    "start_time": "2023-06-08T19:20:21.579Z"
   },
   {
    "duration": 12,
    "start_time": "2023-06-08T19:20:21.779Z"
   },
   {
    "duration": 12,
    "start_time": "2023-06-08T19:20:21.793Z"
   },
   {
    "duration": 94,
    "start_time": "2023-06-08T19:20:21.807Z"
   },
   {
    "duration": 6,
    "start_time": "2023-06-08T19:20:21.905Z"
   },
   {
    "duration": 197,
    "start_time": "2023-06-08T19:20:21.913Z"
   },
   {
    "duration": 119,
    "start_time": "2023-06-08T19:20:22.112Z"
   },
   {
    "duration": 8,
    "start_time": "2023-06-08T19:20:22.232Z"
   },
   {
    "duration": 371,
    "start_time": "2023-06-08T19:20:22.242Z"
   },
   {
    "duration": 134,
    "start_time": "2023-06-08T19:20:22.614Z"
   },
   {
    "duration": 9,
    "start_time": "2023-06-08T19:20:22.750Z"
   },
   {
    "duration": 281,
    "start_time": "2023-06-08T19:20:22.760Z"
   },
   {
    "duration": 7,
    "start_time": "2023-06-08T19:20:23.042Z"
   },
   {
    "duration": 40,
    "start_time": "2023-06-08T19:20:23.051Z"
   },
   {
    "duration": 12,
    "start_time": "2023-06-08T19:20:23.094Z"
   },
   {
    "duration": 24,
    "start_time": "2023-06-08T19:20:23.108Z"
   },
   {
    "duration": 131,
    "start_time": "2023-06-08T19:20:23.134Z"
   },
   {
    "duration": 25,
    "start_time": "2023-06-08T19:20:23.266Z"
   },
   {
    "duration": 21,
    "start_time": "2023-06-08T19:20:23.296Z"
   },
   {
    "duration": 20,
    "start_time": "2023-06-08T19:20:23.319Z"
   },
   {
    "duration": 4,
    "start_time": "2023-06-08T19:20:23.340Z"
   },
   {
    "duration": 13,
    "start_time": "2023-06-08T19:20:23.346Z"
   },
   {
    "duration": 12,
    "start_time": "2023-06-08T19:20:23.379Z"
   },
   {
    "duration": 13,
    "start_time": "2023-06-08T19:20:23.393Z"
   },
   {
    "duration": 540,
    "start_time": "2023-06-08T19:20:23.408Z"
   },
   {
    "duration": 777,
    "start_time": "2023-06-08T19:20:23.950Z"
   },
   {
    "duration": 140,
    "start_time": "2023-06-08T19:20:24.729Z"
   },
   {
    "duration": 153,
    "start_time": "2023-06-08T19:20:24.870Z"
   },
   {
    "duration": 118,
    "start_time": "2023-06-08T19:20:25.026Z"
   },
   {
    "duration": 106,
    "start_time": "2023-06-08T19:20:25.146Z"
   },
   {
    "duration": 13,
    "start_time": "2023-06-08T19:20:25.254Z"
   },
   {
    "duration": 23,
    "start_time": "2023-06-08T19:20:25.277Z"
   },
   {
    "duration": 40,
    "start_time": "2023-06-08T19:20:25.302Z"
   },
   {
    "duration": 12,
    "start_time": "2023-06-08T19:20:25.344Z"
   },
   {
    "duration": 1214,
    "start_time": "2023-06-08T19:20:25.382Z"
   },
   {
    "duration": 75,
    "start_time": "2023-06-08T19:37:12.881Z"
   },
   {
    "duration": 416,
    "start_time": "2023-06-08T19:37:37.543Z"
   },
   {
    "duration": 3,
    "start_time": "2023-06-08T19:37:37.961Z"
   },
   {
    "duration": 310,
    "start_time": "2023-06-08T19:37:37.965Z"
   },
   {
    "duration": 8,
    "start_time": "2023-06-08T19:37:38.281Z"
   },
   {
    "duration": 21,
    "start_time": "2023-06-08T19:37:38.296Z"
   },
   {
    "duration": 523,
    "start_time": "2023-06-08T19:37:38.318Z"
   },
   {
    "duration": 54,
    "start_time": "2023-06-08T19:37:38.843Z"
   },
   {
    "duration": 12,
    "start_time": "2023-06-08T19:37:38.899Z"
   },
   {
    "duration": 51,
    "start_time": "2023-06-08T19:37:38.913Z"
   },
   {
    "duration": 18,
    "start_time": "2023-06-08T19:37:38.966Z"
   },
   {
    "duration": 36,
    "start_time": "2023-06-08T19:37:38.986Z"
   },
   {
    "duration": 13,
    "start_time": "2023-06-08T19:37:39.024Z"
   },
   {
    "duration": 20,
    "start_time": "2023-06-08T19:37:39.038Z"
   },
   {
    "duration": 21,
    "start_time": "2023-06-08T19:37:39.061Z"
   },
   {
    "duration": 11,
    "start_time": "2023-06-08T19:37:39.088Z"
   },
   {
    "duration": 8,
    "start_time": "2023-06-08T19:37:39.101Z"
   },
   {
    "duration": 11,
    "start_time": "2023-06-08T19:37:39.111Z"
   },
   {
    "duration": 12,
    "start_time": "2023-06-08T19:37:39.124Z"
   },
   {
    "duration": 8,
    "start_time": "2023-06-08T19:37:39.138Z"
   },
   {
    "duration": 10,
    "start_time": "2023-06-08T19:37:39.148Z"
   },
   {
    "duration": 9,
    "start_time": "2023-06-08T19:37:39.160Z"
   },
   {
    "duration": 9,
    "start_time": "2023-06-08T19:37:39.178Z"
   },
   {
    "duration": 22,
    "start_time": "2023-06-08T19:37:39.188Z"
   },
   {
    "duration": 7,
    "start_time": "2023-06-08T19:37:39.211Z"
   },
   {
    "duration": 199,
    "start_time": "2023-06-08T19:37:39.220Z"
   },
   {
    "duration": 9,
    "start_time": "2023-06-08T19:37:39.421Z"
   },
   {
    "duration": 9,
    "start_time": "2023-06-08T19:37:39.432Z"
   },
   {
    "duration": 113,
    "start_time": "2023-06-08T19:37:39.443Z"
   },
   {
    "duration": 5,
    "start_time": "2023-06-08T19:37:39.558Z"
   },
   {
    "duration": 192,
    "start_time": "2023-06-08T19:37:39.578Z"
   },
   {
    "duration": 123,
    "start_time": "2023-06-08T19:37:39.772Z"
   },
   {
    "duration": 8,
    "start_time": "2023-06-08T19:37:39.898Z"
   },
   {
    "duration": 314,
    "start_time": "2023-06-08T19:37:39.907Z"
   },
   {
    "duration": 137,
    "start_time": "2023-06-08T19:37:40.223Z"
   },
   {
    "duration": 22,
    "start_time": "2023-06-08T19:37:40.362Z"
   },
   {
    "duration": 276,
    "start_time": "2023-06-08T19:37:40.391Z"
   },
   {
    "duration": 25,
    "start_time": "2023-06-08T19:37:40.670Z"
   },
   {
    "duration": 49,
    "start_time": "2023-06-08T19:37:40.697Z"
   },
   {
    "duration": 7,
    "start_time": "2023-06-08T19:37:40.748Z"
   },
   {
    "duration": 98,
    "start_time": "2023-06-08T19:37:40.757Z"
   },
   {
    "duration": 142,
    "start_time": "2023-06-08T19:37:40.859Z"
   },
   {
    "duration": 9,
    "start_time": "2023-06-08T19:37:41.003Z"
   },
   {
    "duration": 20,
    "start_time": "2023-06-08T19:37:41.014Z"
   },
   {
    "duration": 57,
    "start_time": "2023-06-08T19:37:41.036Z"
   },
   {
    "duration": 5,
    "start_time": "2023-06-08T19:37:41.096Z"
   },
   {
    "duration": 10,
    "start_time": "2023-06-08T19:37:41.103Z"
   },
   {
    "duration": 11,
    "start_time": "2023-06-08T19:37:41.115Z"
   },
   {
    "duration": 8,
    "start_time": "2023-06-08T19:37:41.128Z"
   },
   {
    "duration": 498,
    "start_time": "2023-06-08T19:37:41.137Z"
   },
   {
    "duration": 484,
    "start_time": "2023-06-08T19:37:41.637Z"
   },
   {
    "duration": 109,
    "start_time": "2023-06-08T19:37:42.123Z"
   },
   {
    "duration": 123,
    "start_time": "2023-06-08T19:37:42.234Z"
   },
   {
    "duration": 111,
    "start_time": "2023-06-08T19:37:42.358Z"
   },
   {
    "duration": 117,
    "start_time": "2023-06-08T19:37:42.478Z"
   },
   {
    "duration": 14,
    "start_time": "2023-06-08T19:37:42.597Z"
   },
   {
    "duration": 20,
    "start_time": "2023-06-08T19:37:42.613Z"
   },
   {
    "duration": 46,
    "start_time": "2023-06-08T19:37:42.635Z"
   },
   {
    "duration": 19,
    "start_time": "2023-06-08T19:37:42.685Z"
   },
   {
    "duration": 5,
    "start_time": "2023-06-08T19:37:42.706Z"
   },
   {
    "duration": 227,
    "start_time": "2023-06-08T19:37:42.713Z"
   },
   {
    "duration": 0,
    "start_time": "2023-06-08T19:37:42.942Z"
   },
   {
    "duration": 6,
    "start_time": "2023-06-08T19:38:22.817Z"
   },
   {
    "duration": 7,
    "start_time": "2023-06-08T19:40:46.612Z"
   },
   {
    "duration": 16,
    "start_time": "2023-06-08T19:41:35.054Z"
   },
   {
    "duration": 119,
    "start_time": "2023-06-08T19:41:44.323Z"
   },
   {
    "duration": 7,
    "start_time": "2023-06-08T19:42:24.572Z"
   },
   {
    "duration": 5,
    "start_time": "2023-06-08T19:42:58.242Z"
   },
   {
    "duration": 6,
    "start_time": "2023-06-08T19:43:18.868Z"
   },
   {
    "duration": 6,
    "start_time": "2023-06-08T19:44:44.321Z"
   },
   {
    "duration": 9,
    "start_time": "2023-06-09T16:20:04.938Z"
   },
   {
    "duration": 386,
    "start_time": "2023-06-09T16:20:38.108Z"
   },
   {
    "duration": 3,
    "start_time": "2023-06-09T16:20:38.496Z"
   },
   {
    "duration": 237,
    "start_time": "2023-06-09T16:20:38.500Z"
   },
   {
    "duration": 2,
    "start_time": "2023-06-09T16:20:38.739Z"
   },
   {
    "duration": 5,
    "start_time": "2023-06-09T16:20:38.743Z"
   },
   {
    "duration": 482,
    "start_time": "2023-06-09T16:20:38.750Z"
   },
   {
    "duration": 2,
    "start_time": "2023-06-09T16:20:39.234Z"
   },
   {
    "duration": 43,
    "start_time": "2023-06-09T16:20:39.238Z"
   },
   {
    "duration": 11,
    "start_time": "2023-06-09T16:20:39.283Z"
   },
   {
    "duration": 36,
    "start_time": "2023-06-09T16:20:39.296Z"
   },
   {
    "duration": 10,
    "start_time": "2023-06-09T16:20:39.334Z"
   },
   {
    "duration": 33,
    "start_time": "2023-06-09T16:20:39.346Z"
   },
   {
    "duration": 13,
    "start_time": "2023-06-09T16:20:39.381Z"
   },
   {
    "duration": 8,
    "start_time": "2023-06-09T16:20:39.396Z"
   },
   {
    "duration": 12,
    "start_time": "2023-06-09T16:20:39.406Z"
   },
   {
    "duration": 18,
    "start_time": "2023-06-09T16:20:39.420Z"
   },
   {
    "duration": 14,
    "start_time": "2023-06-09T16:20:39.439Z"
   },
   {
    "duration": 10,
    "start_time": "2023-06-09T16:20:39.454Z"
   },
   {
    "duration": 11,
    "start_time": "2023-06-09T16:20:39.466Z"
   },
   {
    "duration": 4,
    "start_time": "2023-06-09T16:20:39.478Z"
   },
   {
    "duration": 7,
    "start_time": "2023-06-09T16:20:39.483Z"
   },
   {
    "duration": 5,
    "start_time": "2023-06-09T16:20:39.492Z"
   },
   {
    "duration": 7,
    "start_time": "2023-06-09T16:20:39.498Z"
   },
   {
    "duration": 15,
    "start_time": "2023-06-09T16:20:39.506Z"
   },
   {
    "duration": 8,
    "start_time": "2023-06-09T16:20:39.522Z"
   },
   {
    "duration": 165,
    "start_time": "2023-06-09T16:20:39.531Z"
   },
   {
    "duration": 7,
    "start_time": "2023-06-09T16:20:39.698Z"
   },
   {
    "duration": 7,
    "start_time": "2023-06-09T16:20:39.709Z"
   },
   {
    "duration": 96,
    "start_time": "2023-06-09T16:20:39.718Z"
   },
   {
    "duration": 7,
    "start_time": "2023-06-09T16:20:39.816Z"
   },
   {
    "duration": 179,
    "start_time": "2023-06-09T16:20:39.825Z"
   },
   {
    "duration": 112,
    "start_time": "2023-06-09T16:20:40.006Z"
   },
   {
    "duration": 9,
    "start_time": "2023-06-09T16:20:40.120Z"
   },
   {
    "duration": 268,
    "start_time": "2023-06-09T16:20:40.131Z"
   },
   {
    "duration": 128,
    "start_time": "2023-06-09T16:20:40.400Z"
   },
   {
    "duration": 9,
    "start_time": "2023-06-09T16:20:40.530Z"
   },
   {
    "duration": 259,
    "start_time": "2023-06-09T16:20:40.541Z"
   },
   {
    "duration": 8,
    "start_time": "2023-06-09T16:20:40.802Z"
   },
   {
    "duration": 16,
    "start_time": "2023-06-09T16:20:40.812Z"
   },
   {
    "duration": 8,
    "start_time": "2023-06-09T16:20:40.829Z"
   },
   {
    "duration": 38,
    "start_time": "2023-06-09T16:20:40.839Z"
   },
   {
    "duration": 198,
    "start_time": "2023-06-09T16:20:40.880Z"
   },
   {
    "duration": 9,
    "start_time": "2023-06-09T16:20:41.080Z"
   },
   {
    "duration": 20,
    "start_time": "2023-06-09T16:20:41.091Z"
   },
   {
    "duration": 21,
    "start_time": "2023-06-09T16:20:41.114Z"
   },
   {
    "duration": 42,
    "start_time": "2023-06-09T16:20:41.137Z"
   },
   {
    "duration": 12,
    "start_time": "2023-06-09T16:20:41.181Z"
   },
   {
    "duration": 14,
    "start_time": "2023-06-09T16:20:41.196Z"
   },
   {
    "duration": 8,
    "start_time": "2023-06-09T16:20:41.211Z"
   },
   {
    "duration": 460,
    "start_time": "2023-06-09T16:20:41.221Z"
   },
   {
    "duration": 441,
    "start_time": "2023-06-09T16:20:41.683Z"
   },
   {
    "duration": 100,
    "start_time": "2023-06-09T16:20:42.126Z"
   },
   {
    "duration": 106,
    "start_time": "2023-06-09T16:20:42.228Z"
   },
   {
    "duration": 111,
    "start_time": "2023-06-09T16:20:42.335Z"
   },
   {
    "duration": 102,
    "start_time": "2023-06-09T16:20:42.448Z"
   },
   {
    "duration": 11,
    "start_time": "2023-06-09T16:20:42.552Z"
   },
   {
    "duration": 13,
    "start_time": "2023-06-09T16:20:42.577Z"
   },
   {
    "duration": 34,
    "start_time": "2023-06-09T16:20:42.592Z"
   },
   {
    "duration": 14,
    "start_time": "2023-06-09T16:20:42.628Z"
   },
   {
    "duration": 4,
    "start_time": "2023-06-09T16:20:42.643Z"
   },
   {
    "duration": 29,
    "start_time": "2023-06-09T16:20:42.649Z"
   },
   {
    "duration": 1133,
    "start_time": "2023-06-09T16:20:42.680Z"
   },
   {
    "duration": 10539,
    "start_time": "2023-06-09T16:20:50.366Z"
   },
   {
    "duration": 503,
    "start_time": "2023-06-09T16:21:29.524Z"
   },
   {
    "duration": 5033,
    "start_time": "2023-06-09T16:21:36.861Z"
   },
   {
    "duration": 4,
    "start_time": "2023-06-09T16:41:36.153Z"
   },
   {
    "duration": 4,
    "start_time": "2023-06-09T16:58:34.285Z"
   },
   {
    "duration": 150,
    "start_time": "2023-06-09T17:05:05.674Z"
   },
   {
    "duration": 110,
    "start_time": "2023-06-09T17:05:12.578Z"
   },
   {
    "duration": 4,
    "start_time": "2023-06-09T17:05:23.878Z"
   },
   {
    "duration": 5,
    "start_time": "2023-06-09T17:05:37.342Z"
   },
   {
    "duration": 71,
    "start_time": "2023-06-09T17:06:40.205Z"
   },
   {
    "duration": 5,
    "start_time": "2023-06-09T17:07:01.323Z"
   },
   {
    "duration": 6,
    "start_time": "2023-06-09T17:07:57.235Z"
   },
   {
    "duration": 10,
    "start_time": "2023-06-09T17:45:35.107Z"
   },
   {
    "duration": 2,
    "start_time": "2023-06-09T17:46:04.108Z"
   },
   {
    "duration": 6,
    "start_time": "2023-06-09T17:46:08.523Z"
   },
   {
    "duration": 7,
    "start_time": "2023-06-09T17:46:28.377Z"
   },
   {
    "duration": 8,
    "start_time": "2023-06-09T17:46:30.886Z"
   },
   {
    "duration": 6,
    "start_time": "2023-06-09T17:46:38.301Z"
   },
   {
    "duration": 7,
    "start_time": "2023-06-09T17:46:40.502Z"
   },
   {
    "duration": 6,
    "start_time": "2023-06-09T17:46:58.668Z"
   },
   {
    "duration": 6,
    "start_time": "2023-06-09T17:47:04.876Z"
   },
   {
    "duration": 8,
    "start_time": "2023-06-09T17:47:11.486Z"
   },
   {
    "duration": 7,
    "start_time": "2023-06-09T17:47:19.624Z"
   },
   {
    "duration": 8,
    "start_time": "2023-06-09T17:47:27.799Z"
   },
   {
    "duration": 8,
    "start_time": "2023-06-09T17:48:03.658Z"
   },
   {
    "duration": 9,
    "start_time": "2023-06-09T17:48:13.360Z"
   },
   {
    "duration": 9,
    "start_time": "2023-06-09T17:48:19.278Z"
   },
   {
    "duration": 8,
    "start_time": "2023-06-09T17:48:24.573Z"
   },
   {
    "duration": 9,
    "start_time": "2023-06-09T17:48:29.509Z"
   },
   {
    "duration": 8,
    "start_time": "2023-06-09T17:48:33.263Z"
   },
   {
    "duration": 6,
    "start_time": "2023-06-09T17:48:37.623Z"
   },
   {
    "duration": 15,
    "start_time": "2023-06-09T19:53:18.109Z"
   },
   {
    "duration": 6,
    "start_time": "2023-06-09T19:53:55.501Z"
   },
   {
    "duration": 9,
    "start_time": "2023-06-09T19:54:24.728Z"
   },
   {
    "duration": 12,
    "start_time": "2023-06-09T19:54:54.276Z"
   },
   {
    "duration": 7,
    "start_time": "2023-06-09T19:56:01.074Z"
   },
   {
    "duration": 66,
    "start_time": "2023-06-09T20:00:17.726Z"
   },
   {
    "duration": 5,
    "start_time": "2023-06-09T20:00:21.670Z"
   },
   {
    "duration": 6,
    "start_time": "2023-06-09T20:00:35.570Z"
   },
   {
    "duration": 6,
    "start_time": "2023-06-09T20:01:14.384Z"
   },
   {
    "duration": 5,
    "start_time": "2023-06-09T20:01:32.785Z"
   },
   {
    "duration": 5,
    "start_time": "2023-06-09T20:29:39.830Z"
   },
   {
    "duration": 13,
    "start_time": "2023-06-09T20:34:11.397Z"
   },
   {
    "duration": 13,
    "start_time": "2023-06-09T20:35:32.094Z"
   },
   {
    "duration": 140,
    "start_time": "2023-06-09T20:38:25.118Z"
   },
   {
    "duration": 6,
    "start_time": "2023-06-09T20:49:06.516Z"
   },
   {
    "duration": 146,
    "start_time": "2023-06-09T20:51:21.887Z"
   },
   {
    "duration": 4,
    "start_time": "2023-06-09T20:51:29.990Z"
   },
   {
    "duration": 143,
    "start_time": "2023-06-09T20:51:47.349Z"
   },
   {
    "duration": 80,
    "start_time": "2023-06-09T20:52:44.946Z"
   },
   {
    "duration": 163,
    "start_time": "2023-06-09T20:53:00.221Z"
   },
   {
    "duration": 255,
    "start_time": "2023-06-09T20:53:18.329Z"
   },
   {
    "duration": 140,
    "start_time": "2023-06-09T20:54:56.431Z"
   },
   {
    "duration": 131,
    "start_time": "2023-06-09T20:55:08.520Z"
   },
   {
    "duration": 213,
    "start_time": "2023-06-09T20:55:23.607Z"
   },
   {
    "duration": 376,
    "start_time": "2023-06-09T20:55:43.714Z"
   },
   {
    "duration": 651,
    "start_time": "2023-06-09T20:56:00.038Z"
   },
   {
    "duration": 1599,
    "start_time": "2023-06-09T20:57:19.318Z"
   },
   {
    "duration": 942,
    "start_time": "2023-06-09T21:02:15.287Z"
   },
   {
    "duration": 939,
    "start_time": "2023-06-09T21:03:00.947Z"
   },
   {
    "duration": 427,
    "start_time": "2023-06-09T21:29:37.656Z"
   },
   {
    "duration": 7,
    "start_time": "2023-06-09T21:29:38.085Z"
   },
   {
    "duration": 224,
    "start_time": "2023-06-09T21:29:38.093Z"
   },
   {
    "duration": 3,
    "start_time": "2023-06-09T21:29:38.318Z"
   },
   {
    "duration": 10,
    "start_time": "2023-06-09T21:29:38.323Z"
   },
   {
    "duration": 487,
    "start_time": "2023-06-09T21:29:38.334Z"
   },
   {
    "duration": 3,
    "start_time": "2023-06-09T21:29:38.822Z"
   },
   {
    "duration": 59,
    "start_time": "2023-06-09T21:29:38.826Z"
   },
   {
    "duration": 61,
    "start_time": "2023-06-09T21:29:38.886Z"
   },
   {
    "duration": 41,
    "start_time": "2023-06-09T21:29:38.949Z"
   },
   {
    "duration": 10,
    "start_time": "2023-06-09T21:29:38.992Z"
   },
   {
    "duration": 20,
    "start_time": "2023-06-09T21:29:39.004Z"
   },
   {
    "duration": 10,
    "start_time": "2023-06-09T21:29:39.025Z"
   },
   {
    "duration": 8,
    "start_time": "2023-06-09T21:29:39.039Z"
   },
   {
    "duration": 10,
    "start_time": "2023-06-09T21:29:39.049Z"
   },
   {
    "duration": 16,
    "start_time": "2023-06-09T21:29:39.061Z"
   },
   {
    "duration": 14,
    "start_time": "2023-06-09T21:29:39.079Z"
   },
   {
    "duration": 14,
    "start_time": "2023-06-09T21:29:39.094Z"
   },
   {
    "duration": 11,
    "start_time": "2023-06-09T21:29:39.110Z"
   },
   {
    "duration": 5,
    "start_time": "2023-06-09T21:29:39.123Z"
   },
   {
    "duration": 7,
    "start_time": "2023-06-09T21:29:39.130Z"
   },
   {
    "duration": 14,
    "start_time": "2023-06-09T21:29:39.138Z"
   },
   {
    "duration": 11,
    "start_time": "2023-06-09T21:29:39.153Z"
   },
   {
    "duration": 17,
    "start_time": "2023-06-09T21:29:39.165Z"
   },
   {
    "duration": 6,
    "start_time": "2023-06-09T21:29:39.184Z"
   },
   {
    "duration": 159,
    "start_time": "2023-06-09T21:29:39.192Z"
   },
   {
    "duration": 7,
    "start_time": "2023-06-09T21:29:39.353Z"
   },
   {
    "duration": 17,
    "start_time": "2023-06-09T21:29:39.362Z"
   },
   {
    "duration": 97,
    "start_time": "2023-06-09T21:29:39.381Z"
   },
   {
    "duration": 6,
    "start_time": "2023-06-09T21:29:39.480Z"
   },
   {
    "duration": 170,
    "start_time": "2023-06-09T21:29:39.488Z"
   },
   {
    "duration": 118,
    "start_time": "2023-06-09T21:29:39.660Z"
   },
   {
    "duration": 9,
    "start_time": "2023-06-09T21:29:39.780Z"
   },
   {
    "duration": 264,
    "start_time": "2023-06-09T21:29:39.791Z"
   },
   {
    "duration": 120,
    "start_time": "2023-06-09T21:29:40.058Z"
   },
   {
    "duration": 9,
    "start_time": "2023-06-09T21:29:40.180Z"
   },
   {
    "duration": 251,
    "start_time": "2023-06-09T21:29:40.191Z"
   },
   {
    "duration": 8,
    "start_time": "2023-06-09T21:29:40.444Z"
   },
   {
    "duration": 29,
    "start_time": "2023-06-09T21:29:40.454Z"
   },
   {
    "duration": 7,
    "start_time": "2023-06-09T21:29:40.485Z"
   },
   {
    "duration": 7,
    "start_time": "2023-06-09T21:29:40.496Z"
   },
   {
    "duration": 200,
    "start_time": "2023-06-09T21:29:40.504Z"
   },
   {
    "duration": 8,
    "start_time": "2023-06-09T21:29:40.706Z"
   },
   {
    "duration": 18,
    "start_time": "2023-06-09T21:29:40.716Z"
   },
   {
    "duration": 44,
    "start_time": "2023-06-09T21:29:40.736Z"
   },
   {
    "duration": 4,
    "start_time": "2023-06-09T21:29:40.782Z"
   },
   {
    "duration": 7,
    "start_time": "2023-06-09T21:29:40.787Z"
   },
   {
    "duration": 11,
    "start_time": "2023-06-09T21:29:40.796Z"
   },
   {
    "duration": 7,
    "start_time": "2023-06-09T21:29:40.809Z"
   },
   {
    "duration": 487,
    "start_time": "2023-06-09T21:29:40.817Z"
   },
   {
    "duration": 435,
    "start_time": "2023-06-09T21:29:41.306Z"
   },
   {
    "duration": 103,
    "start_time": "2023-06-09T21:29:41.742Z"
   },
   {
    "duration": 104,
    "start_time": "2023-06-09T21:29:41.846Z"
   },
   {
    "duration": 108,
    "start_time": "2023-06-09T21:29:41.952Z"
   },
   {
    "duration": 97,
    "start_time": "2023-06-09T21:29:42.062Z"
   },
   {
    "duration": 20,
    "start_time": "2023-06-09T21:29:42.160Z"
   },
   {
    "duration": 14,
    "start_time": "2023-06-09T21:29:42.182Z"
   },
   {
    "duration": 33,
    "start_time": "2023-06-09T21:29:42.197Z"
   },
   {
    "duration": 12,
    "start_time": "2023-06-09T21:29:42.232Z"
   },
   {
    "duration": 5,
    "start_time": "2023-06-09T21:29:42.277Z"
   },
   {
    "duration": 10,
    "start_time": "2023-06-09T21:29:42.284Z"
   },
   {
    "duration": 108,
    "start_time": "2023-06-09T21:29:42.295Z"
   },
   {
    "duration": 5,
    "start_time": "2023-06-09T21:29:42.405Z"
   },
   {
    "duration": 839,
    "start_time": "2023-06-09T21:29:42.412Z"
   },
   {
    "duration": 959,
    "start_time": "2023-06-09T21:29:43.252Z"
   },
   {
    "duration": 368,
    "start_time": "2023-06-09T21:30:38.914Z"
   },
   {
    "duration": 2,
    "start_time": "2023-06-09T21:30:39.284Z"
   },
   {
    "duration": 254,
    "start_time": "2023-06-09T21:30:39.288Z"
   },
   {
    "duration": 3,
    "start_time": "2023-06-09T21:30:39.544Z"
   },
   {
    "duration": 6,
    "start_time": "2023-06-09T21:30:39.549Z"
   },
   {
    "duration": 482,
    "start_time": "2023-06-09T21:30:39.556Z"
   },
   {
    "duration": 3,
    "start_time": "2023-06-09T21:30:40.040Z"
   },
   {
    "duration": 91,
    "start_time": "2023-06-09T21:30:40.045Z"
   },
   {
    "duration": 11,
    "start_time": "2023-06-09T21:30:40.138Z"
   },
   {
    "duration": 48,
    "start_time": "2023-06-09T21:30:40.151Z"
   },
   {
    "duration": 10,
    "start_time": "2023-06-09T21:30:40.201Z"
   },
   {
    "duration": 41,
    "start_time": "2023-06-09T21:30:40.213Z"
   },
   {
    "duration": 10,
    "start_time": "2023-06-09T21:30:40.255Z"
   },
   {
    "duration": 14,
    "start_time": "2023-06-09T21:30:40.269Z"
   },
   {
    "duration": 15,
    "start_time": "2023-06-09T21:30:40.285Z"
   },
   {
    "duration": 6,
    "start_time": "2023-06-09T21:30:40.302Z"
   },
   {
    "duration": 26,
    "start_time": "2023-06-09T21:30:40.309Z"
   },
   {
    "duration": 16,
    "start_time": "2023-06-09T21:30:40.336Z"
   },
   {
    "duration": 15,
    "start_time": "2023-06-09T21:30:40.353Z"
   },
   {
    "duration": 11,
    "start_time": "2023-06-09T21:30:40.370Z"
   },
   {
    "duration": 15,
    "start_time": "2023-06-09T21:30:40.383Z"
   },
   {
    "duration": 13,
    "start_time": "2023-06-09T21:30:40.400Z"
   },
   {
    "duration": 20,
    "start_time": "2023-06-09T21:30:40.415Z"
   },
   {
    "duration": 9,
    "start_time": "2023-06-09T21:30:40.437Z"
   },
   {
    "duration": 8,
    "start_time": "2023-06-09T21:30:40.448Z"
   },
   {
    "duration": 156,
    "start_time": "2023-06-09T21:30:40.457Z"
   },
   {
    "duration": 7,
    "start_time": "2023-06-09T21:30:40.615Z"
   },
   {
    "duration": 9,
    "start_time": "2023-06-09T21:30:40.624Z"
   },
   {
    "duration": 92,
    "start_time": "2023-06-09T21:30:40.635Z"
   },
   {
    "duration": 6,
    "start_time": "2023-06-09T21:30:40.729Z"
   },
   {
    "duration": 171,
    "start_time": "2023-06-09T21:30:40.736Z"
   },
   {
    "duration": 113,
    "start_time": "2023-06-09T21:30:40.909Z"
   },
   {
    "duration": 7,
    "start_time": "2023-06-09T21:30:41.024Z"
   },
   {
    "duration": 271,
    "start_time": "2023-06-09T21:30:41.033Z"
   },
   {
    "duration": 120,
    "start_time": "2023-06-09T21:30:41.306Z"
   },
   {
    "duration": 8,
    "start_time": "2023-06-09T21:30:41.428Z"
   },
   {
    "duration": 261,
    "start_time": "2023-06-09T21:30:41.438Z"
   },
   {
    "duration": 12,
    "start_time": "2023-06-09T21:30:41.701Z"
   },
   {
    "duration": 24,
    "start_time": "2023-06-09T21:30:41.715Z"
   },
   {
    "duration": 8,
    "start_time": "2023-06-09T21:30:41.741Z"
   },
   {
    "duration": 9,
    "start_time": "2023-06-09T21:30:41.776Z"
   },
   {
    "duration": 203,
    "start_time": "2023-06-09T21:30:41.787Z"
   },
   {
    "duration": 8,
    "start_time": "2023-06-09T21:30:41.992Z"
   },
   {
    "duration": 39,
    "start_time": "2023-06-09T21:30:42.002Z"
   },
   {
    "duration": 38,
    "start_time": "2023-06-09T21:30:42.043Z"
   },
   {
    "duration": 5,
    "start_time": "2023-06-09T21:30:42.083Z"
   },
   {
    "duration": 9,
    "start_time": "2023-06-09T21:30:42.090Z"
   },
   {
    "duration": 21,
    "start_time": "2023-06-09T21:30:42.100Z"
   },
   {
    "duration": 8,
    "start_time": "2023-06-09T21:30:42.123Z"
   },
   {
    "duration": 442,
    "start_time": "2023-06-09T21:30:42.132Z"
   },
   {
    "duration": 431,
    "start_time": "2023-06-09T21:30:42.576Z"
   },
   {
    "duration": 103,
    "start_time": "2023-06-09T21:30:43.008Z"
   },
   {
    "duration": 106,
    "start_time": "2023-06-09T21:30:43.113Z"
   },
   {
    "duration": 105,
    "start_time": "2023-06-09T21:30:43.221Z"
   },
   {
    "duration": 102,
    "start_time": "2023-06-09T21:30:43.328Z"
   },
   {
    "duration": 11,
    "start_time": "2023-06-09T21:30:43.432Z"
   },
   {
    "duration": 14,
    "start_time": "2023-06-09T21:30:43.445Z"
   },
   {
    "duration": 46,
    "start_time": "2023-06-09T21:30:43.461Z"
   },
   {
    "duration": 14,
    "start_time": "2023-06-09T21:30:43.508Z"
   },
   {
    "duration": 13,
    "start_time": "2023-06-09T21:30:43.524Z"
   },
   {
    "duration": 108,
    "start_time": "2023-06-09T21:30:43.539Z"
   },
   {
    "duration": 13,
    "start_time": "2023-06-09T21:30:43.649Z"
   },
   {
    "duration": 6,
    "start_time": "2023-06-09T21:30:43.676Z"
   },
   {
    "duration": 876,
    "start_time": "2023-06-09T21:30:43.683Z"
   },
   {
    "duration": 1002,
    "start_time": "2023-06-09T21:30:44.561Z"
   },
   {
    "duration": 365,
    "start_time": "2023-06-10T04:34:33.573Z"
   },
   {
    "duration": 3,
    "start_time": "2023-06-10T04:34:33.940Z"
   },
   {
    "duration": 397,
    "start_time": "2023-06-10T04:34:33.944Z"
   },
   {
    "duration": 3,
    "start_time": "2023-06-10T04:34:34.343Z"
   },
   {
    "duration": 24,
    "start_time": "2023-06-10T04:34:34.347Z"
   },
   {
    "duration": 472,
    "start_time": "2023-06-10T04:34:34.372Z"
   },
   {
    "duration": 3,
    "start_time": "2023-06-10T04:34:34.845Z"
   },
   {
    "duration": 99,
    "start_time": "2023-06-10T04:34:34.850Z"
   },
   {
    "duration": 10,
    "start_time": "2023-06-10T04:34:34.950Z"
   },
   {
    "duration": 87,
    "start_time": "2023-06-10T04:34:34.963Z"
   },
   {
    "duration": 10,
    "start_time": "2023-06-10T04:34:35.051Z"
   },
   {
    "duration": 65,
    "start_time": "2023-06-10T04:34:35.063Z"
   },
   {
    "duration": 9,
    "start_time": "2023-06-10T04:34:35.130Z"
   },
   {
    "duration": 21,
    "start_time": "2023-06-10T04:34:35.141Z"
   },
   {
    "duration": 14,
    "start_time": "2023-06-10T04:34:35.164Z"
   },
   {
    "duration": 10,
    "start_time": "2023-06-10T04:34:35.180Z"
   },
   {
    "duration": 21,
    "start_time": "2023-06-10T04:34:35.192Z"
   },
   {
    "duration": 12,
    "start_time": "2023-06-10T04:34:35.215Z"
   },
   {
    "duration": 24,
    "start_time": "2023-06-10T04:34:35.229Z"
   },
   {
    "duration": 15,
    "start_time": "2023-06-10T04:34:35.255Z"
   },
   {
    "duration": 19,
    "start_time": "2023-06-10T04:34:35.272Z"
   },
   {
    "duration": 19,
    "start_time": "2023-06-10T04:34:35.293Z"
   },
   {
    "duration": 17,
    "start_time": "2023-06-10T04:34:35.314Z"
   },
   {
    "duration": 27,
    "start_time": "2023-06-10T04:34:35.333Z"
   },
   {
    "duration": 15,
    "start_time": "2023-06-10T04:34:35.363Z"
   },
   {
    "duration": 177,
    "start_time": "2023-06-10T04:34:35.380Z"
   },
   {
    "duration": 7,
    "start_time": "2023-06-10T04:34:35.558Z"
   },
   {
    "duration": 8,
    "start_time": "2023-06-10T04:34:35.568Z"
   },
   {
    "duration": 88,
    "start_time": "2023-06-10T04:34:35.577Z"
   },
   {
    "duration": 5,
    "start_time": "2023-06-10T04:34:35.666Z"
   },
   {
    "duration": 156,
    "start_time": "2023-06-10T04:34:35.672Z"
   },
   {
    "duration": 109,
    "start_time": "2023-06-10T04:34:35.830Z"
   },
   {
    "duration": 8,
    "start_time": "2023-06-10T04:34:35.940Z"
   },
   {
    "duration": 247,
    "start_time": "2023-06-10T04:34:35.949Z"
   },
   {
    "duration": 113,
    "start_time": "2023-06-10T04:34:36.197Z"
   },
   {
    "duration": 6,
    "start_time": "2023-06-10T04:34:36.316Z"
   },
   {
    "duration": 222,
    "start_time": "2023-06-10T04:34:36.324Z"
   },
   {
    "duration": 6,
    "start_time": "2023-06-10T04:34:36.547Z"
   },
   {
    "duration": 42,
    "start_time": "2023-06-10T04:34:36.554Z"
   },
   {
    "duration": 6,
    "start_time": "2023-06-10T04:34:36.597Z"
   },
   {
    "duration": 7,
    "start_time": "2023-06-10T04:34:36.604Z"
   },
   {
    "duration": 159,
    "start_time": "2023-06-10T04:34:36.612Z"
   },
   {
    "duration": 9,
    "start_time": "2023-06-10T04:34:36.772Z"
   },
   {
    "duration": 21,
    "start_time": "2023-06-10T04:34:36.783Z"
   },
   {
    "duration": 20,
    "start_time": "2023-06-10T04:34:36.816Z"
   },
   {
    "duration": 6,
    "start_time": "2023-06-10T04:34:36.838Z"
   },
   {
    "duration": 8,
    "start_time": "2023-06-10T04:34:36.845Z"
   },
   {
    "duration": 10,
    "start_time": "2023-06-10T04:34:36.855Z"
   },
   {
    "duration": 8,
    "start_time": "2023-06-10T04:34:36.867Z"
   },
   {
    "duration": 405,
    "start_time": "2023-06-10T04:34:36.876Z"
   },
   {
    "duration": 392,
    "start_time": "2023-06-10T04:34:37.283Z"
   },
   {
    "duration": 103,
    "start_time": "2023-06-10T04:34:37.677Z"
   },
   {
    "duration": 108,
    "start_time": "2023-06-10T04:34:37.782Z"
   },
   {
    "duration": 101,
    "start_time": "2023-06-10T04:34:37.893Z"
   },
   {
    "duration": 122,
    "start_time": "2023-06-10T04:34:37.996Z"
   },
   {
    "duration": 16,
    "start_time": "2023-06-10T04:34:38.120Z"
   },
   {
    "duration": 16,
    "start_time": "2023-06-10T04:34:38.137Z"
   },
   {
    "duration": 35,
    "start_time": "2023-06-10T04:34:38.154Z"
   },
   {
    "duration": 33,
    "start_time": "2023-06-10T04:34:38.190Z"
   },
   {
    "duration": 5,
    "start_time": "2023-06-10T04:34:38.224Z"
   },
   {
    "duration": 86,
    "start_time": "2023-06-10T04:34:38.231Z"
   },
   {
    "duration": 15,
    "start_time": "2023-06-10T04:34:38.319Z"
   },
   {
    "duration": 8,
    "start_time": "2023-06-10T04:34:38.336Z"
   },
   {
    "duration": 800,
    "start_time": "2023-06-10T04:34:38.346Z"
   },
   {
    "duration": 894,
    "start_time": "2023-06-10T04:34:39.148Z"
   },
   {
    "duration": 8,
    "start_time": "2023-06-10T04:38:25.130Z"
   },
   {
    "duration": 106,
    "start_time": "2023-06-10T04:49:19.672Z"
   },
   {
    "duration": 153,
    "start_time": "2023-06-10T04:49:25.975Z"
   },
   {
    "duration": 421,
    "start_time": "2023-06-10T04:53:46.201Z"
   },
   {
    "duration": 3,
    "start_time": "2023-06-10T04:53:46.624Z"
   },
   {
    "duration": 296,
    "start_time": "2023-06-10T04:53:46.628Z"
   },
   {
    "duration": 3,
    "start_time": "2023-06-10T04:53:46.926Z"
   },
   {
    "duration": 34,
    "start_time": "2023-06-10T04:53:46.930Z"
   },
   {
    "duration": 470,
    "start_time": "2023-06-10T04:53:46.965Z"
   },
   {
    "duration": 3,
    "start_time": "2023-06-10T04:53:47.436Z"
   },
   {
    "duration": 45,
    "start_time": "2023-06-10T04:53:47.441Z"
   },
   {
    "duration": 11,
    "start_time": "2023-06-10T04:53:47.487Z"
   },
   {
    "duration": 35,
    "start_time": "2023-06-10T04:53:47.502Z"
   },
   {
    "duration": 10,
    "start_time": "2023-06-10T04:53:47.539Z"
   },
   {
    "duration": 34,
    "start_time": "2023-06-10T04:53:47.550Z"
   },
   {
    "duration": 9,
    "start_time": "2023-06-10T04:53:47.586Z"
   },
   {
    "duration": 11,
    "start_time": "2023-06-10T04:53:47.597Z"
   },
   {
    "duration": 13,
    "start_time": "2023-06-10T04:53:47.609Z"
   },
   {
    "duration": 14,
    "start_time": "2023-06-10T04:53:47.623Z"
   },
   {
    "duration": 10,
    "start_time": "2023-06-10T04:53:47.638Z"
   },
   {
    "duration": 7,
    "start_time": "2023-06-10T04:53:47.649Z"
   },
   {
    "duration": 6,
    "start_time": "2023-06-10T04:53:47.657Z"
   },
   {
    "duration": 6,
    "start_time": "2023-06-10T04:53:47.664Z"
   },
   {
    "duration": 10,
    "start_time": "2023-06-10T04:53:47.672Z"
   },
   {
    "duration": 6,
    "start_time": "2023-06-10T04:53:47.684Z"
   },
   {
    "duration": 13,
    "start_time": "2023-06-10T04:53:47.692Z"
   },
   {
    "duration": 8,
    "start_time": "2023-06-10T04:53:47.715Z"
   },
   {
    "duration": 11,
    "start_time": "2023-06-10T04:53:47.725Z"
   },
   {
    "duration": 149,
    "start_time": "2023-06-10T04:53:47.737Z"
   },
   {
    "duration": 6,
    "start_time": "2023-06-10T04:53:47.888Z"
   },
   {
    "duration": 18,
    "start_time": "2023-06-10T04:53:47.898Z"
   },
   {
    "duration": 79,
    "start_time": "2023-06-10T04:53:47.918Z"
   },
   {
    "duration": 5,
    "start_time": "2023-06-10T04:53:47.999Z"
   },
   {
    "duration": 166,
    "start_time": "2023-06-10T04:53:48.006Z"
   },
   {
    "duration": 105,
    "start_time": "2023-06-10T04:53:48.174Z"
   },
   {
    "duration": 7,
    "start_time": "2023-06-10T04:53:48.281Z"
   },
   {
    "duration": 239,
    "start_time": "2023-06-10T04:53:48.290Z"
   },
   {
    "duration": 116,
    "start_time": "2023-06-10T04:53:48.531Z"
   },
   {
    "duration": 7,
    "start_time": "2023-06-10T04:53:48.649Z"
   },
   {
    "duration": 231,
    "start_time": "2023-06-10T04:53:48.657Z"
   },
   {
    "duration": 7,
    "start_time": "2023-06-10T04:53:48.890Z"
   },
   {
    "duration": 29,
    "start_time": "2023-06-10T04:53:48.898Z"
   },
   {
    "duration": 10,
    "start_time": "2023-06-10T04:53:48.928Z"
   },
   {
    "duration": 9,
    "start_time": "2023-06-10T04:53:48.939Z"
   },
   {
    "duration": 170,
    "start_time": "2023-06-10T04:53:48.949Z"
   },
   {
    "duration": 11,
    "start_time": "2023-06-10T04:53:49.120Z"
   },
   {
    "duration": 29,
    "start_time": "2023-06-10T04:53:49.133Z"
   },
   {
    "duration": 20,
    "start_time": "2023-06-10T04:53:49.165Z"
   },
   {
    "duration": 31,
    "start_time": "2023-06-10T04:53:49.186Z"
   },
   {
    "duration": 10,
    "start_time": "2023-06-10T04:53:49.219Z"
   },
   {
    "duration": 12,
    "start_time": "2023-06-10T04:53:49.230Z"
   },
   {
    "duration": 9,
    "start_time": "2023-06-10T04:53:49.244Z"
   },
   {
    "duration": 390,
    "start_time": "2023-06-10T04:53:49.254Z"
   },
   {
    "duration": 399,
    "start_time": "2023-06-10T04:53:49.646Z"
   },
   {
    "duration": 95,
    "start_time": "2023-06-10T04:53:50.046Z"
   },
   {
    "duration": 99,
    "start_time": "2023-06-10T04:53:50.143Z"
   },
   {
    "duration": 102,
    "start_time": "2023-06-10T04:53:50.243Z"
   },
   {
    "duration": 96,
    "start_time": "2023-06-10T04:53:50.346Z"
   },
   {
    "duration": 11,
    "start_time": "2023-06-10T04:53:50.444Z"
   },
   {
    "duration": 16,
    "start_time": "2023-06-10T04:53:50.457Z"
   },
   {
    "duration": 49,
    "start_time": "2023-06-10T04:53:50.474Z"
   },
   {
    "duration": 13,
    "start_time": "2023-06-10T04:53:50.524Z"
   },
   {
    "duration": 44,
    "start_time": "2023-06-10T04:53:50.539Z"
   },
   {
    "duration": 78,
    "start_time": "2023-06-10T04:53:50.584Z"
   },
   {
    "duration": 12,
    "start_time": "2023-06-10T04:53:50.664Z"
   },
   {
    "duration": 15,
    "start_time": "2023-06-10T04:53:50.677Z"
   },
   {
    "duration": 785,
    "start_time": "2023-06-10T04:53:50.693Z"
   },
   {
    "duration": 903,
    "start_time": "2023-06-10T04:53:51.479Z"
   },
   {
    "duration": 59,
    "start_time": "2023-06-10T05:35:34.261Z"
   },
   {
    "duration": 69,
    "start_time": "2023-06-10T05:36:04.753Z"
   },
   {
    "duration": 59,
    "start_time": "2023-06-10T05:36:44.835Z"
   },
   {
    "duration": 60,
    "start_time": "2023-06-10T05:39:58.190Z"
   },
   {
    "duration": 385,
    "start_time": "2023-06-10T05:42:51.329Z"
   },
   {
    "duration": 3,
    "start_time": "2023-06-10T05:42:51.715Z"
   },
   {
    "duration": 389,
    "start_time": "2023-06-10T05:42:51.719Z"
   },
   {
    "duration": 3,
    "start_time": "2023-06-10T05:42:52.110Z"
   },
   {
    "duration": 67,
    "start_time": "2023-06-10T05:42:52.114Z"
   },
   {
    "duration": 493,
    "start_time": "2023-06-10T05:42:52.183Z"
   },
   {
    "duration": 2,
    "start_time": "2023-06-10T05:42:52.678Z"
   },
   {
    "duration": 9,
    "start_time": "2023-06-10T05:42:52.682Z"
   },
   {
    "duration": 93,
    "start_time": "2023-06-10T05:42:52.692Z"
   },
   {
    "duration": 11,
    "start_time": "2023-06-10T05:42:52.788Z"
   },
   {
    "duration": 89,
    "start_time": "2023-06-10T05:42:52.801Z"
   },
   {
    "duration": 11,
    "start_time": "2023-06-10T05:42:52.892Z"
   },
   {
    "duration": 63,
    "start_time": "2023-06-10T05:42:52.905Z"
   },
   {
    "duration": 10,
    "start_time": "2023-06-10T05:42:52.970Z"
   },
   {
    "duration": 18,
    "start_time": "2023-06-10T05:42:52.982Z"
   },
   {
    "duration": 29,
    "start_time": "2023-06-10T05:42:53.001Z"
   },
   {
    "duration": 36,
    "start_time": "2023-06-10T05:42:53.031Z"
   },
   {
    "duration": 27,
    "start_time": "2023-06-10T05:42:53.069Z"
   },
   {
    "duration": 56,
    "start_time": "2023-06-10T05:42:53.097Z"
   },
   {
    "duration": 25,
    "start_time": "2023-06-10T05:42:53.154Z"
   },
   {
    "duration": 39,
    "start_time": "2023-06-10T05:42:53.181Z"
   },
   {
    "duration": 28,
    "start_time": "2023-06-10T05:42:53.221Z"
   },
   {
    "duration": 12,
    "start_time": "2023-06-10T05:42:53.251Z"
   },
   {
    "duration": 24,
    "start_time": "2023-06-10T05:42:53.265Z"
   },
   {
    "duration": 20,
    "start_time": "2023-06-10T05:42:53.290Z"
   },
   {
    "duration": 35,
    "start_time": "2023-06-10T05:42:53.312Z"
   },
   {
    "duration": 159,
    "start_time": "2023-06-10T05:42:53.348Z"
   },
   {
    "duration": 7,
    "start_time": "2023-06-10T05:42:53.511Z"
   },
   {
    "duration": 29,
    "start_time": "2023-06-10T05:42:53.519Z"
   },
   {
    "duration": 95,
    "start_time": "2023-06-10T05:42:53.550Z"
   },
   {
    "duration": 6,
    "start_time": "2023-06-10T05:42:53.647Z"
   },
   {
    "duration": 190,
    "start_time": "2023-06-10T05:42:53.654Z"
   },
   {
    "duration": 111,
    "start_time": "2023-06-10T05:42:53.846Z"
   },
   {
    "duration": 7,
    "start_time": "2023-06-10T05:42:53.959Z"
   },
   {
    "duration": 260,
    "start_time": "2023-06-10T05:42:53.967Z"
   },
   {
    "duration": 116,
    "start_time": "2023-06-10T05:42:54.228Z"
   },
   {
    "duration": 7,
    "start_time": "2023-06-10T05:42:54.346Z"
   },
   {
    "duration": 254,
    "start_time": "2023-06-10T05:42:54.355Z"
   },
   {
    "duration": 7,
    "start_time": "2023-06-10T05:42:54.610Z"
   },
   {
    "duration": 21,
    "start_time": "2023-06-10T05:42:54.625Z"
   },
   {
    "duration": 6,
    "start_time": "2023-06-10T05:42:54.647Z"
   },
   {
    "duration": 12,
    "start_time": "2023-06-10T05:42:54.655Z"
   },
   {
    "duration": 225,
    "start_time": "2023-06-10T05:42:54.669Z"
   },
   {
    "duration": 11,
    "start_time": "2023-06-10T05:42:54.896Z"
   },
   {
    "duration": 40,
    "start_time": "2023-06-10T05:42:54.908Z"
   },
   {
    "duration": 19,
    "start_time": "2023-06-10T05:42:54.950Z"
   },
   {
    "duration": 4,
    "start_time": "2023-06-10T05:42:54.970Z"
   },
   {
    "duration": 16,
    "start_time": "2023-06-10T05:42:54.975Z"
   },
   {
    "duration": 15,
    "start_time": "2023-06-10T05:42:54.992Z"
   },
   {
    "duration": 19,
    "start_time": "2023-06-10T05:42:55.009Z"
   },
   {
    "duration": 460,
    "start_time": "2023-06-10T05:42:55.029Z"
   },
   {
    "duration": 433,
    "start_time": "2023-06-10T05:42:55.491Z"
   },
   {
    "duration": 90,
    "start_time": "2023-06-10T05:42:55.926Z"
   },
   {
    "duration": 104,
    "start_time": "2023-06-10T05:42:56.024Z"
   },
   {
    "duration": 101,
    "start_time": "2023-06-10T05:42:56.130Z"
   },
   {
    "duration": 103,
    "start_time": "2023-06-10T05:42:56.233Z"
   },
   {
    "duration": 12,
    "start_time": "2023-06-10T05:42:56.337Z"
   },
   {
    "duration": 36,
    "start_time": "2023-06-10T05:42:56.351Z"
   },
   {
    "duration": 35,
    "start_time": "2023-06-10T05:42:56.389Z"
   },
   {
    "duration": 13,
    "start_time": "2023-06-10T05:42:56.425Z"
   },
   {
    "duration": 12,
    "start_time": "2023-06-10T05:42:56.440Z"
   },
   {
    "duration": 16,
    "start_time": "2023-06-10T05:42:56.453Z"
   },
   {
    "duration": 105,
    "start_time": "2023-06-10T05:42:56.471Z"
   },
   {
    "duration": 10,
    "start_time": "2023-06-10T05:42:56.578Z"
   },
   {
    "duration": 910,
    "start_time": "2023-06-10T05:42:56.589Z"
   },
   {
    "duration": 925,
    "start_time": "2023-06-10T05:42:57.501Z"
   },
   {
    "duration": 98,
    "start_time": "2023-06-10T05:49:47.811Z"
   },
   {
    "duration": 7,
    "start_time": "2023-06-10T05:49:56.849Z"
   },
   {
    "duration": 5,
    "start_time": "2023-06-10T05:50:41.084Z"
   },
   {
    "duration": 7,
    "start_time": "2023-06-10T05:52:44.829Z"
   },
   {
    "duration": 4,
    "start_time": "2023-06-10T05:52:57.383Z"
   },
   {
    "duration": 7,
    "start_time": "2023-06-10T05:54:19.959Z"
   },
   {
    "duration": 7,
    "start_time": "2023-06-10T05:54:30.179Z"
   },
   {
    "duration": 10,
    "start_time": "2023-06-10T06:11:15.519Z"
   },
   {
    "duration": 5,
    "start_time": "2023-06-10T06:11:23.453Z"
   },
   {
    "duration": 5,
    "start_time": "2023-06-10T06:11:36.173Z"
   },
   {
    "duration": 6,
    "start_time": "2023-06-10T06:11:42.737Z"
   },
   {
    "duration": 3,
    "start_time": "2023-06-10T06:13:11.401Z"
   },
   {
    "duration": 5,
    "start_time": "2023-06-10T06:13:17.249Z"
   },
   {
    "duration": 7,
    "start_time": "2023-06-10T06:13:23.770Z"
   },
   {
    "duration": 11,
    "start_time": "2023-06-10T06:13:35.123Z"
   },
   {
    "duration": 12,
    "start_time": "2023-06-10T06:13:46.030Z"
   },
   {
    "duration": 4,
    "start_time": "2023-06-10T06:14:47.170Z"
   },
   {
    "duration": 7,
    "start_time": "2023-06-10T06:14:52.532Z"
   },
   {
    "duration": 9,
    "start_time": "2023-06-10T06:15:01.423Z"
   },
   {
    "duration": 11,
    "start_time": "2023-06-10T06:15:13.445Z"
   },
   {
    "duration": 10,
    "start_time": "2023-06-10T06:15:18.726Z"
   },
   {
    "duration": 12,
    "start_time": "2023-06-10T06:15:24.151Z"
   },
   {
    "duration": 7,
    "start_time": "2023-06-10T06:15:35.915Z"
   },
   {
    "duration": 9,
    "start_time": "2023-06-10T06:16:33.666Z"
   },
   {
    "duration": 41,
    "start_time": "2023-06-10T06:18:09.342Z"
   },
   {
    "duration": 33,
    "start_time": "2023-06-10T06:18:15.505Z"
   },
   {
    "duration": 2,
    "start_time": "2023-06-10T06:18:49.628Z"
   },
   {
    "duration": 27,
    "start_time": "2023-06-10T06:18:58.088Z"
   },
   {
    "duration": 149,
    "start_time": "2023-06-10T06:19:20.128Z"
   },
   {
    "duration": 31,
    "start_time": "2023-06-10T06:19:43.043Z"
   },
   {
    "duration": 32,
    "start_time": "2023-06-10T06:19:47.609Z"
   },
   {
    "duration": 28,
    "start_time": "2023-06-10T06:20:11.269Z"
   },
   {
    "duration": 16,
    "start_time": "2023-06-10T06:21:13.435Z"
   },
   {
    "duration": 11,
    "start_time": "2023-06-10T06:21:19.174Z"
   },
   {
    "duration": 12,
    "start_time": "2023-06-10T06:21:29.775Z"
   },
   {
    "duration": 152,
    "start_time": "2023-06-10T06:21:41.833Z"
   },
   {
    "duration": 119,
    "start_time": "2023-06-10T06:22:02.879Z"
   },
   {
    "duration": 134,
    "start_time": "2023-06-10T06:22:41.428Z"
   },
   {
    "duration": 116,
    "start_time": "2023-06-10T06:25:24.308Z"
   },
   {
    "duration": 126,
    "start_time": "2023-06-10T06:25:38.501Z"
   },
   {
    "duration": 116,
    "start_time": "2023-06-10T06:25:43.766Z"
   },
   {
    "duration": 350,
    "start_time": "2023-06-10T06:26:43.474Z"
   },
   {
    "duration": 2,
    "start_time": "2023-06-10T06:26:43.826Z"
   },
   {
    "duration": 281,
    "start_time": "2023-06-10T06:26:43.830Z"
   },
   {
    "duration": 3,
    "start_time": "2023-06-10T06:26:44.112Z"
   },
   {
    "duration": 30,
    "start_time": "2023-06-10T06:26:44.117Z"
   },
   {
    "duration": 414,
    "start_time": "2023-06-10T06:26:44.148Z"
   },
   {
    "duration": 3,
    "start_time": "2023-06-10T06:26:44.563Z"
   },
   {
    "duration": 30,
    "start_time": "2023-06-10T06:26:44.567Z"
   },
   {
    "duration": 69,
    "start_time": "2023-06-10T06:26:44.598Z"
   },
   {
    "duration": 10,
    "start_time": "2023-06-10T06:26:44.669Z"
   },
   {
    "duration": 61,
    "start_time": "2023-06-10T06:26:44.681Z"
   },
   {
    "duration": 12,
    "start_time": "2023-06-10T06:26:44.744Z"
   },
   {
    "duration": 68,
    "start_time": "2023-06-10T06:26:44.758Z"
   },
   {
    "duration": 39,
    "start_time": "2023-06-10T06:26:44.830Z"
   },
   {
    "duration": 52,
    "start_time": "2023-06-10T06:26:44.871Z"
   },
   {
    "duration": 35,
    "start_time": "2023-06-10T06:26:44.925Z"
   },
   {
    "duration": 25,
    "start_time": "2023-06-10T06:26:44.962Z"
   },
   {
    "duration": 51,
    "start_time": "2023-06-10T06:26:44.989Z"
   },
   {
    "duration": 48,
    "start_time": "2023-06-10T06:26:45.041Z"
   },
   {
    "duration": 62,
    "start_time": "2023-06-10T06:26:45.091Z"
   },
   {
    "duration": 31,
    "start_time": "2023-06-10T06:26:45.155Z"
   },
   {
    "duration": 47,
    "start_time": "2023-06-10T06:26:45.188Z"
   },
   {
    "duration": 37,
    "start_time": "2023-06-10T06:26:45.237Z"
   },
   {
    "duration": 30,
    "start_time": "2023-06-10T06:26:45.276Z"
   },
   {
    "duration": 35,
    "start_time": "2023-06-10T06:26:45.307Z"
   },
   {
    "duration": 49,
    "start_time": "2023-06-10T06:26:45.344Z"
   },
   {
    "duration": 250,
    "start_time": "2023-06-10T06:26:45.394Z"
   },
   {
    "duration": 26,
    "start_time": "2023-06-10T06:26:45.645Z"
   },
   {
    "duration": 40,
    "start_time": "2023-06-10T06:26:45.673Z"
   },
   {
    "duration": 87,
    "start_time": "2023-06-10T06:26:45.714Z"
   },
   {
    "duration": 5,
    "start_time": "2023-06-10T06:26:45.803Z"
   },
   {
    "duration": 186,
    "start_time": "2023-06-10T06:26:45.809Z"
   },
   {
    "duration": 94,
    "start_time": "2023-06-10T06:26:45.997Z"
   },
   {
    "duration": 7,
    "start_time": "2023-06-10T06:26:46.093Z"
   },
   {
    "duration": 299,
    "start_time": "2023-06-10T06:26:46.102Z"
   },
   {
    "duration": 112,
    "start_time": "2023-06-10T06:26:46.402Z"
   },
   {
    "duration": 15,
    "start_time": "2023-06-10T06:26:46.515Z"
   },
   {
    "duration": 242,
    "start_time": "2023-06-10T06:26:46.531Z"
   },
   {
    "duration": 8,
    "start_time": "2023-06-10T06:26:46.775Z"
   },
   {
    "duration": 21,
    "start_time": "2023-06-10T06:26:46.784Z"
   },
   {
    "duration": 19,
    "start_time": "2023-06-10T06:26:46.808Z"
   },
   {
    "duration": 13,
    "start_time": "2023-06-10T06:26:46.829Z"
   },
   {
    "duration": 182,
    "start_time": "2023-06-10T06:26:46.844Z"
   },
   {
    "duration": 7,
    "start_time": "2023-06-10T06:26:47.028Z"
   },
   {
    "duration": 32,
    "start_time": "2023-06-10T06:26:47.037Z"
   },
   {
    "duration": 33,
    "start_time": "2023-06-10T06:26:47.071Z"
   },
   {
    "duration": 26,
    "start_time": "2023-06-10T06:26:47.106Z"
   },
   {
    "duration": 31,
    "start_time": "2023-06-10T06:26:47.133Z"
   },
   {
    "duration": 68,
    "start_time": "2023-06-10T06:26:47.166Z"
   },
   {
    "duration": 15,
    "start_time": "2023-06-10T06:26:47.236Z"
   },
   {
    "duration": 449,
    "start_time": "2023-06-10T06:26:47.253Z"
   },
   {
    "duration": 454,
    "start_time": "2023-06-10T06:26:47.704Z"
   },
   {
    "duration": 108,
    "start_time": "2023-06-10T06:26:48.160Z"
   },
   {
    "duration": 102,
    "start_time": "2023-06-10T06:26:48.269Z"
   },
   {
    "duration": 104,
    "start_time": "2023-06-10T06:26:48.372Z"
   },
   {
    "duration": 99,
    "start_time": "2023-06-10T06:26:48.478Z"
   },
   {
    "duration": 12,
    "start_time": "2023-06-10T06:26:48.579Z"
   },
   {
    "duration": 39,
    "start_time": "2023-06-10T06:26:48.592Z"
   },
   {
    "duration": 43,
    "start_time": "2023-06-10T06:26:48.633Z"
   },
   {
    "duration": 24,
    "start_time": "2023-06-10T06:26:48.678Z"
   },
   {
    "duration": 6,
    "start_time": "2023-06-10T06:26:48.704Z"
   },
   {
    "duration": 24,
    "start_time": "2023-06-10T06:26:48.711Z"
   },
   {
    "duration": 100,
    "start_time": "2023-06-10T06:26:48.737Z"
   },
   {
    "duration": 4,
    "start_time": "2023-06-10T06:26:48.839Z"
   },
   {
    "duration": 19,
    "start_time": "2023-06-10T06:26:48.845Z"
   },
   {
    "duration": 7,
    "start_time": "2023-06-10T06:26:48.865Z"
   },
   {
    "duration": 11,
    "start_time": "2023-06-10T06:26:48.873Z"
   },
   {
    "duration": 120,
    "start_time": "2023-06-10T06:26:48.886Z"
   },
   {
    "duration": 410,
    "start_time": "2023-06-10T13:20:41.697Z"
   },
   {
    "duration": 4,
    "start_time": "2023-06-10T13:20:42.110Z"
   },
   {
    "duration": 358,
    "start_time": "2023-06-10T13:20:42.125Z"
   },
   {
    "duration": 8,
    "start_time": "2023-06-10T13:20:42.487Z"
   },
   {
    "duration": 4,
    "start_time": "2023-06-10T13:20:42.501Z"
   },
   {
    "duration": 438,
    "start_time": "2023-06-10T13:20:42.506Z"
   },
   {
    "duration": 3,
    "start_time": "2023-06-10T13:20:42.945Z"
   },
   {
    "duration": 5,
    "start_time": "2023-06-10T13:20:42.950Z"
   },
   {
    "duration": 61,
    "start_time": "2023-06-10T13:20:42.956Z"
   },
   {
    "duration": 11,
    "start_time": "2023-06-10T13:20:43.018Z"
   },
   {
    "duration": 33,
    "start_time": "2023-06-10T13:20:43.031Z"
   },
   {
    "duration": 22,
    "start_time": "2023-06-10T13:20:43.066Z"
   },
   {
    "duration": 26,
    "start_time": "2023-06-10T13:20:43.095Z"
   },
   {
    "duration": 9,
    "start_time": "2023-06-10T13:20:43.123Z"
   },
   {
    "duration": 14,
    "start_time": "2023-06-10T13:20:43.134Z"
   },
   {
    "duration": 6,
    "start_time": "2023-06-10T13:20:43.149Z"
   },
   {
    "duration": 4,
    "start_time": "2023-06-10T13:20:43.157Z"
   },
   {
    "duration": 6,
    "start_time": "2023-06-10T13:20:43.162Z"
   },
   {
    "duration": 15,
    "start_time": "2023-06-10T13:20:43.170Z"
   },
   {
    "duration": 24,
    "start_time": "2023-06-10T13:20:43.186Z"
   },
   {
    "duration": 7,
    "start_time": "2023-06-10T13:20:43.211Z"
   },
   {
    "duration": 5,
    "start_time": "2023-06-10T13:20:43.220Z"
   },
   {
    "duration": 13,
    "start_time": "2023-06-10T13:20:43.226Z"
   },
   {
    "duration": 8,
    "start_time": "2023-06-10T13:20:43.240Z"
   },
   {
    "duration": 18,
    "start_time": "2023-06-10T13:20:43.250Z"
   },
   {
    "duration": 5,
    "start_time": "2023-06-10T13:20:43.270Z"
   },
   {
    "duration": 171,
    "start_time": "2023-06-10T13:20:43.276Z"
   },
   {
    "duration": 7,
    "start_time": "2023-06-10T13:20:43.448Z"
   },
   {
    "duration": 10,
    "start_time": "2023-06-10T13:20:43.457Z"
   },
   {
    "duration": 100,
    "start_time": "2023-06-10T13:20:43.468Z"
   },
   {
    "duration": 9,
    "start_time": "2023-06-10T13:20:43.569Z"
   },
   {
    "duration": 181,
    "start_time": "2023-06-10T13:20:43.588Z"
   },
   {
    "duration": 125,
    "start_time": "2023-06-10T13:20:43.770Z"
   },
   {
    "duration": 11,
    "start_time": "2023-06-10T13:20:43.896Z"
   },
   {
    "duration": 339,
    "start_time": "2023-06-10T13:20:43.908Z"
   },
   {
    "duration": 152,
    "start_time": "2023-06-10T13:20:44.249Z"
   },
   {
    "duration": 13,
    "start_time": "2023-06-10T13:20:44.406Z"
   },
   {
    "duration": 281,
    "start_time": "2023-06-10T13:20:44.424Z"
   },
   {
    "duration": 8,
    "start_time": "2023-06-10T13:20:44.707Z"
   },
   {
    "duration": 14,
    "start_time": "2023-06-10T13:20:44.717Z"
   },
   {
    "duration": 6,
    "start_time": "2023-06-10T13:20:44.735Z"
   },
   {
    "duration": 10,
    "start_time": "2023-06-10T13:20:44.742Z"
   },
   {
    "duration": 213,
    "start_time": "2023-06-10T13:20:44.753Z"
   },
   {
    "duration": 18,
    "start_time": "2023-06-10T13:20:44.968Z"
   },
   {
    "duration": 32,
    "start_time": "2023-06-10T13:20:44.988Z"
   },
   {
    "duration": 30,
    "start_time": "2023-06-10T13:20:45.021Z"
   },
   {
    "duration": 13,
    "start_time": "2023-06-10T13:20:45.053Z"
   },
   {
    "duration": 31,
    "start_time": "2023-06-10T13:20:45.067Z"
   },
   {
    "duration": 18,
    "start_time": "2023-06-10T13:20:45.100Z"
   },
   {
    "duration": 13,
    "start_time": "2023-06-10T13:20:45.120Z"
   },
   {
    "duration": 519,
    "start_time": "2023-06-10T13:20:45.135Z"
   },
   {
    "duration": 496,
    "start_time": "2023-06-10T13:20:45.655Z"
   },
   {
    "duration": 107,
    "start_time": "2023-06-10T13:20:46.153Z"
   },
   {
    "duration": 123,
    "start_time": "2023-06-10T13:20:46.262Z"
   },
   {
    "duration": 109,
    "start_time": "2023-06-10T13:20:46.388Z"
   },
   {
    "duration": 107,
    "start_time": "2023-06-10T13:20:46.499Z"
   },
   {
    "duration": 16,
    "start_time": "2023-06-10T13:20:46.611Z"
   },
   {
    "duration": 12,
    "start_time": "2023-06-10T13:20:46.629Z"
   },
   {
    "duration": 58,
    "start_time": "2023-06-10T13:20:46.642Z"
   },
   {
    "duration": 19,
    "start_time": "2023-06-10T13:20:46.701Z"
   },
   {
    "duration": 22,
    "start_time": "2023-06-10T13:20:46.721Z"
   },
   {
    "duration": 15,
    "start_time": "2023-06-10T13:20:46.745Z"
   },
   {
    "duration": 112,
    "start_time": "2023-06-10T13:20:46.762Z"
   },
   {
    "duration": 16,
    "start_time": "2023-06-10T13:20:46.889Z"
   },
   {
    "duration": 11,
    "start_time": "2023-06-10T13:20:46.912Z"
   },
   {
    "duration": 6,
    "start_time": "2023-06-10T13:20:46.925Z"
   },
   {
    "duration": 6,
    "start_time": "2023-06-10T13:20:46.932Z"
   },
   {
    "duration": 116,
    "start_time": "2023-06-10T13:20:46.940Z"
   },
   {
    "duration": 7,
    "start_time": "2023-06-10T13:24:27.599Z"
   },
   {
    "duration": 137,
    "start_time": "2023-06-10T13:24:28.704Z"
   },
   {
    "duration": 4,
    "start_time": "2023-06-10T13:24:37.030Z"
   },
   {
    "duration": 47,
    "start_time": "2023-06-10T17:46:38.192Z"
   },
   {
    "duration": 376,
    "start_time": "2023-06-10T17:46:44.030Z"
   },
   {
    "duration": 3,
    "start_time": "2023-06-10T17:46:44.407Z"
   },
   {
    "duration": 375,
    "start_time": "2023-06-10T17:46:44.412Z"
   },
   {
    "duration": 3,
    "start_time": "2023-06-10T17:46:44.789Z"
   },
   {
    "duration": 5,
    "start_time": "2023-06-10T17:46:44.793Z"
   },
   {
    "duration": 524,
    "start_time": "2023-06-10T17:46:44.800Z"
   },
   {
    "duration": 2,
    "start_time": "2023-06-10T17:46:45.326Z"
   },
   {
    "duration": 5,
    "start_time": "2023-06-10T17:46:45.329Z"
   },
   {
    "duration": 105,
    "start_time": "2023-06-10T17:46:45.335Z"
   },
   {
    "duration": 11,
    "start_time": "2023-06-10T17:46:45.443Z"
   },
   {
    "duration": 159,
    "start_time": "2023-06-10T17:46:45.456Z"
   },
   {
    "duration": 10,
    "start_time": "2023-06-10T17:46:45.617Z"
   },
   {
    "duration": 58,
    "start_time": "2023-06-10T17:46:45.629Z"
   },
   {
    "duration": 12,
    "start_time": "2023-06-10T17:46:45.689Z"
   },
   {
    "duration": 11,
    "start_time": "2023-06-10T17:46:45.702Z"
   },
   {
    "duration": 5,
    "start_time": "2023-06-10T17:46:45.715Z"
   },
   {
    "duration": 8,
    "start_time": "2023-06-10T17:46:45.722Z"
   },
   {
    "duration": 8,
    "start_time": "2023-06-10T17:46:45.731Z"
   },
   {
    "duration": 7,
    "start_time": "2023-06-10T17:46:45.740Z"
   },
   {
    "duration": 28,
    "start_time": "2023-06-10T17:46:45.748Z"
   },
   {
    "duration": 5,
    "start_time": "2023-06-10T17:46:45.777Z"
   },
   {
    "duration": 9,
    "start_time": "2023-06-10T17:46:45.783Z"
   },
   {
    "duration": 6,
    "start_time": "2023-06-10T17:46:45.793Z"
   },
   {
    "duration": 6,
    "start_time": "2023-06-10T17:46:45.800Z"
   },
   {
    "duration": 8,
    "start_time": "2023-06-10T17:46:45.808Z"
   },
   {
    "duration": 5,
    "start_time": "2023-06-10T17:46:45.817Z"
   },
   {
    "duration": 186,
    "start_time": "2023-06-10T17:46:45.824Z"
   },
   {
    "duration": 6,
    "start_time": "2023-06-10T17:46:46.015Z"
   },
   {
    "duration": 9,
    "start_time": "2023-06-10T17:46:46.023Z"
   },
   {
    "duration": 98,
    "start_time": "2023-06-10T17:46:46.033Z"
   },
   {
    "duration": 5,
    "start_time": "2023-06-10T17:46:46.133Z"
   },
   {
    "duration": 177,
    "start_time": "2023-06-10T17:46:46.139Z"
   },
   {
    "duration": 113,
    "start_time": "2023-06-10T17:46:46.318Z"
   },
   {
    "duration": 9,
    "start_time": "2023-06-10T17:46:46.433Z"
   },
   {
    "duration": 256,
    "start_time": "2023-06-10T17:46:46.443Z"
   },
   {
    "duration": 129,
    "start_time": "2023-06-10T17:46:46.700Z"
   },
   {
    "duration": 9,
    "start_time": "2023-06-10T17:46:46.831Z"
   },
   {
    "duration": 259,
    "start_time": "2023-06-10T17:46:46.841Z"
   },
   {
    "duration": 7,
    "start_time": "2023-06-10T17:46:47.102Z"
   },
   {
    "duration": 19,
    "start_time": "2023-06-10T17:46:47.110Z"
   },
   {
    "duration": 6,
    "start_time": "2023-06-10T17:46:47.130Z"
   },
   {
    "duration": 6,
    "start_time": "2023-06-10T17:46:47.137Z"
   },
   {
    "duration": 202,
    "start_time": "2023-06-10T17:46:47.145Z"
   },
   {
    "duration": 8,
    "start_time": "2023-06-10T17:46:47.349Z"
   },
   {
    "duration": 31,
    "start_time": "2023-06-10T17:46:47.359Z"
   },
   {
    "duration": 19,
    "start_time": "2023-06-10T17:46:47.391Z"
   },
   {
    "duration": 3,
    "start_time": "2023-06-10T17:46:47.412Z"
   },
   {
    "duration": 4,
    "start_time": "2023-06-10T17:46:47.417Z"
   },
   {
    "duration": 10,
    "start_time": "2023-06-10T17:46:47.423Z"
   },
   {
    "duration": 40,
    "start_time": "2023-06-10T17:46:47.435Z"
   },
   {
    "duration": 432,
    "start_time": "2023-06-10T17:46:47.477Z"
   },
   {
    "duration": 444,
    "start_time": "2023-06-10T17:46:47.910Z"
   },
   {
    "duration": 99,
    "start_time": "2023-06-10T17:46:48.355Z"
   },
   {
    "duration": 108,
    "start_time": "2023-06-10T17:46:48.456Z"
   },
   {
    "duration": 102,
    "start_time": "2023-06-10T17:46:48.574Z"
   },
   {
    "duration": 98,
    "start_time": "2023-06-10T17:46:48.677Z"
   },
   {
    "duration": 11,
    "start_time": "2023-06-10T17:46:48.776Z"
   },
   {
    "duration": 32,
    "start_time": "2023-06-10T17:46:48.789Z"
   },
   {
    "duration": 37,
    "start_time": "2023-06-10T17:46:48.823Z"
   },
   {
    "duration": 24,
    "start_time": "2023-06-10T17:46:48.862Z"
   },
   {
    "duration": 5,
    "start_time": "2023-06-10T17:46:48.888Z"
   },
   {
    "duration": 19,
    "start_time": "2023-06-10T17:46:48.894Z"
   },
   {
    "duration": 96,
    "start_time": "2023-06-10T17:46:48.914Z"
   },
   {
    "duration": 23,
    "start_time": "2023-06-10T17:46:49.012Z"
   },
   {
    "duration": 20,
    "start_time": "2023-06-10T17:46:49.037Z"
   },
   {
    "duration": 8,
    "start_time": "2023-06-10T17:46:49.058Z"
   },
   {
    "duration": 7,
    "start_time": "2023-06-10T17:46:49.068Z"
   },
   {
    "duration": 332,
    "start_time": "2023-06-10T17:46:49.076Z"
   }
  ],
  "kernelspec": {
   "display_name": "Python 3 (ipykernel)",
   "language": "python",
   "name": "python3"
  },
  "language_info": {
   "codemirror_mode": {
    "name": "ipython",
    "version": 3
   },
   "file_extension": ".py",
   "mimetype": "text/x-python",
   "name": "python",
   "nbconvert_exporter": "python",
   "pygments_lexer": "ipython3",
   "version": "3.11.7"
  },
  "toc": {
   "base_numbering": 1,
   "nav_menu": {},
   "number_sections": true,
   "sideBar": true,
   "skip_h1_title": true,
   "title_cell": "Table of Contents",
   "title_sidebar": "Contents",
   "toc_cell": false,
   "toc_position": {
    "height": "calc(100% - 180px)",
    "left": "10px",
    "top": "150px",
    "width": "187.188px"
   },
   "toc_section_display": true,
   "toc_window_display": true
  }
 },
 "nbformat": 4,
 "nbformat_minor": 5
}
