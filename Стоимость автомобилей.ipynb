{
 "cells": [
  {
   "cell_type": "markdown",
   "metadata": {},
   "source": [
    "# Определение стоимости автомобилей"
   ]
  },
  {
   "cell_type": "markdown",
   "metadata": {},
   "source": [
    "Сервис по продаже автомобилей с пробегом «Не бит, не крашен» разрабатывает приложение для привлечения новых клиентов. В нём можно быстро узнать рыночную стоимость своего автомобиля. В распоряжении исторические данные: технические характеристики, комплектации и цены автомобилей. Нужно построить модель для определения стоимости. \n",
    "\n",
    "Заказчику важны:\n",
    "\n",
    "- качество предсказания;\n",
    "- скорость предсказания;\n",
    "- время обучения."
   ]
  },
  {
   "cell_type": "code",
   "execution_count": 1,
   "metadata": {},
   "outputs": [],
   "source": [
    "import os\n",
    "import pandas as pd\n",
    "import numpy as np\n",
    "\n",
    "from time import time\n",
    "from datetime import date\n",
    "\n",
    "RANDOM_STATE = 42"
   ]
  },
  {
   "cell_type": "code",
   "execution_count": 2,
   "metadata": {},
   "outputs": [],
   "source": [
    "import matplotlib.pyplot as plt"
   ]
  },
  {
   "cell_type": "code",
   "execution_count": 3,
   "metadata": {},
   "outputs": [],
   "source": [
    "\n",
    "\n",
    "from sklearn.model_selection import train_test_split\n",
    "from sklearn.preprocessing import (\n",
    "    OrdinalEncoder,\n",
    "    StandardScaler,\n",
    "    OneHotEncoder\n",
    ")\n",
    "\n",
    "from sklearn.ensemble import RandomForestRegressor\n",
    "from sklearn.linear_model import LinearRegression\n",
    "from sklearn.model_selection import GridSearchCV\n",
    "from sklearn.dummy import DummyRegressor\n",
    "from sklearn.model_selection import cross_val_score\n",
    "\n",
    "from sklearn.metrics import mean_squared_error\n",
    "from sklearn.metrics import make_scorer"
   ]
  },
  {
   "cell_type": "code",
   "execution_count": 4,
   "metadata": {},
   "outputs": [],
   "source": [
    "from catboost import CatBoostRegressor\n",
    "from lightgbm import LGBMRegressor"
   ]
  },
  {
   "cell_type": "code",
   "execution_count": 5,
   "metadata": {},
   "outputs": [],
   "source": [
    "import warnings\n",
    "warnings.filterwarnings(\"ignore\") "
   ]
  },
  {
   "cell_type": "markdown",
   "metadata": {},
   "source": [
    "## Подготовка данных\n",
    "\n",
    "**Дано:** Датасет сервиса по продаже автомобилей.  \n",
    "\n",
    "\n",
    "Признаки  \n",
    "- DateCrawled — дата скачивания анкеты из базы\n",
    "- VehicleType — тип автомобильного кузова\n",
    "- RegistrationYear — год регистрации автомобиля\n",
    "- Gearbox — тип коробки передач\n",
    "- Power — мощность (л. с.)\n",
    "- Model — модель автомобиля\n",
    "- Kilometer — пробег (км)\n",
    "- RegistrationMonth — месяц регистрации автомобиля\n",
    "- FuelType — тип топлива\n",
    "- Brand — марка автомобиля\n",
    "- Repaired — была машина в ремонте или нет\n",
    "- DateCreated — дата создания анкеты\n",
    "- NumberOfPictures — количество фотографий автомобиля\n",
    "- PostalCode — почтовый индекс владельца анкеты (пользователя)\n",
    "- LastSeen — дата последней активности пользователя\n",
    "\n",
    "Целевой признак\n",
    "- Price — цена (евро)"
   ]
  },
  {
   "cell_type": "code",
   "execution_count": 6,
   "metadata": {},
   "outputs": [],
   "source": [
    "pth1 = '/datasets/autos.csv'\n",
    "\n",
    "if os.path.exists(pth1):\n",
    "    data = pd.read_csv(pth1)\n",
    "else:\n",
    "    print('Something is wrong')"
   ]
  },
  {
   "cell_type": "code",
   "execution_count": 7,
   "metadata": {},
   "outputs": [],
   "source": [
    "def data_info(data):\n",
    "    display(data.head(5),\n",
    "            data.info(),\n",
    "            data.describe(),\n",
    "            data.isna().sum())\n",
    "    print('Явных дубликатов: ', data.duplicated().sum())"
   ]
  },
  {
   "cell_type": "code",
   "execution_count": 8,
   "metadata": {},
   "outputs": [
    {
     "name": "stdout",
     "output_type": "stream",
     "text": [
      "<class 'pandas.core.frame.DataFrame'>\n",
      "RangeIndex: 354369 entries, 0 to 354368\n",
      "Data columns (total 16 columns):\n",
      " #   Column             Non-Null Count   Dtype \n",
      "---  ------             --------------   ----- \n",
      " 0   DateCrawled        354369 non-null  object\n",
      " 1   Price              354369 non-null  int64 \n",
      " 2   VehicleType        316879 non-null  object\n",
      " 3   RegistrationYear   354369 non-null  int64 \n",
      " 4   Gearbox            334536 non-null  object\n",
      " 5   Power              354369 non-null  int64 \n",
      " 6   Model              334664 non-null  object\n",
      " 7   Kilometer          354369 non-null  int64 \n",
      " 8   RegistrationMonth  354369 non-null  int64 \n",
      " 9   FuelType           321474 non-null  object\n",
      " 10  Brand              354369 non-null  object\n",
      " 11  Repaired           283215 non-null  object\n",
      " 12  DateCreated        354369 non-null  object\n",
      " 13  NumberOfPictures   354369 non-null  int64 \n",
      " 14  PostalCode         354369 non-null  int64 \n",
      " 15  LastSeen           354369 non-null  object\n",
      "dtypes: int64(7), object(9)\n",
      "memory usage: 43.3+ MB\n"
     ]
    },
    {
     "data": {
      "text/html": [
       "<div>\n",
       "<style scoped>\n",
       "    .dataframe tbody tr th:only-of-type {\n",
       "        vertical-align: middle;\n",
       "    }\n",
       "\n",
       "    .dataframe tbody tr th {\n",
       "        vertical-align: top;\n",
       "    }\n",
       "\n",
       "    .dataframe thead th {\n",
       "        text-align: right;\n",
       "    }\n",
       "</style>\n",
       "<table border=\"1\" class=\"dataframe\">\n",
       "  <thead>\n",
       "    <tr style=\"text-align: right;\">\n",
       "      <th></th>\n",
       "      <th>DateCrawled</th>\n",
       "      <th>Price</th>\n",
       "      <th>VehicleType</th>\n",
       "      <th>RegistrationYear</th>\n",
       "      <th>Gearbox</th>\n",
       "      <th>Power</th>\n",
       "      <th>Model</th>\n",
       "      <th>Kilometer</th>\n",
       "      <th>RegistrationMonth</th>\n",
       "      <th>FuelType</th>\n",
       "      <th>Brand</th>\n",
       "      <th>Repaired</th>\n",
       "      <th>DateCreated</th>\n",
       "      <th>NumberOfPictures</th>\n",
       "      <th>PostalCode</th>\n",
       "      <th>LastSeen</th>\n",
       "    </tr>\n",
       "  </thead>\n",
       "  <tbody>\n",
       "    <tr>\n",
       "      <th>0</th>\n",
       "      <td>2016-03-24 11:52:17</td>\n",
       "      <td>480</td>\n",
       "      <td>NaN</td>\n",
       "      <td>1993</td>\n",
       "      <td>manual</td>\n",
       "      <td>0</td>\n",
       "      <td>golf</td>\n",
       "      <td>150000</td>\n",
       "      <td>0</td>\n",
       "      <td>petrol</td>\n",
       "      <td>volkswagen</td>\n",
       "      <td>NaN</td>\n",
       "      <td>2016-03-24 00:00:00</td>\n",
       "      <td>0</td>\n",
       "      <td>70435</td>\n",
       "      <td>2016-04-07 03:16:57</td>\n",
       "    </tr>\n",
       "    <tr>\n",
       "      <th>1</th>\n",
       "      <td>2016-03-24 10:58:45</td>\n",
       "      <td>18300</td>\n",
       "      <td>coupe</td>\n",
       "      <td>2011</td>\n",
       "      <td>manual</td>\n",
       "      <td>190</td>\n",
       "      <td>NaN</td>\n",
       "      <td>125000</td>\n",
       "      <td>5</td>\n",
       "      <td>gasoline</td>\n",
       "      <td>audi</td>\n",
       "      <td>yes</td>\n",
       "      <td>2016-03-24 00:00:00</td>\n",
       "      <td>0</td>\n",
       "      <td>66954</td>\n",
       "      <td>2016-04-07 01:46:50</td>\n",
       "    </tr>\n",
       "    <tr>\n",
       "      <th>2</th>\n",
       "      <td>2016-03-14 12:52:21</td>\n",
       "      <td>9800</td>\n",
       "      <td>suv</td>\n",
       "      <td>2004</td>\n",
       "      <td>auto</td>\n",
       "      <td>163</td>\n",
       "      <td>grand</td>\n",
       "      <td>125000</td>\n",
       "      <td>8</td>\n",
       "      <td>gasoline</td>\n",
       "      <td>jeep</td>\n",
       "      <td>NaN</td>\n",
       "      <td>2016-03-14 00:00:00</td>\n",
       "      <td>0</td>\n",
       "      <td>90480</td>\n",
       "      <td>2016-04-05 12:47:46</td>\n",
       "    </tr>\n",
       "    <tr>\n",
       "      <th>3</th>\n",
       "      <td>2016-03-17 16:54:04</td>\n",
       "      <td>1500</td>\n",
       "      <td>small</td>\n",
       "      <td>2001</td>\n",
       "      <td>manual</td>\n",
       "      <td>75</td>\n",
       "      <td>golf</td>\n",
       "      <td>150000</td>\n",
       "      <td>6</td>\n",
       "      <td>petrol</td>\n",
       "      <td>volkswagen</td>\n",
       "      <td>no</td>\n",
       "      <td>2016-03-17 00:00:00</td>\n",
       "      <td>0</td>\n",
       "      <td>91074</td>\n",
       "      <td>2016-03-17 17:40:17</td>\n",
       "    </tr>\n",
       "    <tr>\n",
       "      <th>4</th>\n",
       "      <td>2016-03-31 17:25:20</td>\n",
       "      <td>3600</td>\n",
       "      <td>small</td>\n",
       "      <td>2008</td>\n",
       "      <td>manual</td>\n",
       "      <td>69</td>\n",
       "      <td>fabia</td>\n",
       "      <td>90000</td>\n",
       "      <td>7</td>\n",
       "      <td>gasoline</td>\n",
       "      <td>skoda</td>\n",
       "      <td>no</td>\n",
       "      <td>2016-03-31 00:00:00</td>\n",
       "      <td>0</td>\n",
       "      <td>60437</td>\n",
       "      <td>2016-04-06 10:17:21</td>\n",
       "    </tr>\n",
       "  </tbody>\n",
       "</table>\n",
       "</div>"
      ],
      "text/plain": [
       "           DateCrawled  Price VehicleType  RegistrationYear Gearbox  Power  \\\n",
       "0  2016-03-24 11:52:17    480         NaN              1993  manual      0   \n",
       "1  2016-03-24 10:58:45  18300       coupe              2011  manual    190   \n",
       "2  2016-03-14 12:52:21   9800         suv              2004    auto    163   \n",
       "3  2016-03-17 16:54:04   1500       small              2001  manual     75   \n",
       "4  2016-03-31 17:25:20   3600       small              2008  manual     69   \n",
       "\n",
       "   Model  Kilometer  RegistrationMonth  FuelType       Brand Repaired  \\\n",
       "0   golf     150000                  0    petrol  volkswagen      NaN   \n",
       "1    NaN     125000                  5  gasoline        audi      yes   \n",
       "2  grand     125000                  8  gasoline        jeep      NaN   \n",
       "3   golf     150000                  6    petrol  volkswagen       no   \n",
       "4  fabia      90000                  7  gasoline       skoda       no   \n",
       "\n",
       "           DateCreated  NumberOfPictures  PostalCode             LastSeen  \n",
       "0  2016-03-24 00:00:00                 0       70435  2016-04-07 03:16:57  \n",
       "1  2016-03-24 00:00:00                 0       66954  2016-04-07 01:46:50  \n",
       "2  2016-03-14 00:00:00                 0       90480  2016-04-05 12:47:46  \n",
       "3  2016-03-17 00:00:00                 0       91074  2016-03-17 17:40:17  \n",
       "4  2016-03-31 00:00:00                 0       60437  2016-04-06 10:17:21  "
      ]
     },
     "metadata": {},
     "output_type": "display_data"
    },
    {
     "data": {
      "text/plain": [
       "None"
      ]
     },
     "metadata": {},
     "output_type": "display_data"
    },
    {
     "data": {
      "text/html": [
       "<div>\n",
       "<style scoped>\n",
       "    .dataframe tbody tr th:only-of-type {\n",
       "        vertical-align: middle;\n",
       "    }\n",
       "\n",
       "    .dataframe tbody tr th {\n",
       "        vertical-align: top;\n",
       "    }\n",
       "\n",
       "    .dataframe thead th {\n",
       "        text-align: right;\n",
       "    }\n",
       "</style>\n",
       "<table border=\"1\" class=\"dataframe\">\n",
       "  <thead>\n",
       "    <tr style=\"text-align: right;\">\n",
       "      <th></th>\n",
       "      <th>Price</th>\n",
       "      <th>RegistrationYear</th>\n",
       "      <th>Power</th>\n",
       "      <th>Kilometer</th>\n",
       "      <th>RegistrationMonth</th>\n",
       "      <th>NumberOfPictures</th>\n",
       "      <th>PostalCode</th>\n",
       "    </tr>\n",
       "  </thead>\n",
       "  <tbody>\n",
       "    <tr>\n",
       "      <th>count</th>\n",
       "      <td>354369.000000</td>\n",
       "      <td>354369.000000</td>\n",
       "      <td>354369.000000</td>\n",
       "      <td>354369.000000</td>\n",
       "      <td>354369.000000</td>\n",
       "      <td>354369.0</td>\n",
       "      <td>354369.000000</td>\n",
       "    </tr>\n",
       "    <tr>\n",
       "      <th>mean</th>\n",
       "      <td>4416.656776</td>\n",
       "      <td>2004.234448</td>\n",
       "      <td>110.094337</td>\n",
       "      <td>128211.172535</td>\n",
       "      <td>5.714645</td>\n",
       "      <td>0.0</td>\n",
       "      <td>50508.689087</td>\n",
       "    </tr>\n",
       "    <tr>\n",
       "      <th>std</th>\n",
       "      <td>4514.158514</td>\n",
       "      <td>90.227958</td>\n",
       "      <td>189.850405</td>\n",
       "      <td>37905.341530</td>\n",
       "      <td>3.726421</td>\n",
       "      <td>0.0</td>\n",
       "      <td>25783.096248</td>\n",
       "    </tr>\n",
       "    <tr>\n",
       "      <th>min</th>\n",
       "      <td>0.000000</td>\n",
       "      <td>1000.000000</td>\n",
       "      <td>0.000000</td>\n",
       "      <td>5000.000000</td>\n",
       "      <td>0.000000</td>\n",
       "      <td>0.0</td>\n",
       "      <td>1067.000000</td>\n",
       "    </tr>\n",
       "    <tr>\n",
       "      <th>25%</th>\n",
       "      <td>1050.000000</td>\n",
       "      <td>1999.000000</td>\n",
       "      <td>69.000000</td>\n",
       "      <td>125000.000000</td>\n",
       "      <td>3.000000</td>\n",
       "      <td>0.0</td>\n",
       "      <td>30165.000000</td>\n",
       "    </tr>\n",
       "    <tr>\n",
       "      <th>50%</th>\n",
       "      <td>2700.000000</td>\n",
       "      <td>2003.000000</td>\n",
       "      <td>105.000000</td>\n",
       "      <td>150000.000000</td>\n",
       "      <td>6.000000</td>\n",
       "      <td>0.0</td>\n",
       "      <td>49413.000000</td>\n",
       "    </tr>\n",
       "    <tr>\n",
       "      <th>75%</th>\n",
       "      <td>6400.000000</td>\n",
       "      <td>2008.000000</td>\n",
       "      <td>143.000000</td>\n",
       "      <td>150000.000000</td>\n",
       "      <td>9.000000</td>\n",
       "      <td>0.0</td>\n",
       "      <td>71083.000000</td>\n",
       "    </tr>\n",
       "    <tr>\n",
       "      <th>max</th>\n",
       "      <td>20000.000000</td>\n",
       "      <td>9999.000000</td>\n",
       "      <td>20000.000000</td>\n",
       "      <td>150000.000000</td>\n",
       "      <td>12.000000</td>\n",
       "      <td>0.0</td>\n",
       "      <td>99998.000000</td>\n",
       "    </tr>\n",
       "  </tbody>\n",
       "</table>\n",
       "</div>"
      ],
      "text/plain": [
       "               Price  RegistrationYear          Power      Kilometer  \\\n",
       "count  354369.000000     354369.000000  354369.000000  354369.000000   \n",
       "mean     4416.656776       2004.234448     110.094337  128211.172535   \n",
       "std      4514.158514         90.227958     189.850405   37905.341530   \n",
       "min         0.000000       1000.000000       0.000000    5000.000000   \n",
       "25%      1050.000000       1999.000000      69.000000  125000.000000   \n",
       "50%      2700.000000       2003.000000     105.000000  150000.000000   \n",
       "75%      6400.000000       2008.000000     143.000000  150000.000000   \n",
       "max     20000.000000       9999.000000   20000.000000  150000.000000   \n",
       "\n",
       "       RegistrationMonth  NumberOfPictures     PostalCode  \n",
       "count      354369.000000          354369.0  354369.000000  \n",
       "mean            5.714645               0.0   50508.689087  \n",
       "std             3.726421               0.0   25783.096248  \n",
       "min             0.000000               0.0    1067.000000  \n",
       "25%             3.000000               0.0   30165.000000  \n",
       "50%             6.000000               0.0   49413.000000  \n",
       "75%             9.000000               0.0   71083.000000  \n",
       "max            12.000000               0.0   99998.000000  "
      ]
     },
     "metadata": {},
     "output_type": "display_data"
    },
    {
     "data": {
      "text/plain": [
       "DateCrawled              0\n",
       "Price                    0\n",
       "VehicleType          37490\n",
       "RegistrationYear         0\n",
       "Gearbox              19833\n",
       "Power                    0\n",
       "Model                19705\n",
       "Kilometer                0\n",
       "RegistrationMonth        0\n",
       "FuelType             32895\n",
       "Brand                    0\n",
       "Repaired             71154\n",
       "DateCreated              0\n",
       "NumberOfPictures         0\n",
       "PostalCode               0\n",
       "LastSeen                 0\n",
       "dtype: int64"
      ]
     },
     "metadata": {},
     "output_type": "display_data"
    },
    {
     "name": "stdout",
     "output_type": "stream",
     "text": [
      "Явных дубликатов:  4\n"
     ]
    }
   ],
   "source": [
    "data_info(data)"
   ]
  },
  {
   "cell_type": "markdown",
   "metadata": {},
   "source": [
    "Cразу удалю данные, в которых год регистрации авто больше года выгрузки анкеты из базы:"
   ]
  },
  {
   "cell_type": "code",
   "execution_count": 9,
   "metadata": {},
   "outputs": [],
   "source": [
    "data['DateCrawled']= pd.to_datetime(data['DateCrawled'])"
   ]
  },
  {
   "cell_type": "code",
   "execution_count": 10,
   "metadata": {},
   "outputs": [
    {
     "data": {
      "text/plain": [
       "14530"
      ]
     },
     "execution_count": 10,
     "metadata": {},
     "output_type": "execute_result"
    }
   ],
   "source": [
    "data[data['DateCrawled'].dt.year < data['RegistrationYear']].shape[0]"
   ]
  },
  {
   "cell_type": "code",
   "execution_count": 11,
   "metadata": {},
   "outputs": [],
   "source": [
    "data = data[data['DateCrawled'].dt.year > data['RegistrationYear']]"
   ]
  },
  {
   "cell_type": "markdown",
   "metadata": {},
   "source": [
    "Уберу не важные для предсказания колонки, связанные с самим сайтом и полные дубликаты:\n",
    "- DateCrawled — дата скачивания анкеты из базы\n",
    "- DateCreated — дата создания анкеты\n",
    "- PostalCode — почтовый индекс владельца анкеты (пользователя)\n",
    "- NumberOfPictures — количество фотографий автомобиля\n",
    "- LastSeen — дата последней активности пользователя"
   ]
  },
  {
   "cell_type": "code",
   "execution_count": 12,
   "metadata": {},
   "outputs": [
    {
     "data": {
      "text/html": [
       "<div>\n",
       "<style scoped>\n",
       "    .dataframe tbody tr th:only-of-type {\n",
       "        vertical-align: middle;\n",
       "    }\n",
       "\n",
       "    .dataframe tbody tr th {\n",
       "        vertical-align: top;\n",
       "    }\n",
       "\n",
       "    .dataframe thead th {\n",
       "        text-align: right;\n",
       "    }\n",
       "</style>\n",
       "<table border=\"1\" class=\"dataframe\">\n",
       "  <thead>\n",
       "    <tr style=\"text-align: right;\">\n",
       "      <th></th>\n",
       "      <th>Price</th>\n",
       "      <th>VehicleType</th>\n",
       "      <th>RegistrationYear</th>\n",
       "      <th>Gearbox</th>\n",
       "      <th>Power</th>\n",
       "      <th>Model</th>\n",
       "      <th>Kilometer</th>\n",
       "      <th>FuelType</th>\n",
       "      <th>Brand</th>\n",
       "      <th>Repaired</th>\n",
       "    </tr>\n",
       "  </thead>\n",
       "  <tbody>\n",
       "    <tr>\n",
       "      <th>0</th>\n",
       "      <td>480</td>\n",
       "      <td>NaN</td>\n",
       "      <td>1993</td>\n",
       "      <td>manual</td>\n",
       "      <td>0</td>\n",
       "      <td>golf</td>\n",
       "      <td>150000</td>\n",
       "      <td>petrol</td>\n",
       "      <td>volkswagen</td>\n",
       "      <td>NaN</td>\n",
       "    </tr>\n",
       "    <tr>\n",
       "      <th>1</th>\n",
       "      <td>18300</td>\n",
       "      <td>coupe</td>\n",
       "      <td>2011</td>\n",
       "      <td>manual</td>\n",
       "      <td>190</td>\n",
       "      <td>NaN</td>\n",
       "      <td>125000</td>\n",
       "      <td>gasoline</td>\n",
       "      <td>audi</td>\n",
       "      <td>yes</td>\n",
       "    </tr>\n",
       "    <tr>\n",
       "      <th>2</th>\n",
       "      <td>9800</td>\n",
       "      <td>suv</td>\n",
       "      <td>2004</td>\n",
       "      <td>auto</td>\n",
       "      <td>163</td>\n",
       "      <td>grand</td>\n",
       "      <td>125000</td>\n",
       "      <td>gasoline</td>\n",
       "      <td>jeep</td>\n",
       "      <td>NaN</td>\n",
       "    </tr>\n",
       "    <tr>\n",
       "      <th>3</th>\n",
       "      <td>1500</td>\n",
       "      <td>small</td>\n",
       "      <td>2001</td>\n",
       "      <td>manual</td>\n",
       "      <td>75</td>\n",
       "      <td>golf</td>\n",
       "      <td>150000</td>\n",
       "      <td>petrol</td>\n",
       "      <td>volkswagen</td>\n",
       "      <td>no</td>\n",
       "    </tr>\n",
       "    <tr>\n",
       "      <th>4</th>\n",
       "      <td>3600</td>\n",
       "      <td>small</td>\n",
       "      <td>2008</td>\n",
       "      <td>manual</td>\n",
       "      <td>69</td>\n",
       "      <td>fabia</td>\n",
       "      <td>90000</td>\n",
       "      <td>gasoline</td>\n",
       "      <td>skoda</td>\n",
       "      <td>no</td>\n",
       "    </tr>\n",
       "  </tbody>\n",
       "</table>\n",
       "</div>"
      ],
      "text/plain": [
       "   Price VehicleType  RegistrationYear Gearbox  Power  Model  Kilometer  \\\n",
       "0    480         NaN              1993  manual      0   golf     150000   \n",
       "1  18300       coupe              2011  manual    190    NaN     125000   \n",
       "2   9800         suv              2004    auto    163  grand     125000   \n",
       "3   1500       small              2001  manual     75   golf     150000   \n",
       "4   3600       small              2008  manual     69  fabia      90000   \n",
       "\n",
       "   FuelType       Brand Repaired  \n",
       "0    petrol  volkswagen      NaN  \n",
       "1  gasoline        audi      yes  \n",
       "2  gasoline        jeep      NaN  \n",
       "3    petrol  volkswagen       no  \n",
       "4  gasoline       skoda       no  "
      ]
     },
     "execution_count": 12,
     "metadata": {},
     "output_type": "execute_result"
    }
   ],
   "source": [
    "data = data.drop(['DateCrawled', 'DateCreated', 'PostalCode', 'NumberOfPictures', 'LastSeen', 'RegistrationMonth'], axis = 1)\n",
    "data = data.drop_duplicates()\n",
    "data.head(5)"
   ]
  },
  {
   "cell_type": "code",
   "execution_count": 13,
   "metadata": {},
   "outputs": [
    {
     "data": {
      "text/plain": [
       "0"
      ]
     },
     "execution_count": 13,
     "metadata": {},
     "output_type": "execute_result"
    }
   ],
   "source": [
    "data.duplicated().sum()"
   ]
  },
  {
   "cell_type": "markdown",
   "metadata": {},
   "source": [
    "#### Обработка пропусков\n",
    "\n",
    "Пропущенные значения все в категориальных признаках (+ Repaired)  \n",
    "Посмотрю, есть ли ненормальные категории и заменю пропуск на \"не указано\" в категориальных признаках:"
   ]
  },
  {
   "cell_type": "code",
   "execution_count": 14,
   "metadata": {},
   "outputs": [
    {
     "data": {
      "text/plain": [
       "array([nan, 'coupe', 'suv', 'small', 'sedan', 'convertible', 'bus',\n",
       "       'wagon', 'other'], dtype=object)"
      ]
     },
     "metadata": {},
     "output_type": "display_data"
    },
    {
     "data": {
      "text/plain": [
       "array(['manual', 'auto', nan], dtype=object)"
      ]
     },
     "metadata": {},
     "output_type": "display_data"
    },
    {
     "data": {
      "text/plain": [
       "array(['golf', nan, 'grand', 'fabia', '3er', '2_reihe', 'other', 'c_max',\n",
       "       '3_reihe', 'passat', 'navara', 'ka', 'twingo', 'a_klasse',\n",
       "       'scirocco', '5er', 'arosa', 'civic', 'transporter', 'punto',\n",
       "       'e_klasse', 'kadett', 'corsa', 'one', 'fortwo', 'clio', '1er',\n",
       "       'b_klasse', 'signum', 'astra', 'a8', 'jetta', 'polo', 'fiesta',\n",
       "       'c_klasse', 'micra', 'vito', 'sprinter', '156', 'escort',\n",
       "       'forester', 'xc_reihe', 'scenic', 'a4', 'a1', 'insignia', 'combo',\n",
       "       'focus', 'tt', 'a6', 'jazz', 'omega', 'slk', '7er', '80', '147',\n",
       "       '100', 'meriva', 'z_reihe', 'sorento', 'v40', 'ibiza', 'mustang',\n",
       "       'eos', 'touran', 'getz', 'a3', 'megane', 'lupo', 'r19', 'caddy',\n",
       "       'mondeo', 'cordoba', 'colt', 'impreza', 'vectra', 'berlingo',\n",
       "       'tiguan', 'sharan', '6_reihe', 'c4', 'panda', 'up', 'i_reihe',\n",
       "       'ceed', 'kangoo', '5_reihe', 'yeti', 'octavia', 'zafira', 'mii',\n",
       "       'rx_reihe', '6er', 'fox', 'matiz', 'beetle', 'c1', 'rio',\n",
       "       'touareg', 'logan', 'spider', 'cuore', 's_max', 'modus', 'a2',\n",
       "       'galaxy', 'c3', 'viano', 's_klasse', '1_reihe', 'avensis',\n",
       "       'roomster', 'sl', 'kaefer', 'santa', 'cooper', 'leon', '4_reihe',\n",
       "       'a5', 'sportage', 'laguna', 'ptcruiser', 'clk', 'primera',\n",
       "       'espace', 'x_reihe', 'exeo', '159', 'transit', 'juke', 'qashqai',\n",
       "       'carisma', 'accord', 'corolla', 'lanos', 'phaeton', 'verso',\n",
       "       'swift', 'rav', 'picanto', 'boxster', 'kalos', 'superb', 'stilo',\n",
       "       'alhambra', 'mx_reihe', 'roadster', 'ypsilon', 'cayenne', 'galant',\n",
       "       'justy', '90', 'sirion', 'crossfire', 'agila', 'duster', 'v50',\n",
       "       '500', 'c_reihe', 'v_klasse', 'm_klasse', 'yaris', 'c5', 'aygo',\n",
       "       'almera', 'seicento', 'cc', 'fusion', '911', 'bora', 'forfour',\n",
       "       'm_reihe', 'cl', 'tigra', '300c', 'cr_reihe', 'spark', 'v70',\n",
       "       'kuga', 'x_type', 'ducato', 's_type', 'x_trail', 'toledo', 'altea',\n",
       "       'voyager', 'calibra', 'carnival', 'bravo', 'antara', 'tucson',\n",
       "       'citigo', 'jimny', 'wrangler', 'lybra', 'q7', 'lancer', 'captiva',\n",
       "       'discovery', 'freelander', 'sandero', 'note', '900', 'cherokee',\n",
       "       'clubman', 'samara', 'defender', 'cx_reihe', 'legacy', '601',\n",
       "       'pajero', 'c2', 'niva', 's60', 'nubira', 'vivaro', 'g_klasse',\n",
       "       'auris', 'lodgy', '850', 'range_rover', 'q3', 'serie_2', 'glk',\n",
       "       'charade', 'croma', 'outlander', 'doblo', 'musa', 'move', '9000',\n",
       "       'v60', '145', '200', 'b_max', 'range_rover_sport', 'aveo',\n",
       "       'terios', 'rangerover', 'q5', 'range_rover_evoque', 'materia',\n",
       "       'delta', 'gl', 'kalina', 'elefantino', 'i3', 'amarok', 'kappa',\n",
       "       'serie_3', 'serie_1'], dtype=object)"
      ]
     },
     "metadata": {},
     "output_type": "display_data"
    },
    {
     "data": {
      "text/plain": [
       "array(['petrol', 'gasoline', nan, 'lpg', 'other', 'hybrid', 'cng',\n",
       "       'electric'], dtype=object)"
      ]
     },
     "metadata": {},
     "output_type": "display_data"
    }
   ],
   "source": [
    "display(data['VehicleType'].unique(),\n",
    "       data['Gearbox'].unique(),\n",
    "       data['Model'].unique(),\n",
    "       data['FuelType'].unique())"
   ]
  },
  {
   "cell_type": "code",
   "execution_count": 15,
   "metadata": {},
   "outputs": [],
   "source": [
    "data['VehicleType'] = data['VehicleType'].fillna('not specified')"
   ]
  },
  {
   "cell_type": "code",
   "execution_count": 16,
   "metadata": {},
   "outputs": [],
   "source": [
    "data['Gearbox'] = data['Gearbox'].fillna('not specified')\n",
    "data['Model'] = data['Model'].fillna('not specified')\n",
    "data['FuelType'] = data['FuelType'].fillna('not specified')"
   ]
  },
  {
   "cell_type": "markdown",
   "metadata": {},
   "source": [
    "Колонка Repaired, посомтрю как часто указывали, что был ремонт машины:"
   ]
  },
  {
   "cell_type": "code",
   "execution_count": 17,
   "metadata": {},
   "outputs": [
    {
     "data": {
      "text/plain": [
       "array([nan, 'yes', 'no'], dtype=object)"
      ]
     },
     "execution_count": 17,
     "metadata": {},
     "output_type": "execute_result"
    }
   ],
   "source": [
    "data['Repaired'].unique()"
   ]
  },
  {
   "cell_type": "code",
   "execution_count": 18,
   "metadata": {},
   "outputs": [
    {
     "data": {
      "text/plain": [
       "no     201079\n",
       "yes     31073\n",
       "Name: Repaired, dtype: int64"
      ]
     },
     "execution_count": 18,
     "metadata": {},
     "output_type": "execute_result"
    }
   ],
   "source": [
    "data['Repaired'].value_counts()"
   ]
  },
  {
   "cell_type": "code",
   "execution_count": 19,
   "metadata": {},
   "outputs": [
    {
     "data": {
      "text/plain": [
       "no         201079\n",
       "unknown     54578\n",
       "yes         31073\n",
       "Name: Repaired, dtype: int64"
      ]
     },
     "execution_count": 19,
     "metadata": {},
     "output_type": "execute_result"
    }
   ],
   "source": [
    "data['Repaired'] = data['Repaired'].fillna('unknown')\n",
    "data['Repaired'].value_counts()"
   ]
  },
  {
   "cell_type": "code",
   "execution_count": 20,
   "metadata": {},
   "outputs": [
    {
     "data": {
      "text/plain": [
       "Price               0\n",
       "VehicleType         0\n",
       "RegistrationYear    0\n",
       "Gearbox             0\n",
       "Power               0\n",
       "Model               0\n",
       "Kilometer           0\n",
       "FuelType            0\n",
       "Brand               0\n",
       "Repaired            0\n",
       "dtype: int64"
      ]
     },
     "metadata": {},
     "output_type": "display_data"
    },
    {
     "data": {
      "text/plain": [
       "286730"
      ]
     },
     "metadata": {},
     "output_type": "display_data"
    }
   ],
   "source": [
    "display(data.isna().sum(),\n",
    "        data.shape[0])"
   ]
  },
  {
   "cell_type": "markdown",
   "metadata": {},
   "source": [
    "#### Аномалии"
   ]
  },
  {
   "cell_type": "code",
   "execution_count": 21,
   "metadata": {},
   "outputs": [
    {
     "data": {
      "text/html": [
       "<div>\n",
       "<style scoped>\n",
       "    .dataframe tbody tr th:only-of-type {\n",
       "        vertical-align: middle;\n",
       "    }\n",
       "\n",
       "    .dataframe tbody tr th {\n",
       "        vertical-align: top;\n",
       "    }\n",
       "\n",
       "    .dataframe thead th {\n",
       "        text-align: right;\n",
       "    }\n",
       "</style>\n",
       "<table border=\"1\" class=\"dataframe\">\n",
       "  <thead>\n",
       "    <tr style=\"text-align: right;\">\n",
       "      <th></th>\n",
       "      <th>Price</th>\n",
       "      <th>RegistrationYear</th>\n",
       "      <th>Power</th>\n",
       "      <th>Kilometer</th>\n",
       "    </tr>\n",
       "  </thead>\n",
       "  <tbody>\n",
       "    <tr>\n",
       "      <th>count</th>\n",
       "      <td>286730.000000</td>\n",
       "      <td>286730.000000</td>\n",
       "      <td>286730.000000</td>\n",
       "      <td>286730.000000</td>\n",
       "    </tr>\n",
       "    <tr>\n",
       "      <th>mean</th>\n",
       "      <td>4623.394615</td>\n",
       "      <td>2001.898825</td>\n",
       "      <td>112.941373</td>\n",
       "      <td>126828.671573</td>\n",
       "    </tr>\n",
       "    <tr>\n",
       "      <th>std</th>\n",
       "      <td>4620.223791</td>\n",
       "      <td>14.557994</td>\n",
       "      <td>193.451095</td>\n",
       "      <td>38597.250815</td>\n",
       "    </tr>\n",
       "    <tr>\n",
       "      <th>min</th>\n",
       "      <td>0.000000</td>\n",
       "      <td>1000.000000</td>\n",
       "      <td>0.000000</td>\n",
       "      <td>5000.000000</td>\n",
       "    </tr>\n",
       "    <tr>\n",
       "      <th>25%</th>\n",
       "      <td>1150.000000</td>\n",
       "      <td>1999.000000</td>\n",
       "      <td>71.000000</td>\n",
       "      <td>125000.000000</td>\n",
       "    </tr>\n",
       "    <tr>\n",
       "      <th>50%</th>\n",
       "      <td>2915.500000</td>\n",
       "      <td>2003.000000</td>\n",
       "      <td>105.000000</td>\n",
       "      <td>150000.000000</td>\n",
       "    </tr>\n",
       "    <tr>\n",
       "      <th>75%</th>\n",
       "      <td>6750.000000</td>\n",
       "      <td>2007.000000</td>\n",
       "      <td>143.000000</td>\n",
       "      <td>150000.000000</td>\n",
       "    </tr>\n",
       "    <tr>\n",
       "      <th>max</th>\n",
       "      <td>20000.000000</td>\n",
       "      <td>2015.000000</td>\n",
       "      <td>20000.000000</td>\n",
       "      <td>150000.000000</td>\n",
       "    </tr>\n",
       "  </tbody>\n",
       "</table>\n",
       "</div>"
      ],
      "text/plain": [
       "               Price  RegistrationYear          Power      Kilometer\n",
       "count  286730.000000     286730.000000  286730.000000  286730.000000\n",
       "mean     4623.394615       2001.898825     112.941373  126828.671573\n",
       "std      4620.223791         14.557994     193.451095   38597.250815\n",
       "min         0.000000       1000.000000       0.000000    5000.000000\n",
       "25%      1150.000000       1999.000000      71.000000  125000.000000\n",
       "50%      2915.500000       2003.000000     105.000000  150000.000000\n",
       "75%      6750.000000       2007.000000     143.000000  150000.000000\n",
       "max     20000.000000       2015.000000   20000.000000  150000.000000"
      ]
     },
     "execution_count": 21,
     "metadata": {},
     "output_type": "execute_result"
    }
   ],
   "source": [
    "data.describe()"
   ]
  },
  {
   "cell_type": "markdown",
   "metadata": {},
   "source": [
    "В Price(0), RegistrationYear(9999), Power(?), RegistrationMonth(0) есть странные значения, посмотрю поближе:\n",
    "\n",
    "##### Price"
   ]
  },
  {
   "cell_type": "code",
   "execution_count": 22,
   "metadata": {},
   "outputs": [
    {
     "data": {
      "text/html": [
       "<div>\n",
       "<style scoped>\n",
       "    .dataframe tbody tr th:only-of-type {\n",
       "        vertical-align: middle;\n",
       "    }\n",
       "\n",
       "    .dataframe tbody tr th {\n",
       "        vertical-align: top;\n",
       "    }\n",
       "\n",
       "    .dataframe thead th {\n",
       "        text-align: right;\n",
       "    }\n",
       "</style>\n",
       "<table border=\"1\" class=\"dataframe\">\n",
       "  <thead>\n",
       "    <tr style=\"text-align: right;\">\n",
       "      <th></th>\n",
       "      <th>Price</th>\n",
       "      <th>VehicleType</th>\n",
       "      <th>RegistrationYear</th>\n",
       "      <th>Gearbox</th>\n",
       "      <th>Power</th>\n",
       "      <th>Model</th>\n",
       "      <th>Kilometer</th>\n",
       "      <th>FuelType</th>\n",
       "      <th>Brand</th>\n",
       "      <th>Repaired</th>\n",
       "    </tr>\n",
       "  </thead>\n",
       "  <tbody>\n",
       "    <tr>\n",
       "      <th>7</th>\n",
       "      <td>0</td>\n",
       "      <td>sedan</td>\n",
       "      <td>1980</td>\n",
       "      <td>manual</td>\n",
       "      <td>50</td>\n",
       "      <td>other</td>\n",
       "      <td>40000</td>\n",
       "      <td>petrol</td>\n",
       "      <td>volkswagen</td>\n",
       "      <td>no</td>\n",
       "    </tr>\n",
       "    <tr>\n",
       "      <th>40</th>\n",
       "      <td>0</td>\n",
       "      <td>not specified</td>\n",
       "      <td>1990</td>\n",
       "      <td>not specified</td>\n",
       "      <td>0</td>\n",
       "      <td>corsa</td>\n",
       "      <td>150000</td>\n",
       "      <td>petrol</td>\n",
       "      <td>opel</td>\n",
       "      <td>unknown</td>\n",
       "    </tr>\n",
       "    <tr>\n",
       "      <th>115</th>\n",
       "      <td>0</td>\n",
       "      <td>small</td>\n",
       "      <td>1999</td>\n",
       "      <td>not specified</td>\n",
       "      <td>0</td>\n",
       "      <td>not specified</td>\n",
       "      <td>5000</td>\n",
       "      <td>petrol</td>\n",
       "      <td>volkswagen</td>\n",
       "      <td>unknown</td>\n",
       "    </tr>\n",
       "    <tr>\n",
       "      <th>152</th>\n",
       "      <td>0</td>\n",
       "      <td>bus</td>\n",
       "      <td>2004</td>\n",
       "      <td>manual</td>\n",
       "      <td>101</td>\n",
       "      <td>meriva</td>\n",
       "      <td>150000</td>\n",
       "      <td>lpg</td>\n",
       "      <td>opel</td>\n",
       "      <td>yes</td>\n",
       "    </tr>\n",
       "    <tr>\n",
       "      <th>154</th>\n",
       "      <td>0</td>\n",
       "      <td>not specified</td>\n",
       "      <td>2006</td>\n",
       "      <td>not specified</td>\n",
       "      <td>0</td>\n",
       "      <td>other</td>\n",
       "      <td>5000</td>\n",
       "      <td>not specified</td>\n",
       "      <td>fiat</td>\n",
       "      <td>unknown</td>\n",
       "    </tr>\n",
       "    <tr>\n",
       "      <th>...</th>\n",
       "      <td>...</td>\n",
       "      <td>...</td>\n",
       "      <td>...</td>\n",
       "      <td>...</td>\n",
       "      <td>...</td>\n",
       "      <td>...</td>\n",
       "      <td>...</td>\n",
       "      <td>...</td>\n",
       "      <td>...</td>\n",
       "      <td>...</td>\n",
       "    </tr>\n",
       "    <tr>\n",
       "      <th>354205</th>\n",
       "      <td>0</td>\n",
       "      <td>not specified</td>\n",
       "      <td>2000</td>\n",
       "      <td>manual</td>\n",
       "      <td>65</td>\n",
       "      <td>corsa</td>\n",
       "      <td>150000</td>\n",
       "      <td>not specified</td>\n",
       "      <td>opel</td>\n",
       "      <td>yes</td>\n",
       "    </tr>\n",
       "    <tr>\n",
       "      <th>354238</th>\n",
       "      <td>0</td>\n",
       "      <td>small</td>\n",
       "      <td>2002</td>\n",
       "      <td>manual</td>\n",
       "      <td>60</td>\n",
       "      <td>fiesta</td>\n",
       "      <td>150000</td>\n",
       "      <td>petrol</td>\n",
       "      <td>ford</td>\n",
       "      <td>unknown</td>\n",
       "    </tr>\n",
       "    <tr>\n",
       "      <th>354248</th>\n",
       "      <td>0</td>\n",
       "      <td>small</td>\n",
       "      <td>1999</td>\n",
       "      <td>manual</td>\n",
       "      <td>53</td>\n",
       "      <td>swift</td>\n",
       "      <td>150000</td>\n",
       "      <td>petrol</td>\n",
       "      <td>suzuki</td>\n",
       "      <td>unknown</td>\n",
       "    </tr>\n",
       "    <tr>\n",
       "      <th>354277</th>\n",
       "      <td>0</td>\n",
       "      <td>small</td>\n",
       "      <td>1999</td>\n",
       "      <td>manual</td>\n",
       "      <td>37</td>\n",
       "      <td>arosa</td>\n",
       "      <td>150000</td>\n",
       "      <td>petrol</td>\n",
       "      <td>seat</td>\n",
       "      <td>yes</td>\n",
       "    </tr>\n",
       "    <tr>\n",
       "      <th>354364</th>\n",
       "      <td>0</td>\n",
       "      <td>not specified</td>\n",
       "      <td>2005</td>\n",
       "      <td>manual</td>\n",
       "      <td>0</td>\n",
       "      <td>colt</td>\n",
       "      <td>150000</td>\n",
       "      <td>petrol</td>\n",
       "      <td>mitsubishi</td>\n",
       "      <td>yes</td>\n",
       "    </tr>\n",
       "  </tbody>\n",
       "</table>\n",
       "<p>7685 rows × 10 columns</p>\n",
       "</div>"
      ],
      "text/plain": [
       "        Price    VehicleType  RegistrationYear        Gearbox  Power  \\\n",
       "7           0          sedan              1980         manual     50   \n",
       "40          0  not specified              1990  not specified      0   \n",
       "115         0          small              1999  not specified      0   \n",
       "152         0            bus              2004         manual    101   \n",
       "154         0  not specified              2006  not specified      0   \n",
       "...       ...            ...               ...            ...    ...   \n",
       "354205      0  not specified              2000         manual     65   \n",
       "354238      0          small              2002         manual     60   \n",
       "354248      0          small              1999         manual     53   \n",
       "354277      0          small              1999         manual     37   \n",
       "354364      0  not specified              2005         manual      0   \n",
       "\n",
       "                Model  Kilometer       FuelType       Brand Repaired  \n",
       "7               other      40000         petrol  volkswagen       no  \n",
       "40              corsa     150000         petrol        opel  unknown  \n",
       "115     not specified       5000         petrol  volkswagen  unknown  \n",
       "152            meriva     150000            lpg        opel      yes  \n",
       "154             other       5000  not specified        fiat  unknown  \n",
       "...               ...        ...            ...         ...      ...  \n",
       "354205          corsa     150000  not specified        opel      yes  \n",
       "354238         fiesta     150000         petrol        ford  unknown  \n",
       "354248          swift     150000         petrol      suzuki  unknown  \n",
       "354277          arosa     150000         petrol        seat      yes  \n",
       "354364           colt     150000         petrol  mitsubishi      yes  \n",
       "\n",
       "[7685 rows x 10 columns]"
      ]
     },
     "execution_count": 22,
     "metadata": {},
     "output_type": "execute_result"
    }
   ],
   "source": [
    "data[data['Price'] == 0]"
   ]
  },
  {
   "cell_type": "markdown",
   "metadata": {},
   "source": [
    "**Price** это мой целевой признак, восстановить эту информацию не получится, машины, которые стоят 0 у.е. удалю из дата сета."
   ]
  },
  {
   "cell_type": "code",
   "execution_count": 23,
   "metadata": {},
   "outputs": [
    {
     "data": {
      "text/plain": [
       "279045"
      ]
     },
     "execution_count": 23,
     "metadata": {},
     "output_type": "execute_result"
    }
   ],
   "source": [
    "data = data[data['Price'] != 0]\n",
    "data.shape[0]"
   ]
  },
  {
   "cell_type": "code",
   "execution_count": 24,
   "metadata": {},
   "outputs": [
    {
     "data": {
      "image/png": "[encoded data removed]",
      "text/plain": [
       "<Figure size 1080x360 with 1 Axes>"
      ]
     },
     "metadata": {
      "needs_background": "light"
     },
     "output_type": "display_data"
    }
   ],
   "source": [
    "fig = plt.figure(figsize = (15,5))\n",
    "ax = fig.gca()\n",
    "ax.set_title('Распределение цен объявлений')\n",
    "ax.set_xlabel('цена')\n",
    "ax.set_ylabel('количество объявлений')\n",
    "data['Price'].hist(bins = 200, grid=True, ax = ax, color='lightgrey');"
   ]
  },
  {
   "cell_type": "markdown",
   "metadata": {},
   "source": [
    "Есть повторяющийся паттерн выбросов, но они, возможно, связаны с круглыми ценами.  \n",
    "Самое большое количество машин стоят до 2500 евро, более дорогих меньше, может быть связно с тем, что бизнес про подержанные машины.  \n",
    "Всё равно очень много слишком дешёвых машин, предположим, машина не может стоит меньше 50 евро даже подержанная:"
   ]
  },
  {
   "cell_type": "code",
   "execution_count": 25,
   "metadata": {},
   "outputs": [
    {
     "data": {
      "text/html": [
       "<div>\n",
       "<style scoped>\n",
       "    .dataframe tbody tr th:only-of-type {\n",
       "        vertical-align: middle;\n",
       "    }\n",
       "\n",
       "    .dataframe tbody tr th {\n",
       "        vertical-align: top;\n",
       "    }\n",
       "\n",
       "    .dataframe thead th {\n",
       "        text-align: right;\n",
       "    }\n",
       "</style>\n",
       "<table border=\"1\" class=\"dataframe\">\n",
       "  <thead>\n",
       "    <tr style=\"text-align: right;\">\n",
       "      <th></th>\n",
       "      <th>Price</th>\n",
       "      <th>VehicleType</th>\n",
       "      <th>RegistrationYear</th>\n",
       "      <th>Gearbox</th>\n",
       "      <th>Power</th>\n",
       "      <th>Model</th>\n",
       "      <th>Kilometer</th>\n",
       "      <th>FuelType</th>\n",
       "      <th>Brand</th>\n",
       "      <th>Repaired</th>\n",
       "    </tr>\n",
       "  </thead>\n",
       "  <tbody>\n",
       "    <tr>\n",
       "      <th>59</th>\n",
       "      <td>1</td>\n",
       "      <td>suv</td>\n",
       "      <td>1994</td>\n",
       "      <td>manual</td>\n",
       "      <td>286</td>\n",
       "      <td>not specified</td>\n",
       "      <td>150000</td>\n",
       "      <td>not specified</td>\n",
       "      <td>sonstige_autos</td>\n",
       "      <td>unknown</td>\n",
       "    </tr>\n",
       "    <tr>\n",
       "      <th>89</th>\n",
       "      <td>1</td>\n",
       "      <td>sedan</td>\n",
       "      <td>1995</td>\n",
       "      <td>manual</td>\n",
       "      <td>113</td>\n",
       "      <td>e_klasse</td>\n",
       "      <td>150000</td>\n",
       "      <td>gasoline</td>\n",
       "      <td>mercedes_benz</td>\n",
       "      <td>no</td>\n",
       "    </tr>\n",
       "    <tr>\n",
       "      <th>268</th>\n",
       "      <td>1</td>\n",
       "      <td>sedan</td>\n",
       "      <td>1990</td>\n",
       "      <td>manual</td>\n",
       "      <td>90</td>\n",
       "      <td>80</td>\n",
       "      <td>70000</td>\n",
       "      <td>petrol</td>\n",
       "      <td>audi</td>\n",
       "      <td>no</td>\n",
       "    </tr>\n",
       "    <tr>\n",
       "      <th>408</th>\n",
       "      <td>1</td>\n",
       "      <td>not specified</td>\n",
       "      <td>2000</td>\n",
       "      <td>not specified</td>\n",
       "      <td>75</td>\n",
       "      <td>golf</td>\n",
       "      <td>90000</td>\n",
       "      <td>petrol</td>\n",
       "      <td>volkswagen</td>\n",
       "      <td>unknown</td>\n",
       "    </tr>\n",
       "    <tr>\n",
       "      <th>901</th>\n",
       "      <td>1</td>\n",
       "      <td>not specified</td>\n",
       "      <td>1990</td>\n",
       "      <td>manual</td>\n",
       "      <td>0</td>\n",
       "      <td>other</td>\n",
       "      <td>150000</td>\n",
       "      <td>not specified</td>\n",
       "      <td>porsche</td>\n",
       "      <td>unknown</td>\n",
       "    </tr>\n",
       "    <tr>\n",
       "      <th>...</th>\n",
       "      <td>...</td>\n",
       "      <td>...</td>\n",
       "      <td>...</td>\n",
       "      <td>...</td>\n",
       "      <td>...</td>\n",
       "      <td>...</td>\n",
       "      <td>...</td>\n",
       "      <td>...</td>\n",
       "      <td>...</td>\n",
       "      <td>...</td>\n",
       "    </tr>\n",
       "    <tr>\n",
       "      <th>352889</th>\n",
       "      <td>1</td>\n",
       "      <td>bus</td>\n",
       "      <td>2005</td>\n",
       "      <td>manual</td>\n",
       "      <td>101</td>\n",
       "      <td>other</td>\n",
       "      <td>150000</td>\n",
       "      <td>gasoline</td>\n",
       "      <td>nissan</td>\n",
       "      <td>yes</td>\n",
       "    </tr>\n",
       "    <tr>\n",
       "      <th>352919</th>\n",
       "      <td>1</td>\n",
       "      <td>small</td>\n",
       "      <td>1998</td>\n",
       "      <td>manual</td>\n",
       "      <td>125</td>\n",
       "      <td>polo</td>\n",
       "      <td>150000</td>\n",
       "      <td>petrol</td>\n",
       "      <td>volkswagen</td>\n",
       "      <td>no</td>\n",
       "    </tr>\n",
       "    <tr>\n",
       "      <th>353252</th>\n",
       "      <td>1</td>\n",
       "      <td>coupe</td>\n",
       "      <td>1990</td>\n",
       "      <td>manual</td>\n",
       "      <td>45</td>\n",
       "      <td>polo</td>\n",
       "      <td>150000</td>\n",
       "      <td>petrol</td>\n",
       "      <td>volkswagen</td>\n",
       "      <td>no</td>\n",
       "    </tr>\n",
       "    <tr>\n",
       "      <th>353573</th>\n",
       "      <td>40</td>\n",
       "      <td>wagon</td>\n",
       "      <td>2011</td>\n",
       "      <td>not specified</td>\n",
       "      <td>0</td>\n",
       "      <td>5er</td>\n",
       "      <td>80000</td>\n",
       "      <td>not specified</td>\n",
       "      <td>bmw</td>\n",
       "      <td>unknown</td>\n",
       "    </tr>\n",
       "    <tr>\n",
       "      <th>353682</th>\n",
       "      <td>1</td>\n",
       "      <td>bus</td>\n",
       "      <td>1999</td>\n",
       "      <td>manual</td>\n",
       "      <td>0</td>\n",
       "      <td>espace</td>\n",
       "      <td>150000</td>\n",
       "      <td>petrol</td>\n",
       "      <td>renault</td>\n",
       "      <td>unknown</td>\n",
       "    </tr>\n",
       "  </tbody>\n",
       "</table>\n",
       "<p>1381 rows × 10 columns</p>\n",
       "</div>"
      ],
      "text/plain": [
       "        Price    VehicleType  RegistrationYear        Gearbox  Power  \\\n",
       "59          1            suv              1994         manual    286   \n",
       "89          1          sedan              1995         manual    113   \n",
       "268         1          sedan              1990         manual     90   \n",
       "408         1  not specified              2000  not specified     75   \n",
       "901         1  not specified              1990         manual      0   \n",
       "...       ...            ...               ...            ...    ...   \n",
       "352889      1            bus              2005         manual    101   \n",
       "352919      1          small              1998         manual    125   \n",
       "353252      1          coupe              1990         manual     45   \n",
       "353573     40          wagon              2011  not specified      0   \n",
       "353682      1            bus              1999         manual      0   \n",
       "\n",
       "                Model  Kilometer       FuelType           Brand Repaired  \n",
       "59      not specified     150000  not specified  sonstige_autos  unknown  \n",
       "89           e_klasse     150000       gasoline   mercedes_benz       no  \n",
       "268                80      70000         petrol            audi       no  \n",
       "408              golf      90000         petrol      volkswagen  unknown  \n",
       "901             other     150000  not specified         porsche  unknown  \n",
       "...               ...        ...            ...             ...      ...  \n",
       "352889          other     150000       gasoline          nissan      yes  \n",
       "352919           polo     150000         petrol      volkswagen       no  \n",
       "353252           polo     150000         petrol      volkswagen       no  \n",
       "353573            5er      80000  not specified             bmw  unknown  \n",
       "353682         espace     150000         petrol         renault  unknown  \n",
       "\n",
       "[1381 rows x 10 columns]"
      ]
     },
     "execution_count": 25,
     "metadata": {},
     "output_type": "execute_result"
    }
   ],
   "source": [
    "data[data['Price'] < 50]"
   ]
  },
  {
   "cell_type": "markdown",
   "metadata": {},
   "source": [
    "Уберу эти данные тоже, их не очень много"
   ]
  },
  {
   "cell_type": "code",
   "execution_count": 26,
   "metadata": {},
   "outputs": [
    {
     "data": {
      "text/plain": [
       "254366"
      ]
     },
     "execution_count": 26,
     "metadata": {},
     "output_type": "execute_result"
    }
   ],
   "source": [
    "data = data[data['Price'] > 500]\n",
    "data.shape[0]"
   ]
  },
  {
   "cell_type": "markdown",
   "metadata": {},
   "source": [
    "##### RegistrationYear/Month"
   ]
  },
  {
   "cell_type": "code",
   "execution_count": 27,
   "metadata": {},
   "outputs": [
    {
     "data": {
      "text/plain": [
       "100"
      ]
     },
     "execution_count": 27,
     "metadata": {},
     "output_type": "execute_result"
    }
   ],
   "source": [
    "# Если считать, что раньше 1950 машин на ходу нет\n",
    "data[(data['RegistrationYear'] > 2024) | (data['RegistrationYear'] < 1950)].shape[0]"
   ]
  },
  {
   "cell_type": "markdown",
   "metadata": {},
   "source": [
    "Удалю строки с этими данными, их немного"
   ]
  },
  {
   "cell_type": "code",
   "execution_count": 28,
   "metadata": {
    "scrolled": true
   },
   "outputs": [
    {
     "data": {
      "text/plain": [
       "254253"
      ]
     },
     "execution_count": 28,
     "metadata": {},
     "output_type": "execute_result"
    }
   ],
   "source": [
    "data = data[(data['RegistrationYear'] < 2024) & (data['RegistrationYear'] > 1950)]\n",
    "data.shape[0]"
   ]
  },
  {
   "cell_type": "markdown",
   "metadata": {},
   "source": [
    "\n",
    "##### Power"
   ]
  },
  {
   "cell_type": "code",
   "execution_count": 29,
   "metadata": {},
   "outputs": [
    {
     "data": {
      "text/plain": [
       "20372"
      ]
     },
     "execution_count": 29,
     "metadata": {},
     "output_type": "execute_result"
    }
   ],
   "source": [
    "data[data['Power'] == 0].shape[0]"
   ]
  },
  {
   "cell_type": "code",
   "execution_count": 30,
   "metadata": {},
   "outputs": [
    {
     "data": {
      "text/html": [
       "<div>\n",
       "<style scoped>\n",
       "    .dataframe tbody tr th:only-of-type {\n",
       "        vertical-align: middle;\n",
       "    }\n",
       "\n",
       "    .dataframe tbody tr th {\n",
       "        vertical-align: top;\n",
       "    }\n",
       "\n",
       "    .dataframe thead th {\n",
       "        text-align: right;\n",
       "    }\n",
       "</style>\n",
       "<table border=\"1\" class=\"dataframe\">\n",
       "  <thead>\n",
       "    <tr style=\"text-align: right;\">\n",
       "      <th></th>\n",
       "      <th>Price</th>\n",
       "      <th>VehicleType</th>\n",
       "      <th>RegistrationYear</th>\n",
       "      <th>Gearbox</th>\n",
       "      <th>Power</th>\n",
       "      <th>Model</th>\n",
       "      <th>Kilometer</th>\n",
       "      <th>FuelType</th>\n",
       "      <th>Brand</th>\n",
       "      <th>Repaired</th>\n",
       "    </tr>\n",
       "  </thead>\n",
       "  <tbody>\n",
       "    <tr>\n",
       "      <th>54</th>\n",
       "      <td>4700</td>\n",
       "      <td>wagon</td>\n",
       "      <td>2005</td>\n",
       "      <td>manual</td>\n",
       "      <td>0</td>\n",
       "      <td>signum</td>\n",
       "      <td>150000</td>\n",
       "      <td>not specified</td>\n",
       "      <td>opel</td>\n",
       "      <td>no</td>\n",
       "    </tr>\n",
       "    <tr>\n",
       "      <th>55</th>\n",
       "      <td>550</td>\n",
       "      <td>wagon</td>\n",
       "      <td>1999</td>\n",
       "      <td>manual</td>\n",
       "      <td>0</td>\n",
       "      <td>astra</td>\n",
       "      <td>150000</td>\n",
       "      <td>gasoline</td>\n",
       "      <td>opel</td>\n",
       "      <td>yes</td>\n",
       "    </tr>\n",
       "    <tr>\n",
       "      <th>69</th>\n",
       "      <td>1200</td>\n",
       "      <td>coupe</td>\n",
       "      <td>2001</td>\n",
       "      <td>not specified</td>\n",
       "      <td>0</td>\n",
       "      <td>astra</td>\n",
       "      <td>150000</td>\n",
       "      <td>not specified</td>\n",
       "      <td>opel</td>\n",
       "      <td>unknown</td>\n",
       "    </tr>\n",
       "    <tr>\n",
       "      <th>70</th>\n",
       "      <td>800</td>\n",
       "      <td>small</td>\n",
       "      <td>1993</td>\n",
       "      <td>manual</td>\n",
       "      <td>0</td>\n",
       "      <td>polo</td>\n",
       "      <td>150000</td>\n",
       "      <td>petrol</td>\n",
       "      <td>volkswagen</td>\n",
       "      <td>no</td>\n",
       "    </tr>\n",
       "    <tr>\n",
       "      <th>90</th>\n",
       "      <td>2400</td>\n",
       "      <td>sedan</td>\n",
       "      <td>2003</td>\n",
       "      <td>manual</td>\n",
       "      <td>0</td>\n",
       "      <td>a4</td>\n",
       "      <td>150000</td>\n",
       "      <td>gasoline</td>\n",
       "      <td>audi</td>\n",
       "      <td>unknown</td>\n",
       "    </tr>\n",
       "    <tr>\n",
       "      <th>...</th>\n",
       "      <td>...</td>\n",
       "      <td>...</td>\n",
       "      <td>...</td>\n",
       "      <td>...</td>\n",
       "      <td>...</td>\n",
       "      <td>...</td>\n",
       "      <td>...</td>\n",
       "      <td>...</td>\n",
       "      <td>...</td>\n",
       "      <td>...</td>\n",
       "    </tr>\n",
       "    <tr>\n",
       "      <th>354302</th>\n",
       "      <td>5990</td>\n",
       "      <td>bus</td>\n",
       "      <td>1984</td>\n",
       "      <td>auto</td>\n",
       "      <td>0</td>\n",
       "      <td>other</td>\n",
       "      <td>70000</td>\n",
       "      <td>petrol</td>\n",
       "      <td>chevrolet</td>\n",
       "      <td>unknown</td>\n",
       "    </tr>\n",
       "    <tr>\n",
       "      <th>354305</th>\n",
       "      <td>3500</td>\n",
       "      <td>not specified</td>\n",
       "      <td>1995</td>\n",
       "      <td>not specified</td>\n",
       "      <td>0</td>\n",
       "      <td>polo</td>\n",
       "      <td>150000</td>\n",
       "      <td>not specified</td>\n",
       "      <td>volkswagen</td>\n",
       "      <td>unknown</td>\n",
       "    </tr>\n",
       "    <tr>\n",
       "      <th>354332</th>\n",
       "      <td>7900</td>\n",
       "      <td>bus</td>\n",
       "      <td>2007</td>\n",
       "      <td>manual</td>\n",
       "      <td>0</td>\n",
       "      <td>b_klasse</td>\n",
       "      <td>125000</td>\n",
       "      <td>petrol</td>\n",
       "      <td>mercedes_benz</td>\n",
       "      <td>no</td>\n",
       "    </tr>\n",
       "    <tr>\n",
       "      <th>354346</th>\n",
       "      <td>2600</td>\n",
       "      <td>not specified</td>\n",
       "      <td>2005</td>\n",
       "      <td>auto</td>\n",
       "      <td>0</td>\n",
       "      <td>c_klasse</td>\n",
       "      <td>150000</td>\n",
       "      <td>not specified</td>\n",
       "      <td>mercedes_benz</td>\n",
       "      <td>unknown</td>\n",
       "    </tr>\n",
       "    <tr>\n",
       "      <th>354365</th>\n",
       "      <td>2200</td>\n",
       "      <td>not specified</td>\n",
       "      <td>2005</td>\n",
       "      <td>not specified</td>\n",
       "      <td>0</td>\n",
       "      <td>not specified</td>\n",
       "      <td>20000</td>\n",
       "      <td>not specified</td>\n",
       "      <td>sonstige_autos</td>\n",
       "      <td>unknown</td>\n",
       "    </tr>\n",
       "  </tbody>\n",
       "</table>\n",
       "<p>20372 rows × 10 columns</p>\n",
       "</div>"
      ],
      "text/plain": [
       "        Price    VehicleType  RegistrationYear        Gearbox  Power  \\\n",
       "54       4700          wagon              2005         manual      0   \n",
       "55        550          wagon              1999         manual      0   \n",
       "69       1200          coupe              2001  not specified      0   \n",
       "70        800          small              1993         manual      0   \n",
       "90       2400          sedan              2003         manual      0   \n",
       "...       ...            ...               ...            ...    ...   \n",
       "354302   5990            bus              1984           auto      0   \n",
       "354305   3500  not specified              1995  not specified      0   \n",
       "354332   7900            bus              2007         manual      0   \n",
       "354346   2600  not specified              2005           auto      0   \n",
       "354365   2200  not specified              2005  not specified      0   \n",
       "\n",
       "                Model  Kilometer       FuelType           Brand Repaired  \n",
       "54             signum     150000  not specified            opel       no  \n",
       "55              astra     150000       gasoline            opel      yes  \n",
       "69              astra     150000  not specified            opel  unknown  \n",
       "70               polo     150000         petrol      volkswagen       no  \n",
       "90                 a4     150000       gasoline            audi  unknown  \n",
       "...               ...        ...            ...             ...      ...  \n",
       "354302          other      70000         petrol       chevrolet  unknown  \n",
       "354305           polo     150000  not specified      volkswagen  unknown  \n",
       "354332       b_klasse     125000         petrol   mercedes_benz       no  \n",
       "354346       c_klasse     150000  not specified   mercedes_benz  unknown  \n",
       "354365  not specified      20000  not specified  sonstige_autos  unknown  \n",
       "\n",
       "[20372 rows x 10 columns]"
      ]
     },
     "execution_count": 30,
     "metadata": {},
     "output_type": "execute_result"
    }
   ],
   "source": [
    "data[data['Power'] == 0]"
   ]
  },
  {
   "cell_type": "markdown",
   "metadata": {},
   "source": [
    "К сожалению, не разбираюсь в автомобилях, но гугл говорит, что мощность автомобилей точно не может быть равна нулю и обычно не меньшая, чем 10 л.с."
   ]
  },
  {
   "cell_type": "code",
   "execution_count": 31,
   "metadata": {},
   "outputs": [
    {
     "data": {
      "text/plain": [
       "20608"
      ]
     },
     "execution_count": 31,
     "metadata": {},
     "output_type": "execute_result"
    }
   ],
   "source": [
    "data[data['Power'] < 15].shape[0]"
   ]
  },
  {
   "cell_type": "code",
   "execution_count": 32,
   "metadata": {},
   "outputs": [
    {
     "data": {
      "text/plain": [
       "233704"
      ]
     },
     "execution_count": 32,
     "metadata": {},
     "output_type": "execute_result"
    }
   ],
   "source": [
    "data = data[data['Power'] > 10]\n",
    "data.shape[0]"
   ]
  },
  {
   "cell_type": "code",
   "execution_count": 33,
   "metadata": {},
   "outputs": [
    {
     "data": {
      "text/plain": [
       "233485"
      ]
     },
     "execution_count": 33,
     "metadata": {},
     "output_type": "execute_result"
    }
   ],
   "source": [
    "# Удалю так же мощности больше 1000 л.с.\n",
    "data = data[data['Power'] < 1000]\n",
    "data.shape[0]"
   ]
  },
  {
   "cell_type": "markdown",
   "metadata": {},
   "source": [
    "----\n",
    "\n",
    "**Промежуточный вывод:**  \n",
    "Данные были просмотрены и проанализированы, устранены пропуски и аномалии. В ходе этой работы пришлось удалить некоторые записи (осталось 233485/354369)\n",
    "\n",
    "----"
   ]
  },
  {
   "cell_type": "markdown",
   "metadata": {},
   "source": [
    "## Обучение моделей\n",
    "\n",
    " - Обучу простые модели (LinearRegression, RandomForest)\n",
    " - Обучу более сложные (LightGBM, Catboost)\n",
    " - Проведу сравнительные анализ по критериям заказчика (качество предсказания, скорость предсказания, время обучения).\n",
    " \n",
    "Метрикой качества будет **RMSE** по условию."
   ]
  },
  {
   "cell_type": "code",
   "execution_count": 34,
   "metadata": {},
   "outputs": [],
   "source": [
    "features = data.drop(['Price'], axis = 1)\n",
    "target = data['Price']"
   ]
  },
  {
   "cell_type": "markdown",
   "metadata": {},
   "source": [
    "Проведу обработку признаков:"
   ]
  },
  {
   "cell_type": "code",
   "execution_count": 35,
   "metadata": {},
   "outputs": [
    {
     "data": {
      "text/plain": [
       "array([125000, 150000,  90000,  30000,  70000, 100000,  60000,   5000,\n",
       "        20000,  80000,  50000,  40000,  10000])"
      ]
     },
     "execution_count": 35,
     "metadata": {},
     "output_type": "execute_result"
    }
   ],
   "source": [
    "data['Kilometer'].unique()"
   ]
  },
  {
   "cell_type": "code",
   "execution_count": 36,
   "metadata": {},
   "outputs": [],
   "source": [
    "cat_features = ['VehicleType', 'Gearbox', 'Brand', 'Model', 'FuelType', 'RegistrationYear', 'Repaired', 'Kilometer']\n",
    "num_features = ['Power']"
   ]
  },
  {
   "cell_type": "code",
   "execution_count": 37,
   "metadata": {},
   "outputs": [],
   "source": [
    "features_train, features_test, target_train, target_test = train_test_split(\n",
    "        features, target, test_size=0.25, random_state=RANDOM_STATE)"
   ]
  },
  {
   "cell_type": "code",
   "execution_count": 38,
   "metadata": {},
   "outputs": [],
   "source": [
    "# Закодирую категориальные данные:\n",
    "features_train_od = features_train.copy()\n",
    "features_test_od = features_test.copy()"
   ]
  },
  {
   "cell_type": "code",
   "execution_count": 39,
   "metadata": {},
   "outputs": [],
   "source": [
    "enc = OrdinalEncoder()"
   ]
  },
  {
   "cell_type": "code",
   "execution_count": 40,
   "metadata": {},
   "outputs": [
    {
     "data": {
      "text/plain": [
       "OrdinalEncoder()"
      ]
     },
     "execution_count": 40,
     "metadata": {},
     "output_type": "execute_result"
    }
   ],
   "source": [
    "enc.fit(features_train[cat_features])"
   ]
  },
  {
   "cell_type": "code",
   "execution_count": 41,
   "metadata": {},
   "outputs": [
    {
     "data": {
      "text/html": [
       "<div>\n",
       "<style scoped>\n",
       "    .dataframe tbody tr th:only-of-type {\n",
       "        vertical-align: middle;\n",
       "    }\n",
       "\n",
       "    .dataframe tbody tr th {\n",
       "        vertical-align: top;\n",
       "    }\n",
       "\n",
       "    .dataframe thead th {\n",
       "        text-align: right;\n",
       "    }\n",
       "</style>\n",
       "<table border=\"1\" class=\"dataframe\">\n",
       "  <thead>\n",
       "    <tr style=\"text-align: right;\">\n",
       "      <th></th>\n",
       "      <th>VehicleType</th>\n",
       "      <th>RegistrationYear</th>\n",
       "      <th>Gearbox</th>\n",
       "      <th>Power</th>\n",
       "      <th>Model</th>\n",
       "      <th>Kilometer</th>\n",
       "      <th>FuelType</th>\n",
       "      <th>Brand</th>\n",
       "      <th>Repaired</th>\n",
       "    </tr>\n",
       "  </thead>\n",
       "  <tbody>\n",
       "    <tr>\n",
       "      <th>321872</th>\n",
       "      <td>8.0</td>\n",
       "      <td>53.0</td>\n",
       "      <td>1.0</td>\n",
       "      <td>177</td>\n",
       "      <td>205.0</td>\n",
       "      <td>12.0</td>\n",
       "      <td>2.0</td>\n",
       "      <td>24.0</td>\n",
       "      <td>0.0</td>\n",
       "    </tr>\n",
       "    <tr>\n",
       "      <th>188377</th>\n",
       "      <td>2.0</td>\n",
       "      <td>32.0</td>\n",
       "      <td>1.0</td>\n",
       "      <td>136</td>\n",
       "      <td>167.0</td>\n",
       "      <td>12.0</td>\n",
       "      <td>7.0</td>\n",
       "      <td>20.0</td>\n",
       "      <td>1.0</td>\n",
       "    </tr>\n",
       "    <tr>\n",
       "      <th>47021</th>\n",
       "      <td>7.0</td>\n",
       "      <td>40.0</td>\n",
       "      <td>1.0</td>\n",
       "      <td>82</td>\n",
       "      <td>167.0</td>\n",
       "      <td>12.0</td>\n",
       "      <td>7.0</td>\n",
       "      <td>35.0</td>\n",
       "      <td>0.0</td>\n",
       "    </tr>\n",
       "    <tr>\n",
       "      <th>172714</th>\n",
       "      <td>1.0</td>\n",
       "      <td>43.0</td>\n",
       "      <td>1.0</td>\n",
       "      <td>75</td>\n",
       "      <td>116.0</td>\n",
       "      <td>12.0</td>\n",
       "      <td>7.0</td>\n",
       "      <td>38.0</td>\n",
       "      <td>0.0</td>\n",
       "    </tr>\n",
       "    <tr>\n",
       "      <th>101914</th>\n",
       "      <td>5.0</td>\n",
       "      <td>48.0</td>\n",
       "      <td>0.0</td>\n",
       "      <td>116</td>\n",
       "      <td>234.0</td>\n",
       "      <td>12.0</td>\n",
       "      <td>7.0</td>\n",
       "      <td>24.0</td>\n",
       "      <td>0.0</td>\n",
       "    </tr>\n",
       "  </tbody>\n",
       "</table>\n",
       "</div>"
      ],
      "text/plain": [
       "        VehicleType  RegistrationYear  Gearbox  Power  Model  Kilometer  \\\n",
       "321872          8.0              53.0      1.0    177  205.0       12.0   \n",
       "188377          2.0              32.0      1.0    136  167.0       12.0   \n",
       "47021           7.0              40.0      1.0     82  167.0       12.0   \n",
       "172714          1.0              43.0      1.0     75  116.0       12.0   \n",
       "101914          5.0              48.0      0.0    116  234.0       12.0   \n",
       "\n",
       "        FuelType  Brand  Repaired  \n",
       "321872       2.0   24.0       0.0  \n",
       "188377       7.0   20.0       1.0  \n",
       "47021        7.0   35.0       0.0  \n",
       "172714       7.0   38.0       0.0  \n",
       "101914       7.0   24.0       0.0  "
      ]
     },
     "execution_count": 41,
     "metadata": {},
     "output_type": "execute_result"
    }
   ],
   "source": [
    "features_train_od[cat_features] = enc.transform(features_train_od[cat_features])\n",
    "features_train_od.head()"
   ]
  },
  {
   "cell_type": "code",
   "execution_count": 42,
   "metadata": {},
   "outputs": [
    {
     "data": {
      "text/html": [
       "<div>\n",
       "<style scoped>\n",
       "    .dataframe tbody tr th:only-of-type {\n",
       "        vertical-align: middle;\n",
       "    }\n",
       "\n",
       "    .dataframe tbody tr th {\n",
       "        vertical-align: top;\n",
       "    }\n",
       "\n",
       "    .dataframe thead th {\n",
       "        text-align: right;\n",
       "    }\n",
       "</style>\n",
       "<table border=\"1\" class=\"dataframe\">\n",
       "  <thead>\n",
       "    <tr style=\"text-align: right;\">\n",
       "      <th></th>\n",
       "      <th>VehicleType</th>\n",
       "      <th>RegistrationYear</th>\n",
       "      <th>Gearbox</th>\n",
       "      <th>Power</th>\n",
       "      <th>Model</th>\n",
       "      <th>Kilometer</th>\n",
       "      <th>FuelType</th>\n",
       "      <th>Brand</th>\n",
       "      <th>Repaired</th>\n",
       "    </tr>\n",
       "  </thead>\n",
       "  <tbody>\n",
       "    <tr>\n",
       "      <th>200099</th>\n",
       "      <td>5.0</td>\n",
       "      <td>46.0</td>\n",
       "      <td>1.0</td>\n",
       "      <td>125</td>\n",
       "      <td>28.0</td>\n",
       "      <td>12.0</td>\n",
       "      <td>7.0</td>\n",
       "      <td>1.0</td>\n",
       "      <td>0.0</td>\n",
       "    </tr>\n",
       "    <tr>\n",
       "      <th>55208</th>\n",
       "      <td>5.0</td>\n",
       "      <td>49.0</td>\n",
       "      <td>1.0</td>\n",
       "      <td>133</td>\n",
       "      <td>167.0</td>\n",
       "      <td>12.0</td>\n",
       "      <td>7.0</td>\n",
       "      <td>4.0</td>\n",
       "      <td>0.0</td>\n",
       "    </tr>\n",
       "    <tr>\n",
       "      <th>162541</th>\n",
       "      <td>6.0</td>\n",
       "      <td>50.0</td>\n",
       "      <td>1.0</td>\n",
       "      <td>82</td>\n",
       "      <td>33.0</td>\n",
       "      <td>11.0</td>\n",
       "      <td>7.0</td>\n",
       "      <td>20.0</td>\n",
       "      <td>0.0</td>\n",
       "    </tr>\n",
       "    <tr>\n",
       "      <th>301173</th>\n",
       "      <td>5.0</td>\n",
       "      <td>47.0</td>\n",
       "      <td>1.0</td>\n",
       "      <td>125</td>\n",
       "      <td>171.0</td>\n",
       "      <td>12.0</td>\n",
       "      <td>5.0</td>\n",
       "      <td>38.0</td>\n",
       "      <td>1.0</td>\n",
       "    </tr>\n",
       "    <tr>\n",
       "      <th>137560</th>\n",
       "      <td>6.0</td>\n",
       "      <td>51.0</td>\n",
       "      <td>1.0</td>\n",
       "      <td>80</td>\n",
       "      <td>214.0</td>\n",
       "      <td>11.0</td>\n",
       "      <td>7.0</td>\n",
       "      <td>9.0</td>\n",
       "      <td>2.0</td>\n",
       "    </tr>\n",
       "  </tbody>\n",
       "</table>\n",
       "</div>"
      ],
      "text/plain": [
       "        VehicleType  RegistrationYear  Gearbox  Power  Model  Kilometer  \\\n",
       "200099          5.0              46.0      1.0    125   28.0       12.0   \n",
       "55208           5.0              49.0      1.0    133  167.0       12.0   \n",
       "162541          6.0              50.0      1.0     82   33.0       11.0   \n",
       "301173          5.0              47.0      1.0    125  171.0       12.0   \n",
       "137560          6.0              51.0      1.0     80  214.0       11.0   \n",
       "\n",
       "        FuelType  Brand  Repaired  \n",
       "200099       7.0    1.0       0.0  \n",
       "55208        7.0    4.0       0.0  \n",
       "162541       7.0   20.0       0.0  \n",
       "301173       5.0   38.0       1.0  \n",
       "137560       7.0    9.0       2.0  "
      ]
     },
     "execution_count": 42,
     "metadata": {},
     "output_type": "execute_result"
    }
   ],
   "source": [
    "features_test_od[cat_features] = enc.transform(features_test_od[cat_features])\n",
    "features_test_od.head()"
   ]
  },
  {
   "cell_type": "code",
   "execution_count": 43,
   "metadata": {},
   "outputs": [
    {
     "data": {
      "text/html": [
       "<div>\n",
       "<style scoped>\n",
       "    .dataframe tbody tr th:only-of-type {\n",
       "        vertical-align: middle;\n",
       "    }\n",
       "\n",
       "    .dataframe tbody tr th {\n",
       "        vertical-align: top;\n",
       "    }\n",
       "\n",
       "    .dataframe thead th {\n",
       "        text-align: right;\n",
       "    }\n",
       "</style>\n",
       "<table border=\"1\" class=\"dataframe\">\n",
       "  <thead>\n",
       "    <tr style=\"text-align: right;\">\n",
       "      <th></th>\n",
       "      <th>VehicleType</th>\n",
       "      <th>RegistrationYear</th>\n",
       "      <th>Gearbox</th>\n",
       "      <th>Power</th>\n",
       "      <th>Model</th>\n",
       "      <th>Kilometer</th>\n",
       "      <th>FuelType</th>\n",
       "      <th>Brand</th>\n",
       "      <th>Repaired</th>\n",
       "    </tr>\n",
       "  </thead>\n",
       "  <tbody>\n",
       "    <tr>\n",
       "      <th>321872</th>\n",
       "      <td>8.0</td>\n",
       "      <td>53.0</td>\n",
       "      <td>1.0</td>\n",
       "      <td>0.939918</td>\n",
       "      <td>205.0</td>\n",
       "      <td>12.0</td>\n",
       "      <td>2.0</td>\n",
       "      <td>24.0</td>\n",
       "      <td>0.0</td>\n",
       "    </tr>\n",
       "    <tr>\n",
       "      <th>188377</th>\n",
       "      <td>2.0</td>\n",
       "      <td>32.0</td>\n",
       "      <td>1.0</td>\n",
       "      <td>0.197486</td>\n",
       "      <td>167.0</td>\n",
       "      <td>12.0</td>\n",
       "      <td>7.0</td>\n",
       "      <td>20.0</td>\n",
       "      <td>1.0</td>\n",
       "    </tr>\n",
       "    <tr>\n",
       "      <th>47021</th>\n",
       "      <td>7.0</td>\n",
       "      <td>40.0</td>\n",
       "      <td>1.0</td>\n",
       "      <td>-0.780351</td>\n",
       "      <td>167.0</td>\n",
       "      <td>12.0</td>\n",
       "      <td>7.0</td>\n",
       "      <td>35.0</td>\n",
       "      <td>0.0</td>\n",
       "    </tr>\n",
       "    <tr>\n",
       "      <th>172714</th>\n",
       "      <td>1.0</td>\n",
       "      <td>43.0</td>\n",
       "      <td>1.0</td>\n",
       "      <td>-0.907108</td>\n",
       "      <td>116.0</td>\n",
       "      <td>12.0</td>\n",
       "      <td>7.0</td>\n",
       "      <td>38.0</td>\n",
       "      <td>0.0</td>\n",
       "    </tr>\n",
       "    <tr>\n",
       "      <th>101914</th>\n",
       "      <td>5.0</td>\n",
       "      <td>48.0</td>\n",
       "      <td>0.0</td>\n",
       "      <td>-0.164676</td>\n",
       "      <td>234.0</td>\n",
       "      <td>12.0</td>\n",
       "      <td>7.0</td>\n",
       "      <td>24.0</td>\n",
       "      <td>0.0</td>\n",
       "    </tr>\n",
       "  </tbody>\n",
       "</table>\n",
       "</div>"
      ],
      "text/plain": [
       "        VehicleType  RegistrationYear  Gearbox     Power  Model  Kilometer  \\\n",
       "321872          8.0              53.0      1.0  0.939918  205.0       12.0   \n",
       "188377          2.0              32.0      1.0  0.197486  167.0       12.0   \n",
       "47021           7.0              40.0      1.0 -0.780351  167.0       12.0   \n",
       "172714          1.0              43.0      1.0 -0.907108  116.0       12.0   \n",
       "101914          5.0              48.0      0.0 -0.164676  234.0       12.0   \n",
       "\n",
       "        FuelType  Brand  Repaired  \n",
       "321872       2.0   24.0       0.0  \n",
       "188377       7.0   20.0       1.0  \n",
       "47021        7.0   35.0       0.0  \n",
       "172714       7.0   38.0       0.0  \n",
       "101914       7.0   24.0       0.0  "
      ]
     },
     "metadata": {},
     "output_type": "display_data"
    },
    {
     "data": {
      "text/html": [
       "<div>\n",
       "<style scoped>\n",
       "    .dataframe tbody tr th:only-of-type {\n",
       "        vertical-align: middle;\n",
       "    }\n",
       "\n",
       "    .dataframe tbody tr th {\n",
       "        vertical-align: top;\n",
       "    }\n",
       "\n",
       "    .dataframe thead th {\n",
       "        text-align: right;\n",
       "    }\n",
       "</style>\n",
       "<table border=\"1\" class=\"dataframe\">\n",
       "  <thead>\n",
       "    <tr style=\"text-align: right;\">\n",
       "      <th></th>\n",
       "      <th>VehicleType</th>\n",
       "      <th>RegistrationYear</th>\n",
       "      <th>Gearbox</th>\n",
       "      <th>Power</th>\n",
       "      <th>Model</th>\n",
       "      <th>Kilometer</th>\n",
       "      <th>FuelType</th>\n",
       "      <th>Brand</th>\n",
       "      <th>Repaired</th>\n",
       "    </tr>\n",
       "  </thead>\n",
       "  <tbody>\n",
       "    <tr>\n",
       "      <th>200099</th>\n",
       "      <td>5.0</td>\n",
       "      <td>46.0</td>\n",
       "      <td>1.0</td>\n",
       "      <td>-0.001703</td>\n",
       "      <td>28.0</td>\n",
       "      <td>12.0</td>\n",
       "      <td>7.0</td>\n",
       "      <td>1.0</td>\n",
       "      <td>0.0</td>\n",
       "    </tr>\n",
       "    <tr>\n",
       "      <th>55208</th>\n",
       "      <td>5.0</td>\n",
       "      <td>49.0</td>\n",
       "      <td>1.0</td>\n",
       "      <td>0.143162</td>\n",
       "      <td>167.0</td>\n",
       "      <td>12.0</td>\n",
       "      <td>7.0</td>\n",
       "      <td>4.0</td>\n",
       "      <td>0.0</td>\n",
       "    </tr>\n",
       "    <tr>\n",
       "      <th>162541</th>\n",
       "      <td>6.0</td>\n",
       "      <td>50.0</td>\n",
       "      <td>1.0</td>\n",
       "      <td>-0.780351</td>\n",
       "      <td>33.0</td>\n",
       "      <td>11.0</td>\n",
       "      <td>7.0</td>\n",
       "      <td>20.0</td>\n",
       "      <td>0.0</td>\n",
       "    </tr>\n",
       "    <tr>\n",
       "      <th>301173</th>\n",
       "      <td>5.0</td>\n",
       "      <td>47.0</td>\n",
       "      <td>1.0</td>\n",
       "      <td>-0.001703</td>\n",
       "      <td>171.0</td>\n",
       "      <td>12.0</td>\n",
       "      <td>5.0</td>\n",
       "      <td>38.0</td>\n",
       "      <td>1.0</td>\n",
       "    </tr>\n",
       "    <tr>\n",
       "      <th>137560</th>\n",
       "      <td>6.0</td>\n",
       "      <td>51.0</td>\n",
       "      <td>1.0</td>\n",
       "      <td>-0.816567</td>\n",
       "      <td>214.0</td>\n",
       "      <td>11.0</td>\n",
       "      <td>7.0</td>\n",
       "      <td>9.0</td>\n",
       "      <td>2.0</td>\n",
       "    </tr>\n",
       "  </tbody>\n",
       "</table>\n",
       "</div>"
      ],
      "text/plain": [
       "        VehicleType  RegistrationYear  Gearbox     Power  Model  Kilometer  \\\n",
       "200099          5.0              46.0      1.0 -0.001703   28.0       12.0   \n",
       "55208           5.0              49.0      1.0  0.143162  167.0       12.0   \n",
       "162541          6.0              50.0      1.0 -0.780351   33.0       11.0   \n",
       "301173          5.0              47.0      1.0 -0.001703  171.0       12.0   \n",
       "137560          6.0              51.0      1.0 -0.816567  214.0       11.0   \n",
       "\n",
       "        FuelType  Brand  Repaired  \n",
       "200099       7.0    1.0       0.0  \n",
       "55208        7.0    4.0       0.0  \n",
       "162541       7.0   20.0       0.0  \n",
       "301173       5.0   38.0       1.0  \n",
       "137560       7.0    9.0       2.0  "
      ]
     },
     "metadata": {},
     "output_type": "display_data"
    }
   ],
   "source": [
    "# И числовые:\n",
    "scaler = StandardScaler()\n",
    "\n",
    "scaler.fit(features_train[num_features])\n",
    "\n",
    "features_train_od[num_features] = scaler.transform(features_train_od[num_features])\n",
    "display(features_train_od.head())\n",
    "\n",
    "features_test_od[num_features] = scaler.transform(features_test_od[num_features])\n",
    "display(features_test_od.head())"
   ]
  },
  {
   "cell_type": "markdown",
   "metadata": {},
   "source": [
    "---"
   ]
  },
  {
   "cell_type": "code",
   "execution_count": 44,
   "metadata": {},
   "outputs": [
    {
     "data": {
      "text/plain": [
       "['__class__',\n",
       " '__delattr__',\n",
       " '__dict__',\n",
       " '__dir__',\n",
       " '__doc__',\n",
       " '__eq__',\n",
       " '__format__',\n",
       " '__ge__',\n",
       " '__getattribute__',\n",
       " '__getstate__',\n",
       " '__gt__',\n",
       " '__hash__',\n",
       " '__init__',\n",
       " '__init_subclass__',\n",
       " '__le__',\n",
       " '__lt__',\n",
       " '__module__',\n",
       " '__ne__',\n",
       " '__new__',\n",
       " '__reduce__',\n",
       " '__reduce_ex__',\n",
       " '__repr__',\n",
       " '__setattr__',\n",
       " '__setstate__',\n",
       " '__sizeof__',\n",
       " '__str__',\n",
       " '__subclasshook__',\n",
       " '__weakref__',\n",
       " '_check_X',\n",
       " '_check_n_features',\n",
       " '_compute_drop_idx',\n",
       " '_fit',\n",
       " '_get_feature',\n",
       " '_get_param_names',\n",
       " '_get_tags',\n",
       " '_more_tags',\n",
       " '_repr_html_',\n",
       " '_repr_html_inner',\n",
       " '_repr_mimebundle_',\n",
       " '_transform',\n",
       " '_validate_data',\n",
       " '_validate_keywords',\n",
       " 'fit',\n",
       " 'fit_transform',\n",
       " 'get_feature_names',\n",
       " 'get_params',\n",
       " 'inverse_transform',\n",
       " 'set_params',\n",
       " 'transform']"
      ]
     },
     "execution_count": 44,
     "metadata": {},
     "output_type": "execute_result"
    }
   ],
   "source": [
    "dir(OneHotEncoder)"
   ]
  },
  {
   "cell_type": "code",
   "execution_count": 45,
   "metadata": {},
   "outputs": [
    {
     "name": "stdout",
     "output_type": "stream",
     "text": [
      "Name: scikit-learn\n",
      "Version: 0.24.1\n",
      "Summary: A set of python modules for machine learning and data mining\n",
      "Home-page: http://scikit-learn.org\n",
      "Author: None\n",
      "Author-email: None\n",
      "License: new BSD\n",
      "Location: /opt/conda/lib/python3.9/site-packages\n",
      "Requires: joblib, numpy, scipy, threadpoolctl\n",
      "Required-by: pyod, lightgbm\n",
      "Note: you may need to restart the kernel to use updated packages.\n"
     ]
    }
   ],
   "source": [
    "pip show scikit-learn"
   ]
  },
  {
   "cell_type": "code",
   "execution_count": 46,
   "metadata": {},
   "outputs": [],
   "source": [
    "features_train_lin = features_train.copy()\n",
    "features_test_lin = features_test.copy()"
   ]
  },
  {
   "cell_type": "code",
   "execution_count": 47,
   "metadata": {},
   "outputs": [],
   "source": [
    "OH_encoder = OneHotEncoder(handle_unknown='ignore', drop='first', sparse=False)\n",
    "\n",
    "#OH_encoder.fit(features_train_lin[cat_features])\n",
    "#features_train_lin[OH_encoder.get_feature_names()] = OH_encoder.transform(features_train_lin[cat_features])\n",
    "\n",
    "OH_cols_train = pd.DataFrame(OH_encoder.fit_transform(features_train_lin[cat_features]))\n",
    "OH_cols_test = pd.DataFrame(OH_encoder.transform(features_test_lin[cat_features]))\n",
    "\n",
    "OH_cols_train.index = features_train_lin.index\n",
    "OH_cols_test.index = features_test_lin.index\n",
    "\n",
    "numeric_X_train = features_train_lin.drop(cat_features, axis=1)\n",
    "numeric_X_test = features_test_lin.drop(cat_features, axis=1)\n",
    "\n",
    "features_train_lin = pd.concat([numeric_X_train, OH_cols_train], axis=1)\n",
    "features_test_lin = pd.concat([numeric_X_test, OH_cols_test], axis=1)"
   ]
  },
  {
   "cell_type": "code",
   "execution_count": 48,
   "metadata": {},
   "outputs": [],
   "source": [
    "features_train_lin[num_features] = scaler.transform(features_train_lin[num_features])\n",
    "features_test_lin[num_features] = scaler.transform(features_test_lin[num_features])"
   ]
  },
  {
   "cell_type": "code",
   "execution_count": 49,
   "metadata": {},
   "outputs": [
    {
     "data": {
      "text/html": [
       "<div>\n",
       "<style scoped>\n",
       "    .dataframe tbody tr th:only-of-type {\n",
       "        vertical-align: middle;\n",
       "    }\n",
       "\n",
       "    .dataframe tbody tr th {\n",
       "        vertical-align: top;\n",
       "    }\n",
       "\n",
       "    .dataframe thead th {\n",
       "        text-align: right;\n",
       "    }\n",
       "</style>\n",
       "<table border=\"1\" class=\"dataframe\">\n",
       "  <thead>\n",
       "    <tr style=\"text-align: right;\">\n",
       "      <th></th>\n",
       "      <th>Power</th>\n",
       "      <th>0</th>\n",
       "      <th>1</th>\n",
       "      <th>2</th>\n",
       "      <th>3</th>\n",
       "      <th>4</th>\n",
       "      <th>5</th>\n",
       "      <th>6</th>\n",
       "      <th>7</th>\n",
       "      <th>8</th>\n",
       "      <th>...</th>\n",
       "      <th>381</th>\n",
       "      <th>382</th>\n",
       "      <th>383</th>\n",
       "      <th>384</th>\n",
       "      <th>385</th>\n",
       "      <th>386</th>\n",
       "      <th>387</th>\n",
       "      <th>388</th>\n",
       "      <th>389</th>\n",
       "      <th>390</th>\n",
       "    </tr>\n",
       "  </thead>\n",
       "  <tbody>\n",
       "    <tr>\n",
       "      <th>321872</th>\n",
       "      <td>0.939918</td>\n",
       "      <td>0.0</td>\n",
       "      <td>0.0</td>\n",
       "      <td>0.0</td>\n",
       "      <td>0.0</td>\n",
       "      <td>0.0</td>\n",
       "      <td>0.0</td>\n",
       "      <td>0.0</td>\n",
       "      <td>0.0</td>\n",
       "      <td>1.0</td>\n",
       "      <td>...</td>\n",
       "      <td>0.0</td>\n",
       "      <td>0.0</td>\n",
       "      <td>0.0</td>\n",
       "      <td>0.0</td>\n",
       "      <td>0.0</td>\n",
       "      <td>0.0</td>\n",
       "      <td>0.0</td>\n",
       "      <td>0.0</td>\n",
       "      <td>0.0</td>\n",
       "      <td>1.0</td>\n",
       "    </tr>\n",
       "    <tr>\n",
       "      <th>188377</th>\n",
       "      <td>0.197486</td>\n",
       "      <td>0.0</td>\n",
       "      <td>0.0</td>\n",
       "      <td>1.0</td>\n",
       "      <td>0.0</td>\n",
       "      <td>0.0</td>\n",
       "      <td>0.0</td>\n",
       "      <td>0.0</td>\n",
       "      <td>0.0</td>\n",
       "      <td>0.0</td>\n",
       "      <td>...</td>\n",
       "      <td>0.0</td>\n",
       "      <td>0.0</td>\n",
       "      <td>0.0</td>\n",
       "      <td>0.0</td>\n",
       "      <td>0.0</td>\n",
       "      <td>0.0</td>\n",
       "      <td>0.0</td>\n",
       "      <td>0.0</td>\n",
       "      <td>0.0</td>\n",
       "      <td>1.0</td>\n",
       "    </tr>\n",
       "    <tr>\n",
       "      <th>47021</th>\n",
       "      <td>-0.780351</td>\n",
       "      <td>0.0</td>\n",
       "      <td>0.0</td>\n",
       "      <td>0.0</td>\n",
       "      <td>0.0</td>\n",
       "      <td>0.0</td>\n",
       "      <td>0.0</td>\n",
       "      <td>0.0</td>\n",
       "      <td>1.0</td>\n",
       "      <td>0.0</td>\n",
       "      <td>...</td>\n",
       "      <td>0.0</td>\n",
       "      <td>0.0</td>\n",
       "      <td>0.0</td>\n",
       "      <td>0.0</td>\n",
       "      <td>0.0</td>\n",
       "      <td>0.0</td>\n",
       "      <td>0.0</td>\n",
       "      <td>0.0</td>\n",
       "      <td>0.0</td>\n",
       "      <td>1.0</td>\n",
       "    </tr>\n",
       "    <tr>\n",
       "      <th>172714</th>\n",
       "      <td>-0.907108</td>\n",
       "      <td>0.0</td>\n",
       "      <td>1.0</td>\n",
       "      <td>0.0</td>\n",
       "      <td>0.0</td>\n",
       "      <td>0.0</td>\n",
       "      <td>0.0</td>\n",
       "      <td>0.0</td>\n",
       "      <td>0.0</td>\n",
       "      <td>0.0</td>\n",
       "      <td>...</td>\n",
       "      <td>0.0</td>\n",
       "      <td>0.0</td>\n",
       "      <td>0.0</td>\n",
       "      <td>0.0</td>\n",
       "      <td>0.0</td>\n",
       "      <td>0.0</td>\n",
       "      <td>0.0</td>\n",
       "      <td>0.0</td>\n",
       "      <td>0.0</td>\n",
       "      <td>1.0</td>\n",
       "    </tr>\n",
       "    <tr>\n",
       "      <th>101914</th>\n",
       "      <td>-0.164676</td>\n",
       "      <td>0.0</td>\n",
       "      <td>0.0</td>\n",
       "      <td>0.0</td>\n",
       "      <td>0.0</td>\n",
       "      <td>0.0</td>\n",
       "      <td>1.0</td>\n",
       "      <td>0.0</td>\n",
       "      <td>0.0</td>\n",
       "      <td>0.0</td>\n",
       "      <td>...</td>\n",
       "      <td>0.0</td>\n",
       "      <td>0.0</td>\n",
       "      <td>0.0</td>\n",
       "      <td>0.0</td>\n",
       "      <td>0.0</td>\n",
       "      <td>0.0</td>\n",
       "      <td>0.0</td>\n",
       "      <td>0.0</td>\n",
       "      <td>0.0</td>\n",
       "      <td>1.0</td>\n",
       "    </tr>\n",
       "  </tbody>\n",
       "</table>\n",
       "<p>5 rows × 392 columns</p>\n",
       "</div>"
      ],
      "text/plain": [
       "           Power    0    1    2    3    4    5    6    7    8  ...  381  382  \\\n",
       "321872  0.939918  0.0  0.0  0.0  0.0  0.0  0.0  0.0  0.0  1.0  ...  0.0  0.0   \n",
       "188377  0.197486  0.0  0.0  1.0  0.0  0.0  0.0  0.0  0.0  0.0  ...  0.0  0.0   \n",
       "47021  -0.780351  0.0  0.0  0.0  0.0  0.0  0.0  0.0  1.0  0.0  ...  0.0  0.0   \n",
       "172714 -0.907108  0.0  1.0  0.0  0.0  0.0  0.0  0.0  0.0  0.0  ...  0.0  0.0   \n",
       "101914 -0.164676  0.0  0.0  0.0  0.0  0.0  1.0  0.0  0.0  0.0  ...  0.0  0.0   \n",
       "\n",
       "        383  384  385  386  387  388  389  390  \n",
       "321872  0.0  0.0  0.0  0.0  0.0  0.0  0.0  1.0  \n",
       "188377  0.0  0.0  0.0  0.0  0.0  0.0  0.0  1.0  \n",
       "47021   0.0  0.0  0.0  0.0  0.0  0.0  0.0  1.0  \n",
       "172714  0.0  0.0  0.0  0.0  0.0  0.0  0.0  1.0  \n",
       "101914  0.0  0.0  0.0  0.0  0.0  0.0  0.0  1.0  \n",
       "\n",
       "[5 rows x 392 columns]"
      ]
     },
     "execution_count": 49,
     "metadata": {},
     "output_type": "execute_result"
    }
   ],
   "source": [
    "features_train_lin.head()"
   ]
  },
  {
   "cell_type": "code",
   "execution_count": 50,
   "metadata": {},
   "outputs": [
    {
     "data": {
      "text/html": [
       "<div>\n",
       "<style scoped>\n",
       "    .dataframe tbody tr th:only-of-type {\n",
       "        vertical-align: middle;\n",
       "    }\n",
       "\n",
       "    .dataframe tbody tr th {\n",
       "        vertical-align: top;\n",
       "    }\n",
       "\n",
       "    .dataframe thead th {\n",
       "        text-align: right;\n",
       "    }\n",
       "</style>\n",
       "<table border=\"1\" class=\"dataframe\">\n",
       "  <thead>\n",
       "    <tr style=\"text-align: right;\">\n",
       "      <th></th>\n",
       "      <th>Power</th>\n",
       "      <th>0</th>\n",
       "      <th>1</th>\n",
       "      <th>2</th>\n",
       "      <th>3</th>\n",
       "      <th>4</th>\n",
       "      <th>5</th>\n",
       "      <th>6</th>\n",
       "      <th>7</th>\n",
       "      <th>8</th>\n",
       "      <th>...</th>\n",
       "      <th>381</th>\n",
       "      <th>382</th>\n",
       "      <th>383</th>\n",
       "      <th>384</th>\n",
       "      <th>385</th>\n",
       "      <th>386</th>\n",
       "      <th>387</th>\n",
       "      <th>388</th>\n",
       "      <th>389</th>\n",
       "      <th>390</th>\n",
       "    </tr>\n",
       "  </thead>\n",
       "  <tbody>\n",
       "    <tr>\n",
       "      <th>200099</th>\n",
       "      <td>-0.001703</td>\n",
       "      <td>0.0</td>\n",
       "      <td>0.0</td>\n",
       "      <td>0.0</td>\n",
       "      <td>0.0</td>\n",
       "      <td>0.0</td>\n",
       "      <td>1.0</td>\n",
       "      <td>0.0</td>\n",
       "      <td>0.0</td>\n",
       "      <td>0.0</td>\n",
       "      <td>...</td>\n",
       "      <td>0.0</td>\n",
       "      <td>0.0</td>\n",
       "      <td>0.0</td>\n",
       "      <td>0.0</td>\n",
       "      <td>0.0</td>\n",
       "      <td>0.0</td>\n",
       "      <td>0.0</td>\n",
       "      <td>0.0</td>\n",
       "      <td>0.0</td>\n",
       "      <td>1.0</td>\n",
       "    </tr>\n",
       "    <tr>\n",
       "      <th>55208</th>\n",
       "      <td>0.143162</td>\n",
       "      <td>0.0</td>\n",
       "      <td>0.0</td>\n",
       "      <td>0.0</td>\n",
       "      <td>0.0</td>\n",
       "      <td>0.0</td>\n",
       "      <td>1.0</td>\n",
       "      <td>0.0</td>\n",
       "      <td>0.0</td>\n",
       "      <td>0.0</td>\n",
       "      <td>...</td>\n",
       "      <td>0.0</td>\n",
       "      <td>0.0</td>\n",
       "      <td>0.0</td>\n",
       "      <td>0.0</td>\n",
       "      <td>0.0</td>\n",
       "      <td>0.0</td>\n",
       "      <td>0.0</td>\n",
       "      <td>0.0</td>\n",
       "      <td>0.0</td>\n",
       "      <td>1.0</td>\n",
       "    </tr>\n",
       "    <tr>\n",
       "      <th>162541</th>\n",
       "      <td>-0.780351</td>\n",
       "      <td>0.0</td>\n",
       "      <td>0.0</td>\n",
       "      <td>0.0</td>\n",
       "      <td>0.0</td>\n",
       "      <td>0.0</td>\n",
       "      <td>0.0</td>\n",
       "      <td>1.0</td>\n",
       "      <td>0.0</td>\n",
       "      <td>0.0</td>\n",
       "      <td>...</td>\n",
       "      <td>0.0</td>\n",
       "      <td>0.0</td>\n",
       "      <td>0.0</td>\n",
       "      <td>0.0</td>\n",
       "      <td>0.0</td>\n",
       "      <td>0.0</td>\n",
       "      <td>0.0</td>\n",
       "      <td>0.0</td>\n",
       "      <td>1.0</td>\n",
       "      <td>0.0</td>\n",
       "    </tr>\n",
       "    <tr>\n",
       "      <th>301173</th>\n",
       "      <td>-0.001703</td>\n",
       "      <td>0.0</td>\n",
       "      <td>0.0</td>\n",
       "      <td>0.0</td>\n",
       "      <td>0.0</td>\n",
       "      <td>0.0</td>\n",
       "      <td>1.0</td>\n",
       "      <td>0.0</td>\n",
       "      <td>0.0</td>\n",
       "      <td>0.0</td>\n",
       "      <td>...</td>\n",
       "      <td>0.0</td>\n",
       "      <td>0.0</td>\n",
       "      <td>0.0</td>\n",
       "      <td>0.0</td>\n",
       "      <td>0.0</td>\n",
       "      <td>0.0</td>\n",
       "      <td>0.0</td>\n",
       "      <td>0.0</td>\n",
       "      <td>0.0</td>\n",
       "      <td>1.0</td>\n",
       "    </tr>\n",
       "    <tr>\n",
       "      <th>137560</th>\n",
       "      <td>-0.816567</td>\n",
       "      <td>0.0</td>\n",
       "      <td>0.0</td>\n",
       "      <td>0.0</td>\n",
       "      <td>0.0</td>\n",
       "      <td>0.0</td>\n",
       "      <td>0.0</td>\n",
       "      <td>1.0</td>\n",
       "      <td>0.0</td>\n",
       "      <td>0.0</td>\n",
       "      <td>...</td>\n",
       "      <td>0.0</td>\n",
       "      <td>0.0</td>\n",
       "      <td>0.0</td>\n",
       "      <td>0.0</td>\n",
       "      <td>0.0</td>\n",
       "      <td>0.0</td>\n",
       "      <td>0.0</td>\n",
       "      <td>0.0</td>\n",
       "      <td>1.0</td>\n",
       "      <td>0.0</td>\n",
       "    </tr>\n",
       "  </tbody>\n",
       "</table>\n",
       "<p>5 rows × 392 columns</p>\n",
       "</div>"
      ],
      "text/plain": [
       "           Power    0    1    2    3    4    5    6    7    8  ...  381  382  \\\n",
       "200099 -0.001703  0.0  0.0  0.0  0.0  0.0  1.0  0.0  0.0  0.0  ...  0.0  0.0   \n",
       "55208   0.143162  0.0  0.0  0.0  0.0  0.0  1.0  0.0  0.0  0.0  ...  0.0  0.0   \n",
       "162541 -0.780351  0.0  0.0  0.0  0.0  0.0  0.0  1.0  0.0  0.0  ...  0.0  0.0   \n",
       "301173 -0.001703  0.0  0.0  0.0  0.0  0.0  1.0  0.0  0.0  0.0  ...  0.0  0.0   \n",
       "137560 -0.816567  0.0  0.0  0.0  0.0  0.0  0.0  1.0  0.0  0.0  ...  0.0  0.0   \n",
       "\n",
       "        383  384  385  386  387  388  389  390  \n",
       "200099  0.0  0.0  0.0  0.0  0.0  0.0  0.0  1.0  \n",
       "55208   0.0  0.0  0.0  0.0  0.0  0.0  0.0  1.0  \n",
       "162541  0.0  0.0  0.0  0.0  0.0  0.0  1.0  0.0  \n",
       "301173  0.0  0.0  0.0  0.0  0.0  0.0  0.0  1.0  \n",
       "137560  0.0  0.0  0.0  0.0  0.0  0.0  1.0  0.0  \n",
       "\n",
       "[5 rows x 392 columns]"
      ]
     },
     "execution_count": 50,
     "metadata": {},
     "output_type": "execute_result"
    }
   ],
   "source": [
    "features_test_lin.head()"
   ]
  },
  {
   "cell_type": "markdown",
   "metadata": {},
   "source": [
    "---"
   ]
  },
  {
   "cell_type": "markdown",
   "metadata": {},
   "source": [
    "##### Линейная регрессия:"
   ]
  },
  {
   "cell_type": "code",
   "execution_count": 55,
   "metadata": {},
   "outputs": [],
   "source": [
    "final_result=[]"
   ]
  },
  {
   "cell_type": "code",
   "execution_count": 56,
   "metadata": {},
   "outputs": [],
   "source": [
    "linear_regression=[]"
   ]
  },
  {
   "cell_type": "code",
   "execution_count": 57,
   "metadata": {},
   "outputs": [
    {
     "name": "stdout",
     "output_type": "stream",
     "text": [
      "CPU times: user 15.1 s, sys: 6.33 s, total: 21.5 s\n",
      "Wall time: 21.4 s\n"
     ]
    }
   ],
   "source": [
    "%%time\n",
    "\n",
    "# Время обучения с train\n",
    "start = time()\n",
    "\n",
    "model_linear = LinearRegression()\n",
    "model_linear.fit(features_train_lin, target_train_lin)\n",
    "\n",
    "end = time()\n",
    "\n",
    "linear_regression.append(end-start)"
   ]
  },
  {
   "cell_type": "code",
   "execution_count": 58,
   "metadata": {},
   "outputs": [
    {
     "name": "stdout",
     "output_type": "stream",
     "text": [
      "RMSE:  2051.141219824979\n",
      "CPU times: user 86.5 ms, sys: 111 ms, total: 197 ms\n",
      "Wall time: 198 ms\n"
     ]
    }
   ],
   "source": [
    "%%time\n",
    "\n",
    "#Время предсказания с valid\n",
    "start = time()\n",
    "\n",
    "linear_predictions = model_linear.predict(features_train_lin)\n",
    "\n",
    "end = time()\n",
    "\n",
    "linear_regression.append(end-start)"
   ]
  },
  {
   "cell_type": "code",
   "execution_count": 59,
   "metadata": {},
   "outputs": [
    {
     "data": {
      "text/plain": [
       "2078.4676401139463"
      ]
     },
     "execution_count": 59,
     "metadata": {},
     "output_type": "execute_result"
    }
   ],
   "source": [
    "RMSE = (cross_val_score(model_linear,\n",
    "                        \n",
    "                       features_train_lin,\n",
    "                       target_train_lin,\n",
    "                        \n",
    "                       cv=3,\n",
    "                       scoring='neg_mean_squared_error').mean() * -1) ** 0.5\n",
    "\n",
    "linear_regression.append(RMSE)\n",
    "RMSE"
   ]
  },
  {
   "cell_type": "markdown",
   "metadata": {},
   "source": [
    "---\n"
   ]
  },
  {
   "cell_type": "markdown",
   "metadata": {},
   "source": [
    "##### Cлучайный лес"
   ]
  },
  {
   "cell_type": "code",
   "execution_count": 60,
   "metadata": {},
   "outputs": [],
   "source": [
    "random_forest=[]"
   ]
  },
  {
   "cell_type": "code",
   "execution_count": 61,
   "metadata": {},
   "outputs": [],
   "source": [
    "def rmse(actual, predict):\n",
    "    score = mean_squared_error(actual, predict) ** 0.5\n",
    "    return score\n",
    "\n",
    "rmse_score = make_scorer(rmse, greater_is_better = False)"
   ]
  },
  {
   "cell_type": "code",
   "execution_count": 62,
   "metadata": {},
   "outputs": [
    {
     "data": {
      "text/plain": [
       "{'max_depth': 7, 'n_estimators': 10}"
      ]
     },
     "metadata": {},
     "output_type": "display_data"
    },
    {
     "data": {
      "text/plain": [
       "2124.972805634027"
      ]
     },
     "metadata": {},
     "output_type": "display_data"
    },
    {
     "name": "stdout",
     "output_type": "stream",
     "text": [
      "CPU times: user 9.89 s, sys: 110 ms, total: 10 s\n",
      "Wall time: 10.6 s\n"
     ]
    }
   ],
   "source": [
    "%%time\n",
    "\n",
    "parameters = {'n_estimators': range(5,11,5),\n",
    "              'max_depth': range(1,8,3)}\n",
    "\n",
    "model_forest = RandomForestRegressor()\n",
    "grid = GridSearchCV(model_forest, parameters, cv=3, scoring=rmse_score)\n",
    "grid.fit(features_train_od, target_train)\n",
    "\n",
    "# Это RMSE c кроссвалидации\n",
    "display(grid.best_params_,\n",
    "        -1*grid.best_score_)"
   ]
  },
  {
   "cell_type": "code",
   "execution_count": 63,
   "metadata": {},
   "outputs": [
    {
     "name": "stdout",
     "output_type": "stream",
     "text": [
      "CPU times: user 1.52 s, sys: 14.4 ms, total: 1.54 s\n",
      "Wall time: 1.55 s\n"
     ]
    }
   ],
   "source": [
    "%%time\n",
    "\n",
    "model_forest = RandomForestRegressor(max_depth=7, n_estimators=10, random_state=RANDOM_STATE)\n",
    "\n",
    "# Обчение на выборке\n",
    "start = time()\n",
    "\n",
    "model_forest.fit(features_train_od, target_train)\n",
    "\n",
    "end = time()\n",
    "\n",
    "random_forest.append(end-start)"
   ]
  },
  {
   "cell_type": "code",
   "execution_count": 64,
   "metadata": {},
   "outputs": [
    {
     "name": "stdout",
     "output_type": "stream",
     "text": [
      "CPU times: user 93.9 ms, sys: 1.18 ms, total: 95 ms\n",
      "Wall time: 101 ms\n"
     ]
    }
   ],
   "source": [
    "%%time\n",
    "\n",
    "#Предсказание на выборке\n",
    "start = time()\n",
    "\n",
    "forest_predictions = model_forest.predict(features_train_od)\n",
    "\n",
    "end = time()\n",
    "\n",
    "random_forest.append(end-start)"
   ]
  },
  {
   "cell_type": "code",
   "execution_count": 65,
   "metadata": {},
   "outputs": [],
   "source": [
    "random_forest.append(-1*grid.best_score_)"
   ]
  },
  {
   "cell_type": "markdown",
   "metadata": {},
   "source": [
    "##### LightGBM"
   ]
  },
  {
   "cell_type": "code",
   "execution_count": 66,
   "metadata": {},
   "outputs": [],
   "source": [
    "lgbm_list = []"
   ]
  },
  {
   "cell_type": "code",
   "execution_count": 67,
   "metadata": {
    "collapsed": true,
    "jupyter": {
     "outputs_hidden": true
    }
   },
   "outputs": [
    {
     "name": "stdout",
     "output_type": "stream",
     "text": [
      "[LightGBM] [Warning] Auto-choosing row-wise multi-threading, the overhead of testing was 0.003882 seconds.\n",
      "You can set `force_row_wise=true` to remove the overhead.\n",
      "And if memory is not enough, you can set `force_col_wise=true`.\n",
      "[LightGBM] [Warning] Auto-choosing row-wise multi-threading, the overhead of testing was 0.195373 seconds.\n",
      "You can set `force_row_wise=true` to remove the overhead.\n",
      "And if memory is not enough, you can set `force_col_wise=true`.\n",
      "[LightGBM] [Warning] Auto-choosing row-wise multi-threading, the overhead of testing was 0.003454 seconds.\n",
      "You can set `force_row_wise=true` to remove the overhead.\n",
      "And if memory is not enough, you can set `force_col_wise=true`.\n",
      "[LightGBM] [Warning] Auto-choosing row-wise multi-threading, the overhead of testing was 0.206635 seconds.\n",
      "You can set `force_row_wise=true` to remove the overhead.\n",
      "And if memory is not enough, you can set `force_col_wise=true`.\n",
      "[LightGBM] [Warning] Auto-choosing row-wise multi-threading, the overhead of testing was 0.003563 seconds.\n",
      "You can set `force_row_wise=true` to remove the overhead.\n",
      "And if memory is not enough, you can set `force_col_wise=true`.\n",
      "[LightGBM] [Warning] Auto-choosing row-wise multi-threading, the overhead of testing was 0.010022 seconds.\n",
      "You can set `force_row_wise=true` to remove the overhead.\n",
      "And if memory is not enough, you can set `force_col_wise=true`.\n",
      "[LightGBM] [Warning] Auto-choosing row-wise multi-threading, the overhead of testing was 0.003368 seconds.\n",
      "You can set `force_row_wise=true` to remove the overhead.\n",
      "And if memory is not enough, you can set `force_col_wise=true`.\n",
      "[LightGBM] [Warning] Auto-choosing row-wise multi-threading, the overhead of testing was 0.003282 seconds.\n",
      "You can set `force_row_wise=true` to remove the overhead.\n",
      "And if memory is not enough, you can set `force_col_wise=true`.\n",
      "[LightGBM] [Warning] Auto-choosing row-wise multi-threading, the overhead of testing was 0.003000 seconds.\n",
      "You can set `force_row_wise=true` to remove the overhead.\n",
      "And if memory is not enough, you can set `force_col_wise=true`.\n",
      "[LightGBM] [Warning] Auto-choosing row-wise multi-threading, the overhead of testing was 0.003031 seconds.\n",
      "You can set `force_row_wise=true` to remove the overhead.\n",
      "And if memory is not enough, you can set `force_col_wise=true`.\n",
      "[LightGBM] [Warning] Auto-choosing col-wise multi-threading, the overhead of testing was 0.097444 seconds.\n",
      "You can set `force_col_wise=true` to remove the overhead.\n",
      "[LightGBM] [Warning] Auto-choosing row-wise multi-threading, the overhead of testing was 0.003477 seconds.\n",
      "You can set `force_row_wise=true` to remove the overhead.\n",
      "And if memory is not enough, you can set `force_col_wise=true`.\n",
      "[LightGBM] [Warning] Auto-choosing row-wise multi-threading, the overhead of testing was 0.003089 seconds.\n",
      "You can set `force_row_wise=true` to remove the overhead.\n",
      "And if memory is not enough, you can set `force_col_wise=true`.\n",
      "[LightGBM] [Warning] Auto-choosing row-wise multi-threading, the overhead of testing was 0.182717 seconds.\n",
      "You can set `force_row_wise=true` to remove the overhead.\n",
      "And if memory is not enough, you can set `force_col_wise=true`.\n",
      "[LightGBM] [Warning] Auto-choosing row-wise multi-threading, the overhead of testing was 0.095664 seconds.\n",
      "You can set `force_row_wise=true` to remove the overhead.\n",
      "And if memory is not enough, you can set `force_col_wise=true`.\n",
      "[LightGBM] [Warning] Auto-choosing row-wise multi-threading, the overhead of testing was 0.104064 seconds.\n",
      "You can set `force_row_wise=true` to remove the overhead.\n",
      "And if memory is not enough, you can set `force_col_wise=true`.\n",
      "[LightGBM] [Warning] Auto-choosing row-wise multi-threading, the overhead of testing was 0.003667 seconds.\n",
      "You can set `force_row_wise=true` to remove the overhead.\n",
      "And if memory is not enough, you can set `force_col_wise=true`.\n",
      "[LightGBM] [Warning] Auto-choosing row-wise multi-threading, the overhead of testing was 0.090621 seconds.\n",
      "You can set `force_row_wise=true` to remove the overhead.\n",
      "And if memory is not enough, you can set `force_col_wise=true`.\n",
      "[LightGBM] [Warning] Auto-choosing row-wise multi-threading, the overhead of testing was 0.190189 seconds.\n",
      "You can set `force_row_wise=true` to remove the overhead.\n",
      "And if memory is not enough, you can set `force_col_wise=true`.\n",
      "[LightGBM] [Warning] Auto-choosing row-wise multi-threading, the overhead of testing was 0.089604 seconds.\n",
      "You can set `force_row_wise=true` to remove the overhead.\n",
      "And if memory is not enough, you can set `force_col_wise=true`.\n",
      "[LightGBM] [Warning] Auto-choosing row-wise multi-threading, the overhead of testing was 0.287295 seconds.\n",
      "You can set `force_row_wise=true` to remove the overhead.\n",
      "And if memory is not enough, you can set `force_col_wise=true`.\n",
      "[LightGBM] [Warning] Auto-choosing row-wise multi-threading, the overhead of testing was 0.010595 seconds.\n",
      "You can set `force_row_wise=true` to remove the overhead.\n",
      "And if memory is not enough, you can set `force_col_wise=true`.\n",
      "[LightGBM] [Warning] Auto-choosing row-wise multi-threading, the overhead of testing was 0.003177 seconds.\n",
      "You can set `force_row_wise=true` to remove the overhead.\n",
      "And if memory is not enough, you can set `force_col_wise=true`.\n",
      "[LightGBM] [Warning] Auto-choosing row-wise multi-threading, the overhead of testing was 0.003295 seconds.\n",
      "You can set `force_row_wise=true` to remove the overhead.\n",
      "And if memory is not enough, you can set `force_col_wise=true`.\n",
      "[LightGBM] [Warning] Auto-choosing row-wise multi-threading, the overhead of testing was 0.003991 seconds.\n",
      "You can set `force_row_wise=true` to remove the overhead.\n",
      "And if memory is not enough, you can set `force_col_wise=true`.\n",
      "[LightGBM] [Warning] Auto-choosing col-wise multi-threading, the overhead of testing was 0.005827 seconds.\n",
      "You can set `force_col_wise=true` to remove the overhead.\n",
      "[LightGBM] [Warning] Auto-choosing row-wise multi-threading, the overhead of testing was 0.091322 seconds.\n",
      "You can set `force_row_wise=true` to remove the overhead.\n",
      "And if memory is not enough, you can set `force_col_wise=true`.\n",
      "[LightGBM] [Warning] Auto-choosing row-wise multi-threading, the overhead of testing was 0.003683 seconds.\n",
      "You can set `force_row_wise=true` to remove the overhead.\n",
      "And if memory is not enough, you can set `force_col_wise=true`.\n",
      "[LightGBM] [Warning] Auto-choosing row-wise multi-threading, the overhead of testing was 0.003274 seconds.\n",
      "You can set `force_row_wise=true` to remove the overhead.\n",
      "And if memory is not enough, you can set `force_col_wise=true`.\n",
      "[LightGBM] [Warning] Auto-choosing row-wise multi-threading, the overhead of testing was 0.010775 seconds.\n",
      "You can set `force_row_wise=true` to remove the overhead.\n",
      "And if memory is not enough, you can set `force_col_wise=true`.\n",
      "[LightGBM] [Warning] Auto-choosing row-wise multi-threading, the overhead of testing was 0.102793 seconds.\n",
      "You can set `force_row_wise=true` to remove the overhead.\n",
      "And if memory is not enough, you can set `force_col_wise=true`.\n",
      "[LightGBM] [Warning] Auto-choosing row-wise multi-threading, the overhead of testing was 0.088974 seconds.\n",
      "You can set `force_row_wise=true` to remove the overhead.\n",
      "And if memory is not enough, you can set `force_col_wise=true`.\n",
      "[LightGBM] [Warning] Auto-choosing row-wise multi-threading, the overhead of testing was 0.003266 seconds.\n",
      "You can set `force_row_wise=true` to remove the overhead.\n",
      "And if memory is not enough, you can set `force_col_wise=true`.\n",
      "[LightGBM] [Warning] Auto-choosing row-wise multi-threading, the overhead of testing was 0.003357 seconds.\n",
      "You can set `force_row_wise=true` to remove the overhead.\n",
      "And if memory is not enough, you can set `force_col_wise=true`.\n",
      "[LightGBM] [Warning] Auto-choosing row-wise multi-threading, the overhead of testing was 0.003851 seconds.\n",
      "You can set `force_row_wise=true` to remove the overhead.\n",
      "And if memory is not enough, you can set `force_col_wise=true`.\n",
      "[LightGBM] [Warning] Auto-choosing row-wise multi-threading, the overhead of testing was 0.291301 seconds.\n",
      "You can set `force_row_wise=true` to remove the overhead.\n",
      "And if memory is not enough, you can set `force_col_wise=true`.\n",
      "[LightGBM] [Warning] Auto-choosing row-wise multi-threading, the overhead of testing was 0.090625 seconds.\n",
      "You can set `force_row_wise=true` to remove the overhead.\n",
      "And if memory is not enough, you can set `force_col_wise=true`.\n",
      "[LightGBM] [Warning] Auto-choosing row-wise multi-threading, the overhead of testing was 0.089793 seconds.\n",
      "You can set `force_row_wise=true` to remove the overhead.\n",
      "And if memory is not enough, you can set `force_col_wise=true`.\n",
      "[LightGBM] [Warning] Auto-choosing row-wise multi-threading, the overhead of testing was 0.003288 seconds.\n",
      "You can set `force_row_wise=true` to remove the overhead.\n",
      "And if memory is not enough, you can set `force_col_wise=true`.\n",
      "[LightGBM] [Warning] Auto-choosing col-wise multi-threading, the overhead of testing was 0.011311 seconds.\n",
      "You can set `force_col_wise=true` to remove the overhead.\n",
      "[LightGBM] [Warning] Auto-choosing row-wise multi-threading, the overhead of testing was 0.100791 seconds.\n",
      "You can set `force_row_wise=true` to remove the overhead.\n",
      "And if memory is not enough, you can set `force_col_wise=true`.\n",
      "[LightGBM] [Warning] Auto-choosing row-wise multi-threading, the overhead of testing was 0.094178 seconds.\n",
      "You can set `force_row_wise=true` to remove the overhead.\n",
      "And if memory is not enough, you can set `force_col_wise=true`.\n",
      "[LightGBM] [Warning] Auto-choosing row-wise multi-threading, the overhead of testing was 0.003055 seconds.\n",
      "You can set `force_row_wise=true` to remove the overhead.\n",
      "And if memory is not enough, you can set `force_col_wise=true`.\n",
      "[LightGBM] [Warning] Auto-choosing row-wise multi-threading, the overhead of testing was 0.092942 seconds.\n",
      "You can set `force_row_wise=true` to remove the overhead.\n",
      "And if memory is not enough, you can set `force_col_wise=true`.\n",
      "[LightGBM] [Warning] Auto-choosing row-wise multi-threading, the overhead of testing was 0.089896 seconds.\n",
      "You can set `force_row_wise=true` to remove the overhead.\n",
      "And if memory is not enough, you can set `force_col_wise=true`.\n",
      "[LightGBM] [Warning] Auto-choosing row-wise multi-threading, the overhead of testing was 0.190616 seconds.\n",
      "You can set `force_row_wise=true` to remove the overhead.\n",
      "And if memory is not enough, you can set `force_col_wise=true`.\n"
     ]
    },
    {
     "data": {
      "text/plain": [
       "{'learning_rate': 0.1778279410038923, 'n_estimators': 60}"
      ]
     },
     "metadata": {},
     "output_type": "display_data"
    },
    {
     "data": {
      "text/plain": [
       "1697.1289713734798"
      ]
     },
     "metadata": {},
     "output_type": "display_data"
    },
    {
     "name": "stdout",
     "output_type": "stream",
     "text": [
      "CPU times: user 1min 36s, sys: 0 ns, total: 1min 36s\n",
      "Wall time: 1min 37s\n"
     ]
    }
   ],
   "source": [
    "%%time\n",
    "\n",
    "model_light = LGBMRegressor(boosting_type='gbdt', verbose=0, seed=RANDOM_STATE)\n",
    "parameters = {'learning_rate': np.logspace(-3, 0, 5),\n",
    "              'n_estimators': range(20, 61, 20)}\n",
    "\n",
    "grid = GridSearchCV(model_light, parameters, cv=3, scoring=rmse_score)\n",
    "grid.fit(features_train_od, target_train);\n",
    "\n",
    "# RMSE на кроссвалидации\n",
    "display(grid.best_params_,\n",
    "        -1*grid.best_score_)"
   ]
  },
  {
   "cell_type": "code",
   "execution_count": 68,
   "metadata": {},
   "outputs": [
    {
     "name": "stdout",
     "output_type": "stream",
     "text": [
      "[LightGBM] [Warning] Auto-choosing row-wise multi-threading, the overhead of testing was 0.004361 seconds.\n",
      "You can set `force_row_wise=true` to remove the overhead.\n",
      "And if memory is not enough, you can set `force_col_wise=true`.\n",
      "CPU times: user 2.95 s, sys: 0 ns, total: 2.95 s\n",
      "Wall time: 2.99 s\n"
     ]
    }
   ],
   "source": [
    "%%time\n",
    "\n",
    "\n",
    "model_light = LGBMRegressor(boosting_type='gbdt', learning_rate = 0.17, \n",
    "                            n_estimators = 60, verbose=0, seed=RANDOM_STATE)\n",
    "\n",
    "# Время обучения \n",
    "start = time()\n",
    "\n",
    "model_light.fit(features_train_od, target_train)\n",
    "\n",
    "end = time()\n",
    "\n",
    "lgbm_list.append(end-start)"
   ]
  },
  {
   "cell_type": "code",
   "execution_count": 69,
   "metadata": {},
   "outputs": [
    {
     "name": "stdout",
     "output_type": "stream",
     "text": [
      "CPU times: user 788 ms, sys: 0 ns, total: 788 ms\n",
      "Wall time: 800 ms\n"
     ]
    }
   ],
   "source": [
    "%%time\n",
    "\n",
    "# Время предсказания\n",
    "start = time()\n",
    "\n",
    "light_predictions = model_light.predict(features_train_od)\n",
    "\n",
    "end = time()\n",
    "\n",
    "lgbm_list.append(end-start)"
   ]
  },
  {
   "cell_type": "code",
   "execution_count": 70,
   "metadata": {},
   "outputs": [],
   "source": [
    "lgbm_list.append(-1*grid.best_score_)"
   ]
  },
  {
   "cell_type": "code",
   "execution_count": 71,
   "metadata": {},
   "outputs": [
    {
     "data": {
      "text/plain": [
       "[2.993591547012329, 0.7994289398193359, 1697.1289713734798]"
      ]
     },
     "execution_count": 71,
     "metadata": {},
     "output_type": "execute_result"
    }
   ],
   "source": [
    "lgbm_list"
   ]
  },
  {
   "cell_type": "markdown",
   "metadata": {},
   "source": [
    "##### Catboost"
   ]
  },
  {
   "cell_type": "code",
   "execution_count": 72,
   "metadata": {},
   "outputs": [],
   "source": [
    "cat_list=[]"
   ]
  },
  {
   "cell_type": "code",
   "execution_count": 73,
   "metadata": {},
   "outputs": [
    {
     "data": {
      "text/plain": [
       "{'iterations': 40, 'learning_rate': 1.0}"
      ]
     },
     "metadata": {},
     "output_type": "display_data"
    },
    {
     "data": {
      "text/plain": [
       "1755.2588871163944"
      ]
     },
     "metadata": {},
     "output_type": "display_data"
    },
    {
     "name": "stdout",
     "output_type": "stream",
     "text": [
      "CPU times: user 16.4 s, sys: 0 ns, total: 16.4 s\n",
      "Wall time: 40 s\n"
     ]
    }
   ],
   "source": [
    "%%time\n",
    "\n",
    "model_cat = CatBoostRegressor(loss_function='RMSE', silent=True, random_seed=RANDOM_STATE)\n",
    "parameters = {'learning_rate': np.logspace(-3, 0, 5),\n",
    "              'iterations': range(20, 60, 20)}\n",
    "\n",
    "grid = GridSearchCV(model_cat, parameters, cv=3, scoring=rmse_score)\n",
    "grid.fit(features_train_od, target_train);\n",
    "\n",
    "# RMSE\n",
    "display(grid.best_params_,\n",
    "        -1*grid.best_score_)"
   ]
  },
  {
   "cell_type": "code",
   "execution_count": 74,
   "metadata": {},
   "outputs": [
    {
     "name": "stdout",
     "output_type": "stream",
     "text": [
      "CPU times: user 951 ms, sys: 0 ns, total: 951 ms\n",
      "Wall time: 1.56 s\n"
     ]
    }
   ],
   "source": [
    "%%time\n",
    "\n",
    "model_cat = grid.best_estimator_\n",
    "\n",
    "# Время обучения\n",
    "start = time()\n",
    "model_cat.fit(features_train_od, target_train)\n",
    "\n",
    "end = time()\n",
    "\n",
    "cat_list.append(end-start)"
   ]
  },
  {
   "cell_type": "code",
   "execution_count": 75,
   "metadata": {},
   "outputs": [
    {
     "name": "stdout",
     "output_type": "stream",
     "text": [
      "CPU times: user 22.7 ms, sys: 0 ns, total: 22.7 ms\n",
      "Wall time: 21.3 ms\n"
     ]
    }
   ],
   "source": [
    "%%time\n",
    "\n",
    "# Время предсказания\n",
    "start = time()\n",
    "\n",
    "cat_predictions = model_cat.predict(features_train_od)\n",
    "\n",
    "end = time()\n",
    "\n",
    "cat_list.append(end-start)"
   ]
  },
  {
   "cell_type": "code",
   "execution_count": 76,
   "metadata": {},
   "outputs": [
    {
     "data": {
      "text/plain": [
       "[1.556868553161621, 0.021168231964111328, 1755.2588871163944]"
      ]
     },
     "execution_count": 76,
     "metadata": {},
     "output_type": "execute_result"
    }
   ],
   "source": [
    "cat_list.append(-1*grid.best_score_)\n",
    "cat_list"
   ]
  },
  {
   "cell_type": "markdown",
   "metadata": {},
   "source": [
    "## Анализ моделей"
   ]
  },
  {
   "cell_type": "markdown",
   "metadata": {},
   "source": [
    "\n",
    "\n",
    "\n",
    "По трем важным для заказчика параметрам оценки моделей наиболее предпочтительной выглядит **Catboost** (model_cat). LGBM имеет лучшую RMSE, но время ее обучения значительно дольше. Простые модели имеют худшее качество."
   ]
  },
  {
   "cell_type": "code",
   "execution_count": 77,
   "metadata": {},
   "outputs": [],
   "source": [
    "# Соберу что получилось в таблицу\n",
    "final_result.append(linear_regression)\n",
    "final_result.append(random_forest)\n",
    "final_result.append(lgbm_list)\n",
    "final_result.append(cat_list)"
   ]
  },
  {
   "cell_type": "code",
   "execution_count": 78,
   "metadata": {},
   "outputs": [],
   "source": [
    "final_result = pd.DataFrame(final_result, index=['linear', 'forest', 'lgbm', 'catboost'],\n",
    "                            columns=['train', 'predict', 'rmse'])"
   ]
  },
  {
   "cell_type": "code",
   "execution_count": 79,
   "metadata": {},
   "outputs": [
    {
     "data": {
      "text/html": [
       "<div>\n",
       "<style scoped>\n",
       "    .dataframe tbody tr th:only-of-type {\n",
       "        vertical-align: middle;\n",
       "    }\n",
       "\n",
       "    .dataframe tbody tr th {\n",
       "        vertical-align: top;\n",
       "    }\n",
       "\n",
       "    .dataframe thead th {\n",
       "        text-align: right;\n",
       "    }\n",
       "</style>\n",
       "<table border=\"1\" class=\"dataframe\">\n",
       "  <thead>\n",
       "    <tr style=\"text-align: right;\">\n",
       "      <th></th>\n",
       "      <th>train</th>\n",
       "      <th>predict</th>\n",
       "      <th>rmse</th>\n",
       "    </tr>\n",
       "  </thead>\n",
       "  <tbody>\n",
       "    <tr>\n",
       "      <th>linear</th>\n",
       "      <td>21.412601</td>\n",
       "      <td>0.198147</td>\n",
       "      <td>2078.467640</td>\n",
       "    </tr>\n",
       "    <tr>\n",
       "      <th>forest</th>\n",
       "      <td>1.548963</td>\n",
       "      <td>0.101202</td>\n",
       "      <td>2124.972806</td>\n",
       "    </tr>\n",
       "    <tr>\n",
       "      <th>lgbm</th>\n",
       "      <td>2.993592</td>\n",
       "      <td>0.799429</td>\n",
       "      <td>1697.128971</td>\n",
       "    </tr>\n",
       "    <tr>\n",
       "      <th>catboost</th>\n",
       "      <td>1.556869</td>\n",
       "      <td>0.021168</td>\n",
       "      <td>1755.258887</td>\n",
       "    </tr>\n",
       "  </tbody>\n",
       "</table>\n",
       "</div>"
      ],
      "text/plain": [
       "              train   predict         rmse\n",
       "linear    21.412601  0.198147  2078.467640\n",
       "forest     1.548963  0.101202  2124.972806\n",
       "lgbm       2.993592  0.799429  1697.128971\n",
       "catboost   1.556869  0.021168  1755.258887"
      ]
     },
     "execution_count": 79,
     "metadata": {},
     "output_type": "execute_result"
    }
   ],
   "source": [
    "final_result "
   ]
  },
  {
   "cell_type": "markdown",
   "metadata": {},
   "source": [
    "Сравню лучшую свою модель с константной на тестовой выборке:"
   ]
  },
  {
   "cell_type": "code",
   "execution_count": 80,
   "metadata": {},
   "outputs": [
    {
     "name": "stdout",
     "output_type": "stream",
     "text": [
      "RMSE dummy:  4656.418791447832\n"
     ]
    }
   ],
   "source": [
    "dummy_regr = DummyRegressor(strategy=\"mean\")\n",
    "dummy_regr.fit(features_train_od, target_train)\n",
    "predictions_d = dummy_regr.predict(features_test_od)\n",
    "\n",
    "print('RMSE dummy: ', mean_squared_error(target_test, predictions_d) ** 0.5)"
   ]
  },
  {
   "cell_type": "code",
   "execution_count": 81,
   "metadata": {},
   "outputs": [
    {
     "name": "stdout",
     "output_type": "stream",
     "text": [
      "RMSE model:  1732.2297152341198\n"
     ]
    }
   ],
   "source": [
    "cat_predictions = model_cat.predict(features_test_od)\n",
    "\n",
    "print('RMSE model: ', mean_squared_error(target_test, cat_predictions) ** 0.5)"
   ]
  },
  {
   "cell_type": "markdown",
   "metadata": {},
   "source": [
    "Метрика качества полученной модели превосходит результат dummy значительно."
   ]
  },
  {
   "attachments": {
    "image-2.png": {
     "image/png": "[encoded data removed]"
    }
   },
   "cell_type": "markdown",
   "metadata": {},
   "source": [
    "## Вывод\n",
    "\n",
    "**Дано:** данные по автомобилям  \n",
    "**Задача:** построить модель для определения стоимости автомобиля, критерии оценки: RMSE, скорость обучения и предсказания\n",
    "\n",
    "----\n",
    "\n",
    "Предобработка данных:\n",
    "\n",
    "- были удалены/заполнены пропуски в данных и дубликаты\n",
    "- устранены аномальные значения\n",
    "- данные были отскалированы и закодированы для дальнейшей работы\n",
    "\n",
    "Обучение моделей:\n",
    "- были обучены 4 модели: LinearRegression, RandomForest, LGBM, Catboost\n",
    "- для каждой модели найдены интересующие заказчика параметры в таблице ниже:\n",
    "\n",
    "![image-2.png](attachment:image-2.png)\n",
    "\n",
    "----\n",
    "\n",
    "Наиболее подходящей заказчику моделью является model_cat, если более важным критерием является скорость.   \n",
    "Если важнее RMSE, то стоит выбрать model_light."
   ]
  }
 ],
 "metadata": {
  "ExecuteTimeLog": [
   {
    "duration": 448,
    "start_time": "2024-01-24T20:15:06.812Z"
   },
   {
    "duration": 1168,
    "start_time": "2024-01-24T20:15:09.702Z"
   },
   {
    "duration": 2,
    "start_time": "2024-01-24T20:16:03.698Z"
   },
   {
    "duration": 235,
    "start_time": "2024-01-24T20:16:04.071Z"
   },
   {
    "duration": 2,
    "start_time": "2024-01-24T20:16:20.534Z"
   },
   {
    "duration": 240,
    "start_time": "2024-01-24T20:16:20.957Z"
   },
   {
    "duration": 3,
    "start_time": "2024-01-24T20:16:31.806Z"
   },
   {
    "duration": 138,
    "start_time": "2024-01-24T20:16:32.288Z"
   },
   {
    "duration": 2,
    "start_time": "2024-01-24T20:16:37.419Z"
   },
   {
    "duration": 201,
    "start_time": "2024-01-24T20:16:37.775Z"
   },
   {
    "duration": 2,
    "start_time": "2024-01-24T20:16:53.030Z"
   },
   {
    "duration": 230,
    "start_time": "2024-01-24T20:16:53.548Z"
   },
   {
    "duration": 3,
    "start_time": "2024-01-24T20:17:15.900Z"
   },
   {
    "duration": 366,
    "start_time": "2024-01-24T20:17:16.267Z"
   },
   {
    "duration": 2,
    "start_time": "2024-01-24T20:17:35.778Z"
   },
   {
    "duration": 373,
    "start_time": "2024-01-24T20:17:36.240Z"
   },
   {
    "duration": 3,
    "start_time": "2024-01-24T20:19:12.059Z"
   },
   {
    "duration": 261,
    "start_time": "2024-01-25T12:28:41.075Z"
   },
   {
    "duration": 73,
    "start_time": "2024-01-25T12:29:23.909Z"
   },
   {
    "duration": 377,
    "start_time": "2024-01-25T12:29:24.487Z"
   },
   {
    "duration": 1213,
    "start_time": "2024-01-25T12:31:51.787Z"
   },
   {
    "duration": 1159,
    "start_time": "2024-01-25T12:32:39.473Z"
   },
   {
    "duration": 29,
    "start_time": "2024-01-25T12:35:11.065Z"
   },
   {
    "duration": 14,
    "start_time": "2024-01-25T12:35:17.801Z"
   },
   {
    "duration": 414,
    "start_time": "2024-01-25T12:35:24.021Z"
   },
   {
    "duration": 942,
    "start_time": "2024-01-25T12:35:24.437Z"
   },
   {
    "duration": 88,
    "start_time": "2024-01-25T12:35:25.381Z"
   },
   {
    "duration": 0,
    "start_time": "2024-01-25T12:35:25.471Z"
   },
   {
    "duration": 0,
    "start_time": "2024-01-25T12:35:25.472Z"
   },
   {
    "duration": 4,
    "start_time": "2024-01-25T12:35:45.278Z"
   },
   {
    "duration": 460,
    "start_time": "2024-01-25T12:35:46.762Z"
   },
   {
    "duration": 54,
    "start_time": "2024-01-25T12:35:51.935Z"
   },
   {
    "duration": 399,
    "start_time": "2024-01-25T12:38:04.249Z"
   },
   {
    "duration": 923,
    "start_time": "2024-01-25T12:38:04.650Z"
   },
   {
    "duration": 2,
    "start_time": "2024-01-25T12:38:05.575Z"
   },
   {
    "duration": 408,
    "start_time": "2024-01-25T12:38:05.579Z"
   },
   {
    "duration": 77,
    "start_time": "2024-01-25T12:38:05.989Z"
   },
   {
    "duration": 24,
    "start_time": "2024-01-25T12:42:00.961Z"
   },
   {
    "duration": 24,
    "start_time": "2024-01-25T12:42:40.674Z"
   },
   {
    "duration": 110,
    "start_time": "2024-01-25T12:43:02.431Z"
   },
   {
    "duration": 1193,
    "start_time": "2024-01-25T12:43:26.970Z"
   },
   {
    "duration": 22,
    "start_time": "2024-01-25T12:43:39.197Z"
   },
   {
    "duration": 57,
    "start_time": "2024-01-25T12:46:22.462Z"
   },
   {
    "duration": 98,
    "start_time": "2024-01-25T12:46:22.966Z"
   },
   {
    "duration": 31,
    "start_time": "2024-01-25T12:47:55.045Z"
   },
   {
    "duration": 41,
    "start_time": "2024-01-25T12:49:55.553Z"
   },
   {
    "duration": 59,
    "start_time": "2024-01-25T12:51:36.562Z"
   },
   {
    "duration": 99,
    "start_time": "2024-01-25T12:51:46.413Z"
   },
   {
    "duration": 86,
    "start_time": "2024-01-25T12:52:03.273Z"
   },
   {
    "duration": 1226,
    "start_time": "2024-01-25T12:52:06.913Z"
   },
   {
    "duration": 100,
    "start_time": "2024-01-25T12:52:12.841Z"
   },
   {
    "duration": 86,
    "start_time": "2024-01-25T12:53:01.708Z"
   },
   {
    "duration": 1233,
    "start_time": "2024-01-25T12:55:33.910Z"
   },
   {
    "duration": 23,
    "start_time": "2024-01-25T12:56:05.187Z"
   },
   {
    "duration": 17,
    "start_time": "2024-01-25T12:57:48.122Z"
   },
   {
    "duration": 23,
    "start_time": "2024-01-25T12:58:32.983Z"
   },
   {
    "duration": 18,
    "start_time": "2024-01-25T12:59:25.044Z"
   },
   {
    "duration": 19,
    "start_time": "2024-01-25T12:59:51.384Z"
   },
   {
    "duration": 23,
    "start_time": "2024-01-25T13:01:07.975Z"
   },
   {
    "duration": 34,
    "start_time": "2024-01-25T13:03:47.437Z"
   },
   {
    "duration": 20,
    "start_time": "2024-01-25T13:04:01.366Z"
   },
   {
    "duration": 8,
    "start_time": "2024-01-25T13:04:31.170Z"
   },
   {
    "duration": 363,
    "start_time": "2024-01-25T13:04:38.212Z"
   },
   {
    "duration": 898,
    "start_time": "2024-01-25T13:04:38.576Z"
   },
   {
    "duration": 3,
    "start_time": "2024-01-25T13:04:39.475Z"
   },
   {
    "duration": 481,
    "start_time": "2024-01-25T13:04:39.479Z"
   },
   {
    "duration": 49,
    "start_time": "2024-01-25T13:04:39.964Z"
   },
   {
    "duration": 53,
    "start_time": "2024-01-25T13:04:40.014Z"
   },
   {
    "duration": 44,
    "start_time": "2024-01-25T13:04:40.068Z"
   },
   {
    "duration": 27,
    "start_time": "2024-01-25T13:04:40.114Z"
   },
   {
    "duration": 78,
    "start_time": "2024-01-25T13:04:40.143Z"
   },
   {
    "duration": 23,
    "start_time": "2024-01-25T13:04:40.223Z"
   },
   {
    "duration": 54,
    "start_time": "2024-01-25T13:04:40.248Z"
   },
   {
    "duration": 81,
    "start_time": "2024-01-25T13:04:40.303Z"
   },
   {
    "duration": 102,
    "start_time": "2024-01-25T13:04:40.386Z"
   },
   {
    "duration": 118,
    "start_time": "2024-01-25T13:04:40.492Z"
   },
   {
    "duration": 16,
    "start_time": "2024-01-25T13:04:40.612Z"
   },
   {
    "duration": 46,
    "start_time": "2024-01-25T13:04:40.630Z"
   },
   {
    "duration": 19,
    "start_time": "2024-01-25T13:04:40.677Z"
   },
   {
    "duration": 20,
    "start_time": "2024-01-25T13:04:40.697Z"
   },
   {
    "duration": 43,
    "start_time": "2024-01-25T13:04:40.718Z"
   },
   {
    "duration": 90,
    "start_time": "2024-01-25T13:05:57.445Z"
   },
   {
    "duration": 550,
    "start_time": "2024-01-25T13:10:27.307Z"
   },
   {
    "duration": 154,
    "start_time": "2024-01-25T13:10:32.843Z"
   },
   {
    "duration": 29,
    "start_time": "2024-01-25T13:13:04.932Z"
   },
   {
    "duration": 261,
    "start_time": "2024-01-25T13:13:32.477Z"
   },
   {
    "duration": 331,
    "start_time": "2024-01-25T13:14:16.768Z"
   },
   {
    "duration": 67,
    "start_time": "2024-01-25T13:17:04.362Z"
   },
   {
    "duration": 3,
    "start_time": "2024-01-25T13:17:50.530Z"
   },
   {
    "duration": 333,
    "start_time": "2024-01-25T13:17:54.744Z"
   },
   {
    "duration": 318,
    "start_time": "2024-01-25T13:18:04.022Z"
   },
   {
    "duration": 281,
    "start_time": "2024-01-25T13:18:11.386Z"
   },
   {
    "duration": 133,
    "start_time": "2024-01-25T13:18:36.636Z"
   },
   {
    "duration": 278,
    "start_time": "2024-01-25T13:18:40.554Z"
   },
   {
    "duration": 37,
    "start_time": "2024-01-25T13:20:51.843Z"
   },
   {
    "duration": 388,
    "start_time": "2024-01-25T13:20:56.208Z"
   },
   {
    "duration": 8,
    "start_time": "2024-01-25T13:23:00.061Z"
   },
   {
    "duration": 33,
    "start_time": "2024-01-25T13:23:31.647Z"
   },
   {
    "duration": 12,
    "start_time": "2024-01-25T13:23:43.433Z"
   },
   {
    "duration": 19,
    "start_time": "2024-01-25T13:26:10.645Z"
   },
   {
    "duration": 21,
    "start_time": "2024-01-25T13:26:18.705Z"
   },
   {
    "duration": 375,
    "start_time": "2024-01-25T13:28:45.447Z"
   },
   {
    "duration": 15,
    "start_time": "2024-01-25T13:33:59.894Z"
   },
   {
    "duration": 11,
    "start_time": "2024-01-25T13:34:06.601Z"
   },
   {
    "duration": 12,
    "start_time": "2024-01-25T13:34:10.961Z"
   },
   {
    "duration": 16,
    "start_time": "2024-01-25T13:34:15.103Z"
   },
   {
    "duration": 10,
    "start_time": "2024-01-25T13:38:09.612Z"
   },
   {
    "duration": 23,
    "start_time": "2024-01-25T13:38:42.762Z"
   },
   {
    "duration": 381,
    "start_time": "2024-01-25T13:44:08.118Z"
   },
   {
    "duration": 58,
    "start_time": "2024-01-25T13:45:13.225Z"
   },
   {
    "duration": 54,
    "start_time": "2024-01-25T13:45:17.900Z"
   },
   {
    "duration": 64,
    "start_time": "2024-01-25T13:45:36.346Z"
   },
   {
    "duration": 27,
    "start_time": "2024-01-25T13:45:59.632Z"
   },
   {
    "duration": 62,
    "start_time": "2024-01-25T13:46:02.514Z"
   },
   {
    "duration": 29,
    "start_time": "2024-01-25T13:46:18.037Z"
   },
   {
    "duration": 6,
    "start_time": "2024-01-25T13:47:24.839Z"
   },
   {
    "duration": 24,
    "start_time": "2024-01-25T13:47:26.661Z"
   },
   {
    "duration": 14,
    "start_time": "2024-01-25T14:04:23.084Z"
   },
   {
    "duration": 4,
    "start_time": "2024-01-25T16:44:27.890Z"
   },
   {
    "duration": 426,
    "start_time": "2024-01-25T16:44:30.167Z"
   },
   {
    "duration": 3,
    "start_time": "2024-01-25T16:45:19.611Z"
   },
   {
    "duration": 362,
    "start_time": "2024-01-25T16:45:20.065Z"
   },
   {
    "duration": 5,
    "start_time": "2024-01-25T16:45:48.562Z"
   },
   {
    "duration": 368,
    "start_time": "2024-01-25T16:45:51.529Z"
   },
   {
    "duration": 3,
    "start_time": "2024-01-25T16:46:09.277Z"
   },
   {
    "duration": 529,
    "start_time": "2024-01-25T16:46:09.899Z"
   },
   {
    "duration": 3,
    "start_time": "2024-01-25T16:46:17.984Z"
   },
   {
    "duration": 370,
    "start_time": "2024-01-25T16:46:18.298Z"
   },
   {
    "duration": 17,
    "start_time": "2024-01-25T16:47:20.065Z"
   },
   {
    "duration": 396,
    "start_time": "2024-01-25T16:47:28.093Z"
   },
   {
    "duration": 218,
    "start_time": "2024-01-25T16:47:28.491Z"
   },
   {
    "duration": 865,
    "start_time": "2024-01-25T16:47:28.710Z"
   },
   {
    "duration": 3,
    "start_time": "2024-01-25T16:47:29.577Z"
   },
   {
    "duration": 850,
    "start_time": "2024-01-25T16:47:29.581Z"
   },
   {
    "duration": 287,
    "start_time": "2024-01-25T16:47:30.433Z"
   },
   {
    "duration": 99,
    "start_time": "2024-01-25T16:47:30.722Z"
   },
   {
    "duration": 43,
    "start_time": "2024-01-25T16:47:30.822Z"
   },
   {
    "duration": 123,
    "start_time": "2024-01-25T16:47:30.867Z"
   },
   {
    "duration": 26,
    "start_time": "2024-01-25T16:47:30.992Z"
   },
   {
    "duration": 88,
    "start_time": "2024-01-25T16:47:31.020Z"
   },
   {
    "duration": 151,
    "start_time": "2024-01-25T16:47:31.109Z"
   },
   {
    "duration": 81,
    "start_time": "2024-01-25T16:47:31.261Z"
   },
   {
    "duration": 96,
    "start_time": "2024-01-25T16:47:31.343Z"
   },
   {
    "duration": 40,
    "start_time": "2024-01-25T16:47:31.441Z"
   },
   {
    "duration": 82,
    "start_time": "2024-01-25T16:47:31.482Z"
   },
   {
    "duration": 429,
    "start_time": "2024-01-25T16:47:31.566Z"
   },
   {
    "duration": 17,
    "start_time": "2024-01-25T16:47:31.996Z"
   },
   {
    "duration": 53,
    "start_time": "2024-01-25T16:47:32.014Z"
   },
   {
    "duration": 6,
    "start_time": "2024-01-25T16:47:32.069Z"
   },
   {
    "duration": 30,
    "start_time": "2024-01-25T16:47:32.076Z"
   },
   {
    "duration": 10,
    "start_time": "2024-01-25T16:47:32.108Z"
   },
   {
    "duration": 11,
    "start_time": "2024-01-25T16:47:32.119Z"
   },
   {
    "duration": 32,
    "start_time": "2024-01-25T16:47:32.131Z"
   },
   {
    "duration": 11,
    "start_time": "2024-01-25T16:47:32.165Z"
   },
   {
    "duration": 24,
    "start_time": "2024-01-25T16:47:32.178Z"
   },
   {
    "duration": 11,
    "start_time": "2024-01-25T16:47:32.203Z"
   },
   {
    "duration": 730,
    "start_time": "2024-01-25T16:50:32.031Z"
   },
   {
    "duration": 59,
    "start_time": "2024-01-25T16:50:51.689Z"
   },
   {
    "duration": 19,
    "start_time": "2024-01-25T16:52:34.110Z"
   },
   {
    "duration": 69,
    "start_time": "2024-01-25T16:54:18.788Z"
   },
   {
    "duration": 3,
    "start_time": "2024-01-25T17:24:38.087Z"
   },
   {
    "duration": 3,
    "start_time": "2024-01-25T17:25:11.452Z"
   },
   {
    "duration": 574,
    "start_time": "2024-01-25T17:25:21.129Z"
   },
   {
    "duration": 534,
    "start_time": "2024-01-25T17:25:40.310Z"
   },
   {
    "duration": 109,
    "start_time": "2024-01-25T17:26:10.401Z"
   },
   {
    "duration": 2,
    "start_time": "2024-01-25T17:26:52.540Z"
   },
   {
    "duration": 2,
    "start_time": "2024-01-25T17:26:58.671Z"
   },
   {
    "duration": 17,
    "start_time": "2024-01-25T17:27:45.463Z"
   },
   {
    "duration": 2,
    "start_time": "2024-01-25T17:31:46.044Z"
   },
   {
    "duration": 507,
    "start_time": "2024-01-25T17:31:46.465Z"
   },
   {
    "duration": 16,
    "start_time": "2024-01-25T17:31:47.124Z"
   },
   {
    "duration": 10,
    "start_time": "2024-01-25T17:32:20.440Z"
   },
   {
    "duration": 12,
    "start_time": "2024-01-25T17:32:38.910Z"
   },
   {
    "duration": 11,
    "start_time": "2024-01-25T17:33:28.136Z"
   },
   {
    "duration": 12,
    "start_time": "2024-01-25T17:33:47.509Z"
   },
   {
    "duration": 3,
    "start_time": "2024-01-25T17:33:53.847Z"
   },
   {
    "duration": 596,
    "start_time": "2024-01-25T17:33:54.298Z"
   },
   {
    "duration": 152,
    "start_time": "2024-01-25T17:33:54.895Z"
   },
   {
    "duration": 8,
    "start_time": "2024-01-25T17:36:07.257Z"
   },
   {
    "duration": 608,
    "start_time": "2024-01-25T17:36:07.715Z"
   },
   {
    "duration": 109,
    "start_time": "2024-01-25T17:36:08.577Z"
   },
   {
    "duration": 128,
    "start_time": "2024-01-25T17:36:24.944Z"
   },
   {
    "duration": 61,
    "start_time": "2024-01-25T17:36:26.128Z"
   },
   {
    "duration": 2,
    "start_time": "2024-01-25T17:44:05.392Z"
   },
   {
    "duration": 314,
    "start_time": "2024-01-25T17:44:30.202Z"
   },
   {
    "duration": 37812,
    "start_time": "2024-01-25T17:44:55.043Z"
   },
   {
    "duration": 40969,
    "start_time": "2024-01-25T17:45:53.288Z"
   },
   {
    "duration": 41864,
    "start_time": "2024-01-25T17:48:27.399Z"
   },
   {
    "duration": 95,
    "start_time": "2024-01-25T17:49:09.272Z"
   },
   {
    "duration": 300,
    "start_time": "2024-01-25T17:49:31.647Z"
   },
   {
    "duration": 305,
    "start_time": "2024-01-25T17:50:23.179Z"
   },
   {
    "duration": 37907,
    "start_time": "2024-01-25T17:50:24.165Z"
   },
   {
    "duration": 111,
    "start_time": "2024-01-25T17:51:02.153Z"
   },
   {
    "duration": 281,
    "start_time": "2024-01-25T17:51:35.721Z"
   },
   {
    "duration": 147,
    "start_time": "2024-01-25T17:52:03.110Z"
   },
   {
    "duration": 39,
    "start_time": "2024-01-25T17:54:40.975Z"
   },
   {
    "duration": 143659,
    "start_time": "2024-01-25T17:54:47.238Z"
   },
   {
    "duration": 130546,
    "start_time": "2024-01-25T17:58:24.122Z"
   },
   {
    "duration": 98,
    "start_time": "2024-01-25T18:00:34.670Z"
   },
   {
    "duration": 12665,
    "start_time": "2024-01-25T18:01:32.203Z"
   },
   {
    "duration": 144,
    "start_time": "2024-01-25T18:05:19.788Z"
   },
   {
    "duration": 87,
    "start_time": "2024-01-25T18:06:05.143Z"
   },
   {
    "duration": 5,
    "start_time": "2024-01-25T18:06:27.566Z"
   },
   {
    "duration": 900786,
    "start_time": "2024-01-25T18:06:31.183Z"
   },
   {
    "duration": 2,
    "start_time": "2024-01-25T18:21:31.972Z"
   },
   {
    "duration": 177302,
    "start_time": "2024-01-25T18:28:30.170Z"
   },
   {
    "duration": 152,
    "start_time": "2024-01-25T19:01:32.728Z"
   },
   {
    "duration": 11,
    "start_time": "2024-01-25T19:02:36.736Z"
   },
   {
    "duration": 8,
    "start_time": "2024-01-25T19:02:42.925Z"
   },
   {
    "duration": 8,
    "start_time": "2024-01-25T19:07:05.923Z"
   },
   {
    "duration": 2,
    "start_time": "2024-01-25T19:07:11.602Z"
   },
   {
    "duration": 94,
    "start_time": "2024-01-25T19:08:17.540Z"
   },
   {
    "duration": 4620,
    "start_time": "2024-01-25T19:09:54.273Z"
   },
   {
    "duration": 83940,
    "start_time": "2024-01-25T19:10:10.277Z"
   },
   {
    "duration": 3404,
    "start_time": "2024-01-25T19:15:46.569Z"
   },
   {
    "duration": 49,
    "start_time": "2024-01-25T19:15:49.979Z"
   },
   {
    "duration": 428,
    "start_time": "2024-01-25T19:20:42.534Z"
   },
   {
    "duration": 258,
    "start_time": "2024-01-25T19:20:42.963Z"
   },
   {
    "duration": 731,
    "start_time": "2024-01-25T19:20:43.222Z"
   },
   {
    "duration": 76,
    "start_time": "2024-01-25T19:20:43.964Z"
   },
   {
    "duration": 2,
    "start_time": "2024-01-25T19:20:44.042Z"
   },
   {
    "duration": 888,
    "start_time": "2024-01-25T19:20:44.045Z"
   },
   {
    "duration": 3,
    "start_time": "2024-01-25T19:20:44.935Z"
   },
   {
    "duration": 964,
    "start_time": "2024-01-25T19:20:44.939Z"
   },
   {
    "duration": 309,
    "start_time": "2024-01-25T19:20:45.905Z"
   },
   {
    "duration": 83,
    "start_time": "2024-01-25T19:20:46.216Z"
   },
   {
    "duration": 19,
    "start_time": "2024-01-25T19:20:46.300Z"
   },
   {
    "duration": 79,
    "start_time": "2024-01-25T19:20:46.320Z"
   },
   {
    "duration": 19,
    "start_time": "2024-01-25T19:20:46.400Z"
   },
   {
    "duration": 60,
    "start_time": "2024-01-25T19:20:46.422Z"
   },
   {
    "duration": 46,
    "start_time": "2024-01-25T19:20:46.484Z"
   },
   {
    "duration": 96,
    "start_time": "2024-01-25T19:20:46.531Z"
   },
   {
    "duration": 70,
    "start_time": "2024-01-25T19:20:46.628Z"
   },
   {
    "duration": 19,
    "start_time": "2024-01-25T19:20:46.700Z"
   },
   {
    "duration": 17,
    "start_time": "2024-01-25T19:20:46.720Z"
   },
   {
    "duration": 393,
    "start_time": "2024-01-25T19:20:46.739Z"
   },
   {
    "duration": 49,
    "start_time": "2024-01-25T19:20:47.134Z"
   },
   {
    "duration": 33,
    "start_time": "2024-01-25T19:20:47.185Z"
   },
   {
    "duration": 5,
    "start_time": "2024-01-25T19:20:47.220Z"
   },
   {
    "duration": 20,
    "start_time": "2024-01-25T19:20:47.226Z"
   },
   {
    "duration": 21,
    "start_time": "2024-01-25T19:20:47.248Z"
   },
   {
    "duration": 21,
    "start_time": "2024-01-25T19:20:47.274Z"
   },
   {
    "duration": 21,
    "start_time": "2024-01-25T19:20:47.296Z"
   },
   {
    "duration": 9,
    "start_time": "2024-01-25T19:20:47.318Z"
   },
   {
    "duration": 24,
    "start_time": "2024-01-25T19:20:47.328Z"
   },
   {
    "duration": 22,
    "start_time": "2024-01-25T19:20:47.358Z"
   },
   {
    "duration": 7,
    "start_time": "2024-01-25T19:20:47.381Z"
   },
   {
    "duration": 666,
    "start_time": "2024-01-25T19:20:47.389Z"
   },
   {
    "duration": 202,
    "start_time": "2024-01-25T19:20:48.056Z"
   },
   {
    "duration": 313,
    "start_time": "2024-01-25T19:20:48.267Z"
   },
   {
    "duration": 68180,
    "start_time": "2024-01-25T19:20:48.583Z"
   },
   {
    "duration": 199,
    "start_time": "2024-01-25T19:21:56.770Z"
   },
   {
    "duration": 148941,
    "start_time": "2024-01-25T19:21:56.977Z"
   },
   {
    "duration": 12671,
    "start_time": "2024-01-25T19:24:25.920Z"
   },
   {
    "duration": 175,
    "start_time": "2024-01-25T19:24:38.592Z"
   },
   {
    "duration": 3,
    "start_time": "2024-01-25T19:24:38.772Z"
   },
   {
    "duration": 2881905,
    "start_time": "2024-01-25T19:24:38.780Z"
   },
   {
    "duration": 285584,
    "start_time": "2024-01-25T20:18:59.884Z"
   },
   {
    "duration": 791,
    "start_time": "2024-01-25T20:23:45.469Z"
   },
   {
    "duration": 79459,
    "start_time": "2024-01-25T20:23:46.262Z"
   },
   {
    "duration": 3345,
    "start_time": "2024-01-25T20:25:05.723Z"
   },
   {
    "duration": 46,
    "start_time": "2024-01-25T20:25:09.070Z"
   },
   {
    "duration": 381,
    "start_time": "2024-01-25T20:39:31.091Z"
   },
   {
    "duration": 250,
    "start_time": "2024-01-25T20:39:31.475Z"
   },
   {
    "duration": 746,
    "start_time": "2024-01-25T20:39:31.727Z"
   },
   {
    "duration": 67,
    "start_time": "2024-01-25T20:39:32.474Z"
   },
   {
    "duration": 2,
    "start_time": "2024-01-25T20:39:32.543Z"
   },
   {
    "duration": 925,
    "start_time": "2024-01-25T20:39:32.546Z"
   },
   {
    "duration": 3,
    "start_time": "2024-01-25T20:39:33.473Z"
   },
   {
    "duration": 872,
    "start_time": "2024-01-25T20:39:33.477Z"
   },
   {
    "duration": 314,
    "start_time": "2024-01-25T20:39:34.354Z"
   },
   {
    "duration": 84,
    "start_time": "2024-01-25T20:39:34.670Z"
   },
   {
    "duration": 19,
    "start_time": "2024-01-25T20:39:34.765Z"
   },
   {
    "duration": 55,
    "start_time": "2024-01-25T20:39:34.785Z"
   },
   {
    "duration": 38,
    "start_time": "2024-01-25T20:39:34.841Z"
   },
   {
    "duration": 33,
    "start_time": "2024-01-25T20:39:34.883Z"
   },
   {
    "duration": 74,
    "start_time": "2024-01-25T20:39:34.918Z"
   },
   {
    "duration": 102,
    "start_time": "2024-01-25T20:39:34.994Z"
   },
   {
    "duration": 83,
    "start_time": "2024-01-25T20:39:35.097Z"
   },
   {
    "duration": 21,
    "start_time": "2024-01-25T20:39:35.181Z"
   },
   {
    "duration": 19,
    "start_time": "2024-01-25T20:39:35.203Z"
   },
   {
    "duration": 439,
    "start_time": "2024-01-25T20:39:35.224Z"
   },
   {
    "duration": 19,
    "start_time": "2024-01-25T20:39:35.670Z"
   },
   {
    "duration": 32,
    "start_time": "2024-01-25T20:39:35.691Z"
   },
   {
    "duration": 22,
    "start_time": "2024-01-25T20:39:35.725Z"
   },
   {
    "duration": 34,
    "start_time": "2024-01-25T20:39:35.749Z"
   },
   {
    "duration": 14,
    "start_time": "2024-01-25T20:39:35.785Z"
   },
   {
    "duration": 12,
    "start_time": "2024-01-25T20:39:35.801Z"
   },
   {
    "duration": 47,
    "start_time": "2024-01-25T20:39:35.815Z"
   },
   {
    "duration": 11,
    "start_time": "2024-01-25T20:39:35.864Z"
   },
   {
    "duration": 28,
    "start_time": "2024-01-25T20:39:35.877Z"
   },
   {
    "duration": 17,
    "start_time": "2024-01-25T20:39:35.907Z"
   },
   {
    "duration": 28,
    "start_time": "2024-01-25T20:39:35.926Z"
   },
   {
    "duration": 713,
    "start_time": "2024-01-25T20:39:35.955Z"
   },
   {
    "duration": 204,
    "start_time": "2024-01-25T20:39:36.670Z"
   },
   {
    "duration": 329,
    "start_time": "2024-01-25T20:39:36.875Z"
   },
   {
    "duration": 46456,
    "start_time": "2024-01-25T20:39:37.206Z"
   },
   {
    "duration": 205,
    "start_time": "2024-01-25T20:40:23.664Z"
   },
   {
    "duration": 149740,
    "start_time": "2024-01-25T20:40:23.874Z"
   },
   {
    "duration": 12631,
    "start_time": "2024-01-25T20:42:53.616Z"
   },
   {
    "duration": 171,
    "start_time": "2024-01-25T20:43:06.251Z"
   },
   {
    "duration": 1545944,
    "start_time": "2024-01-25T20:43:06.424Z"
   },
   {
    "duration": 9109,
    "start_time": "2024-01-25T21:08:52.451Z"
   },
   {
    "duration": 709,
    "start_time": "2024-01-25T21:09:01.561Z"
   },
   {
    "duration": 73206,
    "start_time": "2024-01-25T21:09:02.272Z"
   },
   {
    "duration": 3032,
    "start_time": "2024-01-25T21:10:15.480Z"
   },
   {
    "duration": 50,
    "start_time": "2024-01-25T21:10:18.515Z"
   },
   {
    "duration": 119,
    "start_time": "2024-01-26T07:11:24.511Z"
   },
   {
    "duration": 3,
    "start_time": "2024-01-26T07:12:41.873Z"
   },
   {
    "duration": 777,
    "start_time": "2024-01-26T07:12:45.243Z"
   },
   {
    "duration": 776,
    "start_time": "2024-01-26T07:12:47.443Z"
   },
   {
    "duration": 224,
    "start_time": "2024-01-26T07:12:52.771Z"
   },
   {
    "duration": 148,
    "start_time": "2024-01-26T07:13:10.561Z"
   },
   {
    "duration": 110,
    "start_time": "2024-01-26T07:14:18.097Z"
   },
   {
    "duration": 367,
    "start_time": "2024-01-26T07:14:24.561Z"
   },
   {
    "duration": 374,
    "start_time": "2024-01-26T07:14:34.434Z"
   },
   {
    "duration": 448,
    "start_time": "2024-01-26T07:18:11.361Z"
   },
   {
    "duration": 384,
    "start_time": "2024-01-26T07:19:18.586Z"
   },
   {
    "duration": 366,
    "start_time": "2024-01-26T07:19:31.803Z"
   },
   {
    "duration": 347,
    "start_time": "2024-01-26T07:19:56.292Z"
   },
   {
    "duration": 27,
    "start_time": "2024-01-26T07:25:41.435Z"
   },
   {
    "duration": 26,
    "start_time": "2024-01-26T21:01:37.111Z"
   },
   {
    "duration": 5,
    "start_time": "2024-01-26T21:02:53.458Z"
   },
   {
    "duration": 17,
    "start_time": "2024-01-27T14:46:13.495Z"
   },
   {
    "duration": 5,
    "start_time": "2024-01-27T14:46:14.576Z"
   },
   {
    "duration": 2,
    "start_time": "2024-01-27T14:46:15.232Z"
   },
   {
    "duration": 15,
    "start_time": "2024-01-27T14:46:15.659Z"
   },
   {
    "duration": 47,
    "start_time": "2024-01-27T14:46:34.269Z"
   },
   {
    "duration": 3,
    "start_time": "2024-01-27T15:26:21.686Z"
   },
   {
    "duration": 5,
    "start_time": "2024-01-27T15:26:21.691Z"
   },
   {
    "duration": 4,
    "start_time": "2024-01-27T15:26:21.698Z"
   },
   {
    "duration": 8,
    "start_time": "2024-01-27T15:26:21.704Z"
   },
   {
    "duration": 3,
    "start_time": "2024-01-27T15:26:21.714Z"
   },
   {
    "duration": 715,
    "start_time": "2024-01-27T15:26:21.719Z"
   },
   {
    "duration": 3,
    "start_time": "2024-01-27T15:26:22.436Z"
   },
   {
    "duration": 706,
    "start_time": "2024-01-27T15:26:22.452Z"
   },
   {
    "duration": 219,
    "start_time": "2024-01-27T15:26:23.160Z"
   },
   {
    "duration": 143,
    "start_time": "2024-01-27T15:26:23.380Z"
   },
   {
    "duration": 72,
    "start_time": "2024-01-27T15:26:23.524Z"
   },
   {
    "duration": 17,
    "start_time": "2024-01-27T15:26:23.597Z"
   },
   {
    "duration": 62,
    "start_time": "2024-01-27T15:26:23.616Z"
   },
   {
    "duration": 18,
    "start_time": "2024-01-27T15:26:23.681Z"
   },
   {
    "duration": 31,
    "start_time": "2024-01-27T15:26:23.700Z"
   },
   {
    "duration": 61,
    "start_time": "2024-01-27T15:26:23.732Z"
   },
   {
    "duration": 84,
    "start_time": "2024-01-27T15:26:23.794Z"
   },
   {
    "duration": 42,
    "start_time": "2024-01-27T15:26:23.879Z"
   },
   {
    "duration": 31,
    "start_time": "2024-01-27T15:26:23.923Z"
   },
   {
    "duration": 17,
    "start_time": "2024-01-27T15:26:23.956Z"
   },
   {
    "duration": 540,
    "start_time": "2024-01-27T15:26:23.975Z"
   },
   {
    "duration": 16,
    "start_time": "2024-01-27T15:26:24.517Z"
   },
   {
    "duration": 34,
    "start_time": "2024-01-27T15:26:24.534Z"
   },
   {
    "duration": 5,
    "start_time": "2024-01-27T15:26:24.570Z"
   },
   {
    "duration": 21,
    "start_time": "2024-01-27T15:26:24.576Z"
   },
   {
    "duration": 8,
    "start_time": "2024-01-27T15:26:24.598Z"
   },
   {
    "duration": 35,
    "start_time": "2024-01-27T15:26:24.607Z"
   },
   {
    "duration": 14,
    "start_time": "2024-01-27T15:26:24.644Z"
   },
   {
    "duration": 17,
    "start_time": "2024-01-27T15:26:24.659Z"
   },
   {
    "duration": 18,
    "start_time": "2024-01-27T15:26:34.209Z"
   },
   {
    "duration": 14,
    "start_time": "2024-01-27T15:27:00.346Z"
   },
   {
    "duration": 4,
    "start_time": "2024-01-27T15:27:01.907Z"
   },
   {
    "duration": 2,
    "start_time": "2024-01-27T15:27:02.946Z"
   },
   {
    "duration": 44,
    "start_time": "2024-01-27T15:27:04.350Z"
   },
   {
    "duration": 3,
    "start_time": "2024-01-27T15:28:15.342Z"
   },
   {
    "duration": 9,
    "start_time": "2024-01-27T15:38:48.957Z"
   },
   {
    "duration": 8,
    "start_time": "2024-01-27T15:39:04.276Z"
   },
   {
    "duration": 8,
    "start_time": "2024-01-27T15:39:35.472Z"
   },
   {
    "duration": 15,
    "start_time": "2024-01-27T15:39:39.551Z"
   },
   {
    "duration": 15,
    "start_time": "2024-01-27T15:41:55.535Z"
   },
   {
    "duration": 7,
    "start_time": "2024-01-27T15:44:00.105Z"
   },
   {
    "duration": 8,
    "start_time": "2024-01-27T15:45:51.764Z"
   },
   {
    "duration": 117,
    "start_time": "2024-01-27T15:48:01.119Z"
   },
   {
    "duration": 2,
    "start_time": "2024-01-27T15:48:09.756Z"
   },
   {
    "duration": 99,
    "start_time": "2024-01-27T15:48:45.314Z"
   },
   {
    "duration": 18,
    "start_time": "2024-01-27T15:49:35.313Z"
   },
   {
    "duration": 18,
    "start_time": "2024-01-27T15:51:09.111Z"
   },
   {
    "duration": 19,
    "start_time": "2024-01-27T15:51:13.075Z"
   },
   {
    "duration": 25,
    "start_time": "2024-01-27T15:51:16.419Z"
   },
   {
    "duration": 5,
    "start_time": "2024-01-27T15:51:17.709Z"
   },
   {
    "duration": 3,
    "start_time": "2024-01-27T15:51:18.260Z"
   },
   {
    "duration": 59,
    "start_time": "2024-01-27T15:51:19.146Z"
   },
   {
    "duration": 21,
    "start_time": "2024-01-27T15:51:20.005Z"
   },
   {
    "duration": 23,
    "start_time": "2024-01-27T15:51:28.888Z"
   },
   {
    "duration": 14,
    "start_time": "2024-01-27T15:51:29.365Z"
   },
   {
    "duration": 19,
    "start_time": "2024-01-27T15:51:54.872Z"
   },
   {
    "duration": 53,
    "start_time": "2024-01-27T15:52:26.881Z"
   },
   {
    "duration": 1034,
    "start_time": "2024-01-27T15:53:47.819Z"
   },
   {
    "duration": 46,
    "start_time": "2024-01-27T15:54:57.050Z"
   },
   {
    "duration": 383,
    "start_time": "2024-01-27T15:55:05.163Z"
   },
   {
    "duration": 254,
    "start_time": "2024-01-27T15:55:05.548Z"
   },
   {
    "duration": 707,
    "start_time": "2024-01-27T15:55:05.803Z"
   },
   {
    "duration": 67,
    "start_time": "2024-01-27T15:55:06.512Z"
   },
   {
    "duration": 2,
    "start_time": "2024-01-27T15:55:06.581Z"
   },
   {
    "duration": 1037,
    "start_time": "2024-01-27T15:55:06.585Z"
   },
   {
    "duration": 3,
    "start_time": "2024-01-27T15:55:07.624Z"
   },
   {
    "duration": 785,
    "start_time": "2024-01-27T15:55:07.628Z"
   },
   {
    "duration": 261,
    "start_time": "2024-01-27T15:55:08.415Z"
   },
   {
    "duration": 153,
    "start_time": "2024-01-27T15:55:08.677Z"
   },
   {
    "duration": 66,
    "start_time": "2024-01-27T15:55:08.832Z"
   },
   {
    "duration": 18,
    "start_time": "2024-01-27T15:55:08.899Z"
   },
   {
    "duration": 64,
    "start_time": "2024-01-27T15:55:08.918Z"
   },
   {
    "duration": 17,
    "start_time": "2024-01-27T15:55:08.985Z"
   },
   {
    "duration": 30,
    "start_time": "2024-01-27T15:55:09.003Z"
   },
   {
    "duration": 56,
    "start_time": "2024-01-27T15:55:09.035Z"
   },
   {
    "duration": 89,
    "start_time": "2024-01-27T15:55:09.093Z"
   },
   {
    "duration": 45,
    "start_time": "2024-01-27T15:55:09.184Z"
   },
   {
    "duration": 34,
    "start_time": "2024-01-27T15:55:09.230Z"
   },
   {
    "duration": 17,
    "start_time": "2024-01-27T15:55:09.265Z"
   },
   {
    "duration": 377,
    "start_time": "2024-01-27T15:55:09.284Z"
   },
   {
    "duration": 16,
    "start_time": "2024-01-27T15:55:09.662Z"
   },
   {
    "duration": 20,
    "start_time": "2024-01-27T15:55:09.679Z"
   },
   {
    "duration": 5,
    "start_time": "2024-01-27T15:55:09.700Z"
   },
   {
    "duration": 21,
    "start_time": "2024-01-27T15:55:09.706Z"
   },
   {
    "duration": 29,
    "start_time": "2024-01-27T15:55:09.729Z"
   },
   {
    "duration": 25,
    "start_time": "2024-01-27T15:55:09.760Z"
   },
   {
    "duration": 8,
    "start_time": "2024-01-27T15:55:09.786Z"
   },
   {
    "duration": 16,
    "start_time": "2024-01-27T15:55:09.795Z"
   },
   {
    "duration": 40,
    "start_time": "2024-01-27T15:55:09.813Z"
   },
   {
    "duration": 12,
    "start_time": "2024-01-27T15:55:09.854Z"
   },
   {
    "duration": 6,
    "start_time": "2024-01-27T15:55:09.867Z"
   },
   {
    "duration": 2,
    "start_time": "2024-01-27T15:55:09.874Z"
   },
   {
    "duration": 46,
    "start_time": "2024-01-27T15:55:09.878Z"
   },
   {
    "duration": 116,
    "start_time": "2024-01-27T15:55:09.926Z"
   },
   {
    "duration": 7,
    "start_time": "2024-01-27T15:55:10.053Z"
   },
   {
    "duration": 29,
    "start_time": "2024-01-27T15:55:10.062Z"
   },
   {
    "duration": 87,
    "start_time": "2024-01-27T15:55:10.093Z"
   },
   {
    "duration": 43,
    "start_time": "2024-01-27T15:55:34.262Z"
   },
   {
    "duration": 355,
    "start_time": "2024-01-27T15:55:38.585Z"
   },
   {
    "duration": 229,
    "start_time": "2024-01-27T15:55:38.941Z"
   },
   {
    "duration": 687,
    "start_time": "2024-01-27T15:55:39.171Z"
   },
   {
    "duration": 67,
    "start_time": "2024-01-27T15:55:39.860Z"
   },
   {
    "duration": 3,
    "start_time": "2024-01-27T15:55:39.929Z"
   },
   {
    "duration": 1006,
    "start_time": "2024-01-27T15:55:39.933Z"
   },
   {
    "duration": 3,
    "start_time": "2024-01-27T15:55:40.941Z"
   },
   {
    "duration": 874,
    "start_time": "2024-01-27T15:55:40.945Z"
   },
   {
    "duration": 255,
    "start_time": "2024-01-27T15:55:41.820Z"
   },
   {
    "duration": 143,
    "start_time": "2024-01-27T15:55:42.076Z"
   },
   {
    "duration": 72,
    "start_time": "2024-01-27T15:55:42.220Z"
   },
   {
    "duration": 18,
    "start_time": "2024-01-27T15:55:42.293Z"
   },
   {
    "duration": 64,
    "start_time": "2024-01-27T15:55:42.313Z"
   },
   {
    "duration": 25,
    "start_time": "2024-01-27T15:55:42.380Z"
   },
   {
    "duration": 45,
    "start_time": "2024-01-27T15:55:42.407Z"
   },
   {
    "duration": 46,
    "start_time": "2024-01-27T15:55:42.454Z"
   },
   {
    "duration": 86,
    "start_time": "2024-01-27T15:55:42.501Z"
   },
   {
    "duration": 44,
    "start_time": "2024-01-27T15:55:42.588Z"
   },
   {
    "duration": 35,
    "start_time": "2024-01-27T15:55:42.633Z"
   },
   {
    "duration": 16,
    "start_time": "2024-01-27T15:55:42.669Z"
   },
   {
    "duration": 372,
    "start_time": "2024-01-27T15:55:42.687Z"
   },
   {
    "duration": 16,
    "start_time": "2024-01-27T15:55:43.060Z"
   },
   {
    "duration": 32,
    "start_time": "2024-01-27T15:55:43.077Z"
   },
   {
    "duration": 6,
    "start_time": "2024-01-27T15:55:43.110Z"
   },
   {
    "duration": 19,
    "start_time": "2024-01-27T15:55:43.117Z"
   },
   {
    "duration": 9,
    "start_time": "2024-01-27T15:55:43.152Z"
   },
   {
    "duration": 24,
    "start_time": "2024-01-27T15:55:43.162Z"
   },
   {
    "duration": 9,
    "start_time": "2024-01-27T15:55:43.187Z"
   },
   {
    "duration": 17,
    "start_time": "2024-01-27T15:55:43.197Z"
   },
   {
    "duration": 49,
    "start_time": "2024-01-27T15:55:43.215Z"
   },
   {
    "duration": 11,
    "start_time": "2024-01-27T15:55:43.265Z"
   },
   {
    "duration": 5,
    "start_time": "2024-01-27T15:55:43.277Z"
   },
   {
    "duration": 3,
    "start_time": "2024-01-27T15:55:43.283Z"
   },
   {
    "duration": 72,
    "start_time": "2024-01-27T15:55:43.287Z"
   },
   {
    "duration": 81,
    "start_time": "2024-01-27T15:55:43.360Z"
   },
   {
    "duration": 10,
    "start_time": "2024-01-27T15:55:43.442Z"
   },
   {
    "duration": 23,
    "start_time": "2024-01-27T15:55:43.454Z"
   },
   {
    "duration": 62,
    "start_time": "2024-01-27T15:56:07.605Z"
   },
   {
    "duration": 2,
    "start_time": "2024-01-27T15:57:07.907Z"
   },
   {
    "duration": 11,
    "start_time": "2024-01-27T15:57:07.911Z"
   },
   {
    "duration": 11,
    "start_time": "2024-01-27T15:57:07.923Z"
   },
   {
    "duration": 28,
    "start_time": "2024-01-27T15:57:07.935Z"
   },
   {
    "duration": 18,
    "start_time": "2024-01-27T15:57:07.965Z"
   },
   {
    "duration": 803,
    "start_time": "2024-01-27T15:57:07.985Z"
   },
   {
    "duration": 3,
    "start_time": "2024-01-27T15:57:08.790Z"
   },
   {
    "duration": 717,
    "start_time": "2024-01-27T15:57:08.795Z"
   },
   {
    "duration": 263,
    "start_time": "2024-01-27T15:57:09.514Z"
   },
   {
    "duration": 152,
    "start_time": "2024-01-27T15:57:09.779Z"
   },
   {
    "duration": 69,
    "start_time": "2024-01-27T15:57:09.933Z"
   },
   {
    "duration": 21,
    "start_time": "2024-01-27T15:57:10.004Z"
   },
   {
    "duration": 68,
    "start_time": "2024-01-27T15:57:10.027Z"
   },
   {
    "duration": 18,
    "start_time": "2024-01-27T15:57:10.098Z"
   },
   {
    "duration": 41,
    "start_time": "2024-01-27T15:57:10.117Z"
   },
   {
    "duration": 61,
    "start_time": "2024-01-27T15:57:10.159Z"
   },
   {
    "duration": 74,
    "start_time": "2024-01-27T15:57:10.221Z"
   },
   {
    "duration": 57,
    "start_time": "2024-01-27T15:57:10.296Z"
   },
   {
    "duration": 18,
    "start_time": "2024-01-27T15:57:10.354Z"
   },
   {
    "duration": 17,
    "start_time": "2024-01-27T15:57:10.373Z"
   },
   {
    "duration": 387,
    "start_time": "2024-01-27T15:57:10.391Z"
   },
   {
    "duration": 16,
    "start_time": "2024-01-27T15:57:10.779Z"
   },
   {
    "duration": 22,
    "start_time": "2024-01-27T15:57:10.796Z"
   },
   {
    "duration": 15,
    "start_time": "2024-01-27T15:57:10.820Z"
   },
   {
    "duration": 27,
    "start_time": "2024-01-27T15:57:10.836Z"
   },
   {
    "duration": 8,
    "start_time": "2024-01-27T15:57:10.865Z"
   },
   {
    "duration": 25,
    "start_time": "2024-01-27T15:57:10.874Z"
   },
   {
    "duration": 14,
    "start_time": "2024-01-27T15:57:10.901Z"
   },
   {
    "duration": 39,
    "start_time": "2024-01-27T15:57:10.916Z"
   },
   {
    "duration": 18,
    "start_time": "2024-01-27T15:57:10.956Z"
   },
   {
    "duration": 16,
    "start_time": "2024-01-27T15:57:10.976Z"
   },
   {
    "duration": 6,
    "start_time": "2024-01-27T15:57:10.994Z"
   },
   {
    "duration": 28,
    "start_time": "2024-01-27T15:57:11.002Z"
   },
   {
    "duration": 47,
    "start_time": "2024-01-27T15:57:11.032Z"
   },
   {
    "duration": 11,
    "start_time": "2024-01-27T15:57:11.081Z"
   },
   {
    "duration": 71,
    "start_time": "2024-01-27T15:57:11.093Z"
   },
   {
    "duration": 3602,
    "start_time": "2024-01-27T16:00:26.918Z"
   },
   {
    "duration": 9,
    "start_time": "2024-01-27T16:01:52.791Z"
   },
   {
    "duration": 43,
    "start_time": "2024-01-27T16:04:02.988Z"
   },
   {
    "duration": 5,
    "start_time": "2024-01-27T16:04:09.240Z"
   },
   {
    "duration": 345,
    "start_time": "2024-01-27T16:04:13.898Z"
   },
   {
    "duration": 250,
    "start_time": "2024-01-27T16:04:14.245Z"
   },
   {
    "duration": 676,
    "start_time": "2024-01-27T16:04:14.497Z"
   },
   {
    "duration": 67,
    "start_time": "2024-01-27T16:04:15.175Z"
   },
   {
    "duration": 8,
    "start_time": "2024-01-27T16:04:15.244Z"
   },
   {
    "duration": 1049,
    "start_time": "2024-01-27T16:04:15.253Z"
   },
   {
    "duration": 3,
    "start_time": "2024-01-27T16:04:16.303Z"
   },
   {
    "duration": 772,
    "start_time": "2024-01-27T16:04:16.308Z"
   },
   {
    "duration": 257,
    "start_time": "2024-01-27T16:04:17.082Z"
   },
   {
    "duration": 154,
    "start_time": "2024-01-27T16:04:17.340Z"
   },
   {
    "duration": 83,
    "start_time": "2024-01-27T16:04:17.495Z"
   },
   {
    "duration": 17,
    "start_time": "2024-01-27T16:04:17.579Z"
   },
   {
    "duration": 57,
    "start_time": "2024-01-27T16:04:17.598Z"
   },
   {
    "duration": 18,
    "start_time": "2024-01-27T16:04:17.658Z"
   },
   {
    "duration": 29,
    "start_time": "2024-01-27T16:04:17.677Z"
   },
   {
    "duration": 59,
    "start_time": "2024-01-27T16:04:17.708Z"
   },
   {
    "duration": 74,
    "start_time": "2024-01-27T16:04:17.769Z"
   },
   {
    "duration": 42,
    "start_time": "2024-01-27T16:04:17.851Z"
   },
   {
    "duration": 19,
    "start_time": "2024-01-27T16:04:17.894Z"
   },
   {
    "duration": 19,
    "start_time": "2024-01-27T16:04:17.914Z"
   },
   {
    "duration": 386,
    "start_time": "2024-01-27T16:04:17.934Z"
   },
   {
    "duration": 16,
    "start_time": "2024-01-27T16:04:18.321Z"
   },
   {
    "duration": 33,
    "start_time": "2024-01-27T16:04:18.338Z"
   },
   {
    "duration": 5,
    "start_time": "2024-01-27T16:04:18.373Z"
   },
   {
    "duration": 33,
    "start_time": "2024-01-27T16:04:18.379Z"
   },
   {
    "duration": 9,
    "start_time": "2024-01-27T16:04:18.413Z"
   },
   {
    "duration": 18,
    "start_time": "2024-01-27T16:04:18.423Z"
   },
   {
    "duration": 14,
    "start_time": "2024-01-27T16:04:18.442Z"
   },
   {
    "duration": 17,
    "start_time": "2024-01-27T16:04:18.457Z"
   },
   {
    "duration": 19,
    "start_time": "2024-01-27T16:04:18.475Z"
   },
   {
    "duration": 10,
    "start_time": "2024-01-27T16:04:18.495Z"
   },
   {
    "duration": 5,
    "start_time": "2024-01-27T16:04:18.506Z"
   },
   {
    "duration": 4,
    "start_time": "2024-01-27T16:04:18.512Z"
   },
   {
    "duration": 74,
    "start_time": "2024-01-27T16:04:18.517Z"
   },
   {
    "duration": 22,
    "start_time": "2024-01-27T16:04:18.593Z"
   },
   {
    "duration": 140,
    "start_time": "2024-01-27T16:04:18.616Z"
   },
   {
    "duration": 973,
    "start_time": "2024-01-27T16:04:21.265Z"
   },
   {
    "duration": 70,
    "start_time": "2024-01-27T16:04:25.713Z"
   },
   {
    "duration": 32,
    "start_time": "2024-01-27T16:04:31.620Z"
   },
   {
    "duration": 60,
    "start_time": "2024-01-27T16:04:32.335Z"
   },
   {
    "duration": 970,
    "start_time": "2024-01-27T16:04:33.334Z"
   },
   {
    "duration": 8,
    "start_time": "2024-01-27T16:04:54.647Z"
   },
   {
    "duration": 4,
    "start_time": "2024-01-27T16:05:00.678Z"
   },
   {
    "duration": 3,
    "start_time": "2024-01-27T16:09:06.745Z"
   },
   {
    "duration": 68,
    "start_time": "2024-01-27T16:09:31.828Z"
   },
   {
    "duration": 5,
    "start_time": "2024-01-27T16:09:43.565Z"
   },
   {
    "duration": 69,
    "start_time": "2024-01-27T16:10:35.846Z"
   },
   {
    "duration": 6,
    "start_time": "2024-01-27T16:10:36.814Z"
   },
   {
    "duration": 239,
    "start_time": "2024-01-27T16:10:41.489Z"
   },
   {
    "duration": 9,
    "start_time": "2024-01-27T16:11:00.149Z"
   },
   {
    "duration": 5,
    "start_time": "2024-01-27T16:11:05.027Z"
   },
   {
    "duration": 624,
    "start_time": "2024-01-27T16:14:02.966Z"
   },
   {
    "duration": 17,
    "start_time": "2024-01-27T16:14:03.708Z"
   },
   {
    "duration": 12,
    "start_time": "2024-01-27T16:14:47.806Z"
   },
   {
    "duration": 7,
    "start_time": "2024-01-27T16:14:55.890Z"
   },
   {
    "duration": 2,
    "start_time": "2024-01-27T16:14:56.694Z"
   },
   {
    "duration": 65,
    "start_time": "2024-01-27T16:14:57.146Z"
   },
   {
    "duration": 618,
    "start_time": "2024-01-27T16:14:57.668Z"
   },
   {
    "duration": 193,
    "start_time": "2024-01-27T16:16:50.154Z"
   },
   {
    "duration": 12,
    "start_time": "2024-01-27T16:18:08.970Z"
   },
   {
    "duration": 43,
    "start_time": "2024-01-27T16:18:51.393Z"
   },
   {
    "duration": 26,
    "start_time": "2024-01-27T16:19:59.028Z"
   },
   {
    "duration": 32,
    "start_time": "2024-01-27T16:26:43.472Z"
   },
   {
    "duration": 140,
    "start_time": "2024-01-27T16:26:54.680Z"
   },
   {
    "duration": 4,
    "start_time": "2024-01-27T16:27:17.593Z"
   },
   {
    "duration": 5,
    "start_time": "2024-01-27T16:27:17.599Z"
   },
   {
    "duration": 7,
    "start_time": "2024-01-27T16:27:17.606Z"
   },
   {
    "duration": 9,
    "start_time": "2024-01-27T16:27:17.615Z"
   },
   {
    "duration": 8,
    "start_time": "2024-01-27T16:27:17.627Z"
   },
   {
    "duration": 815,
    "start_time": "2024-01-27T16:27:17.637Z"
   },
   {
    "duration": 3,
    "start_time": "2024-01-27T16:27:18.453Z"
   },
   {
    "duration": 746,
    "start_time": "2024-01-27T16:27:18.457Z"
   },
   {
    "duration": 274,
    "start_time": "2024-01-27T16:27:19.204Z"
   },
   {
    "duration": 159,
    "start_time": "2024-01-27T16:27:19.480Z"
   },
   {
    "duration": 70,
    "start_time": "2024-01-27T16:27:19.640Z"
   },
   {
    "duration": 18,
    "start_time": "2024-01-27T16:27:19.711Z"
   },
   {
    "duration": 68,
    "start_time": "2024-01-27T16:27:19.730Z"
   },
   {
    "duration": 18,
    "start_time": "2024-01-27T16:27:19.800Z"
   },
   {
    "duration": 46,
    "start_time": "2024-01-27T16:27:19.819Z"
   },
   {
    "duration": 58,
    "start_time": "2024-01-27T16:27:19.866Z"
   },
   {
    "duration": 84,
    "start_time": "2024-01-27T16:27:19.925Z"
   },
   {
    "duration": 56,
    "start_time": "2024-01-27T16:27:20.010Z"
   },
   {
    "duration": 18,
    "start_time": "2024-01-27T16:27:20.068Z"
   },
   {
    "duration": 23,
    "start_time": "2024-01-27T16:27:20.088Z"
   },
   {
    "duration": 415,
    "start_time": "2024-01-27T16:27:20.113Z"
   },
   {
    "duration": 24,
    "start_time": "2024-01-27T16:27:20.530Z"
   },
   {
    "duration": 23,
    "start_time": "2024-01-27T16:27:20.555Z"
   },
   {
    "duration": 6,
    "start_time": "2024-01-27T16:27:20.581Z"
   },
   {
    "duration": 21,
    "start_time": "2024-01-27T16:27:20.589Z"
   },
   {
    "duration": 40,
    "start_time": "2024-01-27T16:27:20.612Z"
   },
   {
    "duration": 20,
    "start_time": "2024-01-27T16:27:20.654Z"
   },
   {
    "duration": 49,
    "start_time": "2024-01-27T16:27:20.676Z"
   },
   {
    "duration": 30,
    "start_time": "2024-01-27T16:27:20.727Z"
   },
   {
    "duration": 17,
    "start_time": "2024-01-27T16:27:20.759Z"
   },
   {
    "duration": 23,
    "start_time": "2024-01-27T16:27:20.778Z"
   },
   {
    "duration": 7,
    "start_time": "2024-01-27T16:27:20.802Z"
   },
   {
    "duration": 16,
    "start_time": "2024-01-27T16:27:20.810Z"
   },
   {
    "duration": 58,
    "start_time": "2024-01-27T16:27:20.828Z"
   },
   {
    "duration": 9,
    "start_time": "2024-01-27T16:27:20.887Z"
   },
   {
    "duration": 14,
    "start_time": "2024-01-27T16:27:20.898Z"
   },
   {
    "duration": 76,
    "start_time": "2024-01-27T16:27:20.913Z"
   },
   {
    "duration": 683,
    "start_time": "2024-01-27T16:27:20.991Z"
   },
   {
    "duration": 200,
    "start_time": "2024-01-27T16:27:21.676Z"
   },
   {
    "duration": 9,
    "start_time": "2024-01-27T16:27:21.878Z"
   },
   {
    "duration": 61,
    "start_time": "2024-01-27T16:27:21.891Z"
   },
   {
    "duration": 25,
    "start_time": "2024-01-27T16:27:21.953Z"
   },
   {
    "duration": 33,
    "start_time": "2024-01-27T16:27:21.979Z"
   },
   {
    "duration": 130,
    "start_time": "2024-01-27T16:27:25.138Z"
   },
   {
    "duration": 8,
    "start_time": "2024-01-27T16:27:53.784Z"
   },
   {
    "duration": 16,
    "start_time": "2024-01-27T16:28:00.503Z"
   },
   {
    "duration": 28,
    "start_time": "2024-01-27T16:28:39.639Z"
   },
   {
    "duration": 36,
    "start_time": "2024-01-27T16:28:40.257Z"
   },
   {
    "duration": 12,
    "start_time": "2024-01-27T16:28:52.473Z"
   },
   {
    "duration": 180,
    "start_time": "2024-01-27T16:29:18.018Z"
   },
   {
    "duration": 92,
    "start_time": "2024-01-27T16:29:32.575Z"
   },
   {
    "duration": 11,
    "start_time": "2024-01-27T16:29:42.603Z"
   },
   {
    "duration": 7,
    "start_time": "2024-01-27T16:30:09.574Z"
   },
   {
    "duration": 3,
    "start_time": "2024-01-27T16:30:46.712Z"
   },
   {
    "duration": 27,
    "start_time": "2024-01-27T16:31:48.425Z"
   },
   {
    "duration": 102,
    "start_time": "2024-01-27T16:32:59.357Z"
   },
   {
    "duration": 3,
    "start_time": "2024-01-27T16:33:02.088Z"
   },
   {
    "duration": 29,
    "start_time": "2024-01-27T16:33:02.488Z"
   },
   {
    "duration": 11,
    "start_time": "2024-01-27T16:33:20.001Z"
   },
   {
    "duration": 146,
    "start_time": "2024-01-27T16:33:54.512Z"
   },
   {
    "duration": 8,
    "start_time": "2024-01-27T16:34:11.289Z"
   },
   {
    "duration": 3,
    "start_time": "2024-01-27T16:34:23.525Z"
   },
   {
    "duration": 2,
    "start_time": "2024-01-27T16:35:33.550Z"
   },
   {
    "duration": 696,
    "start_time": "2024-01-27T16:36:09.497Z"
   },
   {
    "duration": 10557,
    "start_time": "2024-01-27T16:36:28.091Z"
   },
   {
    "duration": 3,
    "start_time": "2024-01-27T16:37:02.624Z"
   },
   {
    "duration": 9,
    "start_time": "2024-01-27T16:39:16.406Z"
   },
   {
    "duration": 3,
    "start_time": "2024-01-27T16:40:28.359Z"
   },
   {
    "duration": 3,
    "start_time": "2024-01-27T16:40:31.828Z"
   },
   {
    "duration": 10650,
    "start_time": "2024-01-27T16:40:43.558Z"
   },
   {
    "duration": 3,
    "start_time": "2024-01-27T16:41:09.442Z"
   },
   {
    "duration": 9105,
    "start_time": "2024-01-27T16:41:30.523Z"
   },
   {
    "duration": 3,
    "start_time": "2024-01-27T16:42:50.569Z"
   },
   {
    "duration": 3,
    "start_time": "2024-01-27T16:43:05.167Z"
   },
   {
    "duration": 3,
    "start_time": "2024-01-27T16:43:05.819Z"
   },
   {
    "duration": 9101,
    "start_time": "2024-01-27T16:43:06.650Z"
   },
   {
    "duration": 4,
    "start_time": "2024-01-27T16:43:30.422Z"
   },
   {
    "duration": 3,
    "start_time": "2024-01-27T16:43:50.972Z"
   },
   {
    "duration": 9,
    "start_time": "2024-01-27T16:43:50.977Z"
   },
   {
    "duration": 5,
    "start_time": "2024-01-27T16:43:50.987Z"
   },
   {
    "duration": 4,
    "start_time": "2024-01-27T16:43:50.993Z"
   },
   {
    "duration": 4,
    "start_time": "2024-01-27T16:43:50.999Z"
   },
   {
    "duration": 768,
    "start_time": "2024-01-27T16:43:51.005Z"
   },
   {
    "duration": 3,
    "start_time": "2024-01-27T16:43:51.774Z"
   },
   {
    "duration": 730,
    "start_time": "2024-01-27T16:43:51.779Z"
   },
   {
    "duration": 255,
    "start_time": "2024-01-27T16:43:52.511Z"
   },
   {
    "duration": 145,
    "start_time": "2024-01-27T16:43:52.769Z"
   },
   {
    "duration": 73,
    "start_time": "2024-01-27T16:43:52.916Z"
   },
   {
    "duration": 18,
    "start_time": "2024-01-27T16:43:52.990Z"
   },
   {
    "duration": 65,
    "start_time": "2024-01-27T16:43:53.009Z"
   },
   {
    "duration": 18,
    "start_time": "2024-01-27T16:43:53.077Z"
   },
   {
    "duration": 39,
    "start_time": "2024-01-27T16:43:53.096Z"
   },
   {
    "duration": 60,
    "start_time": "2024-01-27T16:43:53.136Z"
   },
   {
    "duration": 82,
    "start_time": "2024-01-27T16:43:53.198Z"
   },
   {
    "duration": 47,
    "start_time": "2024-01-27T16:43:53.281Z"
   },
   {
    "duration": 36,
    "start_time": "2024-01-27T16:43:53.330Z"
   },
   {
    "duration": 17,
    "start_time": "2024-01-27T16:43:53.368Z"
   },
   {
    "duration": 388,
    "start_time": "2024-01-27T16:43:53.386Z"
   },
   {
    "duration": 16,
    "start_time": "2024-01-27T16:43:53.776Z"
   },
   {
    "duration": 22,
    "start_time": "2024-01-27T16:43:53.793Z"
   },
   {
    "duration": 5,
    "start_time": "2024-01-27T16:43:53.817Z"
   },
   {
    "duration": 48,
    "start_time": "2024-01-27T16:43:53.823Z"
   },
   {
    "duration": 9,
    "start_time": "2024-01-27T16:43:53.872Z"
   },
   {
    "duration": 24,
    "start_time": "2024-01-27T16:43:53.882Z"
   },
   {
    "duration": 8,
    "start_time": "2024-01-27T16:43:53.908Z"
   },
   {
    "duration": 17,
    "start_time": "2024-01-27T16:43:53.917Z"
   },
   {
    "duration": 18,
    "start_time": "2024-01-27T16:43:53.953Z"
   },
   {
    "duration": 13,
    "start_time": "2024-01-27T16:43:53.972Z"
   },
   {
    "duration": 19,
    "start_time": "2024-01-27T16:43:53.986Z"
   },
   {
    "duration": 3,
    "start_time": "2024-01-27T16:43:54.006Z"
   },
   {
    "duration": 61,
    "start_time": "2024-01-27T16:43:54.010Z"
   },
   {
    "duration": 8,
    "start_time": "2024-01-27T16:43:54.072Z"
   },
   {
    "duration": 4,
    "start_time": "2024-01-27T16:43:54.081Z"
   },
   {
    "duration": 79,
    "start_time": "2024-01-27T16:43:54.086Z"
   },
   {
    "duration": 630,
    "start_time": "2024-01-27T16:43:54.166Z"
   },
   {
    "duration": 193,
    "start_time": "2024-01-27T16:43:54.798Z"
   },
   {
    "duration": 8,
    "start_time": "2024-01-27T16:43:54.992Z"
   },
   {
    "duration": 74,
    "start_time": "2024-01-27T16:43:55.004Z"
   },
   {
    "duration": 29,
    "start_time": "2024-01-27T16:43:55.083Z"
   },
   {
    "duration": 33,
    "start_time": "2024-01-27T16:43:55.114Z"
   },
   {
    "duration": 3,
    "start_time": "2024-01-27T16:43:55.149Z"
   },
   {
    "duration": 4,
    "start_time": "2024-01-27T16:43:55.154Z"
   },
   {
    "duration": 29,
    "start_time": "2024-01-27T16:43:55.159Z"
   },
   {
    "duration": 66,
    "start_time": "2024-01-27T16:43:55.190Z"
   },
   {
    "duration": 94,
    "start_time": "2024-01-27T16:43:55.258Z"
   },
   {
    "duration": 4,
    "start_time": "2024-01-27T16:43:55.354Z"
   },
   {
    "duration": 10724,
    "start_time": "2024-01-27T16:43:55.360Z"
   },
   {
    "duration": 4,
    "start_time": "2024-01-27T16:44:13.673Z"
   },
   {
    "duration": 1596,
    "start_time": "2024-01-27T16:46:56.548Z"
   },
   {
    "duration": 3,
    "start_time": "2024-01-27T16:48:01.007Z"
   },
   {
    "duration": 32,
    "start_time": "2024-01-27T16:48:01.012Z"
   },
   {
    "duration": 44,
    "start_time": "2024-01-27T16:48:01.046Z"
   },
   {
    "duration": 17,
    "start_time": "2024-01-27T16:48:01.091Z"
   },
   {
    "duration": 28,
    "start_time": "2024-01-27T16:48:01.110Z"
   },
   {
    "duration": 861,
    "start_time": "2024-01-27T16:48:01.139Z"
   },
   {
    "duration": 3,
    "start_time": "2024-01-27T16:48:02.002Z"
   },
   {
    "duration": 738,
    "start_time": "2024-01-27T16:48:02.006Z"
   },
   {
    "duration": 241,
    "start_time": "2024-01-27T16:48:02.745Z"
   },
   {
    "duration": 155,
    "start_time": "2024-01-27T16:48:02.987Z"
   },
   {
    "duration": 75,
    "start_time": "2024-01-27T16:48:03.143Z"
   },
   {
    "duration": 37,
    "start_time": "2024-01-27T16:48:03.220Z"
   },
   {
    "duration": 63,
    "start_time": "2024-01-27T16:48:03.259Z"
   },
   {
    "duration": 18,
    "start_time": "2024-01-27T16:48:03.325Z"
   },
   {
    "duration": 47,
    "start_time": "2024-01-27T16:48:03.345Z"
   },
   {
    "duration": 70,
    "start_time": "2024-01-27T16:48:03.393Z"
   },
   {
    "duration": 88,
    "start_time": "2024-01-27T16:48:03.464Z"
   },
   {
    "duration": 45,
    "start_time": "2024-01-27T16:48:03.553Z"
   },
   {
    "duration": 17,
    "start_time": "2024-01-27T16:48:03.600Z"
   },
   {
    "duration": 40,
    "start_time": "2024-01-27T16:48:03.619Z"
   },
   {
    "duration": 365,
    "start_time": "2024-01-27T16:48:03.661Z"
   },
   {
    "duration": 15,
    "start_time": "2024-01-27T16:48:04.028Z"
   },
   {
    "duration": 22,
    "start_time": "2024-01-27T16:48:04.052Z"
   },
   {
    "duration": 6,
    "start_time": "2024-01-27T16:48:04.076Z"
   },
   {
    "duration": 18,
    "start_time": "2024-01-27T16:48:04.084Z"
   },
   {
    "duration": 9,
    "start_time": "2024-01-27T16:48:04.104Z"
   },
   {
    "duration": 53,
    "start_time": "2024-01-27T16:48:04.115Z"
   },
   {
    "duration": 8,
    "start_time": "2024-01-27T16:48:04.170Z"
   },
   {
    "duration": 24,
    "start_time": "2024-01-27T16:48:04.180Z"
   },
   {
    "duration": 18,
    "start_time": "2024-01-27T16:48:04.206Z"
   },
   {
    "duration": 34,
    "start_time": "2024-01-27T16:48:04.225Z"
   },
   {
    "duration": 6,
    "start_time": "2024-01-27T16:48:04.260Z"
   },
   {
    "duration": 2,
    "start_time": "2024-01-27T16:48:04.268Z"
   },
   {
    "duration": 48,
    "start_time": "2024-01-27T16:48:04.271Z"
   },
   {
    "duration": 31,
    "start_time": "2024-01-27T16:48:04.321Z"
   },
   {
    "duration": 3,
    "start_time": "2024-01-27T16:48:04.353Z"
   },
   {
    "duration": 92,
    "start_time": "2024-01-27T16:48:04.357Z"
   },
   {
    "duration": 641,
    "start_time": "2024-01-27T16:48:04.450Z"
   },
   {
    "duration": 208,
    "start_time": "2024-01-27T16:48:05.093Z"
   },
   {
    "duration": 8,
    "start_time": "2024-01-27T16:48:05.303Z"
   },
   {
    "duration": 54,
    "start_time": "2024-01-27T16:48:05.315Z"
   },
   {
    "duration": 24,
    "start_time": "2024-01-27T16:48:05.370Z"
   },
   {
    "duration": 27,
    "start_time": "2024-01-27T16:48:05.396Z"
   },
   {
    "duration": 2,
    "start_time": "2024-01-27T16:48:05.425Z"
   },
   {
    "duration": 2,
    "start_time": "2024-01-27T16:48:05.452Z"
   },
   {
    "duration": 39,
    "start_time": "2024-01-27T16:48:05.455Z"
   },
   {
    "duration": 9,
    "start_time": "2024-01-27T16:48:05.496Z"
   },
   {
    "duration": 91,
    "start_time": "2024-01-27T16:48:05.561Z"
   },
   {
    "duration": 7,
    "start_time": "2024-01-27T16:48:05.654Z"
   },
   {
    "duration": 10501,
    "start_time": "2024-01-27T16:48:05.662Z"
   },
   {
    "duration": 1651,
    "start_time": "2024-01-27T16:48:16.164Z"
   },
   {
    "duration": 110,
    "start_time": "2024-01-27T16:48:17.817Z"
   },
   {
    "duration": 3,
    "start_time": "2024-01-27T16:48:17.929Z"
   },
   {
    "duration": 3,
    "start_time": "2024-01-27T16:48:27.744Z"
   },
   {
    "duration": 3,
    "start_time": "2024-01-27T16:53:07.440Z"
   },
   {
    "duration": 5,
    "start_time": "2024-01-27T16:53:07.445Z"
   },
   {
    "duration": 6,
    "start_time": "2024-01-27T16:53:07.451Z"
   },
   {
    "duration": 5,
    "start_time": "2024-01-27T16:53:07.458Z"
   },
   {
    "duration": 6,
    "start_time": "2024-01-27T16:53:07.464Z"
   },
   {
    "duration": 783,
    "start_time": "2024-01-27T16:53:07.471Z"
   },
   {
    "duration": 3,
    "start_time": "2024-01-27T16:53:08.256Z"
   },
   {
    "duration": 709,
    "start_time": "2024-01-27T16:53:08.260Z"
   },
   {
    "duration": 245,
    "start_time": "2024-01-27T16:53:08.970Z"
   },
   {
    "duration": 145,
    "start_time": "2024-01-27T16:53:09.217Z"
   },
   {
    "duration": 90,
    "start_time": "2024-01-27T16:53:09.364Z"
   },
   {
    "duration": 19,
    "start_time": "2024-01-27T16:53:09.455Z"
   },
   {
    "duration": 49,
    "start_time": "2024-01-27T16:53:09.475Z"
   },
   {
    "duration": 35,
    "start_time": "2024-01-27T16:53:09.527Z"
   },
   {
    "duration": 42,
    "start_time": "2024-01-27T16:53:09.564Z"
   },
   {
    "duration": 53,
    "start_time": "2024-01-27T16:53:09.608Z"
   },
   {
    "duration": 75,
    "start_time": "2024-01-27T16:53:09.663Z"
   },
   {
    "duration": 51,
    "start_time": "2024-01-27T16:53:09.739Z"
   },
   {
    "duration": 17,
    "start_time": "2024-01-27T16:53:09.792Z"
   },
   {
    "duration": 17,
    "start_time": "2024-01-27T16:53:09.811Z"
   },
   {
    "duration": 472,
    "start_time": "2024-01-27T16:53:09.852Z"
   },
   {
    "duration": 28,
    "start_time": "2024-01-27T16:53:10.325Z"
   },
   {
    "duration": 37,
    "start_time": "2024-01-27T16:53:10.355Z"
   },
   {
    "duration": 8,
    "start_time": "2024-01-27T16:53:10.393Z"
   },
   {
    "duration": 19,
    "start_time": "2024-01-27T16:53:10.402Z"
   },
   {
    "duration": 8,
    "start_time": "2024-01-27T16:53:10.423Z"
   },
   {
    "duration": 35,
    "start_time": "2024-01-27T16:53:10.432Z"
   },
   {
    "duration": 10,
    "start_time": "2024-01-27T16:53:10.468Z"
   },
   {
    "duration": 20,
    "start_time": "2024-01-27T16:53:10.480Z"
   },
   {
    "duration": 51,
    "start_time": "2024-01-27T16:53:10.502Z"
   },
   {
    "duration": 17,
    "start_time": "2024-01-27T16:53:10.555Z"
   },
   {
    "duration": 6,
    "start_time": "2024-01-27T16:53:10.574Z"
   },
   {
    "duration": 4,
    "start_time": "2024-01-27T16:53:10.582Z"
   },
   {
    "duration": 72,
    "start_time": "2024-01-27T16:53:10.587Z"
   },
   {
    "duration": 8,
    "start_time": "2024-01-27T16:53:10.660Z"
   },
   {
    "duration": 17,
    "start_time": "2024-01-27T16:53:10.669Z"
   },
   {
    "duration": 72,
    "start_time": "2024-01-27T16:53:10.687Z"
   },
   {
    "duration": 641,
    "start_time": "2024-01-27T16:53:10.761Z"
   },
   {
    "duration": 197,
    "start_time": "2024-01-27T16:53:11.403Z"
   },
   {
    "duration": 8,
    "start_time": "2024-01-27T16:53:11.601Z"
   },
   {
    "duration": 50,
    "start_time": "2024-01-27T16:53:11.612Z"
   },
   {
    "duration": 23,
    "start_time": "2024-01-27T16:53:11.663Z"
   },
   {
    "duration": 28,
    "start_time": "2024-01-27T16:53:11.687Z"
   },
   {
    "duration": 2,
    "start_time": "2024-01-27T16:53:11.717Z"
   },
   {
    "duration": 4,
    "start_time": "2024-01-27T16:53:11.720Z"
   },
   {
    "duration": 54,
    "start_time": "2024-01-27T16:53:11.725Z"
   },
   {
    "duration": 8,
    "start_time": "2024-01-27T16:53:11.781Z"
   },
   {
    "duration": 66,
    "start_time": "2024-01-27T16:53:11.792Z"
   },
   {
    "duration": 4,
    "start_time": "2024-01-27T16:53:11.861Z"
   },
   {
    "duration": 10541,
    "start_time": "2024-01-27T16:53:11.867Z"
   },
   {
    "duration": 1588,
    "start_time": "2024-01-27T16:53:22.409Z"
   },
   {
    "duration": 97,
    "start_time": "2024-01-27T16:53:23.999Z"
   },
   {
    "duration": 3,
    "start_time": "2024-01-27T16:53:24.097Z"
   },
   {
    "duration": 11,
    "start_time": "2024-01-27T16:53:24.101Z"
   },
   {
    "duration": 105346,
    "start_time": "2024-01-27T16:53:24.113Z"
   },
   {
    "duration": 2593,
    "start_time": "2024-01-27T16:55:09.461Z"
   },
   {
    "duration": 818,
    "start_time": "2024-01-27T16:55:12.056Z"
   },
   {
    "duration": 77,
    "start_time": "2024-01-27T16:55:12.876Z"
   },
   {
    "duration": 8,
    "start_time": "2024-01-27T16:55:12.955Z"
   },
   {
    "duration": 2,
    "start_time": "2024-01-27T16:58:23.542Z"
   },
   {
    "duration": 34693,
    "start_time": "2024-01-27T16:58:24.060Z"
   },
   {
    "duration": 1572,
    "start_time": "2024-01-27T16:59:12.760Z"
   },
   {
    "duration": 36,
    "start_time": "2024-01-27T16:59:16.042Z"
   },
   {
    "duration": 4,
    "start_time": "2024-01-27T16:59:20.969Z"
   },
   {
    "duration": 13,
    "start_time": "2024-01-27T17:01:10.588Z"
   },
   {
    "duration": 3,
    "start_time": "2024-01-27T17:02:03.969Z"
   },
   {
    "duration": 3,
    "start_time": "2024-01-27T17:02:11.655Z"
   },
   {
    "duration": 4,
    "start_time": "2024-01-27T17:02:17.363Z"
   },
   {
    "duration": 4,
    "start_time": "2024-01-27T17:02:25.021Z"
   },
   {
    "duration": 9,
    "start_time": "2024-01-27T17:03:31.949Z"
   },
   {
    "duration": 3,
    "start_time": "2024-01-27T17:03:52.652Z"
   },
   {
    "duration": 4,
    "start_time": "2024-01-27T17:04:01.076Z"
   },
   {
    "duration": 3,
    "start_time": "2024-01-27T17:04:32.310Z"
   },
   {
    "duration": 7,
    "start_time": "2024-01-27T17:04:40.965Z"
   },
   {
    "duration": 3,
    "start_time": "2024-01-27T17:07:05.890Z"
   },
   {
    "duration": 7,
    "start_time": "2024-01-27T17:07:06.514Z"
   },
   {
    "duration": 4,
    "start_time": "2024-01-27T17:07:38.479Z"
   },
   {
    "duration": 9,
    "start_time": "2024-01-27T17:07:39.095Z"
   },
   {
    "duration": 3,
    "start_time": "2024-01-27T17:09:29.481Z"
   },
   {
    "duration": 5,
    "start_time": "2024-01-27T17:12:29.476Z"
   },
   {
    "duration": 13,
    "start_time": "2024-01-27T17:13:07.191Z"
   },
   {
    "duration": 2,
    "start_time": "2024-01-27T17:14:37.878Z"
   },
   {
    "duration": 9,
    "start_time": "2024-01-27T17:14:37.882Z"
   },
   {
    "duration": 5,
    "start_time": "2024-01-27T17:14:37.893Z"
   },
   {
    "duration": 9,
    "start_time": "2024-01-27T17:14:37.899Z"
   },
   {
    "duration": 4,
    "start_time": "2024-01-27T17:14:37.910Z"
   },
   {
    "duration": 738,
    "start_time": "2024-01-27T17:14:37.915Z"
   },
   {
    "duration": 3,
    "start_time": "2024-01-27T17:14:38.654Z"
   },
   {
    "duration": 706,
    "start_time": "2024-01-27T17:14:38.659Z"
   },
   {
    "duration": 43,
    "start_time": "2024-01-27T17:14:44.747Z"
   },
   {
    "duration": 32,
    "start_time": "2024-01-27T17:16:06.838Z"
   },
   {
    "duration": 11,
    "start_time": "2024-01-27T17:17:43.055Z"
   },
   {
    "duration": 10,
    "start_time": "2024-01-27T17:18:09.360Z"
   },
   {
    "duration": 9,
    "start_time": "2024-01-27T17:19:47.360Z"
   },
   {
    "duration": 13,
    "start_time": "2024-01-27T17:19:52.617Z"
   },
   {
    "duration": 2,
    "start_time": "2024-01-27T17:20:54.709Z"
   },
   {
    "duration": 12,
    "start_time": "2024-01-27T17:20:58.674Z"
   },
   {
    "duration": 5,
    "start_time": "2024-01-27T17:21:06.306Z"
   },
   {
    "duration": 13,
    "start_time": "2024-01-27T17:21:17.181Z"
   },
   {
    "duration": 13,
    "start_time": "2024-01-27T17:21:48.336Z"
   },
   {
    "duration": 69,
    "start_time": "2024-01-27T17:22:40.684Z"
   },
   {
    "duration": 6,
    "start_time": "2024-01-27T17:22:46.177Z"
   },
   {
    "duration": 9,
    "start_time": "2024-01-27T17:22:55.673Z"
   },
   {
    "duration": 30,
    "start_time": "2024-01-27T17:23:12.469Z"
   },
   {
    "duration": 57,
    "start_time": "2024-01-27T17:23:15.642Z"
   },
   {
    "duration": 36,
    "start_time": "2024-01-27T17:24:41.165Z"
   },
   {
    "duration": 60,
    "start_time": "2024-01-27T17:25:26.921Z"
   },
   {
    "duration": 180,
    "start_time": "2024-01-27T17:25:35.865Z"
   },
   {
    "duration": 54,
    "start_time": "2024-01-27T17:25:51.816Z"
   },
   {
    "duration": 403,
    "start_time": "2024-01-27T17:32:59.223Z"
   },
   {
    "duration": 217,
    "start_time": "2024-01-27T17:32:59.628Z"
   },
   {
    "duration": 715,
    "start_time": "2024-01-27T17:32:59.846Z"
   },
   {
    "duration": 66,
    "start_time": "2024-01-27T17:33:00.562Z"
   },
   {
    "duration": 2,
    "start_time": "2024-01-27T17:33:00.631Z"
   },
   {
    "duration": 855,
    "start_time": "2024-01-27T17:33:00.635Z"
   },
   {
    "duration": 3,
    "start_time": "2024-01-27T17:33:01.492Z"
   },
   {
    "duration": 812,
    "start_time": "2024-01-27T17:33:01.497Z"
   },
   {
    "duration": 85,
    "start_time": "2024-01-27T17:33:02.311Z"
   },
   {
    "duration": 48,
    "start_time": "2024-01-27T17:33:02.397Z"
   },
   {
    "duration": 75,
    "start_time": "2024-01-27T17:33:02.446Z"
   },
   {
    "duration": 202,
    "start_time": "2024-01-27T17:33:02.523Z"
   },
   {
    "duration": 133,
    "start_time": "2024-01-27T17:33:02.726Z"
   },
   {
    "duration": 75,
    "start_time": "2024-01-27T17:33:02.862Z"
   },
   {
    "duration": 27,
    "start_time": "2024-01-27T17:33:02.938Z"
   },
   {
    "duration": 59,
    "start_time": "2024-01-27T17:33:02.967Z"
   },
   {
    "duration": 17,
    "start_time": "2024-01-27T17:33:03.028Z"
   },
   {
    "duration": 28,
    "start_time": "2024-01-27T17:33:03.046Z"
   },
   {
    "duration": 54,
    "start_time": "2024-01-27T17:33:03.076Z"
   },
   {
    "duration": 80,
    "start_time": "2024-01-27T17:33:03.132Z"
   },
   {
    "duration": 51,
    "start_time": "2024-01-27T17:33:03.214Z"
   },
   {
    "duration": 15,
    "start_time": "2024-01-27T17:33:03.266Z"
   },
   {
    "duration": 17,
    "start_time": "2024-01-27T17:33:03.282Z"
   },
   {
    "duration": 364,
    "start_time": "2024-01-27T17:33:03.301Z"
   },
   {
    "duration": 16,
    "start_time": "2024-01-27T17:33:03.666Z"
   },
   {
    "duration": 17,
    "start_time": "2024-01-27T17:33:03.683Z"
   },
   {
    "duration": 6,
    "start_time": "2024-01-27T17:33:03.701Z"
   },
   {
    "duration": 45,
    "start_time": "2024-01-27T17:33:03.708Z"
   },
   {
    "duration": 8,
    "start_time": "2024-01-27T17:33:03.754Z"
   },
   {
    "duration": 18,
    "start_time": "2024-01-27T17:33:03.764Z"
   },
   {
    "duration": 7,
    "start_time": "2024-01-27T17:33:03.783Z"
   },
   {
    "duration": 24,
    "start_time": "2024-01-27T17:33:03.791Z"
   },
   {
    "duration": 40,
    "start_time": "2024-01-27T17:33:03.816Z"
   },
   {
    "duration": 11,
    "start_time": "2024-01-27T17:33:03.857Z"
   },
   {
    "duration": 4,
    "start_time": "2024-01-27T17:33:03.869Z"
   },
   {
    "duration": 9,
    "start_time": "2024-01-27T17:33:03.874Z"
   },
   {
    "duration": 122,
    "start_time": "2024-01-27T17:33:03.884Z"
   },
   {
    "duration": 20,
    "start_time": "2024-01-27T17:33:04.007Z"
   },
   {
    "duration": 15,
    "start_time": "2024-01-27T17:33:04.029Z"
   },
   {
    "duration": 81,
    "start_time": "2024-01-27T17:33:04.045Z"
   },
   {
    "duration": 622,
    "start_time": "2024-01-27T17:33:04.131Z"
   },
   {
    "duration": 180,
    "start_time": "2024-01-27T17:33:04.755Z"
   },
   {
    "duration": 8,
    "start_time": "2024-01-27T17:33:04.937Z"
   },
   {
    "duration": 43,
    "start_time": "2024-01-27T17:33:04.946Z"
   },
   {
    "duration": 24,
    "start_time": "2024-01-27T17:33:04.991Z"
   },
   {
    "duration": 50,
    "start_time": "2024-01-27T17:33:05.016Z"
   },
   {
    "duration": 2,
    "start_time": "2024-01-27T17:33:05.068Z"
   },
   {
    "duration": 10,
    "start_time": "2024-01-27T17:33:05.071Z"
   },
   {
    "duration": 39,
    "start_time": "2024-01-27T17:33:05.083Z"
   },
   {
    "duration": 43,
    "start_time": "2024-01-27T17:33:05.125Z"
   },
   {
    "duration": 85,
    "start_time": "2024-01-27T17:33:05.169Z"
   },
   {
    "duration": 5,
    "start_time": "2024-01-27T17:33:05.256Z"
   },
   {
    "duration": 8944,
    "start_time": "2024-01-27T17:33:05.263Z"
   },
   {
    "duration": 1520,
    "start_time": "2024-01-27T17:33:14.209Z"
   },
   {
    "duration": 103,
    "start_time": "2024-01-27T17:33:15.730Z"
   },
   {
    "duration": 2,
    "start_time": "2024-01-27T17:33:15.834Z"
   },
   {
    "duration": 13,
    "start_time": "2024-01-27T17:33:15.838Z"
   },
   {
    "duration": 91514,
    "start_time": "2024-01-27T17:33:15.852Z"
   },
   {
    "duration": 3693,
    "start_time": "2024-01-27T17:34:47.367Z"
   },
   {
    "duration": 802,
    "start_time": "2024-01-27T17:34:51.062Z"
   },
   {
    "duration": 4,
    "start_time": "2024-01-27T17:34:51.865Z"
   },
   {
    "duration": 25,
    "start_time": "2024-01-27T17:34:51.870Z"
   },
   {
    "duration": 27,
    "start_time": "2024-01-27T17:34:51.897Z"
   },
   {
    "duration": 35865,
    "start_time": "2024-01-27T17:34:51.926Z"
   },
   {
    "duration": 1549,
    "start_time": "2024-01-27T17:35:27.792Z"
   },
   {
    "duration": 23,
    "start_time": "2024-01-27T17:35:29.343Z"
   },
   {
    "duration": 5,
    "start_time": "2024-01-27T17:35:29.367Z"
   },
   {
    "duration": 12,
    "start_time": "2024-01-27T17:35:29.374Z"
   },
   {
    "duration": 4,
    "start_time": "2024-01-27T17:35:29.388Z"
   },
   {
    "duration": 22,
    "start_time": "2024-01-27T17:35:29.393Z"
   },
   {
    "duration": 6,
    "start_time": "2024-01-27T17:35:29.416Z"
   },
   {
    "duration": 11,
    "start_time": "2024-01-27T17:35:29.423Z"
   },
   {
    "duration": 3,
    "start_time": "2024-01-27T17:38:05.703Z"
   },
   {
    "duration": 749,
    "start_time": "2024-01-27T17:39:01.247Z"
   },
   {
    "duration": 3,
    "start_time": "2024-01-27T17:39:04.789Z"
   },
   {
    "duration": 699,
    "start_time": "2024-01-27T17:39:05.383Z"
   },
   {
    "duration": 436,
    "start_time": "2024-01-27T17:41:49.425Z"
   },
   {
    "duration": 244,
    "start_time": "2024-01-27T17:41:49.863Z"
   },
   {
    "duration": 708,
    "start_time": "2024-01-27T17:41:50.109Z"
   },
   {
    "duration": 66,
    "start_time": "2024-01-27T17:41:50.819Z"
   },
   {
    "duration": 2,
    "start_time": "2024-01-27T17:41:50.886Z"
   },
   {
    "duration": 798,
    "start_time": "2024-01-27T17:41:50.889Z"
   },
   {
    "duration": 3,
    "start_time": "2024-01-27T17:41:51.688Z"
   },
   {
    "duration": 767,
    "start_time": "2024-01-27T17:41:51.693Z"
   },
   {
    "duration": 116,
    "start_time": "2024-01-27T17:41:52.462Z"
   },
   {
    "duration": 39,
    "start_time": "2024-01-27T17:41:52.581Z"
   },
   {
    "duration": 77,
    "start_time": "2024-01-27T17:41:52.622Z"
   },
   {
    "duration": 207,
    "start_time": "2024-01-27T17:41:52.701Z"
   },
   {
    "duration": 125,
    "start_time": "2024-01-27T17:41:52.909Z"
   },
   {
    "duration": 67,
    "start_time": "2024-01-27T17:41:53.035Z"
   },
   {
    "duration": 16,
    "start_time": "2024-01-27T17:41:53.103Z"
   },
   {
    "duration": 61,
    "start_time": "2024-01-27T17:41:53.120Z"
   },
   {
    "duration": 18,
    "start_time": "2024-01-27T17:41:53.182Z"
   },
   {
    "duration": 27,
    "start_time": "2024-01-27T17:41:53.201Z"
   },
   {
    "duration": 61,
    "start_time": "2024-01-27T17:41:53.229Z"
   },
   {
    "duration": 70,
    "start_time": "2024-01-27T17:41:53.292Z"
   },
   {
    "duration": 46,
    "start_time": "2024-01-27T17:41:53.364Z"
   },
   {
    "duration": 17,
    "start_time": "2024-01-27T17:41:53.411Z"
   },
   {
    "duration": 30,
    "start_time": "2024-01-27T17:41:53.430Z"
   },
   {
    "duration": 372,
    "start_time": "2024-01-27T17:41:53.462Z"
   },
   {
    "duration": 29,
    "start_time": "2024-01-27T17:41:53.835Z"
   },
   {
    "duration": 21,
    "start_time": "2024-01-27T17:41:53.866Z"
   },
   {
    "duration": 6,
    "start_time": "2024-01-27T17:41:53.889Z"
   },
   {
    "duration": 39,
    "start_time": "2024-01-27T17:41:53.898Z"
   },
   {
    "duration": 13,
    "start_time": "2024-01-27T17:41:53.939Z"
   },
   {
    "duration": 84,
    "start_time": "2024-01-27T17:41:53.953Z"
   },
   {
    "duration": 14,
    "start_time": "2024-01-27T17:41:54.039Z"
   },
   {
    "duration": 16,
    "start_time": "2024-01-27T17:41:54.054Z"
   },
   {
    "duration": 18,
    "start_time": "2024-01-27T17:41:54.071Z"
   },
   {
    "duration": 10,
    "start_time": "2024-01-27T17:41:54.090Z"
   },
   {
    "duration": 4,
    "start_time": "2024-01-27T17:41:54.102Z"
   },
   {
    "duration": 3,
    "start_time": "2024-01-27T17:41:54.107Z"
   },
   {
    "duration": 79,
    "start_time": "2024-01-27T17:41:54.111Z"
   },
   {
    "duration": 21,
    "start_time": "2024-01-27T17:41:54.192Z"
   },
   {
    "duration": 4,
    "start_time": "2024-01-27T17:41:54.214Z"
   },
   {
    "duration": 94,
    "start_time": "2024-01-27T17:41:54.219Z"
   },
   {
    "duration": 573,
    "start_time": "2024-01-27T17:41:54.318Z"
   },
   {
    "duration": 182,
    "start_time": "2024-01-27T17:41:54.892Z"
   },
   {
    "duration": 10,
    "start_time": "2024-01-27T17:41:55.076Z"
   },
   {
    "duration": 85,
    "start_time": "2024-01-27T17:41:55.087Z"
   },
   {
    "duration": 26,
    "start_time": "2024-01-27T17:41:55.173Z"
   },
   {
    "duration": 27,
    "start_time": "2024-01-27T17:41:55.201Z"
   },
   {
    "duration": 3,
    "start_time": "2024-01-27T17:41:55.229Z"
   },
   {
    "duration": 2,
    "start_time": "2024-01-27T17:41:55.251Z"
   },
   {
    "duration": 39,
    "start_time": "2024-01-27T17:41:55.254Z"
   },
   {
    "duration": 63,
    "start_time": "2024-01-27T17:41:55.294Z"
   },
   {
    "duration": 93,
    "start_time": "2024-01-27T17:41:55.359Z"
   },
   {
    "duration": 3,
    "start_time": "2024-01-27T17:41:55.454Z"
   },
   {
    "duration": 9429,
    "start_time": "2024-01-27T17:41:55.458Z"
   },
   {
    "duration": 1497,
    "start_time": "2024-01-27T17:42:04.888Z"
   },
   {
    "duration": 108,
    "start_time": "2024-01-27T17:42:06.386Z"
   },
   {
    "duration": 3,
    "start_time": "2024-01-27T17:42:06.496Z"
   },
   {
    "duration": 22,
    "start_time": "2024-01-27T17:42:06.500Z"
   },
   {
    "duration": 131531,
    "start_time": "2024-01-27T17:42:06.523Z"
   },
   {
    "duration": 2712,
    "start_time": "2024-01-27T17:44:18.055Z"
   },
   {
    "duration": 790,
    "start_time": "2024-01-27T17:44:20.769Z"
   },
   {
    "duration": 2,
    "start_time": "2024-01-27T17:44:21.561Z"
   },
   {
    "duration": 24,
    "start_time": "2024-01-27T17:44:21.565Z"
   },
   {
    "duration": 4,
    "start_time": "2024-01-27T17:44:21.590Z"
   },
   {
    "duration": 34090,
    "start_time": "2024-01-27T17:44:21.595Z"
   },
   {
    "duration": 1737,
    "start_time": "2024-01-27T17:44:55.686Z"
   },
   {
    "duration": 31,
    "start_time": "2024-01-27T17:44:57.424Z"
   },
   {
    "duration": 4,
    "start_time": "2024-01-27T17:44:57.457Z"
   },
   {
    "duration": 6,
    "start_time": "2024-01-27T17:44:57.463Z"
   },
   {
    "duration": 12,
    "start_time": "2024-01-27T17:44:57.470Z"
   },
   {
    "duration": 11,
    "start_time": "2024-01-27T17:44:57.483Z"
   },
   {
    "duration": 19,
    "start_time": "2024-01-27T17:44:57.495Z"
   },
   {
    "duration": 16,
    "start_time": "2024-01-27T17:44:57.516Z"
   },
   {
    "duration": 6,
    "start_time": "2024-01-28T14:54:42.463Z"
   },
   {
    "duration": 359,
    "start_time": "2024-01-28T14:55:48.566Z"
   },
   {
    "duration": 94,
    "start_time": "2024-01-28T14:56:36.517Z"
   },
   {
    "duration": 171,
    "start_time": "2024-01-28T14:57:10.149Z"
   },
   {
    "duration": 21414,
    "start_time": "2024-01-28T14:57:24.944Z"
   },
   {
    "duration": 10728,
    "start_time": "2024-01-28T15:00:42.380Z"
   },
   {
    "duration": 89,
    "start_time": "2024-01-28T15:06:02.748Z"
   },
   {
    "duration": 433,
    "start_time": "2024-01-28T15:06:48.307Z"
   },
   {
    "duration": 121,
    "start_time": "2024-01-28T15:07:06.829Z"
   },
   {
    "duration": 402,
    "start_time": "2024-01-28T15:07:23.524Z"
   },
   {
    "duration": 218,
    "start_time": "2024-01-28T15:07:23.927Z"
   },
   {
    "duration": 727,
    "start_time": "2024-01-28T15:07:24.147Z"
   },
   {
    "duration": 68,
    "start_time": "2024-01-28T15:07:24.875Z"
   },
   {
    "duration": 7,
    "start_time": "2024-01-28T15:07:24.945Z"
   },
   {
    "duration": 847,
    "start_time": "2024-01-28T15:07:24.953Z"
   },
   {
    "duration": 3,
    "start_time": "2024-01-28T15:07:25.801Z"
   },
   {
    "duration": 849,
    "start_time": "2024-01-28T15:07:25.806Z"
   },
   {
    "duration": 113,
    "start_time": "2024-01-28T15:07:26.657Z"
   },
   {
    "duration": 38,
    "start_time": "2024-01-28T15:07:26.772Z"
   },
   {
    "duration": 83,
    "start_time": "2024-01-28T15:07:26.812Z"
   },
   {
    "duration": 215,
    "start_time": "2024-01-28T15:07:26.897Z"
   },
   {
    "duration": 154,
    "start_time": "2024-01-28T15:07:27.114Z"
   },
   {
    "duration": 83,
    "start_time": "2024-01-28T15:07:27.273Z"
   },
   {
    "duration": 26,
    "start_time": "2024-01-28T15:07:27.358Z"
   },
   {
    "duration": 75,
    "start_time": "2024-01-28T15:07:27.386Z"
   },
   {
    "duration": 17,
    "start_time": "2024-01-28T15:07:27.462Z"
   },
   {
    "duration": 50,
    "start_time": "2024-01-28T15:07:27.481Z"
   },
   {
    "duration": 59,
    "start_time": "2024-01-28T15:07:27.532Z"
   },
   {
    "duration": 73,
    "start_time": "2024-01-28T15:07:27.593Z"
   },
   {
    "duration": 70,
    "start_time": "2024-01-28T15:07:27.667Z"
   },
   {
    "duration": 17,
    "start_time": "2024-01-28T15:07:27.738Z"
   },
   {
    "duration": 16,
    "start_time": "2024-01-28T15:07:27.757Z"
   },
   {
    "duration": 397,
    "start_time": "2024-01-28T15:07:27.775Z"
   },
   {
    "duration": 17,
    "start_time": "2024-01-28T15:07:28.173Z"
   },
   {
    "duration": 21,
    "start_time": "2024-01-28T15:07:28.192Z"
   },
   {
    "duration": 5,
    "start_time": "2024-01-28T15:07:28.214Z"
   },
   {
    "duration": 45,
    "start_time": "2024-01-28T15:07:28.221Z"
   },
   {
    "duration": 8,
    "start_time": "2024-01-28T15:07:28.268Z"
   },
   {
    "duration": 31,
    "start_time": "2024-01-28T15:07:28.278Z"
   },
   {
    "duration": 8,
    "start_time": "2024-01-28T15:07:28.310Z"
   },
   {
    "duration": 33,
    "start_time": "2024-01-28T15:07:28.319Z"
   },
   {
    "duration": 15,
    "start_time": "2024-01-28T15:07:28.354Z"
   },
   {
    "duration": 20,
    "start_time": "2024-01-28T15:07:28.370Z"
   },
   {
    "duration": 13,
    "start_time": "2024-01-28T15:07:28.391Z"
   },
   {
    "duration": 6,
    "start_time": "2024-01-28T15:07:28.405Z"
   },
   {
    "duration": 135,
    "start_time": "2024-01-28T15:07:28.412Z"
   },
   {
    "duration": 20,
    "start_time": "2024-01-28T15:07:28.549Z"
   },
   {
    "duration": 15,
    "start_time": "2024-01-28T15:07:28.571Z"
   },
   {
    "duration": 85,
    "start_time": "2024-01-28T15:07:28.588Z"
   },
   {
    "duration": 596,
    "start_time": "2024-01-28T15:07:28.677Z"
   },
   {
    "duration": 196,
    "start_time": "2024-01-28T15:07:29.275Z"
   },
   {
    "duration": 454,
    "start_time": "2024-01-28T15:07:29.472Z"
   },
   {
    "duration": 7,
    "start_time": "2024-01-28T15:07:29.928Z"
   },
   {
    "duration": 61,
    "start_time": "2024-01-28T15:07:29.937Z"
   },
   {
    "duration": 25,
    "start_time": "2024-01-28T15:07:30.000Z"
   },
   {
    "duration": 155,
    "start_time": "2024-01-28T15:07:30.026Z"
   },
   {
    "duration": 179,
    "start_time": "2024-01-28T15:07:30.183Z"
   },
   {
    "duration": 3,
    "start_time": "2024-01-28T15:07:30.363Z"
   },
   {
    "duration": 153,
    "start_time": "2024-01-28T15:07:30.367Z"
   },
   {
    "duration": 17338,
    "start_time": "2024-01-28T15:07:30.522Z"
   },
   {
    "duration": 188,
    "start_time": "2024-01-28T15:07:47.866Z"
   },
   {
    "duration": 5,
    "start_time": "2024-01-28T15:07:48.056Z"
   },
   {
    "duration": 92,
    "start_time": "2024-01-28T15:07:48.064Z"
   },
   {
    "duration": 9814,
    "start_time": "2024-01-28T15:07:48.158Z"
   },
   {
    "duration": 1495,
    "start_time": "2024-01-28T15:07:57.974Z"
   },
   {
    "duration": 96,
    "start_time": "2024-01-28T15:07:59.471Z"
   },
   {
    "duration": 2,
    "start_time": "2024-01-28T15:07:59.568Z"
   },
   {
    "duration": 19,
    "start_time": "2024-01-28T15:07:59.572Z"
   },
   {
    "duration": 2832568,
    "start_time": "2024-01-28T15:07:59.592Z"
   },
   {
    "duration": 2491,
    "start_time": "2024-01-28T15:55:12.162Z"
   },
   {
    "duration": 798,
    "start_time": "2024-01-28T15:55:14.654Z"
   },
   {
    "duration": 2,
    "start_time": "2024-01-28T15:55:15.454Z"
   },
   {
    "duration": 9,
    "start_time": "2024-01-28T15:55:15.457Z"
   },
   {
    "duration": 19,
    "start_time": "2024-01-28T15:55:15.467Z"
   },
   {
    "duration": 34256,
    "start_time": "2024-01-28T15:55:15.487Z"
   },
   {
    "duration": 1478,
    "start_time": "2024-01-28T15:55:49.745Z"
   },
   {
    "duration": 30,
    "start_time": "2024-01-28T15:55:51.225Z"
   },
   {
    "duration": 11,
    "start_time": "2024-01-28T15:55:51.257Z"
   },
   {
    "duration": 41,
    "start_time": "2024-01-28T15:55:51.269Z"
   },
   {
    "duration": 43,
    "start_time": "2024-01-28T15:55:51.311Z"
   },
   {
    "duration": 51,
    "start_time": "2024-01-28T15:55:51.356Z"
   },
   {
    "duration": 43,
    "start_time": "2024-01-28T15:55:51.409Z"
   },
   {
    "duration": 22,
    "start_time": "2024-01-28T15:55:51.453Z"
   },
   {
    "duration": 4,
    "start_time": "2024-01-29T10:19:49.493Z"
   },
   {
    "duration": 3,
    "start_time": "2024-01-29T10:20:22.518Z"
   },
   {
    "duration": 129,
    "start_time": "2024-01-29T10:21:07.336Z"
   },
   {
    "duration": 52,
    "start_time": "2024-01-29T10:21:16.185Z"
   },
   {
    "duration": 13,
    "start_time": "2024-01-29T10:21:51.237Z"
   },
   {
    "duration": 3802,
    "start_time": "2024-01-29T10:22:18.337Z"
   },
   {
    "duration": 7,
    "start_time": "2024-01-29T10:23:53.307Z"
   },
   {
    "duration": 7,
    "start_time": "2024-01-29T10:24:44.721Z"
   },
   {
    "duration": 45,
    "start_time": "2024-01-29T10:24:54.906Z"
   },
   {
    "duration": 409,
    "start_time": "2024-01-29T10:24:59.834Z"
   },
   {
    "duration": 252,
    "start_time": "2024-01-29T10:25:00.245Z"
   },
   {
    "duration": 747,
    "start_time": "2024-01-29T10:25:00.499Z"
   },
   {
    "duration": 75,
    "start_time": "2024-01-29T10:25:01.248Z"
   },
   {
    "duration": 27,
    "start_time": "2024-01-29T10:25:01.325Z"
   },
   {
    "duration": 1141,
    "start_time": "2024-01-29T10:25:01.354Z"
   },
   {
    "duration": 4,
    "start_time": "2024-01-29T10:25:02.496Z"
   },
   {
    "duration": 974,
    "start_time": "2024-01-29T10:25:02.501Z"
   },
   {
    "duration": 116,
    "start_time": "2024-01-29T10:25:03.477Z"
   },
   {
    "duration": 41,
    "start_time": "2024-01-29T10:25:03.595Z"
   },
   {
    "duration": 85,
    "start_time": "2024-01-29T10:25:03.637Z"
   },
   {
    "duration": 219,
    "start_time": "2024-01-29T10:25:03.724Z"
   },
   {
    "duration": 139,
    "start_time": "2024-01-29T10:25:03.945Z"
   },
   {
    "duration": 79,
    "start_time": "2024-01-29T10:25:04.088Z"
   },
   {
    "duration": 17,
    "start_time": "2024-01-29T10:25:04.169Z"
   },
   {
    "duration": 65,
    "start_time": "2024-01-29T10:25:04.187Z"
   },
   {
    "duration": 17,
    "start_time": "2024-01-29T10:25:04.253Z"
   },
   {
    "duration": 40,
    "start_time": "2024-01-29T10:25:04.272Z"
   },
   {
    "duration": 57,
    "start_time": "2024-01-29T10:25:04.313Z"
   },
   {
    "duration": 87,
    "start_time": "2024-01-29T10:25:04.372Z"
   },
   {
    "duration": 55,
    "start_time": "2024-01-29T10:25:04.460Z"
   },
   {
    "duration": 18,
    "start_time": "2024-01-29T10:25:04.516Z"
   },
   {
    "duration": 30,
    "start_time": "2024-01-29T10:25:04.535Z"
   },
   {
    "duration": 379,
    "start_time": "2024-01-29T10:25:04.567Z"
   },
   {
    "duration": 18,
    "start_time": "2024-01-29T10:25:04.947Z"
   },
   {
    "duration": 17,
    "start_time": "2024-01-29T10:25:04.966Z"
   },
   {
    "duration": 5,
    "start_time": "2024-01-29T10:25:04.985Z"
   },
   {
    "duration": 25,
    "start_time": "2024-01-29T10:25:04.991Z"
   },
   {
    "duration": 11,
    "start_time": "2024-01-29T10:25:05.017Z"
   },
   {
    "duration": 22,
    "start_time": "2024-01-29T10:25:05.052Z"
   },
   {
    "duration": 8,
    "start_time": "2024-01-29T10:25:05.076Z"
   },
   {
    "duration": 40,
    "start_time": "2024-01-29T10:25:05.086Z"
   },
   {
    "duration": 26,
    "start_time": "2024-01-29T10:25:05.128Z"
   },
   {
    "duration": 13,
    "start_time": "2024-01-29T10:25:05.155Z"
   },
   {
    "duration": 7,
    "start_time": "2024-01-29T10:25:05.169Z"
   },
   {
    "duration": 9,
    "start_time": "2024-01-29T10:25:05.177Z"
   },
   {
    "duration": 115,
    "start_time": "2024-01-29T10:25:05.187Z"
   },
   {
    "duration": 22,
    "start_time": "2024-01-29T10:25:05.303Z"
   },
   {
    "duration": 3,
    "start_time": "2024-01-29T10:25:05.326Z"
   },
   {
    "duration": 88,
    "start_time": "2024-01-29T10:25:05.330Z"
   },
   {
    "duration": 648,
    "start_time": "2024-01-29T10:25:05.421Z"
   },
   {
    "duration": 193,
    "start_time": "2024-01-29T10:25:06.070Z"
   },
   {
    "duration": 51,
    "start_time": "2024-01-29T10:25:06.265Z"
   },
   {
    "duration": 5,
    "start_time": "2024-01-29T10:25:06.317Z"
   },
   {
    "duration": 1019,
    "start_time": "2024-01-29T10:25:10.719Z"
   },
   {
    "duration": 399,
    "start_time": "2024-01-29T10:27:59.147Z"
   },
   {
    "duration": 230,
    "start_time": "2024-01-29T10:27:59.548Z"
   },
   {
    "duration": 710,
    "start_time": "2024-01-29T10:27:59.779Z"
   },
   {
    "duration": 70,
    "start_time": "2024-01-29T10:28:00.490Z"
   },
   {
    "duration": 2,
    "start_time": "2024-01-29T10:28:00.562Z"
   },
   {
    "duration": 1140,
    "start_time": "2024-01-29T10:28:00.566Z"
   },
   {
    "duration": 3,
    "start_time": "2024-01-29T10:28:01.708Z"
   },
   {
    "duration": 821,
    "start_time": "2024-01-29T10:28:01.712Z"
   },
   {
    "duration": 106,
    "start_time": "2024-01-29T10:28:02.535Z"
   },
   {
    "duration": 45,
    "start_time": "2024-01-29T10:28:02.643Z"
   },
   {
    "duration": 82,
    "start_time": "2024-01-29T10:28:02.690Z"
   },
   {
    "duration": 216,
    "start_time": "2024-01-29T10:28:02.774Z"
   },
   {
    "duration": 151,
    "start_time": "2024-01-29T10:28:02.991Z"
   },
   {
    "duration": 79,
    "start_time": "2024-01-29T10:28:03.145Z"
   },
   {
    "duration": 36,
    "start_time": "2024-01-29T10:28:03.225Z"
   },
   {
    "duration": 77,
    "start_time": "2024-01-29T10:28:03.262Z"
   },
   {
    "duration": 24,
    "start_time": "2024-01-29T10:28:03.341Z"
   },
   {
    "duration": 52,
    "start_time": "2024-01-29T10:28:03.367Z"
   },
   {
    "duration": 48,
    "start_time": "2024-01-29T10:28:03.421Z"
   },
   {
    "duration": 74,
    "start_time": "2024-01-29T10:28:03.470Z"
   },
   {
    "duration": 69,
    "start_time": "2024-01-29T10:28:03.551Z"
   },
   {
    "duration": 58,
    "start_time": "2024-01-29T10:28:03.622Z"
   },
   {
    "duration": 18,
    "start_time": "2024-01-29T10:28:03.681Z"
   },
   {
    "duration": 366,
    "start_time": "2024-01-29T10:28:03.700Z"
   },
   {
    "duration": 16,
    "start_time": "2024-01-29T10:28:04.068Z"
   },
   {
    "duration": 19,
    "start_time": "2024-01-29T10:28:04.085Z"
   },
   {
    "duration": 5,
    "start_time": "2024-01-29T10:28:04.105Z"
   },
   {
    "duration": 42,
    "start_time": "2024-01-29T10:28:04.112Z"
   },
   {
    "duration": 8,
    "start_time": "2024-01-29T10:28:04.155Z"
   },
   {
    "duration": 29,
    "start_time": "2024-01-29T10:28:04.165Z"
   },
   {
    "duration": 8,
    "start_time": "2024-01-29T10:28:04.195Z"
   },
   {
    "duration": 29,
    "start_time": "2024-01-29T10:28:04.204Z"
   },
   {
    "duration": 24,
    "start_time": "2024-01-29T10:28:04.235Z"
   },
   {
    "duration": 27,
    "start_time": "2024-01-29T10:28:04.260Z"
   },
   {
    "duration": 5,
    "start_time": "2024-01-29T10:28:04.288Z"
   },
   {
    "duration": 12,
    "start_time": "2024-01-29T10:28:04.294Z"
   },
   {
    "duration": 118,
    "start_time": "2024-01-29T10:28:04.307Z"
   },
   {
    "duration": 28,
    "start_time": "2024-01-29T10:28:04.427Z"
   },
   {
    "duration": 2,
    "start_time": "2024-01-29T10:28:04.457Z"
   },
   {
    "duration": 74,
    "start_time": "2024-01-29T10:28:04.461Z"
   },
   {
    "duration": 596,
    "start_time": "2024-01-29T10:28:04.538Z"
   },
   {
    "duration": 191,
    "start_time": "2024-01-29T10:28:05.135Z"
   },
   {
    "duration": 56,
    "start_time": "2024-01-29T10:28:05.327Z"
   },
   {
    "duration": 7,
    "start_time": "2024-01-29T10:28:05.384Z"
   },
   {
    "duration": 49,
    "start_time": "2024-01-29T10:28:17.168Z"
   },
   {
    "duration": 386,
    "start_time": "2024-01-29T10:28:22.868Z"
   },
   {
    "duration": 297,
    "start_time": "2024-01-29T10:28:23.255Z"
   },
   {
    "duration": 688,
    "start_time": "2024-01-29T10:28:23.553Z"
   },
   {
    "duration": 73,
    "start_time": "2024-01-29T10:28:24.243Z"
   },
   {
    "duration": 3,
    "start_time": "2024-01-29T10:28:24.318Z"
   },
   {
    "duration": 1048,
    "start_time": "2024-01-29T10:28:24.322Z"
   },
   {
    "duration": 4,
    "start_time": "2024-01-29T10:28:25.372Z"
   },
   {
    "duration": 775,
    "start_time": "2024-01-29T10:28:25.377Z"
   },
   {
    "duration": 117,
    "start_time": "2024-01-29T10:28:26.154Z"
   },
   {
    "duration": 39,
    "start_time": "2024-01-29T10:28:26.272Z"
   },
   {
    "duration": 77,
    "start_time": "2024-01-29T10:28:26.313Z"
   },
   {
    "duration": 213,
    "start_time": "2024-01-29T10:28:26.391Z"
   },
   {
    "duration": 137,
    "start_time": "2024-01-29T10:28:26.606Z"
   },
   {
    "duration": 59,
    "start_time": "2024-01-29T10:28:26.751Z"
   },
   {
    "duration": 22,
    "start_time": "2024-01-29T10:28:26.812Z"
   },
   {
    "duration": 65,
    "start_time": "2024-01-29T10:28:26.836Z"
   },
   {
    "duration": 18,
    "start_time": "2024-01-29T10:28:26.902Z"
   },
   {
    "duration": 87,
    "start_time": "2024-01-29T10:28:26.921Z"
   },
   {
    "duration": 71,
    "start_time": "2024-01-29T10:28:27.009Z"
   },
   {
    "duration": 97,
    "start_time": "2024-01-29T10:28:27.082Z"
   },
   {
    "duration": 43,
    "start_time": "2024-01-29T10:28:27.181Z"
   },
   {
    "duration": 38,
    "start_time": "2024-01-29T10:28:27.225Z"
   },
   {
    "duration": 21,
    "start_time": "2024-01-29T10:28:27.265Z"
   },
   {
    "duration": 380,
    "start_time": "2024-01-29T10:28:27.288Z"
   },
   {
    "duration": 16,
    "start_time": "2024-01-29T10:28:27.669Z"
   },
   {
    "duration": 18,
    "start_time": "2024-01-29T10:28:27.686Z"
   },
   {
    "duration": 9,
    "start_time": "2024-01-29T10:28:27.705Z"
   },
   {
    "duration": 41,
    "start_time": "2024-01-29T10:28:27.715Z"
   },
   {
    "duration": 9,
    "start_time": "2024-01-29T10:28:27.757Z"
   },
   {
    "duration": 39,
    "start_time": "2024-01-29T10:28:27.767Z"
   },
   {
    "duration": 8,
    "start_time": "2024-01-29T10:28:27.807Z"
   },
   {
    "duration": 17,
    "start_time": "2024-01-29T10:28:27.816Z"
   },
   {
    "duration": 27,
    "start_time": "2024-01-29T10:28:27.835Z"
   },
   {
    "duration": 11,
    "start_time": "2024-01-29T10:28:27.863Z"
   },
   {
    "duration": 9,
    "start_time": "2024-01-29T10:28:27.876Z"
   },
   {
    "duration": 17,
    "start_time": "2024-01-29T10:28:27.886Z"
   },
   {
    "duration": 139,
    "start_time": "2024-01-29T10:28:27.905Z"
   },
   {
    "duration": 25,
    "start_time": "2024-01-29T10:28:28.045Z"
   },
   {
    "duration": 9,
    "start_time": "2024-01-29T10:28:28.071Z"
   },
   {
    "duration": 96,
    "start_time": "2024-01-29T10:28:28.081Z"
   },
   {
    "duration": 597,
    "start_time": "2024-01-29T10:28:28.180Z"
   },
   {
    "duration": 182,
    "start_time": "2024-01-29T10:28:28.779Z"
   },
   {
    "duration": 50,
    "start_time": "2024-01-29T10:28:28.962Z"
   },
   {
    "duration": 6,
    "start_time": "2024-01-29T10:28:29.014Z"
   },
   {
    "duration": 51,
    "start_time": "2024-01-29T10:29:58.763Z"
   },
   {
    "duration": 391,
    "start_time": "2024-01-29T10:30:02.798Z"
   },
   {
    "duration": 317,
    "start_time": "2024-01-29T10:30:03.191Z"
   },
   {
    "duration": 759,
    "start_time": "2024-01-29T10:30:03.509Z"
   },
   {
    "duration": 68,
    "start_time": "2024-01-29T10:30:04.270Z"
   },
   {
    "duration": 2,
    "start_time": "2024-01-29T10:30:04.340Z"
   },
   {
    "duration": 1095,
    "start_time": "2024-01-29T10:30:04.344Z"
   },
   {
    "duration": 3,
    "start_time": "2024-01-29T10:30:05.441Z"
   },
   {
    "duration": 841,
    "start_time": "2024-01-29T10:30:05.445Z"
   },
   {
    "duration": 90,
    "start_time": "2024-01-29T10:30:06.288Z"
   },
   {
    "duration": 38,
    "start_time": "2024-01-29T10:30:06.380Z"
   },
   {
    "duration": 89,
    "start_time": "2024-01-29T10:30:06.420Z"
   },
   {
    "duration": 205,
    "start_time": "2024-01-29T10:30:06.511Z"
   },
   {
    "duration": 138,
    "start_time": "2024-01-29T10:30:06.717Z"
   },
   {
    "duration": 61,
    "start_time": "2024-01-29T10:30:06.857Z"
   },
   {
    "duration": 33,
    "start_time": "2024-01-29T10:30:06.919Z"
   },
   {
    "duration": 42,
    "start_time": "2024-01-29T10:30:06.953Z"
   },
   {
    "duration": 16,
    "start_time": "2024-01-29T10:30:06.997Z"
   },
   {
    "duration": 44,
    "start_time": "2024-01-29T10:30:07.014Z"
   },
   {
    "duration": 55,
    "start_time": "2024-01-29T10:30:07.059Z"
   },
   {
    "duration": 76,
    "start_time": "2024-01-29T10:30:07.116Z"
   },
   {
    "duration": 58,
    "start_time": "2024-01-29T10:30:07.194Z"
   },
   {
    "duration": 18,
    "start_time": "2024-01-29T10:30:07.253Z"
   },
   {
    "duration": 17,
    "start_time": "2024-01-29T10:30:07.273Z"
   },
   {
    "duration": 449,
    "start_time": "2024-01-29T10:30:07.292Z"
   },
   {
    "duration": 21,
    "start_time": "2024-01-29T10:30:07.742Z"
   },
   {
    "duration": 18,
    "start_time": "2024-01-29T10:30:07.764Z"
   },
   {
    "duration": 5,
    "start_time": "2024-01-29T10:30:07.784Z"
   },
   {
    "duration": 18,
    "start_time": "2024-01-29T10:30:07.791Z"
   },
   {
    "duration": 8,
    "start_time": "2024-01-29T10:30:07.810Z"
   },
   {
    "duration": 49,
    "start_time": "2024-01-29T10:30:07.819Z"
   },
   {
    "duration": 8,
    "start_time": "2024-01-29T10:30:07.870Z"
   },
   {
    "duration": 20,
    "start_time": "2024-01-29T10:30:07.879Z"
   },
   {
    "duration": 17,
    "start_time": "2024-01-29T10:30:07.900Z"
   },
   {
    "duration": 34,
    "start_time": "2024-01-29T10:30:07.918Z"
   },
   {
    "duration": 5,
    "start_time": "2024-01-29T10:30:07.953Z"
   },
   {
    "duration": 6,
    "start_time": "2024-01-29T10:30:07.959Z"
   },
   {
    "duration": 109,
    "start_time": "2024-01-29T10:30:07.967Z"
   },
   {
    "duration": 21,
    "start_time": "2024-01-29T10:30:08.077Z"
   },
   {
    "duration": 2,
    "start_time": "2024-01-29T10:30:08.099Z"
   },
   {
    "duration": 82,
    "start_time": "2024-01-29T10:30:08.103Z"
   },
   {
    "duration": 594,
    "start_time": "2024-01-29T10:30:08.188Z"
   },
   {
    "duration": 194,
    "start_time": "2024-01-29T10:30:08.784Z"
   },
   {
    "duration": 54,
    "start_time": "2024-01-29T10:30:08.979Z"
   },
   {
    "duration": 6,
    "start_time": "2024-01-29T10:30:09.034Z"
   },
   {
    "duration": 3483,
    "start_time": "2024-01-29T10:30:18.229Z"
   },
   {
    "duration": 103,
    "start_time": "2024-01-29T10:32:51.747Z"
   },
   {
    "duration": 77,
    "start_time": "2024-01-29T10:32:57.693Z"
   },
   {
    "duration": 2153,
    "start_time": "2024-01-29T10:33:35.606Z"
   },
   {
    "duration": 3,
    "start_time": "2024-01-29T10:36:33.679Z"
   },
   {
    "duration": 8,
    "start_time": "2024-01-29T10:36:37.689Z"
   },
   {
    "duration": 52,
    "start_time": "2024-01-29T10:36:58.850Z"
   },
   {
    "duration": 6,
    "start_time": "2024-01-29T10:37:23.784Z"
   },
   {
    "duration": 252,
    "start_time": "2024-01-29T10:38:34.100Z"
   },
   {
    "duration": 22,
    "start_time": "2024-01-29T10:38:55.614Z"
   },
   {
    "duration": 57,
    "start_time": "2024-01-29T10:39:14.171Z"
   },
   {
    "duration": 247,
    "start_time": "2024-01-29T10:39:16.180Z"
   },
   {
    "duration": 254,
    "start_time": "2024-01-29T10:39:37.938Z"
   },
   {
    "duration": 268,
    "start_time": "2024-01-29T10:39:55.778Z"
   },
   {
    "duration": 43,
    "start_time": "2024-01-29T10:42:02.021Z"
   },
   {
    "duration": 393,
    "start_time": "2024-01-29T10:42:07.254Z"
   },
   {
    "duration": 222,
    "start_time": "2024-01-29T10:42:07.650Z"
   },
   {
    "duration": 661,
    "start_time": "2024-01-29T10:42:07.874Z"
   },
   {
    "duration": 2048,
    "start_time": "2024-01-29T10:42:08.537Z"
   },
   {
    "duration": 72,
    "start_time": "2024-01-29T10:42:10.587Z"
   },
   {
    "duration": 2,
    "start_time": "2024-01-29T10:42:10.661Z"
   },
   {
    "duration": 1071,
    "start_time": "2024-01-29T10:42:10.665Z"
   },
   {
    "duration": 3,
    "start_time": "2024-01-29T10:42:11.737Z"
   },
   {
    "duration": 813,
    "start_time": "2024-01-29T10:42:11.741Z"
   },
   {
    "duration": 119,
    "start_time": "2024-01-29T10:42:12.556Z"
   },
   {
    "duration": 41,
    "start_time": "2024-01-29T10:42:12.677Z"
   },
   {
    "duration": 97,
    "start_time": "2024-01-29T10:42:12.719Z"
   },
   {
    "duration": 209,
    "start_time": "2024-01-29T10:42:12.818Z"
   },
   {
    "duration": 142,
    "start_time": "2024-01-29T10:42:13.029Z"
   },
   {
    "duration": 63,
    "start_time": "2024-01-29T10:42:13.172Z"
   },
   {
    "duration": 17,
    "start_time": "2024-01-29T10:42:13.252Z"
   },
   {
    "duration": 54,
    "start_time": "2024-01-29T10:42:13.271Z"
   },
   {
    "duration": 27,
    "start_time": "2024-01-29T10:42:13.326Z"
   },
   {
    "duration": 27,
    "start_time": "2024-01-29T10:42:13.355Z"
   },
   {
    "duration": 48,
    "start_time": "2024-01-29T10:42:13.384Z"
   },
   {
    "duration": 83,
    "start_time": "2024-01-29T10:42:13.434Z"
   },
   {
    "duration": 54,
    "start_time": "2024-01-29T10:42:13.518Z"
   },
   {
    "duration": 16,
    "start_time": "2024-01-29T10:42:13.573Z"
   },
   {
    "duration": 21,
    "start_time": "2024-01-29T10:42:13.590Z"
   },
   {
    "duration": 396,
    "start_time": "2024-01-29T10:42:13.613Z"
   },
   {
    "duration": 17,
    "start_time": "2024-01-29T10:42:14.010Z"
   },
   {
    "duration": 33,
    "start_time": "2024-01-29T10:42:14.029Z"
   },
   {
    "duration": 6,
    "start_time": "2024-01-29T10:42:14.066Z"
   },
   {
    "duration": 21,
    "start_time": "2024-01-29T10:42:14.073Z"
   },
   {
    "duration": 9,
    "start_time": "2024-01-29T10:42:14.095Z"
   },
   {
    "duration": 17,
    "start_time": "2024-01-29T10:42:14.105Z"
   },
   {
    "duration": 33,
    "start_time": "2024-01-29T10:42:14.124Z"
   },
   {
    "duration": 21,
    "start_time": "2024-01-29T10:42:14.159Z"
   },
   {
    "duration": 15,
    "start_time": "2024-01-29T10:42:14.182Z"
   },
   {
    "duration": 9,
    "start_time": "2024-01-29T10:42:14.199Z"
   },
   {
    "duration": 20,
    "start_time": "2024-01-29T10:42:14.209Z"
   },
   {
    "duration": 12,
    "start_time": "2024-01-29T10:42:14.230Z"
   },
   {
    "duration": 46,
    "start_time": "2024-01-29T10:42:14.244Z"
   },
   {
    "duration": 22,
    "start_time": "2024-01-29T10:42:14.292Z"
   },
   {
    "duration": 15,
    "start_time": "2024-01-29T10:42:14.315Z"
   },
   {
    "duration": 151,
    "start_time": "2024-01-29T10:42:14.331Z"
   },
   {
    "duration": 603,
    "start_time": "2024-01-29T10:42:14.483Z"
   },
   {
    "duration": 197,
    "start_time": "2024-01-29T10:42:15.088Z"
   },
   {
    "duration": 3,
    "start_time": "2024-01-29T10:42:15.287Z"
   },
   {
    "duration": 56,
    "start_time": "2024-01-29T10:42:15.291Z"
   },
   {
    "duration": 74,
    "start_time": "2024-01-29T10:43:38.092Z"
   },
   {
    "duration": 8,
    "start_time": "2024-01-29T10:44:05.216Z"
   },
   {
    "duration": 4,
    "start_time": "2024-01-29T10:45:50.574Z"
   },
   {
    "duration": 2,
    "start_time": "2024-01-29T10:49:17.223Z"
   },
   {
    "duration": 8,
    "start_time": "2024-01-29T10:49:20.393Z"
   },
   {
    "duration": 59,
    "start_time": "2024-01-29T10:51:10.941Z"
   },
   {
    "duration": 53,
    "start_time": "2024-01-29T10:51:18.249Z"
   },
   {
    "duration": 70,
    "start_time": "2024-01-29T10:51:19.168Z"
   },
   {
    "duration": 63,
    "start_time": "2024-01-29T10:51:44.049Z"
   },
   {
    "duration": 2065,
    "start_time": "2024-01-29T10:56:55.427Z"
   },
   {
    "duration": 26,
    "start_time": "2024-01-29T10:59:50.894Z"
   },
   {
    "duration": 23,
    "start_time": "2024-01-29T11:00:10.853Z"
   },
   {
    "duration": 177,
    "start_time": "2024-01-29T11:00:45.583Z"
   },
   {
    "duration": 47,
    "start_time": "2024-01-29T11:02:30.438Z"
   },
   {
    "duration": 377,
    "start_time": "2024-01-29T11:03:03.971Z"
   },
   {
    "duration": 230,
    "start_time": "2024-01-29T11:03:04.350Z"
   },
   {
    "duration": 679,
    "start_time": "2024-01-29T11:03:04.581Z"
   },
   {
    "duration": 2003,
    "start_time": "2024-01-29T11:03:05.262Z"
   },
   {
    "duration": 82,
    "start_time": "2024-01-29T11:03:07.267Z"
   },
   {
    "duration": 3,
    "start_time": "2024-01-29T11:03:07.350Z"
   },
   {
    "duration": 1065,
    "start_time": "2024-01-29T11:03:07.355Z"
   },
   {
    "duration": 3,
    "start_time": "2024-01-29T11:03:08.421Z"
   },
   {
    "duration": 782,
    "start_time": "2024-01-29T11:03:08.426Z"
   },
   {
    "duration": 84,
    "start_time": "2024-01-29T11:03:09.210Z"
   },
   {
    "duration": 57,
    "start_time": "2024-01-29T11:03:09.296Z"
   },
   {
    "duration": 71,
    "start_time": "2024-01-29T11:03:09.355Z"
   },
   {
    "duration": 225,
    "start_time": "2024-01-29T11:03:09.427Z"
   },
   {
    "duration": 141,
    "start_time": "2024-01-29T11:03:09.654Z"
   },
   {
    "duration": 62,
    "start_time": "2024-01-29T11:03:09.797Z"
   },
   {
    "duration": 22,
    "start_time": "2024-01-29T11:03:09.860Z"
   },
   {
    "duration": 58,
    "start_time": "2024-01-29T11:03:09.883Z"
   },
   {
    "duration": 17,
    "start_time": "2024-01-29T11:03:09.943Z"
   },
   {
    "duration": 80,
    "start_time": "2024-01-29T11:03:09.962Z"
   },
   {
    "duration": 77,
    "start_time": "2024-01-29T11:03:10.043Z"
   },
   {
    "duration": 72,
    "start_time": "2024-01-29T11:03:10.122Z"
   },
   {
    "duration": 62,
    "start_time": "2024-01-29T11:03:10.196Z"
   },
   {
    "duration": 18,
    "start_time": "2024-01-29T11:03:10.259Z"
   },
   {
    "duration": 29,
    "start_time": "2024-01-29T11:03:10.279Z"
   },
   {
    "duration": 385,
    "start_time": "2024-01-29T11:03:10.310Z"
   },
   {
    "duration": 18,
    "start_time": "2024-01-29T11:03:10.697Z"
   },
   {
    "duration": 17,
    "start_time": "2024-01-29T11:03:10.716Z"
   },
   {
    "duration": 6,
    "start_time": "2024-01-29T11:03:10.754Z"
   },
   {
    "duration": 41,
    "start_time": "2024-01-29T11:03:10.761Z"
   },
   {
    "duration": 45,
    "start_time": "2024-01-29T11:03:10.803Z"
   },
   {
    "duration": 18,
    "start_time": "2024-01-29T11:03:10.849Z"
   },
   {
    "duration": 25,
    "start_time": "2024-01-29T11:03:10.869Z"
   },
   {
    "duration": 26,
    "start_time": "2024-01-29T11:03:10.896Z"
   },
   {
    "duration": 15,
    "start_time": "2024-01-29T11:03:10.924Z"
   },
   {
    "duration": 27,
    "start_time": "2024-01-29T11:03:10.940Z"
   },
   {
    "duration": 9,
    "start_time": "2024-01-29T11:03:10.968Z"
   },
   {
    "duration": 3,
    "start_time": "2024-01-29T11:03:10.978Z"
   },
   {
    "duration": 44,
    "start_time": "2024-01-29T11:03:10.984Z"
   },
   {
    "duration": 22,
    "start_time": "2024-01-29T11:03:11.030Z"
   },
   {
    "duration": 2,
    "start_time": "2024-01-29T11:03:11.053Z"
   },
   {
    "duration": 168,
    "start_time": "2024-01-29T11:03:11.057Z"
   },
   {
    "duration": 639,
    "start_time": "2024-01-29T11:03:11.226Z"
   },
   {
    "duration": 185,
    "start_time": "2024-01-29T11:03:11.867Z"
   },
   {
    "duration": 4,
    "start_time": "2024-01-29T11:03:12.054Z"
   },
   {
    "duration": 23,
    "start_time": "2024-01-29T11:03:12.059Z"
   },
   {
    "duration": 12,
    "start_time": "2024-01-29T11:03:12.083Z"
   },
   {
    "duration": 68,
    "start_time": "2024-01-29T11:03:12.096Z"
   },
   {
    "duration": 2264,
    "start_time": "2024-01-29T11:03:12.165Z"
   },
   {
    "duration": 2168,
    "start_time": "2024-01-29T11:04:16.927Z"
   },
   {
    "duration": 26,
    "start_time": "2024-01-29T11:04:30.694Z"
   },
   {
    "duration": 10,
    "start_time": "2024-01-29T11:04:46.590Z"
   },
   {
    "duration": 1074,
    "start_time": "2024-01-29T11:11:54.001Z"
   },
   {
    "duration": 20,
    "start_time": "2024-01-29T11:11:59.747Z"
   },
   {
    "duration": 1258,
    "start_time": "2024-01-29T11:12:00.326Z"
   },
   {
    "duration": 2833,
    "start_time": "2024-01-29T11:12:12.782Z"
   },
   {
    "duration": 24,
    "start_time": "2024-01-29T11:12:17.528Z"
   },
   {
    "duration": 14,
    "start_time": "2024-01-29T11:12:36.082Z"
   },
   {
    "duration": 23,
    "start_time": "2024-01-29T11:12:39.453Z"
   },
   {
    "duration": 9,
    "start_time": "2024-01-29T11:12:40.044Z"
   },
   {
    "duration": 2,
    "start_time": "2024-01-29T11:12:44.747Z"
   },
   {
    "duration": 15,
    "start_time": "2024-01-29T11:12:44.751Z"
   },
   {
    "duration": 25,
    "start_time": "2024-01-29T11:12:44.768Z"
   },
   {
    "duration": 2211,
    "start_time": "2024-01-29T11:12:44.794Z"
   },
   {
    "duration": 3,
    "start_time": "2024-01-29T11:12:47.007Z"
   },
   {
    "duration": 14,
    "start_time": "2024-01-29T11:12:47.011Z"
   },
   {
    "duration": 845,
    "start_time": "2024-01-29T11:12:47.026Z"
   },
   {
    "duration": 3,
    "start_time": "2024-01-29T11:12:47.873Z"
   },
   {
    "duration": 761,
    "start_time": "2024-01-29T11:12:47.877Z"
   },
   {
    "duration": 83,
    "start_time": "2024-01-29T11:12:48.639Z"
   },
   {
    "duration": 49,
    "start_time": "2024-01-29T11:12:48.723Z"
   },
   {
    "duration": 59,
    "start_time": "2024-01-29T11:12:48.773Z"
   },
   {
    "duration": 215,
    "start_time": "2024-01-29T11:12:48.833Z"
   },
   {
    "duration": 164,
    "start_time": "2024-01-29T11:12:49.051Z"
   },
   {
    "duration": 73,
    "start_time": "2024-01-29T11:12:49.216Z"
   },
   {
    "duration": 18,
    "start_time": "2024-01-29T11:12:49.291Z"
   },
   {
    "duration": 84,
    "start_time": "2024-01-29T11:12:49.311Z"
   },
   {
    "duration": 18,
    "start_time": "2024-01-29T11:12:49.396Z"
   },
   {
    "duration": 39,
    "start_time": "2024-01-29T11:12:49.415Z"
   },
   {
    "duration": 49,
    "start_time": "2024-01-29T11:12:49.456Z"
   },
   {
    "duration": 90,
    "start_time": "2024-01-29T11:12:49.507Z"
   },
   {
    "duration": 63,
    "start_time": "2024-01-29T11:12:49.599Z"
   },
   {
    "duration": 104,
    "start_time": "2024-01-29T11:12:49.664Z"
   },
   {
    "duration": 124,
    "start_time": "2024-01-29T11:12:49.770Z"
   },
   {
    "duration": 367,
    "start_time": "2024-01-29T11:12:49.896Z"
   },
   {
    "duration": 16,
    "start_time": "2024-01-29T11:12:50.266Z"
   },
   {
    "duration": 38,
    "start_time": "2024-01-29T11:12:50.284Z"
   },
   {
    "duration": 15,
    "start_time": "2024-01-29T11:12:50.324Z"
   },
   {
    "duration": 22,
    "start_time": "2024-01-29T11:12:50.340Z"
   },
   {
    "duration": 9,
    "start_time": "2024-01-29T11:12:50.364Z"
   },
   {
    "duration": 35,
    "start_time": "2024-01-29T11:12:50.374Z"
   },
   {
    "duration": 8,
    "start_time": "2024-01-29T11:12:50.411Z"
   },
   {
    "duration": 31,
    "start_time": "2024-01-29T11:12:50.421Z"
   },
   {
    "duration": 19,
    "start_time": "2024-01-29T11:12:50.454Z"
   },
   {
    "duration": 15,
    "start_time": "2024-01-29T11:12:50.475Z"
   },
   {
    "duration": 20,
    "start_time": "2024-01-29T11:12:50.492Z"
   },
   {
    "duration": 16,
    "start_time": "2024-01-29T11:12:50.513Z"
   },
   {
    "duration": 45,
    "start_time": "2024-01-29T11:12:50.531Z"
   },
   {
    "duration": 9,
    "start_time": "2024-01-29T11:12:50.578Z"
   },
   {
    "duration": 2,
    "start_time": "2024-01-29T11:12:50.589Z"
   },
   {
    "duration": 80,
    "start_time": "2024-01-29T11:12:50.594Z"
   },
   {
    "duration": 623,
    "start_time": "2024-01-29T11:12:50.675Z"
   },
   {
    "duration": 176,
    "start_time": "2024-01-29T11:12:51.299Z"
   },
   {
    "duration": 3,
    "start_time": "2024-01-29T11:12:51.476Z"
   },
   {
    "duration": 10,
    "start_time": "2024-01-29T11:12:51.481Z"
   },
   {
    "duration": 2940,
    "start_time": "2024-01-29T11:12:51.492Z"
   },
   {
    "duration": 36,
    "start_time": "2024-01-29T11:12:54.434Z"
   },
   {
    "duration": 23,
    "start_time": "2024-01-29T11:13:33.258Z"
   },
   {
    "duration": 60,
    "start_time": "2024-01-29T11:14:34.475Z"
   },
   {
    "duration": 52,
    "start_time": "2024-01-29T11:14:54.722Z"
   },
   {
    "duration": 36,
    "start_time": "2024-01-29T11:15:08.876Z"
   },
   {
    "duration": 22,
    "start_time": "2024-01-29T11:15:09.424Z"
   },
   {
    "duration": 23,
    "start_time": "2024-01-29T11:15:10.335Z"
   },
   {
    "duration": 2133,
    "start_time": "2024-01-29T11:20:05.965Z"
   },
   {
    "duration": 14,
    "start_time": "2024-01-29T11:22:34.099Z"
   },
   {
    "duration": 4,
    "start_time": "2024-01-29T11:23:06.029Z"
   },
   {
    "duration": 9,
    "start_time": "2024-01-29T11:23:10.035Z"
   },
   {
    "duration": 87,
    "start_time": "2024-01-29T11:23:17.367Z"
   },
   {
    "duration": 7,
    "start_time": "2024-01-29T11:23:33.719Z"
   },
   {
    "duration": 117,
    "start_time": "2024-01-29T11:23:34.273Z"
   },
   {
    "duration": 412,
    "start_time": "2024-01-29T11:23:53.327Z"
   },
   {
    "duration": 253,
    "start_time": "2024-01-29T11:23:53.741Z"
   },
   {
    "duration": 735,
    "start_time": "2024-01-29T11:23:53.996Z"
   },
   {
    "duration": 70,
    "start_time": "2024-01-29T11:23:54.732Z"
   },
   {
    "duration": 2,
    "start_time": "2024-01-29T11:23:54.804Z"
   },
   {
    "duration": 1061,
    "start_time": "2024-01-29T11:23:54.807Z"
   },
   {
    "duration": 3,
    "start_time": "2024-01-29T11:23:55.869Z"
   },
   {
    "duration": 836,
    "start_time": "2024-01-29T11:23:55.874Z"
   },
   {
    "duration": 112,
    "start_time": "2024-01-29T11:23:56.711Z"
   },
   {
    "duration": 50,
    "start_time": "2024-01-29T11:23:56.824Z"
   },
   {
    "duration": 78,
    "start_time": "2024-01-29T11:23:56.875Z"
   },
   {
    "duration": 211,
    "start_time": "2024-01-29T11:23:56.955Z"
   },
   {
    "duration": 142,
    "start_time": "2024-01-29T11:23:57.167Z"
   },
   {
    "duration": 77,
    "start_time": "2024-01-29T11:23:57.311Z"
   },
   {
    "duration": 17,
    "start_time": "2024-01-29T11:23:57.389Z"
   },
   {
    "duration": 89,
    "start_time": "2024-01-29T11:23:57.408Z"
   },
   {
    "duration": 17,
    "start_time": "2024-01-29T11:23:57.499Z"
   },
   {
    "duration": 36,
    "start_time": "2024-01-29T11:23:57.517Z"
   },
   {
    "duration": 61,
    "start_time": "2024-01-29T11:23:57.555Z"
   },
   {
    "duration": 71,
    "start_time": "2024-01-29T11:23:57.617Z"
   },
   {
    "duration": 51,
    "start_time": "2024-01-29T11:23:57.690Z"
   },
   {
    "duration": 24,
    "start_time": "2024-01-29T11:23:57.743Z"
   },
   {
    "duration": 17,
    "start_time": "2024-01-29T11:23:57.768Z"
   },
   {
    "duration": 412,
    "start_time": "2024-01-29T11:23:57.786Z"
   },
   {
    "duration": 16,
    "start_time": "2024-01-29T11:23:58.199Z"
   },
   {
    "duration": 17,
    "start_time": "2024-01-29T11:23:58.216Z"
   },
   {
    "duration": 22,
    "start_time": "2024-01-29T11:23:58.234Z"
   },
   {
    "duration": 26,
    "start_time": "2024-01-29T11:23:58.257Z"
   },
   {
    "duration": 8,
    "start_time": "2024-01-29T11:23:58.284Z"
   },
   {
    "duration": 22,
    "start_time": "2024-01-29T11:23:58.294Z"
   },
   {
    "duration": 8,
    "start_time": "2024-01-29T11:23:58.318Z"
   },
   {
    "duration": 40,
    "start_time": "2024-01-29T11:23:58.327Z"
   },
   {
    "duration": 19,
    "start_time": "2024-01-29T11:23:58.369Z"
   },
   {
    "duration": 12,
    "start_time": "2024-01-29T11:23:58.389Z"
   },
   {
    "duration": 6,
    "start_time": "2024-01-29T11:23:58.403Z"
   },
   {
    "duration": 2,
    "start_time": "2024-01-29T11:23:58.411Z"
   },
   {
    "duration": 150,
    "start_time": "2024-01-29T11:23:58.415Z"
   },
   {
    "duration": 22,
    "start_time": "2024-01-29T11:23:58.566Z"
   },
   {
    "duration": 2,
    "start_time": "2024-01-29T11:23:58.590Z"
   },
   {
    "duration": 86,
    "start_time": "2024-01-29T11:23:58.594Z"
   },
   {
    "duration": 643,
    "start_time": "2024-01-29T11:23:58.685Z"
   },
   {
    "duration": 191,
    "start_time": "2024-01-29T11:23:59.329Z"
   },
   {
    "duration": 80,
    "start_time": "2024-01-29T11:23:59.521Z"
   },
   {
    "duration": 4,
    "start_time": "2024-01-29T11:23:59.602Z"
   },
   {
    "duration": 2099,
    "start_time": "2024-01-29T11:23:59.608Z"
   },
   {
    "duration": 17,
    "start_time": "2024-01-29T11:24:01.709Z"
   },
   {
    "duration": 2858,
    "start_time": "2024-01-29T11:24:01.728Z"
   },
   {
    "duration": 37,
    "start_time": "2024-01-29T11:24:04.587Z"
   },
   {
    "duration": 29,
    "start_time": "2024-01-29T11:24:04.626Z"
   },
   {
    "duration": 23,
    "start_time": "2024-01-29T11:24:04.657Z"
   },
   {
    "duration": 983,
    "start_time": "2024-01-29T11:24:04.681Z"
   },
   {
    "duration": 3,
    "start_time": "2024-01-29T11:24:05.665Z"
   },
   {
    "duration": 20,
    "start_time": "2024-01-29T11:24:05.669Z"
   },
   {
    "duration": 14266,
    "start_time": "2024-01-29T11:24:05.691Z"
   },
   {
    "duration": 295,
    "start_time": "2024-01-29T11:24:19.959Z"
   },
   {
    "duration": 158,
    "start_time": "2024-01-29T11:24:20.256Z"
   },
   {
    "duration": 43,
    "start_time": "2024-01-29T11:24:37.498Z"
   },
   {
    "duration": 359,
    "start_time": "2024-01-29T11:25:00.586Z"
   },
   {
    "duration": 257,
    "start_time": "2024-01-29T11:25:00.947Z"
   },
   {
    "duration": 764,
    "start_time": "2024-01-29T11:25:01.205Z"
   },
   {
    "duration": 66,
    "start_time": "2024-01-29T11:25:01.971Z"
   },
   {
    "duration": 3,
    "start_time": "2024-01-29T11:25:02.039Z"
   },
   {
    "duration": 1080,
    "start_time": "2024-01-29T11:25:02.043Z"
   },
   {
    "duration": 3,
    "start_time": "2024-01-29T11:25:03.125Z"
   },
   {
    "duration": 829,
    "start_time": "2024-01-29T11:25:03.129Z"
   },
   {
    "duration": 120,
    "start_time": "2024-01-29T11:25:03.960Z"
   },
   {
    "duration": 40,
    "start_time": "2024-01-29T11:25:04.082Z"
   },
   {
    "duration": 90,
    "start_time": "2024-01-29T11:25:04.123Z"
   },
   {
    "duration": 208,
    "start_time": "2024-01-29T11:25:04.214Z"
   },
   {
    "duration": 149,
    "start_time": "2024-01-29T11:25:04.423Z"
   },
   {
    "duration": 61,
    "start_time": "2024-01-29T11:25:04.573Z"
   },
   {
    "duration": 31,
    "start_time": "2024-01-29T11:25:04.635Z"
   },
   {
    "duration": 50,
    "start_time": "2024-01-29T11:25:04.667Z"
   },
   {
    "duration": 19,
    "start_time": "2024-01-29T11:25:04.719Z"
   },
   {
    "duration": 36,
    "start_time": "2024-01-29T11:25:04.740Z"
   },
   {
    "duration": 57,
    "start_time": "2024-01-29T11:25:04.777Z"
   },
   {
    "duration": 97,
    "start_time": "2024-01-29T11:25:04.836Z"
   },
   {
    "duration": 57,
    "start_time": "2024-01-29T11:25:04.935Z"
   },
   {
    "duration": 18,
    "start_time": "2024-01-29T11:25:04.994Z"
   },
   {
    "duration": 39,
    "start_time": "2024-01-29T11:25:05.013Z"
   },
   {
    "duration": 409,
    "start_time": "2024-01-29T11:25:05.053Z"
   },
   {
    "duration": 18,
    "start_time": "2024-01-29T11:25:05.463Z"
   },
   {
    "duration": 19,
    "start_time": "2024-01-29T11:25:05.482Z"
   },
   {
    "duration": 6,
    "start_time": "2024-01-29T11:25:05.503Z"
   },
   {
    "duration": 44,
    "start_time": "2024-01-29T11:25:05.512Z"
   },
   {
    "duration": 8,
    "start_time": "2024-01-29T11:25:05.557Z"
   },
   {
    "duration": 22,
    "start_time": "2024-01-29T11:25:05.566Z"
   },
   {
    "duration": 8,
    "start_time": "2024-01-29T11:25:05.589Z"
   },
   {
    "duration": 29,
    "start_time": "2024-01-29T11:25:05.598Z"
   },
   {
    "duration": 33,
    "start_time": "2024-01-29T11:25:05.628Z"
   },
   {
    "duration": 10,
    "start_time": "2024-01-29T11:25:05.662Z"
   },
   {
    "duration": 5,
    "start_time": "2024-01-29T11:25:05.673Z"
   },
   {
    "duration": 4,
    "start_time": "2024-01-29T11:25:05.679Z"
   },
   {
    "duration": 60,
    "start_time": "2024-01-29T11:25:05.684Z"
   },
   {
    "duration": 92,
    "start_time": "2024-01-29T11:25:05.745Z"
   },
   {
    "duration": 30,
    "start_time": "2024-01-29T11:25:05.838Z"
   },
   {
    "duration": 88,
    "start_time": "2024-01-29T11:25:05.869Z"
   },
   {
    "duration": 626,
    "start_time": "2024-01-29T11:25:05.958Z"
   },
   {
    "duration": 190,
    "start_time": "2024-01-29T11:25:06.585Z"
   },
   {
    "duration": 66,
    "start_time": "2024-01-29T11:25:06.776Z"
   },
   {
    "duration": 4,
    "start_time": "2024-01-29T11:25:06.852Z"
   },
   {
    "duration": 2097,
    "start_time": "2024-01-29T11:25:06.858Z"
   },
   {
    "duration": 16,
    "start_time": "2024-01-29T11:25:08.957Z"
   },
   {
    "duration": 2949,
    "start_time": "2024-01-29T11:25:08.975Z"
   },
   {
    "duration": 41,
    "start_time": "2024-01-29T11:25:11.926Z"
   },
   {
    "duration": 23,
    "start_time": "2024-01-29T11:25:11.969Z"
   },
   {
    "duration": 67,
    "start_time": "2024-01-29T11:25:11.993Z"
   },
   {
    "duration": 970,
    "start_time": "2024-01-29T11:25:12.062Z"
   },
   {
    "duration": 2,
    "start_time": "2024-01-29T11:25:13.034Z"
   },
   {
    "duration": 22,
    "start_time": "2024-01-29T11:25:13.037Z"
   },
   {
    "duration": 14096,
    "start_time": "2024-01-29T11:25:13.060Z"
   },
   {
    "duration": 192,
    "start_time": "2024-01-29T11:25:27.161Z"
   },
   {
    "duration": 130,
    "start_time": "2024-01-29T11:25:58.425Z"
   },
   {
    "duration": 386,
    "start_time": "2024-01-29T11:26:42.278Z"
   },
   {
    "duration": 229,
    "start_time": "2024-01-29T11:26:42.666Z"
   },
   {
    "duration": 655,
    "start_time": "2024-01-29T11:26:42.896Z"
   },
   {
    "duration": 65,
    "start_time": "2024-01-29T11:26:43.553Z"
   },
   {
    "duration": 2,
    "start_time": "2024-01-29T11:26:43.620Z"
   },
   {
    "duration": 1018,
    "start_time": "2024-01-29T11:26:43.624Z"
   },
   {
    "duration": 3,
    "start_time": "2024-01-29T11:26:44.643Z"
   },
   {
    "duration": 791,
    "start_time": "2024-01-29T11:26:44.647Z"
   },
   {
    "duration": 84,
    "start_time": "2024-01-29T11:26:45.440Z"
   },
   {
    "duration": 54,
    "start_time": "2024-01-29T11:26:45.527Z"
   },
   {
    "duration": 83,
    "start_time": "2024-01-29T11:26:45.582Z"
   },
   {
    "duration": 226,
    "start_time": "2024-01-29T11:26:45.667Z"
   },
   {
    "duration": 141,
    "start_time": "2024-01-29T11:26:45.895Z"
   },
   {
    "duration": 67,
    "start_time": "2024-01-29T11:26:46.038Z"
   },
   {
    "duration": 17,
    "start_time": "2024-01-29T11:26:46.107Z"
   },
   {
    "duration": 67,
    "start_time": "2024-01-29T11:26:46.125Z"
   },
   {
    "duration": 19,
    "start_time": "2024-01-29T11:26:46.193Z"
   },
   {
    "duration": 39,
    "start_time": "2024-01-29T11:26:46.213Z"
   },
   {
    "duration": 51,
    "start_time": "2024-01-29T11:26:46.253Z"
   },
   {
    "duration": 74,
    "start_time": "2024-01-29T11:26:46.305Z"
   },
   {
    "duration": 43,
    "start_time": "2024-01-29T11:26:46.380Z"
   },
   {
    "duration": 38,
    "start_time": "2024-01-29T11:26:46.425Z"
   },
   {
    "duration": 26,
    "start_time": "2024-01-29T11:26:46.464Z"
   },
   {
    "duration": 422,
    "start_time": "2024-01-29T11:26:46.492Z"
   },
   {
    "duration": 16,
    "start_time": "2024-01-29T11:26:46.916Z"
   },
   {
    "duration": 33,
    "start_time": "2024-01-29T11:26:46.933Z"
   },
   {
    "duration": 6,
    "start_time": "2024-01-29T11:26:46.967Z"
   },
   {
    "duration": 19,
    "start_time": "2024-01-29T11:26:46.977Z"
   },
   {
    "duration": 10,
    "start_time": "2024-01-29T11:26:46.997Z"
   },
   {
    "duration": 32,
    "start_time": "2024-01-29T11:26:47.008Z"
   },
   {
    "duration": 8,
    "start_time": "2024-01-29T11:26:47.052Z"
   },
   {
    "duration": 20,
    "start_time": "2024-01-29T11:26:47.061Z"
   },
   {
    "duration": 15,
    "start_time": "2024-01-29T11:26:47.083Z"
   },
   {
    "duration": 15,
    "start_time": "2024-01-29T11:26:47.100Z"
   },
   {
    "duration": 16,
    "start_time": "2024-01-29T11:26:47.116Z"
   },
   {
    "duration": 39,
    "start_time": "2024-01-29T11:26:47.133Z"
   },
   {
    "duration": 61,
    "start_time": "2024-01-29T11:26:47.174Z"
   },
   {
    "duration": 88,
    "start_time": "2024-01-29T11:26:47.237Z"
   },
   {
    "duration": 3,
    "start_time": "2024-01-29T11:26:47.326Z"
   },
   {
    "duration": 97,
    "start_time": "2024-01-29T11:26:47.331Z"
   },
   {
    "duration": 583,
    "start_time": "2024-01-29T11:26:47.429Z"
   },
   {
    "duration": 179,
    "start_time": "2024-01-29T11:26:48.013Z"
   },
   {
    "duration": 76,
    "start_time": "2024-01-29T11:26:48.194Z"
   },
   {
    "duration": 4,
    "start_time": "2024-01-29T11:26:48.271Z"
   },
   {
    "duration": 2062,
    "start_time": "2024-01-29T11:26:48.277Z"
   },
   {
    "duration": 17,
    "start_time": "2024-01-29T11:26:50.341Z"
   },
   {
    "duration": 2830,
    "start_time": "2024-01-29T11:26:50.359Z"
   },
   {
    "duration": 39,
    "start_time": "2024-01-29T11:26:53.191Z"
   },
   {
    "duration": 35,
    "start_time": "2024-01-29T11:26:53.231Z"
   },
   {
    "duration": 28,
    "start_time": "2024-01-29T11:26:53.267Z"
   },
   {
    "duration": 948,
    "start_time": "2024-01-29T11:26:53.296Z"
   },
   {
    "duration": 2,
    "start_time": "2024-01-29T11:26:54.245Z"
   },
   {
    "duration": 13,
    "start_time": "2024-01-29T11:26:54.252Z"
   },
   {
    "duration": 13985,
    "start_time": "2024-01-29T11:26:54.267Z"
   },
   {
    "duration": 117,
    "start_time": "2024-01-29T11:27:08.257Z"
   },
   {
    "duration": 122,
    "start_time": "2024-01-29T11:30:21.304Z"
   },
   {
    "duration": 370,
    "start_time": "2024-01-29T11:31:19.073Z"
   },
   {
    "duration": 250,
    "start_time": "2024-01-29T11:31:19.444Z"
   },
   {
    "duration": 706,
    "start_time": "2024-01-29T11:31:19.695Z"
   },
   {
    "duration": 68,
    "start_time": "2024-01-29T11:31:20.402Z"
   },
   {
    "duration": 2,
    "start_time": "2024-01-29T11:31:20.472Z"
   },
   {
    "duration": 1043,
    "start_time": "2024-01-29T11:31:20.475Z"
   },
   {
    "duration": 4,
    "start_time": "2024-01-29T11:31:21.519Z"
   },
   {
    "duration": 814,
    "start_time": "2024-01-29T11:31:21.524Z"
   },
   {
    "duration": 114,
    "start_time": "2024-01-29T11:31:22.340Z"
   },
   {
    "duration": 37,
    "start_time": "2024-01-29T11:31:22.456Z"
   },
   {
    "duration": 84,
    "start_time": "2024-01-29T11:31:22.494Z"
   },
   {
    "duration": 213,
    "start_time": "2024-01-29T11:31:22.580Z"
   },
   {
    "duration": 153,
    "start_time": "2024-01-29T11:31:22.795Z"
   },
   {
    "duration": 59,
    "start_time": "2024-01-29T11:31:22.951Z"
   },
   {
    "duration": 25,
    "start_time": "2024-01-29T11:31:23.011Z"
   },
   {
    "duration": 58,
    "start_time": "2024-01-29T11:31:23.037Z"
   },
   {
    "duration": 37,
    "start_time": "2024-01-29T11:31:23.096Z"
   },
   {
    "duration": 40,
    "start_time": "2024-01-29T11:31:23.134Z"
   },
   {
    "duration": 52,
    "start_time": "2024-01-29T11:31:23.175Z"
   },
   {
    "duration": 72,
    "start_time": "2024-01-29T11:31:23.229Z"
   },
   {
    "duration": 55,
    "start_time": "2024-01-29T11:31:23.302Z"
   },
   {
    "duration": 17,
    "start_time": "2024-01-29T11:31:23.358Z"
   },
   {
    "duration": 19,
    "start_time": "2024-01-29T11:31:23.376Z"
   },
   {
    "duration": 396,
    "start_time": "2024-01-29T11:31:23.396Z"
   },
   {
    "duration": 17,
    "start_time": "2024-01-29T11:31:23.794Z"
   },
   {
    "duration": 34,
    "start_time": "2024-01-29T11:31:23.812Z"
   },
   {
    "duration": 10,
    "start_time": "2024-01-29T11:31:23.847Z"
   },
   {
    "duration": 23,
    "start_time": "2024-01-29T11:31:23.859Z"
   },
   {
    "duration": 8,
    "start_time": "2024-01-29T11:31:23.884Z"
   },
   {
    "duration": 34,
    "start_time": "2024-01-29T11:31:23.894Z"
   },
   {
    "duration": 12,
    "start_time": "2024-01-29T11:31:23.930Z"
   },
   {
    "duration": 20,
    "start_time": "2024-01-29T11:31:23.943Z"
   },
   {
    "duration": 16,
    "start_time": "2024-01-29T11:31:23.964Z"
   },
   {
    "duration": 10,
    "start_time": "2024-01-29T11:31:23.982Z"
   },
   {
    "duration": 9,
    "start_time": "2024-01-29T11:31:23.993Z"
   },
   {
    "duration": 12,
    "start_time": "2024-01-29T11:31:24.004Z"
   },
   {
    "duration": 145,
    "start_time": "2024-01-29T11:31:24.017Z"
   },
   {
    "duration": 21,
    "start_time": "2024-01-29T11:31:24.163Z"
   },
   {
    "duration": 2,
    "start_time": "2024-01-29T11:31:24.186Z"
   },
   {
    "duration": 81,
    "start_time": "2024-01-29T11:31:24.189Z"
   },
   {
    "duration": 590,
    "start_time": "2024-01-29T11:31:24.273Z"
   },
   {
    "duration": 189,
    "start_time": "2024-01-29T11:31:24.864Z"
   },
   {
    "duration": 100,
    "start_time": "2024-01-29T11:31:25.055Z"
   },
   {
    "duration": 5,
    "start_time": "2024-01-29T11:31:25.156Z"
   },
   {
    "duration": 2034,
    "start_time": "2024-01-29T11:31:25.163Z"
   },
   {
    "duration": 17,
    "start_time": "2024-01-29T11:31:27.199Z"
   },
   {
    "duration": 2920,
    "start_time": "2024-01-29T11:31:27.218Z"
   },
   {
    "duration": 42,
    "start_time": "2024-01-29T11:31:30.140Z"
   },
   {
    "duration": 88,
    "start_time": "2024-01-29T11:31:30.183Z"
   },
   {
    "duration": 91,
    "start_time": "2024-01-29T11:31:30.273Z"
   },
   {
    "duration": 1003,
    "start_time": "2024-01-29T11:31:30.366Z"
   },
   {
    "duration": 2,
    "start_time": "2024-01-29T11:31:31.371Z"
   },
   {
    "duration": 69,
    "start_time": "2024-01-29T11:31:31.375Z"
   },
   {
    "duration": 14313,
    "start_time": "2024-01-29T11:31:31.446Z"
   },
   {
    "duration": 198,
    "start_time": "2024-01-29T11:31:45.761Z"
   },
   {
    "duration": 80,
    "start_time": "2024-01-29T11:32:11.587Z"
   },
   {
    "duration": 46,
    "start_time": "2024-01-29T11:35:28.336Z"
   },
   {
    "duration": 383,
    "start_time": "2024-01-29T11:45:19.860Z"
   },
   {
    "duration": 234,
    "start_time": "2024-01-29T11:45:20.245Z"
   },
   {
    "duration": 695,
    "start_time": "2024-01-29T11:45:20.480Z"
   },
   {
    "duration": 67,
    "start_time": "2024-01-29T11:45:21.177Z"
   },
   {
    "duration": 3,
    "start_time": "2024-01-29T11:45:21.246Z"
   },
   {
    "duration": 1046,
    "start_time": "2024-01-29T11:45:21.252Z"
   },
   {
    "duration": 3,
    "start_time": "2024-01-29T11:45:22.299Z"
   },
   {
    "duration": 794,
    "start_time": "2024-01-29T11:45:22.303Z"
   },
   {
    "duration": 113,
    "start_time": "2024-01-29T11:45:23.099Z"
   },
   {
    "duration": 57,
    "start_time": "2024-01-29T11:45:23.213Z"
   },
   {
    "duration": 84,
    "start_time": "2024-01-29T11:45:23.271Z"
   },
   {
    "duration": 210,
    "start_time": "2024-01-29T11:45:23.357Z"
   },
   {
    "duration": 130,
    "start_time": "2024-01-29T11:45:23.568Z"
   },
   {
    "duration": 68,
    "start_time": "2024-01-29T11:45:23.701Z"
   },
   {
    "duration": 20,
    "start_time": "2024-01-29T11:45:23.770Z"
   },
   {
    "duration": 50,
    "start_time": "2024-01-29T11:45:23.791Z"
   },
   {
    "duration": 16,
    "start_time": "2024-01-29T11:45:23.852Z"
   },
   {
    "duration": 46,
    "start_time": "2024-01-29T11:45:23.870Z"
   },
   {
    "duration": 52,
    "start_time": "2024-01-29T11:45:23.917Z"
   },
   {
    "duration": 70,
    "start_time": "2024-01-29T11:45:23.971Z"
   },
   {
    "duration": 53,
    "start_time": "2024-01-29T11:45:24.042Z"
   },
   {
    "duration": 16,
    "start_time": "2024-01-29T11:45:24.097Z"
   },
   {
    "duration": 16,
    "start_time": "2024-01-29T11:45:24.115Z"
   },
   {
    "duration": 405,
    "start_time": "2024-01-29T11:45:24.154Z"
   },
   {
    "duration": 16,
    "start_time": "2024-01-29T11:45:24.560Z"
   },
   {
    "duration": 18,
    "start_time": "2024-01-29T11:45:24.578Z"
   },
   {
    "duration": 7,
    "start_time": "2024-01-29T11:45:24.597Z"
   },
   {
    "duration": 47,
    "start_time": "2024-01-29T11:45:24.606Z"
   },
   {
    "duration": 9,
    "start_time": "2024-01-29T11:45:24.654Z"
   },
   {
    "duration": 20,
    "start_time": "2024-01-29T11:45:24.664Z"
   },
   {
    "duration": 8,
    "start_time": "2024-01-29T11:45:24.685Z"
   },
   {
    "duration": 17,
    "start_time": "2024-01-29T11:45:24.695Z"
   },
   {
    "duration": 43,
    "start_time": "2024-01-29T11:45:24.714Z"
   },
   {
    "duration": 10,
    "start_time": "2024-01-29T11:45:24.759Z"
   },
   {
    "duration": 16,
    "start_time": "2024-01-29T11:45:24.771Z"
   },
   {
    "duration": 9,
    "start_time": "2024-01-29T11:45:24.788Z"
   },
   {
    "duration": 197,
    "start_time": "2024-01-29T11:45:24.798Z"
   },
   {
    "duration": 21,
    "start_time": "2024-01-29T11:45:24.997Z"
   },
   {
    "duration": 14,
    "start_time": "2024-01-29T11:45:25.020Z"
   },
   {
    "duration": 84,
    "start_time": "2024-01-29T11:45:25.035Z"
   },
   {
    "duration": 627,
    "start_time": "2024-01-29T11:45:25.122Z"
   },
   {
    "duration": 169,
    "start_time": "2024-01-29T11:45:25.752Z"
   },
   {
    "duration": 78,
    "start_time": "2024-01-29T11:45:25.923Z"
   },
   {
    "duration": 4,
    "start_time": "2024-01-29T11:45:26.002Z"
   },
   {
    "duration": 2257,
    "start_time": "2024-01-29T11:45:26.008Z"
   },
   {
    "duration": 20,
    "start_time": "2024-01-29T11:45:28.267Z"
   },
   {
    "duration": 3601,
    "start_time": "2024-01-29T11:45:28.290Z"
   },
   {
    "duration": 47,
    "start_time": "2024-01-29T11:45:31.892Z"
   },
   {
    "duration": 26,
    "start_time": "2024-01-29T11:45:31.951Z"
   },
   {
    "duration": 61,
    "start_time": "2024-01-29T11:45:31.979Z"
   },
   {
    "duration": 1032,
    "start_time": "2024-01-29T11:45:32.042Z"
   },
   {
    "duration": 3,
    "start_time": "2024-01-29T11:45:33.076Z"
   },
   {
    "duration": 62,
    "start_time": "2024-01-29T11:45:33.080Z"
   },
   {
    "duration": 14016,
    "start_time": "2024-01-29T11:45:33.144Z"
   },
   {
    "duration": 199,
    "start_time": "2024-01-29T11:45:47.253Z"
   },
   {
    "duration": 393,
    "start_time": "2024-01-29T11:46:40.432Z"
   },
   {
    "duration": 230,
    "start_time": "2024-01-29T11:46:40.827Z"
   },
   {
    "duration": 711,
    "start_time": "2024-01-29T11:46:41.058Z"
   },
   {
    "duration": 67,
    "start_time": "2024-01-29T11:46:41.770Z"
   },
   {
    "duration": 2,
    "start_time": "2024-01-29T11:46:41.839Z"
   },
   {
    "duration": 1089,
    "start_time": "2024-01-29T11:46:41.843Z"
   },
   {
    "duration": 3,
    "start_time": "2024-01-29T11:46:42.933Z"
   },
   {
    "duration": 823,
    "start_time": "2024-01-29T11:46:42.938Z"
   },
   {
    "duration": 125,
    "start_time": "2024-01-29T11:46:43.763Z"
   },
   {
    "duration": 40,
    "start_time": "2024-01-29T11:46:43.889Z"
   },
   {
    "duration": 88,
    "start_time": "2024-01-29T11:46:43.930Z"
   },
   {
    "duration": 211,
    "start_time": "2024-01-29T11:46:44.020Z"
   },
   {
    "duration": 152,
    "start_time": "2024-01-29T11:46:44.233Z"
   },
   {
    "duration": 70,
    "start_time": "2024-01-29T11:46:44.388Z"
   },
   {
    "duration": 19,
    "start_time": "2024-01-29T11:46:44.459Z"
   },
   {
    "duration": 49,
    "start_time": "2024-01-29T11:46:44.479Z"
   },
   {
    "duration": 27,
    "start_time": "2024-01-29T11:46:44.530Z"
   },
   {
    "duration": 34,
    "start_time": "2024-01-29T11:46:44.559Z"
   },
   {
    "duration": 46,
    "start_time": "2024-01-29T11:46:44.594Z"
   },
   {
    "duration": 78,
    "start_time": "2024-01-29T11:46:44.642Z"
   },
   {
    "duration": 61,
    "start_time": "2024-01-29T11:46:44.721Z"
   },
   {
    "duration": 18,
    "start_time": "2024-01-29T11:46:44.784Z"
   },
   {
    "duration": 17,
    "start_time": "2024-01-29T11:46:44.803Z"
   },
   {
    "duration": 399,
    "start_time": "2024-01-29T11:46:44.822Z"
   },
   {
    "duration": 16,
    "start_time": "2024-01-29T11:46:45.223Z"
   },
   {
    "duration": 16,
    "start_time": "2024-01-29T11:46:45.252Z"
   },
   {
    "duration": 16,
    "start_time": "2024-01-29T11:46:45.270Z"
   },
   {
    "duration": 24,
    "start_time": "2024-01-29T11:46:45.288Z"
   },
   {
    "duration": 22,
    "start_time": "2024-01-29T11:46:45.313Z"
   },
   {
    "duration": 38,
    "start_time": "2024-01-29T11:46:45.336Z"
   },
   {
    "duration": 8,
    "start_time": "2024-01-29T11:46:45.375Z"
   },
   {
    "duration": 22,
    "start_time": "2024-01-29T11:46:45.384Z"
   },
   {
    "duration": 15,
    "start_time": "2024-01-29T11:46:45.408Z"
   },
   {
    "duration": 13,
    "start_time": "2024-01-29T11:46:45.425Z"
   },
   {
    "duration": 16,
    "start_time": "2024-01-29T11:46:45.439Z"
   },
   {
    "duration": 10,
    "start_time": "2024-01-29T11:46:45.457Z"
   },
   {
    "duration": 136,
    "start_time": "2024-01-29T11:46:45.469Z"
   },
   {
    "duration": 21,
    "start_time": "2024-01-29T11:46:45.606Z"
   },
   {
    "duration": 3,
    "start_time": "2024-01-29T11:46:45.629Z"
   },
   {
    "duration": 91,
    "start_time": "2024-01-29T11:46:45.633Z"
   },
   {
    "duration": 727,
    "start_time": "2024-01-29T11:46:45.751Z"
   },
   {
    "duration": 209,
    "start_time": "2024-01-29T11:46:46.480Z"
   },
   {
    "duration": 72,
    "start_time": "2024-01-29T11:46:46.690Z"
   },
   {
    "duration": 3,
    "start_time": "2024-01-29T11:46:46.764Z"
   },
   {
    "duration": 2049,
    "start_time": "2024-01-29T11:46:46.768Z"
   },
   {
    "duration": 20,
    "start_time": "2024-01-29T11:46:48.819Z"
   },
   {
    "duration": 2828,
    "start_time": "2024-01-29T11:46:48.841Z"
   },
   {
    "duration": 37,
    "start_time": "2024-01-29T11:46:51.670Z"
   },
   {
    "duration": 23,
    "start_time": "2024-01-29T11:46:51.708Z"
   },
   {
    "duration": 39,
    "start_time": "2024-01-29T11:46:51.732Z"
   },
   {
    "duration": 954,
    "start_time": "2024-01-29T11:46:51.772Z"
   },
   {
    "duration": 3,
    "start_time": "2024-01-29T11:46:52.727Z"
   },
   {
    "duration": 18,
    "start_time": "2024-01-29T11:46:52.731Z"
   },
   {
    "duration": 14405,
    "start_time": "2024-01-29T11:46:52.751Z"
   },
   {
    "duration": 116,
    "start_time": "2024-01-29T11:47:07.158Z"
   },
   {
    "duration": 140,
    "start_time": "2024-01-29T11:47:07.353Z"
   },
   {
    "duration": 45,
    "start_time": "2024-01-29T11:48:40.780Z"
   },
   {
    "duration": 360,
    "start_time": "2024-01-29T11:48:46.200Z"
   },
   {
    "duration": 231,
    "start_time": "2024-01-29T11:48:46.561Z"
   },
   {
    "duration": 698,
    "start_time": "2024-01-29T11:48:46.793Z"
   },
   {
    "duration": 68,
    "start_time": "2024-01-29T11:48:47.493Z"
   },
   {
    "duration": 3,
    "start_time": "2024-01-29T11:48:47.563Z"
   },
   {
    "duration": 1039,
    "start_time": "2024-01-29T11:48:47.567Z"
   },
   {
    "duration": 3,
    "start_time": "2024-01-29T11:48:48.608Z"
   },
   {
    "duration": 882,
    "start_time": "2024-01-29T11:48:48.612Z"
   },
   {
    "duration": 111,
    "start_time": "2024-01-29T11:48:49.495Z"
   },
   {
    "duration": 50,
    "start_time": "2024-01-29T11:48:49.607Z"
   },
   {
    "duration": 75,
    "start_time": "2024-01-29T11:48:49.659Z"
   },
   {
    "duration": 217,
    "start_time": "2024-01-29T11:48:49.736Z"
   },
   {
    "duration": 129,
    "start_time": "2024-01-29T11:48:49.954Z"
   },
   {
    "duration": 67,
    "start_time": "2024-01-29T11:48:50.086Z"
   },
   {
    "duration": 18,
    "start_time": "2024-01-29T11:48:50.155Z"
   },
   {
    "duration": 55,
    "start_time": "2024-01-29T11:48:50.174Z"
   },
   {
    "duration": 21,
    "start_time": "2024-01-29T11:48:50.231Z"
   },
   {
    "duration": 36,
    "start_time": "2024-01-29T11:48:50.253Z"
   },
   {
    "duration": 56,
    "start_time": "2024-01-29T11:48:50.290Z"
   },
   {
    "duration": 70,
    "start_time": "2024-01-29T11:48:50.348Z"
   },
   {
    "duration": 57,
    "start_time": "2024-01-29T11:48:50.419Z"
   },
   {
    "duration": 18,
    "start_time": "2024-01-29T11:48:50.477Z"
   },
   {
    "duration": 17,
    "start_time": "2024-01-29T11:48:50.496Z"
   },
   {
    "duration": 420,
    "start_time": "2024-01-29T11:48:50.515Z"
   },
   {
    "duration": 27,
    "start_time": "2024-01-29T11:48:50.937Z"
   },
   {
    "duration": 17,
    "start_time": "2024-01-29T11:48:50.966Z"
   },
   {
    "duration": 5,
    "start_time": "2024-01-29T11:48:50.984Z"
   },
   {
    "duration": 26,
    "start_time": "2024-01-29T11:48:50.990Z"
   },
   {
    "duration": 8,
    "start_time": "2024-01-29T11:48:51.018Z"
   },
   {
    "duration": 37,
    "start_time": "2024-01-29T11:48:51.027Z"
   },
   {
    "duration": 18,
    "start_time": "2024-01-29T11:48:51.066Z"
   },
   {
    "duration": 25,
    "start_time": "2024-01-29T11:48:51.085Z"
   },
   {
    "duration": 25,
    "start_time": "2024-01-29T11:48:51.112Z"
   },
   {
    "duration": 12,
    "start_time": "2024-01-29T11:48:51.139Z"
   },
   {
    "duration": 37,
    "start_time": "2024-01-29T11:48:51.152Z"
   },
   {
    "duration": 27,
    "start_time": "2024-01-29T11:48:51.191Z"
   },
   {
    "duration": 119,
    "start_time": "2024-01-29T11:48:51.219Z"
   },
   {
    "duration": 21,
    "start_time": "2024-01-29T11:48:51.339Z"
   },
   {
    "duration": 13,
    "start_time": "2024-01-29T11:48:51.362Z"
   },
   {
    "duration": 71,
    "start_time": "2024-01-29T11:48:51.376Z"
   },
   {
    "duration": 615,
    "start_time": "2024-01-29T11:48:51.451Z"
   },
   {
    "duration": 186,
    "start_time": "2024-01-29T11:48:52.067Z"
   },
   {
    "duration": 67,
    "start_time": "2024-01-29T11:48:52.254Z"
   },
   {
    "duration": 4,
    "start_time": "2024-01-29T11:48:52.322Z"
   },
   {
    "duration": 2053,
    "start_time": "2024-01-29T11:48:52.327Z"
   },
   {
    "duration": 17,
    "start_time": "2024-01-29T11:48:54.382Z"
   },
   {
    "duration": 2786,
    "start_time": "2024-01-29T11:48:54.400Z"
   },
   {
    "duration": 37,
    "start_time": "2024-01-29T11:48:57.188Z"
   },
   {
    "duration": 33,
    "start_time": "2024-01-29T11:48:57.227Z"
   },
   {
    "duration": 42,
    "start_time": "2024-01-29T11:48:57.261Z"
   },
   {
    "duration": 969,
    "start_time": "2024-01-29T11:48:57.304Z"
   },
   {
    "duration": 2,
    "start_time": "2024-01-29T11:48:58.275Z"
   },
   {
    "duration": 18,
    "start_time": "2024-01-29T11:48:58.278Z"
   },
   {
    "duration": 13960,
    "start_time": "2024-01-29T11:48:58.298Z"
   },
   {
    "duration": 201,
    "start_time": "2024-01-29T11:49:12.260Z"
   },
   {
    "duration": 244,
    "start_time": "2024-01-29T11:49:12.463Z"
   },
   {
    "duration": 865,
    "start_time": "2024-01-29T11:49:51.772Z"
   },
   {
    "duration": 13,
    "start_time": "2024-01-29T11:50:04.432Z"
   },
   {
    "duration": 58866,
    "start_time": "2024-01-29T11:50:21.600Z"
   },
   {
    "duration": 3,
    "start_time": "2024-01-29T11:53:38.077Z"
   },
   {
    "duration": 26,
    "start_time": "2024-01-29T11:53:38.081Z"
   },
   {
    "duration": 13,
    "start_time": "2024-01-29T11:53:38.109Z"
   },
   {
    "duration": 14,
    "start_time": "2024-01-29T11:53:38.124Z"
   },
   {
    "duration": 5,
    "start_time": "2024-01-29T11:53:38.140Z"
   },
   {
    "duration": 797,
    "start_time": "2024-01-29T11:53:38.147Z"
   },
   {
    "duration": 7,
    "start_time": "2024-01-29T11:53:38.946Z"
   },
   {
    "duration": 741,
    "start_time": "2024-01-29T11:53:38.954Z"
   },
   {
    "duration": 84,
    "start_time": "2024-01-29T11:53:39.697Z"
   },
   {
    "duration": 38,
    "start_time": "2024-01-29T11:53:39.782Z"
   },
   {
    "duration": 72,
    "start_time": "2024-01-29T11:53:39.822Z"
   },
   {
    "duration": 205,
    "start_time": "2024-01-29T11:53:39.895Z"
   },
   {
    "duration": 148,
    "start_time": "2024-01-29T11:53:40.101Z"
   },
   {
    "duration": 59,
    "start_time": "2024-01-29T11:53:40.253Z"
   },
   {
    "duration": 17,
    "start_time": "2024-01-29T11:53:40.314Z"
   },
   {
    "duration": 60,
    "start_time": "2024-01-29T11:53:40.333Z"
   },
   {
    "duration": 17,
    "start_time": "2024-01-29T11:53:40.395Z"
   },
   {
    "duration": 43,
    "start_time": "2024-01-29T11:53:40.414Z"
   },
   {
    "duration": 45,
    "start_time": "2024-01-29T11:53:40.459Z"
   },
   {
    "duration": 84,
    "start_time": "2024-01-29T11:53:40.505Z"
   },
   {
    "duration": 49,
    "start_time": "2024-01-29T11:53:40.590Z"
   },
   {
    "duration": 24,
    "start_time": "2024-01-29T11:53:40.640Z"
   },
   {
    "duration": 16,
    "start_time": "2024-01-29T11:53:40.666Z"
   },
   {
    "duration": 393,
    "start_time": "2024-01-29T11:53:40.683Z"
   },
   {
    "duration": 16,
    "start_time": "2024-01-29T11:53:41.077Z"
   },
   {
    "duration": 17,
    "start_time": "2024-01-29T11:53:41.095Z"
   },
   {
    "duration": 6,
    "start_time": "2024-01-29T11:53:41.113Z"
   },
   {
    "duration": 40,
    "start_time": "2024-01-29T11:53:41.120Z"
   },
   {
    "duration": 7,
    "start_time": "2024-01-29T11:53:41.161Z"
   },
   {
    "duration": 32,
    "start_time": "2024-01-29T11:53:41.169Z"
   },
   {
    "duration": 20,
    "start_time": "2024-01-29T11:53:41.202Z"
   },
   {
    "duration": 20,
    "start_time": "2024-01-29T11:53:41.223Z"
   },
   {
    "duration": 16,
    "start_time": "2024-01-29T11:53:41.244Z"
   },
   {
    "duration": 31,
    "start_time": "2024-01-29T11:53:41.261Z"
   },
   {
    "duration": 5,
    "start_time": "2024-01-29T11:53:41.293Z"
   },
   {
    "duration": 4,
    "start_time": "2024-01-29T11:53:41.300Z"
   },
   {
    "duration": 43,
    "start_time": "2024-01-29T11:53:41.305Z"
   },
   {
    "duration": 13,
    "start_time": "2024-01-29T11:53:41.350Z"
   },
   {
    "duration": 2,
    "start_time": "2024-01-29T11:53:41.364Z"
   },
   {
    "duration": 85,
    "start_time": "2024-01-29T11:53:41.368Z"
   },
   {
    "duration": 607,
    "start_time": "2024-01-29T11:53:41.457Z"
   },
   {
    "duration": 199,
    "start_time": "2024-01-29T11:53:42.066Z"
   },
   {
    "duration": 68,
    "start_time": "2024-01-29T11:53:42.266Z"
   },
   {
    "duration": 17,
    "start_time": "2024-01-29T11:53:42.336Z"
   },
   {
    "duration": 2114,
    "start_time": "2024-01-29T11:53:42.354Z"
   },
   {
    "duration": 15,
    "start_time": "2024-01-29T11:53:44.470Z"
   },
   {
    "duration": 2884,
    "start_time": "2024-01-29T11:53:44.487Z"
   },
   {
    "duration": 41,
    "start_time": "2024-01-29T11:53:47.372Z"
   },
   {
    "duration": 23,
    "start_time": "2024-01-29T11:53:47.415Z"
   },
   {
    "duration": 46,
    "start_time": "2024-01-29T11:53:47.439Z"
   },
   {
    "duration": 400,
    "start_time": "2024-01-29T11:54:05.058Z"
   },
   {
    "duration": 224,
    "start_time": "2024-01-29T11:54:05.460Z"
   },
   {
    "duration": 682,
    "start_time": "2024-01-29T11:54:05.685Z"
   },
   {
    "duration": 65,
    "start_time": "2024-01-29T11:54:06.369Z"
   },
   {
    "duration": 3,
    "start_time": "2024-01-29T11:54:06.436Z"
   },
   {
    "duration": 1070,
    "start_time": "2024-01-29T11:54:06.440Z"
   },
   {
    "duration": 4,
    "start_time": "2024-01-29T11:54:07.511Z"
   },
   {
    "duration": 792,
    "start_time": "2024-01-29T11:54:07.516Z"
   },
   {
    "duration": 83,
    "start_time": "2024-01-29T11:54:08.310Z"
   },
   {
    "duration": 38,
    "start_time": "2024-01-29T11:54:08.394Z"
   },
   {
    "duration": 88,
    "start_time": "2024-01-29T11:54:08.433Z"
   },
   {
    "duration": 204,
    "start_time": "2024-01-29T11:54:08.522Z"
   },
   {
    "duration": 141,
    "start_time": "2024-01-29T11:54:08.727Z"
   },
   {
    "duration": 60,
    "start_time": "2024-01-29T11:54:08.872Z"
   },
   {
    "duration": 29,
    "start_time": "2024-01-29T11:54:08.934Z"
   },
   {
    "duration": 73,
    "start_time": "2024-01-29T11:54:08.964Z"
   },
   {
    "duration": 19,
    "start_time": "2024-01-29T11:54:09.038Z"
   },
   {
    "duration": 31,
    "start_time": "2024-01-29T11:54:09.058Z"
   },
   {
    "duration": 56,
    "start_time": "2024-01-29T11:54:09.090Z"
   },
   {
    "duration": 79,
    "start_time": "2024-01-29T11:54:09.151Z"
   },
   {
    "duration": 55,
    "start_time": "2024-01-29T11:54:09.232Z"
   },
   {
    "duration": 16,
    "start_time": "2024-01-29T11:54:09.289Z"
   },
   {
    "duration": 19,
    "start_time": "2024-01-29T11:54:09.307Z"
   },
   {
    "duration": 387,
    "start_time": "2024-01-29T11:54:09.328Z"
   },
   {
    "duration": 17,
    "start_time": "2024-01-29T11:54:09.717Z"
   },
   {
    "duration": 31,
    "start_time": "2024-01-29T11:54:09.736Z"
   },
   {
    "duration": 7,
    "start_time": "2024-01-29T11:54:09.768Z"
   },
   {
    "duration": 26,
    "start_time": "2024-01-29T11:54:09.777Z"
   },
   {
    "duration": 9,
    "start_time": "2024-01-29T11:54:09.805Z"
   },
   {
    "duration": 43,
    "start_time": "2024-01-29T11:54:09.815Z"
   },
   {
    "duration": 8,
    "start_time": "2024-01-29T11:54:09.860Z"
   },
   {
    "duration": 23,
    "start_time": "2024-01-29T11:54:09.870Z"
   },
   {
    "duration": 17,
    "start_time": "2024-01-29T11:54:09.895Z"
   },
   {
    "duration": 11,
    "start_time": "2024-01-29T11:54:09.914Z"
   },
   {
    "duration": 30,
    "start_time": "2024-01-29T11:54:09.926Z"
   },
   {
    "duration": 26,
    "start_time": "2024-01-29T11:54:09.957Z"
   },
   {
    "duration": 111,
    "start_time": "2024-01-29T11:54:09.984Z"
   },
   {
    "duration": 20,
    "start_time": "2024-01-29T11:54:10.097Z"
   },
   {
    "duration": 47,
    "start_time": "2024-01-29T11:54:10.119Z"
   },
   {
    "duration": 104,
    "start_time": "2024-01-29T11:54:10.168Z"
   },
   {
    "duration": 609,
    "start_time": "2024-01-29T11:54:10.276Z"
   },
   {
    "duration": 193,
    "start_time": "2024-01-29T11:54:10.887Z"
   },
   {
    "duration": 75,
    "start_time": "2024-01-29T11:54:11.081Z"
   },
   {
    "duration": 5,
    "start_time": "2024-01-29T11:54:11.158Z"
   },
   {
    "duration": 2032,
    "start_time": "2024-01-29T11:54:11.164Z"
   },
   {
    "duration": 19,
    "start_time": "2024-01-29T11:54:13.198Z"
   },
   {
    "duration": 3032,
    "start_time": "2024-01-29T11:54:13.218Z"
   },
   {
    "duration": 40,
    "start_time": "2024-01-29T11:54:16.252Z"
   },
   {
    "duration": 22,
    "start_time": "2024-01-29T11:54:16.294Z"
   },
   {
    "duration": 41,
    "start_time": "2024-01-29T11:54:16.318Z"
   },
   {
    "duration": 1006,
    "start_time": "2024-01-29T11:54:16.361Z"
   },
   {
    "duration": 2,
    "start_time": "2024-01-29T11:54:17.369Z"
   },
   {
    "duration": 15,
    "start_time": "2024-01-29T11:54:17.373Z"
   },
   {
    "duration": 13866,
    "start_time": "2024-01-29T11:54:17.390Z"
   },
   {
    "duration": 195,
    "start_time": "2024-01-29T11:54:31.258Z"
   },
   {
    "duration": 370,
    "start_time": "2024-01-29T11:59:10.377Z"
   },
   {
    "duration": 231,
    "start_time": "2024-01-29T11:59:10.751Z"
   },
   {
    "duration": 666,
    "start_time": "2024-01-29T11:59:10.984Z"
   },
   {
    "duration": 63,
    "start_time": "2024-01-29T11:59:11.652Z"
   },
   {
    "duration": 3,
    "start_time": "2024-01-29T11:59:11.717Z"
   },
   {
    "duration": 1060,
    "start_time": "2024-01-29T11:59:11.721Z"
   },
   {
    "duration": 3,
    "start_time": "2024-01-29T11:59:12.783Z"
   },
   {
    "duration": 811,
    "start_time": "2024-01-29T11:59:12.787Z"
   },
   {
    "duration": 86,
    "start_time": "2024-01-29T11:59:13.599Z"
   },
   {
    "duration": 39,
    "start_time": "2024-01-29T11:59:13.686Z"
   },
   {
    "duration": 84,
    "start_time": "2024-01-29T11:59:13.726Z"
   },
   {
    "duration": 203,
    "start_time": "2024-01-29T11:59:13.811Z"
   },
   {
    "duration": 134,
    "start_time": "2024-01-29T11:59:14.015Z"
   },
   {
    "duration": 58,
    "start_time": "2024-01-29T11:59:14.153Z"
   },
   {
    "duration": 17,
    "start_time": "2024-01-29T11:59:14.213Z"
   },
   {
    "duration": 59,
    "start_time": "2024-01-29T11:59:14.231Z"
   },
   {
    "duration": 17,
    "start_time": "2024-01-29T11:59:14.291Z"
   },
   {
    "duration": 47,
    "start_time": "2024-01-29T11:59:14.309Z"
   },
   {
    "duration": 59,
    "start_time": "2024-01-29T11:59:14.357Z"
   },
   {
    "duration": 72,
    "start_time": "2024-01-29T11:59:14.417Z"
   },
   {
    "duration": 72,
    "start_time": "2024-01-29T11:59:14.490Z"
   },
   {
    "duration": 18,
    "start_time": "2024-01-29T11:59:14.563Z"
   },
   {
    "duration": 20,
    "start_time": "2024-01-29T11:59:14.582Z"
   },
   {
    "duration": 390,
    "start_time": "2024-01-29T11:59:14.603Z"
   },
   {
    "duration": 17,
    "start_time": "2024-01-29T11:59:14.994Z"
   },
   {
    "duration": 18,
    "start_time": "2024-01-29T11:59:15.012Z"
   },
   {
    "duration": 44,
    "start_time": "2024-01-29T11:59:15.032Z"
   },
   {
    "duration": 77,
    "start_time": "2024-01-29T11:59:15.078Z"
   },
   {
    "duration": 8,
    "start_time": "2024-01-29T11:59:15.157Z"
   },
   {
    "duration": 35,
    "start_time": "2024-01-29T11:59:15.167Z"
   },
   {
    "duration": 7,
    "start_time": "2024-01-29T11:59:15.204Z"
   },
   {
    "duration": 52,
    "start_time": "2024-01-29T11:59:15.212Z"
   },
   {
    "duration": 15,
    "start_time": "2024-01-29T11:59:15.265Z"
   },
   {
    "duration": 16,
    "start_time": "2024-01-29T11:59:15.282Z"
   },
   {
    "duration": 4,
    "start_time": "2024-01-29T11:59:15.299Z"
   },
   {
    "duration": 19,
    "start_time": "2024-01-29T11:59:15.304Z"
   },
   {
    "duration": 117,
    "start_time": "2024-01-29T11:59:15.324Z"
   },
   {
    "duration": 21,
    "start_time": "2024-01-29T11:59:15.443Z"
   },
   {
    "duration": 3,
    "start_time": "2024-01-29T11:59:15.466Z"
   },
   {
    "duration": 80,
    "start_time": "2024-01-29T11:59:15.470Z"
   },
   {
    "duration": 623,
    "start_time": "2024-01-29T11:59:15.554Z"
   },
   {
    "duration": 175,
    "start_time": "2024-01-29T11:59:16.178Z"
   },
   {
    "duration": 63,
    "start_time": "2024-01-29T11:59:16.354Z"
   },
   {
    "duration": 3,
    "start_time": "2024-01-29T11:59:16.419Z"
   },
   {
    "duration": 2080,
    "start_time": "2024-01-29T11:59:16.423Z"
   },
   {
    "duration": 19,
    "start_time": "2024-01-29T11:59:18.505Z"
   },
   {
    "duration": 2905,
    "start_time": "2024-01-29T11:59:18.526Z"
   },
   {
    "duration": 40,
    "start_time": "2024-01-29T11:59:21.432Z"
   },
   {
    "duration": 22,
    "start_time": "2024-01-29T11:59:21.474Z"
   },
   {
    "duration": 23,
    "start_time": "2024-01-29T11:59:21.497Z"
   },
   {
    "duration": 980,
    "start_time": "2024-01-29T11:59:21.522Z"
   },
   {
    "duration": 2,
    "start_time": "2024-01-29T11:59:22.504Z"
   },
   {
    "duration": 6,
    "start_time": "2024-01-29T11:59:22.507Z"
   },
   {
    "duration": 13841,
    "start_time": "2024-01-29T11:59:22.515Z"
   },
   {
    "duration": 112,
    "start_time": "2024-01-29T11:59:36.358Z"
   },
   {
    "duration": 107,
    "start_time": "2024-01-29T11:59:47.336Z"
   },
   {
    "duration": 46,
    "start_time": "2024-01-29T11:59:53.691Z"
   },
   {
    "duration": 470,
    "start_time": "2024-01-29T12:00:29.193Z"
   },
   {
    "duration": 3,
    "start_time": "2024-01-29T12:11:03.582Z"
   },
   {
    "duration": 16,
    "start_time": "2024-01-29T12:11:03.588Z"
   },
   {
    "duration": 8,
    "start_time": "2024-01-29T12:11:03.606Z"
   },
   {
    "duration": 10,
    "start_time": "2024-01-29T12:11:03.616Z"
   },
   {
    "duration": 7,
    "start_time": "2024-01-29T12:11:03.628Z"
   },
   {
    "duration": 779,
    "start_time": "2024-01-29T12:11:03.637Z"
   },
   {
    "duration": 3,
    "start_time": "2024-01-29T12:11:04.418Z"
   },
   {
    "duration": 815,
    "start_time": "2024-01-29T12:11:04.422Z"
   },
   {
    "duration": 85,
    "start_time": "2024-01-29T12:11:05.239Z"
   },
   {
    "duration": 48,
    "start_time": "2024-01-29T12:11:05.325Z"
   },
   {
    "duration": 58,
    "start_time": "2024-01-29T12:11:05.375Z"
   },
   {
    "duration": 207,
    "start_time": "2024-01-29T12:11:05.434Z"
   },
   {
    "duration": 138,
    "start_time": "2024-01-29T12:11:05.642Z"
   },
   {
    "duration": 69,
    "start_time": "2024-01-29T12:11:05.783Z"
   },
   {
    "duration": 16,
    "start_time": "2024-01-29T12:11:05.853Z"
   },
   {
    "duration": 42,
    "start_time": "2024-01-29T12:11:05.871Z"
   },
   {
    "duration": 17,
    "start_time": "2024-01-29T12:11:05.914Z"
   },
   {
    "duration": 44,
    "start_time": "2024-01-29T12:11:05.932Z"
   },
   {
    "duration": 64,
    "start_time": "2024-01-29T12:11:05.978Z"
   },
   {
    "duration": 75,
    "start_time": "2024-01-29T12:11:06.043Z"
   },
   {
    "duration": 54,
    "start_time": "2024-01-29T12:11:06.120Z"
   },
   {
    "duration": 16,
    "start_time": "2024-01-29T12:11:06.176Z"
   },
   {
    "duration": 23,
    "start_time": "2024-01-29T12:11:06.194Z"
   },
   {
    "duration": 373,
    "start_time": "2024-01-29T12:11:06.219Z"
   },
   {
    "duration": 17,
    "start_time": "2024-01-29T12:11:06.594Z"
   },
   {
    "duration": 22,
    "start_time": "2024-01-29T12:11:06.612Z"
   },
   {
    "duration": 21,
    "start_time": "2024-01-29T12:11:06.635Z"
   },
   {
    "duration": 26,
    "start_time": "2024-01-29T12:11:06.657Z"
   },
   {
    "duration": 8,
    "start_time": "2024-01-29T12:11:06.685Z"
   },
   {
    "duration": 30,
    "start_time": "2024-01-29T12:11:06.694Z"
   },
   {
    "duration": 7,
    "start_time": "2024-01-29T12:11:06.726Z"
   },
   {
    "duration": 23,
    "start_time": "2024-01-29T12:11:06.734Z"
   },
   {
    "duration": 15,
    "start_time": "2024-01-29T12:11:06.758Z"
   },
   {
    "duration": 11,
    "start_time": "2024-01-29T12:11:06.775Z"
   },
   {
    "duration": 14,
    "start_time": "2024-01-29T12:11:06.788Z"
   },
   {
    "duration": 3,
    "start_time": "2024-01-29T12:11:06.804Z"
   },
   {
    "duration": 69,
    "start_time": "2024-01-29T12:11:06.809Z"
   },
   {
    "duration": 14,
    "start_time": "2024-01-29T12:11:06.879Z"
   },
   {
    "duration": 3,
    "start_time": "2024-01-29T12:11:06.895Z"
   },
   {
    "duration": 124,
    "start_time": "2024-01-29T12:11:06.899Z"
   },
   {
    "duration": 614,
    "start_time": "2024-01-29T12:11:07.026Z"
   },
   {
    "duration": 182,
    "start_time": "2024-01-29T12:11:07.642Z"
   },
   {
    "duration": 75,
    "start_time": "2024-01-29T12:11:07.826Z"
   },
   {
    "duration": 5,
    "start_time": "2024-01-29T12:11:07.903Z"
   },
   {
    "duration": 2159,
    "start_time": "2024-01-29T12:11:07.909Z"
   },
   {
    "duration": 16,
    "start_time": "2024-01-29T12:11:10.070Z"
   },
   {
    "duration": 2915,
    "start_time": "2024-01-29T12:11:10.088Z"
   },
   {
    "duration": 37,
    "start_time": "2024-01-29T12:11:13.004Z"
   },
   {
    "duration": 29,
    "start_time": "2024-01-29T12:11:13.043Z"
   },
   {
    "duration": 23,
    "start_time": "2024-01-29T12:11:13.074Z"
   },
   {
    "duration": 15,
    "start_time": "2024-01-29T12:11:13.098Z"
   },
   {
    "duration": 329,
    "start_time": "2024-01-29T12:11:13.114Z"
   },
   {
    "duration": 343,
    "start_time": "2024-01-29T12:12:06.777Z"
   },
   {
    "duration": 14,
    "start_time": "2024-01-29T12:15:57.775Z"
   },
   {
    "duration": 9,
    "start_time": "2024-01-29T12:16:03.217Z"
   },
   {
    "duration": 384,
    "start_time": "2024-01-29T12:16:03.740Z"
   },
   {
    "duration": 13,
    "start_time": "2024-01-29T12:16:12.263Z"
   },
   {
    "duration": 13,
    "start_time": "2024-01-29T12:16:48.710Z"
   },
   {
    "duration": 8,
    "start_time": "2024-01-29T12:16:57.390Z"
   },
   {
    "duration": 563,
    "start_time": "2024-01-29T12:17:00.372Z"
   },
   {
    "duration": 14,
    "start_time": "2024-01-29T12:17:06.989Z"
   },
   {
    "duration": 9,
    "start_time": "2024-01-29T12:17:09.171Z"
   },
   {
    "duration": 565,
    "start_time": "2024-01-29T12:17:09.578Z"
   },
   {
    "duration": 750,
    "start_time": "2024-01-29T12:23:00.993Z"
   },
   {
    "duration": 796,
    "start_time": "2024-01-29T12:23:31.917Z"
   },
   {
    "duration": 170,
    "start_time": "2024-01-29T12:24:08.882Z"
   },
   {
    "duration": 3,
    "start_time": "2024-01-29T12:24:40.384Z"
   },
   {
    "duration": 10,
    "start_time": "2024-01-29T12:24:40.389Z"
   },
   {
    "duration": 5,
    "start_time": "2024-01-29T12:24:40.401Z"
   },
   {
    "duration": 7,
    "start_time": "2024-01-29T12:24:40.407Z"
   },
   {
    "duration": 20,
    "start_time": "2024-01-29T12:24:40.415Z"
   },
   {
    "duration": 780,
    "start_time": "2024-01-29T12:24:40.436Z"
   },
   {
    "duration": 4,
    "start_time": "2024-01-29T12:24:41.218Z"
   },
   {
    "duration": 760,
    "start_time": "2024-01-29T12:24:41.223Z"
   },
   {
    "duration": 95,
    "start_time": "2024-01-29T12:24:41.984Z"
   },
   {
    "duration": 37,
    "start_time": "2024-01-29T12:24:42.082Z"
   },
   {
    "duration": 75,
    "start_time": "2024-01-29T12:24:42.120Z"
   },
   {
    "duration": 205,
    "start_time": "2024-01-29T12:24:42.197Z"
   },
   {
    "duration": 138,
    "start_time": "2024-01-29T12:24:42.403Z"
   },
   {
    "duration": 64,
    "start_time": "2024-01-29T12:24:42.543Z"
   },
   {
    "duration": 18,
    "start_time": "2024-01-29T12:24:42.609Z"
   },
   {
    "duration": 65,
    "start_time": "2024-01-29T12:24:42.628Z"
   },
   {
    "duration": 17,
    "start_time": "2024-01-29T12:24:42.694Z"
   },
   {
    "duration": 41,
    "start_time": "2024-01-29T12:24:42.712Z"
   },
   {
    "duration": 45,
    "start_time": "2024-01-29T12:24:42.754Z"
   },
   {
    "duration": 87,
    "start_time": "2024-01-29T12:24:42.801Z"
   },
   {
    "duration": 43,
    "start_time": "2024-01-29T12:24:42.889Z"
   },
   {
    "duration": 35,
    "start_time": "2024-01-29T12:24:42.934Z"
   },
   {
    "duration": 16,
    "start_time": "2024-01-29T12:24:42.970Z"
   },
   {
    "duration": 393,
    "start_time": "2024-01-29T12:24:42.987Z"
   },
   {
    "duration": 17,
    "start_time": "2024-01-29T12:24:43.381Z"
   },
   {
    "duration": 17,
    "start_time": "2024-01-29T12:24:43.400Z"
   },
   {
    "duration": 6,
    "start_time": "2024-01-29T12:24:43.419Z"
   },
   {
    "duration": 21,
    "start_time": "2024-01-29T12:24:43.453Z"
   },
   {
    "duration": 10,
    "start_time": "2024-01-29T12:24:43.475Z"
   },
   {
    "duration": 34,
    "start_time": "2024-01-29T12:24:43.486Z"
   },
   {
    "duration": 9,
    "start_time": "2024-01-29T12:24:43.522Z"
   },
   {
    "duration": 31,
    "start_time": "2024-01-29T12:24:43.533Z"
   },
   {
    "duration": 15,
    "start_time": "2024-01-29T12:24:43.566Z"
   },
   {
    "duration": 12,
    "start_time": "2024-01-29T12:24:43.583Z"
   },
   {
    "duration": 5,
    "start_time": "2024-01-29T12:24:43.596Z"
   },
   {
    "duration": 13,
    "start_time": "2024-01-29T12:24:43.602Z"
   },
   {
    "duration": 74,
    "start_time": "2024-01-29T12:24:43.616Z"
   },
   {
    "duration": 13,
    "start_time": "2024-01-29T12:24:43.691Z"
   },
   {
    "duration": 3,
    "start_time": "2024-01-29T12:24:43.705Z"
   },
   {
    "duration": 90,
    "start_time": "2024-01-29T12:24:43.709Z"
   },
   {
    "duration": 584,
    "start_time": "2024-01-29T12:24:43.800Z"
   },
   {
    "duration": 192,
    "start_time": "2024-01-29T12:24:44.386Z"
   },
   {
    "duration": 76,
    "start_time": "2024-01-29T12:24:44.579Z"
   },
   {
    "duration": 4,
    "start_time": "2024-01-29T12:24:44.657Z"
   },
   {
    "duration": 2541,
    "start_time": "2024-01-29T12:24:44.662Z"
   },
   {
    "duration": 14,
    "start_time": "2024-01-29T12:24:47.206Z"
   },
   {
    "duration": 2939,
    "start_time": "2024-01-29T12:24:47.222Z"
   },
   {
    "duration": 41,
    "start_time": "2024-01-29T12:24:50.163Z"
   },
   {
    "duration": 24,
    "start_time": "2024-01-29T12:24:50.206Z"
   },
   {
    "duration": 38,
    "start_time": "2024-01-29T12:24:50.231Z"
   },
   {
    "duration": 34,
    "start_time": "2024-01-29T12:24:50.270Z"
   },
   {
    "duration": 781,
    "start_time": "2024-01-29T12:24:50.306Z"
   },
   {
    "duration": 202,
    "start_time": "2024-01-29T12:24:51.089Z"
   },
   {
    "duration": 2,
    "start_time": "2024-01-29T12:24:51.293Z"
   },
   {
    "duration": 13,
    "start_time": "2024-01-29T12:24:51.297Z"
   },
   {
    "duration": 147,
    "start_time": "2024-01-29T12:25:37.684Z"
   },
   {
    "duration": 422,
    "start_time": "2024-01-29T12:27:19.061Z"
   },
   {
    "duration": 226,
    "start_time": "2024-01-29T12:27:19.485Z"
   },
   {
    "duration": 785,
    "start_time": "2024-01-29T12:27:19.713Z"
   },
   {
    "duration": 70,
    "start_time": "2024-01-29T12:27:20.500Z"
   },
   {
    "duration": 3,
    "start_time": "2024-01-29T12:27:20.572Z"
   },
   {
    "duration": 1072,
    "start_time": "2024-01-29T12:27:20.577Z"
   },
   {
    "duration": 3,
    "start_time": "2024-01-29T12:27:21.651Z"
   },
   {
    "duration": 804,
    "start_time": "2024-01-29T12:27:21.656Z"
   },
   {
    "duration": 95,
    "start_time": "2024-01-29T12:27:22.461Z"
   },
   {
    "duration": 55,
    "start_time": "2024-01-29T12:27:22.558Z"
   },
   {
    "duration": 72,
    "start_time": "2024-01-29T12:27:22.614Z"
   },
   {
    "duration": 213,
    "start_time": "2024-01-29T12:27:22.687Z"
   },
   {
    "duration": 138,
    "start_time": "2024-01-29T12:27:22.902Z"
   },
   {
    "duration": 65,
    "start_time": "2024-01-29T12:27:23.042Z"
   },
   {
    "duration": 26,
    "start_time": "2024-01-29T12:27:23.109Z"
   },
   {
    "duration": 53,
    "start_time": "2024-01-29T12:27:23.136Z"
   },
   {
    "duration": 18,
    "start_time": "2024-01-29T12:27:23.190Z"
   },
   {
    "duration": 47,
    "start_time": "2024-01-29T12:27:23.210Z"
   },
   {
    "duration": 49,
    "start_time": "2024-01-29T12:27:23.258Z"
   },
   {
    "duration": 78,
    "start_time": "2024-01-29T12:27:23.308Z"
   },
   {
    "duration": 43,
    "start_time": "2024-01-29T12:27:23.387Z"
   },
   {
    "duration": 32,
    "start_time": "2024-01-29T12:27:23.432Z"
   },
   {
    "duration": 18,
    "start_time": "2024-01-29T12:27:23.466Z"
   },
   {
    "duration": 387,
    "start_time": "2024-01-29T12:27:23.485Z"
   },
   {
    "duration": 17,
    "start_time": "2024-01-29T12:27:23.873Z"
   },
   {
    "duration": 19,
    "start_time": "2024-01-29T12:27:23.891Z"
   },
   {
    "duration": 6,
    "start_time": "2024-01-29T12:27:23.911Z"
   },
   {
    "duration": 42,
    "start_time": "2024-01-29T12:27:23.920Z"
   },
   {
    "duration": 14,
    "start_time": "2024-01-29T12:27:23.963Z"
   },
   {
    "duration": 62,
    "start_time": "2024-01-29T12:27:23.978Z"
   },
   {
    "duration": 7,
    "start_time": "2024-01-29T12:27:24.042Z"
   },
   {
    "duration": 23,
    "start_time": "2024-01-29T12:27:24.051Z"
   },
   {
    "duration": 17,
    "start_time": "2024-01-29T12:27:24.075Z"
   },
   {
    "duration": 11,
    "start_time": "2024-01-29T12:27:24.093Z"
   },
   {
    "duration": 7,
    "start_time": "2024-01-29T12:27:24.105Z"
   },
   {
    "duration": 13,
    "start_time": "2024-01-29T12:27:24.113Z"
   },
   {
    "duration": 119,
    "start_time": "2024-01-29T12:27:24.127Z"
   },
   {
    "duration": 19,
    "start_time": "2024-01-29T12:27:24.251Z"
   },
   {
    "duration": 21,
    "start_time": "2024-01-29T12:27:24.272Z"
   },
   {
    "duration": 94,
    "start_time": "2024-01-29T12:27:24.295Z"
   },
   {
    "duration": 619,
    "start_time": "2024-01-29T12:27:24.390Z"
   },
   {
    "duration": 220,
    "start_time": "2024-01-29T12:27:25.010Z"
   },
   {
    "duration": 72,
    "start_time": "2024-01-29T12:27:25.231Z"
   },
   {
    "duration": 4,
    "start_time": "2024-01-29T12:27:25.304Z"
   },
   {
    "duration": 2061,
    "start_time": "2024-01-29T12:27:25.309Z"
   },
   {
    "duration": 18,
    "start_time": "2024-01-29T12:27:27.372Z"
   },
   {
    "duration": 2798,
    "start_time": "2024-01-29T12:27:27.392Z"
   },
   {
    "duration": 38,
    "start_time": "2024-01-29T12:27:30.192Z"
   },
   {
    "duration": 45,
    "start_time": "2024-01-29T12:27:30.231Z"
   },
   {
    "duration": 45,
    "start_time": "2024-01-29T12:27:30.278Z"
   },
   {
    "duration": 52,
    "start_time": "2024-01-29T12:27:30.325Z"
   },
   {
    "duration": 900,
    "start_time": "2024-01-29T12:27:30.378Z"
   },
   {
    "duration": 2,
    "start_time": "2024-01-29T12:27:31.279Z"
   },
   {
    "duration": 63,
    "start_time": "2024-01-29T12:27:31.283Z"
   },
   {
    "duration": 36,
    "start_time": "2024-01-29T12:27:31.347Z"
   },
   {
    "duration": 21469,
    "start_time": "2024-01-29T12:27:31.385Z"
   },
   {
    "duration": 204,
    "start_time": "2024-01-29T12:27:52.856Z"
   },
   {
    "duration": 39499,
    "start_time": "2024-01-29T12:27:53.154Z"
   },
   {
    "duration": 77,
    "start_time": "2024-01-29T12:39:36.588Z"
   },
   {
    "duration": 4,
    "start_time": "2024-01-29T12:39:46.529Z"
   },
   {
    "duration": 81,
    "start_time": "2024-01-29T12:40:34.667Z"
   },
   {
    "duration": 88,
    "start_time": "2024-01-29T12:40:39.314Z"
   },
   {
    "duration": 91,
    "start_time": "2024-01-29T12:40:44.615Z"
   },
   {
    "duration": 11,
    "start_time": "2024-01-29T12:40:57.952Z"
   },
   {
    "duration": 3,
    "start_time": "2024-01-29T12:41:45.723Z"
   },
   {
    "duration": 3,
    "start_time": "2024-01-29T12:41:56.798Z"
   },
   {
    "duration": 420,
    "start_time": "2024-01-29T12:51:26.626Z"
   },
   {
    "duration": 231,
    "start_time": "2024-01-29T12:51:27.047Z"
   },
   {
    "duration": 680,
    "start_time": "2024-01-29T12:51:27.280Z"
   },
   {
    "duration": 63,
    "start_time": "2024-01-29T12:51:27.961Z"
   },
   {
    "duration": 2,
    "start_time": "2024-01-29T12:51:28.026Z"
   },
   {
    "duration": 860,
    "start_time": "2024-01-29T12:51:28.029Z"
   },
   {
    "duration": 3,
    "start_time": "2024-01-29T12:51:28.891Z"
   },
   {
    "duration": 886,
    "start_time": "2024-01-29T12:51:28.895Z"
   },
   {
    "duration": 99,
    "start_time": "2024-01-29T12:51:29.782Z"
   },
   {
    "duration": 43,
    "start_time": "2024-01-29T12:51:29.882Z"
   },
   {
    "duration": 96,
    "start_time": "2024-01-29T12:51:29.927Z"
   },
   {
    "duration": 240,
    "start_time": "2024-01-29T12:51:30.025Z"
   },
   {
    "duration": 141,
    "start_time": "2024-01-29T12:51:30.267Z"
   },
   {
    "duration": 76,
    "start_time": "2024-01-29T12:51:30.411Z"
   },
   {
    "duration": 44,
    "start_time": "2024-01-29T12:51:30.489Z"
   },
   {
    "duration": 110,
    "start_time": "2024-01-29T12:51:30.534Z"
   },
   {
    "duration": 43,
    "start_time": "2024-01-29T12:51:30.645Z"
   },
   {
    "duration": 63,
    "start_time": "2024-01-29T12:51:30.690Z"
   },
   {
    "duration": 86,
    "start_time": "2024-01-29T12:51:30.755Z"
   },
   {
    "duration": 90,
    "start_time": "2024-01-29T12:51:30.842Z"
   },
   {
    "duration": 97,
    "start_time": "2024-01-29T12:51:30.933Z"
   },
   {
    "duration": 19,
    "start_time": "2024-01-29T12:51:31.032Z"
   },
   {
    "duration": 37,
    "start_time": "2024-01-29T12:51:31.053Z"
   },
   {
    "duration": 431,
    "start_time": "2024-01-29T12:51:31.092Z"
   },
   {
    "duration": 16,
    "start_time": "2024-01-29T12:51:31.525Z"
   },
   {
    "duration": 39,
    "start_time": "2024-01-29T12:51:31.551Z"
   },
   {
    "duration": 59,
    "start_time": "2024-01-29T12:51:31.592Z"
   },
   {
    "duration": 63,
    "start_time": "2024-01-29T12:51:31.653Z"
   },
   {
    "duration": 26,
    "start_time": "2024-01-29T12:51:31.718Z"
   },
   {
    "duration": 57,
    "start_time": "2024-01-29T12:51:31.745Z"
   },
   {
    "duration": 30,
    "start_time": "2024-01-29T12:51:31.803Z"
   },
   {
    "duration": 31,
    "start_time": "2024-01-29T12:51:31.834Z"
   },
   {
    "duration": 68,
    "start_time": "2024-01-29T12:51:31.866Z"
   },
   {
    "duration": 162,
    "start_time": "2024-01-29T12:51:31.935Z"
   },
   {
    "duration": 29,
    "start_time": "2024-01-29T12:51:32.098Z"
   },
   {
    "duration": 18,
    "start_time": "2024-01-29T12:51:32.128Z"
   },
   {
    "duration": 121,
    "start_time": "2024-01-29T12:51:32.147Z"
   },
   {
    "duration": 24,
    "start_time": "2024-01-29T12:51:32.270Z"
   },
   {
    "duration": 125,
    "start_time": "2024-01-29T12:51:32.295Z"
   },
   {
    "duration": 120,
    "start_time": "2024-01-29T12:51:32.422Z"
   },
   {
    "duration": 651,
    "start_time": "2024-01-29T12:51:32.547Z"
   },
   {
    "duration": 205,
    "start_time": "2024-01-29T12:51:33.199Z"
   },
   {
    "duration": 76,
    "start_time": "2024-01-29T12:51:33.406Z"
   },
   {
    "duration": 4,
    "start_time": "2024-01-29T12:51:33.484Z"
   },
   {
    "duration": 2113,
    "start_time": "2024-01-29T12:51:33.489Z"
   },
   {
    "duration": 18,
    "start_time": "2024-01-29T12:51:35.604Z"
   },
   {
    "duration": 3063,
    "start_time": "2024-01-29T12:51:35.624Z"
   },
   {
    "duration": 40,
    "start_time": "2024-01-29T12:51:38.688Z"
   },
   {
    "duration": 35,
    "start_time": "2024-01-29T12:51:38.730Z"
   },
   {
    "duration": 22,
    "start_time": "2024-01-29T12:51:38.767Z"
   },
   {
    "duration": 17,
    "start_time": "2024-01-29T12:51:38.791Z"
   },
   {
    "duration": 895,
    "start_time": "2024-01-29T12:51:38.810Z"
   },
   {
    "duration": 4,
    "start_time": "2024-01-29T12:51:39.706Z"
   },
   {
    "duration": 19,
    "start_time": "2024-01-29T12:51:39.711Z"
   },
   {
    "duration": 6,
    "start_time": "2024-01-29T12:51:39.731Z"
   },
   {
    "duration": 5,
    "start_time": "2024-01-29T12:51:39.738Z"
   },
   {
    "duration": 21509,
    "start_time": "2024-01-29T12:51:39.745Z"
   },
   {
    "duration": 204,
    "start_time": "2024-01-29T12:52:01.256Z"
   },
   {
    "duration": 42491,
    "start_time": "2024-01-29T12:52:01.462Z"
   },
   {
    "duration": 2,
    "start_time": "2024-01-29T12:52:43.955Z"
   },
   {
    "duration": 8,
    "start_time": "2024-01-29T12:52:43.959Z"
   },
   {
    "duration": 10647,
    "start_time": "2024-01-29T12:52:43.968Z"
   },
   {
    "duration": 1553,
    "start_time": "2024-01-29T12:52:54.616Z"
   },
   {
    "duration": 104,
    "start_time": "2024-01-29T12:52:56.171Z"
   },
   {
    "duration": 2,
    "start_time": "2024-01-29T12:52:56.277Z"
   },
   {
    "duration": 9,
    "start_time": "2024-01-29T12:52:56.281Z"
   },
   {
    "duration": 97566,
    "start_time": "2024-01-29T12:52:56.292Z"
   },
   {
    "duration": 2998,
    "start_time": "2024-01-29T12:54:33.859Z"
   },
   {
    "duration": 804,
    "start_time": "2024-01-29T12:54:36.858Z"
   },
   {
    "duration": 3,
    "start_time": "2024-01-29T12:54:37.663Z"
   },
   {
    "duration": 12,
    "start_time": "2024-01-29T12:54:37.667Z"
   },
   {
    "duration": 6,
    "start_time": "2024-01-29T12:54:37.680Z"
   },
   {
    "duration": 39990,
    "start_time": "2024-01-29T12:54:37.687Z"
   },
   {
    "duration": 1561,
    "start_time": "2024-01-29T12:55:17.678Z"
   },
   {
    "duration": 25,
    "start_time": "2024-01-29T12:55:19.240Z"
   },
   {
    "duration": 16,
    "start_time": "2024-01-29T12:55:19.266Z"
   },
   {
    "duration": 16,
    "start_time": "2024-01-29T12:55:19.284Z"
   },
   {
    "duration": 12,
    "start_time": "2024-01-29T12:55:19.301Z"
   },
   {
    "duration": 13,
    "start_time": "2024-01-29T12:55:19.314Z"
   },
   {
    "duration": 7,
    "start_time": "2024-01-29T12:55:19.328Z"
   },
   {
    "duration": 54,
    "start_time": "2024-01-29T12:55:19.336Z"
   }
  ],
  "kernelspec": {
   "display_name": "Python 3 (ipykernel)",
   "language": "python",
   "name": "python3"
  },
  "language_info": {
   "codemirror_mode": {
    "name": "ipython",
    "version": 3
   },
   "file_extension": ".py",
   "mimetype": "text/x-python",
   "name": "python",
   "nbconvert_exporter": "python",
   "pygments_lexer": "ipython3",
   "version": "3.11.7"
  },
  "toc": {
   "base_numbering": 1,
   "nav_menu": {},
   "number_sections": true,
   "sideBar": true,
   "skip_h1_title": true,
   "title_cell": "Table of Contents",
   "title_sidebar": "Contents",
   "toc_cell": false,
   "toc_position": {
    "height": "calc(100% - 180px)",
    "left": "10px",
    "top": "150px",
    "width": "348.797px"
   },
   "toc_section_display": true,
   "toc_window_display": true
  }
 },
 "nbformat": 4,
 "nbformat_minor": 4
}
