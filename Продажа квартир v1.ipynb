{
 "cells": [
  {
   "cell_type": "markdown",
   "metadata": {},
   "source": [
    "# Исследование объявлений о продаже квартир\n",
    "\n",
    "В вашем распоряжении данные сервиса Яндекс.Недвижимость — архив объявлений о продаже квартир в Санкт-Петербурге и соседних населённых пунктов за несколько лет. Нужно научиться определять рыночную стоимость объектов недвижимости. Ваша задача — установить параметры. Это позволит построить автоматизированную систему: она отследит аномалии и мошенническую деятельность. \n",
    "\n",
    "По каждой квартире на продажу доступны два вида данных. Первые вписаны пользователем, вторые — получены автоматически на основе картографических данных. Например, расстояние до центра, аэропорта, ближайшего парка и водоёма. "
   ]
  },
  {
   "cell_type": "markdown",
   "metadata": {},
   "source": [
    "### Откройте файл с данными и изучите общую информацию. "
   ]
  },
  {
   "cell_type": "code",
   "execution_count": 1,
   "metadata": {},
   "outputs": [],
   "source": [
    "import pandas as pd"
   ]
  },
  {
   "cell_type": "code",
   "execution_count": 2,
   "metadata": {},
   "outputs": [],
   "source": [
    "import matplotlib.pyplot as plt"
   ]
  },
  {
   "cell_type": "code",
   "execution_count": 3,
   "metadata": {},
   "outputs": [],
   "source": [
    "import warnings\n",
    "warnings.filterwarnings(\"ignore\")"
   ]
  },
  {
   "cell_type": "code",
   "execution_count": 4,
   "metadata": {},
   "outputs": [],
   "source": [
    "data = pd.read_csv('/datasets/real_estate_data.csv', sep='\\t')"
   ]
  },
  {
   "cell_type": "code",
   "execution_count": 5,
   "metadata": {},
   "outputs": [
    {
     "name": "stdout",
     "output_type": "stream",
     "text": [
      "<class 'pandas.core.frame.DataFrame'>\n",
      "RangeIndex: 23699 entries, 0 to 23698\n",
      "Data columns (total 22 columns):\n",
      " #   Column                Non-Null Count  Dtype  \n",
      "---  ------                --------------  -----  \n",
      " 0   total_images          23699 non-null  int64  \n",
      " 1   last_price            23699 non-null  float64\n",
      " 2   total_area            23699 non-null  float64\n",
      " 3   first_day_exposition  23699 non-null  object \n",
      " 4   rooms                 23699 non-null  int64  \n",
      " 5   ceiling_height        14504 non-null  float64\n",
      " 6   floors_total          23613 non-null  float64\n",
      " 7   living_area           21796 non-null  float64\n",
      " 8   floor                 23699 non-null  int64  \n",
      " 9   is_apartment          2775 non-null   object \n",
      " 10  studio                23699 non-null  bool   \n",
      " 11  open_plan             23699 non-null  bool   \n",
      " 12  kitchen_area          21421 non-null  float64\n",
      " 13  balcony               12180 non-null  float64\n",
      " 14  locality_name         23650 non-null  object \n",
      " 15  airports_nearest      18157 non-null  float64\n",
      " 16  cityCenters_nearest   18180 non-null  float64\n",
      " 17  parks_around3000      18181 non-null  float64\n",
      " 18  parks_nearest         8079 non-null   float64\n",
      " 19  ponds_around3000      18181 non-null  float64\n",
      " 20  ponds_nearest         9110 non-null   float64\n",
      " 21  days_exposition       20518 non-null  float64\n",
      "dtypes: bool(2), float64(14), int64(3), object(3)\n",
      "memory usage: 3.7+ MB\n"
     ]
    }
   ],
   "source": [
    "data.info()"
   ]
  },
  {
   "cell_type": "code",
   "execution_count": 6,
   "metadata": {},
   "outputs": [
    {
     "data": {
      "text/html": [
       "<div>\n",
       "<style scoped>\n",
       "    .dataframe tbody tr th:only-of-type {\n",
       "        vertical-align: middle;\n",
       "    }\n",
       "\n",
       "    .dataframe tbody tr th {\n",
       "        vertical-align: top;\n",
       "    }\n",
       "\n",
       "    .dataframe thead th {\n",
       "        text-align: right;\n",
       "    }\n",
       "</style>\n",
       "<table border=\"1\" class=\"dataframe\">\n",
       "  <thead>\n",
       "    <tr style=\"text-align: right;\">\n",
       "      <th></th>\n",
       "      <th>total_images</th>\n",
       "      <th>last_price</th>\n",
       "      <th>total_area</th>\n",
       "      <th>first_day_exposition</th>\n",
       "      <th>rooms</th>\n",
       "      <th>ceiling_height</th>\n",
       "      <th>floors_total</th>\n",
       "      <th>living_area</th>\n",
       "      <th>floor</th>\n",
       "      <th>is_apartment</th>\n",
       "      <th>...</th>\n",
       "      <th>kitchen_area</th>\n",
       "      <th>balcony</th>\n",
       "      <th>locality_name</th>\n",
       "      <th>airports_nearest</th>\n",
       "      <th>cityCenters_nearest</th>\n",
       "      <th>parks_around3000</th>\n",
       "      <th>parks_nearest</th>\n",
       "      <th>ponds_around3000</th>\n",
       "      <th>ponds_nearest</th>\n",
       "      <th>days_exposition</th>\n",
       "    </tr>\n",
       "  </thead>\n",
       "  <tbody>\n",
       "    <tr>\n",
       "      <th>0</th>\n",
       "      <td>20</td>\n",
       "      <td>13000000.0</td>\n",
       "      <td>108.0</td>\n",
       "      <td>2019-03-07T00:00:00</td>\n",
       "      <td>3</td>\n",
       "      <td>2.70</td>\n",
       "      <td>16.0</td>\n",
       "      <td>51.0</td>\n",
       "      <td>8</td>\n",
       "      <td>NaN</td>\n",
       "      <td>...</td>\n",
       "      <td>25.0</td>\n",
       "      <td>NaN</td>\n",
       "      <td>Санкт-Петербург</td>\n",
       "      <td>18863.0</td>\n",
       "      <td>16028.0</td>\n",
       "      <td>1.0</td>\n",
       "      <td>482.0</td>\n",
       "      <td>2.0</td>\n",
       "      <td>755.0</td>\n",
       "      <td>NaN</td>\n",
       "    </tr>\n",
       "    <tr>\n",
       "      <th>1</th>\n",
       "      <td>7</td>\n",
       "      <td>3350000.0</td>\n",
       "      <td>40.4</td>\n",
       "      <td>2018-12-04T00:00:00</td>\n",
       "      <td>1</td>\n",
       "      <td>NaN</td>\n",
       "      <td>11.0</td>\n",
       "      <td>18.6</td>\n",
       "      <td>1</td>\n",
       "      <td>NaN</td>\n",
       "      <td>...</td>\n",
       "      <td>11.0</td>\n",
       "      <td>2.0</td>\n",
       "      <td>посёлок Шушары</td>\n",
       "      <td>12817.0</td>\n",
       "      <td>18603.0</td>\n",
       "      <td>0.0</td>\n",
       "      <td>NaN</td>\n",
       "      <td>0.0</td>\n",
       "      <td>NaN</td>\n",
       "      <td>81.0</td>\n",
       "    </tr>\n",
       "    <tr>\n",
       "      <th>2</th>\n",
       "      <td>10</td>\n",
       "      <td>5196000.0</td>\n",
       "      <td>56.0</td>\n",
       "      <td>2015-08-20T00:00:00</td>\n",
       "      <td>2</td>\n",
       "      <td>NaN</td>\n",
       "      <td>5.0</td>\n",
       "      <td>34.3</td>\n",
       "      <td>4</td>\n",
       "      <td>NaN</td>\n",
       "      <td>...</td>\n",
       "      <td>8.3</td>\n",
       "      <td>0.0</td>\n",
       "      <td>Санкт-Петербург</td>\n",
       "      <td>21741.0</td>\n",
       "      <td>13933.0</td>\n",
       "      <td>1.0</td>\n",
       "      <td>90.0</td>\n",
       "      <td>2.0</td>\n",
       "      <td>574.0</td>\n",
       "      <td>558.0</td>\n",
       "    </tr>\n",
       "    <tr>\n",
       "      <th>3</th>\n",
       "      <td>0</td>\n",
       "      <td>64900000.0</td>\n",
       "      <td>159.0</td>\n",
       "      <td>2015-07-24T00:00:00</td>\n",
       "      <td>3</td>\n",
       "      <td>NaN</td>\n",
       "      <td>14.0</td>\n",
       "      <td>NaN</td>\n",
       "      <td>9</td>\n",
       "      <td>NaN</td>\n",
       "      <td>...</td>\n",
       "      <td>NaN</td>\n",
       "      <td>0.0</td>\n",
       "      <td>Санкт-Петербург</td>\n",
       "      <td>28098.0</td>\n",
       "      <td>6800.0</td>\n",
       "      <td>2.0</td>\n",
       "      <td>84.0</td>\n",
       "      <td>3.0</td>\n",
       "      <td>234.0</td>\n",
       "      <td>424.0</td>\n",
       "    </tr>\n",
       "    <tr>\n",
       "      <th>4</th>\n",
       "      <td>2</td>\n",
       "      <td>10000000.0</td>\n",
       "      <td>100.0</td>\n",
       "      <td>2018-06-19T00:00:00</td>\n",
       "      <td>2</td>\n",
       "      <td>3.03</td>\n",
       "      <td>14.0</td>\n",
       "      <td>32.0</td>\n",
       "      <td>13</td>\n",
       "      <td>NaN</td>\n",
       "      <td>...</td>\n",
       "      <td>41.0</td>\n",
       "      <td>NaN</td>\n",
       "      <td>Санкт-Петербург</td>\n",
       "      <td>31856.0</td>\n",
       "      <td>8098.0</td>\n",
       "      <td>2.0</td>\n",
       "      <td>112.0</td>\n",
       "      <td>1.0</td>\n",
       "      <td>48.0</td>\n",
       "      <td>121.0</td>\n",
       "    </tr>\n",
       "  </tbody>\n",
       "</table>\n",
       "<p>5 rows × 22 columns</p>\n",
       "</div>"
      ],
      "text/plain": [
       "   total_images  last_price  total_area first_day_exposition  rooms  \\\n",
       "0            20  13000000.0       108.0  2019-03-07T00:00:00      3   \n",
       "1             7   3350000.0        40.4  2018-12-04T00:00:00      1   \n",
       "2            10   5196000.0        56.0  2015-08-20T00:00:00      2   \n",
       "3             0  64900000.0       159.0  2015-07-24T00:00:00      3   \n",
       "4             2  10000000.0       100.0  2018-06-19T00:00:00      2   \n",
       "\n",
       "   ceiling_height  floors_total  living_area  floor is_apartment  ...  \\\n",
       "0            2.70          16.0         51.0      8          NaN  ...   \n",
       "1             NaN          11.0         18.6      1          NaN  ...   \n",
       "2             NaN           5.0         34.3      4          NaN  ...   \n",
       "3             NaN          14.0          NaN      9          NaN  ...   \n",
       "4            3.03          14.0         32.0     13          NaN  ...   \n",
       "\n",
       "   kitchen_area  balcony    locality_name  airports_nearest  \\\n",
       "0          25.0      NaN  Санкт-Петербург           18863.0   \n",
       "1          11.0      2.0   посёлок Шушары           12817.0   \n",
       "2           8.3      0.0  Санкт-Петербург           21741.0   \n",
       "3           NaN      0.0  Санкт-Петербург           28098.0   \n",
       "4          41.0      NaN  Санкт-Петербург           31856.0   \n",
       "\n",
       "  cityCenters_nearest  parks_around3000  parks_nearest  ponds_around3000  \\\n",
       "0             16028.0               1.0          482.0               2.0   \n",
       "1             18603.0               0.0            NaN               0.0   \n",
       "2             13933.0               1.0           90.0               2.0   \n",
       "3              6800.0               2.0           84.0               3.0   \n",
       "4              8098.0               2.0          112.0               1.0   \n",
       "\n",
       "   ponds_nearest  days_exposition  \n",
       "0          755.0              NaN  \n",
       "1            NaN             81.0  \n",
       "2          574.0            558.0  \n",
       "3          234.0            424.0  \n",
       "4           48.0            121.0  \n",
       "\n",
       "[5 rows x 22 columns]"
      ]
     },
     "execution_count": 6,
     "metadata": {},
     "output_type": "execute_result"
    }
   ],
   "source": [
    "data.head(5)"
   ]
  },
  {
   "cell_type": "code",
   "execution_count": 7,
   "metadata": {},
   "outputs": [
    {
     "data": {
      "image/png": "[encoded data removed]",
      "text/plain": [
       "<Figure size 1080x1440 with 20 Axes>"
      ]
     },
     "metadata": {
      "needs_background": "light"
     },
     "output_type": "display_data"
    }
   ],
   "source": [
    "data.hist(figsize=(15, 20));"
   ]
  },
  {
   "cell_type": "markdown",
   "metadata": {},
   "source": [
    "Где:\n",
    "\n",
    "    airports_nearest — расстояние до ближайшего аэропорта в метрах (м)  \n",
    "    balcony — число балконов  \n",
    "    ceiling_height — высота потолков (м)  \n",
    "    cityCenters_nearest — расстояние до центра города (м)  \n",
    "    days_exposition — сколько дней было размещено объявление (от публикации до снятия)  \n",
    "    first_day_exposition — дата публикации  \n",
    "    floor — этаж  \n",
    "    floors_total — всего этажей в доме  \n",
    "    is_apartment — апартаменты (булев тип)  \n",
    "    kitchen_area — площадь кухни в квадратных метрах (м²)  \n",
    "    last_price — цена на момент снятия с публикации  \n",
    "    living_area — жилая площадь в квадратных метрах (м²)  \n",
    "    locality_name — название населённого пункта  \n",
    "    open_plan — свободная планировка (булев тип)    \n",
    "    parks_around3000 — число парков в радиусе 3 км  \n",
    "    parks_nearest — расстояние до ближайшего парка (м)  \n",
    "    ponds_around3000 — число водоёмов в радиусе 3 км  \n",
    "    ponds_nearest — расстояние до ближайшего водоёма (м)  \n",
    "    rooms — число комнат  \n",
    "    studio — квартира-студия (булев тип)  \n",
    "    total_area — общая площадь квартиры в квадратных метрах (м²)  \n",
    "    total_images — число фотографий квартиры в объявлении  "
   ]
  },
  {
   "cell_type": "markdown",
   "metadata": {},
   "source": [
    "### Предобработка данных"
   ]
  },
  {
   "cell_type": "markdown",
   "metadata": {},
   "source": [
    "#### Обработка пропусков и аномальных значений"
   ]
  },
  {
   "cell_type": "code",
   "execution_count": 8,
   "metadata": {},
   "outputs": [
    {
     "data": {
      "text/plain": [
       "total_images                0\n",
       "last_price                  0\n",
       "total_area                  0\n",
       "first_day_exposition        0\n",
       "rooms                       0\n",
       "ceiling_height           9195\n",
       "floors_total               86\n",
       "living_area              1903\n",
       "floor                       0\n",
       "is_apartment            20924\n",
       "studio                      0\n",
       "open_plan                   0\n",
       "kitchen_area             2278\n",
       "balcony                 11519\n",
       "locality_name              49\n",
       "airports_nearest         5542\n",
       "cityCenters_nearest      5519\n",
       "parks_around3000         5518\n",
       "parks_nearest           15620\n",
       "ponds_around3000         5518\n",
       "ponds_nearest           14589\n",
       "days_exposition          3181\n",
       "dtype: int64"
      ]
     },
     "execution_count": 8,
     "metadata": {},
     "output_type": "execute_result"
    }
   ],
   "source": [
    "# Где есть пропуски\n",
    "data.isna().sum()"
   ]
  },
  {
   "cell_type": "code",
   "execution_count": 9,
   "metadata": {},
   "outputs": [
    {
     "data": {
      "text/html": [
       "<div>\n",
       "<style scoped>\n",
       "    .dataframe tbody tr th:only-of-type {\n",
       "        vertical-align: middle;\n",
       "    }\n",
       "\n",
       "    .dataframe tbody tr th {\n",
       "        vertical-align: top;\n",
       "    }\n",
       "\n",
       "    .dataframe thead th {\n",
       "        text-align: right;\n",
       "    }\n",
       "</style>\n",
       "<table border=\"1\" class=\"dataframe\">\n",
       "  <thead>\n",
       "    <tr style=\"text-align: right;\">\n",
       "      <th></th>\n",
       "      <th>total_images</th>\n",
       "      <th>last_price</th>\n",
       "      <th>total_area</th>\n",
       "      <th>rooms</th>\n",
       "      <th>ceiling_height</th>\n",
       "      <th>floors_total</th>\n",
       "      <th>living_area</th>\n",
       "      <th>floor</th>\n",
       "      <th>kitchen_area</th>\n",
       "      <th>balcony</th>\n",
       "      <th>airports_nearest</th>\n",
       "      <th>cityCenters_nearest</th>\n",
       "      <th>parks_around3000</th>\n",
       "      <th>parks_nearest</th>\n",
       "      <th>ponds_around3000</th>\n",
       "      <th>ponds_nearest</th>\n",
       "      <th>days_exposition</th>\n",
       "    </tr>\n",
       "  </thead>\n",
       "  <tbody>\n",
       "    <tr>\n",
       "      <th>count</th>\n",
       "      <td>23699.000000</td>\n",
       "      <td>2.369900e+04</td>\n",
       "      <td>23699.000000</td>\n",
       "      <td>23699.000000</td>\n",
       "      <td>14504.000000</td>\n",
       "      <td>23613.000000</td>\n",
       "      <td>21796.000000</td>\n",
       "      <td>23699.000000</td>\n",
       "      <td>21421.000000</td>\n",
       "      <td>12180.000000</td>\n",
       "      <td>18157.000000</td>\n",
       "      <td>18180.000000</td>\n",
       "      <td>18181.000000</td>\n",
       "      <td>8079.000000</td>\n",
       "      <td>18181.000000</td>\n",
       "      <td>9110.000000</td>\n",
       "      <td>20518.000000</td>\n",
       "    </tr>\n",
       "    <tr>\n",
       "      <th>mean</th>\n",
       "      <td>9.858475</td>\n",
       "      <td>6.541549e+06</td>\n",
       "      <td>60.348651</td>\n",
       "      <td>2.070636</td>\n",
       "      <td>2.771499</td>\n",
       "      <td>10.673824</td>\n",
       "      <td>34.457852</td>\n",
       "      <td>5.892358</td>\n",
       "      <td>10.569807</td>\n",
       "      <td>1.150082</td>\n",
       "      <td>28793.672193</td>\n",
       "      <td>14191.277833</td>\n",
       "      <td>0.611408</td>\n",
       "      <td>490.804555</td>\n",
       "      <td>0.770255</td>\n",
       "      <td>517.980900</td>\n",
       "      <td>180.888634</td>\n",
       "    </tr>\n",
       "    <tr>\n",
       "      <th>std</th>\n",
       "      <td>5.682529</td>\n",
       "      <td>1.088701e+07</td>\n",
       "      <td>35.654083</td>\n",
       "      <td>1.078405</td>\n",
       "      <td>1.261056</td>\n",
       "      <td>6.597173</td>\n",
       "      <td>22.030445</td>\n",
       "      <td>4.885249</td>\n",
       "      <td>5.905438</td>\n",
       "      <td>1.071300</td>\n",
       "      <td>12630.880622</td>\n",
       "      <td>8608.386210</td>\n",
       "      <td>0.802074</td>\n",
       "      <td>342.317995</td>\n",
       "      <td>0.938346</td>\n",
       "      <td>277.720643</td>\n",
       "      <td>219.727988</td>\n",
       "    </tr>\n",
       "    <tr>\n",
       "      <th>min</th>\n",
       "      <td>0.000000</td>\n",
       "      <td>1.219000e+04</td>\n",
       "      <td>12.000000</td>\n",
       "      <td>0.000000</td>\n",
       "      <td>1.000000</td>\n",
       "      <td>1.000000</td>\n",
       "      <td>2.000000</td>\n",
       "      <td>1.000000</td>\n",
       "      <td>1.300000</td>\n",
       "      <td>0.000000</td>\n",
       "      <td>0.000000</td>\n",
       "      <td>181.000000</td>\n",
       "      <td>0.000000</td>\n",
       "      <td>1.000000</td>\n",
       "      <td>0.000000</td>\n",
       "      <td>13.000000</td>\n",
       "      <td>1.000000</td>\n",
       "    </tr>\n",
       "    <tr>\n",
       "      <th>25%</th>\n",
       "      <td>6.000000</td>\n",
       "      <td>3.400000e+06</td>\n",
       "      <td>40.000000</td>\n",
       "      <td>1.000000</td>\n",
       "      <td>2.520000</td>\n",
       "      <td>5.000000</td>\n",
       "      <td>18.600000</td>\n",
       "      <td>2.000000</td>\n",
       "      <td>7.000000</td>\n",
       "      <td>0.000000</td>\n",
       "      <td>18585.000000</td>\n",
       "      <td>9238.000000</td>\n",
       "      <td>0.000000</td>\n",
       "      <td>288.000000</td>\n",
       "      <td>0.000000</td>\n",
       "      <td>294.000000</td>\n",
       "      <td>45.000000</td>\n",
       "    </tr>\n",
       "    <tr>\n",
       "      <th>50%</th>\n",
       "      <td>9.000000</td>\n",
       "      <td>4.650000e+06</td>\n",
       "      <td>52.000000</td>\n",
       "      <td>2.000000</td>\n",
       "      <td>2.650000</td>\n",
       "      <td>9.000000</td>\n",
       "      <td>30.000000</td>\n",
       "      <td>4.000000</td>\n",
       "      <td>9.100000</td>\n",
       "      <td>1.000000</td>\n",
       "      <td>26726.000000</td>\n",
       "      <td>13098.500000</td>\n",
       "      <td>0.000000</td>\n",
       "      <td>455.000000</td>\n",
       "      <td>1.000000</td>\n",
       "      <td>502.000000</td>\n",
       "      <td>95.000000</td>\n",
       "    </tr>\n",
       "    <tr>\n",
       "      <th>75%</th>\n",
       "      <td>14.000000</td>\n",
       "      <td>6.800000e+06</td>\n",
       "      <td>69.900000</td>\n",
       "      <td>3.000000</td>\n",
       "      <td>2.800000</td>\n",
       "      <td>16.000000</td>\n",
       "      <td>42.300000</td>\n",
       "      <td>8.000000</td>\n",
       "      <td>12.000000</td>\n",
       "      <td>2.000000</td>\n",
       "      <td>37273.000000</td>\n",
       "      <td>16293.000000</td>\n",
       "      <td>1.000000</td>\n",
       "      <td>612.000000</td>\n",
       "      <td>1.000000</td>\n",
       "      <td>729.000000</td>\n",
       "      <td>232.000000</td>\n",
       "    </tr>\n",
       "    <tr>\n",
       "      <th>max</th>\n",
       "      <td>50.000000</td>\n",
       "      <td>7.630000e+08</td>\n",
       "      <td>900.000000</td>\n",
       "      <td>19.000000</td>\n",
       "      <td>100.000000</td>\n",
       "      <td>60.000000</td>\n",
       "      <td>409.700000</td>\n",
       "      <td>33.000000</td>\n",
       "      <td>112.000000</td>\n",
       "      <td>5.000000</td>\n",
       "      <td>84869.000000</td>\n",
       "      <td>65968.000000</td>\n",
       "      <td>3.000000</td>\n",
       "      <td>3190.000000</td>\n",
       "      <td>3.000000</td>\n",
       "      <td>1344.000000</td>\n",
       "      <td>1580.000000</td>\n",
       "    </tr>\n",
       "  </tbody>\n",
       "</table>\n",
       "</div>"
      ],
      "text/plain": [
       "       total_images    last_price    total_area         rooms  ceiling_height  \\\n",
       "count  23699.000000  2.369900e+04  23699.000000  23699.000000    14504.000000   \n",
       "mean       9.858475  6.541549e+06     60.348651      2.070636        2.771499   \n",
       "std        5.682529  1.088701e+07     35.654083      1.078405        1.261056   \n",
       "min        0.000000  1.219000e+04     12.000000      0.000000        1.000000   \n",
       "25%        6.000000  3.400000e+06     40.000000      1.000000        2.520000   \n",
       "50%        9.000000  4.650000e+06     52.000000      2.000000        2.650000   \n",
       "75%       14.000000  6.800000e+06     69.900000      3.000000        2.800000   \n",
       "max       50.000000  7.630000e+08    900.000000     19.000000      100.000000   \n",
       "\n",
       "       floors_total   living_area         floor  kitchen_area       balcony  \\\n",
       "count  23613.000000  21796.000000  23699.000000  21421.000000  12180.000000   \n",
       "mean      10.673824     34.457852      5.892358     10.569807      1.150082   \n",
       "std        6.597173     22.030445      4.885249      5.905438      1.071300   \n",
       "min        1.000000      2.000000      1.000000      1.300000      0.000000   \n",
       "25%        5.000000     18.600000      2.000000      7.000000      0.000000   \n",
       "50%        9.000000     30.000000      4.000000      9.100000      1.000000   \n",
       "75%       16.000000     42.300000      8.000000     12.000000      2.000000   \n",
       "max       60.000000    409.700000     33.000000    112.000000      5.000000   \n",
       "\n",
       "       airports_nearest  cityCenters_nearest  parks_around3000  parks_nearest  \\\n",
       "count      18157.000000         18180.000000      18181.000000    8079.000000   \n",
       "mean       28793.672193         14191.277833          0.611408     490.804555   \n",
       "std        12630.880622          8608.386210          0.802074     342.317995   \n",
       "min            0.000000           181.000000          0.000000       1.000000   \n",
       "25%        18585.000000          9238.000000          0.000000     288.000000   \n",
       "50%        26726.000000         13098.500000          0.000000     455.000000   \n",
       "75%        37273.000000         16293.000000          1.000000     612.000000   \n",
       "max        84869.000000         65968.000000          3.000000    3190.000000   \n",
       "\n",
       "       ponds_around3000  ponds_nearest  days_exposition  \n",
       "count      18181.000000    9110.000000     20518.000000  \n",
       "mean           0.770255     517.980900       180.888634  \n",
       "std            0.938346     277.720643       219.727988  \n",
       "min            0.000000      13.000000         1.000000  \n",
       "25%            0.000000     294.000000        45.000000  \n",
       "50%            1.000000     502.000000        95.000000  \n",
       "75%            1.000000     729.000000       232.000000  \n",
       "max            3.000000    1344.000000      1580.000000  "
      ]
     },
     "execution_count": 9,
     "metadata": {},
     "output_type": "execute_result"
    }
   ],
   "source": [
    "# Где есть выбросы\n",
    "data.describe()"
   ]
  },
  {
   "cell_type": "markdown",
   "metadata": {},
   "source": [
    "**ceiling_height : используется в исследовании**"
   ]
  },
  {
   "cell_type": "code",
   "execution_count": 10,
   "metadata": {},
   "outputs": [
    {
     "data": {
      "text/plain": [
       "array([  2.7 ,    nan,   3.03,   2.5 ,   2.67,   2.56,   3.05,   2.75,\n",
       "         2.6 ,   2.9 ,   2.8 ,   2.55,   3.  ,   2.65,   3.2 ,   2.61,\n",
       "         3.25,   3.45,   2.77,   2.85,   2.64,   2.57,   4.15,   3.5 ,\n",
       "         3.3 ,   2.71,   4.  ,   2.47,   2.73,   2.84,   3.1 ,   2.34,\n",
       "         3.4 ,   3.06,   2.72,   2.54,   2.51,   2.78,   2.76,  25.  ,\n",
       "         2.58,   3.7 ,   2.52,   5.2 ,   2.87,   2.66,   2.59,   2.  ,\n",
       "         2.45,   3.6 ,   2.92,   3.11,   3.13,   3.8 ,   3.15,   3.55,\n",
       "         3.16,   3.62,   3.12,   2.53,   2.74,   2.96,   2.46,   5.3 ,\n",
       "         5.  ,   2.79,   2.95,   4.06,   2.94,   3.82,   3.54,   3.53,\n",
       "         2.83,   4.7 ,   2.4 ,   3.38,   3.01,   5.6 ,   3.65,   3.9 ,\n",
       "         3.18,   3.35,   2.3 ,   3.57,   2.48,   2.62,   2.82,   3.98,\n",
       "         2.63,   3.83,   3.52,   3.95,   3.75,   2.88,   3.67,   3.87,\n",
       "         3.66,   3.85,   3.86,   4.19,   3.24,   4.8 ,   4.5 ,   4.2 ,\n",
       "         3.36,  32.  ,   3.08,   3.68,   3.07,   3.37,   3.09,   8.  ,\n",
       "         3.26,   3.34,   2.81,   3.44,   2.97,   3.14,   4.37,   2.68,\n",
       "         3.22,   3.27,  27.  ,   4.1 ,   2.93,   3.46,  24.  ,   3.47,\n",
       "         3.33,   3.63,   3.32,  26.  ,   1.2 ,   8.3 ,   2.98,   2.86,\n",
       "         3.17,   4.4 ,   3.28,   3.04,   4.45,   5.5 ,   3.84,   3.23,\n",
       "         3.02,   3.21,   3.43,   3.78,   4.3 ,   3.39,   2.69,   3.31,\n",
       "         4.65,   3.56,   2.2 ,   3.51,   3.93,   3.42,   2.99,   3.49,\n",
       "        14.  ,   4.14,   2.91,   3.88,   1.75,   4.25,   3.29,  20.  ,\n",
       "         2.25,   3.76,   3.69,   6.  ,  22.6 ,   2.89,   3.58,   5.8 ,\n",
       "        27.5 ,   2.49,   4.9 ,   3.48,  10.3 ,   1.  , 100.  ,   3.59])"
      ]
     },
     "execution_count": 10,
     "metadata": {},
     "output_type": "execute_result"
    }
   ],
   "source": [
    "# почти в 50% записей не указана высота потолков, заполнить нечем\n",
    "# помимо этого, часть указанных данных неадекватна (>10м)\n",
    "data['ceiling_height'].unique()"
   ]
  },
  {
   "cell_type": "code",
   "execution_count": 11,
   "metadata": {},
   "outputs": [
    {
     "data": {
      "text/plain": [
       "array([ 2.7 ,   nan,  3.03,  2.5 ,  2.67,  2.56,  3.05,  2.75,  2.6 ,\n",
       "        2.9 ,  2.8 ,  2.55,  3.  ,  2.65,  3.2 ,  2.61,  3.25,  3.45,\n",
       "        2.77,  2.85,  2.64,  2.57,  4.15,  3.5 ,  3.3 ,  2.71,  4.  ,\n",
       "        2.47,  2.73,  2.84,  3.1 ,  2.34,  3.4 ,  3.06,  2.72,  2.54,\n",
       "        2.51,  2.78,  2.76,  2.58,  3.7 ,  2.52,  5.2 ,  2.87,  2.66,\n",
       "        2.59,  2.  ,  2.45,  3.6 ,  2.92,  3.11,  3.13,  3.8 ,  3.15,\n",
       "        3.55,  3.16,  3.62,  3.12,  2.53,  2.74,  2.96,  2.46,  5.3 ,\n",
       "        5.  ,  2.79,  2.95,  4.06,  2.94,  3.82,  3.54,  3.53,  2.83,\n",
       "        4.7 ,  2.4 ,  3.38,  3.01,  5.6 ,  3.65,  3.9 ,  3.18,  3.35,\n",
       "        2.3 ,  3.57,  2.48,  2.62,  2.82,  3.98,  2.63,  3.83,  3.52,\n",
       "        3.95,  3.75,  2.88,  3.67,  3.87,  3.66,  3.85,  3.86,  4.19,\n",
       "        3.24,  4.8 ,  4.5 ,  4.2 ,  3.36,  3.08,  3.68,  3.07,  3.37,\n",
       "        3.09,  8.  ,  3.26,  3.34,  2.81,  3.44,  2.97,  3.14,  4.37,\n",
       "        2.68,  3.22,  3.27,  4.1 ,  2.93,  3.46,  3.47,  3.33,  3.63,\n",
       "        3.32,  1.2 ,  8.3 ,  2.98,  2.86,  3.17,  4.4 ,  3.28,  3.04,\n",
       "        4.45,  5.5 ,  3.84,  3.23,  3.02,  3.21,  3.43,  3.78,  4.3 ,\n",
       "        3.39,  2.69,  3.31,  4.65,  3.56,  2.2 ,  3.51,  3.93,  3.42,\n",
       "        2.99,  3.49, 14.  ,  4.14,  2.91,  3.88,  1.75,  4.25,  3.29,\n",
       "        2.25,  3.76,  3.69,  6.  ,  2.26,  2.89,  3.58,  5.8 ,  2.49,\n",
       "        4.9 ,  3.48, 10.3 ,  1.  , 10.  ,  3.59])"
      ]
     },
     "execution_count": 11,
     "metadata": {},
     "output_type": "execute_result"
    }
   ],
   "source": [
    "# разделю все ceiling_height > 10 на 10, т.к. это, скорее всего, ошибка\n",
    "data.loc[data['ceiling_height'] > 15, 'ceiling_height'] = \\\n",
    "data.loc[data['ceiling_height'] > 15, 'ceiling_height'] / 10\n",
    "\n",
    "data['ceiling_height'].unique()"
   ]
  },
  {
   "cell_type": "code",
   "execution_count": 12,
   "metadata": {},
   "outputs": [],
   "source": [
    "# одну строку со значением в 100м удалю\n",
    "data = data.query('ceiling_height != 10')"
   ]
  },
  {
   "cell_type": "markdown",
   "metadata": {},
   "source": [
    "**floors_total : используется в исследовании**"
   ]
  },
  {
   "cell_type": "code",
   "execution_count": 13,
   "metadata": {},
   "outputs": [
    {
     "data": {
      "text/plain": [
       "array([16., 11.,  5., 14., 12., 26., 24., 27.,  9.,  6., 17., 25.,  3.,\n",
       "       23., 19., 18.,  4., 22.,  8.,  2., 10.,  7., 13., 15., 20., 28.,\n",
       "       36., 21., 35., 34., 60.,  1., 29., 33., 52., 37.])"
      ]
     },
     "execution_count": 13,
     "metadata": {},
     "output_type": "execute_result"
    }
   ],
   "source": [
    "# пропущенные значения заполнить нельзя\n",
    "# строк мало (86), исключаю их из исследования\n",
    "data = data.dropna(subset=['floors_total'])\n",
    "# есть этажи более 30ти, это может быть не ошибка, если квартира на этаже ниже максимального\n",
    "data['floors_total'].unique()"
   ]
  },
  {
   "cell_type": "code",
   "execution_count": 14,
   "metadata": {},
   "outputs": [
    {
     "data": {
      "text/plain": [
       "0"
      ]
     },
     "execution_count": 14,
     "metadata": {},
     "output_type": "execute_result"
    }
   ],
   "source": [
    "# большие этажи это не ошибка\n",
    "# если в будущем это не помешает проводить исследование, пока строки оставляю\n",
    "data.query('floors_total > 30 & floor > floors_total').shape[0]"
   ]
  },
  {
   "cell_type": "markdown",
   "metadata": {},
   "source": [
    "**living_area и kitchen_area : используется в исследовании  (красный) \n",
    "столбцы, относящиеся к площади квартиры:\n",
    "kitchen_area, living_area и total_area (в total_area пропусков нет)**"
   ]
  },
  {
   "cell_type": "code",
   "execution_count": 15,
   "metadata": {},
   "outputs": [
    {
     "data": {
      "text/plain": [
       "0.568210015790661"
      ]
     },
     "execution_count": 15,
     "metadata": {},
     "output_type": "execute_result"
    }
   ],
   "source": [
    "# Посчитаю зависимость living от total в известных данных\n",
    "data_living_ratio = (data.query('~living_area.isna() & ~total_area.isna()')['living_area'] / \\\n",
    "                     data.query('~living_area.isna() & ~total_area.isna()')['total_area']).median()\n",
    "data_living_ratio"
   ]
  },
  {
   "cell_type": "code",
   "execution_count": 16,
   "metadata": {},
   "outputs": [],
   "source": [
    "# Заполняю пропуски в living_area значениями total_area * data_living_ratio\n",
    "data['living_area'] = data['living_area'].fillna(data['total_area'] * data_living_ratio)"
   ]
  },
  {
   "cell_type": "markdown",
   "metadata": {},
   "source": [
    "Анлогично поступаю с 'kitchen_area'"
   ]
  },
  {
   "cell_type": "code",
   "execution_count": 17,
   "metadata": {},
   "outputs": [
    {
     "data": {
      "text/plain": [
       "0.1723404255319149"
      ]
     },
     "execution_count": 17,
     "metadata": {},
     "output_type": "execute_result"
    }
   ],
   "source": [
    "data_kitchen_ratio = (data.query('~kitchen_area.isna() & ~total_area.isna()')['kitchen_area'] / \\\n",
    "                     data.query('~kitchen_area.isna() & ~total_area.isna()')['total_area']).median()\n",
    "data_kitchen_ratio"
   ]
  },
  {
   "cell_type": "code",
   "execution_count": 18,
   "metadata": {},
   "outputs": [],
   "source": [
    "data['kitchen_area'] = data['kitchen_area'].fillna(data['total_area'] * data_kitchen_ratio)"
   ]
  },
  {
   "cell_type": "code",
   "execution_count": 19,
   "metadata": {},
   "outputs": [
    {
     "data": {
      "text/html": [
       "<div>\n",
       "<style scoped>\n",
       "    .dataframe tbody tr th:only-of-type {\n",
       "        vertical-align: middle;\n",
       "    }\n",
       "\n",
       "    .dataframe tbody tr th {\n",
       "        vertical-align: top;\n",
       "    }\n",
       "\n",
       "    .dataframe thead th {\n",
       "        text-align: right;\n",
       "    }\n",
       "</style>\n",
       "<table border=\"1\" class=\"dataframe\">\n",
       "  <thead>\n",
       "    <tr style=\"text-align: right;\">\n",
       "      <th></th>\n",
       "      <th>total_images</th>\n",
       "      <th>last_price</th>\n",
       "      <th>total_area</th>\n",
       "      <th>first_day_exposition</th>\n",
       "      <th>rooms</th>\n",
       "      <th>ceiling_height</th>\n",
       "      <th>floors_total</th>\n",
       "      <th>living_area</th>\n",
       "      <th>floor</th>\n",
       "      <th>is_apartment</th>\n",
       "      <th>...</th>\n",
       "      <th>kitchen_area</th>\n",
       "      <th>balcony</th>\n",
       "      <th>locality_name</th>\n",
       "      <th>airports_nearest</th>\n",
       "      <th>cityCenters_nearest</th>\n",
       "      <th>parks_around3000</th>\n",
       "      <th>parks_nearest</th>\n",
       "      <th>ponds_around3000</th>\n",
       "      <th>ponds_nearest</th>\n",
       "      <th>days_exposition</th>\n",
       "    </tr>\n",
       "  </thead>\n",
       "  <tbody>\n",
       "    <tr>\n",
       "      <th>21758</th>\n",
       "      <td>0</td>\n",
       "      <td>2330000.0</td>\n",
       "      <td>23.0</td>\n",
       "      <td>2018-01-01T00:00:00</td>\n",
       "      <td>0</td>\n",
       "      <td>NaN</td>\n",
       "      <td>24.0</td>\n",
       "      <td>2.00000</td>\n",
       "      <td>22</td>\n",
       "      <td>NaN</td>\n",
       "      <td>...</td>\n",
       "      <td>3.963830</td>\n",
       "      <td>NaN</td>\n",
       "      <td>посёлок Мурино</td>\n",
       "      <td>NaN</td>\n",
       "      <td>NaN</td>\n",
       "      <td>NaN</td>\n",
       "      <td>NaN</td>\n",
       "      <td>NaN</td>\n",
       "      <td>NaN</td>\n",
       "      <td>66.0</td>\n",
       "    </tr>\n",
       "    <tr>\n",
       "      <th>13915</th>\n",
       "      <td>20</td>\n",
       "      <td>6350000.0</td>\n",
       "      <td>52.0</td>\n",
       "      <td>2018-02-06T00:00:00</td>\n",
       "      <td>2</td>\n",
       "      <td>3.0</td>\n",
       "      <td>6.0</td>\n",
       "      <td>2.00000</td>\n",
       "      <td>2</td>\n",
       "      <td>NaN</td>\n",
       "      <td>...</td>\n",
       "      <td>9.000000</td>\n",
       "      <td>NaN</td>\n",
       "      <td>Санкт-Петербург</td>\n",
       "      <td>32453.0</td>\n",
       "      <td>6521.0</td>\n",
       "      <td>0.0</td>\n",
       "      <td>NaN</td>\n",
       "      <td>1.0</td>\n",
       "      <td>1012.0</td>\n",
       "      <td>91.0</td>\n",
       "    </tr>\n",
       "    <tr>\n",
       "      <th>3242</th>\n",
       "      <td>7</td>\n",
       "      <td>4440000.0</td>\n",
       "      <td>41.0</td>\n",
       "      <td>2017-07-02T00:00:00</td>\n",
       "      <td>1</td>\n",
       "      <td>NaN</td>\n",
       "      <td>17.0</td>\n",
       "      <td>3.00000</td>\n",
       "      <td>17</td>\n",
       "      <td>NaN</td>\n",
       "      <td>...</td>\n",
       "      <td>11.000000</td>\n",
       "      <td>NaN</td>\n",
       "      <td>Санкт-Петербург</td>\n",
       "      <td>19272.0</td>\n",
       "      <td>13073.0</td>\n",
       "      <td>0.0</td>\n",
       "      <td>NaN</td>\n",
       "      <td>0.0</td>\n",
       "      <td>NaN</td>\n",
       "      <td>216.0</td>\n",
       "    </tr>\n",
       "    <tr>\n",
       "      <th>23574</th>\n",
       "      <td>14</td>\n",
       "      <td>64990000.0</td>\n",
       "      <td>139.0</td>\n",
       "      <td>2015-11-24T00:00:00</td>\n",
       "      <td>3</td>\n",
       "      <td>3.0</td>\n",
       "      <td>8.0</td>\n",
       "      <td>3.00000</td>\n",
       "      <td>8</td>\n",
       "      <td>NaN</td>\n",
       "      <td>...</td>\n",
       "      <td>16.000000</td>\n",
       "      <td>1.0</td>\n",
       "      <td>Санкт-Петербург</td>\n",
       "      <td>33255.0</td>\n",
       "      <td>5975.0</td>\n",
       "      <td>1.0</td>\n",
       "      <td>630.0</td>\n",
       "      <td>3.0</td>\n",
       "      <td>100.0</td>\n",
       "      <td>280.0</td>\n",
       "    </tr>\n",
       "    <tr>\n",
       "      <th>17582</th>\n",
       "      <td>11</td>\n",
       "      <td>2680000.0</td>\n",
       "      <td>22.0</td>\n",
       "      <td>2018-08-11T00:00:00</td>\n",
       "      <td>0</td>\n",
       "      <td>NaN</td>\n",
       "      <td>25.0</td>\n",
       "      <td>5.00000</td>\n",
       "      <td>8</td>\n",
       "      <td>NaN</td>\n",
       "      <td>...</td>\n",
       "      <td>3.791489</td>\n",
       "      <td>2.0</td>\n",
       "      <td>Санкт-Петербург</td>\n",
       "      <td>22735.0</td>\n",
       "      <td>11618.0</td>\n",
       "      <td>1.0</td>\n",
       "      <td>835.0</td>\n",
       "      <td>1.0</td>\n",
       "      <td>652.0</td>\n",
       "      <td>70.0</td>\n",
       "    </tr>\n",
       "    <tr>\n",
       "      <th>21943</th>\n",
       "      <td>15</td>\n",
       "      <td>6100000.0</td>\n",
       "      <td>77.6</td>\n",
       "      <td>2019-02-28T00:00:00</td>\n",
       "      <td>4</td>\n",
       "      <td>2.5</td>\n",
       "      <td>9.0</td>\n",
       "      <td>5.40000</td>\n",
       "      <td>1</td>\n",
       "      <td>NaN</td>\n",
       "      <td>...</td>\n",
       "      <td>9.800000</td>\n",
       "      <td>NaN</td>\n",
       "      <td>Санкт-Петербург</td>\n",
       "      <td>29338.0</td>\n",
       "      <td>11270.0</td>\n",
       "      <td>1.0</td>\n",
       "      <td>584.0</td>\n",
       "      <td>0.0</td>\n",
       "      <td>NaN</td>\n",
       "      <td>33.0</td>\n",
       "    </tr>\n",
       "    <tr>\n",
       "      <th>16431</th>\n",
       "      <td>13</td>\n",
       "      <td>3799000.0</td>\n",
       "      <td>31.0</td>\n",
       "      <td>2018-04-12T00:00:00</td>\n",
       "      <td>1</td>\n",
       "      <td>2.6</td>\n",
       "      <td>5.0</td>\n",
       "      <td>6.00000</td>\n",
       "      <td>1</td>\n",
       "      <td>NaN</td>\n",
       "      <td>...</td>\n",
       "      <td>17.000000</td>\n",
       "      <td>NaN</td>\n",
       "      <td>Санкт-Петербург</td>\n",
       "      <td>32177.0</td>\n",
       "      <td>4826.0</td>\n",
       "      <td>1.0</td>\n",
       "      <td>430.0</td>\n",
       "      <td>0.0</td>\n",
       "      <td>NaN</td>\n",
       "      <td>168.0</td>\n",
       "    </tr>\n",
       "    <tr>\n",
       "      <th>19251</th>\n",
       "      <td>19</td>\n",
       "      <td>4050000.0</td>\n",
       "      <td>33.0</td>\n",
       "      <td>2018-10-15T00:00:00</td>\n",
       "      <td>1</td>\n",
       "      <td>2.5</td>\n",
       "      <td>22.0</td>\n",
       "      <td>6.50000</td>\n",
       "      <td>21</td>\n",
       "      <td>NaN</td>\n",
       "      <td>...</td>\n",
       "      <td>18.000000</td>\n",
       "      <td>NaN</td>\n",
       "      <td>Санкт-Петербург</td>\n",
       "      <td>9258.0</td>\n",
       "      <td>10592.0</td>\n",
       "      <td>1.0</td>\n",
       "      <td>458.0</td>\n",
       "      <td>0.0</td>\n",
       "      <td>NaN</td>\n",
       "      <td>44.0</td>\n",
       "    </tr>\n",
       "    <tr>\n",
       "      <th>17961</th>\n",
       "      <td>3</td>\n",
       "      <td>1400000.0</td>\n",
       "      <td>13.0</td>\n",
       "      <td>2017-12-03T00:00:00</td>\n",
       "      <td>1</td>\n",
       "      <td>2.6</td>\n",
       "      <td>9.0</td>\n",
       "      <td>7.38673</td>\n",
       "      <td>1</td>\n",
       "      <td>NaN</td>\n",
       "      <td>...</td>\n",
       "      <td>2.240426</td>\n",
       "      <td>NaN</td>\n",
       "      <td>Санкт-Петербург</td>\n",
       "      <td>14350.0</td>\n",
       "      <td>15945.0</td>\n",
       "      <td>0.0</td>\n",
       "      <td>NaN</td>\n",
       "      <td>1.0</td>\n",
       "      <td>185.0</td>\n",
       "      <td>410.0</td>\n",
       "    </tr>\n",
       "    <tr>\n",
       "      <th>19546</th>\n",
       "      <td>3</td>\n",
       "      <td>1850000.0</td>\n",
       "      <td>13.0</td>\n",
       "      <td>2019-03-11T00:00:00</td>\n",
       "      <td>1</td>\n",
       "      <td>3.4</td>\n",
       "      <td>5.0</td>\n",
       "      <td>7.38673</td>\n",
       "      <td>2</td>\n",
       "      <td>False</td>\n",
       "      <td>...</td>\n",
       "      <td>2.240426</td>\n",
       "      <td>NaN</td>\n",
       "      <td>Санкт-Петербург</td>\n",
       "      <td>24915.0</td>\n",
       "      <td>5483.0</td>\n",
       "      <td>1.0</td>\n",
       "      <td>644.0</td>\n",
       "      <td>0.0</td>\n",
       "      <td>NaN</td>\n",
       "      <td>24.0</td>\n",
       "    </tr>\n",
       "  </tbody>\n",
       "</table>\n",
       "<p>10 rows × 22 columns</p>\n",
       "</div>"
      ],
      "text/plain": [
       "       total_images  last_price  total_area first_day_exposition  rooms  \\\n",
       "21758             0   2330000.0        23.0  2018-01-01T00:00:00      0   \n",
       "13915            20   6350000.0        52.0  2018-02-06T00:00:00      2   \n",
       "3242              7   4440000.0        41.0  2017-07-02T00:00:00      1   \n",
       "23574            14  64990000.0       139.0  2015-11-24T00:00:00      3   \n",
       "17582            11   2680000.0        22.0  2018-08-11T00:00:00      0   \n",
       "21943            15   6100000.0        77.6  2019-02-28T00:00:00      4   \n",
       "16431            13   3799000.0        31.0  2018-04-12T00:00:00      1   \n",
       "19251            19   4050000.0        33.0  2018-10-15T00:00:00      1   \n",
       "17961             3   1400000.0        13.0  2017-12-03T00:00:00      1   \n",
       "19546             3   1850000.0        13.0  2019-03-11T00:00:00      1   \n",
       "\n",
       "       ceiling_height  floors_total  living_area  floor is_apartment  ...  \\\n",
       "21758             NaN          24.0      2.00000     22          NaN  ...   \n",
       "13915             3.0           6.0      2.00000      2          NaN  ...   \n",
       "3242              NaN          17.0      3.00000     17          NaN  ...   \n",
       "23574             3.0           8.0      3.00000      8          NaN  ...   \n",
       "17582             NaN          25.0      5.00000      8          NaN  ...   \n",
       "21943             2.5           9.0      5.40000      1          NaN  ...   \n",
       "16431             2.6           5.0      6.00000      1          NaN  ...   \n",
       "19251             2.5          22.0      6.50000     21          NaN  ...   \n",
       "17961             2.6           9.0      7.38673      1          NaN  ...   \n",
       "19546             3.4           5.0      7.38673      2        False  ...   \n",
       "\n",
       "       kitchen_area  balcony    locality_name  airports_nearest  \\\n",
       "21758      3.963830      NaN   посёлок Мурино               NaN   \n",
       "13915      9.000000      NaN  Санкт-Петербург           32453.0   \n",
       "3242      11.000000      NaN  Санкт-Петербург           19272.0   \n",
       "23574     16.000000      1.0  Санкт-Петербург           33255.0   \n",
       "17582      3.791489      2.0  Санкт-Петербург           22735.0   \n",
       "21943      9.800000      NaN  Санкт-Петербург           29338.0   \n",
       "16431     17.000000      NaN  Санкт-Петербург           32177.0   \n",
       "19251     18.000000      NaN  Санкт-Петербург            9258.0   \n",
       "17961      2.240426      NaN  Санкт-Петербург           14350.0   \n",
       "19546      2.240426      NaN  Санкт-Петербург           24915.0   \n",
       "\n",
       "      cityCenters_nearest  parks_around3000  parks_nearest  ponds_around3000  \\\n",
       "21758                 NaN               NaN            NaN               NaN   \n",
       "13915              6521.0               0.0            NaN               1.0   \n",
       "3242              13073.0               0.0            NaN               0.0   \n",
       "23574              5975.0               1.0          630.0               3.0   \n",
       "17582             11618.0               1.0          835.0               1.0   \n",
       "21943             11270.0               1.0          584.0               0.0   \n",
       "16431              4826.0               1.0          430.0               0.0   \n",
       "19251             10592.0               1.0          458.0               0.0   \n",
       "17961             15945.0               0.0            NaN               1.0   \n",
       "19546              5483.0               1.0          644.0               0.0   \n",
       "\n",
       "       ponds_nearest  days_exposition  \n",
       "21758            NaN             66.0  \n",
       "13915         1012.0             91.0  \n",
       "3242             NaN            216.0  \n",
       "23574          100.0            280.0  \n",
       "17582          652.0             70.0  \n",
       "21943            NaN             33.0  \n",
       "16431            NaN            168.0  \n",
       "19251            NaN             44.0  \n",
       "17961          185.0            410.0  \n",
       "19546            NaN             24.0  \n",
       "\n",
       "[10 rows x 22 columns]"
      ]
     },
     "execution_count": 19,
     "metadata": {},
     "output_type": "execute_result"
    }
   ],
   "source": [
    "# есть отрицательное значение в living_area\n",
    "data.sort_values(by='living_area', ascending=True).head(10)"
   ]
  },
  {
   "cell_type": "code",
   "execution_count": 20,
   "metadata": {},
   "outputs": [],
   "source": [
    "# исправляю отрицательные\n",
    "data['living_area'] = data['living_area'].abs()"
   ]
  },
  {
   "cell_type": "code",
   "execution_count": 21,
   "metadata": {},
   "outputs": [
    {
     "data": {
      "text/plain": [
       "134"
      ]
     },
     "execution_count": 21,
     "metadata": {},
     "output_type": "execute_result"
    }
   ],
   "source": [
    "# посмотрю, сколько в living и kitchen аномально больших и маленьких площадей\n",
    "data.query('living_area > 150').shape[0]"
   ]
  },
  {
   "cell_type": "code",
   "execution_count": 22,
   "metadata": {},
   "outputs": [
    {
     "data": {
      "text/plain": [
       "31"
      ]
     },
     "execution_count": 22,
     "metadata": {},
     "output_type": "execute_result"
    }
   ],
   "source": [
    "# Их очень мало, сильно отличаются от обычных, уберу как выбросы\n",
    "data.query('living_area < 10').shape[0]"
   ]
  },
  {
   "cell_type": "code",
   "execution_count": 23,
   "metadata": {},
   "outputs": [],
   "source": [
    "data = data.query('living_area > 10 & living_area < 150 | living_area.isna()')"
   ]
  },
  {
   "cell_type": "markdown",
   "metadata": {},
   "source": [
    "**is_apartment : не используется в исследовании  \n",
    "пропущенные значения заполнить сложно, так как я не знаю, коммерческая ли недвижимость;**"
   ]
  },
  {
   "cell_type": "markdown",
   "metadata": {},
   "source": [
    "**balkony : в исследовании используется  \n",
    "пропуски заполняю нулём, так как они, скорее всего, означают отсутствие балкона**"
   ]
  },
  {
   "cell_type": "code",
   "execution_count": 24,
   "metadata": {},
   "outputs": [
    {
     "data": {
      "text/plain": [
       "array(['0.0', 2.0, 0.0, 1.0, 5.0, 4.0, 3.0], dtype=object)"
      ]
     },
     "execution_count": 24,
     "metadata": {},
     "output_type": "execute_result"
    }
   ],
   "source": [
    "# balcony : используется в исследовании\n",
    "# если не указано, скорее всего балкона нет, можно заполнить пропуски\n",
    "# половин балкона нет\n",
    "data['balcony'] = data['balcony'].fillna('0.0')\n",
    "data['balcony'].unique()"
   ]
  },
  {
   "cell_type": "markdown",
   "metadata": {},
   "source": [
    "**locality_name : используется в исследовании  \n",
    "заполнить не указанный населённый пункт нельзя**"
   ]
  },
  {
   "cell_type": "code",
   "execution_count": 25,
   "metadata": {},
   "outputs": [],
   "source": [
    "# строк мало (48), исключаю их из исследования\n",
    "data = data.dropna(subset=['locality_name'])"
   ]
  },
  {
   "cell_type": "markdown",
   "metadata": {},
   "source": [
    "**airports_nearest : не используется в исследовании**"
   ]
  },
  {
   "cell_type": "markdown",
   "metadata": {},
   "source": [
    "**cityCenters_nearest : используется в исследовании**"
   ]
  },
  {
   "cell_type": "code",
   "execution_count": 26,
   "metadata": {},
   "outputs": [
    {
     "data": {
      "text/plain": [
       "5487"
      ]
     },
     "execution_count": 26,
     "metadata": {},
     "output_type": "execute_result"
    }
   ],
   "source": [
    "# Посмотрю у скольких пустых cityCenters указан locality_name\n",
    "data.query('cityCenters_nearest.isna() & ~locality_name.isna()').shape[0]"
   ]
  },
  {
   "cell_type": "code",
   "execution_count": 27,
   "metadata": {},
   "outputs": [],
   "source": [
    "# если указан населённый пункт (не сам город СПб), то можно заполнить\n",
    "# cityCenters cредним значением для этого населённого пункта\n",
    "# остальные оставлю как есть\n",
    "for city in data['locality_name'].unique():\n",
    "    data.loc[(data['locality_name'] == city) & (data['cityCenters_nearest'].isna()), 'cityCenters_nearest'] = \\\n",
    "    data.loc[(data['locality_name'] == city), 'cityCenters_nearest'].median()      "
   ]
  },
  {
   "cell_type": "markdown",
   "metadata": {},
   "source": [
    "**parks_around3000 | parks_nearest : parks_nearest используется в исследовании**"
   ]
  },
  {
   "cell_type": "code",
   "execution_count": 28,
   "metadata": {},
   "outputs": [
    {
     "data": {
      "text/plain": [
       "0"
      ]
     },
     "execution_count": 28,
     "metadata": {},
     "output_type": "execute_result"
    }
   ],
   "source": [
    "# пропуски в parks_around3000 совпадают с пропусками в parks_nearest, по ним нет информации\n",
    "# т.е. в строках, где parks_around3000 null парков, скорее всего, рядом нет\n",
    "# такие строки заполню \"0\"\n",
    "data.query('parks_around3000.isna() & ~parks_nearest.isna()').shape[0]"
   ]
  },
  {
   "cell_type": "code",
   "execution_count": 29,
   "metadata": {},
   "outputs": [
    {
     "data": {
      "text/plain": [
       "9972"
      ]
     },
     "execution_count": 29,
     "metadata": {},
     "output_type": "execute_result"
    }
   ],
   "source": [
    "# во всех пропущенных parks_nearest в районе 3000м парков нет (0)\n",
    "data.query('parks_around3000 == 0 & parks_nearest.isna()').shape[0]"
   ]
  },
  {
   "cell_type": "code",
   "execution_count": 30,
   "metadata": {},
   "outputs": [],
   "source": [
    "# заполню пропуски в parks_around3000 \"нет\"\n",
    "data['parks_around3000'] = data['parks_around3000'].fillna(0)\n",
    "# если в parks_around3000 парков нет, то и в cоответствующих nearest тоже напишу 0\n",
    "data.loc[(data['parks_around3000'] == 0) & (data['parks_nearest'].isna()), 'parks_nearest'] = \\\n",
    "data.loc[(data['parks_around3000'] == 0) & (data['parks_nearest'].isna()), 'parks_nearest'].fillna(0)"
   ]
  },
  {
   "cell_type": "markdown",
   "metadata": {},
   "source": [
    "**ponds_around3000 | ponds_nearest : в исследовании не используются, не трогаю**"
   ]
  },
  {
   "cell_type": "markdown",
   "metadata": {},
   "source": [
    "**days_exposition : в исследовании используются**"
   ]
  },
  {
   "cell_type": "code",
   "execution_count": 31,
   "metadata": {},
   "outputs": [
    {
     "data": {
      "text/html": [
       "<div>\n",
       "<style scoped>\n",
       "    .dataframe tbody tr th:only-of-type {\n",
       "        vertical-align: middle;\n",
       "    }\n",
       "\n",
       "    .dataframe tbody tr th {\n",
       "        vertical-align: top;\n",
       "    }\n",
       "\n",
       "    .dataframe thead th {\n",
       "        text-align: right;\n",
       "    }\n",
       "</style>\n",
       "<table border=\"1\" class=\"dataframe\">\n",
       "  <thead>\n",
       "    <tr style=\"text-align: right;\">\n",
       "      <th></th>\n",
       "      <th>total_images</th>\n",
       "      <th>last_price</th>\n",
       "      <th>total_area</th>\n",
       "      <th>first_day_exposition</th>\n",
       "      <th>rooms</th>\n",
       "      <th>ceiling_height</th>\n",
       "      <th>floors_total</th>\n",
       "      <th>living_area</th>\n",
       "      <th>floor</th>\n",
       "      <th>is_apartment</th>\n",
       "      <th>...</th>\n",
       "      <th>kitchen_area</th>\n",
       "      <th>balcony</th>\n",
       "      <th>locality_name</th>\n",
       "      <th>airports_nearest</th>\n",
       "      <th>cityCenters_nearest</th>\n",
       "      <th>parks_around3000</th>\n",
       "      <th>parks_nearest</th>\n",
       "      <th>ponds_around3000</th>\n",
       "      <th>ponds_nearest</th>\n",
       "      <th>days_exposition</th>\n",
       "    </tr>\n",
       "  </thead>\n",
       "  <tbody>\n",
       "    <tr>\n",
       "      <th>3291</th>\n",
       "      <td>8</td>\n",
       "      <td>8200000.0</td>\n",
       "      <td>52.5</td>\n",
       "      <td>2014-11-27T00:00:00</td>\n",
       "      <td>1</td>\n",
       "      <td>NaN</td>\n",
       "      <td>8.0</td>\n",
       "      <td>21.5</td>\n",
       "      <td>2</td>\n",
       "      <td>NaN</td>\n",
       "      <td>...</td>\n",
       "      <td>15.1</td>\n",
       "      <td>0.0</td>\n",
       "      <td>Санкт-Петербург</td>\n",
       "      <td>39393.0</td>\n",
       "      <td>11096.0</td>\n",
       "      <td>1.0</td>\n",
       "      <td>537.0</td>\n",
       "      <td>0.0</td>\n",
       "      <td>NaN</td>\n",
       "      <td>NaN</td>\n",
       "    </tr>\n",
       "    <tr>\n",
       "      <th>15857</th>\n",
       "      <td>6</td>\n",
       "      <td>25000000.0</td>\n",
       "      <td>145.2</td>\n",
       "      <td>2014-11-27T00:00:00</td>\n",
       "      <td>3</td>\n",
       "      <td>NaN</td>\n",
       "      <td>5.0</td>\n",
       "      <td>60.7</td>\n",
       "      <td>5</td>\n",
       "      <td>NaN</td>\n",
       "      <td>...</td>\n",
       "      <td>40.2</td>\n",
       "      <td>0.0</td>\n",
       "      <td>Санкт-Петербург</td>\n",
       "      <td>36779.0</td>\n",
       "      <td>14931.0</td>\n",
       "      <td>0.0</td>\n",
       "      <td>0.0</td>\n",
       "      <td>0.0</td>\n",
       "      <td>NaN</td>\n",
       "      <td>NaN</td>\n",
       "    </tr>\n",
       "    <tr>\n",
       "      <th>3873</th>\n",
       "      <td>7</td>\n",
       "      <td>20100000.0</td>\n",
       "      <td>117.6</td>\n",
       "      <td>2014-11-27T00:00:00</td>\n",
       "      <td>3</td>\n",
       "      <td>NaN</td>\n",
       "      <td>8.0</td>\n",
       "      <td>62.5</td>\n",
       "      <td>7</td>\n",
       "      <td>NaN</td>\n",
       "      <td>...</td>\n",
       "      <td>21.5</td>\n",
       "      <td>0.0</td>\n",
       "      <td>Санкт-Петербург</td>\n",
       "      <td>39393.0</td>\n",
       "      <td>11096.0</td>\n",
       "      <td>1.0</td>\n",
       "      <td>537.0</td>\n",
       "      <td>0.0</td>\n",
       "      <td>NaN</td>\n",
       "      <td>NaN</td>\n",
       "    </tr>\n",
       "    <tr>\n",
       "      <th>6922</th>\n",
       "      <td>17</td>\n",
       "      <td>29999000.0</td>\n",
       "      <td>133.5</td>\n",
       "      <td>2014-12-08T00:00:00</td>\n",
       "      <td>3</td>\n",
       "      <td>3.0</td>\n",
       "      <td>15.0</td>\n",
       "      <td>71.7</td>\n",
       "      <td>12</td>\n",
       "      <td>NaN</td>\n",
       "      <td>...</td>\n",
       "      <td>19.8</td>\n",
       "      <td>2.0</td>\n",
       "      <td>Санкт-Петербург</td>\n",
       "      <td>31656.0</td>\n",
       "      <td>8733.0</td>\n",
       "      <td>1.0</td>\n",
       "      <td>562.0</td>\n",
       "      <td>1.0</td>\n",
       "      <td>522.0</td>\n",
       "      <td>NaN</td>\n",
       "    </tr>\n",
       "    <tr>\n",
       "      <th>11055</th>\n",
       "      <td>3</td>\n",
       "      <td>8200000.0</td>\n",
       "      <td>47.1</td>\n",
       "      <td>2014-12-09T00:00:00</td>\n",
       "      <td>1</td>\n",
       "      <td>3.0</td>\n",
       "      <td>8.0</td>\n",
       "      <td>19.0</td>\n",
       "      <td>8</td>\n",
       "      <td>False</td>\n",
       "      <td>...</td>\n",
       "      <td>11.9</td>\n",
       "      <td>0.0</td>\n",
       "      <td>Санкт-Петербург</td>\n",
       "      <td>39393.0</td>\n",
       "      <td>11096.0</td>\n",
       "      <td>1.0</td>\n",
       "      <td>537.0</td>\n",
       "      <td>0.0</td>\n",
       "      <td>NaN</td>\n",
       "      <td>NaN</td>\n",
       "    </tr>\n",
       "  </tbody>\n",
       "</table>\n",
       "<p>5 rows × 22 columns</p>\n",
       "</div>"
      ],
      "text/plain": [
       "       total_images  last_price  total_area first_day_exposition  rooms  \\\n",
       "3291              8   8200000.0        52.5  2014-11-27T00:00:00      1   \n",
       "15857             6  25000000.0       145.2  2014-11-27T00:00:00      3   \n",
       "3873              7  20100000.0       117.6  2014-11-27T00:00:00      3   \n",
       "6922             17  29999000.0       133.5  2014-12-08T00:00:00      3   \n",
       "11055             3   8200000.0        47.1  2014-12-09T00:00:00      1   \n",
       "\n",
       "       ceiling_height  floors_total  living_area  floor is_apartment  ...  \\\n",
       "3291              NaN           8.0         21.5      2          NaN  ...   \n",
       "15857             NaN           5.0         60.7      5          NaN  ...   \n",
       "3873              NaN           8.0         62.5      7          NaN  ...   \n",
       "6922              3.0          15.0         71.7     12          NaN  ...   \n",
       "11055             3.0           8.0         19.0      8        False  ...   \n",
       "\n",
       "       kitchen_area  balcony    locality_name airports_nearest  \\\n",
       "3291           15.1      0.0  Санкт-Петербург          39393.0   \n",
       "15857          40.2      0.0  Санкт-Петербург          36779.0   \n",
       "3873           21.5      0.0  Санкт-Петербург          39393.0   \n",
       "6922           19.8      2.0  Санкт-Петербург          31656.0   \n",
       "11055          11.9      0.0  Санкт-Петербург          39393.0   \n",
       "\n",
       "      cityCenters_nearest  parks_around3000  parks_nearest  ponds_around3000  \\\n",
       "3291              11096.0               1.0          537.0               0.0   \n",
       "15857             14931.0               0.0            0.0               0.0   \n",
       "3873              11096.0               1.0          537.0               0.0   \n",
       "6922               8733.0               1.0          562.0               1.0   \n",
       "11055             11096.0               1.0          537.0               0.0   \n",
       "\n",
       "       ponds_nearest  days_exposition  \n",
       "3291             NaN              NaN  \n",
       "15857            NaN              NaN  \n",
       "3873             NaN              NaN  \n",
       "6922           522.0              NaN  \n",
       "11055            NaN              NaN  \n",
       "\n",
       "[5 rows x 22 columns]"
      ]
     },
     "execution_count": 31,
     "metadata": {},
     "output_type": "execute_result"
    }
   ],
   "source": [
    "# Пропущенные квартиры не являются только что выставленными - некоторые их них за 2014 год\n",
    "# Заполнить пропуски нечем\n",
    "data.query('days_exposition.isna()').sort_values(by='first_day_exposition').head(5)"
   ]
  },
  {
   "cell_type": "code",
   "execution_count": 32,
   "metadata": {},
   "outputs": [
    {
     "data": {
      "text/plain": [
       "total_images                0\n",
       "last_price                  0\n",
       "total_area                  0\n",
       "first_day_exposition        0\n",
       "rooms                       0\n",
       "ceiling_height           9014\n",
       "floors_total                0\n",
       "living_area                 0\n",
       "floor                       0\n",
       "is_apartment            20622\n",
       "studio                      0\n",
       "open_plan                   0\n",
       "kitchen_area                0\n",
       "balcony                     0\n",
       "locality_name               0\n",
       "airports_nearest         5507\n",
       "cityCenters_nearest      5420\n",
       "parks_around3000            0\n",
       "parks_nearest               0\n",
       "ponds_around3000         5486\n",
       "ponds_nearest           14462\n",
       "days_exposition          3131\n",
       "dtype: int64"
      ]
     },
     "execution_count": 32,
     "metadata": {},
     "output_type": "execute_result"
    }
   ],
   "source": [
    "# Проверка заполненных пропусков\n",
    "# Удалось заполнить небольшую часть\n",
    "data.isna().sum()"
   ]
  },
  {
   "cell_type": "markdown",
   "metadata": {},
   "source": [
    "#### Типы данных"
   ]
  },
  {
   "cell_type": "markdown",
   "metadata": {},
   "source": [
    "**Неверные типы данных в first_day_exposition (datetime, для заданий в дальнейшем), is_apartment(bool, или да или нет), balcony (int, нельзя иметь пол балкона)**"
   ]
  },
  {
   "cell_type": "code",
   "execution_count": 33,
   "metadata": {},
   "outputs": [],
   "source": [
    "data['balcony'] = pd.to_numeric(data['balcony'])\n",
    "data['balcony'] = data['balcony'].astype('int')\n",
    "\n",
    "data['is_apartment'] = data['is_apartment'].astype('bool')\n",
    "\n",
    "data['first_day_exposition'] = pd.to_datetime(\n",
    "    data['first_day_exposition'], format='%Y-%m-%dT%H:%M:%S'\n",
    ")"
   ]
  },
  {
   "cell_type": "code",
   "execution_count": 34,
   "metadata": {},
   "outputs": [
    {
     "name": "stdout",
     "output_type": "stream",
     "text": [
      "<class 'pandas.core.frame.DataFrame'>\n",
      "Int64Index: 23365 entries, 0 to 23698\n",
      "Data columns (total 22 columns):\n",
      " #   Column                Non-Null Count  Dtype         \n",
      "---  ------                --------------  -----         \n",
      " 0   total_images          23365 non-null  int64         \n",
      " 1   last_price            23365 non-null  float64       \n",
      " 2   total_area            23365 non-null  float64       \n",
      " 3   first_day_exposition  23365 non-null  datetime64[ns]\n",
      " 4   rooms                 23365 non-null  int64         \n",
      " 5   ceiling_height        14351 non-null  float64       \n",
      " 6   floors_total          23365 non-null  float64       \n",
      " 7   living_area           23365 non-null  float64       \n",
      " 8   floor                 23365 non-null  int64         \n",
      " 9   is_apartment          23365 non-null  bool          \n",
      " 10  studio                23365 non-null  bool          \n",
      " 11  open_plan             23365 non-null  bool          \n",
      " 12  kitchen_area          23365 non-null  float64       \n",
      " 13  balcony               23365 non-null  int64         \n",
      " 14  locality_name         23365 non-null  object        \n",
      " 15  airports_nearest      17858 non-null  float64       \n",
      " 16  cityCenters_nearest   17945 non-null  float64       \n",
      " 17  parks_around3000      23365 non-null  float64       \n",
      " 18  parks_nearest         23365 non-null  float64       \n",
      " 19  ponds_around3000      17879 non-null  float64       \n",
      " 20  ponds_nearest         8903 non-null   float64       \n",
      " 21  days_exposition       20234 non-null  float64       \n",
      "dtypes: bool(3), datetime64[ns](1), float64(13), int64(4), object(1)\n",
      "memory usage: 3.6+ MB\n"
     ]
    }
   ],
   "source": [
    "data.info()"
   ]
  },
  {
   "cell_type": "markdown",
   "metadata": {},
   "source": [
    "####  Обработка дубликатов"
   ]
  },
  {
   "cell_type": "code",
   "execution_count": 35,
   "metadata": {},
   "outputs": [
    {
     "data": {
      "text/plain": [
       "array(['Санкт-Петербург', 'посёлок Шушары', 'городской посёлок Янино-1',\n",
       "       'посёлок Парголово', 'посёлок Мурино', 'Ломоносов', 'Сертолово',\n",
       "       'Петергоф', 'Пушкин', 'деревня Кудрово', 'Коммунар', 'Колпино',\n",
       "       'поселок городского типа Красный Бор', 'Гатчина', 'поселок Мурино',\n",
       "       'деревня Фёдоровское', 'Выборг', 'Кронштадт', 'Кировск',\n",
       "       'деревня Новое Девяткино', 'посёлок Металлострой',\n",
       "       'посёлок городского типа Лебяжье',\n",
       "       'посёлок городского типа Сиверский', 'поселок Молодцово',\n",
       "       'поселок городского типа Кузьмоловский',\n",
       "       'садовое товарищество Новая Ропша', 'Павловск',\n",
       "       'деревня Пикколово', 'Всеволожск', 'Волхов', 'Кингисепп',\n",
       "       'Приозерск', 'Сестрорецк', 'деревня Куттузи', 'посёлок Аннино',\n",
       "       'поселок городского типа Ефимовский', 'посёлок Плодовое',\n",
       "       'деревня Заклинье', 'поселок Торковичи', 'поселок Первомайское',\n",
       "       'Красное Село', 'посёлок Понтонный', 'Сясьстрой', 'деревня Старая',\n",
       "       'деревня Лесколово', 'посёлок Новый Свет', 'Сланцы',\n",
       "       'село Путилово', 'Ивангород', 'Мурино', 'Шлиссельбург',\n",
       "       'Никольское', 'Зеленогорск', 'Сосновый Бор', 'поселок Новый Свет',\n",
       "       'деревня Оржицы', 'деревня Кальтино', 'Кудрово',\n",
       "       'поселок Романовка', 'посёлок Бугры', 'поселок Бугры',\n",
       "       'поселок городского типа Рощино', 'Кириши', 'Луга', 'Волосово',\n",
       "       'Отрадное', 'село Павлово', 'поселок Оредеж', 'село Копорье',\n",
       "       'посёлок городского типа Красный Бор', 'посёлок Молодёжное',\n",
       "       'Тихвин', 'посёлок Победа', 'деревня Нурма',\n",
       "       'поселок городского типа Синявино', 'Тосно',\n",
       "       'посёлок городского типа Кузьмоловский', 'посёлок Стрельна',\n",
       "       'Бокситогорск', 'посёлок Александровская', 'деревня Лопухинка',\n",
       "       'Пикалёво', 'поселок Терволово',\n",
       "       'поселок городского типа Советский', 'Подпорожье',\n",
       "       'посёлок Петровское', 'посёлок городского типа Токсово',\n",
       "       'поселок Сельцо', 'посёлок городского типа Вырица',\n",
       "       'деревня Кипень', 'деревня Келози', 'деревня Вартемяги',\n",
       "       'посёлок Тельмана', 'поселок Севастьяново',\n",
       "       'городской поселок Большая Ижора', 'городской посёлок Павлово',\n",
       "       'деревня Агалатово', 'посёлок Новогорелово',\n",
       "       'городской посёлок Лесогорский', 'деревня Лаголово',\n",
       "       'поселок Цвелодубово', 'поселок городского типа Рахья',\n",
       "       'поселок городского типа Вырица', 'деревня Белогорка',\n",
       "       'поселок Заводской', 'городской посёлок Новоселье',\n",
       "       'деревня Большие Колпаны', 'деревня Горбунки', 'деревня Батово',\n",
       "       'деревня Заневка', 'деревня Иссад', 'Приморск',\n",
       "       'городской посёлок Фёдоровское', 'деревня Мистолово',\n",
       "       'Новая Ладога', 'поселок Зимитицы', 'поселок Барышево',\n",
       "       'деревня Разметелево', 'поселок городского типа имени Свердлова',\n",
       "       'деревня Пеники', 'поселок Рябово', 'деревня Пудомяги',\n",
       "       'поселок станции Корнево', 'деревня Низино', 'деревня Бегуницы',\n",
       "       'посёлок Поляны', 'городской посёлок Мга', 'поселок Елизаветино',\n",
       "       'посёлок городского типа Кузнечное', 'деревня Колтуши',\n",
       "       'поселок Запорожское', 'посёлок городского типа Рощино',\n",
       "       'деревня Гостилицы', 'деревня Малое Карлино',\n",
       "       'посёлок Мичуринское', 'посёлок городского типа имени Морозова',\n",
       "       'посёлок Песочный', 'посёлок Сосново', 'деревня Аро',\n",
       "       'поселок Ильичёво', 'посёлок городского типа Тайцы',\n",
       "       'деревня Малое Верево', 'деревня Извара', 'поселок станции Вещево',\n",
       "       'село Паша', 'деревня Калитино',\n",
       "       'посёлок городского типа Ульяновка', 'деревня Чудской Бор',\n",
       "       'поселок городского типа Дубровка', 'деревня Мины',\n",
       "       'поселок Войсковицы', 'посёлок городского типа имени Свердлова',\n",
       "       'деревня Коркино', 'посёлок Ропша',\n",
       "       'поселок городского типа Приладожский', 'посёлок Щеглово',\n",
       "       'посёлок Гаврилово', 'Лодейное Поле', 'деревня Рабитицы',\n",
       "       'поселок городского типа Никольский', 'деревня Кузьмолово',\n",
       "       'деревня Малые Колпаны', 'поселок Тельмана',\n",
       "       'посёлок Петро-Славянка', 'городской посёлок Назия',\n",
       "       'посёлок Репино', 'посёлок Ильичёво', 'поселок Углово',\n",
       "       'поселок Старая Малукса', 'садовое товарищество Рахья',\n",
       "       'поселок Аннино', 'поселок Победа', 'деревня Меньково',\n",
       "       'деревня Старые Бегуницы', 'посёлок Сапёрный', 'поселок Семрино',\n",
       "       'поселок Гаврилово', 'поселок Глажево', 'поселок Кобринское',\n",
       "       'деревня Гарболово', 'деревня Юкки',\n",
       "       'поселок станции Приветнинское', 'деревня Мануйлово',\n",
       "       'деревня Пчева', 'поселок Поляны', 'поселок Цвылёво',\n",
       "       'поселок Мельниково', 'посёлок Пудость', 'посёлок Усть-Луга',\n",
       "       'Светогорск', 'Любань', 'поселок Селезнёво',\n",
       "       'поселок городского типа Рябово', 'Каменногорск', 'деревня Кривко',\n",
       "       'поселок Глебычево', 'деревня Парицы', 'поселок Жилпосёлок',\n",
       "       'посёлок городского типа Мга', 'городской поселок Янино-1',\n",
       "       'посёлок Войскорово', 'село Никольское', 'посёлок Терволово',\n",
       "       'поселок Стеклянный', 'посёлок городского типа Важины',\n",
       "       'посёлок Мыза-Ивановка', 'село Русско-Высоцкое',\n",
       "       'поселок городского типа Лебяжье',\n",
       "       'поселок городского типа Форносово', 'село Старая Ладога',\n",
       "       'поселок Житково', 'городской посёлок Виллози', 'деревня Лампово',\n",
       "       'деревня Шпаньково', 'деревня Лаврики', 'посёлок Сумино',\n",
       "       'посёлок Возрождение', 'деревня Старосиверская',\n",
       "       'посёлок Кикерино', 'поселок Возрождение',\n",
       "       'деревня Старое Хинколово', 'посёлок Пригородный',\n",
       "       'посёлок Торфяное', 'городской посёлок Будогощь',\n",
       "       'поселок Суходолье', 'поселок Красная Долина', 'деревня Хапо-Ое',\n",
       "       'поселок городского типа Дружная Горка', 'поселок Лисий Нос',\n",
       "       'деревня Яльгелево', 'посёлок Стеклянный', 'село Рождествено',\n",
       "       'деревня Старополье', 'посёлок Левашово', 'деревня Сяськелево',\n",
       "       'деревня Камышовка',\n",
       "       'садоводческое некоммерческое товарищество Лесная Поляна',\n",
       "       'деревня Хязельки', 'поселок Жилгородок',\n",
       "       'посёлок городского типа Павлово', 'деревня Ялгино',\n",
       "       'поселок Новый Учхоз', 'городской посёлок Рощино',\n",
       "       'поселок Гончарово', 'поселок Почап', 'посёлок Сапёрное',\n",
       "       'посёлок Платформа 69-й километр', 'поселок Каложицы',\n",
       "       'деревня Фалилеево', 'деревня Пельгора',\n",
       "       'поселок городского типа Лесогорский', 'деревня Торошковичи',\n",
       "       'посёлок Белоостров', 'посёлок Алексеевка', 'поселок Серебрянский',\n",
       "       'поселок Лукаши', 'поселок Петровское', 'деревня Щеглово',\n",
       "       'поселок Мичуринское', 'деревня Тарасово', 'поселок Кингисеппский',\n",
       "       'посёлок при железнодорожной станции Вещево', 'поселок Ушаки',\n",
       "       'деревня Котлы', 'деревня Сижно', 'деревня Торосово',\n",
       "       'посёлок Форт Красная Горка', 'деревня Новолисино',\n",
       "       'посёлок станции Громово', 'деревня Глинка', 'посёлок Мельниково',\n",
       "       'поселок городского типа Назия', 'деревня Старая Пустошь',\n",
       "       'поселок Коммунары', 'поселок Починок',\n",
       "       'посёлок городского типа Вознесенье', 'деревня Разбегаево',\n",
       "       'посёлок городского типа Рябово', 'поселок Гладкое',\n",
       "       'посёлок при железнодорожной станции Приветнинское',\n",
       "       'поселок Тёсово-4', 'посёлок Жилгородок', 'деревня Бор',\n",
       "       'посёлок Коробицыно', 'деревня Большая Вруда', 'деревня Курковицы',\n",
       "       'посёлок Лисий Нос', 'городской посёлок Советский',\n",
       "       'посёлок Кобралово', 'деревня Суоранда', 'поселок Кобралово',\n",
       "       'поселок городского типа Кондратьево',\n",
       "       'коттеджный поселок Счастье', 'поселок Любань', 'деревня Реброво',\n",
       "       'деревня Зимитицы', 'деревня Тойворово', 'поселок Семиозерье',\n",
       "       'поселок Лесное', 'поселок Совхозный', 'поселок Усть-Луга',\n",
       "       'посёлок Ленинское', 'посёлок Суйда',\n",
       "       'посёлок городского типа Форносово', 'деревня Нижние Осельки',\n",
       "       'посёлок станции Свирь', 'поселок Перово', 'Высоцк',\n",
       "       'поселок Гарболово', 'село Шум', 'поселок Котельский',\n",
       "       'поселок станции Лужайка', 'деревня Большая Пустомержа',\n",
       "       'поселок Красносельское', 'деревня Вахнова Кара', 'деревня Пижма',\n",
       "       'коттеджный поселок Кивеннапа Север', 'поселок Коробицыно',\n",
       "       'поселок Ромашки', 'посёлок Перово', 'деревня Каськово',\n",
       "       'деревня Куровицы', 'посёлок Плоское', 'поселок Сумино',\n",
       "       'поселок городского типа Большая Ижора', 'поселок Кирпичное',\n",
       "       'деревня Ям-Тесово', 'деревня Раздолье', 'деревня Терпилицы',\n",
       "       'поселок городского типа Токсово', 'посёлок Шугозеро',\n",
       "       'деревня Ваганово', 'поселок Пушное', 'садовое товарищество Садко',\n",
       "       'посёлок Усть-Ижора', 'деревня Выскатка',\n",
       "       'городской посёлок Свирьстрой', 'поселок Громово',\n",
       "       'деревня Кисельня', 'посёлок Старая Малукса',\n",
       "       'деревня Трубников Бор', 'поселок Калитино',\n",
       "       'посёлок Высокоключевой', 'садовое товарищество Приладожский',\n",
       "       'посёлок Пансионат Зелёный Бор', 'деревня Ненимяки',\n",
       "       'поселок Пансионат Зелёный Бор', 'деревня Снегирёвка',\n",
       "       'деревня Рапполово', 'деревня Пустынка', 'поселок Рабитицы',\n",
       "       'деревня Большой Сабск', 'деревня Русско', 'деревня Лупполово',\n",
       "       'деревня Большое Рейзино', 'деревня Малая Романовка',\n",
       "       'поселок Дружноселье', 'поселок Пчевжа', 'поселок Володарское',\n",
       "       'деревня Нижняя', 'коттеджный посёлок Лесное', 'деревня Тихковицы',\n",
       "       'деревня Борисова Грива', 'посёлок Дзержинского'], dtype=object)"
      ]
     },
     "execution_count": 35,
     "metadata": {},
     "output_type": "execute_result"
    }
   ],
   "source": [
    "# Неявные дубликаты могут быть в столбце locality_name\n",
    "data['locality_name'].unique()"
   ]
  },
  {
   "cell_type": "code",
   "execution_count": 36,
   "metadata": {},
   "outputs": [
    {
     "data": {
      "text/plain": [
       "364"
      ]
     },
     "execution_count": 36,
     "metadata": {},
     "output_type": "execute_result"
    }
   ],
   "source": [
    "data['locality_name'].nunique()"
   ]
  },
  {
   "cell_type": "code",
   "execution_count": 37,
   "metadata": {},
   "outputs": [],
   "source": [
    "def drop_locality(place):\n",
    "    if 'поселок' in place:\n",
    "        if 'городского типа' in place:\n",
    "            return place.replace('поселок городского типа ', '')\n",
    "        return place.replace('поселок ', '')\n",
    "    if 'посёлок' in place:\n",
    "        if 'городского типа' in place:\n",
    "            return place.replace('посёлок городского типа ', '')\n",
    "        return place.replace('посёлок ', '')\n",
    "    elif 'деревня' in place:\n",
    "        return place.replace('деревня ', '')\n",
    "    elif 'село' in place:\n",
    "        return place.replace('село ', '')\n",
    "    elif 'городской' in place:\n",
    "        return place.replace('городской ', '')\n",
    "    elif 'садовое товарищество' in place:\n",
    "        return place.replace('садовое товарищество ', '')\n",
    "    elif 'коттеджный' in place:\n",
    "        return place.replace('коттеджный ', '')\n",
    "    elif 'при железнодорожной станции' in place:\n",
    "        return place.replace('при железнодорожной станции ', '')\n",
    "    elif 'садоводческое некоммерческое товарищество' in place:\n",
    "        return place.replace('садоводческое некоммерческое товарищество ', '')\n",
    "    elif 'ё' in place:\n",
    "        return place.replace('ё', 'е')    \n",
    "    return place"
   ]
  },
  {
   "cell_type": "code",
   "execution_count": 38,
   "metadata": {},
   "outputs": [
    {
     "data": {
      "text/plain": [
       "309"
      ]
     },
     "execution_count": 38,
     "metadata": {},
     "output_type": "execute_result"
    }
   ],
   "source": [
    "data['locality_name_drop'] = data['locality_name'].apply(drop_locality)\n",
    "data['locality_name_drop'] = data['locality_name_drop'].apply(drop_locality)\n",
    "data['locality_name_drop'].nunique()\n",
    "# Удалось удалить 55 неявных дубликатов"
   ]
  },
  {
   "cell_type": "markdown",
   "metadata": {},
   "source": [
    "#### Обработка редких и выбивающихся значений"
   ]
  },
  {
   "cell_type": "markdown",
   "metadata": {},
   "source": [
    "**Вместе с обработкой пропусков**  \n",
    "- значения ceiling, большие 15, были разделены на 2  \n",
    "- в Living (kitchen и total заодно) убраны экстремально большие квартиры  \n",
    "- этажи оставлены пока без изменений  "
   ]
  },
  {
   "cell_type": "markdown",
   "metadata": {},
   "source": [
    "### Посчитайте и добавьте в таблицу новые столбцы"
   ]
  },
  {
   "cell_type": "code",
   "execution_count": 39,
   "metadata": {},
   "outputs": [],
   "source": [
    "# Цена одного квадратного метра \n",
    "data['meter_price'] = data['last_price'] / data['total_area']"
   ]
  },
  {
   "cell_type": "code",
   "execution_count": 40,
   "metadata": {},
   "outputs": [],
   "source": [
    "# День недели публикации\n",
    "data['week_day'] = data['first_day_exposition'].dt.weekday"
   ]
  },
  {
   "cell_type": "code",
   "execution_count": 41,
   "metadata": {},
   "outputs": [],
   "source": [
    "# Месяц публикации объявления\n",
    "data['month'] = data['first_day_exposition'].dt.month"
   ]
  },
  {
   "cell_type": "code",
   "execution_count": 42,
   "metadata": {},
   "outputs": [],
   "source": [
    "# Год публикации объявления\n",
    "data['year'] = data['first_day_exposition'].dt.year"
   ]
  },
  {
   "cell_type": "code",
   "execution_count": 43,
   "metadata": {},
   "outputs": [],
   "source": [
    "# Тип этажа квартиры (значения — «первый», «последний», «другой»)\n",
    "def categorize_floor(floor, total_floors):\n",
    "    if floor == 1:\n",
    "        return 'первый'\n",
    "    elif floor == total_floors:\n",
    "        return 'последний'\n",
    "    return 'другой'\n",
    "\n",
    "data['floor_type'] = data.apply(lambda x: categorize_floor(x.floor, x.floors_total), axis=1)"
   ]
  },
  {
   "cell_type": "code",
   "execution_count": 44,
   "metadata": {},
   "outputs": [],
   "source": [
    "# Расстояние до центра города в километрах (переведите из м в км и округлите до целых значений) cityCenters_nearest\n",
    "data['city_kilo'] = (data['cityCenters_nearest'] / 1000).round(0)"
   ]
  },
  {
   "cell_type": "code",
   "execution_count": 45,
   "metadata": {},
   "outputs": [
    {
     "data": {
      "text/html": [
       "<div>\n",
       "<style scoped>\n",
       "    .dataframe tbody tr th:only-of-type {\n",
       "        vertical-align: middle;\n",
       "    }\n",
       "\n",
       "    .dataframe tbody tr th {\n",
       "        vertical-align: top;\n",
       "    }\n",
       "\n",
       "    .dataframe thead th {\n",
       "        text-align: right;\n",
       "    }\n",
       "</style>\n",
       "<table border=\"1\" class=\"dataframe\">\n",
       "  <thead>\n",
       "    <tr style=\"text-align: right;\">\n",
       "      <th></th>\n",
       "      <th>meter_price</th>\n",
       "      <th>week_day</th>\n",
       "      <th>month</th>\n",
       "      <th>year</th>\n",
       "      <th>floor_type</th>\n",
       "      <th>city_kilo</th>\n",
       "    </tr>\n",
       "  </thead>\n",
       "  <tbody>\n",
       "    <tr>\n",
       "      <th>0</th>\n",
       "      <td>120370.370370</td>\n",
       "      <td>3</td>\n",
       "      <td>3</td>\n",
       "      <td>2019</td>\n",
       "      <td>другой</td>\n",
       "      <td>16.0</td>\n",
       "    </tr>\n",
       "    <tr>\n",
       "      <th>1</th>\n",
       "      <td>82920.792079</td>\n",
       "      <td>1</td>\n",
       "      <td>12</td>\n",
       "      <td>2018</td>\n",
       "      <td>первый</td>\n",
       "      <td>19.0</td>\n",
       "    </tr>\n",
       "    <tr>\n",
       "      <th>2</th>\n",
       "      <td>92785.714286</td>\n",
       "      <td>3</td>\n",
       "      <td>8</td>\n",
       "      <td>2015</td>\n",
       "      <td>другой</td>\n",
       "      <td>14.0</td>\n",
       "    </tr>\n",
       "    <tr>\n",
       "      <th>3</th>\n",
       "      <td>408176.100629</td>\n",
       "      <td>4</td>\n",
       "      <td>7</td>\n",
       "      <td>2015</td>\n",
       "      <td>другой</td>\n",
       "      <td>7.0</td>\n",
       "    </tr>\n",
       "    <tr>\n",
       "      <th>4</th>\n",
       "      <td>100000.000000</td>\n",
       "      <td>1</td>\n",
       "      <td>6</td>\n",
       "      <td>2018</td>\n",
       "      <td>другой</td>\n",
       "      <td>8.0</td>\n",
       "    </tr>\n",
       "  </tbody>\n",
       "</table>\n",
       "</div>"
      ],
      "text/plain": [
       "     meter_price  week_day  month  year floor_type  city_kilo\n",
       "0  120370.370370         3      3  2019     другой       16.0\n",
       "1   82920.792079         1     12  2018     первый       19.0\n",
       "2   92785.714286         3      8  2015     другой       14.0\n",
       "3  408176.100629         4      7  2015     другой        7.0\n",
       "4  100000.000000         1      6  2018     другой        8.0"
      ]
     },
     "execution_count": 45,
     "metadata": {},
     "output_type": "execute_result"
    }
   ],
   "source": [
    "# Новые столбцы\n",
    "my_columns = ['meter_price', 'week_day', 'month', 'year', 'floor_type', 'city_kilo']\n",
    "data[my_columns].head(5)"
   ]
  },
  {
   "cell_type": "markdown",
   "metadata": {},
   "source": [
    "### Проведите исследовательский анализ данных"
   ]
  },
  {
   "cell_type": "markdown",
   "metadata": {},
   "source": [
    "#### Изучить параметры объектов"
   ]
  },
  {
   "cell_type": "markdown",
   "metadata": {},
   "source": [
    "**Количество объявлений : характеристики самого помещения**"
   ]
  },
  {
   "cell_type": "code",
   "execution_count": 46,
   "metadata": {},
   "outputs": [
    {
     "data": {
      "image/png": "[encoded data removed]",
      "text/plain": [
       "<Figure size 720x720 with 6 Axes>"
      ]
     },
     "metadata": {
      "needs_background": "light"
     },
     "output_type": "display_data"
    }
   ],
   "source": [
    "characteristics_column = [\n",
    "    'total_area', 'living_area', 'kitchen_area', 'rooms', 'ceiling_height'\n",
    "]\n",
    "data[characteristics_column].hist(figsize=(10, 10), bins=25);"
   ]
  },
  {
   "cell_type": "code",
   "execution_count": 47,
   "metadata": {},
   "outputs": [
    {
     "data": {
      "image/png": "[encoded data removed]",
      "text/plain": [
       "<Figure size 432x288 with 1 Axes>"
      ]
     },
     "metadata": {
      "needs_background": "light"
     },
     "output_type": "display_data"
    }
   ],
   "source": [
    "data['total_area'].plot(kind='box');"
   ]
  },
  {
   "cell_type": "code",
   "execution_count": 48,
   "metadata": {},
   "outputs": [
    {
     "data": {
      "image/png": "[encoded data removed]",
      "text/plain": [
       "<Figure size 432x288 with 1 Axes>"
      ]
     },
     "metadata": {
      "needs_background": "light"
     },
     "output_type": "display_data"
    }
   ],
   "source": [
    "data['living_area'].plot(kind='box');"
   ]
  },
  {
   "cell_type": "code",
   "execution_count": 49,
   "metadata": {},
   "outputs": [
    {
     "data": {
      "image/png": "[encoded data removed]",
      "text/plain": [
       "<Figure size 432x288 with 1 Axes>"
      ]
     },
     "metadata": {
      "needs_background": "light"
     },
     "output_type": "display_data"
    }
   ],
   "source": [
    "data['kitchen_area'].plot(kind='box');"
   ]
  },
  {
   "cell_type": "code",
   "execution_count": 50,
   "metadata": {},
   "outputs": [
    {
     "data": {
      "image/png": "[encoded data removed]",
      "text/plain": [
       "<Figure size 432x288 with 1 Axes>"
      ]
     },
     "metadata": {
      "needs_background": "light"
     },
     "output_type": "display_data"
    }
   ],
   "source": [
    "data['rooms'].plot(kind='box');"
   ]
  },
  {
   "cell_type": "code",
   "execution_count": 51,
   "metadata": {},
   "outputs": [
    {
     "data": {
      "image/png": "[encoded data removed]",
      "text/plain": [
       "<Figure size 432x288 with 1 Axes>"
      ]
     },
     "metadata": {
      "needs_background": "light"
     },
     "output_type": "display_data"
    }
   ],
   "source": [
    "data['ceiling_height'].plot(kind='box');"
   ]
  },
  {
   "cell_type": "code",
   "execution_count": 52,
   "metadata": {},
   "outputs": [
    {
     "data": {
      "text/html": [
       "<div>\n",
       "<style scoped>\n",
       "    .dataframe tbody tr th:only-of-type {\n",
       "        vertical-align: middle;\n",
       "    }\n",
       "\n",
       "    .dataframe tbody tr th {\n",
       "        vertical-align: top;\n",
       "    }\n",
       "\n",
       "    .dataframe thead th {\n",
       "        text-align: right;\n",
       "    }\n",
       "</style>\n",
       "<table border=\"1\" class=\"dataframe\">\n",
       "  <thead>\n",
       "    <tr style=\"text-align: right;\">\n",
       "      <th></th>\n",
       "      <th>total_area</th>\n",
       "      <th>living_area</th>\n",
       "      <th>kitchen_area</th>\n",
       "      <th>rooms</th>\n",
       "      <th>ceiling_height</th>\n",
       "    </tr>\n",
       "  </thead>\n",
       "  <tbody>\n",
       "    <tr>\n",
       "      <th>count</th>\n",
       "      <td>23365.000000</td>\n",
       "      <td>23365.000000</td>\n",
       "      <td>23365.000000</td>\n",
       "      <td>23365.000000</td>\n",
       "      <td>14351.000000</td>\n",
       "    </tr>\n",
       "    <tr>\n",
       "      <th>mean</th>\n",
       "      <td>58.899455</td>\n",
       "      <td>33.684632</td>\n",
       "      <td>10.336116</td>\n",
       "      <td>2.048235</td>\n",
       "      <td>2.723894</td>\n",
       "    </tr>\n",
       "    <tr>\n",
       "      <th>std</th>\n",
       "      <td>28.756163</td>\n",
       "      <td>18.098052</td>\n",
       "      <td>5.530021</td>\n",
       "      <td>1.013491</td>\n",
       "      <td>0.305765</td>\n",
       "    </tr>\n",
       "    <tr>\n",
       "      <th>min</th>\n",
       "      <td>14.000000</td>\n",
       "      <td>10.080000</td>\n",
       "      <td>1.300000</td>\n",
       "      <td>0.000000</td>\n",
       "      <td>1.000000</td>\n",
       "    </tr>\n",
       "    <tr>\n",
       "      <th>25%</th>\n",
       "      <td>40.000000</td>\n",
       "      <td>19.000000</td>\n",
       "      <td>7.000000</td>\n",
       "      <td>1.000000</td>\n",
       "      <td>2.500000</td>\n",
       "    </tr>\n",
       "    <tr>\n",
       "      <th>50%</th>\n",
       "      <td>52.000000</td>\n",
       "      <td>30.000000</td>\n",
       "      <td>9.000000</td>\n",
       "      <td>2.000000</td>\n",
       "      <td>2.650000</td>\n",
       "    </tr>\n",
       "    <tr>\n",
       "      <th>75%</th>\n",
       "      <td>69.000000</td>\n",
       "      <td>42.000000</td>\n",
       "      <td>11.900000</td>\n",
       "      <td>3.000000</td>\n",
       "      <td>2.800000</td>\n",
       "    </tr>\n",
       "    <tr>\n",
       "      <th>max</th>\n",
       "      <td>413.500000</td>\n",
       "      <td>149.893802</td>\n",
       "      <td>107.000000</td>\n",
       "      <td>11.000000</td>\n",
       "      <td>14.000000</td>\n",
       "    </tr>\n",
       "  </tbody>\n",
       "</table>\n",
       "</div>"
      ],
      "text/plain": [
       "         total_area   living_area  kitchen_area         rooms  ceiling_height\n",
       "count  23365.000000  23365.000000  23365.000000  23365.000000    14351.000000\n",
       "mean      58.899455     33.684632     10.336116      2.048235        2.723894\n",
       "std       28.756163     18.098052      5.530021      1.013491        0.305765\n",
       "min       14.000000     10.080000      1.300000      0.000000        1.000000\n",
       "25%       40.000000     19.000000      7.000000      1.000000        2.500000\n",
       "50%       52.000000     30.000000      9.000000      2.000000        2.650000\n",
       "75%       69.000000     42.000000     11.900000      3.000000        2.800000\n",
       "max      413.500000    149.893802    107.000000     11.000000       14.000000"
      ]
     },
     "execution_count": 52,
     "metadata": {},
     "output_type": "execute_result"
    }
   ],
   "source": [
    "data[characteristics_column].describe()"
   ]
  },
  {
   "cell_type": "markdown",
   "metadata": {},
   "source": [
    "- Бо́льшая часть продаж это помещения общиего размера до 100 м² (размеры kitchen, ceiling_height и living связаны с общим);\n",
    "- Есть помещения большей площади, но количество продаж у них меньше;\n",
    "- Помещения больше 100 м² можно считать большими, а меньше 40 м² - очень маленькими;\n",
    "- В основном помещения однокомнатные и двухкомнатные."
   ]
  },
  {
   "cell_type": "markdown",
   "metadata": {},
   "source": [
    "---"
   ]
  },
  {
   "cell_type": "markdown",
   "metadata": {},
   "source": [
    "**Количество объявлений : расположение/характеристики здания**"
   ]
  },
  {
   "cell_type": "code",
   "execution_count": 53,
   "metadata": {},
   "outputs": [
    {
     "data": {
      "image/png": "[encoded data removed]",
      "text/plain": [
       "<Figure size 720x720 with 6 Axes>"
      ]
     },
     "metadata": {
      "needs_background": "light"
     },
     "output_type": "display_data"
    }
   ],
   "source": [
    "buiding_columns = [\n",
    "    'floor', 'floor_type', 'floors_total',\n",
    "    'cityCenters_nearest', 'airports_nearest', 'parks_nearest'\n",
    "]\n",
    "data[buiding_columns].hist(figsize=(10, 10), bins=25);"
   ]
  },
  {
   "cell_type": "code",
   "execution_count": 54,
   "metadata": {},
   "outputs": [
    {
     "data": {
      "image/png": "[encoded data removed]",
      "text/plain": [
       "<Figure size 432x288 with 1 Axes>"
      ]
     },
     "metadata": {
      "needs_background": "light"
     },
     "output_type": "display_data"
    }
   ],
   "source": [
    "data['parks_nearest'].plot(kind='box');"
   ]
  },
  {
   "cell_type": "code",
   "execution_count": 55,
   "metadata": {},
   "outputs": [
    {
     "data": {
      "image/png": "[encoded data removed]",
      "text/plain": [
       "<Figure size 432x288 with 1 Axes>"
      ]
     },
     "metadata": {
      "needs_background": "light"
     },
     "output_type": "display_data"
    }
   ],
   "source": [
    "data['floor'].plot(kind='box');"
   ]
  },
  {
   "cell_type": "code",
   "execution_count": 56,
   "metadata": {},
   "outputs": [
    {
     "data": {
      "image/png": "[encoded data removed]",
      "text/plain": [
       "<Figure size 432x288 with 1 Axes>"
      ]
     },
     "metadata": {
      "needs_background": "light"
     },
     "output_type": "display_data"
    }
   ],
   "source": [
    "data['floors_total'].plot(kind='box');"
   ]
  },
  {
   "cell_type": "code",
   "execution_count": 57,
   "metadata": {},
   "outputs": [
    {
     "data": {
      "image/png": "[encoded data removed]",
      "text/plain": [
       "<Figure size 432x288 with 1 Axes>"
      ]
     },
     "metadata": {
      "needs_background": "light"
     },
     "output_type": "display_data"
    }
   ],
   "source": [
    "data['cityCenters_nearest'].plot(kind='box');"
   ]
  },
  {
   "cell_type": "code",
   "execution_count": 58,
   "metadata": {},
   "outputs": [
    {
     "data": {
      "image/png": "[encoded data removed]",
      "text/plain": [
       "<Figure size 432x288 with 1 Axes>"
      ]
     },
     "metadata": {
      "needs_background": "light"
     },
     "output_type": "display_data"
    }
   ],
   "source": [
    "data['airports_nearest'].plot(kind='box');"
   ]
  },
  {
   "cell_type": "code",
   "execution_count": 59,
   "metadata": {},
   "outputs": [
    {
     "data": {
      "text/html": [
       "<div>\n",
       "<style scoped>\n",
       "    .dataframe tbody tr th:only-of-type {\n",
       "        vertical-align: middle;\n",
       "    }\n",
       "\n",
       "    .dataframe tbody tr th {\n",
       "        vertical-align: top;\n",
       "    }\n",
       "\n",
       "    .dataframe thead th {\n",
       "        text-align: right;\n",
       "    }\n",
       "</style>\n",
       "<table border=\"1\" class=\"dataframe\">\n",
       "  <thead>\n",
       "    <tr style=\"text-align: right;\">\n",
       "      <th></th>\n",
       "      <th>floor</th>\n",
       "      <th>floors_total</th>\n",
       "      <th>cityCenters_nearest</th>\n",
       "      <th>airports_nearest</th>\n",
       "      <th>parks_nearest</th>\n",
       "    </tr>\n",
       "  </thead>\n",
       "  <tbody>\n",
       "    <tr>\n",
       "      <th>count</th>\n",
       "      <td>23365.000000</td>\n",
       "      <td>23365.000000</td>\n",
       "      <td>17945.000000</td>\n",
       "      <td>17858.000000</td>\n",
       "      <td>23365.000000</td>\n",
       "    </tr>\n",
       "    <tr>\n",
       "      <th>mean</th>\n",
       "      <td>5.882859</td>\n",
       "      <td>10.699551</td>\n",
       "      <td>14254.964837</td>\n",
       "      <td>28810.225557</td>\n",
       "      <td>166.324417</td>\n",
       "    </tr>\n",
       "    <tr>\n",
       "      <th>std</th>\n",
       "      <td>4.875414</td>\n",
       "      <td>6.597564</td>\n",
       "      <td>8599.838480</td>\n",
       "      <td>12663.613817</td>\n",
       "      <td>306.070735</td>\n",
       "    </tr>\n",
       "    <tr>\n",
       "      <th>min</th>\n",
       "      <td>1.000000</td>\n",
       "      <td>1.000000</td>\n",
       "      <td>181.000000</td>\n",
       "      <td>0.000000</td>\n",
       "      <td>0.000000</td>\n",
       "    </tr>\n",
       "    <tr>\n",
       "      <th>25%</th>\n",
       "      <td>2.000000</td>\n",
       "      <td>5.000000</td>\n",
       "      <td>9404.000000</td>\n",
       "      <td>18504.250000</td>\n",
       "      <td>0.000000</td>\n",
       "    </tr>\n",
       "    <tr>\n",
       "      <th>50%</th>\n",
       "      <td>4.000000</td>\n",
       "      <td>9.000000</td>\n",
       "      <td>13123.000000</td>\n",
       "      <td>26786.000000</td>\n",
       "      <td>0.000000</td>\n",
       "    </tr>\n",
       "    <tr>\n",
       "      <th>75%</th>\n",
       "      <td>8.000000</td>\n",
       "      <td>16.000000</td>\n",
       "      <td>16293.000000</td>\n",
       "      <td>37319.750000</td>\n",
       "      <td>296.000000</td>\n",
       "    </tr>\n",
       "    <tr>\n",
       "      <th>max</th>\n",
       "      <td>33.000000</td>\n",
       "      <td>60.000000</td>\n",
       "      <td>65968.000000</td>\n",
       "      <td>84869.000000</td>\n",
       "      <td>3190.000000</td>\n",
       "    </tr>\n",
       "  </tbody>\n",
       "</table>\n",
       "</div>"
      ],
      "text/plain": [
       "              floor  floors_total  cityCenters_nearest  airports_nearest  \\\n",
       "count  23365.000000  23365.000000         17945.000000      17858.000000   \n",
       "mean       5.882859     10.699551         14254.964837      28810.225557   \n",
       "std        4.875414      6.597564          8599.838480      12663.613817   \n",
       "min        1.000000      1.000000           181.000000          0.000000   \n",
       "25%        2.000000      5.000000          9404.000000      18504.250000   \n",
       "50%        4.000000      9.000000         13123.000000      26786.000000   \n",
       "75%        8.000000     16.000000         16293.000000      37319.750000   \n",
       "max       33.000000     60.000000         65968.000000      84869.000000   \n",
       "\n",
       "       parks_nearest  \n",
       "count   23365.000000  \n",
       "mean      166.324417  \n",
       "std       306.070735  \n",
       "min         0.000000  \n",
       "25%         0.000000  \n",
       "50%         0.000000  \n",
       "75%       296.000000  \n",
       "max      3190.000000  "
      ]
     },
     "execution_count": 59,
     "metadata": {},
     "output_type": "execute_result"
    }
   ],
   "source": [
    "data[buiding_columns].describe()"
   ]
  },
  {
   "cell_type": "markdown",
   "metadata": {},
   "source": [
    "- Много объявлений с недвижимостью без парков в радиусе 3000м - возможно, людям это не так важно?;\n",
    "- Большая часть продаж в домах, где 9 и меньше этажей (квартиры на меньших этажах соответственно), здания с 16+ этажами редкие;\n",
    "- В большей части недвижимости есть центр города в ~10.000 м (ближайшие аэропорты связаны с центрами городов)."
   ]
  },
  {
   "cell_type": "markdown",
   "metadata": {},
   "source": [
    "---\n"
   ]
  },
  {
   "cell_type": "markdown",
   "metadata": {},
   "source": [
    "**Количество объявлений : время закрытия сделки**"
   ]
  },
  {
   "cell_type": "code",
   "execution_count": 60,
   "metadata": {},
   "outputs": [
    {
     "data": {
      "image/png": "[encoded data removed]",
      "text/plain": [
       "<Figure size 864x360 with 2 Axes>"
      ]
     },
     "metadata": {
      "needs_background": "light"
     },
     "output_type": "display_data"
    }
   ],
   "source": [
    "time_columns = [\n",
    "    'week_day', 'month'\n",
    "]\n",
    "data[time_columns].hist(figsize=(12, 5), bins=15);"
   ]
  },
  {
   "cell_type": "code",
   "execution_count": 61,
   "metadata": {},
   "outputs": [
    {
     "data": {
      "text/html": [
       "<div>\n",
       "<style scoped>\n",
       "    .dataframe tbody tr th:only-of-type {\n",
       "        vertical-align: middle;\n",
       "    }\n",
       "\n",
       "    .dataframe tbody tr th {\n",
       "        vertical-align: top;\n",
       "    }\n",
       "\n",
       "    .dataframe thead th {\n",
       "        text-align: right;\n",
       "    }\n",
       "</style>\n",
       "<table border=\"1\" class=\"dataframe\">\n",
       "  <thead>\n",
       "    <tr style=\"text-align: right;\">\n",
       "      <th></th>\n",
       "      <th>week_day</th>\n",
       "      <th>month</th>\n",
       "    </tr>\n",
       "  </thead>\n",
       "  <tbody>\n",
       "    <tr>\n",
       "      <th>count</th>\n",
       "      <td>23365.000000</td>\n",
       "      <td>23365.000000</td>\n",
       "    </tr>\n",
       "    <tr>\n",
       "      <th>mean</th>\n",
       "      <td>2.567088</td>\n",
       "      <td>6.402183</td>\n",
       "    </tr>\n",
       "    <tr>\n",
       "      <th>std</th>\n",
       "      <td>1.788248</td>\n",
       "      <td>3.492439</td>\n",
       "    </tr>\n",
       "    <tr>\n",
       "      <th>min</th>\n",
       "      <td>0.000000</td>\n",
       "      <td>1.000000</td>\n",
       "    </tr>\n",
       "    <tr>\n",
       "      <th>25%</th>\n",
       "      <td>1.000000</td>\n",
       "      <td>3.000000</td>\n",
       "    </tr>\n",
       "    <tr>\n",
       "      <th>50%</th>\n",
       "      <td>3.000000</td>\n",
       "      <td>6.000000</td>\n",
       "    </tr>\n",
       "    <tr>\n",
       "      <th>75%</th>\n",
       "      <td>4.000000</td>\n",
       "      <td>10.000000</td>\n",
       "    </tr>\n",
       "    <tr>\n",
       "      <th>max</th>\n",
       "      <td>6.000000</td>\n",
       "      <td>12.000000</td>\n",
       "    </tr>\n",
       "  </tbody>\n",
       "</table>\n",
       "</div>"
      ],
      "text/plain": [
       "           week_day         month\n",
       "count  23365.000000  23365.000000\n",
       "mean       2.567088      6.402183\n",
       "std        1.788248      3.492439\n",
       "min        0.000000      1.000000\n",
       "25%        1.000000      3.000000\n",
       "50%        3.000000      6.000000\n",
       "75%        4.000000     10.000000\n",
       "max        6.000000     12.000000"
      ]
     },
     "execution_count": 61,
     "metadata": {},
     "output_type": "execute_result"
    }
   ],
   "source": [
    "data[time_columns].describe()"
   ]
  },
  {
   "cell_type": "markdown",
   "metadata": {},
   "source": [
    "- Больше всего сделок совершалось в будние дни, больше всего в четверг, меньше всего - в воскресенье;\n",
    "- Недвижимость несколько чаще покупали в Феврале и Марте, реже всего в Мае."
   ]
  },
  {
   "cell_type": "markdown",
   "metadata": {},
   "source": [
    "---"
   ]
  },
  {
   "cell_type": "markdown",
   "metadata": {},
   "source": [
    "#### Изучить, как быстро продавались квартиры (столбец days_exposition)"
   ]
  },
  {
   "cell_type": "code",
   "execution_count": 62,
   "metadata": {},
   "outputs": [
    {
     "data": {
      "image/png": "[encoded data removed]",
      "text/plain": [
       "<Figure size 432x288 with 1 Axes>"
      ]
     },
     "metadata": {
      "needs_background": "light"
     },
     "output_type": "display_data"
    }
   ],
   "source": [
    "data['days_exposition'].hist();"
   ]
  },
  {
   "cell_type": "code",
   "execution_count": 63,
   "metadata": {},
   "outputs": [
    {
     "data": {
      "text/plain": [
       "180.1148067608975"
      ]
     },
     "execution_count": 63,
     "metadata": {},
     "output_type": "execute_result"
    }
   ],
   "source": [
    "# Среднее\n",
    "data['days_exposition'].mean()"
   ]
  },
  {
   "cell_type": "code",
   "execution_count": 64,
   "metadata": {},
   "outputs": [
    {
     "data": {
      "text/plain": [
       "95.0"
      ]
     },
     "execution_count": 64,
     "metadata": {},
     "output_type": "execute_result"
    }
   ],
   "source": [
    "# Медиана\n",
    "data['days_exposition'].median()"
   ]
  },
  {
   "cell_type": "markdown",
   "metadata": {},
   "source": [
    "---"
   ]
  },
  {
   "cell_type": "markdown",
   "metadata": {},
   "source": [
    "**Большая часть продавцов совершили сделку за менее, чем полгода  \n",
    "Среднее арифметическое искажено частью сверхдолгих продаж (1400 дней)**  \n",
    "\n",
    "Быстрой можно назвать любую продажу меньше медианного значения (меньше 100 дней), \n",
    "долгой - больше 1000 дней"
   ]
  },
  {
   "cell_type": "markdown",
   "metadata": {},
   "source": [
    "#### Какие факторы больше всего влияют на общую (полную) стоимость объекта?"
   ]
  },
  {
   "cell_type": "code",
   "execution_count": 65,
   "metadata": {},
   "outputs": [
    {
     "data": {
      "image/png": "[encoded data removed]",
      "text/plain": [
       "<Figure size 432x288 with 1 Axes>"
      ]
     },
     "metadata": {
      "needs_background": "light"
     },
     "output_type": "display_data"
    }
   ],
   "source": [
    "# total_area\n",
    "total_area_pivot = pd.pivot_table(data, index=['total_area'], values='last_price')\n",
    "total_area_pivot.plot(style='o', alpha=0.65);"
   ]
  },
  {
   "cell_type": "code",
   "execution_count": 66,
   "metadata": {},
   "outputs": [
    {
     "data": {
      "image/png": "[encoded data removed]",
      "text/plain": [
       "<Figure size 432x288 with 1 Axes>"
      ]
     },
     "metadata": {
      "needs_background": "light"
     },
     "output_type": "display_data"
    }
   ],
   "source": [
    "# living_area\n",
    "living_area_pivot = pd.pivot_table(data, index=['living_area'], values='last_price')\n",
    "living_area_pivot.plot(style='o', alpha=0.65);"
   ]
  },
  {
   "cell_type": "code",
   "execution_count": 67,
   "metadata": {},
   "outputs": [
    {
     "data": {
      "image/png": "[encoded data removed]",
      "text/plain": [
       "<Figure size 432x288 with 1 Axes>"
      ]
     },
     "metadata": {
      "needs_background": "light"
     },
     "output_type": "display_data"
    }
   ],
   "source": [
    "# kitchen_area\n",
    "kitchen_area_pivot = pd.pivot_table(data, index=['kitchen_area'], values='last_price')\n",
    "kitchen_area_pivot.plot(style='o', alpha=0.65);"
   ]
  },
  {
   "cell_type": "code",
   "execution_count": 68,
   "metadata": {},
   "outputs": [
    {
     "data": {
      "image/png": "[encoded data removed]",
      "text/plain": [
       "<Figure size 432x288 with 1 Axes>"
      ]
     },
     "metadata": {
      "needs_background": "light"
     },
     "output_type": "display_data"
    }
   ],
   "source": [
    "# rooms\n",
    "rooms_pivot = pd.pivot_table(data, index=['rooms'], values='last_price')\n",
    "rooms_pivot.plot(style='o-', alpha=0.65);"
   ]
  },
  {
   "cell_type": "code",
   "execution_count": 69,
   "metadata": {},
   "outputs": [
    {
     "data": {
      "image/png": "[encoded data removed]",
      "text/plain": [
       "<Figure size 432x288 with 1 Axes>"
      ]
     },
     "metadata": {
      "needs_background": "light"
     },
     "output_type": "display_data"
    }
   ],
   "source": [
    "# floor_type\n",
    "floor_type_pivot = pd.pivot_table(data, index=['floor_type'], values='last_price')\n",
    "floor_type_pivot.plot(style='o-', alpha=0.65, ylim=[3.109031e+06, 7.777966e+06]);"
   ]
  },
  {
   "cell_type": "code",
   "execution_count": 70,
   "metadata": {},
   "outputs": [
    {
     "data": {
      "image/png": "[encoded data removed]",
      "text/plain": [
       "<Figure size 432x288 with 1 Axes>"
      ]
     },
     "metadata": {
      "needs_background": "light"
     },
     "output_type": "display_data"
    }
   ],
   "source": [
    "# даты размещения (день недели, месяц, год)\n",
    "# week_day (цифрами)\n",
    "week_pivot = pd.pivot_table(data, index=['week_day'], values='last_price')\n",
    "week_pivot.plot(style='o-', alpha=0.65, ylim=[6.777966e+06, 5.509031e+06]);"
   ]
  },
  {
   "cell_type": "code",
   "execution_count": 71,
   "metadata": {},
   "outputs": [
    {
     "data": {
      "image/png": "[encoded data removed]",
      "text/plain": [
       "<Figure size 432x288 with 1 Axes>"
      ]
     },
     "metadata": {
      "needs_background": "light"
     },
     "output_type": "display_data"
    }
   ],
   "source": [
    "# month (цифрами)\n",
    "month_pivot = pd.pivot_table(data, index=['month'], values='last_price')\n",
    "month_pivot.plot(style='o-', alpha=0.65, ylim=[6.777966e+06, 5.509031e+06]);"
   ]
  },
  {
   "cell_type": "code",
   "execution_count": 72,
   "metadata": {},
   "outputs": [
    {
     "data": {
      "image/png": "[encoded data removed]",
      "text/plain": [
       "<Figure size 432x288 with 1 Axes>"
      ]
     },
     "metadata": {
      "needs_background": "light"
     },
     "output_type": "display_data"
    }
   ],
   "source": [
    "# year\n",
    "year_pivot = pd.pivot_table(data, index=['year'], values='last_price')\n",
    "year_pivot.plot(style='o-', alpha=0.65);"
   ]
  },
  {
   "cell_type": "markdown",
   "metadata": {},
   "source": [
    "---"
   ]
  },
  {
   "cell_type": "markdown",
   "metadata": {},
   "source": [
    "**Влияние на цену:**\n",
    "- Площадь помещения (total, living, kitchen): чем больше - тем дороже\n",
    "- Количество комнат: до семи комнат цена стабильно растёт, после, скорее всего, уже идут специфические помещения\n",
    "- Этаж: чуть дешевле стоят помещения на первом этаже\n",
    "- Месяц и день: влияние незначительно\n",
    "- Год: Недвижимость дешевела с 2014 по 2018, сейчас опять растёт в цене"
   ]
  },
  {
   "cell_type": "markdown",
   "metadata": {},
   "source": [
    "#### Посчитайте среднюю цену одного квадратного метра в 10 населённых пунктах с наибольшим числом объявлений. \n",
    "     Выделите населённые пункты с самой высокой и низкой стоимостью квадратного метра. \n",
    "     Эти данные можно найти по имени в столбце locality_name."
   ]
  },
  {
   "cell_type": "code",
   "execution_count": 73,
   "metadata": {},
   "outputs": [
    {
     "data": {
      "text/plain": [
       "locality_name_drop\n",
       "Санкт-Петербург    15473\n",
       "Мурино               582\n",
       "Кудрово              469\n",
       "Шушары               438\n",
       "Всеволожск           398\n",
       "Пушкин               366\n",
       "Колпино              337\n",
       "Парголово            327\n",
       "Гатчина              307\n",
       "Выборг               236\n",
       "Name: locality_name, dtype: int64"
      ]
     },
     "execution_count": 73,
     "metadata": {},
     "output_type": "execute_result"
    }
   ],
   "source": [
    "# 10 населённых пунктов с наибольшим чилом объявлений\n",
    "data.groupby('locality_name_drop')['locality_name'].count().sort_values(ascending=False).head(10)"
   ]
  },
  {
   "cell_type": "code",
   "execution_count": 74,
   "metadata": {},
   "outputs": [
    {
     "data": {
      "text/html": [
       "<div>\n",
       "<style scoped>\n",
       "    .dataframe tbody tr th:only-of-type {\n",
       "        vertical-align: middle;\n",
       "    }\n",
       "\n",
       "    .dataframe tbody tr th {\n",
       "        vertical-align: top;\n",
       "    }\n",
       "\n",
       "    .dataframe thead th {\n",
       "        text-align: right;\n",
       "    }\n",
       "</style>\n",
       "<table border=\"1\" class=\"dataframe\">\n",
       "  <thead>\n",
       "    <tr style=\"text-align: right;\">\n",
       "      <th></th>\n",
       "      <th>last_price</th>\n",
       "      <th>total_area</th>\n",
       "      <th>meter_price</th>\n",
       "    </tr>\n",
       "    <tr>\n",
       "      <th>locality_name_drop</th>\n",
       "      <th></th>\n",
       "      <th></th>\n",
       "      <th></th>\n",
       "    </tr>\n",
       "  </thead>\n",
       "  <tbody>\n",
       "    <tr>\n",
       "      <th>Санкт-Петербург</th>\n",
       "      <td>7.534856e+06</td>\n",
       "      <td>62.717476</td>\n",
       "      <td>120139.661279</td>\n",
       "    </tr>\n",
       "    <tr>\n",
       "      <th>Пушкин</th>\n",
       "      <td>6.301159e+06</td>\n",
       "      <td>59.895847</td>\n",
       "      <td>105201.938155</td>\n",
       "    </tr>\n",
       "    <tr>\n",
       "      <th>Кудрово</th>\n",
       "      <td>4.355439e+06</td>\n",
       "      <td>46.398571</td>\n",
       "      <td>93870.103897</td>\n",
       "    </tr>\n",
       "    <tr>\n",
       "      <th>Парголово</th>\n",
       "      <td>4.488075e+06</td>\n",
       "      <td>51.521407</td>\n",
       "      <td>87110.874551</td>\n",
       "    </tr>\n",
       "    <tr>\n",
       "      <th>Мурино</th>\n",
       "      <td>3.683682e+06</td>\n",
       "      <td>44.238814</td>\n",
       "      <td>83268.090755</td>\n",
       "    </tr>\n",
       "    <tr>\n",
       "      <th>Шушары</th>\n",
       "      <td>4.109603e+06</td>\n",
       "      <td>53.867489</td>\n",
       "      <td>76290.965951</td>\n",
       "    </tr>\n",
       "    <tr>\n",
       "      <th>Колпино</th>\n",
       "      <td>3.866289e+06</td>\n",
       "      <td>52.358279</td>\n",
       "      <td>73842.926901</td>\n",
       "    </tr>\n",
       "    <tr>\n",
       "      <th>Гатчина</th>\n",
       "      <td>3.488337e+06</td>\n",
       "      <td>50.942932</td>\n",
       "      <td>68475.381534</td>\n",
       "    </tr>\n",
       "    <tr>\n",
       "      <th>Всеволожск</th>\n",
       "      <td>3.789068e+06</td>\n",
       "      <td>56.022186</td>\n",
       "      <td>67635.128626</td>\n",
       "    </tr>\n",
       "    <tr>\n",
       "      <th>Выборг</th>\n",
       "      <td>3.257131e+06</td>\n",
       "      <td>56.277797</td>\n",
       "      <td>57875.957342</td>\n",
       "    </tr>\n",
       "  </tbody>\n",
       "</table>\n",
       "</div>"
      ],
      "text/plain": [
       "                      last_price  total_area    meter_price\n",
       "locality_name_drop                                         \n",
       "Санкт-Петербург     7.534856e+06   62.717476  120139.661279\n",
       "Пушкин              6.301159e+06   59.895847  105201.938155\n",
       "Кудрово             4.355439e+06   46.398571   93870.103897\n",
       "Парголово           4.488075e+06   51.521407   87110.874551\n",
       "Мурино              3.683682e+06   44.238814   83268.090755\n",
       "Шушары              4.109603e+06   53.867489   76290.965951\n",
       "Колпино             3.866289e+06   52.358279   73842.926901\n",
       "Гатчина             3.488337e+06   50.942932   68475.381534\n",
       "Всеволожск          3.789068e+06   56.022186   67635.128626\n",
       "Выборг              3.257131e+06   56.277797   57875.957342"
      ]
     },
     "execution_count": 74,
     "metadata": {},
     "output_type": "execute_result"
    }
   ],
   "source": [
    "# Посчитать цену за метры\n",
    "cities = ['Санкт-Петербург', 'Мурино', 'Кудрово', 'Шушары', 'Всеволожск', 'Пушкин', 'Колпино', 'Парголово', 'Гатчина', 'Выборг']\n",
    "data_city_price = data.query('locality_name_drop == @cities')\n",
    "data_city_pivot = pd.pivot_table(data_city_price, index=['locality_name_drop'], values=['last_price', 'total_area'])\n",
    "data_city_pivot['meter_price'] = data_city_pivot['last_price'] / data_city_pivot['total_area']\n",
    "data_city_pivot.sort_values(by='meter_price', ascending=False)"
   ]
  },
  {
   "cell_type": "markdown",
   "metadata": {},
   "source": [
    "---"
   ]
  },
  {
   "cell_type": "markdown",
   "metadata": {},
   "source": [
    "**Самые дорогие метры в Питере, самые дешёвые в Выборге**"
   ]
  },
  {
   "cell_type": "markdown",
   "metadata": {},
   "source": [
    "#### Выделите квартиры в Санкт-Петербурге с помощью столбца locality_name и вычислите среднюю цену каждого километра. \n",
    "    Опишите, как стоимость объектов зависит от расстояния до центра города."
   ]
  },
  {
   "cell_type": "code",
   "execution_count": 75,
   "metadata": {},
   "outputs": [
    {
     "data": {
      "image/png": "[encoded data removed]",
      "text/plain": [
       "<Figure size 432x288 with 1 Axes>"
      ]
     },
     "metadata": {
      "needs_background": "light"
     },
     "output_type": "display_data"
    }
   ],
   "source": [
    "# Сводная таблица для зависимости цены м² от км до центра города и график\n",
    "spb_pivot = pd.pivot_table(data.query('locality_name == \"Санкт-Петербург\"'), \\\n",
    "                           index=['city_kilo'], \\\n",
    "                           values=['last_price'], aggfunc='mean')\n",
    "spb_pivot.plot(style='o-', alpha=0.65, grid=True);"
   ]
  },
  {
   "cell_type": "markdown",
   "metadata": {},
   "source": [
    "В целом, чем меньше расстояние до центра, тем выше стоимость жилья.   \n",
    "Есть необычные всплески цены, которые могут быть связаны с наличием других важных для людей объектов (например, станций метро или чего-то такого)"
   ]
  },
  {
   "cell_type": "markdown",
   "metadata": {},
   "source": [
    "---"
   ]
  },
  {
   "cell_type": "markdown",
   "metadata": {},
   "source": [
    "**Стоимость м² увеличивается на 1351 единиц денег за каждый метр ближе к центру**"
   ]
  },
  {
   "cell_type": "code",
   "execution_count": 76,
   "metadata": {},
   "outputs": [],
   "source": [
    "# Переменные для вывода\n",
    "quantity_dep = ['week_day', 'month', 'total_area', 'floors_total']\n",
    "price_dep = [total_area_pivot, kitchen_area_pivot, living_area_pivot]"
   ]
  },
  {
   "cell_type": "markdown",
   "metadata": {},
   "source": [
    "### Общий вывод"
   ]
  },
  {
   "cell_type": "markdown",
   "metadata": {},
   "source": [
    "**Цель исследования:** выполнить предобработку данных и изучить их, чтобы найти интересные особенности и зависимости, которые существуют на рынке недвижимости  \n",
    "**Входные данные:** данные сервиса Яндекс Недвижимость — архив объявлений за несколько лет о продаже квартир в Санкт-Петербурге и соседних населённых пунктах"
   ]
  },
  {
   "cell_type": "markdown",
   "metadata": {},
   "source": [
    "---"
   ]
  },
  {
   "cell_type": "markdown",
   "metadata": {},
   "source": [
    "Для более точного анализа была проведена работа по удалению пропусков, обработке аномальных значений, обработке дубликатов и категоризации данных:  \n",
    "- Были заполнены пропуски в данных (где была возможна логичная замена)\n",
    "- Исключена из исследования недвижимость аномально больших размеров\n",
    "- Для более наглядных подсчетов добавлены дополнительные столбцы:\n",
    "          \n",
    "      цена за м : 'meter_price'\n",
    "      день/месяц/год регистрации на бирже : 'week_day'/'month'/'year'\n",
    "      категория для этажа : 'floor_type'\n",
    "      расстояние до центра города в км : 'city_kilo'\n",
    "      \n",
    "- Удалены дубликаты названий населённых пунктов      \n",
    "      "
   ]
  },
  {
   "cell_type": "markdown",
   "metadata": {},
   "source": [
    "---"
   ]
  },
  {
   "cell_type": "markdown",
   "metadata": {},
   "source": [
    "В ходе исследования были получены результаты по следующим критериям:\n",
    "\n",
    "**Количество зарегистрированных продаж:**\n",
    "\n"
   ]
  },
  {
   "cell_type": "code",
   "execution_count": 77,
   "metadata": {},
   "outputs": [
    {
     "data": {
      "image/png": "[encoded data removed]",
      "text/plain": [
       "<Figure size 720x720 with 4 Axes>"
      ]
     },
     "metadata": {
      "needs_background": "light"
     },
     "output_type": "display_data"
    }
   ],
   "source": [
    "data[quantity_dep].hist(bins=25, figsize=(10,10));"
   ]
  },
  {
   "cell_type": "markdown",
   "metadata": {},
   "source": [
    "- В будние дни продаж больше, в пятницу и субботу меньше;\n",
    "- Зимой заявок на продажи больше, летом меньше;\n",
    "- Самое большое количество продаж у недвижимости до 100м.\n",
    "\n",
    "Населенный пункт с самым большим количеством объявлений о продаже: **Санкт-Петербург**\n",
    "\n",
    "**Цена продажи недвижимости:**   \n",
    "\n",
    "Её площадь:\n",
    "- Общая (total_area)\n",
    "- Кухня (kitchen_area)\n",
    "- Жилые помещения (living_area)"
   ]
  },
  {
   "cell_type": "code",
   "execution_count": 78,
   "metadata": {},
   "outputs": [
    {
     "data": {
      "image/png": "[encoded data removed]",
      "text/plain": [
       "<Figure size 432x288 with 1 Axes>"
      ]
     },
     "metadata": {
      "needs_background": "light"
     },
     "output_type": "display_data"
    },
    {
     "data": {
      "image/png": "[encoded data removed]",
      "text/plain": [
       "<Figure size 432x288 with 1 Axes>"
      ]
     },
     "metadata": {
      "needs_background": "light"
     },
     "output_type": "display_data"
    },
    {
     "data": {
      "image/png": "[encoded data removed]",
      "text/plain": [
       "<Figure size 432x288 with 1 Axes>"
      ]
     },
     "metadata": {
      "needs_background": "light"
     },
     "output_type": "display_data"
    }
   ],
   "source": [
    "for area in price_dep:\n",
    "    area.plot(style='o', alpha=0.65);"
   ]
  },
  {
   "cell_type": "markdown",
   "metadata": {},
   "source": [
    "- Чем больше площадь помещения, тем выше его цена\n",
    "\n",
    "\n",
    "\n",
    "Год продажи:"
   ]
  },
  {
   "cell_type": "code",
   "execution_count": 79,
   "metadata": {},
   "outputs": [
    {
     "data": {
      "image/png": "[encoded data removed]",
      "text/plain": [
       "<Figure size 432x288 with 1 Axes>"
      ]
     },
     "metadata": {
      "needs_background": "light"
     },
     "output_type": "display_data"
    }
   ],
   "source": [
    "year_pivot.plot(style='o-', alpha=0.65);"
   ]
  },
  {
   "cell_type": "markdown",
   "metadata": {},
   "source": [
    "- Цена на недвижимость падала до 2018\n",
    "- С 2018 цена начала расти\n",
    "\n",
    "---\n",
    "\n",
    "**Зависимость цены недвижимости от расстояния до центра города (км) (на примере СПб):**"
   ]
  },
  {
   "cell_type": "code",
   "execution_count": 80,
   "metadata": {},
   "outputs": [
    {
     "data": {
      "image/png": "[encoded data removed]",
      "text/plain": [
       "<Figure size 432x288 with 1 Axes>"
      ]
     },
     "metadata": {
      "needs_background": "light"
     },
     "output_type": "display_data"
    }
   ],
   "source": [
    "spb_pivot.plot(style='o-', alpha=0.65, grid=True);"
   ]
  },
  {
   "cell_type": "markdown",
   "metadata": {},
   "source": [
    "- Чем ближе к центру, тем общая стоимость выше.\n",
    "---\n",
    "**Итоговый вывод:** Подводя итог исследованию зависимости количества продаж недвижимости от ее площади, этажа, цены за площадь и расстояния до центра города, мы можем сделать следующий вывод:\n",
    "\n",
    "Площадь здания является важным фактором, влияющим на его цену и продажи. Большая площадь обычно означает более высокую цену и более низкие продажи, в то время как меньшая площадь обычно означает более низкую цену и более высокие продажи.\n",
    "Этаж здания также может влиять на его цену и продажи.  \n",
    "\n",
    "Эти данные можно в дальнейшем использовать для оценки нагрузки на персонал риелторов (по дням недели и месяцам), для предположительной оценки скорости продажи/поиска желаемой недвижимости для покупки, для предварительной оценки цен помещений.\n"
   ]
  },
  {
   "cell_type": "code",
   "execution_count": null,
   "metadata": {},
   "outputs": [],
   "source": []
  }
 ],
 "metadata": {
  "ExecuteTimeLog": [
   {
    "duration": 356,
    "start_time": "2023-05-25T06:08:12.230Z"
   },
   {
    "duration": 366,
    "start_time": "2023-05-25T06:08:12.588Z"
   },
   {
    "duration": 288,
    "start_time": "2023-05-25T06:08:12.955Z"
   },
   {
    "duration": 12,
    "start_time": "2023-05-25T06:08:33.532Z"
   },
   {
    "duration": 10,
    "start_time": "2023-05-25T06:08:40.464Z"
   },
   {
    "duration": 87,
    "start_time": "2023-05-25T06:09:04.222Z"
   },
   {
    "duration": 90,
    "start_time": "2023-05-25T06:09:57.771Z"
   },
   {
    "duration": 14,
    "start_time": "2023-05-25T06:09:59.226Z"
   },
   {
    "duration": 22,
    "start_time": "2023-05-25T06:10:01.564Z"
   },
   {
    "duration": 1585,
    "start_time": "2023-05-25T06:11:12.970Z"
   },
   {
    "duration": 76,
    "start_time": "2023-05-25T09:32:03.033Z"
   },
   {
    "duration": 10,
    "start_time": "2023-05-25T09:32:14.201Z"
   },
   {
    "duration": 9,
    "start_time": "2023-05-25T10:41:57.179Z"
   },
   {
    "duration": 9,
    "start_time": "2023-05-25T10:56:22.392Z"
   },
   {
    "duration": 9,
    "start_time": "2023-05-25T11:00:17.565Z"
   },
   {
    "duration": 33,
    "start_time": "2023-05-25T11:00:25.081Z"
   },
   {
    "duration": 27,
    "start_time": "2023-05-25T11:00:31.448Z"
   },
   {
    "duration": 9,
    "start_time": "2023-05-25T11:00:41.235Z"
   },
   {
    "duration": 67,
    "start_time": "2023-05-25T11:01:03.658Z"
   },
   {
    "duration": 50,
    "start_time": "2023-05-25T11:01:10.730Z"
   },
   {
    "duration": 6,
    "start_time": "2023-05-25T11:01:29.769Z"
   },
   {
    "duration": 6,
    "start_time": "2023-05-25T11:01:31.810Z"
   },
   {
    "duration": 13,
    "start_time": "2023-05-25T11:01:43.557Z"
   },
   {
    "duration": 18,
    "start_time": "2023-05-25T11:02:02.403Z"
   },
   {
    "duration": 9,
    "start_time": "2023-05-25T11:03:26.004Z"
   },
   {
    "duration": 7,
    "start_time": "2023-05-25T11:05:19.846Z"
   },
   {
    "duration": 48,
    "start_time": "2023-05-25T11:06:27.057Z"
   },
   {
    "duration": 51,
    "start_time": "2023-05-25T11:08:43.619Z"
   },
   {
    "duration": 8,
    "start_time": "2023-05-25T11:10:59.873Z"
   },
   {
    "duration": 8,
    "start_time": "2023-05-25T11:11:09.573Z"
   },
   {
    "duration": 363,
    "start_time": "2023-05-25T11:11:22.342Z"
   },
   {
    "duration": 207,
    "start_time": "2023-05-25T11:11:22.707Z"
   },
   {
    "duration": 92,
    "start_time": "2023-05-25T11:11:22.916Z"
   },
   {
    "duration": 15,
    "start_time": "2023-05-25T11:11:23.010Z"
   },
   {
    "duration": 26,
    "start_time": "2023-05-25T11:11:23.027Z"
   },
   {
    "duration": 1784,
    "start_time": "2023-05-25T11:11:23.055Z"
   },
   {
    "duration": 8,
    "start_time": "2023-05-25T11:11:24.841Z"
   },
   {
    "duration": 58,
    "start_time": "2023-05-25T11:11:24.850Z"
   },
   {
    "duration": 21,
    "start_time": "2023-05-25T11:11:24.910Z"
   },
   {
    "duration": 12,
    "start_time": "2023-05-25T11:11:24.933Z"
   },
   {
    "duration": 9,
    "start_time": "2023-05-25T11:12:58.439Z"
   },
   {
    "duration": 15,
    "start_time": "2023-05-25T11:13:00.460Z"
   },
   {
    "duration": 6,
    "start_time": "2023-05-25T11:16:02.827Z"
   },
   {
    "duration": 98,
    "start_time": "2023-05-25T11:54:29.355Z"
   },
   {
    "duration": 14,
    "start_time": "2023-05-25T11:54:40.539Z"
   },
   {
    "duration": 10,
    "start_time": "2023-05-25T11:56:02.829Z"
   },
   {
    "duration": 16,
    "start_time": "2023-05-25T11:56:13.141Z"
   },
   {
    "duration": 358,
    "start_time": "2023-05-25T11:56:44.023Z"
   },
   {
    "duration": 365,
    "start_time": "2023-05-25T11:56:44.385Z"
   },
   {
    "duration": 118,
    "start_time": "2023-05-25T11:56:44.752Z"
   },
   {
    "duration": 29,
    "start_time": "2023-05-25T11:56:44.872Z"
   },
   {
    "duration": 34,
    "start_time": "2023-05-25T11:56:44.903Z"
   },
   {
    "duration": 1825,
    "start_time": "2023-05-25T11:56:44.938Z"
   },
   {
    "duration": 8,
    "start_time": "2023-05-25T11:56:46.765Z"
   },
   {
    "duration": 52,
    "start_time": "2023-05-25T11:56:46.775Z"
   },
   {
    "duration": 27,
    "start_time": "2023-05-25T11:56:46.829Z"
   },
   {
    "duration": 20,
    "start_time": "2023-05-25T11:56:46.857Z"
   },
   {
    "duration": 24,
    "start_time": "2023-05-25T11:56:46.878Z"
   },
   {
    "duration": 8,
    "start_time": "2023-05-25T11:56:46.904Z"
   },
   {
    "duration": 14,
    "start_time": "2023-05-25T11:57:16.829Z"
   },
   {
    "duration": 10,
    "start_time": "2023-05-25T11:57:24.149Z"
   },
   {
    "duration": 8,
    "start_time": "2023-05-25T11:57:52.370Z"
   },
   {
    "duration": 2,
    "start_time": "2023-05-25T12:04:12.544Z"
   },
   {
    "duration": 11,
    "start_time": "2023-05-25T12:08:19.386Z"
   },
   {
    "duration": 4,
    "start_time": "2023-05-25T12:08:24.121Z"
   },
   {
    "duration": 5,
    "start_time": "2023-05-25T12:08:28.070Z"
   },
   {
    "duration": 997,
    "start_time": "2023-05-25T12:08:30.372Z"
   },
   {
    "duration": 399,
    "start_time": "2023-05-25T12:08:58.699Z"
   },
   {
    "duration": 222,
    "start_time": "2023-05-25T12:08:59.104Z"
   },
   {
    "duration": 93,
    "start_time": "2023-05-25T12:08:59.327Z"
   },
   {
    "duration": 16,
    "start_time": "2023-05-25T12:08:59.422Z"
   },
   {
    "duration": 25,
    "start_time": "2023-05-25T12:08:59.440Z"
   },
   {
    "duration": 1869,
    "start_time": "2023-05-25T12:08:59.467Z"
   },
   {
    "duration": 13,
    "start_time": "2023-05-25T12:09:01.338Z"
   },
   {
    "duration": 55,
    "start_time": "2023-05-25T12:09:01.352Z"
   },
   {
    "duration": 49,
    "start_time": "2023-05-25T12:09:01.409Z"
   },
   {
    "duration": 73,
    "start_time": "2023-05-25T12:09:01.460Z"
   },
   {
    "duration": 81,
    "start_time": "2023-05-25T12:09:01.535Z"
   },
   {
    "duration": 89,
    "start_time": "2023-05-25T12:09:01.618Z"
   },
   {
    "duration": 44,
    "start_time": "2023-05-25T12:09:01.709Z"
   },
   {
    "duration": 15,
    "start_time": "2023-05-25T12:09:52.459Z"
   },
   {
    "duration": 15,
    "start_time": "2023-05-25T12:09:53.845Z"
   },
   {
    "duration": 5,
    "start_time": "2023-05-25T12:17:01.543Z"
   },
   {
    "duration": 89,
    "start_time": "2023-05-25T12:17:13.251Z"
   },
   {
    "duration": 5,
    "start_time": "2023-05-25T12:17:20.858Z"
   },
   {
    "duration": 7,
    "start_time": "2023-05-25T12:17:31.803Z"
   },
   {
    "duration": 2,
    "start_time": "2023-05-25T12:28:53.416Z"
   },
   {
    "duration": 11,
    "start_time": "2023-05-25T12:37:44.912Z"
   },
   {
    "duration": 9,
    "start_time": "2023-05-25T12:37:47.314Z"
   },
   {
    "duration": 6,
    "start_time": "2023-05-25T14:44:25.232Z"
   },
   {
    "duration": 5,
    "start_time": "2023-05-25T14:44:36.857Z"
   },
   {
    "duration": 3,
    "start_time": "2023-05-25T14:44:48.035Z"
   },
   {
    "duration": 5,
    "start_time": "2023-05-25T14:44:51.440Z"
   },
   {
    "duration": 5,
    "start_time": "2023-05-25T14:51:49.575Z"
   },
   {
    "duration": 8,
    "start_time": "2023-05-25T14:51:51.716Z"
   },
   {
    "duration": 8,
    "start_time": "2023-05-25T14:52:10.908Z"
   },
   {
    "duration": 77,
    "start_time": "2023-05-25T14:53:11.183Z"
   },
   {
    "duration": 347,
    "start_time": "2023-05-25T14:53:59.932Z"
   },
   {
    "duration": 226,
    "start_time": "2023-05-25T14:54:00.281Z"
   },
   {
    "duration": 97,
    "start_time": "2023-05-25T14:54:00.508Z"
   },
   {
    "duration": 13,
    "start_time": "2023-05-25T14:54:00.607Z"
   },
   {
    "duration": 40,
    "start_time": "2023-05-25T14:54:00.622Z"
   },
   {
    "duration": 1891,
    "start_time": "2023-05-25T14:54:00.664Z"
   },
   {
    "duration": 9,
    "start_time": "2023-05-25T14:54:02.557Z"
   },
   {
    "duration": 64,
    "start_time": "2023-05-25T14:54:02.567Z"
   },
   {
    "duration": 115,
    "start_time": "2023-05-25T14:54:02.632Z"
   },
   {
    "duration": 0,
    "start_time": "2023-05-25T14:54:02.750Z"
   },
   {
    "duration": 0,
    "start_time": "2023-05-25T14:54:02.751Z"
   },
   {
    "duration": 0,
    "start_time": "2023-05-25T14:54:02.752Z"
   },
   {
    "duration": 0,
    "start_time": "2023-05-25T14:54:02.754Z"
   },
   {
    "duration": 0,
    "start_time": "2023-05-25T14:54:02.755Z"
   },
   {
    "duration": 0,
    "start_time": "2023-05-25T14:54:02.756Z"
   },
   {
    "duration": 0,
    "start_time": "2023-05-25T14:54:02.757Z"
   },
   {
    "duration": 0,
    "start_time": "2023-05-25T14:54:02.759Z"
   },
   {
    "duration": 0,
    "start_time": "2023-05-25T14:54:02.760Z"
   },
   {
    "duration": 0,
    "start_time": "2023-05-25T14:54:02.762Z"
   },
   {
    "duration": 0,
    "start_time": "2023-05-25T14:54:02.763Z"
   },
   {
    "duration": 0,
    "start_time": "2023-05-25T14:54:02.789Z"
   },
   {
    "duration": 0,
    "start_time": "2023-05-25T14:54:02.790Z"
   },
   {
    "duration": 224,
    "start_time": "2023-05-25T14:54:33.207Z"
   },
   {
    "duration": 385,
    "start_time": "2023-05-25T14:54:55.413Z"
   },
   {
    "duration": 235,
    "start_time": "2023-05-25T14:54:55.809Z"
   },
   {
    "duration": 94,
    "start_time": "2023-05-25T14:54:56.045Z"
   },
   {
    "duration": 14,
    "start_time": "2023-05-25T14:54:56.142Z"
   },
   {
    "duration": 58,
    "start_time": "2023-05-25T14:54:56.159Z"
   },
   {
    "duration": 1828,
    "start_time": "2023-05-25T14:54:56.219Z"
   },
   {
    "duration": 8,
    "start_time": "2023-05-25T14:54:58.049Z"
   },
   {
    "duration": 5,
    "start_time": "2023-05-25T14:54:58.058Z"
   },
   {
    "duration": 98,
    "start_time": "2023-05-25T14:54:58.064Z"
   },
   {
    "duration": 0,
    "start_time": "2023-05-25T14:54:58.164Z"
   },
   {
    "duration": 0,
    "start_time": "2023-05-25T14:54:58.166Z"
   },
   {
    "duration": 0,
    "start_time": "2023-05-25T14:54:58.167Z"
   },
   {
    "duration": 0,
    "start_time": "2023-05-25T14:54:58.168Z"
   },
   {
    "duration": 0,
    "start_time": "2023-05-25T14:54:58.169Z"
   },
   {
    "duration": 0,
    "start_time": "2023-05-25T14:54:58.170Z"
   },
   {
    "duration": 0,
    "start_time": "2023-05-25T14:54:58.171Z"
   },
   {
    "duration": 0,
    "start_time": "2023-05-25T14:54:58.172Z"
   },
   {
    "duration": 0,
    "start_time": "2023-05-25T14:54:58.173Z"
   },
   {
    "duration": 0,
    "start_time": "2023-05-25T14:54:58.185Z"
   },
   {
    "duration": 0,
    "start_time": "2023-05-25T14:54:58.186Z"
   },
   {
    "duration": 0,
    "start_time": "2023-05-25T14:54:58.186Z"
   },
   {
    "duration": 1,
    "start_time": "2023-05-25T14:54:58.186Z"
   },
   {
    "duration": 384,
    "start_time": "2023-05-25T14:57:50.377Z"
   },
   {
    "duration": 207,
    "start_time": "2023-05-25T14:57:50.762Z"
   },
   {
    "duration": 100,
    "start_time": "2023-05-25T14:57:50.970Z"
   },
   {
    "duration": 12,
    "start_time": "2023-05-25T14:57:51.071Z"
   },
   {
    "duration": 40,
    "start_time": "2023-05-25T14:57:51.091Z"
   },
   {
    "duration": 1702,
    "start_time": "2023-05-25T14:57:51.133Z"
   },
   {
    "duration": 7,
    "start_time": "2023-05-25T14:57:52.837Z"
   },
   {
    "duration": 20,
    "start_time": "2023-05-25T14:57:52.846Z"
   },
   {
    "duration": 101,
    "start_time": "2023-05-25T14:57:52.867Z"
   },
   {
    "duration": 0,
    "start_time": "2023-05-25T14:57:52.970Z"
   },
   {
    "duration": 0,
    "start_time": "2023-05-25T14:57:52.971Z"
   },
   {
    "duration": 0,
    "start_time": "2023-05-25T14:57:52.973Z"
   },
   {
    "duration": 0,
    "start_time": "2023-05-25T14:57:52.974Z"
   },
   {
    "duration": 0,
    "start_time": "2023-05-25T14:57:52.975Z"
   },
   {
    "duration": 0,
    "start_time": "2023-05-25T14:57:52.975Z"
   },
   {
    "duration": 0,
    "start_time": "2023-05-25T14:57:52.977Z"
   },
   {
    "duration": 0,
    "start_time": "2023-05-25T14:57:52.978Z"
   },
   {
    "duration": 0,
    "start_time": "2023-05-25T14:57:52.979Z"
   },
   {
    "duration": 0,
    "start_time": "2023-05-25T14:57:52.990Z"
   },
   {
    "duration": 0,
    "start_time": "2023-05-25T14:57:52.990Z"
   },
   {
    "duration": 0,
    "start_time": "2023-05-25T14:57:52.991Z"
   },
   {
    "duration": 0,
    "start_time": "2023-05-25T14:57:52.991Z"
   },
   {
    "duration": 11,
    "start_time": "2023-05-25T14:58:17.725Z"
   },
   {
    "duration": 2,
    "start_time": "2023-05-25T14:58:23.108Z"
   },
   {
    "duration": 7,
    "start_time": "2023-05-25T15:02:17.015Z"
   },
   {
    "duration": 363,
    "start_time": "2023-05-25T15:03:39.347Z"
   },
   {
    "duration": 213,
    "start_time": "2023-05-25T15:03:39.714Z"
   },
   {
    "duration": 94,
    "start_time": "2023-05-25T15:03:39.928Z"
   },
   {
    "duration": 17,
    "start_time": "2023-05-25T15:03:40.023Z"
   },
   {
    "duration": 72,
    "start_time": "2023-05-25T15:03:40.042Z"
   },
   {
    "duration": 1732,
    "start_time": "2023-05-25T15:03:40.115Z"
   },
   {
    "duration": 9,
    "start_time": "2023-05-25T15:03:41.849Z"
   },
   {
    "duration": 11,
    "start_time": "2023-05-25T15:03:41.860Z"
   },
   {
    "duration": 88,
    "start_time": "2023-05-25T15:03:41.873Z"
   },
   {
    "duration": 0,
    "start_time": "2023-05-25T15:03:41.963Z"
   },
   {
    "duration": 0,
    "start_time": "2023-05-25T15:03:41.965Z"
   },
   {
    "duration": 0,
    "start_time": "2023-05-25T15:03:41.967Z"
   },
   {
    "duration": 0,
    "start_time": "2023-05-25T15:03:41.968Z"
   },
   {
    "duration": 0,
    "start_time": "2023-05-25T15:03:41.969Z"
   },
   {
    "duration": 0,
    "start_time": "2023-05-25T15:03:41.970Z"
   },
   {
    "duration": 0,
    "start_time": "2023-05-25T15:03:41.986Z"
   },
   {
    "duration": 0,
    "start_time": "2023-05-25T15:03:41.987Z"
   },
   {
    "duration": 0,
    "start_time": "2023-05-25T15:03:41.987Z"
   },
   {
    "duration": 0,
    "start_time": "2023-05-25T15:03:41.988Z"
   },
   {
    "duration": 0,
    "start_time": "2023-05-25T15:03:41.988Z"
   },
   {
    "duration": 0,
    "start_time": "2023-05-25T15:03:41.988Z"
   },
   {
    "duration": 0,
    "start_time": "2023-05-25T15:03:41.989Z"
   },
   {
    "duration": 29,
    "start_time": "2023-05-25T15:04:09.589Z"
   },
   {
    "duration": 5,
    "start_time": "2023-05-25T15:04:48.522Z"
   },
   {
    "duration": 166,
    "start_time": "2023-05-25T15:07:43.513Z"
   },
   {
    "duration": 377,
    "start_time": "2023-05-25T15:08:38.847Z"
   },
   {
    "duration": 220,
    "start_time": "2023-05-25T15:08:39.226Z"
   },
   {
    "duration": 104,
    "start_time": "2023-05-25T15:08:39.447Z"
   },
   {
    "duration": 14,
    "start_time": "2023-05-25T15:08:39.552Z"
   },
   {
    "duration": 45,
    "start_time": "2023-05-25T15:08:39.569Z"
   },
   {
    "duration": 1799,
    "start_time": "2023-05-25T15:08:39.616Z"
   },
   {
    "duration": 9,
    "start_time": "2023-05-25T15:08:41.417Z"
   },
   {
    "duration": 6,
    "start_time": "2023-05-25T15:08:41.428Z"
   },
   {
    "duration": 28,
    "start_time": "2023-05-25T15:08:41.436Z"
   },
   {
    "duration": 9,
    "start_time": "2023-05-25T15:08:41.466Z"
   },
   {
    "duration": 5,
    "start_time": "2023-05-25T15:08:41.477Z"
   },
   {
    "duration": 34,
    "start_time": "2023-05-25T15:08:41.483Z"
   },
   {
    "duration": 5,
    "start_time": "2023-05-25T15:08:41.518Z"
   },
   {
    "duration": 8,
    "start_time": "2023-05-25T15:08:41.525Z"
   },
   {
    "duration": 10,
    "start_time": "2023-05-25T15:08:41.535Z"
   },
   {
    "duration": 2,
    "start_time": "2023-05-25T15:08:41.551Z"
   },
   {
    "duration": 24,
    "start_time": "2023-05-25T15:08:41.556Z"
   },
   {
    "duration": 40,
    "start_time": "2023-05-25T15:08:41.581Z"
   },
   {
    "duration": 10,
    "start_time": "2023-05-25T15:08:41.623Z"
   },
   {
    "duration": 10,
    "start_time": "2023-05-25T15:08:41.635Z"
   },
   {
    "duration": 19,
    "start_time": "2023-05-25T15:08:41.646Z"
   },
   {
    "duration": 43,
    "start_time": "2023-05-25T15:08:41.666Z"
   },
   {
    "duration": 396,
    "start_time": "2023-05-25T15:11:27.729Z"
   },
   {
    "duration": 226,
    "start_time": "2023-05-25T15:11:28.127Z"
   },
   {
    "duration": 109,
    "start_time": "2023-05-25T15:11:28.354Z"
   },
   {
    "duration": 13,
    "start_time": "2023-05-25T15:11:28.464Z"
   },
   {
    "duration": 43,
    "start_time": "2023-05-25T15:11:28.478Z"
   },
   {
    "duration": 1801,
    "start_time": "2023-05-25T15:11:28.522Z"
   },
   {
    "duration": 9,
    "start_time": "2023-05-25T15:11:30.325Z"
   },
   {
    "duration": 30,
    "start_time": "2023-05-25T15:11:30.335Z"
   },
   {
    "duration": 95,
    "start_time": "2023-05-25T15:11:30.366Z"
   },
   {
    "duration": 0,
    "start_time": "2023-05-25T15:11:30.463Z"
   },
   {
    "duration": 0,
    "start_time": "2023-05-25T15:11:30.464Z"
   },
   {
    "duration": 0,
    "start_time": "2023-05-25T15:11:30.465Z"
   },
   {
    "duration": 0,
    "start_time": "2023-05-25T15:11:30.466Z"
   },
   {
    "duration": 0,
    "start_time": "2023-05-25T15:11:30.467Z"
   },
   {
    "duration": 0,
    "start_time": "2023-05-25T15:11:30.467Z"
   },
   {
    "duration": 0,
    "start_time": "2023-05-25T15:11:30.469Z"
   },
   {
    "duration": 0,
    "start_time": "2023-05-25T15:11:30.469Z"
   },
   {
    "duration": 0,
    "start_time": "2023-05-25T15:11:30.470Z"
   },
   {
    "duration": 0,
    "start_time": "2023-05-25T15:11:30.471Z"
   },
   {
    "duration": 0,
    "start_time": "2023-05-25T15:11:30.471Z"
   },
   {
    "duration": 0,
    "start_time": "2023-05-25T15:11:30.472Z"
   },
   {
    "duration": 0,
    "start_time": "2023-05-25T15:11:30.473Z"
   },
   {
    "duration": 49,
    "start_time": "2023-05-25T15:12:34.701Z"
   },
   {
    "duration": 100,
    "start_time": "2023-05-25T15:17:57.751Z"
   },
   {
    "duration": 8,
    "start_time": "2023-05-25T15:18:44.261Z"
   },
   {
    "duration": 12,
    "start_time": "2023-05-25T15:19:21.890Z"
   },
   {
    "duration": 407,
    "start_time": "2023-05-25T15:19:30.667Z"
   },
   {
    "duration": 266,
    "start_time": "2023-05-25T15:19:31.076Z"
   },
   {
    "duration": 103,
    "start_time": "2023-05-25T15:19:31.343Z"
   },
   {
    "duration": 14,
    "start_time": "2023-05-25T15:19:31.448Z"
   },
   {
    "duration": 55,
    "start_time": "2023-05-25T15:19:31.465Z"
   },
   {
    "duration": 2046,
    "start_time": "2023-05-25T15:19:31.521Z"
   },
   {
    "duration": 9,
    "start_time": "2023-05-25T15:19:33.569Z"
   },
   {
    "duration": 53,
    "start_time": "2023-05-25T15:19:33.580Z"
   },
   {
    "duration": 25,
    "start_time": "2023-05-25T15:19:33.635Z"
   },
   {
    "duration": 12,
    "start_time": "2023-05-25T15:19:33.662Z"
   },
   {
    "duration": 2,
    "start_time": "2023-05-25T15:19:33.675Z"
   },
   {
    "duration": 5,
    "start_time": "2023-05-25T15:19:33.678Z"
   },
   {
    "duration": 46,
    "start_time": "2023-05-25T15:19:33.689Z"
   },
   {
    "duration": 10,
    "start_time": "2023-05-25T15:19:33.737Z"
   },
   {
    "duration": 10,
    "start_time": "2023-05-25T15:19:33.748Z"
   },
   {
    "duration": 2,
    "start_time": "2023-05-25T15:19:33.759Z"
   },
   {
    "duration": 11,
    "start_time": "2023-05-25T15:19:33.763Z"
   },
   {
    "duration": 7,
    "start_time": "2023-05-25T15:19:33.776Z"
   },
   {
    "duration": 43,
    "start_time": "2023-05-25T15:19:33.787Z"
   },
   {
    "duration": 9,
    "start_time": "2023-05-25T15:19:33.832Z"
   },
   {
    "duration": 15,
    "start_time": "2023-05-25T15:19:33.842Z"
   },
   {
    "duration": 3,
    "start_time": "2023-05-25T15:19:33.858Z"
   },
   {
    "duration": 86,
    "start_time": "2023-05-25T15:20:53.239Z"
   },
   {
    "duration": 10,
    "start_time": "2023-05-25T15:21:25.726Z"
   },
   {
    "duration": 352,
    "start_time": "2023-05-25T15:21:34.559Z"
   },
   {
    "duration": 243,
    "start_time": "2023-05-25T15:21:34.912Z"
   },
   {
    "duration": 99,
    "start_time": "2023-05-25T15:21:35.156Z"
   },
   {
    "duration": 12,
    "start_time": "2023-05-25T15:21:35.257Z"
   },
   {
    "duration": 26,
    "start_time": "2023-05-25T15:21:35.271Z"
   },
   {
    "duration": 1953,
    "start_time": "2023-05-25T15:21:35.298Z"
   },
   {
    "duration": 8,
    "start_time": "2023-05-25T15:21:37.253Z"
   },
   {
    "duration": 7,
    "start_time": "2023-05-25T15:21:37.262Z"
   },
   {
    "duration": 9,
    "start_time": "2023-05-25T15:21:37.270Z"
   },
   {
    "duration": 8,
    "start_time": "2023-05-25T15:21:37.281Z"
   },
   {
    "duration": 58,
    "start_time": "2023-05-25T15:21:37.290Z"
   },
   {
    "duration": 20,
    "start_time": "2023-05-25T15:21:37.350Z"
   },
   {
    "duration": 18,
    "start_time": "2023-05-25T15:21:37.372Z"
   },
   {
    "duration": 30,
    "start_time": "2023-05-25T15:21:37.406Z"
   },
   {
    "duration": 14,
    "start_time": "2023-05-25T15:21:37.438Z"
   },
   {
    "duration": 84,
    "start_time": "2023-05-25T15:21:37.453Z"
   },
   {
    "duration": 29,
    "start_time": "2023-05-25T15:21:37.539Z"
   },
   {
    "duration": 11,
    "start_time": "2023-05-25T15:21:37.570Z"
   },
   {
    "duration": 38,
    "start_time": "2023-05-25T15:21:37.582Z"
   },
   {
    "duration": 20,
    "start_time": "2023-05-25T15:21:37.622Z"
   },
   {
    "duration": 14,
    "start_time": "2023-05-25T15:21:37.644Z"
   },
   {
    "duration": 3,
    "start_time": "2023-05-25T15:21:37.659Z"
   },
   {
    "duration": 17,
    "start_time": "2023-05-25T15:24:17.389Z"
   },
   {
    "duration": 31,
    "start_time": "2023-05-25T15:26:27.350Z"
   },
   {
    "duration": 37,
    "start_time": "2023-05-25T15:28:21.124Z"
   },
   {
    "duration": 29,
    "start_time": "2023-05-25T15:28:31.925Z"
   },
   {
    "duration": 37,
    "start_time": "2023-05-25T15:34:58.885Z"
   },
   {
    "duration": 29,
    "start_time": "2023-05-25T15:35:23.431Z"
   },
   {
    "duration": 381,
    "start_time": "2023-05-25T15:38:52.237Z"
   },
   {
    "duration": 208,
    "start_time": "2023-05-25T15:38:52.620Z"
   },
   {
    "duration": 89,
    "start_time": "2023-05-25T15:38:52.829Z"
   },
   {
    "duration": 13,
    "start_time": "2023-05-25T15:38:52.920Z"
   },
   {
    "duration": 23,
    "start_time": "2023-05-25T15:38:52.935Z"
   },
   {
    "duration": 1824,
    "start_time": "2023-05-25T15:38:52.959Z"
   },
   {
    "duration": 24,
    "start_time": "2023-05-25T15:38:54.787Z"
   },
   {
    "duration": 39,
    "start_time": "2023-05-25T15:38:54.814Z"
   },
   {
    "duration": 6,
    "start_time": "2023-05-25T15:38:54.854Z"
   },
   {
    "duration": 13,
    "start_time": "2023-05-25T15:38:54.861Z"
   },
   {
    "duration": 32,
    "start_time": "2023-05-25T15:38:54.875Z"
   },
   {
    "duration": 33,
    "start_time": "2023-05-25T15:38:54.908Z"
   },
   {
    "duration": 1,
    "start_time": "2023-05-25T15:38:54.943Z"
   },
   {
    "duration": 6,
    "start_time": "2023-05-25T15:38:54.947Z"
   },
   {
    "duration": 5,
    "start_time": "2023-05-25T15:38:54.954Z"
   },
   {
    "duration": 8,
    "start_time": "2023-05-25T15:38:54.960Z"
   },
   {
    "duration": 8,
    "start_time": "2023-05-25T15:38:54.969Z"
   },
   {
    "duration": 4,
    "start_time": "2023-05-25T15:38:54.978Z"
   },
   {
    "duration": 34,
    "start_time": "2023-05-25T15:38:54.983Z"
   },
   {
    "duration": 10,
    "start_time": "2023-05-25T15:38:55.019Z"
   },
   {
    "duration": 26,
    "start_time": "2023-05-25T15:38:55.030Z"
   },
   {
    "duration": 7,
    "start_time": "2023-05-25T15:38:55.057Z"
   },
   {
    "duration": 17,
    "start_time": "2023-05-25T15:38:55.065Z"
   },
   {
    "duration": 27,
    "start_time": "2023-05-25T15:38:55.084Z"
   },
   {
    "duration": 8,
    "start_time": "2023-05-25T15:38:55.113Z"
   },
   {
    "duration": 31,
    "start_time": "2023-05-25T15:42:24.149Z"
   },
   {
    "duration": 32,
    "start_time": "2023-05-25T15:43:53.517Z"
   },
   {
    "duration": 15,
    "start_time": "2023-05-25T15:44:37.564Z"
   },
   {
    "duration": 35,
    "start_time": "2023-05-25T15:45:33.079Z"
   },
   {
    "duration": 45,
    "start_time": "2023-05-25T15:46:19.561Z"
   },
   {
    "duration": 388,
    "start_time": "2023-05-25T15:51:58.616Z"
   },
   {
    "duration": 212,
    "start_time": "2023-05-25T15:51:59.009Z"
   },
   {
    "duration": 92,
    "start_time": "2023-05-25T15:51:59.223Z"
   },
   {
    "duration": 14,
    "start_time": "2023-05-25T15:51:59.316Z"
   },
   {
    "duration": 23,
    "start_time": "2023-05-25T15:51:59.331Z"
   },
   {
    "duration": 1804,
    "start_time": "2023-05-25T15:51:59.355Z"
   },
   {
    "duration": 8,
    "start_time": "2023-05-25T15:52:01.161Z"
   },
   {
    "duration": 83,
    "start_time": "2023-05-25T15:52:01.170Z"
   },
   {
    "duration": 12,
    "start_time": "2023-05-25T15:52:01.256Z"
   },
   {
    "duration": 68,
    "start_time": "2023-05-25T15:52:01.270Z"
   },
   {
    "duration": 91,
    "start_time": "2023-05-25T15:52:01.340Z"
   },
   {
    "duration": 85,
    "start_time": "2023-05-25T15:52:01.433Z"
   },
   {
    "duration": 102,
    "start_time": "2023-05-25T15:52:01.520Z"
   },
   {
    "duration": 54,
    "start_time": "2023-05-25T15:52:01.624Z"
   },
   {
    "duration": 180,
    "start_time": "2023-05-25T15:52:01.680Z"
   },
   {
    "duration": 53,
    "start_time": "2023-05-25T15:52:01.861Z"
   },
   {
    "duration": 22,
    "start_time": "2023-05-25T15:52:01.916Z"
   },
   {
    "duration": 14,
    "start_time": "2023-05-25T15:52:01.940Z"
   },
   {
    "duration": 14,
    "start_time": "2023-05-25T15:52:01.956Z"
   },
   {
    "duration": 9,
    "start_time": "2023-05-25T15:52:01.972Z"
   },
   {
    "duration": 43,
    "start_time": "2023-05-25T15:52:01.982Z"
   },
   {
    "duration": 14,
    "start_time": "2023-05-25T15:52:02.027Z"
   },
   {
    "duration": 7,
    "start_time": "2023-05-25T15:52:02.042Z"
   },
   {
    "duration": 63,
    "start_time": "2023-05-25T15:52:02.050Z"
   },
   {
    "duration": 17,
    "start_time": "2023-05-25T15:52:02.118Z"
   },
   {
    "duration": 6,
    "start_time": "2023-05-25T15:52:02.137Z"
   },
   {
    "duration": 13,
    "start_time": "2023-05-25T15:52:02.145Z"
   },
   {
    "duration": 32,
    "start_time": "2023-05-25T15:52:32.848Z"
   },
   {
    "duration": 32,
    "start_time": "2023-05-25T15:52:37.209Z"
   },
   {
    "duration": 14,
    "start_time": "2023-05-25T15:54:42.308Z"
   },
   {
    "duration": 37,
    "start_time": "2023-05-25T15:56:02.915Z"
   },
   {
    "duration": 12,
    "start_time": "2023-05-25T15:59:24.113Z"
   },
   {
    "duration": 11,
    "start_time": "2023-05-25T15:59:31.012Z"
   },
   {
    "duration": 35,
    "start_time": "2023-05-25T15:59:37.265Z"
   },
   {
    "duration": 12,
    "start_time": "2023-05-25T15:59:57.516Z"
   },
   {
    "duration": 9,
    "start_time": "2023-05-25T16:00:37.401Z"
   },
   {
    "duration": 6,
    "start_time": "2023-05-25T16:03:11.432Z"
   },
   {
    "duration": 9,
    "start_time": "2023-05-25T16:03:19.404Z"
   },
   {
    "duration": 5,
    "start_time": "2023-05-25T16:03:28.819Z"
   },
   {
    "duration": 11,
    "start_time": "2023-05-25T16:06:01.735Z"
   },
   {
    "duration": 115,
    "start_time": "2023-05-25T16:06:01.749Z"
   },
   {
    "duration": 124,
    "start_time": "2023-05-25T16:06:01.866Z"
   },
   {
    "duration": 72,
    "start_time": "2023-05-25T16:06:01.994Z"
   },
   {
    "duration": 106,
    "start_time": "2023-05-25T16:06:02.068Z"
   },
   {
    "duration": 3,
    "start_time": "2023-05-25T16:06:02.176Z"
   },
   {
    "duration": 96,
    "start_time": "2023-05-25T16:06:02.181Z"
   },
   {
    "duration": 56,
    "start_time": "2023-05-25T16:06:02.279Z"
   },
   {
    "duration": 32,
    "start_time": "2023-05-25T16:06:02.337Z"
   },
   {
    "duration": 53,
    "start_time": "2023-05-25T16:06:02.371Z"
   },
   {
    "duration": 40,
    "start_time": "2023-05-25T16:06:02.426Z"
   },
   {
    "duration": 60,
    "start_time": "2023-05-25T16:06:02.467Z"
   },
   {
    "duration": 11,
    "start_time": "2023-05-25T16:06:02.529Z"
   },
   {
    "duration": 75,
    "start_time": "2023-05-25T16:06:02.542Z"
   },
   {
    "duration": 37,
    "start_time": "2023-05-25T16:06:02.619Z"
   },
   {
    "duration": 54,
    "start_time": "2023-05-25T16:06:02.657Z"
   },
   {
    "duration": 3,
    "start_time": "2023-05-25T16:07:09.079Z"
   },
   {
    "duration": 14,
    "start_time": "2023-05-25T16:07:16.011Z"
   },
   {
    "duration": 7,
    "start_time": "2023-05-25T16:07:40.812Z"
   },
   {
    "duration": 141,
    "start_time": "2023-05-25T16:08:24.042Z"
   },
   {
    "duration": 72,
    "start_time": "2023-05-25T16:09:04.065Z"
   },
   {
    "duration": 11,
    "start_time": "2023-05-25T16:09:51.300Z"
   },
   {
    "duration": 7,
    "start_time": "2023-05-25T16:10:06.869Z"
   },
   {
    "duration": 5,
    "start_time": "2023-05-25T16:13:18.549Z"
   },
   {
    "duration": 7,
    "start_time": "2023-05-25T16:13:56.432Z"
   },
   {
    "duration": 18,
    "start_time": "2023-05-25T16:14:03.606Z"
   },
   {
    "duration": 8,
    "start_time": "2023-05-25T16:14:40.804Z"
   },
   {
    "duration": 14,
    "start_time": "2023-05-25T16:15:36.815Z"
   },
   {
    "duration": 9,
    "start_time": "2023-05-25T16:15:56.019Z"
   },
   {
    "duration": 6,
    "start_time": "2023-05-25T16:16:13.243Z"
   },
   {
    "duration": 5,
    "start_time": "2023-05-25T16:16:14.950Z"
   },
   {
    "duration": 15,
    "start_time": "2023-05-25T16:24:36.107Z"
   },
   {
    "duration": 7,
    "start_time": "2023-05-25T16:25:17.840Z"
   },
   {
    "duration": 6,
    "start_time": "2023-05-25T16:26:37.553Z"
   },
   {
    "duration": 6,
    "start_time": "2023-05-25T16:26:43.312Z"
   },
   {
    "duration": 6,
    "start_time": "2023-05-25T16:26:46.163Z"
   },
   {
    "duration": 15,
    "start_time": "2023-05-25T16:27:06.103Z"
   },
   {
    "duration": 93,
    "start_time": "2023-05-25T16:28:24.025Z"
   },
   {
    "duration": 14,
    "start_time": "2023-05-25T16:28:34.905Z"
   },
   {
    "duration": 19,
    "start_time": "2023-05-25T16:28:46.509Z"
   },
   {
    "duration": 344,
    "start_time": "2023-05-25T16:29:33.562Z"
   },
   {
    "duration": 235,
    "start_time": "2023-05-25T16:29:33.908Z"
   },
   {
    "duration": 121,
    "start_time": "2023-05-25T16:29:34.144Z"
   },
   {
    "duration": 13,
    "start_time": "2023-05-25T16:29:34.267Z"
   },
   {
    "duration": 38,
    "start_time": "2023-05-25T16:29:34.282Z"
   },
   {
    "duration": 1850,
    "start_time": "2023-05-25T16:29:34.321Z"
   },
   {
    "duration": 9,
    "start_time": "2023-05-25T16:29:36.173Z"
   },
   {
    "duration": 124,
    "start_time": "2023-05-25T16:29:36.184Z"
   },
   {
    "duration": 9,
    "start_time": "2023-05-25T16:29:36.309Z"
   },
   {
    "duration": 49,
    "start_time": "2023-05-25T16:29:36.319Z"
   },
   {
    "duration": 46,
    "start_time": "2023-05-25T16:29:36.370Z"
   },
   {
    "duration": 97,
    "start_time": "2023-05-25T16:29:36.417Z"
   },
   {
    "duration": 28,
    "start_time": "2023-05-25T16:29:36.515Z"
   },
   {
    "duration": 14,
    "start_time": "2023-05-25T16:29:36.546Z"
   },
   {
    "duration": 15,
    "start_time": "2023-05-25T16:29:36.561Z"
   },
   {
    "duration": 64,
    "start_time": "2023-05-25T16:29:36.577Z"
   },
   {
    "duration": 7,
    "start_time": "2023-05-25T16:29:36.642Z"
   },
   {
    "duration": 8,
    "start_time": "2023-05-25T16:29:36.650Z"
   },
   {
    "duration": 53,
    "start_time": "2023-05-25T16:29:36.659Z"
   },
   {
    "duration": 9,
    "start_time": "2023-05-25T16:29:36.713Z"
   },
   {
    "duration": 30,
    "start_time": "2023-05-25T16:29:36.723Z"
   },
   {
    "duration": 14,
    "start_time": "2023-05-25T16:29:36.754Z"
   },
   {
    "duration": 12,
    "start_time": "2023-05-25T16:29:36.769Z"
   },
   {
    "duration": 52,
    "start_time": "2023-05-25T16:29:36.783Z"
   },
   {
    "duration": 9,
    "start_time": "2023-05-25T16:29:36.837Z"
   },
   {
    "duration": 9,
    "start_time": "2023-05-25T16:29:36.847Z"
   },
   {
    "duration": 14,
    "start_time": "2023-05-25T16:29:36.858Z"
   },
   {
    "duration": 28,
    "start_time": "2023-05-25T16:29:36.875Z"
   },
   {
    "duration": 35,
    "start_time": "2023-05-25T16:29:36.905Z"
   },
   {
    "duration": 4,
    "start_time": "2023-05-25T16:29:36.941Z"
   },
   {
    "duration": 24,
    "start_time": "2023-05-25T16:30:14.041Z"
   },
   {
    "duration": 12,
    "start_time": "2023-05-25T16:30:28.835Z"
   },
   {
    "duration": 391,
    "start_time": "2023-05-25T16:30:55.111Z"
   },
   {
    "duration": 255,
    "start_time": "2023-05-25T16:30:55.503Z"
   },
   {
    "duration": 102,
    "start_time": "2023-05-25T16:30:55.759Z"
   },
   {
    "duration": 71,
    "start_time": "2023-05-25T16:30:55.863Z"
   },
   {
    "duration": 80,
    "start_time": "2023-05-25T16:30:55.938Z"
   },
   {
    "duration": 1911,
    "start_time": "2023-05-25T16:30:56.027Z"
   },
   {
    "duration": 10,
    "start_time": "2023-05-25T16:30:57.940Z"
   },
   {
    "duration": 11,
    "start_time": "2023-05-25T16:30:57.951Z"
   },
   {
    "duration": 4,
    "start_time": "2023-05-25T16:30:57.964Z"
   },
   {
    "duration": 31,
    "start_time": "2023-05-25T16:30:57.969Z"
   },
   {
    "duration": 20,
    "start_time": "2023-05-25T16:30:58.001Z"
   },
   {
    "duration": 41,
    "start_time": "2023-05-25T16:30:58.027Z"
   },
   {
    "duration": 5,
    "start_time": "2023-05-25T16:30:58.069Z"
   },
   {
    "duration": 61,
    "start_time": "2023-05-25T16:30:58.076Z"
   },
   {
    "duration": 5,
    "start_time": "2023-05-25T16:30:58.138Z"
   },
   {
    "duration": 24,
    "start_time": "2023-05-25T16:30:58.145Z"
   },
   {
    "duration": 32,
    "start_time": "2023-05-25T16:30:58.171Z"
   },
   {
    "duration": 30,
    "start_time": "2023-05-25T16:30:58.204Z"
   },
   {
    "duration": 46,
    "start_time": "2023-05-25T16:30:58.235Z"
   },
   {
    "duration": 19,
    "start_time": "2023-05-25T16:30:58.283Z"
   },
   {
    "duration": 22,
    "start_time": "2023-05-25T16:30:58.317Z"
   },
   {
    "duration": 6,
    "start_time": "2023-05-25T16:30:58.341Z"
   },
   {
    "duration": 90,
    "start_time": "2023-05-25T16:30:58.349Z"
   },
   {
    "duration": 11,
    "start_time": "2023-05-25T16:30:58.441Z"
   },
   {
    "duration": 10,
    "start_time": "2023-05-25T16:30:58.454Z"
   },
   {
    "duration": 3,
    "start_time": "2023-05-25T16:30:58.466Z"
   },
   {
    "duration": 4,
    "start_time": "2023-05-25T16:30:58.471Z"
   },
   {
    "duration": 25,
    "start_time": "2023-05-25T16:30:58.477Z"
   },
   {
    "duration": 36,
    "start_time": "2023-05-25T16:30:58.503Z"
   },
   {
    "duration": 7,
    "start_time": "2023-05-25T16:30:58.540Z"
   },
   {
    "duration": 395,
    "start_time": "2023-05-25T16:31:44.153Z"
   },
   {
    "duration": 273,
    "start_time": "2023-05-25T16:31:44.550Z"
   },
   {
    "duration": 110,
    "start_time": "2023-05-25T16:31:44.835Z"
   },
   {
    "duration": 13,
    "start_time": "2023-05-25T16:31:44.947Z"
   },
   {
    "duration": 76,
    "start_time": "2023-05-25T16:31:44.962Z"
   },
   {
    "duration": 1844,
    "start_time": "2023-05-25T16:31:45.039Z"
   },
   {
    "duration": 19,
    "start_time": "2023-05-25T16:31:46.887Z"
   },
   {
    "duration": 51,
    "start_time": "2023-05-25T16:31:46.907Z"
   },
   {
    "duration": 5,
    "start_time": "2023-05-25T16:31:46.959Z"
   },
   {
    "duration": 37,
    "start_time": "2023-05-25T16:31:46.965Z"
   },
   {
    "duration": 28,
    "start_time": "2023-05-25T16:31:47.003Z"
   },
   {
    "duration": 37,
    "start_time": "2023-05-25T16:31:47.033Z"
   },
   {
    "duration": 11,
    "start_time": "2023-05-25T16:31:47.071Z"
   },
   {
    "duration": 15,
    "start_time": "2023-05-25T16:31:47.099Z"
   },
   {
    "duration": 39,
    "start_time": "2023-05-25T16:31:47.116Z"
   },
   {
    "duration": 10,
    "start_time": "2023-05-25T16:31:47.157Z"
   },
   {
    "duration": 8,
    "start_time": "2023-05-25T16:31:47.169Z"
   },
   {
    "duration": 15,
    "start_time": "2023-05-25T16:31:47.179Z"
   },
   {
    "duration": 72,
    "start_time": "2023-05-25T16:31:47.196Z"
   },
   {
    "duration": 53,
    "start_time": "2023-05-25T16:31:47.270Z"
   },
   {
    "duration": 6,
    "start_time": "2023-05-25T16:31:47.324Z"
   },
   {
    "duration": 22,
    "start_time": "2023-05-25T16:31:47.331Z"
   },
   {
    "duration": 13,
    "start_time": "2023-05-25T16:31:47.354Z"
   },
   {
    "duration": 5,
    "start_time": "2023-05-25T16:31:47.368Z"
   },
   {
    "duration": 4,
    "start_time": "2023-05-25T16:31:47.375Z"
   },
   {
    "duration": 63,
    "start_time": "2023-05-25T16:31:47.381Z"
   },
   {
    "duration": 6,
    "start_time": "2023-05-25T16:31:47.445Z"
   },
   {
    "duration": 20,
    "start_time": "2023-05-25T16:31:47.452Z"
   },
   {
    "duration": 9,
    "start_time": "2023-05-25T16:31:47.474Z"
   },
   {
    "duration": 54,
    "start_time": "2023-05-25T16:31:47.489Z"
   },
   {
    "duration": 7,
    "start_time": "2023-05-25T16:31:47.545Z"
   },
   {
    "duration": 519,
    "start_time": "2023-05-25T16:32:36.087Z"
   },
   {
    "duration": 324,
    "start_time": "2023-05-25T16:32:36.619Z"
   },
   {
    "duration": 118,
    "start_time": "2023-05-25T16:32:36.945Z"
   },
   {
    "duration": 48,
    "start_time": "2023-05-25T16:32:37.066Z"
   },
   {
    "duration": 48,
    "start_time": "2023-05-25T16:32:37.123Z"
   },
   {
    "duration": 2094,
    "start_time": "2023-05-25T16:32:37.177Z"
   },
   {
    "duration": 8,
    "start_time": "2023-05-25T16:32:39.273Z"
   },
   {
    "duration": 67,
    "start_time": "2023-05-25T16:32:39.282Z"
   },
   {
    "duration": 5,
    "start_time": "2023-05-25T16:32:39.351Z"
   },
   {
    "duration": 18,
    "start_time": "2023-05-25T16:32:39.359Z"
   },
   {
    "duration": 32,
    "start_time": "2023-05-25T16:32:39.378Z"
   },
   {
    "duration": 23,
    "start_time": "2023-05-25T16:32:39.419Z"
   },
   {
    "duration": 33,
    "start_time": "2023-05-25T16:32:39.443Z"
   },
   {
    "duration": 6,
    "start_time": "2023-05-25T16:32:39.477Z"
   },
   {
    "duration": 46,
    "start_time": "2023-05-25T16:32:39.499Z"
   },
   {
    "duration": 5,
    "start_time": "2023-05-25T16:32:39.547Z"
   },
   {
    "duration": 9,
    "start_time": "2023-05-25T16:32:39.554Z"
   },
   {
    "duration": 17,
    "start_time": "2023-05-25T16:32:39.564Z"
   },
   {
    "duration": 44,
    "start_time": "2023-05-25T16:32:39.582Z"
   },
   {
    "duration": 45,
    "start_time": "2023-05-25T16:32:39.634Z"
   },
   {
    "duration": 2,
    "start_time": "2023-05-25T16:32:39.681Z"
   },
   {
    "duration": 39,
    "start_time": "2023-05-25T16:32:39.702Z"
   },
   {
    "duration": 7,
    "start_time": "2023-05-25T16:32:39.742Z"
   },
   {
    "duration": 4,
    "start_time": "2023-05-25T16:32:39.750Z"
   },
   {
    "duration": 6,
    "start_time": "2023-05-25T16:32:39.755Z"
   },
   {
    "duration": 5,
    "start_time": "2023-05-25T16:32:39.762Z"
   },
   {
    "duration": 9,
    "start_time": "2023-05-25T16:32:39.768Z"
   },
   {
    "duration": 3,
    "start_time": "2023-05-25T16:32:39.780Z"
   },
   {
    "duration": 39,
    "start_time": "2023-05-25T16:32:39.806Z"
   },
   {
    "duration": 3,
    "start_time": "2023-05-25T16:32:39.847Z"
   },
   {
    "duration": 23,
    "start_time": "2023-05-25T16:32:39.852Z"
   },
   {
    "duration": 371,
    "start_time": "2023-05-25T16:32:54.942Z"
   },
   {
    "duration": 236,
    "start_time": "2023-05-25T16:32:55.315Z"
   },
   {
    "duration": 98,
    "start_time": "2023-05-25T16:32:55.552Z"
   },
   {
    "duration": 13,
    "start_time": "2023-05-25T16:32:55.652Z"
   },
   {
    "duration": 44,
    "start_time": "2023-05-25T16:32:55.667Z"
   },
   {
    "duration": 2002,
    "start_time": "2023-05-25T16:32:55.712Z"
   },
   {
    "duration": 21,
    "start_time": "2023-05-25T16:32:57.722Z"
   },
   {
    "duration": 14,
    "start_time": "2023-05-25T16:32:57.745Z"
   },
   {
    "duration": 4,
    "start_time": "2023-05-25T16:32:57.761Z"
   },
   {
    "duration": 9,
    "start_time": "2023-05-25T16:32:57.766Z"
   },
   {
    "duration": 37,
    "start_time": "2023-05-25T16:32:57.776Z"
   },
   {
    "duration": 16,
    "start_time": "2023-05-25T16:32:57.826Z"
   },
   {
    "duration": 70,
    "start_time": "2023-05-25T16:32:57.844Z"
   },
   {
    "duration": 11,
    "start_time": "2023-05-25T16:32:57.919Z"
   },
   {
    "duration": 11,
    "start_time": "2023-05-25T16:32:57.931Z"
   },
   {
    "duration": 5,
    "start_time": "2023-05-25T16:32:57.943Z"
   },
   {
    "duration": 7,
    "start_time": "2023-05-25T16:32:57.950Z"
   },
   {
    "duration": 11,
    "start_time": "2023-05-25T16:32:57.958Z"
   },
   {
    "duration": 5,
    "start_time": "2023-05-25T16:32:57.971Z"
   },
   {
    "duration": 66,
    "start_time": "2023-05-25T16:32:57.977Z"
   },
   {
    "duration": 2,
    "start_time": "2023-05-25T16:32:58.045Z"
   },
   {
    "duration": 10,
    "start_time": "2023-05-25T16:32:58.048Z"
   },
   {
    "duration": 8,
    "start_time": "2023-05-25T16:32:58.059Z"
   },
   {
    "duration": 6,
    "start_time": "2023-05-25T16:32:58.069Z"
   },
   {
    "duration": 4,
    "start_time": "2023-05-25T16:32:58.076Z"
   },
   {
    "duration": 59,
    "start_time": "2023-05-25T16:32:58.082Z"
   },
   {
    "duration": 9,
    "start_time": "2023-05-25T16:32:58.142Z"
   },
   {
    "duration": 8,
    "start_time": "2023-05-25T16:32:58.153Z"
   },
   {
    "duration": 11,
    "start_time": "2023-05-25T16:32:58.162Z"
   },
   {
    "duration": 2,
    "start_time": "2023-05-25T16:32:58.175Z"
   },
   {
    "duration": 58,
    "start_time": "2023-05-25T16:32:58.179Z"
   },
   {
    "duration": 78,
    "start_time": "2023-05-25T16:34:38.661Z"
   },
   {
    "duration": 98,
    "start_time": "2023-05-25T16:35:37.828Z"
   },
   {
    "duration": 28,
    "start_time": "2023-05-25T16:35:45.131Z"
   },
   {
    "duration": 14,
    "start_time": "2023-05-25T16:43:24.629Z"
   },
   {
    "duration": 28,
    "start_time": "2023-05-25T16:43:34.710Z"
   },
   {
    "duration": 380,
    "start_time": "2023-05-25T16:43:55.073Z"
   },
   {
    "duration": 283,
    "start_time": "2023-05-25T16:43:55.455Z"
   },
   {
    "duration": 99,
    "start_time": "2023-05-25T16:43:55.739Z"
   },
   {
    "duration": 15,
    "start_time": "2023-05-25T16:43:55.843Z"
   },
   {
    "duration": 47,
    "start_time": "2023-05-25T16:43:55.860Z"
   },
   {
    "duration": 1895,
    "start_time": "2023-05-25T16:43:55.909Z"
   },
   {
    "duration": 16,
    "start_time": "2023-05-25T16:43:57.806Z"
   },
   {
    "duration": 27,
    "start_time": "2023-05-25T16:43:57.823Z"
   },
   {
    "duration": 5,
    "start_time": "2023-05-25T16:43:57.851Z"
   },
   {
    "duration": 10,
    "start_time": "2023-05-25T16:43:57.857Z"
   },
   {
    "duration": 46,
    "start_time": "2023-05-25T16:43:57.868Z"
   },
   {
    "duration": 14,
    "start_time": "2023-05-25T16:43:57.915Z"
   },
   {
    "duration": 37,
    "start_time": "2023-05-25T16:43:57.934Z"
   },
   {
    "duration": 6,
    "start_time": "2023-05-25T16:43:57.973Z"
   },
   {
    "duration": 27,
    "start_time": "2023-05-25T16:43:57.980Z"
   },
   {
    "duration": 30,
    "start_time": "2023-05-25T16:43:58.009Z"
   },
   {
    "duration": 7,
    "start_time": "2023-05-25T16:43:58.040Z"
   },
   {
    "duration": 13,
    "start_time": "2023-05-25T16:43:58.048Z"
   },
   {
    "duration": 4,
    "start_time": "2023-05-25T16:43:58.062Z"
   },
   {
    "duration": 64,
    "start_time": "2023-05-25T16:43:58.067Z"
   },
   {
    "duration": 2,
    "start_time": "2023-05-25T16:43:58.135Z"
   },
   {
    "duration": 14,
    "start_time": "2023-05-25T16:43:58.138Z"
   },
   {
    "duration": 8,
    "start_time": "2023-05-25T16:43:58.153Z"
   },
   {
    "duration": 2,
    "start_time": "2023-05-25T16:43:58.162Z"
   },
   {
    "duration": 6,
    "start_time": "2023-05-25T16:43:58.165Z"
   },
   {
    "duration": 5,
    "start_time": "2023-05-25T16:43:58.172Z"
   },
   {
    "duration": 4,
    "start_time": "2023-05-25T16:43:58.178Z"
   },
   {
    "duration": 57,
    "start_time": "2023-05-25T16:43:58.183Z"
   },
   {
    "duration": 15,
    "start_time": "2023-05-25T16:43:58.241Z"
   },
   {
    "duration": 3,
    "start_time": "2023-05-25T16:43:58.257Z"
   },
   {
    "duration": 5,
    "start_time": "2023-05-25T16:43:58.261Z"
   },
   {
    "duration": 414,
    "start_time": "2023-05-25T16:45:37.539Z"
   },
   {
    "duration": 284,
    "start_time": "2023-05-25T16:45:37.955Z"
   },
   {
    "duration": 115,
    "start_time": "2023-05-25T16:45:38.241Z"
   },
   {
    "duration": 16,
    "start_time": "2023-05-25T16:45:38.358Z"
   },
   {
    "duration": 44,
    "start_time": "2023-05-25T16:45:38.376Z"
   },
   {
    "duration": 2105,
    "start_time": "2023-05-25T16:45:38.421Z"
   },
   {
    "duration": 11,
    "start_time": "2023-05-25T16:45:40.533Z"
   },
   {
    "duration": 15,
    "start_time": "2023-05-25T16:45:40.545Z"
   },
   {
    "duration": 9,
    "start_time": "2023-05-25T16:45:40.562Z"
   },
   {
    "duration": 168,
    "start_time": "2023-05-25T16:45:40.573Z"
   },
   {
    "duration": 0,
    "start_time": "2023-05-25T16:45:40.743Z"
   },
   {
    "duration": 0,
    "start_time": "2023-05-25T16:45:40.745Z"
   },
   {
    "duration": 0,
    "start_time": "2023-05-25T16:45:40.746Z"
   },
   {
    "duration": 0,
    "start_time": "2023-05-25T16:45:40.748Z"
   },
   {
    "duration": 0,
    "start_time": "2023-05-25T16:45:40.749Z"
   },
   {
    "duration": 0,
    "start_time": "2023-05-25T16:45:40.750Z"
   },
   {
    "duration": 0,
    "start_time": "2023-05-25T16:45:40.751Z"
   },
   {
    "duration": 0,
    "start_time": "2023-05-25T16:45:40.752Z"
   },
   {
    "duration": 0,
    "start_time": "2023-05-25T16:45:40.753Z"
   },
   {
    "duration": 0,
    "start_time": "2023-05-25T16:45:40.754Z"
   },
   {
    "duration": 0,
    "start_time": "2023-05-25T16:45:40.755Z"
   },
   {
    "duration": 0,
    "start_time": "2023-05-25T16:45:40.756Z"
   },
   {
    "duration": 0,
    "start_time": "2023-05-25T16:45:40.757Z"
   },
   {
    "duration": 0,
    "start_time": "2023-05-25T16:45:40.759Z"
   },
   {
    "duration": 0,
    "start_time": "2023-05-25T16:45:40.760Z"
   },
   {
    "duration": 0,
    "start_time": "2023-05-25T16:45:40.761Z"
   },
   {
    "duration": 0,
    "start_time": "2023-05-25T16:45:40.762Z"
   },
   {
    "duration": 0,
    "start_time": "2023-05-25T16:45:40.763Z"
   },
   {
    "duration": 0,
    "start_time": "2023-05-25T16:45:40.764Z"
   },
   {
    "duration": 0,
    "start_time": "2023-05-25T16:45:40.765Z"
   },
   {
    "duration": 0,
    "start_time": "2023-05-25T16:45:40.766Z"
   },
   {
    "duration": 0,
    "start_time": "2023-05-25T16:45:40.767Z"
   },
   {
    "duration": 18,
    "start_time": "2023-05-25T16:45:57.980Z"
   },
   {
    "duration": 12,
    "start_time": "2023-05-25T16:46:00.835Z"
   },
   {
    "duration": 3,
    "start_time": "2023-05-25T16:46:32.341Z"
   },
   {
    "duration": 10,
    "start_time": "2023-05-25T16:47:13.844Z"
   },
   {
    "duration": 10,
    "start_time": "2023-05-25T16:47:15.904Z"
   },
   {
    "duration": 4,
    "start_time": "2023-05-25T16:47:25.343Z"
   },
   {
    "duration": 8,
    "start_time": "2023-05-25T16:48:48.378Z"
   },
   {
    "duration": 5,
    "start_time": "2023-05-25T16:48:49.831Z"
   },
   {
    "duration": 16,
    "start_time": "2023-05-25T16:49:25.278Z"
   },
   {
    "duration": 3,
    "start_time": "2023-05-25T16:49:28.835Z"
   },
   {
    "duration": 14,
    "start_time": "2023-05-25T16:50:39.308Z"
   },
   {
    "duration": 12,
    "start_time": "2023-05-25T16:50:40.780Z"
   },
   {
    "duration": 6,
    "start_time": "2023-05-25T16:52:27.852Z"
   },
   {
    "duration": 16,
    "start_time": "2023-05-25T16:52:29.020Z"
   },
   {
    "duration": 12,
    "start_time": "2023-05-25T16:52:58.213Z"
   },
   {
    "duration": 1778,
    "start_time": "2023-05-25T16:55:21.665Z"
   },
   {
    "duration": 12,
    "start_time": "2023-05-25T16:58:24.326Z"
   },
   {
    "duration": 4,
    "start_time": "2023-05-25T16:58:25.343Z"
   },
   {
    "duration": 6,
    "start_time": "2023-05-25T16:58:50.871Z"
   },
   {
    "duration": 3,
    "start_time": "2023-05-25T16:58:52.363Z"
   },
   {
    "duration": 5,
    "start_time": "2023-05-25T16:59:02.930Z"
   },
   {
    "duration": 12,
    "start_time": "2023-05-25T16:59:14.623Z"
   },
   {
    "duration": 15,
    "start_time": "2023-05-25T16:59:50.415Z"
   },
   {
    "duration": 43,
    "start_time": "2023-05-25T17:00:09.309Z"
   },
   {
    "duration": 423,
    "start_time": "2023-05-25T17:00:26.480Z"
   },
   {
    "duration": 332,
    "start_time": "2023-05-25T17:00:26.909Z"
   },
   {
    "duration": 108,
    "start_time": "2023-05-25T17:00:27.243Z"
   },
   {
    "duration": 14,
    "start_time": "2023-05-25T17:00:27.353Z"
   },
   {
    "duration": 45,
    "start_time": "2023-05-25T17:00:27.369Z"
   },
   {
    "duration": 1836,
    "start_time": "2023-05-25T17:00:27.415Z"
   },
   {
    "duration": 8,
    "start_time": "2023-05-25T17:00:29.253Z"
   },
   {
    "duration": 17,
    "start_time": "2023-05-25T17:00:29.262Z"
   },
   {
    "duration": 22,
    "start_time": "2023-05-25T17:00:29.280Z"
   },
   {
    "duration": 34,
    "start_time": "2023-05-25T17:00:29.311Z"
   },
   {
    "duration": 13,
    "start_time": "2023-05-25T17:00:29.346Z"
   },
   {
    "duration": 7,
    "start_time": "2023-05-25T17:00:29.360Z"
   },
   {
    "duration": 59,
    "start_time": "2023-05-25T17:00:29.369Z"
   },
   {
    "duration": 97,
    "start_time": "2023-05-25T17:00:29.437Z"
   },
   {
    "duration": 8,
    "start_time": "2023-05-25T17:00:29.535Z"
   },
   {
    "duration": 16,
    "start_time": "2023-05-25T17:00:29.544Z"
   },
   {
    "duration": 5,
    "start_time": "2023-05-25T17:00:29.561Z"
   },
   {
    "duration": 36,
    "start_time": "2023-05-25T17:00:29.568Z"
   },
   {
    "duration": 42,
    "start_time": "2023-05-25T17:00:29.606Z"
   },
   {
    "duration": 11,
    "start_time": "2023-05-25T17:00:29.649Z"
   },
   {
    "duration": 74,
    "start_time": "2023-05-25T17:00:29.661Z"
   },
   {
    "duration": 6,
    "start_time": "2023-05-25T17:00:29.737Z"
   },
   {
    "duration": 19,
    "start_time": "2023-05-25T17:00:29.745Z"
   },
   {
    "duration": 15,
    "start_time": "2023-05-25T17:00:29.765Z"
   },
   {
    "duration": 57,
    "start_time": "2023-05-25T17:00:29.781Z"
   },
   {
    "duration": 7,
    "start_time": "2023-05-25T17:00:29.840Z"
   },
   {
    "duration": 18,
    "start_time": "2023-05-25T17:00:29.848Z"
   },
   {
    "duration": 35,
    "start_time": "2023-05-25T17:00:29.867Z"
   },
   {
    "duration": 33,
    "start_time": "2023-05-25T17:00:29.912Z"
   },
   {
    "duration": 24,
    "start_time": "2023-05-25T17:00:29.946Z"
   },
   {
    "duration": 3,
    "start_time": "2023-05-25T17:00:29.972Z"
   },
   {
    "duration": 71,
    "start_time": "2023-05-25T17:00:29.976Z"
   },
   {
    "duration": 4,
    "start_time": "2023-05-25T17:02:19.963Z"
   },
   {
    "duration": 6,
    "start_time": "2023-05-25T17:05:13.137Z"
   },
   {
    "duration": 14,
    "start_time": "2023-05-25T17:09:34.923Z"
   },
   {
    "duration": 15,
    "start_time": "2023-05-25T17:09:37.236Z"
   },
   {
    "duration": 23,
    "start_time": "2023-05-25T17:15:39.352Z"
   },
   {
    "duration": 13,
    "start_time": "2023-05-25T17:15:48.376Z"
   },
   {
    "duration": 68,
    "start_time": "2023-05-25T17:15:53.956Z"
   },
   {
    "duration": 23,
    "start_time": "2023-05-25T17:16:55.639Z"
   },
   {
    "duration": 4,
    "start_time": "2023-05-25T17:18:25.620Z"
   },
   {
    "duration": 8,
    "start_time": "2023-05-25T17:19:59.311Z"
   },
   {
    "duration": 4,
    "start_time": "2023-05-25T17:21:01.270Z"
   },
   {
    "duration": 8,
    "start_time": "2023-05-25T17:22:29.312Z"
   },
   {
    "duration": 39,
    "start_time": "2023-05-25T17:24:09.611Z"
   },
   {
    "duration": 28,
    "start_time": "2023-05-25T17:24:59.620Z"
   },
   {
    "duration": 28,
    "start_time": "2023-05-25T17:25:17.123Z"
   },
   {
    "duration": 51,
    "start_time": "2023-05-25T17:25:58.879Z"
   },
   {
    "duration": 40,
    "start_time": "2023-05-25T17:26:43.658Z"
   },
   {
    "duration": 49,
    "start_time": "2023-05-25T17:27:17.568Z"
   },
   {
    "duration": 3,
    "start_time": "2023-05-25T17:28:38.059Z"
   },
   {
    "duration": 15,
    "start_time": "2023-05-25T17:28:54.886Z"
   },
   {
    "duration": 3,
    "start_time": "2023-05-25T17:28:56.852Z"
   },
   {
    "duration": 11,
    "start_time": "2023-05-25T17:29:45.711Z"
   },
   {
    "duration": 8,
    "start_time": "2023-05-25T17:29:53.061Z"
   },
   {
    "duration": 19,
    "start_time": "2023-05-25T17:31:33.912Z"
   },
   {
    "duration": 10,
    "start_time": "2023-05-25T17:31:53.319Z"
   },
   {
    "duration": 3,
    "start_time": "2023-05-25T17:32:32.870Z"
   },
   {
    "duration": 3,
    "start_time": "2023-05-25T17:36:01.237Z"
   },
   {
    "duration": 5,
    "start_time": "2023-05-25T17:45:26.607Z"
   },
   {
    "duration": 1392,
    "start_time": "2023-05-25T17:45:33.483Z"
   },
   {
    "duration": 34,
    "start_time": "2023-05-25T17:47:08.223Z"
   },
   {
    "duration": 1539,
    "start_time": "2023-05-25T17:48:39.878Z"
   },
   {
    "duration": 3,
    "start_time": "2023-05-25T17:48:52.327Z"
   },
   {
    "duration": 70,
    "start_time": "2023-05-25T17:58:19.343Z"
   },
   {
    "duration": 4,
    "start_time": "2023-05-25T17:58:34.963Z"
   },
   {
    "duration": 9,
    "start_time": "2023-05-25T17:58:41.800Z"
   },
   {
    "duration": 10,
    "start_time": "2023-05-25T17:59:07.768Z"
   },
   {
    "duration": 9,
    "start_time": "2023-05-25T18:01:05.001Z"
   },
   {
    "duration": 1224,
    "start_time": "2023-05-26T10:41:00.446Z"
   },
   {
    "duration": 1533,
    "start_time": "2023-05-26T10:42:17.772Z"
   },
   {
    "duration": 10,
    "start_time": "2023-05-26T10:42:38.230Z"
   },
   {
    "duration": 10,
    "start_time": "2023-05-26T10:42:42.624Z"
   },
   {
    "duration": 337,
    "start_time": "2023-05-26T10:43:15.439Z"
   },
   {
    "duration": 251,
    "start_time": "2023-05-26T10:43:15.777Z"
   },
   {
    "duration": 107,
    "start_time": "2023-05-26T10:43:16.030Z"
   },
   {
    "duration": 17,
    "start_time": "2023-05-26T10:43:16.139Z"
   },
   {
    "duration": 43,
    "start_time": "2023-05-26T10:43:16.158Z"
   },
   {
    "duration": 1723,
    "start_time": "2023-05-26T10:43:16.204Z"
   },
   {
    "duration": 8,
    "start_time": "2023-05-26T10:43:17.929Z"
   },
   {
    "duration": 5,
    "start_time": "2023-05-26T10:43:17.938Z"
   },
   {
    "duration": 16,
    "start_time": "2023-05-26T10:43:17.944Z"
   },
   {
    "duration": 1,
    "start_time": "2023-05-26T10:43:17.962Z"
   },
   {
    "duration": 9,
    "start_time": "2023-05-26T10:43:17.964Z"
   },
   {
    "duration": 12,
    "start_time": "2023-05-26T10:43:17.975Z"
   },
   {
    "duration": 30,
    "start_time": "2023-05-26T10:43:17.989Z"
   },
   {
    "duration": 3,
    "start_time": "2023-05-26T10:43:18.020Z"
   },
   {
    "duration": 16,
    "start_time": "2023-05-26T10:43:18.024Z"
   },
   {
    "duration": 28,
    "start_time": "2023-05-26T10:43:18.041Z"
   },
   {
    "duration": 21,
    "start_time": "2023-05-26T10:43:18.070Z"
   },
   {
    "duration": 26,
    "start_time": "2023-05-26T10:43:18.093Z"
   },
   {
    "duration": 34,
    "start_time": "2023-05-26T10:43:18.120Z"
   },
   {
    "duration": 2,
    "start_time": "2023-05-26T10:43:18.156Z"
   },
   {
    "duration": 7,
    "start_time": "2023-05-26T10:43:18.159Z"
   },
   {
    "duration": 10,
    "start_time": "2023-05-26T10:43:18.167Z"
   },
   {
    "duration": 24,
    "start_time": "2023-05-26T10:43:18.178Z"
   },
   {
    "duration": 5,
    "start_time": "2023-05-26T10:43:18.203Z"
   },
   {
    "duration": 36,
    "start_time": "2023-05-26T10:43:18.210Z"
   },
   {
    "duration": 8,
    "start_time": "2023-05-26T10:43:18.247Z"
   },
   {
    "duration": 1181,
    "start_time": "2023-05-26T10:43:18.256Z"
   },
   {
    "duration": 2,
    "start_time": "2023-05-26T10:43:19.440Z"
   },
   {
    "duration": 5,
    "start_time": "2023-05-26T10:43:19.443Z"
   },
   {
    "duration": 4,
    "start_time": "2023-05-26T10:43:19.449Z"
   },
   {
    "duration": 14,
    "start_time": "2023-05-26T10:43:19.454Z"
   },
   {
    "duration": 15,
    "start_time": "2023-05-26T10:43:19.469Z"
   },
   {
    "duration": 2,
    "start_time": "2023-05-26T10:43:19.486Z"
   },
   {
    "duration": 35,
    "start_time": "2023-05-26T10:44:07.624Z"
   },
   {
    "duration": 12,
    "start_time": "2023-05-26T10:44:59.802Z"
   },
   {
    "duration": 39,
    "start_time": "2023-05-26T10:45:05.634Z"
   },
   {
    "duration": 14,
    "start_time": "2023-05-26T10:45:17.680Z"
   },
   {
    "duration": 38,
    "start_time": "2023-05-26T10:45:27.982Z"
   },
   {
    "duration": 36,
    "start_time": "2023-05-26T10:45:32.803Z"
   },
   {
    "duration": 8,
    "start_time": "2023-05-26T10:45:42.948Z"
   },
   {
    "duration": 4,
    "start_time": "2023-05-26T11:12:32.308Z"
   },
   {
    "duration": 1608,
    "start_time": "2023-05-26T11:12:40.363Z"
   },
   {
    "duration": 9,
    "start_time": "2023-05-26T11:12:44.700Z"
   },
   {
    "duration": 1158,
    "start_time": "2023-05-26T11:12:53.848Z"
   },
   {
    "duration": 22,
    "start_time": "2023-05-26T11:15:26.934Z"
   },
   {
    "duration": 21,
    "start_time": "2023-05-26T11:15:48.351Z"
   },
   {
    "duration": 44,
    "start_time": "2023-05-26T11:19:24.726Z"
   },
   {
    "duration": 791,
    "start_time": "2023-05-26T11:19:31.069Z"
   },
   {
    "duration": 713,
    "start_time": "2023-05-26T11:19:43.579Z"
   },
   {
    "duration": 32,
    "start_time": "2023-05-26T11:20:10.848Z"
   },
   {
    "duration": 91,
    "start_time": "2023-05-26T11:20:47.192Z"
   },
   {
    "duration": 6,
    "start_time": "2023-05-26T11:20:59.631Z"
   },
   {
    "duration": 9,
    "start_time": "2023-05-26T11:21:18.637Z"
   },
   {
    "duration": 389,
    "start_time": "2023-05-26T11:23:26.463Z"
   },
   {
    "duration": 217,
    "start_time": "2023-05-26T11:23:26.854Z"
   },
   {
    "duration": 87,
    "start_time": "2023-05-26T11:23:27.072Z"
   },
   {
    "duration": 14,
    "start_time": "2023-05-26T11:23:27.161Z"
   },
   {
    "duration": 24,
    "start_time": "2023-05-26T11:23:27.176Z"
   },
   {
    "duration": 1606,
    "start_time": "2023-05-26T11:23:27.201Z"
   },
   {
    "duration": 8,
    "start_time": "2023-05-26T11:23:28.809Z"
   },
   {
    "duration": 11,
    "start_time": "2023-05-26T11:23:28.818Z"
   },
   {
    "duration": 18,
    "start_time": "2023-05-26T11:23:28.831Z"
   },
   {
    "duration": 5,
    "start_time": "2023-05-26T11:23:28.852Z"
   },
   {
    "duration": 9,
    "start_time": "2023-05-26T11:23:28.858Z"
   },
   {
    "duration": 20,
    "start_time": "2023-05-26T11:23:28.869Z"
   },
   {
    "duration": 30,
    "start_time": "2023-05-26T11:23:28.891Z"
   },
   {
    "duration": 7,
    "start_time": "2023-05-26T11:23:28.922Z"
   },
   {
    "duration": 14,
    "start_time": "2023-05-26T11:23:28.930Z"
   },
   {
    "duration": 8,
    "start_time": "2023-05-26T11:23:28.946Z"
   },
   {
    "duration": 8,
    "start_time": "2023-05-26T11:23:28.956Z"
   },
   {
    "duration": 31,
    "start_time": "2023-05-26T11:23:28.966Z"
   },
   {
    "duration": 33,
    "start_time": "2023-05-26T11:23:28.998Z"
   },
   {
    "duration": 3,
    "start_time": "2023-05-26T11:23:29.033Z"
   },
   {
    "duration": 15,
    "start_time": "2023-05-26T11:23:29.037Z"
   },
   {
    "duration": 20,
    "start_time": "2023-05-26T11:23:29.053Z"
   },
   {
    "duration": 17,
    "start_time": "2023-05-26T11:23:29.075Z"
   },
   {
    "duration": 8,
    "start_time": "2023-05-26T11:23:29.094Z"
   },
   {
    "duration": 16,
    "start_time": "2023-05-26T11:23:29.104Z"
   },
   {
    "duration": 1205,
    "start_time": "2023-05-26T11:23:29.122Z"
   },
   {
    "duration": 9,
    "start_time": "2023-05-26T11:23:30.329Z"
   },
   {
    "duration": 62,
    "start_time": "2023-05-26T11:23:30.340Z"
   },
   {
    "duration": 43,
    "start_time": "2023-05-26T11:23:30.404Z"
   },
   {
    "duration": 67,
    "start_time": "2023-05-26T11:23:30.449Z"
   },
   {
    "duration": 50,
    "start_time": "2023-05-26T11:23:30.518Z"
   },
   {
    "duration": 31,
    "start_time": "2023-05-26T11:23:30.569Z"
   },
   {
    "duration": 61,
    "start_time": "2023-05-26T11:23:30.602Z"
   },
   {
    "duration": 386,
    "start_time": "2023-05-26T11:24:26.964Z"
   },
   {
    "duration": 215,
    "start_time": "2023-05-26T11:24:27.352Z"
   },
   {
    "duration": 87,
    "start_time": "2023-05-26T11:24:27.569Z"
   },
   {
    "duration": 13,
    "start_time": "2023-05-26T11:24:27.657Z"
   },
   {
    "duration": 38,
    "start_time": "2023-05-26T11:24:27.671Z"
   },
   {
    "duration": 1684,
    "start_time": "2023-05-26T11:24:27.711Z"
   },
   {
    "duration": 9,
    "start_time": "2023-05-26T11:24:29.397Z"
   },
   {
    "duration": 7,
    "start_time": "2023-05-26T11:24:29.408Z"
   },
   {
    "duration": 10,
    "start_time": "2023-05-26T11:24:29.417Z"
   },
   {
    "duration": 50,
    "start_time": "2023-05-26T11:24:29.428Z"
   },
   {
    "duration": 3,
    "start_time": "2023-05-26T11:24:29.480Z"
   },
   {
    "duration": 34,
    "start_time": "2023-05-26T11:24:29.485Z"
   },
   {
    "duration": 23,
    "start_time": "2023-05-26T11:24:29.520Z"
   },
   {
    "duration": 3,
    "start_time": "2023-05-26T11:24:29.546Z"
   },
   {
    "duration": 13,
    "start_time": "2023-05-26T11:24:29.551Z"
   },
   {
    "duration": 6,
    "start_time": "2023-05-26T11:24:29.565Z"
   },
   {
    "duration": 17,
    "start_time": "2023-05-26T11:24:29.572Z"
   },
   {
    "duration": 27,
    "start_time": "2023-05-26T11:24:29.590Z"
   },
   {
    "duration": 34,
    "start_time": "2023-05-26T11:24:29.618Z"
   },
   {
    "duration": 3,
    "start_time": "2023-05-26T11:24:29.654Z"
   },
   {
    "duration": 7,
    "start_time": "2023-05-26T11:24:29.659Z"
   },
   {
    "duration": 9,
    "start_time": "2023-05-26T11:24:29.667Z"
   },
   {
    "duration": 31,
    "start_time": "2023-05-26T11:24:29.677Z"
   },
   {
    "duration": 3,
    "start_time": "2023-05-26T11:24:29.710Z"
   },
   {
    "duration": 23,
    "start_time": "2023-05-26T11:24:29.714Z"
   },
   {
    "duration": 1217,
    "start_time": "2023-05-26T11:24:29.738Z"
   },
   {
    "duration": 9,
    "start_time": "2023-05-26T11:24:30.957Z"
   },
   {
    "duration": 45,
    "start_time": "2023-05-26T11:24:30.967Z"
   },
   {
    "duration": 46,
    "start_time": "2023-05-26T11:24:31.013Z"
   },
   {
    "duration": 63,
    "start_time": "2023-05-26T11:24:31.062Z"
   },
   {
    "duration": 47,
    "start_time": "2023-05-26T11:24:31.126Z"
   },
   {
    "duration": 84,
    "start_time": "2023-05-26T11:24:31.174Z"
   },
   {
    "duration": 173,
    "start_time": "2023-05-26T11:24:31.260Z"
   },
   {
    "duration": 370,
    "start_time": "2023-05-26T11:24:47.989Z"
   },
   {
    "duration": 205,
    "start_time": "2023-05-26T11:24:48.362Z"
   },
   {
    "duration": 84,
    "start_time": "2023-05-26T11:24:48.571Z"
   },
   {
    "duration": 13,
    "start_time": "2023-05-26T11:24:48.657Z"
   },
   {
    "duration": 43,
    "start_time": "2023-05-26T11:24:48.671Z"
   },
   {
    "duration": 1619,
    "start_time": "2023-05-26T11:24:48.716Z"
   },
   {
    "duration": 34,
    "start_time": "2023-05-26T11:24:50.337Z"
   },
   {
    "duration": 70,
    "start_time": "2023-05-26T11:24:50.373Z"
   },
   {
    "duration": 124,
    "start_time": "2023-05-26T11:24:50.445Z"
   },
   {
    "duration": 16,
    "start_time": "2023-05-26T11:24:50.571Z"
   },
   {
    "duration": 29,
    "start_time": "2023-05-26T11:24:50.589Z"
   },
   {
    "duration": 54,
    "start_time": "2023-05-26T11:24:50.620Z"
   },
   {
    "duration": 71,
    "start_time": "2023-05-26T11:24:50.678Z"
   },
   {
    "duration": 13,
    "start_time": "2023-05-26T11:24:50.751Z"
   },
   {
    "duration": 37,
    "start_time": "2023-05-26T11:24:50.765Z"
   },
   {
    "duration": 19,
    "start_time": "2023-05-26T11:24:50.804Z"
   },
   {
    "duration": 37,
    "start_time": "2023-05-26T11:24:50.825Z"
   },
   {
    "duration": 67,
    "start_time": "2023-05-26T11:24:50.864Z"
   },
   {
    "duration": 211,
    "start_time": "2023-05-26T11:24:50.932Z"
   },
   {
    "duration": 3,
    "start_time": "2023-05-26T11:24:51.145Z"
   },
   {
    "duration": 47,
    "start_time": "2023-05-26T11:24:51.149Z"
   },
   {
    "duration": 18,
    "start_time": "2023-05-26T11:24:51.198Z"
   },
   {
    "duration": 30,
    "start_time": "2023-05-26T11:24:51.217Z"
   },
   {
    "duration": 23,
    "start_time": "2023-05-26T11:24:51.250Z"
   },
   {
    "duration": 30,
    "start_time": "2023-05-26T11:24:51.275Z"
   },
   {
    "duration": 1218,
    "start_time": "2023-05-26T11:24:51.307Z"
   },
   {
    "duration": 9,
    "start_time": "2023-05-26T11:24:52.526Z"
   },
   {
    "duration": 12,
    "start_time": "2023-05-26T11:24:52.536Z"
   },
   {
    "duration": 23,
    "start_time": "2023-05-26T11:24:52.549Z"
   },
   {
    "duration": 42,
    "start_time": "2023-05-26T11:24:52.573Z"
   },
   {
    "duration": 18,
    "start_time": "2023-05-26T11:24:52.616Z"
   },
   {
    "duration": 6,
    "start_time": "2023-05-26T11:24:52.635Z"
   },
   {
    "duration": 15,
    "start_time": "2023-05-26T11:24:52.642Z"
   },
   {
    "duration": 409,
    "start_time": "2023-05-26T11:25:02.461Z"
   },
   {
    "duration": 580,
    "start_time": "2023-05-26T11:25:02.872Z"
   },
   {
    "duration": 88,
    "start_time": "2023-05-26T11:25:03.454Z"
   },
   {
    "duration": 15,
    "start_time": "2023-05-26T11:25:03.544Z"
   },
   {
    "duration": 38,
    "start_time": "2023-05-26T11:25:03.561Z"
   },
   {
    "duration": 1719,
    "start_time": "2023-05-26T11:25:03.600Z"
   },
   {
    "duration": 10,
    "start_time": "2023-05-26T11:25:05.321Z"
   },
   {
    "duration": 26,
    "start_time": "2023-05-26T11:25:05.332Z"
   },
   {
    "duration": 58,
    "start_time": "2023-05-26T11:25:05.360Z"
   },
   {
    "duration": 48,
    "start_time": "2023-05-26T11:25:05.420Z"
   },
   {
    "duration": 81,
    "start_time": "2023-05-26T11:25:05.470Z"
   },
   {
    "duration": 26,
    "start_time": "2023-05-26T11:25:05.553Z"
   },
   {
    "duration": 45,
    "start_time": "2023-05-26T11:25:05.580Z"
   },
   {
    "duration": 3,
    "start_time": "2023-05-26T11:25:05.629Z"
   },
   {
    "duration": 20,
    "start_time": "2023-05-26T11:25:05.634Z"
   },
   {
    "duration": 17,
    "start_time": "2023-05-26T11:25:05.656Z"
   },
   {
    "duration": 10,
    "start_time": "2023-05-26T11:25:05.674Z"
   },
   {
    "duration": 32,
    "start_time": "2023-05-26T11:25:05.686Z"
   },
   {
    "duration": 31,
    "start_time": "2023-05-26T11:25:05.719Z"
   },
   {
    "duration": 3,
    "start_time": "2023-05-26T11:25:05.751Z"
   },
   {
    "duration": 23,
    "start_time": "2023-05-26T11:25:05.756Z"
   },
   {
    "duration": 10,
    "start_time": "2023-05-26T11:25:05.780Z"
   },
   {
    "duration": 13,
    "start_time": "2023-05-26T11:25:05.791Z"
   },
   {
    "duration": 4,
    "start_time": "2023-05-26T11:25:05.805Z"
   },
   {
    "duration": 15,
    "start_time": "2023-05-26T11:25:05.810Z"
   },
   {
    "duration": 1309,
    "start_time": "2023-05-26T11:25:05.826Z"
   },
   {
    "duration": 9,
    "start_time": "2023-05-26T11:25:07.136Z"
   },
   {
    "duration": 3,
    "start_time": "2023-05-26T11:25:07.146Z"
   },
   {
    "duration": 4,
    "start_time": "2023-05-26T11:25:07.150Z"
   },
   {
    "duration": 7,
    "start_time": "2023-05-26T11:25:07.155Z"
   },
   {
    "duration": 27,
    "start_time": "2023-05-26T11:25:07.163Z"
   },
   {
    "duration": 2,
    "start_time": "2023-05-26T11:25:07.192Z"
   },
   {
    "duration": 11,
    "start_time": "2023-05-26T11:25:07.195Z"
   },
   {
    "duration": 365,
    "start_time": "2023-05-26T11:27:48.042Z"
   },
   {
    "duration": 235,
    "start_time": "2023-05-26T11:27:48.410Z"
   },
   {
    "duration": 2,
    "start_time": "2023-05-26T11:27:48.646Z"
   },
   {
    "duration": 121,
    "start_time": "2023-05-26T11:27:48.650Z"
   },
   {
    "duration": 29,
    "start_time": "2023-05-26T11:27:48.773Z"
   },
   {
    "duration": 29,
    "start_time": "2023-05-26T11:27:48.804Z"
   },
   {
    "duration": 1821,
    "start_time": "2023-05-26T11:27:48.834Z"
   },
   {
    "duration": 8,
    "start_time": "2023-05-26T11:27:50.657Z"
   },
   {
    "duration": 46,
    "start_time": "2023-05-26T11:27:50.667Z"
   },
   {
    "duration": 28,
    "start_time": "2023-05-26T11:27:50.716Z"
   },
   {
    "duration": 27,
    "start_time": "2023-05-26T11:27:50.746Z"
   },
   {
    "duration": 42,
    "start_time": "2023-05-26T11:27:50.775Z"
   },
   {
    "duration": 34,
    "start_time": "2023-05-26T11:27:50.819Z"
   },
   {
    "duration": 73,
    "start_time": "2023-05-26T11:27:50.855Z"
   },
   {
    "duration": 23,
    "start_time": "2023-05-26T11:27:50.929Z"
   },
   {
    "duration": 30,
    "start_time": "2023-05-26T11:27:50.953Z"
   },
   {
    "duration": 46,
    "start_time": "2023-05-26T11:27:50.984Z"
   },
   {
    "duration": 16,
    "start_time": "2023-05-26T11:27:51.032Z"
   },
   {
    "duration": 29,
    "start_time": "2023-05-26T11:27:51.050Z"
   },
   {
    "duration": 38,
    "start_time": "2023-05-26T11:27:51.080Z"
   },
   {
    "duration": 4,
    "start_time": "2023-05-26T11:27:51.119Z"
   },
   {
    "duration": 25,
    "start_time": "2023-05-26T11:27:51.124Z"
   },
   {
    "duration": 25,
    "start_time": "2023-05-26T11:27:51.150Z"
   },
   {
    "duration": 41,
    "start_time": "2023-05-26T11:27:51.176Z"
   },
   {
    "duration": 8,
    "start_time": "2023-05-26T11:27:51.219Z"
   },
   {
    "duration": 27,
    "start_time": "2023-05-26T11:27:51.228Z"
   },
   {
    "duration": 1250,
    "start_time": "2023-05-26T11:27:51.256Z"
   },
   {
    "duration": 10,
    "start_time": "2023-05-26T11:27:52.509Z"
   },
   {
    "duration": 3,
    "start_time": "2023-05-26T11:27:52.520Z"
   },
   {
    "duration": 8,
    "start_time": "2023-05-26T11:27:52.524Z"
   },
   {
    "duration": 7,
    "start_time": "2023-05-26T11:27:52.533Z"
   },
   {
    "duration": 17,
    "start_time": "2023-05-26T11:27:52.541Z"
   },
   {
    "duration": 2,
    "start_time": "2023-05-26T11:27:52.559Z"
   },
   {
    "duration": 12,
    "start_time": "2023-05-26T11:27:52.562Z"
   },
   {
    "duration": 101,
    "start_time": "2023-05-26T11:39:05.481Z"
   },
   {
    "duration": 5,
    "start_time": "2023-05-26T11:42:09.039Z"
   },
   {
    "duration": 11,
    "start_time": "2023-05-26T11:42:33.365Z"
   },
   {
    "duration": 11,
    "start_time": "2023-05-26T11:42:39.287Z"
   },
   {
    "duration": 12,
    "start_time": "2023-05-26T11:42:41.550Z"
   },
   {
    "duration": 19,
    "start_time": "2023-05-26T11:44:00.408Z"
   },
   {
    "duration": 10,
    "start_time": "2023-05-26T11:45:13.211Z"
   },
   {
    "duration": 6,
    "start_time": "2023-05-26T11:50:03.151Z"
   },
   {
    "duration": 4,
    "start_time": "2023-05-26T11:50:05.240Z"
   },
   {
    "duration": 4,
    "start_time": "2023-05-26T11:50:11.757Z"
   },
   {
    "duration": 393,
    "start_time": "2023-05-26T11:50:18.566Z"
   },
   {
    "duration": 238,
    "start_time": "2023-05-26T11:50:18.961Z"
   },
   {
    "duration": 5,
    "start_time": "2023-05-26T11:50:19.203Z"
   },
   {
    "duration": 111,
    "start_time": "2023-05-26T11:50:19.209Z"
   },
   {
    "duration": 14,
    "start_time": "2023-05-26T11:50:19.322Z"
   },
   {
    "duration": 30,
    "start_time": "2023-05-26T11:50:19.337Z"
   },
   {
    "duration": 1814,
    "start_time": "2023-05-26T11:50:19.369Z"
   },
   {
    "duration": 11,
    "start_time": "2023-05-26T11:50:21.189Z"
   },
   {
    "duration": 16,
    "start_time": "2023-05-26T11:50:21.202Z"
   },
   {
    "duration": 15,
    "start_time": "2023-05-26T11:50:21.220Z"
   },
   {
    "duration": 13,
    "start_time": "2023-05-26T11:50:21.237Z"
   },
   {
    "duration": 21,
    "start_time": "2023-05-26T11:50:21.251Z"
   },
   {
    "duration": 38,
    "start_time": "2023-05-26T11:50:21.274Z"
   },
   {
    "duration": 8,
    "start_time": "2023-05-26T11:50:21.316Z"
   },
   {
    "duration": 19,
    "start_time": "2023-05-26T11:50:21.326Z"
   },
   {
    "duration": 8,
    "start_time": "2023-05-26T11:50:21.347Z"
   },
   {
    "duration": 11,
    "start_time": "2023-05-26T11:50:21.357Z"
   },
   {
    "duration": 45,
    "start_time": "2023-05-26T11:50:21.369Z"
   },
   {
    "duration": 3,
    "start_time": "2023-05-26T11:50:21.416Z"
   },
   {
    "duration": 9,
    "start_time": "2023-05-26T11:50:21.420Z"
   },
   {
    "duration": 9,
    "start_time": "2023-05-26T11:50:21.431Z"
   },
   {
    "duration": 24,
    "start_time": "2023-05-26T11:50:21.442Z"
   },
   {
    "duration": 1243,
    "start_time": "2023-05-26T11:50:21.467Z"
   },
   {
    "duration": 9,
    "start_time": "2023-05-26T11:50:22.711Z"
   },
   {
    "duration": 3,
    "start_time": "2023-05-26T11:50:22.722Z"
   },
   {
    "duration": 10,
    "start_time": "2023-05-26T11:50:22.727Z"
   },
   {
    "duration": 6,
    "start_time": "2023-05-26T11:50:22.739Z"
   },
   {
    "duration": 8,
    "start_time": "2023-05-26T11:50:22.747Z"
   },
   {
    "duration": 2,
    "start_time": "2023-05-26T11:50:22.757Z"
   },
   {
    "duration": 8,
    "start_time": "2023-05-26T11:50:22.761Z"
   },
   {
    "duration": 410,
    "start_time": "2023-05-26T11:50:41.733Z"
   },
   {
    "duration": 278,
    "start_time": "2023-05-26T11:50:42.145Z"
   },
   {
    "duration": 6,
    "start_time": "2023-05-26T11:50:42.425Z"
   },
   {
    "duration": 108,
    "start_time": "2023-05-26T11:50:42.432Z"
   },
   {
    "duration": 15,
    "start_time": "2023-05-26T11:50:42.542Z"
   },
   {
    "duration": 52,
    "start_time": "2023-05-26T11:50:42.558Z"
   },
   {
    "duration": 1940,
    "start_time": "2023-05-26T11:50:42.611Z"
   },
   {
    "duration": 10,
    "start_time": "2023-05-26T11:50:44.553Z"
   },
   {
    "duration": 11,
    "start_time": "2023-05-26T11:50:44.565Z"
   },
   {
    "duration": 13,
    "start_time": "2023-05-26T11:50:44.577Z"
   },
   {
    "duration": 31,
    "start_time": "2023-05-26T11:50:44.591Z"
   },
   {
    "duration": 12,
    "start_time": "2023-05-26T11:50:44.623Z"
   },
   {
    "duration": 25,
    "start_time": "2023-05-26T11:50:44.637Z"
   },
   {
    "duration": 7,
    "start_time": "2023-05-26T11:50:44.665Z"
   },
   {
    "duration": 11,
    "start_time": "2023-05-26T11:50:44.673Z"
   },
   {
    "duration": 34,
    "start_time": "2023-05-26T11:50:44.686Z"
   },
   {
    "duration": 14,
    "start_time": "2023-05-26T11:50:44.722Z"
   },
   {
    "duration": 32,
    "start_time": "2023-05-26T11:50:44.737Z"
   },
   {
    "duration": 3,
    "start_time": "2023-05-26T11:50:44.770Z"
   },
   {
    "duration": 16,
    "start_time": "2023-05-26T11:50:44.775Z"
   },
   {
    "duration": 35,
    "start_time": "2023-05-26T11:50:44.793Z"
   },
   {
    "duration": 10,
    "start_time": "2023-05-26T11:50:44.830Z"
   },
   {
    "duration": 1218,
    "start_time": "2023-05-26T11:50:44.841Z"
   },
   {
    "duration": 8,
    "start_time": "2023-05-26T11:50:46.061Z"
   },
   {
    "duration": 30,
    "start_time": "2023-05-26T11:50:46.071Z"
   },
   {
    "duration": 8,
    "start_time": "2023-05-26T11:50:46.114Z"
   },
   {
    "duration": 3,
    "start_time": "2023-05-26T11:50:46.124Z"
   },
   {
    "duration": 19,
    "start_time": "2023-05-26T11:50:46.129Z"
   },
   {
    "duration": 2,
    "start_time": "2023-05-26T11:50:46.150Z"
   },
   {
    "duration": 7,
    "start_time": "2023-05-26T11:50:46.154Z"
   },
   {
    "duration": 86,
    "start_time": "2023-05-26T11:51:06.749Z"
   },
   {
    "duration": 4,
    "start_time": "2023-05-26T11:51:28.173Z"
   },
   {
    "duration": 20,
    "start_time": "2023-05-26T11:51:29.887Z"
   },
   {
    "duration": 713,
    "start_time": "2023-05-26T11:53:13.720Z"
   },
   {
    "duration": 6,
    "start_time": "2023-05-26T11:53:42.489Z"
   },
   {
    "duration": 9,
    "start_time": "2023-05-26T11:53:45.705Z"
   },
   {
    "duration": 391,
    "start_time": "2023-05-26T11:54:45.714Z"
   },
   {
    "duration": 227,
    "start_time": "2023-05-26T11:54:46.107Z"
   },
   {
    "duration": 2,
    "start_time": "2023-05-26T11:54:46.336Z"
   },
   {
    "duration": 149,
    "start_time": "2023-05-26T11:54:46.340Z"
   },
   {
    "duration": 15,
    "start_time": "2023-05-26T11:54:46.491Z"
   },
   {
    "duration": 24,
    "start_time": "2023-05-26T11:54:46.507Z"
   },
   {
    "duration": 1849,
    "start_time": "2023-05-26T11:54:46.532Z"
   },
   {
    "duration": 13,
    "start_time": "2023-05-26T11:54:48.413Z"
   },
   {
    "duration": 7,
    "start_time": "2023-05-26T11:54:48.428Z"
   },
   {
    "duration": 12,
    "start_time": "2023-05-26T11:54:48.437Z"
   },
   {
    "duration": 2,
    "start_time": "2023-05-26T11:54:48.451Z"
   },
   {
    "duration": 20,
    "start_time": "2023-05-26T11:54:48.455Z"
   },
   {
    "duration": 41,
    "start_time": "2023-05-26T11:54:48.477Z"
   },
   {
    "duration": 9,
    "start_time": "2023-05-26T11:54:48.521Z"
   },
   {
    "duration": 9,
    "start_time": "2023-05-26T11:54:48.532Z"
   },
   {
    "duration": 9,
    "start_time": "2023-05-26T11:54:48.543Z"
   },
   {
    "duration": 42,
    "start_time": "2023-05-26T11:54:48.554Z"
   },
   {
    "duration": 32,
    "start_time": "2023-05-26T11:54:48.598Z"
   },
   {
    "duration": 4,
    "start_time": "2023-05-26T11:54:48.631Z"
   },
   {
    "duration": 12,
    "start_time": "2023-05-26T11:54:48.637Z"
   },
   {
    "duration": 12,
    "start_time": "2023-05-26T11:54:48.651Z"
   },
   {
    "duration": 12,
    "start_time": "2023-05-26T11:54:48.685Z"
   },
   {
    "duration": 1134,
    "start_time": "2023-05-26T11:54:48.698Z"
   },
   {
    "duration": 9,
    "start_time": "2023-05-26T11:54:49.834Z"
   },
   {
    "duration": 13,
    "start_time": "2023-05-26T11:54:49.845Z"
   },
   {
    "duration": 2,
    "start_time": "2023-05-26T11:54:49.860Z"
   },
   {
    "duration": 5,
    "start_time": "2023-05-26T11:54:49.864Z"
   },
   {
    "duration": 25,
    "start_time": "2023-05-26T11:54:49.870Z"
   },
   {
    "duration": 2,
    "start_time": "2023-05-26T11:54:49.897Z"
   },
   {
    "duration": 11,
    "start_time": "2023-05-26T11:54:49.901Z"
   },
   {
    "duration": 384,
    "start_time": "2023-05-26T11:55:57.797Z"
   },
   {
    "duration": 217,
    "start_time": "2023-05-26T11:55:58.183Z"
   },
   {
    "duration": 3,
    "start_time": "2023-05-26T11:55:58.401Z"
   },
   {
    "duration": 98,
    "start_time": "2023-05-26T11:55:58.405Z"
   },
   {
    "duration": 14,
    "start_time": "2023-05-26T11:55:58.506Z"
   },
   {
    "duration": 31,
    "start_time": "2023-05-26T11:55:58.522Z"
   },
   {
    "duration": 1822,
    "start_time": "2023-05-26T11:55:58.555Z"
   },
   {
    "duration": 13,
    "start_time": "2023-05-26T11:56:00.417Z"
   },
   {
    "duration": 50,
    "start_time": "2023-05-26T11:56:00.432Z"
   },
   {
    "duration": 28,
    "start_time": "2023-05-26T11:56:00.484Z"
   },
   {
    "duration": 57,
    "start_time": "2023-05-26T11:56:00.513Z"
   },
   {
    "duration": 52,
    "start_time": "2023-05-26T11:56:00.572Z"
   },
   {
    "duration": 42,
    "start_time": "2023-05-26T11:56:00.626Z"
   },
   {
    "duration": 11,
    "start_time": "2023-05-26T11:56:00.670Z"
   },
   {
    "duration": 22,
    "start_time": "2023-05-26T11:56:00.682Z"
   },
   {
    "duration": 39,
    "start_time": "2023-05-26T11:56:00.705Z"
   },
   {
    "duration": 24,
    "start_time": "2023-05-26T11:56:00.746Z"
   },
   {
    "duration": 44,
    "start_time": "2023-05-26T11:56:00.771Z"
   },
   {
    "duration": 16,
    "start_time": "2023-05-26T11:56:00.817Z"
   },
   {
    "duration": 76,
    "start_time": "2023-05-26T11:56:00.834Z"
   },
   {
    "duration": 76,
    "start_time": "2023-05-26T11:56:00.912Z"
   },
   {
    "duration": 41,
    "start_time": "2023-05-26T11:56:00.990Z"
   },
   {
    "duration": 1158,
    "start_time": "2023-05-26T11:56:01.033Z"
   },
   {
    "duration": 9,
    "start_time": "2023-05-26T11:56:02.193Z"
   },
   {
    "duration": 76,
    "start_time": "2023-05-26T11:56:02.203Z"
   },
   {
    "duration": 49,
    "start_time": "2023-05-26T11:56:02.281Z"
   },
   {
    "duration": 33,
    "start_time": "2023-05-26T11:56:02.332Z"
   },
   {
    "duration": 47,
    "start_time": "2023-05-26T11:56:02.368Z"
   },
   {
    "duration": 17,
    "start_time": "2023-05-26T11:56:02.417Z"
   },
   {
    "duration": 22,
    "start_time": "2023-05-26T11:56:02.436Z"
   },
   {
    "duration": 14,
    "start_time": "2023-05-26T11:57:09.642Z"
   },
   {
    "duration": 10,
    "start_time": "2023-05-26T11:57:21.226Z"
   },
   {
    "duration": 9,
    "start_time": "2023-05-26T11:58:33.019Z"
   },
   {
    "duration": 17,
    "start_time": "2023-05-26T11:58:42.357Z"
   },
   {
    "duration": 3,
    "start_time": "2023-05-26T11:58:46.972Z"
   },
   {
    "duration": 11,
    "start_time": "2023-05-26T11:58:50.015Z"
   },
   {
    "duration": 7,
    "start_time": "2023-05-26T11:59:20.602Z"
   },
   {
    "duration": 8,
    "start_time": "2023-05-26T11:59:37.692Z"
   },
   {
    "duration": 414,
    "start_time": "2023-05-26T11:59:58.191Z"
   },
   {
    "duration": 220,
    "start_time": "2023-05-26T11:59:58.607Z"
   },
   {
    "duration": 3,
    "start_time": "2023-05-26T11:59:58.829Z"
   },
   {
    "duration": 95,
    "start_time": "2023-05-26T11:59:58.833Z"
   },
   {
    "duration": 23,
    "start_time": "2023-05-26T11:59:58.931Z"
   },
   {
    "duration": 42,
    "start_time": "2023-05-26T11:59:58.957Z"
   },
   {
    "duration": 1800,
    "start_time": "2023-05-26T11:59:59.000Z"
   },
   {
    "duration": 10,
    "start_time": "2023-05-26T12:00:00.801Z"
   },
   {
    "duration": 30,
    "start_time": "2023-05-26T12:00:00.813Z"
   },
   {
    "duration": 52,
    "start_time": "2023-05-26T12:00:00.845Z"
   },
   {
    "duration": 51,
    "start_time": "2023-05-26T12:00:00.898Z"
   },
   {
    "duration": 32,
    "start_time": "2023-05-26T12:00:00.951Z"
   },
   {
    "duration": 45,
    "start_time": "2023-05-26T12:00:00.985Z"
   },
   {
    "duration": 104,
    "start_time": "2023-05-26T12:00:01.033Z"
   },
   {
    "duration": 120,
    "start_time": "2023-05-26T12:00:01.139Z"
   },
   {
    "duration": 57,
    "start_time": "2023-05-26T12:00:01.260Z"
   },
   {
    "duration": 56,
    "start_time": "2023-05-26T12:00:01.319Z"
   },
   {
    "duration": 208,
    "start_time": "2023-05-26T12:00:01.377Z"
   },
   {
    "duration": 65,
    "start_time": "2023-05-26T12:00:01.587Z"
   },
   {
    "duration": 116,
    "start_time": "2023-05-26T12:00:01.653Z"
   },
   {
    "duration": 93,
    "start_time": "2023-05-26T12:00:01.772Z"
   },
   {
    "duration": 286,
    "start_time": "2023-05-26T12:00:01.867Z"
   },
   {
    "duration": 1431,
    "start_time": "2023-05-26T12:00:02.155Z"
   },
   {
    "duration": 12,
    "start_time": "2023-05-26T12:00:03.588Z"
   },
   {
    "duration": 180,
    "start_time": "2023-05-26T12:00:03.602Z"
   },
   {
    "duration": 24,
    "start_time": "2023-05-26T12:00:03.784Z"
   },
   {
    "duration": 12,
    "start_time": "2023-05-26T12:00:03.810Z"
   },
   {
    "duration": 19,
    "start_time": "2023-05-26T12:00:03.824Z"
   },
   {
    "duration": 39,
    "start_time": "2023-05-26T12:00:03.845Z"
   },
   {
    "duration": 11,
    "start_time": "2023-05-26T12:00:03.886Z"
   },
   {
    "duration": 10,
    "start_time": "2023-05-26T12:00:03.900Z"
   },
   {
    "duration": 9,
    "start_time": "2023-05-26T12:03:56.431Z"
   },
   {
    "duration": 60,
    "start_time": "2023-05-26T12:05:34.414Z"
   },
   {
    "duration": 7,
    "start_time": "2023-05-26T12:06:12.656Z"
   },
   {
    "duration": 56,
    "start_time": "2023-05-26T12:08:04.819Z"
   },
   {
    "duration": 385,
    "start_time": "2023-05-26T12:09:06.245Z"
   },
   {
    "duration": 288,
    "start_time": "2023-05-26T12:09:06.632Z"
   },
   {
    "duration": 4,
    "start_time": "2023-05-26T12:09:06.921Z"
   },
   {
    "duration": 131,
    "start_time": "2023-05-26T12:09:06.926Z"
   },
   {
    "duration": 16,
    "start_time": "2023-05-26T12:09:07.060Z"
   },
   {
    "duration": 39,
    "start_time": "2023-05-26T12:09:07.077Z"
   },
   {
    "duration": 1866,
    "start_time": "2023-05-26T12:09:07.117Z"
   },
   {
    "duration": 10,
    "start_time": "2023-05-26T12:09:08.985Z"
   },
   {
    "duration": 95,
    "start_time": "2023-05-26T12:09:08.997Z"
   },
   {
    "duration": 5,
    "start_time": "2023-05-26T12:09:09.093Z"
   },
   {
    "duration": 27,
    "start_time": "2023-05-26T12:09:09.099Z"
   },
   {
    "duration": 2,
    "start_time": "2023-05-26T12:09:09.128Z"
   },
   {
    "duration": 14,
    "start_time": "2023-05-26T12:09:09.131Z"
   },
   {
    "duration": 8,
    "start_time": "2023-05-26T12:09:09.147Z"
   },
   {
    "duration": 8,
    "start_time": "2023-05-26T12:09:09.156Z"
   },
   {
    "duration": 8,
    "start_time": "2023-05-26T12:09:09.165Z"
   },
   {
    "duration": 24,
    "start_time": "2023-05-26T12:09:09.175Z"
   },
   {
    "duration": 29,
    "start_time": "2023-05-26T12:09:09.207Z"
   },
   {
    "duration": 34,
    "start_time": "2023-05-26T12:09:09.237Z"
   },
   {
    "duration": 4,
    "start_time": "2023-05-26T12:09:09.272Z"
   },
   {
    "duration": 33,
    "start_time": "2023-05-26T12:09:09.277Z"
   },
   {
    "duration": 15,
    "start_time": "2023-05-26T12:09:09.314Z"
   },
   {
    "duration": 10,
    "start_time": "2023-05-26T12:09:09.331Z"
   },
   {
    "duration": 1222,
    "start_time": "2023-05-26T12:09:09.343Z"
   },
   {
    "duration": 8,
    "start_time": "2023-05-26T12:09:10.567Z"
   },
   {
    "duration": 19,
    "start_time": "2023-05-26T12:09:10.576Z"
   },
   {
    "duration": 34,
    "start_time": "2023-05-26T12:09:10.596Z"
   },
   {
    "duration": 6,
    "start_time": "2023-05-26T12:09:10.631Z"
   },
   {
    "duration": 11,
    "start_time": "2023-05-26T12:09:10.639Z"
   },
   {
    "duration": 7,
    "start_time": "2023-05-26T12:09:10.651Z"
   },
   {
    "duration": 15,
    "start_time": "2023-05-26T12:09:10.660Z"
   },
   {
    "duration": 90,
    "start_time": "2023-05-26T12:10:47.872Z"
   },
   {
    "duration": 36,
    "start_time": "2023-05-26T12:10:55.535Z"
   },
   {
    "duration": 9,
    "start_time": "2023-05-26T12:13:03.116Z"
   },
   {
    "duration": 11,
    "start_time": "2023-05-26T12:13:12.661Z"
   },
   {
    "duration": 8,
    "start_time": "2023-05-26T12:13:19.569Z"
   },
   {
    "duration": 23,
    "start_time": "2023-05-26T12:13:46.847Z"
   },
   {
    "duration": 26,
    "start_time": "2023-05-26T12:14:20.548Z"
   },
   {
    "duration": 34,
    "start_time": "2023-05-26T12:14:35.131Z"
   },
   {
    "duration": 26,
    "start_time": "2023-05-26T12:17:20.730Z"
   },
   {
    "duration": 11,
    "start_time": "2023-05-26T12:18:01.724Z"
   },
   {
    "duration": 4,
    "start_time": "2023-05-26T12:23:18.109Z"
   },
   {
    "duration": 1092,
    "start_time": "2023-05-26T12:23:23.832Z"
   },
   {
    "duration": 1381,
    "start_time": "2023-05-26T12:23:25.755Z"
   },
   {
    "duration": 11,
    "start_time": "2023-05-26T12:24:26.323Z"
   },
   {
    "duration": 8,
    "start_time": "2023-05-26T12:24:32.030Z"
   },
   {
    "duration": 10,
    "start_time": "2023-05-26T12:24:36.314Z"
   },
   {
    "duration": 14,
    "start_time": "2023-05-26T12:24:40.576Z"
   },
   {
    "duration": 10,
    "start_time": "2023-05-26T12:25:06.805Z"
   },
   {
    "duration": 10,
    "start_time": "2023-05-26T12:27:56.250Z"
   },
   {
    "duration": 8,
    "start_time": "2023-05-26T12:28:11.501Z"
   },
   {
    "duration": 9,
    "start_time": "2023-05-26T12:28:15.471Z"
   },
   {
    "duration": 7,
    "start_time": "2023-05-26T12:28:57.544Z"
   },
   {
    "duration": 7,
    "start_time": "2023-05-26T12:29:13.019Z"
   },
   {
    "duration": 4,
    "start_time": "2023-05-26T12:34:52.535Z"
   },
   {
    "duration": 9,
    "start_time": "2023-05-26T12:34:54.108Z"
   },
   {
    "duration": 9,
    "start_time": "2023-05-26T12:34:57.047Z"
   },
   {
    "duration": 403,
    "start_time": "2023-05-26T12:35:22.727Z"
   },
   {
    "duration": 223,
    "start_time": "2023-05-26T12:35:23.133Z"
   },
   {
    "duration": 3,
    "start_time": "2023-05-26T12:35:23.357Z"
   },
   {
    "duration": 105,
    "start_time": "2023-05-26T12:35:23.361Z"
   },
   {
    "duration": 12,
    "start_time": "2023-05-26T12:35:23.468Z"
   },
   {
    "duration": 37,
    "start_time": "2023-05-26T12:35:23.485Z"
   },
   {
    "duration": 1736,
    "start_time": "2023-05-26T12:35:23.524Z"
   },
   {
    "duration": 9,
    "start_time": "2023-05-26T12:35:25.261Z"
   },
   {
    "duration": 88,
    "start_time": "2023-05-26T12:35:25.271Z"
   },
   {
    "duration": 5,
    "start_time": "2023-05-26T12:35:25.360Z"
   },
   {
    "duration": 18,
    "start_time": "2023-05-26T12:35:25.367Z"
   },
   {
    "duration": 29,
    "start_time": "2023-05-26T12:35:25.386Z"
   },
   {
    "duration": 34,
    "start_time": "2023-05-26T12:35:25.417Z"
   },
   {
    "duration": 11,
    "start_time": "2023-05-26T12:35:25.454Z"
   },
   {
    "duration": 21,
    "start_time": "2023-05-26T12:35:25.466Z"
   },
   {
    "duration": 15,
    "start_time": "2023-05-26T12:35:25.490Z"
   },
   {
    "duration": 19,
    "start_time": "2023-05-26T12:35:25.507Z"
   },
   {
    "duration": 27,
    "start_time": "2023-05-26T12:35:25.528Z"
   },
   {
    "duration": 75,
    "start_time": "2023-05-26T12:35:25.556Z"
   },
   {
    "duration": 4,
    "start_time": "2023-05-26T12:35:25.632Z"
   },
   {
    "duration": 33,
    "start_time": "2023-05-26T12:35:25.638Z"
   },
   {
    "duration": 15,
    "start_time": "2023-05-26T12:35:25.675Z"
   },
   {
    "duration": 20,
    "start_time": "2023-05-26T12:35:25.692Z"
   },
   {
    "duration": 15,
    "start_time": "2023-05-26T12:35:25.714Z"
   },
   {
    "duration": 7,
    "start_time": "2023-05-26T12:35:25.731Z"
   },
   {
    "duration": 11,
    "start_time": "2023-05-26T12:35:25.739Z"
   },
   {
    "duration": 10,
    "start_time": "2023-05-26T12:35:25.751Z"
   },
   {
    "duration": 1191,
    "start_time": "2023-05-26T12:35:25.762Z"
   },
   {
    "duration": 9,
    "start_time": "2023-05-26T12:35:26.954Z"
   },
   {
    "duration": 19,
    "start_time": "2023-05-26T12:35:26.965Z"
   },
   {
    "duration": 20,
    "start_time": "2023-05-26T12:35:26.986Z"
   },
   {
    "duration": 49,
    "start_time": "2023-05-26T12:35:27.008Z"
   },
   {
    "duration": 13,
    "start_time": "2023-05-26T12:35:27.058Z"
   },
   {
    "duration": 22,
    "start_time": "2023-05-26T12:35:27.073Z"
   },
   {
    "duration": 7,
    "start_time": "2023-05-26T12:36:11.115Z"
   },
   {
    "duration": 6,
    "start_time": "2023-05-26T12:36:19.643Z"
   },
   {
    "duration": 11,
    "start_time": "2023-05-26T12:36:56.113Z"
   },
   {
    "duration": 12,
    "start_time": "2023-05-26T12:37:25.744Z"
   },
   {
    "duration": 10,
    "start_time": "2023-05-26T12:37:38.052Z"
   },
   {
    "duration": 423,
    "start_time": "2023-05-26T12:37:42.043Z"
   },
   {
    "duration": 292,
    "start_time": "2023-05-26T12:37:42.468Z"
   },
   {
    "duration": 3,
    "start_time": "2023-05-26T12:37:42.761Z"
   },
   {
    "duration": 129,
    "start_time": "2023-05-26T12:37:42.766Z"
   },
   {
    "duration": 20,
    "start_time": "2023-05-26T12:37:42.897Z"
   },
   {
    "duration": 33,
    "start_time": "2023-05-26T12:37:42.919Z"
   },
   {
    "duration": 2078,
    "start_time": "2023-05-26T12:37:42.954Z"
   },
   {
    "duration": 13,
    "start_time": "2023-05-26T12:37:45.034Z"
   },
   {
    "duration": 102,
    "start_time": "2023-05-26T12:37:45.049Z"
   },
   {
    "duration": 5,
    "start_time": "2023-05-26T12:37:45.152Z"
   },
   {
    "duration": 16,
    "start_time": "2023-05-26T12:37:45.158Z"
   },
   {
    "duration": 8,
    "start_time": "2023-05-26T12:37:45.175Z"
   },
   {
    "duration": 38,
    "start_time": "2023-05-26T12:37:45.184Z"
   },
   {
    "duration": 37,
    "start_time": "2023-05-26T12:37:45.225Z"
   },
   {
    "duration": 55,
    "start_time": "2023-05-26T12:37:45.263Z"
   },
   {
    "duration": 45,
    "start_time": "2023-05-26T12:37:45.319Z"
   },
   {
    "duration": 48,
    "start_time": "2023-05-26T12:37:45.365Z"
   },
   {
    "duration": 11,
    "start_time": "2023-05-26T12:37:45.415Z"
   },
   {
    "duration": 32,
    "start_time": "2023-05-26T12:37:45.428Z"
   },
   {
    "duration": 5,
    "start_time": "2023-05-26T12:37:45.461Z"
   },
   {
    "duration": 11,
    "start_time": "2023-05-26T12:37:45.467Z"
   },
   {
    "duration": 35,
    "start_time": "2023-05-26T12:37:45.480Z"
   },
   {
    "duration": 13,
    "start_time": "2023-05-26T12:37:45.517Z"
   },
   {
    "duration": 9,
    "start_time": "2023-05-26T12:37:45.532Z"
   },
   {
    "duration": 10,
    "start_time": "2023-05-26T12:37:45.542Z"
   },
   {
    "duration": 11,
    "start_time": "2023-05-26T12:37:45.554Z"
   },
   {
    "duration": 1210,
    "start_time": "2023-05-26T12:37:45.567Z"
   },
   {
    "duration": 36,
    "start_time": "2023-05-26T12:37:46.779Z"
   },
   {
    "duration": 28,
    "start_time": "2023-05-26T12:37:46.817Z"
   },
   {
    "duration": 9,
    "start_time": "2023-05-26T12:37:46.847Z"
   },
   {
    "duration": 58,
    "start_time": "2023-05-26T12:37:46.858Z"
   },
   {
    "duration": 21,
    "start_time": "2023-05-26T12:37:46.918Z"
   },
   {
    "duration": 11,
    "start_time": "2023-05-26T12:37:46.941Z"
   },
   {
    "duration": 9,
    "start_time": "2023-05-26T12:37:59.042Z"
   },
   {
    "duration": 14,
    "start_time": "2023-05-26T12:38:03.714Z"
   },
   {
    "duration": 413,
    "start_time": "2023-05-26T12:40:20.637Z"
   },
   {
    "duration": 280,
    "start_time": "2023-05-26T12:40:21.052Z"
   },
   {
    "duration": 4,
    "start_time": "2023-05-26T12:40:21.333Z"
   },
   {
    "duration": 122,
    "start_time": "2023-05-26T12:40:21.338Z"
   },
   {
    "duration": 13,
    "start_time": "2023-05-26T12:40:21.461Z"
   },
   {
    "duration": 50,
    "start_time": "2023-05-26T12:40:21.475Z"
   },
   {
    "duration": 1984,
    "start_time": "2023-05-26T12:40:21.527Z"
   },
   {
    "duration": 12,
    "start_time": "2023-05-26T12:40:23.513Z"
   },
   {
    "duration": 107,
    "start_time": "2023-05-26T12:40:23.527Z"
   },
   {
    "duration": 7,
    "start_time": "2023-05-26T12:40:23.636Z"
   },
   {
    "duration": 14,
    "start_time": "2023-05-26T12:40:23.645Z"
   },
   {
    "duration": 12,
    "start_time": "2023-05-26T12:40:23.661Z"
   },
   {
    "duration": 34,
    "start_time": "2023-05-26T12:40:23.675Z"
   },
   {
    "duration": 10,
    "start_time": "2023-05-26T12:40:23.712Z"
   },
   {
    "duration": 18,
    "start_time": "2023-05-26T12:40:23.723Z"
   },
   {
    "duration": 12,
    "start_time": "2023-05-26T12:40:23.742Z"
   },
   {
    "duration": 15,
    "start_time": "2023-05-26T12:40:23.756Z"
   },
   {
    "duration": 9,
    "start_time": "2023-05-26T12:40:23.773Z"
   },
   {
    "duration": 59,
    "start_time": "2023-05-26T12:40:23.790Z"
   },
   {
    "duration": 2,
    "start_time": "2023-05-26T12:40:23.851Z"
   },
   {
    "duration": 11,
    "start_time": "2023-05-26T12:40:23.855Z"
   },
   {
    "duration": 11,
    "start_time": "2023-05-26T12:40:23.867Z"
   },
   {
    "duration": 42,
    "start_time": "2023-05-26T12:40:23.879Z"
   },
   {
    "duration": 15,
    "start_time": "2023-05-26T12:40:23.923Z"
   },
   {
    "duration": 12,
    "start_time": "2023-05-26T12:40:23.940Z"
   },
   {
    "duration": 9,
    "start_time": "2023-05-26T12:40:23.954Z"
   },
   {
    "duration": 1306,
    "start_time": "2023-05-26T12:40:23.965Z"
   },
   {
    "duration": 8,
    "start_time": "2023-05-26T12:40:25.272Z"
   },
   {
    "duration": 44,
    "start_time": "2023-05-26T12:40:25.281Z"
   },
   {
    "duration": 27,
    "start_time": "2023-05-26T12:40:25.327Z"
   },
   {
    "duration": 60,
    "start_time": "2023-05-26T12:40:25.356Z"
   },
   {
    "duration": 15,
    "start_time": "2023-05-26T12:40:25.417Z"
   },
   {
    "duration": 6,
    "start_time": "2023-05-26T12:40:25.433Z"
   },
   {
    "duration": 21,
    "start_time": "2023-05-26T12:40:59.447Z"
   },
   {
    "duration": 305,
    "start_time": "2023-05-26T12:45:32.708Z"
   },
   {
    "duration": 4,
    "start_time": "2023-05-26T12:45:45.761Z"
   },
   {
    "duration": 15,
    "start_time": "2023-05-26T12:45:47.349Z"
   },
   {
    "duration": 291,
    "start_time": "2023-05-26T12:54:57.937Z"
   },
   {
    "duration": 7,
    "start_time": "2023-05-26T12:58:14.650Z"
   },
   {
    "duration": 5,
    "start_time": "2023-05-26T12:58:53.062Z"
   },
   {
    "duration": 16,
    "start_time": "2023-05-26T12:58:55.034Z"
   },
   {
    "duration": 7,
    "start_time": "2023-05-26T12:59:12.411Z"
   },
   {
    "duration": 568,
    "start_time": "2023-05-26T13:05:35.462Z"
   },
   {
    "duration": 8,
    "start_time": "2023-05-26T13:07:03.450Z"
   },
   {
    "duration": 20,
    "start_time": "2023-05-26T13:07:20.047Z"
   },
   {
    "duration": 28,
    "start_time": "2023-05-26T13:07:26.835Z"
   },
   {
    "duration": 16,
    "start_time": "2023-05-26T13:08:27.912Z"
   },
   {
    "duration": 9,
    "start_time": "2023-05-26T13:13:00.109Z"
   },
   {
    "duration": 8,
    "start_time": "2023-05-26T13:14:33.810Z"
   },
   {
    "duration": 52,
    "start_time": "2023-05-26T13:24:26.808Z"
   },
   {
    "duration": 3,
    "start_time": "2023-05-26T13:24:53.840Z"
   },
   {
    "duration": 12,
    "start_time": "2023-05-26T13:24:55.020Z"
   },
   {
    "duration": 11,
    "start_time": "2023-05-26T13:25:06.134Z"
   },
   {
    "duration": 22,
    "start_time": "2023-05-26T13:25:12.300Z"
   },
   {
    "duration": 10,
    "start_time": "2023-05-26T13:25:44.252Z"
   },
   {
    "duration": 15,
    "start_time": "2023-05-26T13:25:45.920Z"
   },
   {
    "duration": 3,
    "start_time": "2023-05-26T13:29:47.609Z"
   },
   {
    "duration": 15,
    "start_time": "2023-05-26T13:29:49.516Z"
   },
   {
    "duration": 11,
    "start_time": "2023-05-26T13:30:00.025Z"
   },
   {
    "duration": 3,
    "start_time": "2023-05-26T13:30:22.410Z"
   },
   {
    "duration": 15,
    "start_time": "2023-05-26T13:30:28.433Z"
   },
   {
    "duration": 15,
    "start_time": "2023-05-26T13:30:56.933Z"
   },
   {
    "duration": 3,
    "start_time": "2023-05-26T13:32:21.441Z"
   },
   {
    "duration": 11,
    "start_time": "2023-05-26T13:32:22.850Z"
   },
   {
    "duration": 18,
    "start_time": "2023-05-26T13:32:27.782Z"
   },
   {
    "duration": 4,
    "start_time": "2023-05-26T13:33:25.143Z"
   },
   {
    "duration": 25,
    "start_time": "2023-05-26T13:33:26.025Z"
   },
   {
    "duration": 5,
    "start_time": "2023-05-26T13:34:26.568Z"
   },
   {
    "duration": 25,
    "start_time": "2023-05-26T13:34:27.101Z"
   },
   {
    "duration": 6,
    "start_time": "2023-05-26T13:36:30.101Z"
   },
   {
    "duration": 19,
    "start_time": "2023-05-26T13:36:31.307Z"
   },
   {
    "duration": 4,
    "start_time": "2023-05-26T13:37:30.370Z"
   },
   {
    "duration": 21,
    "start_time": "2023-05-26T13:37:30.913Z"
   },
   {
    "duration": 437,
    "start_time": "2023-05-26T13:37:38.954Z"
   },
   {
    "duration": 336,
    "start_time": "2023-05-26T13:37:39.396Z"
   },
   {
    "duration": 3,
    "start_time": "2023-05-26T13:37:39.737Z"
   },
   {
    "duration": 184,
    "start_time": "2023-05-26T13:37:39.743Z"
   },
   {
    "duration": 31,
    "start_time": "2023-05-26T13:37:39.929Z"
   },
   {
    "duration": 48,
    "start_time": "2023-05-26T13:37:39.962Z"
   },
   {
    "duration": 2262,
    "start_time": "2023-05-26T13:37:40.011Z"
   },
   {
    "duration": 8,
    "start_time": "2023-05-26T13:37:42.275Z"
   },
   {
    "duration": 101,
    "start_time": "2023-05-26T13:37:42.299Z"
   },
   {
    "duration": 12,
    "start_time": "2023-05-26T13:37:42.402Z"
   },
   {
    "duration": 56,
    "start_time": "2023-05-26T13:37:42.416Z"
   },
   {
    "duration": 17,
    "start_time": "2023-05-26T13:37:42.473Z"
   },
   {
    "duration": 22,
    "start_time": "2023-05-26T13:37:42.497Z"
   },
   {
    "duration": 44,
    "start_time": "2023-05-26T13:37:42.521Z"
   },
   {
    "duration": 8,
    "start_time": "2023-05-26T13:37:42.567Z"
   },
   {
    "duration": 21,
    "start_time": "2023-05-26T13:37:42.577Z"
   },
   {
    "duration": 66,
    "start_time": "2023-05-26T13:37:42.600Z"
   },
   {
    "duration": 53,
    "start_time": "2023-05-26T13:37:42.668Z"
   },
   {
    "duration": 86,
    "start_time": "2023-05-26T13:37:42.722Z"
   },
   {
    "duration": 4,
    "start_time": "2023-05-26T13:37:42.809Z"
   },
   {
    "duration": 54,
    "start_time": "2023-05-26T13:37:42.814Z"
   },
   {
    "duration": 7,
    "start_time": "2023-05-26T13:37:42.870Z"
   },
   {
    "duration": 20,
    "start_time": "2023-05-26T13:37:42.879Z"
   },
   {
    "duration": 73,
    "start_time": "2023-05-26T13:37:42.901Z"
   },
   {
    "duration": 20,
    "start_time": "2023-05-26T13:37:42.975Z"
   },
   {
    "duration": 70,
    "start_time": "2023-05-26T13:37:42.996Z"
   },
   {
    "duration": 1911,
    "start_time": "2023-05-26T13:37:43.068Z"
   },
   {
    "duration": 17,
    "start_time": "2023-05-26T13:37:44.981Z"
   },
   {
    "duration": 118,
    "start_time": "2023-05-26T13:37:45.000Z"
   },
   {
    "duration": 37,
    "start_time": "2023-05-26T13:37:45.120Z"
   },
   {
    "duration": 57,
    "start_time": "2023-05-26T13:37:45.158Z"
   },
   {
    "duration": 20,
    "start_time": "2023-05-26T13:37:45.217Z"
   },
   {
    "duration": 32,
    "start_time": "2023-05-26T13:37:45.238Z"
   },
   {
    "duration": 23,
    "start_time": "2023-05-26T13:37:45.272Z"
   },
   {
    "duration": 70,
    "start_time": "2023-05-26T13:37:45.296Z"
   },
   {
    "duration": 27,
    "start_time": "2023-05-26T13:37:45.369Z"
   },
   {
    "duration": 63,
    "start_time": "2023-05-26T13:37:45.397Z"
   },
   {
    "duration": 34,
    "start_time": "2023-05-26T13:37:45.462Z"
   },
   {
    "duration": 3,
    "start_time": "2023-05-26T13:37:45.497Z"
   },
   {
    "duration": 18,
    "start_time": "2023-05-26T13:38:19.417Z"
   },
   {
    "duration": 109,
    "start_time": "2023-05-26T13:38:53.030Z"
   },
   {
    "duration": 33,
    "start_time": "2023-05-26T13:40:06.704Z"
   },
   {
    "duration": 4,
    "start_time": "2023-05-26T13:40:10.164Z"
   },
   {
    "duration": 13,
    "start_time": "2023-05-26T13:40:11.451Z"
   },
   {
    "duration": 23,
    "start_time": "2023-05-26T13:41:05.459Z"
   },
   {
    "duration": 15,
    "start_time": "2023-05-26T13:42:41.194Z"
   },
   {
    "duration": 27,
    "start_time": "2023-05-26T13:42:42.173Z"
   },
   {
    "duration": 5,
    "start_time": "2023-05-26T13:43:25.524Z"
   },
   {
    "duration": 30,
    "start_time": "2023-05-26T13:43:26.366Z"
   },
   {
    "duration": 12,
    "start_time": "2023-05-26T13:44:48.027Z"
   },
   {
    "duration": 39,
    "start_time": "2023-05-26T13:44:49.112Z"
   },
   {
    "duration": 441,
    "start_time": "2023-05-26T13:45:06.949Z"
   },
   {
    "duration": 285,
    "start_time": "2023-05-26T13:45:07.396Z"
   },
   {
    "duration": 12,
    "start_time": "2023-05-26T13:45:07.682Z"
   },
   {
    "duration": 183,
    "start_time": "2023-05-26T13:45:07.696Z"
   },
   {
    "duration": 24,
    "start_time": "2023-05-26T13:45:07.881Z"
   },
   {
    "duration": 65,
    "start_time": "2023-05-26T13:45:07.906Z"
   },
   {
    "duration": 2294,
    "start_time": "2023-05-26T13:45:07.973Z"
   },
   {
    "duration": 9,
    "start_time": "2023-05-26T13:45:10.269Z"
   },
   {
    "duration": 158,
    "start_time": "2023-05-26T13:45:10.279Z"
   },
   {
    "duration": 7,
    "start_time": "2023-05-26T13:45:10.445Z"
   },
   {
    "duration": 19,
    "start_time": "2023-05-26T13:45:10.453Z"
   },
   {
    "duration": 20,
    "start_time": "2023-05-26T13:45:10.473Z"
   },
   {
    "duration": 57,
    "start_time": "2023-05-26T13:45:10.494Z"
   },
   {
    "duration": 6,
    "start_time": "2023-05-26T13:45:10.554Z"
   },
   {
    "duration": 6,
    "start_time": "2023-05-26T13:45:10.562Z"
   },
   {
    "duration": 9,
    "start_time": "2023-05-26T13:45:10.569Z"
   },
   {
    "duration": 16,
    "start_time": "2023-05-26T13:45:10.579Z"
   },
   {
    "duration": 47,
    "start_time": "2023-05-26T13:45:10.597Z"
   },
   {
    "duration": 29,
    "start_time": "2023-05-26T13:45:10.646Z"
   },
   {
    "duration": 3,
    "start_time": "2023-05-26T13:45:10.676Z"
   },
   {
    "duration": 56,
    "start_time": "2023-05-26T13:45:10.680Z"
   },
   {
    "duration": 14,
    "start_time": "2023-05-26T13:45:10.738Z"
   },
   {
    "duration": 12,
    "start_time": "2023-05-26T13:45:10.753Z"
   },
   {
    "duration": 9,
    "start_time": "2023-05-26T13:45:10.767Z"
   },
   {
    "duration": 16,
    "start_time": "2023-05-26T13:45:10.777Z"
   },
   {
    "duration": 68,
    "start_time": "2023-05-26T13:45:10.795Z"
   },
   {
    "duration": 1365,
    "start_time": "2023-05-26T13:45:10.865Z"
   },
   {
    "duration": 10,
    "start_time": "2023-05-26T13:45:12.239Z"
   },
   {
    "duration": 12,
    "start_time": "2023-05-26T13:45:12.250Z"
   },
   {
    "duration": 28,
    "start_time": "2023-05-26T13:45:12.263Z"
   },
   {
    "duration": 69,
    "start_time": "2023-05-26T13:45:12.292Z"
   },
   {
    "duration": 7,
    "start_time": "2023-05-26T13:45:12.362Z"
   },
   {
    "duration": 21,
    "start_time": "2023-05-26T13:45:12.370Z"
   },
   {
    "duration": 68,
    "start_time": "2023-05-26T13:45:12.392Z"
   },
   {
    "duration": 12,
    "start_time": "2023-05-26T13:45:12.462Z"
   },
   {
    "duration": 15,
    "start_time": "2023-05-26T13:45:12.475Z"
   },
   {
    "duration": 52,
    "start_time": "2023-05-26T13:45:12.491Z"
   },
   {
    "duration": 27,
    "start_time": "2023-05-26T13:45:12.544Z"
   },
   {
    "duration": 2,
    "start_time": "2023-05-26T13:45:12.573Z"
   },
   {
    "duration": 22,
    "start_time": "2023-05-26T13:46:07.239Z"
   },
   {
    "duration": 52,
    "start_time": "2023-05-26T13:46:35.174Z"
   },
   {
    "duration": 22,
    "start_time": "2023-05-26T13:46:39.546Z"
   },
   {
    "duration": 12,
    "start_time": "2023-05-26T13:47:31.883Z"
   },
   {
    "duration": 31,
    "start_time": "2023-05-26T13:47:32.819Z"
   },
   {
    "duration": 42,
    "start_time": "2023-05-26T13:47:42.880Z"
   },
   {
    "duration": 41,
    "start_time": "2023-05-26T13:47:46.675Z"
   },
   {
    "duration": 7,
    "start_time": "2023-05-26T13:48:38.510Z"
   },
   {
    "duration": 53,
    "start_time": "2023-05-26T13:48:39.606Z"
   },
   {
    "duration": 37,
    "start_time": "2023-05-26T13:48:47.409Z"
   },
   {
    "duration": 44,
    "start_time": "2023-05-26T13:48:52.502Z"
   },
   {
    "duration": 23,
    "start_time": "2023-05-26T13:49:32.540Z"
   },
   {
    "duration": 6,
    "start_time": "2023-05-26T13:52:00.671Z"
   },
   {
    "duration": 48,
    "start_time": "2023-05-26T13:52:01.335Z"
   },
   {
    "duration": 28,
    "start_time": "2023-05-26T13:53:55.410Z"
   },
   {
    "duration": 5,
    "start_time": "2023-05-26T13:54:04.166Z"
   },
   {
    "duration": 28,
    "start_time": "2023-05-26T13:54:04.970Z"
   },
   {
    "duration": 113,
    "start_time": "2023-05-26T13:56:59.064Z"
   },
   {
    "duration": 5,
    "start_time": "2023-05-26T13:57:48.240Z"
   },
   {
    "duration": 24,
    "start_time": "2023-05-26T13:57:49.545Z"
   },
   {
    "duration": 6,
    "start_time": "2023-05-26T13:58:46.261Z"
   },
   {
    "duration": 34,
    "start_time": "2023-05-26T13:58:47.132Z"
   },
   {
    "duration": 13,
    "start_time": "2023-05-26T13:59:37.144Z"
   },
   {
    "duration": 60,
    "start_time": "2023-05-26T13:59:37.807Z"
   },
   {
    "duration": 158,
    "start_time": "2023-05-26T14:04:34.217Z"
   },
   {
    "duration": 639,
    "start_time": "2023-05-26T14:04:45.617Z"
   },
   {
    "duration": 27,
    "start_time": "2023-05-26T14:04:47.463Z"
   },
   {
    "duration": 26,
    "start_time": "2023-05-26T14:06:03.738Z"
   },
   {
    "duration": 508,
    "start_time": "2023-05-26T14:06:19.195Z"
   },
   {
    "duration": 278,
    "start_time": "2023-05-26T14:06:19.705Z"
   },
   {
    "duration": 10,
    "start_time": "2023-05-26T14:06:19.984Z"
   },
   {
    "duration": 165,
    "start_time": "2023-05-26T14:06:19.996Z"
   },
   {
    "duration": 13,
    "start_time": "2023-05-26T14:06:20.162Z"
   },
   {
    "duration": 66,
    "start_time": "2023-05-26T14:06:20.177Z"
   },
   {
    "duration": 2122,
    "start_time": "2023-05-26T14:06:20.245Z"
   },
   {
    "duration": 10,
    "start_time": "2023-05-26T14:06:22.370Z"
   },
   {
    "duration": 101,
    "start_time": "2023-05-26T14:06:22.381Z"
   },
   {
    "duration": 20,
    "start_time": "2023-05-26T14:06:22.485Z"
   },
   {
    "duration": 48,
    "start_time": "2023-05-26T14:06:22.508Z"
   },
   {
    "duration": 9,
    "start_time": "2023-05-26T14:06:22.558Z"
   },
   {
    "duration": 14,
    "start_time": "2023-05-26T14:06:22.568Z"
   },
   {
    "duration": 55,
    "start_time": "2023-05-26T14:06:22.584Z"
   },
   {
    "duration": 16,
    "start_time": "2023-05-26T14:06:22.642Z"
   },
   {
    "duration": 13,
    "start_time": "2023-05-26T14:06:22.660Z"
   },
   {
    "duration": 14,
    "start_time": "2023-05-26T14:06:22.675Z"
   },
   {
    "duration": 77,
    "start_time": "2023-05-26T14:06:22.690Z"
   },
   {
    "duration": 60,
    "start_time": "2023-05-26T14:06:22.768Z"
   },
   {
    "duration": 5,
    "start_time": "2023-05-26T14:06:22.829Z"
   },
   {
    "duration": 18,
    "start_time": "2023-05-26T14:06:22.835Z"
   },
   {
    "duration": 16,
    "start_time": "2023-05-26T14:06:22.854Z"
   },
   {
    "duration": 31,
    "start_time": "2023-05-26T14:06:22.871Z"
   },
   {
    "duration": 57,
    "start_time": "2023-05-26T14:06:22.903Z"
   },
   {
    "duration": 76,
    "start_time": "2023-05-26T14:06:22.961Z"
   },
   {
    "duration": 31,
    "start_time": "2023-05-26T14:06:23.041Z"
   },
   {
    "duration": 1469,
    "start_time": "2023-05-26T14:06:23.074Z"
   },
   {
    "duration": 10,
    "start_time": "2023-05-26T14:06:24.550Z"
   },
   {
    "duration": 12,
    "start_time": "2023-05-26T14:06:24.561Z"
   },
   {
    "duration": 25,
    "start_time": "2023-05-26T14:06:24.574Z"
   },
   {
    "duration": 78,
    "start_time": "2023-05-26T14:06:24.600Z"
   },
   {
    "duration": 17,
    "start_time": "2023-05-26T14:06:24.680Z"
   },
   {
    "duration": 58,
    "start_time": "2023-05-26T14:06:24.699Z"
   },
   {
    "duration": 12,
    "start_time": "2023-05-26T14:06:24.758Z"
   },
   {
    "duration": 19,
    "start_time": "2023-05-26T14:06:24.771Z"
   },
   {
    "duration": 56,
    "start_time": "2023-05-26T14:06:24.792Z"
   },
   {
    "duration": 8,
    "start_time": "2023-05-26T14:06:24.849Z"
   },
   {
    "duration": 67,
    "start_time": "2023-05-26T14:06:24.859Z"
   },
   {
    "duration": 25,
    "start_time": "2023-05-26T14:06:24.931Z"
   },
   {
    "duration": 12,
    "start_time": "2023-05-26T14:06:24.958Z"
   },
   {
    "duration": 6,
    "start_time": "2023-05-26T14:06:24.971Z"
   },
   {
    "duration": 57,
    "start_time": "2023-05-26T14:06:24.978Z"
   },
   {
    "duration": 538,
    "start_time": "2023-05-26T14:06:25.037Z"
   },
   {
    "duration": 2,
    "start_time": "2023-05-26T14:06:25.576Z"
   },
   {
    "duration": 74,
    "start_time": "2023-05-26T14:06:25.584Z"
   },
   {
    "duration": 6,
    "start_time": "2023-05-26T14:06:25.660Z"
   },
   {
    "duration": 5,
    "start_time": "2023-05-26T14:07:24.433Z"
   },
   {
    "duration": 17,
    "start_time": "2023-05-26T14:07:26.229Z"
   },
   {
    "duration": 31,
    "start_time": "2023-05-26T14:07:30.435Z"
   },
   {
    "duration": 5,
    "start_time": "2023-05-26T14:08:38.212Z"
   },
   {
    "duration": 42,
    "start_time": "2023-05-26T14:08:38.764Z"
   },
   {
    "duration": 3,
    "start_time": "2023-05-26T14:09:06.762Z"
   },
   {
    "duration": 9,
    "start_time": "2023-05-26T14:09:31.784Z"
   },
   {
    "duration": 42,
    "start_time": "2023-05-26T14:09:32.538Z"
   },
   {
    "duration": 4,
    "start_time": "2023-05-26T14:09:45.365Z"
   },
   {
    "duration": 4,
    "start_time": "2023-05-26T14:10:36.436Z"
   },
   {
    "duration": 42,
    "start_time": "2023-05-26T14:10:36.968Z"
   },
   {
    "duration": 12,
    "start_time": "2023-05-26T14:12:11.762Z"
   },
   {
    "duration": 17,
    "start_time": "2023-05-26T14:12:25.339Z"
   },
   {
    "duration": 4,
    "start_time": "2023-05-26T14:13:01.523Z"
   },
   {
    "duration": 14,
    "start_time": "2023-05-26T14:13:03.835Z"
   },
   {
    "duration": 1906,
    "start_time": "2023-05-26T14:19:56.559Z"
   },
   {
    "duration": 2872,
    "start_time": "2023-05-26T14:20:17.807Z"
   },
   {
    "duration": 1988,
    "start_time": "2023-05-26T14:20:28.875Z"
   },
   {
    "duration": 2141,
    "start_time": "2023-05-26T14:20:54.107Z"
   },
   {
    "duration": 1905,
    "start_time": "2023-05-26T14:21:08.729Z"
   },
   {
    "duration": 1550,
    "start_time": "2023-05-26T14:21:36.160Z"
   },
   {
    "duration": 1693,
    "start_time": "2023-05-26T14:21:49.657Z"
   },
   {
    "duration": 1830,
    "start_time": "2023-05-26T14:22:27.622Z"
   },
   {
    "duration": 2103,
    "start_time": "2023-05-26T14:22:34.431Z"
   },
   {
    "duration": 1680,
    "start_time": "2023-05-26T14:22:42.964Z"
   },
   {
    "duration": 1004,
    "start_time": "2023-05-26T14:22:53.475Z"
   },
   {
    "duration": 1546,
    "start_time": "2023-05-26T14:23:04.281Z"
   },
   {
    "duration": 1717,
    "start_time": "2023-05-26T14:23:12.010Z"
   },
   {
    "duration": 4067,
    "start_time": "2023-05-26T14:23:35.963Z"
   },
   {
    "duration": 2842,
    "start_time": "2023-05-26T14:23:47.857Z"
   },
   {
    "duration": 1945,
    "start_time": "2023-05-26T14:23:56.029Z"
   },
   {
    "duration": 2749,
    "start_time": "2023-05-26T14:24:34.342Z"
   },
   {
    "duration": 128,
    "start_time": "2023-05-26T14:28:13.254Z"
   },
   {
    "duration": 153,
    "start_time": "2023-05-26T14:28:19.376Z"
   },
   {
    "duration": 6,
    "start_time": "2023-05-26T14:30:44.116Z"
   },
   {
    "duration": 6,
    "start_time": "2023-05-26T14:30:46.163Z"
   },
   {
    "duration": 14,
    "start_time": "2023-05-26T14:36:33.253Z"
   },
   {
    "duration": 171,
    "start_time": "2023-05-26T14:36:46.561Z"
   },
   {
    "duration": 304,
    "start_time": "2023-05-26T14:37:08.719Z"
   },
   {
    "duration": 136,
    "start_time": "2023-05-26T14:37:20.571Z"
   },
   {
    "duration": 122,
    "start_time": "2023-05-26T14:37:27.853Z"
   },
   {
    "duration": 26,
    "start_time": "2023-05-26T14:38:19.991Z"
   },
   {
    "duration": 1407,
    "start_time": "2023-05-26T14:40:39.831Z"
   },
   {
    "duration": 8,
    "start_time": "2023-05-26T14:40:59.157Z"
   },
   {
    "duration": 2055,
    "start_time": "2023-05-26T14:41:23.350Z"
   },
   {
    "duration": 167,
    "start_time": "2023-05-26T14:41:34.973Z"
   },
   {
    "duration": 196,
    "start_time": "2023-05-26T14:43:18.854Z"
   },
   {
    "duration": 150,
    "start_time": "2023-05-26T14:43:28.512Z"
   },
   {
    "duration": 203,
    "start_time": "2023-05-26T14:44:06.562Z"
   },
   {
    "duration": 161,
    "start_time": "2023-05-26T14:45:26.803Z"
   },
   {
    "duration": 278,
    "start_time": "2023-05-26T14:45:49.777Z"
   },
   {
    "duration": 180,
    "start_time": "2023-05-26T14:45:55.781Z"
   },
   {
    "duration": 169,
    "start_time": "2023-05-26T14:46:02.656Z"
   },
   {
    "duration": 162,
    "start_time": "2023-05-26T14:46:11.564Z"
   },
   {
    "duration": 148,
    "start_time": "2023-05-26T14:47:43.849Z"
   },
   {
    "duration": 151,
    "start_time": "2023-05-26T14:48:18.451Z"
   },
   {
    "duration": 111,
    "start_time": "2023-05-26T14:49:34.948Z"
   },
   {
    "duration": 120,
    "start_time": "2023-05-26T14:49:41.609Z"
   },
   {
    "duration": 129,
    "start_time": "2023-05-26T14:50:45.500Z"
   },
   {
    "duration": 143,
    "start_time": "2023-05-26T14:50:53.735Z"
   },
   {
    "duration": 144,
    "start_time": "2023-05-26T14:51:10.254Z"
   },
   {
    "duration": 198,
    "start_time": "2023-05-26T14:51:31.409Z"
   },
   {
    "duration": 12,
    "start_time": "2023-05-26T14:52:21.866Z"
   },
   {
    "duration": 13,
    "start_time": "2023-05-26T14:53:43.148Z"
   },
   {
    "duration": 17,
    "start_time": "2023-05-26T14:53:56.723Z"
   },
   {
    "duration": 181,
    "start_time": "2023-05-26T14:54:04.538Z"
   },
   {
    "duration": 185,
    "start_time": "2023-05-26T14:54:08.982Z"
   },
   {
    "duration": 141,
    "start_time": "2023-05-26T14:54:22.174Z"
   },
   {
    "duration": 127,
    "start_time": "2023-05-26T14:55:23.712Z"
   },
   {
    "duration": 133,
    "start_time": "2023-05-26T14:55:42.979Z"
   },
   {
    "duration": 138,
    "start_time": "2023-05-26T14:55:59.557Z"
   },
   {
    "duration": 140,
    "start_time": "2023-05-26T14:56:13.808Z"
   },
   {
    "duration": 138,
    "start_time": "2023-05-26T14:56:53.430Z"
   },
   {
    "duration": 157,
    "start_time": "2023-05-26T14:57:19.921Z"
   },
   {
    "duration": 142,
    "start_time": "2023-05-26T14:57:54.119Z"
   },
   {
    "duration": 157,
    "start_time": "2023-05-26T14:58:07.525Z"
   },
   {
    "duration": 13,
    "start_time": "2023-05-26T14:58:25.260Z"
   },
   {
    "duration": 13,
    "start_time": "2023-05-26T14:58:52.257Z"
   },
   {
    "duration": 170,
    "start_time": "2023-05-26T14:59:10.359Z"
   },
   {
    "duration": 232,
    "start_time": "2023-05-26T14:59:22.210Z"
   },
   {
    "duration": 141,
    "start_time": "2023-05-26T15:00:11.207Z"
   },
   {
    "duration": 141,
    "start_time": "2023-05-26T15:00:31.925Z"
   },
   {
    "duration": 79,
    "start_time": "2023-05-26T15:00:51.056Z"
   },
   {
    "duration": 18,
    "start_time": "2023-05-26T15:01:26.711Z"
   },
   {
    "duration": 74,
    "start_time": "2023-05-26T15:01:38.432Z"
   },
   {
    "duration": 78,
    "start_time": "2023-05-26T15:02:17.300Z"
   },
   {
    "duration": 66,
    "start_time": "2023-05-26T15:02:22.816Z"
   },
   {
    "duration": 127,
    "start_time": "2023-05-26T15:03:43.812Z"
   },
   {
    "duration": 121,
    "start_time": "2023-05-26T15:03:52.950Z"
   },
   {
    "duration": 130,
    "start_time": "2023-05-26T15:03:59.553Z"
   },
   {
    "duration": 127,
    "start_time": "2023-05-26T15:05:48.665Z"
   },
   {
    "duration": 193,
    "start_time": "2023-05-26T15:06:00.258Z"
   },
   {
    "duration": 135,
    "start_time": "2023-05-26T15:06:16.706Z"
   },
   {
    "duration": 127,
    "start_time": "2023-05-26T15:06:22.085Z"
   },
   {
    "duration": 135,
    "start_time": "2023-05-26T15:06:54.487Z"
   },
   {
    "duration": 115,
    "start_time": "2023-05-26T15:06:59.032Z"
   },
   {
    "duration": 124,
    "start_time": "2023-05-26T15:07:48.647Z"
   },
   {
    "duration": 37,
    "start_time": "2023-05-26T15:10:58.715Z"
   },
   {
    "duration": 561,
    "start_time": "2023-05-26T15:11:08.078Z"
   },
   {
    "duration": 33,
    "start_time": "2023-05-26T15:11:22.924Z"
   },
   {
    "duration": 17,
    "start_time": "2023-05-26T15:11:53.333Z"
   },
   {
    "duration": 17,
    "start_time": "2023-05-26T15:11:59.060Z"
   },
   {
    "duration": 8,
    "start_time": "2023-05-26T15:14:22.766Z"
   },
   {
    "duration": 8,
    "start_time": "2023-05-26T15:15:00.860Z"
   },
   {
    "duration": 9,
    "start_time": "2023-05-26T15:15:14.823Z"
   },
   {
    "duration": 40,
    "start_time": "2023-05-26T15:25:03.132Z"
   },
   {
    "duration": 7,
    "start_time": "2023-05-26T15:26:11.634Z"
   },
   {
    "duration": 8,
    "start_time": "2023-05-26T15:26:17.562Z"
   },
   {
    "duration": 19,
    "start_time": "2023-05-26T15:26:24.519Z"
   },
   {
    "duration": 10,
    "start_time": "2023-05-26T15:26:29.629Z"
   },
   {
    "duration": 9,
    "start_time": "2023-05-26T15:26:38.299Z"
   },
   {
    "duration": 12,
    "start_time": "2023-05-26T15:27:49.162Z"
   },
   {
    "duration": 28,
    "start_time": "2023-05-26T15:30:22.559Z"
   },
   {
    "duration": 46,
    "start_time": "2023-05-26T15:30:27.404Z"
   },
   {
    "duration": 39,
    "start_time": "2023-05-26T15:35:59.427Z"
   },
   {
    "duration": 64,
    "start_time": "2023-05-26T15:38:12.131Z"
   },
   {
    "duration": 45,
    "start_time": "2023-05-26T15:38:21.665Z"
   },
   {
    "duration": 50,
    "start_time": "2023-05-26T15:38:30.860Z"
   },
   {
    "duration": 61,
    "start_time": "2023-05-26T15:38:53.896Z"
   },
   {
    "duration": 68,
    "start_time": "2023-05-26T15:39:09.477Z"
   },
   {
    "duration": 48,
    "start_time": "2023-05-26T15:39:18.750Z"
   },
   {
    "duration": 57,
    "start_time": "2023-05-26T15:40:03.641Z"
   },
   {
    "duration": 53,
    "start_time": "2023-05-26T15:41:02.279Z"
   },
   {
    "duration": 35,
    "start_time": "2023-05-26T15:41:45.119Z"
   },
   {
    "duration": 22,
    "start_time": "2023-05-26T15:42:11.342Z"
   },
   {
    "duration": 32,
    "start_time": "2023-05-26T15:42:21.812Z"
   },
   {
    "duration": 70,
    "start_time": "2023-05-26T15:42:51.077Z"
   },
   {
    "duration": 60,
    "start_time": "2023-05-26T15:43:01.478Z"
   },
   {
    "duration": 8,
    "start_time": "2023-05-26T15:48:39.760Z"
   },
   {
    "duration": 42,
    "start_time": "2023-05-26T15:48:48.861Z"
   },
   {
    "duration": 60,
    "start_time": "2023-05-26T15:50:20.296Z"
   },
   {
    "duration": 4,
    "start_time": "2023-05-26T15:50:38.541Z"
   },
   {
    "duration": 94,
    "start_time": "2023-05-26T15:50:51.359Z"
   },
   {
    "duration": 18,
    "start_time": "2023-05-26T15:51:57.147Z"
   },
   {
    "duration": 20,
    "start_time": "2023-05-26T15:52:52.743Z"
   },
   {
    "duration": 23,
    "start_time": "2023-05-26T15:53:08.879Z"
   },
   {
    "duration": 20,
    "start_time": "2023-05-26T15:53:27.798Z"
   },
   {
    "duration": 20,
    "start_time": "2023-05-26T15:54:11.417Z"
   },
   {
    "duration": 21,
    "start_time": "2023-05-26T15:56:03.953Z"
   },
   {
    "duration": 24,
    "start_time": "2023-05-26T15:56:43.022Z"
   },
   {
    "duration": 30,
    "start_time": "2023-05-26T15:57:00.582Z"
   },
   {
    "duration": 10,
    "start_time": "2023-05-26T15:59:13.217Z"
   },
   {
    "duration": 10,
    "start_time": "2023-05-26T16:01:59.487Z"
   },
   {
    "duration": 388,
    "start_time": "2023-05-26T16:02:04.511Z"
   },
   {
    "duration": 236,
    "start_time": "2023-05-26T16:02:04.902Z"
   },
   {
    "duration": 2,
    "start_time": "2023-05-26T16:02:05.139Z"
   },
   {
    "duration": 364,
    "start_time": "2023-05-26T16:02:05.143Z"
   },
   {
    "duration": 15,
    "start_time": "2023-05-26T16:02:05.508Z"
   },
   {
    "duration": 26,
    "start_time": "2023-05-26T16:02:05.524Z"
   },
   {
    "duration": 1967,
    "start_time": "2023-05-26T16:02:05.552Z"
   },
   {
    "duration": 8,
    "start_time": "2023-05-26T16:02:07.521Z"
   },
   {
    "duration": 73,
    "start_time": "2023-05-26T16:02:07.530Z"
   },
   {
    "duration": 5,
    "start_time": "2023-05-26T16:02:07.605Z"
   },
   {
    "duration": 23,
    "start_time": "2023-05-26T16:02:07.611Z"
   },
   {
    "duration": 19,
    "start_time": "2023-05-26T16:02:07.635Z"
   },
   {
    "duration": 15,
    "start_time": "2023-05-26T16:02:07.655Z"
   },
   {
    "duration": 6,
    "start_time": "2023-05-26T16:02:07.672Z"
   },
   {
    "duration": 10,
    "start_time": "2023-05-26T16:02:07.680Z"
   },
   {
    "duration": 34,
    "start_time": "2023-05-26T16:02:07.691Z"
   },
   {
    "duration": 29,
    "start_time": "2023-05-26T16:02:07.726Z"
   },
   {
    "duration": 22,
    "start_time": "2023-05-26T16:02:07.757Z"
   },
   {
    "duration": 52,
    "start_time": "2023-05-26T16:02:07.781Z"
   },
   {
    "duration": 4,
    "start_time": "2023-05-26T16:02:07.834Z"
   },
   {
    "duration": 21,
    "start_time": "2023-05-26T16:02:07.840Z"
   },
   {
    "duration": 5,
    "start_time": "2023-05-26T16:02:07.863Z"
   },
   {
    "duration": 22,
    "start_time": "2023-05-26T16:02:07.869Z"
   },
   {
    "duration": 28,
    "start_time": "2023-05-26T16:02:07.892Z"
   },
   {
    "duration": 7,
    "start_time": "2023-05-26T16:02:07.922Z"
   },
   {
    "duration": 10,
    "start_time": "2023-05-26T16:02:07.931Z"
   },
   {
    "duration": 1049,
    "start_time": "2023-05-26T16:02:07.942Z"
   },
   {
    "duration": 10,
    "start_time": "2023-05-26T16:02:08.995Z"
   },
   {
    "duration": 7,
    "start_time": "2023-05-26T16:02:09.006Z"
   },
   {
    "duration": 6,
    "start_time": "2023-05-26T16:02:09.015Z"
   },
   {
    "duration": 27,
    "start_time": "2023-05-26T16:02:09.022Z"
   },
   {
    "duration": 8,
    "start_time": "2023-05-26T16:02:09.051Z"
   },
   {
    "duration": 41,
    "start_time": "2023-05-26T16:02:09.060Z"
   },
   {
    "duration": 26,
    "start_time": "2023-05-26T16:02:09.102Z"
   },
   {
    "duration": 11,
    "start_time": "2023-05-26T16:02:09.130Z"
   },
   {
    "duration": 11,
    "start_time": "2023-05-26T16:02:09.143Z"
   },
   {
    "duration": 6,
    "start_time": "2023-05-26T16:02:09.156Z"
   },
   {
    "duration": 25,
    "start_time": "2023-05-26T16:02:09.163Z"
   },
   {
    "duration": 8,
    "start_time": "2023-05-26T16:02:09.190Z"
   },
   {
    "duration": 19,
    "start_time": "2023-05-26T16:02:09.199Z"
   },
   {
    "duration": 29,
    "start_time": "2023-05-26T16:02:09.219Z"
   },
   {
    "duration": 23,
    "start_time": "2023-05-26T16:02:09.249Z"
   },
   {
    "duration": 38,
    "start_time": "2023-05-26T16:02:09.273Z"
   },
   {
    "duration": 374,
    "start_time": "2023-05-26T16:02:09.313Z"
   },
   {
    "duration": 4,
    "start_time": "2023-05-26T16:02:09.689Z"
   },
   {
    "duration": 36,
    "start_time": "2023-05-26T16:02:09.694Z"
   },
   {
    "duration": 1630,
    "start_time": "2023-05-26T16:02:09.732Z"
   },
   {
    "duration": 125,
    "start_time": "2023-05-26T16:02:11.363Z"
   },
   {
    "duration": 8,
    "start_time": "2023-05-26T16:02:11.491Z"
   },
   {
    "duration": 7,
    "start_time": "2023-05-26T16:02:11.501Z"
   },
   {
    "duration": 145,
    "start_time": "2023-05-26T16:02:11.509Z"
   },
   {
    "duration": 139,
    "start_time": "2023-05-26T16:02:11.656Z"
   },
   {
    "duration": 126,
    "start_time": "2023-05-26T16:02:11.797Z"
   },
   {
    "duration": 183,
    "start_time": "2023-05-26T16:02:11.924Z"
   },
   {
    "duration": 65,
    "start_time": "2023-05-26T16:02:12.108Z"
   },
   {
    "duration": 126,
    "start_time": "2023-05-26T16:02:12.185Z"
   },
   {
    "duration": 126,
    "start_time": "2023-05-26T16:02:12.312Z"
   },
   {
    "duration": 119,
    "start_time": "2023-05-26T16:02:12.440Z"
   },
   {
    "duration": 7,
    "start_time": "2023-05-26T16:02:12.561Z"
   },
   {
    "duration": 36,
    "start_time": "2023-05-26T16:02:12.569Z"
   },
   {
    "duration": 14,
    "start_time": "2023-05-26T16:02:12.607Z"
   },
   {
    "duration": 2,
    "start_time": "2023-05-26T16:02:12.622Z"
   },
   {
    "duration": 32,
    "start_time": "2023-05-26T16:17:22.324Z"
   },
   {
    "duration": 9,
    "start_time": "2023-05-26T16:18:17.744Z"
   },
   {
    "duration": 32,
    "start_time": "2023-05-26T16:18:21.407Z"
   },
   {
    "duration": 33,
    "start_time": "2023-05-26T16:19:10.735Z"
   },
   {
    "duration": 32,
    "start_time": "2023-05-26T16:19:24.486Z"
   },
   {
    "duration": 198,
    "start_time": "2023-05-26T16:27:54.547Z"
   },
   {
    "duration": 44,
    "start_time": "2023-05-26T16:28:12.107Z"
   },
   {
    "duration": 137,
    "start_time": "2023-05-26T16:28:18.269Z"
   },
   {
    "duration": 170,
    "start_time": "2023-05-26T16:28:25.268Z"
   },
   {
    "duration": 411,
    "start_time": "2023-05-26T16:29:05.706Z"
   },
   {
    "duration": 282,
    "start_time": "2023-05-26T16:29:06.121Z"
   },
   {
    "duration": 3,
    "start_time": "2023-05-26T16:29:06.407Z"
   },
   {
    "duration": 100,
    "start_time": "2023-05-26T16:29:06.412Z"
   },
   {
    "duration": 15,
    "start_time": "2023-05-26T16:29:06.513Z"
   },
   {
    "duration": 22,
    "start_time": "2023-05-26T16:29:06.530Z"
   },
   {
    "duration": 1689,
    "start_time": "2023-05-26T16:29:06.554Z"
   },
   {
    "duration": 9,
    "start_time": "2023-05-26T16:29:08.245Z"
   },
   {
    "duration": 66,
    "start_time": "2023-05-26T16:29:08.255Z"
   },
   {
    "duration": 6,
    "start_time": "2023-05-26T16:29:08.322Z"
   },
   {
    "duration": 9,
    "start_time": "2023-05-26T16:29:08.330Z"
   },
   {
    "duration": 9,
    "start_time": "2023-05-26T16:29:08.340Z"
   },
   {
    "duration": 9,
    "start_time": "2023-05-26T16:29:08.352Z"
   },
   {
    "duration": 41,
    "start_time": "2023-05-26T16:29:08.363Z"
   },
   {
    "duration": 12,
    "start_time": "2023-05-26T16:29:08.405Z"
   },
   {
    "duration": 7,
    "start_time": "2023-05-26T16:29:08.419Z"
   },
   {
    "duration": 9,
    "start_time": "2023-05-26T16:29:08.427Z"
   },
   {
    "duration": 10,
    "start_time": "2023-05-26T16:29:08.437Z"
   },
   {
    "duration": 49,
    "start_time": "2023-05-26T16:29:08.449Z"
   },
   {
    "duration": 4,
    "start_time": "2023-05-26T16:29:08.499Z"
   },
   {
    "duration": 10,
    "start_time": "2023-05-26T16:29:08.504Z"
   },
   {
    "duration": 6,
    "start_time": "2023-05-26T16:29:08.515Z"
   },
   {
    "duration": 9,
    "start_time": "2023-05-26T16:29:08.522Z"
   },
   {
    "duration": 8,
    "start_time": "2023-05-26T16:29:08.532Z"
   },
   {
    "duration": 9,
    "start_time": "2023-05-26T16:29:08.541Z"
   },
   {
    "duration": 47,
    "start_time": "2023-05-26T16:29:08.551Z"
   },
   {
    "duration": 1050,
    "start_time": "2023-05-26T16:29:08.599Z"
   },
   {
    "duration": 8,
    "start_time": "2023-05-26T16:29:09.650Z"
   },
   {
    "duration": 8,
    "start_time": "2023-05-26T16:29:09.659Z"
   },
   {
    "duration": 27,
    "start_time": "2023-05-26T16:29:09.668Z"
   },
   {
    "duration": 26,
    "start_time": "2023-05-26T16:29:09.696Z"
   },
   {
    "duration": 8,
    "start_time": "2023-05-26T16:29:09.724Z"
   },
   {
    "duration": 13,
    "start_time": "2023-05-26T16:29:09.734Z"
   },
   {
    "duration": 11,
    "start_time": "2023-05-26T16:29:09.749Z"
   },
   {
    "duration": 6,
    "start_time": "2023-05-26T16:29:09.761Z"
   },
   {
    "duration": 11,
    "start_time": "2023-05-26T16:29:09.791Z"
   },
   {
    "duration": 7,
    "start_time": "2023-05-26T16:29:09.804Z"
   },
   {
    "duration": 44,
    "start_time": "2023-05-26T16:29:09.813Z"
   },
   {
    "duration": 4,
    "start_time": "2023-05-26T16:29:09.859Z"
   },
   {
    "duration": 27,
    "start_time": "2023-05-26T16:29:09.868Z"
   },
   {
    "duration": 8,
    "start_time": "2023-05-26T16:29:09.900Z"
   },
   {
    "duration": 11,
    "start_time": "2023-05-26T16:29:09.909Z"
   },
   {
    "duration": 377,
    "start_time": "2023-05-26T16:29:09.921Z"
   },
   {
    "duration": 4,
    "start_time": "2023-05-26T16:29:10.300Z"
   },
   {
    "duration": 15,
    "start_time": "2023-05-26T16:29:10.305Z"
   },
   {
    "duration": 1636,
    "start_time": "2023-05-26T16:29:10.322Z"
   },
   {
    "duration": 120,
    "start_time": "2023-05-26T16:29:11.959Z"
   },
   {
    "duration": 15,
    "start_time": "2023-05-26T16:29:12.084Z"
   },
   {
    "duration": 5,
    "start_time": "2023-05-26T16:29:12.101Z"
   },
   {
    "duration": 147,
    "start_time": "2023-05-26T16:29:12.107Z"
   },
   {
    "duration": 121,
    "start_time": "2023-05-26T16:29:12.256Z"
   },
   {
    "duration": 135,
    "start_time": "2023-05-26T16:29:12.378Z"
   },
   {
    "duration": 183,
    "start_time": "2023-05-26T16:29:12.515Z"
   },
   {
    "duration": 65,
    "start_time": "2023-05-26T16:29:12.700Z"
   },
   {
    "duration": 136,
    "start_time": "2023-05-26T16:29:12.767Z"
   },
   {
    "duration": 120,
    "start_time": "2023-05-26T16:29:12.905Z"
   },
   {
    "duration": 114,
    "start_time": "2023-05-26T16:29:13.027Z"
   },
   {
    "duration": 8,
    "start_time": "2023-05-26T16:29:13.142Z"
   },
   {
    "duration": 35,
    "start_time": "2023-05-26T16:29:13.151Z"
   },
   {
    "duration": 14,
    "start_time": "2023-05-26T16:29:13.187Z"
   },
   {
    "duration": 10,
    "start_time": "2023-05-26T16:29:13.203Z"
   },
   {
    "duration": 133,
    "start_time": "2023-05-26T16:29:39.801Z"
   },
   {
    "duration": 121,
    "start_time": "2023-05-26T16:29:53.110Z"
   },
   {
    "duration": 119,
    "start_time": "2023-05-26T16:30:07.516Z"
   },
   {
    "duration": 139,
    "start_time": "2023-05-26T16:30:31.605Z"
   },
   {
    "duration": 132,
    "start_time": "2023-05-26T16:30:55.101Z"
   },
   {
    "duration": 141,
    "start_time": "2023-05-26T16:31:11.410Z"
   },
   {
    "duration": 174,
    "start_time": "2023-05-26T16:31:33.717Z"
   },
   {
    "duration": 190,
    "start_time": "2023-05-26T16:31:40.526Z"
   },
   {
    "duration": 262,
    "start_time": "2023-05-26T16:32:00.055Z"
   },
   {
    "duration": 1082,
    "start_time": "2023-05-26T16:53:28.052Z"
   },
   {
    "duration": 1306,
    "start_time": "2023-05-26T16:53:39.634Z"
   },
   {
    "duration": 169,
    "start_time": "2023-05-26T16:53:46.580Z"
   },
   {
    "duration": 133,
    "start_time": "2023-05-26T16:53:52.137Z"
   },
   {
    "duration": 60,
    "start_time": "2023-05-26T16:54:20.916Z"
   },
   {
    "duration": 345,
    "start_time": "2023-05-26T16:57:00.753Z"
   },
   {
    "duration": 225,
    "start_time": "2023-05-26T16:57:01.100Z"
   },
   {
    "duration": 2,
    "start_time": "2023-05-26T16:57:01.327Z"
   },
   {
    "duration": 176,
    "start_time": "2023-05-26T16:57:01.331Z"
   },
   {
    "duration": 15,
    "start_time": "2023-05-26T16:57:01.508Z"
   },
   {
    "duration": 87,
    "start_time": "2023-05-26T16:57:01.525Z"
   },
   {
    "duration": 1793,
    "start_time": "2023-05-26T16:57:01.613Z"
   },
   {
    "duration": 10,
    "start_time": "2023-05-26T16:57:03.408Z"
   },
   {
    "duration": 95,
    "start_time": "2023-05-26T16:57:03.420Z"
   },
   {
    "duration": 6,
    "start_time": "2023-05-26T16:57:03.519Z"
   },
   {
    "duration": 11,
    "start_time": "2023-05-26T16:57:03.527Z"
   },
   {
    "duration": 7,
    "start_time": "2023-05-26T16:57:03.539Z"
   },
   {
    "duration": 18,
    "start_time": "2023-05-26T16:57:03.548Z"
   },
   {
    "duration": 36,
    "start_time": "2023-05-26T16:57:03.568Z"
   },
   {
    "duration": 10,
    "start_time": "2023-05-26T16:57:03.606Z"
   },
   {
    "duration": 11,
    "start_time": "2023-05-26T16:57:03.618Z"
   },
   {
    "duration": 10,
    "start_time": "2023-05-26T16:57:03.631Z"
   },
   {
    "duration": 11,
    "start_time": "2023-05-26T16:57:03.643Z"
   },
   {
    "duration": 55,
    "start_time": "2023-05-26T16:57:03.655Z"
   },
   {
    "duration": 3,
    "start_time": "2023-05-26T16:57:03.713Z"
   },
   {
    "duration": 11,
    "start_time": "2023-05-26T16:57:03.717Z"
   },
   {
    "duration": 11,
    "start_time": "2023-05-26T16:57:03.729Z"
   },
   {
    "duration": 11,
    "start_time": "2023-05-26T16:57:03.741Z"
   },
   {
    "duration": 8,
    "start_time": "2023-05-26T16:57:03.753Z"
   },
   {
    "duration": 39,
    "start_time": "2023-05-26T16:57:03.763Z"
   },
   {
    "duration": 12,
    "start_time": "2023-05-26T16:57:03.805Z"
   },
   {
    "duration": 1243,
    "start_time": "2023-05-26T16:57:03.819Z"
   },
   {
    "duration": 8,
    "start_time": "2023-05-26T16:57:05.066Z"
   },
   {
    "duration": 31,
    "start_time": "2023-05-26T16:57:05.075Z"
   },
   {
    "duration": 25,
    "start_time": "2023-05-26T16:57:05.107Z"
   },
   {
    "duration": 28,
    "start_time": "2023-05-26T16:57:05.133Z"
   },
   {
    "duration": 9,
    "start_time": "2023-05-26T16:57:05.163Z"
   },
   {
    "duration": 25,
    "start_time": "2023-05-26T16:57:05.173Z"
   },
   {
    "duration": 26,
    "start_time": "2023-05-26T16:57:05.202Z"
   },
   {
    "duration": 12,
    "start_time": "2023-05-26T16:57:05.229Z"
   },
   {
    "duration": 13,
    "start_time": "2023-05-26T16:57:05.242Z"
   },
   {
    "duration": 15,
    "start_time": "2023-05-26T16:57:05.257Z"
   },
   {
    "duration": 44,
    "start_time": "2023-05-26T16:57:05.274Z"
   },
   {
    "duration": 8,
    "start_time": "2023-05-26T16:57:05.320Z"
   },
   {
    "duration": 9,
    "start_time": "2023-05-26T16:57:05.329Z"
   },
   {
    "duration": 8,
    "start_time": "2023-05-26T16:57:05.339Z"
   },
   {
    "duration": 4,
    "start_time": "2023-05-26T16:57:05.348Z"
   },
   {
    "duration": 443,
    "start_time": "2023-05-26T16:57:05.353Z"
   },
   {
    "duration": 5,
    "start_time": "2023-05-26T16:57:05.807Z"
   },
   {
    "duration": 12,
    "start_time": "2023-05-26T16:57:05.814Z"
   },
   {
    "duration": 1816,
    "start_time": "2023-05-26T16:57:05.828Z"
   },
   {
    "duration": 125,
    "start_time": "2023-05-26T16:57:07.645Z"
   },
   {
    "duration": 3,
    "start_time": "2023-05-26T16:57:07.771Z"
   },
   {
    "duration": 16,
    "start_time": "2023-05-26T16:57:07.795Z"
   },
   {
    "duration": 152,
    "start_time": "2023-05-26T16:57:07.813Z"
   },
   {
    "duration": 148,
    "start_time": "2023-05-26T16:57:07.967Z"
   },
   {
    "duration": 125,
    "start_time": "2023-05-26T16:57:08.116Z"
   },
   {
    "duration": 192,
    "start_time": "2023-05-26T16:57:08.242Z"
   },
   {
    "duration": 80,
    "start_time": "2023-05-26T16:57:08.436Z"
   },
   {
    "duration": 157,
    "start_time": "2023-05-26T16:57:08.517Z"
   },
   {
    "duration": 242,
    "start_time": "2023-05-26T16:57:08.675Z"
   },
   {
    "duration": 120,
    "start_time": "2023-05-26T16:57:08.918Z"
   },
   {
    "duration": 8,
    "start_time": "2023-05-26T16:57:09.040Z"
   },
   {
    "duration": 20,
    "start_time": "2023-05-26T16:57:09.049Z"
   },
   {
    "duration": 17,
    "start_time": "2023-05-26T16:57:09.090Z"
   },
   {
    "duration": 5,
    "start_time": "2023-05-26T16:57:09.109Z"
   },
   {
    "duration": 85,
    "start_time": "2023-05-26T16:57:09.116Z"
   },
   {
    "duration": 0,
    "start_time": "2023-05-26T16:57:09.208Z"
   },
   {
    "duration": 3,
    "start_time": "2023-05-26T16:57:19.108Z"
   },
   {
    "duration": 8,
    "start_time": "2023-05-26T16:57:21.265Z"
   },
   {
    "duration": 2,
    "start_time": "2023-05-26T16:57:45.066Z"
   },
   {
    "duration": 297,
    "start_time": "2023-05-26T16:57:47.504Z"
   },
   {
    "duration": 574,
    "start_time": "2023-05-26T16:58:15.096Z"
   },
   {
    "duration": 581,
    "start_time": "2023-05-26T16:58:45.829Z"
   },
   {
    "duration": 9,
    "start_time": "2023-05-26T17:05:39.750Z"
   },
   {
    "duration": 4,
    "start_time": "2023-05-26T17:05:48.605Z"
   },
   {
    "duration": 7,
    "start_time": "2023-05-26T17:05:51.050Z"
   },
   {
    "duration": 4,
    "start_time": "2023-05-26T17:06:09.409Z"
   },
   {
    "duration": 236,
    "start_time": "2023-05-26T17:06:11.758Z"
   },
   {
    "duration": 3,
    "start_time": "2023-05-26T17:06:34.238Z"
   },
   {
    "duration": 399,
    "start_time": "2023-05-26T17:06:36.770Z"
   },
   {
    "duration": 445,
    "start_time": "2023-05-26T17:06:46.306Z"
   },
   {
    "duration": 321,
    "start_time": "2023-05-26T17:06:54.024Z"
   },
   {
    "duration": 41,
    "start_time": "2023-05-26T17:07:27.423Z"
   },
   {
    "duration": 7,
    "start_time": "2023-05-26T17:07:32.010Z"
   },
   {
    "duration": 378,
    "start_time": "2023-05-26T17:07:50.495Z"
   },
   {
    "duration": 181,
    "start_time": "2023-05-26T17:13:02.591Z"
   },
   {
    "duration": 422,
    "start_time": "2023-05-27T12:11:32.110Z"
   },
   {
    "duration": 299,
    "start_time": "2023-05-27T12:11:32.533Z"
   },
   {
    "duration": 3,
    "start_time": "2023-05-27T12:11:32.834Z"
   },
   {
    "duration": 194,
    "start_time": "2023-05-27T12:11:32.839Z"
   },
   {
    "duration": 15,
    "start_time": "2023-05-27T12:11:33.035Z"
   },
   {
    "duration": 45,
    "start_time": "2023-05-27T12:11:33.053Z"
   },
   {
    "duration": 2312,
    "start_time": "2023-05-27T12:11:33.103Z"
   },
   {
    "duration": 9,
    "start_time": "2023-05-27T12:11:35.416Z"
   },
   {
    "duration": 91,
    "start_time": "2023-05-27T12:11:35.427Z"
   },
   {
    "duration": 6,
    "start_time": "2023-05-27T12:11:35.520Z"
   },
   {
    "duration": 12,
    "start_time": "2023-05-27T12:11:35.528Z"
   },
   {
    "duration": 8,
    "start_time": "2023-05-27T12:11:35.543Z"
   },
   {
    "duration": 38,
    "start_time": "2023-05-27T12:11:35.553Z"
   },
   {
    "duration": 14,
    "start_time": "2023-05-27T12:11:35.595Z"
   },
   {
    "duration": 8,
    "start_time": "2023-05-27T12:11:35.611Z"
   },
   {
    "duration": 9,
    "start_time": "2023-05-27T12:11:35.620Z"
   },
   {
    "duration": 12,
    "start_time": "2023-05-27T12:11:35.630Z"
   },
   {
    "duration": 51,
    "start_time": "2023-05-27T12:11:35.643Z"
   },
   {
    "duration": 42,
    "start_time": "2023-05-27T12:11:35.696Z"
   },
   {
    "duration": 3,
    "start_time": "2023-05-27T12:11:35.740Z"
   },
   {
    "duration": 17,
    "start_time": "2023-05-27T12:11:35.745Z"
   },
   {
    "duration": 24,
    "start_time": "2023-05-27T12:11:35.763Z"
   },
   {
    "duration": 15,
    "start_time": "2023-05-27T12:11:35.789Z"
   },
   {
    "duration": 10,
    "start_time": "2023-05-27T12:11:35.808Z"
   },
   {
    "duration": 21,
    "start_time": "2023-05-27T12:11:35.819Z"
   },
   {
    "duration": 20,
    "start_time": "2023-05-27T12:11:35.842Z"
   },
   {
    "duration": 1582,
    "start_time": "2023-05-27T12:11:35.864Z"
   },
   {
    "duration": 9,
    "start_time": "2023-05-27T12:11:37.447Z"
   },
   {
    "duration": 9,
    "start_time": "2023-05-27T12:11:37.458Z"
   },
   {
    "duration": 10,
    "start_time": "2023-05-27T12:11:37.480Z"
   },
   {
    "duration": 38,
    "start_time": "2023-05-27T12:11:37.491Z"
   },
   {
    "duration": 10,
    "start_time": "2023-05-27T12:11:37.530Z"
   },
   {
    "duration": 15,
    "start_time": "2023-05-27T12:11:37.541Z"
   },
   {
    "duration": 40,
    "start_time": "2023-05-27T12:11:37.557Z"
   },
   {
    "duration": 11,
    "start_time": "2023-05-27T12:11:37.599Z"
   },
   {
    "duration": 7,
    "start_time": "2023-05-27T12:11:37.611Z"
   },
   {
    "duration": 6,
    "start_time": "2023-05-27T12:11:37.619Z"
   },
   {
    "duration": 73,
    "start_time": "2023-05-27T12:11:37.626Z"
   },
   {
    "duration": 7,
    "start_time": "2023-05-27T12:11:37.700Z"
   },
   {
    "duration": 13,
    "start_time": "2023-05-27T12:11:37.709Z"
   },
   {
    "duration": 6,
    "start_time": "2023-05-27T12:11:37.726Z"
   },
   {
    "duration": 7,
    "start_time": "2023-05-27T12:11:37.733Z"
   },
   {
    "duration": 490,
    "start_time": "2023-05-27T12:11:37.741Z"
   },
   {
    "duration": 5,
    "start_time": "2023-05-27T12:11:38.232Z"
   },
   {
    "duration": 13,
    "start_time": "2023-05-27T12:11:38.239Z"
   },
   {
    "duration": 2243,
    "start_time": "2023-05-27T12:11:38.253Z"
   },
   {
    "duration": 146,
    "start_time": "2023-05-27T12:11:40.499Z"
   },
   {
    "duration": 5,
    "start_time": "2023-05-27T12:11:40.646Z"
   },
   {
    "duration": 6,
    "start_time": "2023-05-27T12:11:40.652Z"
   },
   {
    "duration": 190,
    "start_time": "2023-05-27T12:11:40.659Z"
   },
   {
    "duration": 181,
    "start_time": "2023-05-27T12:11:40.851Z"
   },
   {
    "duration": 168,
    "start_time": "2023-05-27T12:11:41.034Z"
   },
   {
    "duration": 244,
    "start_time": "2023-05-27T12:11:41.204Z"
   },
   {
    "duration": 95,
    "start_time": "2023-05-27T12:11:41.450Z"
   },
   {
    "duration": 218,
    "start_time": "2023-05-27T12:11:41.546Z"
   },
   {
    "duration": 337,
    "start_time": "2023-05-27T12:11:41.766Z"
   },
   {
    "duration": 154,
    "start_time": "2023-05-27T12:11:42.105Z"
   },
   {
    "duration": 9,
    "start_time": "2023-05-27T12:11:42.260Z"
   },
   {
    "duration": 37,
    "start_time": "2023-05-27T12:11:42.274Z"
   },
   {
    "duration": 11,
    "start_time": "2023-05-27T12:11:42.313Z"
   },
   {
    "duration": 3,
    "start_time": "2023-05-27T12:11:42.325Z"
   },
   {
    "duration": 616,
    "start_time": "2023-05-27T12:11:42.329Z"
   },
   {
    "duration": 479,
    "start_time": "2023-05-27T12:11:42.948Z"
   },
   {
    "duration": 156,
    "start_time": "2023-05-27T12:11:43.429Z"
   },
   {
    "duration": 62,
    "start_time": "2023-05-27T14:10:21.059Z"
   },
   {
    "duration": 49,
    "start_time": "2023-05-27T14:22:04.256Z"
   },
   {
    "duration": 451,
    "start_time": "2023-05-27T14:22:10.524Z"
   },
   {
    "duration": 477,
    "start_time": "2023-05-27T14:22:10.977Z"
   },
   {
    "duration": 3,
    "start_time": "2023-05-27T14:22:11.456Z"
   },
   {
    "duration": 640,
    "start_time": "2023-05-27T14:22:11.462Z"
   },
   {
    "duration": 18,
    "start_time": "2023-05-27T14:22:12.104Z"
   },
   {
    "duration": 30,
    "start_time": "2023-05-27T14:22:12.125Z"
   },
   {
    "duration": 2125,
    "start_time": "2023-05-27T14:22:12.157Z"
   },
   {
    "duration": 11,
    "start_time": "2023-05-27T14:22:14.284Z"
   },
   {
    "duration": 88,
    "start_time": "2023-05-27T14:22:14.297Z"
   },
   {
    "duration": 7,
    "start_time": "2023-05-27T14:22:14.391Z"
   },
   {
    "duration": 25,
    "start_time": "2023-05-27T14:22:14.400Z"
   },
   {
    "duration": 10,
    "start_time": "2023-05-27T14:22:14.427Z"
   },
   {
    "duration": 20,
    "start_time": "2023-05-27T14:22:14.439Z"
   },
   {
    "duration": 8,
    "start_time": "2023-05-27T14:22:14.461Z"
   },
   {
    "duration": 75,
    "start_time": "2023-05-27T14:22:14.470Z"
   },
   {
    "duration": 9,
    "start_time": "2023-05-27T14:22:14.547Z"
   },
   {
    "duration": 8,
    "start_time": "2023-05-27T14:22:14.558Z"
   },
   {
    "duration": 19,
    "start_time": "2023-05-27T14:22:14.568Z"
   },
   {
    "duration": 43,
    "start_time": "2023-05-27T14:22:14.590Z"
   },
   {
    "duration": 35,
    "start_time": "2023-05-27T14:22:14.635Z"
   },
   {
    "duration": 4,
    "start_time": "2023-05-27T14:22:14.671Z"
   },
   {
    "duration": 14,
    "start_time": "2023-05-27T14:22:14.676Z"
   },
   {
    "duration": 36,
    "start_time": "2023-05-27T14:22:14.692Z"
   },
   {
    "duration": 11,
    "start_time": "2023-05-27T14:22:14.730Z"
   },
   {
    "duration": 12,
    "start_time": "2023-05-27T14:22:14.743Z"
   },
   {
    "duration": 10,
    "start_time": "2023-05-27T14:22:14.757Z"
   },
   {
    "duration": 13,
    "start_time": "2023-05-27T14:22:14.769Z"
   },
   {
    "duration": 1458,
    "start_time": "2023-05-27T14:22:14.786Z"
   },
   {
    "duration": 12,
    "start_time": "2023-05-27T14:22:16.246Z"
   },
   {
    "duration": 24,
    "start_time": "2023-05-27T14:22:16.260Z"
   },
   {
    "duration": 18,
    "start_time": "2023-05-27T14:22:16.286Z"
   },
   {
    "duration": 42,
    "start_time": "2023-05-27T14:22:16.306Z"
   },
   {
    "duration": 11,
    "start_time": "2023-05-27T14:22:16.350Z"
   },
   {
    "duration": 16,
    "start_time": "2023-05-27T14:22:16.363Z"
   },
   {
    "duration": 42,
    "start_time": "2023-05-27T14:22:16.381Z"
   },
   {
    "duration": 21,
    "start_time": "2023-05-27T14:22:16.425Z"
   },
   {
    "duration": 37,
    "start_time": "2023-05-27T14:22:16.448Z"
   },
   {
    "duration": 16,
    "start_time": "2023-05-27T14:22:16.487Z"
   },
   {
    "duration": 42,
    "start_time": "2023-05-27T14:22:16.505Z"
   },
   {
    "duration": 8,
    "start_time": "2023-05-27T14:22:16.549Z"
   },
   {
    "duration": 26,
    "start_time": "2023-05-27T14:22:16.559Z"
   },
   {
    "duration": 19,
    "start_time": "2023-05-27T14:22:16.587Z"
   },
   {
    "duration": 19,
    "start_time": "2023-05-27T14:22:16.609Z"
   },
   {
    "duration": 437,
    "start_time": "2023-05-27T14:22:16.631Z"
   },
   {
    "duration": 5,
    "start_time": "2023-05-27T14:22:17.070Z"
   },
   {
    "duration": 34,
    "start_time": "2023-05-27T14:22:17.077Z"
   },
   {
    "duration": 2121,
    "start_time": "2023-05-27T14:22:17.113Z"
   },
   {
    "duration": 173,
    "start_time": "2023-05-27T14:22:19.236Z"
   },
   {
    "duration": 5,
    "start_time": "2023-05-27T14:22:19.411Z"
   },
   {
    "duration": 11,
    "start_time": "2023-05-27T14:22:19.426Z"
   },
   {
    "duration": 181,
    "start_time": "2023-05-27T14:22:19.439Z"
   },
   {
    "duration": 171,
    "start_time": "2023-05-27T14:22:19.626Z"
   },
   {
    "duration": 165,
    "start_time": "2023-05-27T14:22:19.799Z"
   },
   {
    "duration": 243,
    "start_time": "2023-05-27T14:22:19.967Z"
   },
   {
    "duration": 95,
    "start_time": "2023-05-27T14:22:20.213Z"
   },
   {
    "duration": 235,
    "start_time": "2023-05-27T14:22:20.310Z"
   },
   {
    "duration": 325,
    "start_time": "2023-05-27T14:22:20.547Z"
   },
   {
    "duration": 175,
    "start_time": "2023-05-27T14:22:20.875Z"
   },
   {
    "duration": 13,
    "start_time": "2023-05-27T14:22:21.052Z"
   },
   {
    "duration": 60,
    "start_time": "2023-05-27T14:22:21.066Z"
   },
   {
    "duration": 28,
    "start_time": "2023-05-27T14:22:21.128Z"
   },
   {
    "duration": 27,
    "start_time": "2023-05-27T14:22:21.158Z"
   },
   {
    "duration": 595,
    "start_time": "2023-05-27T14:22:21.187Z"
   },
   {
    "duration": 482,
    "start_time": "2023-05-27T14:22:21.784Z"
   },
   {
    "duration": 157,
    "start_time": "2023-05-27T14:22:22.268Z"
   },
   {
    "duration": 1139,
    "start_time": "2023-05-27T14:25:09.813Z"
   },
   {
    "duration": 18,
    "start_time": "2023-05-27T14:25:23.129Z"
   },
   {
    "duration": 40,
    "start_time": "2023-05-27T14:27:52.663Z"
   },
   {
    "duration": 34,
    "start_time": "2023-05-27T14:28:01.464Z"
   },
   {
    "duration": 4,
    "start_time": "2023-05-27T14:31:54.121Z"
   },
   {
    "duration": 11,
    "start_time": "2023-05-27T14:33:44.422Z"
   },
   {
    "duration": 11,
    "start_time": "2023-05-27T14:33:51.139Z"
   },
   {
    "duration": 18,
    "start_time": "2023-05-27T14:34:02.920Z"
   },
   {
    "duration": 14,
    "start_time": "2023-05-27T14:36:11.117Z"
   },
   {
    "duration": 17,
    "start_time": "2023-05-27T14:36:30.094Z"
   },
   {
    "duration": 5,
    "start_time": "2023-05-27T14:36:44.044Z"
   },
   {
    "duration": 22,
    "start_time": "2023-05-27T14:38:53.724Z"
   },
   {
    "duration": 5,
    "start_time": "2023-05-27T14:39:21.032Z"
   },
   {
    "duration": 9,
    "start_time": "2023-05-27T14:39:29.176Z"
   },
   {
    "duration": 7,
    "start_time": "2023-05-27T14:39:30.717Z"
   },
   {
    "duration": 248,
    "start_time": "2023-05-27T14:41:40.352Z"
   },
   {
    "duration": 141,
    "start_time": "2023-05-27T14:41:52.987Z"
   },
   {
    "duration": 140,
    "start_time": "2023-05-27T14:42:04.775Z"
   },
   {
    "duration": 164,
    "start_time": "2023-05-27T14:44:23.023Z"
   },
   {
    "duration": 172,
    "start_time": "2023-05-27T14:44:42.173Z"
   },
   {
    "duration": 135,
    "start_time": "2023-05-27T14:49:15.691Z"
   },
   {
    "duration": 139,
    "start_time": "2023-05-27T14:49:24.461Z"
   },
   {
    "duration": 133,
    "start_time": "2023-05-27T14:49:31.379Z"
   },
   {
    "duration": 143,
    "start_time": "2023-05-27T14:49:34.911Z"
   },
   {
    "duration": 155,
    "start_time": "2023-05-27T14:49:45.676Z"
   },
   {
    "duration": 139,
    "start_time": "2023-05-27T14:50:10.138Z"
   },
   {
    "duration": 232,
    "start_time": "2023-05-27T14:50:57.200Z"
   },
   {
    "duration": 129,
    "start_time": "2023-05-27T14:51:04.205Z"
   },
   {
    "duration": 139,
    "start_time": "2023-05-27T14:51:09.048Z"
   },
   {
    "duration": 125,
    "start_time": "2023-05-27T14:51:15.785Z"
   },
   {
    "duration": 147,
    "start_time": "2023-05-27T14:51:21.181Z"
   },
   {
    "duration": 155,
    "start_time": "2023-05-27T14:51:27.335Z"
   },
   {
    "duration": 135,
    "start_time": "2023-05-27T14:51:33.082Z"
   },
   {
    "duration": 137,
    "start_time": "2023-05-27T14:51:40.408Z"
   },
   {
    "duration": 131,
    "start_time": "2023-05-27T14:51:56.305Z"
   },
   {
    "duration": 154,
    "start_time": "2023-05-27T14:52:01.852Z"
   },
   {
    "duration": 141,
    "start_time": "2023-05-27T14:52:10.775Z"
   },
   {
    "duration": 204,
    "start_time": "2023-05-27T14:52:15.505Z"
   },
   {
    "duration": 149,
    "start_time": "2023-05-27T14:54:31.652Z"
   },
   {
    "duration": 151,
    "start_time": "2023-05-27T14:54:49.249Z"
   },
   {
    "duration": 124,
    "start_time": "2023-05-27T14:55:12.551Z"
   },
   {
    "duration": 137,
    "start_time": "2023-05-27T14:55:24.522Z"
   },
   {
    "duration": 18,
    "start_time": "2023-05-27T15:06:33.532Z"
   },
   {
    "duration": 16,
    "start_time": "2023-05-27T15:07:40.598Z"
   },
   {
    "duration": 16,
    "start_time": "2023-05-27T15:07:54.994Z"
   },
   {
    "duration": 30,
    "start_time": "2023-05-27T15:08:03.828Z"
   },
   {
    "duration": 167,
    "start_time": "2023-05-27T15:08:44.612Z"
   },
   {
    "duration": 156,
    "start_time": "2023-05-27T15:08:50.111Z"
   },
   {
    "duration": 177,
    "start_time": "2023-05-27T15:09:02.719Z"
   },
   {
    "duration": 163,
    "start_time": "2023-05-27T15:09:38.398Z"
   },
   {
    "duration": 21,
    "start_time": "2023-05-27T15:09:46.798Z"
   },
   {
    "duration": 249,
    "start_time": "2023-05-27T15:10:07.030Z"
   },
   {
    "duration": 161,
    "start_time": "2023-05-27T15:10:30.742Z"
   },
   {
    "duration": 306,
    "start_time": "2023-05-27T15:10:40.861Z"
   },
   {
    "duration": 206,
    "start_time": "2023-05-27T15:11:00.621Z"
   },
   {
    "duration": 181,
    "start_time": "2023-05-27T15:12:25.998Z"
   },
   {
    "duration": 183,
    "start_time": "2023-05-27T15:13:06.377Z"
   },
   {
    "duration": 184,
    "start_time": "2023-05-27T15:14:41.637Z"
   },
   {
    "duration": 169,
    "start_time": "2023-05-27T15:14:46.491Z"
   },
   {
    "duration": 516,
    "start_time": "2023-05-27T15:20:13.399Z"
   },
   {
    "duration": 211,
    "start_time": "2023-05-27T15:20:13.918Z"
   },
   {
    "duration": 2,
    "start_time": "2023-05-27T15:20:14.131Z"
   },
   {
    "duration": 103,
    "start_time": "2023-05-27T15:20:14.136Z"
   },
   {
    "duration": 15,
    "start_time": "2023-05-27T15:20:14.241Z"
   },
   {
    "duration": 29,
    "start_time": "2023-05-27T15:20:14.257Z"
   },
   {
    "duration": 2038,
    "start_time": "2023-05-27T15:20:14.287Z"
   },
   {
    "duration": 9,
    "start_time": "2023-05-27T15:20:16.327Z"
   },
   {
    "duration": 83,
    "start_time": "2023-05-27T15:20:16.337Z"
   },
   {
    "duration": 6,
    "start_time": "2023-05-27T15:20:16.422Z"
   },
   {
    "duration": 39,
    "start_time": "2023-05-27T15:20:16.429Z"
   },
   {
    "duration": 13,
    "start_time": "2023-05-27T15:20:16.470Z"
   },
   {
    "duration": 33,
    "start_time": "2023-05-27T15:20:16.485Z"
   },
   {
    "duration": 14,
    "start_time": "2023-05-27T15:20:16.519Z"
   },
   {
    "duration": 38,
    "start_time": "2023-05-27T15:20:16.535Z"
   },
   {
    "duration": 4,
    "start_time": "2023-05-27T15:20:16.574Z"
   },
   {
    "duration": 29,
    "start_time": "2023-05-27T15:20:16.580Z"
   },
   {
    "duration": 4,
    "start_time": "2023-05-27T15:20:16.610Z"
   },
   {
    "duration": 43,
    "start_time": "2023-05-27T15:20:16.616Z"
   },
   {
    "duration": 4,
    "start_time": "2023-05-27T15:20:16.660Z"
   },
   {
    "duration": 19,
    "start_time": "2023-05-27T15:20:16.665Z"
   },
   {
    "duration": 11,
    "start_time": "2023-05-27T15:20:16.686Z"
   },
   {
    "duration": 13,
    "start_time": "2023-05-27T15:20:16.698Z"
   },
   {
    "duration": 13,
    "start_time": "2023-05-27T15:20:16.712Z"
   },
   {
    "duration": 9,
    "start_time": "2023-05-27T15:20:16.727Z"
   },
   {
    "duration": 11,
    "start_time": "2023-05-27T15:20:16.737Z"
   },
   {
    "duration": 1286,
    "start_time": "2023-05-27T15:20:16.749Z"
   },
   {
    "duration": 10,
    "start_time": "2023-05-27T15:20:18.038Z"
   },
   {
    "duration": 30,
    "start_time": "2023-05-27T15:20:18.049Z"
   },
   {
    "duration": 24,
    "start_time": "2023-05-27T15:20:18.081Z"
   },
   {
    "duration": 33,
    "start_time": "2023-05-27T15:20:18.106Z"
   },
   {
    "duration": 10,
    "start_time": "2023-05-27T15:20:18.140Z"
   },
   {
    "duration": 18,
    "start_time": "2023-05-27T15:20:18.151Z"
   },
   {
    "duration": 16,
    "start_time": "2023-05-27T15:20:18.171Z"
   },
   {
    "duration": 6,
    "start_time": "2023-05-27T15:20:18.189Z"
   },
   {
    "duration": 7,
    "start_time": "2023-05-27T15:20:18.196Z"
   },
   {
    "duration": 22,
    "start_time": "2023-05-27T15:20:18.204Z"
   },
   {
    "duration": 35,
    "start_time": "2023-05-27T15:20:18.228Z"
   },
   {
    "duration": 3,
    "start_time": "2023-05-27T15:20:18.265Z"
   },
   {
    "duration": 8,
    "start_time": "2023-05-27T15:20:18.270Z"
   },
   {
    "duration": 7,
    "start_time": "2023-05-27T15:20:18.280Z"
   },
   {
    "duration": 12,
    "start_time": "2023-05-27T15:20:18.288Z"
   },
   {
    "duration": 382,
    "start_time": "2023-05-27T15:20:18.302Z"
   },
   {
    "duration": 5,
    "start_time": "2023-05-27T15:20:18.685Z"
   },
   {
    "duration": 35,
    "start_time": "2023-05-27T15:20:18.691Z"
   },
   {
    "duration": 1902,
    "start_time": "2023-05-27T15:20:18.727Z"
   },
   {
    "duration": 134,
    "start_time": "2023-05-27T15:20:20.630Z"
   },
   {
    "duration": 4,
    "start_time": "2023-05-27T15:20:20.765Z"
   },
   {
    "duration": 25,
    "start_time": "2023-05-27T15:20:20.771Z"
   },
   {
    "duration": 162,
    "start_time": "2023-05-27T15:20:20.797Z"
   },
   {
    "duration": 173,
    "start_time": "2023-05-27T15:20:20.961Z"
   },
   {
    "duration": 144,
    "start_time": "2023-05-27T15:20:21.136Z"
   },
   {
    "duration": 209,
    "start_time": "2023-05-27T15:20:21.281Z"
   },
   {
    "duration": 115,
    "start_time": "2023-05-27T15:20:21.491Z"
   },
   {
    "duration": 135,
    "start_time": "2023-05-27T15:20:21.608Z"
   },
   {
    "duration": 133,
    "start_time": "2023-05-27T15:20:21.745Z"
   },
   {
    "duration": 133,
    "start_time": "2023-05-27T15:20:21.880Z"
   },
   {
    "duration": 13,
    "start_time": "2023-05-27T15:20:22.014Z"
   },
   {
    "duration": 29,
    "start_time": "2023-05-27T15:20:22.028Z"
   },
   {
    "duration": 163,
    "start_time": "2023-05-27T15:20:22.059Z"
   },
   {
    "duration": 3,
    "start_time": "2023-05-27T15:20:22.224Z"
   },
   {
    "duration": 502,
    "start_time": "2023-05-27T15:20:22.228Z"
   },
   {
    "duration": 417,
    "start_time": "2023-05-27T15:20:22.732Z"
   },
   {
    "duration": 199,
    "start_time": "2023-05-27T15:20:23.150Z"
   },
   {
    "duration": 136,
    "start_time": "2023-05-27T15:21:10.259Z"
   },
   {
    "duration": 160,
    "start_time": "2023-05-27T15:22:01.506Z"
   },
   {
    "duration": 173,
    "start_time": "2023-05-27T15:22:10.807Z"
   },
   {
    "duration": 801,
    "start_time": "2023-05-27T15:51:23.828Z"
   },
   {
    "duration": 680,
    "start_time": "2023-05-27T15:51:37.544Z"
   },
   {
    "duration": 29,
    "start_time": "2023-05-27T15:53:39.692Z"
   },
   {
    "duration": 780,
    "start_time": "2023-05-27T15:56:04.473Z"
   },
   {
    "duration": 3,
    "start_time": "2023-05-27T15:57:31.740Z"
   },
   {
    "duration": 425,
    "start_time": "2023-05-27T15:57:44.170Z"
   },
   {
    "duration": 314,
    "start_time": "2023-05-27T15:57:53.333Z"
   },
   {
    "duration": 238,
    "start_time": "2023-05-27T15:57:58.839Z"
   },
   {
    "duration": 253,
    "start_time": "2023-05-27T15:58:03.598Z"
   },
   {
    "duration": 305,
    "start_time": "2023-05-27T15:58:36.437Z"
   },
   {
    "duration": 302,
    "start_time": "2023-05-27T15:58:41.698Z"
   },
   {
    "duration": 308,
    "start_time": "2023-05-27T15:58:46.318Z"
   },
   {
    "duration": 74,
    "start_time": "2023-05-27T15:59:17.737Z"
   },
   {
    "duration": 34,
    "start_time": "2023-05-27T15:59:25.080Z"
   },
   {
    "duration": 15,
    "start_time": "2023-05-27T15:59:49.241Z"
   },
   {
    "duration": 303,
    "start_time": "2023-05-27T16:07:10.782Z"
   },
   {
    "duration": 242,
    "start_time": "2023-05-27T16:07:18.917Z"
   },
   {
    "duration": 201,
    "start_time": "2023-05-27T16:11:44.012Z"
   },
   {
    "duration": 193,
    "start_time": "2023-05-27T16:12:38.820Z"
   },
   {
    "duration": 220,
    "start_time": "2023-05-27T16:24:41.475Z"
   },
   {
    "duration": 316,
    "start_time": "2023-05-27T16:25:01.203Z"
   },
   {
    "duration": 220,
    "start_time": "2023-05-27T16:25:07.423Z"
   },
   {
    "duration": 223,
    "start_time": "2023-05-27T16:25:13.114Z"
   },
   {
    "duration": 220,
    "start_time": "2023-05-27T16:25:18.867Z"
   },
   {
    "duration": 216,
    "start_time": "2023-05-27T16:25:39.029Z"
   },
   {
    "duration": 195,
    "start_time": "2023-05-27T16:25:51.589Z"
   },
   {
    "duration": 209,
    "start_time": "2023-05-27T16:31:10.338Z"
   },
   {
    "duration": 132,
    "start_time": "2023-05-27T16:31:19.098Z"
   },
   {
    "duration": 408,
    "start_time": "2023-05-27T16:34:48.309Z"
   },
   {
    "duration": 206,
    "start_time": "2023-05-27T16:34:48.718Z"
   },
   {
    "duration": 2,
    "start_time": "2023-05-27T16:34:48.926Z"
   },
   {
    "duration": 99,
    "start_time": "2023-05-27T16:34:48.929Z"
   },
   {
    "duration": 14,
    "start_time": "2023-05-27T16:34:49.030Z"
   },
   {
    "duration": 28,
    "start_time": "2023-05-27T16:34:49.045Z"
   },
   {
    "duration": 1999,
    "start_time": "2023-05-27T16:34:49.074Z"
   },
   {
    "duration": 12,
    "start_time": "2023-05-27T16:34:51.075Z"
   },
   {
    "duration": 102,
    "start_time": "2023-05-27T16:34:51.089Z"
   },
   {
    "duration": 7,
    "start_time": "2023-05-27T16:34:51.194Z"
   },
   {
    "duration": 44,
    "start_time": "2023-05-27T16:34:51.203Z"
   },
   {
    "duration": 48,
    "start_time": "2023-05-27T16:34:51.249Z"
   },
   {
    "duration": 49,
    "start_time": "2023-05-27T16:34:51.299Z"
   },
   {
    "duration": 40,
    "start_time": "2023-05-27T16:34:51.350Z"
   },
   {
    "duration": 50,
    "start_time": "2023-05-27T16:34:51.392Z"
   },
   {
    "duration": 30,
    "start_time": "2023-05-27T16:34:51.443Z"
   },
   {
    "duration": 40,
    "start_time": "2023-05-27T16:34:51.475Z"
   },
   {
    "duration": 36,
    "start_time": "2023-05-27T16:34:51.517Z"
   },
   {
    "duration": 85,
    "start_time": "2023-05-27T16:34:51.554Z"
   },
   {
    "duration": 4,
    "start_time": "2023-05-27T16:34:51.641Z"
   },
   {
    "duration": 36,
    "start_time": "2023-05-27T16:34:51.647Z"
   },
   {
    "duration": 31,
    "start_time": "2023-05-27T16:34:51.684Z"
   },
   {
    "duration": 38,
    "start_time": "2023-05-27T16:34:51.717Z"
   },
   {
    "duration": 33,
    "start_time": "2023-05-27T16:34:51.757Z"
   },
   {
    "duration": 171,
    "start_time": "2023-05-27T16:34:51.792Z"
   },
   {
    "duration": 33,
    "start_time": "2023-05-27T16:34:51.964Z"
   },
   {
    "duration": 1300,
    "start_time": "2023-05-27T16:34:51.999Z"
   },
   {
    "duration": 21,
    "start_time": "2023-05-27T16:34:53.304Z"
   },
   {
    "duration": 30,
    "start_time": "2023-05-27T16:34:53.327Z"
   },
   {
    "duration": 26,
    "start_time": "2023-05-27T16:34:53.359Z"
   },
   {
    "duration": 58,
    "start_time": "2023-05-27T16:34:53.386Z"
   },
   {
    "duration": 41,
    "start_time": "2023-05-27T16:34:53.445Z"
   },
   {
    "duration": 44,
    "start_time": "2023-05-27T16:34:53.487Z"
   },
   {
    "duration": 30,
    "start_time": "2023-05-27T16:34:53.532Z"
   },
   {
    "duration": 6,
    "start_time": "2023-05-27T16:34:53.564Z"
   },
   {
    "duration": 40,
    "start_time": "2023-05-27T16:34:53.572Z"
   },
   {
    "duration": 19,
    "start_time": "2023-05-27T16:34:53.614Z"
   },
   {
    "duration": 80,
    "start_time": "2023-05-27T16:34:53.635Z"
   },
   {
    "duration": 4,
    "start_time": "2023-05-27T16:34:53.717Z"
   },
   {
    "duration": 21,
    "start_time": "2023-05-27T16:34:53.723Z"
   },
   {
    "duration": 11,
    "start_time": "2023-05-27T16:34:53.746Z"
   },
   {
    "duration": 32,
    "start_time": "2023-05-27T16:34:53.758Z"
   },
   {
    "duration": 414,
    "start_time": "2023-05-27T16:34:53.791Z"
   },
   {
    "duration": 4,
    "start_time": "2023-05-27T16:34:54.206Z"
   },
   {
    "duration": 29,
    "start_time": "2023-05-27T16:34:54.212Z"
   },
   {
    "duration": 798,
    "start_time": "2023-05-27T16:34:54.242Z"
   },
   {
    "duration": 215,
    "start_time": "2023-05-27T16:34:55.041Z"
   },
   {
    "duration": 30,
    "start_time": "2023-05-27T16:34:55.257Z"
   },
   {
    "duration": 594,
    "start_time": "2023-05-27T16:34:55.289Z"
   },
   {
    "duration": 220,
    "start_time": "2023-05-27T16:34:55.884Z"
   },
   {
    "duration": 37,
    "start_time": "2023-05-27T16:34:56.105Z"
   },
   {
    "duration": 239,
    "start_time": "2023-05-27T16:34:56.143Z"
   },
   {
    "duration": 15,
    "start_time": "2023-05-27T16:34:56.383Z"
   },
   {
    "duration": 138,
    "start_time": "2023-05-27T16:34:56.399Z"
   },
   {
    "duration": 4,
    "start_time": "2023-05-27T16:34:56.539Z"
   },
   {
    "duration": 14,
    "start_time": "2023-05-27T16:34:56.544Z"
   },
   {
    "duration": 169,
    "start_time": "2023-05-27T16:34:56.559Z"
   },
   {
    "duration": 240,
    "start_time": "2023-05-27T16:34:56.729Z"
   },
   {
    "duration": 146,
    "start_time": "2023-05-27T16:34:56.970Z"
   },
   {
    "duration": 132,
    "start_time": "2023-05-27T16:34:57.118Z"
   },
   {
    "duration": 112,
    "start_time": "2023-05-27T16:34:57.252Z"
   },
   {
    "duration": 139,
    "start_time": "2023-05-27T16:34:57.365Z"
   },
   {
    "duration": 137,
    "start_time": "2023-05-27T16:34:57.505Z"
   },
   {
    "duration": 137,
    "start_time": "2023-05-27T16:34:57.644Z"
   },
   {
    "duration": 10,
    "start_time": "2023-05-27T16:34:57.783Z"
   },
   {
    "duration": 67,
    "start_time": "2023-05-27T16:34:57.795Z"
   },
   {
    "duration": 155,
    "start_time": "2023-05-27T16:34:57.864Z"
   },
   {
    "duration": 3,
    "start_time": "2023-05-27T16:34:58.021Z"
   },
   {
    "duration": 531,
    "start_time": "2023-05-27T16:34:58.026Z"
   },
   {
    "duration": 491,
    "start_time": "2023-05-27T16:34:58.559Z"
   },
   {
    "duration": 132,
    "start_time": "2023-05-27T16:34:59.052Z"
   },
   {
    "duration": 145,
    "start_time": "2023-05-27T16:37:42.635Z"
   },
   {
    "duration": 3,
    "start_time": "2023-05-27T16:47:16.701Z"
   },
   {
    "duration": 566,
    "start_time": "2023-05-27T16:47:18.848Z"
   },
   {
    "duration": 377,
    "start_time": "2023-05-27T16:58:59.183Z"
   },
   {
    "duration": 226,
    "start_time": "2023-05-27T16:58:59.562Z"
   },
   {
    "duration": 3,
    "start_time": "2023-05-27T16:58:59.790Z"
   },
   {
    "duration": 104,
    "start_time": "2023-05-27T16:58:59.794Z"
   },
   {
    "duration": 23,
    "start_time": "2023-05-27T16:58:59.901Z"
   },
   {
    "duration": 29,
    "start_time": "2023-05-27T16:58:59.926Z"
   },
   {
    "duration": 2060,
    "start_time": "2023-05-27T16:58:59.957Z"
   },
   {
    "duration": 10,
    "start_time": "2023-05-27T16:59:02.018Z"
   },
   {
    "duration": 98,
    "start_time": "2023-05-27T16:59:02.029Z"
   },
   {
    "duration": 6,
    "start_time": "2023-05-27T16:59:02.128Z"
   },
   {
    "duration": 28,
    "start_time": "2023-05-27T16:59:02.135Z"
   },
   {
    "duration": 30,
    "start_time": "2023-05-27T16:59:02.165Z"
   },
   {
    "duration": 29,
    "start_time": "2023-05-27T16:59:02.196Z"
   },
   {
    "duration": 7,
    "start_time": "2023-05-27T16:59:02.229Z"
   },
   {
    "duration": 25,
    "start_time": "2023-05-27T16:59:02.237Z"
   },
   {
    "duration": 4,
    "start_time": "2023-05-27T16:59:02.263Z"
   },
   {
    "duration": 18,
    "start_time": "2023-05-27T16:59:02.268Z"
   },
   {
    "duration": 8,
    "start_time": "2023-05-27T16:59:02.288Z"
   },
   {
    "duration": 52,
    "start_time": "2023-05-27T16:59:02.298Z"
   },
   {
    "duration": 2,
    "start_time": "2023-05-27T16:59:02.352Z"
   },
   {
    "duration": 18,
    "start_time": "2023-05-27T16:59:02.356Z"
   },
   {
    "duration": 11,
    "start_time": "2023-05-27T16:59:02.376Z"
   },
   {
    "duration": 21,
    "start_time": "2023-05-27T16:59:02.389Z"
   },
   {
    "duration": 16,
    "start_time": "2023-05-27T16:59:02.412Z"
   },
   {
    "duration": 9,
    "start_time": "2023-05-27T16:59:02.430Z"
   },
   {
    "duration": 63,
    "start_time": "2023-05-27T16:59:02.441Z"
   },
   {
    "duration": 1342,
    "start_time": "2023-05-27T16:59:02.506Z"
   },
   {
    "duration": 11,
    "start_time": "2023-05-27T16:59:03.850Z"
   },
   {
    "duration": 29,
    "start_time": "2023-05-27T16:59:03.863Z"
   },
   {
    "duration": 32,
    "start_time": "2023-05-27T16:59:03.894Z"
   },
   {
    "duration": 63,
    "start_time": "2023-05-27T16:59:03.927Z"
   },
   {
    "duration": 19,
    "start_time": "2023-05-27T16:59:03.992Z"
   },
   {
    "duration": 31,
    "start_time": "2023-05-27T16:59:04.013Z"
   },
   {
    "duration": 24,
    "start_time": "2023-05-27T16:59:04.046Z"
   },
   {
    "duration": 7,
    "start_time": "2023-05-27T16:59:04.072Z"
   },
   {
    "duration": 10,
    "start_time": "2023-05-27T16:59:04.081Z"
   },
   {
    "duration": 6,
    "start_time": "2023-05-27T16:59:04.093Z"
   },
   {
    "duration": 49,
    "start_time": "2023-05-27T16:59:04.101Z"
   },
   {
    "duration": 5,
    "start_time": "2023-05-27T16:59:04.152Z"
   },
   {
    "duration": 18,
    "start_time": "2023-05-27T16:59:04.159Z"
   },
   {
    "duration": 18,
    "start_time": "2023-05-27T16:59:04.181Z"
   },
   {
    "duration": 10,
    "start_time": "2023-05-27T16:59:04.201Z"
   },
   {
    "duration": 398,
    "start_time": "2023-05-27T16:59:04.213Z"
   },
   {
    "duration": 13,
    "start_time": "2023-05-27T16:59:04.613Z"
   },
   {
    "duration": 26,
    "start_time": "2023-05-27T16:59:04.627Z"
   },
   {
    "duration": 807,
    "start_time": "2023-05-27T16:59:04.654Z"
   },
   {
    "duration": 235,
    "start_time": "2023-05-27T16:59:05.463Z"
   },
   {
    "duration": 37,
    "start_time": "2023-05-27T16:59:05.699Z"
   },
   {
    "duration": 629,
    "start_time": "2023-05-27T16:59:05.738Z"
   },
   {
    "duration": 209,
    "start_time": "2023-05-27T16:59:06.369Z"
   },
   {
    "duration": 28,
    "start_time": "2023-05-27T16:59:06.580Z"
   },
   {
    "duration": 265,
    "start_time": "2023-05-27T16:59:06.610Z"
   },
   {
    "duration": 16,
    "start_time": "2023-05-27T16:59:06.877Z"
   },
   {
    "duration": 150,
    "start_time": "2023-05-27T16:59:06.894Z"
   },
   {
    "duration": 4,
    "start_time": "2023-05-27T16:59:07.046Z"
   },
   {
    "duration": 7,
    "start_time": "2023-05-27T16:59:07.052Z"
   },
   {
    "duration": 181,
    "start_time": "2023-05-27T16:59:07.061Z"
   },
   {
    "duration": 282,
    "start_time": "2023-05-27T16:59:07.244Z"
   },
   {
    "duration": 148,
    "start_time": "2023-05-27T16:59:07.528Z"
   },
   {
    "duration": 143,
    "start_time": "2023-05-27T16:59:07.679Z"
   },
   {
    "duration": 140,
    "start_time": "2023-05-27T16:59:07.823Z"
   },
   {
    "duration": 147,
    "start_time": "2023-05-27T16:59:07.965Z"
   },
   {
    "duration": 128,
    "start_time": "2023-05-27T16:59:08.114Z"
   },
   {
    "duration": 139,
    "start_time": "2023-05-27T16:59:08.244Z"
   },
   {
    "duration": 9,
    "start_time": "2023-05-27T16:59:08.385Z"
   },
   {
    "duration": 49,
    "start_time": "2023-05-27T16:59:08.395Z"
   },
   {
    "duration": 169,
    "start_time": "2023-05-27T16:59:08.446Z"
   },
   {
    "duration": 2,
    "start_time": "2023-05-27T16:59:08.625Z"
   },
   {
    "duration": 549,
    "start_time": "2023-05-27T16:59:08.629Z"
   },
   {
    "duration": 569,
    "start_time": "2023-05-27T16:59:09.179Z"
   },
   {
    "duration": 154,
    "start_time": "2023-05-27T16:59:09.750Z"
   },
   {
    "duration": 165,
    "start_time": "2023-05-27T16:59:09.908Z"
   },
   {
    "duration": 391,
    "start_time": "2023-05-27T17:04:04.587Z"
   },
   {
    "duration": 278,
    "start_time": "2023-05-27T17:04:04.980Z"
   },
   {
    "duration": 3,
    "start_time": "2023-05-27T17:04:05.261Z"
   },
   {
    "duration": 132,
    "start_time": "2023-05-27T17:04:05.266Z"
   },
   {
    "duration": 25,
    "start_time": "2023-05-27T17:04:05.401Z"
   },
   {
    "duration": 31,
    "start_time": "2023-05-27T17:04:05.428Z"
   },
   {
    "duration": 1987,
    "start_time": "2023-05-27T17:04:05.462Z"
   },
   {
    "duration": 9,
    "start_time": "2023-05-27T17:04:07.451Z"
   },
   {
    "duration": 83,
    "start_time": "2023-05-27T17:04:07.462Z"
   },
   {
    "duration": 6,
    "start_time": "2023-05-27T17:04:07.546Z"
   },
   {
    "duration": 16,
    "start_time": "2023-05-27T17:04:07.554Z"
   },
   {
    "duration": 8,
    "start_time": "2023-05-27T17:04:07.572Z"
   },
   {
    "duration": 20,
    "start_time": "2023-05-27T17:04:07.581Z"
   },
   {
    "duration": 21,
    "start_time": "2023-05-27T17:04:07.604Z"
   },
   {
    "duration": 19,
    "start_time": "2023-05-27T17:04:07.627Z"
   },
   {
    "duration": 15,
    "start_time": "2023-05-27T17:04:07.648Z"
   },
   {
    "duration": 22,
    "start_time": "2023-05-27T17:04:07.665Z"
   },
   {
    "duration": 4,
    "start_time": "2023-05-27T17:04:07.689Z"
   },
   {
    "duration": 62,
    "start_time": "2023-05-27T17:04:07.695Z"
   },
   {
    "duration": 4,
    "start_time": "2023-05-27T17:04:07.759Z"
   },
   {
    "duration": 25,
    "start_time": "2023-05-27T17:04:07.764Z"
   },
   {
    "duration": 15,
    "start_time": "2023-05-27T17:04:07.791Z"
   },
   {
    "duration": 23,
    "start_time": "2023-05-27T17:04:07.808Z"
   },
   {
    "duration": 30,
    "start_time": "2023-05-27T17:04:07.833Z"
   },
   {
    "duration": 15,
    "start_time": "2023-05-27T17:04:07.864Z"
   },
   {
    "duration": 11,
    "start_time": "2023-05-27T17:04:07.880Z"
   },
   {
    "duration": 1296,
    "start_time": "2023-05-27T17:04:07.892Z"
   },
   {
    "duration": 9,
    "start_time": "2023-05-27T17:04:09.190Z"
   },
   {
    "duration": 24,
    "start_time": "2023-05-27T17:04:09.200Z"
   },
   {
    "duration": 87,
    "start_time": "2023-05-27T17:04:09.226Z"
   },
   {
    "duration": 69,
    "start_time": "2023-05-27T17:04:09.314Z"
   },
   {
    "duration": 22,
    "start_time": "2023-05-27T17:04:09.384Z"
   },
   {
    "duration": 49,
    "start_time": "2023-05-27T17:04:09.408Z"
   },
   {
    "duration": 15,
    "start_time": "2023-05-27T17:04:09.459Z"
   },
   {
    "duration": 7,
    "start_time": "2023-05-27T17:04:09.475Z"
   },
   {
    "duration": 14,
    "start_time": "2023-05-27T17:04:09.484Z"
   },
   {
    "duration": 25,
    "start_time": "2023-05-27T17:04:09.499Z"
   },
   {
    "duration": 38,
    "start_time": "2023-05-27T17:04:09.526Z"
   },
   {
    "duration": 22,
    "start_time": "2023-05-27T17:04:09.566Z"
   },
   {
    "duration": 12,
    "start_time": "2023-05-27T17:04:09.589Z"
   },
   {
    "duration": 6,
    "start_time": "2023-05-27T17:04:09.605Z"
   },
   {
    "duration": 17,
    "start_time": "2023-05-27T17:04:09.612Z"
   },
   {
    "duration": 399,
    "start_time": "2023-05-27T17:04:09.631Z"
   },
   {
    "duration": 4,
    "start_time": "2023-05-27T17:04:10.032Z"
   },
   {
    "duration": 57,
    "start_time": "2023-05-27T17:04:10.038Z"
   },
   {
    "duration": 717,
    "start_time": "2023-05-27T17:04:10.096Z"
   },
   {
    "duration": 221,
    "start_time": "2023-05-27T17:04:10.815Z"
   },
   {
    "duration": 34,
    "start_time": "2023-05-27T17:04:11.038Z"
   },
   {
    "duration": 667,
    "start_time": "2023-05-27T17:04:11.074Z"
   },
   {
    "duration": 230,
    "start_time": "2023-05-27T17:04:11.743Z"
   },
   {
    "duration": 30,
    "start_time": "2023-05-27T17:04:11.975Z"
   },
   {
    "duration": 276,
    "start_time": "2023-05-27T17:04:12.007Z"
   },
   {
    "duration": 17,
    "start_time": "2023-05-27T17:04:12.285Z"
   },
   {
    "duration": 149,
    "start_time": "2023-05-27T17:04:12.304Z"
   },
   {
    "duration": 4,
    "start_time": "2023-05-27T17:04:12.455Z"
   },
   {
    "duration": 17,
    "start_time": "2023-05-27T17:04:12.461Z"
   },
   {
    "duration": 179,
    "start_time": "2023-05-27T17:04:12.479Z"
   },
   {
    "duration": 257,
    "start_time": "2023-05-27T17:04:12.660Z"
   },
   {
    "duration": 174,
    "start_time": "2023-05-27T17:04:12.919Z"
   },
   {
    "duration": 153,
    "start_time": "2023-05-27T17:04:13.094Z"
   },
   {
    "duration": 142,
    "start_time": "2023-05-27T17:04:13.249Z"
   },
   {
    "duration": 166,
    "start_time": "2023-05-27T17:04:13.393Z"
   },
   {
    "duration": 153,
    "start_time": "2023-05-27T17:04:13.561Z"
   },
   {
    "duration": 154,
    "start_time": "2023-05-27T17:04:13.716Z"
   },
   {
    "duration": 9,
    "start_time": "2023-05-27T17:04:13.872Z"
   },
   {
    "duration": 31,
    "start_time": "2023-05-27T17:04:13.882Z"
   },
   {
    "duration": 170,
    "start_time": "2023-05-27T17:04:13.915Z"
   },
   {
    "duration": 4,
    "start_time": "2023-05-27T17:04:14.087Z"
   },
   {
    "duration": 545,
    "start_time": "2023-05-27T17:04:14.092Z"
   },
   {
    "duration": 582,
    "start_time": "2023-05-27T17:04:14.638Z"
   },
   {
    "duration": 154,
    "start_time": "2023-05-27T17:04:15.221Z"
   },
   {
    "duration": 157,
    "start_time": "2023-05-27T17:04:15.377Z"
   },
   {
    "duration": 48,
    "start_time": "2023-05-28T12:31:53.500Z"
   },
   {
    "duration": 434,
    "start_time": "2023-05-28T12:31:57.870Z"
   },
   {
    "duration": 490,
    "start_time": "2023-05-28T12:31:58.307Z"
   },
   {
    "duration": 3,
    "start_time": "2023-05-28T12:31:58.799Z"
   },
   {
    "duration": 170,
    "start_time": "2023-05-28T12:31:58.804Z"
   },
   {
    "duration": 16,
    "start_time": "2023-05-28T12:31:58.977Z"
   },
   {
    "duration": 39,
    "start_time": "2023-05-28T12:31:58.995Z"
   },
   {
    "duration": 2128,
    "start_time": "2023-05-28T12:31:59.036Z"
   },
   {
    "duration": 10,
    "start_time": "2023-05-28T12:32:01.166Z"
   },
   {
    "duration": 135,
    "start_time": "2023-05-28T12:32:01.178Z"
   },
   {
    "duration": 6,
    "start_time": "2023-05-28T12:32:01.315Z"
   },
   {
    "duration": 31,
    "start_time": "2023-05-28T12:32:01.322Z"
   },
   {
    "duration": 26,
    "start_time": "2023-05-28T12:32:01.355Z"
   },
   {
    "duration": 38,
    "start_time": "2023-05-28T12:32:01.384Z"
   },
   {
    "duration": 37,
    "start_time": "2023-05-28T12:32:01.425Z"
   },
   {
    "duration": 62,
    "start_time": "2023-05-28T12:32:01.464Z"
   },
   {
    "duration": 10,
    "start_time": "2023-05-28T12:32:01.528Z"
   },
   {
    "duration": 41,
    "start_time": "2023-05-28T12:32:01.540Z"
   },
   {
    "duration": 18,
    "start_time": "2023-05-28T12:32:01.583Z"
   },
   {
    "duration": 79,
    "start_time": "2023-05-28T12:32:01.603Z"
   },
   {
    "duration": 4,
    "start_time": "2023-05-28T12:32:01.684Z"
   },
   {
    "duration": 35,
    "start_time": "2023-05-28T12:32:01.690Z"
   },
   {
    "duration": 21,
    "start_time": "2023-05-28T12:32:01.727Z"
   },
   {
    "duration": 32,
    "start_time": "2023-05-28T12:32:01.749Z"
   },
   {
    "duration": 25,
    "start_time": "2023-05-28T12:32:01.783Z"
   },
   {
    "duration": 57,
    "start_time": "2023-05-28T12:32:01.810Z"
   },
   {
    "duration": 25,
    "start_time": "2023-05-28T12:32:01.869Z"
   },
   {
    "duration": 1338,
    "start_time": "2023-05-28T12:32:01.896Z"
   },
   {
    "duration": 28,
    "start_time": "2023-05-28T12:32:03.236Z"
   },
   {
    "duration": 11,
    "start_time": "2023-05-28T12:32:03.266Z"
   },
   {
    "duration": 13,
    "start_time": "2023-05-28T12:32:03.279Z"
   },
   {
    "duration": 123,
    "start_time": "2023-05-28T12:32:03.294Z"
   },
   {
    "duration": 10,
    "start_time": "2023-05-28T12:32:03.419Z"
   },
   {
    "duration": 29,
    "start_time": "2023-05-28T12:32:03.431Z"
   },
   {
    "duration": 23,
    "start_time": "2023-05-28T12:32:03.462Z"
   },
   {
    "duration": 11,
    "start_time": "2023-05-28T12:32:03.486Z"
   },
   {
    "duration": 55,
    "start_time": "2023-05-28T12:32:03.499Z"
   },
   {
    "duration": 32,
    "start_time": "2023-05-28T12:32:03.556Z"
   },
   {
    "duration": 56,
    "start_time": "2023-05-28T12:32:03.590Z"
   },
   {
    "duration": 17,
    "start_time": "2023-05-28T12:32:03.647Z"
   },
   {
    "duration": 12,
    "start_time": "2023-05-28T12:32:03.666Z"
   },
   {
    "duration": 6,
    "start_time": "2023-05-28T12:32:03.682Z"
   },
   {
    "duration": 15,
    "start_time": "2023-05-28T12:32:03.689Z"
   },
   {
    "duration": 415,
    "start_time": "2023-05-28T12:32:03.706Z"
   },
   {
    "duration": 5,
    "start_time": "2023-05-28T12:32:04.123Z"
   },
   {
    "duration": 23,
    "start_time": "2023-05-28T12:32:04.131Z"
   },
   {
    "duration": 823,
    "start_time": "2023-05-28T12:32:04.155Z"
   },
   {
    "duration": 227,
    "start_time": "2023-05-28T12:32:04.980Z"
   },
   {
    "duration": 29,
    "start_time": "2023-05-28T12:32:05.209Z"
   },
   {
    "duration": 723,
    "start_time": "2023-05-28T12:32:05.251Z"
   },
   {
    "duration": 237,
    "start_time": "2023-05-28T12:32:05.976Z"
   },
   {
    "duration": 53,
    "start_time": "2023-05-28T12:32:06.215Z"
   },
   {
    "duration": 289,
    "start_time": "2023-05-28T12:32:06.269Z"
   },
   {
    "duration": 17,
    "start_time": "2023-05-28T12:32:06.562Z"
   },
   {
    "duration": 147,
    "start_time": "2023-05-28T12:32:06.581Z"
   },
   {
    "duration": 5,
    "start_time": "2023-05-28T12:32:06.731Z"
   },
   {
    "duration": 25,
    "start_time": "2023-05-28T12:32:06.737Z"
   },
   {
    "duration": 193,
    "start_time": "2023-05-28T12:32:06.764Z"
   },
   {
    "duration": 259,
    "start_time": "2023-05-28T12:32:06.967Z"
   },
   {
    "duration": 163,
    "start_time": "2023-05-28T12:32:07.227Z"
   },
   {
    "duration": 145,
    "start_time": "2023-05-28T12:32:07.391Z"
   },
   {
    "duration": 144,
    "start_time": "2023-05-28T12:32:07.538Z"
   },
   {
    "duration": 156,
    "start_time": "2023-05-28T12:32:07.685Z"
   },
   {
    "duration": 158,
    "start_time": "2023-05-28T12:32:07.842Z"
   },
   {
    "duration": 157,
    "start_time": "2023-05-28T12:32:08.002Z"
   },
   {
    "duration": 13,
    "start_time": "2023-05-28T12:32:08.165Z"
   },
   {
    "duration": 29,
    "start_time": "2023-05-28T12:32:08.180Z"
   },
   {
    "duration": 171,
    "start_time": "2023-05-28T12:32:08.212Z"
   },
   {
    "duration": 4,
    "start_time": "2023-05-28T12:32:08.384Z"
   },
   {
    "duration": 607,
    "start_time": "2023-05-28T12:32:08.390Z"
   },
   {
    "duration": 568,
    "start_time": "2023-05-28T12:32:09.000Z"
   },
   {
    "duration": 150,
    "start_time": "2023-05-28T12:32:09.570Z"
   },
   {
    "duration": 154,
    "start_time": "2023-05-28T12:32:09.722Z"
   },
   {
    "duration": 160,
    "start_time": "2023-05-28T12:38:20.624Z"
   },
   {
    "duration": 116,
    "start_time": "2023-05-28T12:38:45.962Z"
   },
   {
    "duration": 223,
    "start_time": "2023-05-28T12:38:58.967Z"
   },
   {
    "duration": 118,
    "start_time": "2023-05-28T12:39:15.061Z"
   },
   {
    "duration": 126,
    "start_time": "2023-05-28T12:39:28.266Z"
   },
   {
    "duration": 125,
    "start_time": "2023-05-28T12:40:03.184Z"
   },
   {
    "duration": 98,
    "start_time": "2023-05-28T12:40:22.116Z"
   },
   {
    "duration": 184,
    "start_time": "2023-05-28T12:40:24.907Z"
   },
   {
    "duration": 12,
    "start_time": "2023-05-28T12:43:08.166Z"
   },
   {
    "duration": 115,
    "start_time": "2023-05-28T12:43:46.420Z"
   },
   {
    "duration": 111,
    "start_time": "2023-05-28T12:44:06.865Z"
   },
   {
    "duration": 103,
    "start_time": "2023-05-28T12:44:09.266Z"
   },
   {
    "duration": 107,
    "start_time": "2023-05-28T12:44:11.887Z"
   },
   {
    "duration": 101,
    "start_time": "2023-05-28T12:44:14.371Z"
   },
   {
    "duration": 401,
    "start_time": "2023-05-28T12:49:47.467Z"
   },
   {
    "duration": 240,
    "start_time": "2023-05-28T12:49:47.871Z"
   },
   {
    "duration": 2,
    "start_time": "2023-05-28T12:49:48.113Z"
   },
   {
    "duration": 101,
    "start_time": "2023-05-28T12:49:48.117Z"
   },
   {
    "duration": 16,
    "start_time": "2023-05-28T12:49:48.221Z"
   },
   {
    "duration": 51,
    "start_time": "2023-05-28T12:49:48.238Z"
   },
   {
    "duration": 2081,
    "start_time": "2023-05-28T12:49:48.291Z"
   },
   {
    "duration": 10,
    "start_time": "2023-05-28T12:49:50.373Z"
   },
   {
    "duration": 91,
    "start_time": "2023-05-28T12:49:50.384Z"
   },
   {
    "duration": 7,
    "start_time": "2023-05-28T12:49:50.477Z"
   },
   {
    "duration": 16,
    "start_time": "2023-05-28T12:49:50.486Z"
   },
   {
    "duration": 10,
    "start_time": "2023-05-28T12:49:50.504Z"
   },
   {
    "duration": 40,
    "start_time": "2023-05-28T12:49:50.516Z"
   },
   {
    "duration": 10,
    "start_time": "2023-05-28T12:49:50.566Z"
   },
   {
    "duration": 24,
    "start_time": "2023-05-28T12:49:50.578Z"
   },
   {
    "duration": 4,
    "start_time": "2023-05-28T12:49:50.604Z"
   },
   {
    "duration": 18,
    "start_time": "2023-05-28T12:49:50.610Z"
   },
   {
    "duration": 26,
    "start_time": "2023-05-28T12:49:50.630Z"
   },
   {
    "duration": 52,
    "start_time": "2023-05-28T12:49:50.658Z"
   },
   {
    "duration": 4,
    "start_time": "2023-05-28T12:49:50.711Z"
   },
   {
    "duration": 8,
    "start_time": "2023-05-28T12:49:50.716Z"
   },
   {
    "duration": 6,
    "start_time": "2023-05-28T12:49:50.726Z"
   },
   {
    "duration": 33,
    "start_time": "2023-05-28T12:49:50.733Z"
   },
   {
    "duration": 10,
    "start_time": "2023-05-28T12:49:50.768Z"
   },
   {
    "duration": 17,
    "start_time": "2023-05-28T12:49:50.779Z"
   },
   {
    "duration": 12,
    "start_time": "2023-05-28T12:49:50.798Z"
   },
   {
    "duration": 1310,
    "start_time": "2023-05-28T12:49:50.812Z"
   },
   {
    "duration": 9,
    "start_time": "2023-05-28T12:49:52.123Z"
   },
   {
    "duration": 28,
    "start_time": "2023-05-28T12:49:52.134Z"
   },
   {
    "duration": 7,
    "start_time": "2023-05-28T12:49:52.166Z"
   },
   {
    "duration": 31,
    "start_time": "2023-05-28T12:49:52.175Z"
   },
   {
    "duration": 9,
    "start_time": "2023-05-28T12:49:52.208Z"
   },
   {
    "duration": 42,
    "start_time": "2023-05-28T12:49:52.218Z"
   },
   {
    "duration": 18,
    "start_time": "2023-05-28T12:49:52.266Z"
   },
   {
    "duration": 8,
    "start_time": "2023-05-28T12:49:52.286Z"
   },
   {
    "duration": 12,
    "start_time": "2023-05-28T12:49:52.296Z"
   },
   {
    "duration": 10,
    "start_time": "2023-05-28T12:49:52.309Z"
   },
   {
    "duration": 44,
    "start_time": "2023-05-28T12:49:52.321Z"
   },
   {
    "duration": 4,
    "start_time": "2023-05-28T12:49:52.367Z"
   },
   {
    "duration": 10,
    "start_time": "2023-05-28T12:49:52.372Z"
   },
   {
    "duration": 5,
    "start_time": "2023-05-28T12:49:52.387Z"
   },
   {
    "duration": 8,
    "start_time": "2023-05-28T12:49:52.393Z"
   },
   {
    "duration": 442,
    "start_time": "2023-05-28T12:49:52.402Z"
   },
   {
    "duration": 6,
    "start_time": "2023-05-28T12:49:52.846Z"
   },
   {
    "duration": 23,
    "start_time": "2023-05-28T12:49:52.853Z"
   },
   {
    "duration": 752,
    "start_time": "2023-05-28T12:49:52.878Z"
   },
   {
    "duration": 114,
    "start_time": "2023-05-28T12:49:53.632Z"
   },
   {
    "duration": 105,
    "start_time": "2023-05-28T12:49:53.759Z"
   },
   {
    "duration": 106,
    "start_time": "2023-05-28T12:49:53.866Z"
   },
   {
    "duration": 107,
    "start_time": "2023-05-28T12:49:53.974Z"
   },
   {
    "duration": 139,
    "start_time": "2023-05-28T12:49:54.083Z"
   },
   {
    "duration": 46,
    "start_time": "2023-05-28T12:49:54.223Z"
   },
   {
    "duration": 726,
    "start_time": "2023-05-28T12:49:54.271Z"
   },
   {
    "duration": 119,
    "start_time": "2023-05-28T12:49:54.999Z"
   },
   {
    "duration": 193,
    "start_time": "2023-05-28T12:49:55.119Z"
   },
   {
    "duration": 128,
    "start_time": "2023-05-28T12:49:55.313Z"
   },
   {
    "duration": 124,
    "start_time": "2023-05-28T12:49:55.443Z"
   },
   {
    "duration": 99,
    "start_time": "2023-05-28T12:49:55.569Z"
   },
   {
    "duration": 35,
    "start_time": "2023-05-28T12:49:55.670Z"
   },
   {
    "duration": 285,
    "start_time": "2023-05-28T12:49:55.707Z"
   },
   {
    "duration": 18,
    "start_time": "2023-05-28T12:49:55.994Z"
   },
   {
    "duration": 161,
    "start_time": "2023-05-28T12:49:56.013Z"
   },
   {
    "duration": 5,
    "start_time": "2023-05-28T12:49:56.176Z"
   },
   {
    "duration": 7,
    "start_time": "2023-05-28T12:49:56.183Z"
   },
   {
    "duration": 204,
    "start_time": "2023-05-28T12:49:56.192Z"
   },
   {
    "duration": 181,
    "start_time": "2023-05-28T12:49:56.398Z"
   },
   {
    "duration": 155,
    "start_time": "2023-05-28T12:49:56.580Z"
   },
   {
    "duration": 175,
    "start_time": "2023-05-28T12:49:56.737Z"
   },
   {
    "duration": 217,
    "start_time": "2023-05-28T12:49:56.914Z"
   },
   {
    "duration": 164,
    "start_time": "2023-05-28T12:49:57.133Z"
   },
   {
    "duration": 146,
    "start_time": "2023-05-28T12:49:57.299Z"
   },
   {
    "duration": 150,
    "start_time": "2023-05-28T12:49:57.450Z"
   },
   {
    "duration": 8,
    "start_time": "2023-05-28T12:49:57.602Z"
   },
   {
    "duration": 42,
    "start_time": "2023-05-28T12:49:57.611Z"
   },
   {
    "duration": 156,
    "start_time": "2023-05-28T12:49:57.654Z"
   },
   {
    "duration": 4,
    "start_time": "2023-05-28T12:49:57.812Z"
   },
   {
    "duration": 589,
    "start_time": "2023-05-28T12:49:57.817Z"
   },
   {
    "duration": 488,
    "start_time": "2023-05-28T12:49:58.408Z"
   },
   {
    "duration": 147,
    "start_time": "2023-05-28T12:49:58.898Z"
   },
   {
    "duration": 221,
    "start_time": "2023-05-28T12:49:59.052Z"
   },
   {
    "duration": 2042,
    "start_time": "2024-04-07T15:50:32.949Z"
   },
   {
    "duration": 2100,
    "start_time": "2024-04-07T15:50:52.368Z"
   },
   {
    "duration": 240,
    "start_time": "2024-04-07T15:51:54.932Z"
   },
   {
    "duration": 261,
    "start_time": "2024-04-07T15:51:58.722Z"
   },
   {
    "duration": 551,
    "start_time": "2024-04-07T15:52:05.894Z"
   },
   {
    "duration": 50,
    "start_time": "2024-04-07T15:52:20.766Z"
   },
   {
    "duration": 51,
    "start_time": "2024-04-07T15:52:48.835Z"
   },
   {
    "duration": 554,
    "start_time": "2024-04-07T15:53:08.987Z"
   },
   {
    "duration": 6203,
    "start_time": "2024-04-07T15:56:18.740Z"
   },
   {
    "duration": 16,
    "start_time": "2024-04-07T15:57:03.265Z"
   },
   {
    "duration": 6309,
    "start_time": "2024-04-07T15:57:03.726Z"
   },
   {
    "duration": 6,
    "start_time": "2024-04-07T15:57:18.990Z"
   },
   {
    "duration": 6426,
    "start_time": "2024-04-07T15:57:20.444Z"
   },
   {
    "duration": 6,
    "start_time": "2024-04-07T15:57:39.579Z"
   },
   {
    "duration": 109915,
    "start_time": "2024-04-07T15:57:40.225Z"
   },
   {
    "duration": 6,
    "start_time": "2024-04-07T16:19:00.371Z"
   },
   {
    "duration": 2064,
    "start_time": "2024-04-07T16:22:16.139Z"
   },
   {
    "duration": 52859,
    "start_time": "2024-04-07T16:22:18.205Z"
   },
   {
    "duration": 73555,
    "start_time": "2024-04-07T16:23:36.481Z"
   },
   {
    "duration": 18496,
    "start_time": "2024-04-07T16:30:43.179Z"
   }
  ],
  "kernelspec": {
   "display_name": "Python 3 (ipykernel)",
   "language": "python",
   "name": "python3"
  },
  "language_info": {
   "codemirror_mode": {
    "name": "ipython",
    "version": 3
   },
   "file_extension": ".py",
   "mimetype": "text/x-python",
   "name": "python",
   "nbconvert_exporter": "python",
   "pygments_lexer": "ipython3",
   "version": "3.11.7"
  },
  "toc": {
   "base_numbering": 1,
   "nav_menu": {},
   "number_sections": true,
   "sideBar": true,
   "skip_h1_title": true,
   "title_cell": "Table of Contents",
   "title_sidebar": "Contents",
   "toc_cell": false,
   "toc_position": {
    "height": "calc(100% - 180px)",
    "left": "10px",
    "top": "150px",
    "width": "362.797px"
   },
   "toc_section_display": true,
   "toc_window_display": true
  }
 },
 "nbformat": 4,
 "nbformat_minor": 4
}
